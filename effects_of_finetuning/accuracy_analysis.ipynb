{
 "cells": [
  {
   "cell_type": "markdown",
   "id": "ca3dc0b4",
   "metadata": {},
   "source": [
    "### Accuracy of ViTs trained from scratch"
   ]
  },
  {
   "cell_type": "code",
   "execution_count": 37,
   "id": "d9eefd57",
   "metadata": {},
   "outputs": [],
   "source": [
    "import sys, glob\n",
    "sys.path.append('..')\n",
    "sys.path.append('../deep-learning-base')\n",
    "sys.path.append('../deep-learning-base/datasets')\n",
    "sys.path.append('../deep-learning-base/training')\n",
    "\n",
    "import torch\n",
    "from pytorch_lightning import utilities as pl_utils\n",
    "from pytorch_lightning.trainer.trainer import Trainer\n",
    "from training import LitProgressBar, NicerModelCheckpointing\n",
    "import training.finetuning as ft\n",
    "import architectures as arch\n",
    "from architectures.callbacks import LightningWrapper, LinearEvalWrapper\n",
    "from data_modules import DATA_MODULES\n",
    "import dataset_metadata as dsmd\n",
    "from partially_inverted_reps import DATA_PATH_IMAGENET, DATA_PATH\n",
    "from functools import partial\n",
    "import plot_helper as plt_hp"
   ]
  },
  {
   "cell_type": "code",
   "execution_count": 38,
   "id": "0693d61b",
   "metadata": {},
   "outputs": [],
   "source": [
    "source_datasets = ['cifar10', 'cifar100']\n",
    "finetuning_datasets = ['cifar10', 'cifar100']\n",
    "finetune_mode = 'full'\n",
    "models = ['vit_base_patch32_224']\n",
    "BATCH_SIZE = 512\n",
    "\n",
    "USE_TIMM_FOR_CIFAR = True\n",
    "SEED = 2\n",
    "DEVICES = 1\n",
    "STRATEGY = None\n",
    "NUM_NODES = 1"
   ]
  },
  {
   "cell_type": "code",
   "execution_count": 39,
   "id": "d91ec69a",
   "metadata": {},
   "outputs": [
    {
     "name": "stderr",
     "output_type": "stream",
     "text": [
      "GPU available: True, used: True\n",
      "TPU available: False, using: 0 TPU cores\n",
      "IPU available: False, using: 0 IPUs\n"
     ]
    }
   ],
   "source": [
    "trainer = Trainer(accelerator='gpu', \n",
    "                  devices=DEVICES,\n",
    "                  num_nodes=NUM_NODES,\n",
    "                  strategy=STRATEGY, \n",
    "                  log_every_n_steps=1,\n",
    "                  auto_select_gpus=True, \n",
    "                  deterministic=True,\n",
    "                  num_sanity_val_steps=0,\n",
    "                  callbacks=[LitProgressBar(['loss', 'running_test_acc'])])"
   ]
  },
  {
   "cell_type": "code",
   "execution_count": 40,
   "id": "4a0dc9fe",
   "metadata": {},
   "outputs": [
    {
     "name": "stderr",
     "output_type": "stream",
     "text": [
      "Global seed set to 2\n",
      "Global seed set to 0\n",
      "LOCAL_RANK: 0 - CUDA_VISIBLE_DEVICES: [0,1]\n"
     ]
    },
    {
     "data": {
      "application/vnd.jupyter.widget-view+json": {
       "model_id": "cc6dd042b84c4d4e915cbc8478cab192",
       "version_major": 2,
       "version_minor": 0
      },
      "text/plain": [
       "Predicting: 0it [00:00, ?it/s]"
      ]
     },
     "metadata": {},
     "output_type": "display_data"
    },
    {
     "name": "stderr",
     "output_type": "stream",
     "text": [
      "Global seed set to 2\n",
      "LOCAL_RANK: 0 - CUDA_VISIBLE_DEVICES: [0,1]\n"
     ]
    },
    {
     "data": {
      "application/vnd.jupyter.widget-view+json": {
       "model_id": "6c29c9d60c434eb8af4b1c3a1d619c3a",
       "version_major": 2,
       "version_minor": 0
      },
      "text/plain": [
       "Predicting: 0it [00:00, ?it/s]"
      ]
     },
     "metadata": {},
     "output_type": "display_data"
    },
    {
     "name": "stderr",
     "output_type": "stream",
     "text": [
      "Global seed set to 2\n",
      "LOCAL_RANK: 0 - CUDA_VISIBLE_DEVICES: [0,1]\n"
     ]
    },
    {
     "data": {
      "application/vnd.jupyter.widget-view+json": {
       "model_id": "bd741255335e42799fdd9eeef0e816f8",
       "version_major": 2,
       "version_minor": 0
      },
      "text/plain": [
       "Predicting: 0it [00:00, ?it/s]"
      ]
     },
     "metadata": {},
     "output_type": "display_data"
    },
    {
     "name": "stderr",
     "output_type": "stream",
     "text": [
      "Global seed set to 2\n",
      "LOCAL_RANK: 0 - CUDA_VISIBLE_DEVICES: [0,1]\n"
     ]
    },
    {
     "data": {
      "application/vnd.jupyter.widget-view+json": {
       "model_id": "8559dc542f0b470895e26443b16e235d",
       "version_major": 2,
       "version_minor": 0
      },
      "text/plain": [
       "Predicting: 0it [00:00, ?it/s]"
      ]
     },
     "metadata": {},
     "output_type": "display_data"
    },
    {
     "name": "stderr",
     "output_type": "stream",
     "text": [
      "Global seed set to 2\n",
      "LOCAL_RANK: 0 - CUDA_VISIBLE_DEVICES: [0,1]\n"
     ]
    },
    {
     "data": {
      "application/vnd.jupyter.widget-view+json": {
       "model_id": "fa23f40c133c43d9b006239f90b28d3b",
       "version_major": 2,
       "version_minor": 0
      },
      "text/plain": [
       "Predicting: 0it [00:00, ?it/s]"
      ]
     },
     "metadata": {},
     "output_type": "display_data"
    },
    {
     "name": "stderr",
     "output_type": "stream",
     "text": [
      "Global seed set to 2\n",
      "LOCAL_RANK: 0 - CUDA_VISIBLE_DEVICES: [0,1]\n"
     ]
    },
    {
     "data": {
      "application/vnd.jupyter.widget-view+json": {
       "model_id": "4d8d465c707e49ff9797cb9ab8ca7f8a",
       "version_major": 2,
       "version_minor": 0
      },
      "text/plain": [
       "Predicting: 0it [00:00, ?it/s]"
      ]
     },
     "metadata": {},
     "output_type": "display_data"
    },
    {
     "name": "stderr",
     "output_type": "stream",
     "text": [
      "Global seed set to 2\n",
      "LOCAL_RANK: 0 - CUDA_VISIBLE_DEVICES: [0,1]\n"
     ]
    },
    {
     "data": {
      "application/vnd.jupyter.widget-view+json": {
       "model_id": "59b7df25800d4ee38a3a1cb5dfd07fa6",
       "version_major": 2,
       "version_minor": 0
      },
      "text/plain": [
       "Predicting: 0it [00:00, ?it/s]"
      ]
     },
     "metadata": {},
     "output_type": "display_data"
    },
    {
     "name": "stderr",
     "output_type": "stream",
     "text": [
      "Global seed set to 2\n",
      "LOCAL_RANK: 0 - CUDA_VISIBLE_DEVICES: [0,1]\n"
     ]
    },
    {
     "data": {
      "application/vnd.jupyter.widget-view+json": {
       "model_id": "aea022ce2bc34129a3ece52ee0378e0f",
       "version_major": 2,
       "version_minor": 0
      },
      "text/plain": [
       "Predicting: 0it [00:00, ?it/s]"
      ]
     },
     "metadata": {},
     "output_type": "display_data"
    },
    {
     "name": "stderr",
     "output_type": "stream",
     "text": [
      "Global seed set to 2\n",
      "LOCAL_RANK: 0 - CUDA_VISIBLE_DEVICES: [0,1]\n"
     ]
    },
    {
     "data": {
      "application/vnd.jupyter.widget-view+json": {
       "model_id": "821cbc9072af4d73afef7fe73485eb0e",
       "version_major": 2,
       "version_minor": 0
      },
      "text/plain": [
       "Predicting: 0it [00:00, ?it/s]"
      ]
     },
     "metadata": {},
     "output_type": "display_data"
    },
    {
     "name": "stderr",
     "output_type": "stream",
     "text": [
      "Global seed set to 2\n",
      "LOCAL_RANK: 0 - CUDA_VISIBLE_DEVICES: [0,1]\n"
     ]
    },
    {
     "data": {
      "application/vnd.jupyter.widget-view+json": {
       "model_id": "5f29e1c4adc44c6eb16c10617d742e1f",
       "version_major": 2,
       "version_minor": 0
      },
      "text/plain": [
       "Predicting: 0it [00:00, ?it/s]"
      ]
     },
     "metadata": {},
     "output_type": "display_data"
    },
    {
     "name": "stderr",
     "output_type": "stream",
     "text": [
      "Global seed set to 2\n",
      "Global seed set to 0\n",
      "LOCAL_RANK: 0 - CUDA_VISIBLE_DEVICES: [0,1]\n"
     ]
    },
    {
     "data": {
      "application/vnd.jupyter.widget-view+json": {
       "model_id": "4e06c14e972e4fff8c044850f7e4a05c",
       "version_major": 2,
       "version_minor": 0
      },
      "text/plain": [
       "Predicting: 0it [00:00, ?it/s]"
      ]
     },
     "metadata": {},
     "output_type": "display_data"
    },
    {
     "name": "stderr",
     "output_type": "stream",
     "text": [
      "Global seed set to 2\n",
      "LOCAL_RANK: 0 - CUDA_VISIBLE_DEVICES: [0,1]\n"
     ]
    },
    {
     "data": {
      "application/vnd.jupyter.widget-view+json": {
       "model_id": "26ef6efff21d4b5fbb59932cd30333be",
       "version_major": 2,
       "version_minor": 0
      },
      "text/plain": [
       "Predicting: 0it [00:00, ?it/s]"
      ]
     },
     "metadata": {},
     "output_type": "display_data"
    },
    {
     "name": "stderr",
     "output_type": "stream",
     "text": [
      "Global seed set to 2\n",
      "LOCAL_RANK: 0 - CUDA_VISIBLE_DEVICES: [0,1]\n"
     ]
    },
    {
     "data": {
      "application/vnd.jupyter.widget-view+json": {
       "model_id": "2e6302d891864f0bad6c56c0681331d4",
       "version_major": 2,
       "version_minor": 0
      },
      "text/plain": [
       "Predicting: 0it [00:00, ?it/s]"
      ]
     },
     "metadata": {},
     "output_type": "display_data"
    },
    {
     "name": "stderr",
     "output_type": "stream",
     "text": [
      "Global seed set to 2\n",
      "LOCAL_RANK: 0 - CUDA_VISIBLE_DEVICES: [0,1]\n"
     ]
    },
    {
     "data": {
      "application/vnd.jupyter.widget-view+json": {
       "model_id": "bc1981a8a7a04a46b4858cc8fd3d8ec1",
       "version_major": 2,
       "version_minor": 0
      },
      "text/plain": [
       "Predicting: 0it [00:00, ?it/s]"
      ]
     },
     "metadata": {},
     "output_type": "display_data"
    },
    {
     "name": "stderr",
     "output_type": "stream",
     "text": [
      "Global seed set to 2\n",
      "LOCAL_RANK: 0 - CUDA_VISIBLE_DEVICES: [0,1]\n"
     ]
    },
    {
     "data": {
      "application/vnd.jupyter.widget-view+json": {
       "model_id": "22ede7b43f254d2f99db75e4cf4b13bb",
       "version_major": 2,
       "version_minor": 0
      },
      "text/plain": [
       "Predicting: 0it [00:00, ?it/s]"
      ]
     },
     "metadata": {},
     "output_type": "display_data"
    },
    {
     "name": "stderr",
     "output_type": "stream",
     "text": [
      "Global seed set to 2\n",
      "LOCAL_RANK: 0 - CUDA_VISIBLE_DEVICES: [0,1]\n"
     ]
    },
    {
     "data": {
      "application/vnd.jupyter.widget-view+json": {
       "model_id": "2717e956af6541e7a20b418a919eb2fa",
       "version_major": 2,
       "version_minor": 0
      },
      "text/plain": [
       "Predicting: 0it [00:00, ?it/s]"
      ]
     },
     "metadata": {},
     "output_type": "display_data"
    },
    {
     "name": "stderr",
     "output_type": "stream",
     "text": [
      "Global seed set to 2\n",
      "LOCAL_RANK: 0 - CUDA_VISIBLE_DEVICES: [0,1]\n"
     ]
    },
    {
     "data": {
      "application/vnd.jupyter.widget-view+json": {
       "model_id": "e24c109177dd4616bbc7fe93828398c9",
       "version_major": 2,
       "version_minor": 0
      },
      "text/plain": [
       "Predicting: 0it [00:00, ?it/s]"
      ]
     },
     "metadata": {},
     "output_type": "display_data"
    },
    {
     "name": "stderr",
     "output_type": "stream",
     "text": [
      "Global seed set to 2\n",
      "LOCAL_RANK: 0 - CUDA_VISIBLE_DEVICES: [0,1]\n"
     ]
    },
    {
     "data": {
      "application/vnd.jupyter.widget-view+json": {
       "model_id": "3687c424b3e14caf928f9b900a57b87f",
       "version_major": 2,
       "version_minor": 0
      },
      "text/plain": [
       "Predicting: 0it [00:00, ?it/s]"
      ]
     },
     "metadata": {},
     "output_type": "display_data"
    },
    {
     "name": "stderr",
     "output_type": "stream",
     "text": [
      "Global seed set to 2\n",
      "LOCAL_RANK: 0 - CUDA_VISIBLE_DEVICES: [0,1]\n"
     ]
    },
    {
     "data": {
      "application/vnd.jupyter.widget-view+json": {
       "model_id": "26a2f76669864312b37650ecc534e270",
       "version_major": 2,
       "version_minor": 0
      },
      "text/plain": [
       "Predicting: 0it [00:00, ?it/s]"
      ]
     },
     "metadata": {},
     "output_type": "display_data"
    },
    {
     "name": "stderr",
     "output_type": "stream",
     "text": [
      "Global seed set to 2\n",
      "LOCAL_RANK: 0 - CUDA_VISIBLE_DEVICES: [0,1]\n"
     ]
    },
    {
     "data": {
      "application/vnd.jupyter.widget-view+json": {
       "model_id": "2ba966662c9445ec8cf8bc0a36c8c6c7",
       "version_major": 2,
       "version_minor": 0
      },
      "text/plain": [
       "Predicting: 0it [00:00, ?it/s]"
      ]
     },
     "metadata": {},
     "output_type": "display_data"
    },
    {
     "name": "stderr",
     "output_type": "stream",
     "text": [
      "Global seed set to 2\n",
      "LOCAL_RANK: 0 - CUDA_VISIBLE_DEVICES: [0,1]\n"
     ]
    },
    {
     "data": {
      "application/vnd.jupyter.widget-view+json": {
       "model_id": "b23bc39448d7446fbda911264f34162c",
       "version_major": 2,
       "version_minor": 0
      },
      "text/plain": [
       "Predicting: 0it [00:00, ?it/s]"
      ]
     },
     "metadata": {},
     "output_type": "display_data"
    },
    {
     "name": "stderr",
     "output_type": "stream",
     "text": [
      "Global seed set to 2\n",
      "LOCAL_RANK: 0 - CUDA_VISIBLE_DEVICES: [0,1]\n"
     ]
    },
    {
     "data": {
      "application/vnd.jupyter.widget-view+json": {
       "model_id": "4aecbf6d3fb840dc90f8d4d3ae879156",
       "version_major": 2,
       "version_minor": 0
      },
      "text/plain": [
       "Predicting: 0it [00:00, ?it/s]"
      ]
     },
     "metadata": {},
     "output_type": "display_data"
    },
    {
     "name": "stderr",
     "output_type": "stream",
     "text": [
      "Global seed set to 2\n",
      "LOCAL_RANK: 0 - CUDA_VISIBLE_DEVICES: [0,1]\n"
     ]
    },
    {
     "data": {
      "application/vnd.jupyter.widget-view+json": {
       "model_id": "8074af28b34b4d0583284cb0785f1346",
       "version_major": 2,
       "version_minor": 0
      },
      "text/plain": [
       "Predicting: 0it [00:00, ?it/s]"
      ]
     },
     "metadata": {},
     "output_type": "display_data"
    },
    {
     "name": "stderr",
     "output_type": "stream",
     "text": [
      "Global seed set to 2\n",
      "LOCAL_RANK: 0 - CUDA_VISIBLE_DEVICES: [0,1]\n"
     ]
    },
    {
     "data": {
      "application/vnd.jupyter.widget-view+json": {
       "model_id": "e305fe0be097425da4b8b5f2ef783ae2",
       "version_major": 2,
       "version_minor": 0
      },
      "text/plain": [
       "Predicting: 0it [00:00, ?it/s]"
      ]
     },
     "metadata": {},
     "output_type": "display_data"
    },
    {
     "name": "stderr",
     "output_type": "stream",
     "text": [
      "Global seed set to 2\n",
      "LOCAL_RANK: 0 - CUDA_VISIBLE_DEVICES: [0,1]\n"
     ]
    },
    {
     "data": {
      "application/vnd.jupyter.widget-view+json": {
       "model_id": "8d55636e67024a5b8cf6f8c9ecd8511c",
       "version_major": 2,
       "version_minor": 0
      },
      "text/plain": [
       "Predicting: 0it [00:00, ?it/s]"
      ]
     },
     "metadata": {},
     "output_type": "display_data"
    }
   ],
   "source": [
    "model_to_accs = {}\n",
    "for source_ds, ft_ds in zip(source_datasets, finetuning_datasets):\n",
    "    dm = DATA_MODULES[ft_ds](\n",
    "        data_dir=DATA_PATH_IMAGENET if 'imagenet' in ft_ds else DATA_PATH,\n",
    "        transform_train=dsmd.TRAIN_TRANSFORMS_TRANSFER_DEFAULT(224),\n",
    "        transform_test=dsmd.TEST_TRANSFORMS_DEFAULT(224),\n",
    "        batch_size=BATCH_SIZE)\n",
    "    dm.init_remaining_attrs(source_ds)\n",
    "    \n",
    "    for model in models:\n",
    "        model_paths = glob.glob(f'checkpoints/{model}-base-{source_ds}-ft-{ft_ds}/'\n",
    "                                f'ftmode-{finetune_mode}-lr-*-steplr-*-bs-*-scratch-*/*-topk=1.ckpt')\n",
    "        hparams_to_acc = {}\n",
    "        for path in model_paths:\n",
    "            hparams_str = path.split('/')[-2].split(f'ftmode-{finetune_mode}-')[1]\n",
    "            m1 = arch.create_model(model, source_ds, pretrained=True,\n",
    "                                   checkpoint_path=path, seed=SEED, \n",
    "                                   num_classes=dsmd.DATASET_PARAMS[source_ds]['num_classes'],\n",
    "                                   callback=partial(LightningWrapper,\n",
    "                                                    dataset_name=source_ds,\n",
    "                                                    training_params_dataset=ft_ds),\n",
    "                                   loading_function_kwargs={'strict': False} if '_ff' in model or \\\n",
    "                                       '_mrl' in model else {},\n",
    "                                   use_timm_for_cifar=USE_TIMM_FOR_CIFAR)\n",
    "            \n",
    "            out = trainer.predict(m1, dataloaders=[dm.test_dataloader()])\n",
    "            hparams_to_acc[hparams_str] = torch.sum(torch.argmax(out[0], 1) == out[1]).item()/len(y)\n",
    "    \n",
    "        model_to_accs[f'{model} source {source_ds} finetune {ft_ds}'] = hparams_to_acc"
   ]
  },
  {
   "cell_type": "code",
   "execution_count": 41,
   "id": "be29d29f",
   "metadata": {},
   "outputs": [
    {
     "data": {
      "text/plain": [
       "{'vit_base_patch32_224 source cifar10 finetune cifar10': {'lr-0.1-steplr-500.0-bs-256-scratch-warmup-100': 0.9584,\n",
       "  'lr-0.01-steplr-500.0-bs-256-scratch-warmup-100': 0.9859,\n",
       "  'lr-0.001-steplr-500.0-bs-256-scratch-warmup-440': 0.989,\n",
       "  'lr-0.001-steplr-500.0-bs-256-scratch-warmup-100': 0.9872,\n",
       "  'lr-0.1-steplr-500.0-bs-128-scratch-warmup-100': 0.938,\n",
       "  'lr-0.01-steplr-500.0-bs-128-scratch-warmup-880': 0.9792,\n",
       "  'lr-0.001-steplr-500.0-bs-128-scratch-warmup-880': 0.9893,\n",
       "  'lr-0.1-steplr-500.0-bs-128-scratch-warmup-880': 0.9423,\n",
       "  'lr-0.01-steplr-500.0-bs-128-scratch-warmup-100': 0.9729,\n",
       "  'lr-0.001-steplr-500.0-bs-128-scratch-warmup-100': 0.988},\n",
       " 'vit_base_patch32_224 source cifar100 finetune cifar100': {'lr-0.01-steplr-500.0-bs-128-scratch-warmup-880': 0.8932,\n",
       "  'lr-0.01-steplr-500.0-bs-128-scratch-warmup-100': 0.8852,\n",
       "  'lr-0.001-steplr-500.0-bs-256-scratch-warmup-100': 0.9102,\n",
       "  'lr-0.001-steplr-500.0-bs-256-scratch-warmup-440': 0.9252,\n",
       "  'lr-0.1-steplr-500.0-bs-256-scratch-warmup-440': 0.7375,\n",
       "  'lr-0.1-steplr-500.0-bs-256-scratch-warmup-100': 0.8413,\n",
       "  'lr-0.01-steplr-500.0-bs-512-scratch-warmup-100': 0.9253,\n",
       "  'lr-0.001-steplr-500.0-bs-128-scratch-warmup-880': 0.9275,\n",
       "  'lr-0.1-steplr-500.0-bs-128-scratch-warmup-880': 0.6843,\n",
       "  'lr-0.01-steplr-500.0-bs-256-scratch-warmup-440': 0.9132,\n",
       "  'lr-0.01-steplr-500.0-bs-256-scratch-warmup-100': 0.9173,\n",
       "  'lr-0.001-steplr-500.0-bs-128-scratch-warmup-100': 0.9138,\n",
       "  'lr-0.1-steplr-500.0-bs-128-scratch-warmup-100': 0.8088,\n",
       "  'lr-0.001-steplr-500.0-bs-512-scratch-warmup-100': 0.9038}}"
      ]
     },
     "execution_count": 41,
     "metadata": {},
     "output_type": "execute_result"
    }
   ],
   "source": [
    "model_to_accs"
   ]
  },
  {
   "cell_type": "code",
   "execution_count": 42,
   "id": "f0a1eb36",
   "metadata": {
    "scrolled": true
   },
   "outputs": [
    {
     "data": {
      "image/png": "[encoded data removed]",
      "text/plain": [
       "<Figure size 576x432 with 1 Axes>"
      ]
     },
     "metadata": {
      "needs_background": "light"
     },
     "output_type": "display_data"
    },
    {
     "data": {
      "image/png": "[encoded data removed]",
      "text/plain": [
       "<Figure size 576x432 with 1 Axes>"
      ]
     },
     "metadata": {
      "needs_background": "light"
     },
     "output_type": "display_data"
    }
   ],
   "source": [
    "for plot_title, results in model_to_accs.items():\n",
    "    x_labels, bars = list(zip(*sorted(results.items(), key=lambda x: x[1])))\n",
    "    plt_hp.bar_plot([bars], 'Model Configs', 'Test Accuracy', plot_title, \n",
    "                    subfolder='scratch', x_labels=x_labels, \n",
    "                    filename='-'.join(plot_title.split()), \n",
    "                    legend_vals=None, savefig=True, show_fig=True, \n",
    "                    extension='png', x_tick_colors=None, \n",
    "                    horizontal_lines=None, figsize=(8,6), \n",
    "                    colors=None, hatchstyles=None,\n",
    "                    y_lims=None, paper_friendly_plots=False, \n",
    "                    results_folder_name='results', \n",
    "                    results_subfolder_name='accuracy_analysis', \n",
    "                    legend_ncol=None)"
   ]
  },
  {
   "cell_type": "code",
   "execution_count": null,
   "id": "43cb20d6",
   "metadata": {},
   "outputs": [],
   "source": []
  }
 ],
 "metadata": {
  "kernelspec": {
   "display_name": "Python 3 (ipykernel)",
   "language": "python",
   "name": "python3"
  },
  "language_info": {
   "codemirror_mode": {
    "name": "ipython",
    "version": 3
   },
   "file_extension": ".py",
   "mimetype": "text/x-python",
   "name": "python",
   "nbconvert_exporter": "python",
   "pygments_lexer": "ipython3",
   "version": "3.7.9"
  }
 },
 "nbformat": 4,
 "nbformat_minor": 5
}
