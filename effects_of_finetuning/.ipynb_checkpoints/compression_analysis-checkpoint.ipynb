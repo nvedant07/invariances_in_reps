{
 "cells": [
  {
   "cell_type": "code",
   "execution_count": 1,
   "id": "b8ea795f",
   "metadata": {},
   "outputs": [
    {
     "name": "stderr",
     "output_type": "stream",
     "text": [
      "/NS/twitter_archive2/work/vnanda/minconda3/envs/dl_base/lib/python3.7/site-packages/paramiko/transport.py:236: CryptographyDeprecationWarning: Blowfish has been deprecated\n",
      "  \"class\": algorithms.Blowfish,\n"
     ]
    }
   ],
   "source": [
    "import glob, sys, os\n",
    "sys.path.append('..')\n",
    "import output as out\n",
    "import plot_helper as plt_hp\n",
    "import pandas as pd\n",
    "import numpy as np\n",
    "from itertools import product\n",
    "from effects_of_finetuning import SERVER_PROJECT_PATH"
   ]
  },
  {
   "cell_type": "code",
   "execution_count": 2,
   "id": "b1935af5",
   "metadata": {},
   "outputs": [],
   "source": [
    "model_names = ['vit_base_patch16_384', 'vit_small_patch16_384', 'resnetv2_50x1_bitm', 'resnetv2_101x1_bitm']\n",
    "base_dataset = 'imagenet21k'\n",
    "finetune_datasets = ['imagenet', 'cifar100', 'oxford-iiit-pets']"
   ]
  },
  {
   "cell_type": "code",
   "execution_count": 3,
   "id": "5fe5aa4a",
   "metadata": {},
   "outputs": [
    {
     "ename": "IndexError",
     "evalue": "only integers, slices (`:`), ellipsis (`...`), numpy.newaxis (`None`) and integer or boolean arrays are valid indices",
     "output_type": "error",
     "traceback": [
      "\u001b[0;31m---------------------------------------------------------------------------\u001b[0m",
      "\u001b[0;31mIndexError\u001b[0m                                Traceback (most recent call last)",
      "\u001b[0;32m/tmp/ipykernel_1952498/122427256.py\u001b[0m in \u001b[0;36m<module>\u001b[0;34m\u001b[0m\n\u001b[1;32m      8\u001b[0m             df = pd.read_csv(results_file, header=None, sep=',',\n\u001b[1;32m      9\u001b[0m                              names=['Base(m1)', 'Finetuned(m2)', 'STIR(m1|m2)', 'STIR(m2|m1)', 'CKA'])\n\u001b[0;32m---> 10\u001b[0;31m             \u001b[0mlayers\u001b[0m \u001b[0;34m=\u001b[0m \u001b[0mdf\u001b[0m\u001b[0;34m.\u001b[0m\u001b[0mindex\u001b[0m\u001b[0;34m[\u001b[0m\u001b[0;34m'Finetuned(m2)'\u001b[0m\u001b[0;34m]\u001b[0m\u001b[0;34m.\u001b[0m\u001b[0munique\u001b[0m\u001b[0;34m(\u001b[0m\u001b[0;34m)\u001b[0m\u001b[0;34m\u001b[0m\u001b[0;34m\u001b[0m\u001b[0m\n\u001b[0m\u001b[1;32m     11\u001b[0m \u001b[0;31m#             df.set_index(['Base(m1)', 'Finetuned(m2)'], inplace=True)\u001b[0m\u001b[0;34m\u001b[0m\u001b[0;34m\u001b[0m\u001b[0;34m\u001b[0m\u001b[0m\n\u001b[1;32m     12\u001b[0m             \u001b[0mmat_stir_m1m2\u001b[0m \u001b[0;34m=\u001b[0m \u001b[0mnp\u001b[0m\u001b[0;34m.\u001b[0m\u001b[0mfull\u001b[0m\u001b[0;34m(\u001b[0m\u001b[0;34m(\u001b[0m\u001b[0mlen\u001b[0m\u001b[0;34m(\u001b[0m\u001b[0mlayers\u001b[0m\u001b[0;34m)\u001b[0m\u001b[0;34m,\u001b[0m \u001b[0mlen\u001b[0m\u001b[0;34m(\u001b[0m\u001b[0mlayers\u001b[0m\u001b[0;34m)\u001b[0m\u001b[0;34m)\u001b[0m\u001b[0;34m,\u001b[0m \u001b[0mnp\u001b[0m\u001b[0;34m.\u001b[0m\u001b[0mnan\u001b[0m\u001b[0;34m)\u001b[0m\u001b[0;34m\u001b[0m\u001b[0;34m\u001b[0m\u001b[0m\n",
      "\u001b[0;32m/NS/twitter_archive2/work/vnanda/minconda3/envs/dl_base/lib/python3.7/site-packages/pandas/core/indexes/range.py\u001b[0m in \u001b[0;36m__getitem__\u001b[0;34m(self, key)\u001b[0m\n\u001b[1;32m    831\u001b[0m         \u001b[0;32melif\u001b[0m \u001b[0mis_scalar\u001b[0m\u001b[0;34m(\u001b[0m\u001b[0mkey\u001b[0m\u001b[0;34m)\u001b[0m\u001b[0;34m:\u001b[0m\u001b[0;34m\u001b[0m\u001b[0;34m\u001b[0m\u001b[0m\n\u001b[1;32m    832\u001b[0m             raise IndexError(\n\u001b[0;32m--> 833\u001b[0;31m                 \u001b[0;34m\"only integers, slices (`:`), \"\u001b[0m\u001b[0;34m\u001b[0m\u001b[0;34m\u001b[0m\u001b[0m\n\u001b[0m\u001b[1;32m    834\u001b[0m                 \u001b[0;34m\"ellipsis (`...`), numpy.newaxis (`None`) \"\u001b[0m\u001b[0;34m\u001b[0m\u001b[0;34m\u001b[0m\u001b[0m\n\u001b[1;32m    835\u001b[0m                 \u001b[0;34m\"and integer or boolean \"\u001b[0m\u001b[0;34m\u001b[0m\u001b[0;34m\u001b[0m\u001b[0m\n",
      "\u001b[0;31mIndexError\u001b[0m: only integers, slices (`:`), ellipsis (`...`), numpy.newaxis (`None`) and integer or boolean arrays are valid indices"
     ]
    }
   ],
   "source": [
    "plt_str = '<<TableOfContents()>>\\n\\n= Cross Layer Comparison =\\n\\n'\n",
    "for model_name in model_names:\n",
    "    plt_str += f'== {model_name} ==\\n\\n'\n",
    "    for ft_ds in finetune_datasets:\n",
    "        results_file = f'./results/{model_name}_eval_{ft_ds}-base_{base_dataset}-finetune_{ft_ds}.txt'\n",
    "        if os.path.exists(results_file):\n",
    "            plt_str += f'=== Pre-trained on {base_dataset}, finetuned on {ft_ds}, eval on {ft_ds} ===\\n\\n'\n",
    "            df = pd.read_csv(results_file, header=None, sep=',',\n",
    "                             names=['Base(m1)', 'Finetuned(m2)', 'STIR(m1|m2)', 'STIR(m2|m1)', 'CKA'])\n",
    "            layers = df['Finetuned(m2)'].unique()\n",
    "            df.set_index(['Base(m1)', 'Finetuned(m2)'], inplace=True)\n",
    "            mat_stir_m1m2 = np.full((len(layers), len(layers)), np.nan)\n",
    "            mat_stir_m2m1 = np.full((len(layers), len(layers)), np.nan)\n",
    "            mat_cka = np.full((len(layers), len(layers)), np.nan)\n",
    "            for (i1,l1), (i2,l2) in product(*[enumerate(layers),enumerate(layers)]):\n",
    "                if (l1,l2) in df.index:\n",
    "                    mat_stir_m1m2[i1, i2] = df.loc[l1,l2]['STIR(m1|m2)']\n",
    "                    mat_stir_m2m1[i1, i2] = df.loc[l1,l2]['STIR(m2|m1)']\n",
    "                    mat_cka[i1, i2] = df.loc[l1,l2]['CKA']\n",
    "            \n",
    "            plt_str += '{}\\n\\n'.format(plt_hp.get_wiki_link(\n",
    "                plt_hp.plot_heatmaps([mat_stir_m1m2, mat_stir_m2m1, mat_cka], layers, layers, \n",
    "                                 plot_title=f'{model_name}, finetuned on {ft_ds}', \n",
    "                                 subplot_titles=['STIR(m1|m2)', 'STIR(m2|m1)', 'CKA'], \n",
    "                                 subfolder='compression_analysis', \n",
    "                                 filename=f'cross_layer_analysis_{model_name}_eval_{ft_ds}_ftds_{ft_ds}', \n",
    "                                 file_format='png', vmin=0, vmax=1, show_fig=True, cols=3,\n",
    "                                 x_title='m2 (finetuned)', y_title='m1 (pre-trained)', \n",
    "                                 annotate=True, types=None, \n",
    "                                 paper_friendly_plots=False, annotation_fontsize=10, root_dir='.', \n",
    "                                 figsize=(35,8), results_subfolder_name=base_dataset),\n",
    "                SERVER_PROJECT_PATH, size=2000))"
   ]
  },
  {
   "cell_type": "code",
   "execution_count": null,
   "id": "3fa88d74",
   "metadata": {},
   "outputs": [],
   "source": [
    "with open(f'./results/{base_dataset}/compression_analysis/wiki_results.txt', 'w') as fp:\n",
    "    fp.write(plt_str)"
   ]
  },
  {
   "cell_type": "code",
   "execution_count": null,
   "id": "935d2e81",
   "metadata": {},
   "outputs": [],
   "source": [
    "out.upload_results(['{}/{}/{}'.format(plt_hp.RESULTS_FOLDER_NAME, base_dataset, 'compression_analysis')], \n",
    "        'results', SERVER_PROJECT_PATH, '.png')"
   ]
  },
  {
   "cell_type": "code",
   "execution_count": null,
   "id": "b92ab629",
   "metadata": {},
   "outputs": [],
   "source": []
  }
 ],
 "metadata": {
  "kernelspec": {
   "display_name": "Python 3 (ipykernel)",
   "language": "python",
   "name": "python3"
  },
  "language_info": {
   "codemirror_mode": {
    "name": "ipython",
    "version": 3
   },
   "file_extension": ".py",
   "mimetype": "text/x-python",
   "name": "python",
   "nbconvert_exporter": "python",
   "pygments_lexer": "ipython3",
   "version": "3.7.9"
  }
 },
 "nbformat": 4,
 "nbformat_minor": 5
}
