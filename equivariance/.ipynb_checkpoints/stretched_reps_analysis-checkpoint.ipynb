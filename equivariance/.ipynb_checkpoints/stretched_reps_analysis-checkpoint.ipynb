{
 "cells": [
  {
   "cell_type": "markdown",
   "id": "e6896f4a",
   "metadata": {},
   "source": [
    "### Load Stretched Reps and Inverted Images of stretched reps"
   ]
  },
  {
   "cell_type": "code",
   "execution_count": 87,
   "id": "49cfc4df",
   "metadata": {},
   "outputs": [],
   "source": [
    "from pytorch_lightning import utilities as pl_utils\n",
    "from pytorch_lightning.trainer.trainer import Trainer\n",
    "from pytorch_lightning.plugins import DDPPlugin, DataParallelPlugin\n",
    "from torchvision import transforms\n",
    "\n",
    "import torch\n",
    "import torch.nn as nn\n",
    "from functools import partial\n",
    "import argparse\n",
    "import pathlib\n",
    "import numpy as np\n",
    "from PIL import Image\n",
    "from sklearn.linear_model import LogisticRegression\n",
    "from matplotlib import pyplot as plt\n",
    "\n",
    "import os, sys, glob\n",
    "sys.path.append('..')\n",
    "sys.path.append('../deep-learning-base')\n",
    "for p in glob.glob('../deep-learning-base/*'):\n",
    "    if os.path.isdir(p):\n",
    "        sys.path.append(p)\n",
    "\n",
    "from training import LitProgressBar\n",
    "import architectures as arch\n",
    "from attack.callbacks import AdvCallback\n",
    "from architectures.callbacks import LightningWrapper\n",
    "from equivariance.stretched_inversion_callback import StretchedInvertedRepWrapper\n",
    "from torch.utils.data import Dataset, DataLoader\n",
    "from equivariance.utils import wrap_into_dataloader, DatasetFromImagesPaths\n",
    "from datasets.data_modules import DATA_MODULES\n",
    "from datasets.dataset_metadata import DATASET_PARAMS\n",
    "from human_nn_alignment.utils import initialize_seed, LOSSES_MAPPING\n",
    "from human_nn_alignment.save_inverted_reps import \\\n",
    "    save_tensor_images, get_classes_names, save_tensor_reps\n",
    "from equivariance.callbacks import VectorCallback"
   ]
  },
  {
   "cell_type": "code",
   "execution_count": 35,
   "id": "fdb10a16",
   "metadata": {},
   "outputs": [],
   "source": [
    "seed = 2\n",
    "devices = 1\n",
    "num_nodes = 1\n",
    "data_path = '/NS/twitter_archive/work/vnanda/data'\n",
    "classes_names = get_classes_names(dataset, data_path)\n",
    "strategy = DataParallelPlugin() if devices > 1 else None\n",
    "## See: https://github.com/Lightning-AI/lightning/issues/7550\n",
    "## Seems like DDP does not work in Jupyter, use DP for multi-GPU inference"
   ]
  },
  {
   "cell_type": "code",
   "execution_count": 73,
   "id": "ebd5c8ac",
   "metadata": {},
   "outputs": [],
   "source": [
    "def sanity_check_saved_reps(images_paths, reps_path, m2):\n",
    "    ### This sanity check will not pass for things generated with DDP\n",
    "    if os.path.exists(reps_path):\n",
    "        reps = torch.load(reps_path, map_location='cpu')\n",
    "    else:\n",
    "        reps = None\n",
    "    dl = DataLoader(DatasetFromImagesPaths(images_paths), \n",
    "                    batch_size=batch_size, num_workers=30, pin_memory=True)\n",
    "    trainer = Trainer(accelerator='gpu', devices=devices,\n",
    "                      num_nodes=num_nodes, strategy=strategy, \n",
    "                      log_every_n_steps=1, auto_select_gpus=True, \n",
    "                      deterministic=True, max_epochs=1,\n",
    "                      check_val_every_n_epoch=1, num_sanity_val_steps=0,\n",
    "                      callbacks=[LitProgressBar(['loss'])])\n",
    "    _, fresh_reps, _ = trainer.predict(m2, dataloaders=[dl])\n",
    "    \n",
    "    if reps is None:    reps = torch.zeros_like(fresh_reps)\n",
    "    sanity_check = torch.isclose(torch.linalg.norm(reps-fresh_reps), torch.tensor(0.))\n",
    "    \n",
    "    return reps if sanity_check else fresh_reps"
   ]
  },
  {
   "cell_type": "code",
   "execution_count": 74,
   "id": "51517c70",
   "metadata": {},
   "outputs": [],
   "source": [
    "def analyze(model1, m1, model2, m2, dataset, classes_names, vector_class_idx, \n",
    "            inversion_loss, append_path, seed_type):\n",
    "    stretch_to_scatter = {}\n",
    "    stretch_to_hyperplane_acc = {}\n",
    "    stretch_to_hyperplane_sim = {}\n",
    "    stretch_to_gt_sim = {}\n",
    "    for stretch_factor in np.linspace(0., 10., 20):\n",
    "        base_path = f'./results/generated_images/{dataset}/'\\\n",
    "            f'{dataset}_{model1}_{inversion_loss}_stretch_{stretch_factor:.2f}_{classes_names[vector_class_idx]}'\n",
    "        if append_path:\n",
    "            base_path += f'_{append_path}'\n",
    "        if not os.path.exists(base_path):\n",
    "            continue\n",
    "\n",
    "        images_ir = sorted(glob.glob(f'{base_path}/result/*.png'), \n",
    "                           key=lambda x: int(x.split('/')[-1].split('_')[0]))\n",
    "        images_og = sorted(glob.glob(f'{base_path}/target/*.png'), \n",
    "                           key=lambda x: int(x.split('/')[-1].split('_')[0]))\n",
    "\n",
    "        ## these reps are not reliable when generated with DDP -- if sanity checks aren't passed, \n",
    "        ## then reps must be regenerated\n",
    "        reps_ir_paths = f'{base_path}/result/{model2}_latent_{seed_type}.pth'\n",
    "        reps_ir = sanity_check_saved_reps(images_ir, reps_ir_paths, m2)\n",
    "        reps_og_paths = f'{base_path}/target/{model2}_latent_{seed_type}.pth'\n",
    "        reps_og = sanity_check_saved_reps(images_og, reps_og_paths, m2)\n",
    "\n",
    "        scatter = reps_ir - reps_og\n",
    "\n",
    "        final_layer = list(m2.model.named_children())[-1][1]\n",
    "        gt_vector = final_layer.weight[vector_class_idx]\n",
    "        gt_vector = gt_vector/torch.linalg.norm(gt_vector, ord=2)\n",
    "\n",
    "        clf = LogisticRegression(max_iter=1000)\n",
    "        X = np.concatenate((reps_ir.numpy(), reps_og.numpy()))\n",
    "        Y = np.concatenate((np.ones(len(reps_ir)), np.zeros(len(reps_og))))\n",
    "        clf.fit(X, Y)\n",
    "        stretch_to_hyperplane_acc[stretch_factor] = clf.score(X, Y)\n",
    "\n",
    "        hyperplane_vector_sim = nn.CosineSimilarity(dim=1)(\n",
    "            torch.from_numpy(clf.coef_).to(gt_vector.device), \n",
    "            gt_vector.reshape(1, *gt_vector.shape))\n",
    "        stretch_to_hyperplane_sim[stretch_factor] = hyperplane_vector_sim\n",
    "\n",
    "        # compare with ground truth\n",
    "        gt_sim = nn.CosineSimilarity(dim=1)(\n",
    "            torch.stack([gt_vector]*len(scatter)), scatter).detach().cpu()\n",
    "        stretch_to_gt_sim[stretch_factor] = gt_sim\n",
    "\n",
    "        # do pairwise similarities on scatter vectors\n",
    "        scatter_norms = torch.linalg.norm(scatter, ord=2, dim=1).reshape(scatter.shape[0], 1)\n",
    "        div = torch.mm(scatter_norms, scatter_norms.T)\n",
    "        new_sim_matrix = torch.mm(scatter, scatter.T)/torch.max(div, torch.ones_like(div) * 1e-08)\n",
    "        mask = torch.triu(torch.ones_like(new_sim_matrix), diagonal=1).bool()\n",
    "        new_sim_matrix = new_sim_matrix[mask]\n",
    "        stretch_to_scatter[stretch_factor] = new_sim_matrix\n",
    "    \n",
    "    return stretch_to_scatter, stretch_to_hyperplane_acc, stretch_to_hyperplane_sim, stretch_to_gt_sim"
   ]
  },
  {
   "cell_type": "code",
   "execution_count": 85,
   "id": "6a85b9aa",
   "metadata": {},
   "outputs": [],
   "source": [
    "def visualize(model1, dataset, inversion_loss, classes_names, vector_class_idx, append_path, num_images=10):\n",
    "    base_path = f'./results/generated_images/{dataset}/'\\\n",
    "        f'{dataset}_{model1}_{inversion_loss}_stretch_0.00_{classes_names[vector_class_idx]}'\n",
    "    if append_path:\n",
    "        base_path += f'_{append_path}'\n",
    "    \n",
    "    image_names = [x.split('/')[-1] for x in glob.glob(f'{base_path}/target/*.png')][:num_images]\n",
    "    for image_name in image_names:\n",
    "        images = [np.array(Image.open(f'{base_path}/target/{image_name}'))]\n",
    "        headings = ['Target']\n",
    "        for stretch_factor in np.linspace(0., 10., 20):\n",
    "            img_path = f'./results/generated_images/{dataset}/'\\\n",
    "                f'{dataset}_{model1}_{inversion_loss}_stretch_'\\\n",
    "                f'{stretch_factor:.2f}_{classes_names[vector_class_idx]}'\n",
    "            if append_path:\n",
    "                img_path += f'_{append_path}'\n",
    "            \n",
    "            if not os.path.exists(img_path):\n",
    "                continue\n",
    "            \n",
    "            headings.append(r'$\\lambda = $' + f'{stretch_factor:.2f}')\n",
    "            images.append(np.array(Image.open(f'{img_path}/result/{image_name}')))\n",
    "        \n",
    "        columns = len(images)\n",
    "        rows = 1\n",
    "        fig = plt.figure(figsize=(10,4))\n",
    "        for i in range(1, columns * rows + 1):\n",
    "            ax = fig.add_subplot(rows, columns, i)\n",
    "            # ax.axis('off')\n",
    "            ax.xaxis.set_ticks([])\n",
    "            ax.yaxis.set_ticks([])\n",
    "            ax.xaxis.set_ticklabels([])\n",
    "            ax.yaxis.set_ticklabels([])\n",
    "            ax.imshow(images[i-1] if images[i-1].shape[-1] == 3 else \\\n",
    "                images[i-1].reshape((images[i-1].shape[0], images[i-1].shape[1])), \n",
    "                cmap='viridis' if images[i-1].shape[-1] == 3 else 'gray', interpolation='bilinear')\n",
    "            ax.set_title(headings[i-1])\n",
    "        fig.suptitle(f'Stretched to be {classes_names[vector_class_idx]}')\n",
    "        plt.show()"
   ]
  },
  {
   "cell_type": "markdown",
   "id": "12af1673",
   "metadata": {},
   "source": [
    "### ImageNet; m1 = robust resnet18, m2 = robust resnet50"
   ]
  },
  {
   "cell_type": "code",
   "execution_count": 57,
   "id": "84b84dd1",
   "metadata": {},
   "outputs": [],
   "source": [
    "dataset = 'imagenet'\n",
    "model1 = 'resnet18'\n",
    "model2 = 'resnet50'\n",
    "batch_size = 100\n",
    "inversion_loss = 'reg_free'\n",
    "checkpoint1_path = '/NS/robustness_1/work/vnanda/CKA-Centered-Kernel-Alignment/checkpoints/imagenet/'\\\n",
    "                    'resnet18/robust/l2/eps3/iters7da_True/checkpoint_rand_seed_1.pt.best'\n",
    "checkpoint2_path = '/NS/robustness_2/work/vnanda/adv-robustness/logs/robust_imagenet/eps3/resnet-50-l2-eps3.ckpt'\n",
    "seed_type = 'super-noise'\n",
    "vector_type = 'class_logit'\n",
    "vector_class_idx = 10\n",
    "append_path = 'robl2eps3_seed_1'"
   ]
  },
  {
   "cell_type": "code",
   "execution_count": 58,
   "id": "4aa12288",
   "metadata": {},
   "outputs": [
    {
     "name": "stderr",
     "output_type": "stream",
     "text": [
      "Global seed set to 2\n",
      "Global seed set to 2\n"
     ]
    }
   ],
   "source": [
    "m1 = arch.create_model(model1, dataset, pretrained=True, \n",
    "                       checkpoint_path=checkpoint1_path, seed=seed, \n",
    "                       callback=partial(LightningWrapper, \n",
    "                                        inference_kwargs={'with_latent': True}, \n",
    "                                        dataset_name=dataset))\n",
    "m2 = arch.create_model(model2, dataset, pretrained=True, \n",
    "                       checkpoint_path=checkpoint2_path, seed=seed, \n",
    "                       callback=partial(LightningWrapper, \n",
    "                                        inference_kwargs={'with_latent': True}, \n",
    "                                        dataset_name=dataset))"
   ]
  },
  {
   "cell_type": "code",
   "execution_count": 59,
   "id": "205bcd98",
   "metadata": {},
   "outputs": [
    {
     "name": "stderr",
     "output_type": "stream",
     "text": [
      "GPU available: True, used: True\n",
      "TPU available: False, using: 0 TPU cores\n",
      "IPU available: False, using: 0 IPUs\n",
      "LOCAL_RANK: 0 - CUDA_VISIBLE_DEVICES: [0,1]\n"
     ]
    },
    {
     "data": {
      "application/vnd.jupyter.widget-view+json": {
       "model_id": "9b2af39c3a134353b6257e7463f6e33c",
       "version_major": 2,
       "version_minor": 0
      },
      "text/plain": [
       "Predicting: 0it [00:00, ?it/s]"
      ]
     },
     "metadata": {},
     "output_type": "display_data"
    },
    {
     "name": "stderr",
     "output_type": "stream",
     "text": [
      "GPU available: True, used: True\n",
      "TPU available: False, using: 0 TPU cores\n",
      "IPU available: False, using: 0 IPUs\n",
      "LOCAL_RANK: 0 - CUDA_VISIBLE_DEVICES: [0,1]\n"
     ]
    },
    {
     "data": {
      "application/vnd.jupyter.widget-view+json": {
       "model_id": "33334661c70042eea2873d01629ad6c3",
       "version_major": 2,
       "version_minor": 0
      },
      "text/plain": [
       "Predicting: 0it [00:00, ?it/s]"
      ]
     },
     "metadata": {},
     "output_type": "display_data"
    },
    {
     "name": "stderr",
     "output_type": "stream",
     "text": [
      "GPU available: True, used: True\n",
      "TPU available: False, using: 0 TPU cores\n",
      "IPU available: False, using: 0 IPUs\n",
      "LOCAL_RANK: 0 - CUDA_VISIBLE_DEVICES: [0,1]\n"
     ]
    },
    {
     "data": {
      "application/vnd.jupyter.widget-view+json": {
       "model_id": "d9aefe398cbd401189840f8924b2b8b6",
       "version_major": 2,
       "version_minor": 0
      },
      "text/plain": [
       "Predicting: 0it [00:00, ?it/s]"
      ]
     },
     "metadata": {},
     "output_type": "display_data"
    },
    {
     "name": "stderr",
     "output_type": "stream",
     "text": [
      "GPU available: True, used: True\n",
      "TPU available: False, using: 0 TPU cores\n",
      "IPU available: False, using: 0 IPUs\n",
      "LOCAL_RANK: 0 - CUDA_VISIBLE_DEVICES: [0,1]\n"
     ]
    },
    {
     "data": {
      "application/vnd.jupyter.widget-view+json": {
       "model_id": "82adc51478c24219ba83db2da45ba489",
       "version_major": 2,
       "version_minor": 0
      },
      "text/plain": [
       "Predicting: 0it [00:00, ?it/s]"
      ]
     },
     "metadata": {},
     "output_type": "display_data"
    },
    {
     "name": "stderr",
     "output_type": "stream",
     "text": [
      "GPU available: True, used: True\n",
      "TPU available: False, using: 0 TPU cores\n",
      "IPU available: False, using: 0 IPUs\n",
      "LOCAL_RANK: 0 - CUDA_VISIBLE_DEVICES: [0,1]\n"
     ]
    },
    {
     "data": {
      "application/vnd.jupyter.widget-view+json": {
       "model_id": "75d449ae3f27467bb24ea20c1e0371fa",
       "version_major": 2,
       "version_minor": 0
      },
      "text/plain": [
       "Predicting: 0it [00:00, ?it/s]"
      ]
     },
     "metadata": {},
     "output_type": "display_data"
    },
    {
     "name": "stderr",
     "output_type": "stream",
     "text": [
      "GPU available: True, used: True\n",
      "TPU available: False, using: 0 TPU cores\n",
      "IPU available: False, using: 0 IPUs\n",
      "LOCAL_RANK: 0 - CUDA_VISIBLE_DEVICES: [0,1]\n"
     ]
    },
    {
     "data": {
      "application/vnd.jupyter.widget-view+json": {
       "model_id": "da33c41d1d774a7aa79c45d3738fbe37",
       "version_major": 2,
       "version_minor": 0
      },
      "text/plain": [
       "Predicting: 0it [00:00, ?it/s]"
      ]
     },
     "metadata": {},
     "output_type": "display_data"
    },
    {
     "name": "stderr",
     "output_type": "stream",
     "text": [
      "GPU available: True, used: True\n",
      "TPU available: False, using: 0 TPU cores\n",
      "IPU available: False, using: 0 IPUs\n",
      "LOCAL_RANK: 0 - CUDA_VISIBLE_DEVICES: [0,1]\n"
     ]
    },
    {
     "data": {
      "application/vnd.jupyter.widget-view+json": {
       "model_id": "b37adba5a9ef43bfbbef24ab96945846",
       "version_major": 2,
       "version_minor": 0
      },
      "text/plain": [
       "Predicting: 0it [00:00, ?it/s]"
      ]
     },
     "metadata": {},
     "output_type": "display_data"
    },
    {
     "name": "stderr",
     "output_type": "stream",
     "text": [
      "GPU available: True, used: True\n",
      "TPU available: False, using: 0 TPU cores\n",
      "IPU available: False, using: 0 IPUs\n",
      "LOCAL_RANK: 0 - CUDA_VISIBLE_DEVICES: [0,1]\n"
     ]
    },
    {
     "data": {
      "application/vnd.jupyter.widget-view+json": {
       "model_id": "485fa316bbb442eab4e1a07e7d582a3d",
       "version_major": 2,
       "version_minor": 0
      },
      "text/plain": [
       "Predicting: 0it [00:00, ?it/s]"
      ]
     },
     "metadata": {},
     "output_type": "display_data"
    },
    {
     "name": "stderr",
     "output_type": "stream",
     "text": [
      "GPU available: True, used: True\n",
      "TPU available: False, using: 0 TPU cores\n",
      "IPU available: False, using: 0 IPUs\n",
      "LOCAL_RANK: 0 - CUDA_VISIBLE_DEVICES: [0,1]\n"
     ]
    },
    {
     "data": {
      "application/vnd.jupyter.widget-view+json": {
       "model_id": "a7261f8aade74c839b628d0a68d7ca9b",
       "version_major": 2,
       "version_minor": 0
      },
      "text/plain": [
       "Predicting: 0it [00:00, ?it/s]"
      ]
     },
     "metadata": {},
     "output_type": "display_data"
    },
    {
     "name": "stderr",
     "output_type": "stream",
     "text": [
      "GPU available: True, used: True\n",
      "TPU available: False, using: 0 TPU cores\n",
      "IPU available: False, using: 0 IPUs\n",
      "LOCAL_RANK: 0 - CUDA_VISIBLE_DEVICES: [0,1]\n"
     ]
    },
    {
     "data": {
      "application/vnd.jupyter.widget-view+json": {
       "model_id": "093dd7e9c42c4991a90b5308164346a9",
       "version_major": 2,
       "version_minor": 0
      },
      "text/plain": [
       "Predicting: 0it [00:00, ?it/s]"
      ]
     },
     "metadata": {},
     "output_type": "display_data"
    },
    {
     "name": "stderr",
     "output_type": "stream",
     "text": [
      "GPU available: True, used: True\n",
      "TPU available: False, using: 0 TPU cores\n",
      "IPU available: False, using: 0 IPUs\n",
      "LOCAL_RANK: 0 - CUDA_VISIBLE_DEVICES: [0,1]\n"
     ]
    },
    {
     "data": {
      "application/vnd.jupyter.widget-view+json": {
       "model_id": "2290ac599c7348098e3f37c7d6f62991",
       "version_major": 2,
       "version_minor": 0
      },
      "text/plain": [
       "Predicting: 0it [00:00, ?it/s]"
      ]
     },
     "metadata": {},
     "output_type": "display_data"
    },
    {
     "name": "stderr",
     "output_type": "stream",
     "text": [
      "GPU available: True, used: True\n",
      "TPU available: False, using: 0 TPU cores\n",
      "IPU available: False, using: 0 IPUs\n",
      "LOCAL_RANK: 0 - CUDA_VISIBLE_DEVICES: [0,1]\n"
     ]
    },
    {
     "data": {
      "application/vnd.jupyter.widget-view+json": {
       "model_id": "2d43650fd2cf4a34adfeb34a16a227aa",
       "version_major": 2,
       "version_minor": 0
      },
      "text/plain": [
       "Predicting: 0it [00:00, ?it/s]"
      ]
     },
     "metadata": {},
     "output_type": "display_data"
    },
    {
     "name": "stderr",
     "output_type": "stream",
     "text": [
      "GPU available: True, used: True\n",
      "TPU available: False, using: 0 TPU cores\n",
      "IPU available: False, using: 0 IPUs\n",
      "LOCAL_RANK: 0 - CUDA_VISIBLE_DEVICES: [0,1]\n"
     ]
    },
    {
     "data": {
      "application/vnd.jupyter.widget-view+json": {
       "model_id": "f1b5d7e6f4ee41d2bdd3401f11829896",
       "version_major": 2,
       "version_minor": 0
      },
      "text/plain": [
       "Predicting: 0it [00:00, ?it/s]"
      ]
     },
     "metadata": {},
     "output_type": "display_data"
    },
    {
     "name": "stderr",
     "output_type": "stream",
     "text": [
      "GPU available: True, used: True\n",
      "TPU available: False, using: 0 TPU cores\n",
      "IPU available: False, using: 0 IPUs\n",
      "LOCAL_RANK: 0 - CUDA_VISIBLE_DEVICES: [0,1]\n"
     ]
    },
    {
     "data": {
      "application/vnd.jupyter.widget-view+json": {
       "model_id": "f2f3e154c4184bc4bffe9d997a11ce02",
       "version_major": 2,
       "version_minor": 0
      },
      "text/plain": [
       "Predicting: 0it [00:00, ?it/s]"
      ]
     },
     "metadata": {},
     "output_type": "display_data"
    },
    {
     "name": "stderr",
     "output_type": "stream",
     "text": [
      "GPU available: True, used: True\n",
      "TPU available: False, using: 0 TPU cores\n",
      "IPU available: False, using: 0 IPUs\n",
      "LOCAL_RANK: 0 - CUDA_VISIBLE_DEVICES: [0,1]\n"
     ]
    },
    {
     "data": {
      "application/vnd.jupyter.widget-view+json": {
       "model_id": "51a4944f2f384ebdb577ac0c9f5fe95d",
       "version_major": 2,
       "version_minor": 0
      },
      "text/plain": [
       "Predicting: 0it [00:00, ?it/s]"
      ]
     },
     "metadata": {},
     "output_type": "display_data"
    },
    {
     "name": "stderr",
     "output_type": "stream",
     "text": [
      "GPU available: True, used: True\n",
      "TPU available: False, using: 0 TPU cores\n",
      "IPU available: False, using: 0 IPUs\n",
      "LOCAL_RANK: 0 - CUDA_VISIBLE_DEVICES: [0,1]\n"
     ]
    },
    {
     "data": {
      "application/vnd.jupyter.widget-view+json": {
       "model_id": "b201b3f2919040a2bdcb98bfdccaabd0",
       "version_major": 2,
       "version_minor": 0
      },
      "text/plain": [
       "Predicting: 0it [00:00, ?it/s]"
      ]
     },
     "metadata": {},
     "output_type": "display_data"
    },
    {
     "name": "stderr",
     "output_type": "stream",
     "text": [
      "GPU available: True, used: True\n",
      "TPU available: False, using: 0 TPU cores\n",
      "IPU available: False, using: 0 IPUs\n",
      "LOCAL_RANK: 0 - CUDA_VISIBLE_DEVICES: [0,1]\n"
     ]
    },
    {
     "data": {
      "application/vnd.jupyter.widget-view+json": {
       "model_id": "05d4c79bf29f4d518950736df6314dc0",
       "version_major": 2,
       "version_minor": 0
      },
      "text/plain": [
       "Predicting: 0it [00:00, ?it/s]"
      ]
     },
     "metadata": {},
     "output_type": "display_data"
    },
    {
     "name": "stderr",
     "output_type": "stream",
     "text": [
      "GPU available: True, used: True\n",
      "TPU available: False, using: 0 TPU cores\n",
      "IPU available: False, using: 0 IPUs\n",
      "LOCAL_RANK: 0 - CUDA_VISIBLE_DEVICES: [0,1]\n"
     ]
    },
    {
     "data": {
      "application/vnd.jupyter.widget-view+json": {
       "model_id": "1d029d30a573457c8df303ff40571dde",
       "version_major": 2,
       "version_minor": 0
      },
      "text/plain": [
       "Predicting: 0it [00:00, ?it/s]"
      ]
     },
     "metadata": {},
     "output_type": "display_data"
    },
    {
     "name": "stderr",
     "output_type": "stream",
     "text": [
      "GPU available: True, used: True\n",
      "TPU available: False, using: 0 TPU cores\n",
      "IPU available: False, using: 0 IPUs\n",
      "LOCAL_RANK: 0 - CUDA_VISIBLE_DEVICES: [0,1]\n"
     ]
    },
    {
     "data": {
      "application/vnd.jupyter.widget-view+json": {
       "model_id": "e170fd668d4647828fe392fc0d8c1f3e",
       "version_major": 2,
       "version_minor": 0
      },
      "text/plain": [
       "Predicting: 0it [00:00, ?it/s]"
      ]
     },
     "metadata": {},
     "output_type": "display_data"
    },
    {
     "name": "stderr",
     "output_type": "stream",
     "text": [
      "GPU available: True, used: True\n",
      "TPU available: False, using: 0 TPU cores\n",
      "IPU available: False, using: 0 IPUs\n",
      "LOCAL_RANK: 0 - CUDA_VISIBLE_DEVICES: [0,1]\n"
     ]
    },
    {
     "data": {
      "application/vnd.jupyter.widget-view+json": {
       "model_id": "87cd558beafa4cb695219fa60318fc59",
       "version_major": 2,
       "version_minor": 0
      },
      "text/plain": [
       "Predicting: 0it [00:00, ?it/s]"
      ]
     },
     "metadata": {},
     "output_type": "display_data"
    },
    {
     "name": "stderr",
     "output_type": "stream",
     "text": [
      "GPU available: True, used: True\n",
      "TPU available: False, using: 0 TPU cores\n",
      "IPU available: False, using: 0 IPUs\n",
      "LOCAL_RANK: 0 - CUDA_VISIBLE_DEVICES: [0,1]\n"
     ]
    },
    {
     "data": {
      "application/vnd.jupyter.widget-view+json": {
       "model_id": "2b19a287c8a74e79922fc08374e3ca99",
       "version_major": 2,
       "version_minor": 0
      },
      "text/plain": [
       "Predicting: 0it [00:00, ?it/s]"
      ]
     },
     "metadata": {},
     "output_type": "display_data"
    },
    {
     "name": "stderr",
     "output_type": "stream",
     "text": [
      "GPU available: True, used: True\n",
      "TPU available: False, using: 0 TPU cores\n",
      "IPU available: False, using: 0 IPUs\n",
      "LOCAL_RANK: 0 - CUDA_VISIBLE_DEVICES: [0,1]\n"
     ]
    },
    {
     "data": {
      "application/vnd.jupyter.widget-view+json": {
       "model_id": "c8cce510558944ba9215f578ae59581e",
       "version_major": 2,
       "version_minor": 0
      },
      "text/plain": [
       "Predicting: 0it [00:00, ?it/s]"
      ]
     },
     "metadata": {},
     "output_type": "display_data"
    },
    {
     "name": "stderr",
     "output_type": "stream",
     "text": [
      "GPU available: True, used: True\n",
      "TPU available: False, using: 0 TPU cores\n",
      "IPU available: False, using: 0 IPUs\n",
      "LOCAL_RANK: 0 - CUDA_VISIBLE_DEVICES: [0,1]\n"
     ]
    },
    {
     "data": {
      "application/vnd.jupyter.widget-view+json": {
       "model_id": "880744842110481795e4200c16570533",
       "version_major": 2,
       "version_minor": 0
      },
      "text/plain": [
       "Predicting: 0it [00:00, ?it/s]"
      ]
     },
     "metadata": {},
     "output_type": "display_data"
    },
    {
     "name": "stderr",
     "output_type": "stream",
     "text": [
      "GPU available: True, used: True\n",
      "TPU available: False, using: 0 TPU cores\n",
      "IPU available: False, using: 0 IPUs\n",
      "LOCAL_RANK: 0 - CUDA_VISIBLE_DEVICES: [0,1]\n"
     ]
    },
    {
     "data": {
      "application/vnd.jupyter.widget-view+json": {
       "model_id": "4282d16339a54268990e12ce05cb6d81",
       "version_major": 2,
       "version_minor": 0
      },
      "text/plain": [
       "Predicting: 0it [00:00, ?it/s]"
      ]
     },
     "metadata": {},
     "output_type": "display_data"
    },
    {
     "name": "stderr",
     "output_type": "stream",
     "text": [
      "GPU available: True, used: True\n",
      "TPU available: False, using: 0 TPU cores\n",
      "IPU available: False, using: 0 IPUs\n",
      "LOCAL_RANK: 0 - CUDA_VISIBLE_DEVICES: [0,1]\n"
     ]
    },
    {
     "data": {
      "application/vnd.jupyter.widget-view+json": {
       "model_id": "ed19b4db04c64fc984f89e280d621bc6",
       "version_major": 2,
       "version_minor": 0
      },
      "text/plain": [
       "Predicting: 0it [00:00, ?it/s]"
      ]
     },
     "metadata": {},
     "output_type": "display_data"
    },
    {
     "name": "stderr",
     "output_type": "stream",
     "text": [
      "GPU available: True, used: True\n",
      "TPU available: False, using: 0 TPU cores\n",
      "IPU available: False, using: 0 IPUs\n",
      "LOCAL_RANK: 0 - CUDA_VISIBLE_DEVICES: [0,1]\n"
     ]
    },
    {
     "data": {
      "application/vnd.jupyter.widget-view+json": {
       "model_id": "218a8f85c7404f0e934c6785fc9a04f7",
       "version_major": 2,
       "version_minor": 0
      },
      "text/plain": [
       "Predicting: 0it [00:00, ?it/s]"
      ]
     },
     "metadata": {},
     "output_type": "display_data"
    },
    {
     "name": "stderr",
     "output_type": "stream",
     "text": [
      "GPU available: True, used: True\n",
      "TPU available: False, using: 0 TPU cores\n",
      "IPU available: False, using: 0 IPUs\n",
      "LOCAL_RANK: 0 - CUDA_VISIBLE_DEVICES: [0,1]\n"
     ]
    },
    {
     "data": {
      "application/vnd.jupyter.widget-view+json": {
       "model_id": "e69e7b3470f14e619ebd2f5edfb5db0e",
       "version_major": 2,
       "version_minor": 0
      },
      "text/plain": [
       "Predicting: 0it [00:00, ?it/s]"
      ]
     },
     "metadata": {},
     "output_type": "display_data"
    },
    {
     "name": "stderr",
     "output_type": "stream",
     "text": [
      "GPU available: True, used: True\n",
      "TPU available: False, using: 0 TPU cores\n",
      "IPU available: False, using: 0 IPUs\n",
      "LOCAL_RANK: 0 - CUDA_VISIBLE_DEVICES: [0,1]\n"
     ]
    },
    {
     "data": {
      "application/vnd.jupyter.widget-view+json": {
       "model_id": "f1235912d7eb403c97564bc49c0acbd4",
       "version_major": 2,
       "version_minor": 0
      },
      "text/plain": [
       "Predicting: 0it [00:00, ?it/s]"
      ]
     },
     "metadata": {},
     "output_type": "display_data"
    },
    {
     "name": "stderr",
     "output_type": "stream",
     "text": [
      "GPU available: True, used: True\n",
      "TPU available: False, using: 0 TPU cores\n",
      "IPU available: False, using: 0 IPUs\n",
      "LOCAL_RANK: 0 - CUDA_VISIBLE_DEVICES: [0,1]\n"
     ]
    },
    {
     "data": {
      "application/vnd.jupyter.widget-view+json": {
       "model_id": "e863612cc5b24b259520974a91bfbeef",
       "version_major": 2,
       "version_minor": 0
      },
      "text/plain": [
       "Predicting: 0it [00:00, ?it/s]"
      ]
     },
     "metadata": {},
     "output_type": "display_data"
    },
    {
     "name": "stderr",
     "output_type": "stream",
     "text": [
      "GPU available: True, used: True\n",
      "TPU available: False, using: 0 TPU cores\n",
      "IPU available: False, using: 0 IPUs\n",
      "LOCAL_RANK: 0 - CUDA_VISIBLE_DEVICES: [0,1]\n"
     ]
    },
    {
     "data": {
      "application/vnd.jupyter.widget-view+json": {
       "model_id": "d7628caf8a4e4c049aad9c706c316ccc",
       "version_major": 2,
       "version_minor": 0
      },
      "text/plain": [
       "Predicting: 0it [00:00, ?it/s]"
      ]
     },
     "metadata": {},
     "output_type": "display_data"
    },
    {
     "name": "stderr",
     "output_type": "stream",
     "text": [
      "GPU available: True, used: True\n",
      "TPU available: False, using: 0 TPU cores\n",
      "IPU available: False, using: 0 IPUs\n",
      "LOCAL_RANK: 0 - CUDA_VISIBLE_DEVICES: [0,1]\n"
     ]
    },
    {
     "data": {
      "application/vnd.jupyter.widget-view+json": {
       "model_id": "cd5e5f8257da4455bad9fb69c8293961",
       "version_major": 2,
       "version_minor": 0
      },
      "text/plain": [
       "Predicting: 0it [00:00, ?it/s]"
      ]
     },
     "metadata": {},
     "output_type": "display_data"
    },
    {
     "name": "stderr",
     "output_type": "stream",
     "text": [
      "GPU available: True, used: True\n",
      "TPU available: False, using: 0 TPU cores\n",
      "IPU available: False, using: 0 IPUs\n",
      "LOCAL_RANK: 0 - CUDA_VISIBLE_DEVICES: [0,1]\n"
     ]
    },
    {
     "data": {
      "application/vnd.jupyter.widget-view+json": {
       "model_id": "9227648082584b829ac587a03311300e",
       "version_major": 2,
       "version_minor": 0
      },
      "text/plain": [
       "Predicting: 0it [00:00, ?it/s]"
      ]
     },
     "metadata": {},
     "output_type": "display_data"
    },
    {
     "name": "stderr",
     "output_type": "stream",
     "text": [
      "GPU available: True, used: True\n",
      "TPU available: False, using: 0 TPU cores\n",
      "IPU available: False, using: 0 IPUs\n",
      "LOCAL_RANK: 0 - CUDA_VISIBLE_DEVICES: [0,1]\n"
     ]
    },
    {
     "data": {
      "application/vnd.jupyter.widget-view+json": {
       "model_id": "859c54568946473ab1453b2fd9704719",
       "version_major": 2,
       "version_minor": 0
      },
      "text/plain": [
       "Predicting: 0it [00:00, ?it/s]"
      ]
     },
     "metadata": {},
     "output_type": "display_data"
    },
    {
     "name": "stderr",
     "output_type": "stream",
     "text": [
      "GPU available: True, used: True\n",
      "TPU available: False, using: 0 TPU cores\n",
      "IPU available: False, using: 0 IPUs\n",
      "LOCAL_RANK: 0 - CUDA_VISIBLE_DEVICES: [0,1]\n"
     ]
    },
    {
     "data": {
      "application/vnd.jupyter.widget-view+json": {
       "model_id": "a23c343dd53f4a49b1ba3bd63b3e8cad",
       "version_major": 2,
       "version_minor": 0
      },
      "text/plain": [
       "Predicting: 0it [00:00, ?it/s]"
      ]
     },
     "metadata": {},
     "output_type": "display_data"
    }
   ],
   "source": [
    "stretch_to_scatter, stretch_to_hyperplane_acc, stretch_to_hyperplane_sim, stretch_to_gt_sim = \\\n",
    "    analyze(model1, m1, model2, m2, dataset, classes_names, \n",
    "        vector_class_idx, inversion_loss, append_path, seed_type)"
   ]
  },
  {
   "cell_type": "code",
   "execution_count": 61,
   "id": "119ad9e7",
   "metadata": {},
   "outputs": [
    {
     "data": {
      "text/plain": [
       "{0.0: 1.0,\n",
       " 0.5263157894736842: 1.0,\n",
       " 1.0526315789473684: 1.0,\n",
       " 1.5789473684210527: 1.0,\n",
       " 2.1052631578947367: 1.0,\n",
       " 2.631578947368421: 1.0,\n",
       " 3.1578947368421053: 1.0,\n",
       " 3.6842105263157894: 1.0,\n",
       " 4.2105263157894735: 1.0,\n",
       " 4.7368421052631575: 1.0,\n",
       " 5.263157894736842: 1.0,\n",
       " 5.789473684210526: 1.0,\n",
       " 6.315789473684211: 1.0,\n",
       " 6.842105263157895: 1.0,\n",
       " 7.368421052631579: 1.0,\n",
       " 7.894736842105263: 1.0,\n",
       " 8.421052631578947: 1.0}"
      ]
     },
     "execution_count": 61,
     "metadata": {},
     "output_type": "execute_result"
    }
   ],
   "source": [
    "stretch_to_hyperplane_acc"
   ]
  },
  {
   "cell_type": "code",
   "execution_count": 62,
   "id": "68df5cd7",
   "metadata": {},
   "outputs": [
    {
     "data": {
      "text/plain": [
       "{0.0: 0.03899941369150065,\n",
       " 0.5263157894736842: 0.0392855698207002,\n",
       " 1.0526315789473684: 0.039543763146834714,\n",
       " 1.5789473684210527: 0.03977937985659376,\n",
       " 2.1052631578947367: 0.04006543174995268,\n",
       " 2.631578947368421: 0.04031124025255166,\n",
       " 3.1578947368421053: 0.04056126993836643,\n",
       " 3.6842105263157894: 0.0408754704842581,\n",
       " 4.2105263157894735: 0.041074878333219794,\n",
       " 4.7368421052631575: 0.04137731708037222,\n",
       " 5.263157894736842: 0.041638897579040116,\n",
       " 5.789473684210526: 0.041957391368285184,\n",
       " 6.315789473684211: 0.04220228293180438,\n",
       " 6.842105263157895: 0.04244086240108287,\n",
       " 7.368421052631579: 0.042699128683001,\n",
       " 7.894736842105263: 0.042968294991610166,\n",
       " 8.421052631578947: 0.04321833045990723}"
      ]
     },
     "execution_count": 62,
     "metadata": {},
     "output_type": "execute_result"
    }
   ],
   "source": [
    "{k:v.item() for k,v in stretch_to_hyperplane_sim.items()}"
   ]
  },
  {
   "cell_type": "code",
   "execution_count": 63,
   "id": "8c81ab6a",
   "metadata": {},
   "outputs": [
    {
     "name": "stdout",
     "output_type": "stream",
     "text": [
      "Stretch Factor: 0.0, 1.0, 0.6543107032775879\n",
      "Stretch Factor: 0.5263157894736842, 1.0, 0.6542485952377319\n",
      "Stretch Factor: 1.0526315789473684, 1.0, 0.6541894674301147\n",
      "Stretch Factor: 1.5789473684210527, 1.0, 0.6541346907615662\n",
      "Stretch Factor: 2.1052631578947367, 1.0, 0.6540709733963013\n",
      "Stretch Factor: 2.631578947368421, 1.0, 0.654007077217102\n",
      "Stretch Factor: 3.1578947368421053, 1.0, 0.6539468169212341\n",
      "Stretch Factor: 3.6842105263157894, 1.0, 0.6538934707641602\n",
      "Stretch Factor: 4.2105263157894735, 1.0, 0.653836190700531\n",
      "Stretch Factor: 4.7368421052631575, 1.0, 0.6537867784500122\n",
      "Stretch Factor: 5.263157894736842, 1.0, 0.6537283658981323\n",
      "Stretch Factor: 5.789473684210526, 1.0, 0.6536757946014404\n",
      "Stretch Factor: 6.315789473684211, 1.0, 0.6536238193511963\n",
      "Stretch Factor: 6.842105263157895, 1.0, 0.6535682082176208\n",
      "Stretch Factor: 7.368421052631579, 1.0, 0.6535227298736572\n",
      "Stretch Factor: 7.894736842105263, 1.0, 0.6534870862960815\n",
      "Stretch Factor: 8.421052631578947, 1.0, 0.6534485220909119\n"
     ]
    }
   ],
   "source": [
    "for k, v in stretch_to_scatter.items():\n",
    "    print (f'Stretch Factor: {k}, {torch.sum(v>0, dim=0)/v.shape[0]}, {torch.mean(v)}')"
   ]
  },
  {
   "cell_type": "code",
   "execution_count": 64,
   "id": "e3d6fa6e",
   "metadata": {},
   "outputs": [
    {
     "name": "stdout",
     "output_type": "stream",
     "text": [
      "Similarity of scatter to GT vector\n",
      "\n",
      "Stretch Factor: 0.0, 0.754800021648407, 0.02139897830784321\n",
      "Stretch Factor: 0.5263157894736842, 0.7559999823570251, 0.021635886281728745\n",
      "Stretch Factor: 1.0526315789473684, 0.7577999830245972, 0.02187485434114933\n",
      "Stretch Factor: 1.5789473684210527, 0.7598000168800354, 0.022121645510196686\n",
      "Stretch Factor: 2.1052631578947367, 0.7608000040054321, 0.022366546094417572\n",
      "Stretch Factor: 2.631578947368421, 0.7623999714851379, 0.0226127952337265\n",
      "Stretch Factor: 3.1578947368421053, 0.76419997215271, 0.022865403443574905\n",
      "Stretch Factor: 3.6842105263157894, 0.7657999992370605, 0.023119093850255013\n",
      "Stretch Factor: 4.2105263157894735, 0.7670000195503235, 0.02337493561208248\n",
      "Stretch Factor: 4.7368421052631575, 0.7698000073432922, 0.023634180426597595\n",
      "Stretch Factor: 5.263157894736842, 0.772599995136261, 0.02389717474579811\n",
      "Stretch Factor: 5.789473684210526, 0.7742000222206116, 0.02416219748556614\n",
      "Stretch Factor: 6.315789473684211, 0.7753999829292297, 0.024427218362689018\n",
      "Stretch Factor: 6.842105263157895, 0.777400016784668, 0.0246962271630764\n",
      "Stretch Factor: 7.368421052631579, 0.7793999910354614, 0.024966439232230186\n",
      "Stretch Factor: 7.894736842105263, 0.7820000052452087, 0.025237295776605606\n",
      "Stretch Factor: 8.421052631578947, 0.7832000255584717, 0.02551586925983429\n"
     ]
    }
   ],
   "source": [
    "print ('Similarity of scatter to GT vector')\n",
    "print ()\n",
    "\n",
    "for k, v in stretch_to_gt_sim.items():\n",
    "    print (f'Stretch Factor: {k}, {torch.sum(v>0, dim=0)/v.shape[0]}, {torch.mean(v)}')"
   ]
  },
  {
   "cell_type": "markdown",
   "id": "0f74eb6a",
   "metadata": {},
   "source": [
    "### ImageNet; m1 = robust resnet50, m2 = robust resnet18"
   ]
  },
  {
   "cell_type": "code",
   "execution_count": 60,
   "id": "5ce44009",
   "metadata": {},
   "outputs": [
    {
     "name": "stderr",
     "output_type": "stream",
     "text": [
      "Global seed set to 2\n",
      "Global seed set to 2\n"
     ]
    }
   ],
   "source": [
    "dataset = 'imagenet'\n",
    "model2 = 'resnet18'\n",
    "model1 = 'resnet50'\n",
    "batch_size = 100\n",
    "inversion_loss = 'reg_free'\n",
    "checkpoint2_path = '/NS/robustness_1/work/vnanda/CKA-Centered-Kernel-Alignment/checkpoints/imagenet/'\\\n",
    "                    'resnet18/robust/l2/eps3/iters7da_True/checkpoint_rand_seed_1.pt.best'\n",
    "checkpoint1_path = '/NS/robustness_2/work/vnanda/adv-robustness/logs/robust_imagenet/eps3/resnet-50-l2-eps3.ckpt'\n",
    "seed_type = 'super-noise'\n",
    "vector_type = 'class_logit'\n",
    "vector_class_idx = 10\n",
    "append_path = 'robl2eps3_seed_1'\n",
    "\n",
    "m1 = arch.create_model(model1, dataset, pretrained=True, \n",
    "                       checkpoint_path=checkpoint1_path, seed=seed, \n",
    "                       callback=partial(LightningWrapper, \n",
    "                                        inference_kwargs={'with_latent': True}, \n",
    "                                        dataset_name=dataset))\n",
    "m2 = arch.create_model(model2, dataset, pretrained=True, \n",
    "                       checkpoint_path=checkpoint2_path, seed=seed, \n",
    "                       callback=partial(LightningWrapper, \n",
    "                                        inference_kwargs={'with_latent': True}, \n",
    "                                        dataset_name=dataset))"
   ]
  },
  {
   "cell_type": "code",
   "execution_count": 65,
   "id": "5a0a4858",
   "metadata": {},
   "outputs": [
    {
     "name": "stderr",
     "output_type": "stream",
     "text": [
      "GPU available: True, used: True\n",
      "TPU available: False, using: 0 TPU cores\n",
      "IPU available: False, using: 0 IPUs\n",
      "LOCAL_RANK: 0 - CUDA_VISIBLE_DEVICES: [0,1]\n"
     ]
    },
    {
     "data": {
      "application/vnd.jupyter.widget-view+json": {
       "model_id": "7f1e8f32841d42ff9ed6d60952ef05bc",
       "version_major": 2,
       "version_minor": 0
      },
      "text/plain": [
       "Predicting: 0it [00:00, ?it/s]"
      ]
     },
     "metadata": {},
     "output_type": "display_data"
    },
    {
     "name": "stderr",
     "output_type": "stream",
     "text": [
      "GPU available: True, used: True\n",
      "TPU available: False, using: 0 TPU cores\n",
      "IPU available: False, using: 0 IPUs\n",
      "LOCAL_RANK: 0 - CUDA_VISIBLE_DEVICES: [0,1]\n"
     ]
    },
    {
     "data": {
      "application/vnd.jupyter.widget-view+json": {
       "model_id": "19196b97be004fd88669c72df55a45c9",
       "version_major": 2,
       "version_minor": 0
      },
      "text/plain": [
       "Predicting: 0it [00:00, ?it/s]"
      ]
     },
     "metadata": {},
     "output_type": "display_data"
    },
    {
     "name": "stderr",
     "output_type": "stream",
     "text": [
      "GPU available: True, used: True\n",
      "TPU available: False, using: 0 TPU cores\n",
      "IPU available: False, using: 0 IPUs\n",
      "LOCAL_RANK: 0 - CUDA_VISIBLE_DEVICES: [0,1]\n"
     ]
    },
    {
     "data": {
      "application/vnd.jupyter.widget-view+json": {
       "model_id": "910347aa468f4eb2952b976603f561f7",
       "version_major": 2,
       "version_minor": 0
      },
      "text/plain": [
       "Predicting: 0it [00:00, ?it/s]"
      ]
     },
     "metadata": {},
     "output_type": "display_data"
    },
    {
     "name": "stderr",
     "output_type": "stream",
     "text": [
      "GPU available: True, used: True\n",
      "TPU available: False, using: 0 TPU cores\n",
      "IPU available: False, using: 0 IPUs\n",
      "LOCAL_RANK: 0 - CUDA_VISIBLE_DEVICES: [0,1]\n"
     ]
    },
    {
     "data": {
      "application/vnd.jupyter.widget-view+json": {
       "model_id": "bed814c2cf0c477e94c93b9af87ea4b6",
       "version_major": 2,
       "version_minor": 0
      },
      "text/plain": [
       "Predicting: 0it [00:00, ?it/s]"
      ]
     },
     "metadata": {},
     "output_type": "display_data"
    },
    {
     "name": "stderr",
     "output_type": "stream",
     "text": [
      "GPU available: True, used: True\n",
      "TPU available: False, using: 0 TPU cores\n",
      "IPU available: False, using: 0 IPUs\n",
      "LOCAL_RANK: 0 - CUDA_VISIBLE_DEVICES: [0,1]\n"
     ]
    },
    {
     "data": {
      "application/vnd.jupyter.widget-view+json": {
       "model_id": "e34554c38e584af8974a49aca0e9ef5a",
       "version_major": 2,
       "version_minor": 0
      },
      "text/plain": [
       "Predicting: 0it [00:00, ?it/s]"
      ]
     },
     "metadata": {},
     "output_type": "display_data"
    },
    {
     "name": "stderr",
     "output_type": "stream",
     "text": [
      "GPU available: True, used: True\n",
      "TPU available: False, using: 0 TPU cores\n",
      "IPU available: False, using: 0 IPUs\n",
      "LOCAL_RANK: 0 - CUDA_VISIBLE_DEVICES: [0,1]\n"
     ]
    },
    {
     "data": {
      "application/vnd.jupyter.widget-view+json": {
       "model_id": "141771b74e904ce88f1f336d9682982e",
       "version_major": 2,
       "version_minor": 0
      },
      "text/plain": [
       "Predicting: 0it [00:00, ?it/s]"
      ]
     },
     "metadata": {},
     "output_type": "display_data"
    },
    {
     "name": "stderr",
     "output_type": "stream",
     "text": [
      "GPU available: True, used: True\n",
      "TPU available: False, using: 0 TPU cores\n",
      "IPU available: False, using: 0 IPUs\n",
      "LOCAL_RANK: 0 - CUDA_VISIBLE_DEVICES: [0,1]\n"
     ]
    },
    {
     "data": {
      "application/vnd.jupyter.widget-view+json": {
       "model_id": "df409b1001aa49eb8900712094781f2e",
       "version_major": 2,
       "version_minor": 0
      },
      "text/plain": [
       "Predicting: 0it [00:00, ?it/s]"
      ]
     },
     "metadata": {},
     "output_type": "display_data"
    },
    {
     "name": "stderr",
     "output_type": "stream",
     "text": [
      "GPU available: True, used: True\n",
      "TPU available: False, using: 0 TPU cores\n",
      "IPU available: False, using: 0 IPUs\n",
      "LOCAL_RANK: 0 - CUDA_VISIBLE_DEVICES: [0,1]\n"
     ]
    },
    {
     "data": {
      "application/vnd.jupyter.widget-view+json": {
       "model_id": "d322e72d8d0b4c219bae5539dbf0f1b8",
       "version_major": 2,
       "version_minor": 0
      },
      "text/plain": [
       "Predicting: 0it [00:00, ?it/s]"
      ]
     },
     "metadata": {},
     "output_type": "display_data"
    },
    {
     "name": "stderr",
     "output_type": "stream",
     "text": [
      "GPU available: True, used: True\n",
      "TPU available: False, using: 0 TPU cores\n",
      "IPU available: False, using: 0 IPUs\n",
      "LOCAL_RANK: 0 - CUDA_VISIBLE_DEVICES: [0,1]\n"
     ]
    },
    {
     "data": {
      "application/vnd.jupyter.widget-view+json": {
       "model_id": "b9ec03e6cd2c43df9ced8209e2a1e92e",
       "version_major": 2,
       "version_minor": 0
      },
      "text/plain": [
       "Predicting: 0it [00:00, ?it/s]"
      ]
     },
     "metadata": {},
     "output_type": "display_data"
    },
    {
     "name": "stderr",
     "output_type": "stream",
     "text": [
      "GPU available: True, used: True\n",
      "TPU available: False, using: 0 TPU cores\n",
      "IPU available: False, using: 0 IPUs\n",
      "LOCAL_RANK: 0 - CUDA_VISIBLE_DEVICES: [0,1]\n"
     ]
    },
    {
     "data": {
      "application/vnd.jupyter.widget-view+json": {
       "model_id": "3fdaad2b13014573a5692d2c795b6640",
       "version_major": 2,
       "version_minor": 0
      },
      "text/plain": [
       "Predicting: 0it [00:00, ?it/s]"
      ]
     },
     "metadata": {},
     "output_type": "display_data"
    },
    {
     "name": "stderr",
     "output_type": "stream",
     "text": [
      "GPU available: True, used: True\n",
      "TPU available: False, using: 0 TPU cores\n",
      "IPU available: False, using: 0 IPUs\n",
      "LOCAL_RANK: 0 - CUDA_VISIBLE_DEVICES: [0,1]\n"
     ]
    },
    {
     "data": {
      "application/vnd.jupyter.widget-view+json": {
       "model_id": "d99f4ad3ad2e4bbd8320d70d23f5e617",
       "version_major": 2,
       "version_minor": 0
      },
      "text/plain": [
       "Predicting: 0it [00:00, ?it/s]"
      ]
     },
     "metadata": {},
     "output_type": "display_data"
    },
    {
     "name": "stderr",
     "output_type": "stream",
     "text": [
      "GPU available: True, used: True\n",
      "TPU available: False, using: 0 TPU cores\n",
      "IPU available: False, using: 0 IPUs\n",
      "LOCAL_RANK: 0 - CUDA_VISIBLE_DEVICES: [0,1]\n"
     ]
    },
    {
     "data": {
      "application/vnd.jupyter.widget-view+json": {
       "model_id": "7aeeb2ec8c6d42859aea5020ec3cbc73",
       "version_major": 2,
       "version_minor": 0
      },
      "text/plain": [
       "Predicting: 0it [00:00, ?it/s]"
      ]
     },
     "metadata": {},
     "output_type": "display_data"
    },
    {
     "name": "stderr",
     "output_type": "stream",
     "text": [
      "GPU available: True, used: True\n",
      "TPU available: False, using: 0 TPU cores\n",
      "IPU available: False, using: 0 IPUs\n",
      "LOCAL_RANK: 0 - CUDA_VISIBLE_DEVICES: [0,1]\n"
     ]
    },
    {
     "data": {
      "application/vnd.jupyter.widget-view+json": {
       "model_id": "aab8301ba33e43f3b785ef22934a4bbc",
       "version_major": 2,
       "version_minor": 0
      },
      "text/plain": [
       "Predicting: 0it [00:00, ?it/s]"
      ]
     },
     "metadata": {},
     "output_type": "display_data"
    },
    {
     "name": "stderr",
     "output_type": "stream",
     "text": [
      "GPU available: True, used: True\n",
      "TPU available: False, using: 0 TPU cores\n",
      "IPU available: False, using: 0 IPUs\n",
      "LOCAL_RANK: 0 - CUDA_VISIBLE_DEVICES: [0,1]\n"
     ]
    },
    {
     "data": {
      "application/vnd.jupyter.widget-view+json": {
       "model_id": "08e93270595d4a7d861561577a7a302c",
       "version_major": 2,
       "version_minor": 0
      },
      "text/plain": [
       "Predicting: 0it [00:00, ?it/s]"
      ]
     },
     "metadata": {},
     "output_type": "display_data"
    },
    {
     "name": "stderr",
     "output_type": "stream",
     "text": [
      "GPU available: True, used: True\n",
      "TPU available: False, using: 0 TPU cores\n",
      "IPU available: False, using: 0 IPUs\n",
      "LOCAL_RANK: 0 - CUDA_VISIBLE_DEVICES: [0,1]\n"
     ]
    },
    {
     "data": {
      "application/vnd.jupyter.widget-view+json": {
       "model_id": "d97d33cac6014f45b9788c6005f8699d",
       "version_major": 2,
       "version_minor": 0
      },
      "text/plain": [
       "Predicting: 0it [00:00, ?it/s]"
      ]
     },
     "metadata": {},
     "output_type": "display_data"
    },
    {
     "name": "stderr",
     "output_type": "stream",
     "text": [
      "GPU available: True, used: True\n",
      "TPU available: False, using: 0 TPU cores\n",
      "IPU available: False, using: 0 IPUs\n",
      "LOCAL_RANK: 0 - CUDA_VISIBLE_DEVICES: [0,1]\n"
     ]
    },
    {
     "data": {
      "application/vnd.jupyter.widget-view+json": {
       "model_id": "ca320a52c9cc414fad400f76f06e57cd",
       "version_major": 2,
       "version_minor": 0
      },
      "text/plain": [
       "Predicting: 0it [00:00, ?it/s]"
      ]
     },
     "metadata": {},
     "output_type": "display_data"
    },
    {
     "name": "stderr",
     "output_type": "stream",
     "text": [
      "GPU available: True, used: True\n",
      "TPU available: False, using: 0 TPU cores\n",
      "IPU available: False, using: 0 IPUs\n",
      "LOCAL_RANK: 0 - CUDA_VISIBLE_DEVICES: [0,1]\n"
     ]
    },
    {
     "data": {
      "application/vnd.jupyter.widget-view+json": {
       "model_id": "b191c38f096c410f8b1870f2e706533a",
       "version_major": 2,
       "version_minor": 0
      },
      "text/plain": [
       "Predicting: 0it [00:00, ?it/s]"
      ]
     },
     "metadata": {},
     "output_type": "display_data"
    },
    {
     "name": "stderr",
     "output_type": "stream",
     "text": [
      "GPU available: True, used: True\n",
      "TPU available: False, using: 0 TPU cores\n",
      "IPU available: False, using: 0 IPUs\n",
      "LOCAL_RANK: 0 - CUDA_VISIBLE_DEVICES: [0,1]\n"
     ]
    },
    {
     "data": {
      "application/vnd.jupyter.widget-view+json": {
       "model_id": "bb792ae6be0f445caf31bc69ebded891",
       "version_major": 2,
       "version_minor": 0
      },
      "text/plain": [
       "Predicting: 0it [00:00, ?it/s]"
      ]
     },
     "metadata": {},
     "output_type": "display_data"
    },
    {
     "name": "stderr",
     "output_type": "stream",
     "text": [
      "GPU available: True, used: True\n",
      "TPU available: False, using: 0 TPU cores\n",
      "IPU available: False, using: 0 IPUs\n",
      "LOCAL_RANK: 0 - CUDA_VISIBLE_DEVICES: [0,1]\n"
     ]
    },
    {
     "data": {
      "application/vnd.jupyter.widget-view+json": {
       "model_id": "a09a02b4f5984ae4b495b748e713990d",
       "version_major": 2,
       "version_minor": 0
      },
      "text/plain": [
       "Predicting: 0it [00:00, ?it/s]"
      ]
     },
     "metadata": {},
     "output_type": "display_data"
    },
    {
     "name": "stderr",
     "output_type": "stream",
     "text": [
      "GPU available: True, used: True\n",
      "TPU available: False, using: 0 TPU cores\n",
      "IPU available: False, using: 0 IPUs\n",
      "LOCAL_RANK: 0 - CUDA_VISIBLE_DEVICES: [0,1]\n"
     ]
    },
    {
     "data": {
      "application/vnd.jupyter.widget-view+json": {
       "model_id": "06087c7135624d50ad9c5e2e9ad433dd",
       "version_major": 2,
       "version_minor": 0
      },
      "text/plain": [
       "Predicting: 0it [00:00, ?it/s]"
      ]
     },
     "metadata": {},
     "output_type": "display_data"
    },
    {
     "name": "stderr",
     "output_type": "stream",
     "text": [
      "GPU available: True, used: True\n",
      "TPU available: False, using: 0 TPU cores\n",
      "IPU available: False, using: 0 IPUs\n",
      "LOCAL_RANK: 0 - CUDA_VISIBLE_DEVICES: [0,1]\n"
     ]
    },
    {
     "data": {
      "application/vnd.jupyter.widget-view+json": {
       "model_id": "3e33f206057e4dcf9d6f393037b55c1e",
       "version_major": 2,
       "version_minor": 0
      },
      "text/plain": [
       "Predicting: 0it [00:00, ?it/s]"
      ]
     },
     "metadata": {},
     "output_type": "display_data"
    },
    {
     "name": "stderr",
     "output_type": "stream",
     "text": [
      "GPU available: True, used: True\n",
      "TPU available: False, using: 0 TPU cores\n",
      "IPU available: False, using: 0 IPUs\n",
      "LOCAL_RANK: 0 - CUDA_VISIBLE_DEVICES: [0,1]\n"
     ]
    },
    {
     "data": {
      "application/vnd.jupyter.widget-view+json": {
       "model_id": "41a80661a15c426b81232eb0c6b81cba",
       "version_major": 2,
       "version_minor": 0
      },
      "text/plain": [
       "Predicting: 0it [00:00, ?it/s]"
      ]
     },
     "metadata": {},
     "output_type": "display_data"
    }
   ],
   "source": [
    "stretch_to_scatter, stretch_to_hyperplane_acc, stretch_to_hyperplane_sim, stretch_to_gt_sim = \\\n",
    "    analyze(model1, m1, model2, m2, dataset, classes_names, \n",
    "        vector_class_idx, inversion_loss, append_path, seed_type)"
   ]
  },
  {
   "cell_type": "code",
   "execution_count": 69,
   "id": "b05405df",
   "metadata": {},
   "outputs": [
    {
     "name": "stdout",
     "output_type": "stream",
     "text": [
      "How accurately can hyperplane separate stretched and original reps\n",
      "0.0: 1.0\n",
      "0.5263157894736842: 1.0\n",
      "1.0526315789473684: 1.0\n",
      "1.5789473684210527: 1.0\n",
      "2.1052631578947367: 1.0\n",
      "2.631578947368421: 1.0\n",
      "3.1578947368421053: 1.0\n",
      "3.6842105263157894: 1.0\n",
      "4.2105263157894735: 1.0\n",
      "4.7368421052631575: 1.0\n",
      "5.263157894736842: 1.0\n",
      "\n",
      "How similar is hyperplane to GT vector\n",
      "\n",
      "0.0: -0.01967297677004193\n",
      "0.5263157894736842: -0.01963692501719347\n",
      "1.0526315789473684: -0.019650078667859828\n",
      "1.5789473684210527: -0.019655628905798774\n",
      "2.1052631578947367: -0.019631247486825557\n",
      "2.631578947368421: -0.019618786273732182\n",
      "3.1578947368421053: -0.01961803917251125\n",
      "3.6842105263157894: -0.019629549922942798\n",
      "4.2105263157894735: -0.01961142705702466\n",
      "4.7368421052631575: -0.01961151834290591\n",
      "5.263157894736842: -0.01961854825069746\n",
      "\n",
      "Things scattered in the same direction\n",
      "\n",
      "Stretch Factor: 0.0, 1.0, 0.5288012623786926\n",
      "Stretch Factor: 0.5263157894736842, 1.0, 0.52903151512146\n",
      "Stretch Factor: 1.0526315789473684, 1.0, 0.5292608737945557\n",
      "Stretch Factor: 1.5789473684210527, 1.0, 0.529496967792511\n",
      "Stretch Factor: 2.1052631578947367, 1.0, 0.52973473072052\n",
      "Stretch Factor: 2.631578947368421, 1.0, 0.5299766063690186\n",
      "Stretch Factor: 3.1578947368421053, 1.0, 0.5302243828773499\n",
      "Stretch Factor: 3.6842105263157894, 1.0, 0.530471920967102\n",
      "Stretch Factor: 4.2105263157894735, 1.0, 0.5307275652885437\n",
      "Stretch Factor: 4.7368421052631575, 1.0, 0.5309842824935913\n",
      "Stretch Factor: 5.263157894736842, 1.0, 0.5312471985816956\n",
      "\n",
      "Similarity of scatter to GT vector\n",
      "\n",
      "Stretch Factor: 0.0, 0.4147999882698059, -0.021734630689024925\n",
      "Stretch Factor: 0.5263157894736842, 0.41519999504089355, -0.02168731763958931\n",
      "Stretch Factor: 1.0526315789473684, 0.415800005197525, -0.021639615297317505\n",
      "Stretch Factor: 1.5789473684210527, 0.4156000018119812, -0.021593520417809486\n",
      "Stretch Factor: 2.1052631578947367, 0.4153999984264374, -0.021548224613070488\n",
      "Stretch Factor: 2.631578947368421, 0.4163999855518341, -0.021502548828721046\n",
      "Stretch Factor: 3.1578947368421053, 0.41620001196861267, -0.021457025781273842\n",
      "Stretch Factor: 3.6842105263157894, 0.41679999232292175, -0.021411580964922905\n",
      "Stretch Factor: 4.2105263157894735, 0.41679999232292175, -0.021366257220506668\n",
      "Stretch Factor: 4.7368421052631575, 0.4174000024795532, -0.021321529522538185\n",
      "Stretch Factor: 5.263157894736842, 0.41780000925064087, -0.021279355511069298\n"
     ]
    }
   ],
   "source": [
    "print ('How accurately can hyperplane separate stretched and original reps')\n",
    "print ('\\n'.join([f'{k}: {v}' for k,v in stretch_to_hyperplane_acc.items()]))\n",
    "print ()\n",
    "print ('How similar is hyperplane to GT vector')\n",
    "print ()\n",
    "print ('\\n'.join([f'{k}: {v.item()}' for k,v in stretch_to_hyperplane_sim.items()]))\n",
    "print ()\n",
    "print ('Things scattered in the same direction')\n",
    "print ()\n",
    "for k, v in stretch_to_scatter.items():\n",
    "    print (f'Stretch Factor: {k}, {torch.sum(v>0, dim=0)/v.shape[0]}, {torch.mean(v)}')\n",
    "print ()\n",
    "print ('Similarity of scatter to GT vector')\n",
    "print ()\n",
    "for k, v in stretch_to_gt_sim.items():\n",
    "    print (f'Stretch Factor: {k}, {torch.sum(v>0, dim=0)/v.shape[0]}, {torch.mean(v)}')"
   ]
  },
  {
   "cell_type": "markdown",
   "id": "35b83beb",
   "metadata": {},
   "source": [
    "### ImageNet; m1 = resnet18, m2 = resnet50"
   ]
  },
  {
   "cell_type": "code",
   "execution_count": 71,
   "id": "5884687c",
   "metadata": {},
   "outputs": [
    {
     "name": "stderr",
     "output_type": "stream",
     "text": [
      "Global seed set to 2\n",
      "Global seed set to 2\n"
     ]
    }
   ],
   "source": [
    "dataset = 'imagenet'\n",
    "model1 = 'resnet18'\n",
    "model2 = 'resnet50'\n",
    "batch_size = 100\n",
    "inversion_loss = 'reg_free'\n",
    "checkpoint1_path = '/NS/robustness_1/work/vnanda/CKA-Centered-Kernel-Alignment/checkpoints/imagenet/'\\\n",
    "                    'resnet18/robust/l2/eps3/iters7da_True/checkpoint_rand_seed_1.pt.best'\n",
    "checkpoint2_path = '/NS/robustness_2/work/vnanda/adv-robustness/logs/robust_imagenet/eps3/resnet-50-l2-eps3.ckpt'\n",
    "seed_type = 'super-noise'\n",
    "vector_type = 'class_logit'\n",
    "vector_class_idx = 10\n",
    "append_path = 'robl2eps3_seed_1_testing'\n",
    "\n",
    "m1 = arch.create_model(model1, dataset, pretrained=True, \n",
    "                       checkpoint_path=checkpoint1_path, seed=seed, \n",
    "                       callback=partial(LightningWrapper, \n",
    "                                        inference_kwargs={'with_latent': True}, \n",
    "                                        dataset_name=dataset))\n",
    "m2 = arch.create_model(model2, dataset, pretrained=True, \n",
    "                       checkpoint_path=checkpoint2_path, seed=seed, \n",
    "                       callback=partial(LightningWrapper, \n",
    "                                        inference_kwargs={'with_latent': True}, \n",
    "                                        dataset_name=dataset))"
   ]
  },
  {
   "cell_type": "code",
   "execution_count": 76,
   "id": "eab43778",
   "metadata": {
    "scrolled": true
   },
   "outputs": [
    {
     "name": "stderr",
     "output_type": "stream",
     "text": [
      "GPU available: True, used: True\n",
      "TPU available: False, using: 0 TPU cores\n",
      "IPU available: False, using: 0 IPUs\n",
      "LOCAL_RANK: 0 - CUDA_VISIBLE_DEVICES: [0,1]\n"
     ]
    },
    {
     "data": {
      "application/vnd.jupyter.widget-view+json": {
       "model_id": "522363bb733b45168b965bcd7107d5a8",
       "version_major": 2,
       "version_minor": 0
      },
      "text/plain": [
       "Predicting: 0it [00:00, ?it/s]"
      ]
     },
     "metadata": {},
     "output_type": "display_data"
    },
    {
     "name": "stderr",
     "output_type": "stream",
     "text": [
      "GPU available: True, used: True\n",
      "TPU available: False, using: 0 TPU cores\n",
      "IPU available: False, using: 0 IPUs\n",
      "LOCAL_RANK: 0 - CUDA_VISIBLE_DEVICES: [0,1]\n"
     ]
    },
    {
     "data": {
      "application/vnd.jupyter.widget-view+json": {
       "model_id": "3f4adde1422e45809abd764da9f76653",
       "version_major": 2,
       "version_minor": 0
      },
      "text/plain": [
       "Predicting: 0it [00:00, ?it/s]"
      ]
     },
     "metadata": {},
     "output_type": "display_data"
    },
    {
     "name": "stderr",
     "output_type": "stream",
     "text": [
      "GPU available: True, used: True\n",
      "TPU available: False, using: 0 TPU cores\n",
      "IPU available: False, using: 0 IPUs\n",
      "LOCAL_RANK: 0 - CUDA_VISIBLE_DEVICES: [0,1]\n"
     ]
    },
    {
     "data": {
      "application/vnd.jupyter.widget-view+json": {
       "model_id": "db3ad16ed02c4eec8d8250d481088338",
       "version_major": 2,
       "version_minor": 0
      },
      "text/plain": [
       "Predicting: 0it [00:00, ?it/s]"
      ]
     },
     "metadata": {},
     "output_type": "display_data"
    },
    {
     "name": "stderr",
     "output_type": "stream",
     "text": [
      "GPU available: True, used: True\n",
      "TPU available: False, using: 0 TPU cores\n",
      "IPU available: False, using: 0 IPUs\n",
      "LOCAL_RANK: 0 - CUDA_VISIBLE_DEVICES: [0,1]\n"
     ]
    },
    {
     "data": {
      "application/vnd.jupyter.widget-view+json": {
       "model_id": "13fb4bddeb4b4a69ab3471f4432070c7",
       "version_major": 2,
       "version_minor": 0
      },
      "text/plain": [
       "Predicting: 0it [00:00, ?it/s]"
      ]
     },
     "metadata": {},
     "output_type": "display_data"
    },
    {
     "name": "stderr",
     "output_type": "stream",
     "text": [
      "GPU available: True, used: True\n",
      "TPU available: False, using: 0 TPU cores\n",
      "IPU available: False, using: 0 IPUs\n",
      "LOCAL_RANK: 0 - CUDA_VISIBLE_DEVICES: [0,1]\n"
     ]
    },
    {
     "data": {
      "application/vnd.jupyter.widget-view+json": {
       "model_id": "29a69501da8541f8a022a33d4396e815",
       "version_major": 2,
       "version_minor": 0
      },
      "text/plain": [
       "Predicting: 0it [00:00, ?it/s]"
      ]
     },
     "metadata": {},
     "output_type": "display_data"
    },
    {
     "name": "stderr",
     "output_type": "stream",
     "text": [
      "GPU available: True, used: True\n",
      "TPU available: False, using: 0 TPU cores\n",
      "IPU available: False, using: 0 IPUs\n",
      "LOCAL_RANK: 0 - CUDA_VISIBLE_DEVICES: [0,1]\n"
     ]
    },
    {
     "data": {
      "application/vnd.jupyter.widget-view+json": {
       "model_id": "493ac84fa5c4489396f844d89b4745bb",
       "version_major": 2,
       "version_minor": 0
      },
      "text/plain": [
       "Predicting: 0it [00:00, ?it/s]"
      ]
     },
     "metadata": {},
     "output_type": "display_data"
    },
    {
     "name": "stderr",
     "output_type": "stream",
     "text": [
      "GPU available: True, used: True\n",
      "TPU available: False, using: 0 TPU cores\n",
      "IPU available: False, using: 0 IPUs\n",
      "LOCAL_RANK: 0 - CUDA_VISIBLE_DEVICES: [0,1]\n"
     ]
    },
    {
     "data": {
      "application/vnd.jupyter.widget-view+json": {
       "model_id": "ea3a6e48feb946049dee82d7e453f8b2",
       "version_major": 2,
       "version_minor": 0
      },
      "text/plain": [
       "Predicting: 0it [00:00, ?it/s]"
      ]
     },
     "metadata": {},
     "output_type": "display_data"
    },
    {
     "name": "stderr",
     "output_type": "stream",
     "text": [
      "GPU available: True, used: True\n",
      "TPU available: False, using: 0 TPU cores\n",
      "IPU available: False, using: 0 IPUs\n",
      "LOCAL_RANK: 0 - CUDA_VISIBLE_DEVICES: [0,1]\n"
     ]
    },
    {
     "data": {
      "application/vnd.jupyter.widget-view+json": {
       "model_id": "48854bcc176d4e129dd59460c52afc30",
       "version_major": 2,
       "version_minor": 0
      },
      "text/plain": [
       "Predicting: 0it [00:00, ?it/s]"
      ]
     },
     "metadata": {},
     "output_type": "display_data"
    },
    {
     "name": "stderr",
     "output_type": "stream",
     "text": [
      "GPU available: True, used: True\n",
      "TPU available: False, using: 0 TPU cores\n",
      "IPU available: False, using: 0 IPUs\n",
      "LOCAL_RANK: 0 - CUDA_VISIBLE_DEVICES: [0,1]\n"
     ]
    },
    {
     "data": {
      "application/vnd.jupyter.widget-view+json": {
       "model_id": "a7103805ff104b2492ad3852a49b8409",
       "version_major": 2,
       "version_minor": 0
      },
      "text/plain": [
       "Predicting: 0it [00:00, ?it/s]"
      ]
     },
     "metadata": {},
     "output_type": "display_data"
    },
    {
     "name": "stderr",
     "output_type": "stream",
     "text": [
      "GPU available: True, used: True\n",
      "TPU available: False, using: 0 TPU cores\n",
      "IPU available: False, using: 0 IPUs\n",
      "LOCAL_RANK: 0 - CUDA_VISIBLE_DEVICES: [0,1]\n"
     ]
    },
    {
     "data": {
      "application/vnd.jupyter.widget-view+json": {
       "model_id": "d18ecc9d0f4146f4bcde8beeba4ad391",
       "version_major": 2,
       "version_minor": 0
      },
      "text/plain": [
       "Predicting: 0it [00:00, ?it/s]"
      ]
     },
     "metadata": {},
     "output_type": "display_data"
    },
    {
     "name": "stderr",
     "output_type": "stream",
     "text": [
      "GPU available: True, used: True\n",
      "TPU available: False, using: 0 TPU cores\n",
      "IPU available: False, using: 0 IPUs\n",
      "LOCAL_RANK: 0 - CUDA_VISIBLE_DEVICES: [0,1]\n"
     ]
    },
    {
     "data": {
      "application/vnd.jupyter.widget-view+json": {
       "model_id": "26d4292de8a743a2b893490a38d3e9f5",
       "version_major": 2,
       "version_minor": 0
      },
      "text/plain": [
       "Predicting: 0it [00:00, ?it/s]"
      ]
     },
     "metadata": {},
     "output_type": "display_data"
    },
    {
     "name": "stderr",
     "output_type": "stream",
     "text": [
      "GPU available: True, used: True\n",
      "TPU available: False, using: 0 TPU cores\n",
      "IPU available: False, using: 0 IPUs\n",
      "LOCAL_RANK: 0 - CUDA_VISIBLE_DEVICES: [0,1]\n"
     ]
    },
    {
     "data": {
      "application/vnd.jupyter.widget-view+json": {
       "model_id": "70df234ac7994add81cb8c10cb3664bb",
       "version_major": 2,
       "version_minor": 0
      },
      "text/plain": [
       "Predicting: 0it [00:00, ?it/s]"
      ]
     },
     "metadata": {},
     "output_type": "display_data"
    },
    {
     "name": "stderr",
     "output_type": "stream",
     "text": [
      "GPU available: True, used: True\n",
      "TPU available: False, using: 0 TPU cores\n",
      "IPU available: False, using: 0 IPUs\n",
      "LOCAL_RANK: 0 - CUDA_VISIBLE_DEVICES: [0,1]\n"
     ]
    },
    {
     "data": {
      "application/vnd.jupyter.widget-view+json": {
       "model_id": "d8c25b7c83b64ecf858e9c4903e01aca",
       "version_major": 2,
       "version_minor": 0
      },
      "text/plain": [
       "Predicting: 0it [00:00, ?it/s]"
      ]
     },
     "metadata": {},
     "output_type": "display_data"
    },
    {
     "name": "stderr",
     "output_type": "stream",
     "text": [
      "GPU available: True, used: True\n",
      "TPU available: False, using: 0 TPU cores\n",
      "IPU available: False, using: 0 IPUs\n",
      "LOCAL_RANK: 0 - CUDA_VISIBLE_DEVICES: [0,1]\n"
     ]
    },
    {
     "data": {
      "application/vnd.jupyter.widget-view+json": {
       "model_id": "081ba86f5d5f4e9fa916e7da2d765c33",
       "version_major": 2,
       "version_minor": 0
      },
      "text/plain": [
       "Predicting: 0it [00:00, ?it/s]"
      ]
     },
     "metadata": {},
     "output_type": "display_data"
    },
    {
     "name": "stderr",
     "output_type": "stream",
     "text": [
      "GPU available: True, used: True\n",
      "TPU available: False, using: 0 TPU cores\n",
      "IPU available: False, using: 0 IPUs\n",
      "LOCAL_RANK: 0 - CUDA_VISIBLE_DEVICES: [0,1]\n"
     ]
    },
    {
     "data": {
      "application/vnd.jupyter.widget-view+json": {
       "model_id": "b386671cd1ff48aca95491ab7d253757",
       "version_major": 2,
       "version_minor": 0
      },
      "text/plain": [
       "Predicting: 0it [00:00, ?it/s]"
      ]
     },
     "metadata": {},
     "output_type": "display_data"
    },
    {
     "name": "stderr",
     "output_type": "stream",
     "text": [
      "GPU available: True, used: True\n",
      "TPU available: False, using: 0 TPU cores\n",
      "IPU available: False, using: 0 IPUs\n",
      "LOCAL_RANK: 0 - CUDA_VISIBLE_DEVICES: [0,1]\n"
     ]
    },
    {
     "data": {
      "application/vnd.jupyter.widget-view+json": {
       "model_id": "a915df7136b9428ebf6ca7a0b57c069d",
       "version_major": 2,
       "version_minor": 0
      },
      "text/plain": [
       "Predicting: 0it [00:00, ?it/s]"
      ]
     },
     "metadata": {},
     "output_type": "display_data"
    }
   ],
   "source": [
    "stretch_to_scatter, stretch_to_hyperplane_acc, stretch_to_hyperplane_sim, stretch_to_gt_sim = \\\n",
    "    analyze(model1, m1, model2, m2, dataset, classes_names, \n",
    "        vector_class_idx, inversion_loss, append_path, seed_type)"
   ]
  },
  {
   "cell_type": "code",
   "execution_count": 78,
   "id": "6e695b7c",
   "metadata": {},
   "outputs": [
    {
     "name": "stdout",
     "output_type": "stream",
     "text": [
      "How accurately can hyperplane separate stretched and original reps\n",
      "0.0: 1.0\n",
      "0.5263157894736842: 1.0\n",
      "1.0526315789473684: 1.0\n",
      "1.5789473684210527: 1.0\n",
      "2.1052631578947367: 1.0\n",
      "2.631578947368421: 1.0\n",
      "3.1578947368421053: 1.0\n",
      "3.6842105263157894: 1.0\n",
      "\n",
      "How similar is hyperplane to GT vector\n",
      "\n",
      "0.0: 0.021490992766252996\n",
      "0.5263157894736842: 0.03527659283711103\n",
      "1.0526315789473684: 0.05085215806801147\n",
      "1.5789473684210527: 0.07167085266733872\n",
      "2.1052631578947367: 0.09744106817350189\n",
      "2.631578947368421: 0.11626955907408403\n",
      "3.1578947368421053: 0.1348373817960462\n",
      "3.6842105263157894: 0.15781920855419831\n",
      "\n",
      "Things scattered in the same direction\n",
      "\n",
      "Stretch Factor: 0.0, 1.0, 0.28198111057281494\n",
      "Stretch Factor: 0.5263157894736842, 1.0, 0.2800266444683075\n",
      "Stretch Factor: 1.0526315789473684, 1.0, 0.28354009985923767\n",
      "Stretch Factor: 1.5789473684210527, 1.0, 0.28180569410324097\n",
      "Stretch Factor: 2.1052631578947367, 1.0, 0.2884436547756195\n",
      "Stretch Factor: 2.631578947368421, 1.0, 0.2873922884464264\n",
      "Stretch Factor: 3.1578947368421053, 0.9997979998588562, 0.2869396209716797\n",
      "Stretch Factor: 3.6842105263157894, 1.0, 0.28340891003608704\n",
      "\n",
      "Similarity of scatter to GT vector\n",
      "\n",
      "Stretch Factor: 0.0, 0.6600000262260437, 0.011393281631171703\n",
      "Stretch Factor: 0.5263157894736842, 0.7400000095367432, 0.020384015515446663\n",
      "Stretch Factor: 1.0526315789473684, 0.7400000095367432, 0.025946585461497307\n",
      "Stretch Factor: 1.5789473684210527, 0.7400000095367432, 0.033743735402822495\n",
      "Stretch Factor: 2.1052631578947367, 0.8199999928474426, 0.04338325560092926\n",
      "Stretch Factor: 2.631578947368421, 0.8799999952316284, 0.0519598163664341\n",
      "Stretch Factor: 3.1578947368421053, 0.8999999761581421, 0.062309928238391876\n",
      "Stretch Factor: 3.6842105263157894, 0.949999988079071, 0.07459865510463715\n"
     ]
    }
   ],
   "source": [
    "print ('How accurately can hyperplane separate stretched and original reps')\n",
    "print ('\\n'.join([f'{k}: {v}' for k,v in stretch_to_hyperplane_acc.items()]))\n",
    "print ()\n",
    "print ('How similar is hyperplane to GT vector')\n",
    "print ()\n",
    "print ('\\n'.join([f'{k}: {v.item()}' for k,v in stretch_to_hyperplane_sim.items()]))\n",
    "print ()\n",
    "print ('Things scattered in the same direction')\n",
    "print ()\n",
    "for k, v in stretch_to_scatter.items():\n",
    "    print (f'Stretch Factor: {k}, {torch.sum(v>0, dim=0)/v.shape[0]}, {torch.mean(v)}')\n",
    "print ()\n",
    "print ('Similarity of scatter to GT vector')\n",
    "print ()\n",
    "for k, v in stretch_to_gt_sim.items():\n",
    "    print (f'Stretch Factor: {k}, {torch.sum(v>0, dim=0)/v.shape[0]}, {torch.mean(v)}')"
   ]
  },
  {
   "cell_type": "markdown",
   "id": "7bdd101b",
   "metadata": {},
   "source": [
    "### ImageNet; m1 = resnet50, m2 = resnet18"
   ]
  },
  {
   "cell_type": "code",
   "execution_count": 77,
   "id": "72b023b2",
   "metadata": {},
   "outputs": [
    {
     "name": "stderr",
     "output_type": "stream",
     "text": [
      "Global seed set to 2\n",
      "Global seed set to 2\n"
     ]
    }
   ],
   "source": [
    "dataset = 'imagenet'\n",
    "model1 = 'resnet50'\n",
    "model2 = 'resnet18'\n",
    "batch_size = 100\n",
    "inversion_loss = 'reg_free'\n",
    "checkpoint2_path = '/NS/robustness_1/work/vnanda/CKA-Centered-Kernel-Alignment/checkpoints/imagenet/'\\\n",
    "                    'resnet18/robust/l2/eps3/iters7da_True/checkpoint_rand_seed_1.pt.best'\n",
    "checkpoint1_path = '/NS/robustness_2/work/vnanda/adv-robustness/logs/robust_imagenet/eps3/resnet-50-l2-eps3.ckpt'\n",
    "seed_type = 'super-noise'\n",
    "vector_type = 'class_logit'\n",
    "vector_class_idx = 10\n",
    "append_path = 'robl2eps3_seed_1_testing'\n",
    "\n",
    "m1 = arch.create_model(model1, dataset, pretrained=True, \n",
    "                       checkpoint_path=checkpoint1_path, seed=seed, \n",
    "                       callback=partial(LightningWrapper, \n",
    "                                        inference_kwargs={'with_latent': True}, \n",
    "                                        dataset_name=dataset))\n",
    "m2 = arch.create_model(model2, dataset, pretrained=True, \n",
    "                       checkpoint_path=checkpoint2_path, seed=seed, \n",
    "                       callback=partial(LightningWrapper, \n",
    "                                        inference_kwargs={'with_latent': True}, \n",
    "                                        dataset_name=dataset))"
   ]
  },
  {
   "cell_type": "code",
   "execution_count": 79,
   "id": "e82eb804",
   "metadata": {},
   "outputs": [
    {
     "name": "stderr",
     "output_type": "stream",
     "text": [
      "GPU available: True, used: True\n",
      "TPU available: False, using: 0 TPU cores\n",
      "IPU available: False, using: 0 IPUs\n",
      "LOCAL_RANK: 0 - CUDA_VISIBLE_DEVICES: [0,1]\n"
     ]
    },
    {
     "data": {
      "application/vnd.jupyter.widget-view+json": {
       "model_id": "e21ee1284a57481db9f36e6140133115",
       "version_major": 2,
       "version_minor": 0
      },
      "text/plain": [
       "Predicting: 0it [00:00, ?it/s]"
      ]
     },
     "metadata": {},
     "output_type": "display_data"
    },
    {
     "name": "stderr",
     "output_type": "stream",
     "text": [
      "GPU available: True, used: True\n",
      "TPU available: False, using: 0 TPU cores\n",
      "IPU available: False, using: 0 IPUs\n",
      "LOCAL_RANK: 0 - CUDA_VISIBLE_DEVICES: [0,1]\n"
     ]
    },
    {
     "data": {
      "application/vnd.jupyter.widget-view+json": {
       "model_id": "2b7e87f4f0ee43e7863078d77cc54512",
       "version_major": 2,
       "version_minor": 0
      },
      "text/plain": [
       "Predicting: 0it [00:00, ?it/s]"
      ]
     },
     "metadata": {},
     "output_type": "display_data"
    },
    {
     "name": "stderr",
     "output_type": "stream",
     "text": [
      "GPU available: True, used: True\n",
      "TPU available: False, using: 0 TPU cores\n",
      "IPU available: False, using: 0 IPUs\n",
      "LOCAL_RANK: 0 - CUDA_VISIBLE_DEVICES: [0,1]\n"
     ]
    },
    {
     "data": {
      "application/vnd.jupyter.widget-view+json": {
       "model_id": "a80c593f932c48a7b1d0b54611f96f3e",
       "version_major": 2,
       "version_minor": 0
      },
      "text/plain": [
       "Predicting: 0it [00:00, ?it/s]"
      ]
     },
     "metadata": {},
     "output_type": "display_data"
    },
    {
     "name": "stderr",
     "output_type": "stream",
     "text": [
      "GPU available: True, used: True\n",
      "TPU available: False, using: 0 TPU cores\n",
      "IPU available: False, using: 0 IPUs\n",
      "LOCAL_RANK: 0 - CUDA_VISIBLE_DEVICES: [0,1]\n"
     ]
    },
    {
     "data": {
      "application/vnd.jupyter.widget-view+json": {
       "model_id": "ea6a1f6c7cf148b39cfa68dbbc4c5fd7",
       "version_major": 2,
       "version_minor": 0
      },
      "text/plain": [
       "Predicting: 0it [00:00, ?it/s]"
      ]
     },
     "metadata": {},
     "output_type": "display_data"
    },
    {
     "name": "stderr",
     "output_type": "stream",
     "text": [
      "GPU available: True, used: True\n",
      "TPU available: False, using: 0 TPU cores\n",
      "IPU available: False, using: 0 IPUs\n",
      "LOCAL_RANK: 0 - CUDA_VISIBLE_DEVICES: [0,1]\n"
     ]
    },
    {
     "data": {
      "application/vnd.jupyter.widget-view+json": {
       "model_id": "a57ee79610424dd38f9b03c25caebe45",
       "version_major": 2,
       "version_minor": 0
      },
      "text/plain": [
       "Predicting: 0it [00:00, ?it/s]"
      ]
     },
     "metadata": {},
     "output_type": "display_data"
    },
    {
     "name": "stderr",
     "output_type": "stream",
     "text": [
      "GPU available: True, used: True\n",
      "TPU available: False, using: 0 TPU cores\n",
      "IPU available: False, using: 0 IPUs\n",
      "LOCAL_RANK: 0 - CUDA_VISIBLE_DEVICES: [0,1]\n"
     ]
    },
    {
     "data": {
      "application/vnd.jupyter.widget-view+json": {
       "model_id": "3093e1a913da4af2a1dd40213bf3ab98",
       "version_major": 2,
       "version_minor": 0
      },
      "text/plain": [
       "Predicting: 0it [00:00, ?it/s]"
      ]
     },
     "metadata": {},
     "output_type": "display_data"
    },
    {
     "name": "stderr",
     "output_type": "stream",
     "text": [
      "GPU available: True, used: True\n",
      "TPU available: False, using: 0 TPU cores\n",
      "IPU available: False, using: 0 IPUs\n",
      "LOCAL_RANK: 0 - CUDA_VISIBLE_DEVICES: [0,1]\n"
     ]
    },
    {
     "data": {
      "application/vnd.jupyter.widget-view+json": {
       "model_id": "084a640f18774b03a49df2c079131d4f",
       "version_major": 2,
       "version_minor": 0
      },
      "text/plain": [
       "Predicting: 0it [00:00, ?it/s]"
      ]
     },
     "metadata": {},
     "output_type": "display_data"
    },
    {
     "name": "stderr",
     "output_type": "stream",
     "text": [
      "GPU available: True, used: True\n",
      "TPU available: False, using: 0 TPU cores\n",
      "IPU available: False, using: 0 IPUs\n",
      "LOCAL_RANK: 0 - CUDA_VISIBLE_DEVICES: [0,1]\n"
     ]
    },
    {
     "data": {
      "application/vnd.jupyter.widget-view+json": {
       "model_id": "83b94d57f6db4d9896128e023a86e3da",
       "version_major": 2,
       "version_minor": 0
      },
      "text/plain": [
       "Predicting: 0it [00:00, ?it/s]"
      ]
     },
     "metadata": {},
     "output_type": "display_data"
    },
    {
     "name": "stderr",
     "output_type": "stream",
     "text": [
      "GPU available: True, used: True\n",
      "TPU available: False, using: 0 TPU cores\n",
      "IPU available: False, using: 0 IPUs\n",
      "LOCAL_RANK: 0 - CUDA_VISIBLE_DEVICES: [0,1]\n"
     ]
    },
    {
     "data": {
      "application/vnd.jupyter.widget-view+json": {
       "model_id": "46e7531977c84552a5c241efe591426f",
       "version_major": 2,
       "version_minor": 0
      },
      "text/plain": [
       "Predicting: 0it [00:00, ?it/s]"
      ]
     },
     "metadata": {},
     "output_type": "display_data"
    },
    {
     "name": "stderr",
     "output_type": "stream",
     "text": [
      "GPU available: True, used: True\n",
      "TPU available: False, using: 0 TPU cores\n",
      "IPU available: False, using: 0 IPUs\n",
      "LOCAL_RANK: 0 - CUDA_VISIBLE_DEVICES: [0,1]\n"
     ]
    },
    {
     "data": {
      "application/vnd.jupyter.widget-view+json": {
       "model_id": "e713f89c01fe4045bf8c0507f87457ad",
       "version_major": 2,
       "version_minor": 0
      },
      "text/plain": [
       "Predicting: 0it [00:00, ?it/s]"
      ]
     },
     "metadata": {},
     "output_type": "display_data"
    },
    {
     "name": "stderr",
     "output_type": "stream",
     "text": [
      "GPU available: True, used: True\n",
      "TPU available: False, using: 0 TPU cores\n",
      "IPU available: False, using: 0 IPUs\n",
      "LOCAL_RANK: 0 - CUDA_VISIBLE_DEVICES: [0,1]\n"
     ]
    },
    {
     "data": {
      "application/vnd.jupyter.widget-view+json": {
       "model_id": "1f8e88ae08c2443389966da7078fd2e3",
       "version_major": 2,
       "version_minor": 0
      },
      "text/plain": [
       "Predicting: 0it [00:00, ?it/s]"
      ]
     },
     "metadata": {},
     "output_type": "display_data"
    },
    {
     "name": "stderr",
     "output_type": "stream",
     "text": [
      "GPU available: True, used: True\n",
      "TPU available: False, using: 0 TPU cores\n",
      "IPU available: False, using: 0 IPUs\n",
      "LOCAL_RANK: 0 - CUDA_VISIBLE_DEVICES: [0,1]\n"
     ]
    },
    {
     "data": {
      "application/vnd.jupyter.widget-view+json": {
       "model_id": "be672716f43c4d1b9e1d257961603ee2",
       "version_major": 2,
       "version_minor": 0
      },
      "text/plain": [
       "Predicting: 0it [00:00, ?it/s]"
      ]
     },
     "metadata": {},
     "output_type": "display_data"
    }
   ],
   "source": [
    "stretch_to_scatter, stretch_to_hyperplane_acc, stretch_to_hyperplane_sim, stretch_to_gt_sim = \\\n",
    "    analyze(model1, m1, model2, m2, dataset, classes_names, \n",
    "        vector_class_idx, inversion_loss, append_path, seed_type)"
   ]
  },
  {
   "cell_type": "code",
   "execution_count": 80,
   "id": "a32a4ebb",
   "metadata": {},
   "outputs": [
    {
     "name": "stdout",
     "output_type": "stream",
     "text": [
      "How accurately can hyperplane separate stretched and original reps\n",
      "0.0: 1.0\n",
      "0.5263157894736842: 1.0\n",
      "1.0526315789473684: 1.0\n",
      "1.5789473684210527: 1.0\n",
      "2.1052631578947367: 1.0\n",
      "2.631578947368421: 1.0\n",
      "\n",
      "How similar is hyperplane to GT vector\n",
      "\n",
      "0.0: -0.0300229933826908\n",
      "0.5263157894736842: -0.018385362369172382\n",
      "1.0526315789473684: -0.012975552925091434\n",
      "1.5789473684210527: 0.026764209665460722\n",
      "2.1052631578947367: 0.02048517937627973\n",
      "2.631578947368421: 0.049615249259841586\n",
      "\n",
      "Things scattered in the same direction\n",
      "\n",
      "Stretch Factor: 0.0, 0.9797979593276978, 0.15687249600887299\n",
      "Stretch Factor: 0.5263157894736842, 0.9802020192146301, 0.1560252159833908\n",
      "Stretch Factor: 1.0526315789473684, 0.9834343194961548, 0.15973877906799316\n",
      "Stretch Factor: 1.5789473684210527, 0.9828282594680786, 0.16488361358642578\n",
      "Stretch Factor: 2.1052631578947367, 0.9870706796646118, 0.1668163388967514\n",
      "Stretch Factor: 2.631578947368421, 0.9872727394104004, 0.16930148005485535\n",
      "\n",
      "Similarity of scatter to GT vector\n",
      "\n",
      "Stretch Factor: 0.0, 0.4399999976158142, -0.015131383202970028\n",
      "Stretch Factor: 0.5263157894736842, 0.5099999904632568, -0.004365058150142431\n",
      "Stretch Factor: 1.0526315789473684, 0.6499999761581421, 0.005065161734819412\n",
      "Stretch Factor: 1.5789473684210527, 0.6100000143051147, 0.012375888414680958\n",
      "Stretch Factor: 2.1052631578947367, 0.6000000238418579, 0.015996836125850677\n",
      "Stretch Factor: 2.631578947368421, 0.7300000190734863, 0.026824630796909332\n"
     ]
    }
   ],
   "source": [
    "print ('How accurately can hyperplane separate stretched and original reps')\n",
    "print ('\\n'.join([f'{k}: {v}' for k,v in stretch_to_hyperplane_acc.items()]))\n",
    "print ()\n",
    "print ('How similar is hyperplane to GT vector')\n",
    "print ()\n",
    "print ('\\n'.join([f'{k}: {v.item()}' for k,v in stretch_to_hyperplane_sim.items()]))\n",
    "print ()\n",
    "print ('Things scattered in the same direction')\n",
    "print ()\n",
    "for k, v in stretch_to_scatter.items():\n",
    "    print (f'Stretch Factor: {k}, {torch.sum(v>0, dim=0)/v.shape[0]}, {torch.mean(v)}')\n",
    "print ()\n",
    "print ('Similarity of scatter to GT vector')\n",
    "print ()\n",
    "for k, v in stretch_to_gt_sim.items():\n",
    "    print (f'Stretch Factor: {k}, {torch.sum(v>0, dim=0)/v.shape[0]}, {torch.mean(v)}')"
   ]
  },
  {
   "cell_type": "code",
   "execution_count": 88,
   "id": "329a8fdf",
   "metadata": {},
   "outputs": [
    {
     "ename": "AttributeError",
     "evalue": "shape",
     "output_type": "error",
     "traceback": [
      "\u001b[0;31m---------------------------------------------------------------------------\u001b[0m",
      "\u001b[0;31mAttributeError\u001b[0m                            Traceback (most recent call last)",
      "\u001b[0;32m/tmp/ipykernel_3692668/1931903531.py\u001b[0m in \u001b[0;36m<module>\u001b[0;34m\u001b[0m\n\u001b[0;32m----> 1\u001b[0;31m \u001b[0mvisualize\u001b[0m\u001b[0;34m(\u001b[0m\u001b[0mmodel1\u001b[0m\u001b[0;34m,\u001b[0m \u001b[0mdataset\u001b[0m\u001b[0;34m,\u001b[0m \u001b[0minversion_loss\u001b[0m\u001b[0;34m,\u001b[0m \u001b[0mclasses_names\u001b[0m\u001b[0;34m,\u001b[0m \u001b[0mvector_class_idx\u001b[0m\u001b[0;34m,\u001b[0m \u001b[0mappend_path\u001b[0m\u001b[0;34m,\u001b[0m \u001b[0mnum_images\u001b[0m\u001b[0;34m=\u001b[0m\u001b[0;36m10\u001b[0m\u001b[0;34m)\u001b[0m\u001b[0;34m\u001b[0m\u001b[0;34m\u001b[0m\u001b[0m\n\u001b[0m",
      "\u001b[0;32m/tmp/ipykernel_3692668/1155296253.py\u001b[0m in \u001b[0;36mvisualize\u001b[0;34m(model1, dataset, inversion_loss, classes_names, vector_class_idx, append_path, num_images)\u001b[0m\n\u001b[1;32m     32\u001b[0m             \u001b[0max\u001b[0m\u001b[0;34m.\u001b[0m\u001b[0mxaxis\u001b[0m\u001b[0;34m.\u001b[0m\u001b[0mset_ticklabels\u001b[0m\u001b[0;34m(\u001b[0m\u001b[0;34m[\u001b[0m\u001b[0;34m]\u001b[0m\u001b[0;34m)\u001b[0m\u001b[0;34m\u001b[0m\u001b[0;34m\u001b[0m\u001b[0m\n\u001b[1;32m     33\u001b[0m             \u001b[0max\u001b[0m\u001b[0;34m.\u001b[0m\u001b[0myaxis\u001b[0m\u001b[0;34m.\u001b[0m\u001b[0mset_ticklabels\u001b[0m\u001b[0;34m(\u001b[0m\u001b[0;34m[\u001b[0m\u001b[0;34m]\u001b[0m\u001b[0;34m)\u001b[0m\u001b[0;34m\u001b[0m\u001b[0;34m\u001b[0m\u001b[0m\n\u001b[0;32m---> 34\u001b[0;31m             ax.imshow(images[i-1] if images[i-1].shape[-1] == 3 else \\\n\u001b[0m\u001b[1;32m     35\u001b[0m                 \u001b[0mimages\u001b[0m\u001b[0;34m[\u001b[0m\u001b[0mi\u001b[0m\u001b[0;34m-\u001b[0m\u001b[0;36m1\u001b[0m\u001b[0;34m]\u001b[0m\u001b[0;34m.\u001b[0m\u001b[0mreshape\u001b[0m\u001b[0;34m(\u001b[0m\u001b[0;34m(\u001b[0m\u001b[0mimages\u001b[0m\u001b[0;34m[\u001b[0m\u001b[0mi\u001b[0m\u001b[0;34m-\u001b[0m\u001b[0;36m1\u001b[0m\u001b[0;34m]\u001b[0m\u001b[0;34m.\u001b[0m\u001b[0mshape\u001b[0m\u001b[0;34m[\u001b[0m\u001b[0;36m0\u001b[0m\u001b[0;34m]\u001b[0m\u001b[0;34m,\u001b[0m \u001b[0mimages\u001b[0m\u001b[0;34m[\u001b[0m\u001b[0mi\u001b[0m\u001b[0;34m-\u001b[0m\u001b[0;36m1\u001b[0m\u001b[0;34m]\u001b[0m\u001b[0;34m.\u001b[0m\u001b[0mshape\u001b[0m\u001b[0;34m[\u001b[0m\u001b[0;36m1\u001b[0m\u001b[0;34m]\u001b[0m\u001b[0;34m)\u001b[0m\u001b[0;34m)\u001b[0m\u001b[0;34m,\u001b[0m\u001b[0;34m\u001b[0m\u001b[0;34m\u001b[0m\u001b[0m\n\u001b[1;32m     36\u001b[0m                 cmap='viridis' if images[i-1].shape[-1] == 3 else 'gray', interpolation='bilinear')\n",
      "\u001b[0;32m/NS/twitter_archive2/work/vnanda/minconda3/envs/dl_base/lib/python3.7/site-packages/PIL/Image.py\u001b[0m in \u001b[0;36m__getattr__\u001b[0;34m(self, name)\u001b[0m\n\u001b[1;32m    517\u001b[0m             )\n\u001b[1;32m    518\u001b[0m             \u001b[0;32mreturn\u001b[0m \u001b[0mself\u001b[0m\u001b[0;34m.\u001b[0m\u001b[0m_category\u001b[0m\u001b[0;34m\u001b[0m\u001b[0;34m\u001b[0m\u001b[0m\n\u001b[0;32m--> 519\u001b[0;31m         \u001b[0;32mraise\u001b[0m \u001b[0mAttributeError\u001b[0m\u001b[0;34m(\u001b[0m\u001b[0mname\u001b[0m\u001b[0;34m)\u001b[0m\u001b[0;34m\u001b[0m\u001b[0;34m\u001b[0m\u001b[0m\n\u001b[0m\u001b[1;32m    520\u001b[0m \u001b[0;34m\u001b[0m\u001b[0m\n\u001b[1;32m    521\u001b[0m     \u001b[0;34m@\u001b[0m\u001b[0mproperty\u001b[0m\u001b[0;34m\u001b[0m\u001b[0;34m\u001b[0m\u001b[0m\n",
      "\u001b[0;31mAttributeError\u001b[0m: shape"
     ]
    },
    {
     "data": {
      "image/png": "[encoded data removed]",
      "text/plain": [
       "<Figure size 720x288 with 1 Axes>"
      ]
     },
     "metadata": {},
     "output_type": "display_data"
    }
   ],
   "source": [
    "visualize(model1, dataset, inversion_loss, classes_names, vector_class_idx, append_path, num_images=10)"
   ]
  },
  {
   "cell_type": "code",
   "execution_count": null,
   "id": "6df73118",
   "metadata": {},
   "outputs": [],
   "source": []
  }
 ],
 "metadata": {
  "kernelspec": {
   "display_name": "Python 3 (ipykernel)",
   "language": "python",
   "name": "python3"
  },
  "language_info": {
   "codemirror_mode": {
    "name": "ipython",
    "version": 3
   },
   "file_extension": ".py",
   "mimetype": "text/x-python",
   "name": "python",
   "nbconvert_exporter": "python",
   "pygments_lexer": "ipython3",
   "version": "3.7.9"
  }
 },
 "nbformat": 4,
 "nbformat_minor": 5
}
