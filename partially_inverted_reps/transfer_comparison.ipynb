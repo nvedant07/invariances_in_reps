{
 "cells": [
  {
   "cell_type": "code",
   "execution_count": 1,
   "id": "6df5c715",
   "metadata": {},
   "outputs": [
    {
     "name": "stderr",
     "output_type": "stream",
     "text": [
      "/NS/twitter_archive2/work/vnanda/minconda3/envs/dl_base/lib/python3.7/site-packages/paramiko/transport.py:236: CryptographyDeprecationWarning: Blowfish has been deprecated\n",
      "  \"class\": algorithms.Blowfish,\n"
     ]
    }
   ],
   "source": [
    "from pytorch_lightning import utilities as pl_utils\n",
    "from pytorch_lightning.trainer.trainer import Trainer\n",
    "from pytorch_lightning.plugins import DDPPlugin\n",
    "import torch\n",
    "import pathlib\n",
    "from functools import partial\n",
    "import sys, glob, os, copy\n",
    "import numpy as np\n",
    "\n",
    "sys.path.append('..')\n",
    "sys.path.append('../deep-learning-base')\n",
    "sys.path.append('../deep-learning-base/training')\n",
    "sys.path.append('../partially_inverted_reps')\n",
    "\n",
    "import plot_helper as plt_hp\n",
    "import output as out\n",
    "from training import LitProgressBar, NicerModelCheckpointing\n",
    "import training.finetuning as ft\n",
    "import architectures as arch\n",
    "from architectures.callbacks import LightningWrapper, LinearEvalWrapper\n",
    "from attack.callbacks import AdvCallback\n",
    "from datasets.data_modules import DATA_MODULES\n",
    "import datasets.dataset_metadata as dsmd\n",
    "from partial_loss import PartialInversionLoss, PartialInversionRegularizedLoss\n",
    "from __init__ import DATA_PATH_IMAGENET, DATA_PATH, SERVER_PROJECT_PATH"
   ]
  },
  {
   "cell_type": "code",
   "execution_count": 2,
   "id": "5495b002",
   "metadata": {},
   "outputs": [],
   "source": [
    "CHECKPOINT_PATHS = {\n",
    "    'resnet50': {\n",
    "        'nonrob': '',\n",
    "        'robustl2eps3': '/NS/robustness_3/work/vnanda/adv-robustness/logs/'\\\n",
    "                        'robust_imagenet/eps3/resnet-50-l2-eps3.ckpt'},\n",
    "    'resnet50_ff2048': {\n",
    "        'mrl0_nonrob': '/NS/robustness_2/work/vnanda/invariances_in_reps/'\n",
    "                  'deep-learning-base/checkpoints/imagenet1k/r50_mrl0_e0_ff2048.pt'},\n",
    "    'resnet50_mrl': {\n",
    "        'nonrob': '/NS/robustness_2/work/vnanda/invariances_in_reps/deep-learning-base/checkpoints'\\\n",
    "                  '/imagenet1k/r50_mrl1_e0_ff2048.pt'\n",
    "    },\n",
    "    'vit_small_patch16_224': {\n",
    "        'nonrob': \\\n",
    "            '/NS/robustness_2/work/vnanda/invariances_in_reps/deep-learning-base/checkpoints/imagenet21k/'\\\n",
    "            'S_16-i21k-300ep-lr_0.001-aug_light1-wd_0.03-do_0.0-sd_0.0.npz'\n",
    "    },\n",
    "    'vit_small_patch32_224': {\n",
    "        'nonrob': \\\n",
    "            '/NS/robustness_2/work/vnanda/invariances_in_reps/deep-learning-base/checkpoints/imagenet21k/'\\\n",
    "            'S_32-i21k-300ep-lr_0.001-aug_light1-wd_0.03-do_0.0-sd_0.0.npz'\n",
    "    }\n",
    "}"
   ]
  },
  {
   "cell_type": "code",
   "execution_count": 3,
   "id": "11882de5",
   "metadata": {},
   "outputs": [],
   "source": [
    "SEED = 2\n",
    "NUM_NODES = 1\n",
    "DEVICES = 1\n",
    "BASE_DIR = f\"{pathlib.Path('.').parent.resolve()}/checkpoints\"\n",
    "\n",
    "FINETUNING_DATASETS = ['cifar10', 'cifar100', 'flowers', 'oxford-iiit-pets']\n",
    "FINETUNE_BS = 256\n",
    "EVAL_BATCH_SIZE = 100"
   ]
  },
  {
   "cell_type": "code",
   "execution_count": 4,
   "id": "47a7f7a7",
   "metadata": {},
   "outputs": [],
   "source": [
    "def save_predictions(model_path, out):\n",
    "    preds_path = f'{model_path.split(\".ckpt\")[0]}.pred'\n",
    "    torch.save({'pred': out[0].detach().cpu(), 'gt': out[2].detach().cpu()}, preds_path)\n",
    "\n",
    "def load_predictions(model_path):\n",
    "    preds_path = f'{model_path.split(\".ckpt\")[0]}.pred'\n",
    "    if os.path.exists(preds_path):\n",
    "        return torch.load(preds_path)\n",
    "\n",
    "def accuracy(gt, pred):\n",
    "    pred = torch.argmax(pred, 1)\n",
    "    return torch.sum(gt == pred) / len(gt)\n",
    "\n",
    "\n",
    "def get_test_acc(model, source_dataset, finetuning_dataset, checkpoint_path, model_path, seed, fraction):\n",
    "    state_dict = torch.load(model_path)\n",
    "    dm = DATA_MODULES[finetuning_dataset](\n",
    "        data_dir=DATA_PATH_IMAGENET if 'imagenet' in finetuning_dataset else DATA_PATH,\n",
    "        transform_train=dsmd.TRAIN_TRANSFORMS_TRANSFER_DEFAULT(224),\n",
    "        transform_test=dsmd.TEST_TRANSFORMS_DEFAULT(224),\n",
    "        batch_size=EVAL_BATCH_SIZE)\n",
    "    dm.init_remaining_attrs(source_dataset)\n",
    "\n",
    "    ## assign mean and std from source dataset\n",
    "    m1 = arch.create_model(model, source_dataset, pretrained=True,\n",
    "                           checkpoint_path=checkpoint_path, seed=SEED, \n",
    "                           num_classes=dsmd.DATASET_PARAMS[source_dataset]['num_classes'],\n",
    "                           callback=partial(LightningWrapper, \n",
    "                                            dataset_name=source_dataset,\n",
    "                                            inference_kwargs={'with_latent': True}),\n",
    "                           loading_function_kwargs={'strict': False})\n",
    "    new_layer = ft.setup_model_for_finetuning(\n",
    "        m1.model, \n",
    "        dsmd.DATASET_PARAMS[finetuning_dataset]['num_classes'],\n",
    "        FINETUNE_MODE, fraction, seed)\n",
    "    print (new_layer.__dict__)\n",
    "    linear_layer = list(m1.model.named_modules())[-1][1]\n",
    "    linear_layer.load_state_dict({k.split('.')[-1]:v \\\n",
    "                                  for k,v in state_dict['state_dict'].items()}, strict=True)\n",
    "    if hasattr(new_layer, 'neuron_indices') and 'neuron_indices' in state_dict:\n",
    "        assert torch.all(new_layer.neuron_indices == state_dict['neuron_indices'])\n",
    "    pl_utils.seed.seed_everything(seed, workers=True)\n",
    "\n",
    "    trainer = Trainer(accelerator='gpu', \n",
    "                      devices=DEVICES,\n",
    "                      num_nodes=NUM_NODES,\n",
    "                      log_every_n_steps=1,\n",
    "                      auto_select_gpus=True, \n",
    "                      deterministic=True,\n",
    "                      check_val_every_n_epoch=1,\n",
    "                      num_sanity_val_steps=0,\n",
    "                      callbacks=[\n",
    "                        LitProgressBar(['loss', \n",
    "                                        'running_test_acc'])])\n",
    "\n",
    "    out = trainer.predict(m1, dataloaders=[dm.test_dataloader()])\n",
    "    save_predictions(model_path, out)\n",
    "    gt, pred = out[2], out[0]\n",
    "    return accuracy(gt, pred)"
   ]
  },
  {
   "cell_type": "code",
   "execution_count": 5,
   "id": "6c14ddd0",
   "metadata": {},
   "outputs": [],
   "source": [
    "def results(model, source_dataset, FRACTIONS_OR_NUMBERS=None):\n",
    "    plt_str = '== Finetuning results ==\\n\\n'\n",
    "    model_to_frac_wise_test = {}\n",
    "    for append in CHECKPOINT_PATHS[model].keys():\n",
    "        plt_str += f'=== {model} - {append} ===\\n\\n'\n",
    "        for ft_ds in FINETUNING_DATASETS:\n",
    "            plt_str += f'==== {ft_ds} ====\\n\\n'\n",
    "            frac_wise_val_accs, frac_wise_test_accs = {}, {}\n",
    "            if FRACTIONS_OR_NUMBERS is None:\n",
    "                FRACTIONS_OR_NUMBERS = sorted(\n",
    "                    list(set(\n",
    "                        [float(x.split('/frac-')[1].split('-')[0]) for x in \\\n",
    "                            glob.glob(f'./checkpoints/{model}-base-'\n",
    "                                  f'{source_dataset}-ft-{ft_ds}/'\n",
    "                                  f'*-bs-256-{append}') \\\n",
    "                         if len(x.split('/frac-')[1].split('-')[0]) == 7 and \\\n",
    "                            'full-feature' not in x and \\\n",
    "                            'layer' not in x and \\\n",
    "                            'pool' not in x]\n",
    "                        )))\n",
    "            for frac in FRACTIONS_OR_NUMBERS:\n",
    "                if isinstance(frac, int):\n",
    "                    actual_fraction = frac / FRACTIONS_OR_NUMBERS[-1]\n",
    "                else:\n",
    "                    actual_fraction = frac\n",
    "                PARTIAL_CHOICE_SEEDS = sorted(\n",
    "                    list(set(\n",
    "                        [int(x.split('-seed-')[1].split('-')[0]) for x in \\\n",
    "                            glob.glob(f'./checkpoints/{model}-base-'\n",
    "                                      f'{source_dataset}-ft-{ft_ds}/'\n",
    "                                      f'frac-{actual_fraction:.5f}-*-bs-256-{append}') \\\n",
    "                        if len(x.split('/frac-')[1].split('-')[0]) == 7 and \\\n",
    "                           'full-feature' not in x and \\\n",
    "                           'layer' not in x and \\\n",
    "                           'pool' not in x]\n",
    "                        )))\n",
    "                for seed in PARTIAL_CHOICE_SEEDS:\n",
    "                    model_path = [x for x in glob.glob(f'{BASE_DIR}/{model}-base-{source_dataset}-ft-{ft_ds}/'\n",
    "                                           f'frac-{actual_fraction:.5f}-mode-{FINETUNE_MODE}-seed-{seed}-'\n",
    "                                           f'ftmode-linear-lr-*-bs*-{append}/'\n",
    "                                           '*-topk=1.ckpt') \\\n",
    "                                  if len(x.split('/frac-')[1].split('-')[0]) == 7 and \\\n",
    "                                     'full-feature' not in x and \\\n",
    "                                     'layer' not in x and \\\n",
    "                                     'pool' not in x]\n",
    "                    if len(model_path) == 0:\n",
    "                        continue\n",
    "                    model_path = model_path[0]\n",
    "                    \n",
    "                    pickled_preds = load_predictions(model_path)\n",
    "                    if pickled_preds is not None:\n",
    "                        test_acc = accuracy(pickled_preds['gt'], pickled_preds['pred']).item()\n",
    "                    else:\n",
    "                        test_acc = get_test_acc(model, source_dataset, ft_ds, \n",
    "                                                CHECKPOINT_PATHS[model][append], \n",
    "                                                model_path, seed, actual_fraction)\n",
    "                    sd = torch.load(model_path)\n",
    "                    val_acc = list(sd['callbacks'].values())[0]['best_model_score'].item()\n",
    "                    if frac in frac_wise_val_accs:\n",
    "                        frac_wise_val_accs[frac].append(val_acc)\n",
    "                        frac_wise_test_accs[frac].append(test_acc)\n",
    "                    else:\n",
    "                        frac_wise_val_accs[frac] = [val_acc]\n",
    "                        frac_wise_test_accs[frac] = [test_acc]\n",
    "            \n",
    "            model_to_frac_wise_test[f'{model}-{append}-{ft_ds}'] = copy.deepcopy(frac_wise_test_accs)\n",
    "            \n",
    "            full_acc_val = frac_wise_val_accs.pop(FRACTIONS_OR_NUMBERS[-1])\n",
    "            full_acc_test = frac_wise_test_accs.pop(FRACTIONS_OR_NUMBERS[-1])\n",
    "            x_vals, y_vals = list(zip(*sorted(frac_wise_val_accs.items(), key=lambda t: t[0])))\n",
    "            _, y_tests = list(zip(*sorted(frac_wise_test_accs.items(), key=lambda t: t[0])))\n",
    "            \n",
    "            print (model, append, ft_ds)\n",
    "            print (f'Full Acc: {full_acc_test}')\n",
    "            for x, y in zip(x_vals, y_tests):\n",
    "                print (f'For {x}, acc: {np.nanmean(y)} +/- {np.nanstd(y)}')\n",
    "            print ()\n",
    "            \n",
    "            plt_str += '{}\\n\\n'.format(plt_hp.get_wiki_link(plt_hp.line_plot(\n",
    "                [[np.mean(_y) for _y in y_vals], [np.mean(_y) for _y in y_tests]], \n",
    "                'Fraction/number of neurons', 'Transfer Accuracy', ft_ds, \n",
    "                subfolder=source_dataset, filename=f'{model}_{ft_ds}_bs_{FINETUNE_BS}_{append}_{FINETUNE_MODE}', \n",
    "                extension='png', x_vals=x_vals, \n",
    "                legend_vals=['Val', 'Test', 'Full Layer (Val)', 'Full Layer (Test)'], \n",
    "                vertical_line=None, horizontal_lines=[np.mean(full_acc_val), np.mean(full_acc_test)], \n",
    "                horizontal_lines_err=[np.std(full_acc_val), np.std(full_acc_test)], \n",
    "                colors=[plt_hp.COLORS[0], plt_hp.COLORS[1], plt_hp.COLORS[0], plt_hp.COLORS[1]], \n",
    "                linestyles=['-', '-', ':', ':'], y_lims=(0.,1.), root_dir='.', \n",
    "                paper_friendly_plots=False, plot_inside=False, legend_location='best', \n",
    "                savefig=True, figsize=(10,6), marker=[True, True, False, False], \n",
    "                results_subfolder_name='transfer_analysis', grid_spacing=None, \n",
    "                y_err=[[np.std(_y) for _y in y_vals], [np.std(_y) for _y in y_tests]], \n",
    "                legend_ncol=None), SERVER_PROJECT_PATH, size=700))\n",
    "            print (ft_ds, frac_wise_val_accs)\n",
    "    with open(f'./results/transfer_analysis/{source_dataset}/'\n",
    "              f'wiki_results-{model}-{FINETUNE_MODE}.txt', 'w') as fp:\n",
    "        fp.write(plt_str)\n",
    "    out.upload_results(['{}/{}/{}'.format(plt_hp.RESULTS_FOLDER_NAME, 'transfer_analysis', source_dataset)], \n",
    "        'results', SERVER_PROJECT_PATH, '.png')\n",
    "    return model_to_frac_wise_test"
   ]
  },
  {
   "cell_type": "code",
   "execution_count": 6,
   "id": "7dded8bf",
   "metadata": {
    "scrolled": true
   },
   "outputs": [
    {
     "name": "stdout",
     "output_type": "stream",
     "text": [
      "resnet50 nonrob cifar10\n",
      "Full Acc: [0.8913999795913696]\n",
      "For 0.0005, acc: 0.1229200005531311 +/- 0.01794462807466834\n",
      "For 0.001, acc: 0.15139999836683274 +/- 0.024089417611329694\n",
      "For 0.002, acc: 0.18558000028133392 +/- 0.0235813834808322\n",
      "For 0.003, acc: 0.23235999643802643 +/- 0.02127069327612794\n",
      "For 0.004, acc: 0.2521800011396408 +/- 0.025304820043298842\n",
      "For 0.005, acc: 0.2738999992609024 +/- 0.017290227169671407\n",
      "For 0.01, acc: 0.3705000042915344 +/- 0.020683430479357803\n",
      "For 0.05, acc: 0.694760000705719 +/- 0.02136254011838285\n",
      "For 0.1, acc: 0.778879988193512 +/- 0.011917944145571398\n",
      "For 0.2, acc: 0.832260000705719 +/- 0.007159500547376095\n",
      "For 0.3, acc: 0.8519200086593628 +/- 0.004837934344853527\n",
      "For 0.5, acc: 0.8740199923515319 +/- 0.0035419643114184066\n",
      "For 0.8, acc: 0.8878000020980835 +/- 0.0032637349839890243\n",
      "For 0.9, acc: 0.8911400079727173 +/- 0.0030643770234324145\n",
      "\n",
      "[(0.0005, 0.001, 0.002, 0.003, 0.004, 0.005, 0.01, 0.05, 0.1, 0.2, 0.3, 0.5, 0.8, 0.9), (0.0005, 0.001, 0.002, 0.003, 0.004, 0.005, 0.01, 0.05, 0.1, 0.2, 0.3, 0.5, 0.8, 0.9)] [[0.124113330245018, 0.15089662969112397, 0.18223611414432525, 0.2110700011253357, 0.22372560501098632, 0.24927030503749847, 0.3202321529388428, 0.5588310837745667, 0.6292435884475708, 0.6789692044258118, 0.7033755302429199, 0.7294149994850159, 0.748097836971283, 0.752826476097107], [0.1229200005531311, 0.15139999836683274, 0.18558000028133392, 0.23235999643802643, 0.2521800011396408, 0.2738999992609024, 0.3705000042915344, 0.694760000705719, 0.778879988193512, 0.832260000705719, 0.8519200086593628, 0.8740199923515319, 0.8878000020980835, 0.8911400079727173]]\n"
     ]
    },
    {
     "name": "stderr",
     "output_type": "stream",
     "text": [
      "../plot_helper.py:120: UserWarning: marker is redundantly defined by the 'marker' keyword argument and the fmt string \"o\" (-> marker='o'). The keyword argument will take precedence.\n",
      "  label=legend_vals[i] if legend_vals is not None else \"\")\n"
     ]
    },
    {
     "data": {
      "image/png": "[encoded data removed]",
      "text/plain": [
       "<Figure size 720x432 with 1 Axes>"
      ]
     },
     "metadata": {},
     "output_type": "display_data"
    },
    {
     "name": "stdout",
     "output_type": "stream",
     "text": [
      "cifar10 {0.0005: [0.11954693496227264, 0.1268082857131958, 0.10528450459241867, 0.15935033559799194, 0.10957659035921097], 0.001: [0.13647064566612244, 0.14354825019836426, 0.1489540934562683, 0.18858127295970917, 0.13692888617515564], 0.002: [0.16791069507598877, 0.1790148913860321, 0.18389734625816345, 0.22588862478733063, 0.15446901321411133], 0.003: [0.1794070303440094, 0.20845501124858856, 0.2117285281419754, 0.24285539984703064, 0.21290403604507446], 0.004: [0.19186079502105713, 0.21354931592941284, 0.23167705535888672, 0.24655352532863617, 0.23498733341693878], 0.005: [0.21204370260238647, 0.24017570912837982, 0.25564491748809814, 0.2823238670825958, 0.2561633288860321], 0.01: [0.326407253742218, 0.30084556341171265, 0.3226470947265625, 0.3400266170501709, 0.3112342357635498], 0.05: [0.5496917963027954, 0.5356155633926392, 0.5591580271720886, 0.5696066617965698, 0.5800833702087402], 0.1: [0.62376868724823, 0.6221764087677002, 0.6302324533462524, 0.6372469663619995, 0.6327934265136719], 0.2: [0.6715943813323975, 0.6756081581115723, 0.680313229560852, 0.68570476770401, 0.681625485420227], 0.3: [0.6966792345046997, 0.7024934887886047, 0.7067114114761353, 0.7053205370903015, 0.7056729793548584], 0.5: [0.7243591547012329, 0.7287155985832214, 0.7308928966522217, 0.7317655682563782, 0.7313417792320251], 0.8: [0.7444778680801392, 0.7436667680740356, 0.7501242160797119, 0.7504227757453918, 0.7517975568771362], 0.9: [0.7484902143478394, 0.749165415763855, 0.755242645740509, 0.755409836769104, 0.7558242678642273]}\n",
      "resnet50 nonrob cifar100\n",
      "Full Acc: [0.6628000140190125]\n",
      "For 0.0005, acc: 0.014640000090003014 +/- 0.0029870388336612355\n",
      "For 0.001, acc: 0.022420000284910202 +/- 0.0037172032328942604\n",
      "For 0.002, acc: 0.03343999981880188 +/- 0.004913084711007522\n",
      "For 0.003, acc: 0.04003999978303909 +/- 0.005998199360911258\n",
      "For 0.004, acc: 0.047860000282526016 +/- 0.006902637797430656\n",
      "For 0.005, acc: 0.053920000046491626 +/- 0.009938090210699111\n",
      "For 0.01, acc: 0.09385999888181687 +/- 0.018620160688248375\n",
      "For 0.05, acc: 0.28966000080108645 +/- 0.012223676739074141\n",
      "For 0.1, acc: 0.4099999964237213 +/- 0.026844215708555805\n",
      "For 0.2, acc: 0.5175599932670594 +/- 0.023500350632052556\n",
      "For 0.3, acc: 0.5675599932670593 +/- 0.01648764234450646\n",
      "For 0.5, acc: 0.6233800053596497 +/- 0.01418413107077008\n",
      "For 0.8, acc: 0.6607599973678588 +/- 0.011681702954285316\n",
      "For 0.9, acc: 0.6676399827003479 +/- 0.011302489741237723\n",
      "\n",
      "[(0.0005, 0.001, 0.002, 0.003, 0.004, 0.005, 0.01, 0.05, 0.1, 0.2, 0.3, 0.5, 0.8, 0.9), (0.0005, 0.001, 0.002, 0.003, 0.004, 0.005, 0.01, 0.05, 0.1, 0.2, 0.3, 0.5, 0.8, 0.9)] [[0.014455595053732395, 0.02017115745693445, 0.030491287633776665, 0.035667866468429565, 0.04085857644677162, 0.0469695121049881, 0.07747561782598496, 0.22649129033088683, 0.3160441040992737, 0.3971046328544617, 0.43885165452957153, 0.48812280893325805, 0.522562563419342, 0.530408751964569], [0.014640000090003014, 0.022420000284910202, 0.03343999981880188, 0.04003999978303909, 0.047860000282526016, 0.053920000046491626, 0.09385999888181687, 0.28966000080108645, 0.4099999964237213, 0.5175599932670594, 0.5675599932670593, 0.6233800053596497, 0.6607599973678588, 0.6676399827003479]]\n"
     ]
    },
    {
     "data": {
      "image/png": "[encoded data removed]",
      "text/plain": [
       "<Figure size 720x432 with 1 Axes>"
      ]
     },
     "metadata": {},
     "output_type": "display_data"
    },
    {
     "name": "stdout",
     "output_type": "stream",
     "text": [
      "cifar100 {0.0005: [0.011769605800509453, 0.017835237085819244, 0.01143419835716486, 0.018128283321857452, 0.013110650703310966], 0.001: [0.014627351425588131, 0.022320307791233063, 0.018467091023921967, 0.026473356410861015, 0.018967680633068085], 0.002: [0.027539480477571487, 0.032077398151159286, 0.026562687009572983, 0.04096005856990814, 0.025316813960671425], 0.003: [0.029130998998880386, 0.036612048745155334, 0.03368097171187401, 0.04816265404224396, 0.03075265884399414], 0.004: [0.03260248154401779, 0.043986983597278595, 0.03793006390333176, 0.05327843502163887, 0.036494918167591095], 0.005: [0.03846795856952667, 0.04423993453383446, 0.040224384516477585, 0.06886019557714462, 0.04305508732795715], 0.01: [0.07263638079166412, 0.08295067399740219, 0.07469453662633896, 0.09865100681781769, 0.05844549089670181], 0.05: [0.22275617718696594, 0.21779648959636688, 0.22896748781204224, 0.2338716834783554, 0.22906461358070374], 0.1: [0.3014412522315979, 0.3063242435455322, 0.3292928636074066, 0.337015837430954, 0.3061463236808777], 0.2: [0.3803704082965851, 0.38981688022613525, 0.4149033725261688, 0.41764312982559204, 0.38278937339782715], 0.3: [0.4247247278690338, 0.43372929096221924, 0.4546040892601013, 0.4531361758708954, 0.4280639886856079], 0.5: [0.4722212553024292, 0.5007399916648865, 0.49988555908203125, 0.49332427978515625, 0.4744429588317871], 0.8: [0.5067257881164551, 0.531554639339447, 0.5331424474716187, 0.5302743911743164, 0.511115550994873], 0.9: [0.5166720151901245, 0.5393908023834229, 0.5403872728347778, 0.5381578803062439, 0.5174357891082764]}\n",
      "resnet50 nonrob flowers\n",
      "Full Acc: [0.6093673706054688]\n",
      "For 0.0005, acc: 0.026573426276445388 +/- 0.007285011006951087\n",
      "For 0.001, acc: 0.00621239235624671 +/- 0.0002602049498819166\n",
      "For 0.002, acc: 0.008619287703186273 +/- 0.0014289077591939014\n",
      "For 0.003, acc: 0.012229630816727876 +/- 0.0036602515831594086\n",
      "For 0.004, acc: 0.014116116613149644 +/- 0.0040512349792035714\n",
      "For 0.005, acc: 0.013563181087374688 +/- 0.0027418146060108287\n",
      "For 0.01, acc: 0.01554724331945181 +/- 0.006377508692342312\n",
      "For 0.05, acc: 0.06492112427949906 +/- 0.014095416094228971\n",
      "For 0.1, acc: 0.13374532461166383 +/- 0.010798601215199329\n",
      "For 0.2, acc: 0.24143763780593872 +/- 0.032538887837133434\n",
      "For 0.3, acc: 0.3273052453994751 +/- 0.05013648027287376\n",
      "For 0.5, acc: 0.4753293216228485 +/- 0.036650380361388395\n",
      "For 0.8, acc: 0.5671166062355042 +/- 0.013392254972454129\n",
      "For 0.9, acc: 0.5921613216400147 +/- 0.007875227912209834\n",
      "\n",
      "[(0.0005, 0.001, 0.002, 0.003, 0.004, 0.005, 0.01, 0.05, 0.1, 0.2, 0.3, 0.5, 0.8, 0.9), (0.0005, 0.001, 0.002, 0.003, 0.004, 0.005, 0.01, 0.05, 0.1, 0.2, 0.3, 0.5, 0.8, 0.9)] [[0.014511564932763576, 0.011395023204386234, 0.012772207148373127, 0.016449311375617982, 0.01930364202708006, 0.018237112462520598, 0.02126753218472004, 0.07988665848970414, 0.15925658345222474, 0.29998232126235963, 0.3856737554073334, 0.5284679293632507, 0.6277981758117676, 0.6479145884513855], [0.026573426276445388, 0.00621239235624671, 0.008619287703186273, 0.012229630816727876, 0.014116116613149644, 0.013563181087374688, 0.01554724331945181, 0.06492112427949906, 0.13374532461166383, 0.24143763780593872, 0.3273052453994751, 0.4753293216228485, 0.5671166062355042, 0.5921613216400147]]\n"
     ]
    },
    {
     "data": {
      "image/png": "[encoded data removed]",
      "text/plain": [
       "<Figure size 720x432 with 1 Axes>"
      ]
     },
     "metadata": {},
     "output_type": "display_data"
    },
    {
     "name": "stdout",
     "output_type": "stream",
     "text": [
      "flowers {0.0005: [0.016190174967050552, 0.010803703218698502, 0.018608514219522476, 0.015186700969934464, 0.011768731288611889], 0.001: [0.011303518898785114, 0.012272391468286514, 0.011307363398373127, 0.010311576537787914, 0.011780265718698502], 0.002: [0.01572880893945694, 0.012283925898373127, 0.008839043788611889, 0.012283924967050552, 0.014725332148373127], 0.003: [0.010769100859761238, 0.02007720246911049, 0.017628107219934464, 0.013706477358937263, 0.02006566897034645], 0.004: [0.0161747969686985, 0.013225886039435863, 0.027428336441516876, 0.020584706217050552, 0.0191044844686985], 0.005: [0.025990404188632965, 0.016163263469934464, 0.018635425716638565, 0.015690360218286514, 0.014706108719110489], 0.01: [0.011265071108937263, 0.022510919719934464, 0.020115649327635765, 0.020588552579283714, 0.03185746818780899], 0.05: [0.07545290887355804, 0.10390779376029968, 0.07938607037067413, 0.056394562125205994, 0.0842919573187828], 0.1: [0.17691545188426971, 0.18575064837932587, 0.14991003274917603, 0.13481560349464417, 0.14889118075370789], 0.2: [0.32976287603378296, 0.3449764847755432, 0.29896652698516846, 0.2572088837623596, 0.26899683475494385], 0.3: [0.3949234187602997, 0.4351470172405243, 0.42003339529037476, 0.31123507022857666, 0.3670298755168915], 0.5: [0.48720473051071167, 0.5395815372467041, 0.5759949684143066, 0.5112189054489136, 0.5283395051956177], 0.8: [0.641616940498352, 0.625922679901123, 0.6348271369934082, 0.6117395162582397, 0.6248846054077148], 0.9: [0.660283088684082, 0.6401559114456177, 0.6494986414909363, 0.6391831636428833, 0.6504521369934082]}\n",
      "resnet50 nonrob oxford-iiit-pets\n",
      "Full Acc: [0.9250476956367493]\n",
      "For 0.0005, acc: 0.038103025406599045 +/- 0.008177341308596387\n",
      "For 0.001, acc: 0.03521395437419415 +/- 0.00873941992359456\n",
      "For 0.002, acc: 0.04666121639311314 +/- 0.013397234931674759\n",
      "For 0.003, acc: 0.07762333005666733 +/- 0.020485026030461324\n",
      "For 0.004, acc: 0.09174161851406097 +/- 0.018634075937694623\n",
      "For 0.005, acc: 0.12968111038208008 +/- 0.016608704934920195\n",
      "For 0.01, acc: 0.2293813019990921 +/- 0.021495218206509372\n",
      "For 0.05, acc: 0.6634505391120911 +/- 0.015264365704314352\n",
      "For 0.1, acc: 0.8272008895874023 +/- 0.020093711473200843\n",
      "For 0.2, acc: 0.8811120390892029 +/- 0.005032730105842776\n",
      "For 0.3, acc: 0.900463342666626 +/- 0.0015552239476742957\n",
      "For 0.5, acc: 0.9107113599777221 +/- 0.0044371991757682396\n",
      "For 0.8, acc: 0.9212864518165589 +/- 0.0021967230507753794\n",
      "For 0.9, acc: 0.9223221659660339 +/- 0.0009902344984950649\n",
      "\n",
      "[(0.0005, 0.001, 0.002, 0.003, 0.004, 0.005, 0.01, 0.05, 0.1, 0.2, 0.3, 0.5, 0.8, 0.9), (0.0005, 0.001, 0.002, 0.003, 0.004, 0.005, 0.01, 0.05, 0.1, 0.2, 0.3, 0.5, 0.8, 0.9)] [[0.040444265305995944, 0.039582058787345886, 0.049146144092082976, 0.08153391182422638, 0.09218056499958038, 0.12274215817451477, 0.21355086863040923, 0.6104742646217346, 0.771560788154602, 0.8358458161354065, 0.8629361867904664, 0.8861737012863159, 0.9038476586341858, 0.9074626326560974], [0.038103025406599045, 0.03521395437419415, 0.04666121639311314, 0.07762333005666733, 0.09174161851406097, 0.12968111038208008, 0.2293813019990921, 0.6634505391120911, 0.8272008895874023, 0.8811120390892029, 0.900463342666626, 0.9107113599777221, 0.9212864518165589, 0.9223221659660339]]\n"
     ]
    },
    {
     "data": {
      "image/png": "[encoded data removed]",
      "text/plain": [
       "<Figure size 720x432 with 1 Axes>"
      ]
     },
     "metadata": {},
     "output_type": "display_data"
    },
    {
     "name": "stdout",
     "output_type": "stream",
     "text": [
      "oxford-iiit-pets {0.0005: [0.03469768911600113, 0.058588091284036636, 0.03629273921251297, 0.0309605710208416, 0.04168223589658737], 0.001: [0.030226025730371475, 0.055158089846372604, 0.039285410195589066, 0.03873626887798309, 0.03450449928641319], 0.002: [0.028879359364509583, 0.0738663375377655, 0.05397772043943405, 0.047850146889686584, 0.041157156229019165], 0.003: [0.0827813595533371, 0.10337692499160767, 0.06356431543827057, 0.06623782962560654, 0.09170912951231003], 0.004: [0.07443670928478241, 0.12382034212350845, 0.08565443754196167, 0.08386194705963135, 0.09312938898801804], 0.005: [0.12067269533872604, 0.146384596824646, 0.13172341883182526, 0.10493730008602142, 0.10999277979135513], 0.01: [0.2339957058429718, 0.22673234343528748, 0.2207576036453247, 0.19179333746433258, 0.19447535276412964], 0.05: [0.6108617782592773, 0.6254861354827881, 0.6365283727645874, 0.5820227861404419, 0.5974722504615784], 0.1: [0.7790336608886719, 0.7696975469589233, 0.7826730608940125, 0.7702997326850891, 0.7560999393463135], 0.2: [0.841964602470398, 0.8368780016899109, 0.8391941785812378, 0.8352539539337158, 0.82593834400177], 0.3: [0.8646101951599121, 0.8597174882888794, 0.8650786876678467, 0.8624582290649414, 0.862816333770752], 0.5: [0.8863422870635986, 0.8862919807434082, 0.8874369859695435, 0.8834012746810913, 0.887395977973938], 0.8: [0.9048863649368286, 0.9045282602310181, 0.9042883515357971, 0.9032028913497925, 0.9023324251174927], 0.9: [0.9073482751846313, 0.9088555574417114, 0.9061806201934814, 0.9091783165931702, 0.9057503938674927]}\n",
      "resnet50 robustl2eps3 cifar10\n",
      "Full Acc: [0.8769999742507935]\n",
      "For 0.0005, acc: 0.1314400002360344 +/- 0.01506075620786133\n",
      "For 0.001, acc: 0.156980000436306 +/- 0.0246253865743282\n",
      "For 0.002, acc: 0.2222400039434433 +/- 0.04020441083635361\n",
      "For 0.003, acc: 0.25476000308990476 +/- 0.02253500904240569\n",
      "For 0.004, acc: 0.2949400007724762 +/- 0.026901274236146095\n",
      "For 0.005, acc: 0.32829999923706055 +/- 0.014486957775828911\n",
      "For 0.01, acc: 0.4647800028324127 +/- 0.013936343912611187\n",
      "For 0.05, acc: 0.7464800000190734 +/- 0.00953759206997557\n",
      "For 0.1, acc: 0.806580001115799 +/- 0.004824339234640103\n",
      "For 0.2, acc: 0.8412400046984355 +/- 0.0024104738380752205\n",
      "For 0.3, acc: 0.8542899986108144 +/- 0.003148257700571644\n",
      "For 0.5, acc: 0.8674600005149842 +/- 0.0016906668615992474\n",
      "For 0.8, acc: 0.8755199909210205 +/- 0.0016714033617998678\n",
      "For 0.9, acc: 0.8769400119781494 +/- 0.0020548387358053804\n",
      "\n",
      "[(0.0005, 0.001, 0.002, 0.003, 0.004, 0.005, 0.01, 0.05, 0.1, 0.2, 0.3, 0.5, 0.8, 0.9), (0.0005, 0.001, 0.002, 0.003, 0.004, 0.005, 0.01, 0.05, 0.1, 0.2, 0.3, 0.5, 0.8, 0.9)] [[0.12184843122959137, 0.1438029259443283, 0.2061143547296524, 0.23504794239997864, 0.264312881231308, 0.2914926052093506, 0.3945509135723114, 0.6162928938865662, 0.6765715877215067, 0.7163660605748494, 0.7332340757052104, 0.7526294946670532, 0.7668550133705139, 0.7698418498039246], [0.1314400002360344, 0.156980000436306, 0.2222400039434433, 0.25476000308990476, 0.2949400007724762, 0.32829999923706055, 0.4647800028324127, 0.7464800000190734, 0.806580001115799, 0.8412400046984355, 0.8542899986108144, 0.8674600005149842, 0.8755199909210205, 0.8769400119781494]]\n"
     ]
    },
    {
     "data": {
      "image/png": "[encoded data removed]",
      "text/plain": [
       "<Figure size 720x432 with 1 Axes>"
      ]
     },
     "metadata": {},
     "output_type": "display_data"
    },
    {
     "name": "stdout",
     "output_type": "stream",
     "text": [
      "cifar10 {0.0005: [0.1265285313129425, 0.11961649358272552, 0.1151275485754013, 0.13065218925476074, 0.11731739342212677], 0.001: [0.14361095428466797, 0.13518540561199188, 0.156280517578125, 0.14698590338230133, 0.13695184886455536], 0.002: [0.2291000336408615, 0.1645336002111435, 0.19693802297115326, 0.23509949445724487, 0.2049006223678589], 0.003: [0.2579345703125, 0.2001740038394928, 0.2335602045059204, 0.252212256193161, 0.23135867714881897], 0.004: [0.2836717963218689, 0.24395880103111267, 0.255433589220047, 0.2808268666267395, 0.25767335295677185], 0.005: [0.2949533462524414, 0.27139902114868164, 0.28784245252609253, 0.30811557173728943, 0.2951526343822479], 0.01: [0.3885359764099121, 0.37577682733535767, 0.3989194631576538, 0.4053497612476349, 0.40417253971099854], 0.05: [0.6182283163070679, 0.6137151718139648, 0.6077014803886414, 0.6191455125808716, 0.6226739883422852], 0.1: [0.6775320172309875, 0.6780551075935364, 0.6724922060966492, 0.6817494630813599, 0.6792911291122437, 0.683421790599823, 0.6745122671127319, 0.6798740029335022, 0.6766034960746765, 0.6715466380119324, 0.6815091371536255, 0.6768525242805481, 0.6776573061943054, 0.6808916330337524, 0.6707569360733032, 0.6750662326812744, 0.6779665946960449, 0.6770604848861694, 0.6721948385238647, 0.6764439344406128, 0.6758811473846436, 0.6762242913246155, 0.6801029443740845, 0.6779911518096924, 0.6734552383422852, 0.674118161201477, 0.6754262447357178, 0.6738287210464478, 0.6776734590530396, 0.6709685325622559], 0.2: [0.7172002196311951, 0.7168600559234619, 0.7174494862556458, 0.7189512252807617, 0.7189836502075195, 0.7214350700378418, 0.7177807688713074, 0.717993438243866, 0.7175910472869873, 0.7132390737533569, 0.7177608013153076, 0.7178879380226135, 0.7164427042007446, 0.7184861898422241, 0.7142688632011414, 0.7185892462730408, 0.7207624912261963, 0.716364324092865, 0.7129363417625427, 0.7125223875045776, 0.7153862714767456, 0.7170798778533936, 0.7153695821762085, 0.7155619263648987, 0.7146793603897095, 0.7119830250740051, 0.7143644094467163, 0.7149653434753418, 0.7141028642654419, 0.7139838337898254], 0.3: [0.7336753606796265, 0.7328656911849976, 0.7358758449554443, 0.7371066212654114, 0.7354097366333008, 0.7376096248626709, 0.7368738651275635, 0.7370842695236206, 0.731465220451355, 0.7300180196762085, 0.7344151735305786, 0.7344218492507935, 0.732364296913147, 0.7339629530906677, 0.7314574718475342, 0.7349900603294373, 0.7362911105155945, 0.7326608300209045, 0.7307367324829102, 0.7299171090126038, 0.7323698997497559, 0.732689380645752, 0.7326529026031494, 0.7317922115325928, 0.7310670018196106, 0.7316831946372986, 0.7323746085166931, 0.7296004295349121, 0.7324356436729431, 0.7311551570892334], 0.5: [0.7511133551597595, 0.7538079619407654, 0.7538177371025085, 0.7543147802352905, 0.7500936388969421], 0.8: [0.7646709680557251, 0.7690582275390625, 0.7683320045471191, 0.7680928707122803, 0.7641209959983826], 0.9: [0.7667981386184692, 0.7720190286636353, 0.7719393372535706, 0.7717217206954956, 0.7667310237884521]}\n",
      "resnet50 robustl2eps3 cifar100\n",
      "Full Acc: [0.67330002784729]\n",
      "For 0.0005, acc: 0.01801999993622303 +/- 0.0034066995708176193\n",
      "For 0.001, acc: 0.026900000125169753 +/- 0.006810873597316359\n",
      "For 0.002, acc: 0.0446600005030632 +/- 0.006963504462551751\n",
      "For 0.003, acc: 0.06223999932408333 +/- 0.009385435487457742\n",
      "For 0.004, acc: 0.07782499957829714 +/- 0.01083682989986232\n",
      "For 0.005, acc: 0.09689999930560589 +/- 0.013855864990479354\n",
      "For 0.01, acc: 0.19107500091195107 +/- 0.01588495616935138\n",
      "For 0.05, acc: 0.4841750040650368 +/- 0.01358333689962108\n",
      "For 0.1, acc: 0.5728344876190712 +/- 0.0057015629237057025\n",
      "For 0.2, acc: 0.6242428634847913 +/- 0.004221916165377714\n",
      "For 0.3, acc: 0.6456148116676895 +/- 0.004038585012382039\n",
      "For 0.5, acc: 0.660974994301796 +/- 0.005536865006920599\n",
      "For 0.8, acc: 0.6710000038146973 +/- 0.004825471262610979\n",
      "For 0.9, acc: 0.6745000034570694 +/- 0.00511223799635673\n",
      "\n",
      "[(0.0005, 0.001, 0.002, 0.003, 0.004, 0.005, 0.01, 0.05, 0.1, 0.2, 0.3, 0.5, 0.8, 0.9), (0.0005, 0.001, 0.002, 0.003, 0.004, 0.005, 0.01, 0.05, 0.1, 0.2, 0.3, 0.5, 0.8, 0.9)] [[0.017946957796812057, 0.026887860149145126, 0.044228294491767885, 0.05963435396552086, 0.07339688949286938, 0.08964258059859276, 0.16283945366740227, 0.3791906088590622, 0.4548743665218353, 0.5066236672656876, 0.5314466445534317, 0.5522953569889069, 0.5750521421432495, 0.5802970677614212], [0.01801999993622303, 0.026900000125169753, 0.0446600005030632, 0.06223999932408333, 0.07782499957829714, 0.09689999930560589, 0.19107500091195107, 0.4841750040650368, 0.5728344876190712, 0.6242428634847913, 0.6456148116676895, 0.660974994301796, 0.6710000038146973, 0.6745000034570694]]\n"
     ]
    },
    {
     "data": {
      "image/png": "[encoded data removed]",
      "text/plain": [
       "<Figure size 720x432 with 1 Axes>"
      ]
     },
     "metadata": {},
     "output_type": "display_data"
    },
    {
     "name": "stdout",
     "output_type": "stream",
     "text": [
      "cifar100 {0.0005: [0.016172125935554504, 0.015453372150659561, 0.021434810012578964, 0.01907464489340782, 0.017599835991859436], 0.001: [0.020859677344560623, 0.02661735564470291, 0.03304462507367134, 0.026639217510819435, 0.02727842517197132], 0.002: [0.03521612286567688, 0.042476702481508255, 0.04738454148173332, 0.049077313393354416, 0.046986792236566544], 0.003: [0.051436617970466614, 0.05589158833026886, 0.0636361837387085, 0.0619710348546505, 0.06523634493350983], 0.004: [0.06971809267997742, 0.06995562463998795, 0.07715532928705215, 0.07675851136445999], 0.005: [0.08689111471176147, 0.086604043841362, 0.09456060081720352, 0.09051456302404404], 0.01: [0.1501409113407135, 0.15524908900260925, 0.17078223824501038, 0.17518557608127594], 0.05: [0.37309718132019043, 0.36608925461769104, 0.3917955160140991, 0.3857804834842682], 0.1: [0.44078660011291504, 0.44210606813430786, 0.457633912563324, 0.4577689468860626, 0.45761507749557495, 0.4577135145664215, 0.4566030204296112, 0.45482370257377625, 0.4556722640991211, 0.45868203043937683, 0.4517541229724884, 0.45568931102752686, 0.46266689896583557, 0.4571847915649414, 0.45566076040267944, 0.45719611644744873, 0.455463707447052, 0.4498906433582306, 0.45988526940345764, 0.45327118039131165, 0.45040643215179443, 0.45825207233428955, 0.45787182450294495, 0.45238709449768066, 0.45390599966049194, 0.4553312063217163, 0.457944393157959, 0.4548802077770233, 0.4523094594478607], 0.2: [0.4912300705909729, 0.4933592975139618, 0.5091812014579773, 0.508331298828125, 0.5082158446311951, 0.5058215856552124, 0.5095200538635254, 0.5057661533355713, 0.5093631744384766, 0.5092456340789795, 0.5056665539741516, 0.5059798359870911, 0.5131543278694153, 0.5078164339065552, 0.5074714422225952, 0.5074632167816162, 0.5071060061454773, 0.5046839714050293, 0.5089876651763916, 0.5078404545783997, 0.5087054967880249, 0.5078269839286804, 0.5077454447746277, 0.5063895583152771, 0.5055155754089355, 0.5077425241470337, 0.5093105435371399, 0.5060223340988159], 0.3: [0.5166686773300171, 0.5177937746047974, 0.5320656895637512, 0.5319438576698303, 0.5330182313919067, 0.5324133038520813, 0.5330376029014587, 0.5329837799072266, 0.5322989821434021, 0.531973659992218, 0.5317163467407227, 0.5350406169891357, 0.5309146642684937, 0.5323255062103271, 0.5334582328796387, 0.5315219759941101, 0.5310302972793579, 0.5326236486434937, 0.5325373411178589, 0.533448338508606, 0.5334034562110901, 0.5342729687690735, 0.5307184457778931, 0.5325923562049866, 0.532127320766449, 0.5347336530685425, 0.532396674156189], 0.5: [0.5436294078826904, 0.5442122220993042, 0.5617541670799255, 0.5595856308937073], 0.8: [0.566443920135498, 0.5674940943717957, 0.5831252932548523, 0.583145260810852], 0.9: [0.5717778205871582, 0.5724204778671265, 0.5886604189872742, 0.588329553604126]}\n",
      "resnet50 robustl2eps3 flowers\n",
      "Full Acc: [0.7342657446861267]\n",
      "For 0.0005, acc: 0.022995609045028686 +/- 0.007318335686529288\n",
      "For 0.001, acc: 0.009269799944013358 +/- 0.0017545752000124675\n",
      "For 0.002, acc: 0.009074646327644587 +/- 0.002779751093667131\n",
      "For 0.003, acc: 0.010831029340624809 +/- 0.0007806145353242947\n",
      "For 0.004, acc: 0.019873150251805784 +/- 0.006908458723777038\n",
      "For 0.005, acc: 0.02010082919150591 +/- 0.007034561651318301\n",
      "For 0.01, acc: 0.051357944309711454 +/- 0.004994985028727886\n",
      "For 0.05, acc: 0.3445113003253937 +/- 0.01768257191323602\n",
      "For 0.1, acc: 0.5082452416419982 +/- 0.007474812971355949\n",
      "For 0.2, acc: 0.6200032591819763 +/- 0.007482029809042439\n",
      "For 0.3, acc: 0.6631322145462036 +/- 0.004499362800260611\n",
      "For 0.5, acc: 0.7022605299949646 +/- 0.002826909923444239\n",
      "For 0.8, acc: 0.7256139159202576 +/- 0.0012739130472102943\n",
      "For 0.9, acc: 0.7309155941009522 +/- 0.0024547788311150612\n",
      "\n",
      "[(0.0005, 0.001, 0.002, 0.003, 0.004, 0.005, 0.01, 0.05, 0.1, 0.2, 0.3, 0.5, 0.8, 0.9), (0.0005, 0.001, 0.002, 0.003, 0.004, 0.005, 0.01, 0.05, 0.1, 0.2, 0.3, 0.5, 0.8, 0.9)] [[0.014020976610481739, 0.014790692925453186, 0.016283218935132026, 0.021931133046746255, 0.03145530894398689, 0.03605361208319664, 0.08206431418657303, 0.44133474826812746, 0.6102077484130859, 0.7257351160049439, 0.7670037150382996, 0.8056440949440002, 0.8342750668525696, 0.8420414090156555], [0.022995609045028686, 0.009269799944013358, 0.009074646327644587, 0.010831029340624809, 0.019873150251805784, 0.02010082919150591, 0.051357944309711454, 0.3445113003253937, 0.5082452416419982, 0.6200032591819763, 0.6631322145462036, 0.7022605299949646, 0.7256139159202576, 0.7309155941009522]]\n"
     ]
    },
    {
     "data": {
      "image/png": "[encoded data removed]",
      "text/plain": [
       "<Figure size 720x432 with 1 Axes>"
      ]
     },
     "metadata": {},
     "output_type": "display_data"
    },
    {
     "name": "stdout",
     "output_type": "stream",
     "text": [
      "flowers {0.0005: [0.009830985218286514, 0.01665923371911049, 0.014221671968698502, 0.013718011789023876, 0.015674980357289314], 0.001: [0.013698788359761238, 0.012257013469934464, 0.014187069609761238, 0.015205923467874527, 0.018604669719934464], 0.002: [0.014221671968698502, 0.01963505893945694, 0.017185963690280914, 0.017616571858525276, 0.012756828218698502], 0.003: [0.017612727358937263, 0.022510919719934464, 0.021061453968286514, 0.022038016468286514, 0.026432547718286514], 0.004: [0.0274360254406929, 0.03771299868822098, 0.028950847685337067, 0.024483267217874527, 0.03869340568780899], 0.005: [0.03526005893945694, 0.03529081493616104, 0.046559736132621765, 0.019573543220758438, 0.043583907186985016], 0.01: [0.0711045116186142, 0.08043568581342697, 0.0759565681219101, 0.07838644087314606, 0.10443836450576782], 0.05: [0.4238819479942322, 0.4023206830024719, 0.4704263210296631, 0.46700066328048706, 0.44304412603378296], 0.1: [0.5974985957145691, 0.6043345332145691, 0.6130735874176025, 0.6165608167648315, 0.6195712089538574], 0.2: [0.7215105295181274, 0.7263933420181274, 0.7230215072631836, 0.7367357015609741, 0.7210144996643066], 0.3: [0.7714959383010864, 0.7656518816947937, 0.7592196464538574, 0.7769016027450562, 0.7617495059967041], 0.5: [0.804875910282135, 0.8068059682846069, 0.8028651475906372, 0.805371880531311, 0.808301568031311], 0.8: [0.8308432698249817, 0.8333154320716858, 0.8377060890197754, 0.8352339267730713, 0.8342766165733337], 0.9: [0.8391786217689514, 0.8396938443183899, 0.8426312208175659, 0.8450956344604492, 0.8436077237129211]}\n",
      "resnet50 robustl2eps3 oxford-iiit-pets\n",
      "Full Acc: [0.8351049423217773]\n",
      "For 0.0005, acc: 0.04170073643326759 +/- 0.0027036461521593768\n",
      "For 0.001, acc: 0.05821749866008759 +/- 0.012212846308097696\n",
      "For 0.002, acc: 0.08863450437784196 +/- 0.00692822953796489\n",
      "For 0.003, acc: 0.1336058869957924 +/- 0.01121306195301406\n",
      "For 0.004, acc: 0.17138184905052184 +/- 0.005759599379411966\n",
      "For 0.005, acc: 0.20179885923862456 +/- 0.005902786431442341\n",
      "For 0.01, acc: 0.3496865689754486 +/- 0.013139249295626194\n",
      "For 0.05, acc: 0.721395468711853 +/- 0.0070092407751869415\n",
      "For 0.1, acc: 0.7830471515655517 +/- 0.006629281481896468\n",
      "For 0.2, acc: 0.8175524592399597 +/- 0.004366305119027026\n",
      "For 0.3, acc: 0.8268738031387329 +/- 0.001415177626789115\n",
      "For 0.5, acc: 0.8323248744010925 +/- 0.0018029795184737521\n",
      "For 0.8, acc: 0.834232759475708 +/- 0.0023088458558957426\n",
      "For 0.9, acc: 0.8352139472961426 +/- 0.000442853667606049\n",
      "\n",
      "[(0.0005, 0.001, 0.002, 0.003, 0.004, 0.005, 0.01, 0.05, 0.1, 0.2, 0.3, 0.5, 0.8, 0.9), (0.0005, 0.001, 0.002, 0.003, 0.004, 0.005, 0.01, 0.05, 0.1, 0.2, 0.3, 0.5, 0.8, 0.9)] [[0.04363153874874115, 0.06006581112742424, 0.09189778864383698, 0.12616210877895356, 0.1581554263830185, 0.18920643329620362, 0.3256767988204956, 0.655948257446289, 0.7373579144477844, 0.7891218066215515, 0.8135061621665954, 0.837404751777649, 0.8550066471099853, 0.8589044213294983], [0.04170073643326759, 0.05821749866008759, 0.08863450437784196, 0.1336058869957924, 0.17138184905052184, 0.20179885923862456, 0.3496865689754486, 0.721395468711853, 0.7830471515655517, 0.8175524592399597, 0.8268738031387329, 0.8323248744010925, 0.834232759475708, 0.8352139472961426]]\n"
     ]
    },
    {
     "data": {
      "image/png": "[encoded data removed]",
      "text/plain": [
       "<Figure size 720x432 with 1 Axes>"
      ]
     },
     "metadata": {},
     "output_type": "display_data"
    },
    {
     "name": "stdout",
     "output_type": "stream",
     "text": [
      "oxford-iiit-pets {0.0005: [0.045089587569236755, 0.04245499521493912, 0.038943614810705185, 0.04593948274850845, 0.04573001340031624], 0.001: [0.06291751563549042, 0.061183761805295944, 0.05006156116724014, 0.06931541860103607, 0.056850798428058624], 0.002: [0.09594443440437317, 0.08386974036693573, 0.09413142502307892, 0.09558424353599548, 0.08995909988880157], 0.003: [0.13256269693374634, 0.13077020645141602, 0.12537223100662231, 0.13186636567115784, 0.11023904383182526], 0.004: [0.14109840989112854, 0.17126712203025818, 0.15814226865768433, 0.1646314561367035, 0.15563787519931793], 0.005: [0.18685957789421082, 0.19816789031028748, 0.18949416279792786, 0.19604915380477905, 0.17546138167381287], 0.01: [0.3124738335609436, 0.33825719356536865, 0.33414924144744873, 0.2920806407928467, 0.35142308473587036], 0.05: [0.6637383699417114, 0.6440904140472412, 0.6644255518913269, 0.6538354754447937, 0.6536514759063721], 0.1: [0.7291228175163269, 0.7418556213378906, 0.7418534755706787, 0.737926721572876, 0.7360309362411499], 0.2: [0.7914423942565918, 0.7881609201431274, 0.785999059677124, 0.78734290599823, 0.7926637530326843], 0.3: [0.8182610273361206, 0.815618634223938, 0.8100515604019165, 0.811561644077301, 0.8120379447937012], 0.5: [0.8380377888679504, 0.8393604755401611, 0.8381432294845581, 0.8363189101219177, 0.8351633548736572], 0.8: [0.8572859764099121, 0.8545452356338501, 0.8544971346855164, 0.8547200560569763, 0.8539848327636719], 0.9: [0.8596545457839966, 0.860568106174469, 0.8584543466567993, 0.8587076663970947, 0.8571374416351318]}\n",
      "Uploading results in ['results/transfer_analysis/imagenet'] to contact.mpi-sws.org...\n",
      "Uploading 31 files to server\n",
      "copying results/transfer_analysis/imagenet/resnet50_mrl_cifar10_bs_256_nonrob_random.png to /home/vnanda/public_html/results/partially_inverted_reps/transfer_analysis/imagenet/resnet50_mrl_cifar10_bs_256_nonrob_random.png\n",
      "copying results/transfer_analysis/imagenet/resnet50_cifar10_bs_256_robustl2eps3.png to /home/vnanda/public_html/results/partially_inverted_reps/transfer_analysis/imagenet/resnet50_cifar10_bs_256_robustl2eps3.png\n",
      "copying results/transfer_analysis/imagenet/resnet50_mrl_flowers_bs_256_nonrob_first.png to /home/vnanda/public_html/results/partially_inverted_reps/transfer_analysis/imagenet/resnet50_mrl_flowers_bs_256_nonrob_first.png\n",
      "copying results/transfer_analysis/imagenet/resnet50_cifar100_bs_256_nonrob.png to /home/vnanda/public_html/results/partially_inverted_reps/transfer_analysis/imagenet/resnet50_cifar100_bs_256_nonrob.png\n",
      "copying results/transfer_analysis/imagenet/resnet50_mrl_cifar100_bs_256_nonrob_first.png to /home/vnanda/public_html/results/partially_inverted_reps/transfer_analysis/imagenet/resnet50_mrl_cifar100_bs_256_nonrob_first.png\n",
      "copying results/transfer_analysis/imagenet/resnet50_cifar100_bs_256_robustl2eps3_random.png to /home/vnanda/public_html/results/partially_inverted_reps/transfer_analysis/imagenet/resnet50_cifar100_bs_256_robustl2eps3_random.png\n",
      "copying results/transfer_analysis/imagenet/resnet50_flowers_bs_256_nonrob.png to /home/vnanda/public_html/results/partially_inverted_reps/transfer_analysis/imagenet/resnet50_flowers_bs_256_nonrob.png\n",
      "copying results/transfer_analysis/imagenet/resnet50_oxford-iiit-pets_bs_256_nonrob.png to /home/vnanda/public_html/results/partially_inverted_reps/transfer_analysis/imagenet/resnet50_oxford-iiit-pets_bs_256_nonrob.png\n",
      "copying results/transfer_analysis/imagenet/resnet50_mrl_cifar100_bs_256_nonrob_random.png to /home/vnanda/public_html/results/partially_inverted_reps/transfer_analysis/imagenet/resnet50_mrl_cifar100_bs_256_nonrob_random.png\n",
      "copying results/transfer_analysis/imagenet/resnet50_cifar100.png to /home/vnanda/public_html/results/partially_inverted_reps/transfer_analysis/imagenet/resnet50_cifar100.png\n",
      "copying results/transfer_analysis/imagenet/resnet50_cifar10.png to /home/vnanda/public_html/results/partially_inverted_reps/transfer_analysis/imagenet/resnet50_cifar10.png\n",
      "copying results/transfer_analysis/imagenet/resnet50_mrl_flowers_bs_256_nonrob_random.png to /home/vnanda/public_html/results/partially_inverted_reps/transfer_analysis/imagenet/resnet50_mrl_flowers_bs_256_nonrob_random.png\n",
      "copying results/transfer_analysis/imagenet/resnet50_flowers_bs_256_robustl2eps3_random.png to /home/vnanda/public_html/results/partially_inverted_reps/transfer_analysis/imagenet/resnet50_flowers_bs_256_robustl2eps3_random.png\n",
      "copying results/transfer_analysis/imagenet/resnet50_ff2048_flowers_bs_256_mrl0_nonrob_random.png to /home/vnanda/public_html/results/partially_inverted_reps/transfer_analysis/imagenet/resnet50_ff2048_flowers_bs_256_mrl0_nonrob_random.png\n",
      "copying results/transfer_analysis/imagenet/resnet50_ff2048_cifar100_bs_256_mrl0_nonrob_random.png to /home/vnanda/public_html/results/partially_inverted_reps/transfer_analysis/imagenet/resnet50_ff2048_cifar100_bs_256_mrl0_nonrob_random.png\n",
      "copying results/transfer_analysis/imagenet/resnet50_flowers.png to /home/vnanda/public_html/results/partially_inverted_reps/transfer_analysis/imagenet/resnet50_flowers.png\n",
      "copying results/transfer_analysis/imagenet/resnet50_cifar10_bs_256_nonrob_random.png to /home/vnanda/public_html/results/partially_inverted_reps/transfer_analysis/imagenet/resnet50_cifar10_bs_256_nonrob_random.png\n",
      "copying results/transfer_analysis/imagenet/resnet50_oxford-iiit-pets_bs_256_robustl2eps3.png to /home/vnanda/public_html/results/partially_inverted_reps/transfer_analysis/imagenet/resnet50_oxford-iiit-pets_bs_256_robustl2eps3.png\n",
      "copying results/transfer_analysis/imagenet/resnet50_oxford-iiit-pets.png to /home/vnanda/public_html/results/partially_inverted_reps/transfer_analysis/imagenet/resnet50_oxford-iiit-pets.png\n",
      "copying results/transfer_analysis/imagenet/resnet50_oxford-iiit-pets_bs_256_robustl2eps3_random.png to /home/vnanda/public_html/results/partially_inverted_reps/transfer_analysis/imagenet/resnet50_oxford-iiit-pets_bs_256_robustl2eps3_random.png\n",
      "copying results/transfer_analysis/imagenet/resnet50_mrl_cifar10_bs_256_nonrob_first.png to /home/vnanda/public_html/results/partially_inverted_reps/transfer_analysis/imagenet/resnet50_mrl_cifar10_bs_256_nonrob_first.png\n",
      "copying results/transfer_analysis/imagenet/resnet50_cifar100_bs_256_nonrob_random.png to /home/vnanda/public_html/results/partially_inverted_reps/transfer_analysis/imagenet/resnet50_cifar100_bs_256_nonrob_random.png\n",
      "copying results/transfer_analysis/imagenet/resnet50_cifar10_bs_256_robustl2eps3_random.png to /home/vnanda/public_html/results/partially_inverted_reps/transfer_analysis/imagenet/resnet50_cifar10_bs_256_robustl2eps3_random.png\n",
      "copying results/transfer_analysis/imagenet/resnet50_flowers_bs_256_nonrob_random.png to /home/vnanda/public_html/results/partially_inverted_reps/transfer_analysis/imagenet/resnet50_flowers_bs_256_nonrob_random.png\n",
      "copying results/transfer_analysis/imagenet/resnet50_mrl_oxford-iiit-pets_bs_256_nonrob_first.png to /home/vnanda/public_html/results/partially_inverted_reps/transfer_analysis/imagenet/resnet50_mrl_oxford-iiit-pets_bs_256_nonrob_first.png\n",
      "copying results/transfer_analysis/imagenet/resnet50_flowers_bs_256_robustl2eps3.png to /home/vnanda/public_html/results/partially_inverted_reps/transfer_analysis/imagenet/resnet50_flowers_bs_256_robustl2eps3.png\n",
      "copying results/transfer_analysis/imagenet/resnet50_mrl_oxford-iiit-pets_bs_256_nonrob_random.png to /home/vnanda/public_html/results/partially_inverted_reps/transfer_analysis/imagenet/resnet50_mrl_oxford-iiit-pets_bs_256_nonrob_random.png\n",
      "copying results/transfer_analysis/imagenet/resnet50_oxford-iiit-pets_bs_256_nonrob_random.png to /home/vnanda/public_html/results/partially_inverted_reps/transfer_analysis/imagenet/resnet50_oxford-iiit-pets_bs_256_nonrob_random.png\n",
      "copying results/transfer_analysis/imagenet/resnet50_cifar100_bs_256_robustl2eps3.png to /home/vnanda/public_html/results/partially_inverted_reps/transfer_analysis/imagenet/resnet50_cifar100_bs_256_robustl2eps3.png\n",
      "copying results/transfer_analysis/imagenet/resnet50_ff2048_cifar10_bs_256_mrl0_nonrob_random.png to /home/vnanda/public_html/results/partially_inverted_reps/transfer_analysis/imagenet/resnet50_ff2048_cifar10_bs_256_mrl0_nonrob_random.png\n",
      "copying results/transfer_analysis/imagenet/resnet50_cifar10_bs_256_nonrob.png to /home/vnanda/public_html/results/partially_inverted_reps/transfer_analysis/imagenet/resnet50_cifar10_bs_256_nonrob.png\n"
     ]
    }
   ],
   "source": [
    "SOURCE_DATASET = 'imagenet'\n",
    "MODEL = 'resnet50'\n",
    "FINETUNE_MODE = 'random'\n",
    "resnet50_to_fracwise_accs = results(MODEL, SOURCE_DATASET)"
   ]
  },
  {
   "cell_type": "code",
   "execution_count": 7,
   "id": "0d97a495",
   "metadata": {},
   "outputs": [
    {
     "name": "stdout",
     "output_type": "stream",
     "text": [
      "[True, True, True, True]\n",
      "[(0.0005, 0.001, 0.002, 0.003, 0.004, 0.005, 0.01, 0.05, 0.1, 0.2, 0.3, 0.5, 0.8, 0.9), (0.0005, 0.001, 0.002, 0.003, 0.004, 0.005, 0.01, 0.05, 0.1, 0.2, 0.3, 0.5, 0.8, 0.9), (0.0005, 0.001, 0.002, 0.003, 0.004, 0.005, 0.01, 0.05, 0.1, 0.2, 0.3, 0.5, 0.8, 0.9), (0.0005, 0.001, 0.002, 0.003, 0.004, 0.005, 0.01, 0.05, 0.1, 0.2, 0.3, 0.5, 0.8, 0.9)] [[0.1229200005531311, 0.15139999836683274, 0.18558000028133392, 0.23235999643802643, 0.2521800011396408, 0.2738999992609024, 0.3705000042915344, 0.694760000705719, 0.778879988193512, 0.832260000705719, 0.8519200086593628, 0.8740199923515319, 0.8878000020980835, 0.8911400079727173], [0.014640000090003014, 0.022420000284910202, 0.03343999981880188, 0.04003999978303909, 0.047860000282526016, 0.053920000046491626, 0.09385999888181687, 0.28966000080108645, 0.4099999964237213, 0.5175599932670594, 0.5675599932670593, 0.6233800053596497, 0.6607599973678588, 0.6676399827003479], [0.026573426276445388, 0.00621239235624671, 0.008619287703186273, 0.012229630816727876, 0.014116116613149644, 0.013563181087374688, 0.01554724331945181, 0.06492112427949906, 0.13374532461166383, 0.24143763780593872, 0.3273052453994751, 0.4753293216228485, 0.5671166062355042, 0.5921613216400147], [0.038103025406599045, 0.03521395437419415, 0.04666121639311314, 0.07762333005666733, 0.09174161851406097, 0.12968111038208008, 0.2293813019990921, 0.6634505391120911, 0.8272008895874023, 0.8811120390892029, 0.900463342666626, 0.9107113599777221, 0.9212864518165589, 0.9223221659660339]]\n"
     ]
    },
    {
     "name": "stderr",
     "output_type": "stream",
     "text": [
      "../plot_helper.py:120: UserWarning: marker is redundantly defined by the 'marker' keyword argument and the fmt string \"o\" (-> marker='o'). The keyword argument will take precedence.\n",
      "  label=legend_vals[i] if legend_vals is not None else \"\")\n"
     ]
    },
    {
     "data": {
      "image/png": "[encoded data removed]",
      "text/plain": [
       "<Figure size 500x300 with 1 Axes>"
      ]
     },
     "metadata": {},
     "output_type": "display_data"
    },
    {
     "name": "stdout",
     "output_type": "stream",
     "text": [
      "[True, True, True, True]\n",
      "[(0.0005, 0.001, 0.002, 0.003, 0.004, 0.005, 0.01, 0.05, 0.1, 0.2, 0.3, 0.5, 0.8, 0.9), (0.0005, 0.001, 0.002, 0.003, 0.004, 0.005, 0.01, 0.05, 0.1, 0.2, 0.3, 0.5, 0.8, 0.9), (0.0005, 0.001, 0.002, 0.003, 0.004, 0.005, 0.01, 0.05, 0.1, 0.2, 0.3, 0.5, 0.8, 0.9), (0.0005, 0.001, 0.002, 0.003, 0.004, 0.005, 0.01, 0.05, 0.1, 0.2, 0.3, 0.5, 0.8, 0.9)] [[0.1314400002360344, 0.156980000436306, 0.2222400039434433, 0.25476000308990476, 0.2949400007724762, 0.32829999923706055, 0.4647800028324127, 0.7464800000190734, 0.806580001115799, 0.8412400046984355, 0.8542899986108144, 0.8674600005149842, 0.8755199909210205, 0.8769400119781494], [0.01801999993622303, 0.026900000125169753, 0.0446600005030632, 0.06223999932408333, 0.07782499957829714, 0.09689999930560589, 0.19107500091195107, 0.4841750040650368, 0.5728344876190712, 0.6242428634847913, 0.6456148116676895, 0.660974994301796, 0.6710000038146973, 0.6745000034570694], [0.022995609045028686, 0.009269799944013358, 0.009074646327644587, 0.010831029340624809, 0.019873150251805784, 0.02010082919150591, 0.051357944309711454, 0.3445113003253937, 0.5082452416419982, 0.6200032591819763, 0.6631322145462036, 0.7022605299949646, 0.7256139159202576, 0.7309155941009522], [0.04170073643326759, 0.05821749866008759, 0.08863450437784196, 0.1336058869957924, 0.17138184905052184, 0.20179885923862456, 0.3496865689754486, 0.721395468711853, 0.7830471515655517, 0.8175524592399597, 0.8268738031387329, 0.8323248744010925, 0.834232759475708, 0.8352139472961426]]\n"
     ]
    },
    {
     "name": "stderr",
     "output_type": "stream",
     "text": [
      "../plot_helper.py:120: UserWarning: marker is redundantly defined by the 'marker' keyword argument and the fmt string \"o\" (-> marker='o'). The keyword argument will take precedence.\n",
      "  label=legend_vals[i] if legend_vals is not None else \"\")\n"
     ]
    },
    {
     "data": {
      "image/png": "[encoded data removed]",
      "text/plain": [
       "<Figure size 500x300 with 1 Axes>"
      ]
     },
     "metadata": {},
     "output_type": "display_data"
    }
   ],
   "source": [
    "for append in CHECKPOINT_PATHS['resnet50'].keys():\n",
    "    all_x_vals, all_y_vals, all_full_accs = [], [], []\n",
    "    for ft_ds in FINETUNING_DATASETS:\n",
    "        x, y = list(zip(*sorted(\n",
    "            resnet50_to_fracwise_accs[f'resnet50-{append}-{ft_ds}'].items(), key=lambda i:i[0])))\n",
    "        all_full_accs.append(y[-1])\n",
    "        all_x_vals.append(x[:-1])\n",
    "        all_y_vals.append(y[:-1])\n",
    "    all_y_means = [[np.mean(_y) for _y in y_vals] for y_vals in all_y_vals]\n",
    "    print ([len(all_y_means[i]) == len(all_x_vals[i]) for i in range(len(all_x_vals))])\n",
    "    plt_hp.line_plot(\n",
    "        [[np.mean(_y) for _y in y_vals] for y_vals in all_y_vals], \n",
    "        'Fraction of Neurons (Total=2048)', 'Transfer Accuracy', '', \n",
    "        subfolder=SOURCE_DATASET, filename=f'{MODEL}_allds_bs_{FINETUNE_BS}_{append}_{FINETUNE_MODE}', \n",
    "        extension='png', x_vals=all_x_vals, legend_vals=FINETUNING_DATASETS, vertical_line=None, \n",
    "        horizontal_lines=[np.mean(full_acc) for full_acc in all_full_accs], \n",
    "        horizontal_lines_err=[np.std(full_acc) for full_acc in all_full_accs], \n",
    "        colors=plt_hp.COLORS[:len(FINETUNING_DATASETS)] * 2, \n",
    "        linestyles=['-']*len(FINETUNING_DATASETS) + [':']*len(FINETUNING_DATASETS), \n",
    "        y_lims=(0.,1.), root_dir='.', paper_friendly_plots=True, \n",
    "        plot_inside=True, legend_location='best', savefig=True, figsize=(10,6), \n",
    "        marker=[True] * len(FINETUNING_DATASETS) + [False] * len(FINETUNING_DATASETS), \n",
    "        results_subfolder_name='transfer_analysis', grid_spacing=None, \n",
    "        y_err=[[np.std(_y) for _y in y_vals] for y_vals in all_y_vals], legend_ncol=None)"
   ]
  },
  {
   "cell_type": "code",
   "execution_count": null,
   "id": "ddc21f30",
   "metadata": {},
   "outputs": [],
   "source": []
  },
  {
   "cell_type": "code",
   "execution_count": null,
   "id": "fdaa1bc7",
   "metadata": {},
   "outputs": [
    {
     "name": "stderr",
     "output_type": "stream",
     "text": [
      "Global seed set to 2\n",
      "Global seed set to 1\n",
      "GPU available: True, used: True\n",
      "TPU available: False, using: 0 TPU cores\n",
      "IPU available: False, using: 0 IPUs\n",
      "Global seed set to 0\n"
     ]
    },
    {
     "name": "stdout",
     "output_type": "stream",
     "text": [
      "{'training': True, '_parameters': OrderedDict(), '_buffers': OrderedDict(), '_non_persistent_buffers_set': set(), '_backward_hooks': OrderedDict(), '_is_full_backward_hook': None, '_forward_hooks': OrderedDict(), '_forward_pre_hooks': OrderedDict(), '_state_dict_hooks': OrderedDict(), '_load_state_dict_pre_hooks': OrderedDict(), '_load_state_dict_post_hooks': OrderedDict(), '_modules': OrderedDict([('linear', Linear(in_features=1, out_features=10, bias=True))]), 'neuron_indices': tensor([37]), 'in_features': 1, 'out_features': 10}\n"
     ]
    },
    {
     "name": "stderr",
     "output_type": "stream",
     "text": [
      "LOCAL_RANK: 0 - CUDA_VISIBLE_DEVICES: [0,1,2,3,4,5,6,7]\n"
     ]
    },
    {
     "data": {
      "application/vnd.jupyter.widget-view+json": {
       "model_id": "fe7e1c8900ca474c893ec93163b1458e",
       "version_major": 2,
       "version_minor": 0
      },
      "text/plain": [
       "Predicting: 0it [00:00, ?it/s]"
      ]
     },
     "metadata": {},
     "output_type": "display_data"
    },
    {
     "name": "stderr",
     "output_type": "stream",
     "text": [
      "Global seed set to 2\n",
      "Global seed set to 2\n",
      "GPU available: True, used: True\n",
      "TPU available: False, using: 0 TPU cores\n",
      "IPU available: False, using: 0 IPUs\n",
      "Global seed set to 0\n"
     ]
    },
    {
     "name": "stdout",
     "output_type": "stream",
     "text": [
      "{'training': True, '_parameters': OrderedDict(), '_buffers': OrderedDict(), '_non_persistent_buffers_set': set(), '_backward_hooks': OrderedDict(), '_is_full_backward_hook': None, '_forward_hooks': OrderedDict(), '_forward_pre_hooks': OrderedDict(), '_state_dict_hooks': OrderedDict(), '_load_state_dict_pre_hooks': OrderedDict(), '_load_state_dict_post_hooks': OrderedDict(), '_modules': OrderedDict([('linear', Linear(in_features=1, out_features=10, bias=True))]), 'neuron_indices': tensor([168]), 'in_features': 1, 'out_features': 10}\n"
     ]
    },
    {
     "name": "stderr",
     "output_type": "stream",
     "text": [
      "LOCAL_RANK: 0 - CUDA_VISIBLE_DEVICES: [0,1,2,3,4,5,6,7]\n"
     ]
    },
    {
     "data": {
      "application/vnd.jupyter.widget-view+json": {
       "model_id": "ea249b6e7d764ffead25f747dfabbea1",
       "version_major": 2,
       "version_minor": 0
      },
      "text/plain": [
       "Predicting: 0it [00:00, ?it/s]"
      ]
     },
     "metadata": {},
     "output_type": "display_data"
    },
    {
     "name": "stderr",
     "output_type": "stream",
     "text": [
      "Global seed set to 2\n",
      "Global seed set to 3\n",
      "GPU available: True, used: True\n",
      "TPU available: False, using: 0 TPU cores\n",
      "IPU available: False, using: 0 IPUs\n",
      "Global seed set to 0\n"
     ]
    },
    {
     "name": "stdout",
     "output_type": "stream",
     "text": [
      "{'training': True, '_parameters': OrderedDict(), '_buffers': OrderedDict(), '_non_persistent_buffers_set': set(), '_backward_hooks': OrderedDict(), '_is_full_backward_hook': None, '_forward_hooks': OrderedDict(), '_forward_pre_hooks': OrderedDict(), '_state_dict_hooks': OrderedDict(), '_load_state_dict_pre_hooks': OrderedDict(), '_load_state_dict_post_hooks': OrderedDict(), '_modules': OrderedDict([('linear', Linear(in_features=1, out_features=10, bias=True))]), 'neuron_indices': tensor([106]), 'in_features': 1, 'out_features': 10}\n"
     ]
    },
    {
     "name": "stderr",
     "output_type": "stream",
     "text": [
      "LOCAL_RANK: 0 - CUDA_VISIBLE_DEVICES: [0,1,2,3,4,5,6,7]\n"
     ]
    },
    {
     "data": {
      "application/vnd.jupyter.widget-view+json": {
       "model_id": "c4c3625d40374734b9132b5a6204d71f",
       "version_major": 2,
       "version_minor": 0
      },
      "text/plain": [
       "Predicting: 0it [00:00, ?it/s]"
      ]
     },
     "metadata": {},
     "output_type": "display_data"
    },
    {
     "name": "stderr",
     "output_type": "stream",
     "text": [
      "Global seed set to 2\n",
      "Global seed set to 4\n",
      "GPU available: True, used: True\n",
      "TPU available: False, using: 0 TPU cores\n",
      "IPU available: False, using: 0 IPUs\n",
      "Global seed set to 0\n"
     ]
    },
    {
     "name": "stdout",
     "output_type": "stream",
     "text": [
      "{'training': True, '_parameters': OrderedDict(), '_buffers': OrderedDict(), '_non_persistent_buffers_set': set(), '_backward_hooks': OrderedDict(), '_is_full_backward_hook': None, '_forward_hooks': OrderedDict(), '_forward_pre_hooks': OrderedDict(), '_state_dict_hooks': OrderedDict(), '_load_state_dict_pre_hooks': OrderedDict(), '_load_state_dict_post_hooks': OrderedDict(), '_modules': OrderedDict([('linear', Linear(in_features=1, out_features=10, bias=True))]), 'neuron_indices': tensor([250]), 'in_features': 1, 'out_features': 10}\n"
     ]
    },
    {
     "name": "stderr",
     "output_type": "stream",
     "text": [
      "LOCAL_RANK: 0 - CUDA_VISIBLE_DEVICES: [0,1,2,3,4,5,6,7]\n"
     ]
    },
    {
     "data": {
      "application/vnd.jupyter.widget-view+json": {
       "model_id": "738624fe3b754138a519aee89f8f9751",
       "version_major": 2,
       "version_minor": 0
      },
      "text/plain": [
       "Predicting: 0it [00:00, ?it/s]"
      ]
     },
     "metadata": {},
     "output_type": "display_data"
    },
    {
     "name": "stderr",
     "output_type": "stream",
     "text": [
      "Global seed set to 2\n",
      "Global seed set to 5\n",
      "GPU available: True, used: True\n",
      "TPU available: False, using: 0 TPU cores\n",
      "IPU available: False, using: 0 IPUs\n",
      "Global seed set to 0\n"
     ]
    },
    {
     "name": "stdout",
     "output_type": "stream",
     "text": [
      "{'training': True, '_parameters': OrderedDict(), '_buffers': OrderedDict(), '_non_persistent_buffers_set': set(), '_backward_hooks': OrderedDict(), '_is_full_backward_hook': None, '_forward_hooks': OrderedDict(), '_forward_pre_hooks': OrderedDict(), '_state_dict_hooks': OrderedDict(), '_load_state_dict_pre_hooks': OrderedDict(), '_load_state_dict_post_hooks': OrderedDict(), '_modules': OrderedDict([('linear', Linear(in_features=1, out_features=10, bias=True))]), 'neuron_indices': tensor([227]), 'in_features': 1, 'out_features': 10}\n"
     ]
    },
    {
     "name": "stderr",
     "output_type": "stream",
     "text": [
      "LOCAL_RANK: 0 - CUDA_VISIBLE_DEVICES: [0,1,2,3,4,5,6,7]\n"
     ]
    },
    {
     "data": {
      "application/vnd.jupyter.widget-view+json": {
       "model_id": "24620d172fda4c67846bd60bb2b52308",
       "version_major": 2,
       "version_minor": 0
      },
      "text/plain": [
       "Predicting: 0it [00:00, ?it/s]"
      ]
     },
     "metadata": {},
     "output_type": "display_data"
    },
    {
     "name": "stderr",
     "output_type": "stream",
     "text": [
      "Global seed set to 2\n",
      "Global seed set to 6\n",
      "GPU available: True, used: True\n",
      "TPU available: False, using: 0 TPU cores\n",
      "IPU available: False, using: 0 IPUs\n",
      "Global seed set to 0\n"
     ]
    },
    {
     "name": "stdout",
     "output_type": "stream",
     "text": [
      "{'training': True, '_parameters': OrderedDict(), '_buffers': OrderedDict(), '_non_persistent_buffers_set': set(), '_backward_hooks': OrderedDict(), '_is_full_backward_hook': None, '_forward_hooks': OrderedDict(), '_forward_pre_hooks': OrderedDict(), '_state_dict_hooks': OrderedDict(), '_load_state_dict_pre_hooks': OrderedDict(), '_load_state_dict_post_hooks': OrderedDict(), '_modules': OrderedDict([('linear', Linear(in_features=1, out_features=10, bias=True))]), 'neuron_indices': tensor([266]), 'in_features': 1, 'out_features': 10}\n"
     ]
    },
    {
     "name": "stderr",
     "output_type": "stream",
     "text": [
      "LOCAL_RANK: 0 - CUDA_VISIBLE_DEVICES: [0,1,2,3,4,5,6,7]\n"
     ]
    },
    {
     "data": {
      "application/vnd.jupyter.widget-view+json": {
       "model_id": "92a5fad5b7b947c0bdaefbba4bea7386",
       "version_major": 2,
       "version_minor": 0
      },
      "text/plain": [
       "Predicting: 0it [00:00, ?it/s]"
      ]
     },
     "metadata": {},
     "output_type": "display_data"
    },
    {
     "name": "stderr",
     "output_type": "stream",
     "text": [
      "Global seed set to 2\n",
      "Global seed set to 7\n",
      "GPU available: True, used: True\n",
      "TPU available: False, using: 0 TPU cores\n",
      "IPU available: False, using: 0 IPUs\n",
      "Global seed set to 0\n"
     ]
    },
    {
     "name": "stdout",
     "output_type": "stream",
     "text": [
      "{'training': True, '_parameters': OrderedDict(), '_buffers': OrderedDict(), '_non_persistent_buffers_set': set(), '_backward_hooks': OrderedDict(), '_is_full_backward_hook': None, '_forward_hooks': OrderedDict(), '_forward_pre_hooks': OrderedDict(), '_state_dict_hooks': OrderedDict(), '_load_state_dict_pre_hooks': OrderedDict(), '_load_state_dict_post_hooks': OrderedDict(), '_modules': OrderedDict([('linear', Linear(in_features=1, out_features=10, bias=True))]), 'neuron_indices': tensor([303]), 'in_features': 1, 'out_features': 10}\n"
     ]
    },
    {
     "name": "stderr",
     "output_type": "stream",
     "text": [
      "LOCAL_RANK: 0 - CUDA_VISIBLE_DEVICES: [0,1,2,3,4,5,6,7]\n"
     ]
    },
    {
     "data": {
      "application/vnd.jupyter.widget-view+json": {
       "model_id": "3939f35037214ce19edc12b3d9099e55",
       "version_major": 2,
       "version_minor": 0
      },
      "text/plain": [
       "Predicting: 0it [00:00, ?it/s]"
      ]
     },
     "metadata": {},
     "output_type": "display_data"
    },
    {
     "name": "stderr",
     "output_type": "stream",
     "text": [
      "Global seed set to 2\n",
      "Global seed set to 8\n",
      "GPU available: True, used: True\n",
      "TPU available: False, using: 0 TPU cores\n",
      "IPU available: False, using: 0 IPUs\n",
      "Global seed set to 0\n"
     ]
    },
    {
     "name": "stdout",
     "output_type": "stream",
     "text": [
      "{'training': True, '_parameters': OrderedDict(), '_buffers': OrderedDict(), '_non_persistent_buffers_set': set(), '_backward_hooks': OrderedDict(), '_is_full_backward_hook': None, '_forward_hooks': OrderedDict(), '_forward_pre_hooks': OrderedDict(), '_state_dict_hooks': OrderedDict(), '_load_state_dict_pre_hooks': OrderedDict(), '_load_state_dict_post_hooks': OrderedDict(), '_modules': OrderedDict([('linear', Linear(in_features=1, out_features=10, bias=True))]), 'neuron_indices': tensor([195]), 'in_features': 1, 'out_features': 10}\n"
     ]
    },
    {
     "name": "stderr",
     "output_type": "stream",
     "text": [
      "LOCAL_RANK: 0 - CUDA_VISIBLE_DEVICES: [0,1,2,3,4,5,6,7]\n"
     ]
    },
    {
     "data": {
      "application/vnd.jupyter.widget-view+json": {
       "model_id": "5af09c441e154b1ba3055f92b5355905",
       "version_major": 2,
       "version_minor": 0
      },
      "text/plain": [
       "Predicting: 0it [00:00, ?it/s]"
      ]
     },
     "metadata": {},
     "output_type": "display_data"
    },
    {
     "name": "stderr",
     "output_type": "stream",
     "text": [
      "Global seed set to 2\n",
      "Global seed set to 9\n",
      "GPU available: True, used: True\n",
      "TPU available: False, using: 0 TPU cores\n",
      "IPU available: False, using: 0 IPUs\n",
      "Global seed set to 0\n"
     ]
    },
    {
     "name": "stdout",
     "output_type": "stream",
     "text": [
      "{'training': True, '_parameters': OrderedDict(), '_buffers': OrderedDict(), '_non_persistent_buffers_set': set(), '_backward_hooks': OrderedDict(), '_is_full_backward_hook': None, '_forward_hooks': OrderedDict(), '_forward_pre_hooks': OrderedDict(), '_state_dict_hooks': OrderedDict(), '_load_state_dict_pre_hooks': OrderedDict(), '_load_state_dict_post_hooks': OrderedDict(), '_modules': OrderedDict([('linear', Linear(in_features=1, out_features=10, bias=True))]), 'neuron_indices': tensor([382]), 'in_features': 1, 'out_features': 10}\n"
     ]
    },
    {
     "name": "stderr",
     "output_type": "stream",
     "text": [
      "LOCAL_RANK: 0 - CUDA_VISIBLE_DEVICES: [0,1,2,3,4,5,6,7]\n"
     ]
    },
    {
     "data": {
      "application/vnd.jupyter.widget-view+json": {
       "model_id": "e1b09b006aff47d0a3c8e97085ba5ff6",
       "version_major": 2,
       "version_minor": 0
      },
      "text/plain": [
       "Predicting: 0it [00:00, ?it/s]"
      ]
     },
     "metadata": {},
     "output_type": "display_data"
    },
    {
     "name": "stderr",
     "output_type": "stream",
     "text": [
      "Global seed set to 2\n",
      "Global seed set to 1\n",
      "GPU available: True, used: True\n",
      "TPU available: False, using: 0 TPU cores\n",
      "IPU available: False, using: 0 IPUs\n",
      "Global seed set to 0\n"
     ]
    },
    {
     "name": "stdout",
     "output_type": "stream",
     "text": [
      "{'training': True, '_parameters': OrderedDict(), '_buffers': OrderedDict(), '_non_persistent_buffers_set': set(), '_backward_hooks': OrderedDict(), '_is_full_backward_hook': None, '_forward_hooks': OrderedDict(), '_forward_pre_hooks': OrderedDict(), '_state_dict_hooks': OrderedDict(), '_load_state_dict_pre_hooks': OrderedDict(), '_load_state_dict_post_hooks': OrderedDict(), '_modules': OrderedDict([('linear', Linear(in_features=19, out_features=10, bias=True))]), 'neuron_indices': tensor([ 37,  88, 258, 104, 307, 131, 251, 113,  31,  66, 162, 117, 364, 158,\n",
      "        277,  69, 198, 329, 194]), 'in_features': 19, 'out_features': 10}\n"
     ]
    },
    {
     "name": "stderr",
     "output_type": "stream",
     "text": [
      "LOCAL_RANK: 0 - CUDA_VISIBLE_DEVICES: [0,1,2,3,4,5,6,7]\n"
     ]
    },
    {
     "data": {
      "application/vnd.jupyter.widget-view+json": {
       "model_id": "c866360cd4b849458daf3e045e29df7b",
       "version_major": 2,
       "version_minor": 0
      },
      "text/plain": [
       "Predicting: 0it [00:00, ?it/s]"
      ]
     },
     "metadata": {},
     "output_type": "display_data"
    },
    {
     "name": "stderr",
     "output_type": "stream",
     "text": [
      "Global seed set to 2\n",
      "Global seed set to 2\n",
      "GPU available: True, used: True\n",
      "TPU available: False, using: 0 TPU cores\n",
      "IPU available: False, using: 0 IPUs\n",
      "Global seed set to 0\n"
     ]
    },
    {
     "name": "stdout",
     "output_type": "stream",
     "text": [
      "{'training': True, '_parameters': OrderedDict(), '_buffers': OrderedDict(), '_non_persistent_buffers_set': set(), '_backward_hooks': OrderedDict(), '_is_full_backward_hook': None, '_forward_hooks': OrderedDict(), '_forward_pre_hooks': OrderedDict(), '_state_dict_hooks': OrderedDict(), '_load_state_dict_pre_hooks': OrderedDict(), '_load_state_dict_post_hooks': OrderedDict(), '_modules': OrderedDict([('linear', Linear(in_features=19, out_features=10, bias=True))]), 'neuron_indices': tensor([168,   9,  67, 159,  62, 235,  96, 153,  72, 270,  32, 122, 215, 213,\n",
      "        249, 269, 287,  81, 368]), 'in_features': 19, 'out_features': 10}\n"
     ]
    },
    {
     "name": "stderr",
     "output_type": "stream",
     "text": [
      "LOCAL_RANK: 0 - CUDA_VISIBLE_DEVICES: [0,1,2,3,4,5,6,7]\n"
     ]
    },
    {
     "data": {
      "application/vnd.jupyter.widget-view+json": {
       "model_id": "f178416bdcaf47009216062bbefb0ef8",
       "version_major": 2,
       "version_minor": 0
      },
      "text/plain": [
       "Predicting: 0it [00:00, ?it/s]"
      ]
     },
     "metadata": {},
     "output_type": "display_data"
    },
    {
     "name": "stderr",
     "output_type": "stream",
     "text": [
      "Global seed set to 2\n",
      "Global seed set to 3\n",
      "GPU available: True, used: True\n",
      "TPU available: False, using: 0 TPU cores\n",
      "IPU available: False, using: 0 IPUs\n",
      "Global seed set to 0\n"
     ]
    },
    {
     "name": "stdout",
     "output_type": "stream",
     "text": [
      "{'training': True, '_parameters': OrderedDict(), '_buffers': OrderedDict(), '_non_persistent_buffers_set': set(), '_backward_hooks': OrderedDict(), '_is_full_backward_hook': None, '_forward_hooks': OrderedDict(), '_forward_pre_hooks': OrderedDict(), '_state_dict_hooks': OrderedDict(), '_load_state_dict_pre_hooks': OrderedDict(), '_load_state_dict_post_hooks': OrderedDict(), '_modules': OrderedDict([('linear', Linear(in_features=19, out_features=10, bias=True))]), 'neuron_indices': tensor([106, 302, 345, 306,  44,  25, 246, 165, 173, 373,  62, 354,  89,  61,\n",
      "        170, 154, 119, 223,  26]), 'in_features': 19, 'out_features': 10}\n"
     ]
    },
    {
     "name": "stderr",
     "output_type": "stream",
     "text": [
      "LOCAL_RANK: 0 - CUDA_VISIBLE_DEVICES: [0,1,2,3,4,5,6,7]\n"
     ]
    },
    {
     "data": {
      "application/vnd.jupyter.widget-view+json": {
       "model_id": "b37209dc86ca4cb8baec0e9581cf8d03",
       "version_major": 2,
       "version_minor": 0
      },
      "text/plain": [
       "Predicting: 0it [00:00, ?it/s]"
      ]
     },
     "metadata": {},
     "output_type": "display_data"
    },
    {
     "name": "stderr",
     "output_type": "stream",
     "text": [
      "Global seed set to 2\n",
      "Global seed set to 4\n",
      "GPU available: True, used: True\n",
      "TPU available: False, using: 0 TPU cores\n",
      "IPU available: False, using: 0 IPUs\n",
      "Global seed set to 0\n"
     ]
    },
    {
     "name": "stdout",
     "output_type": "stream",
     "text": [
      "{'training': True, '_parameters': OrderedDict(), '_buffers': OrderedDict(), '_non_persistent_buffers_set': set(), '_backward_hooks': OrderedDict(), '_is_full_backward_hook': None, '_forward_hooks': OrderedDict(), '_forward_pre_hooks': OrderedDict(), '_state_dict_hooks': OrderedDict(), '_load_state_dict_pre_hooks': OrderedDict(), '_load_state_dict_post_hooks': OrderedDict(), '_modules': OrderedDict([('linear', Linear(in_features=19, out_features=10, bias=True))]), 'neuron_indices': tensor([250, 172, 245, 263,  73,  12, 239,   0, 234, 120, 266, 204,  47, 302,\n",
      "        364, 328,  71, 145, 336]), 'in_features': 19, 'out_features': 10}\n"
     ]
    },
    {
     "name": "stderr",
     "output_type": "stream",
     "text": [
      "LOCAL_RANK: 0 - CUDA_VISIBLE_DEVICES: [0,1,2,3,4,5,6,7]\n"
     ]
    },
    {
     "data": {
      "application/vnd.jupyter.widget-view+json": {
       "model_id": "47a31418b9664c76b3d16239db6d1576",
       "version_major": 2,
       "version_minor": 0
      },
      "text/plain": [
       "Predicting: 0it [00:00, ?it/s]"
      ]
     },
     "metadata": {},
     "output_type": "display_data"
    },
    {
     "name": "stderr",
     "output_type": "stream",
     "text": [
      "Global seed set to 2\n",
      "Global seed set to 5\n",
      "GPU available: True, used: True\n",
      "TPU available: False, using: 0 TPU cores\n",
      "IPU available: False, using: 0 IPUs\n",
      "Global seed set to 0\n"
     ]
    },
    {
     "name": "stdout",
     "output_type": "stream",
     "text": [
      "{'training': True, '_parameters': OrderedDict(), '_buffers': OrderedDict(), '_non_persistent_buffers_set': set(), '_backward_hooks': OrderedDict(), '_is_full_backward_hook': None, '_forward_hooks': OrderedDict(), '_forward_pre_hooks': OrderedDict(), '_state_dict_hooks': OrderedDict(), '_load_state_dict_pre_hooks': OrderedDict(), '_load_state_dict_post_hooks': OrderedDict(), '_modules': OrderedDict([('linear', Linear(in_features=19, out_features=10, bias=True))]), 'neuron_indices': tensor([227, 245, 139,   9, 250,  75,  70, 239,  80, 163, 325,  83,  95, 365,\n",
      "        112,   5, 119, 155, 269]), 'in_features': 19, 'out_features': 10}\n"
     ]
    },
    {
     "name": "stderr",
     "output_type": "stream",
     "text": [
      "LOCAL_RANK: 0 - CUDA_VISIBLE_DEVICES: [0,1,2,3,4,5,6,7]\n"
     ]
    },
    {
     "data": {
      "application/vnd.jupyter.widget-view+json": {
       "model_id": "8a2462d8a3ae401ab62164956ade126c",
       "version_major": 2,
       "version_minor": 0
      },
      "text/plain": [
       "Predicting: 0it [00:00, ?it/s]"
      ]
     },
     "metadata": {},
     "output_type": "display_data"
    },
    {
     "name": "stderr",
     "output_type": "stream",
     "text": [
      "Global seed set to 2\n",
      "Global seed set to 6\n",
      "GPU available: True, used: True\n",
      "TPU available: False, using: 0 TPU cores\n",
      "IPU available: False, using: 0 IPUs\n",
      "Global seed set to 0\n"
     ]
    },
    {
     "name": "stdout",
     "output_type": "stream",
     "text": [
      "{'training': True, '_parameters': OrderedDict(), '_buffers': OrderedDict(), '_non_persistent_buffers_set': set(), '_backward_hooks': OrderedDict(), '_is_full_backward_hook': None, '_forward_hooks': OrderedDict(), '_forward_pre_hooks': OrderedDict(), '_state_dict_hooks': OrderedDict(), '_load_state_dict_pre_hooks': OrderedDict(), '_load_state_dict_post_hooks': OrderedDict(), '_modules': OrderedDict([('linear', Linear(in_features=19, out_features=10, bias=True))]), 'neuron_indices': tensor([266, 315, 283, 323, 218, 318, 215, 111,  48, 192, 187, 174,  67, 213,\n",
      "        351, 344, 319, 324, 334]), 'in_features': 19, 'out_features': 10}\n"
     ]
    },
    {
     "name": "stderr",
     "output_type": "stream",
     "text": [
      "LOCAL_RANK: 0 - CUDA_VISIBLE_DEVICES: [0,1,2,3,4,5,6,7]\n"
     ]
    },
    {
     "data": {
      "application/vnd.jupyter.widget-view+json": {
       "model_id": "243c482381bf41348081e969b27ee6a6",
       "version_major": 2,
       "version_minor": 0
      },
      "text/plain": [
       "Predicting: 0it [00:00, ?it/s]"
      ]
     },
     "metadata": {},
     "output_type": "display_data"
    },
    {
     "name": "stderr",
     "output_type": "stream",
     "text": [
      "Global seed set to 2\n",
      "Global seed set to 7\n",
      "GPU available: True, used: True\n",
      "TPU available: False, using: 0 TPU cores\n",
      "IPU available: False, using: 0 IPUs\n",
      "Global seed set to 0\n"
     ]
    },
    {
     "name": "stdout",
     "output_type": "stream",
     "text": [
      "{'training': True, '_parameters': OrderedDict(), '_buffers': OrderedDict(), '_non_persistent_buffers_set': set(), '_backward_hooks': OrderedDict(), '_is_full_backward_hook': None, '_forward_hooks': OrderedDict(), '_forward_pre_hooks': OrderedDict(), '_state_dict_hooks': OrderedDict(), '_load_state_dict_pre_hooks': OrderedDict(), '_load_state_dict_post_hooks': OrderedDict(), '_modules': OrderedDict([('linear', Linear(in_features=19, out_features=10, bias=True))]), 'neuron_indices': tensor([303, 204, 193, 254,  87, 153, 257, 298, 132,  20, 184, 156, 368, 175,\n",
      "        376, 208,  42, 190, 309]), 'in_features': 19, 'out_features': 10}\n"
     ]
    },
    {
     "name": "stderr",
     "output_type": "stream",
     "text": [
      "LOCAL_RANK: 0 - CUDA_VISIBLE_DEVICES: [0,1,2,3,4,5,6,7]\n"
     ]
    },
    {
     "data": {
      "application/vnd.jupyter.widget-view+json": {
       "model_id": "adb57900b7da4e1cab5f3c0fc9738778",
       "version_major": 2,
       "version_minor": 0
      },
      "text/plain": [
       "Predicting: 0it [00:00, ?it/s]"
      ]
     },
     "metadata": {},
     "output_type": "display_data"
    },
    {
     "name": "stderr",
     "output_type": "stream",
     "text": [
      "Global seed set to 2\n",
      "Global seed set to 8\n",
      "GPU available: True, used: True\n",
      "TPU available: False, using: 0 TPU cores\n",
      "IPU available: False, using: 0 IPUs\n",
      "Global seed set to 0\n"
     ]
    },
    {
     "name": "stdout",
     "output_type": "stream",
     "text": [
      "{'training': True, '_parameters': OrderedDict(), '_buffers': OrderedDict(), '_non_persistent_buffers_set': set(), '_backward_hooks': OrderedDict(), '_is_full_backward_hook': None, '_forward_hooks': OrderedDict(), '_forward_pre_hooks': OrderedDict(), '_state_dict_hooks': OrderedDict(), '_load_state_dict_pre_hooks': OrderedDict(), '_load_state_dict_post_hooks': OrderedDict(), '_modules': OrderedDict([('linear', Linear(in_features=19, out_features=10, bias=True))]), 'neuron_indices': tensor([195, 178, 363, 219, 321,  52, 274, 351, 280, 295, 150, 118, 205, 257,\n",
      "        211, 172, 330, 256, 332]), 'in_features': 19, 'out_features': 10}\n"
     ]
    },
    {
     "name": "stderr",
     "output_type": "stream",
     "text": [
      "LOCAL_RANK: 0 - CUDA_VISIBLE_DEVICES: [0,1,2,3,4,5,6,7]\n"
     ]
    },
    {
     "data": {
      "application/vnd.jupyter.widget-view+json": {
       "model_id": "f66c0fde42d34831888cb5917ae82b42",
       "version_major": 2,
       "version_minor": 0
      },
      "text/plain": [
       "Predicting: 0it [00:00, ?it/s]"
      ]
     },
     "metadata": {},
     "output_type": "display_data"
    },
    {
     "name": "stderr",
     "output_type": "stream",
     "text": [
      "Global seed set to 2\n",
      "Global seed set to 9\n",
      "GPU available: True, used: True\n",
      "TPU available: False, using: 0 TPU cores\n",
      "IPU available: False, using: 0 IPUs\n",
      "Global seed set to 0\n"
     ]
    },
    {
     "name": "stdout",
     "output_type": "stream",
     "text": [
      "{'training': True, '_parameters': OrderedDict(), '_buffers': OrderedDict(), '_non_persistent_buffers_set': set(), '_backward_hooks': OrderedDict(), '_is_full_backward_hook': None, '_forward_hooks': OrderedDict(), '_forward_pre_hooks': OrderedDict(), '_state_dict_hooks': OrderedDict(), '_load_state_dict_pre_hooks': OrderedDict(), '_load_state_dict_post_hooks': OrderedDict(), '_modules': OrderedDict([('linear', Linear(in_features=19, out_features=10, bias=True))]), 'neuron_indices': tensor([382, 379, 274, 284, 106,  74, 247,  48, 197, 110, 142, 342, 279,  24,\n",
      "        130,  86,  88, 301, 113]), 'in_features': 19, 'out_features': 10}\n"
     ]
    },
    {
     "name": "stderr",
     "output_type": "stream",
     "text": [
      "LOCAL_RANK: 0 - CUDA_VISIBLE_DEVICES: [0,1,2,3,4,5,6,7]\n"
     ]
    },
    {
     "data": {
      "application/vnd.jupyter.widget-view+json": {
       "model_id": "7419d3fcf280463d9e21d454d5ac1483",
       "version_major": 2,
       "version_minor": 0
      },
      "text/plain": [
       "Predicting: 0it [00:00, ?it/s]"
      ]
     },
     "metadata": {},
     "output_type": "display_data"
    },
    {
     "name": "stderr",
     "output_type": "stream",
     "text": [
      "Global seed set to 2\n",
      "Global seed set to 1\n",
      "GPU available: True, used: True\n",
      "TPU available: False, using: 0 TPU cores\n",
      "IPU available: False, using: 0 IPUs\n",
      "Global seed set to 0\n"
     ]
    },
    {
     "name": "stdout",
     "output_type": "stream",
     "text": [
      "{'training': True, '_parameters': OrderedDict(), '_buffers': OrderedDict(), '_non_persistent_buffers_set': set(), '_backward_hooks': OrderedDict(), '_is_full_backward_hook': None, '_forward_hooks': OrderedDict(), '_forward_pre_hooks': OrderedDict(), '_state_dict_hooks': OrderedDict(), '_load_state_dict_pre_hooks': OrderedDict(), '_load_state_dict_post_hooks': OrderedDict(), '_modules': OrderedDict([('linear', Linear(in_features=38, out_features=10, bias=True))]), 'neuron_indices': tensor([ 37,  88, 258, 104, 307, 131, 251, 113,  31,  66, 162, 117, 364, 158,\n",
      "        277,  69, 198, 329, 194,  50, 142,  84, 166, 340, 147,  77,  92, 176,\n",
      "         49, 153,  38,  73,  87,  57,  71,  16, 359,  61]), 'in_features': 38, 'out_features': 10}\n"
     ]
    },
    {
     "name": "stderr",
     "output_type": "stream",
     "text": [
      "LOCAL_RANK: 0 - CUDA_VISIBLE_DEVICES: [0,1,2,3,4,5,6,7]\n"
     ]
    },
    {
     "data": {
      "application/vnd.jupyter.widget-view+json": {
       "model_id": "b9abb769252e464a8afa0c7ac525d2f3",
       "version_major": 2,
       "version_minor": 0
      },
      "text/plain": [
       "Predicting: 0it [00:00, ?it/s]"
      ]
     },
     "metadata": {},
     "output_type": "display_data"
    },
    {
     "name": "stderr",
     "output_type": "stream",
     "text": [
      "Global seed set to 2\n",
      "Global seed set to 2\n",
      "GPU available: True, used: True\n",
      "TPU available: False, using: 0 TPU cores\n",
      "IPU available: False, using: 0 IPUs\n",
      "Global seed set to 0\n"
     ]
    },
    {
     "name": "stdout",
     "output_type": "stream",
     "text": [
      "{'training': True, '_parameters': OrderedDict(), '_buffers': OrderedDict(), '_non_persistent_buffers_set': set(), '_backward_hooks': OrderedDict(), '_is_full_backward_hook': None, '_forward_hooks': OrderedDict(), '_forward_pre_hooks': OrderedDict(), '_state_dict_hooks': OrderedDict(), '_load_state_dict_pre_hooks': OrderedDict(), '_load_state_dict_post_hooks': OrderedDict(), '_modules': OrderedDict([('linear', Linear(in_features=38, out_features=10, bias=True))]), 'neuron_indices': tensor([168,   9,  67, 159,  62, 235,  96, 153,  72, 270,  32, 122, 215, 213,\n",
      "        249, 269, 287,  81, 368,  89,   8, 309,  49, 250, 115, 329, 356, 231,\n",
      "        195,  82, 341,  63, 330,  47, 350, 187, 191, 150]), 'in_features': 38, 'out_features': 10}\n"
     ]
    },
    {
     "name": "stderr",
     "output_type": "stream",
     "text": [
      "LOCAL_RANK: 0 - CUDA_VISIBLE_DEVICES: [0,1,2,3,4,5,6,7]\n"
     ]
    },
    {
     "data": {
      "application/vnd.jupyter.widget-view+json": {
       "model_id": "d445b88bf688424d800276b297a045fb",
       "version_major": 2,
       "version_minor": 0
      },
      "text/plain": [
       "Predicting: 0it [00:00, ?it/s]"
      ]
     },
     "metadata": {},
     "output_type": "display_data"
    },
    {
     "name": "stderr",
     "output_type": "stream",
     "text": [
      "Global seed set to 2\n",
      "Global seed set to 3\n",
      "GPU available: True, used: True\n",
      "TPU available: False, using: 0 TPU cores\n",
      "IPU available: False, using: 0 IPUs\n",
      "Global seed set to 0\n"
     ]
    },
    {
     "name": "stdout",
     "output_type": "stream",
     "text": [
      "{'training': True, '_parameters': OrderedDict(), '_buffers': OrderedDict(), '_non_persistent_buffers_set': set(), '_backward_hooks': OrderedDict(), '_is_full_backward_hook': None, '_forward_hooks': OrderedDict(), '_forward_pre_hooks': OrderedDict(), '_state_dict_hooks': OrderedDict(), '_load_state_dict_pre_hooks': OrderedDict(), '_load_state_dict_post_hooks': OrderedDict(), '_modules': OrderedDict([('linear', Linear(in_features=38, out_features=10, bias=True))]), 'neuron_indices': tensor([106, 302, 345, 306,  44,  25, 246, 165, 173, 373,  62, 354,  89,  61,\n",
      "        170, 154, 119, 223,  26, 158,  96,  50, 333, 210,  20,  13,  51,  60,\n",
      "        150, 174,  42, 362, 252, 379, 303,  66,   8, 254]), 'in_features': 38, 'out_features': 10}\n"
     ]
    },
    {
     "name": "stderr",
     "output_type": "stream",
     "text": [
      "LOCAL_RANK: 0 - CUDA_VISIBLE_DEVICES: [0,1,2,3,4,5,6,7]\n"
     ]
    },
    {
     "data": {
      "application/vnd.jupyter.widget-view+json": {
       "model_id": "8db8cd0594664dce90b2bee0247ab8ec",
       "version_major": 2,
       "version_minor": 0
      },
      "text/plain": [
       "Predicting: 0it [00:00, ?it/s]"
      ]
     },
     "metadata": {},
     "output_type": "display_data"
    },
    {
     "name": "stderr",
     "output_type": "stream",
     "text": [
      "Global seed set to 2\n",
      "Global seed set to 4\n",
      "GPU available: True, used: True\n",
      "TPU available: False, using: 0 TPU cores\n",
      "IPU available: False, using: 0 IPUs\n",
      "Global seed set to 0\n"
     ]
    },
    {
     "name": "stdout",
     "output_type": "stream",
     "text": [
      "{'training': True, '_parameters': OrderedDict(), '_buffers': OrderedDict(), '_non_persistent_buffers_set': set(), '_backward_hooks': OrderedDict(), '_is_full_backward_hook': None, '_forward_hooks': OrderedDict(), '_forward_pre_hooks': OrderedDict(), '_state_dict_hooks': OrderedDict(), '_load_state_dict_pre_hooks': OrderedDict(), '_load_state_dict_post_hooks': OrderedDict(), '_modules': OrderedDict([('linear', Linear(in_features=38, out_features=10, bias=True))]), 'neuron_indices': tensor([250, 172, 245, 263,  73,  12, 239,   0, 234, 120, 266, 204,  47, 302,\n",
      "        364, 328,  71, 145, 336,  61, 118, 155, 212, 194, 146, 301, 139,   2,\n",
      "         95,  19,  93, 299, 326, 111, 298, 277, 106,  45]), 'in_features': 38, 'out_features': 10}\n"
     ]
    },
    {
     "name": "stderr",
     "output_type": "stream",
     "text": [
      "LOCAL_RANK: 0 - CUDA_VISIBLE_DEVICES: [0,1,2,3,4,5,6,7]\n"
     ]
    },
    {
     "data": {
      "application/vnd.jupyter.widget-view+json": {
       "model_id": "f64b07335cfd4b93b0e81bf40eca96aa",
       "version_major": 2,
       "version_minor": 0
      },
      "text/plain": [
       "Predicting: 0it [00:00, ?it/s]"
      ]
     },
     "metadata": {},
     "output_type": "display_data"
    },
    {
     "name": "stderr",
     "output_type": "stream",
     "text": [
      "Global seed set to 2\n",
      "Global seed set to 5\n",
      "GPU available: True, used: True\n",
      "TPU available: False, using: 0 TPU cores\n",
      "IPU available: False, using: 0 IPUs\n",
      "Global seed set to 0\n"
     ]
    },
    {
     "name": "stdout",
     "output_type": "stream",
     "text": [
      "{'training': True, '_parameters': OrderedDict(), '_buffers': OrderedDict(), '_non_persistent_buffers_set': set(), '_backward_hooks': OrderedDict(), '_is_full_backward_hook': None, '_forward_hooks': OrderedDict(), '_forward_pre_hooks': OrderedDict(), '_state_dict_hooks': OrderedDict(), '_load_state_dict_pre_hooks': OrderedDict(), '_load_state_dict_post_hooks': OrderedDict(), '_modules': OrderedDict([('linear', Linear(in_features=38, out_features=10, bias=True))]), 'neuron_indices': tensor([227, 245, 139,   9, 250,  75,  70, 239,  80, 163, 325,  83,  95, 365,\n",
      "        112,   5, 119, 155, 269, 323, 149, 138,  90,  33,  68, 381, 279, 135,\n",
      "        183, 335, 126, 125, 349, 162,  64,  81, 157, 327]), 'in_features': 38, 'out_features': 10}\n"
     ]
    },
    {
     "name": "stderr",
     "output_type": "stream",
     "text": [
      "LOCAL_RANK: 0 - CUDA_VISIBLE_DEVICES: [0,1,2,3,4,5,6,7]\n"
     ]
    },
    {
     "data": {
      "application/vnd.jupyter.widget-view+json": {
       "model_id": "da7ce3fdc08f4f96bc6bc528e29c2199",
       "version_major": 2,
       "version_minor": 0
      },
      "text/plain": [
       "Predicting: 0it [00:00, ?it/s]"
      ]
     },
     "metadata": {},
     "output_type": "display_data"
    },
    {
     "name": "stderr",
     "output_type": "stream",
     "text": [
      "Global seed set to 2\n",
      "Global seed set to 6\n",
      "GPU available: True, used: True\n",
      "TPU available: False, using: 0 TPU cores\n",
      "IPU available: False, using: 0 IPUs\n",
      "Global seed set to 0\n"
     ]
    },
    {
     "name": "stdout",
     "output_type": "stream",
     "text": [
      "{'training': True, '_parameters': OrderedDict(), '_buffers': OrderedDict(), '_non_persistent_buffers_set': set(), '_backward_hooks': OrderedDict(), '_is_full_backward_hook': None, '_forward_hooks': OrderedDict(), '_forward_pre_hooks': OrderedDict(), '_state_dict_hooks': OrderedDict(), '_load_state_dict_pre_hooks': OrderedDict(), '_load_state_dict_post_hooks': OrderedDict(), '_modules': OrderedDict([('linear', Linear(in_features=38, out_features=10, bias=True))]), 'neuron_indices': tensor([266, 315, 283, 323, 218, 318, 215, 111,  48, 192, 187, 174,  67, 213,\n",
      "        351, 344, 319, 324, 334, 188, 264,  66, 178, 316,  76, 248, 191, 309,\n",
      "         62, 276,   7, 232, 143, 342,  86, 340, 287, 124]), 'in_features': 38, 'out_features': 10}\n"
     ]
    },
    {
     "name": "stderr",
     "output_type": "stream",
     "text": [
      "LOCAL_RANK: 0 - CUDA_VISIBLE_DEVICES: [0,1,2,3,4,5,6,7]\n"
     ]
    },
    {
     "data": {
      "application/vnd.jupyter.widget-view+json": {
       "model_id": "5715c97ce4244b748bc43f39d689217f",
       "version_major": 2,
       "version_minor": 0
      },
      "text/plain": [
       "Predicting: 0it [00:00, ?it/s]"
      ]
     },
     "metadata": {},
     "output_type": "display_data"
    },
    {
     "name": "stderr",
     "output_type": "stream",
     "text": [
      "Global seed set to 2\n",
      "Global seed set to 7\n",
      "GPU available: True, used: True\n",
      "TPU available: False, using: 0 TPU cores\n",
      "IPU available: False, using: 0 IPUs\n",
      "Global seed set to 0\n"
     ]
    },
    {
     "name": "stdout",
     "output_type": "stream",
     "text": [
      "{'training': True, '_parameters': OrderedDict(), '_buffers': OrderedDict(), '_non_persistent_buffers_set': set(), '_backward_hooks': OrderedDict(), '_is_full_backward_hook': None, '_forward_hooks': OrderedDict(), '_forward_pre_hooks': OrderedDict(), '_state_dict_hooks': OrderedDict(), '_load_state_dict_pre_hooks': OrderedDict(), '_load_state_dict_post_hooks': OrderedDict(), '_modules': OrderedDict([('linear', Linear(in_features=38, out_features=10, bias=True))]), 'neuron_indices': tensor([303, 204, 193, 254,  87, 153, 257, 298, 132,  20, 184, 156, 368, 175,\n",
      "        376, 208,  42, 190, 309,  47, 260, 115,   2, 122, 292, 315, 359,  37,\n",
      "        342,  57, 219, 129, 108, 142, 239, 196, 180, 247]), 'in_features': 38, 'out_features': 10}\n"
     ]
    },
    {
     "name": "stderr",
     "output_type": "stream",
     "text": [
      "LOCAL_RANK: 0 - CUDA_VISIBLE_DEVICES: [0,1,2,3,4,5,6,7]\n"
     ]
    },
    {
     "data": {
      "application/vnd.jupyter.widget-view+json": {
       "model_id": "d6e210f0fbb742a195e254e7ff37be9d",
       "version_major": 2,
       "version_minor": 0
      },
      "text/plain": [
       "Predicting: 0it [00:00, ?it/s]"
      ]
     },
     "metadata": {},
     "output_type": "display_data"
    },
    {
     "name": "stderr",
     "output_type": "stream",
     "text": [
      "Global seed set to 2\n",
      "Global seed set to 8\n",
      "GPU available: True, used: True\n",
      "TPU available: False, using: 0 TPU cores\n",
      "IPU available: False, using: 0 IPUs\n",
      "Global seed set to 0\n"
     ]
    },
    {
     "name": "stdout",
     "output_type": "stream",
     "text": [
      "{'training': True, '_parameters': OrderedDict(), '_buffers': OrderedDict(), '_non_persistent_buffers_set': set(), '_backward_hooks': OrderedDict(), '_is_full_backward_hook': None, '_forward_hooks': OrderedDict(), '_forward_pre_hooks': OrderedDict(), '_state_dict_hooks': OrderedDict(), '_load_state_dict_pre_hooks': OrderedDict(), '_load_state_dict_post_hooks': OrderedDict(), '_modules': OrderedDict([('linear', Linear(in_features=38, out_features=10, bias=True))]), 'neuron_indices': tensor([195, 178, 363, 219, 321,  52, 274, 351, 280, 295, 150, 118, 205, 257,\n",
      "        211, 172, 330, 256, 332, 309, 153, 158, 329, 267, 306,  74, 354, 188,\n",
      "        342,  58, 180,   4, 115, 223,  39,  24, 235,  83]), 'in_features': 38, 'out_features': 10}\n"
     ]
    },
    {
     "name": "stderr",
     "output_type": "stream",
     "text": [
      "LOCAL_RANK: 0 - CUDA_VISIBLE_DEVICES: [0,1,2,3,4,5,6,7]\n"
     ]
    },
    {
     "data": {
      "application/vnd.jupyter.widget-view+json": {
       "model_id": "b7ac8b7defe440bfa41aa41777e286e5",
       "version_major": 2,
       "version_minor": 0
      },
      "text/plain": [
       "Predicting: 0it [00:00, ?it/s]"
      ]
     },
     "metadata": {},
     "output_type": "display_data"
    },
    {
     "name": "stderr",
     "output_type": "stream",
     "text": [
      "Global seed set to 2\n",
      "Global seed set to 9\n",
      "GPU available: True, used: True\n",
      "TPU available: False, using: 0 TPU cores\n",
      "IPU available: False, using: 0 IPUs\n",
      "Global seed set to 0\n"
     ]
    },
    {
     "name": "stdout",
     "output_type": "stream",
     "text": [
      "{'training': True, '_parameters': OrderedDict(), '_buffers': OrderedDict(), '_non_persistent_buffers_set': set(), '_backward_hooks': OrderedDict(), '_is_full_backward_hook': None, '_forward_hooks': OrderedDict(), '_forward_pre_hooks': OrderedDict(), '_state_dict_hooks': OrderedDict(), '_load_state_dict_pre_hooks': OrderedDict(), '_load_state_dict_post_hooks': OrderedDict(), '_modules': OrderedDict([('linear', Linear(in_features=38, out_features=10, bias=True))]), 'neuron_indices': tensor([382, 379, 274, 284, 106,  74, 247,  48, 197, 110, 142, 342, 279,  24,\n",
      "        130,  86,  88, 301, 113, 140, 137, 369, 254, 343, 310, 174, 282, 258,\n",
      "        216, 209, 146,   0,  92, 129, 294,  40, 126, 243]), 'in_features': 38, 'out_features': 10}\n"
     ]
    },
    {
     "name": "stderr",
     "output_type": "stream",
     "text": [
      "LOCAL_RANK: 0 - CUDA_VISIBLE_DEVICES: [0,1,2,3,4,5,6,7]\n"
     ]
    },
    {
     "data": {
      "application/vnd.jupyter.widget-view+json": {
       "model_id": "7b4ae066e2c142d0af58996a22802a83",
       "version_major": 2,
       "version_minor": 0
      },
      "text/plain": [
       "Predicting: 0it [00:00, ?it/s]"
      ]
     },
     "metadata": {},
     "output_type": "display_data"
    },
    {
     "name": "stderr",
     "output_type": "stream",
     "text": [
      "Global seed set to 2\n",
      "Global seed set to 1\n",
      "GPU available: True, used: True\n",
      "TPU available: False, using: 0 TPU cores\n",
      "IPU available: False, using: 0 IPUs\n",
      "Global seed set to 0\n"
     ]
    },
    {
     "name": "stdout",
     "output_type": "stream",
     "text": [
      "{'training': True, '_parameters': OrderedDict(), '_buffers': OrderedDict(), '_non_persistent_buffers_set': set(), '_backward_hooks': OrderedDict(), '_is_full_backward_hook': None, '_forward_hooks': OrderedDict(), '_forward_pre_hooks': OrderedDict(), '_state_dict_hooks': OrderedDict(), '_load_state_dict_pre_hooks': OrderedDict(), '_load_state_dict_post_hooks': OrderedDict(), '_modules': OrderedDict([('linear', Linear(in_features=76, out_features=10, bias=True))]), 'neuron_indices': tensor([ 37,  88, 258, 104, 307, 131, 251, 113,  31,  66, 162, 117, 364, 158,\n",
      "        277,  69, 198, 329, 194,  50, 142,  84, 166, 340, 147,  77,  92, 176,\n",
      "         49, 153,  38,  73,  87,  57,  71,  16, 359,  61, 172,  89,  11, 196,\n",
      "        227, 366,   4, 291,  96,  48, 257, 298, 140, 306,  56, 363,  75, 209,\n",
      "        255, 122,  45, 217,  28, 326, 111, 116,  14, 107, 325, 102, 216, 112,\n",
      "         42, 375, 188, 128,  86, 315]), 'in_features': 76, 'out_features': 10}\n"
     ]
    },
    {
     "name": "stderr",
     "output_type": "stream",
     "text": [
      "LOCAL_RANK: 0 - CUDA_VISIBLE_DEVICES: [0,1,2,3,4,5,6,7]\n"
     ]
    },
    {
     "data": {
      "application/vnd.jupyter.widget-view+json": {
       "model_id": "eb9284e548ee4141a23ae5ce2fc55360",
       "version_major": 2,
       "version_minor": 0
      },
      "text/plain": [
       "Predicting: 0it [00:00, ?it/s]"
      ]
     },
     "metadata": {},
     "output_type": "display_data"
    },
    {
     "name": "stderr",
     "output_type": "stream",
     "text": [
      "Global seed set to 2\n",
      "Global seed set to 2\n",
      "GPU available: True, used: True\n",
      "TPU available: False, using: 0 TPU cores\n",
      "IPU available: False, using: 0 IPUs\n",
      "Global seed set to 0\n"
     ]
    },
    {
     "name": "stdout",
     "output_type": "stream",
     "text": [
      "{'training': True, '_parameters': OrderedDict(), '_buffers': OrderedDict(), '_non_persistent_buffers_set': set(), '_backward_hooks': OrderedDict(), '_is_full_backward_hook': None, '_forward_hooks': OrderedDict(), '_forward_pre_hooks': OrderedDict(), '_state_dict_hooks': OrderedDict(), '_load_state_dict_pre_hooks': OrderedDict(), '_load_state_dict_post_hooks': OrderedDict(), '_modules': OrderedDict([('linear', Linear(in_features=76, out_features=10, bias=True))]), 'neuron_indices': tensor([168,   9,  67, 159,  62, 235,  96, 153,  72, 270,  32, 122, 215, 213,\n",
      "        249, 269, 287,  81, 368,  89,   8, 309,  49, 250, 115, 329, 356, 231,\n",
      "        195,  82, 341,  63, 330,  47, 350, 187, 191, 150, 101, 359, 172, 298,\n",
      "        376, 322,  24, 259, 313, 183, 128,  11, 194, 158,  10, 278, 282,  35,\n",
      "        167,  21, 241, 306, 234,  19, 198, 379,  23,  31, 137, 240,  84, 106,\n",
      "        211,  25, 176, 267, 141, 197]), 'in_features': 76, 'out_features': 10}\n"
     ]
    },
    {
     "name": "stderr",
     "output_type": "stream",
     "text": [
      "LOCAL_RANK: 0 - CUDA_VISIBLE_DEVICES: [0,1,2,3,4,5,6,7]\n"
     ]
    },
    {
     "data": {
      "application/vnd.jupyter.widget-view+json": {
       "model_id": "4d6af2556c5247cb904987dacdf6558e",
       "version_major": 2,
       "version_minor": 0
      },
      "text/plain": [
       "Predicting: 0it [00:00, ?it/s]"
      ]
     },
     "metadata": {},
     "output_type": "display_data"
    },
    {
     "name": "stderr",
     "output_type": "stream",
     "text": [
      "Global seed set to 2\n",
      "Global seed set to 3\n",
      "GPU available: True, used: True\n",
      "TPU available: False, using: 0 TPU cores\n",
      "IPU available: False, using: 0 IPUs\n",
      "Global seed set to 0\n"
     ]
    },
    {
     "name": "stdout",
     "output_type": "stream",
     "text": [
      "{'training': True, '_parameters': OrderedDict(), '_buffers': OrderedDict(), '_non_persistent_buffers_set': set(), '_backward_hooks': OrderedDict(), '_is_full_backward_hook': None, '_forward_hooks': OrderedDict(), '_forward_pre_hooks': OrderedDict(), '_state_dict_hooks': OrderedDict(), '_load_state_dict_pre_hooks': OrderedDict(), '_load_state_dict_post_hooks': OrderedDict(), '_modules': OrderedDict([('linear', Linear(in_features=76, out_features=10, bias=True))]), 'neuron_indices': tensor([106, 302, 345, 306,  44,  25, 246, 165, 173, 373,  62, 354,  89,  61,\n",
      "        170, 154, 119, 223,  26, 158,  96,  50, 333, 210,  20,  13,  51,  60,\n",
      "        150, 174,  42, 362, 252, 379, 303,  66,   8, 254, 136, 315, 253, 204,\n",
      "         74, 356, 218, 321, 378, 102, 273, 380, 293, 208, 157, 290,   4,  19,\n",
      "        277, 346,  82, 221, 244, 180, 278, 312, 128, 141,  49, 310, 327, 274,\n",
      "        194,  88, 287,  21, 371, 212]), 'in_features': 76, 'out_features': 10}\n"
     ]
    },
    {
     "name": "stderr",
     "output_type": "stream",
     "text": [
      "LOCAL_RANK: 0 - CUDA_VISIBLE_DEVICES: [0,1,2,3,4,5,6,7]\n"
     ]
    },
    {
     "data": {
      "application/vnd.jupyter.widget-view+json": {
       "model_id": "7797c66ff28845db9bcc3e4ed2203d2c",
       "version_major": 2,
       "version_minor": 0
      },
      "text/plain": [
       "Predicting: 0it [00:00, ?it/s]"
      ]
     },
     "metadata": {},
     "output_type": "display_data"
    },
    {
     "name": "stderr",
     "output_type": "stream",
     "text": [
      "Global seed set to 2\n",
      "Global seed set to 4\n",
      "GPU available: True, used: True\n",
      "TPU available: False, using: 0 TPU cores\n",
      "IPU available: False, using: 0 IPUs\n",
      "Global seed set to 0\n"
     ]
    },
    {
     "name": "stdout",
     "output_type": "stream",
     "text": [
      "{'training': True, '_parameters': OrderedDict(), '_buffers': OrderedDict(), '_non_persistent_buffers_set': set(), '_backward_hooks': OrderedDict(), '_is_full_backward_hook': None, '_forward_hooks': OrderedDict(), '_forward_pre_hooks': OrderedDict(), '_state_dict_hooks': OrderedDict(), '_load_state_dict_pre_hooks': OrderedDict(), '_load_state_dict_post_hooks': OrderedDict(), '_modules': OrderedDict([('linear', Linear(in_features=76, out_features=10, bias=True))]), 'neuron_indices': tensor([250, 172, 245, 263,  73,  12, 239,   0, 234, 120, 266, 204,  47, 302,\n",
      "        364, 328,  71, 145, 336,  61, 118, 155, 212, 194, 146, 301, 139,   2,\n",
      "         95,  19,  93, 299, 326, 111, 298, 277, 106,  45, 339, 243, 144, 193,\n",
      "        158,  75,  16,  98, 188,  99, 170, 166, 261, 207, 214, 138, 310, 143,\n",
      "        186, 199, 121, 296, 167,  29,  30, 284, 337, 137,  83, 156, 109, 101,\n",
      "        270, 373, 103, 291, 350, 286]), 'in_features': 76, 'out_features': 10}\n"
     ]
    },
    {
     "name": "stderr",
     "output_type": "stream",
     "text": [
      "LOCAL_RANK: 0 - CUDA_VISIBLE_DEVICES: [0,1,2,3,4,5,6,7]\n"
     ]
    },
    {
     "data": {
      "application/vnd.jupyter.widget-view+json": {
       "model_id": "55c59164015e4f63a02fd710955b8e6b",
       "version_major": 2,
       "version_minor": 0
      },
      "text/plain": [
       "Predicting: 0it [00:00, ?it/s]"
      ]
     },
     "metadata": {},
     "output_type": "display_data"
    },
    {
     "name": "stderr",
     "output_type": "stream",
     "text": [
      "Global seed set to 2\n",
      "Global seed set to 5\n",
      "GPU available: True, used: True\n",
      "TPU available: False, using: 0 TPU cores\n",
      "IPU available: False, using: 0 IPUs\n",
      "Global seed set to 0\n"
     ]
    },
    {
     "name": "stdout",
     "output_type": "stream",
     "text": [
      "{'training': True, '_parameters': OrderedDict(), '_buffers': OrderedDict(), '_non_persistent_buffers_set': set(), '_backward_hooks': OrderedDict(), '_is_full_backward_hook': None, '_forward_hooks': OrderedDict(), '_forward_pre_hooks': OrderedDict(), '_state_dict_hooks': OrderedDict(), '_load_state_dict_pre_hooks': OrderedDict(), '_load_state_dict_post_hooks': OrderedDict(), '_modules': OrderedDict([('linear', Linear(in_features=76, out_features=10, bias=True))]), 'neuron_indices': tensor([227, 245, 139,   9, 250,  75,  70, 239,  80, 163, 325,  83,  95, 365,\n",
      "        112,   5, 119, 155, 269, 323, 149, 138,  90,  33,  68, 381, 279, 135,\n",
      "        183, 335, 126, 125, 349, 162,  64,  81, 157, 327, 331, 343,  54, 371,\n",
      "        240, 263, 104,  38, 127, 151,  14,  59,  92,   7, 148, 196, 173, 124,\n",
      "        311, 350,  55,  40, 225, 176,  47, 290, 369, 313,   3, 272, 376, 216,\n",
      "        118,  63, 379, 107, 211,  17]), 'in_features': 76, 'out_features': 10}\n"
     ]
    },
    {
     "name": "stderr",
     "output_type": "stream",
     "text": [
      "LOCAL_RANK: 0 - CUDA_VISIBLE_DEVICES: [0,1,2,3,4,5,6,7]\n"
     ]
    },
    {
     "data": {
      "application/vnd.jupyter.widget-view+json": {
       "model_id": "37ba7f0311cd42d68c1ae459089eaf98",
       "version_major": 2,
       "version_minor": 0
      },
      "text/plain": [
       "Predicting: 0it [00:00, ?it/s]"
      ]
     },
     "metadata": {},
     "output_type": "display_data"
    },
    {
     "name": "stderr",
     "output_type": "stream",
     "text": [
      "Global seed set to 2\n",
      "Global seed set to 6\n",
      "GPU available: True, used: True\n",
      "TPU available: False, using: 0 TPU cores\n",
      "IPU available: False, using: 0 IPUs\n",
      "Global seed set to 0\n"
     ]
    },
    {
     "name": "stdout",
     "output_type": "stream",
     "text": [
      "{'training': True, '_parameters': OrderedDict(), '_buffers': OrderedDict(), '_non_persistent_buffers_set': set(), '_backward_hooks': OrderedDict(), '_is_full_backward_hook': None, '_forward_hooks': OrderedDict(), '_forward_pre_hooks': OrderedDict(), '_state_dict_hooks': OrderedDict(), '_load_state_dict_pre_hooks': OrderedDict(), '_load_state_dict_post_hooks': OrderedDict(), '_modules': OrderedDict([('linear', Linear(in_features=76, out_features=10, bias=True))]), 'neuron_indices': tensor([266, 315, 283, 323, 218, 318, 215, 111,  48, 192, 187, 174,  67, 213,\n",
      "        351, 344, 319, 324, 334, 188, 264,  66, 178, 316,  76, 248, 191, 309,\n",
      "         62, 276,   7, 232, 143, 342,  86, 340, 287, 124, 311, 242, 156, 105,\n",
      "        172, 120, 206, 281, 382, 271, 195, 303, 154,  97,   6, 223, 297,  54,\n",
      "         22, 268, 217, 259, 113,  31,  43,  10,  16, 236, 161, 175, 339, 220,\n",
      "         94, 190, 214, 249, 225, 196]), 'in_features': 76, 'out_features': 10}\n"
     ]
    },
    {
     "name": "stderr",
     "output_type": "stream",
     "text": [
      "LOCAL_RANK: 0 - CUDA_VISIBLE_DEVICES: [0,1,2,3,4,5,6,7]\n"
     ]
    },
    {
     "data": {
      "application/vnd.jupyter.widget-view+json": {
       "model_id": "f8b3d0505b8343f2be5c5d482b39855c",
       "version_major": 2,
       "version_minor": 0
      },
      "text/plain": [
       "Predicting: 0it [00:00, ?it/s]"
      ]
     },
     "metadata": {},
     "output_type": "display_data"
    },
    {
     "name": "stderr",
     "output_type": "stream",
     "text": [
      "Global seed set to 2\n",
      "Global seed set to 7\n",
      "GPU available: True, used: True\n",
      "TPU available: False, using: 0 TPU cores\n",
      "IPU available: False, using: 0 IPUs\n",
      "Global seed set to 0\n"
     ]
    },
    {
     "name": "stdout",
     "output_type": "stream",
     "text": [
      "{'training': True, '_parameters': OrderedDict(), '_buffers': OrderedDict(), '_non_persistent_buffers_set': set(), '_backward_hooks': OrderedDict(), '_is_full_backward_hook': None, '_forward_hooks': OrderedDict(), '_forward_pre_hooks': OrderedDict(), '_state_dict_hooks': OrderedDict(), '_load_state_dict_pre_hooks': OrderedDict(), '_load_state_dict_post_hooks': OrderedDict(), '_modules': OrderedDict([('linear', Linear(in_features=76, out_features=10, bias=True))]), 'neuron_indices': tensor([303, 204, 193, 254,  87, 153, 257, 298, 132,  20, 184, 156, 368, 175,\n",
      "        376, 208,  42, 190, 309,  47, 260, 115,   2, 122, 292, 315, 359,  37,\n",
      "        342,  57, 219, 129, 108, 142, 239, 196, 180, 247,  69, 299,  30, 370,\n",
      "        366, 310,  96,  41, 206, 258, 164, 131, 159, 125, 231,   6, 264, 222,\n",
      "        176, 382, 140,  91, 154, 117, 245, 107, 284, 227,  67, 347, 350, 173,\n",
      "        139, 112, 293,  93, 241,   7]), 'in_features': 76, 'out_features': 10}\n"
     ]
    },
    {
     "name": "stderr",
     "output_type": "stream",
     "text": [
      "LOCAL_RANK: 0 - CUDA_VISIBLE_DEVICES: [0,1,2,3,4,5,6,7]\n"
     ]
    },
    {
     "data": {
      "application/vnd.jupyter.widget-view+json": {
       "model_id": "680edd571f704afb98e95f65014a8cc2",
       "version_major": 2,
       "version_minor": 0
      },
      "text/plain": [
       "Predicting: 0it [00:00, ?it/s]"
      ]
     },
     "metadata": {},
     "output_type": "display_data"
    },
    {
     "name": "stderr",
     "output_type": "stream",
     "text": [
      "Global seed set to 2\n",
      "Global seed set to 8\n",
      "GPU available: True, used: True\n",
      "TPU available: False, using: 0 TPU cores\n",
      "IPU available: False, using: 0 IPUs\n",
      "Global seed set to 0\n"
     ]
    },
    {
     "name": "stdout",
     "output_type": "stream",
     "text": [
      "{'training': True, '_parameters': OrderedDict(), '_buffers': OrderedDict(), '_non_persistent_buffers_set': set(), '_backward_hooks': OrderedDict(), '_is_full_backward_hook': None, '_forward_hooks': OrderedDict(), '_forward_pre_hooks': OrderedDict(), '_state_dict_hooks': OrderedDict(), '_load_state_dict_pre_hooks': OrderedDict(), '_load_state_dict_post_hooks': OrderedDict(), '_modules': OrderedDict([('linear', Linear(in_features=76, out_features=10, bias=True))]), 'neuron_indices': tensor([195, 178, 363, 219, 321,  52, 274, 351, 280, 295, 150, 118, 205, 257,\n",
      "        211, 172, 330, 256, 332, 309, 153, 158, 329, 267, 306,  74, 354, 188,\n",
      "        342,  58, 180,   4, 115, 223,  39,  24, 235,  83, 174, 346,  82, 359,\n",
      "        250, 122, 105,  64, 130, 114, 347, 191, 360,  99, 207, 284, 128, 131,\n",
      "         18, 246,  79, 243, 112, 209, 217, 173, 266, 189, 123,  45, 290,  38,\n",
      "        291, 230, 212, 265, 132,  15]), 'in_features': 76, 'out_features': 10}\n"
     ]
    },
    {
     "name": "stderr",
     "output_type": "stream",
     "text": [
      "LOCAL_RANK: 0 - CUDA_VISIBLE_DEVICES: [0,1,2,3,4,5,6,7]\n"
     ]
    },
    {
     "data": {
      "application/vnd.jupyter.widget-view+json": {
       "model_id": "7bf019fe21704a5b959bce58a1c2a45f",
       "version_major": 2,
       "version_minor": 0
      },
      "text/plain": [
       "Predicting: 0it [00:00, ?it/s]"
      ]
     },
     "metadata": {},
     "output_type": "display_data"
    },
    {
     "name": "stderr",
     "output_type": "stream",
     "text": [
      "Global seed set to 2\n",
      "Global seed set to 9\n",
      "GPU available: True, used: True\n",
      "TPU available: False, using: 0 TPU cores\n",
      "IPU available: False, using: 0 IPUs\n",
      "Global seed set to 0\n"
     ]
    },
    {
     "name": "stdout",
     "output_type": "stream",
     "text": [
      "{'training': True, '_parameters': OrderedDict(), '_buffers': OrderedDict(), '_non_persistent_buffers_set': set(), '_backward_hooks': OrderedDict(), '_is_full_backward_hook': None, '_forward_hooks': OrderedDict(), '_forward_pre_hooks': OrderedDict(), '_state_dict_hooks': OrderedDict(), '_load_state_dict_pre_hooks': OrderedDict(), '_load_state_dict_post_hooks': OrderedDict(), '_modules': OrderedDict([('linear', Linear(in_features=76, out_features=10, bias=True))]), 'neuron_indices': tensor([382, 379, 274, 284, 106,  74, 247,  48, 197, 110, 142, 342, 279,  24,\n",
      "        130,  86,  88, 301, 113, 140, 137, 369, 254, 343, 310, 174, 282, 258,\n",
      "        216, 209, 146,   0,  92, 129, 294,  40, 126, 243, 111,  41, 187,  29,\n",
      "        205, 285, 198, 250,  65,  22, 280, 101, 123, 231,  21, 210, 336, 241,\n",
      "        117, 360,  15,  13, 102, 375, 118, 116, 232, 299, 263, 176, 292, 268,\n",
      "         98, 217, 168,  97, 124, 311]), 'in_features': 76, 'out_features': 10}\n"
     ]
    },
    {
     "name": "stderr",
     "output_type": "stream",
     "text": [
      "LOCAL_RANK: 0 - CUDA_VISIBLE_DEVICES: [0,1,2,3,4,5,6,7]\n"
     ]
    },
    {
     "data": {
      "application/vnd.jupyter.widget-view+json": {
       "model_id": "403ee629a51d4024a97d6fc882733951",
       "version_major": 2,
       "version_minor": 0
      },
      "text/plain": [
       "Predicting: 0it [00:00, ?it/s]"
      ]
     },
     "metadata": {},
     "output_type": "display_data"
    },
    {
     "name": "stderr",
     "output_type": "stream",
     "text": [
      "Global seed set to 2\n",
      "Global seed set to 1\n",
      "GPU available: True, used: True\n",
      "TPU available: False, using: 0 TPU cores\n",
      "IPU available: False, using: 0 IPUs\n",
      "Global seed set to 0\n"
     ]
    },
    {
     "name": "stdout",
     "output_type": "stream",
     "text": [
      "{'training': True, '_parameters': OrderedDict(), '_buffers': OrderedDict(), '_non_persistent_buffers_set': set(), '_backward_hooks': OrderedDict(), '_is_full_backward_hook': None, '_forward_hooks': OrderedDict(), '_forward_pre_hooks': OrderedDict(), '_state_dict_hooks': OrderedDict(), '_load_state_dict_pre_hooks': OrderedDict(), '_load_state_dict_post_hooks': OrderedDict(), '_modules': OrderedDict([('linear', Linear(in_features=192, out_features=10, bias=True))]), 'neuron_indices': tensor([ 37,  88, 258, 104, 307, 131, 251, 113,  31,  66, 162, 117, 364, 158,\n",
      "        277,  69, 198, 329, 194,  50, 142,  84, 166, 340, 147,  77,  92, 176,\n",
      "         49, 153,  38,  73,  87,  57,  71,  16, 359,  61, 172,  89,  11, 196,\n",
      "        227, 366,   4, 291,  96,  48, 257, 298, 140, 306,  56, 363,  75, 209,\n",
      "        255, 122,  45, 217,  28, 326, 111, 116,  14, 107, 325, 102, 216, 112,\n",
      "         42, 375, 188, 128,  86, 315, 249, 316,   5, 339, 175,   2, 352, 301,\n",
      "        259, 346, 205,  60, 378, 238, 266, 334,  74, 342, 267, 213,  34, 114,\n",
      "        354, 256, 361, 327, 219, 228, 200, 138, 134, 157, 101, 106, 179,  22,\n",
      "        185, 207, 223, 168, 382, 136, 358,  79, 376, 253, 119, 296,  29, 304,\n",
      "        265, 271, 120, 270, 357, 149, 144, 273, 262, 155, 252, 130, 261, 218,\n",
      "        135,  82, 103, 246, 204,  13, 310, 245, 208, 279, 303, 248, 292, 150,\n",
      "          8, 350, 370, 141, 177, 241, 311, 178, 335, 377, 333, 244, 190, 380,\n",
      "        165, 313, 132, 110, 206, 202, 381, 365, 322,  43, 233, 353, 232, 146,\n",
      "         95,  94, 282, 349, 170,  78,   1, 234,  85, 371]), 'in_features': 192, 'out_features': 10}\n"
     ]
    },
    {
     "name": "stderr",
     "output_type": "stream",
     "text": [
      "LOCAL_RANK: 0 - CUDA_VISIBLE_DEVICES: [0,1,2,3,4,5,6,7]\n"
     ]
    },
    {
     "data": {
      "application/vnd.jupyter.widget-view+json": {
       "model_id": "4f0ffee1dd8a46c68ea25cbd86f96b5f",
       "version_major": 2,
       "version_minor": 0
      },
      "text/plain": [
       "Predicting: 0it [00:00, ?it/s]"
      ]
     },
     "metadata": {},
     "output_type": "display_data"
    },
    {
     "name": "stderr",
     "output_type": "stream",
     "text": [
      "Global seed set to 2\n",
      "Global seed set to 2\n",
      "GPU available: True, used: True\n",
      "TPU available: False, using: 0 TPU cores\n",
      "IPU available: False, using: 0 IPUs\n",
      "Global seed set to 0\n"
     ]
    },
    {
     "name": "stdout",
     "output_type": "stream",
     "text": [
      "{'training': True, '_parameters': OrderedDict(), '_buffers': OrderedDict(), '_non_persistent_buffers_set': set(), '_backward_hooks': OrderedDict(), '_is_full_backward_hook': None, '_forward_hooks': OrderedDict(), '_forward_pre_hooks': OrderedDict(), '_state_dict_hooks': OrderedDict(), '_load_state_dict_pre_hooks': OrderedDict(), '_load_state_dict_post_hooks': OrderedDict(), '_modules': OrderedDict([('linear', Linear(in_features=192, out_features=10, bias=True))]), 'neuron_indices': tensor([168,   9,  67, 159,  62, 235,  96, 153,  72, 270,  32, 122, 215, 213,\n",
      "        249, 269, 287,  81, 368,  89,   8, 309,  49, 250, 115, 329, 356, 231,\n",
      "        195,  82, 341,  63, 330,  47, 350, 187, 191, 150, 101, 359, 172, 298,\n",
      "        376, 322,  24, 259, 313, 183, 128,  11, 194, 158,  10, 278, 282,  35,\n",
      "        167,  21, 241, 306, 234,  19, 198, 379,  23,  31, 137, 240,  84, 106,\n",
      "        211,  25, 176, 267, 141, 197, 129, 177, 188, 133,  22, 175, 371, 160,\n",
      "        147, 138, 178,  56,   0, 347, 248, 360, 292, 181, 320,  66, 214, 236,\n",
      "        124, 185, 262,  34,  38, 381, 353, 348, 134, 143, 189, 130, 331,   2,\n",
      "        357,  86, 300, 316,  59, 154, 340, 302, 244,  46,  80, 212,   4, 280,\n",
      "         68, 291, 144,  28, 277, 105, 237, 354, 295, 336, 135, 246, 170,  42,\n",
      "         73,  45,  99, 373, 132, 200,  75, 311,  36, 247, 370, 192, 294,  33,\n",
      "        335, 276, 182,  97, 209,  27, 254,  53, 264, 382,  40, 127, 261, 374,\n",
      "         87, 268, 265, 257, 173,  64, 216, 118, 239,  79,   1, 312,  70, 343,\n",
      "        344, 326, 163, 363, 142, 169, 242, 273,   6, 342]), 'in_features': 192, 'out_features': 10}\n"
     ]
    },
    {
     "name": "stderr",
     "output_type": "stream",
     "text": [
      "LOCAL_RANK: 0 - CUDA_VISIBLE_DEVICES: [0,1,2,3,4,5,6,7]\n"
     ]
    },
    {
     "data": {
      "application/vnd.jupyter.widget-view+json": {
       "model_id": "2fcf8c5b4350456583a7e6c908bddf1f",
       "version_major": 2,
       "version_minor": 0
      },
      "text/plain": [
       "Predicting: 0it [00:00, ?it/s]"
      ]
     },
     "metadata": {},
     "output_type": "display_data"
    },
    {
     "name": "stderr",
     "output_type": "stream",
     "text": [
      "Global seed set to 2\n",
      "Global seed set to 3\n",
      "GPU available: True, used: True\n",
      "TPU available: False, using: 0 TPU cores\n",
      "IPU available: False, using: 0 IPUs\n",
      "Global seed set to 0\n"
     ]
    },
    {
     "name": "stdout",
     "output_type": "stream",
     "text": [
      "{'training': True, '_parameters': OrderedDict(), '_buffers': OrderedDict(), '_non_persistent_buffers_set': set(), '_backward_hooks': OrderedDict(), '_is_full_backward_hook': None, '_forward_hooks': OrderedDict(), '_forward_pre_hooks': OrderedDict(), '_state_dict_hooks': OrderedDict(), '_load_state_dict_pre_hooks': OrderedDict(), '_load_state_dict_post_hooks': OrderedDict(), '_modules': OrderedDict([('linear', Linear(in_features=192, out_features=10, bias=True))]), 'neuron_indices': tensor([106, 302, 345, 306,  44,  25, 246, 165, 173, 373,  62, 354,  89,  61,\n",
      "        170, 154, 119, 223,  26, 158,  96,  50, 333, 210,  20,  13,  51,  60,\n",
      "        150, 174,  42, 362, 252, 379, 303,  66,   8, 254, 136, 315, 253, 204,\n",
      "         74, 356, 218, 321, 378, 102, 273, 380, 293, 208, 157, 290,   4,  19,\n",
      "        277, 346,  82, 221, 244, 180, 278, 312, 128, 141,  49, 310, 327, 274,\n",
      "        194,  88, 287,  21, 371, 212,  45, 259, 133, 134, 181, 366,  47, 152,\n",
      "        296,  87, 313,  14, 360, 269,  32, 160, 108,  56,  94, 351,  16, 265,\n",
      "        151, 178, 129, 182, 226,   1, 249,  78, 131, 115,  37, 144, 124, 209,\n",
      "         31, 355, 368, 149, 211, 361, 166, 242, 228, 109,   7, 279,  76, 230,\n",
      "        168, 304,  52, 267,  85,  84, 281, 308, 383, 113, 127, 261, 291, 234,\n",
      "         57,  79,   6, 282, 260, 205, 268, 146, 247, 288, 139, 266, 295, 138,\n",
      "         39, 143, 377, 344, 382,  33,  69, 190, 126, 217,  15, 207,  63, 185,\n",
      "        206,  73, 325,  35, 305, 326,  34, 105, 300,  72, 322, 375, 243, 363,\n",
      "          2, 186, 236, 317,  58, 193, 107, 231,  91, 220]), 'in_features': 192, 'out_features': 10}\n"
     ]
    },
    {
     "name": "stderr",
     "output_type": "stream",
     "text": [
      "LOCAL_RANK: 0 - CUDA_VISIBLE_DEVICES: [0,1,2,3,4,5,6,7]\n"
     ]
    },
    {
     "data": {
      "application/vnd.jupyter.widget-view+json": {
       "model_id": "5bcc49ee5e1447809c79b571747865e9",
       "version_major": 2,
       "version_minor": 0
      },
      "text/plain": [
       "Predicting: 0it [00:00, ?it/s]"
      ]
     },
     "metadata": {},
     "output_type": "display_data"
    },
    {
     "name": "stderr",
     "output_type": "stream",
     "text": [
      "Global seed set to 2\n",
      "Global seed set to 4\n",
      "GPU available: True, used: True\n",
      "TPU available: False, using: 0 TPU cores\n",
      "IPU available: False, using: 0 IPUs\n",
      "Global seed set to 0\n"
     ]
    },
    {
     "name": "stdout",
     "output_type": "stream",
     "text": [
      "{'training': True, '_parameters': OrderedDict(), '_buffers': OrderedDict(), '_non_persistent_buffers_set': set(), '_backward_hooks': OrderedDict(), '_is_full_backward_hook': None, '_forward_hooks': OrderedDict(), '_forward_pre_hooks': OrderedDict(), '_state_dict_hooks': OrderedDict(), '_load_state_dict_pre_hooks': OrderedDict(), '_load_state_dict_post_hooks': OrderedDict(), '_modules': OrderedDict([('linear', Linear(in_features=192, out_features=10, bias=True))]), 'neuron_indices': tensor([250, 172, 245, 263,  73,  12, 239,   0, 234, 120, 266, 204,  47, 302,\n",
      "        364, 328,  71, 145, 336,  61, 118, 155, 212, 194, 146, 301, 139,   2,\n",
      "         95,  19,  93, 299, 326, 111, 298, 277, 106,  45, 339, 243, 144, 193,\n",
      "        158,  75,  16,  98, 188,  99, 170, 166, 261, 207, 214, 138, 310, 143,\n",
      "        186, 199, 121, 296, 167,  29,  30, 284, 337, 137,  83, 156, 109, 101,\n",
      "        270, 373, 103, 291, 350, 286, 107, 190, 122,  25, 215,  11, 244, 316,\n",
      "        223, 153, 340, 348, 281, 334,  44, 187, 195, 119, 247,  13,  51, 136,\n",
      "        285, 295, 203, 254, 162, 159,  50, 279, 275,  17, 141, 365,  72,  81,\n",
      "        366,  74, 210, 347,  46, 382, 375,  89,  85, 331, 309, 221, 233, 361,\n",
      "        306, 274, 315, 335, 258, 248, 370, 381, 240,  67, 352, 180,   3, 353,\n",
      "         24, 317,  49,  86, 209, 369,  21, 362, 371, 264, 321,  41, 333, 259,\n",
      "         54, 154,  60, 341,  87, 325, 319, 230, 197, 229, 383,  53, 147,  32,\n",
      "        129,   4, 205, 297, 114, 293,  52,  37,  96, 150,  94, 183, 189,  42,\n",
      "        378, 260, 330, 265,  34, 338, 165, 322, 273, 228]), 'in_features': 192, 'out_features': 10}\n"
     ]
    },
    {
     "name": "stderr",
     "output_type": "stream",
     "text": [
      "LOCAL_RANK: 0 - CUDA_VISIBLE_DEVICES: [0,1,2,3,4,5,6,7]\n"
     ]
    },
    {
     "data": {
      "application/vnd.jupyter.widget-view+json": {
       "model_id": "d65aa7ad219543809e50919e04dc50d8",
       "version_major": 2,
       "version_minor": 0
      },
      "text/plain": [
       "Predicting: 0it [00:00, ?it/s]"
      ]
     },
     "metadata": {},
     "output_type": "display_data"
    },
    {
     "name": "stderr",
     "output_type": "stream",
     "text": [
      "Global seed set to 2\n",
      "Global seed set to 5\n",
      "GPU available: True, used: True\n",
      "TPU available: False, using: 0 TPU cores\n",
      "IPU available: False, using: 0 IPUs\n",
      "Global seed set to 0\n"
     ]
    },
    {
     "name": "stdout",
     "output_type": "stream",
     "text": [
      "{'training': True, '_parameters': OrderedDict(), '_buffers': OrderedDict(), '_non_persistent_buffers_set': set(), '_backward_hooks': OrderedDict(), '_is_full_backward_hook': None, '_forward_hooks': OrderedDict(), '_forward_pre_hooks': OrderedDict(), '_state_dict_hooks': OrderedDict(), '_load_state_dict_pre_hooks': OrderedDict(), '_load_state_dict_post_hooks': OrderedDict(), '_modules': OrderedDict([('linear', Linear(in_features=192, out_features=10, bias=True))]), 'neuron_indices': tensor([227, 245, 139,   9, 250,  75,  70, 239,  80, 163, 325,  83,  95, 365,\n",
      "        112,   5, 119, 155, 269, 323, 149, 138,  90,  33,  68, 381, 279, 135,\n",
      "        183, 335, 126, 125, 349, 162,  64,  81, 157, 327, 331, 343,  54, 371,\n",
      "        240, 263, 104,  38, 127, 151,  14,  59,  92,   7, 148, 196, 173, 124,\n",
      "        311, 350,  55,  40, 225, 176,  47, 290, 369, 313,   3, 272, 376, 216,\n",
      "        118,  63, 379, 107, 211,  17,  97, 332,  15, 178, 366, 302, 355, 374,\n",
      "        193,  72, 303, 258, 182, 288,  11, 131, 281,   6,   2, 244, 165, 218,\n",
      "         74,  57, 164,  41, 340,  60, 136, 330,  87, 123, 324, 383,  93,  44,\n",
      "        174, 122, 232, 301,  66, 344, 219, 358, 117, 237, 378, 372, 254, 308,\n",
      "        342,  42, 261,  16, 168, 106, 201, 270, 274, 188,  18,  25,  76, 278,\n",
      "        200, 364, 141, 137,  51, 111, 347, 382, 156, 169, 160, 293,  12, 326,\n",
      "         86, 305, 304, 235,   8, 300, 101, 116,  45, 191,  28,  39,  89, 233,\n",
      "        251, 184, 197, 128, 284,  88,  32, 309, 380, 214, 228, 109, 319, 192,\n",
      "        159, 181, 338,  61,  29, 129, 328, 217, 180, 317]), 'in_features': 192, 'out_features': 10}\n"
     ]
    },
    {
     "name": "stderr",
     "output_type": "stream",
     "text": [
      "LOCAL_RANK: 0 - CUDA_VISIBLE_DEVICES: [0,1,2,3,4,5,6,7]\n"
     ]
    },
    {
     "data": {
      "application/vnd.jupyter.widget-view+json": {
       "model_id": "77865e6b123d44719a83d639ed023a88",
       "version_major": 2,
       "version_minor": 0
      },
      "text/plain": [
       "Predicting: 0it [00:00, ?it/s]"
      ]
     },
     "metadata": {},
     "output_type": "display_data"
    },
    {
     "name": "stderr",
     "output_type": "stream",
     "text": [
      "Global seed set to 2\n",
      "Global seed set to 6\n",
      "GPU available: True, used: True\n",
      "TPU available: False, using: 0 TPU cores\n",
      "IPU available: False, using: 0 IPUs\n",
      "Global seed set to 0\n"
     ]
    },
    {
     "name": "stdout",
     "output_type": "stream",
     "text": [
      "{'training': True, '_parameters': OrderedDict(), '_buffers': OrderedDict(), '_non_persistent_buffers_set': set(), '_backward_hooks': OrderedDict(), '_is_full_backward_hook': None, '_forward_hooks': OrderedDict(), '_forward_pre_hooks': OrderedDict(), '_state_dict_hooks': OrderedDict(), '_load_state_dict_pre_hooks': OrderedDict(), '_load_state_dict_post_hooks': OrderedDict(), '_modules': OrderedDict([('linear', Linear(in_features=192, out_features=10, bias=True))]), 'neuron_indices': tensor([266, 315, 283, 323, 218, 318, 215, 111,  48, 192, 187, 174,  67, 213,\n",
      "        351, 344, 319, 324, 334, 188, 264,  66, 178, 316,  76, 248, 191, 309,\n",
      "         62, 276,   7, 232, 143, 342,  86, 340, 287, 124, 311, 242, 156, 105,\n",
      "        172, 120, 206, 281, 382, 271, 195, 303, 154,  97,   6, 223, 297,  54,\n",
      "         22, 268, 217, 259, 113,  31,  43,  10,  16, 236, 161, 175, 339, 220,\n",
      "         94, 190, 214, 249, 225, 196, 136, 169,  88, 198, 135, 346, 291, 122,\n",
      "        265, 130, 238, 374, 257, 193, 173,  47, 301, 100, 189, 308,  78, 314,\n",
      "        180, 321, 137, 171, 210, 350,  55, 176, 237,  45, 126, 373,  12, 302,\n",
      "         83,  38, 205, 110, 234,  71, 290, 125, 369, 293, 239, 371, 360, 349,\n",
      "         25, 230,  51,  80, 102, 337, 227,  27, 284,  82, 128,  26, 129, 273,\n",
      "        167, 263, 304, 296, 222,  29, 103,  84,  99, 224, 336,  21,  28,  58,\n",
      "        277,  18,  60, 362, 166, 123,  15, 327,  61, 294, 112, 279,  41,  98,\n",
      "        380, 285, 250, 357,  36, 300,  19, 157, 150,  23,  72, 109,  64, 378,\n",
      "        162, 170,   2, 278,  49, 228, 229, 158, 353, 146]), 'in_features': 192, 'out_features': 10}\n"
     ]
    },
    {
     "name": "stderr",
     "output_type": "stream",
     "text": [
      "LOCAL_RANK: 0 - CUDA_VISIBLE_DEVICES: [0,1,2,3,4,5,6,7]\n"
     ]
    },
    {
     "data": {
      "application/vnd.jupyter.widget-view+json": {
       "model_id": "7d7913a22d1c446ba183d4cc312551c9",
       "version_major": 2,
       "version_minor": 0
      },
      "text/plain": [
       "Predicting: 0it [00:00, ?it/s]"
      ]
     },
     "metadata": {},
     "output_type": "display_data"
    },
    {
     "name": "stderr",
     "output_type": "stream",
     "text": [
      "Global seed set to 2\n",
      "Global seed set to 7\n",
      "GPU available: True, used: True\n",
      "TPU available: False, using: 0 TPU cores\n",
      "IPU available: False, using: 0 IPUs\n",
      "Global seed set to 0\n"
     ]
    },
    {
     "name": "stdout",
     "output_type": "stream",
     "text": [
      "{'training': True, '_parameters': OrderedDict(), '_buffers': OrderedDict(), '_non_persistent_buffers_set': set(), '_backward_hooks': OrderedDict(), '_is_full_backward_hook': None, '_forward_hooks': OrderedDict(), '_forward_pre_hooks': OrderedDict(), '_state_dict_hooks': OrderedDict(), '_load_state_dict_pre_hooks': OrderedDict(), '_load_state_dict_post_hooks': OrderedDict(), '_modules': OrderedDict([('linear', Linear(in_features=192, out_features=10, bias=True))]), 'neuron_indices': tensor([303, 204, 193, 254,  87, 153, 257, 298, 132,  20, 184, 156, 368, 175,\n",
      "        376, 208,  42, 190, 309,  47, 260, 115,   2, 122, 292, 315, 359,  37,\n",
      "        342,  57, 219, 129, 108, 142, 239, 196, 180, 247,  69, 299,  30, 370,\n",
      "        366, 310,  96,  41, 206, 258, 164, 131, 159, 125, 231,   6, 264, 222,\n",
      "        176, 382, 140,  91, 154, 117, 245, 107, 284, 227,  67, 347, 350, 173,\n",
      "        139, 112, 293,  93, 241,   7, 375, 263, 251, 182, 163, 283, 277, 365,\n",
      "        195,  48,  34,  77,   1,  32, 237,  49,  45, 246, 351,  74, 285, 249,\n",
      "        111, 146, 130,  92, 148, 157, 373,  31, 155, 137,  33, 228, 226, 200,\n",
      "        141, 143, 289, 230, 102, 218, 232, 162, 364, 194,  80, 295, 243,  29,\n",
      "        105, 113,   8, 149, 166, 367, 282, 326, 345,  90, 343, 233,  14, 261,\n",
      "          4, 188,  15, 332,  50,  38, 262,  66,  99, 199, 340, 202, 150, 338,\n",
      "         62, 275, 286,  16, 363,  21, 244, 353, 369, 381,  28, 256,  51, 311,\n",
      "        302,  56, 362, 324,  12, 307, 158, 355,  55, 133,  44,  61,   5, 253,\n",
      "        371,  82,  26,  73, 177, 304, 161,  24, 296,  18]), 'in_features': 192, 'out_features': 10}\n"
     ]
    },
    {
     "name": "stderr",
     "output_type": "stream",
     "text": [
      "LOCAL_RANK: 0 - CUDA_VISIBLE_DEVICES: [0,1,2,3,4,5,6,7]\n"
     ]
    },
    {
     "data": {
      "application/vnd.jupyter.widget-view+json": {
       "model_id": "0b9c427e87b64a478f5ff76b1a536b63",
       "version_major": 2,
       "version_minor": 0
      },
      "text/plain": [
       "Predicting: 0it [00:00, ?it/s]"
      ]
     },
     "metadata": {},
     "output_type": "display_data"
    },
    {
     "name": "stderr",
     "output_type": "stream",
     "text": [
      "Global seed set to 2\n",
      "Global seed set to 8\n",
      "GPU available: True, used: True\n",
      "TPU available: False, using: 0 TPU cores\n",
      "IPU available: False, using: 0 IPUs\n",
      "Global seed set to 0\n"
     ]
    },
    {
     "name": "stdout",
     "output_type": "stream",
     "text": [
      "{'training': True, '_parameters': OrderedDict(), '_buffers': OrderedDict(), '_non_persistent_buffers_set': set(), '_backward_hooks': OrderedDict(), '_is_full_backward_hook': None, '_forward_hooks': OrderedDict(), '_forward_pre_hooks': OrderedDict(), '_state_dict_hooks': OrderedDict(), '_load_state_dict_pre_hooks': OrderedDict(), '_load_state_dict_post_hooks': OrderedDict(), '_modules': OrderedDict([('linear', Linear(in_features=192, out_features=10, bias=True))]), 'neuron_indices': tensor([195, 178, 363, 219, 321,  52, 274, 351, 280, 295, 150, 118, 205, 257,\n",
      "        211, 172, 330, 256, 332, 309, 153, 158, 329, 267, 306,  74, 354, 188,\n",
      "        342,  58, 180,   4, 115, 223,  39,  24, 235,  83, 174, 346,  82, 359,\n",
      "        250, 122, 105,  64, 130, 114, 347, 191, 360,  99, 207, 284, 128, 131,\n",
      "         18, 246,  79, 243, 112, 209, 217, 173, 266, 189, 123,  45, 290,  38,\n",
      "        291, 230, 212, 265, 132,  15,  75, 186, 181, 192, 277, 228, 208, 272,\n",
      "        378,  98, 136, 165,  43, 251, 129,  11, 299,  93,  14,  20, 167, 229,\n",
      "        141,  94,  77,  40, 137,  12, 120, 170,  88, 327,  67, 364, 213, 183,\n",
      "        196, 146, 127,   3, 324,   7, 349, 301, 352,  60,   2, 221, 145,  21,\n",
      "        177, 175, 203, 147, 148,  33, 264,  29,  96, 179, 383,  78, 371, 227,\n",
      "        348, 138,  55,   5, 252, 312, 139,  61, 107,  97, 345,  32, 163, 247,\n",
      "        353, 322, 108, 263, 104, 234, 339, 185, 314, 379, 161,  13,  34,  73,\n",
      "        197, 381, 160, 285, 377, 278, 155,  59,  56, 238,  72, 162, 296, 259,\n",
      "        298,  62, 335, 224, 194, 268, 305, 166, 262,  41]), 'in_features': 192, 'out_features': 10}\n"
     ]
    },
    {
     "name": "stderr",
     "output_type": "stream",
     "text": [
      "LOCAL_RANK: 0 - CUDA_VISIBLE_DEVICES: [0,1,2,3,4,5,6,7]\n"
     ]
    },
    {
     "data": {
      "application/vnd.jupyter.widget-view+json": {
       "model_id": "bed53b854525431c8a5a95665ffabe41",
       "version_major": 2,
       "version_minor": 0
      },
      "text/plain": [
       "Predicting: 0it [00:00, ?it/s]"
      ]
     },
     "metadata": {},
     "output_type": "display_data"
    },
    {
     "name": "stderr",
     "output_type": "stream",
     "text": [
      "Global seed set to 2\n",
      "Global seed set to 9\n",
      "GPU available: True, used: True\n",
      "TPU available: False, using: 0 TPU cores\n",
      "IPU available: False, using: 0 IPUs\n",
      "Global seed set to 0\n"
     ]
    },
    {
     "name": "stdout",
     "output_type": "stream",
     "text": [
      "{'training': True, '_parameters': OrderedDict(), '_buffers': OrderedDict(), '_non_persistent_buffers_set': set(), '_backward_hooks': OrderedDict(), '_is_full_backward_hook': None, '_forward_hooks': OrderedDict(), '_forward_pre_hooks': OrderedDict(), '_state_dict_hooks': OrderedDict(), '_load_state_dict_pre_hooks': OrderedDict(), '_load_state_dict_post_hooks': OrderedDict(), '_modules': OrderedDict([('linear', Linear(in_features=192, out_features=10, bias=True))]), 'neuron_indices': tensor([382, 379, 274, 284, 106,  74, 247,  48, 197, 110, 142, 342, 279,  24,\n",
      "        130,  86,  88, 301, 113, 140, 137, 369, 254, 343, 310, 174, 282, 258,\n",
      "        216, 209, 146,   0,  92, 129, 294,  40, 126, 243, 111,  41, 187,  29,\n",
      "        205, 285, 198, 250,  65,  22, 280, 101, 123, 231,  21, 210, 336, 241,\n",
      "        117, 360,  15,  13, 102, 375, 118, 116, 232, 299, 263, 176, 292, 268,\n",
      "         98, 217, 168,  97, 124, 311, 181, 370, 240, 335,  25, 361, 230, 321,\n",
      "        244,  44,  23, 252, 317, 156, 166, 363, 173,  76, 201,  49, 271,  66,\n",
      "        236, 155, 242, 128,  18, 214, 218, 281, 324, 338, 229,  12, 290, 354,\n",
      "        163,  60,   1, 189,  36, 302, 188, 171, 376, 350,  95, 141,  42, 264,\n",
      "        323, 368, 107, 341,  17, 295, 277, 332, 238, 136,  11,   7, 345, 223,\n",
      "        103,  84,   8, 348,  54, 326,  81,  56,  46, 104,  26, 346, 372, 135,\n",
      "         83, 147, 246, 122, 172, 115, 204, 325, 228, 234,   3, 180, 200, 257,\n",
      "        322, 178, 320, 373, 367, 291, 253,   2,  52, 220, 340, 207,  50, 286,\n",
      "          6, 380, 344, 121, 203,  31,  45, 377, 356,  75]), 'in_features': 192, 'out_features': 10}\n"
     ]
    },
    {
     "name": "stderr",
     "output_type": "stream",
     "text": [
      "LOCAL_RANK: 0 - CUDA_VISIBLE_DEVICES: [0,1,2,3,4,5,6,7]\n"
     ]
    },
    {
     "data": {
      "application/vnd.jupyter.widget-view+json": {
       "model_id": "6752f83a6e87475d888cc52dc0a31763",
       "version_major": 2,
       "version_minor": 0
      },
      "text/plain": [
       "Predicting: 0it [00:00, ?it/s]"
      ]
     },
     "metadata": {},
     "output_type": "display_data"
    },
    {
     "name": "stderr",
     "output_type": "stream",
     "text": [
      "Global seed set to 2\n",
      "Global seed set to 1\n",
      "GPU available: True, used: True\n",
      "TPU available: False, using: 0 TPU cores\n",
      "IPU available: False, using: 0 IPUs\n",
      "Global seed set to 0\n"
     ]
    },
    {
     "name": "stdout",
     "output_type": "stream",
     "text": [
      "{'training': True, '_parameters': OrderedDict(), '_buffers': OrderedDict(), '_non_persistent_buffers_set': set(), '_backward_hooks': OrderedDict(), '_is_full_backward_hook': None, '_forward_hooks': OrderedDict(), '_forward_pre_hooks': OrderedDict(), '_state_dict_hooks': OrderedDict(), '_load_state_dict_pre_hooks': OrderedDict(), '_load_state_dict_post_hooks': OrderedDict(), '_modules': OrderedDict([('linear', Linear(in_features=345, out_features=10, bias=True))]), 'neuron_indices': tensor([ 37,  88, 258, 104, 307, 131, 251, 113,  31,  66, 162, 117, 364, 158,\n",
      "        277,  69, 198, 329, 194,  50, 142,  84, 166, 340, 147,  77,  92, 176,\n",
      "         49, 153,  38,  73,  87,  57,  71,  16, 359,  61, 172,  89,  11, 196,\n",
      "        227, 366,   4, 291,  96,  48, 257, 298, 140, 306,  56, 363,  75, 209,\n",
      "        255, 122,  45, 217,  28, 326, 111, 116,  14, 107, 325, 102, 216, 112,\n",
      "         42, 375, 188, 128,  86, 315, 249, 316,   5, 339, 175,   2, 352, 301,\n",
      "        259, 346, 205,  60, 378, 238, 266, 334,  74, 342, 267, 213,  34, 114,\n",
      "        354, 256, 361, 327, 219, 228, 200, 138, 134, 157, 101, 106, 179,  22,\n",
      "        185, 207, 223, 168, 382, 136, 358,  79, 376, 253, 119, 296,  29, 304,\n",
      "        265, 271, 120, 270, 357, 149, 144, 273, 262, 155, 252, 130, 261, 218,\n",
      "        135,  82, 103, 246, 204,  13, 310, 245, 208, 279, 303, 248, 292, 150,\n",
      "          8, 350, 370, 141, 177, 241, 311, 178, 335, 377, 333, 244, 190, 380,\n",
      "        165, 313, 132, 110, 206, 202, 381, 365, 322,  43, 233, 353, 232, 146,\n",
      "         95,  94, 282, 349, 170,  78,   1, 234,  85, 371, 108,  36, 186, 264,\n",
      "        235, 269,   6, 345, 212,  90, 276, 318,  15, 193, 192, 199,  55, 197,\n",
      "         27, 215,  20, 368, 309, 118,  47, 239, 148,  30, 297, 321,  33, 195,\n",
      "        145, 243,  40, 127, 187, 289,   7, 115, 379,  41, 250, 224, 169,  44,\n",
      "        160, 182,  24,  81, 247, 383,  76, 367, 139,  51, 230, 308, 317, 263,\n",
      "        125,  64, 236, 338, 272, 281, 161,  83, 180, 331,  12, 285,  19, 156,\n",
      "         10, 355,  58, 183,  68, 240, 229, 280, 372, 341, 348,  98,  91, 356,\n",
      "        300,  52, 129, 260, 324, 320,  63, 362,  21, 214, 231, 283, 290, 123,\n",
      "        121, 154, 369, 294,   0, 210,  65, 242, 302, 330, 332,  26,   3, 137,\n",
      "        299,  18, 189, 275, 220, 287, 278,  93, 191,  59, 221, 143, 167, 225,\n",
      "        336, 351, 133,  46, 343,  32, 284, 211, 305,  53, 374, 268, 100, 171,\n",
      "         70,  62, 203, 105, 109,  72,  17,  99, 360]), 'in_features': 345, 'out_features': 10}\n"
     ]
    },
    {
     "name": "stderr",
     "output_type": "stream",
     "text": [
      "LOCAL_RANK: 0 - CUDA_VISIBLE_DEVICES: [0,1,2,3,4,5,6,7]\n"
     ]
    },
    {
     "data": {
      "application/vnd.jupyter.widget-view+json": {
       "model_id": "7bb82a6093cf448ca70078f2aad2eba8",
       "version_major": 2,
       "version_minor": 0
      },
      "text/plain": [
       "Predicting: 0it [00:00, ?it/s]"
      ]
     },
     "metadata": {},
     "output_type": "display_data"
    },
    {
     "name": "stderr",
     "output_type": "stream",
     "text": [
      "Global seed set to 2\n",
      "Global seed set to 2\n",
      "GPU available: True, used: True\n",
      "TPU available: False, using: 0 TPU cores\n",
      "IPU available: False, using: 0 IPUs\n",
      "Global seed set to 0\n"
     ]
    },
    {
     "name": "stdout",
     "output_type": "stream",
     "text": [
      "{'training': True, '_parameters': OrderedDict(), '_buffers': OrderedDict(), '_non_persistent_buffers_set': set(), '_backward_hooks': OrderedDict(), '_is_full_backward_hook': None, '_forward_hooks': OrderedDict(), '_forward_pre_hooks': OrderedDict(), '_state_dict_hooks': OrderedDict(), '_load_state_dict_pre_hooks': OrderedDict(), '_load_state_dict_post_hooks': OrderedDict(), '_modules': OrderedDict([('linear', Linear(in_features=345, out_features=10, bias=True))]), 'neuron_indices': tensor([168,   9,  67, 159,  62, 235,  96, 153,  72, 270,  32, 122, 215, 213,\n",
      "        249, 269, 287,  81, 368,  89,   8, 309,  49, 250, 115, 329, 356, 231,\n",
      "        195,  82, 341,  63, 330,  47, 350, 187, 191, 150, 101, 359, 172, 298,\n",
      "        376, 322,  24, 259, 313, 183, 128,  11, 194, 158,  10, 278, 282,  35,\n",
      "        167,  21, 241, 306, 234,  19, 198, 379,  23,  31, 137, 240,  84, 106,\n",
      "        211,  25, 176, 267, 141, 197, 129, 177, 188, 133,  22, 175, 371, 160,\n",
      "        147, 138, 178,  56,   0, 347, 248, 360, 292, 181, 320,  66, 214, 236,\n",
      "        124, 185, 262,  34,  38, 381, 353, 348, 134, 143, 189, 130, 331,   2,\n",
      "        357,  86, 300, 316,  59, 154, 340, 302, 244,  46,  80, 212,   4, 280,\n",
      "         68, 291, 144,  28, 277, 105, 237, 354, 295, 336, 135, 246, 170,  42,\n",
      "         73,  45,  99, 373, 132, 200,  75, 311,  36, 247, 370, 192, 294,  33,\n",
      "        335, 276, 182,  97, 209,  27, 254,  53, 264, 382,  40, 127, 261, 374,\n",
      "         87, 268, 265, 257, 173,  64, 216, 118, 239,  79,   1, 312,  70, 343,\n",
      "        344, 326, 163, 363, 142, 169, 242, 273,   6, 342, 224,  69, 114, 120,\n",
      "        140, 369, 266, 220, 116, 196, 225, 108, 203, 232, 110, 112, 174, 145,\n",
      "         43, 293, 251, 243, 339, 157, 349, 230, 204, 210, 328, 226, 310, 337,\n",
      "        378,  93,   3, 303, 279, 380, 274, 219,  90, 162, 334, 165, 327,  88,\n",
      "        190, 221, 245, 372, 206,  52, 362, 148,  94, 289,  61, 229, 366, 184,\n",
      "        260,  76, 207, 171, 233, 275, 296, 152, 180, 308, 186, 288,   5,  39,\n",
      "         17, 253, 325,  15, 272,  95, 301, 258,  48,  44,  30, 125, 149, 263,\n",
      "        333, 304,  92, 365, 338, 222, 323,  71, 377, 332,  60, 351, 345, 256,\n",
      "        358, 283, 111, 299,  12, 126, 109,  13, 103, 161, 146, 252, 367, 290,\n",
      "        104,  20, 139, 155, 285, 281, 314,  54, 166, 117, 297, 202, 318, 136,\n",
      "         78, 238,  26, 228, 355, 271,  65, 123, 131, 383,  74, 208, 352,  83,\n",
      "        305,  91, 100, 164, 319,  50,  85,  16,  29]), 'in_features': 345, 'out_features': 10}\n"
     ]
    },
    {
     "name": "stderr",
     "output_type": "stream",
     "text": [
      "LOCAL_RANK: 0 - CUDA_VISIBLE_DEVICES: [0,1,2,3,4,5,6,7]\n"
     ]
    },
    {
     "data": {
      "application/vnd.jupyter.widget-view+json": {
       "model_id": "3d6b3f410f034f7796f071aa4668ad58",
       "version_major": 2,
       "version_minor": 0
      },
      "text/plain": [
       "Predicting: 0it [00:00, ?it/s]"
      ]
     },
     "metadata": {},
     "output_type": "display_data"
    },
    {
     "name": "stderr",
     "output_type": "stream",
     "text": [
      "Global seed set to 2\n",
      "Global seed set to 3\n",
      "GPU available: True, used: True\n",
      "TPU available: False, using: 0 TPU cores\n",
      "IPU available: False, using: 0 IPUs\n",
      "Global seed set to 0\n"
     ]
    },
    {
     "name": "stdout",
     "output_type": "stream",
     "text": [
      "{'training': True, '_parameters': OrderedDict(), '_buffers': OrderedDict(), '_non_persistent_buffers_set': set(), '_backward_hooks': OrderedDict(), '_is_full_backward_hook': None, '_forward_hooks': OrderedDict(), '_forward_pre_hooks': OrderedDict(), '_state_dict_hooks': OrderedDict(), '_load_state_dict_pre_hooks': OrderedDict(), '_load_state_dict_post_hooks': OrderedDict(), '_modules': OrderedDict([('linear', Linear(in_features=345, out_features=10, bias=True))]), 'neuron_indices': tensor([106, 302, 345, 306,  44,  25, 246, 165, 173, 373,  62, 354,  89,  61,\n",
      "        170, 154, 119, 223,  26, 158,  96,  50, 333, 210,  20,  13,  51,  60,\n",
      "        150, 174,  42, 362, 252, 379, 303,  66,   8, 254, 136, 315, 253, 204,\n",
      "         74, 356, 218, 321, 378, 102, 273, 380, 293, 208, 157, 290,   4,  19,\n",
      "        277, 346,  82, 221, 244, 180, 278, 312, 128, 141,  49, 310, 327, 274,\n",
      "        194,  88, 287,  21, 371, 212,  45, 259, 133, 134, 181, 366,  47, 152,\n",
      "        296,  87, 313,  14, 360, 269,  32, 160, 108,  56,  94, 351,  16, 265,\n",
      "        151, 178, 129, 182, 226,   1, 249,  78, 131, 115,  37, 144, 124, 209,\n",
      "         31, 355, 368, 149, 211, 361, 166, 242, 228, 109,   7, 279,  76, 230,\n",
      "        168, 304,  52, 267,  85,  84, 281, 308, 383, 113, 127, 261, 291, 234,\n",
      "         57,  79,   6, 282, 260, 205, 268, 146, 247, 288, 139, 266, 295, 138,\n",
      "         39, 143, 377, 344, 382,  33,  69, 190, 126, 217,  15, 207,  63, 185,\n",
      "        206,  73, 325,  35, 305, 326,  34, 105, 300,  72, 322, 375, 243, 363,\n",
      "          2, 186, 236, 317,  58, 193, 107, 231,  91, 220, 140, 350, 238, 184,\n",
      "        348, 365,  83, 222,   3, 370, 257,   5, 237,  68,  92, 256, 316, 198,\n",
      "         77, 169, 284, 343, 352,  17, 191,  65,  18, 179, 337, 328, 214, 175,\n",
      "        374, 163, 121,   0, 240, 301, 224,  75,  54, 324, 216, 130, 335, 203,\n",
      "        219, 132, 297, 372, 329, 381, 100, 263, 289, 286,  70,  23,  48, 213,\n",
      "        116, 319, 118, 167, 232, 137, 340,  10,  99, 320, 349,  97, 177, 307,\n",
      "         81,  53, 323, 229, 188, 314, 135,  64,  67, 111, 270, 145, 250, 164,\n",
      "        369, 187, 264, 156,  71, 200,  40,  43, 376, 233,  80, 125, 283,  36,\n",
      "        367, 176,  11, 114,  27, 195, 248, 227, 103,   9, 347, 197, 309, 147,\n",
      "        341,  41, 359, 255, 241, 299, 189, 298, 159, 120, 336, 276, 342, 285,\n",
      "        239, 353, 183, 104, 357, 171, 318, 272, 202, 196, 153,  55, 199, 117,\n",
      "         12,  95, 225, 280, 112, 358, 364,  59, 258]), 'in_features': 345, 'out_features': 10}\n"
     ]
    },
    {
     "name": "stderr",
     "output_type": "stream",
     "text": [
      "LOCAL_RANK: 0 - CUDA_VISIBLE_DEVICES: [0,1,2,3,4,5,6,7]\n"
     ]
    },
    {
     "data": {
      "application/vnd.jupyter.widget-view+json": {
       "model_id": "dae1e9c8b759420bb2d3a6ea34e59081",
       "version_major": 2,
       "version_minor": 0
      },
      "text/plain": [
       "Predicting: 0it [00:00, ?it/s]"
      ]
     },
     "metadata": {},
     "output_type": "display_data"
    },
    {
     "name": "stderr",
     "output_type": "stream",
     "text": [
      "Global seed set to 2\n",
      "Global seed set to 4\n",
      "GPU available: True, used: True\n",
      "TPU available: False, using: 0 TPU cores\n",
      "IPU available: False, using: 0 IPUs\n",
      "Global seed set to 0\n"
     ]
    },
    {
     "name": "stdout",
     "output_type": "stream",
     "text": [
      "{'training': True, '_parameters': OrderedDict(), '_buffers': OrderedDict(), '_non_persistent_buffers_set': set(), '_backward_hooks': OrderedDict(), '_is_full_backward_hook': None, '_forward_hooks': OrderedDict(), '_forward_pre_hooks': OrderedDict(), '_state_dict_hooks': OrderedDict(), '_load_state_dict_pre_hooks': OrderedDict(), '_load_state_dict_post_hooks': OrderedDict(), '_modules': OrderedDict([('linear', Linear(in_features=345, out_features=10, bias=True))]), 'neuron_indices': tensor([250, 172, 245, 263,  73,  12, 239,   0, 234, 120, 266, 204,  47, 302,\n",
      "        364, 328,  71, 145, 336,  61, 118, 155, 212, 194, 146, 301, 139,   2,\n",
      "         95,  19,  93, 299, 326, 111, 298, 277, 106,  45, 339, 243, 144, 193,\n",
      "        158,  75,  16,  98, 188,  99, 170, 166, 261, 207, 214, 138, 310, 143,\n",
      "        186, 199, 121, 296, 167,  29,  30, 284, 337, 137,  83, 156, 109, 101,\n",
      "        270, 373, 103, 291, 350, 286, 107, 190, 122,  25, 215,  11, 244, 316,\n",
      "        223, 153, 340, 348, 281, 334,  44, 187, 195, 119, 247,  13,  51, 136,\n",
      "        285, 295, 203, 254, 162, 159,  50, 279, 275,  17, 141, 365,  72,  81,\n",
      "        366,  74, 210, 347,  46, 382, 375,  89,  85, 331, 309, 221, 233, 361,\n",
      "        306, 274, 315, 335, 258, 248, 370, 381, 240,  67, 352, 180,   3, 353,\n",
      "         24, 317,  49,  86, 209, 369,  21, 362, 371, 264, 321,  41, 333, 259,\n",
      "         54, 154,  60, 341,  87, 325, 319, 230, 197, 229, 383,  53, 147,  32,\n",
      "        129,   4, 205, 297, 114, 293,  52,  37,  96, 150,  94, 183, 189,  42,\n",
      "        378, 260, 330, 265,  34, 338, 165, 322, 273, 228, 342, 311, 123, 288,\n",
      "          9,  76,  10, 343,  62, 201, 355, 226, 324, 225, 363, 249,  35, 169,\n",
      "        327, 135, 379, 115, 377, 380, 280,  80,  23,  18, 149,   1, 294,   6,\n",
      "        368, 211,  70, 196, 157, 102, 238,  56, 236, 356,  26, 151, 268, 323,\n",
      "          8, 262, 231,  88, 318, 222, 303, 346, 359, 140, 163, 128, 126, 130,\n",
      "         66, 253, 314, 241, 282,  65, 252, 242, 269, 351,  77, 320,  84,  39,\n",
      "        367, 312, 168, 374,  48, 360, 217, 308, 278, 161, 108, 227, 176, 200,\n",
      "        171, 185, 208, 292, 174, 246,  68, 304, 313,   7, 132, 251,  14,   5,\n",
      "        232, 142,  33, 376, 113,  27,  91,  63, 131, 256, 160,  78,  55, 271,\n",
      "        345,  38, 213, 267, 152, 357, 105, 192,  59,  64, 287, 224,  40, 372,\n",
      "         92,  22,  31, 177, 358, 305,  69, 178,  90,  20, 220,  79, 175, 289,\n",
      "        354,  97, 283, 182, 235, 110, 202, 219,  82]), 'in_features': 345, 'out_features': 10}\n"
     ]
    },
    {
     "name": "stderr",
     "output_type": "stream",
     "text": [
      "LOCAL_RANK: 0 - CUDA_VISIBLE_DEVICES: [0,1,2,3,4,5,6,7]\n"
     ]
    },
    {
     "data": {
      "application/vnd.jupyter.widget-view+json": {
       "model_id": "52e923a5fe68413ab1309cd30d363e85",
       "version_major": 2,
       "version_minor": 0
      },
      "text/plain": [
       "Predicting: 0it [00:00, ?it/s]"
      ]
     },
     "metadata": {},
     "output_type": "display_data"
    },
    {
     "name": "stderr",
     "output_type": "stream",
     "text": [
      "Global seed set to 2\n",
      "Global seed set to 5\n",
      "GPU available: True, used: True\n",
      "TPU available: False, using: 0 TPU cores\n",
      "IPU available: False, using: 0 IPUs\n",
      "Global seed set to 0\n"
     ]
    },
    {
     "name": "stdout",
     "output_type": "stream",
     "text": [
      "{'training': True, '_parameters': OrderedDict(), '_buffers': OrderedDict(), '_non_persistent_buffers_set': set(), '_backward_hooks': OrderedDict(), '_is_full_backward_hook': None, '_forward_hooks': OrderedDict(), '_forward_pre_hooks': OrderedDict(), '_state_dict_hooks': OrderedDict(), '_load_state_dict_pre_hooks': OrderedDict(), '_load_state_dict_post_hooks': OrderedDict(), '_modules': OrderedDict([('linear', Linear(in_features=345, out_features=10, bias=True))]), 'neuron_indices': tensor([227, 245, 139,   9, 250,  75,  70, 239,  80, 163, 325,  83,  95, 365,\n",
      "        112,   5, 119, 155, 269, 323, 149, 138,  90,  33,  68, 381, 279, 135,\n",
      "        183, 335, 126, 125, 349, 162,  64,  81, 157, 327, 331, 343,  54, 371,\n",
      "        240, 263, 104,  38, 127, 151,  14,  59,  92,   7, 148, 196, 173, 124,\n",
      "        311, 350,  55,  40, 225, 176,  47, 290, 369, 313,   3, 272, 376, 216,\n",
      "        118,  63, 379, 107, 211,  17,  97, 332,  15, 178, 366, 302, 355, 374,\n",
      "        193,  72, 303, 258, 182, 288,  11, 131, 281,   6,   2, 244, 165, 218,\n",
      "         74,  57, 164,  41, 340,  60, 136, 330,  87, 123, 324, 383,  93,  44,\n",
      "        174, 122, 232, 301,  66, 344, 219, 358, 117, 237, 378, 372, 254, 308,\n",
      "        342,  42, 261,  16, 168, 106, 201, 270, 274, 188,  18,  25,  76, 278,\n",
      "        200, 364, 141, 137,  51, 111, 347, 382, 156, 169, 160, 293,  12, 326,\n",
      "         86, 305, 304, 235,   8, 300, 101, 116,  45, 191,  28,  39,  89, 233,\n",
      "        251, 184, 197, 128, 284,  88,  32, 309, 380, 214, 228, 109, 319, 192,\n",
      "        159, 181, 338,  61,  29, 129, 328, 217, 180, 317,  43, 199, 147, 276,\n",
      "        360, 292, 166, 370, 280, 236,  26,  27,  48,  62, 187, 143, 110, 260,\n",
      "        195, 373, 177, 357, 273, 204, 277,  13, 267,  53,  21, 356, 153, 375,\n",
      "         94,  20, 133, 130, 115, 367, 255, 186, 248, 210, 287, 121, 256, 310,\n",
      "        259, 234, 108,  37, 285, 105,  69, 299,  31, 346, 282, 213, 190, 362,\n",
      "        286,  52, 377, 152, 103,  65, 297, 189, 265, 209,  46, 295,  22, 345,\n",
      "        354, 253, 252, 306,  79, 230, 339, 264, 294, 145, 238, 158, 208, 142,\n",
      "        242, 266, 220, 246, 198,  85, 296, 120, 271,  34, 226,  99, 289, 314,\n",
      "         67, 146, 348, 134,   1, 150, 241, 202, 170, 307,  82, 322, 247, 206,\n",
      "         10, 337, 243, 212, 351, 298, 114,  50,  49, 257, 341,  24, 100,  73,\n",
      "        229,  56, 320, 361, 175, 171, 249, 368, 353, 102, 291, 223, 336,  35,\n",
      "         30,  84, 224, 268,  98, 172,  77, 316, 132]), 'in_features': 345, 'out_features': 10}\n"
     ]
    },
    {
     "name": "stderr",
     "output_type": "stream",
     "text": [
      "LOCAL_RANK: 0 - CUDA_VISIBLE_DEVICES: [0,1,2,3,4,5,6,7]\n"
     ]
    },
    {
     "data": {
      "application/vnd.jupyter.widget-view+json": {
       "model_id": "a86343d1f7d74884af8a3724d85ea2d8",
       "version_major": 2,
       "version_minor": 0
      },
      "text/plain": [
       "Predicting: 0it [00:00, ?it/s]"
      ]
     },
     "metadata": {},
     "output_type": "display_data"
    },
    {
     "name": "stderr",
     "output_type": "stream",
     "text": [
      "Global seed set to 2\n",
      "Global seed set to 6\n",
      "GPU available: True, used: True\n",
      "TPU available: False, using: 0 TPU cores\n",
      "IPU available: False, using: 0 IPUs\n",
      "Global seed set to 0\n"
     ]
    },
    {
     "name": "stdout",
     "output_type": "stream",
     "text": [
      "{'training': True, '_parameters': OrderedDict(), '_buffers': OrderedDict(), '_non_persistent_buffers_set': set(), '_backward_hooks': OrderedDict(), '_is_full_backward_hook': None, '_forward_hooks': OrderedDict(), '_forward_pre_hooks': OrderedDict(), '_state_dict_hooks': OrderedDict(), '_load_state_dict_pre_hooks': OrderedDict(), '_load_state_dict_post_hooks': OrderedDict(), '_modules': OrderedDict([('linear', Linear(in_features=345, out_features=10, bias=True))]), 'neuron_indices': tensor([266, 315, 283, 323, 218, 318, 215, 111,  48, 192, 187, 174,  67, 213,\n",
      "        351, 344, 319, 324, 334, 188, 264,  66, 178, 316,  76, 248, 191, 309,\n",
      "         62, 276,   7, 232, 143, 342,  86, 340, 287, 124, 311, 242, 156, 105,\n",
      "        172, 120, 206, 281, 382, 271, 195, 303, 154,  97,   6, 223, 297,  54,\n",
      "         22, 268, 217, 259, 113,  31,  43,  10,  16, 236, 161, 175, 339, 220,\n",
      "         94, 190, 214, 249, 225, 196, 136, 169,  88, 198, 135, 346, 291, 122,\n",
      "        265, 130, 238, 374, 257, 193, 173,  47, 301, 100, 189, 308,  78, 314,\n",
      "        180, 321, 137, 171, 210, 350,  55, 176, 237,  45, 126, 373,  12, 302,\n",
      "         83,  38, 205, 110, 234,  71, 290, 125, 369, 293, 239, 371, 360, 349,\n",
      "         25, 230,  51,  80, 102, 337, 227,  27, 284,  82, 128,  26, 129, 273,\n",
      "        167, 263, 304, 296, 222,  29, 103,  84,  99, 224, 336,  21,  28,  58,\n",
      "        277,  18,  60, 362, 166, 123,  15, 327,  61, 294, 112, 279,  41,  98,\n",
      "        380, 285, 250, 357,  36, 300,  19, 157, 150,  23,  72, 109,  64, 378,\n",
      "        162, 170,   2, 278,  49, 228, 229, 158, 353, 146, 184, 199,  70, 368,\n",
      "        275, 114, 365, 352, 221, 331, 145, 381, 355,  57, 262, 152, 107, 241,\n",
      "        197, 313,  91, 288, 131, 163, 164,  40,  53, 246, 255, 231,  24,  75,\n",
      "          3,  50, 118, 317, 207,  92, 286, 204, 219, 117,  69, 144, 211, 155,\n",
      "        370, 116,  73, 260, 383, 142, 348,  20, 183, 328,  52, 101,  17, 108,\n",
      "         74,  95,  65, 181,  96, 280, 159,  56, 133, 345, 208,  13, 310, 186,\n",
      "        366, 177,  85, 201, 106,  46, 338, 185,  59, 115, 282, 243,   0,  34,\n",
      "        361,  33, 322, 375,  81, 356, 306, 298, 320, 127, 216, 343, 226,  89,\n",
      "        160,  63, 254, 307,  68, 134, 182, 354, 367, 165, 376, 330, 377, 235,\n",
      "         11,  37, 240,  90, 270, 202, 203,   4, 138, 132, 233, 312, 299, 119,\n",
      "        364, 148, 261, 267, 151, 179, 147, 372, 347, 272, 256, 305, 258, 335,\n",
      "        253,   8, 332, 209,   1, 168, 121,  42, 289]), 'in_features': 345, 'out_features': 10}\n"
     ]
    },
    {
     "name": "stderr",
     "output_type": "stream",
     "text": [
      "LOCAL_RANK: 0 - CUDA_VISIBLE_DEVICES: [0,1,2,3,4,5,6,7]\n"
     ]
    },
    {
     "data": {
      "application/vnd.jupyter.widget-view+json": {
       "model_id": "d44e7639570e4891a7db4797696fb3f6",
       "version_major": 2,
       "version_minor": 0
      },
      "text/plain": [
       "Predicting: 0it [00:00, ?it/s]"
      ]
     },
     "metadata": {},
     "output_type": "display_data"
    },
    {
     "name": "stderr",
     "output_type": "stream",
     "text": [
      "Global seed set to 2\n",
      "Global seed set to 7\n",
      "GPU available: True, used: True\n",
      "TPU available: False, using: 0 TPU cores\n",
      "IPU available: False, using: 0 IPUs\n",
      "Global seed set to 0\n"
     ]
    },
    {
     "name": "stdout",
     "output_type": "stream",
     "text": [
      "{'training': True, '_parameters': OrderedDict(), '_buffers': OrderedDict(), '_non_persistent_buffers_set': set(), '_backward_hooks': OrderedDict(), '_is_full_backward_hook': None, '_forward_hooks': OrderedDict(), '_forward_pre_hooks': OrderedDict(), '_state_dict_hooks': OrderedDict(), '_load_state_dict_pre_hooks': OrderedDict(), '_load_state_dict_post_hooks': OrderedDict(), '_modules': OrderedDict([('linear', Linear(in_features=345, out_features=10, bias=True))]), 'neuron_indices': tensor([303, 204, 193, 254,  87, 153, 257, 298, 132,  20, 184, 156, 368, 175,\n",
      "        376, 208,  42, 190, 309,  47, 260, 115,   2, 122, 292, 315, 359,  37,\n",
      "        342,  57, 219, 129, 108, 142, 239, 196, 180, 247,  69, 299,  30, 370,\n",
      "        366, 310,  96,  41, 206, 258, 164, 131, 159, 125, 231,   6, 264, 222,\n",
      "        176, 382, 140,  91, 154, 117, 245, 107, 284, 227,  67, 347, 350, 173,\n",
      "        139, 112, 293,  93, 241,   7, 375, 263, 251, 182, 163, 283, 277, 365,\n",
      "        195,  48,  34,  77,   1,  32, 237,  49,  45, 246, 351,  74, 285, 249,\n",
      "        111, 146, 130,  92, 148, 157, 373,  31, 155, 137,  33, 228, 226, 200,\n",
      "        141, 143, 289, 230, 102, 218, 232, 162, 364, 194,  80, 295, 243,  29,\n",
      "        105, 113,   8, 149, 166, 367, 282, 326, 345,  90, 343, 233,  14, 261,\n",
      "          4, 188,  15, 332,  50,  38, 262,  66,  99, 199, 340, 202, 150, 338,\n",
      "         62, 275, 286,  16, 363,  21, 244, 353, 369, 381,  28, 256,  51, 311,\n",
      "        302,  56, 362, 324,  12, 307, 158, 355,  55, 133,  44,  61,   5, 253,\n",
      "        371,  82,  26,  73, 177, 304, 161,  24, 296,  18,  59,  83, 357, 330,\n",
      "         95, 160,  70, 183, 305, 187, 197, 179, 178, 306, 167, 212, 331, 281,\n",
      "         64,  76,  86,  53,  46, 110, 120, 225, 352, 317, 269, 214,  13, 201,\n",
      "          0, 242, 123, 100, 267, 328, 171, 319, 109,  65, 138,  98, 271, 174,\n",
      "         52, 136, 229,  84, 121, 358, 265, 312, 372, 224, 128, 378, 316,  75,\n",
      "         19, 344,  81, 191, 220, 383,  88, 234, 221, 336, 189,  17, 377,  43,\n",
      "        334, 205, 361, 346, 126, 124, 223,  78,  97,  94, 151, 314, 278, 318,\n",
      "        250, 101, 325, 165, 240,   9,  36,  35,  79,  25, 186, 213, 169, 172,\n",
      "        337, 210, 354, 266, 300, 327, 127, 215,  54, 276, 360,  39, 290,  27,\n",
      "        135, 329, 134, 211, 168, 104, 144, 288, 181,  71, 379,  63, 308, 321,\n",
      "        320, 323, 374, 335, 287, 118, 207, 341,  68, 116, 103, 203, 297,  23,\n",
      "        106,  22, 380, 235, 322, 209, 248, 119, 147]), 'in_features': 345, 'out_features': 10}\n"
     ]
    },
    {
     "name": "stderr",
     "output_type": "stream",
     "text": [
      "LOCAL_RANK: 0 - CUDA_VISIBLE_DEVICES: [0,1,2,3,4,5,6,7]\n"
     ]
    },
    {
     "data": {
      "application/vnd.jupyter.widget-view+json": {
       "model_id": "da9258a039604afba6ea048ba3d74f09",
       "version_major": 2,
       "version_minor": 0
      },
      "text/plain": [
       "Predicting: 0it [00:00, ?it/s]"
      ]
     },
     "metadata": {},
     "output_type": "display_data"
    },
    {
     "name": "stderr",
     "output_type": "stream",
     "text": [
      "Global seed set to 2\n",
      "Global seed set to 8\n",
      "GPU available: True, used: True\n",
      "TPU available: False, using: 0 TPU cores\n",
      "IPU available: False, using: 0 IPUs\n",
      "Global seed set to 0\n"
     ]
    },
    {
     "name": "stdout",
     "output_type": "stream",
     "text": [
      "{'training': True, '_parameters': OrderedDict(), '_buffers': OrderedDict(), '_non_persistent_buffers_set': set(), '_backward_hooks': OrderedDict(), '_is_full_backward_hook': None, '_forward_hooks': OrderedDict(), '_forward_pre_hooks': OrderedDict(), '_state_dict_hooks': OrderedDict(), '_load_state_dict_pre_hooks': OrderedDict(), '_load_state_dict_post_hooks': OrderedDict(), '_modules': OrderedDict([('linear', Linear(in_features=345, out_features=10, bias=True))]), 'neuron_indices': tensor([195, 178, 363, 219, 321,  52, 274, 351, 280, 295, 150, 118, 205, 257,\n",
      "        211, 172, 330, 256, 332, 309, 153, 158, 329, 267, 306,  74, 354, 188,\n",
      "        342,  58, 180,   4, 115, 223,  39,  24, 235,  83, 174, 346,  82, 359,\n",
      "        250, 122, 105,  64, 130, 114, 347, 191, 360,  99, 207, 284, 128, 131,\n",
      "         18, 246,  79, 243, 112, 209, 217, 173, 266, 189, 123,  45, 290,  38,\n",
      "        291, 230, 212, 265, 132,  15,  75, 186, 181, 192, 277, 228, 208, 272,\n",
      "        378,  98, 136, 165,  43, 251, 129,  11, 299,  93,  14,  20, 167, 229,\n",
      "        141,  94,  77,  40, 137,  12, 120, 170,  88, 327,  67, 364, 213, 183,\n",
      "        196, 146, 127,   3, 324,   7, 349, 301, 352,  60,   2, 221, 145,  21,\n",
      "        177, 175, 203, 147, 148,  33, 264,  29,  96, 179, 383,  78, 371, 227,\n",
      "        348, 138,  55,   5, 252, 312, 139,  61, 107,  97, 345,  32, 163, 247,\n",
      "        353, 322, 108, 263, 104, 234, 339, 185, 314, 379, 161,  13,  34,  73,\n",
      "        197, 381, 160, 285, 377, 278, 155,  59,  56, 238,  72, 162, 296, 259,\n",
      "        298,  62, 335, 224, 194, 268, 305, 166, 262,  41, 171, 361, 135, 241,\n",
      "         46, 260,  95,  53, 311, 176, 313, 202, 187, 233, 365, 281, 303, 319,\n",
      "         70, 376, 366, 190, 206, 159, 140, 200, 282,  71, 307, 338,  42, 373,\n",
      "         50,  17, 111, 113, 204,  36,  48, 367,  80, 255, 357,   0, 343, 308,\n",
      "        117, 154, 182, 218, 168,  84,  57, 297, 248,   9,  63,  65, 261, 125,\n",
      "         10, 254, 143,  49,  89, 318,   1, 323, 337, 258, 310, 164, 152, 222,\n",
      "         85,  66,  31,  81, 355,  27, 124, 294,  16, 271,  37, 134,  68, 119,\n",
      "         22, 216, 302, 220, 275, 276, 193,  54, 214, 340, 288, 279,  30, 142,\n",
      "        232, 226,  87, 320, 102, 350, 201, 283, 144, 199, 198,  44, 356,  51,\n",
      "        133, 109, 231, 334, 358, 244, 184, 239, 253, 317, 316, 269, 374, 249,\n",
      "         92, 215, 169, 225, 240, 362, 341, 242,  47, 151,  90, 375,  76, 157,\n",
      "          6, 372, 325, 370, 126, 292, 100, 304, 333]), 'in_features': 345, 'out_features': 10}\n"
     ]
    },
    {
     "name": "stderr",
     "output_type": "stream",
     "text": [
      "LOCAL_RANK: 0 - CUDA_VISIBLE_DEVICES: [0,1,2,3,4,5,6,7]\n"
     ]
    },
    {
     "data": {
      "application/vnd.jupyter.widget-view+json": {
       "model_id": "8046d79ab78f4f8ca23dd5e4bedca90e",
       "version_major": 2,
       "version_minor": 0
      },
      "text/plain": [
       "Predicting: 0it [00:00, ?it/s]"
      ]
     },
     "metadata": {},
     "output_type": "display_data"
    },
    {
     "name": "stderr",
     "output_type": "stream",
     "text": [
      "Global seed set to 2\n",
      "Global seed set to 2\n",
      "GPU available: True, used: True\n",
      "TPU available: False, using: 0 TPU cores\n",
      "IPU available: False, using: 0 IPUs\n",
      "Global seed set to 0\n"
     ]
    },
    {
     "name": "stdout",
     "output_type": "stream",
     "text": [
      "{'training': True, '_parameters': OrderedDict(), '_buffers': OrderedDict(), '_non_persistent_buffers_set': set(), '_backward_hooks': OrderedDict(), '_is_full_backward_hook': None, '_forward_hooks': OrderedDict(), '_forward_pre_hooks': OrderedDict(), '_state_dict_hooks': OrderedDict(), '_load_state_dict_pre_hooks': OrderedDict(), '_load_state_dict_post_hooks': OrderedDict(), '_modules': OrderedDict([('linear', Linear(in_features=384, out_features=10, bias=True))]), 'neuron_indices': tensor([168,   9,  67, 159,  62, 235,  96, 153,  72, 270,  32, 122, 215, 213,\n",
      "        249, 269, 287,  81, 368,  89,   8, 309,  49, 250, 115, 329, 356, 231,\n",
      "        195,  82, 341,  63, 330,  47, 350, 187, 191, 150, 101, 359, 172, 298,\n",
      "        376, 322,  24, 259, 313, 183, 128,  11, 194, 158,  10, 278, 282,  35,\n",
      "        167,  21, 241, 306, 234,  19, 198, 379,  23,  31, 137, 240,  84, 106,\n",
      "        211,  25, 176, 267, 141, 197, 129, 177, 188, 133,  22, 175, 371, 160,\n",
      "        147, 138, 178,  56,   0, 347, 248, 360, 292, 181, 320,  66, 214, 236,\n",
      "        124, 185, 262,  34,  38, 381, 353, 348, 134, 143, 189, 130, 331,   2,\n",
      "        357,  86, 300, 316,  59, 154, 340, 302, 244,  46,  80, 212,   4, 280,\n",
      "         68, 291, 144,  28, 277, 105, 237, 354, 295, 336, 135, 246, 170,  42,\n",
      "         73,  45,  99, 373, 132, 200,  75, 311,  36, 247, 370, 192, 294,  33,\n",
      "        335, 276, 182,  97, 209,  27, 254,  53, 264, 382,  40, 127, 261, 374,\n",
      "         87, 268, 265, 257, 173,  64, 216, 118, 239,  79,   1, 312,  70, 343,\n",
      "        344, 326, 163, 363, 142, 169, 242, 273,   6, 342, 224,  69, 114, 120,\n",
      "        140, 369, 266, 220, 116, 196, 225, 108, 203, 232, 110, 112, 174, 145,\n",
      "         43, 293, 251, 243, 339, 157, 349, 230, 204, 210, 328, 226, 310, 337,\n",
      "        378,  93,   3, 303, 279, 380, 274, 219,  90, 162, 334, 165, 327,  88,\n",
      "        190, 221, 245, 372, 206,  52, 362, 148,  94, 289,  61, 229, 366, 184,\n",
      "        260,  76, 207, 171, 233, 275, 296, 152, 180, 308, 186, 288,   5,  39,\n",
      "         17, 253, 325,  15, 272,  95, 301, 258,  48,  44,  30, 125, 149, 263,\n",
      "        333, 304,  92, 365, 338, 222, 323,  71, 377, 332,  60, 351, 345, 256,\n",
      "        358, 283, 111, 299,  12, 126, 109,  13, 103, 161, 146, 252, 367, 290,\n",
      "        104,  20, 139, 155, 285, 281, 314,  54, 166, 117, 297, 202, 318, 136,\n",
      "         78, 238,  26, 228, 355, 271,  65, 123, 131, 383,  74, 208, 352,  83,\n",
      "        305,  91, 100, 164, 319,  50,  85,  16,  29, 286,  37, 255, 179, 223,\n",
      "         51,  55,  14,  98, 156, 113, 315, 151,  41, 193, 119, 218, 346, 121,\n",
      "        107, 364, 307, 317, 361, 284, 205, 199, 227,  18, 217,  77, 375,  57,\n",
      "        201, 321,   7, 324,  58, 102]), 'in_features': 384, 'out_features': 10}\n"
     ]
    },
    {
     "name": "stderr",
     "output_type": "stream",
     "text": [
      "LOCAL_RANK: 0 - CUDA_VISIBLE_DEVICES: [0,1,2,3,4,5,6,7]\n"
     ]
    },
    {
     "data": {
      "application/vnd.jupyter.widget-view+json": {
       "model_id": "46158a405b1e4050a9594a857f32db16",
       "version_major": 2,
       "version_minor": 0
      },
      "text/plain": [
       "Predicting: 0it [00:00, ?it/s]"
      ]
     },
     "metadata": {},
     "output_type": "display_data"
    },
    {
     "name": "stdout",
     "output_type": "stream",
     "text": [
      "vit_small_patch16_224 nonrob cifar10\n",
      "Full Acc: [tensor(0.9594)]\n",
      "For 0.005, acc: 0.15880000591278076 +/- 0.02691228687763214\n",
      "For 0.05, acc: 0.6252332925796509 +/- 0.045580457895994186\n",
      "For 0.1, acc: 0.7992110848426819 +/- 0.02383742853999138\n",
      "For 0.2, acc: 0.9039332866668701 +/- 0.00720908772200346\n",
      "For 0.5, acc: 0.9489889144897461 +/- 0.0013477855827659369\n",
      "For 0.9, acc: 0.9592000246047974 +/- 0.0006383570143952966\n",
      "\n"
     ]
    },
    {
     "data": {
      "image/png": "[encoded data removed]",
      "text/plain": [
       "<Figure size 720x432 with 1 Axes>"
      ]
     },
     "metadata": {},
     "output_type": "display_data"
    },
    {
     "name": "stderr",
     "output_type": "stream",
     "text": [
      "Global seed set to 2\n"
     ]
    },
    {
     "name": "stdout",
     "output_type": "stream",
     "text": [
      "cifar10 {0.005: [0.13393419981002808, 0.1511659175157547, 0.19491812586784363, 0.16913139820098877, 0.1611577570438385, 0.14463262259960175, 0.12440050393342972, 0.16311556100845337, 0.14004497230052948], 0.05: [0.5269739031791687, 0.5201565027236938, 0.534585177898407, 0.4995632469654083, 0.5397205352783203, 0.5548776388168335, 0.5351396203041077, 0.5299835205078125, 0.594994306564331], 0.1: [0.6611281037330627, 0.6401970386505127, 0.6841609477996826, 0.6717435717582703, 0.6750726103782654, 0.6822006702423096, 0.6891412138938904, 0.6689534783363342, 0.6903959512710571], 0.2: [0.7663167119026184, 0.7521983981132507, 0.7682449221611023, 0.765108048915863, 0.7666423320770264, 0.7807142734527588, 0.767365574836731, 0.7745798826217651, 0.7780823707580566], 0.5: [0.8242071866989136, 0.82564777135849, 0.8246984481811523, 0.8226430416107178, 0.8261197209358215, 0.8274852633476257, 0.8263039588928223, 0.8280870914459229, 0.8273830413818359], 0.9: [0.8449890613555908, 0.8461380004882812, 0.8443159461021423, 0.845403254032135, 0.8448714017868042, 0.8450266122817993, 0.8442599177360535, 0.8458402156829834]}\n"
     ]
    },
    {
     "name": "stderr",
     "output_type": "stream",
     "text": [
      "Global seed set to 1\n",
      "GPU available: True, used: True\n",
      "TPU available: False, using: 0 TPU cores\n",
      "IPU available: False, using: 0 IPUs\n",
      "Global seed set to 0\n"
     ]
    },
    {
     "name": "stdout",
     "output_type": "stream",
     "text": [
      "{'training': True, '_parameters': OrderedDict(), '_buffers': OrderedDict(), '_non_persistent_buffers_set': set(), '_backward_hooks': OrderedDict(), '_is_full_backward_hook': None, '_forward_hooks': OrderedDict(), '_forward_pre_hooks': OrderedDict(), '_state_dict_hooks': OrderedDict(), '_load_state_dict_pre_hooks': OrderedDict(), '_load_state_dict_post_hooks': OrderedDict(), '_modules': OrderedDict([('linear', Linear(in_features=1, out_features=100, bias=True))]), 'neuron_indices': tensor([37]), 'in_features': 1, 'out_features': 100}\n"
     ]
    },
    {
     "name": "stderr",
     "output_type": "stream",
     "text": [
      "LOCAL_RANK: 0 - CUDA_VISIBLE_DEVICES: [0,1,2,3,4,5,6,7]\n"
     ]
    },
    {
     "data": {
      "application/vnd.jupyter.widget-view+json": {
       "model_id": "3054cc1203734c3a865c9c17e685b432",
       "version_major": 2,
       "version_minor": 0
      },
      "text/plain": [
       "Predicting: 0it [00:00, ?it/s]"
      ]
     },
     "metadata": {},
     "output_type": "display_data"
    },
    {
     "name": "stderr",
     "output_type": "stream",
     "text": [
      "Global seed set to 2\n",
      "Global seed set to 2\n",
      "GPU available: True, used: True\n",
      "TPU available: False, using: 0 TPU cores\n",
      "IPU available: False, using: 0 IPUs\n",
      "Global seed set to 0\n"
     ]
    },
    {
     "name": "stdout",
     "output_type": "stream",
     "text": [
      "{'training': True, '_parameters': OrderedDict(), '_buffers': OrderedDict(), '_non_persistent_buffers_set': set(), '_backward_hooks': OrderedDict(), '_is_full_backward_hook': None, '_forward_hooks': OrderedDict(), '_forward_pre_hooks': OrderedDict(), '_state_dict_hooks': OrderedDict(), '_load_state_dict_pre_hooks': OrderedDict(), '_load_state_dict_post_hooks': OrderedDict(), '_modules': OrderedDict([('linear', Linear(in_features=1, out_features=100, bias=True))]), 'neuron_indices': tensor([168]), 'in_features': 1, 'out_features': 100}\n"
     ]
    },
    {
     "name": "stderr",
     "output_type": "stream",
     "text": [
      "LOCAL_RANK: 0 - CUDA_VISIBLE_DEVICES: [0,1,2,3,4,5,6,7]\n"
     ]
    },
    {
     "data": {
      "application/vnd.jupyter.widget-view+json": {
       "model_id": "5de97ea53de6428a98df838ff9e6a376",
       "version_major": 2,
       "version_minor": 0
      },
      "text/plain": [
       "Predicting: 0it [00:00, ?it/s]"
      ]
     },
     "metadata": {},
     "output_type": "display_data"
    },
    {
     "name": "stderr",
     "output_type": "stream",
     "text": [
      "Global seed set to 2\n",
      "Global seed set to 3\n",
      "GPU available: True, used: True\n",
      "TPU available: False, using: 0 TPU cores\n",
      "IPU available: False, using: 0 IPUs\n",
      "Global seed set to 0\n"
     ]
    },
    {
     "name": "stdout",
     "output_type": "stream",
     "text": [
      "{'training': True, '_parameters': OrderedDict(), '_buffers': OrderedDict(), '_non_persistent_buffers_set': set(), '_backward_hooks': OrderedDict(), '_is_full_backward_hook': None, '_forward_hooks': OrderedDict(), '_forward_pre_hooks': OrderedDict(), '_state_dict_hooks': OrderedDict(), '_load_state_dict_pre_hooks': OrderedDict(), '_load_state_dict_post_hooks': OrderedDict(), '_modules': OrderedDict([('linear', Linear(in_features=1, out_features=100, bias=True))]), 'neuron_indices': tensor([106]), 'in_features': 1, 'out_features': 100}\n"
     ]
    },
    {
     "name": "stderr",
     "output_type": "stream",
     "text": [
      "LOCAL_RANK: 0 - CUDA_VISIBLE_DEVICES: [0,1,2,3,4,5,6,7]\n"
     ]
    },
    {
     "data": {
      "application/vnd.jupyter.widget-view+json": {
       "model_id": "8de39663b57c49d39067c8f54f51c49d",
       "version_major": 2,
       "version_minor": 0
      },
      "text/plain": [
       "Predicting: 0it [00:00, ?it/s]"
      ]
     },
     "metadata": {},
     "output_type": "display_data"
    },
    {
     "name": "stderr",
     "output_type": "stream",
     "text": [
      "Global seed set to 2\n",
      "Global seed set to 4\n",
      "GPU available: True, used: True\n",
      "TPU available: False, using: 0 TPU cores\n",
      "IPU available: False, using: 0 IPUs\n",
      "Global seed set to 0\n"
     ]
    },
    {
     "name": "stdout",
     "output_type": "stream",
     "text": [
      "{'training': True, '_parameters': OrderedDict(), '_buffers': OrderedDict(), '_non_persistent_buffers_set': set(), '_backward_hooks': OrderedDict(), '_is_full_backward_hook': None, '_forward_hooks': OrderedDict(), '_forward_pre_hooks': OrderedDict(), '_state_dict_hooks': OrderedDict(), '_load_state_dict_pre_hooks': OrderedDict(), '_load_state_dict_post_hooks': OrderedDict(), '_modules': OrderedDict([('linear', Linear(in_features=1, out_features=100, bias=True))]), 'neuron_indices': tensor([250]), 'in_features': 1, 'out_features': 100}\n"
     ]
    },
    {
     "name": "stderr",
     "output_type": "stream",
     "text": [
      "LOCAL_RANK: 0 - CUDA_VISIBLE_DEVICES: [0,1,2,3,4,5,6,7]\n"
     ]
    },
    {
     "data": {
      "application/vnd.jupyter.widget-view+json": {
       "model_id": "db266d4652e0427aa418fc0ac507918d",
       "version_major": 2,
       "version_minor": 0
      },
      "text/plain": [
       "Predicting: 0it [00:00, ?it/s]"
      ]
     },
     "metadata": {},
     "output_type": "display_data"
    },
    {
     "name": "stderr",
     "output_type": "stream",
     "text": [
      "Global seed set to 2\n",
      "Global seed set to 5\n",
      "GPU available: True, used: True\n",
      "TPU available: False, using: 0 TPU cores\n",
      "IPU available: False, using: 0 IPUs\n",
      "Global seed set to 0\n"
     ]
    },
    {
     "name": "stdout",
     "output_type": "stream",
     "text": [
      "{'training': True, '_parameters': OrderedDict(), '_buffers': OrderedDict(), '_non_persistent_buffers_set': set(), '_backward_hooks': OrderedDict(), '_is_full_backward_hook': None, '_forward_hooks': OrderedDict(), '_forward_pre_hooks': OrderedDict(), '_state_dict_hooks': OrderedDict(), '_load_state_dict_pre_hooks': OrderedDict(), '_load_state_dict_post_hooks': OrderedDict(), '_modules': OrderedDict([('linear', Linear(in_features=1, out_features=100, bias=True))]), 'neuron_indices': tensor([227]), 'in_features': 1, 'out_features': 100}\n"
     ]
    },
    {
     "name": "stderr",
     "output_type": "stream",
     "text": [
      "LOCAL_RANK: 0 - CUDA_VISIBLE_DEVICES: [0,1,2,3,4,5,6,7]\n"
     ]
    },
    {
     "data": {
      "application/vnd.jupyter.widget-view+json": {
       "model_id": "b13571fbac8f48d980aed5c66a6e7b3c",
       "version_major": 2,
       "version_minor": 0
      },
      "text/plain": [
       "Predicting: 0it [00:00, ?it/s]"
      ]
     },
     "metadata": {},
     "output_type": "display_data"
    },
    {
     "name": "stderr",
     "output_type": "stream",
     "text": [
      "Global seed set to 2\n",
      "Global seed set to 6\n",
      "GPU available: True, used: True\n",
      "TPU available: False, using: 0 TPU cores\n",
      "IPU available: False, using: 0 IPUs\n",
      "Global seed set to 0\n"
     ]
    },
    {
     "name": "stdout",
     "output_type": "stream",
     "text": [
      "{'training': True, '_parameters': OrderedDict(), '_buffers': OrderedDict(), '_non_persistent_buffers_set': set(), '_backward_hooks': OrderedDict(), '_is_full_backward_hook': None, '_forward_hooks': OrderedDict(), '_forward_pre_hooks': OrderedDict(), '_state_dict_hooks': OrderedDict(), '_load_state_dict_pre_hooks': OrderedDict(), '_load_state_dict_post_hooks': OrderedDict(), '_modules': OrderedDict([('linear', Linear(in_features=1, out_features=100, bias=True))]), 'neuron_indices': tensor([266]), 'in_features': 1, 'out_features': 100}\n"
     ]
    },
    {
     "name": "stderr",
     "output_type": "stream",
     "text": [
      "LOCAL_RANK: 0 - CUDA_VISIBLE_DEVICES: [0,1,2,3,4,5,6,7]\n"
     ]
    },
    {
     "data": {
      "application/vnd.jupyter.widget-view+json": {
       "model_id": "df7d08312c8b479a81e9878ce89e142b",
       "version_major": 2,
       "version_minor": 0
      },
      "text/plain": [
       "Predicting: 0it [00:00, ?it/s]"
      ]
     },
     "metadata": {},
     "output_type": "display_data"
    },
    {
     "name": "stderr",
     "output_type": "stream",
     "text": [
      "Global seed set to 2\n",
      "Global seed set to 7\n",
      "GPU available: True, used: True\n",
      "TPU available: False, using: 0 TPU cores\n",
      "IPU available: False, using: 0 IPUs\n",
      "Global seed set to 0\n"
     ]
    },
    {
     "name": "stdout",
     "output_type": "stream",
     "text": [
      "{'training': True, '_parameters': OrderedDict(), '_buffers': OrderedDict(), '_non_persistent_buffers_set': set(), '_backward_hooks': OrderedDict(), '_is_full_backward_hook': None, '_forward_hooks': OrderedDict(), '_forward_pre_hooks': OrderedDict(), '_state_dict_hooks': OrderedDict(), '_load_state_dict_pre_hooks': OrderedDict(), '_load_state_dict_post_hooks': OrderedDict(), '_modules': OrderedDict([('linear', Linear(in_features=1, out_features=100, bias=True))]), 'neuron_indices': tensor([303]), 'in_features': 1, 'out_features': 100}\n"
     ]
    },
    {
     "name": "stderr",
     "output_type": "stream",
     "text": [
      "LOCAL_RANK: 0 - CUDA_VISIBLE_DEVICES: [0,1,2,3,4,5,6,7]\n"
     ]
    },
    {
     "data": {
      "application/vnd.jupyter.widget-view+json": {
       "model_id": "b7038ead0de04f04a15b5d800b3af739",
       "version_major": 2,
       "version_minor": 0
      },
      "text/plain": [
       "Predicting: 0it [00:00, ?it/s]"
      ]
     },
     "metadata": {},
     "output_type": "display_data"
    },
    {
     "name": "stderr",
     "output_type": "stream",
     "text": [
      "Global seed set to 2\n",
      "Global seed set to 8\n",
      "GPU available: True, used: True\n",
      "TPU available: False, using: 0 TPU cores\n",
      "IPU available: False, using: 0 IPUs\n",
      "Global seed set to 0\n"
     ]
    },
    {
     "name": "stdout",
     "output_type": "stream",
     "text": [
      "{'training': True, '_parameters': OrderedDict(), '_buffers': OrderedDict(), '_non_persistent_buffers_set': set(), '_backward_hooks': OrderedDict(), '_is_full_backward_hook': None, '_forward_hooks': OrderedDict(), '_forward_pre_hooks': OrderedDict(), '_state_dict_hooks': OrderedDict(), '_load_state_dict_pre_hooks': OrderedDict(), '_load_state_dict_post_hooks': OrderedDict(), '_modules': OrderedDict([('linear', Linear(in_features=1, out_features=100, bias=True))]), 'neuron_indices': tensor([195]), 'in_features': 1, 'out_features': 100}\n"
     ]
    },
    {
     "name": "stderr",
     "output_type": "stream",
     "text": [
      "LOCAL_RANK: 0 - CUDA_VISIBLE_DEVICES: [0,1,2,3,4,5,6,7]\n"
     ]
    },
    {
     "data": {
      "application/vnd.jupyter.widget-view+json": {
       "model_id": "2df400ef33fe4866b53f62404c76d816",
       "version_major": 2,
       "version_minor": 0
      },
      "text/plain": [
       "Predicting: 0it [00:00, ?it/s]"
      ]
     },
     "metadata": {},
     "output_type": "display_data"
    },
    {
     "name": "stderr",
     "output_type": "stream",
     "text": [
      "Global seed set to 2\n",
      "Global seed set to 9\n",
      "GPU available: True, used: True\n",
      "TPU available: False, using: 0 TPU cores\n",
      "IPU available: False, using: 0 IPUs\n",
      "Global seed set to 0\n"
     ]
    },
    {
     "name": "stdout",
     "output_type": "stream",
     "text": [
      "{'training': True, '_parameters': OrderedDict(), '_buffers': OrderedDict(), '_non_persistent_buffers_set': set(), '_backward_hooks': OrderedDict(), '_is_full_backward_hook': None, '_forward_hooks': OrderedDict(), '_forward_pre_hooks': OrderedDict(), '_state_dict_hooks': OrderedDict(), '_load_state_dict_pre_hooks': OrderedDict(), '_load_state_dict_post_hooks': OrderedDict(), '_modules': OrderedDict([('linear', Linear(in_features=1, out_features=100, bias=True))]), 'neuron_indices': tensor([382]), 'in_features': 1, 'out_features': 100}\n"
     ]
    },
    {
     "name": "stderr",
     "output_type": "stream",
     "text": [
      "LOCAL_RANK: 0 - CUDA_VISIBLE_DEVICES: [0,1,2,3,4,5,6,7]\n"
     ]
    },
    {
     "data": {
      "application/vnd.jupyter.widget-view+json": {
       "model_id": "2e305c8eeedc4b068c49286035a2e212",
       "version_major": 2,
       "version_minor": 0
      },
      "text/plain": [
       "Predicting: 0it [00:00, ?it/s]"
      ]
     },
     "metadata": {},
     "output_type": "display_data"
    },
    {
     "name": "stderr",
     "output_type": "stream",
     "text": [
      "Global seed set to 2\n",
      "Global seed set to 1\n",
      "GPU available: True, used: True\n",
      "TPU available: False, using: 0 TPU cores\n",
      "IPU available: False, using: 0 IPUs\n",
      "Global seed set to 0\n"
     ]
    },
    {
     "name": "stdout",
     "output_type": "stream",
     "text": [
      "{'training': True, '_parameters': OrderedDict(), '_buffers': OrderedDict(), '_non_persistent_buffers_set': set(), '_backward_hooks': OrderedDict(), '_is_full_backward_hook': None, '_forward_hooks': OrderedDict(), '_forward_pre_hooks': OrderedDict(), '_state_dict_hooks': OrderedDict(), '_load_state_dict_pre_hooks': OrderedDict(), '_load_state_dict_post_hooks': OrderedDict(), '_modules': OrderedDict([('linear', Linear(in_features=19, out_features=100, bias=True))]), 'neuron_indices': tensor([ 37,  88, 258, 104, 307, 131, 251, 113,  31,  66, 162, 117, 364, 158,\n",
      "        277,  69, 198, 329, 194]), 'in_features': 19, 'out_features': 100}\n"
     ]
    },
    {
     "name": "stderr",
     "output_type": "stream",
     "text": [
      "LOCAL_RANK: 0 - CUDA_VISIBLE_DEVICES: [0,1,2,3,4,5,6,7]\n"
     ]
    },
    {
     "data": {
      "application/vnd.jupyter.widget-view+json": {
       "model_id": "477d57ca45a748ff98dae9e9d0ec1772",
       "version_major": 2,
       "version_minor": 0
      },
      "text/plain": [
       "Predicting: 0it [00:00, ?it/s]"
      ]
     },
     "metadata": {},
     "output_type": "display_data"
    },
    {
     "name": "stderr",
     "output_type": "stream",
     "text": [
      "Global seed set to 2\n",
      "Global seed set to 2\n",
      "GPU available: True, used: True\n",
      "TPU available: False, using: 0 TPU cores\n",
      "IPU available: False, using: 0 IPUs\n",
      "Global seed set to 0\n"
     ]
    },
    {
     "name": "stdout",
     "output_type": "stream",
     "text": [
      "{'training': True, '_parameters': OrderedDict(), '_buffers': OrderedDict(), '_non_persistent_buffers_set': set(), '_backward_hooks': OrderedDict(), '_is_full_backward_hook': None, '_forward_hooks': OrderedDict(), '_forward_pre_hooks': OrderedDict(), '_state_dict_hooks': OrderedDict(), '_load_state_dict_pre_hooks': OrderedDict(), '_load_state_dict_post_hooks': OrderedDict(), '_modules': OrderedDict([('linear', Linear(in_features=19, out_features=100, bias=True))]), 'neuron_indices': tensor([168,   9,  67, 159,  62, 235,  96, 153,  72, 270,  32, 122, 215, 213,\n",
      "        249, 269, 287,  81, 368]), 'in_features': 19, 'out_features': 100}\n"
     ]
    },
    {
     "name": "stderr",
     "output_type": "stream",
     "text": [
      "LOCAL_RANK: 0 - CUDA_VISIBLE_DEVICES: [0,1,2,3,4,5,6,7]\n"
     ]
    },
    {
     "data": {
      "application/vnd.jupyter.widget-view+json": {
       "model_id": "43b2e4b3b8724fda819fdd314dea6ea8",
       "version_major": 2,
       "version_minor": 0
      },
      "text/plain": [
       "Predicting: 0it [00:00, ?it/s]"
      ]
     },
     "metadata": {},
     "output_type": "display_data"
    },
    {
     "name": "stderr",
     "output_type": "stream",
     "text": [
      "Global seed set to 2\n",
      "Global seed set to 3\n",
      "GPU available: True, used: True\n",
      "TPU available: False, using: 0 TPU cores\n",
      "IPU available: False, using: 0 IPUs\n",
      "Global seed set to 0\n"
     ]
    },
    {
     "name": "stdout",
     "output_type": "stream",
     "text": [
      "{'training': True, '_parameters': OrderedDict(), '_buffers': OrderedDict(), '_non_persistent_buffers_set': set(), '_backward_hooks': OrderedDict(), '_is_full_backward_hook': None, '_forward_hooks': OrderedDict(), '_forward_pre_hooks': OrderedDict(), '_state_dict_hooks': OrderedDict(), '_load_state_dict_pre_hooks': OrderedDict(), '_load_state_dict_post_hooks': OrderedDict(), '_modules': OrderedDict([('linear', Linear(in_features=19, out_features=100, bias=True))]), 'neuron_indices': tensor([106, 302, 345, 306,  44,  25, 246, 165, 173, 373,  62, 354,  89,  61,\n",
      "        170, 154, 119, 223,  26]), 'in_features': 19, 'out_features': 100}\n"
     ]
    },
    {
     "name": "stderr",
     "output_type": "stream",
     "text": [
      "LOCAL_RANK: 0 - CUDA_VISIBLE_DEVICES: [0,1,2,3,4,5,6,7]\n"
     ]
    },
    {
     "data": {
      "application/vnd.jupyter.widget-view+json": {
       "model_id": "43555b11b9724fb2926b7a11f4f763f5",
       "version_major": 2,
       "version_minor": 0
      },
      "text/plain": [
       "Predicting: 0it [00:00, ?it/s]"
      ]
     },
     "metadata": {},
     "output_type": "display_data"
    },
    {
     "name": "stderr",
     "output_type": "stream",
     "text": [
      "Global seed set to 2\n",
      "Global seed set to 4\n",
      "GPU available: True, used: True\n",
      "TPU available: False, using: 0 TPU cores\n",
      "IPU available: False, using: 0 IPUs\n",
      "Global seed set to 0\n"
     ]
    },
    {
     "name": "stdout",
     "output_type": "stream",
     "text": [
      "{'training': True, '_parameters': OrderedDict(), '_buffers': OrderedDict(), '_non_persistent_buffers_set': set(), '_backward_hooks': OrderedDict(), '_is_full_backward_hook': None, '_forward_hooks': OrderedDict(), '_forward_pre_hooks': OrderedDict(), '_state_dict_hooks': OrderedDict(), '_load_state_dict_pre_hooks': OrderedDict(), '_load_state_dict_post_hooks': OrderedDict(), '_modules': OrderedDict([('linear', Linear(in_features=19, out_features=100, bias=True))]), 'neuron_indices': tensor([250, 172, 245, 263,  73,  12, 239,   0, 234, 120, 266, 204,  47, 302,\n",
      "        364, 328,  71, 145, 336]), 'in_features': 19, 'out_features': 100}\n"
     ]
    },
    {
     "name": "stderr",
     "output_type": "stream",
     "text": [
      "LOCAL_RANK: 0 - CUDA_VISIBLE_DEVICES: [0,1,2,3,4,5,6,7]\n"
     ]
    },
    {
     "data": {
      "application/vnd.jupyter.widget-view+json": {
       "model_id": "7fb5ef383b9b4395b0ded2dfd79d9f33",
       "version_major": 2,
       "version_minor": 0
      },
      "text/plain": [
       "Predicting: 0it [00:00, ?it/s]"
      ]
     },
     "metadata": {},
     "output_type": "display_data"
    },
    {
     "name": "stderr",
     "output_type": "stream",
     "text": [
      "Global seed set to 2\n",
      "Global seed set to 5\n",
      "GPU available: True, used: True\n",
      "TPU available: False, using: 0 TPU cores\n",
      "IPU available: False, using: 0 IPUs\n",
      "Global seed set to 0\n"
     ]
    },
    {
     "name": "stdout",
     "output_type": "stream",
     "text": [
      "{'training': True, '_parameters': OrderedDict(), '_buffers': OrderedDict(), '_non_persistent_buffers_set': set(), '_backward_hooks': OrderedDict(), '_is_full_backward_hook': None, '_forward_hooks': OrderedDict(), '_forward_pre_hooks': OrderedDict(), '_state_dict_hooks': OrderedDict(), '_load_state_dict_pre_hooks': OrderedDict(), '_load_state_dict_post_hooks': OrderedDict(), '_modules': OrderedDict([('linear', Linear(in_features=19, out_features=100, bias=True))]), 'neuron_indices': tensor([227, 245, 139,   9, 250,  75,  70, 239,  80, 163, 325,  83,  95, 365,\n",
      "        112,   5, 119, 155, 269]), 'in_features': 19, 'out_features': 100}\n"
     ]
    },
    {
     "name": "stderr",
     "output_type": "stream",
     "text": [
      "LOCAL_RANK: 0 - CUDA_VISIBLE_DEVICES: [0,1,2,3,4,5,6,7]\n"
     ]
    },
    {
     "data": {
      "application/vnd.jupyter.widget-view+json": {
       "model_id": "d39f47a482b64612aa7748ef2a770740",
       "version_major": 2,
       "version_minor": 0
      },
      "text/plain": [
       "Predicting: 0it [00:00, ?it/s]"
      ]
     },
     "metadata": {},
     "output_type": "display_data"
    },
    {
     "name": "stderr",
     "output_type": "stream",
     "text": [
      "Global seed set to 2\n",
      "Global seed set to 6\n",
      "GPU available: True, used: True\n",
      "TPU available: False, using: 0 TPU cores\n",
      "IPU available: False, using: 0 IPUs\n",
      "Global seed set to 0\n"
     ]
    },
    {
     "name": "stdout",
     "output_type": "stream",
     "text": [
      "{'training': True, '_parameters': OrderedDict(), '_buffers': OrderedDict(), '_non_persistent_buffers_set': set(), '_backward_hooks': OrderedDict(), '_is_full_backward_hook': None, '_forward_hooks': OrderedDict(), '_forward_pre_hooks': OrderedDict(), '_state_dict_hooks': OrderedDict(), '_load_state_dict_pre_hooks': OrderedDict(), '_load_state_dict_post_hooks': OrderedDict(), '_modules': OrderedDict([('linear', Linear(in_features=19, out_features=100, bias=True))]), 'neuron_indices': tensor([266, 315, 283, 323, 218, 318, 215, 111,  48, 192, 187, 174,  67, 213,\n",
      "        351, 344, 319, 324, 334]), 'in_features': 19, 'out_features': 100}\n"
     ]
    },
    {
     "name": "stderr",
     "output_type": "stream",
     "text": [
      "LOCAL_RANK: 0 - CUDA_VISIBLE_DEVICES: [0,1,2,3,4,5,6,7]\n"
     ]
    },
    {
     "data": {
      "application/vnd.jupyter.widget-view+json": {
       "model_id": "5060b6474be64c19b0dfb6ff5c6389bc",
       "version_major": 2,
       "version_minor": 0
      },
      "text/plain": [
       "Predicting: 0it [00:00, ?it/s]"
      ]
     },
     "metadata": {},
     "output_type": "display_data"
    },
    {
     "name": "stderr",
     "output_type": "stream",
     "text": [
      "Global seed set to 2\n",
      "Global seed set to 7\n",
      "GPU available: True, used: True\n",
      "TPU available: False, using: 0 TPU cores\n",
      "IPU available: False, using: 0 IPUs\n",
      "Global seed set to 0\n"
     ]
    },
    {
     "name": "stdout",
     "output_type": "stream",
     "text": [
      "{'training': True, '_parameters': OrderedDict(), '_buffers': OrderedDict(), '_non_persistent_buffers_set': set(), '_backward_hooks': OrderedDict(), '_is_full_backward_hook': None, '_forward_hooks': OrderedDict(), '_forward_pre_hooks': OrderedDict(), '_state_dict_hooks': OrderedDict(), '_load_state_dict_pre_hooks': OrderedDict(), '_load_state_dict_post_hooks': OrderedDict(), '_modules': OrderedDict([('linear', Linear(in_features=19, out_features=100, bias=True))]), 'neuron_indices': tensor([303, 204, 193, 254,  87, 153, 257, 298, 132,  20, 184, 156, 368, 175,\n",
      "        376, 208,  42, 190, 309]), 'in_features': 19, 'out_features': 100}\n"
     ]
    },
    {
     "name": "stderr",
     "output_type": "stream",
     "text": [
      "LOCAL_RANK: 0 - CUDA_VISIBLE_DEVICES: [0,1,2,3,4,5,6,7]\n"
     ]
    },
    {
     "data": {
      "application/vnd.jupyter.widget-view+json": {
       "model_id": "0f25f47f17fd48b18557ada2f4b6ba2d",
       "version_major": 2,
       "version_minor": 0
      },
      "text/plain": [
       "Predicting: 0it [00:00, ?it/s]"
      ]
     },
     "metadata": {},
     "output_type": "display_data"
    },
    {
     "name": "stderr",
     "output_type": "stream",
     "text": [
      "Global seed set to 2\n",
      "Global seed set to 8\n",
      "GPU available: True, used: True\n",
      "TPU available: False, using: 0 TPU cores\n",
      "IPU available: False, using: 0 IPUs\n",
      "Global seed set to 0\n"
     ]
    },
    {
     "name": "stdout",
     "output_type": "stream",
     "text": [
      "{'training': True, '_parameters': OrderedDict(), '_buffers': OrderedDict(), '_non_persistent_buffers_set': set(), '_backward_hooks': OrderedDict(), '_is_full_backward_hook': None, '_forward_hooks': OrderedDict(), '_forward_pre_hooks': OrderedDict(), '_state_dict_hooks': OrderedDict(), '_load_state_dict_pre_hooks': OrderedDict(), '_load_state_dict_post_hooks': OrderedDict(), '_modules': OrderedDict([('linear', Linear(in_features=19, out_features=100, bias=True))]), 'neuron_indices': tensor([195, 178, 363, 219, 321,  52, 274, 351, 280, 295, 150, 118, 205, 257,\n",
      "        211, 172, 330, 256, 332]), 'in_features': 19, 'out_features': 100}\n"
     ]
    },
    {
     "name": "stderr",
     "output_type": "stream",
     "text": [
      "LOCAL_RANK: 0 - CUDA_VISIBLE_DEVICES: [0,1,2,3,4,5,6,7]\n"
     ]
    },
    {
     "data": {
      "application/vnd.jupyter.widget-view+json": {
       "model_id": "ce29e07c5395478294bf67118fc645d7",
       "version_major": 2,
       "version_minor": 0
      },
      "text/plain": [
       "Predicting: 0it [00:00, ?it/s]"
      ]
     },
     "metadata": {},
     "output_type": "display_data"
    },
    {
     "name": "stderr",
     "output_type": "stream",
     "text": [
      "Global seed set to 2\n",
      "Global seed set to 9\n",
      "GPU available: True, used: True\n",
      "TPU available: False, using: 0 TPU cores\n",
      "IPU available: False, using: 0 IPUs\n",
      "Global seed set to 0\n"
     ]
    },
    {
     "name": "stdout",
     "output_type": "stream",
     "text": [
      "{'training': True, '_parameters': OrderedDict(), '_buffers': OrderedDict(), '_non_persistent_buffers_set': set(), '_backward_hooks': OrderedDict(), '_is_full_backward_hook': None, '_forward_hooks': OrderedDict(), '_forward_pre_hooks': OrderedDict(), '_state_dict_hooks': OrderedDict(), '_load_state_dict_pre_hooks': OrderedDict(), '_load_state_dict_post_hooks': OrderedDict(), '_modules': OrderedDict([('linear', Linear(in_features=19, out_features=100, bias=True))]), 'neuron_indices': tensor([382, 379, 274, 284, 106,  74, 247,  48, 197, 110, 142, 342, 279,  24,\n",
      "        130,  86,  88, 301, 113]), 'in_features': 19, 'out_features': 100}\n"
     ]
    },
    {
     "name": "stderr",
     "output_type": "stream",
     "text": [
      "LOCAL_RANK: 0 - CUDA_VISIBLE_DEVICES: [0,1,2,3,4,5,6,7]\n"
     ]
    },
    {
     "data": {
      "application/vnd.jupyter.widget-view+json": {
       "model_id": "42ff202438514db7b2bd46d16a185ec1",
       "version_major": 2,
       "version_minor": 0
      },
      "text/plain": [
       "Predicting: 0it [00:00, ?it/s]"
      ]
     },
     "metadata": {},
     "output_type": "display_data"
    },
    {
     "name": "stderr",
     "output_type": "stream",
     "text": [
      "Global seed set to 2\n",
      "Global seed set to 1\n",
      "GPU available: True, used: True\n",
      "TPU available: False, using: 0 TPU cores\n",
      "IPU available: False, using: 0 IPUs\n",
      "Global seed set to 0\n"
     ]
    },
    {
     "name": "stdout",
     "output_type": "stream",
     "text": [
      "{'training': True, '_parameters': OrderedDict(), '_buffers': OrderedDict(), '_non_persistent_buffers_set': set(), '_backward_hooks': OrderedDict(), '_is_full_backward_hook': None, '_forward_hooks': OrderedDict(), '_forward_pre_hooks': OrderedDict(), '_state_dict_hooks': OrderedDict(), '_load_state_dict_pre_hooks': OrderedDict(), '_load_state_dict_post_hooks': OrderedDict(), '_modules': OrderedDict([('linear', Linear(in_features=38, out_features=100, bias=True))]), 'neuron_indices': tensor([ 37,  88, 258, 104, 307, 131, 251, 113,  31,  66, 162, 117, 364, 158,\n",
      "        277,  69, 198, 329, 194,  50, 142,  84, 166, 340, 147,  77,  92, 176,\n",
      "         49, 153,  38,  73,  87,  57,  71,  16, 359,  61]), 'in_features': 38, 'out_features': 100}\n"
     ]
    },
    {
     "name": "stderr",
     "output_type": "stream",
     "text": [
      "LOCAL_RANK: 0 - CUDA_VISIBLE_DEVICES: [0,1,2,3,4,5,6,7]\n"
     ]
    },
    {
     "data": {
      "application/vnd.jupyter.widget-view+json": {
       "model_id": "6efab9fca07344c498cd48145a881a9b",
       "version_major": 2,
       "version_minor": 0
      },
      "text/plain": [
       "Predicting: 0it [00:00, ?it/s]"
      ]
     },
     "metadata": {},
     "output_type": "display_data"
    },
    {
     "name": "stderr",
     "output_type": "stream",
     "text": [
      "Global seed set to 2\n",
      "Global seed set to 2\n",
      "GPU available: True, used: True\n",
      "TPU available: False, using: 0 TPU cores\n",
      "IPU available: False, using: 0 IPUs\n",
      "Global seed set to 0\n"
     ]
    },
    {
     "name": "stdout",
     "output_type": "stream",
     "text": [
      "{'training': True, '_parameters': OrderedDict(), '_buffers': OrderedDict(), '_non_persistent_buffers_set': set(), '_backward_hooks': OrderedDict(), '_is_full_backward_hook': None, '_forward_hooks': OrderedDict(), '_forward_pre_hooks': OrderedDict(), '_state_dict_hooks': OrderedDict(), '_load_state_dict_pre_hooks': OrderedDict(), '_load_state_dict_post_hooks': OrderedDict(), '_modules': OrderedDict([('linear', Linear(in_features=38, out_features=100, bias=True))]), 'neuron_indices': tensor([168,   9,  67, 159,  62, 235,  96, 153,  72, 270,  32, 122, 215, 213,\n",
      "        249, 269, 287,  81, 368,  89,   8, 309,  49, 250, 115, 329, 356, 231,\n",
      "        195,  82, 341,  63, 330,  47, 350, 187, 191, 150]), 'in_features': 38, 'out_features': 100}\n"
     ]
    },
    {
     "name": "stderr",
     "output_type": "stream",
     "text": [
      "LOCAL_RANK: 0 - CUDA_VISIBLE_DEVICES: [0,1,2,3,4,5,6,7]\n"
     ]
    },
    {
     "data": {
      "application/vnd.jupyter.widget-view+json": {
       "model_id": "d08ec33ba1674e14b857d3b8ca238a5e",
       "version_major": 2,
       "version_minor": 0
      },
      "text/plain": [
       "Predicting: 0it [00:00, ?it/s]"
      ]
     },
     "metadata": {},
     "output_type": "display_data"
    },
    {
     "name": "stderr",
     "output_type": "stream",
     "text": [
      "Global seed set to 2\n",
      "Global seed set to 3\n",
      "GPU available: True, used: True\n",
      "TPU available: False, using: 0 TPU cores\n",
      "IPU available: False, using: 0 IPUs\n",
      "Global seed set to 0\n"
     ]
    },
    {
     "name": "stdout",
     "output_type": "stream",
     "text": [
      "{'training': True, '_parameters': OrderedDict(), '_buffers': OrderedDict(), '_non_persistent_buffers_set': set(), '_backward_hooks': OrderedDict(), '_is_full_backward_hook': None, '_forward_hooks': OrderedDict(), '_forward_pre_hooks': OrderedDict(), '_state_dict_hooks': OrderedDict(), '_load_state_dict_pre_hooks': OrderedDict(), '_load_state_dict_post_hooks': OrderedDict(), '_modules': OrderedDict([('linear', Linear(in_features=38, out_features=100, bias=True))]), 'neuron_indices': tensor([106, 302, 345, 306,  44,  25, 246, 165, 173, 373,  62, 354,  89,  61,\n",
      "        170, 154, 119, 223,  26, 158,  96,  50, 333, 210,  20,  13,  51,  60,\n",
      "        150, 174,  42, 362, 252, 379, 303,  66,   8, 254]), 'in_features': 38, 'out_features': 100}\n"
     ]
    },
    {
     "name": "stderr",
     "output_type": "stream",
     "text": [
      "LOCAL_RANK: 0 - CUDA_VISIBLE_DEVICES: [0,1,2,3,4,5,6,7]\n"
     ]
    },
    {
     "data": {
      "application/vnd.jupyter.widget-view+json": {
       "model_id": "28139b75201743ff9478e28874a59e81",
       "version_major": 2,
       "version_minor": 0
      },
      "text/plain": [
       "Predicting: 0it [00:00, ?it/s]"
      ]
     },
     "metadata": {},
     "output_type": "display_data"
    },
    {
     "name": "stderr",
     "output_type": "stream",
     "text": [
      "Global seed set to 2\n",
      "Global seed set to 4\n",
      "GPU available: True, used: True\n",
      "TPU available: False, using: 0 TPU cores\n",
      "IPU available: False, using: 0 IPUs\n",
      "Global seed set to 0\n"
     ]
    },
    {
     "name": "stdout",
     "output_type": "stream",
     "text": [
      "{'training': True, '_parameters': OrderedDict(), '_buffers': OrderedDict(), '_non_persistent_buffers_set': set(), '_backward_hooks': OrderedDict(), '_is_full_backward_hook': None, '_forward_hooks': OrderedDict(), '_forward_pre_hooks': OrderedDict(), '_state_dict_hooks': OrderedDict(), '_load_state_dict_pre_hooks': OrderedDict(), '_load_state_dict_post_hooks': OrderedDict(), '_modules': OrderedDict([('linear', Linear(in_features=38, out_features=100, bias=True))]), 'neuron_indices': tensor([250, 172, 245, 263,  73,  12, 239,   0, 234, 120, 266, 204,  47, 302,\n",
      "        364, 328,  71, 145, 336,  61, 118, 155, 212, 194, 146, 301, 139,   2,\n",
      "         95,  19,  93, 299, 326, 111, 298, 277, 106,  45]), 'in_features': 38, 'out_features': 100}\n"
     ]
    },
    {
     "name": "stderr",
     "output_type": "stream",
     "text": [
      "LOCAL_RANK: 0 - CUDA_VISIBLE_DEVICES: [0,1,2,3,4,5,6,7]\n"
     ]
    },
    {
     "data": {
      "application/vnd.jupyter.widget-view+json": {
       "model_id": "9026c4f8be4349a583cf36638907d529",
       "version_major": 2,
       "version_minor": 0
      },
      "text/plain": [
       "Predicting: 0it [00:00, ?it/s]"
      ]
     },
     "metadata": {},
     "output_type": "display_data"
    },
    {
     "name": "stderr",
     "output_type": "stream",
     "text": [
      "Global seed set to 2\n",
      "Global seed set to 5\n",
      "GPU available: True, used: True\n",
      "TPU available: False, using: 0 TPU cores\n",
      "IPU available: False, using: 0 IPUs\n",
      "Global seed set to 0\n"
     ]
    },
    {
     "name": "stdout",
     "output_type": "stream",
     "text": [
      "{'training': True, '_parameters': OrderedDict(), '_buffers': OrderedDict(), '_non_persistent_buffers_set': set(), '_backward_hooks': OrderedDict(), '_is_full_backward_hook': None, '_forward_hooks': OrderedDict(), '_forward_pre_hooks': OrderedDict(), '_state_dict_hooks': OrderedDict(), '_load_state_dict_pre_hooks': OrderedDict(), '_load_state_dict_post_hooks': OrderedDict(), '_modules': OrderedDict([('linear', Linear(in_features=38, out_features=100, bias=True))]), 'neuron_indices': tensor([227, 245, 139,   9, 250,  75,  70, 239,  80, 163, 325,  83,  95, 365,\n",
      "        112,   5, 119, 155, 269, 323, 149, 138,  90,  33,  68, 381, 279, 135,\n",
      "        183, 335, 126, 125, 349, 162,  64,  81, 157, 327]), 'in_features': 38, 'out_features': 100}\n"
     ]
    },
    {
     "name": "stderr",
     "output_type": "stream",
     "text": [
      "LOCAL_RANK: 0 - CUDA_VISIBLE_DEVICES: [0,1,2,3,4,5,6,7]\n"
     ]
    },
    {
     "data": {
      "application/vnd.jupyter.widget-view+json": {
       "model_id": "99f343b00f194492a80eb2c8d882bdb5",
       "version_major": 2,
       "version_minor": 0
      },
      "text/plain": [
       "Predicting: 0it [00:00, ?it/s]"
      ]
     },
     "metadata": {},
     "output_type": "display_data"
    },
    {
     "name": "stderr",
     "output_type": "stream",
     "text": [
      "Global seed set to 2\n",
      "Global seed set to 6\n",
      "GPU available: True, used: True\n",
      "TPU available: False, using: 0 TPU cores\n",
      "IPU available: False, using: 0 IPUs\n",
      "Global seed set to 0\n"
     ]
    },
    {
     "name": "stdout",
     "output_type": "stream",
     "text": [
      "{'training': True, '_parameters': OrderedDict(), '_buffers': OrderedDict(), '_non_persistent_buffers_set': set(), '_backward_hooks': OrderedDict(), '_is_full_backward_hook': None, '_forward_hooks': OrderedDict(), '_forward_pre_hooks': OrderedDict(), '_state_dict_hooks': OrderedDict(), '_load_state_dict_pre_hooks': OrderedDict(), '_load_state_dict_post_hooks': OrderedDict(), '_modules': OrderedDict([('linear', Linear(in_features=38, out_features=100, bias=True))]), 'neuron_indices': tensor([266, 315, 283, 323, 218, 318, 215, 111,  48, 192, 187, 174,  67, 213,\n",
      "        351, 344, 319, 324, 334, 188, 264,  66, 178, 316,  76, 248, 191, 309,\n",
      "         62, 276,   7, 232, 143, 342,  86, 340, 287, 124]), 'in_features': 38, 'out_features': 100}\n"
     ]
    },
    {
     "name": "stderr",
     "output_type": "stream",
     "text": [
      "LOCAL_RANK: 0 - CUDA_VISIBLE_DEVICES: [0,1,2,3,4,5,6,7]\n"
     ]
    },
    {
     "data": {
      "application/vnd.jupyter.widget-view+json": {
       "model_id": "c6f2ffa1a9a94003b9e39594e3c967e4",
       "version_major": 2,
       "version_minor": 0
      },
      "text/plain": [
       "Predicting: 0it [00:00, ?it/s]"
      ]
     },
     "metadata": {},
     "output_type": "display_data"
    },
    {
     "name": "stderr",
     "output_type": "stream",
     "text": [
      "Global seed set to 2\n",
      "Global seed set to 7\n",
      "GPU available: True, used: True\n",
      "TPU available: False, using: 0 TPU cores\n",
      "IPU available: False, using: 0 IPUs\n",
      "Global seed set to 0\n"
     ]
    },
    {
     "name": "stdout",
     "output_type": "stream",
     "text": [
      "{'training': True, '_parameters': OrderedDict(), '_buffers': OrderedDict(), '_non_persistent_buffers_set': set(), '_backward_hooks': OrderedDict(), '_is_full_backward_hook': None, '_forward_hooks': OrderedDict(), '_forward_pre_hooks': OrderedDict(), '_state_dict_hooks': OrderedDict(), '_load_state_dict_pre_hooks': OrderedDict(), '_load_state_dict_post_hooks': OrderedDict(), '_modules': OrderedDict([('linear', Linear(in_features=38, out_features=100, bias=True))]), 'neuron_indices': tensor([303, 204, 193, 254,  87, 153, 257, 298, 132,  20, 184, 156, 368, 175,\n",
      "        376, 208,  42, 190, 309,  47, 260, 115,   2, 122, 292, 315, 359,  37,\n",
      "        342,  57, 219, 129, 108, 142, 239, 196, 180, 247]), 'in_features': 38, 'out_features': 100}\n"
     ]
    },
    {
     "name": "stderr",
     "output_type": "stream",
     "text": [
      "LOCAL_RANK: 0 - CUDA_VISIBLE_DEVICES: [0,1,2,3,4,5,6,7]\n"
     ]
    },
    {
     "data": {
      "application/vnd.jupyter.widget-view+json": {
       "model_id": "2a3a822e185b4ef08b074d3357880564",
       "version_major": 2,
       "version_minor": 0
      },
      "text/plain": [
       "Predicting: 0it [00:00, ?it/s]"
      ]
     },
     "metadata": {},
     "output_type": "display_data"
    },
    {
     "name": "stderr",
     "output_type": "stream",
     "text": [
      "Global seed set to 2\n",
      "Global seed set to 8\n",
      "GPU available: True, used: True\n",
      "TPU available: False, using: 0 TPU cores\n",
      "IPU available: False, using: 0 IPUs\n",
      "Global seed set to 0\n"
     ]
    },
    {
     "name": "stdout",
     "output_type": "stream",
     "text": [
      "{'training': True, '_parameters': OrderedDict(), '_buffers': OrderedDict(), '_non_persistent_buffers_set': set(), '_backward_hooks': OrderedDict(), '_is_full_backward_hook': None, '_forward_hooks': OrderedDict(), '_forward_pre_hooks': OrderedDict(), '_state_dict_hooks': OrderedDict(), '_load_state_dict_pre_hooks': OrderedDict(), '_load_state_dict_post_hooks': OrderedDict(), '_modules': OrderedDict([('linear', Linear(in_features=38, out_features=100, bias=True))]), 'neuron_indices': tensor([195, 178, 363, 219, 321,  52, 274, 351, 280, 295, 150, 118, 205, 257,\n",
      "        211, 172, 330, 256, 332, 309, 153, 158, 329, 267, 306,  74, 354, 188,\n",
      "        342,  58, 180,   4, 115, 223,  39,  24, 235,  83]), 'in_features': 38, 'out_features': 100}\n"
     ]
    },
    {
     "name": "stderr",
     "output_type": "stream",
     "text": [
      "LOCAL_RANK: 0 - CUDA_VISIBLE_DEVICES: [0,1,2,3,4,5,6,7]\n"
     ]
    },
    {
     "data": {
      "application/vnd.jupyter.widget-view+json": {
       "model_id": "5bc162f21a6b4321b1b3e9480d16ac51",
       "version_major": 2,
       "version_minor": 0
      },
      "text/plain": [
       "Predicting: 0it [00:00, ?it/s]"
      ]
     },
     "metadata": {},
     "output_type": "display_data"
    },
    {
     "name": "stderr",
     "output_type": "stream",
     "text": [
      "Global seed set to 2\n",
      "Global seed set to 9\n",
      "GPU available: True, used: True\n",
      "TPU available: False, using: 0 TPU cores\n",
      "IPU available: False, using: 0 IPUs\n",
      "Global seed set to 0\n"
     ]
    },
    {
     "name": "stdout",
     "output_type": "stream",
     "text": [
      "{'training': True, '_parameters': OrderedDict(), '_buffers': OrderedDict(), '_non_persistent_buffers_set': set(), '_backward_hooks': OrderedDict(), '_is_full_backward_hook': None, '_forward_hooks': OrderedDict(), '_forward_pre_hooks': OrderedDict(), '_state_dict_hooks': OrderedDict(), '_load_state_dict_pre_hooks': OrderedDict(), '_load_state_dict_post_hooks': OrderedDict(), '_modules': OrderedDict([('linear', Linear(in_features=38, out_features=100, bias=True))]), 'neuron_indices': tensor([382, 379, 274, 284, 106,  74, 247,  48, 197, 110, 142, 342, 279,  24,\n",
      "        130,  86,  88, 301, 113, 140, 137, 369, 254, 343, 310, 174, 282, 258,\n",
      "        216, 209, 146,   0,  92, 129, 294,  40, 126, 243]), 'in_features': 38, 'out_features': 100}\n"
     ]
    },
    {
     "name": "stderr",
     "output_type": "stream",
     "text": [
      "LOCAL_RANK: 0 - CUDA_VISIBLE_DEVICES: [0,1,2,3,4,5,6,7]\n"
     ]
    },
    {
     "data": {
      "application/vnd.jupyter.widget-view+json": {
       "model_id": "e93236a801d44fb895d65f88829d8a3a",
       "version_major": 2,
       "version_minor": 0
      },
      "text/plain": [
       "Predicting: 0it [00:00, ?it/s]"
      ]
     },
     "metadata": {},
     "output_type": "display_data"
    },
    {
     "name": "stderr",
     "output_type": "stream",
     "text": [
      "Global seed set to 2\n",
      "Global seed set to 1\n",
      "GPU available: True, used: True\n",
      "TPU available: False, using: 0 TPU cores\n",
      "IPU available: False, using: 0 IPUs\n",
      "Global seed set to 0\n"
     ]
    },
    {
     "name": "stdout",
     "output_type": "stream",
     "text": [
      "{'training': True, '_parameters': OrderedDict(), '_buffers': OrderedDict(), '_non_persistent_buffers_set': set(), '_backward_hooks': OrderedDict(), '_is_full_backward_hook': None, '_forward_hooks': OrderedDict(), '_forward_pre_hooks': OrderedDict(), '_state_dict_hooks': OrderedDict(), '_load_state_dict_pre_hooks': OrderedDict(), '_load_state_dict_post_hooks': OrderedDict(), '_modules': OrderedDict([('linear', Linear(in_features=76, out_features=100, bias=True))]), 'neuron_indices': tensor([ 37,  88, 258, 104, 307, 131, 251, 113,  31,  66, 162, 117, 364, 158,\n",
      "        277,  69, 198, 329, 194,  50, 142,  84, 166, 340, 147,  77,  92, 176,\n",
      "         49, 153,  38,  73,  87,  57,  71,  16, 359,  61, 172,  89,  11, 196,\n",
      "        227, 366,   4, 291,  96,  48, 257, 298, 140, 306,  56, 363,  75, 209,\n",
      "        255, 122,  45, 217,  28, 326, 111, 116,  14, 107, 325, 102, 216, 112,\n",
      "         42, 375, 188, 128,  86, 315]), 'in_features': 76, 'out_features': 100}\n"
     ]
    },
    {
     "name": "stderr",
     "output_type": "stream",
     "text": [
      "LOCAL_RANK: 0 - CUDA_VISIBLE_DEVICES: [0,1,2,3,4,5,6,7]\n"
     ]
    },
    {
     "data": {
      "application/vnd.jupyter.widget-view+json": {
       "model_id": "3b480ea14c4745b3ada38198afde04e4",
       "version_major": 2,
       "version_minor": 0
      },
      "text/plain": [
       "Predicting: 0it [00:00, ?it/s]"
      ]
     },
     "metadata": {},
     "output_type": "display_data"
    },
    {
     "name": "stderr",
     "output_type": "stream",
     "text": [
      "Global seed set to 2\n",
      "Global seed set to 2\n",
      "GPU available: True, used: True\n",
      "TPU available: False, using: 0 TPU cores\n",
      "IPU available: False, using: 0 IPUs\n",
      "Global seed set to 0\n"
     ]
    },
    {
     "name": "stdout",
     "output_type": "stream",
     "text": [
      "{'training': True, '_parameters': OrderedDict(), '_buffers': OrderedDict(), '_non_persistent_buffers_set': set(), '_backward_hooks': OrderedDict(), '_is_full_backward_hook': None, '_forward_hooks': OrderedDict(), '_forward_pre_hooks': OrderedDict(), '_state_dict_hooks': OrderedDict(), '_load_state_dict_pre_hooks': OrderedDict(), '_load_state_dict_post_hooks': OrderedDict(), '_modules': OrderedDict([('linear', Linear(in_features=76, out_features=100, bias=True))]), 'neuron_indices': tensor([168,   9,  67, 159,  62, 235,  96, 153,  72, 270,  32, 122, 215, 213,\n",
      "        249, 269, 287,  81, 368,  89,   8, 309,  49, 250, 115, 329, 356, 231,\n",
      "        195,  82, 341,  63, 330,  47, 350, 187, 191, 150, 101, 359, 172, 298,\n",
      "        376, 322,  24, 259, 313, 183, 128,  11, 194, 158,  10, 278, 282,  35,\n",
      "        167,  21, 241, 306, 234,  19, 198, 379,  23,  31, 137, 240,  84, 106,\n",
      "        211,  25, 176, 267, 141, 197]), 'in_features': 76, 'out_features': 100}\n"
     ]
    },
    {
     "name": "stderr",
     "output_type": "stream",
     "text": [
      "LOCAL_RANK: 0 - CUDA_VISIBLE_DEVICES: [0,1,2,3,4,5,6,7]\n"
     ]
    },
    {
     "data": {
      "application/vnd.jupyter.widget-view+json": {
       "model_id": "1c0c3d7e972d4d3789f53b04eb274c78",
       "version_major": 2,
       "version_minor": 0
      },
      "text/plain": [
       "Predicting: 0it [00:00, ?it/s]"
      ]
     },
     "metadata": {},
     "output_type": "display_data"
    },
    {
     "name": "stderr",
     "output_type": "stream",
     "text": [
      "Global seed set to 2\n",
      "Global seed set to 3\n",
      "GPU available: True, used: True\n",
      "TPU available: False, using: 0 TPU cores\n",
      "IPU available: False, using: 0 IPUs\n",
      "Global seed set to 0\n"
     ]
    },
    {
     "name": "stdout",
     "output_type": "stream",
     "text": [
      "{'training': True, '_parameters': OrderedDict(), '_buffers': OrderedDict(), '_non_persistent_buffers_set': set(), '_backward_hooks': OrderedDict(), '_is_full_backward_hook': None, '_forward_hooks': OrderedDict(), '_forward_pre_hooks': OrderedDict(), '_state_dict_hooks': OrderedDict(), '_load_state_dict_pre_hooks': OrderedDict(), '_load_state_dict_post_hooks': OrderedDict(), '_modules': OrderedDict([('linear', Linear(in_features=76, out_features=100, bias=True))]), 'neuron_indices': tensor([106, 302, 345, 306,  44,  25, 246, 165, 173, 373,  62, 354,  89,  61,\n",
      "        170, 154, 119, 223,  26, 158,  96,  50, 333, 210,  20,  13,  51,  60,\n",
      "        150, 174,  42, 362, 252, 379, 303,  66,   8, 254, 136, 315, 253, 204,\n",
      "         74, 356, 218, 321, 378, 102, 273, 380, 293, 208, 157, 290,   4,  19,\n",
      "        277, 346,  82, 221, 244, 180, 278, 312, 128, 141,  49, 310, 327, 274,\n",
      "        194,  88, 287,  21, 371, 212]), 'in_features': 76, 'out_features': 100}\n"
     ]
    },
    {
     "name": "stderr",
     "output_type": "stream",
     "text": [
      "LOCAL_RANK: 0 - CUDA_VISIBLE_DEVICES: [0,1,2,3,4,5,6,7]\n"
     ]
    },
    {
     "data": {
      "application/vnd.jupyter.widget-view+json": {
       "model_id": "eb218d45d83440159ded20a03826f00b",
       "version_major": 2,
       "version_minor": 0
      },
      "text/plain": [
       "Predicting: 0it [00:00, ?it/s]"
      ]
     },
     "metadata": {},
     "output_type": "display_data"
    },
    {
     "name": "stderr",
     "output_type": "stream",
     "text": [
      "Global seed set to 2\n",
      "Global seed set to 4\n",
      "GPU available: True, used: True\n",
      "TPU available: False, using: 0 TPU cores\n",
      "IPU available: False, using: 0 IPUs\n",
      "Global seed set to 0\n"
     ]
    },
    {
     "name": "stdout",
     "output_type": "stream",
     "text": [
      "{'training': True, '_parameters': OrderedDict(), '_buffers': OrderedDict(), '_non_persistent_buffers_set': set(), '_backward_hooks': OrderedDict(), '_is_full_backward_hook': None, '_forward_hooks': OrderedDict(), '_forward_pre_hooks': OrderedDict(), '_state_dict_hooks': OrderedDict(), '_load_state_dict_pre_hooks': OrderedDict(), '_load_state_dict_post_hooks': OrderedDict(), '_modules': OrderedDict([('linear', Linear(in_features=76, out_features=100, bias=True))]), 'neuron_indices': tensor([250, 172, 245, 263,  73,  12, 239,   0, 234, 120, 266, 204,  47, 302,\n",
      "        364, 328,  71, 145, 336,  61, 118, 155, 212, 194, 146, 301, 139,   2,\n",
      "         95,  19,  93, 299, 326, 111, 298, 277, 106,  45, 339, 243, 144, 193,\n",
      "        158,  75,  16,  98, 188,  99, 170, 166, 261, 207, 214, 138, 310, 143,\n",
      "        186, 199, 121, 296, 167,  29,  30, 284, 337, 137,  83, 156, 109, 101,\n",
      "        270, 373, 103, 291, 350, 286]), 'in_features': 76, 'out_features': 100}\n"
     ]
    },
    {
     "name": "stderr",
     "output_type": "stream",
     "text": [
      "LOCAL_RANK: 0 - CUDA_VISIBLE_DEVICES: [0,1,2,3,4,5,6,7]\n"
     ]
    },
    {
     "data": {
      "application/vnd.jupyter.widget-view+json": {
       "model_id": "99044d6dcac5428d87a4b4d735524b1d",
       "version_major": 2,
       "version_minor": 0
      },
      "text/plain": [
       "Predicting: 0it [00:00, ?it/s]"
      ]
     },
     "metadata": {},
     "output_type": "display_data"
    },
    {
     "name": "stderr",
     "output_type": "stream",
     "text": [
      "Global seed set to 2\n",
      "Global seed set to 5\n",
      "GPU available: True, used: True\n",
      "TPU available: False, using: 0 TPU cores\n",
      "IPU available: False, using: 0 IPUs\n",
      "Global seed set to 0\n"
     ]
    },
    {
     "name": "stdout",
     "output_type": "stream",
     "text": [
      "{'training': True, '_parameters': OrderedDict(), '_buffers': OrderedDict(), '_non_persistent_buffers_set': set(), '_backward_hooks': OrderedDict(), '_is_full_backward_hook': None, '_forward_hooks': OrderedDict(), '_forward_pre_hooks': OrderedDict(), '_state_dict_hooks': OrderedDict(), '_load_state_dict_pre_hooks': OrderedDict(), '_load_state_dict_post_hooks': OrderedDict(), '_modules': OrderedDict([('linear', Linear(in_features=76, out_features=100, bias=True))]), 'neuron_indices': tensor([227, 245, 139,   9, 250,  75,  70, 239,  80, 163, 325,  83,  95, 365,\n",
      "        112,   5, 119, 155, 269, 323, 149, 138,  90,  33,  68, 381, 279, 135,\n",
      "        183, 335, 126, 125, 349, 162,  64,  81, 157, 327, 331, 343,  54, 371,\n",
      "        240, 263, 104,  38, 127, 151,  14,  59,  92,   7, 148, 196, 173, 124,\n",
      "        311, 350,  55,  40, 225, 176,  47, 290, 369, 313,   3, 272, 376, 216,\n",
      "        118,  63, 379, 107, 211,  17]), 'in_features': 76, 'out_features': 100}\n"
     ]
    },
    {
     "name": "stderr",
     "output_type": "stream",
     "text": [
      "LOCAL_RANK: 0 - CUDA_VISIBLE_DEVICES: [0,1,2,3,4,5,6,7]\n"
     ]
    },
    {
     "data": {
      "application/vnd.jupyter.widget-view+json": {
       "model_id": "de112e4425b44d5f9bbb8ab8d01c690e",
       "version_major": 2,
       "version_minor": 0
      },
      "text/plain": [
       "Predicting: 0it [00:00, ?it/s]"
      ]
     },
     "metadata": {},
     "output_type": "display_data"
    },
    {
     "name": "stderr",
     "output_type": "stream",
     "text": [
      "Global seed set to 2\n",
      "Global seed set to 6\n",
      "GPU available: True, used: True\n",
      "TPU available: False, using: 0 TPU cores\n",
      "IPU available: False, using: 0 IPUs\n",
      "Global seed set to 0\n"
     ]
    },
    {
     "name": "stdout",
     "output_type": "stream",
     "text": [
      "{'training': True, '_parameters': OrderedDict(), '_buffers': OrderedDict(), '_non_persistent_buffers_set': set(), '_backward_hooks': OrderedDict(), '_is_full_backward_hook': None, '_forward_hooks': OrderedDict(), '_forward_pre_hooks': OrderedDict(), '_state_dict_hooks': OrderedDict(), '_load_state_dict_pre_hooks': OrderedDict(), '_load_state_dict_post_hooks': OrderedDict(), '_modules': OrderedDict([('linear', Linear(in_features=76, out_features=100, bias=True))]), 'neuron_indices': tensor([266, 315, 283, 323, 218, 318, 215, 111,  48, 192, 187, 174,  67, 213,\n",
      "        351, 344, 319, 324, 334, 188, 264,  66, 178, 316,  76, 248, 191, 309,\n",
      "         62, 276,   7, 232, 143, 342,  86, 340, 287, 124, 311, 242, 156, 105,\n",
      "        172, 120, 206, 281, 382, 271, 195, 303, 154,  97,   6, 223, 297,  54,\n",
      "         22, 268, 217, 259, 113,  31,  43,  10,  16, 236, 161, 175, 339, 220,\n",
      "         94, 190, 214, 249, 225, 196]), 'in_features': 76, 'out_features': 100}\n"
     ]
    },
    {
     "name": "stderr",
     "output_type": "stream",
     "text": [
      "LOCAL_RANK: 0 - CUDA_VISIBLE_DEVICES: [0,1,2,3,4,5,6,7]\n"
     ]
    },
    {
     "data": {
      "application/vnd.jupyter.widget-view+json": {
       "model_id": "515c72d36662469a87227ac37befa2dd",
       "version_major": 2,
       "version_minor": 0
      },
      "text/plain": [
       "Predicting: 0it [00:00, ?it/s]"
      ]
     },
     "metadata": {},
     "output_type": "display_data"
    },
    {
     "name": "stderr",
     "output_type": "stream",
     "text": [
      "Global seed set to 2\n",
      "Global seed set to 7\n",
      "GPU available: True, used: True\n",
      "TPU available: False, using: 0 TPU cores\n",
      "IPU available: False, using: 0 IPUs\n",
      "Global seed set to 0\n"
     ]
    },
    {
     "name": "stdout",
     "output_type": "stream",
     "text": [
      "{'training': True, '_parameters': OrderedDict(), '_buffers': OrderedDict(), '_non_persistent_buffers_set': set(), '_backward_hooks': OrderedDict(), '_is_full_backward_hook': None, '_forward_hooks': OrderedDict(), '_forward_pre_hooks': OrderedDict(), '_state_dict_hooks': OrderedDict(), '_load_state_dict_pre_hooks': OrderedDict(), '_load_state_dict_post_hooks': OrderedDict(), '_modules': OrderedDict([('linear', Linear(in_features=76, out_features=100, bias=True))]), 'neuron_indices': tensor([303, 204, 193, 254,  87, 153, 257, 298, 132,  20, 184, 156, 368, 175,\n",
      "        376, 208,  42, 190, 309,  47, 260, 115,   2, 122, 292, 315, 359,  37,\n",
      "        342,  57, 219, 129, 108, 142, 239, 196, 180, 247,  69, 299,  30, 370,\n",
      "        366, 310,  96,  41, 206, 258, 164, 131, 159, 125, 231,   6, 264, 222,\n",
      "        176, 382, 140,  91, 154, 117, 245, 107, 284, 227,  67, 347, 350, 173,\n",
      "        139, 112, 293,  93, 241,   7]), 'in_features': 76, 'out_features': 100}\n"
     ]
    },
    {
     "name": "stderr",
     "output_type": "stream",
     "text": [
      "LOCAL_RANK: 0 - CUDA_VISIBLE_DEVICES: [0,1,2,3,4,5,6,7]\n"
     ]
    },
    {
     "data": {
      "application/vnd.jupyter.widget-view+json": {
       "model_id": "45a7fffdbcb342afa8e335c6fe692b24",
       "version_major": 2,
       "version_minor": 0
      },
      "text/plain": [
       "Predicting: 0it [00:00, ?it/s]"
      ]
     },
     "metadata": {},
     "output_type": "display_data"
    },
    {
     "name": "stderr",
     "output_type": "stream",
     "text": [
      "Global seed set to 2\n",
      "Global seed set to 8\n",
      "GPU available: True, used: True\n",
      "TPU available: False, using: 0 TPU cores\n",
      "IPU available: False, using: 0 IPUs\n",
      "Global seed set to 0\n"
     ]
    },
    {
     "name": "stdout",
     "output_type": "stream",
     "text": [
      "{'training': True, '_parameters': OrderedDict(), '_buffers': OrderedDict(), '_non_persistent_buffers_set': set(), '_backward_hooks': OrderedDict(), '_is_full_backward_hook': None, '_forward_hooks': OrderedDict(), '_forward_pre_hooks': OrderedDict(), '_state_dict_hooks': OrderedDict(), '_load_state_dict_pre_hooks': OrderedDict(), '_load_state_dict_post_hooks': OrderedDict(), '_modules': OrderedDict([('linear', Linear(in_features=76, out_features=100, bias=True))]), 'neuron_indices': tensor([195, 178, 363, 219, 321,  52, 274, 351, 280, 295, 150, 118, 205, 257,\n",
      "        211, 172, 330, 256, 332, 309, 153, 158, 329, 267, 306,  74, 354, 188,\n",
      "        342,  58, 180,   4, 115, 223,  39,  24, 235,  83, 174, 346,  82, 359,\n",
      "        250, 122, 105,  64, 130, 114, 347, 191, 360,  99, 207, 284, 128, 131,\n",
      "         18, 246,  79, 243, 112, 209, 217, 173, 266, 189, 123,  45, 290,  38,\n",
      "        291, 230, 212, 265, 132,  15]), 'in_features': 76, 'out_features': 100}\n"
     ]
    },
    {
     "name": "stderr",
     "output_type": "stream",
     "text": [
      "LOCAL_RANK: 0 - CUDA_VISIBLE_DEVICES: [0,1,2,3,4,5,6,7]\n"
     ]
    },
    {
     "data": {
      "application/vnd.jupyter.widget-view+json": {
       "model_id": "e5d196e7c4b244e7af6c49028265887f",
       "version_major": 2,
       "version_minor": 0
      },
      "text/plain": [
       "Predicting: 0it [00:00, ?it/s]"
      ]
     },
     "metadata": {},
     "output_type": "display_data"
    },
    {
     "name": "stderr",
     "output_type": "stream",
     "text": [
      "Global seed set to 2\n",
      "Global seed set to 9\n",
      "GPU available: True, used: True\n",
      "TPU available: False, using: 0 TPU cores\n",
      "IPU available: False, using: 0 IPUs\n",
      "Global seed set to 0\n"
     ]
    },
    {
     "name": "stdout",
     "output_type": "stream",
     "text": [
      "{'training': True, '_parameters': OrderedDict(), '_buffers': OrderedDict(), '_non_persistent_buffers_set': set(), '_backward_hooks': OrderedDict(), '_is_full_backward_hook': None, '_forward_hooks': OrderedDict(), '_forward_pre_hooks': OrderedDict(), '_state_dict_hooks': OrderedDict(), '_load_state_dict_pre_hooks': OrderedDict(), '_load_state_dict_post_hooks': OrderedDict(), '_modules': OrderedDict([('linear', Linear(in_features=76, out_features=100, bias=True))]), 'neuron_indices': tensor([382, 379, 274, 284, 106,  74, 247,  48, 197, 110, 142, 342, 279,  24,\n",
      "        130,  86,  88, 301, 113, 140, 137, 369, 254, 343, 310, 174, 282, 258,\n",
      "        216, 209, 146,   0,  92, 129, 294,  40, 126, 243, 111,  41, 187,  29,\n",
      "        205, 285, 198, 250,  65,  22, 280, 101, 123, 231,  21, 210, 336, 241,\n",
      "        117, 360,  15,  13, 102, 375, 118, 116, 232, 299, 263, 176, 292, 268,\n",
      "         98, 217, 168,  97, 124, 311]), 'in_features': 76, 'out_features': 100}\n"
     ]
    },
    {
     "name": "stderr",
     "output_type": "stream",
     "text": [
      "LOCAL_RANK: 0 - CUDA_VISIBLE_DEVICES: [0,1,2,3,4,5,6,7]\n"
     ]
    },
    {
     "data": {
      "application/vnd.jupyter.widget-view+json": {
       "model_id": "43c5cfca6cf04d559a8fea418af13840",
       "version_major": 2,
       "version_minor": 0
      },
      "text/plain": [
       "Predicting: 0it [00:00, ?it/s]"
      ]
     },
     "metadata": {},
     "output_type": "display_data"
    },
    {
     "name": "stderr",
     "output_type": "stream",
     "text": [
      "Global seed set to 2\n",
      "Global seed set to 1\n",
      "GPU available: True, used: True\n",
      "TPU available: False, using: 0 TPU cores\n",
      "IPU available: False, using: 0 IPUs\n",
      "Global seed set to 0\n"
     ]
    },
    {
     "name": "stdout",
     "output_type": "stream",
     "text": [
      "{'training': True, '_parameters': OrderedDict(), '_buffers': OrderedDict(), '_non_persistent_buffers_set': set(), '_backward_hooks': OrderedDict(), '_is_full_backward_hook': None, '_forward_hooks': OrderedDict(), '_forward_pre_hooks': OrderedDict(), '_state_dict_hooks': OrderedDict(), '_load_state_dict_pre_hooks': OrderedDict(), '_load_state_dict_post_hooks': OrderedDict(), '_modules': OrderedDict([('linear', Linear(in_features=192, out_features=100, bias=True))]), 'neuron_indices': tensor([ 37,  88, 258, 104, 307, 131, 251, 113,  31,  66, 162, 117, 364, 158,\n",
      "        277,  69, 198, 329, 194,  50, 142,  84, 166, 340, 147,  77,  92, 176,\n",
      "         49, 153,  38,  73,  87,  57,  71,  16, 359,  61, 172,  89,  11, 196,\n",
      "        227, 366,   4, 291,  96,  48, 257, 298, 140, 306,  56, 363,  75, 209,\n",
      "        255, 122,  45, 217,  28, 326, 111, 116,  14, 107, 325, 102, 216, 112,\n",
      "         42, 375, 188, 128,  86, 315, 249, 316,   5, 339, 175,   2, 352, 301,\n",
      "        259, 346, 205,  60, 378, 238, 266, 334,  74, 342, 267, 213,  34, 114,\n",
      "        354, 256, 361, 327, 219, 228, 200, 138, 134, 157, 101, 106, 179,  22,\n",
      "        185, 207, 223, 168, 382, 136, 358,  79, 376, 253, 119, 296,  29, 304,\n",
      "        265, 271, 120, 270, 357, 149, 144, 273, 262, 155, 252, 130, 261, 218,\n",
      "        135,  82, 103, 246, 204,  13, 310, 245, 208, 279, 303, 248, 292, 150,\n",
      "          8, 350, 370, 141, 177, 241, 311, 178, 335, 377, 333, 244, 190, 380,\n",
      "        165, 313, 132, 110, 206, 202, 381, 365, 322,  43, 233, 353, 232, 146,\n",
      "         95,  94, 282, 349, 170,  78,   1, 234,  85, 371]), 'in_features': 192, 'out_features': 100}\n"
     ]
    },
    {
     "name": "stderr",
     "output_type": "stream",
     "text": [
      "LOCAL_RANK: 0 - CUDA_VISIBLE_DEVICES: [0,1,2,3,4,5,6,7]\n"
     ]
    },
    {
     "data": {
      "application/vnd.jupyter.widget-view+json": {
       "model_id": "6ce2110d26e94f5a9dd44ee909c42cec",
       "version_major": 2,
       "version_minor": 0
      },
      "text/plain": [
       "Predicting: 0it [00:00, ?it/s]"
      ]
     },
     "metadata": {},
     "output_type": "display_data"
    },
    {
     "name": "stderr",
     "output_type": "stream",
     "text": [
      "Global seed set to 2\n",
      "Global seed set to 2\n",
      "GPU available: True, used: True\n",
      "TPU available: False, using: 0 TPU cores\n",
      "IPU available: False, using: 0 IPUs\n",
      "Global seed set to 0\n"
     ]
    },
    {
     "name": "stdout",
     "output_type": "stream",
     "text": [
      "{'training': True, '_parameters': OrderedDict(), '_buffers': OrderedDict(), '_non_persistent_buffers_set': set(), '_backward_hooks': OrderedDict(), '_is_full_backward_hook': None, '_forward_hooks': OrderedDict(), '_forward_pre_hooks': OrderedDict(), '_state_dict_hooks': OrderedDict(), '_load_state_dict_pre_hooks': OrderedDict(), '_load_state_dict_post_hooks': OrderedDict(), '_modules': OrderedDict([('linear', Linear(in_features=192, out_features=100, bias=True))]), 'neuron_indices': tensor([168,   9,  67, 159,  62, 235,  96, 153,  72, 270,  32, 122, 215, 213,\n",
      "        249, 269, 287,  81, 368,  89,   8, 309,  49, 250, 115, 329, 356, 231,\n",
      "        195,  82, 341,  63, 330,  47, 350, 187, 191, 150, 101, 359, 172, 298,\n",
      "        376, 322,  24, 259, 313, 183, 128,  11, 194, 158,  10, 278, 282,  35,\n",
      "        167,  21, 241, 306, 234,  19, 198, 379,  23,  31, 137, 240,  84, 106,\n",
      "        211,  25, 176, 267, 141, 197, 129, 177, 188, 133,  22, 175, 371, 160,\n",
      "        147, 138, 178,  56,   0, 347, 248, 360, 292, 181, 320,  66, 214, 236,\n",
      "        124, 185, 262,  34,  38, 381, 353, 348, 134, 143, 189, 130, 331,   2,\n",
      "        357,  86, 300, 316,  59, 154, 340, 302, 244,  46,  80, 212,   4, 280,\n",
      "         68, 291, 144,  28, 277, 105, 237, 354, 295, 336, 135, 246, 170,  42,\n",
      "         73,  45,  99, 373, 132, 200,  75, 311,  36, 247, 370, 192, 294,  33,\n",
      "        335, 276, 182,  97, 209,  27, 254,  53, 264, 382,  40, 127, 261, 374,\n",
      "         87, 268, 265, 257, 173,  64, 216, 118, 239,  79,   1, 312,  70, 343,\n",
      "        344, 326, 163, 363, 142, 169, 242, 273,   6, 342]), 'in_features': 192, 'out_features': 100}\n"
     ]
    },
    {
     "name": "stderr",
     "output_type": "stream",
     "text": [
      "LOCAL_RANK: 0 - CUDA_VISIBLE_DEVICES: [0,1,2,3,4,5,6,7]\n"
     ]
    },
    {
     "data": {
      "application/vnd.jupyter.widget-view+json": {
       "model_id": "1f71638e5598461286681991f242eaa6",
       "version_major": 2,
       "version_minor": 0
      },
      "text/plain": [
       "Predicting: 0it [00:00, ?it/s]"
      ]
     },
     "metadata": {},
     "output_type": "display_data"
    },
    {
     "name": "stderr",
     "output_type": "stream",
     "text": [
      "Global seed set to 2\n",
      "Global seed set to 3\n",
      "GPU available: True, used: True\n",
      "TPU available: False, using: 0 TPU cores\n",
      "IPU available: False, using: 0 IPUs\n",
      "Global seed set to 0\n"
     ]
    },
    {
     "name": "stdout",
     "output_type": "stream",
     "text": [
      "{'training': True, '_parameters': OrderedDict(), '_buffers': OrderedDict(), '_non_persistent_buffers_set': set(), '_backward_hooks': OrderedDict(), '_is_full_backward_hook': None, '_forward_hooks': OrderedDict(), '_forward_pre_hooks': OrderedDict(), '_state_dict_hooks': OrderedDict(), '_load_state_dict_pre_hooks': OrderedDict(), '_load_state_dict_post_hooks': OrderedDict(), '_modules': OrderedDict([('linear', Linear(in_features=192, out_features=100, bias=True))]), 'neuron_indices': tensor([106, 302, 345, 306,  44,  25, 246, 165, 173, 373,  62, 354,  89,  61,\n",
      "        170, 154, 119, 223,  26, 158,  96,  50, 333, 210,  20,  13,  51,  60,\n",
      "        150, 174,  42, 362, 252, 379, 303,  66,   8, 254, 136, 315, 253, 204,\n",
      "         74, 356, 218, 321, 378, 102, 273, 380, 293, 208, 157, 290,   4,  19,\n",
      "        277, 346,  82, 221, 244, 180, 278, 312, 128, 141,  49, 310, 327, 274,\n",
      "        194,  88, 287,  21, 371, 212,  45, 259, 133, 134, 181, 366,  47, 152,\n",
      "        296,  87, 313,  14, 360, 269,  32, 160, 108,  56,  94, 351,  16, 265,\n",
      "        151, 178, 129, 182, 226,   1, 249,  78, 131, 115,  37, 144, 124, 209,\n",
      "         31, 355, 368, 149, 211, 361, 166, 242, 228, 109,   7, 279,  76, 230,\n",
      "        168, 304,  52, 267,  85,  84, 281, 308, 383, 113, 127, 261, 291, 234,\n",
      "         57,  79,   6, 282, 260, 205, 268, 146, 247, 288, 139, 266, 295, 138,\n",
      "         39, 143, 377, 344, 382,  33,  69, 190, 126, 217,  15, 207,  63, 185,\n",
      "        206,  73, 325,  35, 305, 326,  34, 105, 300,  72, 322, 375, 243, 363,\n",
      "          2, 186, 236, 317,  58, 193, 107, 231,  91, 220]), 'in_features': 192, 'out_features': 100}\n"
     ]
    },
    {
     "name": "stderr",
     "output_type": "stream",
     "text": [
      "LOCAL_RANK: 0 - CUDA_VISIBLE_DEVICES: [0,1,2,3,4,5,6,7]\n"
     ]
    },
    {
     "data": {
      "application/vnd.jupyter.widget-view+json": {
       "model_id": "d8cac2ae29764bb38496ae0a30ee1af0",
       "version_major": 2,
       "version_minor": 0
      },
      "text/plain": [
       "Predicting: 0it [00:00, ?it/s]"
      ]
     },
     "metadata": {},
     "output_type": "display_data"
    },
    {
     "name": "stderr",
     "output_type": "stream",
     "text": [
      "Global seed set to 2\n",
      "Global seed set to 4\n",
      "GPU available: True, used: True\n",
      "TPU available: False, using: 0 TPU cores\n",
      "IPU available: False, using: 0 IPUs\n",
      "Global seed set to 0\n"
     ]
    },
    {
     "name": "stdout",
     "output_type": "stream",
     "text": [
      "{'training': True, '_parameters': OrderedDict(), '_buffers': OrderedDict(), '_non_persistent_buffers_set': set(), '_backward_hooks': OrderedDict(), '_is_full_backward_hook': None, '_forward_hooks': OrderedDict(), '_forward_pre_hooks': OrderedDict(), '_state_dict_hooks': OrderedDict(), '_load_state_dict_pre_hooks': OrderedDict(), '_load_state_dict_post_hooks': OrderedDict(), '_modules': OrderedDict([('linear', Linear(in_features=192, out_features=100, bias=True))]), 'neuron_indices': tensor([250, 172, 245, 263,  73,  12, 239,   0, 234, 120, 266, 204,  47, 302,\n",
      "        364, 328,  71, 145, 336,  61, 118, 155, 212, 194, 146, 301, 139,   2,\n",
      "         95,  19,  93, 299, 326, 111, 298, 277, 106,  45, 339, 243, 144, 193,\n",
      "        158,  75,  16,  98, 188,  99, 170, 166, 261, 207, 214, 138, 310, 143,\n",
      "        186, 199, 121, 296, 167,  29,  30, 284, 337, 137,  83, 156, 109, 101,\n",
      "        270, 373, 103, 291, 350, 286, 107, 190, 122,  25, 215,  11, 244, 316,\n",
      "        223, 153, 340, 348, 281, 334,  44, 187, 195, 119, 247,  13,  51, 136,\n",
      "        285, 295, 203, 254, 162, 159,  50, 279, 275,  17, 141, 365,  72,  81,\n",
      "        366,  74, 210, 347,  46, 382, 375,  89,  85, 331, 309, 221, 233, 361,\n",
      "        306, 274, 315, 335, 258, 248, 370, 381, 240,  67, 352, 180,   3, 353,\n",
      "         24, 317,  49,  86, 209, 369,  21, 362, 371, 264, 321,  41, 333, 259,\n",
      "         54, 154,  60, 341,  87, 325, 319, 230, 197, 229, 383,  53, 147,  32,\n",
      "        129,   4, 205, 297, 114, 293,  52,  37,  96, 150,  94, 183, 189,  42,\n",
      "        378, 260, 330, 265,  34, 338, 165, 322, 273, 228]), 'in_features': 192, 'out_features': 100}\n"
     ]
    },
    {
     "name": "stderr",
     "output_type": "stream",
     "text": [
      "LOCAL_RANK: 0 - CUDA_VISIBLE_DEVICES: [0,1,2,3,4,5,6,7]\n"
     ]
    },
    {
     "data": {
      "application/vnd.jupyter.widget-view+json": {
       "model_id": "7876119f4f1341c7af50a6535290278a",
       "version_major": 2,
       "version_minor": 0
      },
      "text/plain": [
       "Predicting: 0it [00:00, ?it/s]"
      ]
     },
     "metadata": {},
     "output_type": "display_data"
    },
    {
     "name": "stderr",
     "output_type": "stream",
     "text": [
      "Global seed set to 2\n",
      "Global seed set to 5\n",
      "GPU available: True, used: True\n",
      "TPU available: False, using: 0 TPU cores\n",
      "IPU available: False, using: 0 IPUs\n",
      "Global seed set to 0\n"
     ]
    },
    {
     "name": "stdout",
     "output_type": "stream",
     "text": [
      "{'training': True, '_parameters': OrderedDict(), '_buffers': OrderedDict(), '_non_persistent_buffers_set': set(), '_backward_hooks': OrderedDict(), '_is_full_backward_hook': None, '_forward_hooks': OrderedDict(), '_forward_pre_hooks': OrderedDict(), '_state_dict_hooks': OrderedDict(), '_load_state_dict_pre_hooks': OrderedDict(), '_load_state_dict_post_hooks': OrderedDict(), '_modules': OrderedDict([('linear', Linear(in_features=192, out_features=100, bias=True))]), 'neuron_indices': tensor([227, 245, 139,   9, 250,  75,  70, 239,  80, 163, 325,  83,  95, 365,\n",
      "        112,   5, 119, 155, 269, 323, 149, 138,  90,  33,  68, 381, 279, 135,\n",
      "        183, 335, 126, 125, 349, 162,  64,  81, 157, 327, 331, 343,  54, 371,\n",
      "        240, 263, 104,  38, 127, 151,  14,  59,  92,   7, 148, 196, 173, 124,\n",
      "        311, 350,  55,  40, 225, 176,  47, 290, 369, 313,   3, 272, 376, 216,\n",
      "        118,  63, 379, 107, 211,  17,  97, 332,  15, 178, 366, 302, 355, 374,\n",
      "        193,  72, 303, 258, 182, 288,  11, 131, 281,   6,   2, 244, 165, 218,\n",
      "         74,  57, 164,  41, 340,  60, 136, 330,  87, 123, 324, 383,  93,  44,\n",
      "        174, 122, 232, 301,  66, 344, 219, 358, 117, 237, 378, 372, 254, 308,\n",
      "        342,  42, 261,  16, 168, 106, 201, 270, 274, 188,  18,  25,  76, 278,\n",
      "        200, 364, 141, 137,  51, 111, 347, 382, 156, 169, 160, 293,  12, 326,\n",
      "         86, 305, 304, 235,   8, 300, 101, 116,  45, 191,  28,  39,  89, 233,\n",
      "        251, 184, 197, 128, 284,  88,  32, 309, 380, 214, 228, 109, 319, 192,\n",
      "        159, 181, 338,  61,  29, 129, 328, 217, 180, 317]), 'in_features': 192, 'out_features': 100}\n"
     ]
    },
    {
     "name": "stderr",
     "output_type": "stream",
     "text": [
      "LOCAL_RANK: 0 - CUDA_VISIBLE_DEVICES: [0,1,2,3,4,5,6,7]\n"
     ]
    },
    {
     "data": {
      "application/vnd.jupyter.widget-view+json": {
       "model_id": "527fe7a3ca0e4aa893f2b49904da174e",
       "version_major": 2,
       "version_minor": 0
      },
      "text/plain": [
       "Predicting: 0it [00:00, ?it/s]"
      ]
     },
     "metadata": {},
     "output_type": "display_data"
    },
    {
     "name": "stderr",
     "output_type": "stream",
     "text": [
      "Global seed set to 2\n",
      "Global seed set to 6\n",
      "GPU available: True, used: True\n",
      "TPU available: False, using: 0 TPU cores\n",
      "IPU available: False, using: 0 IPUs\n",
      "Global seed set to 0\n"
     ]
    },
    {
     "name": "stdout",
     "output_type": "stream",
     "text": [
      "{'training': True, '_parameters': OrderedDict(), '_buffers': OrderedDict(), '_non_persistent_buffers_set': set(), '_backward_hooks': OrderedDict(), '_is_full_backward_hook': None, '_forward_hooks': OrderedDict(), '_forward_pre_hooks': OrderedDict(), '_state_dict_hooks': OrderedDict(), '_load_state_dict_pre_hooks': OrderedDict(), '_load_state_dict_post_hooks': OrderedDict(), '_modules': OrderedDict([('linear', Linear(in_features=192, out_features=100, bias=True))]), 'neuron_indices': tensor([266, 315, 283, 323, 218, 318, 215, 111,  48, 192, 187, 174,  67, 213,\n",
      "        351, 344, 319, 324, 334, 188, 264,  66, 178, 316,  76, 248, 191, 309,\n",
      "         62, 276,   7, 232, 143, 342,  86, 340, 287, 124, 311, 242, 156, 105,\n",
      "        172, 120, 206, 281, 382, 271, 195, 303, 154,  97,   6, 223, 297,  54,\n",
      "         22, 268, 217, 259, 113,  31,  43,  10,  16, 236, 161, 175, 339, 220,\n",
      "         94, 190, 214, 249, 225, 196, 136, 169,  88, 198, 135, 346, 291, 122,\n",
      "        265, 130, 238, 374, 257, 193, 173,  47, 301, 100, 189, 308,  78, 314,\n",
      "        180, 321, 137, 171, 210, 350,  55, 176, 237,  45, 126, 373,  12, 302,\n",
      "         83,  38, 205, 110, 234,  71, 290, 125, 369, 293, 239, 371, 360, 349,\n",
      "         25, 230,  51,  80, 102, 337, 227,  27, 284,  82, 128,  26, 129, 273,\n",
      "        167, 263, 304, 296, 222,  29, 103,  84,  99, 224, 336,  21,  28,  58,\n",
      "        277,  18,  60, 362, 166, 123,  15, 327,  61, 294, 112, 279,  41,  98,\n",
      "        380, 285, 250, 357,  36, 300,  19, 157, 150,  23,  72, 109,  64, 378,\n",
      "        162, 170,   2, 278,  49, 228, 229, 158, 353, 146]), 'in_features': 192, 'out_features': 100}\n"
     ]
    },
    {
     "name": "stderr",
     "output_type": "stream",
     "text": [
      "LOCAL_RANK: 0 - CUDA_VISIBLE_DEVICES: [0,1,2,3,4,5,6,7]\n"
     ]
    },
    {
     "data": {
      "application/vnd.jupyter.widget-view+json": {
       "model_id": "2f901161ebf344b7ac7c064540b756a9",
       "version_major": 2,
       "version_minor": 0
      },
      "text/plain": [
       "Predicting: 0it [00:00, ?it/s]"
      ]
     },
     "metadata": {},
     "output_type": "display_data"
    },
    {
     "name": "stderr",
     "output_type": "stream",
     "text": [
      "Global seed set to 2\n",
      "Global seed set to 7\n",
      "GPU available: True, used: True\n",
      "TPU available: False, using: 0 TPU cores\n",
      "IPU available: False, using: 0 IPUs\n",
      "Global seed set to 0\n"
     ]
    },
    {
     "name": "stdout",
     "output_type": "stream",
     "text": [
      "{'training': True, '_parameters': OrderedDict(), '_buffers': OrderedDict(), '_non_persistent_buffers_set': set(), '_backward_hooks': OrderedDict(), '_is_full_backward_hook': None, '_forward_hooks': OrderedDict(), '_forward_pre_hooks': OrderedDict(), '_state_dict_hooks': OrderedDict(), '_load_state_dict_pre_hooks': OrderedDict(), '_load_state_dict_post_hooks': OrderedDict(), '_modules': OrderedDict([('linear', Linear(in_features=192, out_features=100, bias=True))]), 'neuron_indices': tensor([303, 204, 193, 254,  87, 153, 257, 298, 132,  20, 184, 156, 368, 175,\n",
      "        376, 208,  42, 190, 309,  47, 260, 115,   2, 122, 292, 315, 359,  37,\n",
      "        342,  57, 219, 129, 108, 142, 239, 196, 180, 247,  69, 299,  30, 370,\n",
      "        366, 310,  96,  41, 206, 258, 164, 131, 159, 125, 231,   6, 264, 222,\n",
      "        176, 382, 140,  91, 154, 117, 245, 107, 284, 227,  67, 347, 350, 173,\n",
      "        139, 112, 293,  93, 241,   7, 375, 263, 251, 182, 163, 283, 277, 365,\n",
      "        195,  48,  34,  77,   1,  32, 237,  49,  45, 246, 351,  74, 285, 249,\n",
      "        111, 146, 130,  92, 148, 157, 373,  31, 155, 137,  33, 228, 226, 200,\n",
      "        141, 143, 289, 230, 102, 218, 232, 162, 364, 194,  80, 295, 243,  29,\n",
      "        105, 113,   8, 149, 166, 367, 282, 326, 345,  90, 343, 233,  14, 261,\n",
      "          4, 188,  15, 332,  50,  38, 262,  66,  99, 199, 340, 202, 150, 338,\n",
      "         62, 275, 286,  16, 363,  21, 244, 353, 369, 381,  28, 256,  51, 311,\n",
      "        302,  56, 362, 324,  12, 307, 158, 355,  55, 133,  44,  61,   5, 253,\n",
      "        371,  82,  26,  73, 177, 304, 161,  24, 296,  18]), 'in_features': 192, 'out_features': 100}\n"
     ]
    },
    {
     "name": "stderr",
     "output_type": "stream",
     "text": [
      "LOCAL_RANK: 0 - CUDA_VISIBLE_DEVICES: [0,1,2,3,4,5,6,7]\n"
     ]
    },
    {
     "data": {
      "application/vnd.jupyter.widget-view+json": {
       "model_id": "9294cbd4f43b4716bc2952e2680c12da",
       "version_major": 2,
       "version_minor": 0
      },
      "text/plain": [
       "Predicting: 0it [00:00, ?it/s]"
      ]
     },
     "metadata": {},
     "output_type": "display_data"
    },
    {
     "name": "stderr",
     "output_type": "stream",
     "text": [
      "Global seed set to 2\n",
      "Global seed set to 8\n",
      "GPU available: True, used: True\n",
      "TPU available: False, using: 0 TPU cores\n",
      "IPU available: False, using: 0 IPUs\n",
      "Global seed set to 0\n"
     ]
    },
    {
     "name": "stdout",
     "output_type": "stream",
     "text": [
      "{'training': True, '_parameters': OrderedDict(), '_buffers': OrderedDict(), '_non_persistent_buffers_set': set(), '_backward_hooks': OrderedDict(), '_is_full_backward_hook': None, '_forward_hooks': OrderedDict(), '_forward_pre_hooks': OrderedDict(), '_state_dict_hooks': OrderedDict(), '_load_state_dict_pre_hooks': OrderedDict(), '_load_state_dict_post_hooks': OrderedDict(), '_modules': OrderedDict([('linear', Linear(in_features=192, out_features=100, bias=True))]), 'neuron_indices': tensor([195, 178, 363, 219, 321,  52, 274, 351, 280, 295, 150, 118, 205, 257,\n",
      "        211, 172, 330, 256, 332, 309, 153, 158, 329, 267, 306,  74, 354, 188,\n",
      "        342,  58, 180,   4, 115, 223,  39,  24, 235,  83, 174, 346,  82, 359,\n",
      "        250, 122, 105,  64, 130, 114, 347, 191, 360,  99, 207, 284, 128, 131,\n",
      "         18, 246,  79, 243, 112, 209, 217, 173, 266, 189, 123,  45, 290,  38,\n",
      "        291, 230, 212, 265, 132,  15,  75, 186, 181, 192, 277, 228, 208, 272,\n",
      "        378,  98, 136, 165,  43, 251, 129,  11, 299,  93,  14,  20, 167, 229,\n",
      "        141,  94,  77,  40, 137,  12, 120, 170,  88, 327,  67, 364, 213, 183,\n",
      "        196, 146, 127,   3, 324,   7, 349, 301, 352,  60,   2, 221, 145,  21,\n",
      "        177, 175, 203, 147, 148,  33, 264,  29,  96, 179, 383,  78, 371, 227,\n",
      "        348, 138,  55,   5, 252, 312, 139,  61, 107,  97, 345,  32, 163, 247,\n",
      "        353, 322, 108, 263, 104, 234, 339, 185, 314, 379, 161,  13,  34,  73,\n",
      "        197, 381, 160, 285, 377, 278, 155,  59,  56, 238,  72, 162, 296, 259,\n",
      "        298,  62, 335, 224, 194, 268, 305, 166, 262,  41]), 'in_features': 192, 'out_features': 100}\n"
     ]
    },
    {
     "name": "stderr",
     "output_type": "stream",
     "text": [
      "LOCAL_RANK: 0 - CUDA_VISIBLE_DEVICES: [0,1,2,3,4,5,6,7]\n"
     ]
    },
    {
     "data": {
      "application/vnd.jupyter.widget-view+json": {
       "model_id": "0b1ccc9663c545d1823208ab30794bf3",
       "version_major": 2,
       "version_minor": 0
      },
      "text/plain": [
       "Predicting: 0it [00:00, ?it/s]"
      ]
     },
     "metadata": {},
     "output_type": "display_data"
    },
    {
     "name": "stderr",
     "output_type": "stream",
     "text": [
      "Global seed set to 2\n",
      "Global seed set to 9\n",
      "GPU available: True, used: True\n",
      "TPU available: False, using: 0 TPU cores\n",
      "IPU available: False, using: 0 IPUs\n",
      "Global seed set to 0\n"
     ]
    },
    {
     "name": "stdout",
     "output_type": "stream",
     "text": [
      "{'training': True, '_parameters': OrderedDict(), '_buffers': OrderedDict(), '_non_persistent_buffers_set': set(), '_backward_hooks': OrderedDict(), '_is_full_backward_hook': None, '_forward_hooks': OrderedDict(), '_forward_pre_hooks': OrderedDict(), '_state_dict_hooks': OrderedDict(), '_load_state_dict_pre_hooks': OrderedDict(), '_load_state_dict_post_hooks': OrderedDict(), '_modules': OrderedDict([('linear', Linear(in_features=192, out_features=100, bias=True))]), 'neuron_indices': tensor([382, 379, 274, 284, 106,  74, 247,  48, 197, 110, 142, 342, 279,  24,\n",
      "        130,  86,  88, 301, 113, 140, 137, 369, 254, 343, 310, 174, 282, 258,\n",
      "        216, 209, 146,   0,  92, 129, 294,  40, 126, 243, 111,  41, 187,  29,\n",
      "        205, 285, 198, 250,  65,  22, 280, 101, 123, 231,  21, 210, 336, 241,\n",
      "        117, 360,  15,  13, 102, 375, 118, 116, 232, 299, 263, 176, 292, 268,\n",
      "         98, 217, 168,  97, 124, 311, 181, 370, 240, 335,  25, 361, 230, 321,\n",
      "        244,  44,  23, 252, 317, 156, 166, 363, 173,  76, 201,  49, 271,  66,\n",
      "        236, 155, 242, 128,  18, 214, 218, 281, 324, 338, 229,  12, 290, 354,\n",
      "        163,  60,   1, 189,  36, 302, 188, 171, 376, 350,  95, 141,  42, 264,\n",
      "        323, 368, 107, 341,  17, 295, 277, 332, 238, 136,  11,   7, 345, 223,\n",
      "        103,  84,   8, 348,  54, 326,  81,  56,  46, 104,  26, 346, 372, 135,\n",
      "         83, 147, 246, 122, 172, 115, 204, 325, 228, 234,   3, 180, 200, 257,\n",
      "        322, 178, 320, 373, 367, 291, 253,   2,  52, 220, 340, 207,  50, 286,\n",
      "          6, 380, 344, 121, 203,  31,  45, 377, 356,  75]), 'in_features': 192, 'out_features': 100}\n"
     ]
    },
    {
     "name": "stderr",
     "output_type": "stream",
     "text": [
      "LOCAL_RANK: 0 - CUDA_VISIBLE_DEVICES: [0,1,2,3,4,5,6,7]\n"
     ]
    },
    {
     "data": {
      "application/vnd.jupyter.widget-view+json": {
       "model_id": "c01eff79c6b3455ea6a43c9b68d0277b",
       "version_major": 2,
       "version_minor": 0
      },
      "text/plain": [
       "Predicting: 0it [00:00, ?it/s]"
      ]
     },
     "metadata": {},
     "output_type": "display_data"
    },
    {
     "name": "stderr",
     "output_type": "stream",
     "text": [
      "Global seed set to 2\n",
      "Global seed set to 1\n",
      "GPU available: True, used: True\n",
      "TPU available: False, using: 0 TPU cores\n",
      "IPU available: False, using: 0 IPUs\n",
      "Global seed set to 0\n"
     ]
    },
    {
     "name": "stdout",
     "output_type": "stream",
     "text": [
      "{'training': True, '_parameters': OrderedDict(), '_buffers': OrderedDict(), '_non_persistent_buffers_set': set(), '_backward_hooks': OrderedDict(), '_is_full_backward_hook': None, '_forward_hooks': OrderedDict(), '_forward_pre_hooks': OrderedDict(), '_state_dict_hooks': OrderedDict(), '_load_state_dict_pre_hooks': OrderedDict(), '_load_state_dict_post_hooks': OrderedDict(), '_modules': OrderedDict([('linear', Linear(in_features=345, out_features=100, bias=True))]), 'neuron_indices': tensor([ 37,  88, 258, 104, 307, 131, 251, 113,  31,  66, 162, 117, 364, 158,\n",
      "        277,  69, 198, 329, 194,  50, 142,  84, 166, 340, 147,  77,  92, 176,\n",
      "         49, 153,  38,  73,  87,  57,  71,  16, 359,  61, 172,  89,  11, 196,\n",
      "        227, 366,   4, 291,  96,  48, 257, 298, 140, 306,  56, 363,  75, 209,\n",
      "        255, 122,  45, 217,  28, 326, 111, 116,  14, 107, 325, 102, 216, 112,\n",
      "         42, 375, 188, 128,  86, 315, 249, 316,   5, 339, 175,   2, 352, 301,\n",
      "        259, 346, 205,  60, 378, 238, 266, 334,  74, 342, 267, 213,  34, 114,\n",
      "        354, 256, 361, 327, 219, 228, 200, 138, 134, 157, 101, 106, 179,  22,\n",
      "        185, 207, 223, 168, 382, 136, 358,  79, 376, 253, 119, 296,  29, 304,\n",
      "        265, 271, 120, 270, 357, 149, 144, 273, 262, 155, 252, 130, 261, 218,\n",
      "        135,  82, 103, 246, 204,  13, 310, 245, 208, 279, 303, 248, 292, 150,\n",
      "          8, 350, 370, 141, 177, 241, 311, 178, 335, 377, 333, 244, 190, 380,\n",
      "        165, 313, 132, 110, 206, 202, 381, 365, 322,  43, 233, 353, 232, 146,\n",
      "         95,  94, 282, 349, 170,  78,   1, 234,  85, 371, 108,  36, 186, 264,\n",
      "        235, 269,   6, 345, 212,  90, 276, 318,  15, 193, 192, 199,  55, 197,\n",
      "         27, 215,  20, 368, 309, 118,  47, 239, 148,  30, 297, 321,  33, 195,\n",
      "        145, 243,  40, 127, 187, 289,   7, 115, 379,  41, 250, 224, 169,  44,\n",
      "        160, 182,  24,  81, 247, 383,  76, 367, 139,  51, 230, 308, 317, 263,\n",
      "        125,  64, 236, 338, 272, 281, 161,  83, 180, 331,  12, 285,  19, 156,\n",
      "         10, 355,  58, 183,  68, 240, 229, 280, 372, 341, 348,  98,  91, 356,\n",
      "        300,  52, 129, 260, 324, 320,  63, 362,  21, 214, 231, 283, 290, 123,\n",
      "        121, 154, 369, 294,   0, 210,  65, 242, 302, 330, 332,  26,   3, 137,\n",
      "        299,  18, 189, 275, 220, 287, 278,  93, 191,  59, 221, 143, 167, 225,\n",
      "        336, 351, 133,  46, 343,  32, 284, 211, 305,  53, 374, 268, 100, 171,\n",
      "         70,  62, 203, 105, 109,  72,  17,  99, 360]), 'in_features': 345, 'out_features': 100}\n"
     ]
    },
    {
     "name": "stderr",
     "output_type": "stream",
     "text": [
      "LOCAL_RANK: 0 - CUDA_VISIBLE_DEVICES: [0,1,2,3,4,5,6,7]\n"
     ]
    },
    {
     "data": {
      "application/vnd.jupyter.widget-view+json": {
       "model_id": "b0b3e28a13e64cd787c020b198430f25",
       "version_major": 2,
       "version_minor": 0
      },
      "text/plain": [
       "Predicting: 0it [00:00, ?it/s]"
      ]
     },
     "metadata": {},
     "output_type": "display_data"
    },
    {
     "name": "stderr",
     "output_type": "stream",
     "text": [
      "Global seed set to 2\n",
      "Global seed set to 2\n",
      "GPU available: True, used: True\n",
      "TPU available: False, using: 0 TPU cores\n",
      "IPU available: False, using: 0 IPUs\n",
      "Global seed set to 0\n"
     ]
    },
    {
     "name": "stdout",
     "output_type": "stream",
     "text": [
      "{'training': True, '_parameters': OrderedDict(), '_buffers': OrderedDict(), '_non_persistent_buffers_set': set(), '_backward_hooks': OrderedDict(), '_is_full_backward_hook': None, '_forward_hooks': OrderedDict(), '_forward_pre_hooks': OrderedDict(), '_state_dict_hooks': OrderedDict(), '_load_state_dict_pre_hooks': OrderedDict(), '_load_state_dict_post_hooks': OrderedDict(), '_modules': OrderedDict([('linear', Linear(in_features=345, out_features=100, bias=True))]), 'neuron_indices': tensor([168,   9,  67, 159,  62, 235,  96, 153,  72, 270,  32, 122, 215, 213,\n",
      "        249, 269, 287,  81, 368,  89,   8, 309,  49, 250, 115, 329, 356, 231,\n",
      "        195,  82, 341,  63, 330,  47, 350, 187, 191, 150, 101, 359, 172, 298,\n",
      "        376, 322,  24, 259, 313, 183, 128,  11, 194, 158,  10, 278, 282,  35,\n",
      "        167,  21, 241, 306, 234,  19, 198, 379,  23,  31, 137, 240,  84, 106,\n",
      "        211,  25, 176, 267, 141, 197, 129, 177, 188, 133,  22, 175, 371, 160,\n",
      "        147, 138, 178,  56,   0, 347, 248, 360, 292, 181, 320,  66, 214, 236,\n",
      "        124, 185, 262,  34,  38, 381, 353, 348, 134, 143, 189, 130, 331,   2,\n",
      "        357,  86, 300, 316,  59, 154, 340, 302, 244,  46,  80, 212,   4, 280,\n",
      "         68, 291, 144,  28, 277, 105, 237, 354, 295, 336, 135, 246, 170,  42,\n",
      "         73,  45,  99, 373, 132, 200,  75, 311,  36, 247, 370, 192, 294,  33,\n",
      "        335, 276, 182,  97, 209,  27, 254,  53, 264, 382,  40, 127, 261, 374,\n",
      "         87, 268, 265, 257, 173,  64, 216, 118, 239,  79,   1, 312,  70, 343,\n",
      "        344, 326, 163, 363, 142, 169, 242, 273,   6, 342, 224,  69, 114, 120,\n",
      "        140, 369, 266, 220, 116, 196, 225, 108, 203, 232, 110, 112, 174, 145,\n",
      "         43, 293, 251, 243, 339, 157, 349, 230, 204, 210, 328, 226, 310, 337,\n",
      "        378,  93,   3, 303, 279, 380, 274, 219,  90, 162, 334, 165, 327,  88,\n",
      "        190, 221, 245, 372, 206,  52, 362, 148,  94, 289,  61, 229, 366, 184,\n",
      "        260,  76, 207, 171, 233, 275, 296, 152, 180, 308, 186, 288,   5,  39,\n",
      "         17, 253, 325,  15, 272,  95, 301, 258,  48,  44,  30, 125, 149, 263,\n",
      "        333, 304,  92, 365, 338, 222, 323,  71, 377, 332,  60, 351, 345, 256,\n",
      "        358, 283, 111, 299,  12, 126, 109,  13, 103, 161, 146, 252, 367, 290,\n",
      "        104,  20, 139, 155, 285, 281, 314,  54, 166, 117, 297, 202, 318, 136,\n",
      "         78, 238,  26, 228, 355, 271,  65, 123, 131, 383,  74, 208, 352,  83,\n",
      "        305,  91, 100, 164, 319,  50,  85,  16,  29]), 'in_features': 345, 'out_features': 100}\n"
     ]
    },
    {
     "name": "stderr",
     "output_type": "stream",
     "text": [
      "LOCAL_RANK: 0 - CUDA_VISIBLE_DEVICES: [0,1,2,3,4,5,6,7]\n"
     ]
    },
    {
     "data": {
      "application/vnd.jupyter.widget-view+json": {
       "model_id": "249e9a4e64e244729221cc948bdaa4d2",
       "version_major": 2,
       "version_minor": 0
      },
      "text/plain": [
       "Predicting: 0it [00:00, ?it/s]"
      ]
     },
     "metadata": {},
     "output_type": "display_data"
    },
    {
     "name": "stderr",
     "output_type": "stream",
     "text": [
      "Global seed set to 2\n",
      "Global seed set to 3\n",
      "GPU available: True, used: True\n",
      "TPU available: False, using: 0 TPU cores\n",
      "IPU available: False, using: 0 IPUs\n",
      "Global seed set to 0\n"
     ]
    },
    {
     "name": "stdout",
     "output_type": "stream",
     "text": [
      "{'training': True, '_parameters': OrderedDict(), '_buffers': OrderedDict(), '_non_persistent_buffers_set': set(), '_backward_hooks': OrderedDict(), '_is_full_backward_hook': None, '_forward_hooks': OrderedDict(), '_forward_pre_hooks': OrderedDict(), '_state_dict_hooks': OrderedDict(), '_load_state_dict_pre_hooks': OrderedDict(), '_load_state_dict_post_hooks': OrderedDict(), '_modules': OrderedDict([('linear', Linear(in_features=345, out_features=100, bias=True))]), 'neuron_indices': tensor([106, 302, 345, 306,  44,  25, 246, 165, 173, 373,  62, 354,  89,  61,\n",
      "        170, 154, 119, 223,  26, 158,  96,  50, 333, 210,  20,  13,  51,  60,\n",
      "        150, 174,  42, 362, 252, 379, 303,  66,   8, 254, 136, 315, 253, 204,\n",
      "         74, 356, 218, 321, 378, 102, 273, 380, 293, 208, 157, 290,   4,  19,\n",
      "        277, 346,  82, 221, 244, 180, 278, 312, 128, 141,  49, 310, 327, 274,\n",
      "        194,  88, 287,  21, 371, 212,  45, 259, 133, 134, 181, 366,  47, 152,\n",
      "        296,  87, 313,  14, 360, 269,  32, 160, 108,  56,  94, 351,  16, 265,\n",
      "        151, 178, 129, 182, 226,   1, 249,  78, 131, 115,  37, 144, 124, 209,\n",
      "         31, 355, 368, 149, 211, 361, 166, 242, 228, 109,   7, 279,  76, 230,\n",
      "        168, 304,  52, 267,  85,  84, 281, 308, 383, 113, 127, 261, 291, 234,\n",
      "         57,  79,   6, 282, 260, 205, 268, 146, 247, 288, 139, 266, 295, 138,\n",
      "         39, 143, 377, 344, 382,  33,  69, 190, 126, 217,  15, 207,  63, 185,\n",
      "        206,  73, 325,  35, 305, 326,  34, 105, 300,  72, 322, 375, 243, 363,\n",
      "          2, 186, 236, 317,  58, 193, 107, 231,  91, 220, 140, 350, 238, 184,\n",
      "        348, 365,  83, 222,   3, 370, 257,   5, 237,  68,  92, 256, 316, 198,\n",
      "         77, 169, 284, 343, 352,  17, 191,  65,  18, 179, 337, 328, 214, 175,\n",
      "        374, 163, 121,   0, 240, 301, 224,  75,  54, 324, 216, 130, 335, 203,\n",
      "        219, 132, 297, 372, 329, 381, 100, 263, 289, 286,  70,  23,  48, 213,\n",
      "        116, 319, 118, 167, 232, 137, 340,  10,  99, 320, 349,  97, 177, 307,\n",
      "         81,  53, 323, 229, 188, 314, 135,  64,  67, 111, 270, 145, 250, 164,\n",
      "        369, 187, 264, 156,  71, 200,  40,  43, 376, 233,  80, 125, 283,  36,\n",
      "        367, 176,  11, 114,  27, 195, 248, 227, 103,   9, 347, 197, 309, 147,\n",
      "        341,  41, 359, 255, 241, 299, 189, 298, 159, 120, 336, 276, 342, 285,\n",
      "        239, 353, 183, 104, 357, 171, 318, 272, 202, 196, 153,  55, 199, 117,\n",
      "         12,  95, 225, 280, 112, 358, 364,  59, 258]), 'in_features': 345, 'out_features': 100}\n"
     ]
    },
    {
     "name": "stderr",
     "output_type": "stream",
     "text": [
      "LOCAL_RANK: 0 - CUDA_VISIBLE_DEVICES: [0,1,2,3,4,5,6,7]\n"
     ]
    },
    {
     "data": {
      "application/vnd.jupyter.widget-view+json": {
       "model_id": "6d1cbcecb6ce44c0a6adab7d946e9d5c",
       "version_major": 2,
       "version_minor": 0
      },
      "text/plain": [
       "Predicting: 0it [00:00, ?it/s]"
      ]
     },
     "metadata": {},
     "output_type": "display_data"
    },
    {
     "name": "stderr",
     "output_type": "stream",
     "text": [
      "Global seed set to 2\n",
      "Global seed set to 4\n",
      "GPU available: True, used: True\n",
      "TPU available: False, using: 0 TPU cores\n",
      "IPU available: False, using: 0 IPUs\n",
      "Global seed set to 0\n"
     ]
    },
    {
     "name": "stdout",
     "output_type": "stream",
     "text": [
      "{'training': True, '_parameters': OrderedDict(), '_buffers': OrderedDict(), '_non_persistent_buffers_set': set(), '_backward_hooks': OrderedDict(), '_is_full_backward_hook': None, '_forward_hooks': OrderedDict(), '_forward_pre_hooks': OrderedDict(), '_state_dict_hooks': OrderedDict(), '_load_state_dict_pre_hooks': OrderedDict(), '_load_state_dict_post_hooks': OrderedDict(), '_modules': OrderedDict([('linear', Linear(in_features=345, out_features=100, bias=True))]), 'neuron_indices': tensor([250, 172, 245, 263,  73,  12, 239,   0, 234, 120, 266, 204,  47, 302,\n",
      "        364, 328,  71, 145, 336,  61, 118, 155, 212, 194, 146, 301, 139,   2,\n",
      "         95,  19,  93, 299, 326, 111, 298, 277, 106,  45, 339, 243, 144, 193,\n",
      "        158,  75,  16,  98, 188,  99, 170, 166, 261, 207, 214, 138, 310, 143,\n",
      "        186, 199, 121, 296, 167,  29,  30, 284, 337, 137,  83, 156, 109, 101,\n",
      "        270, 373, 103, 291, 350, 286, 107, 190, 122,  25, 215,  11, 244, 316,\n",
      "        223, 153, 340, 348, 281, 334,  44, 187, 195, 119, 247,  13,  51, 136,\n",
      "        285, 295, 203, 254, 162, 159,  50, 279, 275,  17, 141, 365,  72,  81,\n",
      "        366,  74, 210, 347,  46, 382, 375,  89,  85, 331, 309, 221, 233, 361,\n",
      "        306, 274, 315, 335, 258, 248, 370, 381, 240,  67, 352, 180,   3, 353,\n",
      "         24, 317,  49,  86, 209, 369,  21, 362, 371, 264, 321,  41, 333, 259,\n",
      "         54, 154,  60, 341,  87, 325, 319, 230, 197, 229, 383,  53, 147,  32,\n",
      "        129,   4, 205, 297, 114, 293,  52,  37,  96, 150,  94, 183, 189,  42,\n",
      "        378, 260, 330, 265,  34, 338, 165, 322, 273, 228, 342, 311, 123, 288,\n",
      "          9,  76,  10, 343,  62, 201, 355, 226, 324, 225, 363, 249,  35, 169,\n",
      "        327, 135, 379, 115, 377, 380, 280,  80,  23,  18, 149,   1, 294,   6,\n",
      "        368, 211,  70, 196, 157, 102, 238,  56, 236, 356,  26, 151, 268, 323,\n",
      "          8, 262, 231,  88, 318, 222, 303, 346, 359, 140, 163, 128, 126, 130,\n",
      "         66, 253, 314, 241, 282,  65, 252, 242, 269, 351,  77, 320,  84,  39,\n",
      "        367, 312, 168, 374,  48, 360, 217, 308, 278, 161, 108, 227, 176, 200,\n",
      "        171, 185, 208, 292, 174, 246,  68, 304, 313,   7, 132, 251,  14,   5,\n",
      "        232, 142,  33, 376, 113,  27,  91,  63, 131, 256, 160,  78,  55, 271,\n",
      "        345,  38, 213, 267, 152, 357, 105, 192,  59,  64, 287, 224,  40, 372,\n",
      "         92,  22,  31, 177, 358, 305,  69, 178,  90,  20, 220,  79, 175, 289,\n",
      "        354,  97, 283, 182, 235, 110, 202, 219,  82]), 'in_features': 345, 'out_features': 100}\n"
     ]
    },
    {
     "name": "stderr",
     "output_type": "stream",
     "text": [
      "LOCAL_RANK: 0 - CUDA_VISIBLE_DEVICES: [0,1,2,3,4,5,6,7]\n"
     ]
    },
    {
     "data": {
      "application/vnd.jupyter.widget-view+json": {
       "model_id": "a9778f2f9b004c7fa59cb68c9abe28f9",
       "version_major": 2,
       "version_minor": 0
      },
      "text/plain": [
       "Predicting: 0it [00:00, ?it/s]"
      ]
     },
     "metadata": {},
     "output_type": "display_data"
    },
    {
     "name": "stderr",
     "output_type": "stream",
     "text": [
      "Global seed set to 2\n",
      "Global seed set to 5\n",
      "GPU available: True, used: True\n",
      "TPU available: False, using: 0 TPU cores\n",
      "IPU available: False, using: 0 IPUs\n",
      "Global seed set to 0\n"
     ]
    },
    {
     "name": "stdout",
     "output_type": "stream",
     "text": [
      "{'training': True, '_parameters': OrderedDict(), '_buffers': OrderedDict(), '_non_persistent_buffers_set': set(), '_backward_hooks': OrderedDict(), '_is_full_backward_hook': None, '_forward_hooks': OrderedDict(), '_forward_pre_hooks': OrderedDict(), '_state_dict_hooks': OrderedDict(), '_load_state_dict_pre_hooks': OrderedDict(), '_load_state_dict_post_hooks': OrderedDict(), '_modules': OrderedDict([('linear', Linear(in_features=345, out_features=100, bias=True))]), 'neuron_indices': tensor([227, 245, 139,   9, 250,  75,  70, 239,  80, 163, 325,  83,  95, 365,\n",
      "        112,   5, 119, 155, 269, 323, 149, 138,  90,  33,  68, 381, 279, 135,\n",
      "        183, 335, 126, 125, 349, 162,  64,  81, 157, 327, 331, 343,  54, 371,\n",
      "        240, 263, 104,  38, 127, 151,  14,  59,  92,   7, 148, 196, 173, 124,\n",
      "        311, 350,  55,  40, 225, 176,  47, 290, 369, 313,   3, 272, 376, 216,\n",
      "        118,  63, 379, 107, 211,  17,  97, 332,  15, 178, 366, 302, 355, 374,\n",
      "        193,  72, 303, 258, 182, 288,  11, 131, 281,   6,   2, 244, 165, 218,\n",
      "         74,  57, 164,  41, 340,  60, 136, 330,  87, 123, 324, 383,  93,  44,\n",
      "        174, 122, 232, 301,  66, 344, 219, 358, 117, 237, 378, 372, 254, 308,\n",
      "        342,  42, 261,  16, 168, 106, 201, 270, 274, 188,  18,  25,  76, 278,\n",
      "        200, 364, 141, 137,  51, 111, 347, 382, 156, 169, 160, 293,  12, 326,\n",
      "         86, 305, 304, 235,   8, 300, 101, 116,  45, 191,  28,  39,  89, 233,\n",
      "        251, 184, 197, 128, 284,  88,  32, 309, 380, 214, 228, 109, 319, 192,\n",
      "        159, 181, 338,  61,  29, 129, 328, 217, 180, 317,  43, 199, 147, 276,\n",
      "        360, 292, 166, 370, 280, 236,  26,  27,  48,  62, 187, 143, 110, 260,\n",
      "        195, 373, 177, 357, 273, 204, 277,  13, 267,  53,  21, 356, 153, 375,\n",
      "         94,  20, 133, 130, 115, 367, 255, 186, 248, 210, 287, 121, 256, 310,\n",
      "        259, 234, 108,  37, 285, 105,  69, 299,  31, 346, 282, 213, 190, 362,\n",
      "        286,  52, 377, 152, 103,  65, 297, 189, 265, 209,  46, 295,  22, 345,\n",
      "        354, 253, 252, 306,  79, 230, 339, 264, 294, 145, 238, 158, 208, 142,\n",
      "        242, 266, 220, 246, 198,  85, 296, 120, 271,  34, 226,  99, 289, 314,\n",
      "         67, 146, 348, 134,   1, 150, 241, 202, 170, 307,  82, 322, 247, 206,\n",
      "         10, 337, 243, 212, 351, 298, 114,  50,  49, 257, 341,  24, 100,  73,\n",
      "        229,  56, 320, 361, 175, 171, 249, 368, 353, 102, 291, 223, 336,  35,\n",
      "         30,  84, 224, 268,  98, 172,  77, 316, 132]), 'in_features': 345, 'out_features': 100}\n"
     ]
    },
    {
     "name": "stderr",
     "output_type": "stream",
     "text": [
      "LOCAL_RANK: 0 - CUDA_VISIBLE_DEVICES: [0,1,2,3,4,5,6,7]\n"
     ]
    },
    {
     "data": {
      "application/vnd.jupyter.widget-view+json": {
       "model_id": "04acc12efeb5401b9f1b7ba43ca7ffd4",
       "version_major": 2,
       "version_minor": 0
      },
      "text/plain": [
       "Predicting: 0it [00:00, ?it/s]"
      ]
     },
     "metadata": {},
     "output_type": "display_data"
    },
    {
     "name": "stderr",
     "output_type": "stream",
     "text": [
      "Global seed set to 2\n",
      "Global seed set to 6\n",
      "GPU available: True, used: True\n",
      "TPU available: False, using: 0 TPU cores\n",
      "IPU available: False, using: 0 IPUs\n",
      "Global seed set to 0\n"
     ]
    },
    {
     "name": "stdout",
     "output_type": "stream",
     "text": [
      "{'training': True, '_parameters': OrderedDict(), '_buffers': OrderedDict(), '_non_persistent_buffers_set': set(), '_backward_hooks': OrderedDict(), '_is_full_backward_hook': None, '_forward_hooks': OrderedDict(), '_forward_pre_hooks': OrderedDict(), '_state_dict_hooks': OrderedDict(), '_load_state_dict_pre_hooks': OrderedDict(), '_load_state_dict_post_hooks': OrderedDict(), '_modules': OrderedDict([('linear', Linear(in_features=345, out_features=100, bias=True))]), 'neuron_indices': tensor([266, 315, 283, 323, 218, 318, 215, 111,  48, 192, 187, 174,  67, 213,\n",
      "        351, 344, 319, 324, 334, 188, 264,  66, 178, 316,  76, 248, 191, 309,\n",
      "         62, 276,   7, 232, 143, 342,  86, 340, 287, 124, 311, 242, 156, 105,\n",
      "        172, 120, 206, 281, 382, 271, 195, 303, 154,  97,   6, 223, 297,  54,\n",
      "         22, 268, 217, 259, 113,  31,  43,  10,  16, 236, 161, 175, 339, 220,\n",
      "         94, 190, 214, 249, 225, 196, 136, 169,  88, 198, 135, 346, 291, 122,\n",
      "        265, 130, 238, 374, 257, 193, 173,  47, 301, 100, 189, 308,  78, 314,\n",
      "        180, 321, 137, 171, 210, 350,  55, 176, 237,  45, 126, 373,  12, 302,\n",
      "         83,  38, 205, 110, 234,  71, 290, 125, 369, 293, 239, 371, 360, 349,\n",
      "         25, 230,  51,  80, 102, 337, 227,  27, 284,  82, 128,  26, 129, 273,\n",
      "        167, 263, 304, 296, 222,  29, 103,  84,  99, 224, 336,  21,  28,  58,\n",
      "        277,  18,  60, 362, 166, 123,  15, 327,  61, 294, 112, 279,  41,  98,\n",
      "        380, 285, 250, 357,  36, 300,  19, 157, 150,  23,  72, 109,  64, 378,\n",
      "        162, 170,   2, 278,  49, 228, 229, 158, 353, 146, 184, 199,  70, 368,\n",
      "        275, 114, 365, 352, 221, 331, 145, 381, 355,  57, 262, 152, 107, 241,\n",
      "        197, 313,  91, 288, 131, 163, 164,  40,  53, 246, 255, 231,  24,  75,\n",
      "          3,  50, 118, 317, 207,  92, 286, 204, 219, 117,  69, 144, 211, 155,\n",
      "        370, 116,  73, 260, 383, 142, 348,  20, 183, 328,  52, 101,  17, 108,\n",
      "         74,  95,  65, 181,  96, 280, 159,  56, 133, 345, 208,  13, 310, 186,\n",
      "        366, 177,  85, 201, 106,  46, 338, 185,  59, 115, 282, 243,   0,  34,\n",
      "        361,  33, 322, 375,  81, 356, 306, 298, 320, 127, 216, 343, 226,  89,\n",
      "        160,  63, 254, 307,  68, 134, 182, 354, 367, 165, 376, 330, 377, 235,\n",
      "         11,  37, 240,  90, 270, 202, 203,   4, 138, 132, 233, 312, 299, 119,\n",
      "        364, 148, 261, 267, 151, 179, 147, 372, 347, 272, 256, 305, 258, 335,\n",
      "        253,   8, 332, 209,   1, 168, 121,  42, 289]), 'in_features': 345, 'out_features': 100}\n"
     ]
    },
    {
     "name": "stderr",
     "output_type": "stream",
     "text": [
      "LOCAL_RANK: 0 - CUDA_VISIBLE_DEVICES: [0,1,2,3,4,5,6,7]\n"
     ]
    },
    {
     "data": {
      "application/vnd.jupyter.widget-view+json": {
       "model_id": "a948bc15de03458abb026761f43324f5",
       "version_major": 2,
       "version_minor": 0
      },
      "text/plain": [
       "Predicting: 0it [00:00, ?it/s]"
      ]
     },
     "metadata": {},
     "output_type": "display_data"
    },
    {
     "name": "stderr",
     "output_type": "stream",
     "text": [
      "Global seed set to 2\n",
      "Global seed set to 7\n",
      "GPU available: True, used: True\n",
      "TPU available: False, using: 0 TPU cores\n",
      "IPU available: False, using: 0 IPUs\n",
      "Global seed set to 0\n"
     ]
    },
    {
     "name": "stdout",
     "output_type": "stream",
     "text": [
      "{'training': True, '_parameters': OrderedDict(), '_buffers': OrderedDict(), '_non_persistent_buffers_set': set(), '_backward_hooks': OrderedDict(), '_is_full_backward_hook': None, '_forward_hooks': OrderedDict(), '_forward_pre_hooks': OrderedDict(), '_state_dict_hooks': OrderedDict(), '_load_state_dict_pre_hooks': OrderedDict(), '_load_state_dict_post_hooks': OrderedDict(), '_modules': OrderedDict([('linear', Linear(in_features=345, out_features=100, bias=True))]), 'neuron_indices': tensor([303, 204, 193, 254,  87, 153, 257, 298, 132,  20, 184, 156, 368, 175,\n",
      "        376, 208,  42, 190, 309,  47, 260, 115,   2, 122, 292, 315, 359,  37,\n",
      "        342,  57, 219, 129, 108, 142, 239, 196, 180, 247,  69, 299,  30, 370,\n",
      "        366, 310,  96,  41, 206, 258, 164, 131, 159, 125, 231,   6, 264, 222,\n",
      "        176, 382, 140,  91, 154, 117, 245, 107, 284, 227,  67, 347, 350, 173,\n",
      "        139, 112, 293,  93, 241,   7, 375, 263, 251, 182, 163, 283, 277, 365,\n",
      "        195,  48,  34,  77,   1,  32, 237,  49,  45, 246, 351,  74, 285, 249,\n",
      "        111, 146, 130,  92, 148, 157, 373,  31, 155, 137,  33, 228, 226, 200,\n",
      "        141, 143, 289, 230, 102, 218, 232, 162, 364, 194,  80, 295, 243,  29,\n",
      "        105, 113,   8, 149, 166, 367, 282, 326, 345,  90, 343, 233,  14, 261,\n",
      "          4, 188,  15, 332,  50,  38, 262,  66,  99, 199, 340, 202, 150, 338,\n",
      "         62, 275, 286,  16, 363,  21, 244, 353, 369, 381,  28, 256,  51, 311,\n",
      "        302,  56, 362, 324,  12, 307, 158, 355,  55, 133,  44,  61,   5, 253,\n",
      "        371,  82,  26,  73, 177, 304, 161,  24, 296,  18,  59,  83, 357, 330,\n",
      "         95, 160,  70, 183, 305, 187, 197, 179, 178, 306, 167, 212, 331, 281,\n",
      "         64,  76,  86,  53,  46, 110, 120, 225, 352, 317, 269, 214,  13, 201,\n",
      "          0, 242, 123, 100, 267, 328, 171, 319, 109,  65, 138,  98, 271, 174,\n",
      "         52, 136, 229,  84, 121, 358, 265, 312, 372, 224, 128, 378, 316,  75,\n",
      "         19, 344,  81, 191, 220, 383,  88, 234, 221, 336, 189,  17, 377,  43,\n",
      "        334, 205, 361, 346, 126, 124, 223,  78,  97,  94, 151, 314, 278, 318,\n",
      "        250, 101, 325, 165, 240,   9,  36,  35,  79,  25, 186, 213, 169, 172,\n",
      "        337, 210, 354, 266, 300, 327, 127, 215,  54, 276, 360,  39, 290,  27,\n",
      "        135, 329, 134, 211, 168, 104, 144, 288, 181,  71, 379,  63, 308, 321,\n",
      "        320, 323, 374, 335, 287, 118, 207, 341,  68, 116, 103, 203, 297,  23,\n",
      "        106,  22, 380, 235, 322, 209, 248, 119, 147]), 'in_features': 345, 'out_features': 100}\n"
     ]
    },
    {
     "name": "stderr",
     "output_type": "stream",
     "text": [
      "LOCAL_RANK: 0 - CUDA_VISIBLE_DEVICES: [0,1,2,3,4,5,6,7]\n"
     ]
    },
    {
     "data": {
      "application/vnd.jupyter.widget-view+json": {
       "model_id": "36b163579dd446838902b4aa6fb12d9b",
       "version_major": 2,
       "version_minor": 0
      },
      "text/plain": [
       "Predicting: 0it [00:00, ?it/s]"
      ]
     },
     "metadata": {},
     "output_type": "display_data"
    },
    {
     "name": "stderr",
     "output_type": "stream",
     "text": [
      "Global seed set to 2\n",
      "Global seed set to 8\n",
      "GPU available: True, used: True\n",
      "TPU available: False, using: 0 TPU cores\n",
      "IPU available: False, using: 0 IPUs\n",
      "Global seed set to 0\n"
     ]
    },
    {
     "name": "stdout",
     "output_type": "stream",
     "text": [
      "{'training': True, '_parameters': OrderedDict(), '_buffers': OrderedDict(), '_non_persistent_buffers_set': set(), '_backward_hooks': OrderedDict(), '_is_full_backward_hook': None, '_forward_hooks': OrderedDict(), '_forward_pre_hooks': OrderedDict(), '_state_dict_hooks': OrderedDict(), '_load_state_dict_pre_hooks': OrderedDict(), '_load_state_dict_post_hooks': OrderedDict(), '_modules': OrderedDict([('linear', Linear(in_features=345, out_features=100, bias=True))]), 'neuron_indices': tensor([195, 178, 363, 219, 321,  52, 274, 351, 280, 295, 150, 118, 205, 257,\n",
      "        211, 172, 330, 256, 332, 309, 153, 158, 329, 267, 306,  74, 354, 188,\n",
      "        342,  58, 180,   4, 115, 223,  39,  24, 235,  83, 174, 346,  82, 359,\n",
      "        250, 122, 105,  64, 130, 114, 347, 191, 360,  99, 207, 284, 128, 131,\n",
      "         18, 246,  79, 243, 112, 209, 217, 173, 266, 189, 123,  45, 290,  38,\n",
      "        291, 230, 212, 265, 132,  15,  75, 186, 181, 192, 277, 228, 208, 272,\n",
      "        378,  98, 136, 165,  43, 251, 129,  11, 299,  93,  14,  20, 167, 229,\n",
      "        141,  94,  77,  40, 137,  12, 120, 170,  88, 327,  67, 364, 213, 183,\n",
      "        196, 146, 127,   3, 324,   7, 349, 301, 352,  60,   2, 221, 145,  21,\n",
      "        177, 175, 203, 147, 148,  33, 264,  29,  96, 179, 383,  78, 371, 227,\n",
      "        348, 138,  55,   5, 252, 312, 139,  61, 107,  97, 345,  32, 163, 247,\n",
      "        353, 322, 108, 263, 104, 234, 339, 185, 314, 379, 161,  13,  34,  73,\n",
      "        197, 381, 160, 285, 377, 278, 155,  59,  56, 238,  72, 162, 296, 259,\n",
      "        298,  62, 335, 224, 194, 268, 305, 166, 262,  41, 171, 361, 135, 241,\n",
      "         46, 260,  95,  53, 311, 176, 313, 202, 187, 233, 365, 281, 303, 319,\n",
      "         70, 376, 366, 190, 206, 159, 140, 200, 282,  71, 307, 338,  42, 373,\n",
      "         50,  17, 111, 113, 204,  36,  48, 367,  80, 255, 357,   0, 343, 308,\n",
      "        117, 154, 182, 218, 168,  84,  57, 297, 248,   9,  63,  65, 261, 125,\n",
      "         10, 254, 143,  49,  89, 318,   1, 323, 337, 258, 310, 164, 152, 222,\n",
      "         85,  66,  31,  81, 355,  27, 124, 294,  16, 271,  37, 134,  68, 119,\n",
      "         22, 216, 302, 220, 275, 276, 193,  54, 214, 340, 288, 279,  30, 142,\n",
      "        232, 226,  87, 320, 102, 350, 201, 283, 144, 199, 198,  44, 356,  51,\n",
      "        133, 109, 231, 334, 358, 244, 184, 239, 253, 317, 316, 269, 374, 249,\n",
      "         92, 215, 169, 225, 240, 362, 341, 242,  47, 151,  90, 375,  76, 157,\n",
      "          6, 372, 325, 370, 126, 292, 100, 304, 333]), 'in_features': 345, 'out_features': 100}\n"
     ]
    },
    {
     "name": "stderr",
     "output_type": "stream",
     "text": [
      "LOCAL_RANK: 0 - CUDA_VISIBLE_DEVICES: [0,1,2,3,4,5,6,7]\n"
     ]
    },
    {
     "data": {
      "application/vnd.jupyter.widget-view+json": {
       "model_id": "5f61ce89e1ff4edc9458cb067a27129d",
       "version_major": 2,
       "version_minor": 0
      },
      "text/plain": [
       "Predicting: 0it [00:00, ?it/s]"
      ]
     },
     "metadata": {},
     "output_type": "display_data"
    },
    {
     "name": "stderr",
     "output_type": "stream",
     "text": [
      "Global seed set to 2\n",
      "Global seed set to 9\n",
      "GPU available: True, used: True\n",
      "TPU available: False, using: 0 TPU cores\n",
      "IPU available: False, using: 0 IPUs\n",
      "Global seed set to 0\n"
     ]
    },
    {
     "name": "stdout",
     "output_type": "stream",
     "text": [
      "{'training': True, '_parameters': OrderedDict(), '_buffers': OrderedDict(), '_non_persistent_buffers_set': set(), '_backward_hooks': OrderedDict(), '_is_full_backward_hook': None, '_forward_hooks': OrderedDict(), '_forward_pre_hooks': OrderedDict(), '_state_dict_hooks': OrderedDict(), '_load_state_dict_pre_hooks': OrderedDict(), '_load_state_dict_post_hooks': OrderedDict(), '_modules': OrderedDict([('linear', Linear(in_features=345, out_features=100, bias=True))]), 'neuron_indices': tensor([382, 379, 274, 284, 106,  74, 247,  48, 197, 110, 142, 342, 279,  24,\n",
      "        130,  86,  88, 301, 113, 140, 137, 369, 254, 343, 310, 174, 282, 258,\n",
      "        216, 209, 146,   0,  92, 129, 294,  40, 126, 243, 111,  41, 187,  29,\n",
      "        205, 285, 198, 250,  65,  22, 280, 101, 123, 231,  21, 210, 336, 241,\n",
      "        117, 360,  15,  13, 102, 375, 118, 116, 232, 299, 263, 176, 292, 268,\n",
      "         98, 217, 168,  97, 124, 311, 181, 370, 240, 335,  25, 361, 230, 321,\n",
      "        244,  44,  23, 252, 317, 156, 166, 363, 173,  76, 201,  49, 271,  66,\n",
      "        236, 155, 242, 128,  18, 214, 218, 281, 324, 338, 229,  12, 290, 354,\n",
      "        163,  60,   1, 189,  36, 302, 188, 171, 376, 350,  95, 141,  42, 264,\n",
      "        323, 368, 107, 341,  17, 295, 277, 332, 238, 136,  11,   7, 345, 223,\n",
      "        103,  84,   8, 348,  54, 326,  81,  56,  46, 104,  26, 346, 372, 135,\n",
      "         83, 147, 246, 122, 172, 115, 204, 325, 228, 234,   3, 180, 200, 257,\n",
      "        322, 178, 320, 373, 367, 291, 253,   2,  52, 220, 340, 207,  50, 286,\n",
      "          6, 380, 344, 121, 203,  31,  45, 377, 356,  75, 144, 337, 371,  70,\n",
      "         59, 154, 237, 132, 289,  94, 192,  16, 287, 239, 199, 221, 276, 161,\n",
      "        138,  38, 273, 193, 319, 194, 266, 316, 305, 160, 183, 270, 157, 308,\n",
      "        182, 158,  93, 134,   5, 261, 313, 159,  39, 235, 248, 184, 330, 298,\n",
      "        328, 275, 351,  35, 331,  61,  34, 303, 125,  63, 365, 164,  53, 100,\n",
      "         79,  71, 329,  69, 191, 202,  89, 162,  43, 148, 333, 224,  28,  62,\n",
      "        262, 112, 265, 177, 227, 278, 255,  91, 283, 315, 170, 259, 327, 169,\n",
      "        127, 355, 150,  90,  27, 267, 256, 139,  85, 219,  33, 272,  51, 226,\n",
      "        381, 145, 190,  64,   9, 108, 105,  96, 309,  99,  20, 212, 347, 260,\n",
      "        109, 151, 119, 353, 131,  57,  58,  87, 269, 349, 358,  32, 249,   4,\n",
      "         73, 225, 152, 366,  82, 383, 312, 306,  78, 297, 318, 307, 153,  80,\n",
      "        362, 364,  30, 245,  67, 208, 185, 352, 378]), 'in_features': 345, 'out_features': 100}\n"
     ]
    },
    {
     "name": "stderr",
     "output_type": "stream",
     "text": [
      "LOCAL_RANK: 0 - CUDA_VISIBLE_DEVICES: [0,1,2,3,4,5,6,7]\n"
     ]
    },
    {
     "data": {
      "application/vnd.jupyter.widget-view+json": {
       "model_id": "acc2c4195725438d8ff6400dfbd1c99b",
       "version_major": 2,
       "version_minor": 0
      },
      "text/plain": [
       "Predicting: 0it [00:00, ?it/s]"
      ]
     },
     "metadata": {},
     "output_type": "display_data"
    },
    {
     "name": "stderr",
     "output_type": "stream",
     "text": [
      "Global seed set to 2\n",
      "Global seed set to 2\n",
      "GPU available: True, used: True\n",
      "TPU available: False, using: 0 TPU cores\n",
      "IPU available: False, using: 0 IPUs\n",
      "Global seed set to 0\n"
     ]
    },
    {
     "name": "stdout",
     "output_type": "stream",
     "text": [
      "{'training': True, '_parameters': OrderedDict(), '_buffers': OrderedDict(), '_non_persistent_buffers_set': set(), '_backward_hooks': OrderedDict(), '_is_full_backward_hook': None, '_forward_hooks': OrderedDict(), '_forward_pre_hooks': OrderedDict(), '_state_dict_hooks': OrderedDict(), '_load_state_dict_pre_hooks': OrderedDict(), '_load_state_dict_post_hooks': OrderedDict(), '_modules': OrderedDict([('linear', Linear(in_features=384, out_features=100, bias=True))]), 'neuron_indices': tensor([168,   9,  67, 159,  62, 235,  96, 153,  72, 270,  32, 122, 215, 213,\n",
      "        249, 269, 287,  81, 368,  89,   8, 309,  49, 250, 115, 329, 356, 231,\n",
      "        195,  82, 341,  63, 330,  47, 350, 187, 191, 150, 101, 359, 172, 298,\n",
      "        376, 322,  24, 259, 313, 183, 128,  11, 194, 158,  10, 278, 282,  35,\n",
      "        167,  21, 241, 306, 234,  19, 198, 379,  23,  31, 137, 240,  84, 106,\n",
      "        211,  25, 176, 267, 141, 197, 129, 177, 188, 133,  22, 175, 371, 160,\n",
      "        147, 138, 178,  56,   0, 347, 248, 360, 292, 181, 320,  66, 214, 236,\n",
      "        124, 185, 262,  34,  38, 381, 353, 348, 134, 143, 189, 130, 331,   2,\n",
      "        357,  86, 300, 316,  59, 154, 340, 302, 244,  46,  80, 212,   4, 280,\n",
      "         68, 291, 144,  28, 277, 105, 237, 354, 295, 336, 135, 246, 170,  42,\n",
      "         73,  45,  99, 373, 132, 200,  75, 311,  36, 247, 370, 192, 294,  33,\n",
      "        335, 276, 182,  97, 209,  27, 254,  53, 264, 382,  40, 127, 261, 374,\n",
      "         87, 268, 265, 257, 173,  64, 216, 118, 239,  79,   1, 312,  70, 343,\n",
      "        344, 326, 163, 363, 142, 169, 242, 273,   6, 342, 224,  69, 114, 120,\n",
      "        140, 369, 266, 220, 116, 196, 225, 108, 203, 232, 110, 112, 174, 145,\n",
      "         43, 293, 251, 243, 339, 157, 349, 230, 204, 210, 328, 226, 310, 337,\n",
      "        378,  93,   3, 303, 279, 380, 274, 219,  90, 162, 334, 165, 327,  88,\n",
      "        190, 221, 245, 372, 206,  52, 362, 148,  94, 289,  61, 229, 366, 184,\n",
      "        260,  76, 207, 171, 233, 275, 296, 152, 180, 308, 186, 288,   5,  39,\n",
      "         17, 253, 325,  15, 272,  95, 301, 258,  48,  44,  30, 125, 149, 263,\n",
      "        333, 304,  92, 365, 338, 222, 323,  71, 377, 332,  60, 351, 345, 256,\n",
      "        358, 283, 111, 299,  12, 126, 109,  13, 103, 161, 146, 252, 367, 290,\n",
      "        104,  20, 139, 155, 285, 281, 314,  54, 166, 117, 297, 202, 318, 136,\n",
      "         78, 238,  26, 228, 355, 271,  65, 123, 131, 383,  74, 208, 352,  83,\n",
      "        305,  91, 100, 164, 319,  50,  85,  16,  29, 286,  37, 255, 179, 223,\n",
      "         51,  55,  14,  98, 156, 113, 315, 151,  41, 193, 119, 218, 346, 121,\n",
      "        107, 364, 307, 317, 361, 284, 205, 199, 227,  18, 217,  77, 375,  57,\n",
      "        201, 321,   7, 324,  58, 102]), 'in_features': 384, 'out_features': 100}\n"
     ]
    },
    {
     "name": "stderr",
     "output_type": "stream",
     "text": [
      "LOCAL_RANK: 0 - CUDA_VISIBLE_DEVICES: [0,1,2,3,4,5,6,7]\n"
     ]
    },
    {
     "data": {
      "application/vnd.jupyter.widget-view+json": {
       "model_id": "1ca7bef912aa4bc687a8580b9d475f08",
       "version_major": 2,
       "version_minor": 0
      },
      "text/plain": [
       "Predicting: 0it [00:00, ?it/s]"
      ]
     },
     "metadata": {},
     "output_type": "display_data"
    },
    {
     "name": "stdout",
     "output_type": "stream",
     "text": [
      "vit_small_patch16_224 nonrob cifar100\n",
      "Full Acc: [tensor(0.8341)]\n",
      "For 0.005, acc: 0.018655555322766304 +/- 0.002080657286569476\n",
      "For 0.05, acc: 0.35324445366859436 +/- 0.017573157325387\n",
      "For 0.1, acc: 0.5743222832679749 +/- 0.011477882973849773\n",
      "For 0.2, acc: 0.729722261428833 +/- 0.004039462190121412\n",
      "For 0.5, acc: 0.8159555792808533 +/- 0.0027669186238199472\n",
      "For 0.9, acc: 0.8331333994865417 +/- 0.0017036041244864464\n",
      "\n"
     ]
    },
    {
     "data": {
      "image/png": "[encoded data removed]",
      "text/plain": [
       "<Figure size 720x432 with 1 Axes>"
      ]
     },
     "metadata": {},
     "output_type": "display_data"
    },
    {
     "name": "stderr",
     "output_type": "stream",
     "text": [
      "Global seed set to 2\n"
     ]
    },
    {
     "name": "stdout",
     "output_type": "stream",
     "text": [
      "cifar100 {0.005: [0.018499914556741714, 0.019398212432861328, 0.02171565592288971, 0.020727086812257767, 0.01883375085890293, 0.01911919377744198, 0.021536286920309067, 0.01894460804760456, 0.021907920017838478], 0.05: [0.296118825674057, 0.29334405064582825, 0.29617172479629517, 0.2937215566635132, 0.2928699851036072, 0.28690457344055176, 0.2880663573741913, 0.27346301078796387, 0.3107902407646179], 0.1: [0.44812706112861633, 0.44966912269592285, 0.4732383191585541, 0.4573644697666168, 0.45493486523628235, 0.4516955614089966, 0.46125274896621704, 0.4550190269947052, 0.45969295501708984], 0.2: [0.5849478840827942, 0.5796098113059998, 0.5803442597389221, 0.5820179581642151, 0.5812788605690002, 0.583044171333313, 0.5837314128875732, 0.5889527201652527, 0.5834277272224426], 0.5: [0.6759592890739441, 0.6785129308700562, 0.6783524751663208, 0.6748153567314148, 0.6773369312286377, 0.6786138415336609, 0.6775789856910706, 0.678673267364502, 0.6803520917892456], 0.9: [0.712035596370697, 0.7128445506095886, 0.7127931118011475, 0.7127540111541748, 0.7113722562789917, 0.71199631690979, 0.712532103061676, 0.712367057800293, 0.7119471430778503]}\n"
     ]
    },
    {
     "name": "stderr",
     "output_type": "stream",
     "text": [
      "Global seed set to 1\n",
      "GPU available: True, used: True\n",
      "TPU available: False, using: 0 TPU cores\n",
      "IPU available: False, using: 0 IPUs\n",
      "Global seed set to 0\n",
      "LOCAL_RANK: 0 - CUDA_VISIBLE_DEVICES: [0,1,2,3,4,5,6,7]\n"
     ]
    },
    {
     "name": "stdout",
     "output_type": "stream",
     "text": [
      "{'training': True, '_parameters': OrderedDict(), '_buffers': OrderedDict(), '_non_persistent_buffers_set': set(), '_backward_hooks': OrderedDict(), '_is_full_backward_hook': None, '_forward_hooks': OrderedDict(), '_forward_pre_hooks': OrderedDict(), '_state_dict_hooks': OrderedDict(), '_load_state_dict_pre_hooks': OrderedDict(), '_load_state_dict_post_hooks': OrderedDict(), '_modules': OrderedDict([('linear', Linear(in_features=1, out_features=102, bias=True))]), 'neuron_indices': tensor([37]), 'in_features': 1, 'out_features': 102}\n"
     ]
    },
    {
     "data": {
      "application/vnd.jupyter.widget-view+json": {
       "model_id": "a75f59271d43483189d131494f09db9d",
       "version_major": 2,
       "version_minor": 0
      },
      "text/plain": [
       "Predicting: 0it [00:00, ?it/s]"
      ]
     },
     "metadata": {},
     "output_type": "display_data"
    },
    {
     "name": "stderr",
     "output_type": "stream",
     "text": [
      "Global seed set to 2\n",
      "Global seed set to 2\n",
      "GPU available: True, used: True\n",
      "TPU available: False, using: 0 TPU cores\n",
      "IPU available: False, using: 0 IPUs\n",
      "Global seed set to 0\n",
      "LOCAL_RANK: 0 - CUDA_VISIBLE_DEVICES: [0,1,2,3,4,5,6,7]\n"
     ]
    },
    {
     "name": "stdout",
     "output_type": "stream",
     "text": [
      "{'training': True, '_parameters': OrderedDict(), '_buffers': OrderedDict(), '_non_persistent_buffers_set': set(), '_backward_hooks': OrderedDict(), '_is_full_backward_hook': None, '_forward_hooks': OrderedDict(), '_forward_pre_hooks': OrderedDict(), '_state_dict_hooks': OrderedDict(), '_load_state_dict_pre_hooks': OrderedDict(), '_load_state_dict_post_hooks': OrderedDict(), '_modules': OrderedDict([('linear', Linear(in_features=1, out_features=102, bias=True))]), 'neuron_indices': tensor([168]), 'in_features': 1, 'out_features': 102}\n"
     ]
    },
    {
     "data": {
      "application/vnd.jupyter.widget-view+json": {
       "model_id": "1efebb8480984ed1a5b749fe0732fe06",
       "version_major": 2,
       "version_minor": 0
      },
      "text/plain": [
       "Predicting: 0it [00:00, ?it/s]"
      ]
     },
     "metadata": {},
     "output_type": "display_data"
    },
    {
     "name": "stderr",
     "output_type": "stream",
     "text": [
      "Global seed set to 2\n",
      "Global seed set to 3\n",
      "GPU available: True, used: True\n",
      "TPU available: False, using: 0 TPU cores\n",
      "IPU available: False, using: 0 IPUs\n",
      "Global seed set to 0\n",
      "LOCAL_RANK: 0 - CUDA_VISIBLE_DEVICES: [0,1,2,3,4,5,6,7]\n"
     ]
    },
    {
     "name": "stdout",
     "output_type": "stream",
     "text": [
      "{'training': True, '_parameters': OrderedDict(), '_buffers': OrderedDict(), '_non_persistent_buffers_set': set(), '_backward_hooks': OrderedDict(), '_is_full_backward_hook': None, '_forward_hooks': OrderedDict(), '_forward_pre_hooks': OrderedDict(), '_state_dict_hooks': OrderedDict(), '_load_state_dict_pre_hooks': OrderedDict(), '_load_state_dict_post_hooks': OrderedDict(), '_modules': OrderedDict([('linear', Linear(in_features=1, out_features=102, bias=True))]), 'neuron_indices': tensor([106]), 'in_features': 1, 'out_features': 102}\n"
     ]
    },
    {
     "data": {
      "application/vnd.jupyter.widget-view+json": {
       "model_id": "3f2533a7f3e4425e81cf4c04b708975b",
       "version_major": 2,
       "version_minor": 0
      },
      "text/plain": [
       "Predicting: 0it [00:00, ?it/s]"
      ]
     },
     "metadata": {},
     "output_type": "display_data"
    },
    {
     "name": "stderr",
     "output_type": "stream",
     "text": [
      "Global seed set to 2\n",
      "Global seed set to 4\n",
      "GPU available: True, used: True\n",
      "TPU available: False, using: 0 TPU cores\n",
      "IPU available: False, using: 0 IPUs\n",
      "Global seed set to 0\n"
     ]
    },
    {
     "name": "stdout",
     "output_type": "stream",
     "text": [
      "{'training': True, '_parameters': OrderedDict(), '_buffers': OrderedDict(), '_non_persistent_buffers_set': set(), '_backward_hooks': OrderedDict(), '_is_full_backward_hook': None, '_forward_hooks': OrderedDict(), '_forward_pre_hooks': OrderedDict(), '_state_dict_hooks': OrderedDict(), '_load_state_dict_pre_hooks': OrderedDict(), '_load_state_dict_post_hooks': OrderedDict(), '_modules': OrderedDict([('linear', Linear(in_features=1, out_features=102, bias=True))]), 'neuron_indices': tensor([250]), 'in_features': 1, 'out_features': 102}\n"
     ]
    },
    {
     "name": "stderr",
     "output_type": "stream",
     "text": [
      "LOCAL_RANK: 0 - CUDA_VISIBLE_DEVICES: [0,1,2,3,4,5,6,7]\n"
     ]
    },
    {
     "data": {
      "application/vnd.jupyter.widget-view+json": {
       "model_id": "aa1f7384db30467a98be652c6f438714",
       "version_major": 2,
       "version_minor": 0
      },
      "text/plain": [
       "Predicting: 0it [00:00, ?it/s]"
      ]
     },
     "metadata": {},
     "output_type": "display_data"
    },
    {
     "name": "stderr",
     "output_type": "stream",
     "text": [
      "Global seed set to 2\n",
      "Global seed set to 5\n",
      "GPU available: True, used: True\n",
      "TPU available: False, using: 0 TPU cores\n",
      "IPU available: False, using: 0 IPUs\n",
      "Global seed set to 0\n",
      "LOCAL_RANK: 0 - CUDA_VISIBLE_DEVICES: [0,1,2,3,4,5,6,7]\n"
     ]
    },
    {
     "name": "stdout",
     "output_type": "stream",
     "text": [
      "{'training': True, '_parameters': OrderedDict(), '_buffers': OrderedDict(), '_non_persistent_buffers_set': set(), '_backward_hooks': OrderedDict(), '_is_full_backward_hook': None, '_forward_hooks': OrderedDict(), '_forward_pre_hooks': OrderedDict(), '_state_dict_hooks': OrderedDict(), '_load_state_dict_pre_hooks': OrderedDict(), '_load_state_dict_post_hooks': OrderedDict(), '_modules': OrderedDict([('linear', Linear(in_features=1, out_features=102, bias=True))]), 'neuron_indices': tensor([227]), 'in_features': 1, 'out_features': 102}\n"
     ]
    },
    {
     "data": {
      "application/vnd.jupyter.widget-view+json": {
       "model_id": "6f74779b1f0648209f4d4f7be7ad34d4",
       "version_major": 2,
       "version_minor": 0
      },
      "text/plain": [
       "Predicting: 0it [00:00, ?it/s]"
      ]
     },
     "metadata": {},
     "output_type": "display_data"
    },
    {
     "name": "stderr",
     "output_type": "stream",
     "text": [
      "Global seed set to 2\n",
      "Global seed set to 6\n",
      "GPU available: True, used: True\n",
      "TPU available: False, using: 0 TPU cores\n",
      "IPU available: False, using: 0 IPUs\n",
      "Global seed set to 0\n",
      "LOCAL_RANK: 0 - CUDA_VISIBLE_DEVICES: [0,1,2,3,4,5,6,7]\n"
     ]
    },
    {
     "name": "stdout",
     "output_type": "stream",
     "text": [
      "{'training': True, '_parameters': OrderedDict(), '_buffers': OrderedDict(), '_non_persistent_buffers_set': set(), '_backward_hooks': OrderedDict(), '_is_full_backward_hook': None, '_forward_hooks': OrderedDict(), '_forward_pre_hooks': OrderedDict(), '_state_dict_hooks': OrderedDict(), '_load_state_dict_pre_hooks': OrderedDict(), '_load_state_dict_post_hooks': OrderedDict(), '_modules': OrderedDict([('linear', Linear(in_features=1, out_features=102, bias=True))]), 'neuron_indices': tensor([266]), 'in_features': 1, 'out_features': 102}\n"
     ]
    },
    {
     "data": {
      "application/vnd.jupyter.widget-view+json": {
       "model_id": "8205ed39bc4045268b556a9c39ac1fe3",
       "version_major": 2,
       "version_minor": 0
      },
      "text/plain": [
       "Predicting: 0it [00:00, ?it/s]"
      ]
     },
     "metadata": {},
     "output_type": "display_data"
    },
    {
     "name": "stderr",
     "output_type": "stream",
     "text": [
      "Global seed set to 2\n",
      "Global seed set to 7\n",
      "GPU available: True, used: True\n",
      "TPU available: False, using: 0 TPU cores\n",
      "IPU available: False, using: 0 IPUs\n",
      "Global seed set to 0\n",
      "LOCAL_RANK: 0 - CUDA_VISIBLE_DEVICES: [0,1,2,3,4,5,6,7]\n"
     ]
    },
    {
     "name": "stdout",
     "output_type": "stream",
     "text": [
      "{'training': True, '_parameters': OrderedDict(), '_buffers': OrderedDict(), '_non_persistent_buffers_set': set(), '_backward_hooks': OrderedDict(), '_is_full_backward_hook': None, '_forward_hooks': OrderedDict(), '_forward_pre_hooks': OrderedDict(), '_state_dict_hooks': OrderedDict(), '_load_state_dict_pre_hooks': OrderedDict(), '_load_state_dict_post_hooks': OrderedDict(), '_modules': OrderedDict([('linear', Linear(in_features=1, out_features=102, bias=True))]), 'neuron_indices': tensor([303]), 'in_features': 1, 'out_features': 102}\n"
     ]
    },
    {
     "data": {
      "application/vnd.jupyter.widget-view+json": {
       "model_id": "14845fc1c02d4dc6b6233fd0f38256cb",
       "version_major": 2,
       "version_minor": 0
      },
      "text/plain": [
       "Predicting: 0it [00:00, ?it/s]"
      ]
     },
     "metadata": {},
     "output_type": "display_data"
    },
    {
     "name": "stderr",
     "output_type": "stream",
     "text": [
      "Global seed set to 2\n",
      "Global seed set to 8\n",
      "GPU available: True, used: True\n",
      "TPU available: False, using: 0 TPU cores\n",
      "IPU available: False, using: 0 IPUs\n",
      "Global seed set to 0\n",
      "LOCAL_RANK: 0 - CUDA_VISIBLE_DEVICES: [0,1,2,3,4,5,6,7]\n"
     ]
    },
    {
     "name": "stdout",
     "output_type": "stream",
     "text": [
      "{'training': True, '_parameters': OrderedDict(), '_buffers': OrderedDict(), '_non_persistent_buffers_set': set(), '_backward_hooks': OrderedDict(), '_is_full_backward_hook': None, '_forward_hooks': OrderedDict(), '_forward_pre_hooks': OrderedDict(), '_state_dict_hooks': OrderedDict(), '_load_state_dict_pre_hooks': OrderedDict(), '_load_state_dict_post_hooks': OrderedDict(), '_modules': OrderedDict([('linear', Linear(in_features=1, out_features=102, bias=True))]), 'neuron_indices': tensor([195]), 'in_features': 1, 'out_features': 102}\n"
     ]
    },
    {
     "data": {
      "application/vnd.jupyter.widget-view+json": {
       "model_id": "dba827fd1dde47d49cfaa2fc094456a4",
       "version_major": 2,
       "version_minor": 0
      },
      "text/plain": [
       "Predicting: 0it [00:00, ?it/s]"
      ]
     },
     "metadata": {},
     "output_type": "display_data"
    },
    {
     "name": "stderr",
     "output_type": "stream",
     "text": [
      "Global seed set to 2\n",
      "Global seed set to 9\n",
      "GPU available: True, used: True\n",
      "TPU available: False, using: 0 TPU cores\n",
      "IPU available: False, using: 0 IPUs\n",
      "Global seed set to 0\n",
      "LOCAL_RANK: 0 - CUDA_VISIBLE_DEVICES: [0,1,2,3,4,5,6,7]\n"
     ]
    },
    {
     "name": "stdout",
     "output_type": "stream",
     "text": [
      "{'training': True, '_parameters': OrderedDict(), '_buffers': OrderedDict(), '_non_persistent_buffers_set': set(), '_backward_hooks': OrderedDict(), '_is_full_backward_hook': None, '_forward_hooks': OrderedDict(), '_forward_pre_hooks': OrderedDict(), '_state_dict_hooks': OrderedDict(), '_load_state_dict_pre_hooks': OrderedDict(), '_load_state_dict_post_hooks': OrderedDict(), '_modules': OrderedDict([('linear', Linear(in_features=1, out_features=102, bias=True))]), 'neuron_indices': tensor([382]), 'in_features': 1, 'out_features': 102}\n"
     ]
    },
    {
     "data": {
      "application/vnd.jupyter.widget-view+json": {
       "model_id": "6e4c5a086deb45b9a3a7a2cc0fe7d720",
       "version_major": 2,
       "version_minor": 0
      },
      "text/plain": [
       "Predicting: 0it [00:00, ?it/s]"
      ]
     },
     "metadata": {},
     "output_type": "display_data"
    },
    {
     "name": "stderr",
     "output_type": "stream",
     "text": [
      "Global seed set to 2\n",
      "Global seed set to 10\n",
      "GPU available: True, used: True\n",
      "TPU available: False, using: 0 TPU cores\n",
      "IPU available: False, using: 0 IPUs\n",
      "Global seed set to 0\n"
     ]
    },
    {
     "name": "stdout",
     "output_type": "stream",
     "text": [
      "{'training': True, '_parameters': OrderedDict(), '_buffers': OrderedDict(), '_non_persistent_buffers_set': set(), '_backward_hooks': OrderedDict(), '_is_full_backward_hook': None, '_forward_hooks': OrderedDict(), '_forward_pre_hooks': OrderedDict(), '_state_dict_hooks': OrderedDict(), '_load_state_dict_pre_hooks': OrderedDict(), '_load_state_dict_post_hooks': OrderedDict(), '_modules': OrderedDict([('linear', Linear(in_features=1, out_features=102, bias=True))]), 'neuron_indices': tensor([137]), 'in_features': 1, 'out_features': 102}\n"
     ]
    },
    {
     "name": "stderr",
     "output_type": "stream",
     "text": [
      "LOCAL_RANK: 0 - CUDA_VISIBLE_DEVICES: [0,1,2,3,4,5,6,7]\n"
     ]
    },
    {
     "data": {
      "application/vnd.jupyter.widget-view+json": {
       "model_id": "6bb5a45f201e4902ae2a7efa3e04faae",
       "version_major": 2,
       "version_minor": 0
      },
      "text/plain": [
       "Predicting: 0it [00:00, ?it/s]"
      ]
     },
     "metadata": {},
     "output_type": "display_data"
    },
    {
     "name": "stderr",
     "output_type": "stream",
     "text": [
      "Global seed set to 2\n",
      "Global seed set to 1\n",
      "GPU available: True, used: True\n",
      "TPU available: False, using: 0 TPU cores\n",
      "IPU available: False, using: 0 IPUs\n",
      "Global seed set to 0\n",
      "LOCAL_RANK: 0 - CUDA_VISIBLE_DEVICES: [0,1,2,3,4,5,6,7]\n"
     ]
    },
    {
     "name": "stdout",
     "output_type": "stream",
     "text": [
      "{'training': True, '_parameters': OrderedDict(), '_buffers': OrderedDict(), '_non_persistent_buffers_set': set(), '_backward_hooks': OrderedDict(), '_is_full_backward_hook': None, '_forward_hooks': OrderedDict(), '_forward_pre_hooks': OrderedDict(), '_state_dict_hooks': OrderedDict(), '_load_state_dict_pre_hooks': OrderedDict(), '_load_state_dict_post_hooks': OrderedDict(), '_modules': OrderedDict([('linear', Linear(in_features=19, out_features=102, bias=True))]), 'neuron_indices': tensor([ 37,  88, 258, 104, 307, 131, 251, 113,  31,  66, 162, 117, 364, 158,\n",
      "        277,  69, 198, 329, 194]), 'in_features': 19, 'out_features': 102}\n"
     ]
    },
    {
     "data": {
      "application/vnd.jupyter.widget-view+json": {
       "model_id": "1e417e697bff4a178c1d996fe7dc45f8",
       "version_major": 2,
       "version_minor": 0
      },
      "text/plain": [
       "Predicting: 0it [00:00, ?it/s]"
      ]
     },
     "metadata": {},
     "output_type": "display_data"
    },
    {
     "name": "stderr",
     "output_type": "stream",
     "text": [
      "Global seed set to 2\n",
      "Global seed set to 2\n",
      "GPU available: True, used: True\n",
      "TPU available: False, using: 0 TPU cores\n",
      "IPU available: False, using: 0 IPUs\n",
      "Global seed set to 0\n",
      "LOCAL_RANK: 0 - CUDA_VISIBLE_DEVICES: [0,1,2,3,4,5,6,7]\n"
     ]
    },
    {
     "name": "stdout",
     "output_type": "stream",
     "text": [
      "{'training': True, '_parameters': OrderedDict(), '_buffers': OrderedDict(), '_non_persistent_buffers_set': set(), '_backward_hooks': OrderedDict(), '_is_full_backward_hook': None, '_forward_hooks': OrderedDict(), '_forward_pre_hooks': OrderedDict(), '_state_dict_hooks': OrderedDict(), '_load_state_dict_pre_hooks': OrderedDict(), '_load_state_dict_post_hooks': OrderedDict(), '_modules': OrderedDict([('linear', Linear(in_features=19, out_features=102, bias=True))]), 'neuron_indices': tensor([168,   9,  67, 159,  62, 235,  96, 153,  72, 270,  32, 122, 215, 213,\n",
      "        249, 269, 287,  81, 368]), 'in_features': 19, 'out_features': 102}\n"
     ]
    },
    {
     "data": {
      "application/vnd.jupyter.widget-view+json": {
       "model_id": "fb6e3d0fdad74cf5a70bbf52dbbab2b6",
       "version_major": 2,
       "version_minor": 0
      },
      "text/plain": [
       "Predicting: 0it [00:00, ?it/s]"
      ]
     },
     "metadata": {},
     "output_type": "display_data"
    },
    {
     "name": "stderr",
     "output_type": "stream",
     "text": [
      "Global seed set to 2\n",
      "Global seed set to 3\n",
      "GPU available: True, used: True\n",
      "TPU available: False, using: 0 TPU cores\n",
      "IPU available: False, using: 0 IPUs\n",
      "Global seed set to 0\n",
      "LOCAL_RANK: 0 - CUDA_VISIBLE_DEVICES: [0,1,2,3,4,5,6,7]\n"
     ]
    },
    {
     "name": "stdout",
     "output_type": "stream",
     "text": [
      "{'training': True, '_parameters': OrderedDict(), '_buffers': OrderedDict(), '_non_persistent_buffers_set': set(), '_backward_hooks': OrderedDict(), '_is_full_backward_hook': None, '_forward_hooks': OrderedDict(), '_forward_pre_hooks': OrderedDict(), '_state_dict_hooks': OrderedDict(), '_load_state_dict_pre_hooks': OrderedDict(), '_load_state_dict_post_hooks': OrderedDict(), '_modules': OrderedDict([('linear', Linear(in_features=19, out_features=102, bias=True))]), 'neuron_indices': tensor([106, 302, 345, 306,  44,  25, 246, 165, 173, 373,  62, 354,  89,  61,\n",
      "        170, 154, 119, 223,  26]), 'in_features': 19, 'out_features': 102}\n"
     ]
    },
    {
     "data": {
      "application/vnd.jupyter.widget-view+json": {
       "model_id": "647e910764cb4a389032c5d5329cef2a",
       "version_major": 2,
       "version_minor": 0
      },
      "text/plain": [
       "Predicting: 0it [00:00, ?it/s]"
      ]
     },
     "metadata": {},
     "output_type": "display_data"
    },
    {
     "name": "stderr",
     "output_type": "stream",
     "text": [
      "Global seed set to 2\n",
      "Global seed set to 4\n",
      "GPU available: True, used: True\n",
      "TPU available: False, using: 0 TPU cores\n",
      "IPU available: False, using: 0 IPUs\n",
      "Global seed set to 0\n",
      "LOCAL_RANK: 0 - CUDA_VISIBLE_DEVICES: [0,1,2,3,4,5,6,7]\n"
     ]
    },
    {
     "name": "stdout",
     "output_type": "stream",
     "text": [
      "{'training': True, '_parameters': OrderedDict(), '_buffers': OrderedDict(), '_non_persistent_buffers_set': set(), '_backward_hooks': OrderedDict(), '_is_full_backward_hook': None, '_forward_hooks': OrderedDict(), '_forward_pre_hooks': OrderedDict(), '_state_dict_hooks': OrderedDict(), '_load_state_dict_pre_hooks': OrderedDict(), '_load_state_dict_post_hooks': OrderedDict(), '_modules': OrderedDict([('linear', Linear(in_features=19, out_features=102, bias=True))]), 'neuron_indices': tensor([250, 172, 245, 263,  73,  12, 239,   0, 234, 120, 266, 204,  47, 302,\n",
      "        364, 328,  71, 145, 336]), 'in_features': 19, 'out_features': 102}\n"
     ]
    },
    {
     "data": {
      "application/vnd.jupyter.widget-view+json": {
       "model_id": "77b19fa715e443d2a02ed8bfa2f27f1a",
       "version_major": 2,
       "version_minor": 0
      },
      "text/plain": [
       "Predicting: 0it [00:00, ?it/s]"
      ]
     },
     "metadata": {},
     "output_type": "display_data"
    },
    {
     "name": "stderr",
     "output_type": "stream",
     "text": [
      "Global seed set to 2\n",
      "Global seed set to 5\n",
      "GPU available: True, used: True\n",
      "TPU available: False, using: 0 TPU cores\n",
      "IPU available: False, using: 0 IPUs\n",
      "Global seed set to 0\n"
     ]
    },
    {
     "name": "stdout",
     "output_type": "stream",
     "text": [
      "{'training': True, '_parameters': OrderedDict(), '_buffers': OrderedDict(), '_non_persistent_buffers_set': set(), '_backward_hooks': OrderedDict(), '_is_full_backward_hook': None, '_forward_hooks': OrderedDict(), '_forward_pre_hooks': OrderedDict(), '_state_dict_hooks': OrderedDict(), '_load_state_dict_pre_hooks': OrderedDict(), '_load_state_dict_post_hooks': OrderedDict(), '_modules': OrderedDict([('linear', Linear(in_features=19, out_features=102, bias=True))]), 'neuron_indices': tensor([227, 245, 139,   9, 250,  75,  70, 239,  80, 163, 325,  83,  95, 365,\n",
      "        112,   5, 119, 155, 269]), 'in_features': 19, 'out_features': 102}\n"
     ]
    },
    {
     "name": "stderr",
     "output_type": "stream",
     "text": [
      "LOCAL_RANK: 0 - CUDA_VISIBLE_DEVICES: [0,1,2,3,4,5,6,7]\n"
     ]
    },
    {
     "data": {
      "application/vnd.jupyter.widget-view+json": {
       "model_id": "1bfaf744327041eda6e305b063cb2176",
       "version_major": 2,
       "version_minor": 0
      },
      "text/plain": [
       "Predicting: 0it [00:00, ?it/s]"
      ]
     },
     "metadata": {},
     "output_type": "display_data"
    },
    {
     "name": "stderr",
     "output_type": "stream",
     "text": [
      "Global seed set to 2\n",
      "Global seed set to 6\n",
      "GPU available: True, used: True\n",
      "TPU available: False, using: 0 TPU cores\n",
      "IPU available: False, using: 0 IPUs\n",
      "Global seed set to 0\n",
      "LOCAL_RANK: 0 - CUDA_VISIBLE_DEVICES: [0,1,2,3,4,5,6,7]\n"
     ]
    },
    {
     "name": "stdout",
     "output_type": "stream",
     "text": [
      "{'training': True, '_parameters': OrderedDict(), '_buffers': OrderedDict(), '_non_persistent_buffers_set': set(), '_backward_hooks': OrderedDict(), '_is_full_backward_hook': None, '_forward_hooks': OrderedDict(), '_forward_pre_hooks': OrderedDict(), '_state_dict_hooks': OrderedDict(), '_load_state_dict_pre_hooks': OrderedDict(), '_load_state_dict_post_hooks': OrderedDict(), '_modules': OrderedDict([('linear', Linear(in_features=19, out_features=102, bias=True))]), 'neuron_indices': tensor([266, 315, 283, 323, 218, 318, 215, 111,  48, 192, 187, 174,  67, 213,\n",
      "        351, 344, 319, 324, 334]), 'in_features': 19, 'out_features': 102}\n"
     ]
    },
    {
     "data": {
      "application/vnd.jupyter.widget-view+json": {
       "model_id": "537f1955ff38440fb14176753a880135",
       "version_major": 2,
       "version_minor": 0
      },
      "text/plain": [
       "Predicting: 0it [00:00, ?it/s]"
      ]
     },
     "metadata": {},
     "output_type": "display_data"
    },
    {
     "name": "stderr",
     "output_type": "stream",
     "text": [
      "Global seed set to 2\n",
      "Global seed set to 7\n",
      "GPU available: True, used: True\n",
      "TPU available: False, using: 0 TPU cores\n",
      "IPU available: False, using: 0 IPUs\n",
      "Global seed set to 0\n",
      "LOCAL_RANK: 0 - CUDA_VISIBLE_DEVICES: [0,1,2,3,4,5,6,7]\n"
     ]
    },
    {
     "name": "stdout",
     "output_type": "stream",
     "text": [
      "{'training': True, '_parameters': OrderedDict(), '_buffers': OrderedDict(), '_non_persistent_buffers_set': set(), '_backward_hooks': OrderedDict(), '_is_full_backward_hook': None, '_forward_hooks': OrderedDict(), '_forward_pre_hooks': OrderedDict(), '_state_dict_hooks': OrderedDict(), '_load_state_dict_pre_hooks': OrderedDict(), '_load_state_dict_post_hooks': OrderedDict(), '_modules': OrderedDict([('linear', Linear(in_features=19, out_features=102, bias=True))]), 'neuron_indices': tensor([303, 204, 193, 254,  87, 153, 257, 298, 132,  20, 184, 156, 368, 175,\n",
      "        376, 208,  42, 190, 309]), 'in_features': 19, 'out_features': 102}\n"
     ]
    },
    {
     "data": {
      "application/vnd.jupyter.widget-view+json": {
       "model_id": "6f00f27a72844f989e4259d62fee9a98",
       "version_major": 2,
       "version_minor": 0
      },
      "text/plain": [
       "Predicting: 0it [00:00, ?it/s]"
      ]
     },
     "metadata": {},
     "output_type": "display_data"
    },
    {
     "name": "stderr",
     "output_type": "stream",
     "text": [
      "Global seed set to 2\n",
      "Global seed set to 8\n",
      "GPU available: True, used: True\n",
      "TPU available: False, using: 0 TPU cores\n",
      "IPU available: False, using: 0 IPUs\n",
      "Global seed set to 0\n",
      "LOCAL_RANK: 0 - CUDA_VISIBLE_DEVICES: [0,1,2,3,4,5,6,7]\n"
     ]
    },
    {
     "name": "stdout",
     "output_type": "stream",
     "text": [
      "{'training': True, '_parameters': OrderedDict(), '_buffers': OrderedDict(), '_non_persistent_buffers_set': set(), '_backward_hooks': OrderedDict(), '_is_full_backward_hook': None, '_forward_hooks': OrderedDict(), '_forward_pre_hooks': OrderedDict(), '_state_dict_hooks': OrderedDict(), '_load_state_dict_pre_hooks': OrderedDict(), '_load_state_dict_post_hooks': OrderedDict(), '_modules': OrderedDict([('linear', Linear(in_features=19, out_features=102, bias=True))]), 'neuron_indices': tensor([195, 178, 363, 219, 321,  52, 274, 351, 280, 295, 150, 118, 205, 257,\n",
      "        211, 172, 330, 256, 332]), 'in_features': 19, 'out_features': 102}\n"
     ]
    },
    {
     "data": {
      "application/vnd.jupyter.widget-view+json": {
       "model_id": "b5f2e5f9afe5437d9044a403e833e417",
       "version_major": 2,
       "version_minor": 0
      },
      "text/plain": [
       "Predicting: 0it [00:00, ?it/s]"
      ]
     },
     "metadata": {},
     "output_type": "display_data"
    },
    {
     "name": "stderr",
     "output_type": "stream",
     "text": [
      "Global seed set to 2\n",
      "Global seed set to 9\n",
      "GPU available: True, used: True\n",
      "TPU available: False, using: 0 TPU cores\n",
      "IPU available: False, using: 0 IPUs\n",
      "Global seed set to 0\n",
      "LOCAL_RANK: 0 - CUDA_VISIBLE_DEVICES: [0,1,2,3,4,5,6,7]\n"
     ]
    },
    {
     "name": "stdout",
     "output_type": "stream",
     "text": [
      "{'training': True, '_parameters': OrderedDict(), '_buffers': OrderedDict(), '_non_persistent_buffers_set': set(), '_backward_hooks': OrderedDict(), '_is_full_backward_hook': None, '_forward_hooks': OrderedDict(), '_forward_pre_hooks': OrderedDict(), '_state_dict_hooks': OrderedDict(), '_load_state_dict_pre_hooks': OrderedDict(), '_load_state_dict_post_hooks': OrderedDict(), '_modules': OrderedDict([('linear', Linear(in_features=19, out_features=102, bias=True))]), 'neuron_indices': tensor([382, 379, 274, 284, 106,  74, 247,  48, 197, 110, 142, 342, 279,  24,\n",
      "        130,  86,  88, 301, 113]), 'in_features': 19, 'out_features': 102}\n"
     ]
    },
    {
     "data": {
      "application/vnd.jupyter.widget-view+json": {
       "model_id": "11664fe7f5ac4de4a419a9f2a6a2a44a",
       "version_major": 2,
       "version_minor": 0
      },
      "text/plain": [
       "Predicting: 0it [00:00, ?it/s]"
      ]
     },
     "metadata": {},
     "output_type": "display_data"
    },
    {
     "name": "stderr",
     "output_type": "stream",
     "text": [
      "Global seed set to 2\n",
      "Global seed set to 10\n",
      "GPU available: True, used: True\n",
      "TPU available: False, using: 0 TPU cores\n",
      "IPU available: False, using: 0 IPUs\n",
      "Global seed set to 0\n",
      "LOCAL_RANK: 0 - CUDA_VISIBLE_DEVICES: [0,1,2,3,4,5,6,7]\n"
     ]
    },
    {
     "name": "stdout",
     "output_type": "stream",
     "text": [
      "{'training': True, '_parameters': OrderedDict(), '_buffers': OrderedDict(), '_non_persistent_buffers_set': set(), '_backward_hooks': OrderedDict(), '_is_full_backward_hook': None, '_forward_hooks': OrderedDict(), '_forward_pre_hooks': OrderedDict(), '_state_dict_hooks': OrderedDict(), '_load_state_dict_pre_hooks': OrderedDict(), '_load_state_dict_post_hooks': OrderedDict(), '_modules': OrderedDict([('linear', Linear(in_features=19, out_features=102, bias=True))]), 'neuron_indices': tensor([137, 293, 312, 358, 376,  78, 311, 273, 241, 189, 176, 345, 301, 213,\n",
      "        200,  29, 240, 354, 172]), 'in_features': 19, 'out_features': 102}\n"
     ]
    },
    {
     "data": {
      "application/vnd.jupyter.widget-view+json": {
       "model_id": "ebb387b96c8c4076a48d6cf7cf4e770d",
       "version_major": 2,
       "version_minor": 0
      },
      "text/plain": [
       "Predicting: 0it [00:00, ?it/s]"
      ]
     },
     "metadata": {},
     "output_type": "display_data"
    },
    {
     "name": "stderr",
     "output_type": "stream",
     "text": [
      "Global seed set to 2\n",
      "Global seed set to 1\n",
      "GPU available: True, used: True\n",
      "TPU available: False, using: 0 TPU cores\n",
      "IPU available: False, using: 0 IPUs\n",
      "Global seed set to 0\n"
     ]
    },
    {
     "name": "stdout",
     "output_type": "stream",
     "text": [
      "{'training': True, '_parameters': OrderedDict(), '_buffers': OrderedDict(), '_non_persistent_buffers_set': set(), '_backward_hooks': OrderedDict(), '_is_full_backward_hook': None, '_forward_hooks': OrderedDict(), '_forward_pre_hooks': OrderedDict(), '_state_dict_hooks': OrderedDict(), '_load_state_dict_pre_hooks': OrderedDict(), '_load_state_dict_post_hooks': OrderedDict(), '_modules': OrderedDict([('linear', Linear(in_features=38, out_features=102, bias=True))]), 'neuron_indices': tensor([ 37,  88, 258, 104, 307, 131, 251, 113,  31,  66, 162, 117, 364, 158,\n",
      "        277,  69, 198, 329, 194,  50, 142,  84, 166, 340, 147,  77,  92, 176,\n",
      "         49, 153,  38,  73,  87,  57,  71,  16, 359,  61]), 'in_features': 38, 'out_features': 102}\n"
     ]
    },
    {
     "name": "stderr",
     "output_type": "stream",
     "text": [
      "LOCAL_RANK: 0 - CUDA_VISIBLE_DEVICES: [0,1,2,3,4,5,6,7]\n"
     ]
    },
    {
     "data": {
      "application/vnd.jupyter.widget-view+json": {
       "model_id": "0fd728dfadeb427094bc7dd866df262e",
       "version_major": 2,
       "version_minor": 0
      },
      "text/plain": [
       "Predicting: 0it [00:00, ?it/s]"
      ]
     },
     "metadata": {},
     "output_type": "display_data"
    },
    {
     "name": "stderr",
     "output_type": "stream",
     "text": [
      "Global seed set to 2\n",
      "Global seed set to 2\n",
      "GPU available: True, used: True\n",
      "TPU available: False, using: 0 TPU cores\n",
      "IPU available: False, using: 0 IPUs\n",
      "Global seed set to 0\n",
      "LOCAL_RANK: 0 - CUDA_VISIBLE_DEVICES: [0,1,2,3,4,5,6,7]\n"
     ]
    },
    {
     "name": "stdout",
     "output_type": "stream",
     "text": [
      "{'training': True, '_parameters': OrderedDict(), '_buffers': OrderedDict(), '_non_persistent_buffers_set': set(), '_backward_hooks': OrderedDict(), '_is_full_backward_hook': None, '_forward_hooks': OrderedDict(), '_forward_pre_hooks': OrderedDict(), '_state_dict_hooks': OrderedDict(), '_load_state_dict_pre_hooks': OrderedDict(), '_load_state_dict_post_hooks': OrderedDict(), '_modules': OrderedDict([('linear', Linear(in_features=38, out_features=102, bias=True))]), 'neuron_indices': tensor([168,   9,  67, 159,  62, 235,  96, 153,  72, 270,  32, 122, 215, 213,\n",
      "        249, 269, 287,  81, 368,  89,   8, 309,  49, 250, 115, 329, 356, 231,\n",
      "        195,  82, 341,  63, 330,  47, 350, 187, 191, 150]), 'in_features': 38, 'out_features': 102}\n"
     ]
    },
    {
     "data": {
      "application/vnd.jupyter.widget-view+json": {
       "model_id": "57aa6793fc334e679fb95027d2fea505",
       "version_major": 2,
       "version_minor": 0
      },
      "text/plain": [
       "Predicting: 0it [00:00, ?it/s]"
      ]
     },
     "metadata": {},
     "output_type": "display_data"
    },
    {
     "name": "stderr",
     "output_type": "stream",
     "text": [
      "Global seed set to 2\n",
      "Global seed set to 3\n",
      "GPU available: True, used: True\n",
      "TPU available: False, using: 0 TPU cores\n",
      "IPU available: False, using: 0 IPUs\n",
      "Global seed set to 0\n",
      "LOCAL_RANK: 0 - CUDA_VISIBLE_DEVICES: [0,1,2,3,4,5,6,7]\n"
     ]
    },
    {
     "name": "stdout",
     "output_type": "stream",
     "text": [
      "{'training': True, '_parameters': OrderedDict(), '_buffers': OrderedDict(), '_non_persistent_buffers_set': set(), '_backward_hooks': OrderedDict(), '_is_full_backward_hook': None, '_forward_hooks': OrderedDict(), '_forward_pre_hooks': OrderedDict(), '_state_dict_hooks': OrderedDict(), '_load_state_dict_pre_hooks': OrderedDict(), '_load_state_dict_post_hooks': OrderedDict(), '_modules': OrderedDict([('linear', Linear(in_features=38, out_features=102, bias=True))]), 'neuron_indices': tensor([106, 302, 345, 306,  44,  25, 246, 165, 173, 373,  62, 354,  89,  61,\n",
      "        170, 154, 119, 223,  26, 158,  96,  50, 333, 210,  20,  13,  51,  60,\n",
      "        150, 174,  42, 362, 252, 379, 303,  66,   8, 254]), 'in_features': 38, 'out_features': 102}\n"
     ]
    },
    {
     "data": {
      "application/vnd.jupyter.widget-view+json": {
       "model_id": "7a2bf89984b54990aff2bfb2bf5c6e96",
       "version_major": 2,
       "version_minor": 0
      },
      "text/plain": [
       "Predicting: 0it [00:00, ?it/s]"
      ]
     },
     "metadata": {},
     "output_type": "display_data"
    },
    {
     "name": "stderr",
     "output_type": "stream",
     "text": [
      "Global seed set to 2\n",
      "Global seed set to 4\n",
      "GPU available: True, used: True\n",
      "TPU available: False, using: 0 TPU cores\n",
      "IPU available: False, using: 0 IPUs\n",
      "Global seed set to 0\n",
      "LOCAL_RANK: 0 - CUDA_VISIBLE_DEVICES: [0,1,2,3,4,5,6,7]\n"
     ]
    },
    {
     "name": "stdout",
     "output_type": "stream",
     "text": [
      "{'training': True, '_parameters': OrderedDict(), '_buffers': OrderedDict(), '_non_persistent_buffers_set': set(), '_backward_hooks': OrderedDict(), '_is_full_backward_hook': None, '_forward_hooks': OrderedDict(), '_forward_pre_hooks': OrderedDict(), '_state_dict_hooks': OrderedDict(), '_load_state_dict_pre_hooks': OrderedDict(), '_load_state_dict_post_hooks': OrderedDict(), '_modules': OrderedDict([('linear', Linear(in_features=38, out_features=102, bias=True))]), 'neuron_indices': tensor([250, 172, 245, 263,  73,  12, 239,   0, 234, 120, 266, 204,  47, 302,\n",
      "        364, 328,  71, 145, 336,  61, 118, 155, 212, 194, 146, 301, 139,   2,\n",
      "         95,  19,  93, 299, 326, 111, 298, 277, 106,  45]), 'in_features': 38, 'out_features': 102}\n"
     ]
    },
    {
     "data": {
      "application/vnd.jupyter.widget-view+json": {
       "model_id": "69f1be17ea904c519417c0d796267e8a",
       "version_major": 2,
       "version_minor": 0
      },
      "text/plain": [
       "Predicting: 0it [00:00, ?it/s]"
      ]
     },
     "metadata": {},
     "output_type": "display_data"
    },
    {
     "name": "stderr",
     "output_type": "stream",
     "text": [
      "Global seed set to 2\n",
      "Global seed set to 5\n",
      "GPU available: True, used: True\n",
      "TPU available: False, using: 0 TPU cores\n",
      "IPU available: False, using: 0 IPUs\n",
      "Global seed set to 0\n",
      "LOCAL_RANK: 0 - CUDA_VISIBLE_DEVICES: [0,1,2,3,4,5,6,7]\n"
     ]
    },
    {
     "name": "stdout",
     "output_type": "stream",
     "text": [
      "{'training': True, '_parameters': OrderedDict(), '_buffers': OrderedDict(), '_non_persistent_buffers_set': set(), '_backward_hooks': OrderedDict(), '_is_full_backward_hook': None, '_forward_hooks': OrderedDict(), '_forward_pre_hooks': OrderedDict(), '_state_dict_hooks': OrderedDict(), '_load_state_dict_pre_hooks': OrderedDict(), '_load_state_dict_post_hooks': OrderedDict(), '_modules': OrderedDict([('linear', Linear(in_features=38, out_features=102, bias=True))]), 'neuron_indices': tensor([227, 245, 139,   9, 250,  75,  70, 239,  80, 163, 325,  83,  95, 365,\n",
      "        112,   5, 119, 155, 269, 323, 149, 138,  90,  33,  68, 381, 279, 135,\n",
      "        183, 335, 126, 125, 349, 162,  64,  81, 157, 327]), 'in_features': 38, 'out_features': 102}\n"
     ]
    },
    {
     "data": {
      "application/vnd.jupyter.widget-view+json": {
       "model_id": "e662375d6216414d89860fa456bbc5dd",
       "version_major": 2,
       "version_minor": 0
      },
      "text/plain": [
       "Predicting: 0it [00:00, ?it/s]"
      ]
     },
     "metadata": {},
     "output_type": "display_data"
    },
    {
     "name": "stderr",
     "output_type": "stream",
     "text": [
      "Global seed set to 2\n",
      "Global seed set to 6\n",
      "GPU available: True, used: True\n",
      "TPU available: False, using: 0 TPU cores\n",
      "IPU available: False, using: 0 IPUs\n",
      "Global seed set to 0\n"
     ]
    },
    {
     "name": "stdout",
     "output_type": "stream",
     "text": [
      "{'training': True, '_parameters': OrderedDict(), '_buffers': OrderedDict(), '_non_persistent_buffers_set': set(), '_backward_hooks': OrderedDict(), '_is_full_backward_hook': None, '_forward_hooks': OrderedDict(), '_forward_pre_hooks': OrderedDict(), '_state_dict_hooks': OrderedDict(), '_load_state_dict_pre_hooks': OrderedDict(), '_load_state_dict_post_hooks': OrderedDict(), '_modules': OrderedDict([('linear', Linear(in_features=38, out_features=102, bias=True))]), 'neuron_indices': tensor([266, 315, 283, 323, 218, 318, 215, 111,  48, 192, 187, 174,  67, 213,\n",
      "        351, 344, 319, 324, 334, 188, 264,  66, 178, 316,  76, 248, 191, 309,\n",
      "         62, 276,   7, 232, 143, 342,  86, 340, 287, 124]), 'in_features': 38, 'out_features': 102}\n"
     ]
    },
    {
     "name": "stderr",
     "output_type": "stream",
     "text": [
      "LOCAL_RANK: 0 - CUDA_VISIBLE_DEVICES: [0,1,2,3,4,5,6,7]\n"
     ]
    },
    {
     "data": {
      "application/vnd.jupyter.widget-view+json": {
       "model_id": "c9ef1c95e9994e1d930a369e52fc09e1",
       "version_major": 2,
       "version_minor": 0
      },
      "text/plain": [
       "Predicting: 0it [00:00, ?it/s]"
      ]
     },
     "metadata": {},
     "output_type": "display_data"
    },
    {
     "name": "stderr",
     "output_type": "stream",
     "text": [
      "Global seed set to 2\n",
      "Global seed set to 7\n",
      "GPU available: True, used: True\n",
      "TPU available: False, using: 0 TPU cores\n",
      "IPU available: False, using: 0 IPUs\n",
      "Global seed set to 0\n",
      "LOCAL_RANK: 0 - CUDA_VISIBLE_DEVICES: [0,1,2,3,4,5,6,7]\n"
     ]
    },
    {
     "name": "stdout",
     "output_type": "stream",
     "text": [
      "{'training': True, '_parameters': OrderedDict(), '_buffers': OrderedDict(), '_non_persistent_buffers_set': set(), '_backward_hooks': OrderedDict(), '_is_full_backward_hook': None, '_forward_hooks': OrderedDict(), '_forward_pre_hooks': OrderedDict(), '_state_dict_hooks': OrderedDict(), '_load_state_dict_pre_hooks': OrderedDict(), '_load_state_dict_post_hooks': OrderedDict(), '_modules': OrderedDict([('linear', Linear(in_features=38, out_features=102, bias=True))]), 'neuron_indices': tensor([303, 204, 193, 254,  87, 153, 257, 298, 132,  20, 184, 156, 368, 175,\n",
      "        376, 208,  42, 190, 309,  47, 260, 115,   2, 122, 292, 315, 359,  37,\n",
      "        342,  57, 219, 129, 108, 142, 239, 196, 180, 247]), 'in_features': 38, 'out_features': 102}\n"
     ]
    },
    {
     "data": {
      "application/vnd.jupyter.widget-view+json": {
       "model_id": "c58903455581409d90eae3c2943fe22a",
       "version_major": 2,
       "version_minor": 0
      },
      "text/plain": [
       "Predicting: 0it [00:00, ?it/s]"
      ]
     },
     "metadata": {},
     "output_type": "display_data"
    },
    {
     "name": "stderr",
     "output_type": "stream",
     "text": [
      "Global seed set to 2\n",
      "Global seed set to 8\n",
      "GPU available: True, used: True\n",
      "TPU available: False, using: 0 TPU cores\n",
      "IPU available: False, using: 0 IPUs\n",
      "Global seed set to 0\n",
      "LOCAL_RANK: 0 - CUDA_VISIBLE_DEVICES: [0,1,2,3,4,5,6,7]\n"
     ]
    },
    {
     "name": "stdout",
     "output_type": "stream",
     "text": [
      "{'training': True, '_parameters': OrderedDict(), '_buffers': OrderedDict(), '_non_persistent_buffers_set': set(), '_backward_hooks': OrderedDict(), '_is_full_backward_hook': None, '_forward_hooks': OrderedDict(), '_forward_pre_hooks': OrderedDict(), '_state_dict_hooks': OrderedDict(), '_load_state_dict_pre_hooks': OrderedDict(), '_load_state_dict_post_hooks': OrderedDict(), '_modules': OrderedDict([('linear', Linear(in_features=38, out_features=102, bias=True))]), 'neuron_indices': tensor([195, 178, 363, 219, 321,  52, 274, 351, 280, 295, 150, 118, 205, 257,\n",
      "        211, 172, 330, 256, 332, 309, 153, 158, 329, 267, 306,  74, 354, 188,\n",
      "        342,  58, 180,   4, 115, 223,  39,  24, 235,  83]), 'in_features': 38, 'out_features': 102}\n"
     ]
    },
    {
     "data": {
      "application/vnd.jupyter.widget-view+json": {
       "model_id": "d75643ad07b5429ca068967fc82ab3a5",
       "version_major": 2,
       "version_minor": 0
      },
      "text/plain": [
       "Predicting: 0it [00:00, ?it/s]"
      ]
     },
     "metadata": {},
     "output_type": "display_data"
    },
    {
     "name": "stderr",
     "output_type": "stream",
     "text": [
      "Global seed set to 2\n",
      "Global seed set to 9\n",
      "GPU available: True, used: True\n",
      "TPU available: False, using: 0 TPU cores\n",
      "IPU available: False, using: 0 IPUs\n",
      "Global seed set to 0\n",
      "LOCAL_RANK: 0 - CUDA_VISIBLE_DEVICES: [0,1,2,3,4,5,6,7]\n"
     ]
    },
    {
     "name": "stdout",
     "output_type": "stream",
     "text": [
      "{'training': True, '_parameters': OrderedDict(), '_buffers': OrderedDict(), '_non_persistent_buffers_set': set(), '_backward_hooks': OrderedDict(), '_is_full_backward_hook': None, '_forward_hooks': OrderedDict(), '_forward_pre_hooks': OrderedDict(), '_state_dict_hooks': OrderedDict(), '_load_state_dict_pre_hooks': OrderedDict(), '_load_state_dict_post_hooks': OrderedDict(), '_modules': OrderedDict([('linear', Linear(in_features=38, out_features=102, bias=True))]), 'neuron_indices': tensor([382, 379, 274, 284, 106,  74, 247,  48, 197, 110, 142, 342, 279,  24,\n",
      "        130,  86,  88, 301, 113, 140, 137, 369, 254, 343, 310, 174, 282, 258,\n",
      "        216, 209, 146,   0,  92, 129, 294,  40, 126, 243]), 'in_features': 38, 'out_features': 102}\n"
     ]
    },
    {
     "data": {
      "application/vnd.jupyter.widget-view+json": {
       "model_id": "8426f20a12be4957981b5b70a43975e7",
       "version_major": 2,
       "version_minor": 0
      },
      "text/plain": [
       "Predicting: 0it [00:00, ?it/s]"
      ]
     },
     "metadata": {},
     "output_type": "display_data"
    },
    {
     "name": "stderr",
     "output_type": "stream",
     "text": [
      "Global seed set to 2\n",
      "Global seed set to 10\n",
      "GPU available: True, used: True\n",
      "TPU available: False, using: 0 TPU cores\n",
      "IPU available: False, using: 0 IPUs\n",
      "Global seed set to 0\n",
      "LOCAL_RANK: 0 - CUDA_VISIBLE_DEVICES: [0,1,2,3,4,5,6,7]\n"
     ]
    },
    {
     "name": "stdout",
     "output_type": "stream",
     "text": [
      "{'training': True, '_parameters': OrderedDict(), '_buffers': OrderedDict(), '_non_persistent_buffers_set': set(), '_backward_hooks': OrderedDict(), '_is_full_backward_hook': None, '_forward_hooks': OrderedDict(), '_forward_pre_hooks': OrderedDict(), '_state_dict_hooks': OrderedDict(), '_load_state_dict_pre_hooks': OrderedDict(), '_load_state_dict_post_hooks': OrderedDict(), '_modules': OrderedDict([('linear', Linear(in_features=38, out_features=102, bias=True))]), 'neuron_indices': tensor([137, 293, 312, 358, 376,  78, 311, 273, 241, 189, 176, 345, 301, 213,\n",
      "        200,  29, 240, 354, 172,  10, 260, 339, 208,  31, 263, 262, 258, 343,\n",
      "        275,  24, 164,  94,  40, 269,  42, 246, 307,   9]), 'in_features': 38, 'out_features': 102}\n"
     ]
    },
    {
     "data": {
      "application/vnd.jupyter.widget-view+json": {
       "model_id": "934e467381e14a1c9bd54eb58ef3f77e",
       "version_major": 2,
       "version_minor": 0
      },
      "text/plain": [
       "Predicting: 0it [00:00, ?it/s]"
      ]
     },
     "metadata": {},
     "output_type": "display_data"
    },
    {
     "name": "stderr",
     "output_type": "stream",
     "text": [
      "Global seed set to 2\n",
      "Global seed set to 1\n",
      "GPU available: True, used: True\n",
      "TPU available: False, using: 0 TPU cores\n",
      "IPU available: False, using: 0 IPUs\n",
      "Global seed set to 0\n",
      "LOCAL_RANK: 0 - CUDA_VISIBLE_DEVICES: [0,1,2,3,4,5,6,7]\n"
     ]
    },
    {
     "name": "stdout",
     "output_type": "stream",
     "text": [
      "{'training': True, '_parameters': OrderedDict(), '_buffers': OrderedDict(), '_non_persistent_buffers_set': set(), '_backward_hooks': OrderedDict(), '_is_full_backward_hook': None, '_forward_hooks': OrderedDict(), '_forward_pre_hooks': OrderedDict(), '_state_dict_hooks': OrderedDict(), '_load_state_dict_pre_hooks': OrderedDict(), '_load_state_dict_post_hooks': OrderedDict(), '_modules': OrderedDict([('linear', Linear(in_features=76, out_features=102, bias=True))]), 'neuron_indices': tensor([ 37,  88, 258, 104, 307, 131, 251, 113,  31,  66, 162, 117, 364, 158,\n",
      "        277,  69, 198, 329, 194,  50, 142,  84, 166, 340, 147,  77,  92, 176,\n",
      "         49, 153,  38,  73,  87,  57,  71,  16, 359,  61, 172,  89,  11, 196,\n",
      "        227, 366,   4, 291,  96,  48, 257, 298, 140, 306,  56, 363,  75, 209,\n",
      "        255, 122,  45, 217,  28, 326, 111, 116,  14, 107, 325, 102, 216, 112,\n",
      "         42, 375, 188, 128,  86, 315]), 'in_features': 76, 'out_features': 102}\n"
     ]
    },
    {
     "data": {
      "application/vnd.jupyter.widget-view+json": {
       "model_id": "4caa9c6e680c4682b493d6d3c43328fa",
       "version_major": 2,
       "version_minor": 0
      },
      "text/plain": [
       "Predicting: 0it [00:00, ?it/s]"
      ]
     },
     "metadata": {},
     "output_type": "display_data"
    },
    {
     "name": "stderr",
     "output_type": "stream",
     "text": [
      "Global seed set to 2\n",
      "Global seed set to 2\n",
      "GPU available: True, used: True\n",
      "TPU available: False, using: 0 TPU cores\n",
      "IPU available: False, using: 0 IPUs\n",
      "Global seed set to 0\n"
     ]
    },
    {
     "name": "stdout",
     "output_type": "stream",
     "text": [
      "{'training': True, '_parameters': OrderedDict(), '_buffers': OrderedDict(), '_non_persistent_buffers_set': set(), '_backward_hooks': OrderedDict(), '_is_full_backward_hook': None, '_forward_hooks': OrderedDict(), '_forward_pre_hooks': OrderedDict(), '_state_dict_hooks': OrderedDict(), '_load_state_dict_pre_hooks': OrderedDict(), '_load_state_dict_post_hooks': OrderedDict(), '_modules': OrderedDict([('linear', Linear(in_features=76, out_features=102, bias=True))]), 'neuron_indices': tensor([168,   9,  67, 159,  62, 235,  96, 153,  72, 270,  32, 122, 215, 213,\n",
      "        249, 269, 287,  81, 368,  89,   8, 309,  49, 250, 115, 329, 356, 231,\n",
      "        195,  82, 341,  63, 330,  47, 350, 187, 191, 150, 101, 359, 172, 298,\n",
      "        376, 322,  24, 259, 313, 183, 128,  11, 194, 158,  10, 278, 282,  35,\n",
      "        167,  21, 241, 306, 234,  19, 198, 379,  23,  31, 137, 240,  84, 106,\n",
      "        211,  25, 176, 267, 141, 197]), 'in_features': 76, 'out_features': 102}\n"
     ]
    },
    {
     "name": "stderr",
     "output_type": "stream",
     "text": [
      "LOCAL_RANK: 0 - CUDA_VISIBLE_DEVICES: [0,1,2,3,4,5,6,7]\n"
     ]
    },
    {
     "data": {
      "application/vnd.jupyter.widget-view+json": {
       "model_id": "e84d7f71905544b59e2cb16b5eafde41",
       "version_major": 2,
       "version_minor": 0
      },
      "text/plain": [
       "Predicting: 0it [00:00, ?it/s]"
      ]
     },
     "metadata": {},
     "output_type": "display_data"
    },
    {
     "name": "stderr",
     "output_type": "stream",
     "text": [
      "Global seed set to 2\n",
      "Global seed set to 3\n",
      "GPU available: True, used: True\n",
      "TPU available: False, using: 0 TPU cores\n",
      "IPU available: False, using: 0 IPUs\n",
      "Global seed set to 0\n",
      "LOCAL_RANK: 0 - CUDA_VISIBLE_DEVICES: [0,1,2,3,4,5,6,7]\n"
     ]
    },
    {
     "name": "stdout",
     "output_type": "stream",
     "text": [
      "{'training': True, '_parameters': OrderedDict(), '_buffers': OrderedDict(), '_non_persistent_buffers_set': set(), '_backward_hooks': OrderedDict(), '_is_full_backward_hook': None, '_forward_hooks': OrderedDict(), '_forward_pre_hooks': OrderedDict(), '_state_dict_hooks': OrderedDict(), '_load_state_dict_pre_hooks': OrderedDict(), '_load_state_dict_post_hooks': OrderedDict(), '_modules': OrderedDict([('linear', Linear(in_features=76, out_features=102, bias=True))]), 'neuron_indices': tensor([106, 302, 345, 306,  44,  25, 246, 165, 173, 373,  62, 354,  89,  61,\n",
      "        170, 154, 119, 223,  26, 158,  96,  50, 333, 210,  20,  13,  51,  60,\n",
      "        150, 174,  42, 362, 252, 379, 303,  66,   8, 254, 136, 315, 253, 204,\n",
      "         74, 356, 218, 321, 378, 102, 273, 380, 293, 208, 157, 290,   4,  19,\n",
      "        277, 346,  82, 221, 244, 180, 278, 312, 128, 141,  49, 310, 327, 274,\n",
      "        194,  88, 287,  21, 371, 212]), 'in_features': 76, 'out_features': 102}\n"
     ]
    },
    {
     "data": {
      "application/vnd.jupyter.widget-view+json": {
       "model_id": "e6a29ca0172048ee99ad79c825377bb9",
       "version_major": 2,
       "version_minor": 0
      },
      "text/plain": [
       "Predicting: 0it [00:00, ?it/s]"
      ]
     },
     "metadata": {},
     "output_type": "display_data"
    },
    {
     "name": "stderr",
     "output_type": "stream",
     "text": [
      "Global seed set to 2\n",
      "Global seed set to 4\n",
      "GPU available: True, used: True\n",
      "TPU available: False, using: 0 TPU cores\n",
      "IPU available: False, using: 0 IPUs\n",
      "Global seed set to 0\n",
      "LOCAL_RANK: 0 - CUDA_VISIBLE_DEVICES: [0,1,2,3,4,5,6,7]\n"
     ]
    },
    {
     "name": "stdout",
     "output_type": "stream",
     "text": [
      "{'training': True, '_parameters': OrderedDict(), '_buffers': OrderedDict(), '_non_persistent_buffers_set': set(), '_backward_hooks': OrderedDict(), '_is_full_backward_hook': None, '_forward_hooks': OrderedDict(), '_forward_pre_hooks': OrderedDict(), '_state_dict_hooks': OrderedDict(), '_load_state_dict_pre_hooks': OrderedDict(), '_load_state_dict_post_hooks': OrderedDict(), '_modules': OrderedDict([('linear', Linear(in_features=76, out_features=102, bias=True))]), 'neuron_indices': tensor([250, 172, 245, 263,  73,  12, 239,   0, 234, 120, 266, 204,  47, 302,\n",
      "        364, 328,  71, 145, 336,  61, 118, 155, 212, 194, 146, 301, 139,   2,\n",
      "         95,  19,  93, 299, 326, 111, 298, 277, 106,  45, 339, 243, 144, 193,\n",
      "        158,  75,  16,  98, 188,  99, 170, 166, 261, 207, 214, 138, 310, 143,\n",
      "        186, 199, 121, 296, 167,  29,  30, 284, 337, 137,  83, 156, 109, 101,\n",
      "        270, 373, 103, 291, 350, 286]), 'in_features': 76, 'out_features': 102}\n"
     ]
    },
    {
     "data": {
      "application/vnd.jupyter.widget-view+json": {
       "model_id": "f35a792a8d1c439e8dfc146883afd9f2",
       "version_major": 2,
       "version_minor": 0
      },
      "text/plain": [
       "Predicting: 0it [00:00, ?it/s]"
      ]
     },
     "metadata": {},
     "output_type": "display_data"
    },
    {
     "name": "stderr",
     "output_type": "stream",
     "text": [
      "Global seed set to 2\n",
      "Global seed set to 5\n",
      "GPU available: True, used: True\n",
      "TPU available: False, using: 0 TPU cores\n",
      "IPU available: False, using: 0 IPUs\n",
      "Global seed set to 0\n",
      "LOCAL_RANK: 0 - CUDA_VISIBLE_DEVICES: [0,1,2,3,4,5,6,7]\n"
     ]
    },
    {
     "name": "stdout",
     "output_type": "stream",
     "text": [
      "{'training': True, '_parameters': OrderedDict(), '_buffers': OrderedDict(), '_non_persistent_buffers_set': set(), '_backward_hooks': OrderedDict(), '_is_full_backward_hook': None, '_forward_hooks': OrderedDict(), '_forward_pre_hooks': OrderedDict(), '_state_dict_hooks': OrderedDict(), '_load_state_dict_pre_hooks': OrderedDict(), '_load_state_dict_post_hooks': OrderedDict(), '_modules': OrderedDict([('linear', Linear(in_features=76, out_features=102, bias=True))]), 'neuron_indices': tensor([227, 245, 139,   9, 250,  75,  70, 239,  80, 163, 325,  83,  95, 365,\n",
      "        112,   5, 119, 155, 269, 323, 149, 138,  90,  33,  68, 381, 279, 135,\n",
      "        183, 335, 126, 125, 349, 162,  64,  81, 157, 327, 331, 343,  54, 371,\n",
      "        240, 263, 104,  38, 127, 151,  14,  59,  92,   7, 148, 196, 173, 124,\n",
      "        311, 350,  55,  40, 225, 176,  47, 290, 369, 313,   3, 272, 376, 216,\n",
      "        118,  63, 379, 107, 211,  17]), 'in_features': 76, 'out_features': 102}\n"
     ]
    },
    {
     "data": {
      "application/vnd.jupyter.widget-view+json": {
       "model_id": "cc8d6cee1b304ca5a139143f14bf8e8d",
       "version_major": 2,
       "version_minor": 0
      },
      "text/plain": [
       "Predicting: 0it [00:00, ?it/s]"
      ]
     },
     "metadata": {},
     "output_type": "display_data"
    },
    {
     "name": "stderr",
     "output_type": "stream",
     "text": [
      "Global seed set to 2\n",
      "Global seed set to 6\n",
      "GPU available: True, used: True\n",
      "TPU available: False, using: 0 TPU cores\n",
      "IPU available: False, using: 0 IPUs\n",
      "Global seed set to 0\n",
      "LOCAL_RANK: 0 - CUDA_VISIBLE_DEVICES: [0,1,2,3,4,5,6,7]\n"
     ]
    },
    {
     "name": "stdout",
     "output_type": "stream",
     "text": [
      "{'training': True, '_parameters': OrderedDict(), '_buffers': OrderedDict(), '_non_persistent_buffers_set': set(), '_backward_hooks': OrderedDict(), '_is_full_backward_hook': None, '_forward_hooks': OrderedDict(), '_forward_pre_hooks': OrderedDict(), '_state_dict_hooks': OrderedDict(), '_load_state_dict_pre_hooks': OrderedDict(), '_load_state_dict_post_hooks': OrderedDict(), '_modules': OrderedDict([('linear', Linear(in_features=76, out_features=102, bias=True))]), 'neuron_indices': tensor([266, 315, 283, 323, 218, 318, 215, 111,  48, 192, 187, 174,  67, 213,\n",
      "        351, 344, 319, 324, 334, 188, 264,  66, 178, 316,  76, 248, 191, 309,\n",
      "         62, 276,   7, 232, 143, 342,  86, 340, 287, 124, 311, 242, 156, 105,\n",
      "        172, 120, 206, 281, 382, 271, 195, 303, 154,  97,   6, 223, 297,  54,\n",
      "         22, 268, 217, 259, 113,  31,  43,  10,  16, 236, 161, 175, 339, 220,\n",
      "         94, 190, 214, 249, 225, 196]), 'in_features': 76, 'out_features': 102}\n"
     ]
    },
    {
     "data": {
      "application/vnd.jupyter.widget-view+json": {
       "model_id": "30a7a945c28541e8a840783c45637374",
       "version_major": 2,
       "version_minor": 0
      },
      "text/plain": [
       "Predicting: 0it [00:00, ?it/s]"
      ]
     },
     "metadata": {},
     "output_type": "display_data"
    },
    {
     "name": "stderr",
     "output_type": "stream",
     "text": [
      "Global seed set to 2\n",
      "Global seed set to 7\n",
      "GPU available: True, used: True\n",
      "TPU available: False, using: 0 TPU cores\n",
      "IPU available: False, using: 0 IPUs\n",
      "Global seed set to 0\n"
     ]
    },
    {
     "name": "stdout",
     "output_type": "stream",
     "text": [
      "{'training': True, '_parameters': OrderedDict(), '_buffers': OrderedDict(), '_non_persistent_buffers_set': set(), '_backward_hooks': OrderedDict(), '_is_full_backward_hook': None, '_forward_hooks': OrderedDict(), '_forward_pre_hooks': OrderedDict(), '_state_dict_hooks': OrderedDict(), '_load_state_dict_pre_hooks': OrderedDict(), '_load_state_dict_post_hooks': OrderedDict(), '_modules': OrderedDict([('linear', Linear(in_features=76, out_features=102, bias=True))]), 'neuron_indices': tensor([303, 204, 193, 254,  87, 153, 257, 298, 132,  20, 184, 156, 368, 175,\n",
      "        376, 208,  42, 190, 309,  47, 260, 115,   2, 122, 292, 315, 359,  37,\n",
      "        342,  57, 219, 129, 108, 142, 239, 196, 180, 247,  69, 299,  30, 370,\n",
      "        366, 310,  96,  41, 206, 258, 164, 131, 159, 125, 231,   6, 264, 222,\n",
      "        176, 382, 140,  91, 154, 117, 245, 107, 284, 227,  67, 347, 350, 173,\n",
      "        139, 112, 293,  93, 241,   7]), 'in_features': 76, 'out_features': 102}\n"
     ]
    },
    {
     "name": "stderr",
     "output_type": "stream",
     "text": [
      "LOCAL_RANK: 0 - CUDA_VISIBLE_DEVICES: [0,1,2,3,4,5,6,7]\n"
     ]
    },
    {
     "data": {
      "application/vnd.jupyter.widget-view+json": {
       "model_id": "08612ce502a148e0958e05e179f1fd1a",
       "version_major": 2,
       "version_minor": 0
      },
      "text/plain": [
       "Predicting: 0it [00:00, ?it/s]"
      ]
     },
     "metadata": {},
     "output_type": "display_data"
    },
    {
     "name": "stderr",
     "output_type": "stream",
     "text": [
      "Global seed set to 2\n",
      "Global seed set to 8\n",
      "GPU available: True, used: True\n",
      "TPU available: False, using: 0 TPU cores\n",
      "IPU available: False, using: 0 IPUs\n",
      "Global seed set to 0\n",
      "LOCAL_RANK: 0 - CUDA_VISIBLE_DEVICES: [0,1,2,3,4,5,6,7]\n"
     ]
    },
    {
     "name": "stdout",
     "output_type": "stream",
     "text": [
      "{'training': True, '_parameters': OrderedDict(), '_buffers': OrderedDict(), '_non_persistent_buffers_set': set(), '_backward_hooks': OrderedDict(), '_is_full_backward_hook': None, '_forward_hooks': OrderedDict(), '_forward_pre_hooks': OrderedDict(), '_state_dict_hooks': OrderedDict(), '_load_state_dict_pre_hooks': OrderedDict(), '_load_state_dict_post_hooks': OrderedDict(), '_modules': OrderedDict([('linear', Linear(in_features=76, out_features=102, bias=True))]), 'neuron_indices': tensor([195, 178, 363, 219, 321,  52, 274, 351, 280, 295, 150, 118, 205, 257,\n",
      "        211, 172, 330, 256, 332, 309, 153, 158, 329, 267, 306,  74, 354, 188,\n",
      "        342,  58, 180,   4, 115, 223,  39,  24, 235,  83, 174, 346,  82, 359,\n",
      "        250, 122, 105,  64, 130, 114, 347, 191, 360,  99, 207, 284, 128, 131,\n",
      "         18, 246,  79, 243, 112, 209, 217, 173, 266, 189, 123,  45, 290,  38,\n",
      "        291, 230, 212, 265, 132,  15]), 'in_features': 76, 'out_features': 102}\n"
     ]
    },
    {
     "data": {
      "application/vnd.jupyter.widget-view+json": {
       "model_id": "23d0e7ad58304b8787d5b8a0a88c8fe1",
       "version_major": 2,
       "version_minor": 0
      },
      "text/plain": [
       "Predicting: 0it [00:00, ?it/s]"
      ]
     },
     "metadata": {},
     "output_type": "display_data"
    },
    {
     "name": "stderr",
     "output_type": "stream",
     "text": [
      "Global seed set to 2\n",
      "Global seed set to 9\n",
      "GPU available: True, used: True\n",
      "TPU available: False, using: 0 TPU cores\n",
      "IPU available: False, using: 0 IPUs\n",
      "Global seed set to 0\n",
      "LOCAL_RANK: 0 - CUDA_VISIBLE_DEVICES: [0,1,2,3,4,5,6,7]\n"
     ]
    },
    {
     "name": "stdout",
     "output_type": "stream",
     "text": [
      "{'training': True, '_parameters': OrderedDict(), '_buffers': OrderedDict(), '_non_persistent_buffers_set': set(), '_backward_hooks': OrderedDict(), '_is_full_backward_hook': None, '_forward_hooks': OrderedDict(), '_forward_pre_hooks': OrderedDict(), '_state_dict_hooks': OrderedDict(), '_load_state_dict_pre_hooks': OrderedDict(), '_load_state_dict_post_hooks': OrderedDict(), '_modules': OrderedDict([('linear', Linear(in_features=76, out_features=102, bias=True))]), 'neuron_indices': tensor([382, 379, 274, 284, 106,  74, 247,  48, 197, 110, 142, 342, 279,  24,\n",
      "        130,  86,  88, 301, 113, 140, 137, 369, 254, 343, 310, 174, 282, 258,\n",
      "        216, 209, 146,   0,  92, 129, 294,  40, 126, 243, 111,  41, 187,  29,\n",
      "        205, 285, 198, 250,  65,  22, 280, 101, 123, 231,  21, 210, 336, 241,\n",
      "        117, 360,  15,  13, 102, 375, 118, 116, 232, 299, 263, 176, 292, 268,\n",
      "         98, 217, 168,  97, 124, 311]), 'in_features': 76, 'out_features': 102}\n"
     ]
    },
    {
     "data": {
      "application/vnd.jupyter.widget-view+json": {
       "model_id": "1d523ecb90064dda9d05df458735054c",
       "version_major": 2,
       "version_minor": 0
      },
      "text/plain": [
       "Predicting: 0it [00:00, ?it/s]"
      ]
     },
     "metadata": {},
     "output_type": "display_data"
    },
    {
     "name": "stderr",
     "output_type": "stream",
     "text": [
      "Global seed set to 2\n",
      "Global seed set to 10\n",
      "GPU available: True, used: True\n",
      "TPU available: False, using: 0 TPU cores\n",
      "IPU available: False, using: 0 IPUs\n",
      "Global seed set to 0\n",
      "LOCAL_RANK: 0 - CUDA_VISIBLE_DEVICES: [0,1,2,3,4,5,6,7]\n"
     ]
    },
    {
     "name": "stdout",
     "output_type": "stream",
     "text": [
      "{'training': True, '_parameters': OrderedDict(), '_buffers': OrderedDict(), '_non_persistent_buffers_set': set(), '_backward_hooks': OrderedDict(), '_is_full_backward_hook': None, '_forward_hooks': OrderedDict(), '_forward_pre_hooks': OrderedDict(), '_state_dict_hooks': OrderedDict(), '_load_state_dict_pre_hooks': OrderedDict(), '_load_state_dict_post_hooks': OrderedDict(), '_modules': OrderedDict([('linear', Linear(in_features=76, out_features=102, bias=True))]), 'neuron_indices': tensor([137, 293, 312, 358, 376,  78, 311, 273, 241, 189, 176, 345, 301, 213,\n",
      "        200,  29, 240, 354, 172,  10, 260, 339, 208,  31, 263, 262, 258, 343,\n",
      "        275,  24, 164,  94,  40, 269,  42, 246, 307,   9, 155, 122, 109, 379,\n",
      "         55, 211, 153,  71,  22,  12, 302, 243, 256, 277,  38,  57,  96,  59,\n",
      "         66, 305, 285,  61,  28, 317, 202, 265, 348,  45, 118, 297, 231, 147,\n",
      "        224, 191, 295,  33,   7, 157]), 'in_features': 76, 'out_features': 102}\n"
     ]
    },
    {
     "data": {
      "application/vnd.jupyter.widget-view+json": {
       "model_id": "f1b8343a7fe947418388916179656628",
       "version_major": 2,
       "version_minor": 0
      },
      "text/plain": [
       "Predicting: 0it [00:00, ?it/s]"
      ]
     },
     "metadata": {},
     "output_type": "display_data"
    },
    {
     "name": "stderr",
     "output_type": "stream",
     "text": [
      "Global seed set to 2\n",
      "Global seed set to 1\n",
      "GPU available: True, used: True\n",
      "TPU available: False, using: 0 TPU cores\n",
      "IPU available: False, using: 0 IPUs\n",
      "Global seed set to 0\n",
      "LOCAL_RANK: 0 - CUDA_VISIBLE_DEVICES: [0,1,2,3,4,5,6,7]\n"
     ]
    },
    {
     "name": "stdout",
     "output_type": "stream",
     "text": [
      "{'training': True, '_parameters': OrderedDict(), '_buffers': OrderedDict(), '_non_persistent_buffers_set': set(), '_backward_hooks': OrderedDict(), '_is_full_backward_hook': None, '_forward_hooks': OrderedDict(), '_forward_pre_hooks': OrderedDict(), '_state_dict_hooks': OrderedDict(), '_load_state_dict_pre_hooks': OrderedDict(), '_load_state_dict_post_hooks': OrderedDict(), '_modules': OrderedDict([('linear', Linear(in_features=192, out_features=102, bias=True))]), 'neuron_indices': tensor([ 37,  88, 258, 104, 307, 131, 251, 113,  31,  66, 162, 117, 364, 158,\n",
      "        277,  69, 198, 329, 194,  50, 142,  84, 166, 340, 147,  77,  92, 176,\n",
      "         49, 153,  38,  73,  87,  57,  71,  16, 359,  61, 172,  89,  11, 196,\n",
      "        227, 366,   4, 291,  96,  48, 257, 298, 140, 306,  56, 363,  75, 209,\n",
      "        255, 122,  45, 217,  28, 326, 111, 116,  14, 107, 325, 102, 216, 112,\n",
      "         42, 375, 188, 128,  86, 315, 249, 316,   5, 339, 175,   2, 352, 301,\n",
      "        259, 346, 205,  60, 378, 238, 266, 334,  74, 342, 267, 213,  34, 114,\n",
      "        354, 256, 361, 327, 219, 228, 200, 138, 134, 157, 101, 106, 179,  22,\n",
      "        185, 207, 223, 168, 382, 136, 358,  79, 376, 253, 119, 296,  29, 304,\n",
      "        265, 271, 120, 270, 357, 149, 144, 273, 262, 155, 252, 130, 261, 218,\n",
      "        135,  82, 103, 246, 204,  13, 310, 245, 208, 279, 303, 248, 292, 150,\n",
      "          8, 350, 370, 141, 177, 241, 311, 178, 335, 377, 333, 244, 190, 380,\n",
      "        165, 313, 132, 110, 206, 202, 381, 365, 322,  43, 233, 353, 232, 146,\n",
      "         95,  94, 282, 349, 170,  78,   1, 234,  85, 371]), 'in_features': 192, 'out_features': 102}\n"
     ]
    },
    {
     "data": {
      "application/vnd.jupyter.widget-view+json": {
       "model_id": "d7ab8a657db84cbebb7973476f4d3628",
       "version_major": 2,
       "version_minor": 0
      },
      "text/plain": [
       "Predicting: 0it [00:00, ?it/s]"
      ]
     },
     "metadata": {},
     "output_type": "display_data"
    },
    {
     "name": "stderr",
     "output_type": "stream",
     "text": [
      "Global seed set to 2\n",
      "Global seed set to 2\n",
      "GPU available: True, used: True\n",
      "TPU available: False, using: 0 TPU cores\n",
      "IPU available: False, using: 0 IPUs\n",
      "Global seed set to 0\n",
      "LOCAL_RANK: 0 - CUDA_VISIBLE_DEVICES: [0,1,2,3,4,5,6,7]\n"
     ]
    },
    {
     "name": "stdout",
     "output_type": "stream",
     "text": [
      "{'training': True, '_parameters': OrderedDict(), '_buffers': OrderedDict(), '_non_persistent_buffers_set': set(), '_backward_hooks': OrderedDict(), '_is_full_backward_hook': None, '_forward_hooks': OrderedDict(), '_forward_pre_hooks': OrderedDict(), '_state_dict_hooks': OrderedDict(), '_load_state_dict_pre_hooks': OrderedDict(), '_load_state_dict_post_hooks': OrderedDict(), '_modules': OrderedDict([('linear', Linear(in_features=192, out_features=102, bias=True))]), 'neuron_indices': tensor([168,   9,  67, 159,  62, 235,  96, 153,  72, 270,  32, 122, 215, 213,\n",
      "        249, 269, 287,  81, 368,  89,   8, 309,  49, 250, 115, 329, 356, 231,\n",
      "        195,  82, 341,  63, 330,  47, 350, 187, 191, 150, 101, 359, 172, 298,\n",
      "        376, 322,  24, 259, 313, 183, 128,  11, 194, 158,  10, 278, 282,  35,\n",
      "        167,  21, 241, 306, 234,  19, 198, 379,  23,  31, 137, 240,  84, 106,\n",
      "        211,  25, 176, 267, 141, 197, 129, 177, 188, 133,  22, 175, 371, 160,\n",
      "        147, 138, 178,  56,   0, 347, 248, 360, 292, 181, 320,  66, 214, 236,\n",
      "        124, 185, 262,  34,  38, 381, 353, 348, 134, 143, 189, 130, 331,   2,\n",
      "        357,  86, 300, 316,  59, 154, 340, 302, 244,  46,  80, 212,   4, 280,\n",
      "         68, 291, 144,  28, 277, 105, 237, 354, 295, 336, 135, 246, 170,  42,\n",
      "         73,  45,  99, 373, 132, 200,  75, 311,  36, 247, 370, 192, 294,  33,\n",
      "        335, 276, 182,  97, 209,  27, 254,  53, 264, 382,  40, 127, 261, 374,\n",
      "         87, 268, 265, 257, 173,  64, 216, 118, 239,  79,   1, 312,  70, 343,\n",
      "        344, 326, 163, 363, 142, 169, 242, 273,   6, 342]), 'in_features': 192, 'out_features': 102}\n"
     ]
    },
    {
     "data": {
      "application/vnd.jupyter.widget-view+json": {
       "model_id": "6d6ec2ea9c40498ea98f18a6e18841d3",
       "version_major": 2,
       "version_minor": 0
      },
      "text/plain": [
       "Predicting: 0it [00:00, ?it/s]"
      ]
     },
     "metadata": {},
     "output_type": "display_data"
    },
    {
     "name": "stderr",
     "output_type": "stream",
     "text": [
      "Global seed set to 2\n",
      "Global seed set to 3\n",
      "GPU available: True, used: True\n",
      "TPU available: False, using: 0 TPU cores\n",
      "IPU available: False, using: 0 IPUs\n",
      "Global seed set to 0\n",
      "LOCAL_RANK: 0 - CUDA_VISIBLE_DEVICES: [0,1,2,3,4,5,6,7]\n"
     ]
    },
    {
     "name": "stdout",
     "output_type": "stream",
     "text": [
      "{'training': True, '_parameters': OrderedDict(), '_buffers': OrderedDict(), '_non_persistent_buffers_set': set(), '_backward_hooks': OrderedDict(), '_is_full_backward_hook': None, '_forward_hooks': OrderedDict(), '_forward_pre_hooks': OrderedDict(), '_state_dict_hooks': OrderedDict(), '_load_state_dict_pre_hooks': OrderedDict(), '_load_state_dict_post_hooks': OrderedDict(), '_modules': OrderedDict([('linear', Linear(in_features=192, out_features=102, bias=True))]), 'neuron_indices': tensor([106, 302, 345, 306,  44,  25, 246, 165, 173, 373,  62, 354,  89,  61,\n",
      "        170, 154, 119, 223,  26, 158,  96,  50, 333, 210,  20,  13,  51,  60,\n",
      "        150, 174,  42, 362, 252, 379, 303,  66,   8, 254, 136, 315, 253, 204,\n",
      "         74, 356, 218, 321, 378, 102, 273, 380, 293, 208, 157, 290,   4,  19,\n",
      "        277, 346,  82, 221, 244, 180, 278, 312, 128, 141,  49, 310, 327, 274,\n",
      "        194,  88, 287,  21, 371, 212,  45, 259, 133, 134, 181, 366,  47, 152,\n",
      "        296,  87, 313,  14, 360, 269,  32, 160, 108,  56,  94, 351,  16, 265,\n",
      "        151, 178, 129, 182, 226,   1, 249,  78, 131, 115,  37, 144, 124, 209,\n",
      "         31, 355, 368, 149, 211, 361, 166, 242, 228, 109,   7, 279,  76, 230,\n",
      "        168, 304,  52, 267,  85,  84, 281, 308, 383, 113, 127, 261, 291, 234,\n",
      "         57,  79,   6, 282, 260, 205, 268, 146, 247, 288, 139, 266, 295, 138,\n",
      "         39, 143, 377, 344, 382,  33,  69, 190, 126, 217,  15, 207,  63, 185,\n",
      "        206,  73, 325,  35, 305, 326,  34, 105, 300,  72, 322, 375, 243, 363,\n",
      "          2, 186, 236, 317,  58, 193, 107, 231,  91, 220]), 'in_features': 192, 'out_features': 102}\n"
     ]
    },
    {
     "data": {
      "application/vnd.jupyter.widget-view+json": {
       "model_id": "23b40852f2b543769411a50e0eb6f7db",
       "version_major": 2,
       "version_minor": 0
      },
      "text/plain": [
       "Predicting: 0it [00:00, ?it/s]"
      ]
     },
     "metadata": {},
     "output_type": "display_data"
    },
    {
     "name": "stderr",
     "output_type": "stream",
     "text": [
      "Global seed set to 2\n",
      "Global seed set to 4\n",
      "GPU available: True, used: True\n",
      "TPU available: False, using: 0 TPU cores\n",
      "IPU available: False, using: 0 IPUs\n",
      "Global seed set to 0\n",
      "LOCAL_RANK: 0 - CUDA_VISIBLE_DEVICES: [0,1,2,3,4,5,6,7]\n"
     ]
    },
    {
     "name": "stdout",
     "output_type": "stream",
     "text": [
      "{'training': True, '_parameters': OrderedDict(), '_buffers': OrderedDict(), '_non_persistent_buffers_set': set(), '_backward_hooks': OrderedDict(), '_is_full_backward_hook': None, '_forward_hooks': OrderedDict(), '_forward_pre_hooks': OrderedDict(), '_state_dict_hooks': OrderedDict(), '_load_state_dict_pre_hooks': OrderedDict(), '_load_state_dict_post_hooks': OrderedDict(), '_modules': OrderedDict([('linear', Linear(in_features=192, out_features=102, bias=True))]), 'neuron_indices': tensor([250, 172, 245, 263,  73,  12, 239,   0, 234, 120, 266, 204,  47, 302,\n",
      "        364, 328,  71, 145, 336,  61, 118, 155, 212, 194, 146, 301, 139,   2,\n",
      "         95,  19,  93, 299, 326, 111, 298, 277, 106,  45, 339, 243, 144, 193,\n",
      "        158,  75,  16,  98, 188,  99, 170, 166, 261, 207, 214, 138, 310, 143,\n",
      "        186, 199, 121, 296, 167,  29,  30, 284, 337, 137,  83, 156, 109, 101,\n",
      "        270, 373, 103, 291, 350, 286, 107, 190, 122,  25, 215,  11, 244, 316,\n",
      "        223, 153, 340, 348, 281, 334,  44, 187, 195, 119, 247,  13,  51, 136,\n",
      "        285, 295, 203, 254, 162, 159,  50, 279, 275,  17, 141, 365,  72,  81,\n",
      "        366,  74, 210, 347,  46, 382, 375,  89,  85, 331, 309, 221, 233, 361,\n",
      "        306, 274, 315, 335, 258, 248, 370, 381, 240,  67, 352, 180,   3, 353,\n",
      "         24, 317,  49,  86, 209, 369,  21, 362, 371, 264, 321,  41, 333, 259,\n",
      "         54, 154,  60, 341,  87, 325, 319, 230, 197, 229, 383,  53, 147,  32,\n",
      "        129,   4, 205, 297, 114, 293,  52,  37,  96, 150,  94, 183, 189,  42,\n",
      "        378, 260, 330, 265,  34, 338, 165, 322, 273, 228]), 'in_features': 192, 'out_features': 102}\n"
     ]
    },
    {
     "data": {
      "application/vnd.jupyter.widget-view+json": {
       "model_id": "f7ce2e55ac69448e93320a126b9688a7",
       "version_major": 2,
       "version_minor": 0
      },
      "text/plain": [
       "Predicting: 0it [00:00, ?it/s]"
      ]
     },
     "metadata": {},
     "output_type": "display_data"
    },
    {
     "name": "stderr",
     "output_type": "stream",
     "text": [
      "Global seed set to 2\n",
      "Global seed set to 5\n",
      "GPU available: True, used: True\n",
      "TPU available: False, using: 0 TPU cores\n",
      "IPU available: False, using: 0 IPUs\n",
      "Global seed set to 0\n",
      "LOCAL_RANK: 0 - CUDA_VISIBLE_DEVICES: [0,1,2,3,4,5,6,7]\n"
     ]
    },
    {
     "name": "stdout",
     "output_type": "stream",
     "text": [
      "{'training': True, '_parameters': OrderedDict(), '_buffers': OrderedDict(), '_non_persistent_buffers_set': set(), '_backward_hooks': OrderedDict(), '_is_full_backward_hook': None, '_forward_hooks': OrderedDict(), '_forward_pre_hooks': OrderedDict(), '_state_dict_hooks': OrderedDict(), '_load_state_dict_pre_hooks': OrderedDict(), '_load_state_dict_post_hooks': OrderedDict(), '_modules': OrderedDict([('linear', Linear(in_features=192, out_features=102, bias=True))]), 'neuron_indices': tensor([227, 245, 139,   9, 250,  75,  70, 239,  80, 163, 325,  83,  95, 365,\n",
      "        112,   5, 119, 155, 269, 323, 149, 138,  90,  33,  68, 381, 279, 135,\n",
      "        183, 335, 126, 125, 349, 162,  64,  81, 157, 327, 331, 343,  54, 371,\n",
      "        240, 263, 104,  38, 127, 151,  14,  59,  92,   7, 148, 196, 173, 124,\n",
      "        311, 350,  55,  40, 225, 176,  47, 290, 369, 313,   3, 272, 376, 216,\n",
      "        118,  63, 379, 107, 211,  17,  97, 332,  15, 178, 366, 302, 355, 374,\n",
      "        193,  72, 303, 258, 182, 288,  11, 131, 281,   6,   2, 244, 165, 218,\n",
      "         74,  57, 164,  41, 340,  60, 136, 330,  87, 123, 324, 383,  93,  44,\n",
      "        174, 122, 232, 301,  66, 344, 219, 358, 117, 237, 378, 372, 254, 308,\n",
      "        342,  42, 261,  16, 168, 106, 201, 270, 274, 188,  18,  25,  76, 278,\n",
      "        200, 364, 141, 137,  51, 111, 347, 382, 156, 169, 160, 293,  12, 326,\n",
      "         86, 305, 304, 235,   8, 300, 101, 116,  45, 191,  28,  39,  89, 233,\n",
      "        251, 184, 197, 128, 284,  88,  32, 309, 380, 214, 228, 109, 319, 192,\n",
      "        159, 181, 338,  61,  29, 129, 328, 217, 180, 317]), 'in_features': 192, 'out_features': 102}\n"
     ]
    },
    {
     "data": {
      "application/vnd.jupyter.widget-view+json": {
       "model_id": "7bed283f86f647a88093d3d085c72c13",
       "version_major": 2,
       "version_minor": 0
      },
      "text/plain": [
       "Predicting: 0it [00:00, ?it/s]"
      ]
     },
     "metadata": {},
     "output_type": "display_data"
    },
    {
     "name": "stderr",
     "output_type": "stream",
     "text": [
      "Global seed set to 2\n",
      "Global seed set to 6\n",
      "GPU available: True, used: True\n",
      "TPU available: False, using: 0 TPU cores\n",
      "IPU available: False, using: 0 IPUs\n",
      "Global seed set to 0\n",
      "LOCAL_RANK: 0 - CUDA_VISIBLE_DEVICES: [0,1,2,3,4,5,6,7]\n"
     ]
    },
    {
     "name": "stdout",
     "output_type": "stream",
     "text": [
      "{'training': True, '_parameters': OrderedDict(), '_buffers': OrderedDict(), '_non_persistent_buffers_set': set(), '_backward_hooks': OrderedDict(), '_is_full_backward_hook': None, '_forward_hooks': OrderedDict(), '_forward_pre_hooks': OrderedDict(), '_state_dict_hooks': OrderedDict(), '_load_state_dict_pre_hooks': OrderedDict(), '_load_state_dict_post_hooks': OrderedDict(), '_modules': OrderedDict([('linear', Linear(in_features=192, out_features=102, bias=True))]), 'neuron_indices': tensor([266, 315, 283, 323, 218, 318, 215, 111,  48, 192, 187, 174,  67, 213,\n",
      "        351, 344, 319, 324, 334, 188, 264,  66, 178, 316,  76, 248, 191, 309,\n",
      "         62, 276,   7, 232, 143, 342,  86, 340, 287, 124, 311, 242, 156, 105,\n",
      "        172, 120, 206, 281, 382, 271, 195, 303, 154,  97,   6, 223, 297,  54,\n",
      "         22, 268, 217, 259, 113,  31,  43,  10,  16, 236, 161, 175, 339, 220,\n",
      "         94, 190, 214, 249, 225, 196, 136, 169,  88, 198, 135, 346, 291, 122,\n",
      "        265, 130, 238, 374, 257, 193, 173,  47, 301, 100, 189, 308,  78, 314,\n",
      "        180, 321, 137, 171, 210, 350,  55, 176, 237,  45, 126, 373,  12, 302,\n",
      "         83,  38, 205, 110, 234,  71, 290, 125, 369, 293, 239, 371, 360, 349,\n",
      "         25, 230,  51,  80, 102, 337, 227,  27, 284,  82, 128,  26, 129, 273,\n",
      "        167, 263, 304, 296, 222,  29, 103,  84,  99, 224, 336,  21,  28,  58,\n",
      "        277,  18,  60, 362, 166, 123,  15, 327,  61, 294, 112, 279,  41,  98,\n",
      "        380, 285, 250, 357,  36, 300,  19, 157, 150,  23,  72, 109,  64, 378,\n",
      "        162, 170,   2, 278,  49, 228, 229, 158, 353, 146]), 'in_features': 192, 'out_features': 102}\n"
     ]
    },
    {
     "data": {
      "application/vnd.jupyter.widget-view+json": {
       "model_id": "411d2890c05f4a8db44c1ee6b89482eb",
       "version_major": 2,
       "version_minor": 0
      },
      "text/plain": [
       "Predicting: 0it [00:00, ?it/s]"
      ]
     },
     "metadata": {},
     "output_type": "display_data"
    },
    {
     "name": "stderr",
     "output_type": "stream",
     "text": [
      "Global seed set to 2\n",
      "Global seed set to 7\n",
      "GPU available: True, used: True\n",
      "TPU available: False, using: 0 TPU cores\n",
      "IPU available: False, using: 0 IPUs\n",
      "Global seed set to 0\n",
      "LOCAL_RANK: 0 - CUDA_VISIBLE_DEVICES: [0,1,2,3,4,5,6,7]\n"
     ]
    },
    {
     "name": "stdout",
     "output_type": "stream",
     "text": [
      "{'training': True, '_parameters': OrderedDict(), '_buffers': OrderedDict(), '_non_persistent_buffers_set': set(), '_backward_hooks': OrderedDict(), '_is_full_backward_hook': None, '_forward_hooks': OrderedDict(), '_forward_pre_hooks': OrderedDict(), '_state_dict_hooks': OrderedDict(), '_load_state_dict_pre_hooks': OrderedDict(), '_load_state_dict_post_hooks': OrderedDict(), '_modules': OrderedDict([('linear', Linear(in_features=192, out_features=102, bias=True))]), 'neuron_indices': tensor([303, 204, 193, 254,  87, 153, 257, 298, 132,  20, 184, 156, 368, 175,\n",
      "        376, 208,  42, 190, 309,  47, 260, 115,   2, 122, 292, 315, 359,  37,\n",
      "        342,  57, 219, 129, 108, 142, 239, 196, 180, 247,  69, 299,  30, 370,\n",
      "        366, 310,  96,  41, 206, 258, 164, 131, 159, 125, 231,   6, 264, 222,\n",
      "        176, 382, 140,  91, 154, 117, 245, 107, 284, 227,  67, 347, 350, 173,\n",
      "        139, 112, 293,  93, 241,   7, 375, 263, 251, 182, 163, 283, 277, 365,\n",
      "        195,  48,  34,  77,   1,  32, 237,  49,  45, 246, 351,  74, 285, 249,\n",
      "        111, 146, 130,  92, 148, 157, 373,  31, 155, 137,  33, 228, 226, 200,\n",
      "        141, 143, 289, 230, 102, 218, 232, 162, 364, 194,  80, 295, 243,  29,\n",
      "        105, 113,   8, 149, 166, 367, 282, 326, 345,  90, 343, 233,  14, 261,\n",
      "          4, 188,  15, 332,  50,  38, 262,  66,  99, 199, 340, 202, 150, 338,\n",
      "         62, 275, 286,  16, 363,  21, 244, 353, 369, 381,  28, 256,  51, 311,\n",
      "        302,  56, 362, 324,  12, 307, 158, 355,  55, 133,  44,  61,   5, 253,\n",
      "        371,  82,  26,  73, 177, 304, 161,  24, 296,  18]), 'in_features': 192, 'out_features': 102}\n"
     ]
    },
    {
     "data": {
      "application/vnd.jupyter.widget-view+json": {
       "model_id": "bed2bb3e85de4d0aa65afac53ea0138e",
       "version_major": 2,
       "version_minor": 0
      },
      "text/plain": [
       "Predicting: 0it [00:00, ?it/s]"
      ]
     },
     "metadata": {},
     "output_type": "display_data"
    },
    {
     "name": "stderr",
     "output_type": "stream",
     "text": [
      "Global seed set to 2\n",
      "Global seed set to 8\n",
      "GPU available: True, used: True\n",
      "TPU available: False, using: 0 TPU cores\n",
      "IPU available: False, using: 0 IPUs\n",
      "Global seed set to 0\n"
     ]
    },
    {
     "name": "stdout",
     "output_type": "stream",
     "text": [
      "{'training': True, '_parameters': OrderedDict(), '_buffers': OrderedDict(), '_non_persistent_buffers_set': set(), '_backward_hooks': OrderedDict(), '_is_full_backward_hook': None, '_forward_hooks': OrderedDict(), '_forward_pre_hooks': OrderedDict(), '_state_dict_hooks': OrderedDict(), '_load_state_dict_pre_hooks': OrderedDict(), '_load_state_dict_post_hooks': OrderedDict(), '_modules': OrderedDict([('linear', Linear(in_features=192, out_features=102, bias=True))]), 'neuron_indices': tensor([195, 178, 363, 219, 321,  52, 274, 351, 280, 295, 150, 118, 205, 257,\n",
      "        211, 172, 330, 256, 332, 309, 153, 158, 329, 267, 306,  74, 354, 188,\n",
      "        342,  58, 180,   4, 115, 223,  39,  24, 235,  83, 174, 346,  82, 359,\n",
      "        250, 122, 105,  64, 130, 114, 347, 191, 360,  99, 207, 284, 128, 131,\n",
      "         18, 246,  79, 243, 112, 209, 217, 173, 266, 189, 123,  45, 290,  38,\n",
      "        291, 230, 212, 265, 132,  15,  75, 186, 181, 192, 277, 228, 208, 272,\n",
      "        378,  98, 136, 165,  43, 251, 129,  11, 299,  93,  14,  20, 167, 229,\n",
      "        141,  94,  77,  40, 137,  12, 120, 170,  88, 327,  67, 364, 213, 183,\n",
      "        196, 146, 127,   3, 324,   7, 349, 301, 352,  60,   2, 221, 145,  21,\n",
      "        177, 175, 203, 147, 148,  33, 264,  29,  96, 179, 383,  78, 371, 227,\n",
      "        348, 138,  55,   5, 252, 312, 139,  61, 107,  97, 345,  32, 163, 247,\n",
      "        353, 322, 108, 263, 104, 234, 339, 185, 314, 379, 161,  13,  34,  73,\n",
      "        197, 381, 160, 285, 377, 278, 155,  59,  56, 238,  72, 162, 296, 259,\n",
      "        298,  62, 335, 224, 194, 268, 305, 166, 262,  41]), 'in_features': 192, 'out_features': 102}\n"
     ]
    },
    {
     "name": "stderr",
     "output_type": "stream",
     "text": [
      "LOCAL_RANK: 0 - CUDA_VISIBLE_DEVICES: [0,1,2,3,4,5,6,7]\n"
     ]
    },
    {
     "data": {
      "application/vnd.jupyter.widget-view+json": {
       "model_id": "bccf7d2fe2bf4785bab42976b3773e4f",
       "version_major": 2,
       "version_minor": 0
      },
      "text/plain": [
       "Predicting: 0it [00:00, ?it/s]"
      ]
     },
     "metadata": {},
     "output_type": "display_data"
    },
    {
     "name": "stderr",
     "output_type": "stream",
     "text": [
      "Global seed set to 2\n",
      "Global seed set to 9\n",
      "GPU available: True, used: True\n",
      "TPU available: False, using: 0 TPU cores\n",
      "IPU available: False, using: 0 IPUs\n",
      "Global seed set to 0\n",
      "LOCAL_RANK: 0 - CUDA_VISIBLE_DEVICES: [0,1,2,3,4,5,6,7]\n"
     ]
    },
    {
     "name": "stdout",
     "output_type": "stream",
     "text": [
      "{'training': True, '_parameters': OrderedDict(), '_buffers': OrderedDict(), '_non_persistent_buffers_set': set(), '_backward_hooks': OrderedDict(), '_is_full_backward_hook': None, '_forward_hooks': OrderedDict(), '_forward_pre_hooks': OrderedDict(), '_state_dict_hooks': OrderedDict(), '_load_state_dict_pre_hooks': OrderedDict(), '_load_state_dict_post_hooks': OrderedDict(), '_modules': OrderedDict([('linear', Linear(in_features=192, out_features=102, bias=True))]), 'neuron_indices': tensor([382, 379, 274, 284, 106,  74, 247,  48, 197, 110, 142, 342, 279,  24,\n",
      "        130,  86,  88, 301, 113, 140, 137, 369, 254, 343, 310, 174, 282, 258,\n",
      "        216, 209, 146,   0,  92, 129, 294,  40, 126, 243, 111,  41, 187,  29,\n",
      "        205, 285, 198, 250,  65,  22, 280, 101, 123, 231,  21, 210, 336, 241,\n",
      "        117, 360,  15,  13, 102, 375, 118, 116, 232, 299, 263, 176, 292, 268,\n",
      "         98, 217, 168,  97, 124, 311, 181, 370, 240, 335,  25, 361, 230, 321,\n",
      "        244,  44,  23, 252, 317, 156, 166, 363, 173,  76, 201,  49, 271,  66,\n",
      "        236, 155, 242, 128,  18, 214, 218, 281, 324, 338, 229,  12, 290, 354,\n",
      "        163,  60,   1, 189,  36, 302, 188, 171, 376, 350,  95, 141,  42, 264,\n",
      "        323, 368, 107, 341,  17, 295, 277, 332, 238, 136,  11,   7, 345, 223,\n",
      "        103,  84,   8, 348,  54, 326,  81,  56,  46, 104,  26, 346, 372, 135,\n",
      "         83, 147, 246, 122, 172, 115, 204, 325, 228, 234,   3, 180, 200, 257,\n",
      "        322, 178, 320, 373, 367, 291, 253,   2,  52, 220, 340, 207,  50, 286,\n",
      "          6, 380, 344, 121, 203,  31,  45, 377, 356,  75]), 'in_features': 192, 'out_features': 102}\n"
     ]
    },
    {
     "data": {
      "application/vnd.jupyter.widget-view+json": {
       "model_id": "b4d7d0379d1c4982ac80b1d44f8b3782",
       "version_major": 2,
       "version_minor": 0
      },
      "text/plain": [
       "Predicting: 0it [00:00, ?it/s]"
      ]
     },
     "metadata": {},
     "output_type": "display_data"
    },
    {
     "name": "stderr",
     "output_type": "stream",
     "text": [
      "Global seed set to 2\n",
      "Global seed set to 10\n",
      "GPU available: True, used: True\n",
      "TPU available: False, using: 0 TPU cores\n",
      "IPU available: False, using: 0 IPUs\n",
      "Global seed set to 0\n",
      "LOCAL_RANK: 0 - CUDA_VISIBLE_DEVICES: [0,1,2,3,4,5,6,7]\n"
     ]
    },
    {
     "name": "stdout",
     "output_type": "stream",
     "text": [
      "{'training': True, '_parameters': OrderedDict(), '_buffers': OrderedDict(), '_non_persistent_buffers_set': set(), '_backward_hooks': OrderedDict(), '_is_full_backward_hook': None, '_forward_hooks': OrderedDict(), '_forward_pre_hooks': OrderedDict(), '_state_dict_hooks': OrderedDict(), '_load_state_dict_pre_hooks': OrderedDict(), '_load_state_dict_post_hooks': OrderedDict(), '_modules': OrderedDict([('linear', Linear(in_features=192, out_features=102, bias=True))]), 'neuron_indices': tensor([137, 293, 312, 358, 376,  78, 311, 273, 241, 189, 176, 345, 301, 213,\n",
      "        200,  29, 240, 354, 172,  10, 260, 339, 208,  31, 263, 262, 258, 343,\n",
      "        275,  24, 164,  94,  40, 269,  42, 246, 307,   9, 155, 122, 109, 379,\n",
      "         55, 211, 153,  71,  22,  12, 302, 243, 256, 277,  38,  57,  96,  59,\n",
      "         66, 305, 285,  61,  28, 317, 202, 265, 348,  45, 118, 297, 231, 147,\n",
      "        224, 191, 295,  33,   7, 157,  23, 357, 309, 158,  53, 363, 274, 141,\n",
      "        360,  48,  49, 355, 223, 125, 126, 291, 140, 377,  19,  16, 207, 132,\n",
      "        234, 296,  74, 168, 138, 308, 194, 127, 249,  85, 284, 162, 170, 175,\n",
      "        182, 282, 129,  60, 264,  87,  64, 252, 169,  46, 237,   3, 353, 280,\n",
      "         72, 299,   1, 327, 316, 329, 227,  95, 119, 375, 330, 206, 340,  35,\n",
      "        143, 320, 114,  44, 373, 255, 102, 228, 286, 359, 156, 346, 124, 337,\n",
      "         92, 271, 184, 253, 324, 218,  80, 133, 298, 334, 167,  27, 235,  26,\n",
      "        292,  91,  14, 287, 222, 318, 244,  82, 350, 229, 183, 192, 123,  73,\n",
      "        266, 180,  62, 250, 150, 145, 181,  63, 369, 261]), 'in_features': 192, 'out_features': 102}\n"
     ]
    },
    {
     "data": {
      "application/vnd.jupyter.widget-view+json": {
       "model_id": "b6838d90b75540ce8da24538c8e3a8b3",
       "version_major": 2,
       "version_minor": 0
      },
      "text/plain": [
       "Predicting: 0it [00:00, ?it/s]"
      ]
     },
     "metadata": {},
     "output_type": "display_data"
    },
    {
     "name": "stderr",
     "output_type": "stream",
     "text": [
      "Global seed set to 2\n",
      "Global seed set to 1\n",
      "GPU available: True, used: True\n",
      "TPU available: False, using: 0 TPU cores\n",
      "IPU available: False, using: 0 IPUs\n",
      "Global seed set to 0\n",
      "LOCAL_RANK: 0 - CUDA_VISIBLE_DEVICES: [0,1,2,3,4,5,6,7]\n"
     ]
    },
    {
     "name": "stdout",
     "output_type": "stream",
     "text": [
      "{'training': True, '_parameters': OrderedDict(), '_buffers': OrderedDict(), '_non_persistent_buffers_set': set(), '_backward_hooks': OrderedDict(), '_is_full_backward_hook': None, '_forward_hooks': OrderedDict(), '_forward_pre_hooks': OrderedDict(), '_state_dict_hooks': OrderedDict(), '_load_state_dict_pre_hooks': OrderedDict(), '_load_state_dict_post_hooks': OrderedDict(), '_modules': OrderedDict([('linear', Linear(in_features=345, out_features=102, bias=True))]), 'neuron_indices': tensor([ 37,  88, 258, 104, 307, 131, 251, 113,  31,  66, 162, 117, 364, 158,\n",
      "        277,  69, 198, 329, 194,  50, 142,  84, 166, 340, 147,  77,  92, 176,\n",
      "         49, 153,  38,  73,  87,  57,  71,  16, 359,  61, 172,  89,  11, 196,\n",
      "        227, 366,   4, 291,  96,  48, 257, 298, 140, 306,  56, 363,  75, 209,\n",
      "        255, 122,  45, 217,  28, 326, 111, 116,  14, 107, 325, 102, 216, 112,\n",
      "         42, 375, 188, 128,  86, 315, 249, 316,   5, 339, 175,   2, 352, 301,\n",
      "        259, 346, 205,  60, 378, 238, 266, 334,  74, 342, 267, 213,  34, 114,\n",
      "        354, 256, 361, 327, 219, 228, 200, 138, 134, 157, 101, 106, 179,  22,\n",
      "        185, 207, 223, 168, 382, 136, 358,  79, 376, 253, 119, 296,  29, 304,\n",
      "        265, 271, 120, 270, 357, 149, 144, 273, 262, 155, 252, 130, 261, 218,\n",
      "        135,  82, 103, 246, 204,  13, 310, 245, 208, 279, 303, 248, 292, 150,\n",
      "          8, 350, 370, 141, 177, 241, 311, 178, 335, 377, 333, 244, 190, 380,\n",
      "        165, 313, 132, 110, 206, 202, 381, 365, 322,  43, 233, 353, 232, 146,\n",
      "         95,  94, 282, 349, 170,  78,   1, 234,  85, 371, 108,  36, 186, 264,\n",
      "        235, 269,   6, 345, 212,  90, 276, 318,  15, 193, 192, 199,  55, 197,\n",
      "         27, 215,  20, 368, 309, 118,  47, 239, 148,  30, 297, 321,  33, 195,\n",
      "        145, 243,  40, 127, 187, 289,   7, 115, 379,  41, 250, 224, 169,  44,\n",
      "        160, 182,  24,  81, 247, 383,  76, 367, 139,  51, 230, 308, 317, 263,\n",
      "        125,  64, 236, 338, 272, 281, 161,  83, 180, 331,  12, 285,  19, 156,\n",
      "         10, 355,  58, 183,  68, 240, 229, 280, 372, 341, 348,  98,  91, 356,\n",
      "        300,  52, 129, 260, 324, 320,  63, 362,  21, 214, 231, 283, 290, 123,\n",
      "        121, 154, 369, 294,   0, 210,  65, 242, 302, 330, 332,  26,   3, 137,\n",
      "        299,  18, 189, 275, 220, 287, 278,  93, 191,  59, 221, 143, 167, 225,\n",
      "        336, 351, 133,  46, 343,  32, 284, 211, 305,  53, 374, 268, 100, 171,\n",
      "         70,  62, 203, 105, 109,  72,  17,  99, 360]), 'in_features': 345, 'out_features': 102}\n"
     ]
    },
    {
     "data": {
      "application/vnd.jupyter.widget-view+json": {
       "model_id": "813e710e42a8465c8cef2c4d86f1a1d5",
       "version_major": 2,
       "version_minor": 0
      },
      "text/plain": [
       "Predicting: 0it [00:00, ?it/s]"
      ]
     },
     "metadata": {},
     "output_type": "display_data"
    },
    {
     "name": "stderr",
     "output_type": "stream",
     "text": [
      "Global seed set to 2\n",
      "Global seed set to 2\n",
      "GPU available: True, used: True\n",
      "TPU available: False, using: 0 TPU cores\n",
      "IPU available: False, using: 0 IPUs\n",
      "Global seed set to 0\n",
      "LOCAL_RANK: 0 - CUDA_VISIBLE_DEVICES: [0,1,2,3,4,5,6,7]\n"
     ]
    },
    {
     "name": "stdout",
     "output_type": "stream",
     "text": [
      "{'training': True, '_parameters': OrderedDict(), '_buffers': OrderedDict(), '_non_persistent_buffers_set': set(), '_backward_hooks': OrderedDict(), '_is_full_backward_hook': None, '_forward_hooks': OrderedDict(), '_forward_pre_hooks': OrderedDict(), '_state_dict_hooks': OrderedDict(), '_load_state_dict_pre_hooks': OrderedDict(), '_load_state_dict_post_hooks': OrderedDict(), '_modules': OrderedDict([('linear', Linear(in_features=345, out_features=102, bias=True))]), 'neuron_indices': tensor([168,   9,  67, 159,  62, 235,  96, 153,  72, 270,  32, 122, 215, 213,\n",
      "        249, 269, 287,  81, 368,  89,   8, 309,  49, 250, 115, 329, 356, 231,\n",
      "        195,  82, 341,  63, 330,  47, 350, 187, 191, 150, 101, 359, 172, 298,\n",
      "        376, 322,  24, 259, 313, 183, 128,  11, 194, 158,  10, 278, 282,  35,\n",
      "        167,  21, 241, 306, 234,  19, 198, 379,  23,  31, 137, 240,  84, 106,\n",
      "        211,  25, 176, 267, 141, 197, 129, 177, 188, 133,  22, 175, 371, 160,\n",
      "        147, 138, 178,  56,   0, 347, 248, 360, 292, 181, 320,  66, 214, 236,\n",
      "        124, 185, 262,  34,  38, 381, 353, 348, 134, 143, 189, 130, 331,   2,\n",
      "        357,  86, 300, 316,  59, 154, 340, 302, 244,  46,  80, 212,   4, 280,\n",
      "         68, 291, 144,  28, 277, 105, 237, 354, 295, 336, 135, 246, 170,  42,\n",
      "         73,  45,  99, 373, 132, 200,  75, 311,  36, 247, 370, 192, 294,  33,\n",
      "        335, 276, 182,  97, 209,  27, 254,  53, 264, 382,  40, 127, 261, 374,\n",
      "         87, 268, 265, 257, 173,  64, 216, 118, 239,  79,   1, 312,  70, 343,\n",
      "        344, 326, 163, 363, 142, 169, 242, 273,   6, 342, 224,  69, 114, 120,\n",
      "        140, 369, 266, 220, 116, 196, 225, 108, 203, 232, 110, 112, 174, 145,\n",
      "         43, 293, 251, 243, 339, 157, 349, 230, 204, 210, 328, 226, 310, 337,\n",
      "        378,  93,   3, 303, 279, 380, 274, 219,  90, 162, 334, 165, 327,  88,\n",
      "        190, 221, 245, 372, 206,  52, 362, 148,  94, 289,  61, 229, 366, 184,\n",
      "        260,  76, 207, 171, 233, 275, 296, 152, 180, 308, 186, 288,   5,  39,\n",
      "         17, 253, 325,  15, 272,  95, 301, 258,  48,  44,  30, 125, 149, 263,\n",
      "        333, 304,  92, 365, 338, 222, 323,  71, 377, 332,  60, 351, 345, 256,\n",
      "        358, 283, 111, 299,  12, 126, 109,  13, 103, 161, 146, 252, 367, 290,\n",
      "        104,  20, 139, 155, 285, 281, 314,  54, 166, 117, 297, 202, 318, 136,\n",
      "         78, 238,  26, 228, 355, 271,  65, 123, 131, 383,  74, 208, 352,  83,\n",
      "        305,  91, 100, 164, 319,  50,  85,  16,  29]), 'in_features': 345, 'out_features': 102}\n"
     ]
    },
    {
     "data": {
      "application/vnd.jupyter.widget-view+json": {
       "model_id": "0c1fcba59bc34a3fb2c490219452f5da",
       "version_major": 2,
       "version_minor": 0
      },
      "text/plain": [
       "Predicting: 0it [00:00, ?it/s]"
      ]
     },
     "metadata": {},
     "output_type": "display_data"
    },
    {
     "name": "stderr",
     "output_type": "stream",
     "text": [
      "Global seed set to 2\n",
      "Global seed set to 3\n",
      "GPU available: True, used: True\n",
      "TPU available: False, using: 0 TPU cores\n",
      "IPU available: False, using: 0 IPUs\n",
      "Global seed set to 0\n",
      "LOCAL_RANK: 0 - CUDA_VISIBLE_DEVICES: [0,1,2,3,4,5,6,7]\n"
     ]
    },
    {
     "name": "stdout",
     "output_type": "stream",
     "text": [
      "{'training': True, '_parameters': OrderedDict(), '_buffers': OrderedDict(), '_non_persistent_buffers_set': set(), '_backward_hooks': OrderedDict(), '_is_full_backward_hook': None, '_forward_hooks': OrderedDict(), '_forward_pre_hooks': OrderedDict(), '_state_dict_hooks': OrderedDict(), '_load_state_dict_pre_hooks': OrderedDict(), '_load_state_dict_post_hooks': OrderedDict(), '_modules': OrderedDict([('linear', Linear(in_features=345, out_features=102, bias=True))]), 'neuron_indices': tensor([106, 302, 345, 306,  44,  25, 246, 165, 173, 373,  62, 354,  89,  61,\n",
      "        170, 154, 119, 223,  26, 158,  96,  50, 333, 210,  20,  13,  51,  60,\n",
      "        150, 174,  42, 362, 252, 379, 303,  66,   8, 254, 136, 315, 253, 204,\n",
      "         74, 356, 218, 321, 378, 102, 273, 380, 293, 208, 157, 290,   4,  19,\n",
      "        277, 346,  82, 221, 244, 180, 278, 312, 128, 141,  49, 310, 327, 274,\n",
      "        194,  88, 287,  21, 371, 212,  45, 259, 133, 134, 181, 366,  47, 152,\n",
      "        296,  87, 313,  14, 360, 269,  32, 160, 108,  56,  94, 351,  16, 265,\n",
      "        151, 178, 129, 182, 226,   1, 249,  78, 131, 115,  37, 144, 124, 209,\n",
      "         31, 355, 368, 149, 211, 361, 166, 242, 228, 109,   7, 279,  76, 230,\n",
      "        168, 304,  52, 267,  85,  84, 281, 308, 383, 113, 127, 261, 291, 234,\n",
      "         57,  79,   6, 282, 260, 205, 268, 146, 247, 288, 139, 266, 295, 138,\n",
      "         39, 143, 377, 344, 382,  33,  69, 190, 126, 217,  15, 207,  63, 185,\n",
      "        206,  73, 325,  35, 305, 326,  34, 105, 300,  72, 322, 375, 243, 363,\n",
      "          2, 186, 236, 317,  58, 193, 107, 231,  91, 220, 140, 350, 238, 184,\n",
      "        348, 365,  83, 222,   3, 370, 257,   5, 237,  68,  92, 256, 316, 198,\n",
      "         77, 169, 284, 343, 352,  17, 191,  65,  18, 179, 337, 328, 214, 175,\n",
      "        374, 163, 121,   0, 240, 301, 224,  75,  54, 324, 216, 130, 335, 203,\n",
      "        219, 132, 297, 372, 329, 381, 100, 263, 289, 286,  70,  23,  48, 213,\n",
      "        116, 319, 118, 167, 232, 137, 340,  10,  99, 320, 349,  97, 177, 307,\n",
      "         81,  53, 323, 229, 188, 314, 135,  64,  67, 111, 270, 145, 250, 164,\n",
      "        369, 187, 264, 156,  71, 200,  40,  43, 376, 233,  80, 125, 283,  36,\n",
      "        367, 176,  11, 114,  27, 195, 248, 227, 103,   9, 347, 197, 309, 147,\n",
      "        341,  41, 359, 255, 241, 299, 189, 298, 159, 120, 336, 276, 342, 285,\n",
      "        239, 353, 183, 104, 357, 171, 318, 272, 202, 196, 153,  55, 199, 117,\n",
      "         12,  95, 225, 280, 112, 358, 364,  59, 258]), 'in_features': 345, 'out_features': 102}\n"
     ]
    },
    {
     "data": {
      "application/vnd.jupyter.widget-view+json": {
       "model_id": "c70cf0109846453fa3b57f54f8f0def4",
       "version_major": 2,
       "version_minor": 0
      },
      "text/plain": [
       "Predicting: 0it [00:00, ?it/s]"
      ]
     },
     "metadata": {},
     "output_type": "display_data"
    },
    {
     "name": "stderr",
     "output_type": "stream",
     "text": [
      "Global seed set to 2\n",
      "Global seed set to 4\n",
      "GPU available: True, used: True\n",
      "TPU available: False, using: 0 TPU cores\n",
      "IPU available: False, using: 0 IPUs\n",
      "Global seed set to 0\n",
      "LOCAL_RANK: 0 - CUDA_VISIBLE_DEVICES: [0,1,2,3,4,5,6,7]\n"
     ]
    },
    {
     "name": "stdout",
     "output_type": "stream",
     "text": [
      "{'training': True, '_parameters': OrderedDict(), '_buffers': OrderedDict(), '_non_persistent_buffers_set': set(), '_backward_hooks': OrderedDict(), '_is_full_backward_hook': None, '_forward_hooks': OrderedDict(), '_forward_pre_hooks': OrderedDict(), '_state_dict_hooks': OrderedDict(), '_load_state_dict_pre_hooks': OrderedDict(), '_load_state_dict_post_hooks': OrderedDict(), '_modules': OrderedDict([('linear', Linear(in_features=345, out_features=102, bias=True))]), 'neuron_indices': tensor([250, 172, 245, 263,  73,  12, 239,   0, 234, 120, 266, 204,  47, 302,\n",
      "        364, 328,  71, 145, 336,  61, 118, 155, 212, 194, 146, 301, 139,   2,\n",
      "         95,  19,  93, 299, 326, 111, 298, 277, 106,  45, 339, 243, 144, 193,\n",
      "        158,  75,  16,  98, 188,  99, 170, 166, 261, 207, 214, 138, 310, 143,\n",
      "        186, 199, 121, 296, 167,  29,  30, 284, 337, 137,  83, 156, 109, 101,\n",
      "        270, 373, 103, 291, 350, 286, 107, 190, 122,  25, 215,  11, 244, 316,\n",
      "        223, 153, 340, 348, 281, 334,  44, 187, 195, 119, 247,  13,  51, 136,\n",
      "        285, 295, 203, 254, 162, 159,  50, 279, 275,  17, 141, 365,  72,  81,\n",
      "        366,  74, 210, 347,  46, 382, 375,  89,  85, 331, 309, 221, 233, 361,\n",
      "        306, 274, 315, 335, 258, 248, 370, 381, 240,  67, 352, 180,   3, 353,\n",
      "         24, 317,  49,  86, 209, 369,  21, 362, 371, 264, 321,  41, 333, 259,\n",
      "         54, 154,  60, 341,  87, 325, 319, 230, 197, 229, 383,  53, 147,  32,\n",
      "        129,   4, 205, 297, 114, 293,  52,  37,  96, 150,  94, 183, 189,  42,\n",
      "        378, 260, 330, 265,  34, 338, 165, 322, 273, 228, 342, 311, 123, 288,\n",
      "          9,  76,  10, 343,  62, 201, 355, 226, 324, 225, 363, 249,  35, 169,\n",
      "        327, 135, 379, 115, 377, 380, 280,  80,  23,  18, 149,   1, 294,   6,\n",
      "        368, 211,  70, 196, 157, 102, 238,  56, 236, 356,  26, 151, 268, 323,\n",
      "          8, 262, 231,  88, 318, 222, 303, 346, 359, 140, 163, 128, 126, 130,\n",
      "         66, 253, 314, 241, 282,  65, 252, 242, 269, 351,  77, 320,  84,  39,\n",
      "        367, 312, 168, 374,  48, 360, 217, 308, 278, 161, 108, 227, 176, 200,\n",
      "        171, 185, 208, 292, 174, 246,  68, 304, 313,   7, 132, 251,  14,   5,\n",
      "        232, 142,  33, 376, 113,  27,  91,  63, 131, 256, 160,  78,  55, 271,\n",
      "        345,  38, 213, 267, 152, 357, 105, 192,  59,  64, 287, 224,  40, 372,\n",
      "         92,  22,  31, 177, 358, 305,  69, 178,  90,  20, 220,  79, 175, 289,\n",
      "        354,  97, 283, 182, 235, 110, 202, 219,  82]), 'in_features': 345, 'out_features': 102}\n"
     ]
    },
    {
     "data": {
      "application/vnd.jupyter.widget-view+json": {
       "model_id": "0345e847d2434b7285445b47dabca9e9",
       "version_major": 2,
       "version_minor": 0
      },
      "text/plain": [
       "Predicting: 0it [00:00, ?it/s]"
      ]
     },
     "metadata": {},
     "output_type": "display_data"
    },
    {
     "name": "stderr",
     "output_type": "stream",
     "text": [
      "Global seed set to 2\n",
      "Global seed set to 5\n",
      "GPU available: True, used: True\n",
      "TPU available: False, using: 0 TPU cores\n",
      "IPU available: False, using: 0 IPUs\n",
      "Global seed set to 0\n",
      "LOCAL_RANK: 0 - CUDA_VISIBLE_DEVICES: [0,1,2,3,4,5,6,7]\n"
     ]
    },
    {
     "name": "stdout",
     "output_type": "stream",
     "text": [
      "{'training': True, '_parameters': OrderedDict(), '_buffers': OrderedDict(), '_non_persistent_buffers_set': set(), '_backward_hooks': OrderedDict(), '_is_full_backward_hook': None, '_forward_hooks': OrderedDict(), '_forward_pre_hooks': OrderedDict(), '_state_dict_hooks': OrderedDict(), '_load_state_dict_pre_hooks': OrderedDict(), '_load_state_dict_post_hooks': OrderedDict(), '_modules': OrderedDict([('linear', Linear(in_features=345, out_features=102, bias=True))]), 'neuron_indices': tensor([227, 245, 139,   9, 250,  75,  70, 239,  80, 163, 325,  83,  95, 365,\n",
      "        112,   5, 119, 155, 269, 323, 149, 138,  90,  33,  68, 381, 279, 135,\n",
      "        183, 335, 126, 125, 349, 162,  64,  81, 157, 327, 331, 343,  54, 371,\n",
      "        240, 263, 104,  38, 127, 151,  14,  59,  92,   7, 148, 196, 173, 124,\n",
      "        311, 350,  55,  40, 225, 176,  47, 290, 369, 313,   3, 272, 376, 216,\n",
      "        118,  63, 379, 107, 211,  17,  97, 332,  15, 178, 366, 302, 355, 374,\n",
      "        193,  72, 303, 258, 182, 288,  11, 131, 281,   6,   2, 244, 165, 218,\n",
      "         74,  57, 164,  41, 340,  60, 136, 330,  87, 123, 324, 383,  93,  44,\n",
      "        174, 122, 232, 301,  66, 344, 219, 358, 117, 237, 378, 372, 254, 308,\n",
      "        342,  42, 261,  16, 168, 106, 201, 270, 274, 188,  18,  25,  76, 278,\n",
      "        200, 364, 141, 137,  51, 111, 347, 382, 156, 169, 160, 293,  12, 326,\n",
      "         86, 305, 304, 235,   8, 300, 101, 116,  45, 191,  28,  39,  89, 233,\n",
      "        251, 184, 197, 128, 284,  88,  32, 309, 380, 214, 228, 109, 319, 192,\n",
      "        159, 181, 338,  61,  29, 129, 328, 217, 180, 317,  43, 199, 147, 276,\n",
      "        360, 292, 166, 370, 280, 236,  26,  27,  48,  62, 187, 143, 110, 260,\n",
      "        195, 373, 177, 357, 273, 204, 277,  13, 267,  53,  21, 356, 153, 375,\n",
      "         94,  20, 133, 130, 115, 367, 255, 186, 248, 210, 287, 121, 256, 310,\n",
      "        259, 234, 108,  37, 285, 105,  69, 299,  31, 346, 282, 213, 190, 362,\n",
      "        286,  52, 377, 152, 103,  65, 297, 189, 265, 209,  46, 295,  22, 345,\n",
      "        354, 253, 252, 306,  79, 230, 339, 264, 294, 145, 238, 158, 208, 142,\n",
      "        242, 266, 220, 246, 198,  85, 296, 120, 271,  34, 226,  99, 289, 314,\n",
      "         67, 146, 348, 134,   1, 150, 241, 202, 170, 307,  82, 322, 247, 206,\n",
      "         10, 337, 243, 212, 351, 298, 114,  50,  49, 257, 341,  24, 100,  73,\n",
      "        229,  56, 320, 361, 175, 171, 249, 368, 353, 102, 291, 223, 336,  35,\n",
      "         30,  84, 224, 268,  98, 172,  77, 316, 132]), 'in_features': 345, 'out_features': 102}\n"
     ]
    },
    {
     "data": {
      "application/vnd.jupyter.widget-view+json": {
       "model_id": "bad38086a33a446583bbbba0a06586dc",
       "version_major": 2,
       "version_minor": 0
      },
      "text/plain": [
       "Predicting: 0it [00:00, ?it/s]"
      ]
     },
     "metadata": {},
     "output_type": "display_data"
    },
    {
     "name": "stderr",
     "output_type": "stream",
     "text": [
      "Global seed set to 2\n",
      "Global seed set to 6\n",
      "GPU available: True, used: True\n",
      "TPU available: False, using: 0 TPU cores\n",
      "IPU available: False, using: 0 IPUs\n",
      "Global seed set to 0\n",
      "LOCAL_RANK: 0 - CUDA_VISIBLE_DEVICES: [0,1,2,3,4,5,6,7]\n"
     ]
    },
    {
     "name": "stdout",
     "output_type": "stream",
     "text": [
      "{'training': True, '_parameters': OrderedDict(), '_buffers': OrderedDict(), '_non_persistent_buffers_set': set(), '_backward_hooks': OrderedDict(), '_is_full_backward_hook': None, '_forward_hooks': OrderedDict(), '_forward_pre_hooks': OrderedDict(), '_state_dict_hooks': OrderedDict(), '_load_state_dict_pre_hooks': OrderedDict(), '_load_state_dict_post_hooks': OrderedDict(), '_modules': OrderedDict([('linear', Linear(in_features=345, out_features=102, bias=True))]), 'neuron_indices': tensor([266, 315, 283, 323, 218, 318, 215, 111,  48, 192, 187, 174,  67, 213,\n",
      "        351, 344, 319, 324, 334, 188, 264,  66, 178, 316,  76, 248, 191, 309,\n",
      "         62, 276,   7, 232, 143, 342,  86, 340, 287, 124, 311, 242, 156, 105,\n",
      "        172, 120, 206, 281, 382, 271, 195, 303, 154,  97,   6, 223, 297,  54,\n",
      "         22, 268, 217, 259, 113,  31,  43,  10,  16, 236, 161, 175, 339, 220,\n",
      "         94, 190, 214, 249, 225, 196, 136, 169,  88, 198, 135, 346, 291, 122,\n",
      "        265, 130, 238, 374, 257, 193, 173,  47, 301, 100, 189, 308,  78, 314,\n",
      "        180, 321, 137, 171, 210, 350,  55, 176, 237,  45, 126, 373,  12, 302,\n",
      "         83,  38, 205, 110, 234,  71, 290, 125, 369, 293, 239, 371, 360, 349,\n",
      "         25, 230,  51,  80, 102, 337, 227,  27, 284,  82, 128,  26, 129, 273,\n",
      "        167, 263, 304, 296, 222,  29, 103,  84,  99, 224, 336,  21,  28,  58,\n",
      "        277,  18,  60, 362, 166, 123,  15, 327,  61, 294, 112, 279,  41,  98,\n",
      "        380, 285, 250, 357,  36, 300,  19, 157, 150,  23,  72, 109,  64, 378,\n",
      "        162, 170,   2, 278,  49, 228, 229, 158, 353, 146, 184, 199,  70, 368,\n",
      "        275, 114, 365, 352, 221, 331, 145, 381, 355,  57, 262, 152, 107, 241,\n",
      "        197, 313,  91, 288, 131, 163, 164,  40,  53, 246, 255, 231,  24,  75,\n",
      "          3,  50, 118, 317, 207,  92, 286, 204, 219, 117,  69, 144, 211, 155,\n",
      "        370, 116,  73, 260, 383, 142, 348,  20, 183, 328,  52, 101,  17, 108,\n",
      "         74,  95,  65, 181,  96, 280, 159,  56, 133, 345, 208,  13, 310, 186,\n",
      "        366, 177,  85, 201, 106,  46, 338, 185,  59, 115, 282, 243,   0,  34,\n",
      "        361,  33, 322, 375,  81, 356, 306, 298, 320, 127, 216, 343, 226,  89,\n",
      "        160,  63, 254, 307,  68, 134, 182, 354, 367, 165, 376, 330, 377, 235,\n",
      "         11,  37, 240,  90, 270, 202, 203,   4, 138, 132, 233, 312, 299, 119,\n",
      "        364, 148, 261, 267, 151, 179, 147, 372, 347, 272, 256, 305, 258, 335,\n",
      "        253,   8, 332, 209,   1, 168, 121,  42, 289]), 'in_features': 345, 'out_features': 102}\n"
     ]
    },
    {
     "data": {
      "application/vnd.jupyter.widget-view+json": {
       "model_id": "36bae6623e314115a0e744e04ce071d9",
       "version_major": 2,
       "version_minor": 0
      },
      "text/plain": [
       "Predicting: 0it [00:00, ?it/s]"
      ]
     },
     "metadata": {},
     "output_type": "display_data"
    },
    {
     "name": "stderr",
     "output_type": "stream",
     "text": [
      "Global seed set to 2\n",
      "Global seed set to 7\n",
      "GPU available: True, used: True\n",
      "TPU available: False, using: 0 TPU cores\n",
      "IPU available: False, using: 0 IPUs\n",
      "Global seed set to 0\n",
      "LOCAL_RANK: 0 - CUDA_VISIBLE_DEVICES: [0,1,2,3,4,5,6,7]\n"
     ]
    },
    {
     "name": "stdout",
     "output_type": "stream",
     "text": [
      "{'training': True, '_parameters': OrderedDict(), '_buffers': OrderedDict(), '_non_persistent_buffers_set': set(), '_backward_hooks': OrderedDict(), '_is_full_backward_hook': None, '_forward_hooks': OrderedDict(), '_forward_pre_hooks': OrderedDict(), '_state_dict_hooks': OrderedDict(), '_load_state_dict_pre_hooks': OrderedDict(), '_load_state_dict_post_hooks': OrderedDict(), '_modules': OrderedDict([('linear', Linear(in_features=345, out_features=102, bias=True))]), 'neuron_indices': tensor([303, 204, 193, 254,  87, 153, 257, 298, 132,  20, 184, 156, 368, 175,\n",
      "        376, 208,  42, 190, 309,  47, 260, 115,   2, 122, 292, 315, 359,  37,\n",
      "        342,  57, 219, 129, 108, 142, 239, 196, 180, 247,  69, 299,  30, 370,\n",
      "        366, 310,  96,  41, 206, 258, 164, 131, 159, 125, 231,   6, 264, 222,\n",
      "        176, 382, 140,  91, 154, 117, 245, 107, 284, 227,  67, 347, 350, 173,\n",
      "        139, 112, 293,  93, 241,   7, 375, 263, 251, 182, 163, 283, 277, 365,\n",
      "        195,  48,  34,  77,   1,  32, 237,  49,  45, 246, 351,  74, 285, 249,\n",
      "        111, 146, 130,  92, 148, 157, 373,  31, 155, 137,  33, 228, 226, 200,\n",
      "        141, 143, 289, 230, 102, 218, 232, 162, 364, 194,  80, 295, 243,  29,\n",
      "        105, 113,   8, 149, 166, 367, 282, 326, 345,  90, 343, 233,  14, 261,\n",
      "          4, 188,  15, 332,  50,  38, 262,  66,  99, 199, 340, 202, 150, 338,\n",
      "         62, 275, 286,  16, 363,  21, 244, 353, 369, 381,  28, 256,  51, 311,\n",
      "        302,  56, 362, 324,  12, 307, 158, 355,  55, 133,  44,  61,   5, 253,\n",
      "        371,  82,  26,  73, 177, 304, 161,  24, 296,  18,  59,  83, 357, 330,\n",
      "         95, 160,  70, 183, 305, 187, 197, 179, 178, 306, 167, 212, 331, 281,\n",
      "         64,  76,  86,  53,  46, 110, 120, 225, 352, 317, 269, 214,  13, 201,\n",
      "          0, 242, 123, 100, 267, 328, 171, 319, 109,  65, 138,  98, 271, 174,\n",
      "         52, 136, 229,  84, 121, 358, 265, 312, 372, 224, 128, 378, 316,  75,\n",
      "         19, 344,  81, 191, 220, 383,  88, 234, 221, 336, 189,  17, 377,  43,\n",
      "        334, 205, 361, 346, 126, 124, 223,  78,  97,  94, 151, 314, 278, 318,\n",
      "        250, 101, 325, 165, 240,   9,  36,  35,  79,  25, 186, 213, 169, 172,\n",
      "        337, 210, 354, 266, 300, 327, 127, 215,  54, 276, 360,  39, 290,  27,\n",
      "        135, 329, 134, 211, 168, 104, 144, 288, 181,  71, 379,  63, 308, 321,\n",
      "        320, 323, 374, 335, 287, 118, 207, 341,  68, 116, 103, 203, 297,  23,\n",
      "        106,  22, 380, 235, 322, 209, 248, 119, 147]), 'in_features': 345, 'out_features': 102}\n"
     ]
    },
    {
     "data": {
      "application/vnd.jupyter.widget-view+json": {
       "model_id": "e3f2828b03f34ebdba6428e0301d0b63",
       "version_major": 2,
       "version_minor": 0
      },
      "text/plain": [
       "Predicting: 0it [00:00, ?it/s]"
      ]
     },
     "metadata": {},
     "output_type": "display_data"
    },
    {
     "name": "stderr",
     "output_type": "stream",
     "text": [
      "Global seed set to 2\n",
      "Global seed set to 8\n",
      "GPU available: True, used: True\n",
      "TPU available: False, using: 0 TPU cores\n",
      "IPU available: False, using: 0 IPUs\n",
      "Global seed set to 0\n",
      "LOCAL_RANK: 0 - CUDA_VISIBLE_DEVICES: [0,1,2,3,4,5,6,7]\n"
     ]
    },
    {
     "name": "stdout",
     "output_type": "stream",
     "text": [
      "{'training': True, '_parameters': OrderedDict(), '_buffers': OrderedDict(), '_non_persistent_buffers_set': set(), '_backward_hooks': OrderedDict(), '_is_full_backward_hook': None, '_forward_hooks': OrderedDict(), '_forward_pre_hooks': OrderedDict(), '_state_dict_hooks': OrderedDict(), '_load_state_dict_pre_hooks': OrderedDict(), '_load_state_dict_post_hooks': OrderedDict(), '_modules': OrderedDict([('linear', Linear(in_features=345, out_features=102, bias=True))]), 'neuron_indices': tensor([195, 178, 363, 219, 321,  52, 274, 351, 280, 295, 150, 118, 205, 257,\n",
      "        211, 172, 330, 256, 332, 309, 153, 158, 329, 267, 306,  74, 354, 188,\n",
      "        342,  58, 180,   4, 115, 223,  39,  24, 235,  83, 174, 346,  82, 359,\n",
      "        250, 122, 105,  64, 130, 114, 347, 191, 360,  99, 207, 284, 128, 131,\n",
      "         18, 246,  79, 243, 112, 209, 217, 173, 266, 189, 123,  45, 290,  38,\n",
      "        291, 230, 212, 265, 132,  15,  75, 186, 181, 192, 277, 228, 208, 272,\n",
      "        378,  98, 136, 165,  43, 251, 129,  11, 299,  93,  14,  20, 167, 229,\n",
      "        141,  94,  77,  40, 137,  12, 120, 170,  88, 327,  67, 364, 213, 183,\n",
      "        196, 146, 127,   3, 324,   7, 349, 301, 352,  60,   2, 221, 145,  21,\n",
      "        177, 175, 203, 147, 148,  33, 264,  29,  96, 179, 383,  78, 371, 227,\n",
      "        348, 138,  55,   5, 252, 312, 139,  61, 107,  97, 345,  32, 163, 247,\n",
      "        353, 322, 108, 263, 104, 234, 339, 185, 314, 379, 161,  13,  34,  73,\n",
      "        197, 381, 160, 285, 377, 278, 155,  59,  56, 238,  72, 162, 296, 259,\n",
      "        298,  62, 335, 224, 194, 268, 305, 166, 262,  41, 171, 361, 135, 241,\n",
      "         46, 260,  95,  53, 311, 176, 313, 202, 187, 233, 365, 281, 303, 319,\n",
      "         70, 376, 366, 190, 206, 159, 140, 200, 282,  71, 307, 338,  42, 373,\n",
      "         50,  17, 111, 113, 204,  36,  48, 367,  80, 255, 357,   0, 343, 308,\n",
      "        117, 154, 182, 218, 168,  84,  57, 297, 248,   9,  63,  65, 261, 125,\n",
      "         10, 254, 143,  49,  89, 318,   1, 323, 337, 258, 310, 164, 152, 222,\n",
      "         85,  66,  31,  81, 355,  27, 124, 294,  16, 271,  37, 134,  68, 119,\n",
      "         22, 216, 302, 220, 275, 276, 193,  54, 214, 340, 288, 279,  30, 142,\n",
      "        232, 226,  87, 320, 102, 350, 201, 283, 144, 199, 198,  44, 356,  51,\n",
      "        133, 109, 231, 334, 358, 244, 184, 239, 253, 317, 316, 269, 374, 249,\n",
      "         92, 215, 169, 225, 240, 362, 341, 242,  47, 151,  90, 375,  76, 157,\n",
      "          6, 372, 325, 370, 126, 292, 100, 304, 333]), 'in_features': 345, 'out_features': 102}\n"
     ]
    },
    {
     "data": {
      "application/vnd.jupyter.widget-view+json": {
       "model_id": "3e192eb30ccc4fadb47c9ba2efef50bf",
       "version_major": 2,
       "version_minor": 0
      },
      "text/plain": [
       "Predicting: 0it [00:00, ?it/s]"
      ]
     },
     "metadata": {},
     "output_type": "display_data"
    },
    {
     "name": "stderr",
     "output_type": "stream",
     "text": [
      "Global seed set to 2\n",
      "Global seed set to 9\n",
      "GPU available: True, used: True\n",
      "TPU available: False, using: 0 TPU cores\n",
      "IPU available: False, using: 0 IPUs\n",
      "Global seed set to 0\n"
     ]
    },
    {
     "name": "stdout",
     "output_type": "stream",
     "text": [
      "{'training': True, '_parameters': OrderedDict(), '_buffers': OrderedDict(), '_non_persistent_buffers_set': set(), '_backward_hooks': OrderedDict(), '_is_full_backward_hook': None, '_forward_hooks': OrderedDict(), '_forward_pre_hooks': OrderedDict(), '_state_dict_hooks': OrderedDict(), '_load_state_dict_pre_hooks': OrderedDict(), '_load_state_dict_post_hooks': OrderedDict(), '_modules': OrderedDict([('linear', Linear(in_features=345, out_features=102, bias=True))]), 'neuron_indices': tensor([382, 379, 274, 284, 106,  74, 247,  48, 197, 110, 142, 342, 279,  24,\n",
      "        130,  86,  88, 301, 113, 140, 137, 369, 254, 343, 310, 174, 282, 258,\n",
      "        216, 209, 146,   0,  92, 129, 294,  40, 126, 243, 111,  41, 187,  29,\n",
      "        205, 285, 198, 250,  65,  22, 280, 101, 123, 231,  21, 210, 336, 241,\n",
      "        117, 360,  15,  13, 102, 375, 118, 116, 232, 299, 263, 176, 292, 268,\n",
      "         98, 217, 168,  97, 124, 311, 181, 370, 240, 335,  25, 361, 230, 321,\n",
      "        244,  44,  23, 252, 317, 156, 166, 363, 173,  76, 201,  49, 271,  66,\n",
      "        236, 155, 242, 128,  18, 214, 218, 281, 324, 338, 229,  12, 290, 354,\n",
      "        163,  60,   1, 189,  36, 302, 188, 171, 376, 350,  95, 141,  42, 264,\n",
      "        323, 368, 107, 341,  17, 295, 277, 332, 238, 136,  11,   7, 345, 223,\n",
      "        103,  84,   8, 348,  54, 326,  81,  56,  46, 104,  26, 346, 372, 135,\n",
      "         83, 147, 246, 122, 172, 115, 204, 325, 228, 234,   3, 180, 200, 257,\n",
      "        322, 178, 320, 373, 367, 291, 253,   2,  52, 220, 340, 207,  50, 286,\n",
      "          6, 380, 344, 121, 203,  31,  45, 377, 356,  75, 144, 337, 371,  70,\n",
      "         59, 154, 237, 132, 289,  94, 192,  16, 287, 239, 199, 221, 276, 161,\n",
      "        138,  38, 273, 193, 319, 194, 266, 316, 305, 160, 183, 270, 157, 308,\n",
      "        182, 158,  93, 134,   5, 261, 313, 159,  39, 235, 248, 184, 330, 298,\n",
      "        328, 275, 351,  35, 331,  61,  34, 303, 125,  63, 365, 164,  53, 100,\n",
      "         79,  71, 329,  69, 191, 202,  89, 162,  43, 148, 333, 224,  28,  62,\n",
      "        262, 112, 265, 177, 227, 278, 255,  91, 283, 315, 170, 259, 327, 169,\n",
      "        127, 355, 150,  90,  27, 267, 256, 139,  85, 219,  33, 272,  51, 226,\n",
      "        381, 145, 190,  64,   9, 108, 105,  96, 309,  99,  20, 212, 347, 260,\n",
      "        109, 151, 119, 353, 131,  57,  58,  87, 269, 349, 358,  32, 249,   4,\n",
      "         73, 225, 152, 366,  82, 383, 312, 306,  78, 297, 318, 307, 153,  80,\n",
      "        362, 364,  30, 245,  67, 208, 185, 352, 378]), 'in_features': 345, 'out_features': 102}\n"
     ]
    },
    {
     "name": "stderr",
     "output_type": "stream",
     "text": [
      "LOCAL_RANK: 0 - CUDA_VISIBLE_DEVICES: [0,1,2,3,4,5,6,7]\n"
     ]
    },
    {
     "data": {
      "application/vnd.jupyter.widget-view+json": {
       "model_id": "6f209931e57c48e8a94cc9d8db195edd",
       "version_major": 2,
       "version_minor": 0
      },
      "text/plain": [
       "Predicting: 0it [00:00, ?it/s]"
      ]
     },
     "metadata": {},
     "output_type": "display_data"
    },
    {
     "name": "stderr",
     "output_type": "stream",
     "text": [
      "Global seed set to 2\n",
      "Global seed set to 10\n",
      "GPU available: True, used: True\n",
      "TPU available: False, using: 0 TPU cores\n",
      "IPU available: False, using: 0 IPUs\n",
      "Global seed set to 0\n",
      "LOCAL_RANK: 0 - CUDA_VISIBLE_DEVICES: [0,1,2,3,4,5,6,7]\n"
     ]
    },
    {
     "name": "stdout",
     "output_type": "stream",
     "text": [
      "{'training': True, '_parameters': OrderedDict(), '_buffers': OrderedDict(), '_non_persistent_buffers_set': set(), '_backward_hooks': OrderedDict(), '_is_full_backward_hook': None, '_forward_hooks': OrderedDict(), '_forward_pre_hooks': OrderedDict(), '_state_dict_hooks': OrderedDict(), '_load_state_dict_pre_hooks': OrderedDict(), '_load_state_dict_post_hooks': OrderedDict(), '_modules': OrderedDict([('linear', Linear(in_features=345, out_features=102, bias=True))]), 'neuron_indices': tensor([137, 293, 312, 358, 376,  78, 311, 273, 241, 189, 176, 345, 301, 213,\n",
      "        200,  29, 240, 354, 172,  10, 260, 339, 208,  31, 263, 262, 258, 343,\n",
      "        275,  24, 164,  94,  40, 269,  42, 246, 307,   9, 155, 122, 109, 379,\n",
      "         55, 211, 153,  71,  22,  12, 302, 243, 256, 277,  38,  57,  96,  59,\n",
      "         66, 305, 285,  61,  28, 317, 202, 265, 348,  45, 118, 297, 231, 147,\n",
      "        224, 191, 295,  33,   7, 157,  23, 357, 309, 158,  53, 363, 274, 141,\n",
      "        360,  48,  49, 355, 223, 125, 126, 291, 140, 377,  19,  16, 207, 132,\n",
      "        234, 296,  74, 168, 138, 308, 194, 127, 249,  85, 284, 162, 170, 175,\n",
      "        182, 282, 129,  60, 264,  87,  64, 252, 169,  46, 237,   3, 353, 280,\n",
      "         72, 299,   1, 327, 316, 329, 227,  95, 119, 375, 330, 206, 340,  35,\n",
      "        143, 320, 114,  44, 373, 255, 102, 228, 286, 359, 156, 346, 124, 337,\n",
      "         92, 271, 184, 253, 324, 218,  80, 133, 298, 334, 167,  27, 235,  26,\n",
      "        292,  91,  14, 287, 222, 318, 244,  82, 350, 229, 183, 192, 123,  73,\n",
      "        266, 180,  62, 250, 150, 145, 181,  63, 369, 261, 371,  70,  52, 303,\n",
      "         77, 185, 142, 219, 193, 121, 195, 341, 174,  79, 319, 238, 159, 201,\n",
      "        310, 366, 101, 347, 188, 278, 107,  58,  93, 248, 139, 368,  81, 332,\n",
      "         39, 149, 179, 130, 279,  51, 344,  43, 105, 151,  21, 116, 197, 199,\n",
      "        349,  41,  20, 364, 112, 160, 178, 136, 245,  13, 236, 210, 313,  76,\n",
      "        100, 230,  65, 270, 226, 314, 367,  56,   8, 215,  15, 216, 268,  36,\n",
      "        204, 120, 370,  90, 259,  89, 214, 281, 356, 104, 131, 382, 321,  50,\n",
      "        338, 288,  75, 103,   6, 203, 135, 134, 239, 148, 152, 323,   2, 186,\n",
      "        247, 220, 163, 380,  69,  54,  83, 294,  84, 315, 365, 289,  97, 190,\n",
      "        115,  86, 378, 381,  98,  88, 146, 362, 300, 233, 161, 232, 331, 306,\n",
      "        374, 166, 212,  18, 335, 110, 325, 372, 106, 251, 154, 221, 333, 144,\n",
      "         34,  68, 283, 242,  47, 290, 304, 196, 108]), 'in_features': 345, 'out_features': 102}\n"
     ]
    },
    {
     "data": {
      "application/vnd.jupyter.widget-view+json": {
       "model_id": "f6af892a4a0d48089fbb2c7fb38ad7f9",
       "version_major": 2,
       "version_minor": 0
      },
      "text/plain": [
       "Predicting: 0it [00:00, ?it/s]"
      ]
     },
     "metadata": {},
     "output_type": "display_data"
    },
    {
     "name": "stderr",
     "output_type": "stream",
     "text": [
      "Global seed set to 2\n",
      "Global seed set to 2\n",
      "GPU available: True, used: True\n",
      "TPU available: False, using: 0 TPU cores\n",
      "IPU available: False, using: 0 IPUs\n",
      "Global seed set to 0\n",
      "LOCAL_RANK: 0 - CUDA_VISIBLE_DEVICES: [0,1,2,3,4,5,6,7]\n"
     ]
    },
    {
     "name": "stdout",
     "output_type": "stream",
     "text": [
      "{'training': True, '_parameters': OrderedDict(), '_buffers': OrderedDict(), '_non_persistent_buffers_set': set(), '_backward_hooks': OrderedDict(), '_is_full_backward_hook': None, '_forward_hooks': OrderedDict(), '_forward_pre_hooks': OrderedDict(), '_state_dict_hooks': OrderedDict(), '_load_state_dict_pre_hooks': OrderedDict(), '_load_state_dict_post_hooks': OrderedDict(), '_modules': OrderedDict([('linear', Linear(in_features=384, out_features=102, bias=True))]), 'neuron_indices': tensor([168,   9,  67, 159,  62, 235,  96, 153,  72, 270,  32, 122, 215, 213,\n",
      "        249, 269, 287,  81, 368,  89,   8, 309,  49, 250, 115, 329, 356, 231,\n",
      "        195,  82, 341,  63, 330,  47, 350, 187, 191, 150, 101, 359, 172, 298,\n",
      "        376, 322,  24, 259, 313, 183, 128,  11, 194, 158,  10, 278, 282,  35,\n",
      "        167,  21, 241, 306, 234,  19, 198, 379,  23,  31, 137, 240,  84, 106,\n",
      "        211,  25, 176, 267, 141, 197, 129, 177, 188, 133,  22, 175, 371, 160,\n",
      "        147, 138, 178,  56,   0, 347, 248, 360, 292, 181, 320,  66, 214, 236,\n",
      "        124, 185, 262,  34,  38, 381, 353, 348, 134, 143, 189, 130, 331,   2,\n",
      "        357,  86, 300, 316,  59, 154, 340, 302, 244,  46,  80, 212,   4, 280,\n",
      "         68, 291, 144,  28, 277, 105, 237, 354, 295, 336, 135, 246, 170,  42,\n",
      "         73,  45,  99, 373, 132, 200,  75, 311,  36, 247, 370, 192, 294,  33,\n",
      "        335, 276, 182,  97, 209,  27, 254,  53, 264, 382,  40, 127, 261, 374,\n",
      "         87, 268, 265, 257, 173,  64, 216, 118, 239,  79,   1, 312,  70, 343,\n",
      "        344, 326, 163, 363, 142, 169, 242, 273,   6, 342, 224,  69, 114, 120,\n",
      "        140, 369, 266, 220, 116, 196, 225, 108, 203, 232, 110, 112, 174, 145,\n",
      "         43, 293, 251, 243, 339, 157, 349, 230, 204, 210, 328, 226, 310, 337,\n",
      "        378,  93,   3, 303, 279, 380, 274, 219,  90, 162, 334, 165, 327,  88,\n",
      "        190, 221, 245, 372, 206,  52, 362, 148,  94, 289,  61, 229, 366, 184,\n",
      "        260,  76, 207, 171, 233, 275, 296, 152, 180, 308, 186, 288,   5,  39,\n",
      "         17, 253, 325,  15, 272,  95, 301, 258,  48,  44,  30, 125, 149, 263,\n",
      "        333, 304,  92, 365, 338, 222, 323,  71, 377, 332,  60, 351, 345, 256,\n",
      "        358, 283, 111, 299,  12, 126, 109,  13, 103, 161, 146, 252, 367, 290,\n",
      "        104,  20, 139, 155, 285, 281, 314,  54, 166, 117, 297, 202, 318, 136,\n",
      "         78, 238,  26, 228, 355, 271,  65, 123, 131, 383,  74, 208, 352,  83,\n",
      "        305,  91, 100, 164, 319,  50,  85,  16,  29, 286,  37, 255, 179, 223,\n",
      "         51,  55,  14,  98, 156, 113, 315, 151,  41, 193, 119, 218, 346, 121,\n",
      "        107, 364, 307, 317, 361, 284, 205, 199, 227,  18, 217,  77, 375,  57,\n",
      "        201, 321,   7, 324,  58, 102]), 'in_features': 384, 'out_features': 102}\n"
     ]
    },
    {
     "data": {
      "application/vnd.jupyter.widget-view+json": {
       "model_id": "1f0d7a7750a34275892af7e60de82def",
       "version_major": 2,
       "version_minor": 0
      },
      "text/plain": [
       "Predicting: 0it [00:00, ?it/s]"
      ]
     },
     "metadata": {},
     "output_type": "display_data"
    },
    {
     "name": "stdout",
     "output_type": "stream",
     "text": [
      "vit_small_patch16_224 nonrob flowers\n",
      "Full Acc: [tensor(0.9933)]\n",
      "For 0.005, acc: 0.02026345767080784 +/- 0.004855040460824966\n",
      "For 0.05, acc: 0.8591965436935425 +/- 0.020248696208000183\n",
      "For 0.1, acc: 0.9613596200942993 +/- 0.004093064460903406\n",
      "For 0.2, acc: 0.9831191897392273 +/- 0.003013491164892912\n",
      "For 0.5, acc: 0.9912668466567993 +/- 0.001103110727854073\n",
      "For 0.9, acc: 0.9928606152534485 +/- 0.0010089417919516563\n",
      "\n"
     ]
    },
    {
     "data": {
      "image/png": "[encoded data removed]",
      "text/plain": [
       "<Figure size 720x432 with 1 Axes>"
      ]
     },
     "metadata": {},
     "output_type": "display_data"
    },
    {
     "name": "stderr",
     "output_type": "stream",
     "text": [
      "Global seed set to 2\n"
     ]
    },
    {
     "name": "stdout",
     "output_type": "stream",
     "text": [
      "flowers {0.005: [0.026017317548394203, 0.03384903818368912, 0.03034648858010769, 0.026447925716638565, 0.02690972201526165, 0.0289015993475914, 0.02747550792992115, 0.02402653731405735, 0.02936662919819355, 0.02983940951526165], 0.05: [0.8716127872467041, 0.8285287022590637, 0.8745771050453186, 0.8652228713035583, 0.8686600923538208, 0.8735274076461792, 0.8871992826461792, 0.8783947229385376, 0.8974376916885376, 0.894569993019104], 0.1: [0.9706070423126221, 0.9642208814620972, 0.9627599120140076, 0.96375572681427, 0.9700676202774048, 0.9622163772583008, 0.9730825424194336, 0.9652235507965088, 0.9735475778579712, 0.9701141119003296], 0.2: [0.9833446145057678, 0.9862819910049438, 0.9843250513076782, 0.9887233972549438, 0.9906684160232544, 0.9872194528579712, 0.9897305965423584, 0.9872504472732544, 0.989219069480896, 0.9882502555847168], 0.5: [0.993148684501648, 0.9936254024505615, 0.9931448698043823, 0.9921605587005615, 0.9921565055847168, 0.9946134090423584, 0.9921410083770752, 0.9921565055847168, 0.994101881980896, 0.9941251277923584], 0.9: [0.9936331510543823, 0.9960745573043823, 0.9946058392524719, 0.9950941205024719, 0.994101881980896, 0.9936213493347168, 0.994101881980896, 0.9950939416885376, 0.9950861930847168, 0.993613600730896]}\n"
     ]
    },
    {
     "name": "stderr",
     "output_type": "stream",
     "text": [
      "Global seed set to 1\n",
      "GPU available: True, used: True\n",
      "TPU available: False, using: 0 TPU cores\n",
      "IPU available: False, using: 0 IPUs\n",
      "Global seed set to 0\n",
      "LOCAL_RANK: 0 - CUDA_VISIBLE_DEVICES: [0,1,2,3,4,5,6,7]\n"
     ]
    },
    {
     "name": "stdout",
     "output_type": "stream",
     "text": [
      "{'training': True, '_parameters': OrderedDict(), '_buffers': OrderedDict(), '_non_persistent_buffers_set': set(), '_backward_hooks': OrderedDict(), '_is_full_backward_hook': None, '_forward_hooks': OrderedDict(), '_forward_pre_hooks': OrderedDict(), '_state_dict_hooks': OrderedDict(), '_load_state_dict_pre_hooks': OrderedDict(), '_load_state_dict_post_hooks': OrderedDict(), '_modules': OrderedDict([('linear', Linear(in_features=1, out_features=37, bias=True))]), 'neuron_indices': tensor([37]), 'in_features': 1, 'out_features': 37}\n"
     ]
    },
    {
     "data": {
      "application/vnd.jupyter.widget-view+json": {
       "model_id": "df8a8e30823949d0b22c3d9129e867aa",
       "version_major": 2,
       "version_minor": 0
      },
      "text/plain": [
       "Predicting: 0it [00:00, ?it/s]"
      ]
     },
     "metadata": {},
     "output_type": "display_data"
    },
    {
     "name": "stderr",
     "output_type": "stream",
     "text": [
      "Global seed set to 2\n",
      "Global seed set to 2\n",
      "GPU available: True, used: True\n",
      "TPU available: False, using: 0 TPU cores\n",
      "IPU available: False, using: 0 IPUs\n",
      "Global seed set to 0\n"
     ]
    },
    {
     "name": "stdout",
     "output_type": "stream",
     "text": [
      "{'training': True, '_parameters': OrderedDict(), '_buffers': OrderedDict(), '_non_persistent_buffers_set': set(), '_backward_hooks': OrderedDict(), '_is_full_backward_hook': None, '_forward_hooks': OrderedDict(), '_forward_pre_hooks': OrderedDict(), '_state_dict_hooks': OrderedDict(), '_load_state_dict_pre_hooks': OrderedDict(), '_load_state_dict_post_hooks': OrderedDict(), '_modules': OrderedDict([('linear', Linear(in_features=1, out_features=37, bias=True))]), 'neuron_indices': tensor([168]), 'in_features': 1, 'out_features': 37}\n"
     ]
    },
    {
     "name": "stderr",
     "output_type": "stream",
     "text": [
      "LOCAL_RANK: 0 - CUDA_VISIBLE_DEVICES: [0,1,2,3,4,5,6,7]\n"
     ]
    },
    {
     "data": {
      "application/vnd.jupyter.widget-view+json": {
       "model_id": "bfd012707b07459988821f845711c94d",
       "version_major": 2,
       "version_minor": 0
      },
      "text/plain": [
       "Predicting: 0it [00:00, ?it/s]"
      ]
     },
     "metadata": {},
     "output_type": "display_data"
    },
    {
     "name": "stderr",
     "output_type": "stream",
     "text": [
      "Global seed set to 2\n",
      "Global seed set to 3\n",
      "GPU available: True, used: True\n",
      "TPU available: False, using: 0 TPU cores\n",
      "IPU available: False, using: 0 IPUs\n",
      "Global seed set to 0\n",
      "LOCAL_RANK: 0 - CUDA_VISIBLE_DEVICES: [0,1,2,3,4,5,6,7]\n"
     ]
    },
    {
     "name": "stdout",
     "output_type": "stream",
     "text": [
      "{'training': True, '_parameters': OrderedDict(), '_buffers': OrderedDict(), '_non_persistent_buffers_set': set(), '_backward_hooks': OrderedDict(), '_is_full_backward_hook': None, '_forward_hooks': OrderedDict(), '_forward_pre_hooks': OrderedDict(), '_state_dict_hooks': OrderedDict(), '_load_state_dict_pre_hooks': OrderedDict(), '_load_state_dict_post_hooks': OrderedDict(), '_modules': OrderedDict([('linear', Linear(in_features=1, out_features=37, bias=True))]), 'neuron_indices': tensor([106]), 'in_features': 1, 'out_features': 37}\n"
     ]
    },
    {
     "data": {
      "application/vnd.jupyter.widget-view+json": {
       "model_id": "8c0d63a896d54a51b3eeac71983ea7f0",
       "version_major": 2,
       "version_minor": 0
      },
      "text/plain": [
       "Predicting: 0it [00:00, ?it/s]"
      ]
     },
     "metadata": {},
     "output_type": "display_data"
    },
    {
     "name": "stderr",
     "output_type": "stream",
     "text": [
      "Global seed set to 2\n",
      "Global seed set to 4\n",
      "GPU available: True, used: True\n",
      "TPU available: False, using: 0 TPU cores\n",
      "IPU available: False, using: 0 IPUs\n",
      "Global seed set to 0\n",
      "LOCAL_RANK: 0 - CUDA_VISIBLE_DEVICES: [0,1,2,3,4,5,6,7]\n"
     ]
    },
    {
     "name": "stdout",
     "output_type": "stream",
     "text": [
      "{'training': True, '_parameters': OrderedDict(), '_buffers': OrderedDict(), '_non_persistent_buffers_set': set(), '_backward_hooks': OrderedDict(), '_is_full_backward_hook': None, '_forward_hooks': OrderedDict(), '_forward_pre_hooks': OrderedDict(), '_state_dict_hooks': OrderedDict(), '_load_state_dict_pre_hooks': OrderedDict(), '_load_state_dict_post_hooks': OrderedDict(), '_modules': OrderedDict([('linear', Linear(in_features=1, out_features=37, bias=True))]), 'neuron_indices': tensor([250]), 'in_features': 1, 'out_features': 37}\n"
     ]
    },
    {
     "data": {
      "application/vnd.jupyter.widget-view+json": {
       "model_id": "0dd09a7b2ed247c2b4a3e472f66e5242",
       "version_major": 2,
       "version_minor": 0
      },
      "text/plain": [
       "Predicting: 0it [00:00, ?it/s]"
      ]
     },
     "metadata": {},
     "output_type": "display_data"
    },
    {
     "name": "stderr",
     "output_type": "stream",
     "text": [
      "Global seed set to 2\n",
      "Global seed set to 5\n",
      "GPU available: True, used: True\n",
      "TPU available: False, using: 0 TPU cores\n",
      "IPU available: False, using: 0 IPUs\n",
      "Global seed set to 0\n",
      "LOCAL_RANK: 0 - CUDA_VISIBLE_DEVICES: [0,1,2,3,4,5,6,7]\n"
     ]
    },
    {
     "name": "stdout",
     "output_type": "stream",
     "text": [
      "{'training': True, '_parameters': OrderedDict(), '_buffers': OrderedDict(), '_non_persistent_buffers_set': set(), '_backward_hooks': OrderedDict(), '_is_full_backward_hook': None, '_forward_hooks': OrderedDict(), '_forward_pre_hooks': OrderedDict(), '_state_dict_hooks': OrderedDict(), '_load_state_dict_pre_hooks': OrderedDict(), '_load_state_dict_post_hooks': OrderedDict(), '_modules': OrderedDict([('linear', Linear(in_features=1, out_features=37, bias=True))]), 'neuron_indices': tensor([227]), 'in_features': 1, 'out_features': 37}\n"
     ]
    },
    {
     "data": {
      "application/vnd.jupyter.widget-view+json": {
       "model_id": "629ff15e90564ec79cc17114de2d8eef",
       "version_major": 2,
       "version_minor": 0
      },
      "text/plain": [
       "Predicting: 0it [00:00, ?it/s]"
      ]
     },
     "metadata": {},
     "output_type": "display_data"
    },
    {
     "name": "stderr",
     "output_type": "stream",
     "text": [
      "Global seed set to 2\n",
      "Global seed set to 6\n",
      "GPU available: True, used: True\n",
      "TPU available: False, using: 0 TPU cores\n",
      "IPU available: False, using: 0 IPUs\n",
      "Global seed set to 0\n"
     ]
    },
    {
     "name": "stdout",
     "output_type": "stream",
     "text": [
      "{'training': True, '_parameters': OrderedDict(), '_buffers': OrderedDict(), '_non_persistent_buffers_set': set(), '_backward_hooks': OrderedDict(), '_is_full_backward_hook': None, '_forward_hooks': OrderedDict(), '_forward_pre_hooks': OrderedDict(), '_state_dict_hooks': OrderedDict(), '_load_state_dict_pre_hooks': OrderedDict(), '_load_state_dict_post_hooks': OrderedDict(), '_modules': OrderedDict([('linear', Linear(in_features=1, out_features=37, bias=True))]), 'neuron_indices': tensor([266]), 'in_features': 1, 'out_features': 37}\n"
     ]
    },
    {
     "name": "stderr",
     "output_type": "stream",
     "text": [
      "LOCAL_RANK: 0 - CUDA_VISIBLE_DEVICES: [0,1,2,3,4,5,6,7]\n"
     ]
    },
    {
     "data": {
      "application/vnd.jupyter.widget-view+json": {
       "model_id": "e270ce210ad9442783804caf4d718370",
       "version_major": 2,
       "version_minor": 0
      },
      "text/plain": [
       "Predicting: 0it [00:00, ?it/s]"
      ]
     },
     "metadata": {},
     "output_type": "display_data"
    },
    {
     "name": "stderr",
     "output_type": "stream",
     "text": [
      "Global seed set to 2\n",
      "Global seed set to 7\n",
      "GPU available: True, used: True\n",
      "TPU available: False, using: 0 TPU cores\n",
      "IPU available: False, using: 0 IPUs\n",
      "Global seed set to 0\n",
      "LOCAL_RANK: 0 - CUDA_VISIBLE_DEVICES: [0,1,2,3,4,5,6,7]\n"
     ]
    },
    {
     "name": "stdout",
     "output_type": "stream",
     "text": [
      "{'training': True, '_parameters': OrderedDict(), '_buffers': OrderedDict(), '_non_persistent_buffers_set': set(), '_backward_hooks': OrderedDict(), '_is_full_backward_hook': None, '_forward_hooks': OrderedDict(), '_forward_pre_hooks': OrderedDict(), '_state_dict_hooks': OrderedDict(), '_load_state_dict_pre_hooks': OrderedDict(), '_load_state_dict_post_hooks': OrderedDict(), '_modules': OrderedDict([('linear', Linear(in_features=1, out_features=37, bias=True))]), 'neuron_indices': tensor([303]), 'in_features': 1, 'out_features': 37}\n"
     ]
    },
    {
     "data": {
      "application/vnd.jupyter.widget-view+json": {
       "model_id": "b1315194af7d49078ac183eb6ea9196e",
       "version_major": 2,
       "version_minor": 0
      },
      "text/plain": [
       "Predicting: 0it [00:00, ?it/s]"
      ]
     },
     "metadata": {},
     "output_type": "display_data"
    },
    {
     "name": "stderr",
     "output_type": "stream",
     "text": [
      "Global seed set to 2\n",
      "Global seed set to 8\n",
      "GPU available: True, used: True\n",
      "TPU available: False, using: 0 TPU cores\n",
      "IPU available: False, using: 0 IPUs\n",
      "Global seed set to 0\n",
      "LOCAL_RANK: 0 - CUDA_VISIBLE_DEVICES: [0,1,2,3,4,5,6,7]\n"
     ]
    },
    {
     "name": "stdout",
     "output_type": "stream",
     "text": [
      "{'training': True, '_parameters': OrderedDict(), '_buffers': OrderedDict(), '_non_persistent_buffers_set': set(), '_backward_hooks': OrderedDict(), '_is_full_backward_hook': None, '_forward_hooks': OrderedDict(), '_forward_pre_hooks': OrderedDict(), '_state_dict_hooks': OrderedDict(), '_load_state_dict_pre_hooks': OrderedDict(), '_load_state_dict_post_hooks': OrderedDict(), '_modules': OrderedDict([('linear', Linear(in_features=1, out_features=37, bias=True))]), 'neuron_indices': tensor([195]), 'in_features': 1, 'out_features': 37}\n"
     ]
    },
    {
     "data": {
      "application/vnd.jupyter.widget-view+json": {
       "model_id": "95a4abefdf3e4b2da4548bfa1977ed1b",
       "version_major": 2,
       "version_minor": 0
      },
      "text/plain": [
       "Predicting: 0it [00:00, ?it/s]"
      ]
     },
     "metadata": {},
     "output_type": "display_data"
    },
    {
     "name": "stderr",
     "output_type": "stream",
     "text": [
      "Global seed set to 2\n",
      "Global seed set to 9\n",
      "GPU available: True, used: True\n",
      "TPU available: False, using: 0 TPU cores\n",
      "IPU available: False, using: 0 IPUs\n",
      "Global seed set to 0\n"
     ]
    },
    {
     "name": "stdout",
     "output_type": "stream",
     "text": [
      "{'training': True, '_parameters': OrderedDict(), '_buffers': OrderedDict(), '_non_persistent_buffers_set': set(), '_backward_hooks': OrderedDict(), '_is_full_backward_hook': None, '_forward_hooks': OrderedDict(), '_forward_pre_hooks': OrderedDict(), '_state_dict_hooks': OrderedDict(), '_load_state_dict_pre_hooks': OrderedDict(), '_load_state_dict_post_hooks': OrderedDict(), '_modules': OrderedDict([('linear', Linear(in_features=1, out_features=37, bias=True))]), 'neuron_indices': tensor([382]), 'in_features': 1, 'out_features': 37}\n"
     ]
    },
    {
     "name": "stderr",
     "output_type": "stream",
     "text": [
      "LOCAL_RANK: 0 - CUDA_VISIBLE_DEVICES: [0,1,2,3,4,5,6,7]\n"
     ]
    },
    {
     "data": {
      "application/vnd.jupyter.widget-view+json": {
       "model_id": "3f18e69bc45340f0ab2460ffa05d285a",
       "version_major": 2,
       "version_minor": 0
      },
      "text/plain": [
       "Predicting: 0it [00:00, ?it/s]"
      ]
     },
     "metadata": {},
     "output_type": "display_data"
    },
    {
     "name": "stderr",
     "output_type": "stream",
     "text": [
      "Global seed set to 2\n",
      "Global seed set to 10\n",
      "GPU available: True, used: True\n",
      "TPU available: False, using: 0 TPU cores\n",
      "IPU available: False, using: 0 IPUs\n",
      "Global seed set to 0\n",
      "LOCAL_RANK: 0 - CUDA_VISIBLE_DEVICES: [0,1,2,3,4,5,6,7]\n"
     ]
    },
    {
     "name": "stdout",
     "output_type": "stream",
     "text": [
      "{'training': True, '_parameters': OrderedDict(), '_buffers': OrderedDict(), '_non_persistent_buffers_set': set(), '_backward_hooks': OrderedDict(), '_is_full_backward_hook': None, '_forward_hooks': OrderedDict(), '_forward_pre_hooks': OrderedDict(), '_state_dict_hooks': OrderedDict(), '_load_state_dict_pre_hooks': OrderedDict(), '_load_state_dict_post_hooks': OrderedDict(), '_modules': OrderedDict([('linear', Linear(in_features=1, out_features=37, bias=True))]), 'neuron_indices': tensor([137]), 'in_features': 1, 'out_features': 37}\n"
     ]
    },
    {
     "data": {
      "application/vnd.jupyter.widget-view+json": {
       "model_id": "a63ee3c62aac4f3b915c97cad074be2b",
       "version_major": 2,
       "version_minor": 0
      },
      "text/plain": [
       "Predicting: 0it [00:00, ?it/s]"
      ]
     },
     "metadata": {},
     "output_type": "display_data"
    },
    {
     "name": "stderr",
     "output_type": "stream",
     "text": [
      "Global seed set to 2\n",
      "Global seed set to 1\n",
      "GPU available: True, used: True\n",
      "TPU available: False, using: 0 TPU cores\n",
      "IPU available: False, using: 0 IPUs\n",
      "Global seed set to 0\n",
      "LOCAL_RANK: 0 - CUDA_VISIBLE_DEVICES: [0,1,2,3,4,5,6,7]\n"
     ]
    },
    {
     "name": "stdout",
     "output_type": "stream",
     "text": [
      "{'training': True, '_parameters': OrderedDict(), '_buffers': OrderedDict(), '_non_persistent_buffers_set': set(), '_backward_hooks': OrderedDict(), '_is_full_backward_hook': None, '_forward_hooks': OrderedDict(), '_forward_pre_hooks': OrderedDict(), '_state_dict_hooks': OrderedDict(), '_load_state_dict_pre_hooks': OrderedDict(), '_load_state_dict_post_hooks': OrderedDict(), '_modules': OrderedDict([('linear', Linear(in_features=19, out_features=37, bias=True))]), 'neuron_indices': tensor([ 37,  88, 258, 104, 307, 131, 251, 113,  31,  66, 162, 117, 364, 158,\n",
      "        277,  69, 198, 329, 194]), 'in_features': 19, 'out_features': 37}\n"
     ]
    },
    {
     "data": {
      "application/vnd.jupyter.widget-view+json": {
       "model_id": "232a3409d0aa44c380da5f748ff005a7",
       "version_major": 2,
       "version_minor": 0
      },
      "text/plain": [
       "Predicting: 0it [00:00, ?it/s]"
      ]
     },
     "metadata": {},
     "output_type": "display_data"
    },
    {
     "name": "stderr",
     "output_type": "stream",
     "text": [
      "Global seed set to 2\n",
      "Global seed set to 2\n",
      "GPU available: True, used: True\n",
      "TPU available: False, using: 0 TPU cores\n",
      "IPU available: False, using: 0 IPUs\n",
      "Global seed set to 0\n",
      "LOCAL_RANK: 0 - CUDA_VISIBLE_DEVICES: [0,1,2,3,4,5,6,7]\n"
     ]
    },
    {
     "name": "stdout",
     "output_type": "stream",
     "text": [
      "{'training': True, '_parameters': OrderedDict(), '_buffers': OrderedDict(), '_non_persistent_buffers_set': set(), '_backward_hooks': OrderedDict(), '_is_full_backward_hook': None, '_forward_hooks': OrderedDict(), '_forward_pre_hooks': OrderedDict(), '_state_dict_hooks': OrderedDict(), '_load_state_dict_pre_hooks': OrderedDict(), '_load_state_dict_post_hooks': OrderedDict(), '_modules': OrderedDict([('linear', Linear(in_features=19, out_features=37, bias=True))]), 'neuron_indices': tensor([168,   9,  67, 159,  62, 235,  96, 153,  72, 270,  32, 122, 215, 213,\n",
      "        249, 269, 287,  81, 368]), 'in_features': 19, 'out_features': 37}\n"
     ]
    },
    {
     "data": {
      "application/vnd.jupyter.widget-view+json": {
       "model_id": "549ae08688ff46b59cc8b24a1e7abe10",
       "version_major": 2,
       "version_minor": 0
      },
      "text/plain": [
       "Predicting: 0it [00:00, ?it/s]"
      ]
     },
     "metadata": {},
     "output_type": "display_data"
    },
    {
     "name": "stderr",
     "output_type": "stream",
     "text": [
      "Global seed set to 2\n",
      "Global seed set to 3\n",
      "GPU available: True, used: True\n",
      "TPU available: False, using: 0 TPU cores\n",
      "IPU available: False, using: 0 IPUs\n",
      "Global seed set to 0\n"
     ]
    },
    {
     "name": "stdout",
     "output_type": "stream",
     "text": [
      "{'training': True, '_parameters': OrderedDict(), '_buffers': OrderedDict(), '_non_persistent_buffers_set': set(), '_backward_hooks': OrderedDict(), '_is_full_backward_hook': None, '_forward_hooks': OrderedDict(), '_forward_pre_hooks': OrderedDict(), '_state_dict_hooks': OrderedDict(), '_load_state_dict_pre_hooks': OrderedDict(), '_load_state_dict_post_hooks': OrderedDict(), '_modules': OrderedDict([('linear', Linear(in_features=19, out_features=37, bias=True))]), 'neuron_indices': tensor([106, 302, 345, 306,  44,  25, 246, 165, 173, 373,  62, 354,  89,  61,\n",
      "        170, 154, 119, 223,  26]), 'in_features': 19, 'out_features': 37}\n"
     ]
    },
    {
     "name": "stderr",
     "output_type": "stream",
     "text": [
      "LOCAL_RANK: 0 - CUDA_VISIBLE_DEVICES: [0,1,2,3,4,5,6,7]\n"
     ]
    },
    {
     "data": {
      "application/vnd.jupyter.widget-view+json": {
       "model_id": "a9e6ba40e698445da73ea7bb5c011e01",
       "version_major": 2,
       "version_minor": 0
      },
      "text/plain": [
       "Predicting: 0it [00:00, ?it/s]"
      ]
     },
     "metadata": {},
     "output_type": "display_data"
    },
    {
     "name": "stderr",
     "output_type": "stream",
     "text": [
      "Global seed set to 2\n",
      "Global seed set to 4\n",
      "GPU available: True, used: True\n",
      "TPU available: False, using: 0 TPU cores\n",
      "IPU available: False, using: 0 IPUs\n",
      "Global seed set to 0\n",
      "LOCAL_RANK: 0 - CUDA_VISIBLE_DEVICES: [0,1,2,3,4,5,6,7]\n"
     ]
    },
    {
     "name": "stdout",
     "output_type": "stream",
     "text": [
      "{'training': True, '_parameters': OrderedDict(), '_buffers': OrderedDict(), '_non_persistent_buffers_set': set(), '_backward_hooks': OrderedDict(), '_is_full_backward_hook': None, '_forward_hooks': OrderedDict(), '_forward_pre_hooks': OrderedDict(), '_state_dict_hooks': OrderedDict(), '_load_state_dict_pre_hooks': OrderedDict(), '_load_state_dict_post_hooks': OrderedDict(), '_modules': OrderedDict([('linear', Linear(in_features=19, out_features=37, bias=True))]), 'neuron_indices': tensor([250, 172, 245, 263,  73,  12, 239,   0, 234, 120, 266, 204,  47, 302,\n",
      "        364, 328,  71, 145, 336]), 'in_features': 19, 'out_features': 37}\n"
     ]
    },
    {
     "data": {
      "application/vnd.jupyter.widget-view+json": {
       "model_id": "f62b68f484da4c9a9dcdc518bc63a6ca",
       "version_major": 2,
       "version_minor": 0
      },
      "text/plain": [
       "Predicting: 0it [00:00, ?it/s]"
      ]
     },
     "metadata": {},
     "output_type": "display_data"
    },
    {
     "name": "stderr",
     "output_type": "stream",
     "text": [
      "Global seed set to 2\n",
      "Global seed set to 5\n",
      "GPU available: True, used: True\n",
      "TPU available: False, using: 0 TPU cores\n",
      "IPU available: False, using: 0 IPUs\n",
      "Global seed set to 0\n",
      "LOCAL_RANK: 0 - CUDA_VISIBLE_DEVICES: [0,1,2,3,4,5,6,7]\n"
     ]
    },
    {
     "name": "stdout",
     "output_type": "stream",
     "text": [
      "{'training': True, '_parameters': OrderedDict(), '_buffers': OrderedDict(), '_non_persistent_buffers_set': set(), '_backward_hooks': OrderedDict(), '_is_full_backward_hook': None, '_forward_hooks': OrderedDict(), '_forward_pre_hooks': OrderedDict(), '_state_dict_hooks': OrderedDict(), '_load_state_dict_pre_hooks': OrderedDict(), '_load_state_dict_post_hooks': OrderedDict(), '_modules': OrderedDict([('linear', Linear(in_features=19, out_features=37, bias=True))]), 'neuron_indices': tensor([227, 245, 139,   9, 250,  75,  70, 239,  80, 163, 325,  83,  95, 365,\n",
      "        112,   5, 119, 155, 269]), 'in_features': 19, 'out_features': 37}\n"
     ]
    },
    {
     "data": {
      "application/vnd.jupyter.widget-view+json": {
       "model_id": "6a439dca19f0494d879d64594fd11d7c",
       "version_major": 2,
       "version_minor": 0
      },
      "text/plain": [
       "Predicting: 0it [00:00, ?it/s]"
      ]
     },
     "metadata": {},
     "output_type": "display_data"
    },
    {
     "name": "stderr",
     "output_type": "stream",
     "text": [
      "Global seed set to 2\n",
      "Global seed set to 6\n",
      "GPU available: True, used: True\n",
      "TPU available: False, using: 0 TPU cores\n",
      "IPU available: False, using: 0 IPUs\n",
      "Global seed set to 0\n"
     ]
    },
    {
     "name": "stdout",
     "output_type": "stream",
     "text": [
      "{'training': True, '_parameters': OrderedDict(), '_buffers': OrderedDict(), '_non_persistent_buffers_set': set(), '_backward_hooks': OrderedDict(), '_is_full_backward_hook': None, '_forward_hooks': OrderedDict(), '_forward_pre_hooks': OrderedDict(), '_state_dict_hooks': OrderedDict(), '_load_state_dict_pre_hooks': OrderedDict(), '_load_state_dict_post_hooks': OrderedDict(), '_modules': OrderedDict([('linear', Linear(in_features=19, out_features=37, bias=True))]), 'neuron_indices': tensor([266, 315, 283, 323, 218, 318, 215, 111,  48, 192, 187, 174,  67, 213,\n",
      "        351, 344, 319, 324, 334]), 'in_features': 19, 'out_features': 37}\n"
     ]
    },
    {
     "name": "stderr",
     "output_type": "stream",
     "text": [
      "LOCAL_RANK: 0 - CUDA_VISIBLE_DEVICES: [0,1,2,3,4,5,6,7]\n"
     ]
    },
    {
     "data": {
      "application/vnd.jupyter.widget-view+json": {
       "model_id": "06d12a39b5054a3aaa3a3ee91c349fe6",
       "version_major": 2,
       "version_minor": 0
      },
      "text/plain": [
       "Predicting: 0it [00:00, ?it/s]"
      ]
     },
     "metadata": {},
     "output_type": "display_data"
    },
    {
     "name": "stderr",
     "output_type": "stream",
     "text": [
      "Global seed set to 2\n",
      "Global seed set to 7\n",
      "GPU available: True, used: True\n",
      "TPU available: False, using: 0 TPU cores\n",
      "IPU available: False, using: 0 IPUs\n",
      "Global seed set to 0\n",
      "LOCAL_RANK: 0 - CUDA_VISIBLE_DEVICES: [0,1,2,3,4,5,6,7]\n"
     ]
    },
    {
     "name": "stdout",
     "output_type": "stream",
     "text": [
      "{'training': True, '_parameters': OrderedDict(), '_buffers': OrderedDict(), '_non_persistent_buffers_set': set(), '_backward_hooks': OrderedDict(), '_is_full_backward_hook': None, '_forward_hooks': OrderedDict(), '_forward_pre_hooks': OrderedDict(), '_state_dict_hooks': OrderedDict(), '_load_state_dict_pre_hooks': OrderedDict(), '_load_state_dict_post_hooks': OrderedDict(), '_modules': OrderedDict([('linear', Linear(in_features=19, out_features=37, bias=True))]), 'neuron_indices': tensor([303, 204, 193, 254,  87, 153, 257, 298, 132,  20, 184, 156, 368, 175,\n",
      "        376, 208,  42, 190, 309]), 'in_features': 19, 'out_features': 37}\n"
     ]
    },
    {
     "data": {
      "application/vnd.jupyter.widget-view+json": {
       "model_id": "7b626adacac345f7b6644c7b83878dce",
       "version_major": 2,
       "version_minor": 0
      },
      "text/plain": [
       "Predicting: 0it [00:00, ?it/s]"
      ]
     },
     "metadata": {},
     "output_type": "display_data"
    },
    {
     "name": "stderr",
     "output_type": "stream",
     "text": [
      "Global seed set to 2\n",
      "Global seed set to 8\n",
      "GPU available: True, used: True\n",
      "TPU available: False, using: 0 TPU cores\n",
      "IPU available: False, using: 0 IPUs\n",
      "Global seed set to 0\n",
      "LOCAL_RANK: 0 - CUDA_VISIBLE_DEVICES: [0,1,2,3,4,5,6,7]\n"
     ]
    },
    {
     "name": "stdout",
     "output_type": "stream",
     "text": [
      "{'training': True, '_parameters': OrderedDict(), '_buffers': OrderedDict(), '_non_persistent_buffers_set': set(), '_backward_hooks': OrderedDict(), '_is_full_backward_hook': None, '_forward_hooks': OrderedDict(), '_forward_pre_hooks': OrderedDict(), '_state_dict_hooks': OrderedDict(), '_load_state_dict_pre_hooks': OrderedDict(), '_load_state_dict_post_hooks': OrderedDict(), '_modules': OrderedDict([('linear', Linear(in_features=19, out_features=37, bias=True))]), 'neuron_indices': tensor([195, 178, 363, 219, 321,  52, 274, 351, 280, 295, 150, 118, 205, 257,\n",
      "        211, 172, 330, 256, 332]), 'in_features': 19, 'out_features': 37}\n"
     ]
    },
    {
     "data": {
      "application/vnd.jupyter.widget-view+json": {
       "model_id": "64e826e64f2e4053a1d69a5dee741124",
       "version_major": 2,
       "version_minor": 0
      },
      "text/plain": [
       "Predicting: 0it [00:00, ?it/s]"
      ]
     },
     "metadata": {},
     "output_type": "display_data"
    },
    {
     "name": "stderr",
     "output_type": "stream",
     "text": [
      "Global seed set to 2\n",
      "Global seed set to 9\n",
      "GPU available: True, used: True\n",
      "TPU available: False, using: 0 TPU cores\n",
      "IPU available: False, using: 0 IPUs\n",
      "Global seed set to 0\n"
     ]
    },
    {
     "name": "stdout",
     "output_type": "stream",
     "text": [
      "{'training': True, '_parameters': OrderedDict(), '_buffers': OrderedDict(), '_non_persistent_buffers_set': set(), '_backward_hooks': OrderedDict(), '_is_full_backward_hook': None, '_forward_hooks': OrderedDict(), '_forward_pre_hooks': OrderedDict(), '_state_dict_hooks': OrderedDict(), '_load_state_dict_pre_hooks': OrderedDict(), '_load_state_dict_post_hooks': OrderedDict(), '_modules': OrderedDict([('linear', Linear(in_features=19, out_features=37, bias=True))]), 'neuron_indices': tensor([382, 379, 274, 284, 106,  74, 247,  48, 197, 110, 142, 342, 279,  24,\n",
      "        130,  86,  88, 301, 113]), 'in_features': 19, 'out_features': 37}\n"
     ]
    },
    {
     "name": "stderr",
     "output_type": "stream",
     "text": [
      "LOCAL_RANK: 0 - CUDA_VISIBLE_DEVICES: [0,1,2,3,4,5,6,7]\n"
     ]
    },
    {
     "data": {
      "application/vnd.jupyter.widget-view+json": {
       "model_id": "ba9b57e05c1440e5b7b14f9952ceb982",
       "version_major": 2,
       "version_minor": 0
      },
      "text/plain": [
       "Predicting: 0it [00:00, ?it/s]"
      ]
     },
     "metadata": {},
     "output_type": "display_data"
    },
    {
     "name": "stderr",
     "output_type": "stream",
     "text": [
      "Global seed set to 2\n",
      "Global seed set to 10\n",
      "GPU available: True, used: True\n",
      "TPU available: False, using: 0 TPU cores\n",
      "IPU available: False, using: 0 IPUs\n",
      "Global seed set to 0\n",
      "LOCAL_RANK: 0 - CUDA_VISIBLE_DEVICES: [0,1,2,3,4,5,6,7]\n"
     ]
    },
    {
     "name": "stdout",
     "output_type": "stream",
     "text": [
      "{'training': True, '_parameters': OrderedDict(), '_buffers': OrderedDict(), '_non_persistent_buffers_set': set(), '_backward_hooks': OrderedDict(), '_is_full_backward_hook': None, '_forward_hooks': OrderedDict(), '_forward_pre_hooks': OrderedDict(), '_state_dict_hooks': OrderedDict(), '_load_state_dict_pre_hooks': OrderedDict(), '_load_state_dict_post_hooks': OrderedDict(), '_modules': OrderedDict([('linear', Linear(in_features=19, out_features=37, bias=True))]), 'neuron_indices': tensor([137, 293, 312, 358, 376,  78, 311, 273, 241, 189, 176, 345, 301, 213,\n",
      "        200,  29, 240, 354, 172]), 'in_features': 19, 'out_features': 37}\n"
     ]
    },
    {
     "data": {
      "application/vnd.jupyter.widget-view+json": {
       "model_id": "a7dd2195fd33444b91042646419e24bd",
       "version_major": 2,
       "version_minor": 0
      },
      "text/plain": [
       "Predicting: 0it [00:00, ?it/s]"
      ]
     },
     "metadata": {},
     "output_type": "display_data"
    },
    {
     "name": "stderr",
     "output_type": "stream",
     "text": [
      "Global seed set to 2\n",
      "Global seed set to 1\n",
      "GPU available: True, used: True\n",
      "TPU available: False, using: 0 TPU cores\n",
      "IPU available: False, using: 0 IPUs\n",
      "Global seed set to 0\n",
      "LOCAL_RANK: 0 - CUDA_VISIBLE_DEVICES: [0,1,2,3,4,5,6,7]\n"
     ]
    },
    {
     "name": "stdout",
     "output_type": "stream",
     "text": [
      "{'training': True, '_parameters': OrderedDict(), '_buffers': OrderedDict(), '_non_persistent_buffers_set': set(), '_backward_hooks': OrderedDict(), '_is_full_backward_hook': None, '_forward_hooks': OrderedDict(), '_forward_pre_hooks': OrderedDict(), '_state_dict_hooks': OrderedDict(), '_load_state_dict_pre_hooks': OrderedDict(), '_load_state_dict_post_hooks': OrderedDict(), '_modules': OrderedDict([('linear', Linear(in_features=38, out_features=37, bias=True))]), 'neuron_indices': tensor([ 37,  88, 258, 104, 307, 131, 251, 113,  31,  66, 162, 117, 364, 158,\n",
      "        277,  69, 198, 329, 194,  50, 142,  84, 166, 340, 147,  77,  92, 176,\n",
      "         49, 153,  38,  73,  87,  57,  71,  16, 359,  61]), 'in_features': 38, 'out_features': 37}\n"
     ]
    },
    {
     "data": {
      "application/vnd.jupyter.widget-view+json": {
       "model_id": "ef05f2250e6c41b7892a669b958130c3",
       "version_major": 2,
       "version_minor": 0
      },
      "text/plain": [
       "Predicting: 0it [00:00, ?it/s]"
      ]
     },
     "metadata": {},
     "output_type": "display_data"
    },
    {
     "name": "stderr",
     "output_type": "stream",
     "text": [
      "Global seed set to 2\n",
      "Global seed set to 2\n",
      "GPU available: True, used: True\n",
      "TPU available: False, using: 0 TPU cores\n",
      "IPU available: False, using: 0 IPUs\n",
      "Global seed set to 0\n",
      "LOCAL_RANK: 0 - CUDA_VISIBLE_DEVICES: [0,1,2,3,4,5,6,7]\n"
     ]
    },
    {
     "name": "stdout",
     "output_type": "stream",
     "text": [
      "{'training': True, '_parameters': OrderedDict(), '_buffers': OrderedDict(), '_non_persistent_buffers_set': set(), '_backward_hooks': OrderedDict(), '_is_full_backward_hook': None, '_forward_hooks': OrderedDict(), '_forward_pre_hooks': OrderedDict(), '_state_dict_hooks': OrderedDict(), '_load_state_dict_pre_hooks': OrderedDict(), '_load_state_dict_post_hooks': OrderedDict(), '_modules': OrderedDict([('linear', Linear(in_features=38, out_features=37, bias=True))]), 'neuron_indices': tensor([168,   9,  67, 159,  62, 235,  96, 153,  72, 270,  32, 122, 215, 213,\n",
      "        249, 269, 287,  81, 368,  89,   8, 309,  49, 250, 115, 329, 356, 231,\n",
      "        195,  82, 341,  63, 330,  47, 350, 187, 191, 150]), 'in_features': 38, 'out_features': 37}\n"
     ]
    },
    {
     "data": {
      "application/vnd.jupyter.widget-view+json": {
       "model_id": "9ba10e6100d94f4891652485a1c1de40",
       "version_major": 2,
       "version_minor": 0
      },
      "text/plain": [
       "Predicting: 0it [00:00, ?it/s]"
      ]
     },
     "metadata": {},
     "output_type": "display_data"
    },
    {
     "name": "stderr",
     "output_type": "stream",
     "text": [
      "Global seed set to 2\n",
      "Global seed set to 3\n",
      "GPU available: True, used: True\n",
      "TPU available: False, using: 0 TPU cores\n",
      "IPU available: False, using: 0 IPUs\n",
      "Global seed set to 0\n"
     ]
    },
    {
     "name": "stdout",
     "output_type": "stream",
     "text": [
      "{'training': True, '_parameters': OrderedDict(), '_buffers': OrderedDict(), '_non_persistent_buffers_set': set(), '_backward_hooks': OrderedDict(), '_is_full_backward_hook': None, '_forward_hooks': OrderedDict(), '_forward_pre_hooks': OrderedDict(), '_state_dict_hooks': OrderedDict(), '_load_state_dict_pre_hooks': OrderedDict(), '_load_state_dict_post_hooks': OrderedDict(), '_modules': OrderedDict([('linear', Linear(in_features=38, out_features=37, bias=True))]), 'neuron_indices': tensor([106, 302, 345, 306,  44,  25, 246, 165, 173, 373,  62, 354,  89,  61,\n",
      "        170, 154, 119, 223,  26, 158,  96,  50, 333, 210,  20,  13,  51,  60,\n",
      "        150, 174,  42, 362, 252, 379, 303,  66,   8, 254]), 'in_features': 38, 'out_features': 37}\n"
     ]
    },
    {
     "name": "stderr",
     "output_type": "stream",
     "text": [
      "LOCAL_RANK: 0 - CUDA_VISIBLE_DEVICES: [0,1,2,3,4,5,6,7]\n"
     ]
    },
    {
     "data": {
      "application/vnd.jupyter.widget-view+json": {
       "model_id": "b9a76d5681ab4010a91f5d724abd8fdb",
       "version_major": 2,
       "version_minor": 0
      },
      "text/plain": [
       "Predicting: 0it [00:00, ?it/s]"
      ]
     },
     "metadata": {},
     "output_type": "display_data"
    },
    {
     "name": "stderr",
     "output_type": "stream",
     "text": [
      "Global seed set to 2\n",
      "Global seed set to 4\n",
      "GPU available: True, used: True\n",
      "TPU available: False, using: 0 TPU cores\n",
      "IPU available: False, using: 0 IPUs\n",
      "Global seed set to 0\n",
      "LOCAL_RANK: 0 - CUDA_VISIBLE_DEVICES: [0,1,2,3,4,5,6,7]\n"
     ]
    },
    {
     "name": "stdout",
     "output_type": "stream",
     "text": [
      "{'training': True, '_parameters': OrderedDict(), '_buffers': OrderedDict(), '_non_persistent_buffers_set': set(), '_backward_hooks': OrderedDict(), '_is_full_backward_hook': None, '_forward_hooks': OrderedDict(), '_forward_pre_hooks': OrderedDict(), '_state_dict_hooks': OrderedDict(), '_load_state_dict_pre_hooks': OrderedDict(), '_load_state_dict_post_hooks': OrderedDict(), '_modules': OrderedDict([('linear', Linear(in_features=38, out_features=37, bias=True))]), 'neuron_indices': tensor([250, 172, 245, 263,  73,  12, 239,   0, 234, 120, 266, 204,  47, 302,\n",
      "        364, 328,  71, 145, 336,  61, 118, 155, 212, 194, 146, 301, 139,   2,\n",
      "         95,  19,  93, 299, 326, 111, 298, 277, 106,  45]), 'in_features': 38, 'out_features': 37}\n"
     ]
    },
    {
     "data": {
      "application/vnd.jupyter.widget-view+json": {
       "model_id": "7f12fbbb727449c191cbb6944736d538",
       "version_major": 2,
       "version_minor": 0
      },
      "text/plain": [
       "Predicting: 0it [00:00, ?it/s]"
      ]
     },
     "metadata": {},
     "output_type": "display_data"
    },
    {
     "name": "stderr",
     "output_type": "stream",
     "text": [
      "Global seed set to 2\n",
      "Global seed set to 5\n",
      "GPU available: True, used: True\n",
      "TPU available: False, using: 0 TPU cores\n",
      "IPU available: False, using: 0 IPUs\n",
      "Global seed set to 0\n",
      "LOCAL_RANK: 0 - CUDA_VISIBLE_DEVICES: [0,1,2,3,4,5,6,7]\n"
     ]
    },
    {
     "name": "stdout",
     "output_type": "stream",
     "text": [
      "{'training': True, '_parameters': OrderedDict(), '_buffers': OrderedDict(), '_non_persistent_buffers_set': set(), '_backward_hooks': OrderedDict(), '_is_full_backward_hook': None, '_forward_hooks': OrderedDict(), '_forward_pre_hooks': OrderedDict(), '_state_dict_hooks': OrderedDict(), '_load_state_dict_pre_hooks': OrderedDict(), '_load_state_dict_post_hooks': OrderedDict(), '_modules': OrderedDict([('linear', Linear(in_features=38, out_features=37, bias=True))]), 'neuron_indices': tensor([227, 245, 139,   9, 250,  75,  70, 239,  80, 163, 325,  83,  95, 365,\n",
      "        112,   5, 119, 155, 269, 323, 149, 138,  90,  33,  68, 381, 279, 135,\n",
      "        183, 335, 126, 125, 349, 162,  64,  81, 157, 327]), 'in_features': 38, 'out_features': 37}\n"
     ]
    },
    {
     "data": {
      "application/vnd.jupyter.widget-view+json": {
       "model_id": "7dd301110d234c00aeff53d2c675741f",
       "version_major": 2,
       "version_minor": 0
      },
      "text/plain": [
       "Predicting: 0it [00:00, ?it/s]"
      ]
     },
     "metadata": {},
     "output_type": "display_data"
    },
    {
     "name": "stderr",
     "output_type": "stream",
     "text": [
      "Global seed set to 2\n",
      "Global seed set to 6\n",
      "GPU available: True, used: True\n",
      "TPU available: False, using: 0 TPU cores\n",
      "IPU available: False, using: 0 IPUs\n",
      "Global seed set to 0\n",
      "LOCAL_RANK: 0 - CUDA_VISIBLE_DEVICES: [0,1,2,3,4,5,6,7]\n"
     ]
    },
    {
     "name": "stdout",
     "output_type": "stream",
     "text": [
      "{'training': True, '_parameters': OrderedDict(), '_buffers': OrderedDict(), '_non_persistent_buffers_set': set(), '_backward_hooks': OrderedDict(), '_is_full_backward_hook': None, '_forward_hooks': OrderedDict(), '_forward_pre_hooks': OrderedDict(), '_state_dict_hooks': OrderedDict(), '_load_state_dict_pre_hooks': OrderedDict(), '_load_state_dict_post_hooks': OrderedDict(), '_modules': OrderedDict([('linear', Linear(in_features=38, out_features=37, bias=True))]), 'neuron_indices': tensor([266, 315, 283, 323, 218, 318, 215, 111,  48, 192, 187, 174,  67, 213,\n",
      "        351, 344, 319, 324, 334, 188, 264,  66, 178, 316,  76, 248, 191, 309,\n",
      "         62, 276,   7, 232, 143, 342,  86, 340, 287, 124]), 'in_features': 38, 'out_features': 37}\n"
     ]
    },
    {
     "data": {
      "application/vnd.jupyter.widget-view+json": {
       "model_id": "5b95a3e9b635453baa50106a46aec7ad",
       "version_major": 2,
       "version_minor": 0
      },
      "text/plain": [
       "Predicting: 0it [00:00, ?it/s]"
      ]
     },
     "metadata": {},
     "output_type": "display_data"
    },
    {
     "name": "stderr",
     "output_type": "stream",
     "text": [
      "Global seed set to 2\n",
      "Global seed set to 7\n",
      "GPU available: True, used: True\n",
      "TPU available: False, using: 0 TPU cores\n",
      "IPU available: False, using: 0 IPUs\n",
      "Global seed set to 0\n",
      "LOCAL_RANK: 0 - CUDA_VISIBLE_DEVICES: [0,1,2,3,4,5,6,7]\n"
     ]
    },
    {
     "name": "stdout",
     "output_type": "stream",
     "text": [
      "{'training': True, '_parameters': OrderedDict(), '_buffers': OrderedDict(), '_non_persistent_buffers_set': set(), '_backward_hooks': OrderedDict(), '_is_full_backward_hook': None, '_forward_hooks': OrderedDict(), '_forward_pre_hooks': OrderedDict(), '_state_dict_hooks': OrderedDict(), '_load_state_dict_pre_hooks': OrderedDict(), '_load_state_dict_post_hooks': OrderedDict(), '_modules': OrderedDict([('linear', Linear(in_features=38, out_features=37, bias=True))]), 'neuron_indices': tensor([303, 204, 193, 254,  87, 153, 257, 298, 132,  20, 184, 156, 368, 175,\n",
      "        376, 208,  42, 190, 309,  47, 260, 115,   2, 122, 292, 315, 359,  37,\n",
      "        342,  57, 219, 129, 108, 142, 239, 196, 180, 247]), 'in_features': 38, 'out_features': 37}\n"
     ]
    },
    {
     "data": {
      "application/vnd.jupyter.widget-view+json": {
       "model_id": "69bf9dad871241af916d1ecd29adcec7",
       "version_major": 2,
       "version_minor": 0
      },
      "text/plain": [
       "Predicting: 0it [00:00, ?it/s]"
      ]
     },
     "metadata": {},
     "output_type": "display_data"
    },
    {
     "name": "stderr",
     "output_type": "stream",
     "text": [
      "Global seed set to 2\n",
      "Global seed set to 8\n",
      "GPU available: True, used: True\n",
      "TPU available: False, using: 0 TPU cores\n",
      "IPU available: False, using: 0 IPUs\n",
      "Global seed set to 0\n",
      "LOCAL_RANK: 0 - CUDA_VISIBLE_DEVICES: [0,1,2,3,4,5,6,7]\n"
     ]
    },
    {
     "name": "stdout",
     "output_type": "stream",
     "text": [
      "{'training': True, '_parameters': OrderedDict(), '_buffers': OrderedDict(), '_non_persistent_buffers_set': set(), '_backward_hooks': OrderedDict(), '_is_full_backward_hook': None, '_forward_hooks': OrderedDict(), '_forward_pre_hooks': OrderedDict(), '_state_dict_hooks': OrderedDict(), '_load_state_dict_pre_hooks': OrderedDict(), '_load_state_dict_post_hooks': OrderedDict(), '_modules': OrderedDict([('linear', Linear(in_features=38, out_features=37, bias=True))]), 'neuron_indices': tensor([195, 178, 363, 219, 321,  52, 274, 351, 280, 295, 150, 118, 205, 257,\n",
      "        211, 172, 330, 256, 332, 309, 153, 158, 329, 267, 306,  74, 354, 188,\n",
      "        342,  58, 180,   4, 115, 223,  39,  24, 235,  83]), 'in_features': 38, 'out_features': 37}\n"
     ]
    },
    {
     "data": {
      "application/vnd.jupyter.widget-view+json": {
       "model_id": "a990ef03b95e47f1a34b178f6dbc8f27",
       "version_major": 2,
       "version_minor": 0
      },
      "text/plain": [
       "Predicting: 0it [00:00, ?it/s]"
      ]
     },
     "metadata": {},
     "output_type": "display_data"
    },
    {
     "name": "stderr",
     "output_type": "stream",
     "text": [
      "Global seed set to 2\n",
      "Global seed set to 9\n",
      "GPU available: True, used: True\n",
      "TPU available: False, using: 0 TPU cores\n",
      "IPU available: False, using: 0 IPUs\n",
      "Global seed set to 0\n",
      "LOCAL_RANK: 0 - CUDA_VISIBLE_DEVICES: [0,1,2,3,4,5,6,7]\n"
     ]
    },
    {
     "name": "stdout",
     "output_type": "stream",
     "text": [
      "{'training': True, '_parameters': OrderedDict(), '_buffers': OrderedDict(), '_non_persistent_buffers_set': set(), '_backward_hooks': OrderedDict(), '_is_full_backward_hook': None, '_forward_hooks': OrderedDict(), '_forward_pre_hooks': OrderedDict(), '_state_dict_hooks': OrderedDict(), '_load_state_dict_pre_hooks': OrderedDict(), '_load_state_dict_post_hooks': OrderedDict(), '_modules': OrderedDict([('linear', Linear(in_features=38, out_features=37, bias=True))]), 'neuron_indices': tensor([382, 379, 274, 284, 106,  74, 247,  48, 197, 110, 142, 342, 279,  24,\n",
      "        130,  86,  88, 301, 113, 140, 137, 369, 254, 343, 310, 174, 282, 258,\n",
      "        216, 209, 146,   0,  92, 129, 294,  40, 126, 243]), 'in_features': 38, 'out_features': 37}\n"
     ]
    },
    {
     "data": {
      "application/vnd.jupyter.widget-view+json": {
       "model_id": "628afec4b5b2477c80e1151889300423",
       "version_major": 2,
       "version_minor": 0
      },
      "text/plain": [
       "Predicting: 0it [00:00, ?it/s]"
      ]
     },
     "metadata": {},
     "output_type": "display_data"
    }
   ],
   "source": [
    "SOURCE_DATASET = 'imagenet21k'\n",
    "MODEL = 'vit_small_patch16_224'\n",
    "FINETUNE_MODE = 'random'\n",
    "results(MODEL, SOURCE_DATASET)"
   ]
  },
  {
   "cell_type": "code",
   "execution_count": null,
   "id": "668c0cd8",
   "metadata": {},
   "outputs": [],
   "source": [
    "SOURCE_DATASET = 'imagenet21k'\n",
    "MODEL = 'vit_small_patch32_224'\n",
    "FINETUNE_MODE = 'random'\n",
    "results(MODEL, SOURCE_DATASET)"
   ]
  },
  {
   "cell_type": "code",
   "execution_count": null,
   "id": "4900fa93",
   "metadata": {},
   "outputs": [],
   "source": [
    "SOURCE_DATASET = 'imagenet'\n",
    "MODEL = 'resnet50_mrl'\n",
    "FINETUNE_MODE = 'first'\n",
    "NUMBERS = [8,16,32,64,128,256,512,1024,2048]\n",
    "results(MODEL, SOURCE_DATASET, NUMBERS)"
   ]
  },
  {
   "cell_type": "code",
   "execution_count": null,
   "id": "6bb965f6",
   "metadata": {},
   "outputs": [],
   "source": [
    "SOURCE_DATASET = 'imagenet'\n",
    "MODEL = 'resnet50_mrl'\n",
    "FINETUNE_MODE = 'random'\n",
    "NUMBERS = [8,16,32,64,128,256,512,1024,2048]\n",
    "results(MODEL, SOURCE_DATASET, NUMBERS)"
   ]
  },
  {
   "cell_type": "code",
   "execution_count": null,
   "id": "b8c1f8c6",
   "metadata": {},
   "outputs": [],
   "source": []
  }
 ],
 "metadata": {
  "kernelspec": {
   "display_name": "Python 3 (ipykernel)",
   "language": "python",
   "name": "python3"
  },
  "language_info": {
   "codemirror_mode": {
    "name": "ipython",
    "version": 3
   },
   "file_extension": ".py",
   "mimetype": "text/x-python",
   "name": "python",
   "nbconvert_exporter": "python",
   "pygments_lexer": "ipython3",
   "version": "3.7.9"
  }
 },
 "nbformat": 4,
 "nbformat_minor": 5
}
