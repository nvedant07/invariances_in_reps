{
 "cells": [
  {
   "cell_type": "markdown",
   "id": "2dd5b60b",
   "metadata": {},
   "source": [
    "### Results on ImageNet1k and ImageNetV2"
   ]
  },
  {
   "cell_type": "code",
   "execution_count": 1,
   "id": "c3cf2d24",
   "metadata": {},
   "outputs": [
    {
     "name": "stderr",
     "output_type": "stream",
     "text": [
      "/NS/twitter_archive2/work/vnanda/minconda3/envs/dl_base/lib/python3.7/site-packages/paramiko/transport.py:236: CryptographyDeprecationWarning: Blowfish has been deprecated\n",
      "  \"class\": algorithms.Blowfish,\n"
     ]
    }
   ],
   "source": [
    "from pytorch_lightning import utilities as pl_utils\n",
    "from pytorch_lightning.trainer.trainer import Trainer\n",
    "from pytorch_lightning.plugins import DDPPlugin\n",
    "import torch\n",
    "import pathlib\n",
    "from functools import partial\n",
    "import sys, glob, os, copy\n",
    "import numpy as np\n",
    "\n",
    "sys.path.append('..')\n",
    "sys.path.append('../deep-learning-base')\n",
    "sys.path.append('../deep-learning-base/training')\n",
    "sys.path.append('../deep-learning-base/datasets')\n",
    "sys.path.append('../partially_inverted_reps')\n",
    "\n",
    "import plot_helper as plt_hp\n",
    "import output as out\n",
    "from training import LitProgressBar, NicerModelCheckpointing\n",
    "import training.finetuning as ft\n",
    "import architectures as arch\n",
    "from architectures.callbacks import LightningWrapper, LinearEvalWrapper\n",
    "from attack.callbacks import AdvCallback\n",
    "from data_modules import DATA_MODULES\n",
    "import dataset_metadata as dsmd\n",
    "from partial_loss import PartialInversionLoss, PartialInversionRegularizedLoss\n",
    "from __init__ import DATA_PATH_IMAGENET, DATA_PATH, SERVER_PROJECT_PATH"
   ]
  },
  {
   "cell_type": "code",
   "execution_count": 2,
   "id": "d80113f3",
   "metadata": {},
   "outputs": [],
   "source": [
    "DATA_PATH_IMAGENETV2 = '/NS/robustness_2/work/vnanda/data'"
   ]
  },
  {
   "cell_type": "code",
   "execution_count": 3,
   "id": "6da5d668",
   "metadata": {},
   "outputs": [],
   "source": [
    "CHECKPOINT_PATHS = {\n",
    "    'resnet50': {\n",
    "        'nonrob': '',\n",
    "        'robustl2eps3': '/NS/robustness_3/work/vnanda/adv-robustness/logs/'\\\n",
    "                        'robust_imagenet/eps3/resnet-50-l2-eps3.ckpt'}\n",
    "}"
   ]
  },
  {
   "cell_type": "code",
   "execution_count": 4,
   "id": "2a9b664f",
   "metadata": {},
   "outputs": [],
   "source": [
    "SEED = 2\n",
    "NUM_NODES = 1\n",
    "DEVICES = 1\n",
    "BASE_DIR = f\"{pathlib.Path('.').parent.resolve()}/checkpoints\"\n",
    "\n",
    "FINETUNE_BS = 512\n",
    "EVAL_BATCH_SIZE = 100\n",
    "SAMPLE_MODE = 'random'"
   ]
  },
  {
   "cell_type": "code",
   "execution_count": 5,
   "id": "905bf44e",
   "metadata": {},
   "outputs": [],
   "source": [
    "def save_predictions(model_path, output):\n",
    "    preds_path = f'{model_path.split(\".ckpt\")[0]}.pred'\n",
    "    dirs = preds_path.split('/')[:-1]\n",
    "    for i in range(2,len(dirs)+1):\n",
    "        out.create_dir('/'.join(dirs[:i]))\n",
    "    torch.save({'pred': output[0].detach().cpu(), 'gt': output[2].detach().cpu()}, preds_path)\n",
    "\n",
    "def load_predictions(model_path):\n",
    "    preds_path = f'{model_path.split(\".ckpt\")[0]}.pred'\n",
    "    if os.path.exists(preds_path):\n",
    "        return torch.load(preds_path)\n",
    "\n",
    "def accuracy(gt, pred):\n",
    "    pred = torch.argmax(pred, 1)\n",
    "    return torch.sum(gt == pred) / len(gt)\n",
    "\n",
    "\n",
    "def get_test_acc(model, source_dataset, finetuning_dataset, checkpoint_path, model_path,\n",
    "                 seed, fraction, pred_save_path=None, full_layer_acc=False):\n",
    "    dm = DATA_MODULES[finetuning_dataset](\n",
    "        data_dir=DATA_PATH_IMAGENET if finetuning_dataset == 'imagenet' else DATA_PATH_IMAGENETV2,\n",
    "        transform_train=dsmd.TRAIN_TRANSFORMS_TRANSFER_DEFAULT(224),\n",
    "        transform_test=dsmd.TEST_TRANSFORMS_DEFAULT(224),\n",
    "        batch_size=EVAL_BATCH_SIZE)\n",
    "    dm.init_remaining_attrs(source_dataset)\n",
    "\n",
    "    ## assign mean and std from source dataset\n",
    "    m1 = arch.create_model(model, source_dataset, pretrained=True,\n",
    "                           checkpoint_path=checkpoint_path, seed=SEED, \n",
    "                           num_classes=dsmd.DATASET_PARAMS[source_dataset]['num_classes'],\n",
    "                           callback=partial(LightningWrapper, \n",
    "                                            dataset_name=source_dataset,\n",
    "                                            inference_kwargs={'with_latent': True}),\n",
    "                           loading_function_kwargs={'strict': False})\n",
    "    if not full_layer_acc:\n",
    "        state_dict = torch.load(model_path)\n",
    "        new_layer = ft.setup_model_for_finetuning(\n",
    "            m1.model, \n",
    "            dsmd.DATASET_PARAMS[finetuning_dataset]['num_classes'],\n",
    "            SAMPLE_MODE, fraction, seed)\n",
    "\n",
    "        linear_layer = list(m1.model.named_modules())[-1][1]\n",
    "        linear_layer.load_state_dict({k.split('.')[-1]:v \\\n",
    "                                      for k,v in state_dict['state_dict'].items()}, strict=True)\n",
    "        if hasattr(new_layer, 'neuron_indices') and 'neuron_indices' in state_dict:\n",
    "            assert torch.all(new_layer.neuron_indices == state_dict['neuron_indices'])\n",
    "\n",
    "    pl_utils.seed.seed_everything(seed, workers=True)\n",
    "\n",
    "    trainer = Trainer(accelerator='gpu', \n",
    "                      devices=DEVICES,\n",
    "                      num_nodes=NUM_NODES,\n",
    "                      log_every_n_steps=1,\n",
    "                      auto_select_gpus=True, \n",
    "                      deterministic=True,\n",
    "                      check_val_every_n_epoch=1,\n",
    "                      num_sanity_val_steps=0,\n",
    "                      callbacks=[\n",
    "                        LitProgressBar(['loss', \n",
    "                                        'running_test_acc'])])\n",
    "\n",
    "    output = trainer.predict(m1, dataloaders=[dm.test_dataloader()])\n",
    "    save_predictions(model_path if pred_save_path is None else pred_save_path, output)\n",
    "    gt, pred = output[2], output[0]\n",
    "    return accuracy(gt, pred)"
   ]
  },
  {
   "cell_type": "code",
   "execution_count": 6,
   "id": "827574c9",
   "metadata": {},
   "outputs": [],
   "source": [
    "def results(model, source_dataset, shift_dataset, FRACTIONS_OR_NUMBERS=None):\n",
    "    plt_str = '== Dataset shift results ==\\n\\n'\n",
    "    for append in CHECKPOINT_PATHS[model].keys():\n",
    "        ds_to_frac_wise_test = {}\n",
    "        plt_str += f'=== {model} - {append} ===\\n\\n'\n",
    "        frac_wise_test_accs_og, frac_wise_test_accs_shifted = {}, {}\n",
    "        if FRACTIONS_OR_NUMBERS is None:\n",
    "            FRACTIONS_OR_NUMBERS = sorted(\n",
    "                list(set(\n",
    "                    [float(x.split('/frac-')[1].split('-')[0]) for x in \\\n",
    "                        glob.glob(f'./checkpoints/{model}-base-'\n",
    "                              f'{source_dataset}-ft-{source_dataset}/'\n",
    "                              f'*-mode-{SAMPLE_MODE}-*-bs-*-{append}') \\\n",
    "                     if len(x.split('/frac-')[1].split('-')[0]) == 7 and \\\n",
    "                        'full-feature' not in x and \\\n",
    "                        'layer' not in x and \\\n",
    "                        'pool' not in x]\n",
    "                    )))\n",
    "        for frac in FRACTIONS_OR_NUMBERS:\n",
    "            if isinstance(frac, int):\n",
    "                actual_fraction = frac / FRACTIONS_OR_NUMBERS[-1]\n",
    "            else:\n",
    "                actual_fraction = frac\n",
    "            PARTIAL_CHOICE_SEEDS = sorted(\n",
    "                list(set(\n",
    "                    [int(x.split('-seed-')[1].split('-')[0]) for x in \\\n",
    "                        glob.glob(f'./checkpoints/{model}-base-'\n",
    "                                  f'{source_dataset}-ft-{source_dataset}/'\n",
    "                                  f'frac-{actual_fraction:.5f}-mode-{SAMPLE_MODE}-*-bs-*-{append}') \\\n",
    "                    if len(x.split('/frac-')[1].split('-')[0]) == 7 and \\\n",
    "                       'full-feature' not in x and \\\n",
    "                       'layer' not in x and \\\n",
    "                       'pool' not in x]\n",
    "                    )))\n",
    "            for seed in PARTIAL_CHOICE_SEEDS:\n",
    "                model_path = [x for x in glob.glob(f'{BASE_DIR}/'\n",
    "                                       f'{model}-base-{source_dataset}-ft-{source_dataset}/'\n",
    "                                       f'frac-{actual_fraction:.5f}-mode-{SAMPLE_MODE}-seed-{seed}-'\n",
    "                                       f'ftmode-linear-lr-*-bs*-{append}/'\n",
    "                                       '*-topk=1.ckpt') \\\n",
    "                              if len(x.split('/frac-')[1].split('-')[0]) == 7 and \\\n",
    "                                 'full-feature' not in x and \\\n",
    "                                 'layer' not in x and \\\n",
    "                                 'pool' not in x]\n",
    "                if len(model_path) == 0:\n",
    "                    continue\n",
    "                model_path = model_path[0]\n",
    "                \n",
    "                pickled_preds_og = load_predictions(model_path)\n",
    "                if pickled_preds_og is not None:\n",
    "                    test_acc_og = accuracy(pickled_preds_og['gt'], pickled_preds_og['pred']).item()\n",
    "                else:\n",
    "                    test_acc_og = get_test_acc(model, source_dataset, source_dataset, \n",
    "                                               CHECKPOINT_PATHS[model][append], \n",
    "                                               model_path, seed, actual_fraction)\n",
    "                \n",
    "                fake_shift_model_path = model_path.replace(f'ft-{source_dataset}', f'ft-{shift_dataset}')\n",
    "                pickled_preds_shift = load_predictions(fake_shift_model_path)\n",
    "                if pickled_preds_shift is not None:\n",
    "                    test_acc_shift = accuracy(pickled_preds_shift['gt'], pickled_preds_shift['pred']).item()\n",
    "                else:\n",
    "                    test_acc_shift = get_test_acc(model, source_dataset, shift_dataset, \n",
    "                                                  CHECKPOINT_PATHS[model][append], \n",
    "                                                  model_path, seed, actual_fraction, \n",
    "                                                  pred_save_path=fake_shift_model_path)\n",
    "\n",
    "                if frac in frac_wise_test_accs_shifted:\n",
    "                    frac_wise_test_accs_shifted[frac].append(test_acc_shift)\n",
    "                    frac_wise_test_accs_og[frac].append(test_acc_og)\n",
    "                else:\n",
    "                    frac_wise_test_accs_shifted[frac] = [test_acc_shift]\n",
    "                    frac_wise_test_accs_og[frac] = [test_acc_og]\n",
    "            \n",
    "        full_model_path = f'{BASE_DIR}/{model}-base-{source_dataset}-ft-{source_dataset}/'\\\n",
    "                          f'frac-1.00000-mode-{SAMPLE_MODE}-seed-1-ftmode-linear-lr-0.1-'\\\n",
    "                          f'bs-{FINETUNE_BS}-{append}/full_layer_preds.ckpt'\n",
    "        full_model_path_shift = full_model_path.replace(f'ft-{source_dataset}', f'ft-{shift_dataset}')\n",
    "        pickled_preds_og = load_predictions(full_model_path)\n",
    "        if pickled_preds_og is not None:\n",
    "            frac_wise_test_accs_og[1.] = \\\n",
    "                [accuracy(pickled_preds_og['gt'], pickled_preds_og['pred']).item()]\n",
    "        else:\n",
    "            frac_wise_test_accs_og[1.] = \\\n",
    "                get_test_acc(model, source_dataset, source_dataset, \n",
    "                             CHECKPOINT_PATHS[model][append], \n",
    "                             full_model_path, seed, 1., \n",
    "                             full_layer_acc=True)\n",
    "        pickled_preds_shift = load_predictions(full_model_path_shift)\n",
    "        if pickled_preds_shift is not None:\n",
    "            frac_wise_test_accs_shifted[1.] = \\\n",
    "                [accuracy(pickled_preds_shift['gt'], pickled_preds_shift['pred']).item()]\n",
    "        else:\n",
    "            frac_wise_test_accs_shifted[1.] = \\\n",
    "                get_test_acc(model, source_dataset, shift_dataset, \n",
    "                             CHECKPOINT_PATHS[model][append], \n",
    "                             model_path, seed, 1., \n",
    "                             pred_save_path=full_model_path_shift, full_layer_acc=True)\n",
    "\n",
    "\n",
    "        legend_vals = [source_dataset, shift_dataset]\n",
    "        plt_str += '{}\\n\\n'.format(plt_hp.get_wiki_link(plt_hp.line_plot(\n",
    "            [[np.nanmean(x_val) for x_val in list(\n",
    "                zip(*sorted(frac_wise_test_accs_og.items(), key=lambda x:x[0])))[1]], \n",
    "              [np.nanmean(x_val) for x_val in list(\n",
    "                  zip(*sorted(frac_wise_test_accs_shifted.items(), key=lambda x:x[0])))[1]]], \n",
    "            'Fraction of Neurons', 'Accuracy', shift_dataset, subfolder=source_dataset, \n",
    "            filename=f'{model}_{append}_bs_{FINETUNE_BS}_shift_{shift_dataset}', extension='png', \n",
    "            x_vals=[list(zip(*sorted(frac_wise_test_accs_og.items(), key=lambda x:x[0])))[0], \n",
    "                    list(zip(*sorted(frac_wise_test_accs_shifted.items(), key=lambda x:x[0])))[0]], \n",
    "            legend_vals=legend_vals, linestyles=['-', '-'], y_lims=(0.,1.), root_dir='.', \n",
    "            paper_friendly_plots=True, plot_inside=False, legend_location='best', \n",
    "            savefig=True, figsize=(10,6), marker=[True] * len(legend_vals), \n",
    "            results_subfolder_name='imagenet_shifts', grid_spacing=None, \n",
    "            y_err=[[np.nanstd(x_val) for x_val in list(\n",
    "                       zip(*sorted(frac_wise_test_accs_og.items(), key=lambda x:x[0])))[1]], \n",
    "                   [np.nanstd(x_val) for x_val in list(\n",
    "                       zip(*sorted(frac_wise_test_accs_shifted.items(), key=lambda x:x[0])))[1]]], \n",
    "            legend_ncol=None), SERVER_PROJECT_PATH, size=700))\n",
    "    \n",
    "    with open(f'./results/imagenet_shifts/{source_dataset}/'\n",
    "              f'wiki_results-{model}-{shift_dataset}.txt', 'w') as fp:\n",
    "        fp.write(plt_str)\n",
    "    out.upload_results(['{}/{}/{}'.format(plt_hp.RESULTS_FOLDER_NAME, 'imagenet_shifts', source_dataset)], \n",
    "        'results', SERVER_PROJECT_PATH, '.png')"
   ]
  },
  {
   "cell_type": "code",
   "execution_count": 8,
   "id": "a8a97ba0",
   "metadata": {},
   "outputs": [
    {
     "data": {
      "image/png": "[encoded data removed]",
      "text/plain": [
       "<Figure size 500x300 with 1 Axes>"
      ]
     },
     "metadata": {
      "needs_background": "light"
     },
     "output_type": "display_data"
    },
    {
     "data": {
      "image/png": "[encoded data removed]",
      "text/plain": [
       "<Figure size 500x300 with 1 Axes>"
      ]
     },
     "metadata": {
      "needs_background": "light"
     },
     "output_type": "display_data"
    },
    {
     "name": "stdout",
     "output_type": "stream",
     "text": [
      "Uploading results in ['results/imagenet_shifts/imagenet'] to contact.mpi-sws.org...\n",
      "Uploading 0 files to server\n"
     ]
    }
   ],
   "source": [
    "results('resnet50', 'imagenet', 'imagenetv2')"
   ]
  },
  {
   "cell_type": "code",
   "execution_count": null,
   "id": "713ae775",
   "metadata": {},
   "outputs": [],
   "source": []
  }
 ],
 "metadata": {
  "kernelspec": {
   "display_name": "Python 3 (ipykernel)",
   "language": "python",
   "name": "python3"
  },
  "language_info": {
   "codemirror_mode": {
    "name": "ipython",
    "version": 3
   },
   "file_extension": ".py",
   "mimetype": "text/x-python",
   "name": "python",
   "nbconvert_exporter": "python",
   "pygments_lexer": "ipython3",
   "version": "3.7.9"
  }
 },
 "nbformat": 4,
 "nbformat_minor": 5
}
