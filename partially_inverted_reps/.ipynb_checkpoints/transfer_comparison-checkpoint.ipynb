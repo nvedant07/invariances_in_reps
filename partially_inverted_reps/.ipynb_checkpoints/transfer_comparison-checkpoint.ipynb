{
 "cells": [
  {
   "cell_type": "code",
   "execution_count": 4,
   "id": "6df5c715",
   "metadata": {},
   "outputs": [
    {
     "name": "stderr",
     "output_type": "stream",
     "text": [
      "/NS/twitter_archive2/work/vnanda/minconda3/envs/dl_base/lib/python3.7/site-packages/paramiko/transport.py:236: CryptographyDeprecationWarning: Blowfish has been deprecated\n",
      "  \"class\": algorithms.Blowfish,\n"
     ]
    }
   ],
   "source": [
    "from pytorch_lightning import utilities as pl_utils\n",
    "from pytorch_lightning.trainer.trainer import Trainer\n",
    "from pytorch_lightning.plugins import DDPPlugin\n",
    "import torch\n",
    "import pathlib\n",
    "from functools import partial\n",
    "import sys, glob\n",
    "import numpy as np\n",
    "\n",
    "sys.path.append('..')\n",
    "sys.path.append('../deep-learning-base')\n",
    "sys.path.append('../partially_inverted_reps')\n",
    "\n",
    "import plot_helper as plt_hp\n",
    "import output as out\n",
    "from training import LitProgressBar, NicerModelCheckpointing\n",
    "import training.finetuning as ft\n",
    "import architectures as arch\n",
    "from architectures.callbacks import LightningWrapper, LinearEvalWrapper\n",
    "from attack.callbacks import AdvCallback\n",
    "from datasets.data_modules import DATA_MODULES\n",
    "import datasets.dataset_metadata as dsmd\n",
    "from partial_loss import PartialInversionLoss, PartialInversionRegularizedLoss\n",
    "from __init__ import DATA_PATH_IMAGENET, DATA_PATH, SERVER_PROJECT_PATH"
   ]
  },
  {
   "cell_type": "code",
   "execution_count": 7,
   "id": "5495b002",
   "metadata": {},
   "outputs": [],
   "source": [
    "CHECKPOINT_PATHS = {\n",
    "    'nonrob': '',\n",
    "    'robustl2eps3': '/NS/robustness_2/work/vnanda/adv-robustness/logs/robust_imagenet/eps3/resnet-50-l2-eps3.ckpt'\n",
    "}"
   ]
  },
  {
   "cell_type": "code",
   "execution_count": 13,
   "id": "11882de5",
   "metadata": {},
   "outputs": [],
   "source": [
    "SEED = 2\n",
    "NUM_NODES = 1\n",
    "DEVICES = 1\n",
    "BASE_DIR = f\"{pathlib.Path('.').parent.resolve()}/checkpoints\"\n",
    "\n",
    "SOURCE_DATASET = 'imagenet'\n",
    "APPENDS = ['robustl2eps3', 'nonrob']\n",
    "FINETUNING_DATASETS = ['cifar10', 'cifar100', 'flowers', 'oxford-iiit-pets']\n",
    "FINETUNE_MODE = 'random'\n",
    "MODEL = 'resnet50'\n",
    "FINETUNE_BS = 256\n",
    "EVAL_BATCH_SIZE = 100\n",
    "\n",
    "PARTIAL_CHOICE_SEEDS = list(range(1,6))\n",
    "PARTIAL_FRACTIONS = [0.0005, 0.001, 0.002, 0.003, 0.004, 0.005, 0.01, 0.05, 0.1, 0.2, 0.3, 0.5, 0.8, 0.9, 1.]"
   ]
  },
  {
   "cell_type": "code",
   "execution_count": 45,
   "id": "47a7f7a7",
   "metadata": {},
   "outputs": [],
   "source": [
    "def get_test_acc(finetuning_dataset, checkpoint_path, state_dict, seed, fraction):\n",
    "    dm = DATA_MODULES[finetuning_dataset](\n",
    "        data_dir=DATA_PATH_IMAGENET if 'imagenet' in finetuning_dataset else DATA_PATH,\n",
    "        transform_train=dsmd.TRAIN_TRANSFORMS_TRANSFER_DEFAULT(224),\n",
    "        transform_test=dsmd.TEST_TRANSFORMS_DEFAULT(224),\n",
    "        batch_size=EVAL_BATCH_SIZE)\n",
    "    dm.init_remaining_attrs(SOURCE_DATASET)\n",
    "\n",
    "    ## assign mean and std from source dataset\n",
    "    m1 = arch.create_model(MODEL, SOURCE_DATASET, pretrained=True,\n",
    "                           checkpoint_path=checkpoint_path, seed=SEED, \n",
    "                           callback=partial(LightningWrapper, \n",
    "                                            dataset_name=SOURCE_DATASET,\n",
    "                                            inference_kwargs={'with_latent': True}))\n",
    "    new_layer = ft.setup_model_for_finetuning(\n",
    "        m1.model, \n",
    "        dsmd.DATASET_PARAMS[finetuning_dataset]['num_classes'],\n",
    "        FINETUNE_MODE, fraction, seed)\n",
    "    print (new_layer.__dict__)\n",
    "    linear_layer = list(m1.model.named_modules())[-1][1]\n",
    "    linear_layer.load_state_dict({k.split('.')[-1]:v \\\n",
    "                                  for k,v in state_dict['state_dict'].items()}, strict=True)\n",
    "    if hasattr(new_layer, 'neuron_indices') and 'neuron_indices' in state_dict:\n",
    "        assert torch.all(new_layer.neuron_indices == state_dict['neuron_indices'])\n",
    "    pl_utils.seed.seed_everything(seed, workers=True)\n",
    "\n",
    "    trainer = Trainer(accelerator='gpu', \n",
    "                      devices=DEVICES,\n",
    "                      num_nodes=NUM_NODES,\n",
    "                      log_every_n_steps=1,\n",
    "                      auto_select_gpus=True, \n",
    "                      deterministic=True,\n",
    "                      check_val_every_n_epoch=1,\n",
    "                      num_sanity_val_steps=0,\n",
    "                      callbacks=[\n",
    "                        LitProgressBar(['loss', \n",
    "                                        'running_test_acc'])])\n",
    "\n",
    "    out = trainer.predict(m1, dataloaders=[dm.test_dataloader()])\n",
    "    if trainer.is_global_zero:\n",
    "        ## do things on the main process\n",
    "        gt = out[2]\n",
    "        pred = torch.argmax(out[0], 1)\n",
    "        return torch.sum(gt == pred) / len(gt)"
   ]
  },
  {
   "cell_type": "code",
   "execution_count": null,
   "id": "7dded8bf",
   "metadata": {
    "scrolled": true
   },
   "outputs": [
    {
     "name": "stderr",
     "output_type": "stream",
     "text": [
      "Global seed set to 2\n",
      "Global seed set to 1\n",
      "GPU available: True, used: True\n",
      "TPU available: False, using: 0 TPU cores\n",
      "IPU available: False, using: 0 IPUs\n",
      "Global seed set to 0\n"
     ]
    },
    {
     "name": "stdout",
     "output_type": "stream",
     "text": [
      "{'training': True, '_parameters': OrderedDict(), '_buffers': OrderedDict(), '_non_persistent_buffers_set': set(), '_backward_hooks': OrderedDict(), '_is_full_backward_hook': None, '_forward_hooks': OrderedDict(), '_forward_pre_hooks': OrderedDict(), '_state_dict_hooks': OrderedDict(), '_load_state_dict_pre_hooks': OrderedDict(), '_load_state_dict_post_hooks': OrderedDict(), '_modules': OrderedDict([('linear', Linear(in_features=1, out_features=10, bias=True))]), 'neuron_indices': tensor([1061])}\n"
     ]
    },
    {
     "name": "stderr",
     "output_type": "stream",
     "text": [
      "LOCAL_RANK: 0 - CUDA_VISIBLE_DEVICES: [0,1,2,3,4,5,6,7]\n"
     ]
    },
    {
     "data": {
      "application/vnd.jupyter.widget-view+json": {
       "model_id": "e11b66e7d1ea47389f61becb061b821d",
       "version_major": 2,
       "version_minor": 0
      },
      "text/plain": [
       "Predicting: 0it [00:00, ?it/s]"
      ]
     },
     "metadata": {},
     "output_type": "display_data"
    },
    {
     "name": "stderr",
     "output_type": "stream",
     "text": [
      "Global seed set to 2\n",
      "Global seed set to 1\n",
      "GPU available: True, used: True\n",
      "TPU available: False, using: 0 TPU cores\n",
      "IPU available: False, using: 0 IPUs\n",
      "Global seed set to 0\n"
     ]
    },
    {
     "name": "stdout",
     "output_type": "stream",
     "text": [
      "{'training': True, '_parameters': OrderedDict(), '_buffers': OrderedDict(), '_non_persistent_buffers_set': set(), '_backward_hooks': OrderedDict(), '_is_full_backward_hook': None, '_forward_hooks': OrderedDict(), '_forward_pre_hooks': OrderedDict(), '_state_dict_hooks': OrderedDict(), '_load_state_dict_pre_hooks': OrderedDict(), '_load_state_dict_post_hooks': OrderedDict(), '_modules': OrderedDict([('linear', Linear(in_features=2, out_features=10, bias=True))]), 'neuron_indices': tensor([1061, 1497])}\n"
     ]
    },
    {
     "name": "stderr",
     "output_type": "stream",
     "text": [
      "LOCAL_RANK: 0 - CUDA_VISIBLE_DEVICES: [0,1,2,3,4,5,6,7]\n"
     ]
    },
    {
     "data": {
      "application/vnd.jupyter.widget-view+json": {
       "model_id": "dc458724e91d46ab9402147c0a559fba",
       "version_major": 2,
       "version_minor": 0
      },
      "text/plain": [
       "Predicting: 0it [00:00, ?it/s]"
      ]
     },
     "metadata": {},
     "output_type": "display_data"
    },
    {
     "name": "stderr",
     "output_type": "stream",
     "text": [
      "Global seed set to 2\n",
      "Global seed set to 1\n",
      "GPU available: True, used: True\n",
      "TPU available: False, using: 0 TPU cores\n",
      "IPU available: False, using: 0 IPUs\n",
      "Global seed set to 0\n"
     ]
    },
    {
     "name": "stdout",
     "output_type": "stream",
     "text": [
      "{'training': True, '_parameters': OrderedDict(), '_buffers': OrderedDict(), '_non_persistent_buffers_set': set(), '_backward_hooks': OrderedDict(), '_is_full_backward_hook': None, '_forward_hooks': OrderedDict(), '_forward_pre_hooks': OrderedDict(), '_state_dict_hooks': OrderedDict(), '_load_state_dict_pre_hooks': OrderedDict(), '_load_state_dict_post_hooks': OrderedDict(), '_modules': OrderedDict([('linear', Linear(in_features=4, out_features=10, bias=True))]), 'neuron_indices': tensor([1061, 1497, 1250, 1136])}\n"
     ]
    },
    {
     "name": "stderr",
     "output_type": "stream",
     "text": [
      "LOCAL_RANK: 0 - CUDA_VISIBLE_DEVICES: [0,1,2,3,4,5,6,7]\n"
     ]
    },
    {
     "data": {
      "application/vnd.jupyter.widget-view+json": {
       "model_id": "553d9d32986d46d1a802ae4b8fd519a2",
       "version_major": 2,
       "version_minor": 0
      },
      "text/plain": [
       "Predicting: 0it [00:00, ?it/s]"
      ]
     },
     "metadata": {},
     "output_type": "display_data"
    },
    {
     "name": "stderr",
     "output_type": "stream",
     "text": [
      "Global seed set to 2\n",
      "Global seed set to 1\n",
      "GPU available: True, used: True\n",
      "TPU available: False, using: 0 TPU cores\n",
      "IPU available: False, using: 0 IPUs\n",
      "Global seed set to 0\n"
     ]
    },
    {
     "name": "stdout",
     "output_type": "stream",
     "text": [
      "{'training': True, '_parameters': OrderedDict(), '_buffers': OrderedDict(), '_non_persistent_buffers_set': set(), '_backward_hooks': OrderedDict(), '_is_full_backward_hook': None, '_forward_hooks': OrderedDict(), '_forward_pre_hooks': OrderedDict(), '_state_dict_hooks': OrderedDict(), '_load_state_dict_pre_hooks': OrderedDict(), '_load_state_dict_post_hooks': OrderedDict(), '_modules': OrderedDict([('linear', Linear(in_features=6, out_features=10, bias=True))]), 'neuron_indices': tensor([1061, 1497, 1250, 1136,  707,   96])}\n"
     ]
    },
    {
     "name": "stderr",
     "output_type": "stream",
     "text": [
      "LOCAL_RANK: 0 - CUDA_VISIBLE_DEVICES: [0,1,2,3,4,5,6,7]\n"
     ]
    },
    {
     "data": {
      "application/vnd.jupyter.widget-view+json": {
       "model_id": "cb000d28b59a41fa84cb84e40d55dc73",
       "version_major": 2,
       "version_minor": 0
      },
      "text/plain": [
       "Predicting: 0it [00:00, ?it/s]"
      ]
     },
     "metadata": {},
     "output_type": "display_data"
    },
    {
     "name": "stderr",
     "output_type": "stream",
     "text": [
      "Global seed set to 2\n",
      "Global seed set to 1\n",
      "GPU available: True, used: True\n",
      "TPU available: False, using: 0 TPU cores\n",
      "IPU available: False, using: 0 IPUs\n",
      "Global seed set to 0\n"
     ]
    },
    {
     "name": "stdout",
     "output_type": "stream",
     "text": [
      "{'training': True, '_parameters': OrderedDict(), '_buffers': OrderedDict(), '_non_persistent_buffers_set': set(), '_backward_hooks': OrderedDict(), '_is_full_backward_hook': None, '_forward_hooks': OrderedDict(), '_forward_pre_hooks': OrderedDict(), '_state_dict_hooks': OrderedDict(), '_load_state_dict_pre_hooks': OrderedDict(), '_load_state_dict_post_hooks': OrderedDict(), '_modules': OrderedDict([('linear', Linear(in_features=8, out_features=10, bias=True))]), 'neuron_indices': tensor([1061, 1497, 1250, 1136,  707,   96,  697, 1023])}\n"
     ]
    },
    {
     "name": "stderr",
     "output_type": "stream",
     "text": [
      "LOCAL_RANK: 0 - CUDA_VISIBLE_DEVICES: [0,1,2,3,4,5,6,7]\n"
     ]
    },
    {
     "data": {
      "application/vnd.jupyter.widget-view+json": {
       "model_id": "66b0861bd652469e9670212b2ff4f9c1",
       "version_major": 2,
       "version_minor": 0
      },
      "text/plain": [
       "Predicting: 0it [00:00, ?it/s]"
      ]
     },
     "metadata": {},
     "output_type": "display_data"
    },
    {
     "name": "stderr",
     "output_type": "stream",
     "text": [
      "Global seed set to 2\n",
      "Global seed set to 1\n",
      "GPU available: True, used: True\n",
      "TPU available: False, using: 0 TPU cores\n",
      "IPU available: False, using: 0 IPUs\n",
      "Global seed set to 0\n"
     ]
    },
    {
     "name": "stdout",
     "output_type": "stream",
     "text": [
      "{'training': True, '_parameters': OrderedDict(), '_buffers': OrderedDict(), '_non_persistent_buffers_set': set(), '_backward_hooks': OrderedDict(), '_is_full_backward_hook': None, '_forward_hooks': OrderedDict(), '_forward_pre_hooks': OrderedDict(), '_state_dict_hooks': OrderedDict(), '_load_state_dict_pre_hooks': OrderedDict(), '_load_state_dict_post_hooks': OrderedDict(), '_modules': OrderedDict([('linear', Linear(in_features=10, out_features=10, bias=True))]), 'neuron_indices': tensor([1061, 1497, 1250, 1136,  707,   96,  697, 1023,  727, 1780])}\n"
     ]
    },
    {
     "name": "stderr",
     "output_type": "stream",
     "text": [
      "LOCAL_RANK: 0 - CUDA_VISIBLE_DEVICES: [0,1,2,3,4,5,6,7]\n"
     ]
    },
    {
     "data": {
      "application/vnd.jupyter.widget-view+json": {
       "model_id": "91afaae938c54cbfb937e7ec1c60f167",
       "version_major": 2,
       "version_minor": 0
      },
      "text/plain": [
       "Predicting: 0it [00:00, ?it/s]"
      ]
     },
     "metadata": {},
     "output_type": "display_data"
    },
    {
     "name": "stderr",
     "output_type": "stream",
     "text": [
      "Global seed set to 2\n",
      "Global seed set to 1\n",
      "GPU available: True, used: True\n",
      "TPU available: False, using: 0 TPU cores\n",
      "IPU available: False, using: 0 IPUs\n",
      "Global seed set to 0\n"
     ]
    },
    {
     "name": "stdout",
     "output_type": "stream",
     "text": [
      "{'training': True, '_parameters': OrderedDict(), '_buffers': OrderedDict(), '_non_persistent_buffers_set': set(), '_backward_hooks': OrderedDict(), '_is_full_backward_hook': None, '_forward_hooks': OrderedDict(), '_forward_pre_hooks': OrderedDict(), '_state_dict_hooks': OrderedDict(), '_load_state_dict_pre_hooks': OrderedDict(), '_load_state_dict_post_hooks': OrderedDict(), '_modules': OrderedDict([('linear', Linear(in_features=20, out_features=10, bias=True))]), 'neuron_indices': tensor([1061, 1497, 1250, 1136,  707,   96,  697, 1023,  727, 1780,  534,  563,\n",
      "         480, 1316,  873,  929, 1062, 1679,  260, 1337])}\n"
     ]
    },
    {
     "name": "stderr",
     "output_type": "stream",
     "text": [
      "LOCAL_RANK: 0 - CUDA_VISIBLE_DEVICES: [0,1,2,3,4,5,6,7]\n"
     ]
    },
    {
     "data": {
      "application/vnd.jupyter.widget-view+json": {
       "model_id": "aa93577f355a4bb3ba6b95c1719819b7",
       "version_major": 2,
       "version_minor": 0
      },
      "text/plain": [
       "Predicting: 0it [00:00, ?it/s]"
      ]
     },
     "metadata": {},
     "output_type": "display_data"
    },
    {
     "name": "stderr",
     "output_type": "stream",
     "text": [
      "Global seed set to 2\n",
      "Global seed set to 1\n",
      "GPU available: True, used: True\n",
      "TPU available: False, using: 0 TPU cores\n",
      "IPU available: False, using: 0 IPUs\n",
      "Global seed set to 0\n"
     ]
    },
    {
     "name": "stdout",
     "output_type": "stream",
     "text": [
      "{'training': True, '_parameters': OrderedDict(), '_buffers': OrderedDict(), '_non_persistent_buffers_set': set(), '_backward_hooks': OrderedDict(), '_is_full_backward_hook': None, '_forward_hooks': OrderedDict(), '_forward_pre_hooks': OrderedDict(), '_state_dict_hooks': OrderedDict(), '_load_state_dict_pre_hooks': OrderedDict(), '_load_state_dict_post_hooks': OrderedDict(), '_modules': OrderedDict([('linear', Linear(in_features=102, out_features=10, bias=True))]), 'neuron_indices': tensor([1061, 1497, 1250, 1136,  707,   96,  697, 1023,  727, 1780,  534,  563,\n",
      "         480, 1316,  873,  929, 1062, 1679,  260, 1337,  818, 1238, 1430, 1452,\n",
      "        1323, 1661,  750,  989,  217,  228,  498,   35, 1847, 1786,  453, 2036,\n",
      "        1179,  173,  400, 1548, 1893,  766, 1191, 1221, 1751, 1523,  512,  128,\n",
      "         769,  259,  566,  678,   47, 1493, 1801, 1781, 1543, 1833,  125, 1088,\n",
      "         182,  163, 1265, 1396,  533, 1634, 2045,  508, 1680, 1971, 1599,  667,\n",
      "         812,  315,  798,  111,  909,  134,  987, 1401, 1055, 1578,  700,  713,\n",
      "         227, 1763, 1101, 1063,  434, 1463,  122,  598, 1809,  490,  487,  410,\n",
      "         855, 1126,  250, 1174,  953,  925])}\n"
     ]
    },
    {
     "name": "stderr",
     "output_type": "stream",
     "text": [
      "LOCAL_RANK: 0 - CUDA_VISIBLE_DEVICES: [0,1,2,3,4,5,6,7]\n"
     ]
    },
    {
     "data": {
      "application/vnd.jupyter.widget-view+json": {
       "model_id": "853258046f544249b9ed9e14bc2a6213",
       "version_major": 2,
       "version_minor": 0
      },
      "text/plain": [
       "Predicting: 0it [00:00, ?it/s]"
      ]
     },
     "metadata": {},
     "output_type": "display_data"
    },
    {
     "name": "stderr",
     "output_type": "stream",
     "text": [
      "Global seed set to 2\n",
      "Global seed set to 1\n",
      "GPU available: True, used: True\n",
      "TPU available: False, using: 0 TPU cores\n",
      "IPU available: False, using: 0 IPUs\n",
      "Global seed set to 0\n"
     ]
    },
    {
     "name": "stdout",
     "output_type": "stream",
     "text": [
      "{'training': True, '_parameters': OrderedDict(), '_buffers': OrderedDict(), '_non_persistent_buffers_set': set(), '_backward_hooks': OrderedDict(), '_is_full_backward_hook': None, '_forward_hooks': OrderedDict(), '_forward_pre_hooks': OrderedDict(), '_state_dict_hooks': OrderedDict(), '_load_state_dict_pre_hooks': OrderedDict(), '_load_state_dict_post_hooks': OrderedDict(), '_modules': OrderedDict([('linear', Linear(in_features=204, out_features=10, bias=True))]), 'neuron_indices': tensor([1061, 1497, 1250, 1136,  707,   96,  697, 1023,  727, 1780,  534,  563,\n",
      "         480, 1316,  873,  929, 1062, 1679,  260, 1337,  818, 1238, 1430, 1452,\n",
      "        1323, 1661,  750,  989,  217,  228,  498,   35, 1847, 1786,  453, 2036,\n",
      "        1179,  173,  400, 1548, 1893,  766, 1191, 1221, 1751, 1523,  512,  128,\n",
      "         769,  259,  566,  678,   47, 1493, 1801, 1781, 1543, 1833,  125, 1088,\n",
      "         182,  163, 1265, 1396,  533, 1634, 2045,  508, 1680, 1971, 1599,  667,\n",
      "         812,  315,  798,  111,  909,  134,  987, 1401, 1055, 1578,  700,  713,\n",
      "         227, 1763, 1101, 1063,  434, 1463,  122,  598, 1809,  490,  487,  410,\n",
      "         855, 1126,  250, 1174,  953,  925, 1465, 1704, 1224,  331, 1020, 1297,\n",
      "         395, 1490,  675,  985, 1017, 1262,  633, 1468,  614, 1013,  936,   22,\n",
      "         848,  689,  349,  540,   75, 1972,  571,   74, 2040, 1123,  139,  922,\n",
      "        1012,  902,  240, 1987, 1676, 1046,  237, 1149, 1631,    5, 1190,  853,\n",
      "         188,  218,  542, 1778,  344, 1758, 1161,  977, 1820,   99,  654,  356,\n",
      "        2026,  946,  651, 1419, 1079, 1007, 1925,  559, 1021, 1674,  378, 1105,\n",
      "        1444, 1183, 1770,  168,   98, 2005, 1045, 1249,  530, 1068,  169,  647,\n",
      "        1532, 1974,  162, 1427, 1474, 1796, 1540, 2009, 1594, 2002,  157, 1432,\n",
      "         967, 1269,  352,  145, 1235,  271,  105, 1119, 1692, 1635, 1264,  171])}\n"
     ]
    },
    {
     "name": "stderr",
     "output_type": "stream",
     "text": [
      "LOCAL_RANK: 0 - CUDA_VISIBLE_DEVICES: [0,1,2,3,4,5,6,7]\n"
     ]
    },
    {
     "data": {
      "application/vnd.jupyter.widget-view+json": {
       "model_id": "40a6c3df6c474337a444ecc8e7722b7b",
       "version_major": 2,
       "version_minor": 0
      },
      "text/plain": [
       "Predicting: 0it [00:00, ?it/s]"
      ]
     },
     "metadata": {},
     "output_type": "display_data"
    },
    {
     "name": "stderr",
     "output_type": "stream",
     "text": [
      "Global seed set to 2\n",
      "Global seed set to 1\n",
      "GPU available: True, used: True\n",
      "TPU available: False, using: 0 TPU cores\n",
      "IPU available: False, using: 0 IPUs\n",
      "Global seed set to 0\n"
     ]
    },
    {
     "name": "stdout",
     "output_type": "stream",
     "text": [
      "{'training': True, '_parameters': OrderedDict(), '_buffers': OrderedDict(), '_non_persistent_buffers_set': set(), '_backward_hooks': OrderedDict(), '_is_full_backward_hook': None, '_forward_hooks': OrderedDict(), '_forward_pre_hooks': OrderedDict(), '_state_dict_hooks': OrderedDict(), '_load_state_dict_pre_hooks': OrderedDict(), '_load_state_dict_post_hooks': OrderedDict(), '_modules': OrderedDict([('linear', Linear(in_features=409, out_features=10, bias=True))]), 'neuron_indices': tensor([1061, 1497, 1250, 1136,  707,   96,  697, 1023,  727, 1780,  534,  563,\n",
      "         480, 1316,  873,  929, 1062, 1679,  260, 1337,  818, 1238, 1430, 1452,\n",
      "        1323, 1661,  750,  989,  217,  228,  498,   35, 1847, 1786,  453, 2036,\n",
      "        1179,  173,  400, 1548, 1893,  766, 1191, 1221, 1751, 1523,  512,  128,\n",
      "         769,  259,  566,  678,   47, 1493, 1801, 1781, 1543, 1833,  125, 1088,\n",
      "         182,  163, 1265, 1396,  533, 1634, 2045,  508, 1680, 1971, 1599,  667,\n",
      "         812,  315,  798,  111,  909,  134,  987, 1401, 1055, 1578,  700,  713,\n",
      "         227, 1763, 1101, 1063,  434, 1463,  122,  598, 1809,  490,  487,  410,\n",
      "         855, 1126,  250, 1174,  953,  925, 1465, 1704, 1224,  331, 1020, 1297,\n",
      "         395, 1490,  675,  985, 1017, 1262,  633, 1468,  614, 1013,  936,   22,\n",
      "         848,  689,  349,  540,   75, 1972,  571,   74, 2040, 1123,  139,  922,\n",
      "        1012,  902,  240, 1987, 1676, 1046,  237, 1149, 1631,    5, 1190,  853,\n",
      "         188,  218,  542, 1778,  344, 1758, 1161,  977, 1820,   99,  654,  356,\n",
      "        2026,  946,  651, 1419, 1079, 1007, 1925,  559, 1021, 1674,  378, 1105,\n",
      "        1444, 1183, 1770,  168,   98, 2005, 1045, 1249,  530, 1068,  169,  647,\n",
      "        1532, 1974,  162, 1427, 1474, 1796, 1540, 2009, 1594, 2002,  157, 1432,\n",
      "         967, 1269,  352,  145, 1235,  271,  105, 1119, 1692, 1635, 1264,  171,\n",
      "         373,  426,  621,  370,  465, 1672,  200, 1486, 1564, 1894,   57,  943,\n",
      "        1553,  358, 1059, 1246, 1489, 1556, 1049, 1589, 1550,  836, 1534,  204,\n",
      "        1995, 1364,  167, 1140,  307,  137, 1314, 1958, 1557, 1571, 1727,  305,\n",
      "        1957,  414,  371, 1966,  521,  183,  160, 1762, 1369, 1188,  519, 1032,\n",
      "        1036,  632, 1301,  791,   68,  787, 1626, 1031,   49,  964, 1800, 1142,\n",
      "         726, 1445, 1341, 1226, 1975, 1655,  245, 1454, 1521, 1025,  972, 1872,\n",
      "        1464,  355,  243,  715,  924, 1737,  962, 1393, 1920, 1305,  318, 1620,\n",
      "        1933,  170, 1590, 1899,  672,  816, 1668,  341, 1665,  529, 1580,  963,\n",
      "         684,  887,  326,   93,  364, 1319,  694,  536, 1718,  391, 1603, 1459,\n",
      "         594,  611, 1254, 1790,  159,  599,   94, 1824, 1788, 1415,  974,  733,\n",
      "         231, 1215, 1085,  133, 1560,  681,  575,  436,  205, 1261, 2001,  910,\n",
      "        1247,  281, 1959, 1239,  253, 1574,  764,  158, 1784,  272, 1406,  866,\n",
      "        1828, 1379,  592, 1312,  430,  123,  277, 1210,  565,  203,  820, 1492,\n",
      "        1585,  435, 1413,  567, 1473, 1662,  582,  896, 1858,  745, 1848,  553,\n",
      "        1082,   81,  782, 1001,  840,  502,  505, 2042,  792,  396, 1133, 1484,\n",
      "         763,  617, 1981, 1135, 1931,  572,  295, 1667, 1227, 1429, 1456, 1587,\n",
      "          33, 1207, 1111, 1993, 2044,  883,  877, 1457,  793, 1869,   38,  891,\n",
      "        1042])}\n"
     ]
    },
    {
     "name": "stderr",
     "output_type": "stream",
     "text": [
      "LOCAL_RANK: 0 - CUDA_VISIBLE_DEVICES: [0,1,2,3,4,5,6,7]\n"
     ]
    },
    {
     "data": {
      "application/vnd.jupyter.widget-view+json": {
       "model_id": "40c9e8b224b74abe821d574dee44f596",
       "version_major": 2,
       "version_minor": 0
      },
      "text/plain": [
       "Predicting: 0it [00:00, ?it/s]"
      ]
     },
     "metadata": {},
     "output_type": "display_data"
    },
    {
     "name": "stderr",
     "output_type": "stream",
     "text": [
      "Global seed set to 2\n",
      "Global seed set to 2\n",
      "GPU available: True, used: True\n",
      "TPU available: False, using: 0 TPU cores\n",
      "IPU available: False, using: 0 IPUs\n",
      "Global seed set to 0\n"
     ]
    },
    {
     "name": "stdout",
     "output_type": "stream",
     "text": [
      "{'training': True, '_parameters': OrderedDict(), '_buffers': OrderedDict(), '_non_persistent_buffers_set': set(), '_backward_hooks': OrderedDict(), '_is_full_backward_hook': None, '_forward_hooks': OrderedDict(), '_forward_pre_hooks': OrderedDict(), '_state_dict_hooks': OrderedDict(), '_load_state_dict_pre_hooks': OrderedDict(), '_load_state_dict_post_hooks': OrderedDict(), '_modules': OrderedDict([('linear', Linear(in_features=2048, out_features=10, bias=True))]), 'neuron_indices': tensor([1192, 1790,  799,  ...,  637, 1922, 1063])}\n"
     ]
    },
    {
     "name": "stderr",
     "output_type": "stream",
     "text": [
      "LOCAL_RANK: 0 - CUDA_VISIBLE_DEVICES: [0,1,2,3,4,5,6,7]\n"
     ]
    },
    {
     "data": {
      "application/vnd.jupyter.widget-view+json": {
       "model_id": "20ec3741b48b4b3a93466a33c4d36316",
       "version_major": 2,
       "version_minor": 0
      },
      "text/plain": [
       "Predicting: 0it [00:00, ?it/s]"
      ]
     },
     "metadata": {},
     "output_type": "display_data"
    },
    {
     "data": {
      "image/png": "[encoded data removed]",
      "text/plain": [
       "<Figure size 720x432 with 1 Axes>"
      ]
     },
     "metadata": {},
     "output_type": "display_data"
    },
    {
     "name": "stderr",
     "output_type": "stream",
     "text": [
      "Global seed set to 2\n"
     ]
    },
    {
     "name": "stdout",
     "output_type": "stream",
     "text": [
      "cifar10 {0.0005: [0.1265285313129425], 0.001: [0.14361095428466797], 0.002: [0.2291000336408615], 0.003: [0.2579345703125], 0.004: [0.2836717963218689], 0.005: [0.2949533462524414], 0.01: [0.3885359764099121], 0.05: [0.6182283163070679], 0.1: [0.6775320172309875], 0.2: [0.7172002196311951]}\n"
     ]
    },
    {
     "name": "stderr",
     "output_type": "stream",
     "text": [
      "Global seed set to 1\n",
      "GPU available: True, used: True\n",
      "TPU available: False, using: 0 TPU cores\n",
      "IPU available: False, using: 0 IPUs\n",
      "Global seed set to 0\n"
     ]
    },
    {
     "name": "stdout",
     "output_type": "stream",
     "text": [
      "{'training': True, '_parameters': OrderedDict(), '_buffers': OrderedDict(), '_non_persistent_buffers_set': set(), '_backward_hooks': OrderedDict(), '_is_full_backward_hook': None, '_forward_hooks': OrderedDict(), '_forward_pre_hooks': OrderedDict(), '_state_dict_hooks': OrderedDict(), '_load_state_dict_pre_hooks': OrderedDict(), '_load_state_dict_post_hooks': OrderedDict(), '_modules': OrderedDict([('linear', Linear(in_features=1, out_features=100, bias=True))]), 'neuron_indices': tensor([1061])}\n"
     ]
    },
    {
     "name": "stderr",
     "output_type": "stream",
     "text": [
      "LOCAL_RANK: 0 - CUDA_VISIBLE_DEVICES: [0,1,2,3,4,5,6,7]\n"
     ]
    },
    {
     "data": {
      "application/vnd.jupyter.widget-view+json": {
       "model_id": "d0d208104811467785cb1829909c6f77",
       "version_major": 2,
       "version_minor": 0
      },
      "text/plain": [
       "Predicting: 0it [00:00, ?it/s]"
      ]
     },
     "metadata": {},
     "output_type": "display_data"
    },
    {
     "name": "stderr",
     "output_type": "stream",
     "text": [
      "Global seed set to 2\n",
      "Global seed set to 1\n",
      "GPU available: True, used: True\n",
      "TPU available: False, using: 0 TPU cores\n",
      "IPU available: False, using: 0 IPUs\n",
      "Global seed set to 0\n"
     ]
    },
    {
     "name": "stdout",
     "output_type": "stream",
     "text": [
      "{'training': True, '_parameters': OrderedDict(), '_buffers': OrderedDict(), '_non_persistent_buffers_set': set(), '_backward_hooks': OrderedDict(), '_is_full_backward_hook': None, '_forward_hooks': OrderedDict(), '_forward_pre_hooks': OrderedDict(), '_state_dict_hooks': OrderedDict(), '_load_state_dict_pre_hooks': OrderedDict(), '_load_state_dict_post_hooks': OrderedDict(), '_modules': OrderedDict([('linear', Linear(in_features=2, out_features=100, bias=True))]), 'neuron_indices': tensor([1061, 1497])}\n"
     ]
    },
    {
     "name": "stderr",
     "output_type": "stream",
     "text": [
      "LOCAL_RANK: 0 - CUDA_VISIBLE_DEVICES: [0,1,2,3,4,5,6,7]\n"
     ]
    },
    {
     "data": {
      "application/vnd.jupyter.widget-view+json": {
       "model_id": "1d5edeefd1874a278f0de3dfaaa7ba93",
       "version_major": 2,
       "version_minor": 0
      },
      "text/plain": [
       "Predicting: 0it [00:00, ?it/s]"
      ]
     },
     "metadata": {},
     "output_type": "display_data"
    },
    {
     "name": "stderr",
     "output_type": "stream",
     "text": [
      "Global seed set to 2\n",
      "Global seed set to 1\n",
      "GPU available: True, used: True\n",
      "TPU available: False, using: 0 TPU cores\n",
      "IPU available: False, using: 0 IPUs\n",
      "Global seed set to 0\n"
     ]
    },
    {
     "name": "stdout",
     "output_type": "stream",
     "text": [
      "{'training': True, '_parameters': OrderedDict(), '_buffers': OrderedDict(), '_non_persistent_buffers_set': set(), '_backward_hooks': OrderedDict(), '_is_full_backward_hook': None, '_forward_hooks': OrderedDict(), '_forward_pre_hooks': OrderedDict(), '_state_dict_hooks': OrderedDict(), '_load_state_dict_pre_hooks': OrderedDict(), '_load_state_dict_post_hooks': OrderedDict(), '_modules': OrderedDict([('linear', Linear(in_features=4, out_features=100, bias=True))]), 'neuron_indices': tensor([1061, 1497, 1250, 1136])}\n"
     ]
    },
    {
     "name": "stderr",
     "output_type": "stream",
     "text": [
      "LOCAL_RANK: 0 - CUDA_VISIBLE_DEVICES: [0,1,2,3,4,5,6,7]\n"
     ]
    },
    {
     "data": {
      "application/vnd.jupyter.widget-view+json": {
       "model_id": "a1ef92ddcf624eee94db23ed1516946c",
       "version_major": 2,
       "version_minor": 0
      },
      "text/plain": [
       "Predicting: 0it [00:00, ?it/s]"
      ]
     },
     "metadata": {},
     "output_type": "display_data"
    },
    {
     "name": "stderr",
     "output_type": "stream",
     "text": [
      "Global seed set to 2\n",
      "Global seed set to 1\n",
      "GPU available: True, used: True\n",
      "TPU available: False, using: 0 TPU cores\n",
      "IPU available: False, using: 0 IPUs\n",
      "Global seed set to 0\n"
     ]
    },
    {
     "name": "stdout",
     "output_type": "stream",
     "text": [
      "{'training': True, '_parameters': OrderedDict(), '_buffers': OrderedDict(), '_non_persistent_buffers_set': set(), '_backward_hooks': OrderedDict(), '_is_full_backward_hook': None, '_forward_hooks': OrderedDict(), '_forward_pre_hooks': OrderedDict(), '_state_dict_hooks': OrderedDict(), '_load_state_dict_pre_hooks': OrderedDict(), '_load_state_dict_post_hooks': OrderedDict(), '_modules': OrderedDict([('linear', Linear(in_features=6, out_features=100, bias=True))]), 'neuron_indices': tensor([1061, 1497, 1250, 1136,  707,   96])}\n"
     ]
    },
    {
     "name": "stderr",
     "output_type": "stream",
     "text": [
      "LOCAL_RANK: 0 - CUDA_VISIBLE_DEVICES: [0,1,2,3,4,5,6,7]\n"
     ]
    },
    {
     "data": {
      "application/vnd.jupyter.widget-view+json": {
       "model_id": "bcdb3079f3a341989134eb994a8ce4d7",
       "version_major": 2,
       "version_minor": 0
      },
      "text/plain": [
       "Predicting: 0it [00:00, ?it/s]"
      ]
     },
     "metadata": {},
     "output_type": "display_data"
    },
    {
     "name": "stderr",
     "output_type": "stream",
     "text": [
      "Global seed set to 2\n",
      "Global seed set to 1\n",
      "GPU available: True, used: True\n",
      "TPU available: False, using: 0 TPU cores\n",
      "IPU available: False, using: 0 IPUs\n",
      "Global seed set to 0\n"
     ]
    },
    {
     "name": "stdout",
     "output_type": "stream",
     "text": [
      "{'training': True, '_parameters': OrderedDict(), '_buffers': OrderedDict(), '_non_persistent_buffers_set': set(), '_backward_hooks': OrderedDict(), '_is_full_backward_hook': None, '_forward_hooks': OrderedDict(), '_forward_pre_hooks': OrderedDict(), '_state_dict_hooks': OrderedDict(), '_load_state_dict_pre_hooks': OrderedDict(), '_load_state_dict_post_hooks': OrderedDict(), '_modules': OrderedDict([('linear', Linear(in_features=8, out_features=100, bias=True))]), 'neuron_indices': tensor([1061, 1497, 1250, 1136,  707,   96,  697, 1023])}\n"
     ]
    },
    {
     "name": "stderr",
     "output_type": "stream",
     "text": [
      "LOCAL_RANK: 0 - CUDA_VISIBLE_DEVICES: [0,1,2,3,4,5,6,7]\n"
     ]
    },
    {
     "data": {
      "application/vnd.jupyter.widget-view+json": {
       "model_id": "c75d88764a384ccb995489f70a891447",
       "version_major": 2,
       "version_minor": 0
      },
      "text/plain": [
       "Predicting: 0it [00:00, ?it/s]"
      ]
     },
     "metadata": {},
     "output_type": "display_data"
    },
    {
     "name": "stderr",
     "output_type": "stream",
     "text": [
      "Global seed set to 2\n",
      "Global seed set to 1\n",
      "GPU available: True, used: True\n",
      "TPU available: False, using: 0 TPU cores\n",
      "IPU available: False, using: 0 IPUs\n",
      "Global seed set to 0\n"
     ]
    },
    {
     "name": "stdout",
     "output_type": "stream",
     "text": [
      "{'training': True, '_parameters': OrderedDict(), '_buffers': OrderedDict(), '_non_persistent_buffers_set': set(), '_backward_hooks': OrderedDict(), '_is_full_backward_hook': None, '_forward_hooks': OrderedDict(), '_forward_pre_hooks': OrderedDict(), '_state_dict_hooks': OrderedDict(), '_load_state_dict_pre_hooks': OrderedDict(), '_load_state_dict_post_hooks': OrderedDict(), '_modules': OrderedDict([('linear', Linear(in_features=10, out_features=100, bias=True))]), 'neuron_indices': tensor([1061, 1497, 1250, 1136,  707,   96,  697, 1023,  727, 1780])}\n"
     ]
    },
    {
     "name": "stderr",
     "output_type": "stream",
     "text": [
      "LOCAL_RANK: 0 - CUDA_VISIBLE_DEVICES: [0,1,2,3,4,5,6,7]\n"
     ]
    },
    {
     "data": {
      "application/vnd.jupyter.widget-view+json": {
       "model_id": "8c6df6ad87104bb79d7c68e3a9d448e8",
       "version_major": 2,
       "version_minor": 0
      },
      "text/plain": [
       "Predicting: 0it [00:00, ?it/s]"
      ]
     },
     "metadata": {},
     "output_type": "display_data"
    },
    {
     "name": "stderr",
     "output_type": "stream",
     "text": [
      "Global seed set to 2\n",
      "Global seed set to 1\n",
      "GPU available: True, used: True\n",
      "TPU available: False, using: 0 TPU cores\n",
      "IPU available: False, using: 0 IPUs\n",
      "Global seed set to 0\n"
     ]
    },
    {
     "name": "stdout",
     "output_type": "stream",
     "text": [
      "{'training': True, '_parameters': OrderedDict(), '_buffers': OrderedDict(), '_non_persistent_buffers_set': set(), '_backward_hooks': OrderedDict(), '_is_full_backward_hook': None, '_forward_hooks': OrderedDict(), '_forward_pre_hooks': OrderedDict(), '_state_dict_hooks': OrderedDict(), '_load_state_dict_pre_hooks': OrderedDict(), '_load_state_dict_post_hooks': OrderedDict(), '_modules': OrderedDict([('linear', Linear(in_features=20, out_features=100, bias=True))]), 'neuron_indices': tensor([1061, 1497, 1250, 1136,  707,   96,  697, 1023,  727, 1780,  534,  563,\n",
      "         480, 1316,  873,  929, 1062, 1679,  260, 1337])}\n"
     ]
    },
    {
     "name": "stderr",
     "output_type": "stream",
     "text": [
      "LOCAL_RANK: 0 - CUDA_VISIBLE_DEVICES: [0,1,2,3,4,5,6,7]\n"
     ]
    },
    {
     "data": {
      "application/vnd.jupyter.widget-view+json": {
       "model_id": "cf79ce07df07403998ca18c5ea240c23",
       "version_major": 2,
       "version_minor": 0
      },
      "text/plain": [
       "Predicting: 0it [00:00, ?it/s]"
      ]
     },
     "metadata": {},
     "output_type": "display_data"
    },
    {
     "name": "stderr",
     "output_type": "stream",
     "text": [
      "Global seed set to 2\n",
      "Global seed set to 1\n",
      "GPU available: True, used: True\n",
      "TPU available: False, using: 0 TPU cores\n",
      "IPU available: False, using: 0 IPUs\n",
      "Global seed set to 0\n"
     ]
    },
    {
     "name": "stdout",
     "output_type": "stream",
     "text": [
      "{'training': True, '_parameters': OrderedDict(), '_buffers': OrderedDict(), '_non_persistent_buffers_set': set(), '_backward_hooks': OrderedDict(), '_is_full_backward_hook': None, '_forward_hooks': OrderedDict(), '_forward_pre_hooks': OrderedDict(), '_state_dict_hooks': OrderedDict(), '_load_state_dict_pre_hooks': OrderedDict(), '_load_state_dict_post_hooks': OrderedDict(), '_modules': OrderedDict([('linear', Linear(in_features=102, out_features=100, bias=True))]), 'neuron_indices': tensor([1061, 1497, 1250, 1136,  707,   96,  697, 1023,  727, 1780,  534,  563,\n",
      "         480, 1316,  873,  929, 1062, 1679,  260, 1337,  818, 1238, 1430, 1452,\n",
      "        1323, 1661,  750,  989,  217,  228,  498,   35, 1847, 1786,  453, 2036,\n",
      "        1179,  173,  400, 1548, 1893,  766, 1191, 1221, 1751, 1523,  512,  128,\n",
      "         769,  259,  566,  678,   47, 1493, 1801, 1781, 1543, 1833,  125, 1088,\n",
      "         182,  163, 1265, 1396,  533, 1634, 2045,  508, 1680, 1971, 1599,  667,\n",
      "         812,  315,  798,  111,  909,  134,  987, 1401, 1055, 1578,  700,  713,\n",
      "         227, 1763, 1101, 1063,  434, 1463,  122,  598, 1809,  490,  487,  410,\n",
      "         855, 1126,  250, 1174,  953,  925])}\n"
     ]
    },
    {
     "name": "stderr",
     "output_type": "stream",
     "text": [
      "LOCAL_RANK: 0 - CUDA_VISIBLE_DEVICES: [0,1,2,3,4,5,6,7]\n"
     ]
    },
    {
     "data": {
      "application/vnd.jupyter.widget-view+json": {
       "model_id": "82394f68d5af4fc486a6494f96e845c1",
       "version_major": 2,
       "version_minor": 0
      },
      "text/plain": [
       "Predicting: 0it [00:00, ?it/s]"
      ]
     },
     "metadata": {},
     "output_type": "display_data"
    },
    {
     "name": "stderr",
     "output_type": "stream",
     "text": [
      "Global seed set to 2\n",
      "Global seed set to 1\n",
      "GPU available: True, used: True\n",
      "TPU available: False, using: 0 TPU cores\n",
      "IPU available: False, using: 0 IPUs\n",
      "Global seed set to 0\n"
     ]
    },
    {
     "name": "stdout",
     "output_type": "stream",
     "text": [
      "{'training': True, '_parameters': OrderedDict(), '_buffers': OrderedDict(), '_non_persistent_buffers_set': set(), '_backward_hooks': OrderedDict(), '_is_full_backward_hook': None, '_forward_hooks': OrderedDict(), '_forward_pre_hooks': OrderedDict(), '_state_dict_hooks': OrderedDict(), '_load_state_dict_pre_hooks': OrderedDict(), '_load_state_dict_post_hooks': OrderedDict(), '_modules': OrderedDict([('linear', Linear(in_features=204, out_features=100, bias=True))]), 'neuron_indices': tensor([1061, 1497, 1250, 1136,  707,   96,  697, 1023,  727, 1780,  534,  563,\n",
      "         480, 1316,  873,  929, 1062, 1679,  260, 1337,  818, 1238, 1430, 1452,\n",
      "        1323, 1661,  750,  989,  217,  228,  498,   35, 1847, 1786,  453, 2036,\n",
      "        1179,  173,  400, 1548, 1893,  766, 1191, 1221, 1751, 1523,  512,  128,\n",
      "         769,  259,  566,  678,   47, 1493, 1801, 1781, 1543, 1833,  125, 1088,\n",
      "         182,  163, 1265, 1396,  533, 1634, 2045,  508, 1680, 1971, 1599,  667,\n",
      "         812,  315,  798,  111,  909,  134,  987, 1401, 1055, 1578,  700,  713,\n",
      "         227, 1763, 1101, 1063,  434, 1463,  122,  598, 1809,  490,  487,  410,\n",
      "         855, 1126,  250, 1174,  953,  925, 1465, 1704, 1224,  331, 1020, 1297,\n",
      "         395, 1490,  675,  985, 1017, 1262,  633, 1468,  614, 1013,  936,   22,\n",
      "         848,  689,  349,  540,   75, 1972,  571,   74, 2040, 1123,  139,  922,\n",
      "        1012,  902,  240, 1987, 1676, 1046,  237, 1149, 1631,    5, 1190,  853,\n",
      "         188,  218,  542, 1778,  344, 1758, 1161,  977, 1820,   99,  654,  356,\n",
      "        2026,  946,  651, 1419, 1079, 1007, 1925,  559, 1021, 1674,  378, 1105,\n",
      "        1444, 1183, 1770,  168,   98, 2005, 1045, 1249,  530, 1068,  169,  647,\n",
      "        1532, 1974,  162, 1427, 1474, 1796, 1540, 2009, 1594, 2002,  157, 1432,\n",
      "         967, 1269,  352,  145, 1235,  271,  105, 1119, 1692, 1635, 1264,  171])}\n"
     ]
    },
    {
     "name": "stderr",
     "output_type": "stream",
     "text": [
      "LOCAL_RANK: 0 - CUDA_VISIBLE_DEVICES: [0,1,2,3,4,5,6,7]\n"
     ]
    },
    {
     "data": {
      "application/vnd.jupyter.widget-view+json": {
       "model_id": "f6ba8f68d95949929a61d96d9e2f56ff",
       "version_major": 2,
       "version_minor": 0
      },
      "text/plain": [
       "Predicting: 0it [00:00, ?it/s]"
      ]
     },
     "metadata": {},
     "output_type": "display_data"
    },
    {
     "name": "stderr",
     "output_type": "stream",
     "text": [
      "Global seed set to 2\n",
      "Global seed set to 1\n",
      "GPU available: True, used: True\n",
      "TPU available: False, using: 0 TPU cores\n",
      "IPU available: False, using: 0 IPUs\n",
      "Global seed set to 0\n"
     ]
    },
    {
     "name": "stdout",
     "output_type": "stream",
     "text": [
      "{'training': True, '_parameters': OrderedDict(), '_buffers': OrderedDict(), '_non_persistent_buffers_set': set(), '_backward_hooks': OrderedDict(), '_is_full_backward_hook': None, '_forward_hooks': OrderedDict(), '_forward_pre_hooks': OrderedDict(), '_state_dict_hooks': OrderedDict(), '_load_state_dict_pre_hooks': OrderedDict(), '_load_state_dict_post_hooks': OrderedDict(), '_modules': OrderedDict([('linear', Linear(in_features=409, out_features=100, bias=True))]), 'neuron_indices': tensor([1061, 1497, 1250, 1136,  707,   96,  697, 1023,  727, 1780,  534,  563,\n",
      "         480, 1316,  873,  929, 1062, 1679,  260, 1337,  818, 1238, 1430, 1452,\n",
      "        1323, 1661,  750,  989,  217,  228,  498,   35, 1847, 1786,  453, 2036,\n",
      "        1179,  173,  400, 1548, 1893,  766, 1191, 1221, 1751, 1523,  512,  128,\n",
      "         769,  259,  566,  678,   47, 1493, 1801, 1781, 1543, 1833,  125, 1088,\n",
      "         182,  163, 1265, 1396,  533, 1634, 2045,  508, 1680, 1971, 1599,  667,\n",
      "         812,  315,  798,  111,  909,  134,  987, 1401, 1055, 1578,  700,  713,\n",
      "         227, 1763, 1101, 1063,  434, 1463,  122,  598, 1809,  490,  487,  410,\n",
      "         855, 1126,  250, 1174,  953,  925, 1465, 1704, 1224,  331, 1020, 1297,\n",
      "         395, 1490,  675,  985, 1017, 1262,  633, 1468,  614, 1013,  936,   22,\n",
      "         848,  689,  349,  540,   75, 1972,  571,   74, 2040, 1123,  139,  922,\n",
      "        1012,  902,  240, 1987, 1676, 1046,  237, 1149, 1631,    5, 1190,  853,\n",
      "         188,  218,  542, 1778,  344, 1758, 1161,  977, 1820,   99,  654,  356,\n",
      "        2026,  946,  651, 1419, 1079, 1007, 1925,  559, 1021, 1674,  378, 1105,\n",
      "        1444, 1183, 1770,  168,   98, 2005, 1045, 1249,  530, 1068,  169,  647,\n",
      "        1532, 1974,  162, 1427, 1474, 1796, 1540, 2009, 1594, 2002,  157, 1432,\n",
      "         967, 1269,  352,  145, 1235,  271,  105, 1119, 1692, 1635, 1264,  171,\n",
      "         373,  426,  621,  370,  465, 1672,  200, 1486, 1564, 1894,   57,  943,\n",
      "        1553,  358, 1059, 1246, 1489, 1556, 1049, 1589, 1550,  836, 1534,  204,\n",
      "        1995, 1364,  167, 1140,  307,  137, 1314, 1958, 1557, 1571, 1727,  305,\n",
      "        1957,  414,  371, 1966,  521,  183,  160, 1762, 1369, 1188,  519, 1032,\n",
      "        1036,  632, 1301,  791,   68,  787, 1626, 1031,   49,  964, 1800, 1142,\n",
      "         726, 1445, 1341, 1226, 1975, 1655,  245, 1454, 1521, 1025,  972, 1872,\n",
      "        1464,  355,  243,  715,  924, 1737,  962, 1393, 1920, 1305,  318, 1620,\n",
      "        1933,  170, 1590, 1899,  672,  816, 1668,  341, 1665,  529, 1580,  963,\n",
      "         684,  887,  326,   93,  364, 1319,  694,  536, 1718,  391, 1603, 1459,\n",
      "         594,  611, 1254, 1790,  159,  599,   94, 1824, 1788, 1415,  974,  733,\n",
      "         231, 1215, 1085,  133, 1560,  681,  575,  436,  205, 1261, 2001,  910,\n",
      "        1247,  281, 1959, 1239,  253, 1574,  764,  158, 1784,  272, 1406,  866,\n",
      "        1828, 1379,  592, 1312,  430,  123,  277, 1210,  565,  203,  820, 1492,\n",
      "        1585,  435, 1413,  567, 1473, 1662,  582,  896, 1858,  745, 1848,  553,\n",
      "        1082,   81,  782, 1001,  840,  502,  505, 2042,  792,  396, 1133, 1484,\n",
      "         763,  617, 1981, 1135, 1931,  572,  295, 1667, 1227, 1429, 1456, 1587,\n",
      "          33, 1207, 1111, 1993, 2044,  883,  877, 1457,  793, 1869,   38,  891,\n",
      "        1042])}\n"
     ]
    },
    {
     "name": "stderr",
     "output_type": "stream",
     "text": [
      "LOCAL_RANK: 0 - CUDA_VISIBLE_DEVICES: [0,1,2,3,4,5,6,7]\n"
     ]
    },
    {
     "data": {
      "application/vnd.jupyter.widget-view+json": {
       "model_id": "ed67fa06152e4a6fac87707d7ce5611d",
       "version_major": 2,
       "version_minor": 0
      },
      "text/plain": [
       "Predicting: 0it [00:00, ?it/s]"
      ]
     },
     "metadata": {},
     "output_type": "display_data"
    },
    {
     "name": "stderr",
     "output_type": "stream",
     "text": [
      "Global seed set to 2\n",
      "Global seed set to 1\n",
      "GPU available: True, used: True\n",
      "TPU available: False, using: 0 TPU cores\n",
      "IPU available: False, using: 0 IPUs\n",
      "Global seed set to 0\n"
     ]
    },
    {
     "name": "stdout",
     "output_type": "stream",
     "text": [
      "{'training': True, '_parameters': OrderedDict(), '_buffers': OrderedDict(), '_non_persistent_buffers_set': set(), '_backward_hooks': OrderedDict(), '_is_full_backward_hook': None, '_forward_hooks': OrderedDict(), '_forward_pre_hooks': OrderedDict(), '_state_dict_hooks': OrderedDict(), '_load_state_dict_pre_hooks': OrderedDict(), '_load_state_dict_post_hooks': OrderedDict(), '_modules': OrderedDict([('linear', Linear(in_features=614, out_features=100, bias=True))]), 'neuron_indices': tensor([1061, 1497, 1250, 1136,  707,   96,  697, 1023,  727, 1780,  534,  563,\n",
      "         480, 1316,  873,  929, 1062, 1679,  260, 1337,  818, 1238, 1430, 1452,\n",
      "        1323, 1661,  750,  989,  217,  228,  498,   35, 1847, 1786,  453, 2036,\n",
      "        1179,  173,  400, 1548, 1893,  766, 1191, 1221, 1751, 1523,  512,  128,\n",
      "         769,  259,  566,  678,   47, 1493, 1801, 1781, 1543, 1833,  125, 1088,\n",
      "         182,  163, 1265, 1396,  533, 1634, 2045,  508, 1680, 1971, 1599,  667,\n",
      "         812,  315,  798,  111,  909,  134,  987, 1401, 1055, 1578,  700,  713,\n",
      "         227, 1763, 1101, 1063,  434, 1463,  122,  598, 1809,  490,  487,  410,\n",
      "         855, 1126,  250, 1174,  953,  925, 1465, 1704, 1224,  331, 1020, 1297,\n",
      "         395, 1490,  675,  985, 1017, 1262,  633, 1468,  614, 1013,  936,   22,\n",
      "         848,  689,  349,  540,   75, 1972,  571,   74, 2040, 1123,  139,  922,\n",
      "        1012,  902,  240, 1987, 1676, 1046,  237, 1149, 1631,    5, 1190,  853,\n",
      "         188,  218,  542, 1778,  344, 1758, 1161,  977, 1820,   99,  654,  356,\n",
      "        2026,  946,  651, 1419, 1079, 1007, 1925,  559, 1021, 1674,  378, 1105,\n",
      "        1444, 1183, 1770,  168,   98, 2005, 1045, 1249,  530, 1068,  169,  647,\n",
      "        1532, 1974,  162, 1427, 1474, 1796, 1540, 2009, 1594, 2002,  157, 1432,\n",
      "         967, 1269,  352,  145, 1235,  271,  105, 1119, 1692, 1635, 1264,  171,\n",
      "         373,  426,  621,  370,  465, 1672,  200, 1486, 1564, 1894,   57,  943,\n",
      "        1553,  358, 1059, 1246, 1489, 1556, 1049, 1589, 1550,  836, 1534,  204,\n",
      "        1995, 1364,  167, 1140,  307,  137, 1314, 1958, 1557, 1571, 1727,  305,\n",
      "        1957,  414,  371, 1966,  521,  183,  160, 1762, 1369, 1188,  519, 1032,\n",
      "        1036,  632, 1301,  791,   68,  787, 1626, 1031,   49,  964, 1800, 1142,\n",
      "         726, 1445, 1341, 1226, 1975, 1655,  245, 1454, 1521, 1025,  972, 1872,\n",
      "        1464,  355,  243,  715,  924, 1737,  962, 1393, 1920, 1305,  318, 1620,\n",
      "        1933,  170, 1590, 1899,  672,  816, 1668,  341, 1665,  529, 1580,  963,\n",
      "         684,  887,  326,   93,  364, 1319,  694,  536, 1718,  391, 1603, 1459,\n",
      "         594,  611, 1254, 1790,  159,  599,   94, 1824, 1788, 1415,  974,  733,\n",
      "         231, 1215, 1085,  133, 1560,  681,  575,  436,  205, 1261, 2001,  910,\n",
      "        1247,  281, 1959, 1239,  253, 1574,  764,  158, 1784,  272, 1406,  866,\n",
      "        1828, 1379,  592, 1312,  430,  123,  277, 1210,  565,  203,  820, 1492,\n",
      "        1585,  435, 1413,  567, 1473, 1662,  582,  896, 1858,  745, 1848,  553,\n",
      "        1082,   81,  782, 1001,  840,  502,  505, 2042,  792,  396, 1133, 1484,\n",
      "         763,  617, 1981, 1135, 1931,  572,  295, 1667, 1227, 1429, 1456, 1587,\n",
      "          33, 1207, 1111, 1993, 2044,  883,  877, 1457,  793, 1869,   38,  891,\n",
      "        1042, 1591, 1216, 1842, 1469,  124,  631,  904,  955, 1512, 2028,  709,\n",
      "        1128, 1009, 1738, 1259,   44, 1442, 1499, 1804, 1723, 1562, 1962, 1295,\n",
      "         343,  510,  402, 1482,  610, 1024, 1815, 1963,  656,  121,  751,  688,\n",
      "         545,  664,  795,  870, 1106, 2007,  376,  353,  433,  589,  229,  418,\n",
      "        1360,  539, 1218,  386,  871, 1835,  219,  864,  366, 1389,  947, 1697,\n",
      "         216,  973, 1841, 1491, 1719, 1366,  888,  473, 1160,  669,  748, 1611,\n",
      "        1749,  193,  979, 1822,  324,  605,  970,  387,  940, 1541, 1470, 1765,\n",
      "        1595,  309,  912,  339, 1568, 1867, 1293,  659, 1156,  293,  781,   62,\n",
      "        1977, 1308,  833,  693, 1744, 1831,  590, 1172, 1819,  501,  650, 1003,\n",
      "         639, 1890,  470,   34,  564,  332, 1990,  901, 1617,  778,  573,  933,\n",
      "        1342, 1290,  196, 1776,  956, 1832, 1583,   23,  602, 1503, 1964,  471,\n",
      "         226,  851, 1344, 1354, 1845,  642, 1447, 1608, 1640, 1330,  407, 1433,\n",
      "        1576, 1911, 1549,  316, 1450, 1722,  166, 1411, 1271, 1092,  384,  485,\n",
      "         161, 1670, 1294, 1700, 1185,  585,  834, 2018,   65,  520,  822, 1336,\n",
      "        1554, 1019,  197, 1288, 1104,  773,   64,  784,  283,  155, 1750,  829,\n",
      "        2021,  523,  468, 1376,  388,  918, 1035, 1983,  690, 1078,  258, 1103,\n",
      "        1504,  941,  261,  754, 1694,  189, 1144, 1388,  620,  284,  221,  823,\n",
      "         297,  921])}\n"
     ]
    },
    {
     "name": "stderr",
     "output_type": "stream",
     "text": [
      "LOCAL_RANK: 0 - CUDA_VISIBLE_DEVICES: [0,1,2,3,4,5,6,7]\n"
     ]
    },
    {
     "data": {
      "application/vnd.jupyter.widget-view+json": {
       "model_id": "8805bbc6295740598341eb0894802327",
       "version_major": 2,
       "version_minor": 0
      },
      "text/plain": [
       "Predicting: 0it [00:00, ?it/s]"
      ]
     },
     "metadata": {},
     "output_type": "display_data"
    },
    {
     "name": "stderr",
     "output_type": "stream",
     "text": [
      "Global seed set to 2\n",
      "Global seed set to 1\n",
      "GPU available: True, used: True\n",
      "TPU available: False, using: 0 TPU cores\n",
      "IPU available: False, using: 0 IPUs\n",
      "Global seed set to 0\n"
     ]
    },
    {
     "name": "stdout",
     "output_type": "stream",
     "text": [
      "{'training': True, '_parameters': OrderedDict(), '_buffers': OrderedDict(), '_non_persistent_buffers_set': set(), '_backward_hooks': OrderedDict(), '_is_full_backward_hook': None, '_forward_hooks': OrderedDict(), '_forward_pre_hooks': OrderedDict(), '_state_dict_hooks': OrderedDict(), '_load_state_dict_pre_hooks': OrderedDict(), '_load_state_dict_post_hooks': OrderedDict(), '_modules': OrderedDict([('linear', Linear(in_features=1024, out_features=100, bias=True))]), 'neuron_indices': tensor([1061, 1497, 1250,  ..., 1196,  674,  997])}\n"
     ]
    },
    {
     "name": "stderr",
     "output_type": "stream",
     "text": [
      "LOCAL_RANK: 0 - CUDA_VISIBLE_DEVICES: [0,1,2,3,4,5,6,7]\n"
     ]
    },
    {
     "data": {
      "application/vnd.jupyter.widget-view+json": {
       "model_id": "3f42803c3eb24627b0817bd6a85058b4",
       "version_major": 2,
       "version_minor": 0
      },
      "text/plain": [
       "Predicting: 0it [00:00, ?it/s]"
      ]
     },
     "metadata": {},
     "output_type": "display_data"
    },
    {
     "name": "stderr",
     "output_type": "stream",
     "text": [
      "Global seed set to 2\n",
      "Global seed set to 2\n",
      "GPU available: True, used: True\n",
      "TPU available: False, using: 0 TPU cores\n",
      "IPU available: False, using: 0 IPUs\n",
      "Global seed set to 0\n"
     ]
    },
    {
     "name": "stdout",
     "output_type": "stream",
     "text": [
      "{'training': True, '_parameters': OrderedDict(), '_buffers': OrderedDict(), '_non_persistent_buffers_set': set(), '_backward_hooks': OrderedDict(), '_is_full_backward_hook': None, '_forward_hooks': OrderedDict(), '_forward_pre_hooks': OrderedDict(), '_state_dict_hooks': OrderedDict(), '_load_state_dict_pre_hooks': OrderedDict(), '_load_state_dict_post_hooks': OrderedDict(), '_modules': OrderedDict([('linear', Linear(in_features=1843, out_features=100, bias=True))]), 'neuron_indices': tensor([1192, 1790,  799,  ..., 1646,  183,  570])}\n"
     ]
    },
    {
     "name": "stderr",
     "output_type": "stream",
     "text": [
      "LOCAL_RANK: 0 - CUDA_VISIBLE_DEVICES: [0,1,2,3,4,5,6,7]\n"
     ]
    },
    {
     "data": {
      "application/vnd.jupyter.widget-view+json": {
       "model_id": "c18c03891b9b44faba1ae20c17f60b55",
       "version_major": 2,
       "version_minor": 0
      },
      "text/plain": [
       "Predicting: 0it [00:00, ?it/s]"
      ]
     },
     "metadata": {},
     "output_type": "display_data"
    },
    {
     "name": "stderr",
     "output_type": "stream",
     "text": [
      "Global seed set to 2\n",
      "Global seed set to 2\n",
      "GPU available: True, used: True\n",
      "TPU available: False, using: 0 TPU cores\n",
      "IPU available: False, using: 0 IPUs\n",
      "Global seed set to 0\n"
     ]
    },
    {
     "name": "stdout",
     "output_type": "stream",
     "text": [
      "{'training': True, '_parameters': OrderedDict(), '_buffers': OrderedDict(), '_non_persistent_buffers_set': set(), '_backward_hooks': OrderedDict(), '_is_full_backward_hook': None, '_forward_hooks': OrderedDict(), '_forward_pre_hooks': OrderedDict(), '_state_dict_hooks': OrderedDict(), '_load_state_dict_pre_hooks': OrderedDict(), '_load_state_dict_post_hooks': OrderedDict(), '_modules': OrderedDict([('linear', Linear(in_features=2048, out_features=100, bias=True))]), 'neuron_indices': tensor([1192, 1790,  799,  ...,  637, 1922, 1063])}\n"
     ]
    },
    {
     "name": "stderr",
     "output_type": "stream",
     "text": [
      "LOCAL_RANK: 0 - CUDA_VISIBLE_DEVICES: [0,1,2,3,4,5,6,7]\n"
     ]
    },
    {
     "data": {
      "application/vnd.jupyter.widget-view+json": {
       "model_id": "eb6551d3d686432785beb4d02217ea7b",
       "version_major": 2,
       "version_minor": 0
      },
      "text/plain": [
       "Predicting: 0it [00:00, ?it/s]"
      ]
     },
     "metadata": {},
     "output_type": "display_data"
    },
    {
     "data": {
      "image/png": "[encoded data removed]",
      "text/plain": [
       "<Figure size 720x432 with 1 Axes>"
      ]
     },
     "metadata": {},
     "output_type": "display_data"
    },
    {
     "name": "stderr",
     "output_type": "stream",
     "text": [
      "Global seed set to 2\n"
     ]
    },
    {
     "name": "stdout",
     "output_type": "stream",
     "text": [
      "cifar100 {0.0005: [0.016172125935554504], 0.001: [0.020859677344560623], 0.002: [0.03521612286567688], 0.003: [0.051436617970466614], 0.004: [0.06971809267997742], 0.005: [0.08689111471176147], 0.01: [0.1501409113407135], 0.05: [0.37309718132019043], 0.1: [0.44078660011291504], 0.2: [0.4912300705909729], 0.3: [0.5166686773300171], 0.5: [0.5025640726089478], 0.9: [0.5430242419242859]}\n"
     ]
    },
    {
     "name": "stderr",
     "output_type": "stream",
     "text": [
      "Global seed set to 1\n",
      "GPU available: True, used: True\n",
      "TPU available: False, using: 0 TPU cores\n",
      "IPU available: False, using: 0 IPUs\n",
      "Global seed set to 0\n"
     ]
    },
    {
     "name": "stdout",
     "output_type": "stream",
     "text": [
      "{'training': True, '_parameters': OrderedDict(), '_buffers': OrderedDict(), '_non_persistent_buffers_set': set(), '_backward_hooks': OrderedDict(), '_is_full_backward_hook': None, '_forward_hooks': OrderedDict(), '_forward_pre_hooks': OrderedDict(), '_state_dict_hooks': OrderedDict(), '_load_state_dict_pre_hooks': OrderedDict(), '_load_state_dict_post_hooks': OrderedDict(), '_modules': OrderedDict([('linear', Linear(in_features=1, out_features=102, bias=True))]), 'neuron_indices': tensor([1061])}\n"
     ]
    },
    {
     "name": "stderr",
     "output_type": "stream",
     "text": [
      "LOCAL_RANK: 0 - CUDA_VISIBLE_DEVICES: [0,1,2,3,4,5,6,7]\n"
     ]
    },
    {
     "data": {
      "application/vnd.jupyter.widget-view+json": {
       "model_id": "70e22aefb78e40b2b5c0f0adf92bfce1",
       "version_major": 2,
       "version_minor": 0
      },
      "text/plain": [
       "Predicting: 0it [00:00, ?it/s]"
      ]
     },
     "metadata": {},
     "output_type": "display_data"
    },
    {
     "name": "stderr",
     "output_type": "stream",
     "text": [
      "Global seed set to 2\n",
      "Global seed set to 1\n",
      "GPU available: True, used: True\n",
      "TPU available: False, using: 0 TPU cores\n",
      "IPU available: False, using: 0 IPUs\n",
      "Global seed set to 0\n",
      "LOCAL_RANK: 0 - CUDA_VISIBLE_DEVICES: [0,1,2,3,4,5,6,7]\n"
     ]
    },
    {
     "name": "stdout",
     "output_type": "stream",
     "text": [
      "{'training': True, '_parameters': OrderedDict(), '_buffers': OrderedDict(), '_non_persistent_buffers_set': set(), '_backward_hooks': OrderedDict(), '_is_full_backward_hook': None, '_forward_hooks': OrderedDict(), '_forward_pre_hooks': OrderedDict(), '_state_dict_hooks': OrderedDict(), '_load_state_dict_pre_hooks': OrderedDict(), '_load_state_dict_post_hooks': OrderedDict(), '_modules': OrderedDict([('linear', Linear(in_features=2, out_features=102, bias=True))]), 'neuron_indices': tensor([1061, 1497])}\n"
     ]
    },
    {
     "data": {
      "application/vnd.jupyter.widget-view+json": {
       "model_id": "87e73db527fd4b50b56f4aaa326228db",
       "version_major": 2,
       "version_minor": 0
      },
      "text/plain": [
       "Predicting: 0it [00:00, ?it/s]"
      ]
     },
     "metadata": {},
     "output_type": "display_data"
    },
    {
     "name": "stderr",
     "output_type": "stream",
     "text": [
      "Global seed set to 2\n",
      "Global seed set to 1\n",
      "GPU available: True, used: True\n",
      "TPU available: False, using: 0 TPU cores\n",
      "IPU available: False, using: 0 IPUs\n",
      "Global seed set to 0\n",
      "LOCAL_RANK: 0 - CUDA_VISIBLE_DEVICES: [0,1,2,3,4,5,6,7]\n"
     ]
    },
    {
     "name": "stdout",
     "output_type": "stream",
     "text": [
      "{'training': True, '_parameters': OrderedDict(), '_buffers': OrderedDict(), '_non_persistent_buffers_set': set(), '_backward_hooks': OrderedDict(), '_is_full_backward_hook': None, '_forward_hooks': OrderedDict(), '_forward_pre_hooks': OrderedDict(), '_state_dict_hooks': OrderedDict(), '_load_state_dict_pre_hooks': OrderedDict(), '_load_state_dict_post_hooks': OrderedDict(), '_modules': OrderedDict([('linear', Linear(in_features=4, out_features=102, bias=True))]), 'neuron_indices': tensor([1061, 1497, 1250, 1136])}\n"
     ]
    },
    {
     "data": {
      "application/vnd.jupyter.widget-view+json": {
       "model_id": "2211dc88e1ce42adab20c88da46b72b7",
       "version_major": 2,
       "version_minor": 0
      },
      "text/plain": [
       "Predicting: 0it [00:00, ?it/s]"
      ]
     },
     "metadata": {},
     "output_type": "display_data"
    },
    {
     "name": "stderr",
     "output_type": "stream",
     "text": [
      "Global seed set to 2\n",
      "Global seed set to 1\n",
      "GPU available: True, used: True\n",
      "TPU available: False, using: 0 TPU cores\n",
      "IPU available: False, using: 0 IPUs\n",
      "Global seed set to 0\n",
      "LOCAL_RANK: 0 - CUDA_VISIBLE_DEVICES: [0,1,2,3,4,5,6,7]\n"
     ]
    },
    {
     "name": "stdout",
     "output_type": "stream",
     "text": [
      "{'training': True, '_parameters': OrderedDict(), '_buffers': OrderedDict(), '_non_persistent_buffers_set': set(), '_backward_hooks': OrderedDict(), '_is_full_backward_hook': None, '_forward_hooks': OrderedDict(), '_forward_pre_hooks': OrderedDict(), '_state_dict_hooks': OrderedDict(), '_load_state_dict_pre_hooks': OrderedDict(), '_load_state_dict_post_hooks': OrderedDict(), '_modules': OrderedDict([('linear', Linear(in_features=6, out_features=102, bias=True))]), 'neuron_indices': tensor([1061, 1497, 1250, 1136,  707,   96])}\n"
     ]
    },
    {
     "data": {
      "application/vnd.jupyter.widget-view+json": {
       "model_id": "72a72f8774154ca8be54ed15def3f2b8",
       "version_major": 2,
       "version_minor": 0
      },
      "text/plain": [
       "Predicting: 0it [00:00, ?it/s]"
      ]
     },
     "metadata": {},
     "output_type": "display_data"
    },
    {
     "name": "stderr",
     "output_type": "stream",
     "text": [
      "Global seed set to 2\n",
      "Global seed set to 1\n",
      "GPU available: True, used: True\n",
      "TPU available: False, using: 0 TPU cores\n",
      "IPU available: False, using: 0 IPUs\n",
      "Global seed set to 0\n"
     ]
    },
    {
     "name": "stdout",
     "output_type": "stream",
     "text": [
      "{'training': True, '_parameters': OrderedDict(), '_buffers': OrderedDict(), '_non_persistent_buffers_set': set(), '_backward_hooks': OrderedDict(), '_is_full_backward_hook': None, '_forward_hooks': OrderedDict(), '_forward_pre_hooks': OrderedDict(), '_state_dict_hooks': OrderedDict(), '_load_state_dict_pre_hooks': OrderedDict(), '_load_state_dict_post_hooks': OrderedDict(), '_modules': OrderedDict([('linear', Linear(in_features=8, out_features=102, bias=True))]), 'neuron_indices': tensor([1061, 1497, 1250, 1136,  707,   96,  697, 1023])}\n"
     ]
    },
    {
     "name": "stderr",
     "output_type": "stream",
     "text": [
      "LOCAL_RANK: 0 - CUDA_VISIBLE_DEVICES: [0,1,2,3,4,5,6,7]\n"
     ]
    },
    {
     "data": {
      "application/vnd.jupyter.widget-view+json": {
       "model_id": "6fc5e419f8b34669af2017f87f18f3e7",
       "version_major": 2,
       "version_minor": 0
      },
      "text/plain": [
       "Predicting: 0it [00:00, ?it/s]"
      ]
     },
     "metadata": {},
     "output_type": "display_data"
    },
    {
     "name": "stderr",
     "output_type": "stream",
     "text": [
      "Global seed set to 2\n",
      "Global seed set to 1\n",
      "GPU available: True, used: True\n",
      "TPU available: False, using: 0 TPU cores\n",
      "IPU available: False, using: 0 IPUs\n",
      "Global seed set to 0\n",
      "LOCAL_RANK: 0 - CUDA_VISIBLE_DEVICES: [0,1,2,3,4,5,6,7]\n"
     ]
    },
    {
     "name": "stdout",
     "output_type": "stream",
     "text": [
      "{'training': True, '_parameters': OrderedDict(), '_buffers': OrderedDict(), '_non_persistent_buffers_set': set(), '_backward_hooks': OrderedDict(), '_is_full_backward_hook': None, '_forward_hooks': OrderedDict(), '_forward_pre_hooks': OrderedDict(), '_state_dict_hooks': OrderedDict(), '_load_state_dict_pre_hooks': OrderedDict(), '_load_state_dict_post_hooks': OrderedDict(), '_modules': OrderedDict([('linear', Linear(in_features=10, out_features=102, bias=True))]), 'neuron_indices': tensor([1061, 1497, 1250, 1136,  707,   96,  697, 1023,  727, 1780])}\n"
     ]
    },
    {
     "data": {
      "application/vnd.jupyter.widget-view+json": {
       "model_id": "ce2340782e3246d98f8f2f185fef2160",
       "version_major": 2,
       "version_minor": 0
      },
      "text/plain": [
       "Predicting: 0it [00:00, ?it/s]"
      ]
     },
     "metadata": {},
     "output_type": "display_data"
    },
    {
     "name": "stderr",
     "output_type": "stream",
     "text": [
      "Global seed set to 2\n",
      "Global seed set to 1\n",
      "GPU available: True, used: True\n",
      "TPU available: False, using: 0 TPU cores\n",
      "IPU available: False, using: 0 IPUs\n",
      "Global seed set to 0\n",
      "LOCAL_RANK: 0 - CUDA_VISIBLE_DEVICES: [0,1,2,3,4,5,6,7]\n"
     ]
    },
    {
     "name": "stdout",
     "output_type": "stream",
     "text": [
      "{'training': True, '_parameters': OrderedDict(), '_buffers': OrderedDict(), '_non_persistent_buffers_set': set(), '_backward_hooks': OrderedDict(), '_is_full_backward_hook': None, '_forward_hooks': OrderedDict(), '_forward_pre_hooks': OrderedDict(), '_state_dict_hooks': OrderedDict(), '_load_state_dict_pre_hooks': OrderedDict(), '_load_state_dict_post_hooks': OrderedDict(), '_modules': OrderedDict([('linear', Linear(in_features=20, out_features=102, bias=True))]), 'neuron_indices': tensor([1061, 1497, 1250, 1136,  707,   96,  697, 1023,  727, 1780,  534,  563,\n",
      "         480, 1316,  873,  929, 1062, 1679,  260, 1337])}\n"
     ]
    },
    {
     "data": {
      "application/vnd.jupyter.widget-view+json": {
       "model_id": "f5ac22996b4e452fba674aa95ebb5d65",
       "version_major": 2,
       "version_minor": 0
      },
      "text/plain": [
       "Predicting: 0it [00:00, ?it/s]"
      ]
     },
     "metadata": {},
     "output_type": "display_data"
    },
    {
     "name": "stderr",
     "output_type": "stream",
     "text": [
      "Global seed set to 2\n",
      "Global seed set to 1\n",
      "GPU available: True, used: True\n",
      "TPU available: False, using: 0 TPU cores\n",
      "IPU available: False, using: 0 IPUs\n",
      "Global seed set to 0\n",
      "LOCAL_RANK: 0 - CUDA_VISIBLE_DEVICES: [0,1,2,3,4,5,6,7]\n"
     ]
    },
    {
     "name": "stdout",
     "output_type": "stream",
     "text": [
      "{'training': True, '_parameters': OrderedDict(), '_buffers': OrderedDict(), '_non_persistent_buffers_set': set(), '_backward_hooks': OrderedDict(), '_is_full_backward_hook': None, '_forward_hooks': OrderedDict(), '_forward_pre_hooks': OrderedDict(), '_state_dict_hooks': OrderedDict(), '_load_state_dict_pre_hooks': OrderedDict(), '_load_state_dict_post_hooks': OrderedDict(), '_modules': OrderedDict([('linear', Linear(in_features=102, out_features=102, bias=True))]), 'neuron_indices': tensor([1061, 1497, 1250, 1136,  707,   96,  697, 1023,  727, 1780,  534,  563,\n",
      "         480, 1316,  873,  929, 1062, 1679,  260, 1337,  818, 1238, 1430, 1452,\n",
      "        1323, 1661,  750,  989,  217,  228,  498,   35, 1847, 1786,  453, 2036,\n",
      "        1179,  173,  400, 1548, 1893,  766, 1191, 1221, 1751, 1523,  512,  128,\n",
      "         769,  259,  566,  678,   47, 1493, 1801, 1781, 1543, 1833,  125, 1088,\n",
      "         182,  163, 1265, 1396,  533, 1634, 2045,  508, 1680, 1971, 1599,  667,\n",
      "         812,  315,  798,  111,  909,  134,  987, 1401, 1055, 1578,  700,  713,\n",
      "         227, 1763, 1101, 1063,  434, 1463,  122,  598, 1809,  490,  487,  410,\n",
      "         855, 1126,  250, 1174,  953,  925])}\n"
     ]
    },
    {
     "data": {
      "application/vnd.jupyter.widget-view+json": {
       "model_id": "9df54d0974554303b63dc794e1a87d9d",
       "version_major": 2,
       "version_minor": 0
      },
      "text/plain": [
       "Predicting: 0it [00:00, ?it/s]"
      ]
     },
     "metadata": {},
     "output_type": "display_data"
    },
    {
     "name": "stderr",
     "output_type": "stream",
     "text": [
      "Global seed set to 2\n",
      "Global seed set to 1\n",
      "GPU available: True, used: True\n",
      "TPU available: False, using: 0 TPU cores\n",
      "IPU available: False, using: 0 IPUs\n",
      "Global seed set to 0\n",
      "LOCAL_RANK: 0 - CUDA_VISIBLE_DEVICES: [0,1,2,3,4,5,6,7]\n"
     ]
    },
    {
     "name": "stdout",
     "output_type": "stream",
     "text": [
      "{'training': True, '_parameters': OrderedDict(), '_buffers': OrderedDict(), '_non_persistent_buffers_set': set(), '_backward_hooks': OrderedDict(), '_is_full_backward_hook': None, '_forward_hooks': OrderedDict(), '_forward_pre_hooks': OrderedDict(), '_state_dict_hooks': OrderedDict(), '_load_state_dict_pre_hooks': OrderedDict(), '_load_state_dict_post_hooks': OrderedDict(), '_modules': OrderedDict([('linear', Linear(in_features=204, out_features=102, bias=True))]), 'neuron_indices': tensor([1061, 1497, 1250, 1136,  707,   96,  697, 1023,  727, 1780,  534,  563,\n",
      "         480, 1316,  873,  929, 1062, 1679,  260, 1337,  818, 1238, 1430, 1452,\n",
      "        1323, 1661,  750,  989,  217,  228,  498,   35, 1847, 1786,  453, 2036,\n",
      "        1179,  173,  400, 1548, 1893,  766, 1191, 1221, 1751, 1523,  512,  128,\n",
      "         769,  259,  566,  678,   47, 1493, 1801, 1781, 1543, 1833,  125, 1088,\n",
      "         182,  163, 1265, 1396,  533, 1634, 2045,  508, 1680, 1971, 1599,  667,\n",
      "         812,  315,  798,  111,  909,  134,  987, 1401, 1055, 1578,  700,  713,\n",
      "         227, 1763, 1101, 1063,  434, 1463,  122,  598, 1809,  490,  487,  410,\n",
      "         855, 1126,  250, 1174,  953,  925, 1465, 1704, 1224,  331, 1020, 1297,\n",
      "         395, 1490,  675,  985, 1017, 1262,  633, 1468,  614, 1013,  936,   22,\n",
      "         848,  689,  349,  540,   75, 1972,  571,   74, 2040, 1123,  139,  922,\n",
      "        1012,  902,  240, 1987, 1676, 1046,  237, 1149, 1631,    5, 1190,  853,\n",
      "         188,  218,  542, 1778,  344, 1758, 1161,  977, 1820,   99,  654,  356,\n",
      "        2026,  946,  651, 1419, 1079, 1007, 1925,  559, 1021, 1674,  378, 1105,\n",
      "        1444, 1183, 1770,  168,   98, 2005, 1045, 1249,  530, 1068,  169,  647,\n",
      "        1532, 1974,  162, 1427, 1474, 1796, 1540, 2009, 1594, 2002,  157, 1432,\n",
      "         967, 1269,  352,  145, 1235,  271,  105, 1119, 1692, 1635, 1264,  171])}\n"
     ]
    },
    {
     "data": {
      "application/vnd.jupyter.widget-view+json": {
       "model_id": "2e10c86af308467c877ec3fba471e622",
       "version_major": 2,
       "version_minor": 0
      },
      "text/plain": [
       "Predicting: 0it [00:00, ?it/s]"
      ]
     },
     "metadata": {},
     "output_type": "display_data"
    },
    {
     "name": "stderr",
     "output_type": "stream",
     "text": [
      "Global seed set to 2\n",
      "Global seed set to 1\n",
      "GPU available: True, used: True\n",
      "TPU available: False, using: 0 TPU cores\n",
      "IPU available: False, using: 0 IPUs\n",
      "Global seed set to 0\n",
      "LOCAL_RANK: 0 - CUDA_VISIBLE_DEVICES: [0,1,2,3,4,5,6,7]\n"
     ]
    },
    {
     "name": "stdout",
     "output_type": "stream",
     "text": [
      "{'training': True, '_parameters': OrderedDict(), '_buffers': OrderedDict(), '_non_persistent_buffers_set': set(), '_backward_hooks': OrderedDict(), '_is_full_backward_hook': None, '_forward_hooks': OrderedDict(), '_forward_pre_hooks': OrderedDict(), '_state_dict_hooks': OrderedDict(), '_load_state_dict_pre_hooks': OrderedDict(), '_load_state_dict_post_hooks': OrderedDict(), '_modules': OrderedDict([('linear', Linear(in_features=409, out_features=102, bias=True))]), 'neuron_indices': tensor([1061, 1497, 1250, 1136,  707,   96,  697, 1023,  727, 1780,  534,  563,\n",
      "         480, 1316,  873,  929, 1062, 1679,  260, 1337,  818, 1238, 1430, 1452,\n",
      "        1323, 1661,  750,  989,  217,  228,  498,   35, 1847, 1786,  453, 2036,\n",
      "        1179,  173,  400, 1548, 1893,  766, 1191, 1221, 1751, 1523,  512,  128,\n",
      "         769,  259,  566,  678,   47, 1493, 1801, 1781, 1543, 1833,  125, 1088,\n",
      "         182,  163, 1265, 1396,  533, 1634, 2045,  508, 1680, 1971, 1599,  667,\n",
      "         812,  315,  798,  111,  909,  134,  987, 1401, 1055, 1578,  700,  713,\n",
      "         227, 1763, 1101, 1063,  434, 1463,  122,  598, 1809,  490,  487,  410,\n",
      "         855, 1126,  250, 1174,  953,  925, 1465, 1704, 1224,  331, 1020, 1297,\n",
      "         395, 1490,  675,  985, 1017, 1262,  633, 1468,  614, 1013,  936,   22,\n",
      "         848,  689,  349,  540,   75, 1972,  571,   74, 2040, 1123,  139,  922,\n",
      "        1012,  902,  240, 1987, 1676, 1046,  237, 1149, 1631,    5, 1190,  853,\n",
      "         188,  218,  542, 1778,  344, 1758, 1161,  977, 1820,   99,  654,  356,\n",
      "        2026,  946,  651, 1419, 1079, 1007, 1925,  559, 1021, 1674,  378, 1105,\n",
      "        1444, 1183, 1770,  168,   98, 2005, 1045, 1249,  530, 1068,  169,  647,\n",
      "        1532, 1974,  162, 1427, 1474, 1796, 1540, 2009, 1594, 2002,  157, 1432,\n",
      "         967, 1269,  352,  145, 1235,  271,  105, 1119, 1692, 1635, 1264,  171,\n",
      "         373,  426,  621,  370,  465, 1672,  200, 1486, 1564, 1894,   57,  943,\n",
      "        1553,  358, 1059, 1246, 1489, 1556, 1049, 1589, 1550,  836, 1534,  204,\n",
      "        1995, 1364,  167, 1140,  307,  137, 1314, 1958, 1557, 1571, 1727,  305,\n",
      "        1957,  414,  371, 1966,  521,  183,  160, 1762, 1369, 1188,  519, 1032,\n",
      "        1036,  632, 1301,  791,   68,  787, 1626, 1031,   49,  964, 1800, 1142,\n",
      "         726, 1445, 1341, 1226, 1975, 1655,  245, 1454, 1521, 1025,  972, 1872,\n",
      "        1464,  355,  243,  715,  924, 1737,  962, 1393, 1920, 1305,  318, 1620,\n",
      "        1933,  170, 1590, 1899,  672,  816, 1668,  341, 1665,  529, 1580,  963,\n",
      "         684,  887,  326,   93,  364, 1319,  694,  536, 1718,  391, 1603, 1459,\n",
      "         594,  611, 1254, 1790,  159,  599,   94, 1824, 1788, 1415,  974,  733,\n",
      "         231, 1215, 1085,  133, 1560,  681,  575,  436,  205, 1261, 2001,  910,\n",
      "        1247,  281, 1959, 1239,  253, 1574,  764,  158, 1784,  272, 1406,  866,\n",
      "        1828, 1379,  592, 1312,  430,  123,  277, 1210,  565,  203,  820, 1492,\n",
      "        1585,  435, 1413,  567, 1473, 1662,  582,  896, 1858,  745, 1848,  553,\n",
      "        1082,   81,  782, 1001,  840,  502,  505, 2042,  792,  396, 1133, 1484,\n",
      "         763,  617, 1981, 1135, 1931,  572,  295, 1667, 1227, 1429, 1456, 1587,\n",
      "          33, 1207, 1111, 1993, 2044,  883,  877, 1457,  793, 1869,   38,  891,\n",
      "        1042])}\n"
     ]
    },
    {
     "data": {
      "application/vnd.jupyter.widget-view+json": {
       "model_id": "ce3b64f3a6c24fd98328e52f47d35ecd",
       "version_major": 2,
       "version_minor": 0
      },
      "text/plain": [
       "Predicting: 0it [00:00, ?it/s]"
      ]
     },
     "metadata": {},
     "output_type": "display_data"
    },
    {
     "name": "stderr",
     "output_type": "stream",
     "text": [
      "Global seed set to 2\n",
      "Global seed set to 1\n",
      "GPU available: True, used: True\n",
      "TPU available: False, using: 0 TPU cores\n",
      "IPU available: False, using: 0 IPUs\n",
      "Global seed set to 0\n",
      "LOCAL_RANK: 0 - CUDA_VISIBLE_DEVICES: [0,1,2,3,4,5,6,7]\n"
     ]
    },
    {
     "name": "stdout",
     "output_type": "stream",
     "text": [
      "{'training': True, '_parameters': OrderedDict(), '_buffers': OrderedDict(), '_non_persistent_buffers_set': set(), '_backward_hooks': OrderedDict(), '_is_full_backward_hook': None, '_forward_hooks': OrderedDict(), '_forward_pre_hooks': OrderedDict(), '_state_dict_hooks': OrderedDict(), '_load_state_dict_pre_hooks': OrderedDict(), '_load_state_dict_post_hooks': OrderedDict(), '_modules': OrderedDict([('linear', Linear(in_features=614, out_features=102, bias=True))]), 'neuron_indices': tensor([1061, 1497, 1250, 1136,  707,   96,  697, 1023,  727, 1780,  534,  563,\n",
      "         480, 1316,  873,  929, 1062, 1679,  260, 1337,  818, 1238, 1430, 1452,\n",
      "        1323, 1661,  750,  989,  217,  228,  498,   35, 1847, 1786,  453, 2036,\n",
      "        1179,  173,  400, 1548, 1893,  766, 1191, 1221, 1751, 1523,  512,  128,\n",
      "         769,  259,  566,  678,   47, 1493, 1801, 1781, 1543, 1833,  125, 1088,\n",
      "         182,  163, 1265, 1396,  533, 1634, 2045,  508, 1680, 1971, 1599,  667,\n",
      "         812,  315,  798,  111,  909,  134,  987, 1401, 1055, 1578,  700,  713,\n",
      "         227, 1763, 1101, 1063,  434, 1463,  122,  598, 1809,  490,  487,  410,\n",
      "         855, 1126,  250, 1174,  953,  925, 1465, 1704, 1224,  331, 1020, 1297,\n",
      "         395, 1490,  675,  985, 1017, 1262,  633, 1468,  614, 1013,  936,   22,\n",
      "         848,  689,  349,  540,   75, 1972,  571,   74, 2040, 1123,  139,  922,\n",
      "        1012,  902,  240, 1987, 1676, 1046,  237, 1149, 1631,    5, 1190,  853,\n",
      "         188,  218,  542, 1778,  344, 1758, 1161,  977, 1820,   99,  654,  356,\n",
      "        2026,  946,  651, 1419, 1079, 1007, 1925,  559, 1021, 1674,  378, 1105,\n",
      "        1444, 1183, 1770,  168,   98, 2005, 1045, 1249,  530, 1068,  169,  647,\n",
      "        1532, 1974,  162, 1427, 1474, 1796, 1540, 2009, 1594, 2002,  157, 1432,\n",
      "         967, 1269,  352,  145, 1235,  271,  105, 1119, 1692, 1635, 1264,  171,\n",
      "         373,  426,  621,  370,  465, 1672,  200, 1486, 1564, 1894,   57,  943,\n",
      "        1553,  358, 1059, 1246, 1489, 1556, 1049, 1589, 1550,  836, 1534,  204,\n",
      "        1995, 1364,  167, 1140,  307,  137, 1314, 1958, 1557, 1571, 1727,  305,\n",
      "        1957,  414,  371, 1966,  521,  183,  160, 1762, 1369, 1188,  519, 1032,\n",
      "        1036,  632, 1301,  791,   68,  787, 1626, 1031,   49,  964, 1800, 1142,\n",
      "         726, 1445, 1341, 1226, 1975, 1655,  245, 1454, 1521, 1025,  972, 1872,\n",
      "        1464,  355,  243,  715,  924, 1737,  962, 1393, 1920, 1305,  318, 1620,\n",
      "        1933,  170, 1590, 1899,  672,  816, 1668,  341, 1665,  529, 1580,  963,\n",
      "         684,  887,  326,   93,  364, 1319,  694,  536, 1718,  391, 1603, 1459,\n",
      "         594,  611, 1254, 1790,  159,  599,   94, 1824, 1788, 1415,  974,  733,\n",
      "         231, 1215, 1085,  133, 1560,  681,  575,  436,  205, 1261, 2001,  910,\n",
      "        1247,  281, 1959, 1239,  253, 1574,  764,  158, 1784,  272, 1406,  866,\n",
      "        1828, 1379,  592, 1312,  430,  123,  277, 1210,  565,  203,  820, 1492,\n",
      "        1585,  435, 1413,  567, 1473, 1662,  582,  896, 1858,  745, 1848,  553,\n",
      "        1082,   81,  782, 1001,  840,  502,  505, 2042,  792,  396, 1133, 1484,\n",
      "         763,  617, 1981, 1135, 1931,  572,  295, 1667, 1227, 1429, 1456, 1587,\n",
      "          33, 1207, 1111, 1993, 2044,  883,  877, 1457,  793, 1869,   38,  891,\n",
      "        1042, 1591, 1216, 1842, 1469,  124,  631,  904,  955, 1512, 2028,  709,\n",
      "        1128, 1009, 1738, 1259,   44, 1442, 1499, 1804, 1723, 1562, 1962, 1295,\n",
      "         343,  510,  402, 1482,  610, 1024, 1815, 1963,  656,  121,  751,  688,\n",
      "         545,  664,  795,  870, 1106, 2007,  376,  353,  433,  589,  229,  418,\n",
      "        1360,  539, 1218,  386,  871, 1835,  219,  864,  366, 1389,  947, 1697,\n",
      "         216,  973, 1841, 1491, 1719, 1366,  888,  473, 1160,  669,  748, 1611,\n",
      "        1749,  193,  979, 1822,  324,  605,  970,  387,  940, 1541, 1470, 1765,\n",
      "        1595,  309,  912,  339, 1568, 1867, 1293,  659, 1156,  293,  781,   62,\n",
      "        1977, 1308,  833,  693, 1744, 1831,  590, 1172, 1819,  501,  650, 1003,\n",
      "         639, 1890,  470,   34,  564,  332, 1990,  901, 1617,  778,  573,  933,\n",
      "        1342, 1290,  196, 1776,  956, 1832, 1583,   23,  602, 1503, 1964,  471,\n",
      "         226,  851, 1344, 1354, 1845,  642, 1447, 1608, 1640, 1330,  407, 1433,\n",
      "        1576, 1911, 1549,  316, 1450, 1722,  166, 1411, 1271, 1092,  384,  485,\n",
      "         161, 1670, 1294, 1700, 1185,  585,  834, 2018,   65,  520,  822, 1336,\n",
      "        1554, 1019,  197, 1288, 1104,  773,   64,  784,  283,  155, 1750,  829,\n",
      "        2021,  523,  468, 1376,  388,  918, 1035, 1983,  690, 1078,  258, 1103,\n",
      "        1504,  941,  261,  754, 1694,  189, 1144, 1388,  620,  284,  221,  823,\n",
      "         297,  921])}\n"
     ]
    },
    {
     "data": {
      "application/vnd.jupyter.widget-view+json": {
       "model_id": "1d694d6eee2f4571ae306c2c687c6de7",
       "version_major": 2,
       "version_minor": 0
      },
      "text/plain": [
       "Predicting: 0it [00:00, ?it/s]"
      ]
     },
     "metadata": {},
     "output_type": "display_data"
    },
    {
     "name": "stderr",
     "output_type": "stream",
     "text": [
      "Global seed set to 2\n",
      "Global seed set to 1\n",
      "GPU available: True, used: True\n",
      "TPU available: False, using: 0 TPU cores\n",
      "IPU available: False, using: 0 IPUs\n",
      "Global seed set to 0\n",
      "LOCAL_RANK: 0 - CUDA_VISIBLE_DEVICES: [0,1,2,3,4,5,6,7]\n"
     ]
    },
    {
     "name": "stdout",
     "output_type": "stream",
     "text": [
      "{'training': True, '_parameters': OrderedDict(), '_buffers': OrderedDict(), '_non_persistent_buffers_set': set(), '_backward_hooks': OrderedDict(), '_is_full_backward_hook': None, '_forward_hooks': OrderedDict(), '_forward_pre_hooks': OrderedDict(), '_state_dict_hooks': OrderedDict(), '_load_state_dict_pre_hooks': OrderedDict(), '_load_state_dict_post_hooks': OrderedDict(), '_modules': OrderedDict([('linear', Linear(in_features=1024, out_features=102, bias=True))]), 'neuron_indices': tensor([1061, 1497, 1250,  ..., 1196,  674,  997])}\n"
     ]
    },
    {
     "data": {
      "application/vnd.jupyter.widget-view+json": {
       "model_id": "8c8256c0e2654e278aa326d617a13000",
       "version_major": 2,
       "version_minor": 0
      },
      "text/plain": [
       "Predicting: 0it [00:00, ?it/s]"
      ]
     },
     "metadata": {},
     "output_type": "display_data"
    },
    {
     "name": "stderr",
     "output_type": "stream",
     "text": [
      "Global seed set to 2\n",
      "Global seed set to 1\n",
      "GPU available: True, used: True\n",
      "TPU available: False, using: 0 TPU cores\n",
      "IPU available: False, using: 0 IPUs\n",
      "Global seed set to 0\n",
      "LOCAL_RANK: 0 - CUDA_VISIBLE_DEVICES: [0,1,2,3,4,5,6,7]\n"
     ]
    },
    {
     "name": "stdout",
     "output_type": "stream",
     "text": [
      "{'training': True, '_parameters': OrderedDict(), '_buffers': OrderedDict(), '_non_persistent_buffers_set': set(), '_backward_hooks': OrderedDict(), '_is_full_backward_hook': None, '_forward_hooks': OrderedDict(), '_forward_pre_hooks': OrderedDict(), '_state_dict_hooks': OrderedDict(), '_load_state_dict_pre_hooks': OrderedDict(), '_load_state_dict_post_hooks': OrderedDict(), '_modules': OrderedDict([('linear', Linear(in_features=1638, out_features=102, bias=True))]), 'neuron_indices': tensor([1061, 1497, 1250,  ...,  522, 1270,  719])}\n"
     ]
    },
    {
     "data": {
      "application/vnd.jupyter.widget-view+json": {
       "model_id": "9fa4ce16b1ef4647b76c6932461cba5a",
       "version_major": 2,
       "version_minor": 0
      },
      "text/plain": [
       "Predicting: 0it [00:00, ?it/s]"
      ]
     },
     "metadata": {},
     "output_type": "display_data"
    },
    {
     "name": "stderr",
     "output_type": "stream",
     "text": [
      "Global seed set to 2\n",
      "Global seed set to 1\n",
      "GPU available: True, used: True\n",
      "TPU available: False, using: 0 TPU cores\n",
      "IPU available: False, using: 0 IPUs\n",
      "Global seed set to 0\n",
      "LOCAL_RANK: 0 - CUDA_VISIBLE_DEVICES: [0,1,2,3,4,5,6,7]\n"
     ]
    },
    {
     "name": "stdout",
     "output_type": "stream",
     "text": [
      "{'training': True, '_parameters': OrderedDict(), '_buffers': OrderedDict(), '_non_persistent_buffers_set': set(), '_backward_hooks': OrderedDict(), '_is_full_backward_hook': None, '_forward_hooks': OrderedDict(), '_forward_pre_hooks': OrderedDict(), '_state_dict_hooks': OrderedDict(), '_load_state_dict_pre_hooks': OrderedDict(), '_load_state_dict_post_hooks': OrderedDict(), '_modules': OrderedDict([('linear', Linear(in_features=1843, out_features=102, bias=True))]), 'neuron_indices': tensor([1061, 1497, 1250,  ..., 1357, 1453, 1455])}\n"
     ]
    },
    {
     "data": {
      "application/vnd.jupyter.widget-view+json": {
       "model_id": "de3782f6dcf94354950aa00286f58b4c",
       "version_major": 2,
       "version_minor": 0
      },
      "text/plain": [
       "Predicting: 0it [00:00, ?it/s]"
      ]
     },
     "metadata": {},
     "output_type": "display_data"
    },
    {
     "name": "stderr",
     "output_type": "stream",
     "text": [
      "Global seed set to 2\n",
      "Global seed set to 2\n",
      "GPU available: True, used: True\n",
      "TPU available: False, using: 0 TPU cores\n",
      "IPU available: False, using: 0 IPUs\n",
      "Global seed set to 0\n",
      "LOCAL_RANK: 0 - CUDA_VISIBLE_DEVICES: [0,1,2,3,4,5,6,7]\n"
     ]
    },
    {
     "name": "stdout",
     "output_type": "stream",
     "text": [
      "{'training': True, '_parameters': OrderedDict(), '_buffers': OrderedDict(), '_non_persistent_buffers_set': set(), '_backward_hooks': OrderedDict(), '_is_full_backward_hook': None, '_forward_hooks': OrderedDict(), '_forward_pre_hooks': OrderedDict(), '_state_dict_hooks': OrderedDict(), '_load_state_dict_pre_hooks': OrderedDict(), '_load_state_dict_post_hooks': OrderedDict(), '_modules': OrderedDict([('linear', Linear(in_features=1, out_features=102, bias=True))]), 'neuron_indices': tensor([1192])}\n"
     ]
    },
    {
     "data": {
      "application/vnd.jupyter.widget-view+json": {
       "model_id": "e66af668cf934eac82c68ea6f8ef63c2",
       "version_major": 2,
       "version_minor": 0
      },
      "text/plain": [
       "Predicting: 0it [00:00, ?it/s]"
      ]
     },
     "metadata": {},
     "output_type": "display_data"
    },
    {
     "name": "stderr",
     "output_type": "stream",
     "text": [
      "Global seed set to 2\n",
      "Global seed set to 2\n",
      "GPU available: True, used: True\n",
      "TPU available: False, using: 0 TPU cores\n",
      "IPU available: False, using: 0 IPUs\n",
      "Global seed set to 0\n"
     ]
    },
    {
     "name": "stdout",
     "output_type": "stream",
     "text": [
      "{'training': True, '_parameters': OrderedDict(), '_buffers': OrderedDict(), '_non_persistent_buffers_set': set(), '_backward_hooks': OrderedDict(), '_is_full_backward_hook': None, '_forward_hooks': OrderedDict(), '_forward_pre_hooks': OrderedDict(), '_state_dict_hooks': OrderedDict(), '_load_state_dict_pre_hooks': OrderedDict(), '_load_state_dict_post_hooks': OrderedDict(), '_modules': OrderedDict([('linear', Linear(in_features=2, out_features=102, bias=True))]), 'neuron_indices': tensor([1192, 1790])}\n"
     ]
    },
    {
     "name": "stderr",
     "output_type": "stream",
     "text": [
      "LOCAL_RANK: 0 - CUDA_VISIBLE_DEVICES: [0,1,2,3,4,5,6,7]\n"
     ]
    },
    {
     "data": {
      "application/vnd.jupyter.widget-view+json": {
       "model_id": "bff1904100254dcc92b1f516bfdbbc83",
       "version_major": 2,
       "version_minor": 0
      },
      "text/plain": [
       "Predicting: 0it [00:00, ?it/s]"
      ]
     },
     "metadata": {},
     "output_type": "display_data"
    },
    {
     "name": "stderr",
     "output_type": "stream",
     "text": [
      "Global seed set to 2\n",
      "Global seed set to 2\n",
      "GPU available: True, used: True\n",
      "TPU available: False, using: 0 TPU cores\n",
      "IPU available: False, using: 0 IPUs\n",
      "Global seed set to 0\n",
      "LOCAL_RANK: 0 - CUDA_VISIBLE_DEVICES: [0,1,2,3,4,5,6,7]\n"
     ]
    },
    {
     "name": "stdout",
     "output_type": "stream",
     "text": [
      "{'training': True, '_parameters': OrderedDict(), '_buffers': OrderedDict(), '_non_persistent_buffers_set': set(), '_backward_hooks': OrderedDict(), '_is_full_backward_hook': None, '_forward_hooks': OrderedDict(), '_forward_pre_hooks': OrderedDict(), '_state_dict_hooks': OrderedDict(), '_load_state_dict_pre_hooks': OrderedDict(), '_load_state_dict_post_hooks': OrderedDict(), '_modules': OrderedDict([('linear', Linear(in_features=4, out_features=102, bias=True))]), 'neuron_indices': tensor([1192, 1790,  799, 1387])}\n"
     ]
    },
    {
     "data": {
      "application/vnd.jupyter.widget-view+json": {
       "model_id": "c719a03d1bca4a5081730a022df9d701",
       "version_major": 2,
       "version_minor": 0
      },
      "text/plain": [
       "Predicting: 0it [00:00, ?it/s]"
      ]
     },
     "metadata": {},
     "output_type": "display_data"
    },
    {
     "name": "stderr",
     "output_type": "stream",
     "text": [
      "Global seed set to 2\n",
      "Global seed set to 2\n",
      "GPU available: True, used: True\n",
      "TPU available: False, using: 0 TPU cores\n",
      "IPU available: False, using: 0 IPUs\n",
      "Global seed set to 0\n",
      "LOCAL_RANK: 0 - CUDA_VISIBLE_DEVICES: [0,1,2,3,4,5,6,7]\n"
     ]
    },
    {
     "name": "stdout",
     "output_type": "stream",
     "text": [
      "{'training': True, '_parameters': OrderedDict(), '_buffers': OrderedDict(), '_non_persistent_buffers_set': set(), '_backward_hooks': OrderedDict(), '_is_full_backward_hook': None, '_forward_hooks': OrderedDict(), '_forward_pre_hooks': OrderedDict(), '_state_dict_hooks': OrderedDict(), '_load_state_dict_pre_hooks': OrderedDict(), '_load_state_dict_post_hooks': OrderedDict(), '_modules': OrderedDict([('linear', Linear(in_features=6, out_features=102, bias=True))]), 'neuron_indices': tensor([1192, 1790,  799, 1387, 1198,  827])}\n"
     ]
    },
    {
     "data": {
      "application/vnd.jupyter.widget-view+json": {
       "model_id": "8496ddeafbb24a7ca1c797ac75419ca6",
       "version_major": 2,
       "version_minor": 0
      },
      "text/plain": [
       "Predicting: 0it [00:00, ?it/s]"
      ]
     },
     "metadata": {},
     "output_type": "display_data"
    },
    {
     "name": "stderr",
     "output_type": "stream",
     "text": [
      "Global seed set to 2\n",
      "Global seed set to 2\n",
      "GPU available: True, used: True\n",
      "TPU available: False, using: 0 TPU cores\n",
      "IPU available: False, using: 0 IPUs\n",
      "Global seed set to 0\n",
      "LOCAL_RANK: 0 - CUDA_VISIBLE_DEVICES: [0,1,2,3,4,5,6,7]\n"
     ]
    },
    {
     "name": "stdout",
     "output_type": "stream",
     "text": [
      "{'training': True, '_parameters': OrderedDict(), '_buffers': OrderedDict(), '_non_persistent_buffers_set': set(), '_backward_hooks': OrderedDict(), '_is_full_backward_hook': None, '_forward_hooks': OrderedDict(), '_forward_pre_hooks': OrderedDict(), '_state_dict_hooks': OrderedDict(), '_load_state_dict_pre_hooks': OrderedDict(), '_load_state_dict_post_hooks': OrderedDict(), '_modules': OrderedDict([('linear', Linear(in_features=8, out_features=102, bias=True))]), 'neuron_indices': tensor([1192, 1790,  799, 1387, 1198,  827, 1450,  283])}\n"
     ]
    },
    {
     "data": {
      "application/vnd.jupyter.widget-view+json": {
       "model_id": "72743e3a98604fd4b9454e9a5196f985",
       "version_major": 2,
       "version_minor": 0
      },
      "text/plain": [
       "Predicting: 0it [00:00, ?it/s]"
      ]
     },
     "metadata": {},
     "output_type": "display_data"
    },
    {
     "name": "stderr",
     "output_type": "stream",
     "text": [
      "Global seed set to 2\n",
      "Global seed set to 2\n",
      "GPU available: True, used: True\n",
      "TPU available: False, using: 0 TPU cores\n",
      "IPU available: False, using: 0 IPUs\n",
      "Global seed set to 0\n"
     ]
    },
    {
     "name": "stdout",
     "output_type": "stream",
     "text": [
      "{'training': True, '_parameters': OrderedDict(), '_buffers': OrderedDict(), '_non_persistent_buffers_set': set(), '_backward_hooks': OrderedDict(), '_is_full_backward_hook': None, '_forward_hooks': OrderedDict(), '_forward_pre_hooks': OrderedDict(), '_state_dict_hooks': OrderedDict(), '_load_state_dict_pre_hooks': OrderedDict(), '_load_state_dict_post_hooks': OrderedDict(), '_modules': OrderedDict([('linear', Linear(in_features=10, out_features=102, bias=True))]), 'neuron_indices': tensor([1192, 1790,  799, 1387, 1198,  827, 1450,  283,  688, 1500])}\n"
     ]
    },
    {
     "name": "stderr",
     "output_type": "stream",
     "text": [
      "LOCAL_RANK: 0 - CUDA_VISIBLE_DEVICES: [0,1,2,3,4,5,6,7]\n"
     ]
    },
    {
     "data": {
      "application/vnd.jupyter.widget-view+json": {
       "model_id": "155407b9c79f4175be7b351215f7ffa6",
       "version_major": 2,
       "version_minor": 0
      },
      "text/plain": [
       "Predicting: 0it [00:00, ?it/s]"
      ]
     },
     "metadata": {},
     "output_type": "display_data"
    },
    {
     "name": "stderr",
     "output_type": "stream",
     "text": [
      "Global seed set to 2\n",
      "Global seed set to 2\n",
      "GPU available: True, used: True\n",
      "TPU available: False, using: 0 TPU cores\n",
      "IPU available: False, using: 0 IPUs\n",
      "Global seed set to 0\n",
      "LOCAL_RANK: 0 - CUDA_VISIBLE_DEVICES: [0,1,2,3,4,5,6,7]\n"
     ]
    },
    {
     "name": "stdout",
     "output_type": "stream",
     "text": [
      "{'training': True, '_parameters': OrderedDict(), '_buffers': OrderedDict(), '_non_persistent_buffers_set': set(), '_backward_hooks': OrderedDict(), '_is_full_backward_hook': None, '_forward_hooks': OrderedDict(), '_forward_pre_hooks': OrderedDict(), '_state_dict_hooks': OrderedDict(), '_load_state_dict_pre_hooks': OrderedDict(), '_load_state_dict_post_hooks': OrderedDict(), '_modules': OrderedDict([('linear', Linear(in_features=20, out_features=102, bias=True))]), 'neuron_indices': tensor([1192, 1790,  799, 1387, 1198,  827, 1450,  283,  688, 1500, 1142,  147,\n",
      "        1723, 2003,  683, 1148, 1247,  580,  274,   62])}\n"
     ]
    },
    {
     "data": {
      "application/vnd.jupyter.widget-view+json": {
       "model_id": "92fb727f36ba410da2be6354589d2e27",
       "version_major": 2,
       "version_minor": 0
      },
      "text/plain": [
       "Predicting: 0it [00:00, ?it/s]"
      ]
     },
     "metadata": {},
     "output_type": "display_data"
    },
    {
     "name": "stderr",
     "output_type": "stream",
     "text": [
      "Global seed set to 2\n",
      "Global seed set to 2\n",
      "GPU available: True, used: True\n",
      "TPU available: False, using: 0 TPU cores\n",
      "IPU available: False, using: 0 IPUs\n",
      "Global seed set to 0\n",
      "LOCAL_RANK: 0 - CUDA_VISIBLE_DEVICES: [0,1,2,3,4,5,6,7]\n"
     ]
    },
    {
     "name": "stdout",
     "output_type": "stream",
     "text": [
      "{'training': True, '_parameters': OrderedDict(), '_buffers': OrderedDict(), '_non_persistent_buffers_set': set(), '_backward_hooks': OrderedDict(), '_is_full_backward_hook': None, '_forward_hooks': OrderedDict(), '_forward_pre_hooks': OrderedDict(), '_state_dict_hooks': OrderedDict(), '_load_state_dict_pre_hooks': OrderedDict(), '_load_state_dict_post_hooks': OrderedDict(), '_modules': OrderedDict([('linear', Linear(in_features=102, out_features=102, bias=True))]), 'neuron_indices': tensor([1192, 1790,  799, 1387, 1198,  827, 1450,  283,  688, 1500, 1142,  147,\n",
      "        1723, 2003,  683, 1148, 1247,  580,  274,   62,  696,  512,  729, 1384,\n",
      "         531,  918, 1446, 1979, 2027, 1746,  687, 1340,  490, 1009, 1282,  361,\n",
      "         347, 1296,  871, 1050, 1996,  864,  748, 1955, 1255, 1119, 1015, 1669,\n",
      "        1968,  447,    4, 1171, 1530,  746,  402, 1299, 2031, 1605,  723,   40,\n",
      "        1558, 1486,  740,  882, 1658,  127, 1685,  734,  184,  300, 1243, 1635,\n",
      "        1528,  320, 1875,  161,  765, 1236, 1576,  568,  650, 1386,  839,  573,\n",
      "         431, 1724,  652,  375, 1088, 1970, 1388, 1930, 1520,  985,  132,  810,\n",
      "        1750,   68,  852,  441, 1778,  849])}\n"
     ]
    },
    {
     "data": {
      "application/vnd.jupyter.widget-view+json": {
       "model_id": "ece11e06f80d492f808c6d5f8587127b",
       "version_major": 2,
       "version_minor": 0
      },
      "text/plain": [
       "Predicting: 0it [00:00, ?it/s]"
      ]
     },
     "metadata": {},
     "output_type": "display_data"
    },
    {
     "name": "stderr",
     "output_type": "stream",
     "text": [
      "Global seed set to 2\n",
      "Global seed set to 2\n",
      "GPU available: True, used: True\n",
      "TPU available: False, using: 0 TPU cores\n",
      "IPU available: False, using: 0 IPUs\n",
      "Global seed set to 0\n",
      "LOCAL_RANK: 0 - CUDA_VISIBLE_DEVICES: [0,1,2,3,4,5,6,7]\n"
     ]
    },
    {
     "name": "stdout",
     "output_type": "stream",
     "text": [
      "{'training': True, '_parameters': OrderedDict(), '_buffers': OrderedDict(), '_non_persistent_buffers_set': set(), '_backward_hooks': OrderedDict(), '_is_full_backward_hook': None, '_forward_hooks': OrderedDict(), '_forward_pre_hooks': OrderedDict(), '_state_dict_hooks': OrderedDict(), '_load_state_dict_pre_hooks': OrderedDict(), '_load_state_dict_post_hooks': OrderedDict(), '_modules': OrderedDict([('linear', Linear(in_features=204, out_features=102, bias=True))]), 'neuron_indices': tensor([1192, 1790,  799, 1387, 1198,  827, 1450,  283,  688, 1500, 1142,  147,\n",
      "        1723, 2003,  683, 1148, 1247,  580,  274,   62,  696,  512,  729, 1384,\n",
      "         531,  918, 1446, 1979, 2027, 1746,  687, 1340,  490, 1009, 1282,  361,\n",
      "         347, 1296,  871, 1050, 1996,  864,  748, 1955, 1255, 1119, 1015, 1669,\n",
      "        1968,  447,    4, 1171, 1530,  746,  402, 1299, 2031, 1605,  723,   40,\n",
      "        1558, 1486,  740,  882, 1658,  127, 1685,  734,  184,  300, 1243, 1635,\n",
      "        1528,  320, 1875,  161,  765, 1236, 1576,  568,  650, 1386,  839,  573,\n",
      "         431, 1724,  652,  375, 1088, 1970, 1388, 1930, 1520,  985,  132,  810,\n",
      "        1750,   68,  852,  441, 1778,  849, 1308,  475, 1769,  105, 1150,  649,\n",
      "        1273,  675, 1053, 1813, 1045,  972,  372, 2034,   50,  552, 1898, 1081,\n",
      "        1332, 1438,  516, 1065,   26, 1628,   65,  484, 1808, 1802,  513, 1455,\n",
      "        1033, 1490,  967, 1559,  168, 1689,   53, 1258, 1383,  315, 1627, 1260,\n",
      "        1773,  100, 1049,  829, 1623,  702,  838,  217,  902, 1206,  209,  241,\n",
      "        1806,  920, 1719, 1572,   67, 1556, 1840,  239,  808,  858, 1217,  143,\n",
      "        1022, 1086, 1125,  676,  221, 1420, 1276,  666, 1279, 1957, 1066, 1028,\n",
      "         819,  414, 1436, 1038,  150,  297, 1381,  614,  506,  468, 1112, 1510,\n",
      "        1696,  626,  914, 1355, 1999,  556,  738, 2042, 1306,   88, 1109, 1393])}\n"
     ]
    },
    {
     "data": {
      "application/vnd.jupyter.widget-view+json": {
       "model_id": "6161fb01d5bc43228a0c215d40fb92e8",
       "version_major": 2,
       "version_minor": 0
      },
      "text/plain": [
       "Predicting: 0it [00:00, ?it/s]"
      ]
     },
     "metadata": {},
     "output_type": "display_data"
    },
    {
     "name": "stderr",
     "output_type": "stream",
     "text": [
      "Global seed set to 2\n",
      "Global seed set to 2\n",
      "GPU available: True, used: True\n",
      "TPU available: False, using: 0 TPU cores\n",
      "IPU available: False, using: 0 IPUs\n",
      "Global seed set to 0\n",
      "LOCAL_RANK: 0 - CUDA_VISIBLE_DEVICES: [0,1,2,3,4,5,6,7]\n"
     ]
    },
    {
     "name": "stdout",
     "output_type": "stream",
     "text": [
      "{'training': True, '_parameters': OrderedDict(), '_buffers': OrderedDict(), '_non_persistent_buffers_set': set(), '_backward_hooks': OrderedDict(), '_is_full_backward_hook': None, '_forward_hooks': OrderedDict(), '_forward_pre_hooks': OrderedDict(), '_state_dict_hooks': OrderedDict(), '_load_state_dict_pre_hooks': OrderedDict(), '_load_state_dict_post_hooks': OrderedDict(), '_modules': OrderedDict([('linear', Linear(in_features=409, out_features=102, bias=True))]), 'neuron_indices': tensor([1192, 1790,  799, 1387, 1198,  827, 1450,  283,  688, 1500, 1142,  147,\n",
      "        1723, 2003,  683, 1148, 1247,  580,  274,   62,  696,  512,  729, 1384,\n",
      "         531,  918, 1446, 1979, 2027, 1746,  687, 1340,  490, 1009, 1282,  361,\n",
      "         347, 1296,  871, 1050, 1996,  864,  748, 1955, 1255, 1119, 1015, 1669,\n",
      "        1968,  447,    4, 1171, 1530,  746,  402, 1299, 2031, 1605,  723,   40,\n",
      "        1558, 1486,  740,  882, 1658,  127, 1685,  734,  184,  300, 1243, 1635,\n",
      "        1528,  320, 1875,  161,  765, 1236, 1576,  568,  650, 1386,  839,  573,\n",
      "         431, 1724,  652,  375, 1088, 1970, 1388, 1930, 1520,  985,  132,  810,\n",
      "        1750,   68,  852,  441, 1778,  849, 1308,  475, 1769,  105, 1150,  649,\n",
      "        1273,  675, 1053, 1813, 1045,  972,  372, 2034,   50,  552, 1898, 1081,\n",
      "        1332, 1438,  516, 1065,   26, 1628,   65,  484, 1808, 1802,  513, 1455,\n",
      "        1033, 1490,  967, 1559,  168, 1689,   53, 1258, 1383,  315, 1627, 1260,\n",
      "        1773,  100, 1049,  829, 1623,  702,  838,  217,  902, 1206,  209,  241,\n",
      "        1806,  920, 1719, 1572,   67, 1556, 1840,  239,  808,  858, 1217,  143,\n",
      "        1022, 1086, 1125,  676,  221, 1420, 1276,  666, 1279, 1957, 1066, 1028,\n",
      "         819,  414, 1436, 1038,  150,  297, 1381,  614,  506,  468, 1112, 1510,\n",
      "        1696,  626,  914, 1355, 1999,  556,  738, 2042, 1306,   88, 1109, 1393,\n",
      "         377,  231, 1275,  928, 1480,  495,  432, 1555, 1391,  190,  108,  301,\n",
      "         186, 1929,  769, 1664,  912, 1849,   89,  410, 1722,  527, 1269, 1235,\n",
      "        1527,  788, 2030, 1475,   23,  392, 1026, 1760,   56, 1143,    3, 1318,\n",
      "         437,  255, 1989, 1994, 1634, 1601, 1096, 1264, 1443,   84,  712,  741,\n",
      "         292, 1518,  695, 1147, 1672, 1508, 1430, 1149,  421, 1809,  419, 1136,\n",
      "        1899,  440,  182,  648,  713,  572, 1942,  851, 1517, 1993,  504, 1756,\n",
      "         797, 1395,  461, 1421, 1477, 1702, 1600,  715,  994,  303, 1683,  529,\n",
      "          93,  661, 1128, 1004,  325, 1222, 1992,  586, 1654,  753,  367,  621,\n",
      "        1457, 1681, 1593,   66, 2033,  934, 1953,  170,  501, 1285, 1842, 2005,\n",
      "        1224, 1489,  189,  266, 1229, 1923,  397,  395,  469, 1239,  763,  646,\n",
      "        1336, 1739, 1673, 1154,  667,  456, 1630, 1880,    6, 1197, 1410,  357,\n",
      "         415,  754, 1797,  725, 2023, 1858,  459, 1557, 1459, 1666, 1550, 1687,\n",
      "         460, 1749, 1213,  103,  988,  160, 1737, 1765,  270,  355,   32,  615,\n",
      "        1069,  130,  438, 1949,  272, 1868,  632, 1077, 1701,  208, 1886, 1263,\n",
      "        1505,  916,  540, 1208, 1755, 1415, 1958, 1977,   58, 1319, 1745, 2035,\n",
      "        1680, 1416, 1779,  655, 1006,  445, 1304, 1303,  727,  997, 1763,  342,\n",
      "        1835,  917,  693,  755,  443,   63, 1478, 1048,   81, 1380,  959,  408,\n",
      "         278])}\n"
     ]
    },
    {
     "data": {
      "application/vnd.jupyter.widget-view+json": {
       "model_id": "4658d11377a043cca030cd5ea7bd52eb",
       "version_major": 2,
       "version_minor": 0
      },
      "text/plain": [
       "Predicting: 0it [00:00, ?it/s]"
      ]
     },
     "metadata": {},
     "output_type": "display_data"
    },
    {
     "name": "stderr",
     "output_type": "stream",
     "text": [
      "Global seed set to 2\n",
      "Global seed set to 2\n",
      "GPU available: True, used: True\n",
      "TPU available: False, using: 0 TPU cores\n",
      "IPU available: False, using: 0 IPUs\n",
      "Global seed set to 0\n",
      "LOCAL_RANK: 0 - CUDA_VISIBLE_DEVICES: [0,1,2,3,4,5,6,7]\n"
     ]
    },
    {
     "name": "stdout",
     "output_type": "stream",
     "text": [
      "{'training': True, '_parameters': OrderedDict(), '_buffers': OrderedDict(), '_non_persistent_buffers_set': set(), '_backward_hooks': OrderedDict(), '_is_full_backward_hook': None, '_forward_hooks': OrderedDict(), '_forward_pre_hooks': OrderedDict(), '_state_dict_hooks': OrderedDict(), '_load_state_dict_pre_hooks': OrderedDict(), '_load_state_dict_post_hooks': OrderedDict(), '_modules': OrderedDict([('linear', Linear(in_features=614, out_features=102, bias=True))]), 'neuron_indices': tensor([1192, 1790,  799, 1387, 1198,  827, 1450,  283,  688, 1500, 1142,  147,\n",
      "        1723, 2003,  683, 1148, 1247,  580,  274,   62,  696,  512,  729, 1384,\n",
      "         531,  918, 1446, 1979, 2027, 1746,  687, 1340,  490, 1009, 1282,  361,\n",
      "         347, 1296,  871, 1050, 1996,  864,  748, 1955, 1255, 1119, 1015, 1669,\n",
      "        1968,  447,    4, 1171, 1530,  746,  402, 1299, 2031, 1605,  723,   40,\n",
      "        1558, 1486,  740,  882, 1658,  127, 1685,  734,  184,  300, 1243, 1635,\n",
      "        1528,  320, 1875,  161,  765, 1236, 1576,  568,  650, 1386,  839,  573,\n",
      "         431, 1724,  652,  375, 1088, 1970, 1388, 1930, 1520,  985,  132,  810,\n",
      "        1750,   68,  852,  441, 1778,  849, 1308,  475, 1769,  105, 1150,  649,\n",
      "        1273,  675, 1053, 1813, 1045,  972,  372, 2034,   50,  552, 1898, 1081,\n",
      "        1332, 1438,  516, 1065,   26, 1628,   65,  484, 1808, 1802,  513, 1455,\n",
      "        1033, 1490,  967, 1559,  168, 1689,   53, 1258, 1383,  315, 1627, 1260,\n",
      "        1773,  100, 1049,  829, 1623,  702,  838,  217,  902, 1206,  209,  241,\n",
      "        1806,  920, 1719, 1572,   67, 1556, 1840,  239,  808,  858, 1217,  143,\n",
      "        1022, 1086, 1125,  676,  221, 1420, 1276,  666, 1279, 1957, 1066, 1028,\n",
      "         819,  414, 1436, 1038,  150,  297, 1381,  614,  506,  468, 1112, 1510,\n",
      "        1696,  626,  914, 1355, 1999,  556,  738, 2042, 1306,   88, 1109, 1393,\n",
      "         377,  231, 1275,  928, 1480,  495,  432, 1555, 1391,  190,  108,  301,\n",
      "         186, 1929,  769, 1664,  912, 1849,   89,  410, 1722,  527, 1269, 1235,\n",
      "        1527,  788, 2030, 1475,   23,  392, 1026, 1760,   56, 1143,    3, 1318,\n",
      "         437,  255, 1989, 1994, 1634, 1601, 1096, 1264, 1443,   84,  712,  741,\n",
      "         292, 1518,  695, 1147, 1672, 1508, 1430, 1149,  421, 1809,  419, 1136,\n",
      "        1899,  440,  182,  648,  713,  572, 1942,  851, 1517, 1993,  504, 1756,\n",
      "         797, 1395,  461, 1421, 1477, 1702, 1600,  715,  994,  303, 1683,  529,\n",
      "          93,  661, 1128, 1004,  325, 1222, 1992,  586, 1654,  753,  367,  621,\n",
      "        1457, 1681, 1593,   66, 2033,  934, 1953,  170,  501, 1285, 1842, 2005,\n",
      "        1224, 1489,  189,  266, 1229, 1923,  397,  395,  469, 1239,  763,  646,\n",
      "        1336, 1739, 1673, 1154,  667,  456, 1630, 1880,    6, 1197, 1410,  357,\n",
      "         415,  754, 1797,  725, 2023, 1858,  459, 1557, 1459, 1666, 1550, 1687,\n",
      "         460, 1749, 1213,  103,  988,  160, 1737, 1765,  270,  355,   32,  615,\n",
      "        1069,  130,  438, 1949,  272, 1868,  632, 1077, 1701,  208, 1886, 1263,\n",
      "        1505,  916,  540, 1208, 1755, 1415, 1958, 1977,   58, 1319, 1745, 2035,\n",
      "        1680, 1416, 1779,  655, 1006,  445, 1304, 1303,  727,  997, 1763,  342,\n",
      "        1835,  917,  693,  755,  443,   63, 1478, 1048,   81, 1380,  959,  408,\n",
      "         278, 1064,  930, 1503,  870,  508,  486, 1735, 1804,  630, 2025,  118,\n",
      "          49,  809, 1295,  203,   97,  751,  975, 1974, 1743, 1382, 1976, 1611,\n",
      "        1823, 1008, 1833, 1246, 2004, 1912,  120,  939,  947, 1767,  291, 1123,\n",
      "         327,  801,  500, 1379, 1451,  116,  606, 1568, 1877, 1652,  996, 1464,\n",
      "        1650, 1578, 1780,  890, 1377,  745, 1163, 1831, 1094, 1602,  970, 1562,\n",
      "        1921,  247,  151, 1878, 1655, 1881,  913, 1736, 1333,  833,  409, 1626,\n",
      "         198, 1040, 1845,  989, 1097, 1631,  404, 1257, 1017, 1085,  453, 1444,\n",
      "        1215, 1374,  218,  848, 1414, 1105,  956,  562,  121, 1869, 1595, 1524,\n",
      "        1792, 1933,  142,  640,  253, 1368, 1406, 1180, 1199,  877, 1846, 1815,\n",
      "         978, 1642,   73,  413, 1690,  860,  115, 1961,  935,  665,  613,  228,\n",
      "         732,  868,  177,   25,   39,  384, 1668,  164, 1874,  798,  553,  385,\n",
      "        1496,  354, 1980,  477,  359,  791,  690, 1409, 1651,  663,  817,  374,\n",
      "        1132, 1919, 1159,  155, 1911,  366,  825,  179, 1775, 1551,  451,  804,\n",
      "        1991, 1777, 1629, 1272,  884,  276,  596,  855,  249, 1114,  333,  505,\n",
      "         979, 1289, 1104, 1816, 1256, 1126, 1909, 1649,  337, 1982, 1612,  778,\n",
      "         883, 1058, 1174,  612, 1361, 1561,  521,  236,  216,  828, 1543, 1337,\n",
      "         262,  267, 1218, 1106,  588,  756,  865,  379,  196, 1103, 1392, 1166,\n",
      "         207, 1971])}\n"
     ]
    },
    {
     "data": {
      "application/vnd.jupyter.widget-view+json": {
       "model_id": "221b58373cfb40ff9736007150316282",
       "version_major": 2,
       "version_minor": 0
      },
      "text/plain": [
       "Predicting: 0it [00:00, ?it/s]"
      ]
     },
     "metadata": {},
     "output_type": "display_data"
    },
    {
     "name": "stderr",
     "output_type": "stream",
     "text": [
      "Global seed set to 2\n",
      "Global seed set to 2\n",
      "GPU available: True, used: True\n",
      "TPU available: False, using: 0 TPU cores\n",
      "IPU available: False, using: 0 IPUs\n",
      "Global seed set to 0\n",
      "LOCAL_RANK: 0 - CUDA_VISIBLE_DEVICES: [0,1,2,3,4,5,6,7]\n"
     ]
    },
    {
     "name": "stdout",
     "output_type": "stream",
     "text": [
      "{'training': True, '_parameters': OrderedDict(), '_buffers': OrderedDict(), '_non_persistent_buffers_set': set(), '_backward_hooks': OrderedDict(), '_is_full_backward_hook': None, '_forward_hooks': OrderedDict(), '_forward_pre_hooks': OrderedDict(), '_state_dict_hooks': OrderedDict(), '_load_state_dict_pre_hooks': OrderedDict(), '_load_state_dict_post_hooks': OrderedDict(), '_modules': OrderedDict([('linear', Linear(in_features=1024, out_features=102, bias=True))]), 'neuron_indices': tensor([1192, 1790,  799,  ...,  991,  983,  856])}\n"
     ]
    },
    {
     "data": {
      "application/vnd.jupyter.widget-view+json": {
       "model_id": "ff958760d5bc4c4a853ce1b5e9ad6935",
       "version_major": 2,
       "version_minor": 0
      },
      "text/plain": [
       "Predicting: 0it [00:00, ?it/s]"
      ]
     },
     "metadata": {},
     "output_type": "display_data"
    },
    {
     "name": "stderr",
     "output_type": "stream",
     "text": [
      "Global seed set to 2\n",
      "Global seed set to 2\n",
      "GPU available: True, used: True\n",
      "TPU available: False, using: 0 TPU cores\n",
      "IPU available: False, using: 0 IPUs\n",
      "Global seed set to 0\n"
     ]
    },
    {
     "name": "stdout",
     "output_type": "stream",
     "text": [
      "{'training': True, '_parameters': OrderedDict(), '_buffers': OrderedDict(), '_non_persistent_buffers_set': set(), '_backward_hooks': OrderedDict(), '_is_full_backward_hook': None, '_forward_hooks': OrderedDict(), '_forward_pre_hooks': OrderedDict(), '_state_dict_hooks': OrderedDict(), '_load_state_dict_pre_hooks': OrderedDict(), '_load_state_dict_post_hooks': OrderedDict(), '_modules': OrderedDict([('linear', Linear(in_features=1638, out_features=102, bias=True))]), 'neuron_indices': tensor([1192, 1790,  799,  ...,  662, 1879,  760])}\n"
     ]
    },
    {
     "name": "stderr",
     "output_type": "stream",
     "text": [
      "LOCAL_RANK: 0 - CUDA_VISIBLE_DEVICES: [0,1,2,3,4,5,6,7]\n"
     ]
    },
    {
     "data": {
      "application/vnd.jupyter.widget-view+json": {
       "model_id": "72f2a613126f4ebe9cec5be04cb0b131",
       "version_major": 2,
       "version_minor": 0
      },
      "text/plain": [
       "Predicting: 0it [00:00, ?it/s]"
      ]
     },
     "metadata": {},
     "output_type": "display_data"
    },
    {
     "name": "stderr",
     "output_type": "stream",
     "text": [
      "Global seed set to 2\n",
      "Global seed set to 2\n",
      "GPU available: True, used: True\n",
      "TPU available: False, using: 0 TPU cores\n",
      "IPU available: False, using: 0 IPUs\n",
      "Global seed set to 0\n",
      "LOCAL_RANK: 0 - CUDA_VISIBLE_DEVICES: [0,1,2,3,4,5,6,7]\n"
     ]
    },
    {
     "name": "stdout",
     "output_type": "stream",
     "text": [
      "{'training': True, '_parameters': OrderedDict(), '_buffers': OrderedDict(), '_non_persistent_buffers_set': set(), '_backward_hooks': OrderedDict(), '_is_full_backward_hook': None, '_forward_hooks': OrderedDict(), '_forward_pre_hooks': OrderedDict(), '_state_dict_hooks': OrderedDict(), '_load_state_dict_pre_hooks': OrderedDict(), '_load_state_dict_post_hooks': OrderedDict(), '_modules': OrderedDict([('linear', Linear(in_features=1843, out_features=102, bias=True))]), 'neuron_indices': tensor([1192, 1790,  799,  ..., 1646,  183,  570])}\n"
     ]
    },
    {
     "data": {
      "application/vnd.jupyter.widget-view+json": {
       "model_id": "b1a78afb3a9147acb9eb060f803c075d",
       "version_major": 2,
       "version_minor": 0
      },
      "text/plain": [
       "Predicting: 0it [00:00, ?it/s]"
      ]
     },
     "metadata": {},
     "output_type": "display_data"
    },
    {
     "name": "stderr",
     "output_type": "stream",
     "text": [
      "Global seed set to 2\n",
      "Global seed set to 2\n",
      "GPU available: True, used: True\n",
      "TPU available: False, using: 0 TPU cores\n",
      "IPU available: False, using: 0 IPUs\n",
      "Global seed set to 0\n",
      "LOCAL_RANK: 0 - CUDA_VISIBLE_DEVICES: [0,1,2,3,4,5,6,7]\n"
     ]
    },
    {
     "name": "stdout",
     "output_type": "stream",
     "text": [
      "{'training': True, '_parameters': OrderedDict(), '_buffers': OrderedDict(), '_non_persistent_buffers_set': set(), '_backward_hooks': OrderedDict(), '_is_full_backward_hook': None, '_forward_hooks': OrderedDict(), '_forward_pre_hooks': OrderedDict(), '_state_dict_hooks': OrderedDict(), '_load_state_dict_pre_hooks': OrderedDict(), '_load_state_dict_post_hooks': OrderedDict(), '_modules': OrderedDict([('linear', Linear(in_features=2048, out_features=102, bias=True))]), 'neuron_indices': tensor([1192, 1790,  799,  ...,  637, 1922, 1063])}\n"
     ]
    },
    {
     "data": {
      "application/vnd.jupyter.widget-view+json": {
       "model_id": "f3cb32d79dce4ae6acefb18a345240c7",
       "version_major": 2,
       "version_minor": 0
      },
      "text/plain": [
       "Predicting: 0it [00:00, ?it/s]"
      ]
     },
     "metadata": {},
     "output_type": "display_data"
    },
    {
     "name": "stderr",
     "output_type": "stream",
     "text": [
      "Global seed set to 2\n",
      "Global seed set to 3\n",
      "GPU available: True, used: True\n",
      "TPU available: False, using: 0 TPU cores\n",
      "IPU available: False, using: 0 IPUs\n",
      "Global seed set to 0\n",
      "LOCAL_RANK: 0 - CUDA_VISIBLE_DEVICES: [0,1,2,3,4,5,6,7]\n"
     ]
    },
    {
     "name": "stdout",
     "output_type": "stream",
     "text": [
      "{'training': True, '_parameters': OrderedDict(), '_buffers': OrderedDict(), '_non_persistent_buffers_set': set(), '_backward_hooks': OrderedDict(), '_is_full_backward_hook': None, '_forward_hooks': OrderedDict(), '_forward_pre_hooks': OrderedDict(), '_state_dict_hooks': OrderedDict(), '_load_state_dict_pre_hooks': OrderedDict(), '_load_state_dict_post_hooks': OrderedDict(), '_modules': OrderedDict([('linear', Linear(in_features=1, out_features=102, bias=True))]), 'neuron_indices': tensor([1898])}\n"
     ]
    },
    {
     "data": {
      "application/vnd.jupyter.widget-view+json": {
       "model_id": "b035d711badc4e94acef43f7897977dc",
       "version_major": 2,
       "version_minor": 0
      },
      "text/plain": [
       "Predicting: 0it [00:00, ?it/s]"
      ]
     },
     "metadata": {},
     "output_type": "display_data"
    },
    {
     "name": "stderr",
     "output_type": "stream",
     "text": [
      "Global seed set to 2\n",
      "Global seed set to 3\n",
      "GPU available: True, used: True\n",
      "TPU available: False, using: 0 TPU cores\n",
      "IPU available: False, using: 0 IPUs\n",
      "Global seed set to 0\n"
     ]
    },
    {
     "name": "stdout",
     "output_type": "stream",
     "text": [
      "{'training': True, '_parameters': OrderedDict(), '_buffers': OrderedDict(), '_non_persistent_buffers_set': set(), '_backward_hooks': OrderedDict(), '_is_full_backward_hook': None, '_forward_hooks': OrderedDict(), '_forward_pre_hooks': OrderedDict(), '_state_dict_hooks': OrderedDict(), '_load_state_dict_pre_hooks': OrderedDict(), '_load_state_dict_post_hooks': OrderedDict(), '_modules': OrderedDict([('linear', Linear(in_features=2, out_features=102, bias=True))]), 'neuron_indices': tensor([1898,  578])}\n"
     ]
    },
    {
     "name": "stderr",
     "output_type": "stream",
     "text": [
      "LOCAL_RANK: 0 - CUDA_VISIBLE_DEVICES: [0,1,2,3,4,5,6,7]\n"
     ]
    },
    {
     "data": {
      "application/vnd.jupyter.widget-view+json": {
       "model_id": "3f3c276388114109a24b5a3ade55c172",
       "version_major": 2,
       "version_minor": 0
      },
      "text/plain": [
       "Predicting: 0it [00:00, ?it/s]"
      ]
     },
     "metadata": {},
     "output_type": "display_data"
    },
    {
     "name": "stderr",
     "output_type": "stream",
     "text": [
      "Global seed set to 2\n",
      "Global seed set to 3\n",
      "GPU available: True, used: True\n",
      "TPU available: False, using: 0 TPU cores\n",
      "IPU available: False, using: 0 IPUs\n",
      "Global seed set to 0\n",
      "LOCAL_RANK: 0 - CUDA_VISIBLE_DEVICES: [0,1,2,3,4,5,6,7]\n"
     ]
    },
    {
     "name": "stdout",
     "output_type": "stream",
     "text": [
      "{'training': True, '_parameters': OrderedDict(), '_buffers': OrderedDict(), '_non_persistent_buffers_set': set(), '_backward_hooks': OrderedDict(), '_is_full_backward_hook': None, '_forward_hooks': OrderedDict(), '_forward_pre_hooks': OrderedDict(), '_state_dict_hooks': OrderedDict(), '_load_state_dict_pre_hooks': OrderedDict(), '_load_state_dict_post_hooks': OrderedDict(), '_modules': OrderedDict([('linear', Linear(in_features=4, out_features=102, bias=True))]), 'neuron_indices': tensor([1898,  578,  669, 1890])}\n"
     ]
    },
    {
     "data": {
      "application/vnd.jupyter.widget-view+json": {
       "model_id": "d9adc24e96b24df1b19c2a4404080559",
       "version_major": 2,
       "version_minor": 0
      },
      "text/plain": [
       "Predicting: 0it [00:00, ?it/s]"
      ]
     },
     "metadata": {},
     "output_type": "display_data"
    },
    {
     "name": "stderr",
     "output_type": "stream",
     "text": [
      "Global seed set to 2\n",
      "Global seed set to 3\n",
      "GPU available: True, used: True\n",
      "TPU available: False, using: 0 TPU cores\n",
      "IPU available: False, using: 0 IPUs\n",
      "Global seed set to 0\n",
      "LOCAL_RANK: 0 - CUDA_VISIBLE_DEVICES: [0,1,2,3,4,5,6,7]\n"
     ]
    },
    {
     "name": "stdout",
     "output_type": "stream",
     "text": [
      "{'training': True, '_parameters': OrderedDict(), '_buffers': OrderedDict(), '_non_persistent_buffers_set': set(), '_backward_hooks': OrderedDict(), '_is_full_backward_hook': None, '_forward_hooks': OrderedDict(), '_forward_pre_hooks': OrderedDict(), '_state_dict_hooks': OrderedDict(), '_load_state_dict_pre_hooks': OrderedDict(), '_load_state_dict_post_hooks': OrderedDict(), '_modules': OrderedDict([('linear', Linear(in_features=6, out_features=102, bias=True))]), 'neuron_indices': tensor([1898,  578,  669, 1890,  704,  404])}\n"
     ]
    },
    {
     "data": {
      "application/vnd.jupyter.widget-view+json": {
       "model_id": "6915d2f0e9a048b6af75c7c6416e5759",
       "version_major": 2,
       "version_minor": 0
      },
      "text/plain": [
       "Predicting: 0it [00:00, ?it/s]"
      ]
     },
     "metadata": {},
     "output_type": "display_data"
    },
    {
     "name": "stderr",
     "output_type": "stream",
     "text": [
      "Global seed set to 2\n",
      "Global seed set to 3\n",
      "GPU available: True, used: True\n",
      "TPU available: False, using: 0 TPU cores\n",
      "IPU available: False, using: 0 IPUs\n",
      "Global seed set to 0\n",
      "LOCAL_RANK: 0 - CUDA_VISIBLE_DEVICES: [0,1,2,3,4,5,6,7]\n"
     ]
    },
    {
     "name": "stdout",
     "output_type": "stream",
     "text": [
      "{'training': True, '_parameters': OrderedDict(), '_buffers': OrderedDict(), '_non_persistent_buffers_set': set(), '_backward_hooks': OrderedDict(), '_is_full_backward_hook': None, '_forward_hooks': OrderedDict(), '_forward_pre_hooks': OrderedDict(), '_state_dict_hooks': OrderedDict(), '_load_state_dict_pre_hooks': OrderedDict(), '_load_state_dict_post_hooks': OrderedDict(), '_modules': OrderedDict([('linear', Linear(in_features=8, out_features=102, bias=True))]), 'neuron_indices': tensor([1898,  578,  669, 1890,  704,  404, 1786,  425])}\n"
     ]
    },
    {
     "data": {
      "application/vnd.jupyter.widget-view+json": {
       "model_id": "f653586240664c39a336442e196767ee",
       "version_major": 2,
       "version_minor": 0
      },
      "text/plain": [
       "Predicting: 0it [00:00, ?it/s]"
      ]
     },
     "metadata": {},
     "output_type": "display_data"
    },
    {
     "name": "stderr",
     "output_type": "stream",
     "text": [
      "Global seed set to 2\n",
      "Global seed set to 3\n",
      "GPU available: True, used: True\n",
      "TPU available: False, using: 0 TPU cores\n",
      "IPU available: False, using: 0 IPUs\n",
      "Global seed set to 0\n",
      "LOCAL_RANK: 0 - CUDA_VISIBLE_DEVICES: [0,1,2,3,4,5,6,7]\n"
     ]
    },
    {
     "name": "stdout",
     "output_type": "stream",
     "text": [
      "{'training': True, '_parameters': OrderedDict(), '_buffers': OrderedDict(), '_non_persistent_buffers_set': set(), '_backward_hooks': OrderedDict(), '_is_full_backward_hook': None, '_forward_hooks': OrderedDict(), '_forward_pre_hooks': OrderedDict(), '_state_dict_hooks': OrderedDict(), '_load_state_dict_pre_hooks': OrderedDict(), '_load_state_dict_post_hooks': OrderedDict(), '_modules': OrderedDict([('linear', Linear(in_features=10, out_features=102, bias=True))]), 'neuron_indices': tensor([1898,  578,  669, 1890,  704,  404, 1786,  425,  429,  139])}\n"
     ]
    },
    {
     "data": {
      "application/vnd.jupyter.widget-view+json": {
       "model_id": "194790e8c24a4d729641c86580713351",
       "version_major": 2,
       "version_minor": 0
      },
      "text/plain": [
       "Predicting: 0it [00:00, ?it/s]"
      ]
     },
     "metadata": {},
     "output_type": "display_data"
    },
    {
     "name": "stderr",
     "output_type": "stream",
     "text": [
      "Global seed set to 2\n",
      "Global seed set to 3\n",
      "GPU available: True, used: True\n",
      "TPU available: False, using: 0 TPU cores\n",
      "IPU available: False, using: 0 IPUs\n",
      "Global seed set to 0\n",
      "LOCAL_RANK: 0 - CUDA_VISIBLE_DEVICES: [0,1,2,3,4,5,6,7]\n"
     ]
    },
    {
     "name": "stdout",
     "output_type": "stream",
     "text": [
      "{'training': True, '_parameters': OrderedDict(), '_buffers': OrderedDict(), '_non_persistent_buffers_set': set(), '_backward_hooks': OrderedDict(), '_is_full_backward_hook': None, '_forward_hooks': OrderedDict(), '_forward_pre_hooks': OrderedDict(), '_state_dict_hooks': OrderedDict(), '_load_state_dict_pre_hooks': OrderedDict(), '_load_state_dict_post_hooks': OrderedDict(), '_modules': OrderedDict([('linear', Linear(in_features=20, out_features=102, bias=True))]), 'neuron_indices': tensor([1898,  578,  669, 1890,  704,  404, 1786,  425,  429,  139, 1894, 1529,\n",
      "        1609,  347,  626,  229,  903, 1808,  598, 1848])}\n"
     ]
    },
    {
     "data": {
      "application/vnd.jupyter.widget-view+json": {
       "model_id": "98740803b44044428bb480aa16f7e735",
       "version_major": 2,
       "version_minor": 0
      },
      "text/plain": [
       "Predicting: 0it [00:00, ?it/s]"
      ]
     },
     "metadata": {},
     "output_type": "display_data"
    },
    {
     "name": "stderr",
     "output_type": "stream",
     "text": [
      "Global seed set to 2\n",
      "Global seed set to 3\n",
      "GPU available: True, used: True\n",
      "TPU available: False, using: 0 TPU cores\n",
      "IPU available: False, using: 0 IPUs\n",
      "Global seed set to 0\n",
      "LOCAL_RANK: 0 - CUDA_VISIBLE_DEVICES: [0,1,2,3,4,5,6,7]\n"
     ]
    },
    {
     "name": "stdout",
     "output_type": "stream",
     "text": [
      "{'training': True, '_parameters': OrderedDict(), '_buffers': OrderedDict(), '_non_persistent_buffers_set': set(), '_backward_hooks': OrderedDict(), '_is_full_backward_hook': None, '_forward_hooks': OrderedDict(), '_forward_pre_hooks': OrderedDict(), '_state_dict_hooks': OrderedDict(), '_load_state_dict_pre_hooks': OrderedDict(), '_load_state_dict_post_hooks': OrderedDict(), '_modules': OrderedDict([('linear', Linear(in_features=102, out_features=102, bias=True))]), 'neuron_indices': tensor([1898,  578,  669, 1890,  704,  404, 1786,  425,  429,  139, 1894, 1529,\n",
      "        1609,  347,  626,  229,  903, 1808,  598, 1848, 1760, 1483, 2047, 1104,\n",
      "         592, 1511, 1945,  473, 1382, 1750,  580,  829, 1980, 1926, 1035, 1447,\n",
      "        1781, 1141,  220, 1730, 1501, 1652,  438,  563,  462,  410,  794, 1756,\n",
      "        1745, 1387, 1213,  658,  317, 1187,  418, 1526, 1973, 1117,  954,  325,\n",
      "        1524,  668,   55, 1475,  320, 1440, 1544, 1011,  831, 1651,  332,  457,\n",
      "          79,  290,  943, 1805,  321,  153, 1607,  295, 1877,  135,  638,  361,\n",
      "        2032, 1569, 1233, 1153, 1480, 1782, 1222,  142, 1804,   50,  566, 1812,\n",
      "         695,  214, 1373, 1644, 1073,  766])}\n"
     ]
    },
    {
     "data": {
      "application/vnd.jupyter.widget-view+json": {
       "model_id": "06fd3b6b22324e899c1a8b5b4837c617",
       "version_major": 2,
       "version_minor": 0
      },
      "text/plain": [
       "Predicting: 0it [00:00, ?it/s]"
      ]
     },
     "metadata": {},
     "output_type": "display_data"
    },
    {
     "name": "stderr",
     "output_type": "stream",
     "text": [
      "Global seed set to 2\n",
      "Global seed set to 3\n",
      "GPU available: True, used: True\n",
      "TPU available: False, using: 0 TPU cores\n",
      "IPU available: False, using: 0 IPUs\n",
      "Global seed set to 0\n",
      "LOCAL_RANK: 0 - CUDA_VISIBLE_DEVICES: [0,1,2,3,4,5,6,7]\n"
     ]
    },
    {
     "name": "stdout",
     "output_type": "stream",
     "text": [
      "{'training': True, '_parameters': OrderedDict(), '_buffers': OrderedDict(), '_non_persistent_buffers_set': set(), '_backward_hooks': OrderedDict(), '_is_full_backward_hook': None, '_forward_hooks': OrderedDict(), '_forward_pre_hooks': OrderedDict(), '_state_dict_hooks': OrderedDict(), '_load_state_dict_pre_hooks': OrderedDict(), '_load_state_dict_post_hooks': OrderedDict(), '_modules': OrderedDict([('linear', Linear(in_features=204, out_features=102, bias=True))]), 'neuron_indices': tensor([1898,  578,  669, 1890,  704,  404, 1786,  425,  429,  139, 1894, 1529,\n",
      "        1609,  347,  626,  229,  903, 1808,  598, 1848, 1760, 1483, 2047, 1104,\n",
      "         592, 1511, 1945,  473, 1382, 1750,  580,  829, 1980, 1926, 1035, 1447,\n",
      "        1781, 1141,  220, 1730, 1501, 1652,  438,  563,  462,  410,  794, 1756,\n",
      "        1745, 1387, 1213,  658,  317, 1187,  418, 1526, 1973, 1117,  954,  325,\n",
      "        1524,  668,   55, 1475,  320, 1440, 1544, 1011,  831, 1651,  332,  457,\n",
      "          79,  290,  943, 1805,  321,  153, 1607,  295, 1877,  135,  638,  361,\n",
      "        2032, 1569, 1233, 1153, 1480, 1782, 1222,  142, 1804,   50,  566, 1812,\n",
      "         695,  214, 1373, 1644, 1073,  766, 1772,  251, 1929, 1423,  631,  687,\n",
      "         758,  887, 1352,  495, 1994, 1335, 1818, 1169, 1143, 1677, 1208, 1112,\n",
      "        1204,  499,  523,  289,  269,  483, 1798,  535,    2,  474, 1990, 1164,\n",
      "         569, 1413,   34, 2039,  384,  560, 1485, 1613,  834, 2002,  310,  517,\n",
      "         228,  330,   29, 1247, 1859,  528, 1118, 1593,  951,  804, 2041, 1509,\n",
      "        1425,  426,  282, 1364, 1298, 1308,  846,  503, 1487, 1145,  400, 2000,\n",
      "         198,  698, 1305,  182,  132, 1585,  837,  565,  924, 1473, 1606, 1978,\n",
      "        1635,  206,  103,  304,  892, 1935, 1946,  632,  564, 1869,  140, 1034,\n",
      "        1498,  557,  494,  805,  360,  922, 1907,  341,  930, 1151, 2025,  141])}\n"
     ]
    },
    {
     "data": {
      "application/vnd.jupyter.widget-view+json": {
       "model_id": "eff7c0d6d2c748a9aa6d0b2062e85455",
       "version_major": 2,
       "version_minor": 0
      },
      "text/plain": [
       "Predicting: 0it [00:00, ?it/s]"
      ]
     },
     "metadata": {},
     "output_type": "display_data"
    },
    {
     "name": "stderr",
     "output_type": "stream",
     "text": [
      "Global seed set to 2\n",
      "Global seed set to 3\n",
      "GPU available: True, used: True\n",
      "TPU available: False, using: 0 TPU cores\n",
      "IPU available: False, using: 0 IPUs\n",
      "Global seed set to 0\n",
      "LOCAL_RANK: 0 - CUDA_VISIBLE_DEVICES: [0,1,2,3,4,5,6,7]\n"
     ]
    },
    {
     "name": "stdout",
     "output_type": "stream",
     "text": [
      "{'training': True, '_parameters': OrderedDict(), '_buffers': OrderedDict(), '_non_persistent_buffers_set': set(), '_backward_hooks': OrderedDict(), '_is_full_backward_hook': None, '_forward_hooks': OrderedDict(), '_forward_pre_hooks': OrderedDict(), '_state_dict_hooks': OrderedDict(), '_load_state_dict_pre_hooks': OrderedDict(), '_load_state_dict_post_hooks': OrderedDict(), '_modules': OrderedDict([('linear', Linear(in_features=409, out_features=102, bias=True))]), 'neuron_indices': tensor([1898,  578,  669, 1890,  704,  404, 1786,  425,  429,  139, 1894, 1529,\n",
      "        1609,  347,  626,  229,  903, 1808,  598, 1848, 1760, 1483, 2047, 1104,\n",
      "         592, 1511, 1945,  473, 1382, 1750,  580,  829, 1980, 1926, 1035, 1447,\n",
      "        1781, 1141,  220, 1730, 1501, 1652,  438,  563,  462,  410,  794, 1756,\n",
      "        1745, 1387, 1213,  658,  317, 1187,  418, 1526, 1973, 1117,  954,  325,\n",
      "        1524,  668,   55, 1475,  320, 1440, 1544, 1011,  831, 1651,  332,  457,\n",
      "          79,  290,  943, 1805,  321,  153, 1607,  295, 1877,  135,  638,  361,\n",
      "        2032, 1569, 1233, 1153, 1480, 1782, 1222,  142, 1804,   50,  566, 1812,\n",
      "         695,  214, 1373, 1644, 1073,  766, 1772,  251, 1929, 1423,  631,  687,\n",
      "         758,  887, 1352,  495, 1994, 1335, 1818, 1169, 1143, 1677, 1208, 1112,\n",
      "        1204,  499,  523,  289,  269,  483, 1798,  535,    2,  474, 1990, 1164,\n",
      "         569, 1413,   34, 2039,  384,  560, 1485, 1613,  834, 2002,  310,  517,\n",
      "         228,  330,   29, 1247, 1859,  528, 1118, 1593,  951,  804, 2041, 1509,\n",
      "        1425,  426,  282, 1364, 1298, 1308,  846,  503, 1487, 1145,  400, 2000,\n",
      "         198,  698, 1305,  182,  132, 1585,  837,  565,  924, 1473, 1606, 1978,\n",
      "        1635,  206,  103,  304,  892, 1935, 1946,  632,  564, 1869,  140, 1034,\n",
      "        1498,  557,  494,  805,  360,  922, 1907,  341,  930, 1151, 2025,  141,\n",
      "        1253, 1326,  256, 1520, 1436,  383,  579,  524,  176, 2037, 1418, 1354,\n",
      "         948,  994, 1200, 1064, 1045,  504, 1554,  936, 1014,  833, 1816, 1492,\n",
      "        1020, 1792, 1306, 1193, 1300, 1580, 1541, 1124,  807, 1777,  355, 2045,\n",
      "        1545,  184,  277, 1528, 1251, 1669,  737, 1567, 1759,  193,  433,  107,\n",
      "         665,  301,  390, 1358, 1596, 1478,  730,  647,  338, 1205,  148, 1749,\n",
      "        1799,   73, 1452,  102, 1043, 1895,  316,  446,  125,  144, 1982, 1814,\n",
      "        1224, 1136, 1658,  454, 1617, 1921, 1863,  973,    5, 1332,  861, 1341,\n",
      "        1688,  873,  413, 1694, 1249,  690, 1797, 1376, 1618, 1294, 1297,  784,\n",
      "         527, 1842,  798,  927,  971,   28,  881, 1535,  993,  796, 1337,  461,\n",
      "         868, 1336,  888,  233,  595, 1114, 1182, 1650,   18, 1944, 1212, 1592,\n",
      "        1386, 1722,  165, 1979,  218, 1089, 1774, 1521, 1154, 1762,  178, 1663,\n",
      "        1410,  817,  367,  745,  550,  126, 1408,  675, 1754, 1870,  654, 1778,\n",
      "         200, 1905,  854, 1101,  133,  134, 1532, 1138, 1690, 1227, 1149,  978,\n",
      "        1874, 1748, 1432, 1001, 1486,  679,  101, 1493,  518,   70, 1007,  365,\n",
      "        1627,  169,  428,    7,  464, 1360, 1612, 1603, 1433,   53,  959,  163,\n",
      "        1886, 1573, 1040, 1970,   43,  961,  821, 1030,  293,  582,  531,  453,\n",
      "         657,   69,  113, 1710, 1579, 1533, 1242, 1362, 1223,  136, 1202, 1589,\n",
      "         575])}\n"
     ]
    },
    {
     "data": {
      "application/vnd.jupyter.widget-view+json": {
       "model_id": "2a18c11b3c174b5588cc95c4f21ca2ba",
       "version_major": 2,
       "version_minor": 0
      },
      "text/plain": [
       "Predicting: 0it [00:00, ?it/s]"
      ]
     },
     "metadata": {},
     "output_type": "display_data"
    },
    {
     "name": "stderr",
     "output_type": "stream",
     "text": [
      "Global seed set to 2\n",
      "Global seed set to 3\n",
      "GPU available: True, used: True\n",
      "TPU available: False, using: 0 TPU cores\n",
      "IPU available: False, using: 0 IPUs\n",
      "Global seed set to 0\n",
      "LOCAL_RANK: 0 - CUDA_VISIBLE_DEVICES: [0,1,2,3,4,5,6,7]\n"
     ]
    },
    {
     "name": "stdout",
     "output_type": "stream",
     "text": [
      "{'training': True, '_parameters': OrderedDict(), '_buffers': OrderedDict(), '_non_persistent_buffers_set': set(), '_backward_hooks': OrderedDict(), '_is_full_backward_hook': None, '_forward_hooks': OrderedDict(), '_forward_pre_hooks': OrderedDict(), '_state_dict_hooks': OrderedDict(), '_load_state_dict_pre_hooks': OrderedDict(), '_load_state_dict_post_hooks': OrderedDict(), '_modules': OrderedDict([('linear', Linear(in_features=614, out_features=102, bias=True))]), 'neuron_indices': tensor([1898,  578,  669, 1890,  704,  404, 1786,  425,  429,  139, 1894, 1529,\n",
      "        1609,  347,  626,  229,  903, 1808,  598, 1848, 1760, 1483, 2047, 1104,\n",
      "         592, 1511, 1945,  473, 1382, 1750,  580,  829, 1980, 1926, 1035, 1447,\n",
      "        1781, 1141,  220, 1730, 1501, 1652,  438,  563,  462,  410,  794, 1756,\n",
      "        1745, 1387, 1213,  658,  317, 1187,  418, 1526, 1973, 1117,  954,  325,\n",
      "        1524,  668,   55, 1475,  320, 1440, 1544, 1011,  831, 1651,  332,  457,\n",
      "          79,  290,  943, 1805,  321,  153, 1607,  295, 1877,  135,  638,  361,\n",
      "        2032, 1569, 1233, 1153, 1480, 1782, 1222,  142, 1804,   50,  566, 1812,\n",
      "         695,  214, 1373, 1644, 1073,  766, 1772,  251, 1929, 1423,  631,  687,\n",
      "         758,  887, 1352,  495, 1994, 1335, 1818, 1169, 1143, 1677, 1208, 1112,\n",
      "        1204,  499,  523,  289,  269,  483, 1798,  535,    2,  474, 1990, 1164,\n",
      "         569, 1413,   34, 2039,  384,  560, 1485, 1613,  834, 2002,  310,  517,\n",
      "         228,  330,   29, 1247, 1859,  528, 1118, 1593,  951,  804, 2041, 1509,\n",
      "        1425,  426,  282, 1364, 1298, 1308,  846,  503, 1487, 1145,  400, 2000,\n",
      "         198,  698, 1305,  182,  132, 1585,  837,  565,  924, 1473, 1606, 1978,\n",
      "        1635,  206,  103,  304,  892, 1935, 1946,  632,  564, 1869,  140, 1034,\n",
      "        1498,  557,  494,  805,  360,  922, 1907,  341,  930, 1151, 2025,  141,\n",
      "        1253, 1326,  256, 1520, 1436,  383,  579,  524,  176, 2037, 1418, 1354,\n",
      "         948,  994, 1200, 1064, 1045,  504, 1554,  936, 1014,  833, 1816, 1492,\n",
      "        1020, 1792, 1306, 1193, 1300, 1580, 1541, 1124,  807, 1777,  355, 2045,\n",
      "        1545,  184,  277, 1528, 1251, 1669,  737, 1567, 1759,  193,  433,  107,\n",
      "         665,  301,  390, 1358, 1596, 1478,  730,  647,  338, 1205,  148, 1749,\n",
      "        1799,   73, 1452,  102, 1043, 1895,  316,  446,  125,  144, 1982, 1814,\n",
      "        1224, 1136, 1658,  454, 1617, 1921, 1863,  973,    5, 1332,  861, 1341,\n",
      "        1688,  873,  413, 1694, 1249,  690, 1797, 1376, 1618, 1294, 1297,  784,\n",
      "         527, 1842,  798,  927,  971,   28,  881, 1535,  993,  796, 1337,  461,\n",
      "         868, 1336,  888,  233,  595, 1114, 1182, 1650,   18, 1944, 1212, 1592,\n",
      "        1386, 1722,  165, 1979,  218, 1089, 1774, 1521, 1154, 1762,  178, 1663,\n",
      "        1410,  817,  367,  745,  550,  126, 1408,  675, 1754, 1870,  654, 1778,\n",
      "         200, 1905,  854, 1101,  133,  134, 1532, 1138, 1690, 1227, 1149,  978,\n",
      "        1874, 1748, 1432, 1001, 1486,  679,  101, 1493,  518,   70, 1007,  365,\n",
      "        1627,  169,  428,    7,  464, 1360, 1612, 1603, 1433,   53,  959,  163,\n",
      "        1886, 1573, 1040, 1970,   43,  961,  821, 1030,  293,  582,  531,  453,\n",
      "         657,   69,  113, 1710, 1579, 1533, 1242, 1362, 1223,  136, 1202, 1589,\n",
      "         575, 1510,  225,  542,  606, 1656, 1631, 1198,  378,  960, 1062,  308,\n",
      "         353,   33, 1965,   19, 1942, 1273,  918, 1699,  398,  513, 1972,  534,\n",
      "        1687,  207, 1426,  921,  989,  298,  368,  825, 1914,  441,  899, 1464,\n",
      "         586,  785,  641,  585,  318,  884, 1547,  456,  749, 1063,  801,    1,\n",
      "        1466,  226,  593,  502, 1192, 1987,  375, 1901, 1290, 1783, 1186, 1495,\n",
      "         213,  259, 1940, 1173,  980, 1595, 1832,  760, 1264, 1262, 1928,  340,\n",
      "         705,  369,  194,  232, 1619, 1698, 1519,  781,  152, 1402, 1836, 2043,\n",
      "         262,  667,  672,  768, 1506, 1790, 1590,  312,  506,  816,  732,   82,\n",
      "         300,  497, 1046, 1608, 1950, 1637,  533, 1050, 2026, 1636,  280,  376,\n",
      "         447, 1393, 1746,  412, 1930, 1042,  581, 1406, 1611, 1999, 1458,  604,\n",
      "        1259,  168,  637, 1906,  173, 1912,  313,  192, 1220, 1648, 1244, 1130,\n",
      "         720,  673, 1616, 1954, 1445, 1266,  630, 1424,  905,  686, 1391, 1558,\n",
      "        1734, 1504,   31,  755,  908,  472,  530,   78, 1140,  864,  381, 1568,\n",
      "        1334,  116,  583, 1742, 1344, 1006,  589,   13, 1876, 1947,  167,  292,\n",
      "        1739, 1764,  818, 1016, 1079,  890,  492, 1681, 1768,  664, 1097, 1303,\n",
      "        2035,  120, 1621, 1931, 1489,  191,  237, 2044,  823, 1150, 1744,  770,\n",
      "          52, 1761, 1765, 1181, 1068,  471, 1817,  556, 1858, 1910,  734,   91,\n",
      "        1571, 2046])}\n"
     ]
    },
    {
     "data": {
      "application/vnd.jupyter.widget-view+json": {
       "model_id": "ddc64be5826f4f7f80ad3dec6df321be",
       "version_major": 2,
       "version_minor": 0
      },
      "text/plain": [
       "Predicting: 0it [00:00, ?it/s]"
      ]
     },
     "metadata": {},
     "output_type": "display_data"
    },
    {
     "name": "stderr",
     "output_type": "stream",
     "text": [
      "Global seed set to 2\n",
      "Global seed set to 3\n",
      "GPU available: True, used: True\n",
      "TPU available: False, using: 0 TPU cores\n",
      "IPU available: False, using: 0 IPUs\n",
      "Global seed set to 0\n",
      "LOCAL_RANK: 0 - CUDA_VISIBLE_DEVICES: [0,1,2,3,4,5,6,7]\n"
     ]
    },
    {
     "name": "stdout",
     "output_type": "stream",
     "text": [
      "{'training': True, '_parameters': OrderedDict(), '_buffers': OrderedDict(), '_non_persistent_buffers_set': set(), '_backward_hooks': OrderedDict(), '_is_full_backward_hook': None, '_forward_hooks': OrderedDict(), '_forward_pre_hooks': OrderedDict(), '_state_dict_hooks': OrderedDict(), '_load_state_dict_pre_hooks': OrderedDict(), '_load_state_dict_post_hooks': OrderedDict(), '_modules': OrderedDict([('linear', Linear(in_features=1024, out_features=102, bias=True))]), 'neuron_indices': tensor([1898,  578,  669,  ...,  508, 1269, 1685])}\n"
     ]
    },
    {
     "data": {
      "application/vnd.jupyter.widget-view+json": {
       "model_id": "b93d9bd6c3b3416e97c8792f8137536f",
       "version_major": 2,
       "version_minor": 0
      },
      "text/plain": [
       "Predicting: 0it [00:00, ?it/s]"
      ]
     },
     "metadata": {},
     "output_type": "display_data"
    },
    {
     "name": "stderr",
     "output_type": "stream",
     "text": [
      "Global seed set to 2\n",
      "Global seed set to 3\n",
      "GPU available: True, used: True\n",
      "TPU available: False, using: 0 TPU cores\n",
      "IPU available: False, using: 0 IPUs\n",
      "Global seed set to 0\n",
      "LOCAL_RANK: 0 - CUDA_VISIBLE_DEVICES: [0,1,2,3,4,5,6,7]\n"
     ]
    },
    {
     "name": "stdout",
     "output_type": "stream",
     "text": [
      "{'training': True, '_parameters': OrderedDict(), '_buffers': OrderedDict(), '_non_persistent_buffers_set': set(), '_backward_hooks': OrderedDict(), '_is_full_backward_hook': None, '_forward_hooks': OrderedDict(), '_forward_pre_hooks': OrderedDict(), '_state_dict_hooks': OrderedDict(), '_load_state_dict_pre_hooks': OrderedDict(), '_load_state_dict_post_hooks': OrderedDict(), '_modules': OrderedDict([('linear', Linear(in_features=1638, out_features=102, bias=True))]), 'neuron_indices': tensor([1898,  578,  669,  ...,  452,  466, 1714])}\n"
     ]
    },
    {
     "data": {
      "application/vnd.jupyter.widget-view+json": {
       "model_id": "14ffda4055dc4295b7cac674f7bb8435",
       "version_major": 2,
       "version_minor": 0
      },
      "text/plain": [
       "Predicting: 0it [00:00, ?it/s]"
      ]
     },
     "metadata": {},
     "output_type": "display_data"
    },
    {
     "name": "stderr",
     "output_type": "stream",
     "text": [
      "Global seed set to 2\n",
      "Global seed set to 3\n",
      "GPU available: True, used: True\n",
      "TPU available: False, using: 0 TPU cores\n",
      "IPU available: False, using: 0 IPUs\n",
      "Global seed set to 0\n",
      "LOCAL_RANK: 0 - CUDA_VISIBLE_DEVICES: [0,1,2,3,4,5,6,7]\n"
     ]
    },
    {
     "name": "stdout",
     "output_type": "stream",
     "text": [
      "{'training': True, '_parameters': OrderedDict(), '_buffers': OrderedDict(), '_non_persistent_buffers_set': set(), '_backward_hooks': OrderedDict(), '_is_full_backward_hook': None, '_forward_hooks': OrderedDict(), '_forward_pre_hooks': OrderedDict(), '_state_dict_hooks': OrderedDict(), '_load_state_dict_pre_hooks': OrderedDict(), '_load_state_dict_post_hooks': OrderedDict(), '_modules': OrderedDict([('linear', Linear(in_features=1843, out_features=102, bias=True))]), 'neuron_indices': tensor([1898,  578,  669,  ..., 1624, 1083,   66])}\n"
     ]
    },
    {
     "data": {
      "application/vnd.jupyter.widget-view+json": {
       "model_id": "20841ba6650c46f3b72e4e29c11e1f22",
       "version_major": 2,
       "version_minor": 0
      },
      "text/plain": [
       "Predicting: 0it [00:00, ?it/s]"
      ]
     },
     "metadata": {},
     "output_type": "display_data"
    },
    {
     "name": "stderr",
     "output_type": "stream",
     "text": [
      "Global seed set to 2\n",
      "Global seed set to 4\n",
      "GPU available: True, used: True\n",
      "TPU available: False, using: 0 TPU cores\n",
      "IPU available: False, using: 0 IPUs\n",
      "Global seed set to 0\n",
      "LOCAL_RANK: 0 - CUDA_VISIBLE_DEVICES: [0,1,2,3,4,5,6,7]\n"
     ]
    },
    {
     "name": "stdout",
     "output_type": "stream",
     "text": [
      "{'training': True, '_parameters': OrderedDict(), '_buffers': OrderedDict(), '_non_persistent_buffers_set': set(), '_backward_hooks': OrderedDict(), '_is_full_backward_hook': None, '_forward_hooks': OrderedDict(), '_forward_pre_hooks': OrderedDict(), '_state_dict_hooks': OrderedDict(), '_load_state_dict_pre_hooks': OrderedDict(), '_load_state_dict_post_hooks': OrderedDict(), '_modules': OrderedDict([('linear', Linear(in_features=1, out_features=102, bias=True))]), 'neuron_indices': tensor([1146])}\n"
     ]
    },
    {
     "data": {
      "application/vnd.jupyter.widget-view+json": {
       "model_id": "f1c3618c5253434a9d9ebb04e2061d83",
       "version_major": 2,
       "version_minor": 0
      },
      "text/plain": [
       "Predicting: 0it [00:00, ?it/s]"
      ]
     },
     "metadata": {},
     "output_type": "display_data"
    },
    {
     "name": "stderr",
     "output_type": "stream",
     "text": [
      "Global seed set to 2\n",
      "Global seed set to 4\n",
      "GPU available: True, used: True\n",
      "TPU available: False, using: 0 TPU cores\n",
      "IPU available: False, using: 0 IPUs\n",
      "Global seed set to 0\n",
      "LOCAL_RANK: 0 - CUDA_VISIBLE_DEVICES: [0,1,2,3,4,5,6,7]\n"
     ]
    },
    {
     "name": "stdout",
     "output_type": "stream",
     "text": [
      "{'training': True, '_parameters': OrderedDict(), '_buffers': OrderedDict(), '_non_persistent_buffers_set': set(), '_backward_hooks': OrderedDict(), '_is_full_backward_hook': None, '_forward_hooks': OrderedDict(), '_forward_pre_hooks': OrderedDict(), '_state_dict_hooks': OrderedDict(), '_load_state_dict_pre_hooks': OrderedDict(), '_load_state_dict_post_hooks': OrderedDict(), '_modules': OrderedDict([('linear', Linear(in_features=2, out_features=102, bias=True))]), 'neuron_indices': tensor([1146, 1581])}\n"
     ]
    },
    {
     "data": {
      "application/vnd.jupyter.widget-view+json": {
       "model_id": "eca4b47ae7344831adc9e619065cdbcf",
       "version_major": 2,
       "version_minor": 0
      },
      "text/plain": [
       "Predicting: 0it [00:00, ?it/s]"
      ]
     },
     "metadata": {},
     "output_type": "display_data"
    },
    {
     "name": "stderr",
     "output_type": "stream",
     "text": [
      "Global seed set to 2\n",
      "Global seed set to 4\n",
      "GPU available: True, used: True\n",
      "TPU available: False, using: 0 TPU cores\n",
      "IPU available: False, using: 0 IPUs\n",
      "Global seed set to 0\n",
      "LOCAL_RANK: 0 - CUDA_VISIBLE_DEVICES: [0,1,2,3,4,5,6,7]\n"
     ]
    },
    {
     "name": "stdout",
     "output_type": "stream",
     "text": [
      "{'training': True, '_parameters': OrderedDict(), '_buffers': OrderedDict(), '_non_persistent_buffers_set': set(), '_backward_hooks': OrderedDict(), '_is_full_backward_hook': None, '_forward_hooks': OrderedDict(), '_forward_pre_hooks': OrderedDict(), '_state_dict_hooks': OrderedDict(), '_load_state_dict_pre_hooks': OrderedDict(), '_load_state_dict_post_hooks': OrderedDict(), '_modules': OrderedDict([('linear', Linear(in_features=4, out_features=102, bias=True))]), 'neuron_indices': tensor([1146, 1581,   87, 1321])}\n"
     ]
    },
    {
     "data": {
      "application/vnd.jupyter.widget-view+json": {
       "model_id": "a8bc465bf78b4236bdadb5a11587dd48",
       "version_major": 2,
       "version_minor": 0
      },
      "text/plain": [
       "Predicting: 0it [00:00, ?it/s]"
      ]
     },
     "metadata": {},
     "output_type": "display_data"
    },
    {
     "name": "stderr",
     "output_type": "stream",
     "text": [
      "Global seed set to 2\n",
      "Global seed set to 4\n",
      "GPU available: True, used: True\n",
      "TPU available: False, using: 0 TPU cores\n",
      "IPU available: False, using: 0 IPUs\n",
      "Global seed set to 0\n",
      "LOCAL_RANK: 0 - CUDA_VISIBLE_DEVICES: [0,1,2,3,4,5,6,7]\n"
     ]
    },
    {
     "name": "stdout",
     "output_type": "stream",
     "text": [
      "{'training': True, '_parameters': OrderedDict(), '_buffers': OrderedDict(), '_non_persistent_buffers_set': set(), '_backward_hooks': OrderedDict(), '_is_full_backward_hook': None, '_forward_hooks': OrderedDict(), '_forward_pre_hooks': OrderedDict(), '_state_dict_hooks': OrderedDict(), '_load_state_dict_pre_hooks': OrderedDict(), '_load_state_dict_post_hooks': OrderedDict(), '_modules': OrderedDict([('linear', Linear(in_features=6, out_features=102, bias=True))]), 'neuron_indices': tensor([1146, 1581,   87, 1321, 1741, 1387])}\n"
     ]
    },
    {
     "data": {
      "application/vnd.jupyter.widget-view+json": {
       "model_id": "2e3e01227d3f4341a40672a8321f1c42",
       "version_major": 2,
       "version_minor": 0
      },
      "text/plain": [
       "Predicting: 0it [00:00, ?it/s]"
      ]
     },
     "metadata": {},
     "output_type": "display_data"
    },
    {
     "name": "stderr",
     "output_type": "stream",
     "text": [
      "Global seed set to 2\n",
      "Global seed set to 4\n",
      "GPU available: True, used: True\n",
      "TPU available: False, using: 0 TPU cores\n",
      "IPU available: False, using: 0 IPUs\n",
      "Global seed set to 0\n",
      "LOCAL_RANK: 0 - CUDA_VISIBLE_DEVICES: [0,1,2,3,4,5,6,7]\n"
     ]
    },
    {
     "name": "stdout",
     "output_type": "stream",
     "text": [
      "{'training': True, '_parameters': OrderedDict(), '_buffers': OrderedDict(), '_non_persistent_buffers_set': set(), '_backward_hooks': OrderedDict(), '_is_full_backward_hook': None, '_forward_hooks': OrderedDict(), '_forward_pre_hooks': OrderedDict(), '_state_dict_hooks': OrderedDict(), '_load_state_dict_pre_hooks': OrderedDict(), '_load_state_dict_post_hooks': OrderedDict(), '_modules': OrderedDict([('linear', Linear(in_features=8, out_features=102, bias=True))]), 'neuron_indices': tensor([1146, 1581,   87, 1321, 1741, 1387, 1081, 1563])}\n"
     ]
    },
    {
     "data": {
      "application/vnd.jupyter.widget-view+json": {
       "model_id": "a0f215a23f034d8794c6145ec97af592",
       "version_major": 2,
       "version_minor": 0
      },
      "text/plain": [
       "Predicting: 0it [00:00, ?it/s]"
      ]
     },
     "metadata": {},
     "output_type": "display_data"
    },
    {
     "name": "stderr",
     "output_type": "stream",
     "text": [
      "Global seed set to 2\n",
      "Global seed set to 4\n",
      "GPU available: True, used: True\n",
      "TPU available: False, using: 0 TPU cores\n",
      "IPU available: False, using: 0 IPUs\n",
      "Global seed set to 0\n",
      "LOCAL_RANK: 0 - CUDA_VISIBLE_DEVICES: [0,1,2,3,4,5,6,7]\n"
     ]
    },
    {
     "name": "stdout",
     "output_type": "stream",
     "text": [
      "{'training': True, '_parameters': OrderedDict(), '_buffers': OrderedDict(), '_non_persistent_buffers_set': set(), '_backward_hooks': OrderedDict(), '_is_full_backward_hook': None, '_forward_hooks': OrderedDict(), '_forward_pre_hooks': OrderedDict(), '_state_dict_hooks': OrderedDict(), '_load_state_dict_pre_hooks': OrderedDict(), '_load_state_dict_post_hooks': OrderedDict(), '_modules': OrderedDict([('linear', Linear(in_features=10, out_features=102, bias=True))]), 'neuron_indices': tensor([1146, 1581,   87, 1321, 1741, 1387, 1081, 1563, 1250, 1187])}\n"
     ]
    },
    {
     "data": {
      "application/vnd.jupyter.widget-view+json": {
       "model_id": "28c540101e7f46378fa02ff810928475",
       "version_major": 2,
       "version_minor": 0
      },
      "text/plain": [
       "Predicting: 0it [00:00, ?it/s]"
      ]
     },
     "metadata": {},
     "output_type": "display_data"
    },
    {
     "name": "stderr",
     "output_type": "stream",
     "text": [
      "Global seed set to 2\n",
      "Global seed set to 4\n",
      "GPU available: True, used: True\n",
      "TPU available: False, using: 0 TPU cores\n",
      "IPU available: False, using: 0 IPUs\n",
      "Global seed set to 0\n"
     ]
    },
    {
     "name": "stdout",
     "output_type": "stream",
     "text": [
      "{'training': True, '_parameters': OrderedDict(), '_buffers': OrderedDict(), '_non_persistent_buffers_set': set(), '_backward_hooks': OrderedDict(), '_is_full_backward_hook': None, '_forward_hooks': OrderedDict(), '_forward_pre_hooks': OrderedDict(), '_state_dict_hooks': OrderedDict(), '_load_state_dict_pre_hooks': OrderedDict(), '_load_state_dict_post_hooks': OrderedDict(), '_modules': OrderedDict([('linear', Linear(in_features=20, out_features=102, bias=True))]), 'neuron_indices': tensor([1146, 1581,   87, 1321, 1741, 1387, 1081, 1563, 1250, 1187,  300, 1906,\n",
      "         199, 1576, 1494,  602, 1975, 1614,  148,  181])}\n"
     ]
    },
    {
     "name": "stderr",
     "output_type": "stream",
     "text": [
      "LOCAL_RANK: 0 - CUDA_VISIBLE_DEVICES: [0,1,2,3,4,5,6,7]\n"
     ]
    },
    {
     "data": {
      "application/vnd.jupyter.widget-view+json": {
       "model_id": "943839405af04a15812a8b7c54eb8d02",
       "version_major": 2,
       "version_minor": 0
      },
      "text/plain": [
       "Predicting: 0it [00:00, ?it/s]"
      ]
     },
     "metadata": {},
     "output_type": "display_data"
    },
    {
     "name": "stderr",
     "output_type": "stream",
     "text": [
      "Global seed set to 2\n",
      "Global seed set to 4\n",
      "GPU available: True, used: True\n",
      "TPU available: False, using: 0 TPU cores\n",
      "IPU available: False, using: 0 IPUs\n",
      "Global seed set to 0\n",
      "LOCAL_RANK: 0 - CUDA_VISIBLE_DEVICES: [0,1,2,3,4,5,6,7]\n"
     ]
    },
    {
     "name": "stdout",
     "output_type": "stream",
     "text": [
      "{'training': True, '_parameters': OrderedDict(), '_buffers': OrderedDict(), '_non_persistent_buffers_set': set(), '_backward_hooks': OrderedDict(), '_is_full_backward_hook': None, '_forward_hooks': OrderedDict(), '_forward_pre_hooks': OrderedDict(), '_state_dict_hooks': OrderedDict(), '_load_state_dict_pre_hooks': OrderedDict(), '_load_state_dict_post_hooks': OrderedDict(), '_modules': OrderedDict([('linear', Linear(in_features=102, out_features=102, bias=True))]), 'neuron_indices': tensor([1146, 1581,   87, 1321, 1741, 1387, 1081, 1563, 1250, 1187,  300, 1906,\n",
      "         199, 1576, 1494,  602, 1975, 1614,  148,  181, 1314, 1264,  938, 1662,\n",
      "         834,  926,  859, 1417, 1827,  540, 1983,  948,  710,  410, 1672, 1043,\n",
      "         818, 1198, 1493, 1802,  544, 1698, 1638, 1327, 1699, 1633, 1280, 1218,\n",
      "        1866, 1828, 2001,  337, 1098, 1331, 1902,  170, 1850,  599,  405, 1739,\n",
      "        1411, 1458, 1925, 1115, 1745,   42, 1277, 1310,  709,  273, 2008, 1637,\n",
      "         311,  290,  832,  785,  387, 1021,  668, 1654,  855,  334,  110, 1580,\n",
      "         415,  504, 1074,  824, 1809,  958, 1013,  511,  939, 1943, 1369, 1031,\n",
      "         335, 1788, 1611,  916, 1519,  736])}\n"
     ]
    },
    {
     "data": {
      "application/vnd.jupyter.widget-view+json": {
       "model_id": "3b287f22ea9747209cc5b410c5b5ee48",
       "version_major": 2,
       "version_minor": 0
      },
      "text/plain": [
       "Predicting: 0it [00:00, ?it/s]"
      ]
     },
     "metadata": {},
     "output_type": "display_data"
    },
    {
     "name": "stderr",
     "output_type": "stream",
     "text": [
      "Global seed set to 2\n",
      "Global seed set to 4\n",
      "GPU available: True, used: True\n",
      "TPU available: False, using: 0 TPU cores\n",
      "IPU available: False, using: 0 IPUs\n",
      "Global seed set to 0\n",
      "LOCAL_RANK: 0 - CUDA_VISIBLE_DEVICES: [0,1,2,3,4,5,6,7]\n"
     ]
    },
    {
     "name": "stdout",
     "output_type": "stream",
     "text": [
      "{'training': True, '_parameters': OrderedDict(), '_buffers': OrderedDict(), '_non_persistent_buffers_set': set(), '_backward_hooks': OrderedDict(), '_is_full_backward_hook': None, '_forward_hooks': OrderedDict(), '_forward_pre_hooks': OrderedDict(), '_state_dict_hooks': OrderedDict(), '_load_state_dict_pre_hooks': OrderedDict(), '_load_state_dict_post_hooks': OrderedDict(), '_modules': OrderedDict([('linear', Linear(in_features=204, out_features=102, bias=True))]), 'neuron_indices': tensor([1146, 1581,   87, 1321, 1741, 1387, 1081, 1563, 1250, 1187,  300, 1906,\n",
      "         199, 1576, 1494,  602, 1975, 1614,  148,  181, 1314, 1264,  938, 1662,\n",
      "         834,  926,  859, 1417, 1827,  540, 1983,  948,  710,  410, 1672, 1043,\n",
      "         818, 1198, 1493, 1802,  544, 1698, 1638, 1327, 1699, 1633, 1280, 1218,\n",
      "        1866, 1828, 2001,  337, 1098, 1331, 1902,  170, 1850,  599,  405, 1739,\n",
      "        1411, 1458, 1925, 1115, 1745,   42, 1277, 1310,  709,  273, 2008, 1637,\n",
      "         311,  290,  832,  785,  387, 1021,  668, 1654,  855,  334,  110, 1580,\n",
      "         415,  504, 1074,  824, 1809,  958, 1013,  511,  939, 1943, 1369, 1031,\n",
      "         335, 1788, 1611,  916, 1519,  736, 1974, 1055, 1509,  276, 1713, 1544,\n",
      "        1537, 1727, 1725, 1985, 1406, 1510,  282, 1222, 1196,  474,  465,  852,\n",
      "         153,  568, 1189, 1306, 1377, 1035, 1996, 1414,  955,  195, 1670,   19,\n",
      "         112,   66,   52,  510,  144, 1805,  847, 1239, 1338, 2035,  114,  417,\n",
      "         865,  437,  431,  947,   80, 1551,  737,  635, 2029, 1930, 1710,  842,\n",
      "        1595,  378, 1496, 1733,   91, 1648, 1311, 1152,  655, 1959,  662, 1765,\n",
      "         823, 1847, 1069,  426,  726, 1080, 1970, 1285,  623, 1562, 1931, 1071,\n",
      "         845, 1178,  516,   68,  906,    2,  177, 1270,  867,  218,  147,  119,\n",
      "         918,  631,   62, 1320,  959,  492,  828, 1195, 1110, 1771,  355,  775])}\n"
     ]
    },
    {
     "data": {
      "application/vnd.jupyter.widget-view+json": {
       "model_id": "cd8e2aaeee4d45deb18cecc1acb108ea",
       "version_major": 2,
       "version_minor": 0
      },
      "text/plain": [
       "Predicting: 0it [00:00, ?it/s]"
      ]
     },
     "metadata": {},
     "output_type": "display_data"
    },
    {
     "name": "stderr",
     "output_type": "stream",
     "text": [
      "Global seed set to 2\n",
      "Global seed set to 4\n",
      "GPU available: True, used: True\n",
      "TPU available: False, using: 0 TPU cores\n",
      "IPU available: False, using: 0 IPUs\n",
      "Global seed set to 0\n",
      "LOCAL_RANK: 0 - CUDA_VISIBLE_DEVICES: [0,1,2,3,4,5,6,7]\n"
     ]
    },
    {
     "name": "stdout",
     "output_type": "stream",
     "text": [
      "{'training': True, '_parameters': OrderedDict(), '_buffers': OrderedDict(), '_non_persistent_buffers_set': set(), '_backward_hooks': OrderedDict(), '_is_full_backward_hook': None, '_forward_hooks': OrderedDict(), '_forward_pre_hooks': OrderedDict(), '_state_dict_hooks': OrderedDict(), '_load_state_dict_pre_hooks': OrderedDict(), '_load_state_dict_post_hooks': OrderedDict(), '_modules': OrderedDict([('linear', Linear(in_features=409, out_features=102, bias=True))]), 'neuron_indices': tensor([1146, 1581,   87, 1321, 1741, 1387, 1081, 1563, 1250, 1187,  300, 1906,\n",
      "         199, 1576, 1494,  602, 1975, 1614,  148,  181, 1314, 1264,  938, 1662,\n",
      "         834,  926,  859, 1417, 1827,  540, 1983,  948,  710,  410, 1672, 1043,\n",
      "         818, 1198, 1493, 1802,  544, 1698, 1638, 1327, 1699, 1633, 1280, 1218,\n",
      "        1866, 1828, 2001,  337, 1098, 1331, 1902,  170, 1850,  599,  405, 1739,\n",
      "        1411, 1458, 1925, 1115, 1745,   42, 1277, 1310,  709,  273, 2008, 1637,\n",
      "         311,  290,  832,  785,  387, 1021,  668, 1654,  855,  334,  110, 1580,\n",
      "         415,  504, 1074,  824, 1809,  958, 1013,  511,  939, 1943, 1369, 1031,\n",
      "         335, 1788, 1611,  916, 1519,  736, 1974, 1055, 1509,  276, 1713, 1544,\n",
      "        1537, 1727, 1725, 1985, 1406, 1510,  282, 1222, 1196,  474,  465,  852,\n",
      "         153,  568, 1189, 1306, 1377, 1035, 1996, 1414,  955,  195, 1670,   19,\n",
      "         112,   66,   52,  510,  144, 1805,  847, 1239, 1338, 2035,  114,  417,\n",
      "         865,  437,  431,  947,   80, 1551,  737,  635, 2029, 1930, 1710,  842,\n",
      "        1595,  378, 1496, 1733,   91, 1648, 1311, 1152,  655, 1959,  662, 1765,\n",
      "         823, 1847, 1069,  426,  726, 1080, 1970, 1285,  623, 1562, 1931, 1071,\n",
      "         845, 1178,  516,   68,  906,    2,  177, 1270,  867,  218,  147,  119,\n",
      "         918,  631,   62, 1320,  959,  492,  828, 1195, 1110, 1771,  355,  775,\n",
      "         173,   86,  647, 1630,  581,  105, 1201, 1966,  527, 1701, 1675, 1173,\n",
      "        1816,    1,  951, 1288,  896,  887, 1896,  289, 2032, 1303,  954, 1168,\n",
      "         133,  930, 1808, 1524, 2020,  820,  741,  283, 1476,  407, 1151, 1518,\n",
      "         142,  450,  858,  408,  319, 1386, 1265,  722, 1617,  621, 1240, 1009,\n",
      "        1732, 1372, 1640, 1702,  240,  210,  255,  553,  753,  468, 1301,  976,\n",
      "        1337, 1342,  843, 1365,  303,  777,  520, 1293, 1020, 1143, 1786,  788,\n",
      "        1005,   10, 1167, 1803,  713, 1216,  121, 1207, 1261,  934, 1955, 1598,\n",
      "         985, 1875, 1502, 1230, 1144,  490,   57, 1273,  780, 1374,  102,  473,\n",
      "        1034, 1977, 1241, 1871,   96, 2034, 1536,  681,    6, 1659, 2027, 1122,\n",
      "         284, 1260,  275, 1245, 1096, 1861, 1099,  745, 1028,  725,  927,  344,\n",
      "         131,  503,  440,  667, 1166, 1204, 1813,  758,  917, 1419, 1107,  430,\n",
      "        1874,  178, 1892, 1139,  302, 1619, 2039, 1284,  392, 1907,  116,  377,\n",
      "        1729, 1319, 1312,  577, 1607,  749,  658, 1763,  214, 1299,  549, 1333,\n",
      "         307, 1717, 1738,   50,  804,  230,  691,  727, 1486, 1413, 1127,  358,\n",
      "        1389, 1910, 1466,  375, 1036,  506,  489, 1401,  811, 1163, 1488,  628,\n",
      "         750,  966, 1552, 1831, 1451, 1799,  399, 1665, 1318,  505,  308, 1422,\n",
      "         422, 1646,  701, 1722,  455,  404,  773, 1209,  822,  898,   40, 1171,\n",
      "         363])}\n"
     ]
    },
    {
     "data": {
      "application/vnd.jupyter.widget-view+json": {
       "model_id": "d1d85083f2164f55b7368b9e9d7030d7",
       "version_major": 2,
       "version_minor": 0
      },
      "text/plain": [
       "Predicting: 0it [00:00, ?it/s]"
      ]
     },
     "metadata": {},
     "output_type": "display_data"
    },
    {
     "name": "stderr",
     "output_type": "stream",
     "text": [
      "Global seed set to 2\n",
      "Global seed set to 4\n",
      "GPU available: True, used: True\n",
      "TPU available: False, using: 0 TPU cores\n",
      "IPU available: False, using: 0 IPUs\n",
      "Global seed set to 0\n",
      "LOCAL_RANK: 0 - CUDA_VISIBLE_DEVICES: [0,1,2,3,4,5,6,7]\n"
     ]
    },
    {
     "name": "stdout",
     "output_type": "stream",
     "text": [
      "{'training': True, '_parameters': OrderedDict(), '_buffers': OrderedDict(), '_non_persistent_buffers_set': set(), '_backward_hooks': OrderedDict(), '_is_full_backward_hook': None, '_forward_hooks': OrderedDict(), '_forward_pre_hooks': OrderedDict(), '_state_dict_hooks': OrderedDict(), '_load_state_dict_pre_hooks': OrderedDict(), '_load_state_dict_post_hooks': OrderedDict(), '_modules': OrderedDict([('linear', Linear(in_features=614, out_features=102, bias=True))]), 'neuron_indices': tensor([1146, 1581,   87, 1321, 1741, 1387, 1081, 1563, 1250, 1187,  300, 1906,\n",
      "         199, 1576, 1494,  602, 1975, 1614,  148,  181, 1314, 1264,  938, 1662,\n",
      "         834,  926,  859, 1417, 1827,  540, 1983,  948,  710,  410, 1672, 1043,\n",
      "         818, 1198, 1493, 1802,  544, 1698, 1638, 1327, 1699, 1633, 1280, 1218,\n",
      "        1866, 1828, 2001,  337, 1098, 1331, 1902,  170, 1850,  599,  405, 1739,\n",
      "        1411, 1458, 1925, 1115, 1745,   42, 1277, 1310,  709,  273, 2008, 1637,\n",
      "         311,  290,  832,  785,  387, 1021,  668, 1654,  855,  334,  110, 1580,\n",
      "         415,  504, 1074,  824, 1809,  958, 1013,  511,  939, 1943, 1369, 1031,\n",
      "         335, 1788, 1611,  916, 1519,  736, 1974, 1055, 1509,  276, 1713, 1544,\n",
      "        1537, 1727, 1725, 1985, 1406, 1510,  282, 1222, 1196,  474,  465,  852,\n",
      "         153,  568, 1189, 1306, 1377, 1035, 1996, 1414,  955,  195, 1670,   19,\n",
      "         112,   66,   52,  510,  144, 1805,  847, 1239, 1338, 2035,  114,  417,\n",
      "         865,  437,  431,  947,   80, 1551,  737,  635, 2029, 1930, 1710,  842,\n",
      "        1595,  378, 1496, 1733,   91, 1648, 1311, 1152,  655, 1959,  662, 1765,\n",
      "         823, 1847, 1069,  426,  726, 1080, 1970, 1285,  623, 1562, 1931, 1071,\n",
      "         845, 1178,  516,   68,  906,    2,  177, 1270,  867,  218,  147,  119,\n",
      "         918,  631,   62, 1320,  959,  492,  828, 1195, 1110, 1771,  355,  775,\n",
      "         173,   86,  647, 1630,  581,  105, 1201, 1966,  527, 1701, 1675, 1173,\n",
      "        1816,    1,  951, 1288,  896,  887, 1896,  289, 2032, 1303,  954, 1168,\n",
      "         133,  930, 1808, 1524, 2020,  820,  741,  283, 1476,  407, 1151, 1518,\n",
      "         142,  450,  858,  408,  319, 1386, 1265,  722, 1617,  621, 1240, 1009,\n",
      "        1732, 1372, 1640, 1702,  240,  210,  255,  553,  753,  468, 1301,  976,\n",
      "        1337, 1342,  843, 1365,  303,  777,  520, 1293, 1020, 1143, 1786,  788,\n",
      "        1005,   10, 1167, 1803,  713, 1216,  121, 1207, 1261,  934, 1955, 1598,\n",
      "         985, 1875, 1502, 1230, 1144,  490,   57, 1273,  780, 1374,  102,  473,\n",
      "        1034, 1977, 1241, 1871,   96, 2034, 1536,  681,    6, 1659, 2027, 1122,\n",
      "         284, 1260,  275, 1245, 1096, 1861, 1099,  745, 1028,  725,  927,  344,\n",
      "         131,  503,  440,  667, 1166, 1204, 1813,  758,  917, 1419, 1107,  430,\n",
      "        1874,  178, 1892, 1139,  302, 1619, 2039, 1284,  392, 1907,  116,  377,\n",
      "        1729, 1319, 1312,  577, 1607,  749,  658, 1763,  214, 1299,  549, 1333,\n",
      "         307, 1717, 1738,   50,  804,  230,  691,  727, 1486, 1413, 1127,  358,\n",
      "        1389, 1910, 1466,  375, 1036,  506,  489, 1401,  811, 1163, 1488,  628,\n",
      "         750,  966, 1552, 1831, 1451, 1799,  399, 1665, 1318,  505,  308, 1422,\n",
      "         422, 1646,  701, 1722,  455,  404,  773, 1209,  822,  898,   40, 1171,\n",
      "         363, 1656, 1990, 1024, 1089,  151,  915, 1503,  124, 1227,  724,  835,\n",
      "        2016,  369, 1047, 1251,  265,  903,  965, 1412, 1049, 1574,  388, 2028,\n",
      "        1269, 1016,  794,  164,   55,  433,  921, 1731,  157,  650, 1102,  361,\n",
      "        1950, 1423, 1500, 1857,  559, 1819,  100, 1904,  539,  587, 1751,  669,\n",
      "         808,   78,  626, 1103, 1348, 1571,  932,  684, 1801, 1810,  755, 1463,\n",
      "        1756,  281,  183,  908,  717, 1007,  768,  836, 1995,  732,   36,  570,\n",
      "        1653, 1632,  385,  584, 1775, 2046,  233, 1603,  462, 1682,  826,  952,\n",
      "         442, 1443, 1597, 1307,  258, 1666,  610,  379, 1084, 2009,  253,  671,\n",
      "        1929, 1172,  708, 1923, 1217,  349,  673,  497, 1433,  574, 1714,  432,\n",
      "        1556,  620,  909,  321,  306,  967,   18,   64,  309, 1558,  792,  840,\n",
      "         876,  793,  619,  770, 1853,  428,   85,  356, 1833,  320,  326,  692,\n",
      "        1029, 1448, 1940,  254, 1057, 2045, 1769,  678,  139,   89, 1001,  534,\n",
      "          99, 1046,   51, 1134, 1491, 1002,  653,  165,  945, 1795, 1117, 1620,\n",
      "        1498, 1649,  663, 1600, 1453,  277, 1233, 1392,  812,  595, 1092, 1612,\n",
      "         382, 1863, 1297, 1471,  884, 1900, 1881, 1527, 1532, 1206,   71, 1148,\n",
      "         984,  627, 1482,  586,  698, 1604,  815, 1700, 1671,  656,  508,  458,\n",
      "         936,    9,  108, 1111,  998,  530, 1542, 1590, 1180,  548, 1998,  969,\n",
      "        1116, 1565])}\n"
     ]
    },
    {
     "data": {
      "application/vnd.jupyter.widget-view+json": {
       "model_id": "c2827c5bb5614c01b9cf84bf0f2ccd26",
       "version_major": 2,
       "version_minor": 0
      },
      "text/plain": [
       "Predicting: 0it [00:00, ?it/s]"
      ]
     },
     "metadata": {},
     "output_type": "display_data"
    },
    {
     "name": "stderr",
     "output_type": "stream",
     "text": [
      "Global seed set to 2\n",
      "Global seed set to 4\n",
      "GPU available: True, used: True\n",
      "TPU available: False, using: 0 TPU cores\n",
      "IPU available: False, using: 0 IPUs\n",
      "Global seed set to 0\n",
      "LOCAL_RANK: 0 - CUDA_VISIBLE_DEVICES: [0,1,2,3,4,5,6,7]\n"
     ]
    },
    {
     "name": "stdout",
     "output_type": "stream",
     "text": [
      "{'training': True, '_parameters': OrderedDict(), '_buffers': OrderedDict(), '_non_persistent_buffers_set': set(), '_backward_hooks': OrderedDict(), '_is_full_backward_hook': None, '_forward_hooks': OrderedDict(), '_forward_pre_hooks': OrderedDict(), '_state_dict_hooks': OrderedDict(), '_load_state_dict_pre_hooks': OrderedDict(), '_load_state_dict_post_hooks': OrderedDict(), '_modules': OrderedDict([('linear', Linear(in_features=1024, out_features=102, bias=True))]), 'neuron_indices': tensor([1146, 1581,   87,  ...,  704,  766, 1596])}\n"
     ]
    },
    {
     "data": {
      "application/vnd.jupyter.widget-view+json": {
       "model_id": "479a3069861a40acb2c38f3da71875fb",
       "version_major": 2,
       "version_minor": 0
      },
      "text/plain": [
       "Predicting: 0it [00:00, ?it/s]"
      ]
     },
     "metadata": {},
     "output_type": "display_data"
    },
    {
     "name": "stderr",
     "output_type": "stream",
     "text": [
      "Global seed set to 2\n",
      "Global seed set to 4\n",
      "GPU available: True, used: True\n",
      "TPU available: False, using: 0 TPU cores\n",
      "IPU available: False, using: 0 IPUs\n",
      "Global seed set to 0\n",
      "LOCAL_RANK: 0 - CUDA_VISIBLE_DEVICES: [0,1,2,3,4,5,6,7]\n"
     ]
    },
    {
     "name": "stdout",
     "output_type": "stream",
     "text": [
      "{'training': True, '_parameters': OrderedDict(), '_buffers': OrderedDict(), '_non_persistent_buffers_set': set(), '_backward_hooks': OrderedDict(), '_is_full_backward_hook': None, '_forward_hooks': OrderedDict(), '_forward_pre_hooks': OrderedDict(), '_state_dict_hooks': OrderedDict(), '_load_state_dict_pre_hooks': OrderedDict(), '_load_state_dict_post_hooks': OrderedDict(), '_modules': OrderedDict([('linear', Linear(in_features=1638, out_features=102, bias=True))]), 'neuron_indices': tensor([1146, 1581,   87,  ...,  231, 1078,  854])}\n"
     ]
    },
    {
     "data": {
      "application/vnd.jupyter.widget-view+json": {
       "model_id": "e1eb1d2b7bce49d5ad8e0e39bc64b48a",
       "version_major": 2,
       "version_minor": 0
      },
      "text/plain": [
       "Predicting: 0it [00:00, ?it/s]"
      ]
     },
     "metadata": {},
     "output_type": "display_data"
    },
    {
     "name": "stderr",
     "output_type": "stream",
     "text": [
      "Global seed set to 2\n",
      "Global seed set to 4\n",
      "GPU available: True, used: True\n",
      "TPU available: False, using: 0 TPU cores\n",
      "IPU available: False, using: 0 IPUs\n",
      "Global seed set to 0\n"
     ]
    },
    {
     "name": "stdout",
     "output_type": "stream",
     "text": [
      "{'training': True, '_parameters': OrderedDict(), '_buffers': OrderedDict(), '_non_persistent_buffers_set': set(), '_backward_hooks': OrderedDict(), '_is_full_backward_hook': None, '_forward_hooks': OrderedDict(), '_forward_pre_hooks': OrderedDict(), '_state_dict_hooks': OrderedDict(), '_load_state_dict_pre_hooks': OrderedDict(), '_load_state_dict_post_hooks': OrderedDict(), '_modules': OrderedDict([('linear', Linear(in_features=1843, out_features=102, bias=True))]), 'neuron_indices': tensor([1146, 1581,   87,  ...,  643, 1368, 1454])}\n"
     ]
    },
    {
     "name": "stderr",
     "output_type": "stream",
     "text": [
      "LOCAL_RANK: 0 - CUDA_VISIBLE_DEVICES: [0,1,2,3,4,5,6,7]\n"
     ]
    },
    {
     "data": {
      "application/vnd.jupyter.widget-view+json": {
       "model_id": "991b4ebb25d94f6294e21d864fcc5475",
       "version_major": 2,
       "version_minor": 0
      },
      "text/plain": [
       "Predicting: 0it [00:00, ?it/s]"
      ]
     },
     "metadata": {},
     "output_type": "display_data"
    },
    {
     "name": "stderr",
     "output_type": "stream",
     "text": [
      "Global seed set to 2\n",
      "Global seed set to 5\n",
      "GPU available: True, used: True\n",
      "TPU available: False, using: 0 TPU cores\n",
      "IPU available: False, using: 0 IPUs\n",
      "Global seed set to 0\n",
      "LOCAL_RANK: 0 - CUDA_VISIBLE_DEVICES: [0,1,2,3,4,5,6,7]\n"
     ]
    },
    {
     "name": "stdout",
     "output_type": "stream",
     "text": [
      "{'training': True, '_parameters': OrderedDict(), '_buffers': OrderedDict(), '_non_persistent_buffers_set': set(), '_backward_hooks': OrderedDict(), '_is_full_backward_hook': None, '_forward_hooks': OrderedDict(), '_forward_pre_hooks': OrderedDict(), '_state_dict_hooks': OrderedDict(), '_load_state_dict_pre_hooks': OrderedDict(), '_load_state_dict_post_hooks': OrderedDict(), '_modules': OrderedDict([('linear', Linear(in_features=1, out_features=102, bias=True))]), 'neuron_indices': tensor([867])}\n"
     ]
    },
    {
     "data": {
      "application/vnd.jupyter.widget-view+json": {
       "model_id": "f925fe22b08f4a6591021e1936778342",
       "version_major": 2,
       "version_minor": 0
      },
      "text/plain": [
       "Predicting: 0it [00:00, ?it/s]"
      ]
     },
     "metadata": {},
     "output_type": "display_data"
    },
    {
     "data": {
      "image/png": "[encoded data removed]",
      "text/plain": [
       "<Figure size 720x432 with 1 Axes>"
      ]
     },
     "metadata": {},
     "output_type": "display_data"
    },
    {
     "name": "stderr",
     "output_type": "stream",
     "text": [
      "Global seed set to 2\n"
     ]
    },
    {
     "name": "stdout",
     "output_type": "stream",
     "text": [
      "flowers {0.0005: [0.009830985218286514, 0.01665923371911049, 0.014221671968698502, 0.013718011789023876, 0.015179011970758438], 0.001: [0.013698788359761238, 0.012257013469934464, 0.014187069609761238, 0.015205923467874527], 0.002: [0.014221671968698502, 0.01963505893945694, 0.017185963690280914, 0.017616571858525276], 0.003: [0.017612727358937263, 0.022510919719934464, 0.021061453968286514, 0.022038016468286514], 0.004: [0.0274360254406929, 0.03771299868822098, 0.028950847685337067, 0.024483267217874527], 0.005: [0.03526005893945694, 0.03529081493616104, 0.046559736132621765, 0.019573543220758438], 0.01: [0.0711045116186142, 0.08043568581342697, 0.0759565681219101, 0.07838644087314606], 0.05: [0.4238819479942322, 0.4023206830024719, 0.4704263210296631, 0.46700066328048706], 0.1: [0.5974985957145691, 0.6043345332145691, 0.6130735874176025, 0.6165608167648315], 0.2: [0.7215105295181274, 0.7263933420181274, 0.7230215072631836, 0.7367357015609741], 0.3: [0.7714959383010864, 0.7656518816947937, 0.7592196464538574, 0.7769016027450562], 0.5: [0.804875910282135, 0.8068059682846069, 0.8028651475906372, 0.805371880531311], 0.8: [0.8308432698249817, 0.8333154320716858, 0.8377060890197754, 0.8352339267730713], 0.9: [0.8391786217689514, 0.8396938443183899, 0.8426312208175659, 0.8450956344604492]}\n"
     ]
    },
    {
     "name": "stderr",
     "output_type": "stream",
     "text": [
      "Global seed set to 1\n",
      "GPU available: True, used: True\n",
      "TPU available: False, using: 0 TPU cores\n",
      "IPU available: False, using: 0 IPUs\n",
      "Global seed set to 0\n",
      "LOCAL_RANK: 0 - CUDA_VISIBLE_DEVICES: [0,1,2,3,4,5,6,7]\n"
     ]
    },
    {
     "name": "stdout",
     "output_type": "stream",
     "text": [
      "{'training': True, '_parameters': OrderedDict(), '_buffers': OrderedDict(), '_non_persistent_buffers_set': set(), '_backward_hooks': OrderedDict(), '_is_full_backward_hook': None, '_forward_hooks': OrderedDict(), '_forward_pre_hooks': OrderedDict(), '_state_dict_hooks': OrderedDict(), '_load_state_dict_pre_hooks': OrderedDict(), '_load_state_dict_post_hooks': OrderedDict(), '_modules': OrderedDict([('linear', Linear(in_features=1, out_features=37, bias=True))]), 'neuron_indices': tensor([1061])}\n"
     ]
    },
    {
     "data": {
      "application/vnd.jupyter.widget-view+json": {
       "model_id": "c022c2b96c914ea58a78cc6f3f5c64cd",
       "version_major": 2,
       "version_minor": 0
      },
      "text/plain": [
       "Predicting: 0it [00:00, ?it/s]"
      ]
     },
     "metadata": {},
     "output_type": "display_data"
    },
    {
     "name": "stderr",
     "output_type": "stream",
     "text": [
      "Global seed set to 2\n",
      "Global seed set to 1\n",
      "GPU available: True, used: True\n",
      "TPU available: False, using: 0 TPU cores\n",
      "IPU available: False, using: 0 IPUs\n",
      "Global seed set to 0\n"
     ]
    },
    {
     "name": "stdout",
     "output_type": "stream",
     "text": [
      "{'training': True, '_parameters': OrderedDict(), '_buffers': OrderedDict(), '_non_persistent_buffers_set': set(), '_backward_hooks': OrderedDict(), '_is_full_backward_hook': None, '_forward_hooks': OrderedDict(), '_forward_pre_hooks': OrderedDict(), '_state_dict_hooks': OrderedDict(), '_load_state_dict_pre_hooks': OrderedDict(), '_load_state_dict_post_hooks': OrderedDict(), '_modules': OrderedDict([('linear', Linear(in_features=2, out_features=37, bias=True))]), 'neuron_indices': tensor([1061, 1497])}\n"
     ]
    },
    {
     "name": "stderr",
     "output_type": "stream",
     "text": [
      "LOCAL_RANK: 0 - CUDA_VISIBLE_DEVICES: [0,1,2,3,4,5,6,7]\n"
     ]
    },
    {
     "data": {
      "application/vnd.jupyter.widget-view+json": {
       "model_id": "049fd4f818364cc099d449fc9aab264b",
       "version_major": 2,
       "version_minor": 0
      },
      "text/plain": [
       "Predicting: 0it [00:00, ?it/s]"
      ]
     },
     "metadata": {},
     "output_type": "display_data"
    },
    {
     "name": "stderr",
     "output_type": "stream",
     "text": [
      "Global seed set to 2\n",
      "Global seed set to 1\n",
      "GPU available: True, used: True\n",
      "TPU available: False, using: 0 TPU cores\n",
      "IPU available: False, using: 0 IPUs\n",
      "Global seed set to 0\n",
      "LOCAL_RANK: 0 - CUDA_VISIBLE_DEVICES: [0,1,2,3,4,5,6,7]\n"
     ]
    },
    {
     "name": "stdout",
     "output_type": "stream",
     "text": [
      "{'training': True, '_parameters': OrderedDict(), '_buffers': OrderedDict(), '_non_persistent_buffers_set': set(), '_backward_hooks': OrderedDict(), '_is_full_backward_hook': None, '_forward_hooks': OrderedDict(), '_forward_pre_hooks': OrderedDict(), '_state_dict_hooks': OrderedDict(), '_load_state_dict_pre_hooks': OrderedDict(), '_load_state_dict_post_hooks': OrderedDict(), '_modules': OrderedDict([('linear', Linear(in_features=4, out_features=37, bias=True))]), 'neuron_indices': tensor([1061, 1497, 1250, 1136])}\n"
     ]
    },
    {
     "data": {
      "application/vnd.jupyter.widget-view+json": {
       "model_id": "77249ca931c9484b93c9151c33165468",
       "version_major": 2,
       "version_minor": 0
      },
      "text/plain": [
       "Predicting: 0it [00:00, ?it/s]"
      ]
     },
     "metadata": {},
     "output_type": "display_data"
    },
    {
     "name": "stderr",
     "output_type": "stream",
     "text": [
      "Global seed set to 2\n",
      "Global seed set to 1\n",
      "GPU available: True, used: True\n",
      "TPU available: False, using: 0 TPU cores\n",
      "IPU available: False, using: 0 IPUs\n",
      "Global seed set to 0\n",
      "LOCAL_RANK: 0 - CUDA_VISIBLE_DEVICES: [0,1,2,3,4,5,6,7]\n"
     ]
    },
    {
     "name": "stdout",
     "output_type": "stream",
     "text": [
      "{'training': True, '_parameters': OrderedDict(), '_buffers': OrderedDict(), '_non_persistent_buffers_set': set(), '_backward_hooks': OrderedDict(), '_is_full_backward_hook': None, '_forward_hooks': OrderedDict(), '_forward_pre_hooks': OrderedDict(), '_state_dict_hooks': OrderedDict(), '_load_state_dict_pre_hooks': OrderedDict(), '_load_state_dict_post_hooks': OrderedDict(), '_modules': OrderedDict([('linear', Linear(in_features=6, out_features=37, bias=True))]), 'neuron_indices': tensor([1061, 1497, 1250, 1136,  707,   96])}\n"
     ]
    },
    {
     "data": {
      "application/vnd.jupyter.widget-view+json": {
       "model_id": "a44325f89427405780bf858af10fa127",
       "version_major": 2,
       "version_minor": 0
      },
      "text/plain": [
       "Predicting: 0it [00:00, ?it/s]"
      ]
     },
     "metadata": {},
     "output_type": "display_data"
    },
    {
     "name": "stderr",
     "output_type": "stream",
     "text": [
      "Global seed set to 2\n",
      "Global seed set to 1\n",
      "GPU available: True, used: True\n",
      "TPU available: False, using: 0 TPU cores\n",
      "IPU available: False, using: 0 IPUs\n",
      "Global seed set to 0\n",
      "LOCAL_RANK: 0 - CUDA_VISIBLE_DEVICES: [0,1,2,3,4,5,6,7]\n"
     ]
    },
    {
     "name": "stdout",
     "output_type": "stream",
     "text": [
      "{'training': True, '_parameters': OrderedDict(), '_buffers': OrderedDict(), '_non_persistent_buffers_set': set(), '_backward_hooks': OrderedDict(), '_is_full_backward_hook': None, '_forward_hooks': OrderedDict(), '_forward_pre_hooks': OrderedDict(), '_state_dict_hooks': OrderedDict(), '_load_state_dict_pre_hooks': OrderedDict(), '_load_state_dict_post_hooks': OrderedDict(), '_modules': OrderedDict([('linear', Linear(in_features=8, out_features=37, bias=True))]), 'neuron_indices': tensor([1061, 1497, 1250, 1136,  707,   96,  697, 1023])}\n"
     ]
    },
    {
     "data": {
      "application/vnd.jupyter.widget-view+json": {
       "model_id": "6d3fc8c4408b4f7887902d1ee9427538",
       "version_major": 2,
       "version_minor": 0
      },
      "text/plain": [
       "Predicting: 0it [00:00, ?it/s]"
      ]
     },
     "metadata": {},
     "output_type": "display_data"
    },
    {
     "name": "stderr",
     "output_type": "stream",
     "text": [
      "Global seed set to 2\n",
      "Global seed set to 1\n",
      "GPU available: True, used: True\n",
      "TPU available: False, using: 0 TPU cores\n",
      "IPU available: False, using: 0 IPUs\n",
      "Global seed set to 0\n",
      "LOCAL_RANK: 0 - CUDA_VISIBLE_DEVICES: [0,1,2,3,4,5,6,7]\n"
     ]
    },
    {
     "name": "stdout",
     "output_type": "stream",
     "text": [
      "{'training': True, '_parameters': OrderedDict(), '_buffers': OrderedDict(), '_non_persistent_buffers_set': set(), '_backward_hooks': OrderedDict(), '_is_full_backward_hook': None, '_forward_hooks': OrderedDict(), '_forward_pre_hooks': OrderedDict(), '_state_dict_hooks': OrderedDict(), '_load_state_dict_pre_hooks': OrderedDict(), '_load_state_dict_post_hooks': OrderedDict(), '_modules': OrderedDict([('linear', Linear(in_features=10, out_features=37, bias=True))]), 'neuron_indices': tensor([1061, 1497, 1250, 1136,  707,   96,  697, 1023,  727, 1780])}\n"
     ]
    },
    {
     "data": {
      "application/vnd.jupyter.widget-view+json": {
       "model_id": "1a3e179e49eb42a888c3921ff073e793",
       "version_major": 2,
       "version_minor": 0
      },
      "text/plain": [
       "Predicting: 0it [00:00, ?it/s]"
      ]
     },
     "metadata": {},
     "output_type": "display_data"
    },
    {
     "name": "stderr",
     "output_type": "stream",
     "text": [
      "Global seed set to 2\n",
      "Global seed set to 1\n",
      "GPU available: True, used: True\n",
      "TPU available: False, using: 0 TPU cores\n",
      "IPU available: False, using: 0 IPUs\n",
      "Global seed set to 0\n"
     ]
    },
    {
     "name": "stdout",
     "output_type": "stream",
     "text": [
      "{'training': True, '_parameters': OrderedDict(), '_buffers': OrderedDict(), '_non_persistent_buffers_set': set(), '_backward_hooks': OrderedDict(), '_is_full_backward_hook': None, '_forward_hooks': OrderedDict(), '_forward_pre_hooks': OrderedDict(), '_state_dict_hooks': OrderedDict(), '_load_state_dict_pre_hooks': OrderedDict(), '_load_state_dict_post_hooks': OrderedDict(), '_modules': OrderedDict([('linear', Linear(in_features=20, out_features=37, bias=True))]), 'neuron_indices': tensor([1061, 1497, 1250, 1136,  707,   96,  697, 1023,  727, 1780,  534,  563,\n",
      "         480, 1316,  873,  929, 1062, 1679,  260, 1337])}\n"
     ]
    },
    {
     "name": "stderr",
     "output_type": "stream",
     "text": [
      "LOCAL_RANK: 0 - CUDA_VISIBLE_DEVICES: [0,1,2,3,4,5,6,7]\n"
     ]
    },
    {
     "data": {
      "application/vnd.jupyter.widget-view+json": {
       "model_id": "39ae6551574140a49f61380673d8373e",
       "version_major": 2,
       "version_minor": 0
      },
      "text/plain": [
       "Predicting: 0it [00:00, ?it/s]"
      ]
     },
     "metadata": {},
     "output_type": "display_data"
    },
    {
     "name": "stderr",
     "output_type": "stream",
     "text": [
      "Global seed set to 2\n",
      "Global seed set to 1\n",
      "GPU available: True, used: True\n",
      "TPU available: False, using: 0 TPU cores\n",
      "IPU available: False, using: 0 IPUs\n",
      "Global seed set to 0\n",
      "LOCAL_RANK: 0 - CUDA_VISIBLE_DEVICES: [0,1,2,3,4,5,6,7]\n"
     ]
    },
    {
     "name": "stdout",
     "output_type": "stream",
     "text": [
      "{'training': True, '_parameters': OrderedDict(), '_buffers': OrderedDict(), '_non_persistent_buffers_set': set(), '_backward_hooks': OrderedDict(), '_is_full_backward_hook': None, '_forward_hooks': OrderedDict(), '_forward_pre_hooks': OrderedDict(), '_state_dict_hooks': OrderedDict(), '_load_state_dict_pre_hooks': OrderedDict(), '_load_state_dict_post_hooks': OrderedDict(), '_modules': OrderedDict([('linear', Linear(in_features=102, out_features=37, bias=True))]), 'neuron_indices': tensor([1061, 1497, 1250, 1136,  707,   96,  697, 1023,  727, 1780,  534,  563,\n",
      "         480, 1316,  873,  929, 1062, 1679,  260, 1337,  818, 1238, 1430, 1452,\n",
      "        1323, 1661,  750,  989,  217,  228,  498,   35, 1847, 1786,  453, 2036,\n",
      "        1179,  173,  400, 1548, 1893,  766, 1191, 1221, 1751, 1523,  512,  128,\n",
      "         769,  259,  566,  678,   47, 1493, 1801, 1781, 1543, 1833,  125, 1088,\n",
      "         182,  163, 1265, 1396,  533, 1634, 2045,  508, 1680, 1971, 1599,  667,\n",
      "         812,  315,  798,  111,  909,  134,  987, 1401, 1055, 1578,  700,  713,\n",
      "         227, 1763, 1101, 1063,  434, 1463,  122,  598, 1809,  490,  487,  410,\n",
      "         855, 1126,  250, 1174,  953,  925])}\n"
     ]
    },
    {
     "data": {
      "application/vnd.jupyter.widget-view+json": {
       "model_id": "f5a58afa480d4ebba4df8b98c86c49be",
       "version_major": 2,
       "version_minor": 0
      },
      "text/plain": [
       "Predicting: 0it [00:00, ?it/s]"
      ]
     },
     "metadata": {},
     "output_type": "display_data"
    },
    {
     "name": "stderr",
     "output_type": "stream",
     "text": [
      "Global seed set to 2\n",
      "Global seed set to 1\n",
      "GPU available: True, used: True\n",
      "TPU available: False, using: 0 TPU cores\n",
      "IPU available: False, using: 0 IPUs\n",
      "Global seed set to 0\n",
      "LOCAL_RANK: 0 - CUDA_VISIBLE_DEVICES: [0,1,2,3,4,5,6,7]\n"
     ]
    },
    {
     "name": "stdout",
     "output_type": "stream",
     "text": [
      "{'training': True, '_parameters': OrderedDict(), '_buffers': OrderedDict(), '_non_persistent_buffers_set': set(), '_backward_hooks': OrderedDict(), '_is_full_backward_hook': None, '_forward_hooks': OrderedDict(), '_forward_pre_hooks': OrderedDict(), '_state_dict_hooks': OrderedDict(), '_load_state_dict_pre_hooks': OrderedDict(), '_load_state_dict_post_hooks': OrderedDict(), '_modules': OrderedDict([('linear', Linear(in_features=204, out_features=37, bias=True))]), 'neuron_indices': tensor([1061, 1497, 1250, 1136,  707,   96,  697, 1023,  727, 1780,  534,  563,\n",
      "         480, 1316,  873,  929, 1062, 1679,  260, 1337,  818, 1238, 1430, 1452,\n",
      "        1323, 1661,  750,  989,  217,  228,  498,   35, 1847, 1786,  453, 2036,\n",
      "        1179,  173,  400, 1548, 1893,  766, 1191, 1221, 1751, 1523,  512,  128,\n",
      "         769,  259,  566,  678,   47, 1493, 1801, 1781, 1543, 1833,  125, 1088,\n",
      "         182,  163, 1265, 1396,  533, 1634, 2045,  508, 1680, 1971, 1599,  667,\n",
      "         812,  315,  798,  111,  909,  134,  987, 1401, 1055, 1578,  700,  713,\n",
      "         227, 1763, 1101, 1063,  434, 1463,  122,  598, 1809,  490,  487,  410,\n",
      "         855, 1126,  250, 1174,  953,  925, 1465, 1704, 1224,  331, 1020, 1297,\n",
      "         395, 1490,  675,  985, 1017, 1262,  633, 1468,  614, 1013,  936,   22,\n",
      "         848,  689,  349,  540,   75, 1972,  571,   74, 2040, 1123,  139,  922,\n",
      "        1012,  902,  240, 1987, 1676, 1046,  237, 1149, 1631,    5, 1190,  853,\n",
      "         188,  218,  542, 1778,  344, 1758, 1161,  977, 1820,   99,  654,  356,\n",
      "        2026,  946,  651, 1419, 1079, 1007, 1925,  559, 1021, 1674,  378, 1105,\n",
      "        1444, 1183, 1770,  168,   98, 2005, 1045, 1249,  530, 1068,  169,  647,\n",
      "        1532, 1974,  162, 1427, 1474, 1796, 1540, 2009, 1594, 2002,  157, 1432,\n",
      "         967, 1269,  352,  145, 1235,  271,  105, 1119, 1692, 1635, 1264,  171])}\n"
     ]
    },
    {
     "data": {
      "application/vnd.jupyter.widget-view+json": {
       "model_id": "06c559970e944b968c2eaeb0585025fd",
       "version_major": 2,
       "version_minor": 0
      },
      "text/plain": [
       "Predicting: 0it [00:00, ?it/s]"
      ]
     },
     "metadata": {},
     "output_type": "display_data"
    },
    {
     "name": "stderr",
     "output_type": "stream",
     "text": [
      "Global seed set to 2\n",
      "Global seed set to 1\n",
      "GPU available: True, used: True\n",
      "TPU available: False, using: 0 TPU cores\n",
      "IPU available: False, using: 0 IPUs\n",
      "Global seed set to 0\n",
      "LOCAL_RANK: 0 - CUDA_VISIBLE_DEVICES: [0,1,2,3,4,5,6,7]\n"
     ]
    },
    {
     "name": "stdout",
     "output_type": "stream",
     "text": [
      "{'training': True, '_parameters': OrderedDict(), '_buffers': OrderedDict(), '_non_persistent_buffers_set': set(), '_backward_hooks': OrderedDict(), '_is_full_backward_hook': None, '_forward_hooks': OrderedDict(), '_forward_pre_hooks': OrderedDict(), '_state_dict_hooks': OrderedDict(), '_load_state_dict_pre_hooks': OrderedDict(), '_load_state_dict_post_hooks': OrderedDict(), '_modules': OrderedDict([('linear', Linear(in_features=409, out_features=37, bias=True))]), 'neuron_indices': tensor([1061, 1497, 1250, 1136,  707,   96,  697, 1023,  727, 1780,  534,  563,\n",
      "         480, 1316,  873,  929, 1062, 1679,  260, 1337,  818, 1238, 1430, 1452,\n",
      "        1323, 1661,  750,  989,  217,  228,  498,   35, 1847, 1786,  453, 2036,\n",
      "        1179,  173,  400, 1548, 1893,  766, 1191, 1221, 1751, 1523,  512,  128,\n",
      "         769,  259,  566,  678,   47, 1493, 1801, 1781, 1543, 1833,  125, 1088,\n",
      "         182,  163, 1265, 1396,  533, 1634, 2045,  508, 1680, 1971, 1599,  667,\n",
      "         812,  315,  798,  111,  909,  134,  987, 1401, 1055, 1578,  700,  713,\n",
      "         227, 1763, 1101, 1063,  434, 1463,  122,  598, 1809,  490,  487,  410,\n",
      "         855, 1126,  250, 1174,  953,  925, 1465, 1704, 1224,  331, 1020, 1297,\n",
      "         395, 1490,  675,  985, 1017, 1262,  633, 1468,  614, 1013,  936,   22,\n",
      "         848,  689,  349,  540,   75, 1972,  571,   74, 2040, 1123,  139,  922,\n",
      "        1012,  902,  240, 1987, 1676, 1046,  237, 1149, 1631,    5, 1190,  853,\n",
      "         188,  218,  542, 1778,  344, 1758, 1161,  977, 1820,   99,  654,  356,\n",
      "        2026,  946,  651, 1419, 1079, 1007, 1925,  559, 1021, 1674,  378, 1105,\n",
      "        1444, 1183, 1770,  168,   98, 2005, 1045, 1249,  530, 1068,  169,  647,\n",
      "        1532, 1974,  162, 1427, 1474, 1796, 1540, 2009, 1594, 2002,  157, 1432,\n",
      "         967, 1269,  352,  145, 1235,  271,  105, 1119, 1692, 1635, 1264,  171,\n",
      "         373,  426,  621,  370,  465, 1672,  200, 1486, 1564, 1894,   57,  943,\n",
      "        1553,  358, 1059, 1246, 1489, 1556, 1049, 1589, 1550,  836, 1534,  204,\n",
      "        1995, 1364,  167, 1140,  307,  137, 1314, 1958, 1557, 1571, 1727,  305,\n",
      "        1957,  414,  371, 1966,  521,  183,  160, 1762, 1369, 1188,  519, 1032,\n",
      "        1036,  632, 1301,  791,   68,  787, 1626, 1031,   49,  964, 1800, 1142,\n",
      "         726, 1445, 1341, 1226, 1975, 1655,  245, 1454, 1521, 1025,  972, 1872,\n",
      "        1464,  355,  243,  715,  924, 1737,  962, 1393, 1920, 1305,  318, 1620,\n",
      "        1933,  170, 1590, 1899,  672,  816, 1668,  341, 1665,  529, 1580,  963,\n",
      "         684,  887,  326,   93,  364, 1319,  694,  536, 1718,  391, 1603, 1459,\n",
      "         594,  611, 1254, 1790,  159,  599,   94, 1824, 1788, 1415,  974,  733,\n",
      "         231, 1215, 1085,  133, 1560,  681,  575,  436,  205, 1261, 2001,  910,\n",
      "        1247,  281, 1959, 1239,  253, 1574,  764,  158, 1784,  272, 1406,  866,\n",
      "        1828, 1379,  592, 1312,  430,  123,  277, 1210,  565,  203,  820, 1492,\n",
      "        1585,  435, 1413,  567, 1473, 1662,  582,  896, 1858,  745, 1848,  553,\n",
      "        1082,   81,  782, 1001,  840,  502,  505, 2042,  792,  396, 1133, 1484,\n",
      "         763,  617, 1981, 1135, 1931,  572,  295, 1667, 1227, 1429, 1456, 1587,\n",
      "          33, 1207, 1111, 1993, 2044,  883,  877, 1457,  793, 1869,   38,  891,\n",
      "        1042])}\n"
     ]
    },
    {
     "data": {
      "application/vnd.jupyter.widget-view+json": {
       "model_id": "c51b8c5b91d44c829212d9c48296b9fe",
       "version_major": 2,
       "version_minor": 0
      },
      "text/plain": [
       "Predicting: 0it [00:00, ?it/s]"
      ]
     },
     "metadata": {},
     "output_type": "display_data"
    },
    {
     "name": "stderr",
     "output_type": "stream",
     "text": [
      "Global seed set to 2\n",
      "Global seed set to 1\n",
      "GPU available: True, used: True\n",
      "TPU available: False, using: 0 TPU cores\n",
      "IPU available: False, using: 0 IPUs\n",
      "Global seed set to 0\n",
      "LOCAL_RANK: 0 - CUDA_VISIBLE_DEVICES: [0,1,2,3,4,5,6,7]\n"
     ]
    },
    {
     "name": "stdout",
     "output_type": "stream",
     "text": [
      "{'training': True, '_parameters': OrderedDict(), '_buffers': OrderedDict(), '_non_persistent_buffers_set': set(), '_backward_hooks': OrderedDict(), '_is_full_backward_hook': None, '_forward_hooks': OrderedDict(), '_forward_pre_hooks': OrderedDict(), '_state_dict_hooks': OrderedDict(), '_load_state_dict_pre_hooks': OrderedDict(), '_load_state_dict_post_hooks': OrderedDict(), '_modules': OrderedDict([('linear', Linear(in_features=614, out_features=37, bias=True))]), 'neuron_indices': tensor([1061, 1497, 1250, 1136,  707,   96,  697, 1023,  727, 1780,  534,  563,\n",
      "         480, 1316,  873,  929, 1062, 1679,  260, 1337,  818, 1238, 1430, 1452,\n",
      "        1323, 1661,  750,  989,  217,  228,  498,   35, 1847, 1786,  453, 2036,\n",
      "        1179,  173,  400, 1548, 1893,  766, 1191, 1221, 1751, 1523,  512,  128,\n",
      "         769,  259,  566,  678,   47, 1493, 1801, 1781, 1543, 1833,  125, 1088,\n",
      "         182,  163, 1265, 1396,  533, 1634, 2045,  508, 1680, 1971, 1599,  667,\n",
      "         812,  315,  798,  111,  909,  134,  987, 1401, 1055, 1578,  700,  713,\n",
      "         227, 1763, 1101, 1063,  434, 1463,  122,  598, 1809,  490,  487,  410,\n",
      "         855, 1126,  250, 1174,  953,  925, 1465, 1704, 1224,  331, 1020, 1297,\n",
      "         395, 1490,  675,  985, 1017, 1262,  633, 1468,  614, 1013,  936,   22,\n",
      "         848,  689,  349,  540,   75, 1972,  571,   74, 2040, 1123,  139,  922,\n",
      "        1012,  902,  240, 1987, 1676, 1046,  237, 1149, 1631,    5, 1190,  853,\n",
      "         188,  218,  542, 1778,  344, 1758, 1161,  977, 1820,   99,  654,  356,\n",
      "        2026,  946,  651, 1419, 1079, 1007, 1925,  559, 1021, 1674,  378, 1105,\n",
      "        1444, 1183, 1770,  168,   98, 2005, 1045, 1249,  530, 1068,  169,  647,\n",
      "        1532, 1974,  162, 1427, 1474, 1796, 1540, 2009, 1594, 2002,  157, 1432,\n",
      "         967, 1269,  352,  145, 1235,  271,  105, 1119, 1692, 1635, 1264,  171,\n",
      "         373,  426,  621,  370,  465, 1672,  200, 1486, 1564, 1894,   57,  943,\n",
      "        1553,  358, 1059, 1246, 1489, 1556, 1049, 1589, 1550,  836, 1534,  204,\n",
      "        1995, 1364,  167, 1140,  307,  137, 1314, 1958, 1557, 1571, 1727,  305,\n",
      "        1957,  414,  371, 1966,  521,  183,  160, 1762, 1369, 1188,  519, 1032,\n",
      "        1036,  632, 1301,  791,   68,  787, 1626, 1031,   49,  964, 1800, 1142,\n",
      "         726, 1445, 1341, 1226, 1975, 1655,  245, 1454, 1521, 1025,  972, 1872,\n",
      "        1464,  355,  243,  715,  924, 1737,  962, 1393, 1920, 1305,  318, 1620,\n",
      "        1933,  170, 1590, 1899,  672,  816, 1668,  341, 1665,  529, 1580,  963,\n",
      "         684,  887,  326,   93,  364, 1319,  694,  536, 1718,  391, 1603, 1459,\n",
      "         594,  611, 1254, 1790,  159,  599,   94, 1824, 1788, 1415,  974,  733,\n",
      "         231, 1215, 1085,  133, 1560,  681,  575,  436,  205, 1261, 2001,  910,\n",
      "        1247,  281, 1959, 1239,  253, 1574,  764,  158, 1784,  272, 1406,  866,\n",
      "        1828, 1379,  592, 1312,  430,  123,  277, 1210,  565,  203,  820, 1492,\n",
      "        1585,  435, 1413,  567, 1473, 1662,  582,  896, 1858,  745, 1848,  553,\n",
      "        1082,   81,  782, 1001,  840,  502,  505, 2042,  792,  396, 1133, 1484,\n",
      "         763,  617, 1981, 1135, 1931,  572,  295, 1667, 1227, 1429, 1456, 1587,\n",
      "          33, 1207, 1111, 1993, 2044,  883,  877, 1457,  793, 1869,   38,  891,\n",
      "        1042, 1591, 1216, 1842, 1469,  124,  631,  904,  955, 1512, 2028,  709,\n",
      "        1128, 1009, 1738, 1259,   44, 1442, 1499, 1804, 1723, 1562, 1962, 1295,\n",
      "         343,  510,  402, 1482,  610, 1024, 1815, 1963,  656,  121,  751,  688,\n",
      "         545,  664,  795,  870, 1106, 2007,  376,  353,  433,  589,  229,  418,\n",
      "        1360,  539, 1218,  386,  871, 1835,  219,  864,  366, 1389,  947, 1697,\n",
      "         216,  973, 1841, 1491, 1719, 1366,  888,  473, 1160,  669,  748, 1611,\n",
      "        1749,  193,  979, 1822,  324,  605,  970,  387,  940, 1541, 1470, 1765,\n",
      "        1595,  309,  912,  339, 1568, 1867, 1293,  659, 1156,  293,  781,   62,\n",
      "        1977, 1308,  833,  693, 1744, 1831,  590, 1172, 1819,  501,  650, 1003,\n",
      "         639, 1890,  470,   34,  564,  332, 1990,  901, 1617,  778,  573,  933,\n",
      "        1342, 1290,  196, 1776,  956, 1832, 1583,   23,  602, 1503, 1964,  471,\n",
      "         226,  851, 1344, 1354, 1845,  642, 1447, 1608, 1640, 1330,  407, 1433,\n",
      "        1576, 1911, 1549,  316, 1450, 1722,  166, 1411, 1271, 1092,  384,  485,\n",
      "         161, 1670, 1294, 1700, 1185,  585,  834, 2018,   65,  520,  822, 1336,\n",
      "        1554, 1019,  197, 1288, 1104,  773,   64,  784,  283,  155, 1750,  829,\n",
      "        2021,  523,  468, 1376,  388,  918, 1035, 1983,  690, 1078,  258, 1103,\n",
      "        1504,  941,  261,  754, 1694,  189, 1144, 1388,  620,  284,  221,  823,\n",
      "         297,  921])}\n"
     ]
    },
    {
     "data": {
      "application/vnd.jupyter.widget-view+json": {
       "model_id": "7044a2a5cb664b6d933ecd049200c3ef",
       "version_major": 2,
       "version_minor": 0
      },
      "text/plain": [
       "Predicting: 0it [00:00, ?it/s]"
      ]
     },
     "metadata": {},
     "output_type": "display_data"
    },
    {
     "name": "stderr",
     "output_type": "stream",
     "text": [
      "Global seed set to 2\n",
      "Global seed set to 1\n",
      "GPU available: True, used: True\n",
      "TPU available: False, using: 0 TPU cores\n",
      "IPU available: False, using: 0 IPUs\n",
      "Global seed set to 0\n"
     ]
    },
    {
     "name": "stdout",
     "output_type": "stream",
     "text": [
      "{'training': True, '_parameters': OrderedDict(), '_buffers': OrderedDict(), '_non_persistent_buffers_set': set(), '_backward_hooks': OrderedDict(), '_is_full_backward_hook': None, '_forward_hooks': OrderedDict(), '_forward_pre_hooks': OrderedDict(), '_state_dict_hooks': OrderedDict(), '_load_state_dict_pre_hooks': OrderedDict(), '_load_state_dict_post_hooks': OrderedDict(), '_modules': OrderedDict([('linear', Linear(in_features=1024, out_features=37, bias=True))]), 'neuron_indices': tensor([1061, 1497, 1250,  ..., 1196,  674,  997])}\n"
     ]
    },
    {
     "name": "stderr",
     "output_type": "stream",
     "text": [
      "LOCAL_RANK: 0 - CUDA_VISIBLE_DEVICES: [0,1,2,3,4,5,6,7]\n"
     ]
    },
    {
     "data": {
      "application/vnd.jupyter.widget-view+json": {
       "model_id": "1b177890ea394a8a9cdd78ff6373df80",
       "version_major": 2,
       "version_minor": 0
      },
      "text/plain": [
       "Predicting: 0it [00:00, ?it/s]"
      ]
     },
     "metadata": {},
     "output_type": "display_data"
    },
    {
     "name": "stderr",
     "output_type": "stream",
     "text": [
      "Global seed set to 2\n",
      "Global seed set to 1\n",
      "GPU available: True, used: True\n",
      "TPU available: False, using: 0 TPU cores\n",
      "IPU available: False, using: 0 IPUs\n",
      "Global seed set to 0\n",
      "LOCAL_RANK: 0 - CUDA_VISIBLE_DEVICES: [0,1,2,3,4,5,6,7]\n"
     ]
    },
    {
     "name": "stdout",
     "output_type": "stream",
     "text": [
      "{'training': True, '_parameters': OrderedDict(), '_buffers': OrderedDict(), '_non_persistent_buffers_set': set(), '_backward_hooks': OrderedDict(), '_is_full_backward_hook': None, '_forward_hooks': OrderedDict(), '_forward_pre_hooks': OrderedDict(), '_state_dict_hooks': OrderedDict(), '_load_state_dict_pre_hooks': OrderedDict(), '_load_state_dict_post_hooks': OrderedDict(), '_modules': OrderedDict([('linear', Linear(in_features=1638, out_features=37, bias=True))]), 'neuron_indices': tensor([1061, 1497, 1250,  ...,  522, 1270,  719])}\n"
     ]
    },
    {
     "data": {
      "application/vnd.jupyter.widget-view+json": {
       "model_id": "6e3c2cdd725449c898d21a9719022ec7",
       "version_major": 2,
       "version_minor": 0
      },
      "text/plain": [
       "Predicting: 0it [00:00, ?it/s]"
      ]
     },
     "metadata": {},
     "output_type": "display_data"
    },
    {
     "name": "stderr",
     "output_type": "stream",
     "text": [
      "Global seed set to 2\n",
      "Global seed set to 1\n",
      "GPU available: True, used: True\n",
      "TPU available: False, using: 0 TPU cores\n",
      "IPU available: False, using: 0 IPUs\n",
      "Global seed set to 0\n"
     ]
    },
    {
     "name": "stdout",
     "output_type": "stream",
     "text": [
      "{'training': True, '_parameters': OrderedDict(), '_buffers': OrderedDict(), '_non_persistent_buffers_set': set(), '_backward_hooks': OrderedDict(), '_is_full_backward_hook': None, '_forward_hooks': OrderedDict(), '_forward_pre_hooks': OrderedDict(), '_state_dict_hooks': OrderedDict(), '_load_state_dict_pre_hooks': OrderedDict(), '_load_state_dict_post_hooks': OrderedDict(), '_modules': OrderedDict([('linear', Linear(in_features=1843, out_features=37, bias=True))]), 'neuron_indices': tensor([1061, 1497, 1250,  ..., 1357, 1453, 1455])}\n"
     ]
    },
    {
     "name": "stderr",
     "output_type": "stream",
     "text": [
      "LOCAL_RANK: 0 - CUDA_VISIBLE_DEVICES: [0,1,2,3,4,5,6,7]\n"
     ]
    },
    {
     "data": {
      "application/vnd.jupyter.widget-view+json": {
       "model_id": "41f8c7e7158544699aee7f7a751e93ad",
       "version_major": 2,
       "version_minor": 0
      },
      "text/plain": [
       "Predicting: 0it [00:00, ?it/s]"
      ]
     },
     "metadata": {},
     "output_type": "display_data"
    },
    {
     "name": "stderr",
     "output_type": "stream",
     "text": [
      "Global seed set to 2\n",
      "Global seed set to 2\n",
      "GPU available: True, used: True\n",
      "TPU available: False, using: 0 TPU cores\n",
      "IPU available: False, using: 0 IPUs\n",
      "Global seed set to 0\n",
      "LOCAL_RANK: 0 - CUDA_VISIBLE_DEVICES: [0,1,2,3,4,5,6,7]\n"
     ]
    },
    {
     "name": "stdout",
     "output_type": "stream",
     "text": [
      "{'training': True, '_parameters': OrderedDict(), '_buffers': OrderedDict(), '_non_persistent_buffers_set': set(), '_backward_hooks': OrderedDict(), '_is_full_backward_hook': None, '_forward_hooks': OrderedDict(), '_forward_pre_hooks': OrderedDict(), '_state_dict_hooks': OrderedDict(), '_load_state_dict_pre_hooks': OrderedDict(), '_load_state_dict_post_hooks': OrderedDict(), '_modules': OrderedDict([('linear', Linear(in_features=1, out_features=37, bias=True))]), 'neuron_indices': tensor([1192])}\n"
     ]
    },
    {
     "name": "stderr",
     "output_type": "stream",
     "text": [
      "Global seed set to 2\n",
      "Global seed set to 2\n",
      "GPU available: True, used: True\n",
      "TPU available: False, using: 0 TPU cores\n",
      "IPU available: False, using: 0 IPUs\n",
      "Global seed set to 0\n",
      "LOCAL_RANK: 0 - CUDA_VISIBLE_DEVICES: [0,1,2,3,4,5,6,7]\n"
     ]
    },
    {
     "name": "stdout",
     "output_type": "stream",
     "text": [
      "{'training': True, '_parameters': OrderedDict(), '_buffers': OrderedDict(), '_non_persistent_buffers_set': set(), '_backward_hooks': OrderedDict(), '_is_full_backward_hook': None, '_forward_hooks': OrderedDict(), '_forward_pre_hooks': OrderedDict(), '_state_dict_hooks': OrderedDict(), '_load_state_dict_pre_hooks': OrderedDict(), '_load_state_dict_post_hooks': OrderedDict(), '_modules': OrderedDict([('linear', Linear(in_features=614, out_features=37, bias=True))]), 'neuron_indices': tensor([1192, 1790,  799, 1387, 1198,  827, 1450,  283,  688, 1500, 1142,  147,\n",
      "        1723, 2003,  683, 1148, 1247,  580,  274,   62,  696,  512,  729, 1384,\n",
      "         531,  918, 1446, 1979, 2027, 1746,  687, 1340,  490, 1009, 1282,  361,\n",
      "         347, 1296,  871, 1050, 1996,  864,  748, 1955, 1255, 1119, 1015, 1669,\n",
      "        1968,  447,    4, 1171, 1530,  746,  402, 1299, 2031, 1605,  723,   40,\n",
      "        1558, 1486,  740,  882, 1658,  127, 1685,  734,  184,  300, 1243, 1635,\n",
      "        1528,  320, 1875,  161,  765, 1236, 1576,  568,  650, 1386,  839,  573,\n",
      "         431, 1724,  652,  375, 1088, 1970, 1388, 1930, 1520,  985,  132,  810,\n",
      "        1750,   68,  852,  441, 1778,  849, 1308,  475, 1769,  105, 1150,  649,\n",
      "        1273,  675, 1053, 1813, 1045,  972,  372, 2034,   50,  552, 1898, 1081,\n",
      "        1332, 1438,  516, 1065,   26, 1628,   65,  484, 1808, 1802,  513, 1455,\n",
      "        1033, 1490,  967, 1559,  168, 1689,   53, 1258, 1383,  315, 1627, 1260,\n",
      "        1773,  100, 1049,  829, 1623,  702,  838,  217,  902, 1206,  209,  241,\n",
      "        1806,  920, 1719, 1572,   67, 1556, 1840,  239,  808,  858, 1217,  143,\n",
      "        1022, 1086, 1125,  676,  221, 1420, 1276,  666, 1279, 1957, 1066, 1028,\n",
      "         819,  414, 1436, 1038,  150,  297, 1381,  614,  506,  468, 1112, 1510,\n",
      "        1696,  626,  914, 1355, 1999,  556,  738, 2042, 1306,   88, 1109, 1393,\n",
      "         377,  231, 1275,  928, 1480,  495,  432, 1555, 1391,  190,  108,  301,\n",
      "         186, 1929,  769, 1664,  912, 1849,   89,  410, 1722,  527, 1269, 1235,\n",
      "        1527,  788, 2030, 1475,   23,  392, 1026, 1760,   56, 1143,    3, 1318,\n",
      "         437,  255, 1989, 1994, 1634, 1601, 1096, 1264, 1443,   84,  712,  741,\n",
      "         292, 1518,  695, 1147, 1672, 1508, 1430, 1149,  421, 1809,  419, 1136,\n",
      "        1899,  440,  182,  648,  713,  572, 1942,  851, 1517, 1993,  504, 1756,\n",
      "         797, 1395,  461, 1421, 1477, 1702, 1600,  715,  994,  303, 1683,  529,\n",
      "          93,  661, 1128, 1004,  325, 1222, 1992,  586, 1654,  753,  367,  621,\n",
      "        1457, 1681, 1593,   66, 2033,  934, 1953,  170,  501, 1285, 1842, 2005,\n",
      "        1224, 1489,  189,  266, 1229, 1923,  397,  395,  469, 1239,  763,  646,\n",
      "        1336, 1739, 1673, 1154,  667,  456, 1630, 1880,    6, 1197, 1410,  357,\n",
      "         415,  754, 1797,  725, 2023, 1858,  459, 1557, 1459, 1666, 1550, 1687,\n",
      "         460, 1749, 1213,  103,  988,  160, 1737, 1765,  270,  355,   32,  615,\n",
      "        1069,  130,  438, 1949,  272, 1868,  632, 1077, 1701,  208, 1886, 1263,\n",
      "        1505,  916,  540, 1208, 1755, 1415, 1958, 1977,   58, 1319, 1745, 2035,\n",
      "        1680, 1416, 1779,  655, 1006,  445, 1304, 1303,  727,  997, 1763,  342,\n",
      "        1835,  917,  693,  755,  443,   63, 1478, 1048,   81, 1380,  959,  408,\n",
      "         278, 1064,  930, 1503,  870,  508,  486, 1735, 1804,  630, 2025,  118,\n",
      "          49,  809, 1295,  203,   97,  751,  975, 1974, 1743, 1382, 1976, 1611,\n",
      "        1823, 1008, 1833, 1246, 2004, 1912,  120,  939,  947, 1767,  291, 1123,\n",
      "         327,  801,  500, 1379, 1451,  116,  606, 1568, 1877, 1652,  996, 1464,\n",
      "        1650, 1578, 1780,  890, 1377,  745, 1163, 1831, 1094, 1602,  970, 1562,\n",
      "        1921,  247,  151, 1878, 1655, 1881,  913, 1736, 1333,  833,  409, 1626,\n",
      "         198, 1040, 1845,  989, 1097, 1631,  404, 1257, 1017, 1085,  453, 1444,\n",
      "        1215, 1374,  218,  848, 1414, 1105,  956,  562,  121, 1869, 1595, 1524,\n",
      "        1792, 1933,  142,  640,  253, 1368, 1406, 1180, 1199,  877, 1846, 1815,\n",
      "         978, 1642,   73,  413, 1690,  860,  115, 1961,  935,  665,  613,  228,\n",
      "         732,  868,  177,   25,   39,  384, 1668,  164, 1874,  798,  553,  385,\n",
      "        1496,  354, 1980,  477,  359,  791,  690, 1409, 1651,  663,  817,  374,\n",
      "        1132, 1919, 1159,  155, 1911,  366,  825,  179, 1775, 1551,  451,  804,\n",
      "        1991, 1777, 1629, 1272,  884,  276,  596,  855,  249, 1114,  333,  505,\n",
      "         979, 1289, 1104, 1816, 1256, 1126, 1909, 1649,  337, 1982, 1612,  778,\n",
      "         883, 1058, 1174,  612, 1361, 1561,  521,  236,  216,  828, 1543, 1337,\n",
      "         262,  267, 1218, 1106,  588,  756,  865,  379,  196, 1103, 1392, 1166,\n",
      "         207, 1971])}\n"
     ]
    },
    {
     "data": {
      "application/vnd.jupyter.widget-view+json": {
       "model_id": "d61c8100198241f1acc57810f361b5a5",
       "version_major": 2,
       "version_minor": 0
      },
      "text/plain": [
       "Predicting: 0it [00:00, ?it/s]"
      ]
     },
     "metadata": {},
     "output_type": "display_data"
    },
    {
     "name": "stderr",
     "output_type": "stream",
     "text": [
      "Global seed set to 2\n",
      "Global seed set to 2\n",
      "GPU available: True, used: True\n",
      "TPU available: False, using: 0 TPU cores\n",
      "IPU available: False, using: 0 IPUs\n",
      "Global seed set to 0\n"
     ]
    },
    {
     "name": "stdout",
     "output_type": "stream",
     "text": [
      "{'training': True, '_parameters': OrderedDict(), '_buffers': OrderedDict(), '_non_persistent_buffers_set': set(), '_backward_hooks': OrderedDict(), '_is_full_backward_hook': None, '_forward_hooks': OrderedDict(), '_forward_pre_hooks': OrderedDict(), '_state_dict_hooks': OrderedDict(), '_load_state_dict_pre_hooks': OrderedDict(), '_load_state_dict_post_hooks': OrderedDict(), '_modules': OrderedDict([('linear', Linear(in_features=1024, out_features=37, bias=True))]), 'neuron_indices': tensor([1192, 1790,  799,  ...,  991,  983,  856])}\n"
     ]
    },
    {
     "name": "stderr",
     "output_type": "stream",
     "text": [
      "LOCAL_RANK: 0 - CUDA_VISIBLE_DEVICES: [0,1,2,3,4,5,6,7]\n"
     ]
    },
    {
     "data": {
      "application/vnd.jupyter.widget-view+json": {
       "model_id": "190d883f17dd4f0885bb1d6c5f75413f",
       "version_major": 2,
       "version_minor": 0
      },
      "text/plain": [
       "Predicting: 0it [00:00, ?it/s]"
      ]
     },
     "metadata": {},
     "output_type": "display_data"
    },
    {
     "name": "stderr",
     "output_type": "stream",
     "text": [
      "Global seed set to 2\n",
      "Global seed set to 2\n",
      "GPU available: True, used: True\n",
      "TPU available: False, using: 0 TPU cores\n",
      "IPU available: False, using: 0 IPUs\n",
      "Global seed set to 0\n",
      "LOCAL_RANK: 0 - CUDA_VISIBLE_DEVICES: [0,1,2,3,4,5,6,7]\n"
     ]
    },
    {
     "name": "stdout",
     "output_type": "stream",
     "text": [
      "{'training': True, '_parameters': OrderedDict(), '_buffers': OrderedDict(), '_non_persistent_buffers_set': set(), '_backward_hooks': OrderedDict(), '_is_full_backward_hook': None, '_forward_hooks': OrderedDict(), '_forward_pre_hooks': OrderedDict(), '_state_dict_hooks': OrderedDict(), '_load_state_dict_pre_hooks': OrderedDict(), '_load_state_dict_post_hooks': OrderedDict(), '_modules': OrderedDict([('linear', Linear(in_features=1638, out_features=37, bias=True))]), 'neuron_indices': tensor([1192, 1790,  799,  ...,  662, 1879,  760])}\n"
     ]
    },
    {
     "data": {
      "application/vnd.jupyter.widget-view+json": {
       "model_id": "b8e64c037342417da71f31e758d8fe76",
       "version_major": 2,
       "version_minor": 0
      },
      "text/plain": [
       "Predicting: 0it [00:00, ?it/s]"
      ]
     },
     "metadata": {},
     "output_type": "display_data"
    },
    {
     "name": "stderr",
     "output_type": "stream",
     "text": [
      "Global seed set to 2\n",
      "Global seed set to 2\n",
      "GPU available: True, used: True\n",
      "TPU available: False, using: 0 TPU cores\n",
      "IPU available: False, using: 0 IPUs\n",
      "Global seed set to 0\n",
      "LOCAL_RANK: 0 - CUDA_VISIBLE_DEVICES: [0,1,2,3,4,5,6,7]\n"
     ]
    },
    {
     "name": "stdout",
     "output_type": "stream",
     "text": [
      "{'training': True, '_parameters': OrderedDict(), '_buffers': OrderedDict(), '_non_persistent_buffers_set': set(), '_backward_hooks': OrderedDict(), '_is_full_backward_hook': None, '_forward_hooks': OrderedDict(), '_forward_pre_hooks': OrderedDict(), '_state_dict_hooks': OrderedDict(), '_load_state_dict_pre_hooks': OrderedDict(), '_load_state_dict_post_hooks': OrderedDict(), '_modules': OrderedDict([('linear', Linear(in_features=1843, out_features=37, bias=True))]), 'neuron_indices': tensor([1192, 1790,  799,  ..., 1646,  183,  570])}\n"
     ]
    },
    {
     "data": {
      "application/vnd.jupyter.widget-view+json": {
       "model_id": "0c663e4c7fe740929e9794eff35e4b0f",
       "version_major": 2,
       "version_minor": 0
      },
      "text/plain": [
       "Predicting: 0it [00:00, ?it/s]"
      ]
     },
     "metadata": {},
     "output_type": "display_data"
    },
    {
     "name": "stderr",
     "output_type": "stream",
     "text": [
      "Global seed set to 2\n",
      "Global seed set to 2\n",
      "GPU available: True, used: True\n",
      "TPU available: False, using: 0 TPU cores\n",
      "IPU available: False, using: 0 IPUs\n",
      "Global seed set to 0\n"
     ]
    },
    {
     "name": "stdout",
     "output_type": "stream",
     "text": [
      "{'training': True, '_parameters': OrderedDict(), '_buffers': OrderedDict(), '_non_persistent_buffers_set': set(), '_backward_hooks': OrderedDict(), '_is_full_backward_hook': None, '_forward_hooks': OrderedDict(), '_forward_pre_hooks': OrderedDict(), '_state_dict_hooks': OrderedDict(), '_load_state_dict_pre_hooks': OrderedDict(), '_load_state_dict_post_hooks': OrderedDict(), '_modules': OrderedDict([('linear', Linear(in_features=2048, out_features=37, bias=True))]), 'neuron_indices': tensor([1192, 1790,  799,  ...,  637, 1922, 1063])}\n"
     ]
    },
    {
     "name": "stderr",
     "output_type": "stream",
     "text": [
      "LOCAL_RANK: 0 - CUDA_VISIBLE_DEVICES: [0,1,2,3,4,5,6,7]\n"
     ]
    },
    {
     "data": {
      "application/vnd.jupyter.widget-view+json": {
       "model_id": "13004519e6ce436ba1ccf9acc8a7c9a2",
       "version_major": 2,
       "version_minor": 0
      },
      "text/plain": [
       "Predicting: 0it [00:00, ?it/s]"
      ]
     },
     "metadata": {},
     "output_type": "display_data"
    },
    {
     "name": "stderr",
     "output_type": "stream",
     "text": [
      "Global seed set to 2\n",
      "Global seed set to 3\n",
      "GPU available: True, used: True\n",
      "TPU available: False, using: 0 TPU cores\n",
      "IPU available: False, using: 0 IPUs\n",
      "Global seed set to 0\n",
      "LOCAL_RANK: 0 - CUDA_VISIBLE_DEVICES: [0,1,2,3,4,5,6,7]\n"
     ]
    },
    {
     "name": "stdout",
     "output_type": "stream",
     "text": [
      "{'training': True, '_parameters': OrderedDict(), '_buffers': OrderedDict(), '_non_persistent_buffers_set': set(), '_backward_hooks': OrderedDict(), '_is_full_backward_hook': None, '_forward_hooks': OrderedDict(), '_forward_pre_hooks': OrderedDict(), '_state_dict_hooks': OrderedDict(), '_load_state_dict_pre_hooks': OrderedDict(), '_load_state_dict_post_hooks': OrderedDict(), '_modules': OrderedDict([('linear', Linear(in_features=1, out_features=37, bias=True))]), 'neuron_indices': tensor([1898])}\n"
     ]
    },
    {
     "data": {
      "application/vnd.jupyter.widget-view+json": {
       "model_id": "e6047edfba5f4487b0b6c55eb9ff87df",
       "version_major": 2,
       "version_minor": 0
      },
      "text/plain": [
       "Predicting: 0it [00:00, ?it/s]"
      ]
     },
     "metadata": {},
     "output_type": "display_data"
    },
    {
     "name": "stderr",
     "output_type": "stream",
     "text": [
      "Global seed set to 2\n",
      "Global seed set to 3\n",
      "GPU available: True, used: True\n",
      "TPU available: False, using: 0 TPU cores\n",
      "IPU available: False, using: 0 IPUs\n",
      "Global seed set to 0\n"
     ]
    },
    {
     "name": "stdout",
     "output_type": "stream",
     "text": [
      "{'training': True, '_parameters': OrderedDict(), '_buffers': OrderedDict(), '_non_persistent_buffers_set': set(), '_backward_hooks': OrderedDict(), '_is_full_backward_hook': None, '_forward_hooks': OrderedDict(), '_forward_pre_hooks': OrderedDict(), '_state_dict_hooks': OrderedDict(), '_load_state_dict_pre_hooks': OrderedDict(), '_load_state_dict_post_hooks': OrderedDict(), '_modules': OrderedDict([('linear', Linear(in_features=2, out_features=37, bias=True))]), 'neuron_indices': tensor([1898,  578])}\n"
     ]
    },
    {
     "name": "stderr",
     "output_type": "stream",
     "text": [
      "LOCAL_RANK: 0 - CUDA_VISIBLE_DEVICES: [0,1,2,3,4,5,6,7]\n"
     ]
    },
    {
     "data": {
      "application/vnd.jupyter.widget-view+json": {
       "model_id": "f3b88c6083094abfbbc8478d15ab1ec0",
       "version_major": 2,
       "version_minor": 0
      },
      "text/plain": [
       "Predicting: 0it [00:00, ?it/s]"
      ]
     },
     "metadata": {},
     "output_type": "display_data"
    },
    {
     "name": "stderr",
     "output_type": "stream",
     "text": [
      "Global seed set to 2\n",
      "Global seed set to 3\n",
      "GPU available: True, used: True\n",
      "TPU available: False, using: 0 TPU cores\n",
      "IPU available: False, using: 0 IPUs\n",
      "Global seed set to 0\n",
      "LOCAL_RANK: 0 - CUDA_VISIBLE_DEVICES: [0,1,2,3,4,5,6,7]\n"
     ]
    },
    {
     "name": "stdout",
     "output_type": "stream",
     "text": [
      "{'training': True, '_parameters': OrderedDict(), '_buffers': OrderedDict(), '_non_persistent_buffers_set': set(), '_backward_hooks': OrderedDict(), '_is_full_backward_hook': None, '_forward_hooks': OrderedDict(), '_forward_pre_hooks': OrderedDict(), '_state_dict_hooks': OrderedDict(), '_load_state_dict_pre_hooks': OrderedDict(), '_load_state_dict_post_hooks': OrderedDict(), '_modules': OrderedDict([('linear', Linear(in_features=4, out_features=37, bias=True))]), 'neuron_indices': tensor([1898,  578,  669, 1890])}\n"
     ]
    },
    {
     "data": {
      "application/vnd.jupyter.widget-view+json": {
       "model_id": "a881f6a023084f51a955badcc91ddeb0",
       "version_major": 2,
       "version_minor": 0
      },
      "text/plain": [
       "Predicting: 0it [00:00, ?it/s]"
      ]
     },
     "metadata": {},
     "output_type": "display_data"
    },
    {
     "name": "stderr",
     "output_type": "stream",
     "text": [
      "Global seed set to 2\n",
      "Global seed set to 3\n",
      "GPU available: True, used: True\n",
      "TPU available: False, using: 0 TPU cores\n",
      "IPU available: False, using: 0 IPUs\n",
      "Global seed set to 0\n",
      "LOCAL_RANK: 0 - CUDA_VISIBLE_DEVICES: [0,1,2,3,4,5,6,7]\n"
     ]
    },
    {
     "name": "stdout",
     "output_type": "stream",
     "text": [
      "{'training': True, '_parameters': OrderedDict(), '_buffers': OrderedDict(), '_non_persistent_buffers_set': set(), '_backward_hooks': OrderedDict(), '_is_full_backward_hook': None, '_forward_hooks': OrderedDict(), '_forward_pre_hooks': OrderedDict(), '_state_dict_hooks': OrderedDict(), '_load_state_dict_pre_hooks': OrderedDict(), '_load_state_dict_post_hooks': OrderedDict(), '_modules': OrderedDict([('linear', Linear(in_features=6, out_features=37, bias=True))]), 'neuron_indices': tensor([1898,  578,  669, 1890,  704,  404])}\n"
     ]
    },
    {
     "data": {
      "application/vnd.jupyter.widget-view+json": {
       "model_id": "312b4e09ac174ea28e31fef0270fc24e",
       "version_major": 2,
       "version_minor": 0
      },
      "text/plain": [
       "Predicting: 0it [00:00, ?it/s]"
      ]
     },
     "metadata": {},
     "output_type": "display_data"
    },
    {
     "name": "stderr",
     "output_type": "stream",
     "text": [
      "Global seed set to 2\n",
      "Global seed set to 3\n",
      "GPU available: True, used: True\n",
      "TPU available: False, using: 0 TPU cores\n",
      "IPU available: False, using: 0 IPUs\n",
      "Global seed set to 0\n"
     ]
    },
    {
     "name": "stdout",
     "output_type": "stream",
     "text": [
      "{'training': True, '_parameters': OrderedDict(), '_buffers': OrderedDict(), '_non_persistent_buffers_set': set(), '_backward_hooks': OrderedDict(), '_is_full_backward_hook': None, '_forward_hooks': OrderedDict(), '_forward_pre_hooks': OrderedDict(), '_state_dict_hooks': OrderedDict(), '_load_state_dict_pre_hooks': OrderedDict(), '_load_state_dict_post_hooks': OrderedDict(), '_modules': OrderedDict([('linear', Linear(in_features=8, out_features=37, bias=True))]), 'neuron_indices': tensor([1898,  578,  669, 1890,  704,  404, 1786,  425])}\n"
     ]
    },
    {
     "name": "stderr",
     "output_type": "stream",
     "text": [
      "LOCAL_RANK: 0 - CUDA_VISIBLE_DEVICES: [0,1,2,3,4,5,6,7]\n"
     ]
    },
    {
     "data": {
      "application/vnd.jupyter.widget-view+json": {
       "model_id": "0dcbb0382dc24424bb13d23aa98603af",
       "version_major": 2,
       "version_minor": 0
      },
      "text/plain": [
       "Predicting: 0it [00:00, ?it/s]"
      ]
     },
     "metadata": {},
     "output_type": "display_data"
    },
    {
     "name": "stderr",
     "output_type": "stream",
     "text": [
      "Global seed set to 2\n",
      "Global seed set to 3\n",
      "GPU available: True, used: True\n",
      "TPU available: False, using: 0 TPU cores\n",
      "IPU available: False, using: 0 IPUs\n",
      "Global seed set to 0\n",
      "LOCAL_RANK: 0 - CUDA_VISIBLE_DEVICES: [0,1,2,3,4,5,6,7]\n"
     ]
    },
    {
     "name": "stdout",
     "output_type": "stream",
     "text": [
      "{'training': True, '_parameters': OrderedDict(), '_buffers': OrderedDict(), '_non_persistent_buffers_set': set(), '_backward_hooks': OrderedDict(), '_is_full_backward_hook': None, '_forward_hooks': OrderedDict(), '_forward_pre_hooks': OrderedDict(), '_state_dict_hooks': OrderedDict(), '_load_state_dict_pre_hooks': OrderedDict(), '_load_state_dict_post_hooks': OrderedDict(), '_modules': OrderedDict([('linear', Linear(in_features=10, out_features=37, bias=True))]), 'neuron_indices': tensor([1898,  578,  669, 1890,  704,  404, 1786,  425,  429,  139])}\n"
     ]
    },
    {
     "data": {
      "application/vnd.jupyter.widget-view+json": {
       "model_id": "1f0232859e4c45ae8b6c27dda18fd1a5",
       "version_major": 2,
       "version_minor": 0
      },
      "text/plain": [
       "Predicting: 0it [00:00, ?it/s]"
      ]
     },
     "metadata": {},
     "output_type": "display_data"
    },
    {
     "name": "stderr",
     "output_type": "stream",
     "text": [
      "Global seed set to 2\n",
      "Global seed set to 3\n",
      "GPU available: True, used: True\n",
      "TPU available: False, using: 0 TPU cores\n",
      "IPU available: False, using: 0 IPUs\n",
      "Global seed set to 0\n"
     ]
    },
    {
     "name": "stdout",
     "output_type": "stream",
     "text": [
      "{'training': True, '_parameters': OrderedDict(), '_buffers': OrderedDict(), '_non_persistent_buffers_set': set(), '_backward_hooks': OrderedDict(), '_is_full_backward_hook': None, '_forward_hooks': OrderedDict(), '_forward_pre_hooks': OrderedDict(), '_state_dict_hooks': OrderedDict(), '_load_state_dict_pre_hooks': OrderedDict(), '_load_state_dict_post_hooks': OrderedDict(), '_modules': OrderedDict([('linear', Linear(in_features=20, out_features=37, bias=True))]), 'neuron_indices': tensor([1898,  578,  669, 1890,  704,  404, 1786,  425,  429,  139, 1894, 1529,\n",
      "        1609,  347,  626,  229,  903, 1808,  598, 1848])}\n"
     ]
    },
    {
     "name": "stderr",
     "output_type": "stream",
     "text": [
      "LOCAL_RANK: 0 - CUDA_VISIBLE_DEVICES: [0,1,2,3,4,5,6,7]\n"
     ]
    },
    {
     "data": {
      "application/vnd.jupyter.widget-view+json": {
       "model_id": "5c03c33a4bef4376a829a8192ac784b8",
       "version_major": 2,
       "version_minor": 0
      },
      "text/plain": [
       "Predicting: 0it [00:00, ?it/s]"
      ]
     },
     "metadata": {},
     "output_type": "display_data"
    },
    {
     "name": "stderr",
     "output_type": "stream",
     "text": [
      "Global seed set to 2\n",
      "Global seed set to 3\n",
      "GPU available: True, used: True\n",
      "TPU available: False, using: 0 TPU cores\n",
      "IPU available: False, using: 0 IPUs\n",
      "Global seed set to 0\n",
      "LOCAL_RANK: 0 - CUDA_VISIBLE_DEVICES: [0,1,2,3,4,5,6,7]\n"
     ]
    },
    {
     "name": "stdout",
     "output_type": "stream",
     "text": [
      "{'training': True, '_parameters': OrderedDict(), '_buffers': OrderedDict(), '_non_persistent_buffers_set': set(), '_backward_hooks': OrderedDict(), '_is_full_backward_hook': None, '_forward_hooks': OrderedDict(), '_forward_pre_hooks': OrderedDict(), '_state_dict_hooks': OrderedDict(), '_load_state_dict_pre_hooks': OrderedDict(), '_load_state_dict_post_hooks': OrderedDict(), '_modules': OrderedDict([('linear', Linear(in_features=102, out_features=37, bias=True))]), 'neuron_indices': tensor([1898,  578,  669, 1890,  704,  404, 1786,  425,  429,  139, 1894, 1529,\n",
      "        1609,  347,  626,  229,  903, 1808,  598, 1848, 1760, 1483, 2047, 1104,\n",
      "         592, 1511, 1945,  473, 1382, 1750,  580,  829, 1980, 1926, 1035, 1447,\n",
      "        1781, 1141,  220, 1730, 1501, 1652,  438,  563,  462,  410,  794, 1756,\n",
      "        1745, 1387, 1213,  658,  317, 1187,  418, 1526, 1973, 1117,  954,  325,\n",
      "        1524,  668,   55, 1475,  320, 1440, 1544, 1011,  831, 1651,  332,  457,\n",
      "          79,  290,  943, 1805,  321,  153, 1607,  295, 1877,  135,  638,  361,\n",
      "        2032, 1569, 1233, 1153, 1480, 1782, 1222,  142, 1804,   50,  566, 1812,\n",
      "         695,  214, 1373, 1644, 1073,  766])}\n"
     ]
    },
    {
     "data": {
      "application/vnd.jupyter.widget-view+json": {
       "model_id": "4a55ed2188074d87b25254089c2dbe03",
       "version_major": 2,
       "version_minor": 0
      },
      "text/plain": [
       "Predicting: 0it [00:00, ?it/s]"
      ]
     },
     "metadata": {},
     "output_type": "display_data"
    },
    {
     "name": "stderr",
     "output_type": "stream",
     "text": [
      "Global seed set to 2\n",
      "Global seed set to 3\n",
      "GPU available: True, used: True\n",
      "TPU available: False, using: 0 TPU cores\n",
      "IPU available: False, using: 0 IPUs\n",
      "Global seed set to 0\n",
      "LOCAL_RANK: 0 - CUDA_VISIBLE_DEVICES: [0,1,2,3,4,5,6,7]\n"
     ]
    },
    {
     "name": "stdout",
     "output_type": "stream",
     "text": [
      "{'training': True, '_parameters': OrderedDict(), '_buffers': OrderedDict(), '_non_persistent_buffers_set': set(), '_backward_hooks': OrderedDict(), '_is_full_backward_hook': None, '_forward_hooks': OrderedDict(), '_forward_pre_hooks': OrderedDict(), '_state_dict_hooks': OrderedDict(), '_load_state_dict_pre_hooks': OrderedDict(), '_load_state_dict_post_hooks': OrderedDict(), '_modules': OrderedDict([('linear', Linear(in_features=204, out_features=37, bias=True))]), 'neuron_indices': tensor([1898,  578,  669, 1890,  704,  404, 1786,  425,  429,  139, 1894, 1529,\n",
      "        1609,  347,  626,  229,  903, 1808,  598, 1848, 1760, 1483, 2047, 1104,\n",
      "         592, 1511, 1945,  473, 1382, 1750,  580,  829, 1980, 1926, 1035, 1447,\n",
      "        1781, 1141,  220, 1730, 1501, 1652,  438,  563,  462,  410,  794, 1756,\n",
      "        1745, 1387, 1213,  658,  317, 1187,  418, 1526, 1973, 1117,  954,  325,\n",
      "        1524,  668,   55, 1475,  320, 1440, 1544, 1011,  831, 1651,  332,  457,\n",
      "          79,  290,  943, 1805,  321,  153, 1607,  295, 1877,  135,  638,  361,\n",
      "        2032, 1569, 1233, 1153, 1480, 1782, 1222,  142, 1804,   50,  566, 1812,\n",
      "         695,  214, 1373, 1644, 1073,  766, 1772,  251, 1929, 1423,  631,  687,\n",
      "         758,  887, 1352,  495, 1994, 1335, 1818, 1169, 1143, 1677, 1208, 1112,\n",
      "        1204,  499,  523,  289,  269,  483, 1798,  535,    2,  474, 1990, 1164,\n",
      "         569, 1413,   34, 2039,  384,  560, 1485, 1613,  834, 2002,  310,  517,\n",
      "         228,  330,   29, 1247, 1859,  528, 1118, 1593,  951,  804, 2041, 1509,\n",
      "        1425,  426,  282, 1364, 1298, 1308,  846,  503, 1487, 1145,  400, 2000,\n",
      "         198,  698, 1305,  182,  132, 1585,  837,  565,  924, 1473, 1606, 1978,\n",
      "        1635,  206,  103,  304,  892, 1935, 1946,  632,  564, 1869,  140, 1034,\n",
      "        1498,  557,  494,  805,  360,  922, 1907,  341,  930, 1151, 2025,  141])}\n"
     ]
    },
    {
     "data": {
      "application/vnd.jupyter.widget-view+json": {
       "model_id": "378ea4017b8f4ff7a5fe3503a51f2908",
       "version_major": 2,
       "version_minor": 0
      },
      "text/plain": [
       "Predicting: 0it [00:00, ?it/s]"
      ]
     },
     "metadata": {},
     "output_type": "display_data"
    },
    {
     "name": "stderr",
     "output_type": "stream",
     "text": [
      "Global seed set to 2\n",
      "Global seed set to 3\n",
      "GPU available: True, used: True\n",
      "TPU available: False, using: 0 TPU cores\n",
      "IPU available: False, using: 0 IPUs\n",
      "Global seed set to 0\n"
     ]
    },
    {
     "name": "stdout",
     "output_type": "stream",
     "text": [
      "{'training': True, '_parameters': OrderedDict(), '_buffers': OrderedDict(), '_non_persistent_buffers_set': set(), '_backward_hooks': OrderedDict(), '_is_full_backward_hook': None, '_forward_hooks': OrderedDict(), '_forward_pre_hooks': OrderedDict(), '_state_dict_hooks': OrderedDict(), '_load_state_dict_pre_hooks': OrderedDict(), '_load_state_dict_post_hooks': OrderedDict(), '_modules': OrderedDict([('linear', Linear(in_features=409, out_features=37, bias=True))]), 'neuron_indices': tensor([1898,  578,  669, 1890,  704,  404, 1786,  425,  429,  139, 1894, 1529,\n",
      "        1609,  347,  626,  229,  903, 1808,  598, 1848, 1760, 1483, 2047, 1104,\n",
      "         592, 1511, 1945,  473, 1382, 1750,  580,  829, 1980, 1926, 1035, 1447,\n",
      "        1781, 1141,  220, 1730, 1501, 1652,  438,  563,  462,  410,  794, 1756,\n",
      "        1745, 1387, 1213,  658,  317, 1187,  418, 1526, 1973, 1117,  954,  325,\n",
      "        1524,  668,   55, 1475,  320, 1440, 1544, 1011,  831, 1651,  332,  457,\n",
      "          79,  290,  943, 1805,  321,  153, 1607,  295, 1877,  135,  638,  361,\n",
      "        2032, 1569, 1233, 1153, 1480, 1782, 1222,  142, 1804,   50,  566, 1812,\n",
      "         695,  214, 1373, 1644, 1073,  766, 1772,  251, 1929, 1423,  631,  687,\n",
      "         758,  887, 1352,  495, 1994, 1335, 1818, 1169, 1143, 1677, 1208, 1112,\n",
      "        1204,  499,  523,  289,  269,  483, 1798,  535,    2,  474, 1990, 1164,\n",
      "         569, 1413,   34, 2039,  384,  560, 1485, 1613,  834, 2002,  310,  517,\n",
      "         228,  330,   29, 1247, 1859,  528, 1118, 1593,  951,  804, 2041, 1509,\n",
      "        1425,  426,  282, 1364, 1298, 1308,  846,  503, 1487, 1145,  400, 2000,\n",
      "         198,  698, 1305,  182,  132, 1585,  837,  565,  924, 1473, 1606, 1978,\n",
      "        1635,  206,  103,  304,  892, 1935, 1946,  632,  564, 1869,  140, 1034,\n",
      "        1498,  557,  494,  805,  360,  922, 1907,  341,  930, 1151, 2025,  141,\n",
      "        1253, 1326,  256, 1520, 1436,  383,  579,  524,  176, 2037, 1418, 1354,\n",
      "         948,  994, 1200, 1064, 1045,  504, 1554,  936, 1014,  833, 1816, 1492,\n",
      "        1020, 1792, 1306, 1193, 1300, 1580, 1541, 1124,  807, 1777,  355, 2045,\n",
      "        1545,  184,  277, 1528, 1251, 1669,  737, 1567, 1759,  193,  433,  107,\n",
      "         665,  301,  390, 1358, 1596, 1478,  730,  647,  338, 1205,  148, 1749,\n",
      "        1799,   73, 1452,  102, 1043, 1895,  316,  446,  125,  144, 1982, 1814,\n",
      "        1224, 1136, 1658,  454, 1617, 1921, 1863,  973,    5, 1332,  861, 1341,\n",
      "        1688,  873,  413, 1694, 1249,  690, 1797, 1376, 1618, 1294, 1297,  784,\n",
      "         527, 1842,  798,  927,  971,   28,  881, 1535,  993,  796, 1337,  461,\n",
      "         868, 1336,  888,  233,  595, 1114, 1182, 1650,   18, 1944, 1212, 1592,\n",
      "        1386, 1722,  165, 1979,  218, 1089, 1774, 1521, 1154, 1762,  178, 1663,\n",
      "        1410,  817,  367,  745,  550,  126, 1408,  675, 1754, 1870,  654, 1778,\n",
      "         200, 1905,  854, 1101,  133,  134, 1532, 1138, 1690, 1227, 1149,  978,\n",
      "        1874, 1748, 1432, 1001, 1486,  679,  101, 1493,  518,   70, 1007,  365,\n",
      "        1627,  169,  428,    7,  464, 1360, 1612, 1603, 1433,   53,  959,  163,\n",
      "        1886, 1573, 1040, 1970,   43,  961,  821, 1030,  293,  582,  531,  453,\n",
      "         657,   69,  113, 1710, 1579, 1533, 1242, 1362, 1223,  136, 1202, 1589,\n",
      "         575])}\n"
     ]
    },
    {
     "name": "stderr",
     "output_type": "stream",
     "text": [
      "LOCAL_RANK: 0 - CUDA_VISIBLE_DEVICES: [0,1,2,3,4,5,6,7]\n"
     ]
    },
    {
     "data": {
      "application/vnd.jupyter.widget-view+json": {
       "model_id": "c773d9ae98994887a77346f55de23a51",
       "version_major": 2,
       "version_minor": 0
      },
      "text/plain": [
       "Predicting: 0it [00:00, ?it/s]"
      ]
     },
     "metadata": {},
     "output_type": "display_data"
    },
    {
     "name": "stderr",
     "output_type": "stream",
     "text": [
      "Global seed set to 2\n",
      "Global seed set to 3\n",
      "GPU available: True, used: True\n",
      "TPU available: False, using: 0 TPU cores\n",
      "IPU available: False, using: 0 IPUs\n",
      "Global seed set to 0\n",
      "LOCAL_RANK: 0 - CUDA_VISIBLE_DEVICES: [0,1,2,3,4,5,6,7]\n"
     ]
    },
    {
     "name": "stdout",
     "output_type": "stream",
     "text": [
      "{'training': True, '_parameters': OrderedDict(), '_buffers': OrderedDict(), '_non_persistent_buffers_set': set(), '_backward_hooks': OrderedDict(), '_is_full_backward_hook': None, '_forward_hooks': OrderedDict(), '_forward_pre_hooks': OrderedDict(), '_state_dict_hooks': OrderedDict(), '_load_state_dict_pre_hooks': OrderedDict(), '_load_state_dict_post_hooks': OrderedDict(), '_modules': OrderedDict([('linear', Linear(in_features=614, out_features=37, bias=True))]), 'neuron_indices': tensor([1898,  578,  669, 1890,  704,  404, 1786,  425,  429,  139, 1894, 1529,\n",
      "        1609,  347,  626,  229,  903, 1808,  598, 1848, 1760, 1483, 2047, 1104,\n",
      "         592, 1511, 1945,  473, 1382, 1750,  580,  829, 1980, 1926, 1035, 1447,\n",
      "        1781, 1141,  220, 1730, 1501, 1652,  438,  563,  462,  410,  794, 1756,\n",
      "        1745, 1387, 1213,  658,  317, 1187,  418, 1526, 1973, 1117,  954,  325,\n",
      "        1524,  668,   55, 1475,  320, 1440, 1544, 1011,  831, 1651,  332,  457,\n",
      "          79,  290,  943, 1805,  321,  153, 1607,  295, 1877,  135,  638,  361,\n",
      "        2032, 1569, 1233, 1153, 1480, 1782, 1222,  142, 1804,   50,  566, 1812,\n",
      "         695,  214, 1373, 1644, 1073,  766, 1772,  251, 1929, 1423,  631,  687,\n",
      "         758,  887, 1352,  495, 1994, 1335, 1818, 1169, 1143, 1677, 1208, 1112,\n",
      "        1204,  499,  523,  289,  269,  483, 1798,  535,    2,  474, 1990, 1164,\n",
      "         569, 1413,   34, 2039,  384,  560, 1485, 1613,  834, 2002,  310,  517,\n",
      "         228,  330,   29, 1247, 1859,  528, 1118, 1593,  951,  804, 2041, 1509,\n",
      "        1425,  426,  282, 1364, 1298, 1308,  846,  503, 1487, 1145,  400, 2000,\n",
      "         198,  698, 1305,  182,  132, 1585,  837,  565,  924, 1473, 1606, 1978,\n",
      "        1635,  206,  103,  304,  892, 1935, 1946,  632,  564, 1869,  140, 1034,\n",
      "        1498,  557,  494,  805,  360,  922, 1907,  341,  930, 1151, 2025,  141,\n",
      "        1253, 1326,  256, 1520, 1436,  383,  579,  524,  176, 2037, 1418, 1354,\n",
      "         948,  994, 1200, 1064, 1045,  504, 1554,  936, 1014,  833, 1816, 1492,\n",
      "        1020, 1792, 1306, 1193, 1300, 1580, 1541, 1124,  807, 1777,  355, 2045,\n",
      "        1545,  184,  277, 1528, 1251, 1669,  737, 1567, 1759,  193,  433,  107,\n",
      "         665,  301,  390, 1358, 1596, 1478,  730,  647,  338, 1205,  148, 1749,\n",
      "        1799,   73, 1452,  102, 1043, 1895,  316,  446,  125,  144, 1982, 1814,\n",
      "        1224, 1136, 1658,  454, 1617, 1921, 1863,  973,    5, 1332,  861, 1341,\n",
      "        1688,  873,  413, 1694, 1249,  690, 1797, 1376, 1618, 1294, 1297,  784,\n",
      "         527, 1842,  798,  927,  971,   28,  881, 1535,  993,  796, 1337,  461,\n",
      "         868, 1336,  888,  233,  595, 1114, 1182, 1650,   18, 1944, 1212, 1592,\n",
      "        1386, 1722,  165, 1979,  218, 1089, 1774, 1521, 1154, 1762,  178, 1663,\n",
      "        1410,  817,  367,  745,  550,  126, 1408,  675, 1754, 1870,  654, 1778,\n",
      "         200, 1905,  854, 1101,  133,  134, 1532, 1138, 1690, 1227, 1149,  978,\n",
      "        1874, 1748, 1432, 1001, 1486,  679,  101, 1493,  518,   70, 1007,  365,\n",
      "        1627,  169,  428,    7,  464, 1360, 1612, 1603, 1433,   53,  959,  163,\n",
      "        1886, 1573, 1040, 1970,   43,  961,  821, 1030,  293,  582,  531,  453,\n",
      "         657,   69,  113, 1710, 1579, 1533, 1242, 1362, 1223,  136, 1202, 1589,\n",
      "         575, 1510,  225,  542,  606, 1656, 1631, 1198,  378,  960, 1062,  308,\n",
      "         353,   33, 1965,   19, 1942, 1273,  918, 1699,  398,  513, 1972,  534,\n",
      "        1687,  207, 1426,  921,  989,  298,  368,  825, 1914,  441,  899, 1464,\n",
      "         586,  785,  641,  585,  318,  884, 1547,  456,  749, 1063,  801,    1,\n",
      "        1466,  226,  593,  502, 1192, 1987,  375, 1901, 1290, 1783, 1186, 1495,\n",
      "         213,  259, 1940, 1173,  980, 1595, 1832,  760, 1264, 1262, 1928,  340,\n",
      "         705,  369,  194,  232, 1619, 1698, 1519,  781,  152, 1402, 1836, 2043,\n",
      "         262,  667,  672,  768, 1506, 1790, 1590,  312,  506,  816,  732,   82,\n",
      "         300,  497, 1046, 1608, 1950, 1637,  533, 1050, 2026, 1636,  280,  376,\n",
      "         447, 1393, 1746,  412, 1930, 1042,  581, 1406, 1611, 1999, 1458,  604,\n",
      "        1259,  168,  637, 1906,  173, 1912,  313,  192, 1220, 1648, 1244, 1130,\n",
      "         720,  673, 1616, 1954, 1445, 1266,  630, 1424,  905,  686, 1391, 1558,\n",
      "        1734, 1504,   31,  755,  908,  472,  530,   78, 1140,  864,  381, 1568,\n",
      "        1334,  116,  583, 1742, 1344, 1006,  589,   13, 1876, 1947,  167,  292,\n",
      "        1739, 1764,  818, 1016, 1079,  890,  492, 1681, 1768,  664, 1097, 1303,\n",
      "        2035,  120, 1621, 1931, 1489,  191,  237, 2044,  823, 1150, 1744,  770,\n",
      "          52, 1761, 1765, 1181, 1068,  471, 1817,  556, 1858, 1910,  734,   91,\n",
      "        1571, 2046])}\n"
     ]
    },
    {
     "data": {
      "application/vnd.jupyter.widget-view+json": {
       "model_id": "e5a0b3f169a74d668c7f24618b042f1a",
       "version_major": 2,
       "version_minor": 0
      },
      "text/plain": [
       "Predicting: 0it [00:00, ?it/s]"
      ]
     },
     "metadata": {},
     "output_type": "display_data"
    },
    {
     "name": "stderr",
     "output_type": "stream",
     "text": [
      "Global seed set to 2\n",
      "Global seed set to 3\n",
      "GPU available: True, used: True\n",
      "TPU available: False, using: 0 TPU cores\n",
      "IPU available: False, using: 0 IPUs\n",
      "Global seed set to 0\n",
      "LOCAL_RANK: 0 - CUDA_VISIBLE_DEVICES: [0,1,2,3,4,5,6,7]\n"
     ]
    },
    {
     "name": "stdout",
     "output_type": "stream",
     "text": [
      "{'training': True, '_parameters': OrderedDict(), '_buffers': OrderedDict(), '_non_persistent_buffers_set': set(), '_backward_hooks': OrderedDict(), '_is_full_backward_hook': None, '_forward_hooks': OrderedDict(), '_forward_pre_hooks': OrderedDict(), '_state_dict_hooks': OrderedDict(), '_load_state_dict_pre_hooks': OrderedDict(), '_load_state_dict_post_hooks': OrderedDict(), '_modules': OrderedDict([('linear', Linear(in_features=1024, out_features=37, bias=True))]), 'neuron_indices': tensor([1898,  578,  669,  ...,  508, 1269, 1685])}\n"
     ]
    },
    {
     "data": {
      "application/vnd.jupyter.widget-view+json": {
       "model_id": "9ec34d0ee0b54ff8983953260cfcebfe",
       "version_major": 2,
       "version_minor": 0
      },
      "text/plain": [
       "Predicting: 0it [00:00, ?it/s]"
      ]
     },
     "metadata": {},
     "output_type": "display_data"
    },
    {
     "name": "stderr",
     "output_type": "stream",
     "text": [
      "Global seed set to 2\n",
      "Global seed set to 3\n",
      "GPU available: True, used: True\n",
      "TPU available: False, using: 0 TPU cores\n",
      "IPU available: False, using: 0 IPUs\n",
      "Global seed set to 0\n",
      "LOCAL_RANK: 0 - CUDA_VISIBLE_DEVICES: [0,1,2,3,4,5,6,7]\n"
     ]
    },
    {
     "name": "stdout",
     "output_type": "stream",
     "text": [
      "{'training': True, '_parameters': OrderedDict(), '_buffers': OrderedDict(), '_non_persistent_buffers_set': set(), '_backward_hooks': OrderedDict(), '_is_full_backward_hook': None, '_forward_hooks': OrderedDict(), '_forward_pre_hooks': OrderedDict(), '_state_dict_hooks': OrderedDict(), '_load_state_dict_pre_hooks': OrderedDict(), '_load_state_dict_post_hooks': OrderedDict(), '_modules': OrderedDict([('linear', Linear(in_features=1638, out_features=37, bias=True))]), 'neuron_indices': tensor([1898,  578,  669,  ...,  452,  466, 1714])}\n"
     ]
    },
    {
     "data": {
      "application/vnd.jupyter.widget-view+json": {
       "model_id": "f7d68ec19b24416eb9ce9c5867bb963c",
       "version_major": 2,
       "version_minor": 0
      },
      "text/plain": [
       "Predicting: 0it [00:00, ?it/s]"
      ]
     },
     "metadata": {},
     "output_type": "display_data"
    },
    {
     "name": "stderr",
     "output_type": "stream",
     "text": [
      "Global seed set to 2\n",
      "Global seed set to 3\n",
      "GPU available: True, used: True\n",
      "TPU available: False, using: 0 TPU cores\n",
      "IPU available: False, using: 0 IPUs\n",
      "Global seed set to 0\n",
      "LOCAL_RANK: 0 - CUDA_VISIBLE_DEVICES: [0,1,2,3,4,5,6,7]\n"
     ]
    },
    {
     "name": "stdout",
     "output_type": "stream",
     "text": [
      "{'training': True, '_parameters': OrderedDict(), '_buffers': OrderedDict(), '_non_persistent_buffers_set': set(), '_backward_hooks': OrderedDict(), '_is_full_backward_hook': None, '_forward_hooks': OrderedDict(), '_forward_pre_hooks': OrderedDict(), '_state_dict_hooks': OrderedDict(), '_load_state_dict_pre_hooks': OrderedDict(), '_load_state_dict_post_hooks': OrderedDict(), '_modules': OrderedDict([('linear', Linear(in_features=1843, out_features=37, bias=True))]), 'neuron_indices': tensor([1898,  578,  669,  ..., 1624, 1083,   66])}\n"
     ]
    },
    {
     "data": {
      "application/vnd.jupyter.widget-view+json": {
       "model_id": "a4a86fbf702747bfb76cdcdb4eb28e71",
       "version_major": 2,
       "version_minor": 0
      },
      "text/plain": [
       "Predicting: 0it [00:00, ?it/s]"
      ]
     },
     "metadata": {},
     "output_type": "display_data"
    },
    {
     "name": "stderr",
     "output_type": "stream",
     "text": [
      "Global seed set to 2\n",
      "Global seed set to 4\n",
      "GPU available: True, used: True\n",
      "TPU available: False, using: 0 TPU cores\n",
      "IPU available: False, using: 0 IPUs\n",
      "Global seed set to 0\n"
     ]
    },
    {
     "name": "stdout",
     "output_type": "stream",
     "text": [
      "{'training': True, '_parameters': OrderedDict(), '_buffers': OrderedDict(), '_non_persistent_buffers_set': set(), '_backward_hooks': OrderedDict(), '_is_full_backward_hook': None, '_forward_hooks': OrderedDict(), '_forward_pre_hooks': OrderedDict(), '_state_dict_hooks': OrderedDict(), '_load_state_dict_pre_hooks': OrderedDict(), '_load_state_dict_post_hooks': OrderedDict(), '_modules': OrderedDict([('linear', Linear(in_features=1, out_features=37, bias=True))]), 'neuron_indices': tensor([1146])}\n"
     ]
    },
    {
     "name": "stderr",
     "output_type": "stream",
     "text": [
      "LOCAL_RANK: 0 - CUDA_VISIBLE_DEVICES: [0,1,2,3,4,5,6,7]\n"
     ]
    },
    {
     "data": {
      "application/vnd.jupyter.widget-view+json": {
       "model_id": "e3bfc25de790477ab3d26c4e923d3bb0",
       "version_major": 2,
       "version_minor": 0
      },
      "text/plain": [
       "Predicting: 0it [00:00, ?it/s]"
      ]
     },
     "metadata": {},
     "output_type": "display_data"
    },
    {
     "name": "stderr",
     "output_type": "stream",
     "text": [
      "Global seed set to 2\n",
      "Global seed set to 4\n",
      "GPU available: True, used: True\n",
      "TPU available: False, using: 0 TPU cores\n",
      "IPU available: False, using: 0 IPUs\n",
      "Global seed set to 0\n",
      "LOCAL_RANK: 0 - CUDA_VISIBLE_DEVICES: [0,1,2,3,4,5,6,7]\n"
     ]
    },
    {
     "name": "stdout",
     "output_type": "stream",
     "text": [
      "{'training': True, '_parameters': OrderedDict(), '_buffers': OrderedDict(), '_non_persistent_buffers_set': set(), '_backward_hooks': OrderedDict(), '_is_full_backward_hook': None, '_forward_hooks': OrderedDict(), '_forward_pre_hooks': OrderedDict(), '_state_dict_hooks': OrderedDict(), '_load_state_dict_pre_hooks': OrderedDict(), '_load_state_dict_post_hooks': OrderedDict(), '_modules': OrderedDict([('linear', Linear(in_features=2, out_features=37, bias=True))]), 'neuron_indices': tensor([1146, 1581])}\n"
     ]
    },
    {
     "data": {
      "application/vnd.jupyter.widget-view+json": {
       "model_id": "74c159ed989a4bc6b8ad19cf6ae3ca32",
       "version_major": 2,
       "version_minor": 0
      },
      "text/plain": [
       "Predicting: 0it [00:00, ?it/s]"
      ]
     },
     "metadata": {},
     "output_type": "display_data"
    },
    {
     "name": "stderr",
     "output_type": "stream",
     "text": [
      "Global seed set to 2\n",
      "Global seed set to 4\n",
      "GPU available: True, used: True\n",
      "TPU available: False, using: 0 TPU cores\n",
      "IPU available: False, using: 0 IPUs\n",
      "Global seed set to 0\n"
     ]
    },
    {
     "name": "stdout",
     "output_type": "stream",
     "text": [
      "{'training': True, '_parameters': OrderedDict(), '_buffers': OrderedDict(), '_non_persistent_buffers_set': set(), '_backward_hooks': OrderedDict(), '_is_full_backward_hook': None, '_forward_hooks': OrderedDict(), '_forward_pre_hooks': OrderedDict(), '_state_dict_hooks': OrderedDict(), '_load_state_dict_pre_hooks': OrderedDict(), '_load_state_dict_post_hooks': OrderedDict(), '_modules': OrderedDict([('linear', Linear(in_features=4, out_features=37, bias=True))]), 'neuron_indices': tensor([1146, 1581,   87, 1321])}\n"
     ]
    },
    {
     "name": "stderr",
     "output_type": "stream",
     "text": [
      "LOCAL_RANK: 0 - CUDA_VISIBLE_DEVICES: [0,1,2,3,4,5,6,7]\n"
     ]
    },
    {
     "data": {
      "application/vnd.jupyter.widget-view+json": {
       "model_id": "35a46e75ef3f4470be23d1cf00f4e538",
       "version_major": 2,
       "version_minor": 0
      },
      "text/plain": [
       "Predicting: 0it [00:00, ?it/s]"
      ]
     },
     "metadata": {},
     "output_type": "display_data"
    },
    {
     "name": "stderr",
     "output_type": "stream",
     "text": [
      "Global seed set to 2\n",
      "Global seed set to 4\n",
      "GPU available: True, used: True\n",
      "TPU available: False, using: 0 TPU cores\n",
      "IPU available: False, using: 0 IPUs\n",
      "Global seed set to 0\n",
      "LOCAL_RANK: 0 - CUDA_VISIBLE_DEVICES: [0,1,2,3,4,5,6,7]\n"
     ]
    },
    {
     "name": "stdout",
     "output_type": "stream",
     "text": [
      "{'training': True, '_parameters': OrderedDict(), '_buffers': OrderedDict(), '_non_persistent_buffers_set': set(), '_backward_hooks': OrderedDict(), '_is_full_backward_hook': None, '_forward_hooks': OrderedDict(), '_forward_pre_hooks': OrderedDict(), '_state_dict_hooks': OrderedDict(), '_load_state_dict_pre_hooks': OrderedDict(), '_load_state_dict_post_hooks': OrderedDict(), '_modules': OrderedDict([('linear', Linear(in_features=6, out_features=37, bias=True))]), 'neuron_indices': tensor([1146, 1581,   87, 1321, 1741, 1387])}\n"
     ]
    },
    {
     "data": {
      "application/vnd.jupyter.widget-view+json": {
       "model_id": "facd56b5a7984c57895e1d7c0d356115",
       "version_major": 2,
       "version_minor": 0
      },
      "text/plain": [
       "Predicting: 0it [00:00, ?it/s]"
      ]
     },
     "metadata": {},
     "output_type": "display_data"
    },
    {
     "name": "stderr",
     "output_type": "stream",
     "text": [
      "Global seed set to 2\n",
      "Global seed set to 4\n",
      "GPU available: True, used: True\n",
      "TPU available: False, using: 0 TPU cores\n",
      "IPU available: False, using: 0 IPUs\n",
      "Global seed set to 0\n",
      "LOCAL_RANK: 0 - CUDA_VISIBLE_DEVICES: [0,1,2,3,4,5,6,7]\n"
     ]
    },
    {
     "name": "stdout",
     "output_type": "stream",
     "text": [
      "{'training': True, '_parameters': OrderedDict(), '_buffers': OrderedDict(), '_non_persistent_buffers_set': set(), '_backward_hooks': OrderedDict(), '_is_full_backward_hook': None, '_forward_hooks': OrderedDict(), '_forward_pre_hooks': OrderedDict(), '_state_dict_hooks': OrderedDict(), '_load_state_dict_pre_hooks': OrderedDict(), '_load_state_dict_post_hooks': OrderedDict(), '_modules': OrderedDict([('linear', Linear(in_features=8, out_features=37, bias=True))]), 'neuron_indices': tensor([1146, 1581,   87, 1321, 1741, 1387, 1081, 1563])}\n"
     ]
    },
    {
     "data": {
      "application/vnd.jupyter.widget-view+json": {
       "model_id": "af21865e450d4a7ebc1e52424bd44f52",
       "version_major": 2,
       "version_minor": 0
      },
      "text/plain": [
       "Predicting: 0it [00:00, ?it/s]"
      ]
     },
     "metadata": {},
     "output_type": "display_data"
    },
    {
     "name": "stderr",
     "output_type": "stream",
     "text": [
      "Global seed set to 2\n",
      "Global seed set to 4\n",
      "GPU available: True, used: True\n",
      "TPU available: False, using: 0 TPU cores\n",
      "IPU available: False, using: 0 IPUs\n",
      "Global seed set to 0\n"
     ]
    },
    {
     "name": "stdout",
     "output_type": "stream",
     "text": [
      "{'training': True, '_parameters': OrderedDict(), '_buffers': OrderedDict(), '_non_persistent_buffers_set': set(), '_backward_hooks': OrderedDict(), '_is_full_backward_hook': None, '_forward_hooks': OrderedDict(), '_forward_pre_hooks': OrderedDict(), '_state_dict_hooks': OrderedDict(), '_load_state_dict_pre_hooks': OrderedDict(), '_load_state_dict_post_hooks': OrderedDict(), '_modules': OrderedDict([('linear', Linear(in_features=10, out_features=37, bias=True))]), 'neuron_indices': tensor([1146, 1581,   87, 1321, 1741, 1387, 1081, 1563, 1250, 1187])}\n"
     ]
    },
    {
     "name": "stderr",
     "output_type": "stream",
     "text": [
      "LOCAL_RANK: 0 - CUDA_VISIBLE_DEVICES: [0,1,2,3,4,5,6,7]\n"
     ]
    },
    {
     "data": {
      "application/vnd.jupyter.widget-view+json": {
       "model_id": "edb66a3e7abc4856b473d63f4c138846",
       "version_major": 2,
       "version_minor": 0
      },
      "text/plain": [
       "Predicting: 0it [00:00, ?it/s]"
      ]
     },
     "metadata": {},
     "output_type": "display_data"
    },
    {
     "name": "stderr",
     "output_type": "stream",
     "text": [
      "Global seed set to 2\n",
      "Global seed set to 4\n",
      "GPU available: True, used: True\n",
      "TPU available: False, using: 0 TPU cores\n",
      "IPU available: False, using: 0 IPUs\n",
      "Global seed set to 0\n",
      "LOCAL_RANK: 0 - CUDA_VISIBLE_DEVICES: [0,1,2,3,4,5,6,7]\n"
     ]
    },
    {
     "name": "stdout",
     "output_type": "stream",
     "text": [
      "{'training': True, '_parameters': OrderedDict(), '_buffers': OrderedDict(), '_non_persistent_buffers_set': set(), '_backward_hooks': OrderedDict(), '_is_full_backward_hook': None, '_forward_hooks': OrderedDict(), '_forward_pre_hooks': OrderedDict(), '_state_dict_hooks': OrderedDict(), '_load_state_dict_pre_hooks': OrderedDict(), '_load_state_dict_post_hooks': OrderedDict(), '_modules': OrderedDict([('linear', Linear(in_features=20, out_features=37, bias=True))]), 'neuron_indices': tensor([1146, 1581,   87, 1321, 1741, 1387, 1081, 1563, 1250, 1187,  300, 1906,\n",
      "         199, 1576, 1494,  602, 1975, 1614,  148,  181])}\n"
     ]
    },
    {
     "data": {
      "application/vnd.jupyter.widget-view+json": {
       "model_id": "870911bd01924cf6a2e13f45095b032f",
       "version_major": 2,
       "version_minor": 0
      },
      "text/plain": [
       "Predicting: 0it [00:00, ?it/s]"
      ]
     },
     "metadata": {},
     "output_type": "display_data"
    },
    {
     "name": "stderr",
     "output_type": "stream",
     "text": [
      "Global seed set to 2\n",
      "Global seed set to 4\n",
      "GPU available: True, used: True\n",
      "TPU available: False, using: 0 TPU cores\n",
      "IPU available: False, using: 0 IPUs\n",
      "Global seed set to 0\n"
     ]
    },
    {
     "name": "stdout",
     "output_type": "stream",
     "text": [
      "{'training': True, '_parameters': OrderedDict(), '_buffers': OrderedDict(), '_non_persistent_buffers_set': set(), '_backward_hooks': OrderedDict(), '_is_full_backward_hook': None, '_forward_hooks': OrderedDict(), '_forward_pre_hooks': OrderedDict(), '_state_dict_hooks': OrderedDict(), '_load_state_dict_pre_hooks': OrderedDict(), '_load_state_dict_post_hooks': OrderedDict(), '_modules': OrderedDict([('linear', Linear(in_features=102, out_features=37, bias=True))]), 'neuron_indices': tensor([1146, 1581,   87, 1321, 1741, 1387, 1081, 1563, 1250, 1187,  300, 1906,\n",
      "         199, 1576, 1494,  602, 1975, 1614,  148,  181, 1314, 1264,  938, 1662,\n",
      "         834,  926,  859, 1417, 1827,  540, 1983,  948,  710,  410, 1672, 1043,\n",
      "         818, 1198, 1493, 1802,  544, 1698, 1638, 1327, 1699, 1633, 1280, 1218,\n",
      "        1866, 1828, 2001,  337, 1098, 1331, 1902,  170, 1850,  599,  405, 1739,\n",
      "        1411, 1458, 1925, 1115, 1745,   42, 1277, 1310,  709,  273, 2008, 1637,\n",
      "         311,  290,  832,  785,  387, 1021,  668, 1654,  855,  334,  110, 1580,\n",
      "         415,  504, 1074,  824, 1809,  958, 1013,  511,  939, 1943, 1369, 1031,\n",
      "         335, 1788, 1611,  916, 1519,  736])}\n"
     ]
    },
    {
     "name": "stderr",
     "output_type": "stream",
     "text": [
      "LOCAL_RANK: 0 - CUDA_VISIBLE_DEVICES: [0,1,2,3,4,5,6,7]\n"
     ]
    },
    {
     "data": {
      "application/vnd.jupyter.widget-view+json": {
       "model_id": "98460820efec41ab8b45ce0c77be5b25",
       "version_major": 2,
       "version_minor": 0
      },
      "text/plain": [
       "Predicting: 0it [00:00, ?it/s]"
      ]
     },
     "metadata": {},
     "output_type": "display_data"
    },
    {
     "name": "stderr",
     "output_type": "stream",
     "text": [
      "Global seed set to 2\n",
      "Global seed set to 4\n",
      "GPU available: True, used: True\n",
      "TPU available: False, using: 0 TPU cores\n",
      "IPU available: False, using: 0 IPUs\n",
      "Global seed set to 0\n",
      "LOCAL_RANK: 0 - CUDA_VISIBLE_DEVICES: [0,1,2,3,4,5,6,7]\n"
     ]
    },
    {
     "name": "stdout",
     "output_type": "stream",
     "text": [
      "{'training': True, '_parameters': OrderedDict(), '_buffers': OrderedDict(), '_non_persistent_buffers_set': set(), '_backward_hooks': OrderedDict(), '_is_full_backward_hook': None, '_forward_hooks': OrderedDict(), '_forward_pre_hooks': OrderedDict(), '_state_dict_hooks': OrderedDict(), '_load_state_dict_pre_hooks': OrderedDict(), '_load_state_dict_post_hooks': OrderedDict(), '_modules': OrderedDict([('linear', Linear(in_features=204, out_features=37, bias=True))]), 'neuron_indices': tensor([1146, 1581,   87, 1321, 1741, 1387, 1081, 1563, 1250, 1187,  300, 1906,\n",
      "         199, 1576, 1494,  602, 1975, 1614,  148,  181, 1314, 1264,  938, 1662,\n",
      "         834,  926,  859, 1417, 1827,  540, 1983,  948,  710,  410, 1672, 1043,\n",
      "         818, 1198, 1493, 1802,  544, 1698, 1638, 1327, 1699, 1633, 1280, 1218,\n",
      "        1866, 1828, 2001,  337, 1098, 1331, 1902,  170, 1850,  599,  405, 1739,\n",
      "        1411, 1458, 1925, 1115, 1745,   42, 1277, 1310,  709,  273, 2008, 1637,\n",
      "         311,  290,  832,  785,  387, 1021,  668, 1654,  855,  334,  110, 1580,\n",
      "         415,  504, 1074,  824, 1809,  958, 1013,  511,  939, 1943, 1369, 1031,\n",
      "         335, 1788, 1611,  916, 1519,  736, 1974, 1055, 1509,  276, 1713, 1544,\n",
      "        1537, 1727, 1725, 1985, 1406, 1510,  282, 1222, 1196,  474,  465,  852,\n",
      "         153,  568, 1189, 1306, 1377, 1035, 1996, 1414,  955,  195, 1670,   19,\n",
      "         112,   66,   52,  510,  144, 1805,  847, 1239, 1338, 2035,  114,  417,\n",
      "         865,  437,  431,  947,   80, 1551,  737,  635, 2029, 1930, 1710,  842,\n",
      "        1595,  378, 1496, 1733,   91, 1648, 1311, 1152,  655, 1959,  662, 1765,\n",
      "         823, 1847, 1069,  426,  726, 1080, 1970, 1285,  623, 1562, 1931, 1071,\n",
      "         845, 1178,  516,   68,  906,    2,  177, 1270,  867,  218,  147,  119,\n",
      "         918,  631,   62, 1320,  959,  492,  828, 1195, 1110, 1771,  355,  775])}\n"
     ]
    },
    {
     "data": {
      "application/vnd.jupyter.widget-view+json": {
       "model_id": "d864d6b2e70c4446a13b78c6b318ca80",
       "version_major": 2,
       "version_minor": 0
      },
      "text/plain": [
       "Predicting: 0it [00:00, ?it/s]"
      ]
     },
     "metadata": {},
     "output_type": "display_data"
    },
    {
     "name": "stderr",
     "output_type": "stream",
     "text": [
      "Global seed set to 2\n",
      "Global seed set to 4\n",
      "GPU available: True, used: True\n",
      "TPU available: False, using: 0 TPU cores\n",
      "IPU available: False, using: 0 IPUs\n",
      "Global seed set to 0\n",
      "LOCAL_RANK: 0 - CUDA_VISIBLE_DEVICES: [0,1,2,3,4,5,6,7]\n"
     ]
    },
    {
     "name": "stdout",
     "output_type": "stream",
     "text": [
      "{'training': True, '_parameters': OrderedDict(), '_buffers': OrderedDict(), '_non_persistent_buffers_set': set(), '_backward_hooks': OrderedDict(), '_is_full_backward_hook': None, '_forward_hooks': OrderedDict(), '_forward_pre_hooks': OrderedDict(), '_state_dict_hooks': OrderedDict(), '_load_state_dict_pre_hooks': OrderedDict(), '_load_state_dict_post_hooks': OrderedDict(), '_modules': OrderedDict([('linear', Linear(in_features=409, out_features=37, bias=True))]), 'neuron_indices': tensor([1146, 1581,   87, 1321, 1741, 1387, 1081, 1563, 1250, 1187,  300, 1906,\n",
      "         199, 1576, 1494,  602, 1975, 1614,  148,  181, 1314, 1264,  938, 1662,\n",
      "         834,  926,  859, 1417, 1827,  540, 1983,  948,  710,  410, 1672, 1043,\n",
      "         818, 1198, 1493, 1802,  544, 1698, 1638, 1327, 1699, 1633, 1280, 1218,\n",
      "        1866, 1828, 2001,  337, 1098, 1331, 1902,  170, 1850,  599,  405, 1739,\n",
      "        1411, 1458, 1925, 1115, 1745,   42, 1277, 1310,  709,  273, 2008, 1637,\n",
      "         311,  290,  832,  785,  387, 1021,  668, 1654,  855,  334,  110, 1580,\n",
      "         415,  504, 1074,  824, 1809,  958, 1013,  511,  939, 1943, 1369, 1031,\n",
      "         335, 1788, 1611,  916, 1519,  736, 1974, 1055, 1509,  276, 1713, 1544,\n",
      "        1537, 1727, 1725, 1985, 1406, 1510,  282, 1222, 1196,  474,  465,  852,\n",
      "         153,  568, 1189, 1306, 1377, 1035, 1996, 1414,  955,  195, 1670,   19,\n",
      "         112,   66,   52,  510,  144, 1805,  847, 1239, 1338, 2035,  114,  417,\n",
      "         865,  437,  431,  947,   80, 1551,  737,  635, 2029, 1930, 1710,  842,\n",
      "        1595,  378, 1496, 1733,   91, 1648, 1311, 1152,  655, 1959,  662, 1765,\n",
      "         823, 1847, 1069,  426,  726, 1080, 1970, 1285,  623, 1562, 1931, 1071,\n",
      "         845, 1178,  516,   68,  906,    2,  177, 1270,  867,  218,  147,  119,\n",
      "         918,  631,   62, 1320,  959,  492,  828, 1195, 1110, 1771,  355,  775,\n",
      "         173,   86,  647, 1630,  581,  105, 1201, 1966,  527, 1701, 1675, 1173,\n",
      "        1816,    1,  951, 1288,  896,  887, 1896,  289, 2032, 1303,  954, 1168,\n",
      "         133,  930, 1808, 1524, 2020,  820,  741,  283, 1476,  407, 1151, 1518,\n",
      "         142,  450,  858,  408,  319, 1386, 1265,  722, 1617,  621, 1240, 1009,\n",
      "        1732, 1372, 1640, 1702,  240,  210,  255,  553,  753,  468, 1301,  976,\n",
      "        1337, 1342,  843, 1365,  303,  777,  520, 1293, 1020, 1143, 1786,  788,\n",
      "        1005,   10, 1167, 1803,  713, 1216,  121, 1207, 1261,  934, 1955, 1598,\n",
      "         985, 1875, 1502, 1230, 1144,  490,   57, 1273,  780, 1374,  102,  473,\n",
      "        1034, 1977, 1241, 1871,   96, 2034, 1536,  681,    6, 1659, 2027, 1122,\n",
      "         284, 1260,  275, 1245, 1096, 1861, 1099,  745, 1028,  725,  927,  344,\n",
      "         131,  503,  440,  667, 1166, 1204, 1813,  758,  917, 1419, 1107,  430,\n",
      "        1874,  178, 1892, 1139,  302, 1619, 2039, 1284,  392, 1907,  116,  377,\n",
      "        1729, 1319, 1312,  577, 1607,  749,  658, 1763,  214, 1299,  549, 1333,\n",
      "         307, 1717, 1738,   50,  804,  230,  691,  727, 1486, 1413, 1127,  358,\n",
      "        1389, 1910, 1466,  375, 1036,  506,  489, 1401,  811, 1163, 1488,  628,\n",
      "         750,  966, 1552, 1831, 1451, 1799,  399, 1665, 1318,  505,  308, 1422,\n",
      "         422, 1646,  701, 1722,  455,  404,  773, 1209,  822,  898,   40, 1171,\n",
      "         363])}\n"
     ]
    },
    {
     "data": {
      "application/vnd.jupyter.widget-view+json": {
       "model_id": "cca8a181224f4b1882868f1df600e3b5",
       "version_major": 2,
       "version_minor": 0
      },
      "text/plain": [
       "Predicting: 0it [00:00, ?it/s]"
      ]
     },
     "metadata": {},
     "output_type": "display_data"
    },
    {
     "name": "stderr",
     "output_type": "stream",
     "text": [
      "Global seed set to 2\n",
      "Global seed set to 4\n",
      "GPU available: True, used: True\n",
      "TPU available: False, using: 0 TPU cores\n",
      "IPU available: False, using: 0 IPUs\n",
      "Global seed set to 0\n"
     ]
    },
    {
     "name": "stdout",
     "output_type": "stream",
     "text": [
      "{'training': True, '_parameters': OrderedDict(), '_buffers': OrderedDict(), '_non_persistent_buffers_set': set(), '_backward_hooks': OrderedDict(), '_is_full_backward_hook': None, '_forward_hooks': OrderedDict(), '_forward_pre_hooks': OrderedDict(), '_state_dict_hooks': OrderedDict(), '_load_state_dict_pre_hooks': OrderedDict(), '_load_state_dict_post_hooks': OrderedDict(), '_modules': OrderedDict([('linear', Linear(in_features=614, out_features=37, bias=True))]), 'neuron_indices': tensor([1146, 1581,   87, 1321, 1741, 1387, 1081, 1563, 1250, 1187,  300, 1906,\n",
      "         199, 1576, 1494,  602, 1975, 1614,  148,  181, 1314, 1264,  938, 1662,\n",
      "         834,  926,  859, 1417, 1827,  540, 1983,  948,  710,  410, 1672, 1043,\n",
      "         818, 1198, 1493, 1802,  544, 1698, 1638, 1327, 1699, 1633, 1280, 1218,\n",
      "        1866, 1828, 2001,  337, 1098, 1331, 1902,  170, 1850,  599,  405, 1739,\n",
      "        1411, 1458, 1925, 1115, 1745,   42, 1277, 1310,  709,  273, 2008, 1637,\n",
      "         311,  290,  832,  785,  387, 1021,  668, 1654,  855,  334,  110, 1580,\n",
      "         415,  504, 1074,  824, 1809,  958, 1013,  511,  939, 1943, 1369, 1031,\n",
      "         335, 1788, 1611,  916, 1519,  736, 1974, 1055, 1509,  276, 1713, 1544,\n",
      "        1537, 1727, 1725, 1985, 1406, 1510,  282, 1222, 1196,  474,  465,  852,\n",
      "         153,  568, 1189, 1306, 1377, 1035, 1996, 1414,  955,  195, 1670,   19,\n",
      "         112,   66,   52,  510,  144, 1805,  847, 1239, 1338, 2035,  114,  417,\n",
      "         865,  437,  431,  947,   80, 1551,  737,  635, 2029, 1930, 1710,  842,\n",
      "        1595,  378, 1496, 1733,   91, 1648, 1311, 1152,  655, 1959,  662, 1765,\n",
      "         823, 1847, 1069,  426,  726, 1080, 1970, 1285,  623, 1562, 1931, 1071,\n",
      "         845, 1178,  516,   68,  906,    2,  177, 1270,  867,  218,  147,  119,\n",
      "         918,  631,   62, 1320,  959,  492,  828, 1195, 1110, 1771,  355,  775,\n",
      "         173,   86,  647, 1630,  581,  105, 1201, 1966,  527, 1701, 1675, 1173,\n",
      "        1816,    1,  951, 1288,  896,  887, 1896,  289, 2032, 1303,  954, 1168,\n",
      "         133,  930, 1808, 1524, 2020,  820,  741,  283, 1476,  407, 1151, 1518,\n",
      "         142,  450,  858,  408,  319, 1386, 1265,  722, 1617,  621, 1240, 1009,\n",
      "        1732, 1372, 1640, 1702,  240,  210,  255,  553,  753,  468, 1301,  976,\n",
      "        1337, 1342,  843, 1365,  303,  777,  520, 1293, 1020, 1143, 1786,  788,\n",
      "        1005,   10, 1167, 1803,  713, 1216,  121, 1207, 1261,  934, 1955, 1598,\n",
      "         985, 1875, 1502, 1230, 1144,  490,   57, 1273,  780, 1374,  102,  473,\n",
      "        1034, 1977, 1241, 1871,   96, 2034, 1536,  681,    6, 1659, 2027, 1122,\n",
      "         284, 1260,  275, 1245, 1096, 1861, 1099,  745, 1028,  725,  927,  344,\n",
      "         131,  503,  440,  667, 1166, 1204, 1813,  758,  917, 1419, 1107,  430,\n",
      "        1874,  178, 1892, 1139,  302, 1619, 2039, 1284,  392, 1907,  116,  377,\n",
      "        1729, 1319, 1312,  577, 1607,  749,  658, 1763,  214, 1299,  549, 1333,\n",
      "         307, 1717, 1738,   50,  804,  230,  691,  727, 1486, 1413, 1127,  358,\n",
      "        1389, 1910, 1466,  375, 1036,  506,  489, 1401,  811, 1163, 1488,  628,\n",
      "         750,  966, 1552, 1831, 1451, 1799,  399, 1665, 1318,  505,  308, 1422,\n",
      "         422, 1646,  701, 1722,  455,  404,  773, 1209,  822,  898,   40, 1171,\n",
      "         363, 1656, 1990, 1024, 1089,  151,  915, 1503,  124, 1227,  724,  835,\n",
      "        2016,  369, 1047, 1251,  265,  903,  965, 1412, 1049, 1574,  388, 2028,\n",
      "        1269, 1016,  794,  164,   55,  433,  921, 1731,  157,  650, 1102,  361,\n",
      "        1950, 1423, 1500, 1857,  559, 1819,  100, 1904,  539,  587, 1751,  669,\n",
      "         808,   78,  626, 1103, 1348, 1571,  932,  684, 1801, 1810,  755, 1463,\n",
      "        1756,  281,  183,  908,  717, 1007,  768,  836, 1995,  732,   36,  570,\n",
      "        1653, 1632,  385,  584, 1775, 2046,  233, 1603,  462, 1682,  826,  952,\n",
      "         442, 1443, 1597, 1307,  258, 1666,  610,  379, 1084, 2009,  253,  671,\n",
      "        1929, 1172,  708, 1923, 1217,  349,  673,  497, 1433,  574, 1714,  432,\n",
      "        1556,  620,  909,  321,  306,  967,   18,   64,  309, 1558,  792,  840,\n",
      "         876,  793,  619,  770, 1853,  428,   85,  356, 1833,  320,  326,  692,\n",
      "        1029, 1448, 1940,  254, 1057, 2045, 1769,  678,  139,   89, 1001,  534,\n",
      "          99, 1046,   51, 1134, 1491, 1002,  653,  165,  945, 1795, 1117, 1620,\n",
      "        1498, 1649,  663, 1600, 1453,  277, 1233, 1392,  812,  595, 1092, 1612,\n",
      "         382, 1863, 1297, 1471,  884, 1900, 1881, 1527, 1532, 1206,   71, 1148,\n",
      "         984,  627, 1482,  586,  698, 1604,  815, 1700, 1671,  656,  508,  458,\n",
      "         936,    9,  108, 1111,  998,  530, 1542, 1590, 1180,  548, 1998,  969,\n",
      "        1116, 1565])}\n"
     ]
    },
    {
     "name": "stderr",
     "output_type": "stream",
     "text": [
      "LOCAL_RANK: 0 - CUDA_VISIBLE_DEVICES: [0,1,2,3,4,5,6,7]\n"
     ]
    },
    {
     "data": {
      "application/vnd.jupyter.widget-view+json": {
       "model_id": "20775d36af4a44d192fa1a4b22050113",
       "version_major": 2,
       "version_minor": 0
      },
      "text/plain": [
       "Predicting: 0it [00:00, ?it/s]"
      ]
     },
     "metadata": {},
     "output_type": "display_data"
    },
    {
     "name": "stderr",
     "output_type": "stream",
     "text": [
      "Global seed set to 2\n",
      "Global seed set to 4\n",
      "GPU available: True, used: True\n",
      "TPU available: False, using: 0 TPU cores\n",
      "IPU available: False, using: 0 IPUs\n",
      "Global seed set to 0\n",
      "LOCAL_RANK: 0 - CUDA_VISIBLE_DEVICES: [0,1,2,3,4,5,6,7]\n"
     ]
    },
    {
     "name": "stdout",
     "output_type": "stream",
     "text": [
      "{'training': True, '_parameters': OrderedDict(), '_buffers': OrderedDict(), '_non_persistent_buffers_set': set(), '_backward_hooks': OrderedDict(), '_is_full_backward_hook': None, '_forward_hooks': OrderedDict(), '_forward_pre_hooks': OrderedDict(), '_state_dict_hooks': OrderedDict(), '_load_state_dict_pre_hooks': OrderedDict(), '_load_state_dict_post_hooks': OrderedDict(), '_modules': OrderedDict([('linear', Linear(in_features=1024, out_features=37, bias=True))]), 'neuron_indices': tensor([1146, 1581,   87,  ...,  704,  766, 1596])}\n"
     ]
    },
    {
     "data": {
      "application/vnd.jupyter.widget-view+json": {
       "model_id": "7c6f428d3fc04a5caba449e5f8a92a10",
       "version_major": 2,
       "version_minor": 0
      },
      "text/plain": [
       "Predicting: 0it [00:00, ?it/s]"
      ]
     },
     "metadata": {},
     "output_type": "display_data"
    },
    {
     "name": "stderr",
     "output_type": "stream",
     "text": [
      "Global seed set to 2\n",
      "Global seed set to 4\n",
      "GPU available: True, used: True\n",
      "TPU available: False, using: 0 TPU cores\n",
      "IPU available: False, using: 0 IPUs\n",
      "Global seed set to 0\n"
     ]
    },
    {
     "name": "stdout",
     "output_type": "stream",
     "text": [
      "{'training': True, '_parameters': OrderedDict(), '_buffers': OrderedDict(), '_non_persistent_buffers_set': set(), '_backward_hooks': OrderedDict(), '_is_full_backward_hook': None, '_forward_hooks': OrderedDict(), '_forward_pre_hooks': OrderedDict(), '_state_dict_hooks': OrderedDict(), '_load_state_dict_pre_hooks': OrderedDict(), '_load_state_dict_post_hooks': OrderedDict(), '_modules': OrderedDict([('linear', Linear(in_features=1638, out_features=37, bias=True))]), 'neuron_indices': tensor([1146, 1581,   87,  ...,  231, 1078,  854])}\n"
     ]
    },
    {
     "name": "stderr",
     "output_type": "stream",
     "text": [
      "LOCAL_RANK: 0 - CUDA_VISIBLE_DEVICES: [0,1,2,3,4,5,6,7]\n"
     ]
    },
    {
     "data": {
      "application/vnd.jupyter.widget-view+json": {
       "model_id": "694df8437d7840788908c553b35379f5",
       "version_major": 2,
       "version_minor": 0
      },
      "text/plain": [
       "Predicting: 0it [00:00, ?it/s]"
      ]
     },
     "metadata": {},
     "output_type": "display_data"
    },
    {
     "name": "stderr",
     "output_type": "stream",
     "text": [
      "Global seed set to 2\n",
      "Global seed set to 4\n",
      "GPU available: True, used: True\n",
      "TPU available: False, using: 0 TPU cores\n",
      "IPU available: False, using: 0 IPUs\n",
      "Global seed set to 0\n",
      "LOCAL_RANK: 0 - CUDA_VISIBLE_DEVICES: [0,1,2,3,4,5,6,7]\n"
     ]
    },
    {
     "name": "stdout",
     "output_type": "stream",
     "text": [
      "{'training': True, '_parameters': OrderedDict(), '_buffers': OrderedDict(), '_non_persistent_buffers_set': set(), '_backward_hooks': OrderedDict(), '_is_full_backward_hook': None, '_forward_hooks': OrderedDict(), '_forward_pre_hooks': OrderedDict(), '_state_dict_hooks': OrderedDict(), '_load_state_dict_pre_hooks': OrderedDict(), '_load_state_dict_post_hooks': OrderedDict(), '_modules': OrderedDict([('linear', Linear(in_features=1843, out_features=37, bias=True))]), 'neuron_indices': tensor([1146, 1581,   87,  ...,  643, 1368, 1454])}\n"
     ]
    },
    {
     "data": {
      "application/vnd.jupyter.widget-view+json": {
       "model_id": "bc0154771b7c454ab98a86683a5c21c7",
       "version_major": 2,
       "version_minor": 0
      },
      "text/plain": [
       "Predicting: 0it [00:00, ?it/s]"
      ]
     },
     "metadata": {},
     "output_type": "display_data"
    },
    {
     "name": "stderr",
     "output_type": "stream",
     "text": [
      "Global seed set to 2\n",
      "Global seed set to 5\n",
      "GPU available: True, used: True\n",
      "TPU available: False, using: 0 TPU cores\n",
      "IPU available: False, using: 0 IPUs\n",
      "Global seed set to 0\n",
      "LOCAL_RANK: 0 - CUDA_VISIBLE_DEVICES: [0,1,2,3,4,5,6,7]\n"
     ]
    },
    {
     "name": "stdout",
     "output_type": "stream",
     "text": [
      "{'training': True, '_parameters': OrderedDict(), '_buffers': OrderedDict(), '_non_persistent_buffers_set': set(), '_backward_hooks': OrderedDict(), '_is_full_backward_hook': None, '_forward_hooks': OrderedDict(), '_forward_pre_hooks': OrderedDict(), '_state_dict_hooks': OrderedDict(), '_load_state_dict_pre_hooks': OrderedDict(), '_load_state_dict_post_hooks': OrderedDict(), '_modules': OrderedDict([('linear', Linear(in_features=1, out_features=37, bias=True))]), 'neuron_indices': tensor([867])}\n"
     ]
    },
    {
     "data": {
      "application/vnd.jupyter.widget-view+json": {
       "model_id": "c92d1a816ce34f168f3b22c7d4154d15",
       "version_major": 2,
       "version_minor": 0
      },
      "text/plain": [
       "Predicting: 0it [00:00, ?it/s]"
      ]
     },
     "metadata": {},
     "output_type": "display_data"
    },
    {
     "name": "stderr",
     "output_type": "stream",
     "text": [
      "Global seed set to 2\n",
      "Global seed set to 5\n",
      "GPU available: True, used: True\n",
      "TPU available: False, using: 0 TPU cores\n",
      "IPU available: False, using: 0 IPUs\n",
      "Global seed set to 0\n"
     ]
    },
    {
     "name": "stdout",
     "output_type": "stream",
     "text": [
      "{'training': True, '_parameters': OrderedDict(), '_buffers': OrderedDict(), '_non_persistent_buffers_set': set(), '_backward_hooks': OrderedDict(), '_is_full_backward_hook': None, '_forward_hooks': OrderedDict(), '_forward_pre_hooks': OrderedDict(), '_state_dict_hooks': OrderedDict(), '_load_state_dict_pre_hooks': OrderedDict(), '_load_state_dict_post_hooks': OrderedDict(), '_modules': OrderedDict([('linear', Linear(in_features=2, out_features=37, bias=True))]), 'neuron_indices': tensor([ 867, 1296])}\n"
     ]
    },
    {
     "name": "stderr",
     "output_type": "stream",
     "text": [
      "LOCAL_RANK: 0 - CUDA_VISIBLE_DEVICES: [0,1,2,3,4,5,6,7]\n"
     ]
    },
    {
     "data": {
      "application/vnd.jupyter.widget-view+json": {
       "model_id": "31790378d5334f738d35e9501098733f",
       "version_major": 2,
       "version_minor": 0
      },
      "text/plain": [
       "Predicting: 0it [00:00, ?it/s]"
      ]
     },
     "metadata": {},
     "output_type": "display_data"
    },
    {
     "name": "stderr",
     "output_type": "stream",
     "text": [
      "Global seed set to 2\n",
      "Global seed set to 5\n",
      "GPU available: True, used: True\n",
      "TPU available: False, using: 0 TPU cores\n",
      "IPU available: False, using: 0 IPUs\n",
      "Global seed set to 0\n",
      "LOCAL_RANK: 0 - CUDA_VISIBLE_DEVICES: [0,1,2,3,4,5,6,7]\n"
     ]
    },
    {
     "name": "stdout",
     "output_type": "stream",
     "text": [
      "{'training': True, '_parameters': OrderedDict(), '_buffers': OrderedDict(), '_non_persistent_buffers_set': set(), '_backward_hooks': OrderedDict(), '_is_full_backward_hook': None, '_forward_hooks': OrderedDict(), '_forward_pre_hooks': OrderedDict(), '_state_dict_hooks': OrderedDict(), '_load_state_dict_pre_hooks': OrderedDict(), '_load_state_dict_post_hooks': OrderedDict(), '_modules': OrderedDict([('linear', Linear(in_features=4, out_features=37, bias=True))]), 'neuron_indices': tensor([ 867, 1296, 2037,  878])}\n"
     ]
    },
    {
     "data": {
      "application/vnd.jupyter.widget-view+json": {
       "model_id": "ee1e26cfc3cf4e3985f3b8cce5b5d41d",
       "version_major": 2,
       "version_minor": 0
      },
      "text/plain": [
       "Predicting: 0it [00:00, ?it/s]"
      ]
     },
     "metadata": {},
     "output_type": "display_data"
    },
    {
     "name": "stderr",
     "output_type": "stream",
     "text": [
      "Global seed set to 2\n",
      "Global seed set to 5\n",
      "GPU available: True, used: True\n",
      "TPU available: False, using: 0 TPU cores\n",
      "IPU available: False, using: 0 IPUs\n",
      "Global seed set to 0\n"
     ]
    },
    {
     "name": "stdout",
     "output_type": "stream",
     "text": [
      "{'training': True, '_parameters': OrderedDict(), '_buffers': OrderedDict(), '_non_persistent_buffers_set': set(), '_backward_hooks': OrderedDict(), '_is_full_backward_hook': None, '_forward_hooks': OrderedDict(), '_forward_pre_hooks': OrderedDict(), '_state_dict_hooks': OrderedDict(), '_load_state_dict_pre_hooks': OrderedDict(), '_load_state_dict_post_hooks': OrderedDict(), '_modules': OrderedDict([('linear', Linear(in_features=6, out_features=37, bias=True))]), 'neuron_indices': tensor([ 867, 1296, 2037,  878, 1774,  921])}\n"
     ]
    },
    {
     "name": "stderr",
     "output_type": "stream",
     "text": [
      "LOCAL_RANK: 0 - CUDA_VISIBLE_DEVICES: [0,1,2,3,4,5,6,7]\n"
     ]
    },
    {
     "data": {
      "application/vnd.jupyter.widget-view+json": {
       "model_id": "e8c730be0f1d41f79ae8da4c5f76b5c9",
       "version_major": 2,
       "version_minor": 0
      },
      "text/plain": [
       "Predicting: 0it [00:00, ?it/s]"
      ]
     },
     "metadata": {},
     "output_type": "display_data"
    },
    {
     "name": "stderr",
     "output_type": "stream",
     "text": [
      "Global seed set to 2\n",
      "Global seed set to 5\n",
      "GPU available: True, used: True\n",
      "TPU available: False, using: 0 TPU cores\n",
      "IPU available: False, using: 0 IPUs\n",
      "Global seed set to 0\n",
      "LOCAL_RANK: 0 - CUDA_VISIBLE_DEVICES: [0,1,2,3,4,5,6,7]\n"
     ]
    },
    {
     "name": "stdout",
     "output_type": "stream",
     "text": [
      "{'training': True, '_parameters': OrderedDict(), '_buffers': OrderedDict(), '_non_persistent_buffers_set': set(), '_backward_hooks': OrderedDict(), '_is_full_backward_hook': None, '_forward_hooks': OrderedDict(), '_forward_pre_hooks': OrderedDict(), '_state_dict_hooks': OrderedDict(), '_load_state_dict_pre_hooks': OrderedDict(), '_load_state_dict_post_hooks': OrderedDict(), '_modules': OrderedDict([('linear', Linear(in_features=8, out_features=37, bias=True))]), 'neuron_indices': tensor([ 867, 1296, 2037,  878, 1774,  921,  464, 1591])}\n"
     ]
    },
    {
     "data": {
      "application/vnd.jupyter.widget-view+json": {
       "model_id": "fa8bc19f78b94a2b8fb95175cbfca264",
       "version_major": 2,
       "version_minor": 0
      },
      "text/plain": [
       "Predicting: 0it [00:00, ?it/s]"
      ]
     },
     "metadata": {},
     "output_type": "display_data"
    },
    {
     "name": "stderr",
     "output_type": "stream",
     "text": [
      "Global seed set to 2\n",
      "Global seed set to 5\n",
      "GPU available: True, used: True\n",
      "TPU available: False, using: 0 TPU cores\n",
      "IPU available: False, using: 0 IPUs\n",
      "Global seed set to 0\n",
      "LOCAL_RANK: 0 - CUDA_VISIBLE_DEVICES: [0,1,2,3,4,5,6,7]\n"
     ]
    },
    {
     "name": "stdout",
     "output_type": "stream",
     "text": [
      "{'training': True, '_parameters': OrderedDict(), '_buffers': OrderedDict(), '_non_persistent_buffers_set': set(), '_backward_hooks': OrderedDict(), '_is_full_backward_hook': None, '_forward_hooks': OrderedDict(), '_forward_pre_hooks': OrderedDict(), '_state_dict_hooks': OrderedDict(), '_load_state_dict_pre_hooks': OrderedDict(), '_load_state_dict_post_hooks': OrderedDict(), '_modules': OrderedDict([('linear', Linear(in_features=10, out_features=37, bias=True))]), 'neuron_indices': tensor([ 867, 1296, 2037,  878, 1774,  921,  464, 1591,  536, 1652])}\n"
     ]
    },
    {
     "data": {
      "application/vnd.jupyter.widget-view+json": {
       "model_id": "b5d6e091503b415db799971b1d09cfd2",
       "version_major": 2,
       "version_minor": 0
      },
      "text/plain": [
       "Predicting: 0it [00:00, ?it/s]"
      ]
     },
     "metadata": {},
     "output_type": "display_data"
    },
    {
     "name": "stderr",
     "output_type": "stream",
     "text": [
      "Global seed set to 2\n",
      "Global seed set to 5\n",
      "GPU available: True, used: True\n",
      "TPU available: False, using: 0 TPU cores\n",
      "IPU available: False, using: 0 IPUs\n",
      "Global seed set to 0\n"
     ]
    },
    {
     "name": "stdout",
     "output_type": "stream",
     "text": [
      "{'training': True, '_parameters': OrderedDict(), '_buffers': OrderedDict(), '_non_persistent_buffers_set': set(), '_backward_hooks': OrderedDict(), '_is_full_backward_hook': None, '_forward_hooks': OrderedDict(), '_forward_pre_hooks': OrderedDict(), '_state_dict_hooks': OrderedDict(), '_load_state_dict_pre_hooks': OrderedDict(), '_load_state_dict_post_hooks': OrderedDict(), '_modules': OrderedDict([('linear', Linear(in_features=20, out_features=37, bias=True))]), 'neuron_indices': tensor([ 867, 1296, 2037,  878, 1774,  921,  464, 1591,  536, 1652, 1757, 1928,\n",
      "         311, 1450, 1076, 1564, 1687, 1403, 1445, 1530])}\n"
     ]
    },
    {
     "name": "stderr",
     "output_type": "stream",
     "text": [
      "LOCAL_RANK: 0 - CUDA_VISIBLE_DEVICES: [0,1,2,3,4,5,6,7]\n"
     ]
    },
    {
     "data": {
      "application/vnd.jupyter.widget-view+json": {
       "model_id": "a394dec875ed4edca508a82af7f6d735",
       "version_major": 2,
       "version_minor": 0
      },
      "text/plain": [
       "Predicting: 0it [00:00, ?it/s]"
      ]
     },
     "metadata": {},
     "output_type": "display_data"
    },
    {
     "name": "stderr",
     "output_type": "stream",
     "text": [
      "Global seed set to 2\n",
      "Global seed set to 5\n",
      "GPU available: True, used: True\n",
      "TPU available: False, using: 0 TPU cores\n",
      "IPU available: False, using: 0 IPUs\n",
      "Global seed set to 0\n",
      "LOCAL_RANK: 0 - CUDA_VISIBLE_DEVICES: [0,1,2,3,4,5,6,7]\n"
     ]
    },
    {
     "name": "stdout",
     "output_type": "stream",
     "text": [
      "{'training': True, '_parameters': OrderedDict(), '_buffers': OrderedDict(), '_non_persistent_buffers_set': set(), '_backward_hooks': OrderedDict(), '_is_full_backward_hook': None, '_forward_hooks': OrderedDict(), '_forward_pre_hooks': OrderedDict(), '_state_dict_hooks': OrderedDict(), '_load_state_dict_pre_hooks': OrderedDict(), '_load_state_dict_post_hooks': OrderedDict(), '_modules': OrderedDict([('linear', Linear(in_features=102, out_features=37, bias=True))]), 'neuron_indices': tensor([ 867, 1296, 2037,  878, 1774,  921,  464, 1591,  536, 1652, 1757, 1928,\n",
      "         311, 1450, 1076, 1564, 1687, 1403, 1445, 1530, 1241, 1320, 1572,  932,\n",
      "        1524, 1775, 1821,  515, 2011,  791,  206, 1714, 1885,  942, 1980,  629,\n",
      "         437, 1519,  493,  977,  686, 1081, 1672, 1725,   52,  642, 1011, 1405,\n",
      "           6,  936,  782,  144, 1300, 1072, 1671,  498, 1239, 1709, 1314, 1551,\n",
      "          97, 1795,  705, 1578, 1841,  475, 1251,  423, 1844, 1635,  190,  537,\n",
      "         795,  589,  335,  259,  229, 1059, 1977,   10,  334,  434, 1135, 1691,\n",
      "         561, 1848,  307,   84,  150,  816,  790, 1266,   35,  327,  205,   40,\n",
      "        1925,  103,  679,  374, 1632,  560])}\n"
     ]
    },
    {
     "data": {
      "application/vnd.jupyter.widget-view+json": {
       "model_id": "93a674f8b062418e98d78846096a830a",
       "version_major": 2,
       "version_minor": 0
      },
      "text/plain": [
       "Predicting: 0it [00:00, ?it/s]"
      ]
     },
     "metadata": {},
     "output_type": "display_data"
    },
    {
     "name": "stderr",
     "output_type": "stream",
     "text": [
      "Global seed set to 2\n",
      "Global seed set to 5\n",
      "GPU available: True, used: True\n",
      "TPU available: False, using: 0 TPU cores\n",
      "IPU available: False, using: 0 IPUs\n",
      "Global seed set to 0\n",
      "LOCAL_RANK: 0 - CUDA_VISIBLE_DEVICES: [0,1,2,3,4,5,6,7]\n"
     ]
    },
    {
     "name": "stdout",
     "output_type": "stream",
     "text": [
      "{'training': True, '_parameters': OrderedDict(), '_buffers': OrderedDict(), '_non_persistent_buffers_set': set(), '_backward_hooks': OrderedDict(), '_is_full_backward_hook': None, '_forward_hooks': OrderedDict(), '_forward_pre_hooks': OrderedDict(), '_state_dict_hooks': OrderedDict(), '_load_state_dict_pre_hooks': OrderedDict(), '_load_state_dict_post_hooks': OrderedDict(), '_modules': OrderedDict([('linear', Linear(in_features=204, out_features=37, bias=True))]), 'neuron_indices': tensor([ 867, 1296, 2037,  878, 1774,  921,  464, 1591,  536, 1652, 1757, 1928,\n",
      "         311, 1450, 1076, 1564, 1687, 1403, 1445, 1530, 1241, 1320, 1572,  932,\n",
      "        1524, 1775, 1821,  515, 2011,  791,  206, 1714, 1885,  942, 1980,  629,\n",
      "         437, 1519,  493,  977,  686, 1081, 1672, 1725,   52,  642, 1011, 1405,\n",
      "           6,  936,  782,  144, 1300, 1072, 1671,  498, 1239, 1709, 1314, 1551,\n",
      "          97, 1795,  705, 1578, 1841,  475, 1251,  423, 1844, 1635,  190,  537,\n",
      "         795,  589,  335,  259,  229, 1059, 1977,   10,  334,  434, 1135, 1691,\n",
      "         561, 1848,  307,   84,  150,  816,  790, 1266,   35,  327,  205,   40,\n",
      "        1925,  103,  679,  374, 1632,  560,  294, 1022, 1048,   44, 2036, 1952,\n",
      "        1404,  749, 1570, 1111,  718, 1322, 1038, 1335,  343, 1636, 1733, 1124,\n",
      "         872,  169, 2020,  579,  618, 1377,  422, 1184,  773, 1158, 1438,  265,\n",
      "        1581, 1548,  840,  924,   18,  550,  956,   15,  216,   45, 1224,  617,\n",
      "         479,  808,  261, 1670, 1044,  262, 1096, 1589, 1340, 1742, 1285, 1846,\n",
      "        1428, 1121,  338, 1979,  915,  255, 1939,  386, 1755,  969, 1994, 1574,\n",
      "        1411, 1880, 1499,  907,  108,   55,  118, 1123, 1836,  676, 1562,  688,\n",
      "        1083, 1325,   50, 1352,  266, 1855, 1283,  208, 1796, 1192,  445, 1516,\n",
      "        1095, 1371, 1250,  520,  356,  559, 1738, 1471, 1456, 1149, 1033, 1831])}\n"
     ]
    },
    {
     "data": {
      "application/vnd.jupyter.widget-view+json": {
       "model_id": "3d2e1e872f7449e385ef49c4d8ca1fb3",
       "version_major": 2,
       "version_minor": 0
      },
      "text/plain": [
       "Predicting: 0it [00:00, ?it/s]"
      ]
     },
     "metadata": {},
     "output_type": "display_data"
    },
    {
     "name": "stderr",
     "output_type": "stream",
     "text": [
      "Global seed set to 2\n",
      "Global seed set to 5\n",
      "GPU available: True, used: True\n",
      "TPU available: False, using: 0 TPU cores\n",
      "IPU available: False, using: 0 IPUs\n",
      "Global seed set to 0\n",
      "LOCAL_RANK: 0 - CUDA_VISIBLE_DEVICES: [0,1,2,3,4,5,6,7]\n"
     ]
    },
    {
     "name": "stdout",
     "output_type": "stream",
     "text": [
      "{'training': True, '_parameters': OrderedDict(), '_buffers': OrderedDict(), '_non_persistent_buffers_set': set(), '_backward_hooks': OrderedDict(), '_is_full_backward_hook': None, '_forward_hooks': OrderedDict(), '_forward_pre_hooks': OrderedDict(), '_state_dict_hooks': OrderedDict(), '_load_state_dict_pre_hooks': OrderedDict(), '_load_state_dict_post_hooks': OrderedDict(), '_modules': OrderedDict([('linear', Linear(in_features=409, out_features=37, bias=True))]), 'neuron_indices': tensor([ 867, 1296, 2037,  878, 1774,  921,  464, 1591,  536, 1652, 1757, 1928,\n",
      "         311, 1450, 1076, 1564, 1687, 1403, 1445, 1530, 1241, 1320, 1572,  932,\n",
      "        1524, 1775, 1821,  515, 2011,  791,  206, 1714, 1885,  942, 1980,  629,\n",
      "         437, 1519,  493,  977,  686, 1081, 1672, 1725,   52,  642, 1011, 1405,\n",
      "           6,  936,  782,  144, 1300, 1072, 1671,  498, 1239, 1709, 1314, 1551,\n",
      "          97, 1795,  705, 1578, 1841,  475, 1251,  423, 1844, 1635,  190,  537,\n",
      "         795,  589,  335,  259,  229, 1059, 1977,   10,  334,  434, 1135, 1691,\n",
      "         561, 1848,  307,   84,  150,  816,  790, 1266,   35,  327,  205,   40,\n",
      "        1925,  103,  679,  374, 1632,  560,  294, 1022, 1048,   44, 2036, 1952,\n",
      "        1404,  749, 1570, 1111,  718, 1322, 1038, 1335,  343, 1636, 1733, 1124,\n",
      "         872,  169, 2020,  579,  618, 1377,  422, 1184,  773, 1158, 1438,  265,\n",
      "        1581, 1548,  840,  924,   18,  550,  956,   15,  216,   45, 1224,  617,\n",
      "         479,  808,  261, 1670, 1044,  262, 1096, 1589, 1340, 1742, 1285, 1846,\n",
      "        1428, 1121,  338, 1979,  915,  255, 1939,  386, 1755,  969, 1994, 1574,\n",
      "        1411, 1880, 1499,  907,  108,   55,  118, 1123, 1836,  676, 1562,  688,\n",
      "        1083, 1325,   50, 1352,  266, 1855, 1283,  208, 1796, 1192,  445, 1516,\n",
      "        1095, 1371, 1250,  520,  356,  559, 1738, 1471, 1456, 1149, 1033, 1831,\n",
      "         665,  211,  127, 1041, 1547,  117, 1760, 1246, 1118,  830, 1087, 1909,\n",
      "        1893, 1533, 1217, 1631, 1607,  731,  770,  677,  854, 1723,  414,  961,\n",
      "         405,  636, 1849, 1569, 1056,  849, 2003,  839, 1120, 2025, 1981,  212,\n",
      "         884,   87, 1859,  635,  761, 1143,  370, 1253,   91, 1330,  351,  243,\n",
      "        1818,  107, 1937,  340,  158,  174, 1447, 1660,  202,  766, 1906, 1829,\n",
      "         726,  516, 2014, 1071, 1014,  702, 1061, 1341,  435,  846, 1644,  215,\n",
      "        1221, 1621,  183,   19, 1429, 1664, 1662, 1590, 1788, 2004, 1798, 1207,\n",
      "         430,  954, 1915,   36, 1197, 1198,  361,  593,  716, 1233,  449,  678,\n",
      "         197, 1171,  953,  648,  659, 1797, 1698,   72, 1961,  339,  502,  542,\n",
      "        1399, 1620,  701, 1225, 1275,  410,    0, 1585,  170,  785,  639, 1345,\n",
      "         547,  112, 1419,  987,  957,  592,  765, 1206, 1286, 1334,  916,  413,\n",
      "         283, 1973, 1150,  545, 1529,  797, 1580,  250,  303, 2005,  998,  827,\n",
      "          46, 1039, 1951, 1353, 2000, 1575,  888, 1957, 1277,  432,  165, 1034,\n",
      "        1500, 1117, 1646, 1653, 1101, 1282, 1622,   24,  199, 1676, 1949, 1084,\n",
      "        1302, 1279, 1550, 1364,  548, 1255,  565,  388,  164,  100,  175,  931,\n",
      "        1209, 1401,  350,  554, 1992, 1886, 1647, 1269, 1449,  802,  890, 1950,\n",
      "         402,  855,  583,   63,  622, 1917, 1948, 1489,  433,  397,  454, 1331,\n",
      "         399])}\n"
     ]
    },
    {
     "data": {
      "application/vnd.jupyter.widget-view+json": {
       "model_id": "5567d24350b84a0b941328a87f1d45c5",
       "version_major": 2,
       "version_minor": 0
      },
      "text/plain": [
       "Predicting: 0it [00:00, ?it/s]"
      ]
     },
     "metadata": {},
     "output_type": "display_data"
    },
    {
     "name": "stderr",
     "output_type": "stream",
     "text": [
      "Global seed set to 2\n",
      "Global seed set to 5\n",
      "GPU available: True, used: True\n",
      "TPU available: False, using: 0 TPU cores\n",
      "IPU available: False, using: 0 IPUs\n",
      "Global seed set to 0\n",
      "LOCAL_RANK: 0 - CUDA_VISIBLE_DEVICES: [0,1,2,3,4,5,6,7]\n"
     ]
    },
    {
     "name": "stdout",
     "output_type": "stream",
     "text": [
      "{'training': True, '_parameters': OrderedDict(), '_buffers': OrderedDict(), '_non_persistent_buffers_set': set(), '_backward_hooks': OrderedDict(), '_is_full_backward_hook': None, '_forward_hooks': OrderedDict(), '_forward_pre_hooks': OrderedDict(), '_state_dict_hooks': OrderedDict(), '_load_state_dict_pre_hooks': OrderedDict(), '_load_state_dict_post_hooks': OrderedDict(), '_modules': OrderedDict([('linear', Linear(in_features=614, out_features=37, bias=True))]), 'neuron_indices': tensor([ 867, 1296, 2037,  878, 1774,  921,  464, 1591,  536, 1652, 1757, 1928,\n",
      "         311, 1450, 1076, 1564, 1687, 1403, 1445, 1530, 1241, 1320, 1572,  932,\n",
      "        1524, 1775, 1821,  515, 2011,  791,  206, 1714, 1885,  942, 1980,  629,\n",
      "         437, 1519,  493,  977,  686, 1081, 1672, 1725,   52,  642, 1011, 1405,\n",
      "           6,  936,  782,  144, 1300, 1072, 1671,  498, 1239, 1709, 1314, 1551,\n",
      "          97, 1795,  705, 1578, 1841,  475, 1251,  423, 1844, 1635,  190,  537,\n",
      "         795,  589,  335,  259,  229, 1059, 1977,   10,  334,  434, 1135, 1691,\n",
      "         561, 1848,  307,   84,  150,  816,  790, 1266,   35,  327,  205,   40,\n",
      "        1925,  103,  679,  374, 1632,  560,  294, 1022, 1048,   44, 2036, 1952,\n",
      "        1404,  749, 1570, 1111,  718, 1322, 1038, 1335,  343, 1636, 1733, 1124,\n",
      "         872,  169, 2020,  579,  618, 1377,  422, 1184,  773, 1158, 1438,  265,\n",
      "        1581, 1548,  840,  924,   18,  550,  956,   15,  216,   45, 1224,  617,\n",
      "         479,  808,  261, 1670, 1044,  262, 1096, 1589, 1340, 1742, 1285, 1846,\n",
      "        1428, 1121,  338, 1979,  915,  255, 1939,  386, 1755,  969, 1994, 1574,\n",
      "        1411, 1880, 1499,  907,  108,   55,  118, 1123, 1836,  676, 1562,  688,\n",
      "        1083, 1325,   50, 1352,  266, 1855, 1283,  208, 1796, 1192,  445, 1516,\n",
      "        1095, 1371, 1250,  520,  356,  559, 1738, 1471, 1456, 1149, 1033, 1831,\n",
      "         665,  211,  127, 1041, 1547,  117, 1760, 1246, 1118,  830, 1087, 1909,\n",
      "        1893, 1533, 1217, 1631, 1607,  731,  770,  677,  854, 1723,  414,  961,\n",
      "         405,  636, 1849, 1569, 1056,  849, 2003,  839, 1120, 2025, 1981,  212,\n",
      "         884,   87, 1859,  635,  761, 1143,  370, 1253,   91, 1330,  351,  243,\n",
      "        1818,  107, 1937,  340,  158,  174, 1447, 1660,  202,  766, 1906, 1829,\n",
      "         726,  516, 2014, 1071, 1014,  702, 1061, 1341,  435,  846, 1644,  215,\n",
      "        1221, 1621,  183,   19, 1429, 1664, 1662, 1590, 1788, 2004, 1798, 1207,\n",
      "         430,  954, 1915,   36, 1197, 1198,  361,  593,  716, 1233,  449,  678,\n",
      "         197, 1171,  953,  648,  659, 1797, 1698,   72, 1961,  339,  502,  542,\n",
      "        1399, 1620,  701, 1225, 1275,  410,    0, 1585,  170,  785,  639, 1345,\n",
      "         547,  112, 1419,  987,  957,  592,  765, 1206, 1286, 1334,  916,  413,\n",
      "         283, 1973, 1150,  545, 1529,  797, 1580,  250,  303, 2005,  998,  827,\n",
      "          46, 1039, 1951, 1353, 2000, 1575,  888, 1957, 1277,  432,  165, 1034,\n",
      "        1500, 1117, 1646, 1653, 1101, 1282, 1622,   24,  199, 1676, 1949, 1084,\n",
      "        1302, 1279, 1550, 1364,  548, 1255,  565,  388,  164,  100,  175,  931,\n",
      "        1209, 1401,  350,  554, 1992, 1886, 1647, 1269, 1449,  802,  890, 1950,\n",
      "         402,  855,  583,   63,  622, 1917, 1948, 1489,  433,  397,  454, 1331,\n",
      "         399, 1658, 1060,  628,  245,  906,  754,  612, 1921, 1196,  690, 1879,\n",
      "         104, 1718, 1462,  312,  837,  182,  587, 1552, 1549, 1089,  640,  288,\n",
      "         732, 1492, 1701, 1156,  225, 1970,  562,  654,  440,  720,  822,   56,\n",
      "         252, 1601, 1321,  598,  939,  843,  926, 1860, 1415, 1183, 1466, 1901,\n",
      "         687, 1416, 1833, 1882, 1421, 1012, 1291, 1346,  428, 1423, 1615,  908,\n",
      "         669,  365,  391, 1545,  803, 1290,   60, 1293,  724,   74, 1015,  828,\n",
      "         506,  859,  326, 1109, 1350,  484, 1776, 1245, 1382,  481,  963,  671,\n",
      "        1814, 1050,  994,  419,   79, 1667,  538, 1938, 1686, 1498,  341,  268,\n",
      "         530, 1902,  513,  771,  664, 1515,  649,  143,  863, 1845,  877,  781,\n",
      "         950, 1240, 1026, 1459, 1675,  567, 1668, 1941, 1280,  777,  616, 2039,\n",
      "         992, 1486,  570, 1629,  546,  273, 1417, 1480, 1169, 1871, 1605,  607,\n",
      "         106, 1446, 1697,   65,  736,  511,  133, 1944,  403,  967, 1927, 1461,\n",
      "         951, 1834,  395,  658, 1451, 1479,  809,  842, 1441,  272,  717,  818,\n",
      "         407,  331, 1537,   82,  256, 1351, 1432,  597, 1454,   39, 1990,  563,\n",
      "         788, 1736,  845, 1810, 1357,  588,  301,  714,  673,   66, 1812,   38,\n",
      "        1753,  973,  858, 1005, 1865, 1677, 1803, 1869,   68,  196,  177, 1770,\n",
      "        1592, 1328,  709, 1167,  553,  148, 1790,  305,  860,  715, 1765,  383,\n",
      "        1046, 2031])}\n"
     ]
    },
    {
     "data": {
      "application/vnd.jupyter.widget-view+json": {
       "model_id": "90daa062a63a46cfbc32e331aa88266e",
       "version_major": 2,
       "version_minor": 0
      },
      "text/plain": [
       "Predicting: 0it [00:00, ?it/s]"
      ]
     },
     "metadata": {},
     "output_type": "display_data"
    },
    {
     "name": "stderr",
     "output_type": "stream",
     "text": [
      "Global seed set to 2\n",
      "Global seed set to 5\n",
      "GPU available: True, used: True\n",
      "TPU available: False, using: 0 TPU cores\n",
      "IPU available: False, using: 0 IPUs\n",
      "Global seed set to 0\n"
     ]
    },
    {
     "name": "stdout",
     "output_type": "stream",
     "text": [
      "{'training': True, '_parameters': OrderedDict(), '_buffers': OrderedDict(), '_non_persistent_buffers_set': set(), '_backward_hooks': OrderedDict(), '_is_full_backward_hook': None, '_forward_hooks': OrderedDict(), '_forward_pre_hooks': OrderedDict(), '_state_dict_hooks': OrderedDict(), '_load_state_dict_pre_hooks': OrderedDict(), '_load_state_dict_post_hooks': OrderedDict(), '_modules': OrderedDict([('linear', Linear(in_features=1024, out_features=37, bias=True))]), 'neuron_indices': tensor([ 867, 1296, 2037,  ...,  459, 2016,  221])}\n"
     ]
    },
    {
     "name": "stderr",
     "output_type": "stream",
     "text": [
      "LOCAL_RANK: 0 - CUDA_VISIBLE_DEVICES: [0,1,2,3,4,5,6,7]\n"
     ]
    },
    {
     "data": {
      "application/vnd.jupyter.widget-view+json": {
       "model_id": "ecf1207f462c458fba3476a4022f6947",
       "version_major": 2,
       "version_minor": 0
      },
      "text/plain": [
       "Predicting: 0it [00:00, ?it/s]"
      ]
     },
     "metadata": {},
     "output_type": "display_data"
    },
    {
     "name": "stderr",
     "output_type": "stream",
     "text": [
      "Global seed set to 2\n",
      "Global seed set to 5\n",
      "GPU available: True, used: True\n",
      "TPU available: False, using: 0 TPU cores\n",
      "IPU available: False, using: 0 IPUs\n",
      "Global seed set to 0\n",
      "LOCAL_RANK: 0 - CUDA_VISIBLE_DEVICES: [0,1,2,3,4,5,6,7]\n"
     ]
    },
    {
     "name": "stdout",
     "output_type": "stream",
     "text": [
      "{'training': True, '_parameters': OrderedDict(), '_buffers': OrderedDict(), '_non_persistent_buffers_set': set(), '_backward_hooks': OrderedDict(), '_is_full_backward_hook': None, '_forward_hooks': OrderedDict(), '_forward_pre_hooks': OrderedDict(), '_state_dict_hooks': OrderedDict(), '_load_state_dict_pre_hooks': OrderedDict(), '_load_state_dict_post_hooks': OrderedDict(), '_modules': OrderedDict([('linear', Linear(in_features=1638, out_features=37, bias=True))]), 'neuron_indices': tensor([ 867, 1296, 2037,  ..., 1362,  875, 1374])}\n"
     ]
    },
    {
     "data": {
      "application/vnd.jupyter.widget-view+json": {
       "model_id": "cabe6b39df40485fa5d43315a79f26cd",
       "version_major": 2,
       "version_minor": 0
      },
      "text/plain": [
       "Predicting: 0it [00:00, ?it/s]"
      ]
     },
     "metadata": {},
     "output_type": "display_data"
    },
    {
     "name": "stderr",
     "output_type": "stream",
     "text": [
      "Global seed set to 2\n",
      "Global seed set to 5\n",
      "GPU available: True, used: True\n",
      "TPU available: False, using: 0 TPU cores\n",
      "IPU available: False, using: 0 IPUs\n",
      "Global seed set to 0\n",
      "LOCAL_RANK: 0 - CUDA_VISIBLE_DEVICES: [0,1,2,3,4,5,6,7]\n"
     ]
    },
    {
     "name": "stdout",
     "output_type": "stream",
     "text": [
      "{'training': True, '_parameters': OrderedDict(), '_buffers': OrderedDict(), '_non_persistent_buffers_set': set(), '_backward_hooks': OrderedDict(), '_is_full_backward_hook': None, '_forward_hooks': OrderedDict(), '_forward_pre_hooks': OrderedDict(), '_state_dict_hooks': OrderedDict(), '_load_state_dict_pre_hooks': OrderedDict(), '_load_state_dict_post_hooks': OrderedDict(), '_modules': OrderedDict([('linear', Linear(in_features=1843, out_features=37, bias=True))]), 'neuron_indices': tensor([ 867, 1296, 2037,  ..., 1000,  284,  776])}\n"
     ]
    },
    {
     "data": {
      "application/vnd.jupyter.widget-view+json": {
       "model_id": "ad1745b1713643b3a9b655fad2d04877",
       "version_major": 2,
       "version_minor": 0
      },
      "text/plain": [
       "Predicting: 0it [00:00, ?it/s]"
      ]
     },
     "metadata": {},
     "output_type": "display_data"
    },
    {
     "data": {
      "image/png": "[encoded data removed]",
      "text/plain": [
       "<Figure size 720x432 with 1 Axes>"
      ]
     },
     "metadata": {},
     "output_type": "display_data"
    },
    {
     "name": "stderr",
     "output_type": "stream",
     "text": [
      "Global seed set to 2\n"
     ]
    },
    {
     "name": "stdout",
     "output_type": "stream",
     "text": [
      "oxford-iiit-pets {0.0005: [0.045089587569236755, 0.04245499521493912, 0.038943614810705185, 0.04593948274850845, 0.04573001340031624], 0.001: [0.06291751563549042, 0.061183761805295944, 0.05006156116724014, 0.06931541860103607, 0.056850798428058624], 0.002: [0.09594443440437317, 0.08386974036693573, 0.09413142502307892, 0.09558424353599548, 0.08995909988880157], 0.003: [0.13256269693374634, 0.13077020645141602, 0.12537223100662231, 0.13186636567115784, 0.11023904383182526], 0.004: [0.14109840989112854, 0.17126712203025818, 0.15814226865768433, 0.1646314561367035, 0.15563787519931793], 0.005: [0.18685957789421082, 0.19816789031028748, 0.18949416279792786, 0.19604915380477905, 0.17546138167381287], 0.01: [0.3124738335609436, 0.33825719356536865, 0.33414924144744873, 0.2920806407928467, 0.35142308473587036], 0.05: [0.6637383699417114, 0.6440904140472412, 0.6644255518913269, 0.6538354754447937, 0.6536514759063721], 0.1: [0.7291228175163269, 0.7418556213378906, 0.7418534755706787, 0.737926721572876, 0.7360309362411499], 0.2: [0.7914423942565918, 0.7881609201431274, 0.785999059677124, 0.78734290599823, 0.7926637530326843], 0.3: [0.8182610273361206, 0.815618634223938, 0.8100515604019165, 0.811561644077301, 0.8120379447937012], 0.5: [0.8380377888679504, 0.8393604755401611, 0.8381432294845581, 0.8363189101219177, 0.8351633548736572], 0.8: [0.8572859764099121, 0.8545452356338501, 0.8544971346855164, 0.8547200560569763, 0.8539848327636719], 0.9: [0.8596545457839966, 0.860568106174469, 0.8584543466567993, 0.8587076663970947, 0.8571374416351318]}\n"
     ]
    },
    {
     "name": "stderr",
     "output_type": "stream",
     "text": [
      "Global seed set to 1\n",
      "GPU available: True, used: True\n",
      "TPU available: False, using: 0 TPU cores\n",
      "IPU available: False, using: 0 IPUs\n",
      "Global seed set to 0\n"
     ]
    },
    {
     "name": "stdout",
     "output_type": "stream",
     "text": [
      "{'training': True, '_parameters': OrderedDict(), '_buffers': OrderedDict(), '_non_persistent_buffers_set': set(), '_backward_hooks': OrderedDict(), '_is_full_backward_hook': None, '_forward_hooks': OrderedDict(), '_forward_pre_hooks': OrderedDict(), '_state_dict_hooks': OrderedDict(), '_load_state_dict_pre_hooks': OrderedDict(), '_load_state_dict_post_hooks': OrderedDict(), '_modules': OrderedDict([('linear', Linear(in_features=1, out_features=10, bias=True))]), 'neuron_indices': tensor([1061])}\n"
     ]
    },
    {
     "name": "stderr",
     "output_type": "stream",
     "text": [
      "LOCAL_RANK: 0 - CUDA_VISIBLE_DEVICES: [0,1,2,3,4,5,6,7]\n"
     ]
    },
    {
     "data": {
      "application/vnd.jupyter.widget-view+json": {
       "model_id": "d4ccb80bbc65425182c9eef12c7d0619",
       "version_major": 2,
       "version_minor": 0
      },
      "text/plain": [
       "Predicting: 0it [00:00, ?it/s]"
      ]
     },
     "metadata": {},
     "output_type": "display_data"
    },
    {
     "name": "stderr",
     "output_type": "stream",
     "text": [
      "Global seed set to 2\n",
      "Global seed set to 1\n",
      "GPU available: True, used: True\n",
      "TPU available: False, using: 0 TPU cores\n",
      "IPU available: False, using: 0 IPUs\n",
      "Global seed set to 0\n"
     ]
    },
    {
     "name": "stdout",
     "output_type": "stream",
     "text": [
      "{'training': True, '_parameters': OrderedDict(), '_buffers': OrderedDict(), '_non_persistent_buffers_set': set(), '_backward_hooks': OrderedDict(), '_is_full_backward_hook': None, '_forward_hooks': OrderedDict(), '_forward_pre_hooks': OrderedDict(), '_state_dict_hooks': OrderedDict(), '_load_state_dict_pre_hooks': OrderedDict(), '_load_state_dict_post_hooks': OrderedDict(), '_modules': OrderedDict([('linear', Linear(in_features=2, out_features=10, bias=True))]), 'neuron_indices': tensor([1061, 1497])}\n"
     ]
    },
    {
     "name": "stderr",
     "output_type": "stream",
     "text": [
      "LOCAL_RANK: 0 - CUDA_VISIBLE_DEVICES: [0,1,2,3,4,5,6,7]\n"
     ]
    },
    {
     "data": {
      "application/vnd.jupyter.widget-view+json": {
       "model_id": "307cff0e6d274594922d063cc798c4f2",
       "version_major": 2,
       "version_minor": 0
      },
      "text/plain": [
       "Predicting: 0it [00:00, ?it/s]"
      ]
     },
     "metadata": {},
     "output_type": "display_data"
    },
    {
     "name": "stderr",
     "output_type": "stream",
     "text": [
      "Global seed set to 2\n",
      "Global seed set to 1\n",
      "GPU available: True, used: True\n",
      "TPU available: False, using: 0 TPU cores\n",
      "IPU available: False, using: 0 IPUs\n",
      "Global seed set to 0\n"
     ]
    },
    {
     "name": "stdout",
     "output_type": "stream",
     "text": [
      "{'training': True, '_parameters': OrderedDict(), '_buffers': OrderedDict(), '_non_persistent_buffers_set': set(), '_backward_hooks': OrderedDict(), '_is_full_backward_hook': None, '_forward_hooks': OrderedDict(), '_forward_pre_hooks': OrderedDict(), '_state_dict_hooks': OrderedDict(), '_load_state_dict_pre_hooks': OrderedDict(), '_load_state_dict_post_hooks': OrderedDict(), '_modules': OrderedDict([('linear', Linear(in_features=4, out_features=10, bias=True))]), 'neuron_indices': tensor([1061, 1497, 1250, 1136])}\n"
     ]
    },
    {
     "name": "stderr",
     "output_type": "stream",
     "text": [
      "LOCAL_RANK: 0 - CUDA_VISIBLE_DEVICES: [0,1,2,3,4,5,6,7]\n"
     ]
    },
    {
     "data": {
      "application/vnd.jupyter.widget-view+json": {
       "model_id": "93fb4d1c610b40d29e5170321cefaddb",
       "version_major": 2,
       "version_minor": 0
      },
      "text/plain": [
       "Predicting: 0it [00:00, ?it/s]"
      ]
     },
     "metadata": {},
     "output_type": "display_data"
    },
    {
     "name": "stderr",
     "output_type": "stream",
     "text": [
      "Global seed set to 2\n",
      "Global seed set to 1\n",
      "GPU available: True, used: True\n",
      "TPU available: False, using: 0 TPU cores\n",
      "IPU available: False, using: 0 IPUs\n",
      "Global seed set to 0\n"
     ]
    },
    {
     "name": "stdout",
     "output_type": "stream",
     "text": [
      "{'training': True, '_parameters': OrderedDict(), '_buffers': OrderedDict(), '_non_persistent_buffers_set': set(), '_backward_hooks': OrderedDict(), '_is_full_backward_hook': None, '_forward_hooks': OrderedDict(), '_forward_pre_hooks': OrderedDict(), '_state_dict_hooks': OrderedDict(), '_load_state_dict_pre_hooks': OrderedDict(), '_load_state_dict_post_hooks': OrderedDict(), '_modules': OrderedDict([('linear', Linear(in_features=6, out_features=10, bias=True))]), 'neuron_indices': tensor([1061, 1497, 1250, 1136,  707,   96])}\n"
     ]
    },
    {
     "name": "stderr",
     "output_type": "stream",
     "text": [
      "LOCAL_RANK: 0 - CUDA_VISIBLE_DEVICES: [0,1,2,3,4,5,6,7]\n"
     ]
    },
    {
     "data": {
      "application/vnd.jupyter.widget-view+json": {
       "model_id": "647efaeee00447fea222249254bbd6dc",
       "version_major": 2,
       "version_minor": 0
      },
      "text/plain": [
       "Predicting: 0it [00:00, ?it/s]"
      ]
     },
     "metadata": {},
     "output_type": "display_data"
    },
    {
     "name": "stderr",
     "output_type": "stream",
     "text": [
      "Global seed set to 2\n",
      "Global seed set to 1\n",
      "GPU available: True, used: True\n",
      "TPU available: False, using: 0 TPU cores\n",
      "IPU available: False, using: 0 IPUs\n",
      "Global seed set to 0\n"
     ]
    },
    {
     "name": "stdout",
     "output_type": "stream",
     "text": [
      "{'training': True, '_parameters': OrderedDict(), '_buffers': OrderedDict(), '_non_persistent_buffers_set': set(), '_backward_hooks': OrderedDict(), '_is_full_backward_hook': None, '_forward_hooks': OrderedDict(), '_forward_pre_hooks': OrderedDict(), '_state_dict_hooks': OrderedDict(), '_load_state_dict_pre_hooks': OrderedDict(), '_load_state_dict_post_hooks': OrderedDict(), '_modules': OrderedDict([('linear', Linear(in_features=8, out_features=10, bias=True))]), 'neuron_indices': tensor([1061, 1497, 1250, 1136,  707,   96,  697, 1023])}\n"
     ]
    },
    {
     "name": "stderr",
     "output_type": "stream",
     "text": [
      "LOCAL_RANK: 0 - CUDA_VISIBLE_DEVICES: [0,1,2,3,4,5,6,7]\n"
     ]
    },
    {
     "data": {
      "application/vnd.jupyter.widget-view+json": {
       "model_id": "f89bdbc4018b4206a609a35fd48e814f",
       "version_major": 2,
       "version_minor": 0
      },
      "text/plain": [
       "Predicting: 0it [00:00, ?it/s]"
      ]
     },
     "metadata": {},
     "output_type": "display_data"
    },
    {
     "name": "stderr",
     "output_type": "stream",
     "text": [
      "Global seed set to 2\n",
      "Global seed set to 1\n",
      "GPU available: True, used: True\n",
      "TPU available: False, using: 0 TPU cores\n",
      "IPU available: False, using: 0 IPUs\n",
      "Global seed set to 0\n"
     ]
    },
    {
     "name": "stdout",
     "output_type": "stream",
     "text": [
      "{'training': True, '_parameters': OrderedDict(), '_buffers': OrderedDict(), '_non_persistent_buffers_set': set(), '_backward_hooks': OrderedDict(), '_is_full_backward_hook': None, '_forward_hooks': OrderedDict(), '_forward_pre_hooks': OrderedDict(), '_state_dict_hooks': OrderedDict(), '_load_state_dict_pre_hooks': OrderedDict(), '_load_state_dict_post_hooks': OrderedDict(), '_modules': OrderedDict([('linear', Linear(in_features=10, out_features=10, bias=True))]), 'neuron_indices': tensor([1061, 1497, 1250, 1136,  707,   96,  697, 1023,  727, 1780])}\n"
     ]
    },
    {
     "name": "stderr",
     "output_type": "stream",
     "text": [
      "LOCAL_RANK: 0 - CUDA_VISIBLE_DEVICES: [0,1,2,3,4,5,6,7]\n"
     ]
    },
    {
     "data": {
      "application/vnd.jupyter.widget-view+json": {
       "model_id": "f4f8c42cad8b40f5a3a3a8ed4dc87a5e",
       "version_major": 2,
       "version_minor": 0
      },
      "text/plain": [
       "Predicting: 0it [00:00, ?it/s]"
      ]
     },
     "metadata": {},
     "output_type": "display_data"
    },
    {
     "name": "stderr",
     "output_type": "stream",
     "text": [
      "Global seed set to 2\n",
      "Global seed set to 1\n",
      "GPU available: True, used: True\n",
      "TPU available: False, using: 0 TPU cores\n",
      "IPU available: False, using: 0 IPUs\n",
      "Global seed set to 0\n"
     ]
    },
    {
     "name": "stdout",
     "output_type": "stream",
     "text": [
      "{'training': True, '_parameters': OrderedDict(), '_buffers': OrderedDict(), '_non_persistent_buffers_set': set(), '_backward_hooks': OrderedDict(), '_is_full_backward_hook': None, '_forward_hooks': OrderedDict(), '_forward_pre_hooks': OrderedDict(), '_state_dict_hooks': OrderedDict(), '_load_state_dict_pre_hooks': OrderedDict(), '_load_state_dict_post_hooks': OrderedDict(), '_modules': OrderedDict([('linear', Linear(in_features=20, out_features=10, bias=True))]), 'neuron_indices': tensor([1061, 1497, 1250, 1136,  707,   96,  697, 1023,  727, 1780,  534,  563,\n",
      "         480, 1316,  873,  929, 1062, 1679,  260, 1337])}\n"
     ]
    },
    {
     "name": "stderr",
     "output_type": "stream",
     "text": [
      "LOCAL_RANK: 0 - CUDA_VISIBLE_DEVICES: [0,1,2,3,4,5,6,7]\n"
     ]
    },
    {
     "data": {
      "application/vnd.jupyter.widget-view+json": {
       "model_id": "0c4d4d48df5d4cf5be73b6a201abc4fd",
       "version_major": 2,
       "version_minor": 0
      },
      "text/plain": [
       "Predicting: 0it [00:00, ?it/s]"
      ]
     },
     "metadata": {},
     "output_type": "display_data"
    },
    {
     "name": "stderr",
     "output_type": "stream",
     "text": [
      "Global seed set to 2\n",
      "Global seed set to 1\n",
      "GPU available: True, used: True\n",
      "TPU available: False, using: 0 TPU cores\n",
      "IPU available: False, using: 0 IPUs\n",
      "Global seed set to 0\n"
     ]
    },
    {
     "name": "stdout",
     "output_type": "stream",
     "text": [
      "{'training': True, '_parameters': OrderedDict(), '_buffers': OrderedDict(), '_non_persistent_buffers_set': set(), '_backward_hooks': OrderedDict(), '_is_full_backward_hook': None, '_forward_hooks': OrderedDict(), '_forward_pre_hooks': OrderedDict(), '_state_dict_hooks': OrderedDict(), '_load_state_dict_pre_hooks': OrderedDict(), '_load_state_dict_post_hooks': OrderedDict(), '_modules': OrderedDict([('linear', Linear(in_features=102, out_features=10, bias=True))]), 'neuron_indices': tensor([1061, 1497, 1250, 1136,  707,   96,  697, 1023,  727, 1780,  534,  563,\n",
      "         480, 1316,  873,  929, 1062, 1679,  260, 1337,  818, 1238, 1430, 1452,\n",
      "        1323, 1661,  750,  989,  217,  228,  498,   35, 1847, 1786,  453, 2036,\n",
      "        1179,  173,  400, 1548, 1893,  766, 1191, 1221, 1751, 1523,  512,  128,\n",
      "         769,  259,  566,  678,   47, 1493, 1801, 1781, 1543, 1833,  125, 1088,\n",
      "         182,  163, 1265, 1396,  533, 1634, 2045,  508, 1680, 1971, 1599,  667,\n",
      "         812,  315,  798,  111,  909,  134,  987, 1401, 1055, 1578,  700,  713,\n",
      "         227, 1763, 1101, 1063,  434, 1463,  122,  598, 1809,  490,  487,  410,\n",
      "         855, 1126,  250, 1174,  953,  925])}\n"
     ]
    },
    {
     "name": "stderr",
     "output_type": "stream",
     "text": [
      "LOCAL_RANK: 0 - CUDA_VISIBLE_DEVICES: [0,1,2,3,4,5,6,7]\n"
     ]
    },
    {
     "data": {
      "application/vnd.jupyter.widget-view+json": {
       "model_id": "27fbe52d1a25495191a27235abfb8296",
       "version_major": 2,
       "version_minor": 0
      },
      "text/plain": [
       "Predicting: 0it [00:00, ?it/s]"
      ]
     },
     "metadata": {},
     "output_type": "display_data"
    },
    {
     "name": "stderr",
     "output_type": "stream",
     "text": [
      "Global seed set to 2\n",
      "Global seed set to 1\n",
      "GPU available: True, used: True\n",
      "TPU available: False, using: 0 TPU cores\n",
      "IPU available: False, using: 0 IPUs\n",
      "Global seed set to 0\n"
     ]
    },
    {
     "name": "stdout",
     "output_type": "stream",
     "text": [
      "{'training': True, '_parameters': OrderedDict(), '_buffers': OrderedDict(), '_non_persistent_buffers_set': set(), '_backward_hooks': OrderedDict(), '_is_full_backward_hook': None, '_forward_hooks': OrderedDict(), '_forward_pre_hooks': OrderedDict(), '_state_dict_hooks': OrderedDict(), '_load_state_dict_pre_hooks': OrderedDict(), '_load_state_dict_post_hooks': OrderedDict(), '_modules': OrderedDict([('linear', Linear(in_features=204, out_features=10, bias=True))]), 'neuron_indices': tensor([1061, 1497, 1250, 1136,  707,   96,  697, 1023,  727, 1780,  534,  563,\n",
      "         480, 1316,  873,  929, 1062, 1679,  260, 1337,  818, 1238, 1430, 1452,\n",
      "        1323, 1661,  750,  989,  217,  228,  498,   35, 1847, 1786,  453, 2036,\n",
      "        1179,  173,  400, 1548, 1893,  766, 1191, 1221, 1751, 1523,  512,  128,\n",
      "         769,  259,  566,  678,   47, 1493, 1801, 1781, 1543, 1833,  125, 1088,\n",
      "         182,  163, 1265, 1396,  533, 1634, 2045,  508, 1680, 1971, 1599,  667,\n",
      "         812,  315,  798,  111,  909,  134,  987, 1401, 1055, 1578,  700,  713,\n",
      "         227, 1763, 1101, 1063,  434, 1463,  122,  598, 1809,  490,  487,  410,\n",
      "         855, 1126,  250, 1174,  953,  925, 1465, 1704, 1224,  331, 1020, 1297,\n",
      "         395, 1490,  675,  985, 1017, 1262,  633, 1468,  614, 1013,  936,   22,\n",
      "         848,  689,  349,  540,   75, 1972,  571,   74, 2040, 1123,  139,  922,\n",
      "        1012,  902,  240, 1987, 1676, 1046,  237, 1149, 1631,    5, 1190,  853,\n",
      "         188,  218,  542, 1778,  344, 1758, 1161,  977, 1820,   99,  654,  356,\n",
      "        2026,  946,  651, 1419, 1079, 1007, 1925,  559, 1021, 1674,  378, 1105,\n",
      "        1444, 1183, 1770,  168,   98, 2005, 1045, 1249,  530, 1068,  169,  647,\n",
      "        1532, 1974,  162, 1427, 1474, 1796, 1540, 2009, 1594, 2002,  157, 1432,\n",
      "         967, 1269,  352,  145, 1235,  271,  105, 1119, 1692, 1635, 1264,  171])}\n"
     ]
    },
    {
     "name": "stderr",
     "output_type": "stream",
     "text": [
      "LOCAL_RANK: 0 - CUDA_VISIBLE_DEVICES: [0,1,2,3,4,5,6,7]\n"
     ]
    },
    {
     "data": {
      "application/vnd.jupyter.widget-view+json": {
       "model_id": "f9302cb1a16d4077a4f0b60ed1e91abe",
       "version_major": 2,
       "version_minor": 0
      },
      "text/plain": [
       "Predicting: 0it [00:00, ?it/s]"
      ]
     },
     "metadata": {},
     "output_type": "display_data"
    },
    {
     "name": "stderr",
     "output_type": "stream",
     "text": [
      "Global seed set to 2\n",
      "Global seed set to 1\n",
      "GPU available: True, used: True\n",
      "TPU available: False, using: 0 TPU cores\n",
      "IPU available: False, using: 0 IPUs\n",
      "Global seed set to 0\n"
     ]
    },
    {
     "name": "stdout",
     "output_type": "stream",
     "text": [
      "{'training': True, '_parameters': OrderedDict(), '_buffers': OrderedDict(), '_non_persistent_buffers_set': set(), '_backward_hooks': OrderedDict(), '_is_full_backward_hook': None, '_forward_hooks': OrderedDict(), '_forward_pre_hooks': OrderedDict(), '_state_dict_hooks': OrderedDict(), '_load_state_dict_pre_hooks': OrderedDict(), '_load_state_dict_post_hooks': OrderedDict(), '_modules': OrderedDict([('linear', Linear(in_features=409, out_features=10, bias=True))]), 'neuron_indices': tensor([1061, 1497, 1250, 1136,  707,   96,  697, 1023,  727, 1780,  534,  563,\n",
      "         480, 1316,  873,  929, 1062, 1679,  260, 1337,  818, 1238, 1430, 1452,\n",
      "        1323, 1661,  750,  989,  217,  228,  498,   35, 1847, 1786,  453, 2036,\n",
      "        1179,  173,  400, 1548, 1893,  766, 1191, 1221, 1751, 1523,  512,  128,\n",
      "         769,  259,  566,  678,   47, 1493, 1801, 1781, 1543, 1833,  125, 1088,\n",
      "         182,  163, 1265, 1396,  533, 1634, 2045,  508, 1680, 1971, 1599,  667,\n",
      "         812,  315,  798,  111,  909,  134,  987, 1401, 1055, 1578,  700,  713,\n",
      "         227, 1763, 1101, 1063,  434, 1463,  122,  598, 1809,  490,  487,  410,\n",
      "         855, 1126,  250, 1174,  953,  925, 1465, 1704, 1224,  331, 1020, 1297,\n",
      "         395, 1490,  675,  985, 1017, 1262,  633, 1468,  614, 1013,  936,   22,\n",
      "         848,  689,  349,  540,   75, 1972,  571,   74, 2040, 1123,  139,  922,\n",
      "        1012,  902,  240, 1987, 1676, 1046,  237, 1149, 1631,    5, 1190,  853,\n",
      "         188,  218,  542, 1778,  344, 1758, 1161,  977, 1820,   99,  654,  356,\n",
      "        2026,  946,  651, 1419, 1079, 1007, 1925,  559, 1021, 1674,  378, 1105,\n",
      "        1444, 1183, 1770,  168,   98, 2005, 1045, 1249,  530, 1068,  169,  647,\n",
      "        1532, 1974,  162, 1427, 1474, 1796, 1540, 2009, 1594, 2002,  157, 1432,\n",
      "         967, 1269,  352,  145, 1235,  271,  105, 1119, 1692, 1635, 1264,  171,\n",
      "         373,  426,  621,  370,  465, 1672,  200, 1486, 1564, 1894,   57,  943,\n",
      "        1553,  358, 1059, 1246, 1489, 1556, 1049, 1589, 1550,  836, 1534,  204,\n",
      "        1995, 1364,  167, 1140,  307,  137, 1314, 1958, 1557, 1571, 1727,  305,\n",
      "        1957,  414,  371, 1966,  521,  183,  160, 1762, 1369, 1188,  519, 1032,\n",
      "        1036,  632, 1301,  791,   68,  787, 1626, 1031,   49,  964, 1800, 1142,\n",
      "         726, 1445, 1341, 1226, 1975, 1655,  245, 1454, 1521, 1025,  972, 1872,\n",
      "        1464,  355,  243,  715,  924, 1737,  962, 1393, 1920, 1305,  318, 1620,\n",
      "        1933,  170, 1590, 1899,  672,  816, 1668,  341, 1665,  529, 1580,  963,\n",
      "         684,  887,  326,   93,  364, 1319,  694,  536, 1718,  391, 1603, 1459,\n",
      "         594,  611, 1254, 1790,  159,  599,   94, 1824, 1788, 1415,  974,  733,\n",
      "         231, 1215, 1085,  133, 1560,  681,  575,  436,  205, 1261, 2001,  910,\n",
      "        1247,  281, 1959, 1239,  253, 1574,  764,  158, 1784,  272, 1406,  866,\n",
      "        1828, 1379,  592, 1312,  430,  123,  277, 1210,  565,  203,  820, 1492,\n",
      "        1585,  435, 1413,  567, 1473, 1662,  582,  896, 1858,  745, 1848,  553,\n",
      "        1082,   81,  782, 1001,  840,  502,  505, 2042,  792,  396, 1133, 1484,\n",
      "         763,  617, 1981, 1135, 1931,  572,  295, 1667, 1227, 1429, 1456, 1587,\n",
      "          33, 1207, 1111, 1993, 2044,  883,  877, 1457,  793, 1869,   38,  891,\n",
      "        1042])}\n"
     ]
    },
    {
     "name": "stderr",
     "output_type": "stream",
     "text": [
      "LOCAL_RANK: 0 - CUDA_VISIBLE_DEVICES: [0,1,2,3,4,5,6,7]\n"
     ]
    },
    {
     "data": {
      "application/vnd.jupyter.widget-view+json": {
       "model_id": "687edec8f70549089b95267fd6e826d3",
       "version_major": 2,
       "version_minor": 0
      },
      "text/plain": [
       "Predicting: 0it [00:00, ?it/s]"
      ]
     },
     "metadata": {},
     "output_type": "display_data"
    },
    {
     "name": "stderr",
     "output_type": "stream",
     "text": [
      "Global seed set to 2\n",
      "Global seed set to 1\n",
      "GPU available: True, used: True\n",
      "TPU available: False, using: 0 TPU cores\n",
      "IPU available: False, using: 0 IPUs\n",
      "Global seed set to 0\n"
     ]
    },
    {
     "name": "stdout",
     "output_type": "stream",
     "text": [
      "{'training': True, '_parameters': OrderedDict(), '_buffers': OrderedDict(), '_non_persistent_buffers_set': set(), '_backward_hooks': OrderedDict(), '_is_full_backward_hook': None, '_forward_hooks': OrderedDict(), '_forward_pre_hooks': OrderedDict(), '_state_dict_hooks': OrderedDict(), '_load_state_dict_pre_hooks': OrderedDict(), '_load_state_dict_post_hooks': OrderedDict(), '_modules': OrderedDict([('linear', Linear(in_features=614, out_features=10, bias=True))]), 'neuron_indices': tensor([1061, 1497, 1250, 1136,  707,   96,  697, 1023,  727, 1780,  534,  563,\n",
      "         480, 1316,  873,  929, 1062, 1679,  260, 1337,  818, 1238, 1430, 1452,\n",
      "        1323, 1661,  750,  989,  217,  228,  498,   35, 1847, 1786,  453, 2036,\n",
      "        1179,  173,  400, 1548, 1893,  766, 1191, 1221, 1751, 1523,  512,  128,\n",
      "         769,  259,  566,  678,   47, 1493, 1801, 1781, 1543, 1833,  125, 1088,\n",
      "         182,  163, 1265, 1396,  533, 1634, 2045,  508, 1680, 1971, 1599,  667,\n",
      "         812,  315,  798,  111,  909,  134,  987, 1401, 1055, 1578,  700,  713,\n",
      "         227, 1763, 1101, 1063,  434, 1463,  122,  598, 1809,  490,  487,  410,\n",
      "         855, 1126,  250, 1174,  953,  925, 1465, 1704, 1224,  331, 1020, 1297,\n",
      "         395, 1490,  675,  985, 1017, 1262,  633, 1468,  614, 1013,  936,   22,\n",
      "         848,  689,  349,  540,   75, 1972,  571,   74, 2040, 1123,  139,  922,\n",
      "        1012,  902,  240, 1987, 1676, 1046,  237, 1149, 1631,    5, 1190,  853,\n",
      "         188,  218,  542, 1778,  344, 1758, 1161,  977, 1820,   99,  654,  356,\n",
      "        2026,  946,  651, 1419, 1079, 1007, 1925,  559, 1021, 1674,  378, 1105,\n",
      "        1444, 1183, 1770,  168,   98, 2005, 1045, 1249,  530, 1068,  169,  647,\n",
      "        1532, 1974,  162, 1427, 1474, 1796, 1540, 2009, 1594, 2002,  157, 1432,\n",
      "         967, 1269,  352,  145, 1235,  271,  105, 1119, 1692, 1635, 1264,  171,\n",
      "         373,  426,  621,  370,  465, 1672,  200, 1486, 1564, 1894,   57,  943,\n",
      "        1553,  358, 1059, 1246, 1489, 1556, 1049, 1589, 1550,  836, 1534,  204,\n",
      "        1995, 1364,  167, 1140,  307,  137, 1314, 1958, 1557, 1571, 1727,  305,\n",
      "        1957,  414,  371, 1966,  521,  183,  160, 1762, 1369, 1188,  519, 1032,\n",
      "        1036,  632, 1301,  791,   68,  787, 1626, 1031,   49,  964, 1800, 1142,\n",
      "         726, 1445, 1341, 1226, 1975, 1655,  245, 1454, 1521, 1025,  972, 1872,\n",
      "        1464,  355,  243,  715,  924, 1737,  962, 1393, 1920, 1305,  318, 1620,\n",
      "        1933,  170, 1590, 1899,  672,  816, 1668,  341, 1665,  529, 1580,  963,\n",
      "         684,  887,  326,   93,  364, 1319,  694,  536, 1718,  391, 1603, 1459,\n",
      "         594,  611, 1254, 1790,  159,  599,   94, 1824, 1788, 1415,  974,  733,\n",
      "         231, 1215, 1085,  133, 1560,  681,  575,  436,  205, 1261, 2001,  910,\n",
      "        1247,  281, 1959, 1239,  253, 1574,  764,  158, 1784,  272, 1406,  866,\n",
      "        1828, 1379,  592, 1312,  430,  123,  277, 1210,  565,  203,  820, 1492,\n",
      "        1585,  435, 1413,  567, 1473, 1662,  582,  896, 1858,  745, 1848,  553,\n",
      "        1082,   81,  782, 1001,  840,  502,  505, 2042,  792,  396, 1133, 1484,\n",
      "         763,  617, 1981, 1135, 1931,  572,  295, 1667, 1227, 1429, 1456, 1587,\n",
      "          33, 1207, 1111, 1993, 2044,  883,  877, 1457,  793, 1869,   38,  891,\n",
      "        1042, 1591, 1216, 1842, 1469,  124,  631,  904,  955, 1512, 2028,  709,\n",
      "        1128, 1009, 1738, 1259,   44, 1442, 1499, 1804, 1723, 1562, 1962, 1295,\n",
      "         343,  510,  402, 1482,  610, 1024, 1815, 1963,  656,  121,  751,  688,\n",
      "         545,  664,  795,  870, 1106, 2007,  376,  353,  433,  589,  229,  418,\n",
      "        1360,  539, 1218,  386,  871, 1835,  219,  864,  366, 1389,  947, 1697,\n",
      "         216,  973, 1841, 1491, 1719, 1366,  888,  473, 1160,  669,  748, 1611,\n",
      "        1749,  193,  979, 1822,  324,  605,  970,  387,  940, 1541, 1470, 1765,\n",
      "        1595,  309,  912,  339, 1568, 1867, 1293,  659, 1156,  293,  781,   62,\n",
      "        1977, 1308,  833,  693, 1744, 1831,  590, 1172, 1819,  501,  650, 1003,\n",
      "         639, 1890,  470,   34,  564,  332, 1990,  901, 1617,  778,  573,  933,\n",
      "        1342, 1290,  196, 1776,  956, 1832, 1583,   23,  602, 1503, 1964,  471,\n",
      "         226,  851, 1344, 1354, 1845,  642, 1447, 1608, 1640, 1330,  407, 1433,\n",
      "        1576, 1911, 1549,  316, 1450, 1722,  166, 1411, 1271, 1092,  384,  485,\n",
      "         161, 1670, 1294, 1700, 1185,  585,  834, 2018,   65,  520,  822, 1336,\n",
      "        1554, 1019,  197, 1288, 1104,  773,   64,  784,  283,  155, 1750,  829,\n",
      "        2021,  523,  468, 1376,  388,  918, 1035, 1983,  690, 1078,  258, 1103,\n",
      "        1504,  941,  261,  754, 1694,  189, 1144, 1388,  620,  284,  221,  823,\n",
      "         297,  921])}\n"
     ]
    },
    {
     "name": "stderr",
     "output_type": "stream",
     "text": [
      "LOCAL_RANK: 0 - CUDA_VISIBLE_DEVICES: [0,1,2,3,4,5,6,7]\n"
     ]
    },
    {
     "data": {
      "application/vnd.jupyter.widget-view+json": {
       "model_id": "d057a0daea84418aaf9366be5158cb17",
       "version_major": 2,
       "version_minor": 0
      },
      "text/plain": [
       "Predicting: 0it [00:00, ?it/s]"
      ]
     },
     "metadata": {},
     "output_type": "display_data"
    },
    {
     "name": "stderr",
     "output_type": "stream",
     "text": [
      "Global seed set to 2\n",
      "Global seed set to 1\n",
      "GPU available: True, used: True\n",
      "TPU available: False, using: 0 TPU cores\n",
      "IPU available: False, using: 0 IPUs\n",
      "Global seed set to 0\n"
     ]
    },
    {
     "name": "stdout",
     "output_type": "stream",
     "text": [
      "{'training': True, '_parameters': OrderedDict(), '_buffers': OrderedDict(), '_non_persistent_buffers_set': set(), '_backward_hooks': OrderedDict(), '_is_full_backward_hook': None, '_forward_hooks': OrderedDict(), '_forward_pre_hooks': OrderedDict(), '_state_dict_hooks': OrderedDict(), '_load_state_dict_pre_hooks': OrderedDict(), '_load_state_dict_post_hooks': OrderedDict(), '_modules': OrderedDict([('linear', Linear(in_features=1024, out_features=10, bias=True))]), 'neuron_indices': tensor([1061, 1497, 1250,  ..., 1196,  674,  997])}\n"
     ]
    },
    {
     "name": "stderr",
     "output_type": "stream",
     "text": [
      "LOCAL_RANK: 0 - CUDA_VISIBLE_DEVICES: [0,1,2,3,4,5,6,7]\n"
     ]
    },
    {
     "data": {
      "application/vnd.jupyter.widget-view+json": {
       "model_id": "1d781131d3ae43c78c980974e4c216ba",
       "version_major": 2,
       "version_minor": 0
      },
      "text/plain": [
       "Predicting: 0it [00:00, ?it/s]"
      ]
     },
     "metadata": {},
     "output_type": "display_data"
    },
    {
     "name": "stderr",
     "output_type": "stream",
     "text": [
      "Global seed set to 2\n",
      "Global seed set to 1\n",
      "GPU available: True, used: True\n",
      "TPU available: False, using: 0 TPU cores\n",
      "IPU available: False, using: 0 IPUs\n",
      "Global seed set to 0\n"
     ]
    },
    {
     "name": "stdout",
     "output_type": "stream",
     "text": [
      "{'training': True, '_parameters': OrderedDict(), '_buffers': OrderedDict(), '_non_persistent_buffers_set': set(), '_backward_hooks': OrderedDict(), '_is_full_backward_hook': None, '_forward_hooks': OrderedDict(), '_forward_pre_hooks': OrderedDict(), '_state_dict_hooks': OrderedDict(), '_load_state_dict_pre_hooks': OrderedDict(), '_load_state_dict_post_hooks': OrderedDict(), '_modules': OrderedDict([('linear', Linear(in_features=1638, out_features=10, bias=True))]), 'neuron_indices': tensor([1061, 1497, 1250,  ...,  522, 1270,  719])}\n"
     ]
    },
    {
     "name": "stderr",
     "output_type": "stream",
     "text": [
      "LOCAL_RANK: 0 - CUDA_VISIBLE_DEVICES: [0,1,2,3,4,5,6,7]\n"
     ]
    },
    {
     "data": {
      "application/vnd.jupyter.widget-view+json": {
       "model_id": "059aa8d471cf45d199d236908d045b21",
       "version_major": 2,
       "version_minor": 0
      },
      "text/plain": [
       "Predicting: 0it [00:00, ?it/s]"
      ]
     },
     "metadata": {},
     "output_type": "display_data"
    },
    {
     "name": "stderr",
     "output_type": "stream",
     "text": [
      "Global seed set to 2\n",
      "Global seed set to 1\n",
      "GPU available: True, used: True\n",
      "TPU available: False, using: 0 TPU cores\n",
      "IPU available: False, using: 0 IPUs\n",
      "Global seed set to 0\n"
     ]
    },
    {
     "name": "stdout",
     "output_type": "stream",
     "text": [
      "{'training': True, '_parameters': OrderedDict(), '_buffers': OrderedDict(), '_non_persistent_buffers_set': set(), '_backward_hooks': OrderedDict(), '_is_full_backward_hook': None, '_forward_hooks': OrderedDict(), '_forward_pre_hooks': OrderedDict(), '_state_dict_hooks': OrderedDict(), '_load_state_dict_pre_hooks': OrderedDict(), '_load_state_dict_post_hooks': OrderedDict(), '_modules': OrderedDict([('linear', Linear(in_features=1843, out_features=10, bias=True))]), 'neuron_indices': tensor([1061, 1497, 1250,  ..., 1357, 1453, 1455])}\n"
     ]
    },
    {
     "name": "stderr",
     "output_type": "stream",
     "text": [
      "LOCAL_RANK: 0 - CUDA_VISIBLE_DEVICES: [0,1,2,3,4,5,6,7]\n"
     ]
    },
    {
     "data": {
      "application/vnd.jupyter.widget-view+json": {
       "model_id": "4dccdb8ba4874d66b9158f9137be8937",
       "version_major": 2,
       "version_minor": 0
      },
      "text/plain": [
       "Predicting: 0it [00:00, ?it/s]"
      ]
     },
     "metadata": {},
     "output_type": "display_data"
    },
    {
     "name": "stderr",
     "output_type": "stream",
     "text": [
      "Global seed set to 2\n",
      "Global seed set to 2\n",
      "GPU available: True, used: True\n",
      "TPU available: False, using: 0 TPU cores\n",
      "IPU available: False, using: 0 IPUs\n",
      "Global seed set to 0\n"
     ]
    },
    {
     "name": "stdout",
     "output_type": "stream",
     "text": [
      "{'training': True, '_parameters': OrderedDict(), '_buffers': OrderedDict(), '_non_persistent_buffers_set': set(), '_backward_hooks': OrderedDict(), '_is_full_backward_hook': None, '_forward_hooks': OrderedDict(), '_forward_pre_hooks': OrderedDict(), '_state_dict_hooks': OrderedDict(), '_load_state_dict_pre_hooks': OrderedDict(), '_load_state_dict_post_hooks': OrderedDict(), '_modules': OrderedDict([('linear', Linear(in_features=2048, out_features=10, bias=True))]), 'neuron_indices': tensor([1192, 1790,  799,  ...,  637, 1922, 1063])}\n"
     ]
    },
    {
     "name": "stderr",
     "output_type": "stream",
     "text": [
      "LOCAL_RANK: 0 - CUDA_VISIBLE_DEVICES: [0,1,2,3,4,5,6,7]\n"
     ]
    },
    {
     "data": {
      "application/vnd.jupyter.widget-view+json": {
       "model_id": "b6004331715e4e4cbd2382564c311e54",
       "version_major": 2,
       "version_minor": 0
      },
      "text/plain": [
       "Predicting: 0it [00:00, ?it/s]"
      ]
     },
     "metadata": {},
     "output_type": "display_data"
    },
    {
     "data": {
      "image/png": "[encoded data removed]",
      "text/plain": [
       "<Figure size 720x432 with 1 Axes>"
      ]
     },
     "metadata": {},
     "output_type": "display_data"
    },
    {
     "name": "stderr",
     "output_type": "stream",
     "text": [
      "Global seed set to 2\n"
     ]
    },
    {
     "name": "stdout",
     "output_type": "stream",
     "text": [
      "cifar10 {0.0005: [0.11954693496227264], 0.001: [0.13647064566612244], 0.002: [0.16791069507598877], 0.003: [0.1794070303440094], 0.004: [0.19186079502105713], 0.005: [0.21204370260238647], 0.01: [0.326407253742218], 0.05: [0.5496917963027954], 0.1: [0.62376868724823], 0.2: [0.6715943813323975], 0.3: [0.6966792345046997], 0.5: [0.7243591547012329], 0.8: [0.7444778680801392], 0.9: [0.7484902143478394]}\n"
     ]
    },
    {
     "name": "stderr",
     "output_type": "stream",
     "text": [
      "Global seed set to 1\n",
      "GPU available: True, used: True\n",
      "TPU available: False, using: 0 TPU cores\n",
      "IPU available: False, using: 0 IPUs\n",
      "Global seed set to 0\n"
     ]
    },
    {
     "name": "stdout",
     "output_type": "stream",
     "text": [
      "{'training': True, '_parameters': OrderedDict(), '_buffers': OrderedDict(), '_non_persistent_buffers_set': set(), '_backward_hooks': OrderedDict(), '_is_full_backward_hook': None, '_forward_hooks': OrderedDict(), '_forward_pre_hooks': OrderedDict(), '_state_dict_hooks': OrderedDict(), '_load_state_dict_pre_hooks': OrderedDict(), '_load_state_dict_post_hooks': OrderedDict(), '_modules': OrderedDict([('linear', Linear(in_features=1, out_features=100, bias=True))]), 'neuron_indices': tensor([1061])}\n"
     ]
    },
    {
     "name": "stderr",
     "output_type": "stream",
     "text": [
      "LOCAL_RANK: 0 - CUDA_VISIBLE_DEVICES: [0,1,2,3,4,5,6,7]\n"
     ]
    },
    {
     "data": {
      "application/vnd.jupyter.widget-view+json": {
       "model_id": "66debfe8e7c34caab50d210120b38515",
       "version_major": 2,
       "version_minor": 0
      },
      "text/plain": [
       "Predicting: 0it [00:00, ?it/s]"
      ]
     },
     "metadata": {},
     "output_type": "display_data"
    },
    {
     "name": "stderr",
     "output_type": "stream",
     "text": [
      "Global seed set to 2\n",
      "Global seed set to 1\n",
      "GPU available: True, used: True\n",
      "TPU available: False, using: 0 TPU cores\n",
      "IPU available: False, using: 0 IPUs\n",
      "Global seed set to 0\n"
     ]
    },
    {
     "name": "stdout",
     "output_type": "stream",
     "text": [
      "{'training': True, '_parameters': OrderedDict(), '_buffers': OrderedDict(), '_non_persistent_buffers_set': set(), '_backward_hooks': OrderedDict(), '_is_full_backward_hook': None, '_forward_hooks': OrderedDict(), '_forward_pre_hooks': OrderedDict(), '_state_dict_hooks': OrderedDict(), '_load_state_dict_pre_hooks': OrderedDict(), '_load_state_dict_post_hooks': OrderedDict(), '_modules': OrderedDict([('linear', Linear(in_features=2, out_features=100, bias=True))]), 'neuron_indices': tensor([1061, 1497])}\n"
     ]
    },
    {
     "name": "stderr",
     "output_type": "stream",
     "text": [
      "LOCAL_RANK: 0 - CUDA_VISIBLE_DEVICES: [0,1,2,3,4,5,6,7]\n"
     ]
    },
    {
     "data": {
      "application/vnd.jupyter.widget-view+json": {
       "model_id": "c16c3420f49e4d5e822d6447397018b4",
       "version_major": 2,
       "version_minor": 0
      },
      "text/plain": [
       "Predicting: 0it [00:00, ?it/s]"
      ]
     },
     "metadata": {},
     "output_type": "display_data"
    },
    {
     "name": "stderr",
     "output_type": "stream",
     "text": [
      "Global seed set to 2\n",
      "Global seed set to 1\n",
      "GPU available: True, used: True\n",
      "TPU available: False, using: 0 TPU cores\n",
      "IPU available: False, using: 0 IPUs\n",
      "Global seed set to 0\n"
     ]
    },
    {
     "name": "stdout",
     "output_type": "stream",
     "text": [
      "{'training': True, '_parameters': OrderedDict(), '_buffers': OrderedDict(), '_non_persistent_buffers_set': set(), '_backward_hooks': OrderedDict(), '_is_full_backward_hook': None, '_forward_hooks': OrderedDict(), '_forward_pre_hooks': OrderedDict(), '_state_dict_hooks': OrderedDict(), '_load_state_dict_pre_hooks': OrderedDict(), '_load_state_dict_post_hooks': OrderedDict(), '_modules': OrderedDict([('linear', Linear(in_features=4, out_features=100, bias=True))]), 'neuron_indices': tensor([1061, 1497, 1250, 1136])}\n"
     ]
    },
    {
     "name": "stderr",
     "output_type": "stream",
     "text": [
      "LOCAL_RANK: 0 - CUDA_VISIBLE_DEVICES: [0,1,2,3,4,5,6,7]\n"
     ]
    },
    {
     "data": {
      "application/vnd.jupyter.widget-view+json": {
       "model_id": "b2a4c2f70cad49f684af9736196c5af9",
       "version_major": 2,
       "version_minor": 0
      },
      "text/plain": [
       "Predicting: 0it [00:00, ?it/s]"
      ]
     },
     "metadata": {},
     "output_type": "display_data"
    },
    {
     "name": "stderr",
     "output_type": "stream",
     "text": [
      "Global seed set to 2\n",
      "Global seed set to 1\n",
      "GPU available: True, used: True\n",
      "TPU available: False, using: 0 TPU cores\n",
      "IPU available: False, using: 0 IPUs\n",
      "Global seed set to 0\n"
     ]
    },
    {
     "name": "stdout",
     "output_type": "stream",
     "text": [
      "{'training': True, '_parameters': OrderedDict(), '_buffers': OrderedDict(), '_non_persistent_buffers_set': set(), '_backward_hooks': OrderedDict(), '_is_full_backward_hook': None, '_forward_hooks': OrderedDict(), '_forward_pre_hooks': OrderedDict(), '_state_dict_hooks': OrderedDict(), '_load_state_dict_pre_hooks': OrderedDict(), '_load_state_dict_post_hooks': OrderedDict(), '_modules': OrderedDict([('linear', Linear(in_features=6, out_features=100, bias=True))]), 'neuron_indices': tensor([1061, 1497, 1250, 1136,  707,   96])}\n"
     ]
    },
    {
     "name": "stderr",
     "output_type": "stream",
     "text": [
      "LOCAL_RANK: 0 - CUDA_VISIBLE_DEVICES: [0,1,2,3,4,5,6,7]\n"
     ]
    },
    {
     "data": {
      "application/vnd.jupyter.widget-view+json": {
       "model_id": "90c447b5c13d4e0aad5556f415e7b8e5",
       "version_major": 2,
       "version_minor": 0
      },
      "text/plain": [
       "Predicting: 0it [00:00, ?it/s]"
      ]
     },
     "metadata": {},
     "output_type": "display_data"
    },
    {
     "name": "stderr",
     "output_type": "stream",
     "text": [
      "Global seed set to 2\n",
      "Global seed set to 1\n",
      "GPU available: True, used: True\n",
      "TPU available: False, using: 0 TPU cores\n",
      "IPU available: False, using: 0 IPUs\n",
      "Global seed set to 0\n"
     ]
    },
    {
     "name": "stdout",
     "output_type": "stream",
     "text": [
      "{'training': True, '_parameters': OrderedDict(), '_buffers': OrderedDict(), '_non_persistent_buffers_set': set(), '_backward_hooks': OrderedDict(), '_is_full_backward_hook': None, '_forward_hooks': OrderedDict(), '_forward_pre_hooks': OrderedDict(), '_state_dict_hooks': OrderedDict(), '_load_state_dict_pre_hooks': OrderedDict(), '_load_state_dict_post_hooks': OrderedDict(), '_modules': OrderedDict([('linear', Linear(in_features=8, out_features=100, bias=True))]), 'neuron_indices': tensor([1061, 1497, 1250, 1136,  707,   96,  697, 1023])}\n"
     ]
    },
    {
     "name": "stderr",
     "output_type": "stream",
     "text": [
      "LOCAL_RANK: 0 - CUDA_VISIBLE_DEVICES: [0,1,2,3,4,5,6,7]\n"
     ]
    },
    {
     "data": {
      "application/vnd.jupyter.widget-view+json": {
       "model_id": "d9f879f069344aa1a98861ddede25dd7",
       "version_major": 2,
       "version_minor": 0
      },
      "text/plain": [
       "Predicting: 0it [00:00, ?it/s]"
      ]
     },
     "metadata": {},
     "output_type": "display_data"
    },
    {
     "name": "stderr",
     "output_type": "stream",
     "text": [
      "Global seed set to 2\n",
      "Global seed set to 1\n",
      "GPU available: True, used: True\n",
      "TPU available: False, using: 0 TPU cores\n",
      "IPU available: False, using: 0 IPUs\n",
      "Global seed set to 0\n"
     ]
    },
    {
     "name": "stdout",
     "output_type": "stream",
     "text": [
      "{'training': True, '_parameters': OrderedDict(), '_buffers': OrderedDict(), '_non_persistent_buffers_set': set(), '_backward_hooks': OrderedDict(), '_is_full_backward_hook': None, '_forward_hooks': OrderedDict(), '_forward_pre_hooks': OrderedDict(), '_state_dict_hooks': OrderedDict(), '_load_state_dict_pre_hooks': OrderedDict(), '_load_state_dict_post_hooks': OrderedDict(), '_modules': OrderedDict([('linear', Linear(in_features=10, out_features=100, bias=True))]), 'neuron_indices': tensor([1061, 1497, 1250, 1136,  707,   96,  697, 1023,  727, 1780])}\n"
     ]
    },
    {
     "name": "stderr",
     "output_type": "stream",
     "text": [
      "LOCAL_RANK: 0 - CUDA_VISIBLE_DEVICES: [0,1,2,3,4,5,6,7]\n"
     ]
    },
    {
     "data": {
      "application/vnd.jupyter.widget-view+json": {
       "model_id": "811f14ce74074568875abac95b81e079",
       "version_major": 2,
       "version_minor": 0
      },
      "text/plain": [
       "Predicting: 0it [00:00, ?it/s]"
      ]
     },
     "metadata": {},
     "output_type": "display_data"
    },
    {
     "name": "stderr",
     "output_type": "stream",
     "text": [
      "Global seed set to 2\n",
      "Global seed set to 1\n",
      "GPU available: True, used: True\n",
      "TPU available: False, using: 0 TPU cores\n",
      "IPU available: False, using: 0 IPUs\n",
      "Global seed set to 0\n"
     ]
    },
    {
     "name": "stdout",
     "output_type": "stream",
     "text": [
      "{'training': True, '_parameters': OrderedDict(), '_buffers': OrderedDict(), '_non_persistent_buffers_set': set(), '_backward_hooks': OrderedDict(), '_is_full_backward_hook': None, '_forward_hooks': OrderedDict(), '_forward_pre_hooks': OrderedDict(), '_state_dict_hooks': OrderedDict(), '_load_state_dict_pre_hooks': OrderedDict(), '_load_state_dict_post_hooks': OrderedDict(), '_modules': OrderedDict([('linear', Linear(in_features=20, out_features=100, bias=True))]), 'neuron_indices': tensor([1061, 1497, 1250, 1136,  707,   96,  697, 1023,  727, 1780,  534,  563,\n",
      "         480, 1316,  873,  929, 1062, 1679,  260, 1337])}\n"
     ]
    },
    {
     "name": "stderr",
     "output_type": "stream",
     "text": [
      "LOCAL_RANK: 0 - CUDA_VISIBLE_DEVICES: [0,1,2,3,4,5,6,7]\n"
     ]
    },
    {
     "data": {
      "application/vnd.jupyter.widget-view+json": {
       "model_id": "2a9c676c30184c86a6db83968ba6c039",
       "version_major": 2,
       "version_minor": 0
      },
      "text/plain": [
       "Predicting: 0it [00:00, ?it/s]"
      ]
     },
     "metadata": {},
     "output_type": "display_data"
    },
    {
     "name": "stderr",
     "output_type": "stream",
     "text": [
      "Global seed set to 2\n",
      "Global seed set to 1\n",
      "GPU available: True, used: True\n",
      "TPU available: False, using: 0 TPU cores\n",
      "IPU available: False, using: 0 IPUs\n",
      "Global seed set to 0\n"
     ]
    },
    {
     "name": "stdout",
     "output_type": "stream",
     "text": [
      "{'training': True, '_parameters': OrderedDict(), '_buffers': OrderedDict(), '_non_persistent_buffers_set': set(), '_backward_hooks': OrderedDict(), '_is_full_backward_hook': None, '_forward_hooks': OrderedDict(), '_forward_pre_hooks': OrderedDict(), '_state_dict_hooks': OrderedDict(), '_load_state_dict_pre_hooks': OrderedDict(), '_load_state_dict_post_hooks': OrderedDict(), '_modules': OrderedDict([('linear', Linear(in_features=102, out_features=100, bias=True))]), 'neuron_indices': tensor([1061, 1497, 1250, 1136,  707,   96,  697, 1023,  727, 1780,  534,  563,\n",
      "         480, 1316,  873,  929, 1062, 1679,  260, 1337,  818, 1238, 1430, 1452,\n",
      "        1323, 1661,  750,  989,  217,  228,  498,   35, 1847, 1786,  453, 2036,\n",
      "        1179,  173,  400, 1548, 1893,  766, 1191, 1221, 1751, 1523,  512,  128,\n",
      "         769,  259,  566,  678,   47, 1493, 1801, 1781, 1543, 1833,  125, 1088,\n",
      "         182,  163, 1265, 1396,  533, 1634, 2045,  508, 1680, 1971, 1599,  667,\n",
      "         812,  315,  798,  111,  909,  134,  987, 1401, 1055, 1578,  700,  713,\n",
      "         227, 1763, 1101, 1063,  434, 1463,  122,  598, 1809,  490,  487,  410,\n",
      "         855, 1126,  250, 1174,  953,  925])}\n"
     ]
    },
    {
     "name": "stderr",
     "output_type": "stream",
     "text": [
      "LOCAL_RANK: 0 - CUDA_VISIBLE_DEVICES: [0,1,2,3,4,5,6,7]\n"
     ]
    },
    {
     "data": {
      "application/vnd.jupyter.widget-view+json": {
       "model_id": "5983c362cc3e401e89f452b7abbc874a",
       "version_major": 2,
       "version_minor": 0
      },
      "text/plain": [
       "Predicting: 0it [00:00, ?it/s]"
      ]
     },
     "metadata": {},
     "output_type": "display_data"
    },
    {
     "name": "stderr",
     "output_type": "stream",
     "text": [
      "Global seed set to 2\n",
      "Global seed set to 1\n",
      "GPU available: True, used: True\n",
      "TPU available: False, using: 0 TPU cores\n",
      "IPU available: False, using: 0 IPUs\n",
      "Global seed set to 0\n"
     ]
    },
    {
     "name": "stdout",
     "output_type": "stream",
     "text": [
      "{'training': True, '_parameters': OrderedDict(), '_buffers': OrderedDict(), '_non_persistent_buffers_set': set(), '_backward_hooks': OrderedDict(), '_is_full_backward_hook': None, '_forward_hooks': OrderedDict(), '_forward_pre_hooks': OrderedDict(), '_state_dict_hooks': OrderedDict(), '_load_state_dict_pre_hooks': OrderedDict(), '_load_state_dict_post_hooks': OrderedDict(), '_modules': OrderedDict([('linear', Linear(in_features=204, out_features=100, bias=True))]), 'neuron_indices': tensor([1061, 1497, 1250, 1136,  707,   96,  697, 1023,  727, 1780,  534,  563,\n",
      "         480, 1316,  873,  929, 1062, 1679,  260, 1337,  818, 1238, 1430, 1452,\n",
      "        1323, 1661,  750,  989,  217,  228,  498,   35, 1847, 1786,  453, 2036,\n",
      "        1179,  173,  400, 1548, 1893,  766, 1191, 1221, 1751, 1523,  512,  128,\n",
      "         769,  259,  566,  678,   47, 1493, 1801, 1781, 1543, 1833,  125, 1088,\n",
      "         182,  163, 1265, 1396,  533, 1634, 2045,  508, 1680, 1971, 1599,  667,\n",
      "         812,  315,  798,  111,  909,  134,  987, 1401, 1055, 1578,  700,  713,\n",
      "         227, 1763, 1101, 1063,  434, 1463,  122,  598, 1809,  490,  487,  410,\n",
      "         855, 1126,  250, 1174,  953,  925, 1465, 1704, 1224,  331, 1020, 1297,\n",
      "         395, 1490,  675,  985, 1017, 1262,  633, 1468,  614, 1013,  936,   22,\n",
      "         848,  689,  349,  540,   75, 1972,  571,   74, 2040, 1123,  139,  922,\n",
      "        1012,  902,  240, 1987, 1676, 1046,  237, 1149, 1631,    5, 1190,  853,\n",
      "         188,  218,  542, 1778,  344, 1758, 1161,  977, 1820,   99,  654,  356,\n",
      "        2026,  946,  651, 1419, 1079, 1007, 1925,  559, 1021, 1674,  378, 1105,\n",
      "        1444, 1183, 1770,  168,   98, 2005, 1045, 1249,  530, 1068,  169,  647,\n",
      "        1532, 1974,  162, 1427, 1474, 1796, 1540, 2009, 1594, 2002,  157, 1432,\n",
      "         967, 1269,  352,  145, 1235,  271,  105, 1119, 1692, 1635, 1264,  171])}\n"
     ]
    },
    {
     "name": "stderr",
     "output_type": "stream",
     "text": [
      "LOCAL_RANK: 0 - CUDA_VISIBLE_DEVICES: [0,1,2,3,4,5,6,7]\n"
     ]
    },
    {
     "data": {
      "application/vnd.jupyter.widget-view+json": {
       "model_id": "c5f7dccfe97d442f80c3bec50e76baca",
       "version_major": 2,
       "version_minor": 0
      },
      "text/plain": [
       "Predicting: 0it [00:00, ?it/s]"
      ]
     },
     "metadata": {},
     "output_type": "display_data"
    },
    {
     "name": "stderr",
     "output_type": "stream",
     "text": [
      "Global seed set to 2\n",
      "Global seed set to 1\n",
      "GPU available: True, used: True\n",
      "TPU available: False, using: 0 TPU cores\n",
      "IPU available: False, using: 0 IPUs\n",
      "Global seed set to 0\n"
     ]
    },
    {
     "name": "stdout",
     "output_type": "stream",
     "text": [
      "{'training': True, '_parameters': OrderedDict(), '_buffers': OrderedDict(), '_non_persistent_buffers_set': set(), '_backward_hooks': OrderedDict(), '_is_full_backward_hook': None, '_forward_hooks': OrderedDict(), '_forward_pre_hooks': OrderedDict(), '_state_dict_hooks': OrderedDict(), '_load_state_dict_pre_hooks': OrderedDict(), '_load_state_dict_post_hooks': OrderedDict(), '_modules': OrderedDict([('linear', Linear(in_features=409, out_features=100, bias=True))]), 'neuron_indices': tensor([1061, 1497, 1250, 1136,  707,   96,  697, 1023,  727, 1780,  534,  563,\n",
      "         480, 1316,  873,  929, 1062, 1679,  260, 1337,  818, 1238, 1430, 1452,\n",
      "        1323, 1661,  750,  989,  217,  228,  498,   35, 1847, 1786,  453, 2036,\n",
      "        1179,  173,  400, 1548, 1893,  766, 1191, 1221, 1751, 1523,  512,  128,\n",
      "         769,  259,  566,  678,   47, 1493, 1801, 1781, 1543, 1833,  125, 1088,\n",
      "         182,  163, 1265, 1396,  533, 1634, 2045,  508, 1680, 1971, 1599,  667,\n",
      "         812,  315,  798,  111,  909,  134,  987, 1401, 1055, 1578,  700,  713,\n",
      "         227, 1763, 1101, 1063,  434, 1463,  122,  598, 1809,  490,  487,  410,\n",
      "         855, 1126,  250, 1174,  953,  925, 1465, 1704, 1224,  331, 1020, 1297,\n",
      "         395, 1490,  675,  985, 1017, 1262,  633, 1468,  614, 1013,  936,   22,\n",
      "         848,  689,  349,  540,   75, 1972,  571,   74, 2040, 1123,  139,  922,\n",
      "        1012,  902,  240, 1987, 1676, 1046,  237, 1149, 1631,    5, 1190,  853,\n",
      "         188,  218,  542, 1778,  344, 1758, 1161,  977, 1820,   99,  654,  356,\n",
      "        2026,  946,  651, 1419, 1079, 1007, 1925,  559, 1021, 1674,  378, 1105,\n",
      "        1444, 1183, 1770,  168,   98, 2005, 1045, 1249,  530, 1068,  169,  647,\n",
      "        1532, 1974,  162, 1427, 1474, 1796, 1540, 2009, 1594, 2002,  157, 1432,\n",
      "         967, 1269,  352,  145, 1235,  271,  105, 1119, 1692, 1635, 1264,  171,\n",
      "         373,  426,  621,  370,  465, 1672,  200, 1486, 1564, 1894,   57,  943,\n",
      "        1553,  358, 1059, 1246, 1489, 1556, 1049, 1589, 1550,  836, 1534,  204,\n",
      "        1995, 1364,  167, 1140,  307,  137, 1314, 1958, 1557, 1571, 1727,  305,\n",
      "        1957,  414,  371, 1966,  521,  183,  160, 1762, 1369, 1188,  519, 1032,\n",
      "        1036,  632, 1301,  791,   68,  787, 1626, 1031,   49,  964, 1800, 1142,\n",
      "         726, 1445, 1341, 1226, 1975, 1655,  245, 1454, 1521, 1025,  972, 1872,\n",
      "        1464,  355,  243,  715,  924, 1737,  962, 1393, 1920, 1305,  318, 1620,\n",
      "        1933,  170, 1590, 1899,  672,  816, 1668,  341, 1665,  529, 1580,  963,\n",
      "         684,  887,  326,   93,  364, 1319,  694,  536, 1718,  391, 1603, 1459,\n",
      "         594,  611, 1254, 1790,  159,  599,   94, 1824, 1788, 1415,  974,  733,\n",
      "         231, 1215, 1085,  133, 1560,  681,  575,  436,  205, 1261, 2001,  910,\n",
      "        1247,  281, 1959, 1239,  253, 1574,  764,  158, 1784,  272, 1406,  866,\n",
      "        1828, 1379,  592, 1312,  430,  123,  277, 1210,  565,  203,  820, 1492,\n",
      "        1585,  435, 1413,  567, 1473, 1662,  582,  896, 1858,  745, 1848,  553,\n",
      "        1082,   81,  782, 1001,  840,  502,  505, 2042,  792,  396, 1133, 1484,\n",
      "         763,  617, 1981, 1135, 1931,  572,  295, 1667, 1227, 1429, 1456, 1587,\n",
      "          33, 1207, 1111, 1993, 2044,  883,  877, 1457,  793, 1869,   38,  891,\n",
      "        1042])}\n"
     ]
    },
    {
     "name": "stderr",
     "output_type": "stream",
     "text": [
      "LOCAL_RANK: 0 - CUDA_VISIBLE_DEVICES: [0,1,2,3,4,5,6,7]\n"
     ]
    },
    {
     "data": {
      "application/vnd.jupyter.widget-view+json": {
       "model_id": "994060c9499245bc9f1baf882e1380cc",
       "version_major": 2,
       "version_minor": 0
      },
      "text/plain": [
       "Predicting: 0it [00:00, ?it/s]"
      ]
     },
     "metadata": {},
     "output_type": "display_data"
    },
    {
     "name": "stderr",
     "output_type": "stream",
     "text": [
      "Global seed set to 2\n",
      "Global seed set to 1\n",
      "GPU available: True, used: True\n",
      "TPU available: False, using: 0 TPU cores\n",
      "IPU available: False, using: 0 IPUs\n",
      "Global seed set to 0\n"
     ]
    },
    {
     "name": "stdout",
     "output_type": "stream",
     "text": [
      "{'training': True, '_parameters': OrderedDict(), '_buffers': OrderedDict(), '_non_persistent_buffers_set': set(), '_backward_hooks': OrderedDict(), '_is_full_backward_hook': None, '_forward_hooks': OrderedDict(), '_forward_pre_hooks': OrderedDict(), '_state_dict_hooks': OrderedDict(), '_load_state_dict_pre_hooks': OrderedDict(), '_load_state_dict_post_hooks': OrderedDict(), '_modules': OrderedDict([('linear', Linear(in_features=6, out_features=102, bias=True))]), 'neuron_indices': tensor([1061, 1497, 1250, 1136,  707,   96])}\n"
     ]
    },
    {
     "name": "stderr",
     "output_type": "stream",
     "text": [
      "LOCAL_RANK: 0 - CUDA_VISIBLE_DEVICES: [0,1,2,3,4,5,6,7]\n"
     ]
    },
    {
     "data": {
      "application/vnd.jupyter.widget-view+json": {
       "model_id": "c011f0dd1a244f08a8f883e6dedc6ee9",
       "version_major": 2,
       "version_minor": 0
      },
      "text/plain": [
       "Predicting: 0it [00:00, ?it/s]"
      ]
     },
     "metadata": {},
     "output_type": "display_data"
    },
    {
     "name": "stderr",
     "output_type": "stream",
     "text": [
      "Global seed set to 2\n",
      "Global seed set to 1\n",
      "GPU available: True, used: True\n",
      "TPU available: False, using: 0 TPU cores\n",
      "IPU available: False, using: 0 IPUs\n",
      "Global seed set to 0\n",
      "LOCAL_RANK: 0 - CUDA_VISIBLE_DEVICES: [0,1,2,3,4,5,6,7]\n"
     ]
    },
    {
     "name": "stdout",
     "output_type": "stream",
     "text": [
      "{'training': True, '_parameters': OrderedDict(), '_buffers': OrderedDict(), '_non_persistent_buffers_set': set(), '_backward_hooks': OrderedDict(), '_is_full_backward_hook': None, '_forward_hooks': OrderedDict(), '_forward_pre_hooks': OrderedDict(), '_state_dict_hooks': OrderedDict(), '_load_state_dict_pre_hooks': OrderedDict(), '_load_state_dict_post_hooks': OrderedDict(), '_modules': OrderedDict([('linear', Linear(in_features=8, out_features=102, bias=True))]), 'neuron_indices': tensor([1061, 1497, 1250, 1136,  707,   96,  697, 1023])}\n"
     ]
    },
    {
     "data": {
      "application/vnd.jupyter.widget-view+json": {
       "model_id": "8af24141f1d24de9bee79c3927f3c594",
       "version_major": 2,
       "version_minor": 0
      },
      "text/plain": [
       "Predicting: 0it [00:00, ?it/s]"
      ]
     },
     "metadata": {},
     "output_type": "display_data"
    },
    {
     "name": "stderr",
     "output_type": "stream",
     "text": [
      "Global seed set to 2\n",
      "Global seed set to 1\n",
      "GPU available: True, used: True\n",
      "TPU available: False, using: 0 TPU cores\n",
      "IPU available: False, using: 0 IPUs\n",
      "Global seed set to 0\n",
      "LOCAL_RANK: 0 - CUDA_VISIBLE_DEVICES: [0,1,2,3,4,5,6,7]\n"
     ]
    },
    {
     "name": "stdout",
     "output_type": "stream",
     "text": [
      "{'training': True, '_parameters': OrderedDict(), '_buffers': OrderedDict(), '_non_persistent_buffers_set': set(), '_backward_hooks': OrderedDict(), '_is_full_backward_hook': None, '_forward_hooks': OrderedDict(), '_forward_pre_hooks': OrderedDict(), '_state_dict_hooks': OrderedDict(), '_load_state_dict_pre_hooks': OrderedDict(), '_load_state_dict_post_hooks': OrderedDict(), '_modules': OrderedDict([('linear', Linear(in_features=10, out_features=102, bias=True))]), 'neuron_indices': tensor([1061, 1497, 1250, 1136,  707,   96,  697, 1023,  727, 1780])}\n"
     ]
    },
    {
     "data": {
      "application/vnd.jupyter.widget-view+json": {
       "model_id": "69da8749750f4bf98517ca8e7a4e36ea",
       "version_major": 2,
       "version_minor": 0
      },
      "text/plain": [
       "Predicting: 0it [00:00, ?it/s]"
      ]
     },
     "metadata": {},
     "output_type": "display_data"
    },
    {
     "name": "stderr",
     "output_type": "stream",
     "text": [
      "Global seed set to 2\n",
      "Global seed set to 1\n",
      "GPU available: True, used: True\n",
      "TPU available: False, using: 0 TPU cores\n",
      "IPU available: False, using: 0 IPUs\n",
      "Global seed set to 0\n",
      "LOCAL_RANK: 0 - CUDA_VISIBLE_DEVICES: [0,1,2,3,4,5,6,7]\n"
     ]
    },
    {
     "name": "stdout",
     "output_type": "stream",
     "text": [
      "{'training': True, '_parameters': OrderedDict(), '_buffers': OrderedDict(), '_non_persistent_buffers_set': set(), '_backward_hooks': OrderedDict(), '_is_full_backward_hook': None, '_forward_hooks': OrderedDict(), '_forward_pre_hooks': OrderedDict(), '_state_dict_hooks': OrderedDict(), '_load_state_dict_pre_hooks': OrderedDict(), '_load_state_dict_post_hooks': OrderedDict(), '_modules': OrderedDict([('linear', Linear(in_features=20, out_features=102, bias=True))]), 'neuron_indices': tensor([1061, 1497, 1250, 1136,  707,   96,  697, 1023,  727, 1780,  534,  563,\n",
      "         480, 1316,  873,  929, 1062, 1679,  260, 1337])}\n"
     ]
    },
    {
     "data": {
      "application/vnd.jupyter.widget-view+json": {
       "model_id": "150898da016941a2bfee4e01379f308a",
       "version_major": 2,
       "version_minor": 0
      },
      "text/plain": [
       "Predicting: 0it [00:00, ?it/s]"
      ]
     },
     "metadata": {},
     "output_type": "display_data"
    },
    {
     "name": "stderr",
     "output_type": "stream",
     "text": [
      "Global seed set to 2\n",
      "Global seed set to 1\n",
      "GPU available: True, used: True\n",
      "TPU available: False, using: 0 TPU cores\n",
      "IPU available: False, using: 0 IPUs\n",
      "Global seed set to 0\n",
      "LOCAL_RANK: 0 - CUDA_VISIBLE_DEVICES: [0,1,2,3,4,5,6,7]\n"
     ]
    },
    {
     "name": "stdout",
     "output_type": "stream",
     "text": [
      "{'training': True, '_parameters': OrderedDict(), '_buffers': OrderedDict(), '_non_persistent_buffers_set': set(), '_backward_hooks': OrderedDict(), '_is_full_backward_hook': None, '_forward_hooks': OrderedDict(), '_forward_pre_hooks': OrderedDict(), '_state_dict_hooks': OrderedDict(), '_load_state_dict_pre_hooks': OrderedDict(), '_load_state_dict_post_hooks': OrderedDict(), '_modules': OrderedDict([('linear', Linear(in_features=102, out_features=102, bias=True))]), 'neuron_indices': tensor([1061, 1497, 1250, 1136,  707,   96,  697, 1023,  727, 1780,  534,  563,\n",
      "         480, 1316,  873,  929, 1062, 1679,  260, 1337,  818, 1238, 1430, 1452,\n",
      "        1323, 1661,  750,  989,  217,  228,  498,   35, 1847, 1786,  453, 2036,\n",
      "        1179,  173,  400, 1548, 1893,  766, 1191, 1221, 1751, 1523,  512,  128,\n",
      "         769,  259,  566,  678,   47, 1493, 1801, 1781, 1543, 1833,  125, 1088,\n",
      "         182,  163, 1265, 1396,  533, 1634, 2045,  508, 1680, 1971, 1599,  667,\n",
      "         812,  315,  798,  111,  909,  134,  987, 1401, 1055, 1578,  700,  713,\n",
      "         227, 1763, 1101, 1063,  434, 1463,  122,  598, 1809,  490,  487,  410,\n",
      "         855, 1126,  250, 1174,  953,  925])}\n"
     ]
    },
    {
     "data": {
      "application/vnd.jupyter.widget-view+json": {
       "model_id": "a6d3609f096a4a6fb59f1cb4a961bf8d",
       "version_major": 2,
       "version_minor": 0
      },
      "text/plain": [
       "Predicting: 0it [00:00, ?it/s]"
      ]
     },
     "metadata": {},
     "output_type": "display_data"
    },
    {
     "name": "stderr",
     "output_type": "stream",
     "text": [
      "Global seed set to 2\n",
      "Global seed set to 1\n",
      "GPU available: True, used: True\n",
      "TPU available: False, using: 0 TPU cores\n",
      "IPU available: False, using: 0 IPUs\n",
      "Global seed set to 0\n",
      "LOCAL_RANK: 0 - CUDA_VISIBLE_DEVICES: [0,1,2,3,4,5,6,7]\n"
     ]
    },
    {
     "name": "stdout",
     "output_type": "stream",
     "text": [
      "{'training': True, '_parameters': OrderedDict(), '_buffers': OrderedDict(), '_non_persistent_buffers_set': set(), '_backward_hooks': OrderedDict(), '_is_full_backward_hook': None, '_forward_hooks': OrderedDict(), '_forward_pre_hooks': OrderedDict(), '_state_dict_hooks': OrderedDict(), '_load_state_dict_pre_hooks': OrderedDict(), '_load_state_dict_post_hooks': OrderedDict(), '_modules': OrderedDict([('linear', Linear(in_features=204, out_features=102, bias=True))]), 'neuron_indices': tensor([1061, 1497, 1250, 1136,  707,   96,  697, 1023,  727, 1780,  534,  563,\n",
      "         480, 1316,  873,  929, 1062, 1679,  260, 1337,  818, 1238, 1430, 1452,\n",
      "        1323, 1661,  750,  989,  217,  228,  498,   35, 1847, 1786,  453, 2036,\n",
      "        1179,  173,  400, 1548, 1893,  766, 1191, 1221, 1751, 1523,  512,  128,\n",
      "         769,  259,  566,  678,   47, 1493, 1801, 1781, 1543, 1833,  125, 1088,\n",
      "         182,  163, 1265, 1396,  533, 1634, 2045,  508, 1680, 1971, 1599,  667,\n",
      "         812,  315,  798,  111,  909,  134,  987, 1401, 1055, 1578,  700,  713,\n",
      "         227, 1763, 1101, 1063,  434, 1463,  122,  598, 1809,  490,  487,  410,\n",
      "         855, 1126,  250, 1174,  953,  925, 1465, 1704, 1224,  331, 1020, 1297,\n",
      "         395, 1490,  675,  985, 1017, 1262,  633, 1468,  614, 1013,  936,   22,\n",
      "         848,  689,  349,  540,   75, 1972,  571,   74, 2040, 1123,  139,  922,\n",
      "        1012,  902,  240, 1987, 1676, 1046,  237, 1149, 1631,    5, 1190,  853,\n",
      "         188,  218,  542, 1778,  344, 1758, 1161,  977, 1820,   99,  654,  356,\n",
      "        2026,  946,  651, 1419, 1079, 1007, 1925,  559, 1021, 1674,  378, 1105,\n",
      "        1444, 1183, 1770,  168,   98, 2005, 1045, 1249,  530, 1068,  169,  647,\n",
      "        1532, 1974,  162, 1427, 1474, 1796, 1540, 2009, 1594, 2002,  157, 1432,\n",
      "         967, 1269,  352,  145, 1235,  271,  105, 1119, 1692, 1635, 1264,  171])}\n"
     ]
    },
    {
     "data": {
      "application/vnd.jupyter.widget-view+json": {
       "model_id": "c22ead64a77c46ac95b9852afac77351",
       "version_major": 2,
       "version_minor": 0
      },
      "text/plain": [
       "Predicting: 0it [00:00, ?it/s]"
      ]
     },
     "metadata": {},
     "output_type": "display_data"
    },
    {
     "name": "stderr",
     "output_type": "stream",
     "text": [
      "Global seed set to 2\n",
      "Global seed set to 1\n",
      "GPU available: True, used: True\n",
      "TPU available: False, using: 0 TPU cores\n",
      "IPU available: False, using: 0 IPUs\n",
      "Global seed set to 0\n",
      "LOCAL_RANK: 0 - CUDA_VISIBLE_DEVICES: [0,1,2,3,4,5,6,7]\n"
     ]
    },
    {
     "name": "stdout",
     "output_type": "stream",
     "text": [
      "{'training': True, '_parameters': OrderedDict(), '_buffers': OrderedDict(), '_non_persistent_buffers_set': set(), '_backward_hooks': OrderedDict(), '_is_full_backward_hook': None, '_forward_hooks': OrderedDict(), '_forward_pre_hooks': OrderedDict(), '_state_dict_hooks': OrderedDict(), '_load_state_dict_pre_hooks': OrderedDict(), '_load_state_dict_post_hooks': OrderedDict(), '_modules': OrderedDict([('linear', Linear(in_features=409, out_features=102, bias=True))]), 'neuron_indices': tensor([1061, 1497, 1250, 1136,  707,   96,  697, 1023,  727, 1780,  534,  563,\n",
      "         480, 1316,  873,  929, 1062, 1679,  260, 1337,  818, 1238, 1430, 1452,\n",
      "        1323, 1661,  750,  989,  217,  228,  498,   35, 1847, 1786,  453, 2036,\n",
      "        1179,  173,  400, 1548, 1893,  766, 1191, 1221, 1751, 1523,  512,  128,\n",
      "         769,  259,  566,  678,   47, 1493, 1801, 1781, 1543, 1833,  125, 1088,\n",
      "         182,  163, 1265, 1396,  533, 1634, 2045,  508, 1680, 1971, 1599,  667,\n",
      "         812,  315,  798,  111,  909,  134,  987, 1401, 1055, 1578,  700,  713,\n",
      "         227, 1763, 1101, 1063,  434, 1463,  122,  598, 1809,  490,  487,  410,\n",
      "         855, 1126,  250, 1174,  953,  925, 1465, 1704, 1224,  331, 1020, 1297,\n",
      "         395, 1490,  675,  985, 1017, 1262,  633, 1468,  614, 1013,  936,   22,\n",
      "         848,  689,  349,  540,   75, 1972,  571,   74, 2040, 1123,  139,  922,\n",
      "        1012,  902,  240, 1987, 1676, 1046,  237, 1149, 1631,    5, 1190,  853,\n",
      "         188,  218,  542, 1778,  344, 1758, 1161,  977, 1820,   99,  654,  356,\n",
      "        2026,  946,  651, 1419, 1079, 1007, 1925,  559, 1021, 1674,  378, 1105,\n",
      "        1444, 1183, 1770,  168,   98, 2005, 1045, 1249,  530, 1068,  169,  647,\n",
      "        1532, 1974,  162, 1427, 1474, 1796, 1540, 2009, 1594, 2002,  157, 1432,\n",
      "         967, 1269,  352,  145, 1235,  271,  105, 1119, 1692, 1635, 1264,  171,\n",
      "         373,  426,  621,  370,  465, 1672,  200, 1486, 1564, 1894,   57,  943,\n",
      "        1553,  358, 1059, 1246, 1489, 1556, 1049, 1589, 1550,  836, 1534,  204,\n",
      "        1995, 1364,  167, 1140,  307,  137, 1314, 1958, 1557, 1571, 1727,  305,\n",
      "        1957,  414,  371, 1966,  521,  183,  160, 1762, 1369, 1188,  519, 1032,\n",
      "        1036,  632, 1301,  791,   68,  787, 1626, 1031,   49,  964, 1800, 1142,\n",
      "         726, 1445, 1341, 1226, 1975, 1655,  245, 1454, 1521, 1025,  972, 1872,\n",
      "        1464,  355,  243,  715,  924, 1737,  962, 1393, 1920, 1305,  318, 1620,\n",
      "        1933,  170, 1590, 1899,  672,  816, 1668,  341, 1665,  529, 1580,  963,\n",
      "         684,  887,  326,   93,  364, 1319,  694,  536, 1718,  391, 1603, 1459,\n",
      "         594,  611, 1254, 1790,  159,  599,   94, 1824, 1788, 1415,  974,  733,\n",
      "         231, 1215, 1085,  133, 1560,  681,  575,  436,  205, 1261, 2001,  910,\n",
      "        1247,  281, 1959, 1239,  253, 1574,  764,  158, 1784,  272, 1406,  866,\n",
      "        1828, 1379,  592, 1312,  430,  123,  277, 1210,  565,  203,  820, 1492,\n",
      "        1585,  435, 1413,  567, 1473, 1662,  582,  896, 1858,  745, 1848,  553,\n",
      "        1082,   81,  782, 1001,  840,  502,  505, 2042,  792,  396, 1133, 1484,\n",
      "         763,  617, 1981, 1135, 1931,  572,  295, 1667, 1227, 1429, 1456, 1587,\n",
      "          33, 1207, 1111, 1993, 2044,  883,  877, 1457,  793, 1869,   38,  891,\n",
      "        1042])}\n"
     ]
    },
    {
     "data": {
      "application/vnd.jupyter.widget-view+json": {
       "model_id": "5f5d434939394b8086b31e237974e523",
       "version_major": 2,
       "version_minor": 0
      },
      "text/plain": [
       "Predicting: 0it [00:00, ?it/s]"
      ]
     },
     "metadata": {},
     "output_type": "display_data"
    },
    {
     "name": "stderr",
     "output_type": "stream",
     "text": [
      "Global seed set to 2\n",
      "Global seed set to 1\n",
      "GPU available: True, used: True\n",
      "TPU available: False, using: 0 TPU cores\n",
      "IPU available: False, using: 0 IPUs\n",
      "Global seed set to 0\n",
      "LOCAL_RANK: 0 - CUDA_VISIBLE_DEVICES: [0,1,2,3,4,5,6,7]\n"
     ]
    },
    {
     "name": "stdout",
     "output_type": "stream",
     "text": [
      "{'training': True, '_parameters': OrderedDict(), '_buffers': OrderedDict(), '_non_persistent_buffers_set': set(), '_backward_hooks': OrderedDict(), '_is_full_backward_hook': None, '_forward_hooks': OrderedDict(), '_forward_pre_hooks': OrderedDict(), '_state_dict_hooks': OrderedDict(), '_load_state_dict_pre_hooks': OrderedDict(), '_load_state_dict_post_hooks': OrderedDict(), '_modules': OrderedDict([('linear', Linear(in_features=614, out_features=102, bias=True))]), 'neuron_indices': tensor([1061, 1497, 1250, 1136,  707,   96,  697, 1023,  727, 1780,  534,  563,\n",
      "         480, 1316,  873,  929, 1062, 1679,  260, 1337,  818, 1238, 1430, 1452,\n",
      "        1323, 1661,  750,  989,  217,  228,  498,   35, 1847, 1786,  453, 2036,\n",
      "        1179,  173,  400, 1548, 1893,  766, 1191, 1221, 1751, 1523,  512,  128,\n",
      "         769,  259,  566,  678,   47, 1493, 1801, 1781, 1543, 1833,  125, 1088,\n",
      "         182,  163, 1265, 1396,  533, 1634, 2045,  508, 1680, 1971, 1599,  667,\n",
      "         812,  315,  798,  111,  909,  134,  987, 1401, 1055, 1578,  700,  713,\n",
      "         227, 1763, 1101, 1063,  434, 1463,  122,  598, 1809,  490,  487,  410,\n",
      "         855, 1126,  250, 1174,  953,  925, 1465, 1704, 1224,  331, 1020, 1297,\n",
      "         395, 1490,  675,  985, 1017, 1262,  633, 1468,  614, 1013,  936,   22,\n",
      "         848,  689,  349,  540,   75, 1972,  571,   74, 2040, 1123,  139,  922,\n",
      "        1012,  902,  240, 1987, 1676, 1046,  237, 1149, 1631,    5, 1190,  853,\n",
      "         188,  218,  542, 1778,  344, 1758, 1161,  977, 1820,   99,  654,  356,\n",
      "        2026,  946,  651, 1419, 1079, 1007, 1925,  559, 1021, 1674,  378, 1105,\n",
      "        1444, 1183, 1770,  168,   98, 2005, 1045, 1249,  530, 1068,  169,  647,\n",
      "        1532, 1974,  162, 1427, 1474, 1796, 1540, 2009, 1594, 2002,  157, 1432,\n",
      "         967, 1269,  352,  145, 1235,  271,  105, 1119, 1692, 1635, 1264,  171,\n",
      "         373,  426,  621,  370,  465, 1672,  200, 1486, 1564, 1894,   57,  943,\n",
      "        1553,  358, 1059, 1246, 1489, 1556, 1049, 1589, 1550,  836, 1534,  204,\n",
      "        1995, 1364,  167, 1140,  307,  137, 1314, 1958, 1557, 1571, 1727,  305,\n",
      "        1957,  414,  371, 1966,  521,  183,  160, 1762, 1369, 1188,  519, 1032,\n",
      "        1036,  632, 1301,  791,   68,  787, 1626, 1031,   49,  964, 1800, 1142,\n",
      "         726, 1445, 1341, 1226, 1975, 1655,  245, 1454, 1521, 1025,  972, 1872,\n",
      "        1464,  355,  243,  715,  924, 1737,  962, 1393, 1920, 1305,  318, 1620,\n",
      "        1933,  170, 1590, 1899,  672,  816, 1668,  341, 1665,  529, 1580,  963,\n",
      "         684,  887,  326,   93,  364, 1319,  694,  536, 1718,  391, 1603, 1459,\n",
      "         594,  611, 1254, 1790,  159,  599,   94, 1824, 1788, 1415,  974,  733,\n",
      "         231, 1215, 1085,  133, 1560,  681,  575,  436,  205, 1261, 2001,  910,\n",
      "        1247,  281, 1959, 1239,  253, 1574,  764,  158, 1784,  272, 1406,  866,\n",
      "        1828, 1379,  592, 1312,  430,  123,  277, 1210,  565,  203,  820, 1492,\n",
      "        1585,  435, 1413,  567, 1473, 1662,  582,  896, 1858,  745, 1848,  553,\n",
      "        1082,   81,  782, 1001,  840,  502,  505, 2042,  792,  396, 1133, 1484,\n",
      "         763,  617, 1981, 1135, 1931,  572,  295, 1667, 1227, 1429, 1456, 1587,\n",
      "          33, 1207, 1111, 1993, 2044,  883,  877, 1457,  793, 1869,   38,  891,\n",
      "        1042, 1591, 1216, 1842, 1469,  124,  631,  904,  955, 1512, 2028,  709,\n",
      "        1128, 1009, 1738, 1259,   44, 1442, 1499, 1804, 1723, 1562, 1962, 1295,\n",
      "         343,  510,  402, 1482,  610, 1024, 1815, 1963,  656,  121,  751,  688,\n",
      "         545,  664,  795,  870, 1106, 2007,  376,  353,  433,  589,  229,  418,\n",
      "        1360,  539, 1218,  386,  871, 1835,  219,  864,  366, 1389,  947, 1697,\n",
      "         216,  973, 1841, 1491, 1719, 1366,  888,  473, 1160,  669,  748, 1611,\n",
      "        1749,  193,  979, 1822,  324,  605,  970,  387,  940, 1541, 1470, 1765,\n",
      "        1595,  309,  912,  339, 1568, 1867, 1293,  659, 1156,  293,  781,   62,\n",
      "        1977, 1308,  833,  693, 1744, 1831,  590, 1172, 1819,  501,  650, 1003,\n",
      "         639, 1890,  470,   34,  564,  332, 1990,  901, 1617,  778,  573,  933,\n",
      "        1342, 1290,  196, 1776,  956, 1832, 1583,   23,  602, 1503, 1964,  471,\n",
      "         226,  851, 1344, 1354, 1845,  642, 1447, 1608, 1640, 1330,  407, 1433,\n",
      "        1576, 1911, 1549,  316, 1450, 1722,  166, 1411, 1271, 1092,  384,  485,\n",
      "         161, 1670, 1294, 1700, 1185,  585,  834, 2018,   65,  520,  822, 1336,\n",
      "        1554, 1019,  197, 1288, 1104,  773,   64,  784,  283,  155, 1750,  829,\n",
      "        2021,  523,  468, 1376,  388,  918, 1035, 1983,  690, 1078,  258, 1103,\n",
      "        1504,  941,  261,  754, 1694,  189, 1144, 1388,  620,  284,  221,  823,\n",
      "         297,  921])}\n"
     ]
    },
    {
     "data": {
      "application/vnd.jupyter.widget-view+json": {
       "model_id": "749fc21644a94b2c875eb46cddb64204",
       "version_major": 2,
       "version_minor": 0
      },
      "text/plain": [
       "Predicting: 0it [00:00, ?it/s]"
      ]
     },
     "metadata": {},
     "output_type": "display_data"
    },
    {
     "name": "stderr",
     "output_type": "stream",
     "text": [
      "Global seed set to 2\n",
      "Global seed set to 1\n",
      "GPU available: True, used: True\n",
      "TPU available: False, using: 0 TPU cores\n",
      "IPU available: False, using: 0 IPUs\n",
      "Global seed set to 0\n",
      "LOCAL_RANK: 0 - CUDA_VISIBLE_DEVICES: [0,1,2,3,4,5,6,7]\n"
     ]
    },
    {
     "name": "stdout",
     "output_type": "stream",
     "text": [
      "{'training': True, '_parameters': OrderedDict(), '_buffers': OrderedDict(), '_non_persistent_buffers_set': set(), '_backward_hooks': OrderedDict(), '_is_full_backward_hook': None, '_forward_hooks': OrderedDict(), '_forward_pre_hooks': OrderedDict(), '_state_dict_hooks': OrderedDict(), '_load_state_dict_pre_hooks': OrderedDict(), '_load_state_dict_post_hooks': OrderedDict(), '_modules': OrderedDict([('linear', Linear(in_features=1024, out_features=102, bias=True))]), 'neuron_indices': tensor([1061, 1497, 1250,  ..., 1196,  674,  997])}\n"
     ]
    },
    {
     "data": {
      "application/vnd.jupyter.widget-view+json": {
       "model_id": "76f8de194f7d456eb33e02a80059868b",
       "version_major": 2,
       "version_minor": 0
      },
      "text/plain": [
       "Predicting: 0it [00:00, ?it/s]"
      ]
     },
     "metadata": {},
     "output_type": "display_data"
    },
    {
     "name": "stderr",
     "output_type": "stream",
     "text": [
      "Global seed set to 2\n",
      "Global seed set to 1\n",
      "GPU available: True, used: True\n",
      "TPU available: False, using: 0 TPU cores\n",
      "IPU available: False, using: 0 IPUs\n",
      "Global seed set to 0\n"
     ]
    },
    {
     "name": "stdout",
     "output_type": "stream",
     "text": [
      "{'training': True, '_parameters': OrderedDict(), '_buffers': OrderedDict(), '_non_persistent_buffers_set': set(), '_backward_hooks': OrderedDict(), '_is_full_backward_hook': None, '_forward_hooks': OrderedDict(), '_forward_pre_hooks': OrderedDict(), '_state_dict_hooks': OrderedDict(), '_load_state_dict_pre_hooks': OrderedDict(), '_load_state_dict_post_hooks': OrderedDict(), '_modules': OrderedDict([('linear', Linear(in_features=1638, out_features=102, bias=True))]), 'neuron_indices': tensor([1061, 1497, 1250,  ...,  522, 1270,  719])}\n"
     ]
    },
    {
     "name": "stderr",
     "output_type": "stream",
     "text": [
      "LOCAL_RANK: 0 - CUDA_VISIBLE_DEVICES: [0,1,2,3,4,5,6,7]\n"
     ]
    },
    {
     "data": {
      "application/vnd.jupyter.widget-view+json": {
       "model_id": "bf7f2750a893428a964660fb54252380",
       "version_major": 2,
       "version_minor": 0
      },
      "text/plain": [
       "Predicting: 0it [00:00, ?it/s]"
      ]
     },
     "metadata": {},
     "output_type": "display_data"
    },
    {
     "name": "stderr",
     "output_type": "stream",
     "text": [
      "Global seed set to 2\n",
      "Global seed set to 1\n",
      "GPU available: True, used: True\n",
      "TPU available: False, using: 0 TPU cores\n",
      "IPU available: False, using: 0 IPUs\n",
      "Global seed set to 0\n",
      "LOCAL_RANK: 0 - CUDA_VISIBLE_DEVICES: [0,1,2,3,4,5,6,7]\n"
     ]
    },
    {
     "name": "stdout",
     "output_type": "stream",
     "text": [
      "{'training': True, '_parameters': OrderedDict(), '_buffers': OrderedDict(), '_non_persistent_buffers_set': set(), '_backward_hooks': OrderedDict(), '_is_full_backward_hook': None, '_forward_hooks': OrderedDict(), '_forward_pre_hooks': OrderedDict(), '_state_dict_hooks': OrderedDict(), '_load_state_dict_pre_hooks': OrderedDict(), '_load_state_dict_post_hooks': OrderedDict(), '_modules': OrderedDict([('linear', Linear(in_features=1843, out_features=102, bias=True))]), 'neuron_indices': tensor([1061, 1497, 1250,  ..., 1357, 1453, 1455])}\n"
     ]
    },
    {
     "data": {
      "application/vnd.jupyter.widget-view+json": {
       "model_id": "62b0102c5aa949b3ad9c2da9251a781d",
       "version_major": 2,
       "version_minor": 0
      },
      "text/plain": [
       "Predicting: 0it [00:00, ?it/s]"
      ]
     },
     "metadata": {},
     "output_type": "display_data"
    },
    {
     "name": "stderr",
     "output_type": "stream",
     "text": [
      "Global seed set to 2\n",
      "Global seed set to 2\n",
      "GPU available: True, used: True\n",
      "TPU available: False, using: 0 TPU cores\n",
      "IPU available: False, using: 0 IPUs\n",
      "Global seed set to 0\n",
      "LOCAL_RANK: 0 - CUDA_VISIBLE_DEVICES: [0,1,2,3,4,5,6,7]\n"
     ]
    },
    {
     "name": "stdout",
     "output_type": "stream",
     "text": [
      "{'training': True, '_parameters': OrderedDict(), '_buffers': OrderedDict(), '_non_persistent_buffers_set': set(), '_backward_hooks': OrderedDict(), '_is_full_backward_hook': None, '_forward_hooks': OrderedDict(), '_forward_pre_hooks': OrderedDict(), '_state_dict_hooks': OrderedDict(), '_load_state_dict_pre_hooks': OrderedDict(), '_load_state_dict_post_hooks': OrderedDict(), '_modules': OrderedDict([('linear', Linear(in_features=1, out_features=102, bias=True))]), 'neuron_indices': tensor([1192])}\n"
     ]
    },
    {
     "data": {
      "application/vnd.jupyter.widget-view+json": {
       "model_id": "9a7d8ca555924e488eff5e50691ee1c6",
       "version_major": 2,
       "version_minor": 0
      },
      "text/plain": [
       "Predicting: 0it [00:00, ?it/s]"
      ]
     },
     "metadata": {},
     "output_type": "display_data"
    },
    {
     "name": "stderr",
     "output_type": "stream",
     "text": [
      "Global seed set to 2\n",
      "Global seed set to 2\n",
      "GPU available: True, used: True\n",
      "TPU available: False, using: 0 TPU cores\n",
      "IPU available: False, using: 0 IPUs\n",
      "Global seed set to 0\n",
      "LOCAL_RANK: 0 - CUDA_VISIBLE_DEVICES: [0,1,2,3,4,5,6,7]\n"
     ]
    },
    {
     "name": "stdout",
     "output_type": "stream",
     "text": [
      "{'training': True, '_parameters': OrderedDict(), '_buffers': OrderedDict(), '_non_persistent_buffers_set': set(), '_backward_hooks': OrderedDict(), '_is_full_backward_hook': None, '_forward_hooks': OrderedDict(), '_forward_pre_hooks': OrderedDict(), '_state_dict_hooks': OrderedDict(), '_load_state_dict_pre_hooks': OrderedDict(), '_load_state_dict_post_hooks': OrderedDict(), '_modules': OrderedDict([('linear', Linear(in_features=2, out_features=102, bias=True))]), 'neuron_indices': tensor([1192, 1790])}\n"
     ]
    },
    {
     "data": {
      "application/vnd.jupyter.widget-view+json": {
       "model_id": "a9bfa2ea59eb4ee687c10eaeef480718",
       "version_major": 2,
       "version_minor": 0
      },
      "text/plain": [
       "Predicting: 0it [00:00, ?it/s]"
      ]
     },
     "metadata": {},
     "output_type": "display_data"
    },
    {
     "name": "stderr",
     "output_type": "stream",
     "text": [
      "Global seed set to 2\n",
      "Global seed set to 2\n",
      "GPU available: True, used: True\n",
      "TPU available: False, using: 0 TPU cores\n",
      "IPU available: False, using: 0 IPUs\n",
      "Global seed set to 0\n"
     ]
    },
    {
     "name": "stdout",
     "output_type": "stream",
     "text": [
      "{'training': True, '_parameters': OrderedDict(), '_buffers': OrderedDict(), '_non_persistent_buffers_set': set(), '_backward_hooks': OrderedDict(), '_is_full_backward_hook': None, '_forward_hooks': OrderedDict(), '_forward_pre_hooks': OrderedDict(), '_state_dict_hooks': OrderedDict(), '_load_state_dict_pre_hooks': OrderedDict(), '_load_state_dict_post_hooks': OrderedDict(), '_modules': OrderedDict([('linear', Linear(in_features=4, out_features=102, bias=True))]), 'neuron_indices': tensor([1192, 1790,  799, 1387])}\n"
     ]
    },
    {
     "name": "stderr",
     "output_type": "stream",
     "text": [
      "LOCAL_RANK: 0 - CUDA_VISIBLE_DEVICES: [0,1,2,3,4,5,6,7]\n"
     ]
    },
    {
     "data": {
      "application/vnd.jupyter.widget-view+json": {
       "model_id": "1465b112f36e49628d8f4c113a63af43",
       "version_major": 2,
       "version_minor": 0
      },
      "text/plain": [
       "Predicting: 0it [00:00, ?it/s]"
      ]
     },
     "metadata": {},
     "output_type": "display_data"
    },
    {
     "name": "stderr",
     "output_type": "stream",
     "text": [
      "Global seed set to 2\n",
      "Global seed set to 2\n",
      "GPU available: True, used: True\n",
      "TPU available: False, using: 0 TPU cores\n",
      "IPU available: False, using: 0 IPUs\n",
      "Global seed set to 0\n",
      "LOCAL_RANK: 0 - CUDA_VISIBLE_DEVICES: [0,1,2,3,4,5,6,7]\n"
     ]
    },
    {
     "name": "stdout",
     "output_type": "stream",
     "text": [
      "{'training': True, '_parameters': OrderedDict(), '_buffers': OrderedDict(), '_non_persistent_buffers_set': set(), '_backward_hooks': OrderedDict(), '_is_full_backward_hook': None, '_forward_hooks': OrderedDict(), '_forward_pre_hooks': OrderedDict(), '_state_dict_hooks': OrderedDict(), '_load_state_dict_pre_hooks': OrderedDict(), '_load_state_dict_post_hooks': OrderedDict(), '_modules': OrderedDict([('linear', Linear(in_features=6, out_features=102, bias=True))]), 'neuron_indices': tensor([1192, 1790,  799, 1387, 1198,  827])}\n"
     ]
    },
    {
     "data": {
      "application/vnd.jupyter.widget-view+json": {
       "model_id": "eb8a8daf5c684bd6b1ae683c75b6ee92",
       "version_major": 2,
       "version_minor": 0
      },
      "text/plain": [
       "Predicting: 0it [00:00, ?it/s]"
      ]
     },
     "metadata": {},
     "output_type": "display_data"
    },
    {
     "name": "stderr",
     "output_type": "stream",
     "text": [
      "Global seed set to 2\n",
      "Global seed set to 2\n",
      "GPU available: True, used: True\n",
      "TPU available: False, using: 0 TPU cores\n",
      "IPU available: False, using: 0 IPUs\n",
      "Global seed set to 0\n",
      "LOCAL_RANK: 0 - CUDA_VISIBLE_DEVICES: [0,1,2,3,4,5,6,7]\n"
     ]
    },
    {
     "name": "stdout",
     "output_type": "stream",
     "text": [
      "{'training': True, '_parameters': OrderedDict(), '_buffers': OrderedDict(), '_non_persistent_buffers_set': set(), '_backward_hooks': OrderedDict(), '_is_full_backward_hook': None, '_forward_hooks': OrderedDict(), '_forward_pre_hooks': OrderedDict(), '_state_dict_hooks': OrderedDict(), '_load_state_dict_pre_hooks': OrderedDict(), '_load_state_dict_post_hooks': OrderedDict(), '_modules': OrderedDict([('linear', Linear(in_features=8, out_features=102, bias=True))]), 'neuron_indices': tensor([1192, 1790,  799, 1387, 1198,  827, 1450,  283])}\n"
     ]
    },
    {
     "data": {
      "application/vnd.jupyter.widget-view+json": {
       "model_id": "9a4d059a50b14775bd02513fc127c977",
       "version_major": 2,
       "version_minor": 0
      },
      "text/plain": [
       "Predicting: 0it [00:00, ?it/s]"
      ]
     },
     "metadata": {},
     "output_type": "display_data"
    },
    {
     "name": "stderr",
     "output_type": "stream",
     "text": [
      "Global seed set to 2\n",
      "Global seed set to 2\n",
      "GPU available: True, used: True\n",
      "TPU available: False, using: 0 TPU cores\n",
      "IPU available: False, using: 0 IPUs\n",
      "Global seed set to 0\n",
      "LOCAL_RANK: 0 - CUDA_VISIBLE_DEVICES: [0,1,2,3,4,5,6,7]\n"
     ]
    },
    {
     "name": "stdout",
     "output_type": "stream",
     "text": [
      "{'training': True, '_parameters': OrderedDict(), '_buffers': OrderedDict(), '_non_persistent_buffers_set': set(), '_backward_hooks': OrderedDict(), '_is_full_backward_hook': None, '_forward_hooks': OrderedDict(), '_forward_pre_hooks': OrderedDict(), '_state_dict_hooks': OrderedDict(), '_load_state_dict_pre_hooks': OrderedDict(), '_load_state_dict_post_hooks': OrderedDict(), '_modules': OrderedDict([('linear', Linear(in_features=10, out_features=102, bias=True))]), 'neuron_indices': tensor([1192, 1790,  799, 1387, 1198,  827, 1450,  283,  688, 1500])}\n"
     ]
    },
    {
     "data": {
      "application/vnd.jupyter.widget-view+json": {
       "model_id": "20855949322e4e5abe1c4a60e9b5269a",
       "version_major": 2,
       "version_minor": 0
      },
      "text/plain": [
       "Predicting: 0it [00:00, ?it/s]"
      ]
     },
     "metadata": {},
     "output_type": "display_data"
    },
    {
     "name": "stderr",
     "output_type": "stream",
     "text": [
      "Global seed set to 2\n",
      "Global seed set to 2\n",
      "GPU available: True, used: True\n",
      "TPU available: False, using: 0 TPU cores\n",
      "IPU available: False, using: 0 IPUs\n",
      "Global seed set to 0\n"
     ]
    },
    {
     "name": "stdout",
     "output_type": "stream",
     "text": [
      "{'training': True, '_parameters': OrderedDict(), '_buffers': OrderedDict(), '_non_persistent_buffers_set': set(), '_backward_hooks': OrderedDict(), '_is_full_backward_hook': None, '_forward_hooks': OrderedDict(), '_forward_pre_hooks': OrderedDict(), '_state_dict_hooks': OrderedDict(), '_load_state_dict_pre_hooks': OrderedDict(), '_load_state_dict_post_hooks': OrderedDict(), '_modules': OrderedDict([('linear', Linear(in_features=20, out_features=102, bias=True))]), 'neuron_indices': tensor([1192, 1790,  799, 1387, 1198,  827, 1450,  283,  688, 1500, 1142,  147,\n",
      "        1723, 2003,  683, 1148, 1247,  580,  274,   62])}\n"
     ]
    },
    {
     "name": "stderr",
     "output_type": "stream",
     "text": [
      "LOCAL_RANK: 0 - CUDA_VISIBLE_DEVICES: [0,1,2,3,4,5,6,7]\n"
     ]
    },
    {
     "data": {
      "application/vnd.jupyter.widget-view+json": {
       "model_id": "bcb850c520f74a009b334b403f2f187b",
       "version_major": 2,
       "version_minor": 0
      },
      "text/plain": [
       "Predicting: 0it [00:00, ?it/s]"
      ]
     },
     "metadata": {},
     "output_type": "display_data"
    },
    {
     "name": "stderr",
     "output_type": "stream",
     "text": [
      "Global seed set to 2\n",
      "Global seed set to 2\n",
      "GPU available: True, used: True\n",
      "TPU available: False, using: 0 TPU cores\n",
      "IPU available: False, using: 0 IPUs\n",
      "Global seed set to 0\n",
      "LOCAL_RANK: 0 - CUDA_VISIBLE_DEVICES: [0,1,2,3,4,5,6,7]\n"
     ]
    },
    {
     "name": "stdout",
     "output_type": "stream",
     "text": [
      "{'training': True, '_parameters': OrderedDict(), '_buffers': OrderedDict(), '_non_persistent_buffers_set': set(), '_backward_hooks': OrderedDict(), '_is_full_backward_hook': None, '_forward_hooks': OrderedDict(), '_forward_pre_hooks': OrderedDict(), '_state_dict_hooks': OrderedDict(), '_load_state_dict_pre_hooks': OrderedDict(), '_load_state_dict_post_hooks': OrderedDict(), '_modules': OrderedDict([('linear', Linear(in_features=102, out_features=102, bias=True))]), 'neuron_indices': tensor([1192, 1790,  799, 1387, 1198,  827, 1450,  283,  688, 1500, 1142,  147,\n",
      "        1723, 2003,  683, 1148, 1247,  580,  274,   62,  696,  512,  729, 1384,\n",
      "         531,  918, 1446, 1979, 2027, 1746,  687, 1340,  490, 1009, 1282,  361,\n",
      "         347, 1296,  871, 1050, 1996,  864,  748, 1955, 1255, 1119, 1015, 1669,\n",
      "        1968,  447,    4, 1171, 1530,  746,  402, 1299, 2031, 1605,  723,   40,\n",
      "        1558, 1486,  740,  882, 1658,  127, 1685,  734,  184,  300, 1243, 1635,\n",
      "        1528,  320, 1875,  161,  765, 1236, 1576,  568,  650, 1386,  839,  573,\n",
      "         431, 1724,  652,  375, 1088, 1970, 1388, 1930, 1520,  985,  132,  810,\n",
      "        1750,   68,  852,  441, 1778,  849])}\n"
     ]
    },
    {
     "data": {
      "application/vnd.jupyter.widget-view+json": {
       "model_id": "0fa4c37aa4ea4161baae53b6381a2d67",
       "version_major": 2,
       "version_minor": 0
      },
      "text/plain": [
       "Predicting: 0it [00:00, ?it/s]"
      ]
     },
     "metadata": {},
     "output_type": "display_data"
    },
    {
     "name": "stderr",
     "output_type": "stream",
     "text": [
      "Global seed set to 2\n",
      "Global seed set to 2\n",
      "GPU available: True, used: True\n",
      "TPU available: False, using: 0 TPU cores\n",
      "IPU available: False, using: 0 IPUs\n",
      "Global seed set to 0\n",
      "LOCAL_RANK: 0 - CUDA_VISIBLE_DEVICES: [0,1,2,3,4,5,6,7]\n"
     ]
    },
    {
     "name": "stdout",
     "output_type": "stream",
     "text": [
      "{'training': True, '_parameters': OrderedDict(), '_buffers': OrderedDict(), '_non_persistent_buffers_set': set(), '_backward_hooks': OrderedDict(), '_is_full_backward_hook': None, '_forward_hooks': OrderedDict(), '_forward_pre_hooks': OrderedDict(), '_state_dict_hooks': OrderedDict(), '_load_state_dict_pre_hooks': OrderedDict(), '_load_state_dict_post_hooks': OrderedDict(), '_modules': OrderedDict([('linear', Linear(in_features=204, out_features=102, bias=True))]), 'neuron_indices': tensor([1192, 1790,  799, 1387, 1198,  827, 1450,  283,  688, 1500, 1142,  147,\n",
      "        1723, 2003,  683, 1148, 1247,  580,  274,   62,  696,  512,  729, 1384,\n",
      "         531,  918, 1446, 1979, 2027, 1746,  687, 1340,  490, 1009, 1282,  361,\n",
      "         347, 1296,  871, 1050, 1996,  864,  748, 1955, 1255, 1119, 1015, 1669,\n",
      "        1968,  447,    4, 1171, 1530,  746,  402, 1299, 2031, 1605,  723,   40,\n",
      "        1558, 1486,  740,  882, 1658,  127, 1685,  734,  184,  300, 1243, 1635,\n",
      "        1528,  320, 1875,  161,  765, 1236, 1576,  568,  650, 1386,  839,  573,\n",
      "         431, 1724,  652,  375, 1088, 1970, 1388, 1930, 1520,  985,  132,  810,\n",
      "        1750,   68,  852,  441, 1778,  849, 1308,  475, 1769,  105, 1150,  649,\n",
      "        1273,  675, 1053, 1813, 1045,  972,  372, 2034,   50,  552, 1898, 1081,\n",
      "        1332, 1438,  516, 1065,   26, 1628,   65,  484, 1808, 1802,  513, 1455,\n",
      "        1033, 1490,  967, 1559,  168, 1689,   53, 1258, 1383,  315, 1627, 1260,\n",
      "        1773,  100, 1049,  829, 1623,  702,  838,  217,  902, 1206,  209,  241,\n",
      "        1806,  920, 1719, 1572,   67, 1556, 1840,  239,  808,  858, 1217,  143,\n",
      "        1022, 1086, 1125,  676,  221, 1420, 1276,  666, 1279, 1957, 1066, 1028,\n",
      "         819,  414, 1436, 1038,  150,  297, 1381,  614,  506,  468, 1112, 1510,\n",
      "        1696,  626,  914, 1355, 1999,  556,  738, 2042, 1306,   88, 1109, 1393])}\n"
     ]
    },
    {
     "data": {
      "application/vnd.jupyter.widget-view+json": {
       "model_id": "0eb814f588c24009bcb54bb83a76615f",
       "version_major": 2,
       "version_minor": 0
      },
      "text/plain": [
       "Predicting: 0it [00:00, ?it/s]"
      ]
     },
     "metadata": {},
     "output_type": "display_data"
    },
    {
     "name": "stderr",
     "output_type": "stream",
     "text": [
      "Global seed set to 2\n",
      "Global seed set to 2\n",
      "GPU available: True, used: True\n",
      "TPU available: False, using: 0 TPU cores\n",
      "IPU available: False, using: 0 IPUs\n",
      "Global seed set to 0\n",
      "LOCAL_RANK: 0 - CUDA_VISIBLE_DEVICES: [0,1,2,3,4,5,6,7]\n"
     ]
    },
    {
     "name": "stdout",
     "output_type": "stream",
     "text": [
      "{'training': True, '_parameters': OrderedDict(), '_buffers': OrderedDict(), '_non_persistent_buffers_set': set(), '_backward_hooks': OrderedDict(), '_is_full_backward_hook': None, '_forward_hooks': OrderedDict(), '_forward_pre_hooks': OrderedDict(), '_state_dict_hooks': OrderedDict(), '_load_state_dict_pre_hooks': OrderedDict(), '_load_state_dict_post_hooks': OrderedDict(), '_modules': OrderedDict([('linear', Linear(in_features=409, out_features=102, bias=True))]), 'neuron_indices': tensor([1192, 1790,  799, 1387, 1198,  827, 1450,  283,  688, 1500, 1142,  147,\n",
      "        1723, 2003,  683, 1148, 1247,  580,  274,   62,  696,  512,  729, 1384,\n",
      "         531,  918, 1446, 1979, 2027, 1746,  687, 1340,  490, 1009, 1282,  361,\n",
      "         347, 1296,  871, 1050, 1996,  864,  748, 1955, 1255, 1119, 1015, 1669,\n",
      "        1968,  447,    4, 1171, 1530,  746,  402, 1299, 2031, 1605,  723,   40,\n",
      "        1558, 1486,  740,  882, 1658,  127, 1685,  734,  184,  300, 1243, 1635,\n",
      "        1528,  320, 1875,  161,  765, 1236, 1576,  568,  650, 1386,  839,  573,\n",
      "         431, 1724,  652,  375, 1088, 1970, 1388, 1930, 1520,  985,  132,  810,\n",
      "        1750,   68,  852,  441, 1778,  849, 1308,  475, 1769,  105, 1150,  649,\n",
      "        1273,  675, 1053, 1813, 1045,  972,  372, 2034,   50,  552, 1898, 1081,\n",
      "        1332, 1438,  516, 1065,   26, 1628,   65,  484, 1808, 1802,  513, 1455,\n",
      "        1033, 1490,  967, 1559,  168, 1689,   53, 1258, 1383,  315, 1627, 1260,\n",
      "        1773,  100, 1049,  829, 1623,  702,  838,  217,  902, 1206,  209,  241,\n",
      "        1806,  920, 1719, 1572,   67, 1556, 1840,  239,  808,  858, 1217,  143,\n",
      "        1022, 1086, 1125,  676,  221, 1420, 1276,  666, 1279, 1957, 1066, 1028,\n",
      "         819,  414, 1436, 1038,  150,  297, 1381,  614,  506,  468, 1112, 1510,\n",
      "        1696,  626,  914, 1355, 1999,  556,  738, 2042, 1306,   88, 1109, 1393,\n",
      "         377,  231, 1275,  928, 1480,  495,  432, 1555, 1391,  190,  108,  301,\n",
      "         186, 1929,  769, 1664,  912, 1849,   89,  410, 1722,  527, 1269, 1235,\n",
      "        1527,  788, 2030, 1475,   23,  392, 1026, 1760,   56, 1143,    3, 1318,\n",
      "         437,  255, 1989, 1994, 1634, 1601, 1096, 1264, 1443,   84,  712,  741,\n",
      "         292, 1518,  695, 1147, 1672, 1508, 1430, 1149,  421, 1809,  419, 1136,\n",
      "        1899,  440,  182,  648,  713,  572, 1942,  851, 1517, 1993,  504, 1756,\n",
      "         797, 1395,  461, 1421, 1477, 1702, 1600,  715,  994,  303, 1683,  529,\n",
      "          93,  661, 1128, 1004,  325, 1222, 1992,  586, 1654,  753,  367,  621,\n",
      "        1457, 1681, 1593,   66, 2033,  934, 1953,  170,  501, 1285, 1842, 2005,\n",
      "        1224, 1489,  189,  266, 1229, 1923,  397,  395,  469, 1239,  763,  646,\n",
      "        1336, 1739, 1673, 1154,  667,  456, 1630, 1880,    6, 1197, 1410,  357,\n",
      "         415,  754, 1797,  725, 2023, 1858,  459, 1557, 1459, 1666, 1550, 1687,\n",
      "         460, 1749, 1213,  103,  988,  160, 1737, 1765,  270,  355,   32,  615,\n",
      "        1069,  130,  438, 1949,  272, 1868,  632, 1077, 1701,  208, 1886, 1263,\n",
      "        1505,  916,  540, 1208, 1755, 1415, 1958, 1977,   58, 1319, 1745, 2035,\n",
      "        1680, 1416, 1779,  655, 1006,  445, 1304, 1303,  727,  997, 1763,  342,\n",
      "        1835,  917,  693,  755,  443,   63, 1478, 1048,   81, 1380,  959,  408,\n",
      "         278])}\n"
     ]
    },
    {
     "data": {
      "application/vnd.jupyter.widget-view+json": {
       "model_id": "f0bae2e150654e65978acfab15b8963a",
       "version_major": 2,
       "version_minor": 0
      },
      "text/plain": [
       "Predicting: 0it [00:00, ?it/s]"
      ]
     },
     "metadata": {},
     "output_type": "display_data"
    },
    {
     "name": "stderr",
     "output_type": "stream",
     "text": [
      "Global seed set to 2\n",
      "Global seed set to 2\n",
      "GPU available: True, used: True\n",
      "TPU available: False, using: 0 TPU cores\n",
      "IPU available: False, using: 0 IPUs\n",
      "Global seed set to 0\n"
     ]
    },
    {
     "name": "stdout",
     "output_type": "stream",
     "text": [
      "{'training': True, '_parameters': OrderedDict(), '_buffers': OrderedDict(), '_non_persistent_buffers_set': set(), '_backward_hooks': OrderedDict(), '_is_full_backward_hook': None, '_forward_hooks': OrderedDict(), '_forward_pre_hooks': OrderedDict(), '_state_dict_hooks': OrderedDict(), '_load_state_dict_pre_hooks': OrderedDict(), '_load_state_dict_post_hooks': OrderedDict(), '_modules': OrderedDict([('linear', Linear(in_features=614, out_features=102, bias=True))]), 'neuron_indices': tensor([1192, 1790,  799, 1387, 1198,  827, 1450,  283,  688, 1500, 1142,  147,\n",
      "        1723, 2003,  683, 1148, 1247,  580,  274,   62,  696,  512,  729, 1384,\n",
      "         531,  918, 1446, 1979, 2027, 1746,  687, 1340,  490, 1009, 1282,  361,\n",
      "         347, 1296,  871, 1050, 1996,  864,  748, 1955, 1255, 1119, 1015, 1669,\n",
      "        1968,  447,    4, 1171, 1530,  746,  402, 1299, 2031, 1605,  723,   40,\n",
      "        1558, 1486,  740,  882, 1658,  127, 1685,  734,  184,  300, 1243, 1635,\n",
      "        1528,  320, 1875,  161,  765, 1236, 1576,  568,  650, 1386,  839,  573,\n",
      "         431, 1724,  652,  375, 1088, 1970, 1388, 1930, 1520,  985,  132,  810,\n",
      "        1750,   68,  852,  441, 1778,  849, 1308,  475, 1769,  105, 1150,  649,\n",
      "        1273,  675, 1053, 1813, 1045,  972,  372, 2034,   50,  552, 1898, 1081,\n",
      "        1332, 1438,  516, 1065,   26, 1628,   65,  484, 1808, 1802,  513, 1455,\n",
      "        1033, 1490,  967, 1559,  168, 1689,   53, 1258, 1383,  315, 1627, 1260,\n",
      "        1773,  100, 1049,  829, 1623,  702,  838,  217,  902, 1206,  209,  241,\n",
      "        1806,  920, 1719, 1572,   67, 1556, 1840,  239,  808,  858, 1217,  143,\n",
      "        1022, 1086, 1125,  676,  221, 1420, 1276,  666, 1279, 1957, 1066, 1028,\n",
      "         819,  414, 1436, 1038,  150,  297, 1381,  614,  506,  468, 1112, 1510,\n",
      "        1696,  626,  914, 1355, 1999,  556,  738, 2042, 1306,   88, 1109, 1393,\n",
      "         377,  231, 1275,  928, 1480,  495,  432, 1555, 1391,  190,  108,  301,\n",
      "         186, 1929,  769, 1664,  912, 1849,   89,  410, 1722,  527, 1269, 1235,\n",
      "        1527,  788, 2030, 1475,   23,  392, 1026, 1760,   56, 1143,    3, 1318,\n",
      "         437,  255, 1989, 1994, 1634, 1601, 1096, 1264, 1443,   84,  712,  741,\n",
      "         292, 1518,  695, 1147, 1672, 1508, 1430, 1149,  421, 1809,  419, 1136,\n",
      "        1899,  440,  182,  648,  713,  572, 1942,  851, 1517, 1993,  504, 1756,\n",
      "         797, 1395,  461, 1421, 1477, 1702, 1600,  715,  994,  303, 1683,  529,\n",
      "          93,  661, 1128, 1004,  325, 1222, 1992,  586, 1654,  753,  367,  621,\n",
      "        1457, 1681, 1593,   66, 2033,  934, 1953,  170,  501, 1285, 1842, 2005,\n",
      "        1224, 1489,  189,  266, 1229, 1923,  397,  395,  469, 1239,  763,  646,\n",
      "        1336, 1739, 1673, 1154,  667,  456, 1630, 1880,    6, 1197, 1410,  357,\n",
      "         415,  754, 1797,  725, 2023, 1858,  459, 1557, 1459, 1666, 1550, 1687,\n",
      "         460, 1749, 1213,  103,  988,  160, 1737, 1765,  270,  355,   32,  615,\n",
      "        1069,  130,  438, 1949,  272, 1868,  632, 1077, 1701,  208, 1886, 1263,\n",
      "        1505,  916,  540, 1208, 1755, 1415, 1958, 1977,   58, 1319, 1745, 2035,\n",
      "        1680, 1416, 1779,  655, 1006,  445, 1304, 1303,  727,  997, 1763,  342,\n",
      "        1835,  917,  693,  755,  443,   63, 1478, 1048,   81, 1380,  959,  408,\n",
      "         278, 1064,  930, 1503,  870,  508,  486, 1735, 1804,  630, 2025,  118,\n",
      "          49,  809, 1295,  203,   97,  751,  975, 1974, 1743, 1382, 1976, 1611,\n",
      "        1823, 1008, 1833, 1246, 2004, 1912,  120,  939,  947, 1767,  291, 1123,\n",
      "         327,  801,  500, 1379, 1451,  116,  606, 1568, 1877, 1652,  996, 1464,\n",
      "        1650, 1578, 1780,  890, 1377,  745, 1163, 1831, 1094, 1602,  970, 1562,\n",
      "        1921,  247,  151, 1878, 1655, 1881,  913, 1736, 1333,  833,  409, 1626,\n",
      "         198, 1040, 1845,  989, 1097, 1631,  404, 1257, 1017, 1085,  453, 1444,\n",
      "        1215, 1374,  218,  848, 1414, 1105,  956,  562,  121, 1869, 1595, 1524,\n",
      "        1792, 1933,  142,  640,  253, 1368, 1406, 1180, 1199,  877, 1846, 1815,\n",
      "         978, 1642,   73,  413, 1690,  860,  115, 1961,  935,  665,  613,  228,\n",
      "         732,  868,  177,   25,   39,  384, 1668,  164, 1874,  798,  553,  385,\n",
      "        1496,  354, 1980,  477,  359,  791,  690, 1409, 1651,  663,  817,  374,\n",
      "        1132, 1919, 1159,  155, 1911,  366,  825,  179, 1775, 1551,  451,  804,\n",
      "        1991, 1777, 1629, 1272,  884,  276,  596,  855,  249, 1114,  333,  505,\n",
      "         979, 1289, 1104, 1816, 1256, 1126, 1909, 1649,  337, 1982, 1612,  778,\n",
      "         883, 1058, 1174,  612, 1361, 1561,  521,  236,  216,  828, 1543, 1337,\n",
      "         262,  267, 1218, 1106,  588,  756,  865,  379,  196, 1103, 1392, 1166,\n",
      "         207, 1971])}\n"
     ]
    },
    {
     "name": "stderr",
     "output_type": "stream",
     "text": [
      "LOCAL_RANK: 0 - CUDA_VISIBLE_DEVICES: [0,1,2,3,4,5,6,7]\n"
     ]
    },
    {
     "data": {
      "application/vnd.jupyter.widget-view+json": {
       "model_id": "4d42726d3ea4492f8f8c08b4f6a15016",
       "version_major": 2,
       "version_minor": 0
      },
      "text/plain": [
       "Predicting: 0it [00:00, ?it/s]"
      ]
     },
     "metadata": {},
     "output_type": "display_data"
    },
    {
     "name": "stderr",
     "output_type": "stream",
     "text": [
      "Global seed set to 2\n",
      "Global seed set to 2\n",
      "GPU available: True, used: True\n",
      "TPU available: False, using: 0 TPU cores\n",
      "IPU available: False, using: 0 IPUs\n",
      "Global seed set to 0\n",
      "LOCAL_RANK: 0 - CUDA_VISIBLE_DEVICES: [0,1,2,3,4,5,6,7]\n"
     ]
    },
    {
     "name": "stdout",
     "output_type": "stream",
     "text": [
      "{'training': True, '_parameters': OrderedDict(), '_buffers': OrderedDict(), '_non_persistent_buffers_set': set(), '_backward_hooks': OrderedDict(), '_is_full_backward_hook': None, '_forward_hooks': OrderedDict(), '_forward_pre_hooks': OrderedDict(), '_state_dict_hooks': OrderedDict(), '_load_state_dict_pre_hooks': OrderedDict(), '_load_state_dict_post_hooks': OrderedDict(), '_modules': OrderedDict([('linear', Linear(in_features=1024, out_features=102, bias=True))]), 'neuron_indices': tensor([1192, 1790,  799,  ...,  991,  983,  856])}\n"
     ]
    },
    {
     "data": {
      "application/vnd.jupyter.widget-view+json": {
       "model_id": "28f1415209644de28210960c49977a54",
       "version_major": 2,
       "version_minor": 0
      },
      "text/plain": [
       "Predicting: 0it [00:00, ?it/s]"
      ]
     },
     "metadata": {},
     "output_type": "display_data"
    },
    {
     "name": "stderr",
     "output_type": "stream",
     "text": [
      "Global seed set to 2\n",
      "Global seed set to 2\n",
      "GPU available: True, used: True\n",
      "TPU available: False, using: 0 TPU cores\n",
      "IPU available: False, using: 0 IPUs\n",
      "Global seed set to 0\n",
      "LOCAL_RANK: 0 - CUDA_VISIBLE_DEVICES: [0,1,2,3,4,5,6,7]\n"
     ]
    },
    {
     "name": "stdout",
     "output_type": "stream",
     "text": [
      "{'training': True, '_parameters': OrderedDict(), '_buffers': OrderedDict(), '_non_persistent_buffers_set': set(), '_backward_hooks': OrderedDict(), '_is_full_backward_hook': None, '_forward_hooks': OrderedDict(), '_forward_pre_hooks': OrderedDict(), '_state_dict_hooks': OrderedDict(), '_load_state_dict_pre_hooks': OrderedDict(), '_load_state_dict_post_hooks': OrderedDict(), '_modules': OrderedDict([('linear', Linear(in_features=1638, out_features=102, bias=True))]), 'neuron_indices': tensor([1192, 1790,  799,  ...,  662, 1879,  760])}\n"
     ]
    },
    {
     "data": {
      "application/vnd.jupyter.widget-view+json": {
       "model_id": "2bea28823ccd407181a02e7555626314",
       "version_major": 2,
       "version_minor": 0
      },
      "text/plain": [
       "Predicting: 0it [00:00, ?it/s]"
      ]
     },
     "metadata": {},
     "output_type": "display_data"
    },
    {
     "name": "stderr",
     "output_type": "stream",
     "text": [
      "Global seed set to 2\n",
      "Global seed set to 2\n",
      "GPU available: True, used: True\n",
      "TPU available: False, using: 0 TPU cores\n",
      "IPU available: False, using: 0 IPUs\n",
      "Global seed set to 0\n",
      "LOCAL_RANK: 0 - CUDA_VISIBLE_DEVICES: [0,1,2,3,4,5,6,7]\n"
     ]
    },
    {
     "name": "stdout",
     "output_type": "stream",
     "text": [
      "{'training': True, '_parameters': OrderedDict(), '_buffers': OrderedDict(), '_non_persistent_buffers_set': set(), '_backward_hooks': OrderedDict(), '_is_full_backward_hook': None, '_forward_hooks': OrderedDict(), '_forward_pre_hooks': OrderedDict(), '_state_dict_hooks': OrderedDict(), '_load_state_dict_pre_hooks': OrderedDict(), '_load_state_dict_post_hooks': OrderedDict(), '_modules': OrderedDict([('linear', Linear(in_features=1843, out_features=102, bias=True))]), 'neuron_indices': tensor([1192, 1790,  799,  ..., 1646,  183,  570])}\n"
     ]
    },
    {
     "data": {
      "application/vnd.jupyter.widget-view+json": {
       "model_id": "d874dcfec5f34af2abc17f653fe02727",
       "version_major": 2,
       "version_minor": 0
      },
      "text/plain": [
       "Predicting: 0it [00:00, ?it/s]"
      ]
     },
     "metadata": {},
     "output_type": "display_data"
    },
    {
     "name": "stderr",
     "output_type": "stream",
     "text": [
      "Global seed set to 2\n",
      "Global seed set to 2\n",
      "GPU available: True, used: True\n",
      "TPU available: False, using: 0 TPU cores\n",
      "IPU available: False, using: 0 IPUs\n",
      "Global seed set to 0\n",
      "LOCAL_RANK: 0 - CUDA_VISIBLE_DEVICES: [0,1,2,3,4,5,6,7]\n"
     ]
    },
    {
     "name": "stdout",
     "output_type": "stream",
     "text": [
      "{'training': True, '_parameters': OrderedDict(), '_buffers': OrderedDict(), '_non_persistent_buffers_set': set(), '_backward_hooks': OrderedDict(), '_is_full_backward_hook': None, '_forward_hooks': OrderedDict(), '_forward_pre_hooks': OrderedDict(), '_state_dict_hooks': OrderedDict(), '_load_state_dict_pre_hooks': OrderedDict(), '_load_state_dict_post_hooks': OrderedDict(), '_modules': OrderedDict([('linear', Linear(in_features=2048, out_features=102, bias=True))]), 'neuron_indices': tensor([1192, 1790,  799,  ...,  637, 1922, 1063])}\n"
     ]
    },
    {
     "data": {
      "application/vnd.jupyter.widget-view+json": {
       "model_id": "f9f159dbe85b48c69530bd9b46606c36",
       "version_major": 2,
       "version_minor": 0
      },
      "text/plain": [
       "Predicting: 0it [00:00, ?it/s]"
      ]
     },
     "metadata": {},
     "output_type": "display_data"
    },
    {
     "name": "stderr",
     "output_type": "stream",
     "text": [
      "Global seed set to 2\n",
      "Global seed set to 3\n",
      "GPU available: True, used: True\n",
      "TPU available: False, using: 0 TPU cores\n",
      "IPU available: False, using: 0 IPUs\n",
      "Global seed set to 0\n",
      "LOCAL_RANK: 0 - CUDA_VISIBLE_DEVICES: [0,1,2,3,4,5,6,7]\n"
     ]
    },
    {
     "name": "stdout",
     "output_type": "stream",
     "text": [
      "{'training': True, '_parameters': OrderedDict(), '_buffers': OrderedDict(), '_non_persistent_buffers_set': set(), '_backward_hooks': OrderedDict(), '_is_full_backward_hook': None, '_forward_hooks': OrderedDict(), '_forward_pre_hooks': OrderedDict(), '_state_dict_hooks': OrderedDict(), '_load_state_dict_pre_hooks': OrderedDict(), '_load_state_dict_post_hooks': OrderedDict(), '_modules': OrderedDict([('linear', Linear(in_features=1, out_features=102, bias=True))]), 'neuron_indices': tensor([1898])}\n"
     ]
    },
    {
     "data": {
      "application/vnd.jupyter.widget-view+json": {
       "model_id": "4ac105b25c444181bc633f0c0f5d312f",
       "version_major": 2,
       "version_minor": 0
      },
      "text/plain": [
       "Predicting: 0it [00:00, ?it/s]"
      ]
     },
     "metadata": {},
     "output_type": "display_data"
    },
    {
     "name": "stderr",
     "output_type": "stream",
     "text": [
      "Global seed set to 2\n",
      "Global seed set to 3\n",
      "GPU available: True, used: True\n",
      "TPU available: False, using: 0 TPU cores\n",
      "IPU available: False, using: 0 IPUs\n",
      "Global seed set to 0\n",
      "LOCAL_RANK: 0 - CUDA_VISIBLE_DEVICES: [0,1,2,3,4,5,6,7]\n"
     ]
    },
    {
     "name": "stdout",
     "output_type": "stream",
     "text": [
      "{'training': True, '_parameters': OrderedDict(), '_buffers': OrderedDict(), '_non_persistent_buffers_set': set(), '_backward_hooks': OrderedDict(), '_is_full_backward_hook': None, '_forward_hooks': OrderedDict(), '_forward_pre_hooks': OrderedDict(), '_state_dict_hooks': OrderedDict(), '_load_state_dict_pre_hooks': OrderedDict(), '_load_state_dict_post_hooks': OrderedDict(), '_modules': OrderedDict([('linear', Linear(in_features=2, out_features=102, bias=True))]), 'neuron_indices': tensor([1898,  578])}\n"
     ]
    },
    {
     "data": {
      "application/vnd.jupyter.widget-view+json": {
       "model_id": "0d22484395f945c9b3953f40872cb3b0",
       "version_major": 2,
       "version_minor": 0
      },
      "text/plain": [
       "Predicting: 0it [00:00, ?it/s]"
      ]
     },
     "metadata": {},
     "output_type": "display_data"
    }
   ],
   "source": [
    "plt_str = '== Finetuning results ==\\n\\n'\n",
    "for append in APPENDS:\n",
    "    plt_str += f'=== {append} ===\\n\\n'\n",
    "    for ft_ds in FINETUNING_DATASETS:\n",
    "        plt_str += f'==== {ft_ds} ====\\n\\n'\n",
    "        frac_wise_val_accs, frac_wise_test_accs = {}, {}\n",
    "        for seed in PARTIAL_CHOICE_SEEDS:\n",
    "            for frac in PARTIAL_FRACTIONS:\n",
    "                model_path = glob.glob(f'{BASE_DIR}/{MODEL}-base-{SOURCE_DATASET}-ft-{ft_ds}/'\n",
    "                                       f'frac-{frac:.5f}-mode-{FINETUNE_MODE}-seed-{seed}-lr-*-bs*/'\n",
    "                                       f'{append}/'\n",
    "                                       '*-topk=1.ckpt')\n",
    "                if len(model_path) == 0:\n",
    "                    continue\n",
    "                model_path = model_path[0]\n",
    "                \n",
    "                sd = torch.load(model_path)\n",
    "                \n",
    "                if frac in frac_wise_val_accs:\n",
    "                    frac_wise_val_accs[frac].append(list(sd['callbacks'].values())[0]['best_model_score'].item())\n",
    "                    frac_wise_test_accs[frac].append(\n",
    "                        get_test_acc(ft_ds, CHECKPOINT_PATHS[append], sd, seed, frac))\n",
    "                else:\n",
    "                    frac_wise_val_accs[frac] = [list(sd['callbacks'].values())[0]['best_model_score'].item()]\n",
    "                    frac_wise_test_accs[frac] = [\n",
    "                        get_test_acc(ft_ds, CHECKPOINT_PATHS[append], sd, seed, frac)]\n",
    "\n",
    "        full_acc_val, full_acc_test = frac_wise_val_accs.pop(1.), frac_wise_test_accs.pop(1.)\n",
    "        x_vals, y_vals = list(zip(*sorted(frac_wise_val_accs.items(), key=lambda t: t[0])))\n",
    "        _, y_tests = list(zip(*sorted(frac_wise_test_accs.items(), key=lambda t: t[0])))\n",
    "        plt_str += '{}\\n\\n'.format(plt_hp.get_wiki_link(plt_hp.line_plot(\n",
    "            [[np.mean(_y) for _y in y_vals], [np.mean(_y) for _y in y_tests]], \n",
    "            'Fraction of neurons', 'Transfer Accuracy', ft_ds, \n",
    "            subfolder=SOURCE_DATASET, filename=f'{MODEL}_{ft_ds}_bs_{FINETUNE_BS}_{append}', \n",
    "            extension='png', x_vals=x_vals, \n",
    "            legend_vals=['Val', 'Test', 'Full Layer (Val)', 'Full Layer (Test)'], \n",
    "            vertical_line=None, horizontal_lines=[np.mean(full_acc_val), np.mean(full_acc_test)], \n",
    "            horizontal_lines_err=[np.std(full_acc_val), np.std(full_acc_test)], \n",
    "            colors=[plt_hp.COLORS[0], plt_hp.COLORS[1], plt_hp.COLORS[0], plt_hp.COLORS[1]], \n",
    "            linestyles=['-', '-', ':', ':'], y_lims=(0.,1.), root_dir='.', \n",
    "            paper_friendly_plots=False, plot_inside=False, legend_location='best', \n",
    "            savefig=True, figsize=(10,6), marker=[True, True, False, False], \n",
    "            results_subfolder_name='transfer_analysis', grid_spacing=None, \n",
    "            y_err=[[np.std(_y) for _y in y_vals], [np.std(_y) for _y in y_tests]], \n",
    "            legend_ncol=None), SERVER_PROJECT_PATH, size=700))\n",
    "\n",
    "        print (ft_ds, frac_wise_val_accs)"
   ]
  },
  {
   "cell_type": "code",
   "execution_count": null,
   "id": "fdaa1bc7",
   "metadata": {},
   "outputs": [],
   "source": [
    "with open(f'./results/transfer_analysis/{SOURCE_DATASET}/wiki_results.txt', 'w') as fp:\n",
    "    fp.write(plt_str)"
   ]
  },
  {
   "cell_type": "code",
   "execution_count": null,
   "id": "668c0cd8",
   "metadata": {},
   "outputs": [],
   "source": [
    "out.upload_results(['{}/{}/{}'.format(plt_hp.RESULTS_FOLDER_NAME, 'transfer_analysis', SOURCE_DATASET)], \n",
    "        'results', SERVER_PROJECT_PATH, '.png')"
   ]
  },
  {
   "cell_type": "code",
   "execution_count": null,
   "id": "4900fa93",
   "metadata": {},
   "outputs": [],
   "source": []
  }
 ],
 "metadata": {
  "kernelspec": {
   "display_name": "Python 3 (ipykernel)",
   "language": "python",
   "name": "python3"
  },
  "language_info": {
   "codemirror_mode": {
    "name": "ipython",
    "version": 3
   },
   "file_extension": ".py",
   "mimetype": "text/x-python",
   "name": "python",
   "nbconvert_exporter": "python",
   "pygments_lexer": "ipython3",
   "version": "3.7.9"
  }
 },
 "nbformat": 4,
 "nbformat_minor": 5
}
