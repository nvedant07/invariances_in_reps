{
 "cells": [
  {
   "cell_type": "code",
   "execution_count": 1,
   "id": "6df5c715",
   "metadata": {},
   "outputs": [
    {
     "name": "stderr",
     "output_type": "stream",
     "text": [
      "/NS/twitter_archive2/work/vnanda/minconda3/envs/dl_base/lib/python3.7/site-packages/paramiko/transport.py:236: CryptographyDeprecationWarning: Blowfish has been deprecated\n",
      "  \"class\": algorithms.Blowfish,\n"
     ]
    }
   ],
   "source": [
    "from pytorch_lightning import utilities as pl_utils\n",
    "from pytorch_lightning.trainer.trainer import Trainer\n",
    "from pytorch_lightning.plugins import DDPPlugin\n",
    "import torch\n",
    "import torch.nn as nn\n",
    "import pathlib\n",
    "from functools import partial\n",
    "import sys, glob, os, copy\n",
    "import numpy as np\n",
    "from typing import List, OrderedDict, Union\n",
    "\n",
    "sys.path.append('..')\n",
    "sys.path.append('../deep-learning-base')\n",
    "sys.path.append('../deep-learning-base/training')\n",
    "sys.path.append('../deep-learning-base/architectures')\n",
    "sys.path.append('../deep-learning-base/datasets')\n",
    "sys.path.append('../partially_inverted_reps')\n",
    "\n",
    "from timm.models.fx_features import GraphExtractNet\n",
    "import plot_helper as plt_hp\n",
    "import output as out\n",
    "from training import LitProgressBar, NicerModelCheckpointing\n",
    "import training.finetuning as ft\n",
    "import architectures as arch\n",
    "from architectures.utils import intermediate_layer_names\n",
    "from architectures.callbacks import LightningWrapper, LinearEvalWrapper\n",
    "from attack.callbacks import AdvCallback\n",
    "from data_modules import DATA_MODULES\n",
    "import dataset_metadata as dsmd\n",
    "from partial_loss import PartialInversionLoss, PartialInversionRegularizedLoss\n",
    "from __init__ import DATA_PATH_IMAGENET, DATA_PATH, SERVER_PROJECT_PATH, DATA_PATH_FLOWERS_PETS"
   ]
  },
  {
   "cell_type": "code",
   "execution_count": 2,
   "id": "5495b002",
   "metadata": {},
   "outputs": [],
   "source": [
    "CHECKPOINT_PATHS = {\n",
    "    'resnet50': {\n",
    "        'nonrob': '',\n",
    "        'robl2eps3': '/NS/robustness_3/work/vnanda/adv-robustness/logs/'\\\n",
    "                        'robust_imagenet/eps3/resnet-50-l2-eps3.ckpt'\n",
    "    }\n",
    "}"
   ]
  },
  {
   "cell_type": "code",
   "execution_count": 3,
   "id": "11882de5",
   "metadata": {},
   "outputs": [],
   "source": [
    "SEED = 2\n",
    "NUM_NODES = 1\n",
    "DEVICES = 1\n",
    "BASE_DIR = f\"{pathlib.Path('.').parent.resolve()}/checkpoints\"\n",
    "\n",
    "FINETUNING_DATASETS = ['cifar10', 'cifar100', 'flowers', 'oxford-iiit-pets']\n",
    "FINETUNE_BS = 256\n",
    "EVAL_BATCH_SIZE = 100"
   ]
  },
  {
   "cell_type": "code",
   "execution_count": 13,
   "id": "47a7f7a7",
   "metadata": {},
   "outputs": [],
   "source": [
    "def save_predictions(model_path, out):\n",
    "    preds_path = f'{model_path.split(\".ckpt\")[0]}.pred'\n",
    "    torch.save({'pred': out[0].detach().cpu(), 'gt': out[1].detach().cpu()}, preds_path)\n",
    "\n",
    "def load_predictions(model_path):\n",
    "    preds_path = f'{model_path.split(\".ckpt\")[0]}.pred'\n",
    "    if os.path.exists(preds_path):\n",
    "        return torch.load(preds_path)\n",
    "\n",
    "def accuracy(gt, pred):\n",
    "    pred = torch.argmax(pred, 1)\n",
    "    return torch.sum(gt == pred) / len(gt)\n",
    "\n",
    "\n",
    "def get_layerwise_test_acc(model, source_dataset, finetuning_dataset, \n",
    "                           checkpoint_path, base_model_path, append):\n",
    "    \"\"\"\n",
    "    checkpoint_path: base model to load when creating model\n",
    "    base_model_path: directory with linear probe weights of diff layers\n",
    "    \"\"\"\n",
    "    dm = DATA_MODULES[finetuning_dataset](\n",
    "        data_dir=DATA_PATH_IMAGENET if 'imagenet' in finetuning_dataset else \\\n",
    "            DATA_PATH_FLOWERS_PETS if finetuning_dataset in ['flowers','oxford-iiit-pets'] else DATA_PATH,\n",
    "        transform_train=dsmd.TRAIN_TRANSFORMS_TRANSFER_DEFAULT(224),\n",
    "        transform_test=dsmd.TEST_TRANSFORMS_DEFAULT(224),\n",
    "        batch_size=EVAL_BATCH_SIZE)\n",
    "    dm.init_remaining_attrs(source_dataset)\n",
    "\n",
    "    ## assign mean and std from source dataset\n",
    "    m1 = arch.create_model(model, source_dataset, pretrained=True,\n",
    "                           checkpoint_path=checkpoint_path, seed=SEED, \n",
    "                           num_classes=dsmd.DATASET_PARAMS[source_dataset]['num_classes'],\n",
    "                           callback=partial(LightningWrapper, \n",
    "                                            dataset_name=source_dataset),\n",
    "                           loading_function_kwargs={'strict': False})\n",
    "    original_model = copy.deepcopy(m1.model)\n",
    "    layer_names = intermediate_layer_names(m1.model)\n",
    "    print (layer_names)\n",
    "    layer_to_acc = {}\n",
    "    for layer_name in layer_names[:-1:5]:\n",
    "        FRACTIONS = glob.glob(f'{base_model_path}/'\n",
    "                              f'frac-*-mode-random-seed-*-ftmode-linear-lr-0.1-bs-256-{append}/'\n",
    "                              f'*-{layer_name}-topk=1.ckpt')\n",
    "        FRACTIONS = sorted(list(set(\n",
    "            [float(x.split('/frac-')[1].split('-')[0]) for x in FRACTIONS \\\n",
    "             if len(x.split('/frac-')[1].split('-')[0]) == 7]\n",
    "        )))\n",
    "        if len(FRACTIONS) == 0:    continue\n",
    "\n",
    "        frac_to_accs = {}\n",
    "        for fraction in FRACTIONS:\n",
    "            model_paths = glob.glob(f'{base_model_path}/'\n",
    "                                   f'frac-{fraction:.5f}-mode-random-seed-*-ftmode-linear-lr-0.1-bs-256-{append}/'\n",
    "                                   f'*-{layer_name}-topk=1.ckpt')\n",
    "            print (f'layer_name: {layer_name}, {len(model_paths)}')\n",
    "            for model_path in model_paths[:2]:\n",
    "                cached_preds = load_predictions(model_path)\n",
    "                if cached_preds is not None:\n",
    "                    print (f'Loaded cached for {model_path}')\n",
    "                    acc = accuracy(cached_preds['gt'], cached_preds['pred']).item()\n",
    "                else:\n",
    "                    seed = int(model_path.split('seed-')[1].split('-')[0])\n",
    "                    state_dict = torch.load(model_path)\n",
    "                    chopped_model = GraphExtractNet(copy.deepcopy(original_model), [layer_name])\n",
    "                    m1.model = nn.Sequential(\n",
    "                        OrderedDict([\n",
    "                            ('feature_extractor', chopped_model), \n",
    "                            ('flatten', nn.Flatten(1))\n",
    "                            ]))\n",
    "                    new_layer = ft.setup_model_for_finetuning(\n",
    "                        m1.model,\n",
    "                        dsmd.DATASET_PARAMS[finetuning_dataset]['num_classes'],\n",
    "                        'random', fraction, seed, \n",
    "                        inplace=True, infer_features=True)\n",
    "                    new_layer.load_state_dict(\n",
    "                        {'.'.join(k.split('.')[-2:]):v for k, v in state_dict['state_dict'].items()}, \n",
    "                                              strict=True)\n",
    "                    if hasattr(new_layer, 'neuron_indices') and 'neuron_indices' in state_dict:\n",
    "                        assert torch.all(new_layer.neuron_indices == state_dict['neuron_indices'])\n",
    "                    pl_utils.seed.seed_everything(seed, workers=True)\n",
    "                    trainer = Trainer(accelerator='gpu', \n",
    "                                      devices=DEVICES,\n",
    "                                      num_nodes=NUM_NODES,\n",
    "                                      log_every_n_steps=1,\n",
    "                                      auto_select_gpus=True, \n",
    "                                      deterministic=True,\n",
    "                                      check_val_every_n_epoch=1,\n",
    "                                      num_sanity_val_steps=0,\n",
    "                                      callbacks=[\n",
    "                                        LitProgressBar(['loss', \n",
    "                                                        'running_test_acc'])])\n",
    "                    out = trainer.predict(m1, dataloaders=[dm.test_dataloader()])\n",
    "                    save_predictions(model_path, out)\n",
    "                    gt, pred = out[1], out[0]\n",
    "                    acc = accuracy(gt, pred).item()\n",
    "                \n",
    "                if fraction in frac_to_accs:\n",
    "                    frac_to_accs[fraction].append(acc)\n",
    "                else:\n",
    "                    frac_to_accs[fraction] = [acc]\n",
    "        \n",
    "        layer_to_acc[layer_name] = frac_to_accs\n",
    "\n",
    "    return layer_to_acc"
   ]
  },
  {
   "cell_type": "code",
   "execution_count": null,
   "id": "c41db0c0",
   "metadata": {},
   "outputs": [],
   "source": []
  },
  {
   "cell_type": "code",
   "execution_count": 14,
   "id": "6b0e2430",
   "metadata": {},
   "outputs": [
    {
     "name": "stderr",
     "output_type": "stream",
     "text": [
      "Global seed set to 2\n"
     ]
    },
    {
     "name": "stdout",
     "output_type": "stream",
     "text": [
      "['layer1.0.act3', 'layer1.1.act3', 'layer1.2.act3', 'layer2.0.act3', 'layer2.1.act3', 'layer2.2.act3', 'layer2.3.act3', 'layer3.0.act3', 'layer3.1.act3', 'layer3.2.act3', 'layer3.3.act3', 'layer3.4.act3', 'layer3.5.act3', 'layer4.0.act3', 'layer4.1.act3', 'layer4.2.act3', 'global_pool.pool']\n",
      "layer_name: layer1.0.act3, 4\n",
      "Loaded cached for /NS/robustness_2/work/vnanda/invariances_in_reps/partially_inverted_reps/checkpoints/resnet50-base-imagenet-ft-cifar10/frac-0.00050-mode-random-seed-4-ftmode-linear-lr-0.1-bs-256-nonrob/epoch=27-layer1.0.act3-topk=1.ckpt\n",
      "Loaded cached for /NS/robustness_2/work/vnanda/invariances_in_reps/partially_inverted_reps/checkpoints/resnet50-base-imagenet-ft-cifar10/frac-0.00050-mode-random-seed-3-ftmode-linear-lr-0.1-bs-256-nonrob/epoch=32-layer1.0.act3-topk=1.ckpt\n",
      "layer_name: layer1.0.act3, 4\n",
      "Loaded cached for /NS/robustness_2/work/vnanda/invariances_in_reps/partially_inverted_reps/checkpoints/resnet50-base-imagenet-ft-cifar10/frac-0.00500-mode-random-seed-2-ftmode-linear-lr-0.1-bs-256-nonrob/epoch=49-layer1.0.act3-topk=1.ckpt\n",
      "Loaded cached for /NS/robustness_2/work/vnanda/invariances_in_reps/partially_inverted_reps/checkpoints/resnet50-base-imagenet-ft-cifar10/frac-0.00500-mode-random-seed-1-ftmode-linear-lr-0.1-bs-256-nonrob/epoch=36-layer1.0.act3-topk=1.ckpt\n",
      "layer_name: layer1.0.act3, 4\n",
      "Loaded cached for /NS/robustness_2/work/vnanda/invariances_in_reps/partially_inverted_reps/checkpoints/resnet50-base-imagenet-ft-cifar10/frac-0.05000-mode-random-seed-3-ftmode-linear-lr-0.1-bs-256-nonrob/epoch=22-layer1.0.act3-topk=1.ckpt\n",
      "Loaded cached for /NS/robustness_2/work/vnanda/invariances_in_reps/partially_inverted_reps/checkpoints/resnet50-base-imagenet-ft-cifar10/frac-0.05000-mode-random-seed-4-ftmode-linear-lr-0.1-bs-256-nonrob/epoch=45-layer1.0.act3-topk=1.ckpt\n",
      "layer_name: layer1.0.act3, 4\n",
      "Loaded cached for /NS/robustness_2/work/vnanda/invariances_in_reps/partially_inverted_reps/checkpoints/resnet50-base-imagenet-ft-cifar10/frac-0.10000-mode-random-seed-1-ftmode-linear-lr-0.1-bs-256-nonrob/epoch=38-layer1.0.act3-topk=1.ckpt\n",
      "Loaded cached for /NS/robustness_2/work/vnanda/invariances_in_reps/partially_inverted_reps/checkpoints/resnet50-base-imagenet-ft-cifar10/frac-0.10000-mode-random-seed-2-ftmode-linear-lr-0.1-bs-256-nonrob/epoch=46-layer1.0.act3-topk=1.ckpt\n",
      "layer_name: layer1.0.act3, 3\n",
      "Loaded cached for /NS/robustness_2/work/vnanda/invariances_in_reps/partially_inverted_reps/checkpoints/resnet50-base-imagenet-ft-cifar10/frac-0.20000-mode-random-seed-3-ftmode-linear-lr-0.1-bs-256-nonrob/epoch=22-layer1.0.act3-topk=1.ckpt\n",
      "Loaded cached for /NS/robustness_2/work/vnanda/invariances_in_reps/partially_inverted_reps/checkpoints/resnet50-base-imagenet-ft-cifar10/frac-0.20000-mode-random-seed-1-ftmode-linear-lr-0.1-bs-256-nonrob/epoch=38-layer1.0.act3-topk=1.ckpt\n",
      "layer_name: layer1.0.act3, 3\n",
      "Loaded cached for /NS/robustness_2/work/vnanda/invariances_in_reps/partially_inverted_reps/checkpoints/resnet50-base-imagenet-ft-cifar10/frac-0.40000-mode-random-seed-1-ftmode-linear-lr-0.1-bs-256-nonrob/epoch=38-layer1.0.act3-topk=1.ckpt\n",
      "Loaded cached for /NS/robustness_2/work/vnanda/invariances_in_reps/partially_inverted_reps/checkpoints/resnet50-base-imagenet-ft-cifar10/frac-0.40000-mode-random-seed-2-ftmode-linear-lr-0.1-bs-256-nonrob/epoch=49-layer1.0.act3-topk=1.ckpt\n",
      "layer_name: layer1.0.act3, 3\n",
      "Loaded cached for /NS/robustness_2/work/vnanda/invariances_in_reps/partially_inverted_reps/checkpoints/resnet50-base-imagenet-ft-cifar10/frac-0.50000-mode-random-seed-3-ftmode-linear-lr-0.1-bs-256-nonrob/epoch=22-layer1.0.act3-topk=1.ckpt\n",
      "Loaded cached for /NS/robustness_2/work/vnanda/invariances_in_reps/partially_inverted_reps/checkpoints/resnet50-base-imagenet-ft-cifar10/frac-0.50000-mode-random-seed-2-ftmode-linear-lr-0.1-bs-256-nonrob/epoch=45-layer1.0.act3-topk=1.ckpt\n",
      "layer_name: layer1.0.act3, 3\n",
      "Loaded cached for /NS/robustness_2/work/vnanda/invariances_in_reps/partially_inverted_reps/checkpoints/resnet50-base-imagenet-ft-cifar10/frac-0.80000-mode-random-seed-3-ftmode-linear-lr-0.1-bs-256-nonrob/epoch=38-layer1.0.act3-topk=1.ckpt\n",
      "Loaded cached for /NS/robustness_2/work/vnanda/invariances_in_reps/partially_inverted_reps/checkpoints/resnet50-base-imagenet-ft-cifar10/frac-0.80000-mode-random-seed-1-ftmode-linear-lr-0.1-bs-256-nonrob/epoch=38-layer1.0.act3-topk=1.ckpt\n",
      "layer_name: layer1.0.act3, 3\n",
      "Loaded cached for /NS/robustness_2/work/vnanda/invariances_in_reps/partially_inverted_reps/checkpoints/resnet50-base-imagenet-ft-cifar10/frac-0.90000-mode-random-seed-2-ftmode-linear-lr-0.1-bs-256-nonrob/epoch=45-layer1.0.act3-topk=1.ckpt\n",
      "Loaded cached for /NS/robustness_2/work/vnanda/invariances_in_reps/partially_inverted_reps/checkpoints/resnet50-base-imagenet-ft-cifar10/frac-0.90000-mode-random-seed-1-ftmode-linear-lr-0.1-bs-256-nonrob/epoch=38-layer1.0.act3-topk=1.ckpt\n",
      "layer_name: layer1.0.act3, 1\n",
      "Loaded cached for /NS/robustness_2/work/vnanda/invariances_in_reps/partially_inverted_reps/checkpoints/resnet50-base-imagenet-ft-cifar10/frac-1.00000-mode-random-seed-2-ftmode-linear-lr-0.1-bs-256-nonrob/epoch=45-layer1.0.act3-topk=1.ckpt\n",
      "layer_name: layer2.2.act3, 4\n",
      "Loaded cached for /NS/robustness_2/work/vnanda/invariances_in_reps/partially_inverted_reps/checkpoints/resnet50-base-imagenet-ft-cifar10/frac-0.00050-mode-random-seed-4-ftmode-linear-lr-0.1-bs-256-nonrob/epoch=43-layer2.2.act3-topk=1.ckpt\n",
      "Loaded cached for /NS/robustness_2/work/vnanda/invariances_in_reps/partially_inverted_reps/checkpoints/resnet50-base-imagenet-ft-cifar10/frac-0.00050-mode-random-seed-3-ftmode-linear-lr-0.1-bs-256-nonrob/epoch=29-layer2.2.act3-topk=1.ckpt\n",
      "layer_name: layer2.2.act3, 5\n",
      "Loaded cached for /NS/robustness_2/work/vnanda/invariances_in_reps/partially_inverted_reps/checkpoints/resnet50-base-imagenet-ft-cifar10/frac-0.00500-mode-random-seed-2-ftmode-linear-lr-0.1-bs-256-nonrob/epoch=12-layer2.2.act3-topk=1.ckpt\n",
      "Loaded cached for /NS/robustness_2/work/vnanda/invariances_in_reps/partially_inverted_reps/checkpoints/resnet50-base-imagenet-ft-cifar10/frac-0.00500-mode-random-seed-1-ftmode-linear-lr-0.1-bs-256-nonrob/epoch=10-layer2.2.act3-topk=1.ckpt\n",
      "layer_name: layer2.2.act3, 4\n",
      "Loaded cached for /NS/robustness_2/work/vnanda/invariances_in_reps/partially_inverted_reps/checkpoints/resnet50-base-imagenet-ft-cifar10/frac-0.05000-mode-random-seed-3-ftmode-linear-lr-0.1-bs-256-nonrob/epoch=11-layer2.2.act3-topk=1.ckpt\n",
      "Loaded cached for /NS/robustness_2/work/vnanda/invariances_in_reps/partially_inverted_reps/checkpoints/resnet50-base-imagenet-ft-cifar10/frac-0.05000-mode-random-seed-4-ftmode-linear-lr-0.1-bs-256-nonrob/epoch=46-layer2.2.act3-topk=1.ckpt\n",
      "layer_name: layer2.2.act3, 4\n",
      "Loaded cached for /NS/robustness_2/work/vnanda/invariances_in_reps/partially_inverted_reps/checkpoints/resnet50-base-imagenet-ft-cifar10/frac-0.10000-mode-random-seed-1-ftmode-linear-lr-0.1-bs-256-nonrob/epoch=40-layer2.2.act3-topk=1.ckpt\n",
      "Loaded cached for /NS/robustness_2/work/vnanda/invariances_in_reps/partially_inverted_reps/checkpoints/resnet50-base-imagenet-ft-cifar10/frac-0.10000-mode-random-seed-2-ftmode-linear-lr-0.1-bs-256-nonrob/epoch=36-layer2.2.act3-topk=1.ckpt\n",
      "layer_name: layer2.2.act3, 4\n",
      "Loaded cached for /NS/robustness_2/work/vnanda/invariances_in_reps/partially_inverted_reps/checkpoints/resnet50-base-imagenet-ft-cifar10/frac-0.20000-mode-random-seed-3-ftmode-linear-lr-0.1-bs-256-nonrob/epoch=32-layer2.2.act3-topk=1.ckpt\n",
      "Loaded cached for /NS/robustness_2/work/vnanda/invariances_in_reps/partially_inverted_reps/checkpoints/resnet50-base-imagenet-ft-cifar10/frac-0.20000-mode-random-seed-4-ftmode-linear-lr-0.1-bs-256-nonrob/epoch=42-layer2.2.act3-topk=1.ckpt\n",
      "layer_name: layer2.2.act3, 4\n",
      "Loaded cached for /NS/robustness_2/work/vnanda/invariances_in_reps/partially_inverted_reps/checkpoints/resnet50-base-imagenet-ft-cifar10/frac-0.40000-mode-random-seed-1-ftmode-linear-lr-0.1-bs-256-nonrob/epoch=28-layer2.2.act3-topk=1.ckpt\n",
      "Loaded cached for /NS/robustness_2/work/vnanda/invariances_in_reps/partially_inverted_reps/checkpoints/resnet50-base-imagenet-ft-cifar10/frac-0.40000-mode-random-seed-2-ftmode-linear-lr-0.1-bs-256-nonrob/epoch=36-layer2.2.act3-topk=1.ckpt\n",
      "layer_name: layer2.2.act3, 4\n"
     ]
    },
    {
     "name": "stderr",
     "output_type": "stream",
     "text": [
      "Global seed set to 4\n",
      "GPU available: True, used: True\n",
      "TPU available: False, using: 0 TPU cores\n",
      "IPU available: False, using: 0 IPUs\n",
      "Global seed set to 0\n",
      "LOCAL_RANK: 0 - CUDA_VISIBLE_DEVICES: [0,1,2,3,4,5,6,7]\n"
     ]
    },
    {
     "data": {
      "application/vnd.jupyter.widget-view+json": {
       "model_id": "42c7da597fe6498fa018cbb9df84f712",
       "version_major": 2,
       "version_minor": 0
      },
      "text/plain": [
       "Predicting: 0it [00:00, ?it/s]"
      ]
     },
     "metadata": {},
     "output_type": "display_data"
    },
    {
     "name": "stdout",
     "output_type": "stream",
     "text": [
      "Loaded cached for /NS/robustness_2/work/vnanda/invariances_in_reps/partially_inverted_reps/checkpoints/resnet50-base-imagenet-ft-cifar10/frac-0.50000-mode-random-seed-3-ftmode-linear-lr-0.1-bs-256-nonrob/epoch=39-layer2.2.act3-topk=1.ckpt\n",
      "layer_name: layer2.2.act3, 4\n",
      "Loaded cached for /NS/robustness_2/work/vnanda/invariances_in_reps/partially_inverted_reps/checkpoints/resnet50-base-imagenet-ft-cifar10/frac-0.80000-mode-random-seed-3-ftmode-linear-lr-0.1-bs-256-nonrob/epoch=39-layer2.2.act3-topk=1.ckpt\n"
     ]
    },
    {
     "name": "stderr",
     "output_type": "stream",
     "text": [
      "Global seed set to 4\n",
      "GPU available: True, used: True\n",
      "TPU available: False, using: 0 TPU cores\n",
      "IPU available: False, using: 0 IPUs\n",
      "LOCAL_RANK: 0 - CUDA_VISIBLE_DEVICES: [0,1,2,3,4,5,6,7]\n"
     ]
    },
    {
     "data": {
      "application/vnd.jupyter.widget-view+json": {
       "model_id": "5d2ea503d4874cd3accb904b237d2a5e",
       "version_major": 2,
       "version_minor": 0
      },
      "text/plain": [
       "Predicting: 0it [00:00, ?it/s]"
      ]
     },
     "metadata": {},
     "output_type": "display_data"
    },
    {
     "name": "stdout",
     "output_type": "stream",
     "text": [
      "layer_name: layer2.2.act3, 4\n",
      "Loaded cached for /NS/robustness_2/work/vnanda/invariances_in_reps/partially_inverted_reps/checkpoints/resnet50-base-imagenet-ft-cifar10/frac-0.90000-mode-random-seed-2-ftmode-linear-lr-0.1-bs-256-nonrob/epoch=28-layer2.2.act3-topk=1.ckpt\n",
      "Loaded cached for /NS/robustness_2/work/vnanda/invariances_in_reps/partially_inverted_reps/checkpoints/resnet50-base-imagenet-ft-cifar10/frac-0.90000-mode-random-seed-1-ftmode-linear-lr-0.1-bs-256-nonrob/epoch=46-layer2.2.act3-topk=1.ckpt\n",
      "layer_name: layer2.2.act3, 1\n",
      "Loaded cached for /NS/robustness_2/work/vnanda/invariances_in_reps/partially_inverted_reps/checkpoints/resnet50-base-imagenet-ft-cifar10/frac-1.00000-mode-random-seed-2-ftmode-linear-lr-0.1-bs-256-nonrob/epoch=36-layer2.2.act3-topk=1.ckpt\n",
      "layer_name: layer3.3.act3, 4\n",
      "Loaded cached for /NS/robustness_2/work/vnanda/invariances_in_reps/partially_inverted_reps/checkpoints/resnet50-base-imagenet-ft-cifar10/frac-0.00050-mode-random-seed-4-ftmode-linear-lr-0.1-bs-256-nonrob/epoch=26-layer3.3.act3-topk=1.ckpt\n",
      "Loaded cached for /NS/robustness_2/work/vnanda/invariances_in_reps/partially_inverted_reps/checkpoints/resnet50-base-imagenet-ft-cifar10/frac-0.00050-mode-random-seed-3-ftmode-linear-lr-0.1-bs-256-nonrob/epoch=36-layer3.3.act3-topk=1.ckpt\n",
      "layer_name: layer3.3.act3, 4\n",
      "Loaded cached for /NS/robustness_2/work/vnanda/invariances_in_reps/partially_inverted_reps/checkpoints/resnet50-base-imagenet-ft-cifar10/frac-0.00500-mode-random-seed-2-ftmode-linear-lr-0.1-bs-256-nonrob/epoch=30-layer3.3.act3-topk=1.ckpt\n",
      "Loaded cached for /NS/robustness_2/work/vnanda/invariances_in_reps/partially_inverted_reps/checkpoints/resnet50-base-imagenet-ft-cifar10/frac-0.00500-mode-random-seed-1-ftmode-linear-lr-0.1-bs-256-nonrob/epoch=37-layer3.3.act3-topk=1.ckpt\n",
      "layer_name: layer3.3.act3, 4\n",
      "Loaded cached for /NS/robustness_2/work/vnanda/invariances_in_reps/partially_inverted_reps/checkpoints/resnet50-base-imagenet-ft-cifar10/frac-0.05000-mode-random-seed-3-ftmode-linear-lr-0.1-bs-256-nonrob/epoch=22-layer3.3.act3-topk=1.ckpt\n",
      "Loaded cached for /NS/robustness_2/work/vnanda/invariances_in_reps/partially_inverted_reps/checkpoints/resnet50-base-imagenet-ft-cifar10/frac-0.05000-mode-random-seed-4-ftmode-linear-lr-0.1-bs-256-nonrob/epoch=40-layer3.3.act3-topk=1.ckpt\n",
      "layer_name: layer3.3.act3, 4\n",
      "Loaded cached for /NS/robustness_2/work/vnanda/invariances_in_reps/partially_inverted_reps/checkpoints/resnet50-base-imagenet-ft-cifar10/frac-0.10000-mode-random-seed-1-ftmode-linear-lr-0.1-bs-256-nonrob/epoch=42-layer3.3.act3-topk=1.ckpt\n",
      "Loaded cached for /NS/robustness_2/work/vnanda/invariances_in_reps/partially_inverted_reps/checkpoints/resnet50-base-imagenet-ft-cifar10/frac-0.10000-mode-random-seed-2-ftmode-linear-lr-0.1-bs-256-nonrob/epoch=22-layer3.3.act3-topk=1.ckpt\n",
      "layer_name: layer3.3.act3, 4\n",
      "Loaded cached for /NS/robustness_2/work/vnanda/invariances_in_reps/partially_inverted_reps/checkpoints/resnet50-base-imagenet-ft-cifar10/frac-0.20000-mode-random-seed-3-ftmode-linear-lr-0.1-bs-256-nonrob/epoch=14-layer3.3.act3-topk=1.ckpt\n",
      "Loaded cached for /NS/robustness_2/work/vnanda/invariances_in_reps/partially_inverted_reps/checkpoints/resnet50-base-imagenet-ft-cifar10/frac-0.20000-mode-random-seed-4-ftmode-linear-lr-0.1-bs-256-nonrob/epoch=40-layer3.3.act3-topk=1.ckpt\n",
      "layer_name: layer3.3.act3, 4\n",
      "Loaded cached for /NS/robustness_2/work/vnanda/invariances_in_reps/partially_inverted_reps/checkpoints/resnet50-base-imagenet-ft-cifar10/frac-0.40000-mode-random-seed-1-ftmode-linear-lr-0.1-bs-256-nonrob/epoch=34-layer3.3.act3-topk=1.ckpt\n",
      "Loaded cached for /NS/robustness_2/work/vnanda/invariances_in_reps/partially_inverted_reps/checkpoints/resnet50-base-imagenet-ft-cifar10/frac-0.40000-mode-random-seed-2-ftmode-linear-lr-0.1-bs-256-nonrob/epoch=41-layer3.3.act3-topk=1.ckpt\n",
      "layer_name: layer3.3.act3, 4\n",
      "Loaded cached for /NS/robustness_2/work/vnanda/invariances_in_reps/partially_inverted_reps/checkpoints/resnet50-base-imagenet-ft-cifar10/frac-0.50000-mode-random-seed-4-ftmode-linear-lr-0.1-bs-256-nonrob/epoch=28-layer3.3.act3-topk=1.ckpt\n",
      "Loaded cached for /NS/robustness_2/work/vnanda/invariances_in_reps/partially_inverted_reps/checkpoints/resnet50-base-imagenet-ft-cifar10/frac-0.50000-mode-random-seed-3-ftmode-linear-lr-0.1-bs-256-nonrob/epoch=42-layer3.3.act3-topk=1.ckpt\n",
      "layer_name: layer3.3.act3, 4\n",
      "Loaded cached for /NS/robustness_2/work/vnanda/invariances_in_reps/partially_inverted_reps/checkpoints/resnet50-base-imagenet-ft-cifar10/frac-0.80000-mode-random-seed-3-ftmode-linear-lr-0.1-bs-256-nonrob/epoch=40-layer3.3.act3-topk=1.ckpt\n",
      "Loaded cached for /NS/robustness_2/work/vnanda/invariances_in_reps/partially_inverted_reps/checkpoints/resnet50-base-imagenet-ft-cifar10/frac-0.80000-mode-random-seed-4-ftmode-linear-lr-0.1-bs-256-nonrob/epoch=27-layer3.3.act3-topk=1.ckpt\n",
      "layer_name: layer3.3.act3, 4\n",
      "Loaded cached for /NS/robustness_2/work/vnanda/invariances_in_reps/partially_inverted_reps/checkpoints/resnet50-base-imagenet-ft-cifar10/frac-0.90000-mode-random-seed-2-ftmode-linear-lr-0.1-bs-256-nonrob/epoch=41-layer3.3.act3-topk=1.ckpt\n",
      "Loaded cached for /NS/robustness_2/work/vnanda/invariances_in_reps/partially_inverted_reps/checkpoints/resnet50-base-imagenet-ft-cifar10/frac-0.90000-mode-random-seed-1-ftmode-linear-lr-0.1-bs-256-nonrob/epoch=42-layer3.3.act3-topk=1.ckpt\n",
      "layer_name: layer3.3.act3, 1\n",
      "Loaded cached for /NS/robustness_2/work/vnanda/invariances_in_reps/partially_inverted_reps/checkpoints/resnet50-base-imagenet-ft-cifar10/frac-1.00000-mode-random-seed-2-ftmode-linear-lr-0.1-bs-256-nonrob/epoch=38-layer3.3.act3-topk=1.ckpt\n",
      "layer_name: layer4.2.act3, 3\n",
      "Loaded cached for /NS/robustness_2/work/vnanda/invariances_in_reps/partially_inverted_reps/checkpoints/resnet50-base-imagenet-ft-cifar10/frac-0.00050-mode-random-seed-3-ftmode-linear-lr-0.1-bs-256-nonrob/epoch=15-layer4.2.act3-topk=1.ckpt\n",
      "Loaded cached for /NS/robustness_2/work/vnanda/invariances_in_reps/partially_inverted_reps/checkpoints/resnet50-base-imagenet-ft-cifar10/frac-0.00050-mode-random-seed-2-ftmode-linear-lr-0.1-bs-256-nonrob/epoch=11-layer4.2.act3-topk=1.ckpt\n",
      "layer_name: layer4.2.act3, 3\n",
      "Loaded cached for /NS/robustness_2/work/vnanda/invariances_in_reps/partially_inverted_reps/checkpoints/resnet50-base-imagenet-ft-cifar10/frac-0.00500-mode-random-seed-2-ftmode-linear-lr-0.1-bs-256-nonrob/epoch=34-layer4.2.act3-topk=1.ckpt\n",
      "Loaded cached for /NS/robustness_2/work/vnanda/invariances_in_reps/partially_inverted_reps/checkpoints/resnet50-base-imagenet-ft-cifar10/frac-0.00500-mode-random-seed-1-ftmode-linear-lr-0.1-bs-256-nonrob/epoch=28-layer4.2.act3-topk=1.ckpt\n",
      "layer_name: layer4.2.act3, 3\n",
      "Loaded cached for /NS/robustness_2/work/vnanda/invariances_in_reps/partially_inverted_reps/checkpoints/resnet50-base-imagenet-ft-cifar10/frac-0.05000-mode-random-seed-3-ftmode-linear-lr-0.1-bs-256-nonrob/epoch=19-layer4.2.act3-topk=1.ckpt\n",
      "Loaded cached for /NS/robustness_2/work/vnanda/invariances_in_reps/partially_inverted_reps/checkpoints/resnet50-base-imagenet-ft-cifar10/frac-0.05000-mode-random-seed-2-ftmode-linear-lr-0.1-bs-256-nonrob/epoch=19-layer4.2.act3-topk=1.ckpt\n",
      "layer_name: layer4.2.act3, 3\n",
      "Loaded cached for /NS/robustness_2/work/vnanda/invariances_in_reps/partially_inverted_reps/checkpoints/resnet50-base-imagenet-ft-cifar10/frac-0.10000-mode-random-seed-1-ftmode-linear-lr-0.1-bs-256-nonrob/epoch=40-layer4.2.act3-topk=1.ckpt\n",
      "Loaded cached for /NS/robustness_2/work/vnanda/invariances_in_reps/partially_inverted_reps/checkpoints/resnet50-base-imagenet-ft-cifar10/frac-0.10000-mode-random-seed-2-ftmode-linear-lr-0.1-bs-256-nonrob/epoch=44-layer4.2.act3-topk=1.ckpt\n",
      "layer_name: layer4.2.act3, 3\n",
      "Loaded cached for /NS/robustness_2/work/vnanda/invariances_in_reps/partially_inverted_reps/checkpoints/resnet50-base-imagenet-ft-cifar10/frac-0.20000-mode-random-seed-3-ftmode-linear-lr-0.1-bs-256-nonrob/epoch=31-layer4.2.act3-topk=1.ckpt\n",
      "Loaded cached for /NS/robustness_2/work/vnanda/invariances_in_reps/partially_inverted_reps/checkpoints/resnet50-base-imagenet-ft-cifar10/frac-0.20000-mode-random-seed-1-ftmode-linear-lr-0.1-bs-256-nonrob/epoch=40-layer4.2.act3-topk=1.ckpt\n",
      "layer_name: layer4.2.act3, 3\n",
      "Loaded cached for /NS/robustness_2/work/vnanda/invariances_in_reps/partially_inverted_reps/checkpoints/resnet50-base-imagenet-ft-cifar10/frac-0.40000-mode-random-seed-1-ftmode-linear-lr-0.1-bs-256-nonrob/epoch=46-layer4.2.act3-topk=1.ckpt\n",
      "Loaded cached for /NS/robustness_2/work/vnanda/invariances_in_reps/partially_inverted_reps/checkpoints/resnet50-base-imagenet-ft-cifar10/frac-0.40000-mode-random-seed-2-ftmode-linear-lr-0.1-bs-256-nonrob/epoch=21-layer4.2.act3-topk=1.ckpt\n",
      "layer_name: layer4.2.act3, 3\n"
     ]
    },
    {
     "name": "stderr",
     "output_type": "stream",
     "text": [
      "Global seed set to 2\n"
     ]
    },
    {
     "name": "stdout",
     "output_type": "stream",
     "text": [
      "Loaded cached for /NS/robustness_2/work/vnanda/invariances_in_reps/partially_inverted_reps/checkpoints/resnet50-base-imagenet-ft-cifar10/frac-0.50000-mode-random-seed-3-ftmode-linear-lr-0.1-bs-256-nonrob/epoch=29-layer4.2.act3-topk=1.ckpt\n",
      "Loaded cached for /NS/robustness_2/work/vnanda/invariances_in_reps/partially_inverted_reps/checkpoints/resnet50-base-imagenet-ft-cifar10/frac-0.50000-mode-random-seed-2-ftmode-linear-lr-0.1-bs-256-nonrob/epoch=42-layer4.2.act3-topk=1.ckpt\n",
      "layer_name: layer4.2.act3, 4\n",
      "Loaded cached for /NS/robustness_2/work/vnanda/invariances_in_reps/partially_inverted_reps/checkpoints/resnet50-base-imagenet-ft-cifar10/frac-0.80000-mode-random-seed-3-ftmode-linear-lr-0.1-bs-256-nonrob/epoch=16-layer4.2.act3-topk=1.ckpt\n",
      "Loaded cached for /NS/robustness_2/work/vnanda/invariances_in_reps/partially_inverted_reps/checkpoints/resnet50-base-imagenet-ft-cifar10/frac-0.80000-mode-random-seed-1-ftmode-linear-lr-0.1-bs-256-nonrob/epoch=34-layer4.2.act3-topk=1.ckpt\n",
      "layer_name: layer4.2.act3, 3\n",
      "Loaded cached for /NS/robustness_2/work/vnanda/invariances_in_reps/partially_inverted_reps/checkpoints/resnet50-base-imagenet-ft-cifar10/frac-0.90000-mode-random-seed-2-ftmode-linear-lr-0.1-bs-256-nonrob/epoch=42-layer4.2.act3-topk=1.ckpt\n",
      "Loaded cached for /NS/robustness_2/work/vnanda/invariances_in_reps/partially_inverted_reps/checkpoints/resnet50-base-imagenet-ft-cifar10/frac-0.90000-mode-random-seed-1-ftmode-linear-lr-0.1-bs-256-nonrob/epoch=47-layer4.2.act3-topk=1.ckpt\n",
      "layer_name: layer4.2.act3, 1\n",
      "Loaded cached for /NS/robustness_2/work/vnanda/invariances_in_reps/partially_inverted_reps/checkpoints/resnet50-base-imagenet-ft-cifar10/frac-1.00000-mode-random-seed-2-ftmode-linear-lr-0.1-bs-256-nonrob/epoch=37-layer4.2.act3-topk=1.ckpt\n",
      "['layer1.0.act3', 'layer1.1.act3', 'layer1.2.act3', 'layer2.0.act3', 'layer2.1.act3', 'layer2.2.act3', 'layer2.3.act3', 'layer3.0.act3', 'layer3.1.act3', 'layer3.2.act3', 'layer3.3.act3', 'layer3.4.act3', 'layer3.5.act3', 'layer4.0.act3', 'layer4.1.act3', 'layer4.2.act3', 'global_pool.pool']\n",
      "layer_name: layer1.0.act3, 4\n",
      "Loaded cached for /NS/robustness_2/work/vnanda/invariances_in_reps/partially_inverted_reps/checkpoints/resnet50-base-imagenet-ft-cifar100/frac-0.00050-mode-random-seed-1-ftmode-linear-lr-0.1-bs-256-nonrob/epoch=40-layer1.0.act3-topk=1.ckpt\n",
      "Loaded cached for /NS/robustness_2/work/vnanda/invariances_in_reps/partially_inverted_reps/checkpoints/resnet50-base-imagenet-ft-cifar100/frac-0.00050-mode-random-seed-2-ftmode-linear-lr-0.1-bs-256-nonrob/epoch=33-layer1.0.act3-topk=1.ckpt\n",
      "layer_name: layer1.0.act3, 3\n",
      "Loaded cached for /NS/robustness_2/work/vnanda/invariances_in_reps/partially_inverted_reps/checkpoints/resnet50-base-imagenet-ft-cifar100/frac-0.00500-mode-random-seed-3-ftmode-linear-lr-0.1-bs-256-nonrob/epoch=32-layer1.0.act3-topk=1.ckpt\n",
      "Loaded cached for /NS/robustness_2/work/vnanda/invariances_in_reps/partially_inverted_reps/checkpoints/resnet50-base-imagenet-ft-cifar100/frac-0.00500-mode-random-seed-1-ftmode-linear-lr-0.1-bs-256-nonrob/epoch=45-layer1.0.act3-topk=1.ckpt\n",
      "layer_name: layer1.0.act3, 3\n",
      "Loaded cached for /NS/robustness_2/work/vnanda/invariances_in_reps/partially_inverted_reps/checkpoints/resnet50-base-imagenet-ft-cifar100/frac-0.05000-mode-random-seed-1-ftmode-linear-lr-0.1-bs-256-nonrob/epoch=32-layer1.0.act3-topk=1.ckpt\n",
      "Loaded cached for /NS/robustness_2/work/vnanda/invariances_in_reps/partially_inverted_reps/checkpoints/resnet50-base-imagenet-ft-cifar100/frac-0.05000-mode-random-seed-2-ftmode-linear-lr-0.1-bs-256-nonrob/epoch=41-layer1.0.act3-topk=1.ckpt\n",
      "layer_name: layer1.0.act3, 3\n",
      "Loaded cached for /NS/robustness_2/work/vnanda/invariances_in_reps/partially_inverted_reps/checkpoints/resnet50-base-imagenet-ft-cifar100/frac-0.10000-mode-random-seed-3-ftmode-linear-lr-0.1-bs-256-nonrob/epoch=34-layer1.0.act3-topk=1.ckpt\n",
      "Loaded cached for /NS/robustness_2/work/vnanda/invariances_in_reps/partially_inverted_reps/checkpoints/resnet50-base-imagenet-ft-cifar100/frac-0.10000-mode-random-seed-2-ftmode-linear-lr-0.1-bs-256-nonrob/epoch=44-layer1.0.act3-topk=1.ckpt\n",
      "layer_name: layer1.0.act3, 3\n",
      "Loaded cached for /NS/robustness_2/work/vnanda/invariances_in_reps/partially_inverted_reps/checkpoints/resnet50-base-imagenet-ft-cifar100/frac-0.20000-mode-random-seed-2-ftmode-linear-lr-0.1-bs-256-nonrob/epoch=35-layer1.0.act3-topk=1.ckpt\n",
      "Loaded cached for /NS/robustness_2/work/vnanda/invariances_in_reps/partially_inverted_reps/checkpoints/resnet50-base-imagenet-ft-cifar100/frac-0.20000-mode-random-seed-1-ftmode-linear-lr-0.1-bs-256-nonrob/epoch=40-layer1.0.act3-topk=1.ckpt\n",
      "layer_name: layer1.0.act3, 3\n",
      "Loaded cached for /NS/robustness_2/work/vnanda/invariances_in_reps/partially_inverted_reps/checkpoints/resnet50-base-imagenet-ft-cifar100/frac-0.40000-mode-random-seed-3-ftmode-linear-lr-0.1-bs-256-nonrob/epoch=32-layer1.0.act3-topk=1.ckpt\n",
      "Loaded cached for /NS/robustness_2/work/vnanda/invariances_in_reps/partially_inverted_reps/checkpoints/resnet50-base-imagenet-ft-cifar100/frac-0.40000-mode-random-seed-2-ftmode-linear-lr-0.1-bs-256-nonrob/epoch=45-layer1.0.act3-topk=1.ckpt\n",
      "layer_name: layer1.0.act3, 3\n",
      "Loaded cached for /NS/robustness_2/work/vnanda/invariances_in_reps/partially_inverted_reps/checkpoints/resnet50-base-imagenet-ft-cifar100/frac-0.50000-mode-random-seed-1-ftmode-linear-lr-0.1-bs-256-nonrob/epoch=32-layer1.0.act3-topk=1.ckpt\n",
      "Loaded cached for /NS/robustness_2/work/vnanda/invariances_in_reps/partially_inverted_reps/checkpoints/resnet50-base-imagenet-ft-cifar100/frac-0.50000-mode-random-seed-2-ftmode-linear-lr-0.1-bs-256-nonrob/epoch=44-layer1.0.act3-topk=1.ckpt\n",
      "layer_name: layer1.0.act3, 3\n",
      "Loaded cached for /NS/robustness_2/work/vnanda/invariances_in_reps/partially_inverted_reps/checkpoints/resnet50-base-imagenet-ft-cifar100/frac-0.80000-mode-random-seed-2-ftmode-linear-lr-0.1-bs-256-nonrob/epoch=34-layer1.0.act3-topk=1.ckpt\n",
      "Loaded cached for /NS/robustness_2/work/vnanda/invariances_in_reps/partially_inverted_reps/checkpoints/resnet50-base-imagenet-ft-cifar100/frac-0.80000-mode-random-seed-1-ftmode-linear-lr-0.1-bs-256-nonrob/epoch=40-layer1.0.act3-topk=1.ckpt\n",
      "layer_name: layer1.0.act3, 3\n",
      "Loaded cached for /NS/robustness_2/work/vnanda/invariances_in_reps/partially_inverted_reps/checkpoints/resnet50-base-imagenet-ft-cifar100/frac-0.90000-mode-random-seed-3-ftmode-linear-lr-0.1-bs-256-nonrob/epoch=40-layer1.0.act3-topk=1.ckpt\n",
      "Loaded cached for /NS/robustness_2/work/vnanda/invariances_in_reps/partially_inverted_reps/checkpoints/resnet50-base-imagenet-ft-cifar100/frac-0.90000-mode-random-seed-1-ftmode-linear-lr-0.1-bs-256-nonrob/epoch=32-layer1.0.act3-topk=1.ckpt\n",
      "layer_name: layer1.0.act3, 1\n",
      "Loaded cached for /NS/robustness_2/work/vnanda/invariances_in_reps/partially_inverted_reps/checkpoints/resnet50-base-imagenet-ft-cifar100/frac-1.00000-mode-random-seed-2-ftmode-linear-lr-0.1-bs-256-nonrob/epoch=44-layer1.0.act3-topk=1.ckpt\n",
      "layer_name: layer2.2.act3, 2\n",
      "Loaded cached for /NS/robustness_2/work/vnanda/invariances_in_reps/partially_inverted_reps/checkpoints/resnet50-base-imagenet-ft-cifar100/frac-0.00050-mode-random-seed-1-ftmode-linear-lr-0.1-bs-256-nonrob/epoch=49-layer2.2.act3-topk=1.ckpt\n",
      "Loaded cached for /NS/robustness_2/work/vnanda/invariances_in_reps/partially_inverted_reps/checkpoints/resnet50-base-imagenet-ft-cifar100/frac-0.00050-mode-random-seed-2-ftmode-linear-lr-0.1-bs-256-nonrob/epoch=39-layer2.2.act3-topk=1.ckpt\n",
      "layer_name: layer2.2.act3, 2\n",
      "Loaded cached for /NS/robustness_2/work/vnanda/invariances_in_reps/partially_inverted_reps/checkpoints/resnet50-base-imagenet-ft-cifar100/frac-0.00500-mode-random-seed-1-ftmode-linear-lr-0.1-bs-256-nonrob/epoch=24-layer2.2.act3-topk=1.ckpt\n",
      "Loaded cached for /NS/robustness_2/work/vnanda/invariances_in_reps/partially_inverted_reps/checkpoints/resnet50-base-imagenet-ft-cifar100/frac-0.00500-mode-random-seed-2-ftmode-linear-lr-0.1-bs-256-nonrob/epoch=44-layer2.2.act3-topk=1.ckpt\n",
      "layer_name: layer2.2.act3, 2\n",
      "Loaded cached for /NS/robustness_2/work/vnanda/invariances_in_reps/partially_inverted_reps/checkpoints/resnet50-base-imagenet-ft-cifar100/frac-0.05000-mode-random-seed-1-ftmode-linear-lr-0.1-bs-256-nonrob/epoch=32-layer2.2.act3-topk=1.ckpt\n",
      "Loaded cached for /NS/robustness_2/work/vnanda/invariances_in_reps/partially_inverted_reps/checkpoints/resnet50-base-imagenet-ft-cifar100/frac-0.05000-mode-random-seed-2-ftmode-linear-lr-0.1-bs-256-nonrob/epoch=23-layer2.2.act3-topk=1.ckpt\n",
      "layer_name: layer2.2.act3, 2\n",
      "Loaded cached for /NS/robustness_2/work/vnanda/invariances_in_reps/partially_inverted_reps/checkpoints/resnet50-base-imagenet-ft-cifar100/frac-0.10000-mode-random-seed-2-ftmode-linear-lr-0.1-bs-256-nonrob/epoch=44-layer2.2.act3-topk=1.ckpt\n",
      "Loaded cached for /NS/robustness_2/work/vnanda/invariances_in_reps/partially_inverted_reps/checkpoints/resnet50-base-imagenet-ft-cifar100/frac-0.10000-mode-random-seed-1-ftmode-linear-lr-0.1-bs-256-nonrob/epoch=42-layer2.2.act3-topk=1.ckpt\n",
      "layer_name: layer2.2.act3, 2\n",
      "Loaded cached for /NS/robustness_2/work/vnanda/invariances_in_reps/partially_inverted_reps/checkpoints/resnet50-base-imagenet-ft-cifar100/frac-0.20000-mode-random-seed-2-ftmode-linear-lr-0.1-bs-256-nonrob/epoch=44-layer2.2.act3-topk=1.ckpt\n",
      "Loaded cached for /NS/robustness_2/work/vnanda/invariances_in_reps/partially_inverted_reps/checkpoints/resnet50-base-imagenet-ft-cifar100/frac-0.20000-mode-random-seed-1-ftmode-linear-lr-0.1-bs-256-nonrob/epoch=40-layer2.2.act3-topk=1.ckpt\n",
      "layer_name: layer2.2.act3, 2\n",
      "Loaded cached for /NS/robustness_2/work/vnanda/invariances_in_reps/partially_inverted_reps/checkpoints/resnet50-base-imagenet-ft-cifar100/frac-0.40000-mode-random-seed-2-ftmode-linear-lr-0.1-bs-256-nonrob/epoch=23-layer2.2.act3-topk=1.ckpt\n",
      "Loaded cached for /NS/robustness_2/work/vnanda/invariances_in_reps/partially_inverted_reps/checkpoints/resnet50-base-imagenet-ft-cifar100/frac-0.40000-mode-random-seed-1-ftmode-linear-lr-0.1-bs-256-nonrob/epoch=44-layer2.2.act3-topk=1.ckpt\n",
      "layer_name: layer2.2.act3, 2\n",
      "Loaded cached for /NS/robustness_2/work/vnanda/invariances_in_reps/partially_inverted_reps/checkpoints/resnet50-base-imagenet-ft-cifar100/frac-0.50000-mode-random-seed-1-ftmode-linear-lr-0.1-bs-256-nonrob/epoch=44-layer2.2.act3-topk=1.ckpt\n",
      "Loaded cached for /NS/robustness_2/work/vnanda/invariances_in_reps/partially_inverted_reps/checkpoints/resnet50-base-imagenet-ft-cifar100/frac-0.50000-mode-random-seed-2-ftmode-linear-lr-0.1-bs-256-nonrob/epoch=33-layer2.2.act3-topk=1.ckpt\n",
      "layer_name: layer2.2.act3, 2\n",
      "Loaded cached for /NS/robustness_2/work/vnanda/invariances_in_reps/partially_inverted_reps/checkpoints/resnet50-base-imagenet-ft-cifar100/frac-0.80000-mode-random-seed-2-ftmode-linear-lr-0.1-bs-256-nonrob/epoch=44-layer2.2.act3-topk=1.ckpt\n",
      "Loaded cached for /NS/robustness_2/work/vnanda/invariances_in_reps/partially_inverted_reps/checkpoints/resnet50-base-imagenet-ft-cifar100/frac-0.80000-mode-random-seed-1-ftmode-linear-lr-0.1-bs-256-nonrob/epoch=40-layer2.2.act3-topk=1.ckpt\n",
      "layer_name: layer2.2.act3, 2\n",
      "Loaded cached for /NS/robustness_2/work/vnanda/invariances_in_reps/partially_inverted_reps/checkpoints/resnet50-base-imagenet-ft-cifar100/frac-0.90000-mode-random-seed-1-ftmode-linear-lr-0.1-bs-256-nonrob/epoch=44-layer2.2.act3-topk=1.ckpt\n",
      "Loaded cached for /NS/robustness_2/work/vnanda/invariances_in_reps/partially_inverted_reps/checkpoints/resnet50-base-imagenet-ft-cifar100/frac-0.90000-mode-random-seed-2-ftmode-linear-lr-0.1-bs-256-nonrob/epoch=31-layer2.2.act3-topk=1.ckpt\n",
      "layer_name: layer2.2.act3, 1\n",
      "Loaded cached for /NS/robustness_2/work/vnanda/invariances_in_reps/partially_inverted_reps/checkpoints/resnet50-base-imagenet-ft-cifar100/frac-1.00000-mode-random-seed-2-ftmode-linear-lr-0.1-bs-256-nonrob/epoch=48-layer2.2.act3-topk=1.ckpt\n"
     ]
    },
    {
     "name": "stdout",
     "output_type": "stream",
     "text": [
      "layer_name: layer3.3.act3, 2\n",
      "Loaded cached for /NS/robustness_2/work/vnanda/invariances_in_reps/partially_inverted_reps/checkpoints/resnet50-base-imagenet-ft-cifar100/frac-0.00050-mode-random-seed-1-ftmode-linear-lr-0.1-bs-256-nonrob/epoch=34-layer3.3.act3-topk=1.ckpt\n",
      "Loaded cached for /NS/robustness_2/work/vnanda/invariances_in_reps/partially_inverted_reps/checkpoints/resnet50-base-imagenet-ft-cifar100/frac-0.00050-mode-random-seed-2-ftmode-linear-lr-0.1-bs-256-nonrob/epoch=45-layer3.3.act3-topk=1.ckpt\n",
      "layer_name: layer3.3.act3, 2\n",
      "Loaded cached for /NS/robustness_2/work/vnanda/invariances_in_reps/partially_inverted_reps/checkpoints/resnet50-base-imagenet-ft-cifar100/frac-0.00500-mode-random-seed-1-ftmode-linear-lr-0.1-bs-256-nonrob/epoch=47-layer3.3.act3-topk=1.ckpt\n",
      "Loaded cached for /NS/robustness_2/work/vnanda/invariances_in_reps/partially_inverted_reps/checkpoints/resnet50-base-imagenet-ft-cifar100/frac-0.00500-mode-random-seed-2-ftmode-linear-lr-0.1-bs-256-nonrob/epoch=45-layer3.3.act3-topk=1.ckpt\n",
      "layer_name: layer3.3.act3, 2\n",
      "Loaded cached for /NS/robustness_2/work/vnanda/invariances_in_reps/partially_inverted_reps/checkpoints/resnet50-base-imagenet-ft-cifar100/frac-0.05000-mode-random-seed-1-ftmode-linear-lr-0.1-bs-256-nonrob/epoch=44-layer3.3.act3-topk=1.ckpt\n",
      "Loaded cached for /NS/robustness_2/work/vnanda/invariances_in_reps/partially_inverted_reps/checkpoints/resnet50-base-imagenet-ft-cifar100/frac-0.05000-mode-random-seed-2-ftmode-linear-lr-0.1-bs-256-nonrob/epoch=44-layer3.3.act3-topk=1.ckpt\n",
      "layer_name: layer3.3.act3, 2\n",
      "Loaded cached for /NS/robustness_2/work/vnanda/invariances_in_reps/partially_inverted_reps/checkpoints/resnet50-base-imagenet-ft-cifar100/frac-0.10000-mode-random-seed-2-ftmode-linear-lr-0.1-bs-256-nonrob/epoch=36-layer3.3.act3-topk=1.ckpt\n",
      "Loaded cached for /NS/robustness_2/work/vnanda/invariances_in_reps/partially_inverted_reps/checkpoints/resnet50-base-imagenet-ft-cifar100/frac-0.10000-mode-random-seed-1-ftmode-linear-lr-0.1-bs-256-nonrob/epoch=41-layer3.3.act3-topk=1.ckpt\n",
      "layer_name: layer3.3.act3, 2\n",
      "Loaded cached for /NS/robustness_2/work/vnanda/invariances_in_reps/partially_inverted_reps/checkpoints/resnet50-base-imagenet-ft-cifar100/frac-0.20000-mode-random-seed-2-ftmode-linear-lr-0.1-bs-256-nonrob/epoch=37-layer3.3.act3-topk=1.ckpt\n",
      "Loaded cached for /NS/robustness_2/work/vnanda/invariances_in_reps/partially_inverted_reps/checkpoints/resnet50-base-imagenet-ft-cifar100/frac-0.20000-mode-random-seed-1-ftmode-linear-lr-0.1-bs-256-nonrob/epoch=42-layer3.3.act3-topk=1.ckpt\n",
      "layer_name: layer3.3.act3, 2\n",
      "Loaded cached for /NS/robustness_2/work/vnanda/invariances_in_reps/partially_inverted_reps/checkpoints/resnet50-base-imagenet-ft-cifar100/frac-0.40000-mode-random-seed-2-ftmode-linear-lr-0.1-bs-256-nonrob/epoch=44-layer3.3.act3-topk=1.ckpt\n",
      "Loaded cached for /NS/robustness_2/work/vnanda/invariances_in_reps/partially_inverted_reps/checkpoints/resnet50-base-imagenet-ft-cifar100/frac-0.40000-mode-random-seed-1-ftmode-linear-lr-0.1-bs-256-nonrob/epoch=44-layer3.3.act3-topk=1.ckpt\n",
      "layer_name: layer3.3.act3, 2\n",
      "Loaded cached for /NS/robustness_2/work/vnanda/invariances_in_reps/partially_inverted_reps/checkpoints/resnet50-base-imagenet-ft-cifar100/frac-0.50000-mode-random-seed-1-ftmode-linear-lr-0.1-bs-256-nonrob/epoch=32-layer3.3.act3-topk=1.ckpt\n",
      "Loaded cached for /NS/robustness_2/work/vnanda/invariances_in_reps/partially_inverted_reps/checkpoints/resnet50-base-imagenet-ft-cifar100/frac-0.50000-mode-random-seed-2-ftmode-linear-lr-0.1-bs-256-nonrob/epoch=36-layer3.3.act3-topk=1.ckpt\n",
      "layer_name: layer3.3.act3, 2\n",
      "Loaded cached for /NS/robustness_2/work/vnanda/invariances_in_reps/partially_inverted_reps/checkpoints/resnet50-base-imagenet-ft-cifar100/frac-0.80000-mode-random-seed-2-ftmode-linear-lr-0.1-bs-256-nonrob/epoch=44-layer3.3.act3-topk=1.ckpt\n",
      "Loaded cached for /NS/robustness_2/work/vnanda/invariances_in_reps/partially_inverted_reps/checkpoints/resnet50-base-imagenet-ft-cifar100/frac-0.80000-mode-random-seed-1-ftmode-linear-lr-0.1-bs-256-nonrob/epoch=32-layer3.3.act3-topk=1.ckpt\n",
      "layer_name: layer3.3.act3, 2\n",
      "Loaded cached for /NS/robustness_2/work/vnanda/invariances_in_reps/partially_inverted_reps/checkpoints/resnet50-base-imagenet-ft-cifar100/frac-0.90000-mode-random-seed-1-ftmode-linear-lr-0.1-bs-256-nonrob/epoch=35-layer3.3.act3-topk=1.ckpt\n",
      "Loaded cached for /NS/robustness_2/work/vnanda/invariances_in_reps/partially_inverted_reps/checkpoints/resnet50-base-imagenet-ft-cifar100/frac-0.90000-mode-random-seed-2-ftmode-linear-lr-0.1-bs-256-nonrob/epoch=43-layer3.3.act3-topk=1.ckpt\n",
      "layer_name: layer3.3.act3, 1\n",
      "Loaded cached for /NS/robustness_2/work/vnanda/invariances_in_reps/partially_inverted_reps/checkpoints/resnet50-base-imagenet-ft-cifar100/frac-1.00000-mode-random-seed-2-ftmode-linear-lr-0.1-bs-256-nonrob/epoch=44-layer3.3.act3-topk=1.ckpt\n"
     ]
    },
    {
     "name": "stderr",
     "output_type": "stream",
     "text": [
      "Global seed set to 2\n"
     ]
    },
    {
     "name": "stdout",
     "output_type": "stream",
     "text": [
      "layer_name: layer4.2.act3, 1\n",
      "Loaded cached for /NS/robustness_2/work/vnanda/invariances_in_reps/partially_inverted_reps/checkpoints/resnet50-base-imagenet-ft-cifar100/frac-0.00050-mode-random-seed-1-ftmode-linear-lr-0.1-bs-256-nonrob/epoch=24-layer4.2.act3-topk=1.ckpt\n",
      "layer_name: layer4.2.act3, 1\n",
      "Loaded cached for /NS/robustness_2/work/vnanda/invariances_in_reps/partially_inverted_reps/checkpoints/resnet50-base-imagenet-ft-cifar100/frac-0.00500-mode-random-seed-1-ftmode-linear-lr-0.1-bs-256-nonrob/epoch=30-layer4.2.act3-topk=1.ckpt\n",
      "layer_name: layer4.2.act3, 1\n",
      "Loaded cached for /NS/robustness_2/work/vnanda/invariances_in_reps/partially_inverted_reps/checkpoints/resnet50-base-imagenet-ft-cifar100/frac-0.05000-mode-random-seed-1-ftmode-linear-lr-0.1-bs-256-nonrob/epoch=25-layer4.2.act3-topk=1.ckpt\n",
      "layer_name: layer4.2.act3, 1\n",
      "Loaded cached for /NS/robustness_2/work/vnanda/invariances_in_reps/partially_inverted_reps/checkpoints/resnet50-base-imagenet-ft-cifar100/frac-0.10000-mode-random-seed-1-ftmode-linear-lr-0.1-bs-256-nonrob/epoch=30-layer4.2.act3-topk=1.ckpt\n",
      "layer_name: layer4.2.act3, 1\n",
      "Loaded cached for /NS/robustness_2/work/vnanda/invariances_in_reps/partially_inverted_reps/checkpoints/resnet50-base-imagenet-ft-cifar100/frac-0.20000-mode-random-seed-1-ftmode-linear-lr-0.1-bs-256-nonrob/epoch=41-layer4.2.act3-topk=1.ckpt\n",
      "layer_name: layer4.2.act3, 1\n",
      "Loaded cached for /NS/robustness_2/work/vnanda/invariances_in_reps/partially_inverted_reps/checkpoints/resnet50-base-imagenet-ft-cifar100/frac-0.40000-mode-random-seed-1-ftmode-linear-lr-0.1-bs-256-nonrob/epoch=42-layer4.2.act3-topk=1.ckpt\n",
      "layer_name: layer4.2.act3, 1\n",
      "Loaded cached for /NS/robustness_2/work/vnanda/invariances_in_reps/partially_inverted_reps/checkpoints/resnet50-base-imagenet-ft-cifar100/frac-0.50000-mode-random-seed-1-ftmode-linear-lr-0.1-bs-256-nonrob/epoch=47-layer4.2.act3-topk=1.ckpt\n",
      "layer_name: layer4.2.act3, 1\n",
      "Loaded cached for /NS/robustness_2/work/vnanda/invariances_in_reps/partially_inverted_reps/checkpoints/resnet50-base-imagenet-ft-cifar100/frac-0.80000-mode-random-seed-1-ftmode-linear-lr-0.1-bs-256-nonrob/epoch=48-layer4.2.act3-topk=1.ckpt\n",
      "layer_name: layer4.2.act3, 1\n",
      "Loaded cached for /NS/robustness_2/work/vnanda/invariances_in_reps/partially_inverted_reps/checkpoints/resnet50-base-imagenet-ft-cifar100/frac-0.90000-mode-random-seed-1-ftmode-linear-lr-0.1-bs-256-nonrob/epoch=48-layer4.2.act3-topk=1.ckpt\n",
      "layer_name: layer4.2.act3, 1\n",
      "Loaded cached for /NS/robustness_2/work/vnanda/invariances_in_reps/partially_inverted_reps/checkpoints/resnet50-base-imagenet-ft-cifar100/frac-1.00000-mode-random-seed-2-ftmode-linear-lr-0.1-bs-256-nonrob/epoch=46-layer4.2.act3-topk=1.ckpt\n",
      "['layer1.0.act3', 'layer1.1.act3', 'layer1.2.act3', 'layer2.0.act3', 'layer2.1.act3', 'layer2.2.act3', 'layer2.3.act3', 'layer3.0.act3', 'layer3.1.act3', 'layer3.2.act3', 'layer3.3.act3', 'layer3.4.act3', 'layer3.5.act3', 'layer4.0.act3', 'layer4.1.act3', 'layer4.2.act3', 'global_pool.pool']\n",
      "layer_name: layer1.0.act3, 5\n",
      "Loaded cached for /NS/robustness_2/work/vnanda/invariances_in_reps/partially_inverted_reps/checkpoints/resnet50-base-imagenet-ft-flowers/frac-0.00050-mode-random-seed-2-ftmode-linear-lr-0.1-bs-256-nonrob/epoch=25-layer1.0.act3-topk=1.ckpt\n",
      "Loaded cached for /NS/robustness_2/work/vnanda/invariances_in_reps/partially_inverted_reps/checkpoints/resnet50-base-imagenet-ft-flowers/frac-0.00050-mode-random-seed-5-ftmode-linear-lr-0.1-bs-256-nonrob/epoch=39-layer1.0.act3-topk=1.ckpt\n",
      "layer_name: layer1.0.act3, 5\n",
      "Loaded cached for /NS/robustness_2/work/vnanda/invariances_in_reps/partially_inverted_reps/checkpoints/resnet50-base-imagenet-ft-flowers/frac-0.00500-mode-random-seed-4-ftmode-linear-lr-0.1-bs-256-nonrob/epoch=46-layer1.0.act3-topk=1.ckpt\n",
      "Loaded cached for /NS/robustness_2/work/vnanda/invariances_in_reps/partially_inverted_reps/checkpoints/resnet50-base-imagenet-ft-flowers/frac-0.00500-mode-random-seed-3-ftmode-linear-lr-0.1-bs-256-nonrob/epoch=44-layer1.0.act3-topk=1.ckpt\n",
      "layer_name: layer1.0.act3, 5\n",
      "Loaded cached for /NS/robustness_2/work/vnanda/invariances_in_reps/partially_inverted_reps/checkpoints/resnet50-base-imagenet-ft-flowers/frac-0.05000-mode-random-seed-5-ftmode-linear-lr-0.1-bs-256-nonrob/epoch=49-layer1.0.act3-topk=1.ckpt\n",
      "Loaded cached for /NS/robustness_2/work/vnanda/invariances_in_reps/partially_inverted_reps/checkpoints/resnet50-base-imagenet-ft-flowers/frac-0.05000-mode-random-seed-2-ftmode-linear-lr-0.1-bs-256-nonrob/epoch=48-layer1.0.act3-topk=1.ckpt\n",
      "layer_name: layer1.0.act3, 5\n",
      "Loaded cached for /NS/robustness_2/work/vnanda/invariances_in_reps/partially_inverted_reps/checkpoints/resnet50-base-imagenet-ft-flowers/frac-0.10000-mode-random-seed-3-ftmode-linear-lr-0.1-bs-256-nonrob/epoch=49-layer1.0.act3-topk=1.ckpt\n",
      "Loaded cached for /NS/robustness_2/work/vnanda/invariances_in_reps/partially_inverted_reps/checkpoints/resnet50-base-imagenet-ft-flowers/frac-0.10000-mode-random-seed-4-ftmode-linear-lr-0.1-bs-256-nonrob/epoch=42-layer1.0.act3-topk=1.ckpt\n",
      "layer_name: layer1.0.act3, 5\n",
      "Loaded cached for /NS/robustness_2/work/vnanda/invariances_in_reps/partially_inverted_reps/checkpoints/resnet50-base-imagenet-ft-flowers/frac-0.20000-mode-random-seed-1-ftmode-linear-lr-0.1-bs-256-nonrob/epoch=43-layer1.0.act3-topk=1.ckpt\n",
      "Loaded cached for /NS/robustness_2/work/vnanda/invariances_in_reps/partially_inverted_reps/checkpoints/resnet50-base-imagenet-ft-flowers/frac-0.20000-mode-random-seed-5-ftmode-linear-lr-0.1-bs-256-nonrob/epoch=41-layer1.0.act3-topk=1.ckpt\n",
      "layer_name: layer1.0.act3, 5\n",
      "Loaded cached for /NS/robustness_2/work/vnanda/invariances_in_reps/partially_inverted_reps/checkpoints/resnet50-base-imagenet-ft-flowers/frac-0.40000-mode-random-seed-3-ftmode-linear-lr-0.1-bs-256-nonrob/epoch=41-layer1.0.act3-topk=1.ckpt\n",
      "Loaded cached for /NS/robustness_2/work/vnanda/invariances_in_reps/partially_inverted_reps/checkpoints/resnet50-base-imagenet-ft-flowers/frac-0.40000-mode-random-seed-4-ftmode-linear-lr-0.1-bs-256-nonrob/epoch=38-layer1.0.act3-topk=1.ckpt\n",
      "layer_name: layer1.0.act3, 5\n",
      "Loaded cached for /NS/robustness_2/work/vnanda/invariances_in_reps/partially_inverted_reps/checkpoints/resnet50-base-imagenet-ft-flowers/frac-0.50000-mode-random-seed-2-ftmode-linear-lr-0.1-bs-256-nonrob/epoch=48-layer1.0.act3-topk=1.ckpt\n",
      "Loaded cached for /NS/robustness_2/work/vnanda/invariances_in_reps/partially_inverted_reps/checkpoints/resnet50-base-imagenet-ft-flowers/frac-0.50000-mode-random-seed-5-ftmode-linear-lr-0.1-bs-256-nonrob/epoch=42-layer1.0.act3-topk=1.ckpt\n",
      "layer_name: layer1.0.act3, 5\n",
      "Loaded cached for /NS/robustness_2/work/vnanda/invariances_in_reps/partially_inverted_reps/checkpoints/resnet50-base-imagenet-ft-flowers/frac-0.80000-mode-random-seed-1-ftmode-linear-lr-0.1-bs-256-nonrob/epoch=44-layer1.0.act3-topk=1.ckpt\n",
      "Loaded cached for /NS/robustness_2/work/vnanda/invariances_in_reps/partially_inverted_reps/checkpoints/resnet50-base-imagenet-ft-flowers/frac-0.80000-mode-random-seed-5-ftmode-linear-lr-0.1-bs-256-nonrob/epoch=49-layer1.0.act3-topk=1.ckpt\n",
      "layer_name: layer1.0.act3, 5\n",
      "Loaded cached for /NS/robustness_2/work/vnanda/invariances_in_reps/partially_inverted_reps/checkpoints/resnet50-base-imagenet-ft-flowers/frac-0.90000-mode-random-seed-4-ftmode-linear-lr-0.1-bs-256-nonrob/epoch=41-layer1.0.act3-topk=1.ckpt\n",
      "Loaded cached for /NS/robustness_2/work/vnanda/invariances_in_reps/partially_inverted_reps/checkpoints/resnet50-base-imagenet-ft-flowers/frac-0.90000-mode-random-seed-3-ftmode-linear-lr-0.1-bs-256-nonrob/epoch=47-layer1.0.act3-topk=1.ckpt\n",
      "layer_name: layer1.0.act3, 1\n",
      "Loaded cached for /NS/robustness_2/work/vnanda/invariances_in_reps/partially_inverted_reps/checkpoints/resnet50-base-imagenet-ft-flowers/frac-1.00000-mode-random-seed-2-ftmode-linear-lr-0.1-bs-256-nonrob/epoch=49-layer1.0.act3-topk=1.ckpt\n",
      "layer_name: layer2.2.act3, 3\n"
     ]
    },
    {
     "name": "stderr",
     "output_type": "stream",
     "text": [
      "Global seed set to 2\n",
      "GPU available: True, used: True\n",
      "TPU available: False, using: 0 TPU cores\n",
      "IPU available: False, using: 0 IPUs\n",
      "Global seed set to 0\n",
      "LOCAL_RANK: 0 - CUDA_VISIBLE_DEVICES: [0,1,2,3,4,5,6,7]\n"
     ]
    },
    {
     "data": {
      "application/vnd.jupyter.widget-view+json": {
       "model_id": "2a64ec8ad3d243f6b60754a1924310f0",
       "version_major": 2,
       "version_minor": 0
      },
      "text/plain": [
       "Predicting: 0it [00:00, ?it/s]"
      ]
     },
     "metadata": {},
     "output_type": "display_data"
    },
    {
     "name": "stderr",
     "output_type": "stream",
     "text": [
      "Global seed set to 1\n",
      "GPU available: True, used: True\n",
      "TPU available: False, using: 0 TPU cores\n",
      "IPU available: False, using: 0 IPUs\n",
      "LOCAL_RANK: 0 - CUDA_VISIBLE_DEVICES: [0,1,2,3,4,5,6,7]\n"
     ]
    },
    {
     "data": {
      "application/vnd.jupyter.widget-view+json": {
       "model_id": "2b31137e449b4b9db8571d640d6d49a5",
       "version_major": 2,
       "version_minor": 0
      },
      "text/plain": [
       "Predicting: 0it [00:00, ?it/s]"
      ]
     },
     "metadata": {},
     "output_type": "display_data"
    },
    {
     "name": "stdout",
     "output_type": "stream",
     "text": [
      "layer_name: layer2.2.act3, 3\n"
     ]
    },
    {
     "name": "stderr",
     "output_type": "stream",
     "text": [
      "Global seed set to 3\n",
      "GPU available: True, used: True\n",
      "TPU available: False, using: 0 TPU cores\n",
      "IPU available: False, using: 0 IPUs\n",
      "LOCAL_RANK: 0 - CUDA_VISIBLE_DEVICES: [0,1,2,3,4,5,6,7]\n"
     ]
    },
    {
     "data": {
      "application/vnd.jupyter.widget-view+json": {
       "model_id": "4627eda0c74b4525b6f4beada8f6c395",
       "version_major": 2,
       "version_minor": 0
      },
      "text/plain": [
       "Predicting: 0it [00:00, ?it/s]"
      ]
     },
     "metadata": {},
     "output_type": "display_data"
    },
    {
     "name": "stderr",
     "output_type": "stream",
     "text": [
      "Global seed set to 2\n",
      "GPU available: True, used: True\n",
      "TPU available: False, using: 0 TPU cores\n",
      "IPU available: False, using: 0 IPUs\n",
      "LOCAL_RANK: 0 - CUDA_VISIBLE_DEVICES: [0,1,2,3,4,5,6,7]\n"
     ]
    },
    {
     "data": {
      "application/vnd.jupyter.widget-view+json": {
       "model_id": "861905193762496c9ca56f4b35fccacd",
       "version_major": 2,
       "version_minor": 0
      },
      "text/plain": [
       "Predicting: 0it [00:00, ?it/s]"
      ]
     },
     "metadata": {},
     "output_type": "display_data"
    },
    {
     "name": "stdout",
     "output_type": "stream",
     "text": [
      "layer_name: layer2.2.act3, 3\n"
     ]
    },
    {
     "name": "stderr",
     "output_type": "stream",
     "text": [
      "Global seed set to 2\n",
      "GPU available: True, used: True\n",
      "TPU available: False, using: 0 TPU cores\n",
      "IPU available: False, using: 0 IPUs\n",
      "LOCAL_RANK: 0 - CUDA_VISIBLE_DEVICES: [0,1,2,3,4,5,6,7]\n"
     ]
    },
    {
     "data": {
      "application/vnd.jupyter.widget-view+json": {
       "model_id": "326428adb7084f54aa0e902bb691605c",
       "version_major": 2,
       "version_minor": 0
      },
      "text/plain": [
       "Predicting: 0it [00:00, ?it/s]"
      ]
     },
     "metadata": {},
     "output_type": "display_data"
    },
    {
     "name": "stderr",
     "output_type": "stream",
     "text": [
      "Global seed set to 1\n",
      "GPU available: True, used: True\n",
      "TPU available: False, using: 0 TPU cores\n",
      "IPU available: False, using: 0 IPUs\n",
      "LOCAL_RANK: 0 - CUDA_VISIBLE_DEVICES: [0,1,2,3,4,5,6,7]\n"
     ]
    },
    {
     "data": {
      "application/vnd.jupyter.widget-view+json": {
       "model_id": "b527066b8d63453bb03d349341c5f0cf",
       "version_major": 2,
       "version_minor": 0
      },
      "text/plain": [
       "Predicting: 0it [00:00, ?it/s]"
      ]
     },
     "metadata": {},
     "output_type": "display_data"
    },
    {
     "name": "stdout",
     "output_type": "stream",
     "text": [
      "layer_name: layer2.2.act3, 3\n"
     ]
    },
    {
     "name": "stderr",
     "output_type": "stream",
     "text": [
      "Global seed set to 3\n",
      "GPU available: True, used: True\n",
      "TPU available: False, using: 0 TPU cores\n",
      "IPU available: False, using: 0 IPUs\n",
      "LOCAL_RANK: 0 - CUDA_VISIBLE_DEVICES: [0,1,2,3,4,5,6,7]\n"
     ]
    },
    {
     "data": {
      "application/vnd.jupyter.widget-view+json": {
       "model_id": "5adb0d72981a41e29f3e5afbdcec7070",
       "version_major": 2,
       "version_minor": 0
      },
      "text/plain": [
       "Predicting: 0it [00:00, ?it/s]"
      ]
     },
     "metadata": {},
     "output_type": "display_data"
    },
    {
     "name": "stderr",
     "output_type": "stream",
     "text": [
      "Global seed set to 1\n",
      "GPU available: True, used: True\n",
      "TPU available: False, using: 0 TPU cores\n",
      "IPU available: False, using: 0 IPUs\n",
      "LOCAL_RANK: 0 - CUDA_VISIBLE_DEVICES: [0,1,2,3,4,5,6,7]\n"
     ]
    },
    {
     "data": {
      "application/vnd.jupyter.widget-view+json": {
       "model_id": "6ae33ed8286b43d4b2216bebfd25a963",
       "version_major": 2,
       "version_minor": 0
      },
      "text/plain": [
       "Predicting: 0it [00:00, ?it/s]"
      ]
     },
     "metadata": {},
     "output_type": "display_data"
    },
    {
     "name": "stdout",
     "output_type": "stream",
     "text": [
      "layer_name: layer2.2.act3, 3\n"
     ]
    },
    {
     "name": "stderr",
     "output_type": "stream",
     "text": [
      "Global seed set to 1\n",
      "GPU available: True, used: True\n",
      "TPU available: False, using: 0 TPU cores\n",
      "IPU available: False, using: 0 IPUs\n",
      "LOCAL_RANK: 0 - CUDA_VISIBLE_DEVICES: [0,1,2,3,4,5,6,7]\n"
     ]
    },
    {
     "data": {
      "application/vnd.jupyter.widget-view+json": {
       "model_id": "7ac352f0e6bf408cb36291bf67e8406b",
       "version_major": 2,
       "version_minor": 0
      },
      "text/plain": [
       "Predicting: 0it [00:00, ?it/s]"
      ]
     },
     "metadata": {},
     "output_type": "display_data"
    },
    {
     "name": "stderr",
     "output_type": "stream",
     "text": [
      "Global seed set to 2\n",
      "GPU available: True, used: True\n",
      "TPU available: False, using: 0 TPU cores\n",
      "IPU available: False, using: 0 IPUs\n",
      "LOCAL_RANK: 0 - CUDA_VISIBLE_DEVICES: [0,1,2,3,4,5,6,7]\n"
     ]
    },
    {
     "data": {
      "application/vnd.jupyter.widget-view+json": {
       "model_id": "1cee740804b740e39dfa7ce05cb783b3",
       "version_major": 2,
       "version_minor": 0
      },
      "text/plain": [
       "Predicting: 0it [00:00, ?it/s]"
      ]
     },
     "metadata": {},
     "output_type": "display_data"
    },
    {
     "name": "stdout",
     "output_type": "stream",
     "text": [
      "layer_name: layer2.2.act3, 3\n"
     ]
    },
    {
     "name": "stderr",
     "output_type": "stream",
     "text": [
      "Global seed set to 3\n",
      "GPU available: True, used: True\n",
      "TPU available: False, using: 0 TPU cores\n",
      "IPU available: False, using: 0 IPUs\n",
      "LOCAL_RANK: 0 - CUDA_VISIBLE_DEVICES: [0,1,2,3,4,5,6,7]\n"
     ]
    },
    {
     "data": {
      "application/vnd.jupyter.widget-view+json": {
       "model_id": "919c6713de6c4815abb6751e40081f42",
       "version_major": 2,
       "version_minor": 0
      },
      "text/plain": [
       "Predicting: 0it [00:00, ?it/s]"
      ]
     },
     "metadata": {},
     "output_type": "display_data"
    },
    {
     "name": "stderr",
     "output_type": "stream",
     "text": [
      "Global seed set to 1\n",
      "GPU available: True, used: True\n",
      "TPU available: False, using: 0 TPU cores\n",
      "IPU available: False, using: 0 IPUs\n",
      "LOCAL_RANK: 0 - CUDA_VISIBLE_DEVICES: [0,1,2,3,4,5,6,7]\n"
     ]
    },
    {
     "data": {
      "application/vnd.jupyter.widget-view+json": {
       "model_id": "09dfb1234aaa4362ace769e77d7d1a9d",
       "version_major": 2,
       "version_minor": 0
      },
      "text/plain": [
       "Predicting: 0it [00:00, ?it/s]"
      ]
     },
     "metadata": {},
     "output_type": "display_data"
    },
    {
     "name": "stdout",
     "output_type": "stream",
     "text": [
      "layer_name: layer2.2.act3, 3\n"
     ]
    },
    {
     "name": "stderr",
     "output_type": "stream",
     "text": [
      "Global seed set to 2\n",
      "GPU available: True, used: True\n",
      "TPU available: False, using: 0 TPU cores\n",
      "IPU available: False, using: 0 IPUs\n",
      "LOCAL_RANK: 0 - CUDA_VISIBLE_DEVICES: [0,1,2,3,4,5,6,7]\n"
     ]
    },
    {
     "data": {
      "application/vnd.jupyter.widget-view+json": {
       "model_id": "981a58dcabfe4c97b37b974e892a691d",
       "version_major": 2,
       "version_minor": 0
      },
      "text/plain": [
       "Predicting: 0it [00:00, ?it/s]"
      ]
     },
     "metadata": {},
     "output_type": "display_data"
    },
    {
     "name": "stderr",
     "output_type": "stream",
     "text": [
      "Global seed set to 1\n",
      "GPU available: True, used: True\n",
      "TPU available: False, using: 0 TPU cores\n",
      "IPU available: False, using: 0 IPUs\n",
      "LOCAL_RANK: 0 - CUDA_VISIBLE_DEVICES: [0,1,2,3,4,5,6,7]\n"
     ]
    },
    {
     "data": {
      "application/vnd.jupyter.widget-view+json": {
       "model_id": "d6556bae011f436bac0a1eb480b2dacf",
       "version_major": 2,
       "version_minor": 0
      },
      "text/plain": [
       "Predicting: 0it [00:00, ?it/s]"
      ]
     },
     "metadata": {},
     "output_type": "display_data"
    },
    {
     "name": "stdout",
     "output_type": "stream",
     "text": [
      "layer_name: layer2.2.act3, 3\n"
     ]
    },
    {
     "name": "stderr",
     "output_type": "stream",
     "text": [
      "Global seed set to 1\n",
      "GPU available: True, used: True\n",
      "TPU available: False, using: 0 TPU cores\n",
      "IPU available: False, using: 0 IPUs\n",
      "LOCAL_RANK: 0 - CUDA_VISIBLE_DEVICES: [0,1,2,3,4,5,6,7]\n"
     ]
    },
    {
     "data": {
      "application/vnd.jupyter.widget-view+json": {
       "model_id": "8a6592b315cf4682ba4c01229e391a10",
       "version_major": 2,
       "version_minor": 0
      },
      "text/plain": [
       "Predicting: 0it [00:00, ?it/s]"
      ]
     },
     "metadata": {},
     "output_type": "display_data"
    },
    {
     "name": "stderr",
     "output_type": "stream",
     "text": [
      "Global seed set to 2\n",
      "GPU available: True, used: True\n",
      "TPU available: False, using: 0 TPU cores\n",
      "IPU available: False, using: 0 IPUs\n",
      "LOCAL_RANK: 0 - CUDA_VISIBLE_DEVICES: [0,1,2,3,4,5,6,7]\n"
     ]
    },
    {
     "data": {
      "application/vnd.jupyter.widget-view+json": {
       "model_id": "510c9e44a9fc418e97d45c63b69d3c43",
       "version_major": 2,
       "version_minor": 0
      },
      "text/plain": [
       "Predicting: 0it [00:00, ?it/s]"
      ]
     },
     "metadata": {},
     "output_type": "display_data"
    },
    {
     "name": "stdout",
     "output_type": "stream",
     "text": [
      "layer_name: layer2.2.act3, 3\n"
     ]
    },
    {
     "name": "stderr",
     "output_type": "stream",
     "text": [
      "Global seed set to 3\n",
      "GPU available: True, used: True\n",
      "TPU available: False, using: 0 TPU cores\n",
      "IPU available: False, using: 0 IPUs\n",
      "LOCAL_RANK: 0 - CUDA_VISIBLE_DEVICES: [0,1,2,3,4,5,6,7]\n"
     ]
    },
    {
     "data": {
      "application/vnd.jupyter.widget-view+json": {
       "model_id": "4f64e0516f6d4286a8edbc1d6ff286d9",
       "version_major": 2,
       "version_minor": 0
      },
      "text/plain": [
       "Predicting: 0it [00:00, ?it/s]"
      ]
     },
     "metadata": {},
     "output_type": "display_data"
    },
    {
     "name": "stderr",
     "output_type": "stream",
     "text": [
      "Global seed set to 2\n",
      "GPU available: True, used: True\n",
      "TPU available: False, using: 0 TPU cores\n",
      "IPU available: False, using: 0 IPUs\n",
      "LOCAL_RANK: 0 - CUDA_VISIBLE_DEVICES: [0,1,2,3,4,5,6,7]\n"
     ]
    },
    {
     "data": {
      "application/vnd.jupyter.widget-view+json": {
       "model_id": "885fa7c104194209914d0fb522b75783",
       "version_major": 2,
       "version_minor": 0
      },
      "text/plain": [
       "Predicting: 0it [00:00, ?it/s]"
      ]
     },
     "metadata": {},
     "output_type": "display_data"
    },
    {
     "name": "stdout",
     "output_type": "stream",
     "text": [
      "layer_name: layer2.2.act3, 1\n"
     ]
    },
    {
     "name": "stderr",
     "output_type": "stream",
     "text": [
      "Global seed set to 2\n",
      "GPU available: True, used: True\n",
      "TPU available: False, using: 0 TPU cores\n",
      "IPU available: False, using: 0 IPUs\n",
      "LOCAL_RANK: 0 - CUDA_VISIBLE_DEVICES: [0,1,2,3,4,5,6,7]\n"
     ]
    },
    {
     "data": {
      "application/vnd.jupyter.widget-view+json": {
       "model_id": "cbe05194d0424083be1c0a4261973557",
       "version_major": 2,
       "version_minor": 0
      },
      "text/plain": [
       "Predicting: 0it [00:00, ?it/s]"
      ]
     },
     "metadata": {},
     "output_type": "display_data"
    },
    {
     "name": "stdout",
     "output_type": "stream",
     "text": [
      "layer_name: layer3.3.act3, 2\n"
     ]
    },
    {
     "name": "stderr",
     "output_type": "stream",
     "text": [
      "Global seed set to 2\n",
      "GPU available: True, used: True\n",
      "TPU available: False, using: 0 TPU cores\n",
      "IPU available: False, using: 0 IPUs\n",
      "LOCAL_RANK: 0 - CUDA_VISIBLE_DEVICES: [0,1,2,3,4,5,6,7]\n"
     ]
    },
    {
     "data": {
      "application/vnd.jupyter.widget-view+json": {
       "model_id": "04dd52d1142044f2a7cf1f98608bedfa",
       "version_major": 2,
       "version_minor": 0
      },
      "text/plain": [
       "Predicting: 0it [00:00, ?it/s]"
      ]
     },
     "metadata": {},
     "output_type": "display_data"
    },
    {
     "name": "stderr",
     "output_type": "stream",
     "text": [
      "Global seed set to 1\n",
      "GPU available: True, used: True\n",
      "TPU available: False, using: 0 TPU cores\n",
      "IPU available: False, using: 0 IPUs\n",
      "LOCAL_RANK: 0 - CUDA_VISIBLE_DEVICES: [0,1,2,3,4,5,6,7]\n"
     ]
    },
    {
     "data": {
      "application/vnd.jupyter.widget-view+json": {
       "model_id": "1c81e05d9d344ffe8389d7632962abd3",
       "version_major": 2,
       "version_minor": 0
      },
      "text/plain": [
       "Predicting: 0it [00:00, ?it/s]"
      ]
     },
     "metadata": {},
     "output_type": "display_data"
    },
    {
     "name": "stdout",
     "output_type": "stream",
     "text": [
      "layer_name: layer3.3.act3, 2\n"
     ]
    },
    {
     "name": "stderr",
     "output_type": "stream",
     "text": [
      "Global seed set to 2\n",
      "GPU available: True, used: True\n",
      "TPU available: False, using: 0 TPU cores\n",
      "IPU available: False, using: 0 IPUs\n",
      "LOCAL_RANK: 0 - CUDA_VISIBLE_DEVICES: [0,1,2,3,4,5,6,7]\n"
     ]
    },
    {
     "data": {
      "application/vnd.jupyter.widget-view+json": {
       "model_id": "9b2daf6bee4b40a8b4863c5443265934",
       "version_major": 2,
       "version_minor": 0
      },
      "text/plain": [
       "Predicting: 0it [00:00, ?it/s]"
      ]
     },
     "metadata": {},
     "output_type": "display_data"
    },
    {
     "name": "stderr",
     "output_type": "stream",
     "text": [
      "Global seed set to 1\n",
      "GPU available: True, used: True\n",
      "TPU available: False, using: 0 TPU cores\n",
      "IPU available: False, using: 0 IPUs\n",
      "LOCAL_RANK: 0 - CUDA_VISIBLE_DEVICES: [0,1,2,3,4,5,6,7]\n"
     ]
    },
    {
     "data": {
      "application/vnd.jupyter.widget-view+json": {
       "model_id": "cebfa92a78ae4105a3a0986a59f0a294",
       "version_major": 2,
       "version_minor": 0
      },
      "text/plain": [
       "Predicting: 0it [00:00, ?it/s]"
      ]
     },
     "metadata": {},
     "output_type": "display_data"
    },
    {
     "name": "stdout",
     "output_type": "stream",
     "text": [
      "layer_name: layer3.3.act3, 2\n"
     ]
    },
    {
     "name": "stderr",
     "output_type": "stream",
     "text": [
      "Global seed set to 2\n",
      "GPU available: True, used: True\n",
      "TPU available: False, using: 0 TPU cores\n",
      "IPU available: False, using: 0 IPUs\n",
      "LOCAL_RANK: 0 - CUDA_VISIBLE_DEVICES: [0,1,2,3,4,5,6,7]\n"
     ]
    },
    {
     "data": {
      "application/vnd.jupyter.widget-view+json": {
       "model_id": "2e5757050b6542bcbef02393986cccc5",
       "version_major": 2,
       "version_minor": 0
      },
      "text/plain": [
       "Predicting: 0it [00:00, ?it/s]"
      ]
     },
     "metadata": {},
     "output_type": "display_data"
    },
    {
     "name": "stderr",
     "output_type": "stream",
     "text": [
      "Global seed set to 1\n",
      "GPU available: True, used: True\n",
      "TPU available: False, using: 0 TPU cores\n",
      "IPU available: False, using: 0 IPUs\n",
      "LOCAL_RANK: 0 - CUDA_VISIBLE_DEVICES: [0,1,2,3,4,5,6,7]\n"
     ]
    },
    {
     "data": {
      "application/vnd.jupyter.widget-view+json": {
       "model_id": "17a4a2e8a35e445abd5fff3017a37779",
       "version_major": 2,
       "version_minor": 0
      },
      "text/plain": [
       "Predicting: 0it [00:00, ?it/s]"
      ]
     },
     "metadata": {},
     "output_type": "display_data"
    },
    {
     "name": "stdout",
     "output_type": "stream",
     "text": [
      "layer_name: layer3.3.act3, 2\n"
     ]
    },
    {
     "name": "stderr",
     "output_type": "stream",
     "text": [
      "Global seed set to 1\n",
      "GPU available: True, used: True\n",
      "TPU available: False, using: 0 TPU cores\n",
      "IPU available: False, using: 0 IPUs\n",
      "LOCAL_RANK: 0 - CUDA_VISIBLE_DEVICES: [0,1,2,3,4,5,6,7]\n"
     ]
    },
    {
     "data": {
      "application/vnd.jupyter.widget-view+json": {
       "model_id": "e7e639e07093476d91e4d7f8184553eb",
       "version_major": 2,
       "version_minor": 0
      },
      "text/plain": [
       "Predicting: 0it [00:00, ?it/s]"
      ]
     },
     "metadata": {},
     "output_type": "display_data"
    },
    {
     "name": "stderr",
     "output_type": "stream",
     "text": [
      "Global seed set to 2\n",
      "GPU available: True, used: True\n",
      "TPU available: False, using: 0 TPU cores\n",
      "IPU available: False, using: 0 IPUs\n",
      "LOCAL_RANK: 0 - CUDA_VISIBLE_DEVICES: [0,1,2,3,4,5,6,7]\n"
     ]
    },
    {
     "data": {
      "application/vnd.jupyter.widget-view+json": {
       "model_id": "46cc20fa81a04d0c8fc78bdb6712930d",
       "version_major": 2,
       "version_minor": 0
      },
      "text/plain": [
       "Predicting: 0it [00:00, ?it/s]"
      ]
     },
     "metadata": {},
     "output_type": "display_data"
    },
    {
     "name": "stdout",
     "output_type": "stream",
     "text": [
      "layer_name: layer3.3.act3, 2\n"
     ]
    },
    {
     "name": "stderr",
     "output_type": "stream",
     "text": [
      "Global seed set to 1\n",
      "GPU available: True, used: True\n",
      "TPU available: False, using: 0 TPU cores\n",
      "IPU available: False, using: 0 IPUs\n",
      "LOCAL_RANK: 0 - CUDA_VISIBLE_DEVICES: [0,1,2,3,4,5,6,7]\n"
     ]
    },
    {
     "data": {
      "application/vnd.jupyter.widget-view+json": {
       "model_id": "80f623019b454c7e9c228fc52b3f8594",
       "version_major": 2,
       "version_minor": 0
      },
      "text/plain": [
       "Predicting: 0it [00:00, ?it/s]"
      ]
     },
     "metadata": {},
     "output_type": "display_data"
    },
    {
     "name": "stderr",
     "output_type": "stream",
     "text": [
      "Global seed set to 2\n",
      "GPU available: True, used: True\n",
      "TPU available: False, using: 0 TPU cores\n",
      "IPU available: False, using: 0 IPUs\n",
      "LOCAL_RANK: 0 - CUDA_VISIBLE_DEVICES: [0,1,2,3,4,5,6,7]\n"
     ]
    },
    {
     "data": {
      "application/vnd.jupyter.widget-view+json": {
       "model_id": "1b089472c7dc4258865949a0d6001d3f",
       "version_major": 2,
       "version_minor": 0
      },
      "text/plain": [
       "Predicting: 0it [00:00, ?it/s]"
      ]
     },
     "metadata": {},
     "output_type": "display_data"
    },
    {
     "name": "stdout",
     "output_type": "stream",
     "text": [
      "layer_name: layer3.3.act3, 2\n"
     ]
    },
    {
     "name": "stderr",
     "output_type": "stream",
     "text": [
      "Global seed set to 1\n",
      "GPU available: True, used: True\n",
      "TPU available: False, using: 0 TPU cores\n",
      "IPU available: False, using: 0 IPUs\n",
      "LOCAL_RANK: 0 - CUDA_VISIBLE_DEVICES: [0,1,2,3,4,5,6,7]\n"
     ]
    },
    {
     "data": {
      "application/vnd.jupyter.widget-view+json": {
       "model_id": "6de561ff0099418988b85d97984759a6",
       "version_major": 2,
       "version_minor": 0
      },
      "text/plain": [
       "Predicting: 0it [00:00, ?it/s]"
      ]
     },
     "metadata": {},
     "output_type": "display_data"
    },
    {
     "name": "stderr",
     "output_type": "stream",
     "text": [
      "Global seed set to 2\n",
      "GPU available: True, used: True\n",
      "TPU available: False, using: 0 TPU cores\n",
      "IPU available: False, using: 0 IPUs\n",
      "LOCAL_RANK: 0 - CUDA_VISIBLE_DEVICES: [0,1,2,3,4,5,6,7]\n"
     ]
    },
    {
     "data": {
      "application/vnd.jupyter.widget-view+json": {
       "model_id": "f5f716a1aee14f33a933ff033ee55374",
       "version_major": 2,
       "version_minor": 0
      },
      "text/plain": [
       "Predicting: 0it [00:00, ?it/s]"
      ]
     },
     "metadata": {},
     "output_type": "display_data"
    },
    {
     "name": "stdout",
     "output_type": "stream",
     "text": [
      "layer_name: layer3.3.act3, 3\n"
     ]
    },
    {
     "name": "stderr",
     "output_type": "stream",
     "text": [
      "Global seed set to 2\n",
      "GPU available: True, used: True\n",
      "TPU available: False, using: 0 TPU cores\n",
      "IPU available: False, using: 0 IPUs\n",
      "LOCAL_RANK: 0 - CUDA_VISIBLE_DEVICES: [0,1,2,3,4,5,6,7]\n"
     ]
    },
    {
     "data": {
      "application/vnd.jupyter.widget-view+json": {
       "model_id": "da33e63133494f779408d5a82550adbf",
       "version_major": 2,
       "version_minor": 0
      },
      "text/plain": [
       "Predicting: 0it [00:00, ?it/s]"
      ]
     },
     "metadata": {},
     "output_type": "display_data"
    },
    {
     "name": "stderr",
     "output_type": "stream",
     "text": [
      "Global seed set to 1\n",
      "GPU available: True, used: True\n",
      "TPU available: False, using: 0 TPU cores\n",
      "IPU available: False, using: 0 IPUs\n",
      "LOCAL_RANK: 0 - CUDA_VISIBLE_DEVICES: [0,1,2,3,4,5,6,7]\n"
     ]
    },
    {
     "data": {
      "application/vnd.jupyter.widget-view+json": {
       "model_id": "dca9a2cad42f457d8edb04933f12fecd",
       "version_major": 2,
       "version_minor": 0
      },
      "text/plain": [
       "Predicting: 0it [00:00, ?it/s]"
      ]
     },
     "metadata": {},
     "output_type": "display_data"
    },
    {
     "name": "stdout",
     "output_type": "stream",
     "text": [
      "layer_name: layer3.3.act3, 3\n"
     ]
    },
    {
     "name": "stderr",
     "output_type": "stream",
     "text": [
      "Global seed set to 1\n",
      "GPU available: True, used: True\n",
      "TPU available: False, using: 0 TPU cores\n",
      "IPU available: False, using: 0 IPUs\n",
      "LOCAL_RANK: 0 - CUDA_VISIBLE_DEVICES: [0,1,2,3,4,5,6,7]\n"
     ]
    },
    {
     "data": {
      "application/vnd.jupyter.widget-view+json": {
       "model_id": "9f809592da2c4fb2b92dc496dacd64b2",
       "version_major": 2,
       "version_minor": 0
      },
      "text/plain": [
       "Predicting: 0it [00:00, ?it/s]"
      ]
     },
     "metadata": {},
     "output_type": "display_data"
    },
    {
     "name": "stderr",
     "output_type": "stream",
     "text": [
      "Global seed set to 2\n",
      "GPU available: True, used: True\n",
      "TPU available: False, using: 0 TPU cores\n",
      "IPU available: False, using: 0 IPUs\n",
      "LOCAL_RANK: 0 - CUDA_VISIBLE_DEVICES: [0,1,2,3,4,5,6,7]\n"
     ]
    },
    {
     "data": {
      "application/vnd.jupyter.widget-view+json": {
       "model_id": "05037dd507de43de8f3c041398212581",
       "version_major": 2,
       "version_minor": 0
      },
      "text/plain": [
       "Predicting: 0it [00:00, ?it/s]"
      ]
     },
     "metadata": {},
     "output_type": "display_data"
    },
    {
     "name": "stdout",
     "output_type": "stream",
     "text": [
      "layer_name: layer3.3.act3, 3\n"
     ]
    },
    {
     "name": "stderr",
     "output_type": "stream",
     "text": [
      "Global seed set to 3\n",
      "GPU available: True, used: True\n",
      "TPU available: False, using: 0 TPU cores\n",
      "IPU available: False, using: 0 IPUs\n",
      "LOCAL_RANK: 0 - CUDA_VISIBLE_DEVICES: [0,1,2,3,4,5,6,7]\n"
     ]
    },
    {
     "data": {
      "application/vnd.jupyter.widget-view+json": {
       "model_id": "685ca920204345d0bfcf19f35d37dcfa",
       "version_major": 2,
       "version_minor": 0
      },
      "text/plain": [
       "Predicting: 0it [00:00, ?it/s]"
      ]
     },
     "metadata": {},
     "output_type": "display_data"
    },
    {
     "name": "stderr",
     "output_type": "stream",
     "text": [
      "Global seed set to 2\n",
      "GPU available: True, used: True\n",
      "TPU available: False, using: 0 TPU cores\n",
      "IPU available: False, using: 0 IPUs\n",
      "LOCAL_RANK: 0 - CUDA_VISIBLE_DEVICES: [0,1,2,3,4,5,6,7]\n"
     ]
    },
    {
     "data": {
      "application/vnd.jupyter.widget-view+json": {
       "model_id": "eaf5b0f374314773a3103d2e83bffbf5",
       "version_major": 2,
       "version_minor": 0
      },
      "text/plain": [
       "Predicting: 0it [00:00, ?it/s]"
      ]
     },
     "metadata": {},
     "output_type": "display_data"
    },
    {
     "name": "stdout",
     "output_type": "stream",
     "text": [
      "layer_name: layer3.3.act3, 1\n"
     ]
    },
    {
     "name": "stderr",
     "output_type": "stream",
     "text": [
      "Global seed set to 2\n",
      "GPU available: True, used: True\n",
      "TPU available: False, using: 0 TPU cores\n",
      "IPU available: False, using: 0 IPUs\n",
      "LOCAL_RANK: 0 - CUDA_VISIBLE_DEVICES: [0,1,2,3,4,5,6,7]\n"
     ]
    },
    {
     "data": {
      "application/vnd.jupyter.widget-view+json": {
       "model_id": "cce85549ff3748e8a05b8a8231b0dc01",
       "version_major": 2,
       "version_minor": 0
      },
      "text/plain": [
       "Predicting: 0it [00:00, ?it/s]"
      ]
     },
     "metadata": {},
     "output_type": "display_data"
    },
    {
     "name": "stdout",
     "output_type": "stream",
     "text": [
      "layer_name: layer4.2.act3, 2\n"
     ]
    },
    {
     "name": "stderr",
     "output_type": "stream",
     "text": [
      "Global seed set to 2\n",
      "GPU available: True, used: True\n",
      "TPU available: False, using: 0 TPU cores\n",
      "IPU available: False, using: 0 IPUs\n",
      "LOCAL_RANK: 0 - CUDA_VISIBLE_DEVICES: [0,1,2,3,4,5,6,7]\n"
     ]
    },
    {
     "data": {
      "application/vnd.jupyter.widget-view+json": {
       "model_id": "7f14157268c64b1d9d10a3289627543b",
       "version_major": 2,
       "version_minor": 0
      },
      "text/plain": [
       "Predicting: 0it [00:00, ?it/s]"
      ]
     },
     "metadata": {},
     "output_type": "display_data"
    },
    {
     "name": "stderr",
     "output_type": "stream",
     "text": [
      "Global seed set to 1\n",
      "GPU available: True, used: True\n",
      "TPU available: False, using: 0 TPU cores\n",
      "IPU available: False, using: 0 IPUs\n",
      "LOCAL_RANK: 0 - CUDA_VISIBLE_DEVICES: [0,1,2,3,4,5,6,7]\n"
     ]
    },
    {
     "data": {
      "application/vnd.jupyter.widget-view+json": {
       "model_id": "96052b378e1a49dca49584a65c6bab46",
       "version_major": 2,
       "version_minor": 0
      },
      "text/plain": [
       "Predicting: 0it [00:00, ?it/s]"
      ]
     },
     "metadata": {},
     "output_type": "display_data"
    },
    {
     "name": "stdout",
     "output_type": "stream",
     "text": [
      "layer_name: layer4.2.act3, 2\n"
     ]
    },
    {
     "name": "stderr",
     "output_type": "stream",
     "text": [
      "Global seed set to 2\n",
      "GPU available: True, used: True\n",
      "TPU available: False, using: 0 TPU cores\n",
      "IPU available: False, using: 0 IPUs\n",
      "LOCAL_RANK: 0 - CUDA_VISIBLE_DEVICES: [0,1,2,3,4,5,6,7]\n"
     ]
    },
    {
     "data": {
      "application/vnd.jupyter.widget-view+json": {
       "model_id": "71c0c4bf9dfa4330a12c3076e177c120",
       "version_major": 2,
       "version_minor": 0
      },
      "text/plain": [
       "Predicting: 0it [00:00, ?it/s]"
      ]
     },
     "metadata": {},
     "output_type": "display_data"
    },
    {
     "name": "stderr",
     "output_type": "stream",
     "text": [
      "Global seed set to 1\n",
      "GPU available: True, used: True\n",
      "TPU available: False, using: 0 TPU cores\n",
      "IPU available: False, using: 0 IPUs\n",
      "LOCAL_RANK: 0 - CUDA_VISIBLE_DEVICES: [0,1,2,3,4,5,6,7]\n"
     ]
    },
    {
     "data": {
      "application/vnd.jupyter.widget-view+json": {
       "model_id": "c3c3dbed13fb40c29a180fe2e90e55b3",
       "version_major": 2,
       "version_minor": 0
      },
      "text/plain": [
       "Predicting: 0it [00:00, ?it/s]"
      ]
     },
     "metadata": {},
     "output_type": "display_data"
    },
    {
     "name": "stdout",
     "output_type": "stream",
     "text": [
      "layer_name: layer4.2.act3, 2\n"
     ]
    },
    {
     "name": "stderr",
     "output_type": "stream",
     "text": [
      "Global seed set to 2\n",
      "GPU available: True, used: True\n",
      "TPU available: False, using: 0 TPU cores\n",
      "IPU available: False, using: 0 IPUs\n",
      "LOCAL_RANK: 0 - CUDA_VISIBLE_DEVICES: [0,1,2,3,4,5,6,7]\n"
     ]
    },
    {
     "data": {
      "application/vnd.jupyter.widget-view+json": {
       "model_id": "ea5037e4367d4a3e9f42b7fca6fc1783",
       "version_major": 2,
       "version_minor": 0
      },
      "text/plain": [
       "Predicting: 0it [00:00, ?it/s]"
      ]
     },
     "metadata": {},
     "output_type": "display_data"
    },
    {
     "name": "stderr",
     "output_type": "stream",
     "text": [
      "Global seed set to 1\n",
      "GPU available: True, used: True\n",
      "TPU available: False, using: 0 TPU cores\n",
      "IPU available: False, using: 0 IPUs\n",
      "LOCAL_RANK: 0 - CUDA_VISIBLE_DEVICES: [0,1,2,3,4,5,6,7]\n"
     ]
    },
    {
     "data": {
      "application/vnd.jupyter.widget-view+json": {
       "model_id": "c5e4b83731bc493b8e743126d24e7a6d",
       "version_major": 2,
       "version_minor": 0
      },
      "text/plain": [
       "Predicting: 0it [00:00, ?it/s]"
      ]
     },
     "metadata": {},
     "output_type": "display_data"
    },
    {
     "name": "stdout",
     "output_type": "stream",
     "text": [
      "layer_name: layer4.2.act3, 2\n"
     ]
    },
    {
     "name": "stderr",
     "output_type": "stream",
     "text": [
      "Global seed set to 1\n",
      "GPU available: True, used: True\n",
      "TPU available: False, using: 0 TPU cores\n",
      "IPU available: False, using: 0 IPUs\n",
      "LOCAL_RANK: 0 - CUDA_VISIBLE_DEVICES: [0,1,2,3,4,5,6,7]\n"
     ]
    },
    {
     "data": {
      "application/vnd.jupyter.widget-view+json": {
       "model_id": "d459699b5a0347c9b227cdb12b0ddf19",
       "version_major": 2,
       "version_minor": 0
      },
      "text/plain": [
       "Predicting: 0it [00:00, ?it/s]"
      ]
     },
     "metadata": {},
     "output_type": "display_data"
    },
    {
     "name": "stderr",
     "output_type": "stream",
     "text": [
      "Global seed set to 2\n",
      "GPU available: True, used: True\n",
      "TPU available: False, using: 0 TPU cores\n",
      "IPU available: False, using: 0 IPUs\n",
      "LOCAL_RANK: 0 - CUDA_VISIBLE_DEVICES: [0,1,2,3,4,5,6,7]\n"
     ]
    },
    {
     "data": {
      "application/vnd.jupyter.widget-view+json": {
       "model_id": "e805c0e4a4c048af83f9ff976c4e0279",
       "version_major": 2,
       "version_minor": 0
      },
      "text/plain": [
       "Predicting: 0it [00:00, ?it/s]"
      ]
     },
     "metadata": {},
     "output_type": "display_data"
    },
    {
     "name": "stdout",
     "output_type": "stream",
     "text": [
      "layer_name: layer4.2.act3, 2\n"
     ]
    },
    {
     "name": "stderr",
     "output_type": "stream",
     "text": [
      "Global seed set to 1\n",
      "GPU available: True, used: True\n",
      "TPU available: False, using: 0 TPU cores\n",
      "IPU available: False, using: 0 IPUs\n",
      "LOCAL_RANK: 0 - CUDA_VISIBLE_DEVICES: [0,1,2,3,4,5,6,7]\n"
     ]
    },
    {
     "data": {
      "application/vnd.jupyter.widget-view+json": {
       "model_id": "c00900407d1745d682aac09c89b4a25c",
       "version_major": 2,
       "version_minor": 0
      },
      "text/plain": [
       "Predicting: 0it [00:00, ?it/s]"
      ]
     },
     "metadata": {},
     "output_type": "display_data"
    },
    {
     "name": "stderr",
     "output_type": "stream",
     "text": [
      "Global seed set to 2\n",
      "GPU available: True, used: True\n",
      "TPU available: False, using: 0 TPU cores\n",
      "IPU available: False, using: 0 IPUs\n",
      "LOCAL_RANK: 0 - CUDA_VISIBLE_DEVICES: [0,1,2,3,4,5,6,7]\n"
     ]
    },
    {
     "data": {
      "application/vnd.jupyter.widget-view+json": {
       "model_id": "dcec88b2eacb4dec8e8a663f53eb1d95",
       "version_major": 2,
       "version_minor": 0
      },
      "text/plain": [
       "Predicting: 0it [00:00, ?it/s]"
      ]
     },
     "metadata": {},
     "output_type": "display_data"
    },
    {
     "name": "stdout",
     "output_type": "stream",
     "text": [
      "layer_name: layer4.2.act3, 2\n"
     ]
    },
    {
     "name": "stderr",
     "output_type": "stream",
     "text": [
      "Global seed set to 1\n",
      "GPU available: True, used: True\n",
      "TPU available: False, using: 0 TPU cores\n",
      "IPU available: False, using: 0 IPUs\n",
      "LOCAL_RANK: 0 - CUDA_VISIBLE_DEVICES: [0,1,2,3,4,5,6,7]\n"
     ]
    },
    {
     "data": {
      "application/vnd.jupyter.widget-view+json": {
       "model_id": "a6a0cc6cf4204fa6a1cc416a1c2dd97c",
       "version_major": 2,
       "version_minor": 0
      },
      "text/plain": [
       "Predicting: 0it [00:00, ?it/s]"
      ]
     },
     "metadata": {},
     "output_type": "display_data"
    },
    {
     "name": "stderr",
     "output_type": "stream",
     "text": [
      "Global seed set to 2\n",
      "GPU available: True, used: True\n",
      "TPU available: False, using: 0 TPU cores\n",
      "IPU available: False, using: 0 IPUs\n",
      "LOCAL_RANK: 0 - CUDA_VISIBLE_DEVICES: [0,1,2,3,4,5,6,7]\n"
     ]
    },
    {
     "data": {
      "application/vnd.jupyter.widget-view+json": {
       "model_id": "2db26b29d4ac449284fbaed67a07f8f1",
       "version_major": 2,
       "version_minor": 0
      },
      "text/plain": [
       "Predicting: 0it [00:00, ?it/s]"
      ]
     },
     "metadata": {},
     "output_type": "display_data"
    },
    {
     "name": "stdout",
     "output_type": "stream",
     "text": [
      "layer_name: layer4.2.act3, 2\n"
     ]
    },
    {
     "name": "stderr",
     "output_type": "stream",
     "text": [
      "Global seed set to 2\n",
      "GPU available: True, used: True\n",
      "TPU available: False, using: 0 TPU cores\n",
      "IPU available: False, using: 0 IPUs\n",
      "LOCAL_RANK: 0 - CUDA_VISIBLE_DEVICES: [0,1,2,3,4,5,6,7]\n"
     ]
    },
    {
     "data": {
      "application/vnd.jupyter.widget-view+json": {
       "model_id": "0d077b6a00fb4466ba8223301cb6cf67",
       "version_major": 2,
       "version_minor": 0
      },
      "text/plain": [
       "Predicting: 0it [00:00, ?it/s]"
      ]
     },
     "metadata": {},
     "output_type": "display_data"
    },
    {
     "name": "stderr",
     "output_type": "stream",
     "text": [
      "Global seed set to 1\n",
      "GPU available: True, used: True\n",
      "TPU available: False, using: 0 TPU cores\n",
      "IPU available: False, using: 0 IPUs\n",
      "LOCAL_RANK: 0 - CUDA_VISIBLE_DEVICES: [0,1,2,3,4,5,6,7]\n"
     ]
    },
    {
     "data": {
      "application/vnd.jupyter.widget-view+json": {
       "model_id": "bedf5deffb77405eb740f901c5c704b9",
       "version_major": 2,
       "version_minor": 0
      },
      "text/plain": [
       "Predicting: 0it [00:00, ?it/s]"
      ]
     },
     "metadata": {},
     "output_type": "display_data"
    },
    {
     "name": "stdout",
     "output_type": "stream",
     "text": [
      "layer_name: layer4.2.act3, 2\n"
     ]
    },
    {
     "name": "stderr",
     "output_type": "stream",
     "text": [
      "Global seed set to 1\n",
      "GPU available: True, used: True\n",
      "TPU available: False, using: 0 TPU cores\n",
      "IPU available: False, using: 0 IPUs\n",
      "LOCAL_RANK: 0 - CUDA_VISIBLE_DEVICES: [0,1,2,3,4,5,6,7]\n"
     ]
    },
    {
     "data": {
      "application/vnd.jupyter.widget-view+json": {
       "model_id": "8eb4ed4d07a2432da3e4f0577ad0e695",
       "version_major": 2,
       "version_minor": 0
      },
      "text/plain": [
       "Predicting: 0it [00:00, ?it/s]"
      ]
     },
     "metadata": {},
     "output_type": "display_data"
    },
    {
     "name": "stderr",
     "output_type": "stream",
     "text": [
      "Global seed set to 2\n",
      "GPU available: True, used: True\n",
      "TPU available: False, using: 0 TPU cores\n",
      "IPU available: False, using: 0 IPUs\n",
      "LOCAL_RANK: 0 - CUDA_VISIBLE_DEVICES: [0,1,2,3,4,5,6,7]\n"
     ]
    },
    {
     "data": {
      "application/vnd.jupyter.widget-view+json": {
       "model_id": "71c339bb0398478ab6904693075f4e83",
       "version_major": 2,
       "version_minor": 0
      },
      "text/plain": [
       "Predicting: 0it [00:00, ?it/s]"
      ]
     },
     "metadata": {},
     "output_type": "display_data"
    },
    {
     "name": "stdout",
     "output_type": "stream",
     "text": [
      "layer_name: layer4.2.act3, 2\n"
     ]
    },
    {
     "name": "stderr",
     "output_type": "stream",
     "text": [
      "Global seed set to 2\n",
      "GPU available: True, used: True\n",
      "TPU available: False, using: 0 TPU cores\n",
      "IPU available: False, using: 0 IPUs\n",
      "LOCAL_RANK: 0 - CUDA_VISIBLE_DEVICES: [0,1,2,3,4,5,6,7]\n"
     ]
    },
    {
     "data": {
      "application/vnd.jupyter.widget-view+json": {
       "model_id": "3b4b94aefe324ac1b383f891a60f03e6",
       "version_major": 2,
       "version_minor": 0
      },
      "text/plain": [
       "Predicting: 0it [00:00, ?it/s]"
      ]
     },
     "metadata": {},
     "output_type": "display_data"
    },
    {
     "name": "stderr",
     "output_type": "stream",
     "text": [
      "Global seed set to 1\n",
      "GPU available: True, used: True\n",
      "TPU available: False, using: 0 TPU cores\n",
      "IPU available: False, using: 0 IPUs\n",
      "LOCAL_RANK: 0 - CUDA_VISIBLE_DEVICES: [0,1,2,3,4,5,6,7]\n"
     ]
    },
    {
     "data": {
      "application/vnd.jupyter.widget-view+json": {
       "model_id": "887f7008bf34420badfeeba03c53a13e",
       "version_major": 2,
       "version_minor": 0
      },
      "text/plain": [
       "Predicting: 0it [00:00, ?it/s]"
      ]
     },
     "metadata": {},
     "output_type": "display_data"
    },
    {
     "name": "stdout",
     "output_type": "stream",
     "text": [
      "layer_name: layer4.2.act3, 1\n"
     ]
    },
    {
     "name": "stderr",
     "output_type": "stream",
     "text": [
      "Global seed set to 2\n",
      "GPU available: True, used: True\n",
      "TPU available: False, using: 0 TPU cores\n",
      "IPU available: False, using: 0 IPUs\n",
      "LOCAL_RANK: 0 - CUDA_VISIBLE_DEVICES: [0,1,2,3,4,5,6,7]\n"
     ]
    },
    {
     "data": {
      "application/vnd.jupyter.widget-view+json": {
       "model_id": "ba14027933244273a9e4ba388132d18f",
       "version_major": 2,
       "version_minor": 0
      },
      "text/plain": [
       "Predicting: 0it [00:00, ?it/s]"
      ]
     },
     "metadata": {},
     "output_type": "display_data"
    },
    {
     "name": "stderr",
     "output_type": "stream",
     "text": [
      "Global seed set to 2\n"
     ]
    },
    {
     "name": "stdout",
     "output_type": "stream",
     "text": [
      "['layer1.0.act3', 'layer1.1.act3', 'layer1.2.act3', 'layer2.0.act3', 'layer2.1.act3', 'layer2.2.act3', 'layer2.3.act3', 'layer3.0.act3', 'layer3.1.act3', 'layer3.2.act3', 'layer3.3.act3', 'layer3.4.act3', 'layer3.5.act3', 'layer4.0.act3', 'layer4.1.act3', 'layer4.2.act3', 'global_pool.pool']\n",
      "layer_name: layer1.0.act3, 5\n",
      "Loaded cached for /NS/robustness_2/work/vnanda/invariances_in_reps/partially_inverted_reps/checkpoints/resnet50-base-imagenet-ft-oxford-iiit-pets/frac-0.00050-mode-random-seed-1-ftmode-linear-lr-0.1-bs-256-nonrob/epoch=40-layer1.0.act3-topk=1.ckpt\n",
      "Loaded cached for /NS/robustness_2/work/vnanda/invariances_in_reps/partially_inverted_reps/checkpoints/resnet50-base-imagenet-ft-oxford-iiit-pets/frac-0.00050-mode-random-seed-5-ftmode-linear-lr-0.1-bs-256-nonrob/epoch=33-layer1.0.act3-topk=1.ckpt\n",
      "layer_name: layer1.0.act3, 5\n",
      "Loaded cached for /NS/robustness_2/work/vnanda/invariances_in_reps/partially_inverted_reps/checkpoints/resnet50-base-imagenet-ft-oxford-iiit-pets/frac-0.00500-mode-random-seed-3-ftmode-linear-lr-0.1-bs-256-nonrob/epoch=34-layer1.0.act3-topk=1.ckpt\n",
      "Loaded cached for /NS/robustness_2/work/vnanda/invariances_in_reps/partially_inverted_reps/checkpoints/resnet50-base-imagenet-ft-oxford-iiit-pets/frac-0.00500-mode-random-seed-4-ftmode-linear-lr-0.1-bs-256-nonrob/epoch=43-layer1.0.act3-topk=1.ckpt\n",
      "layer_name: layer1.0.act3, 5\n",
      "Loaded cached for /NS/robustness_2/work/vnanda/invariances_in_reps/partially_inverted_reps/checkpoints/resnet50-base-imagenet-ft-oxford-iiit-pets/frac-0.05000-mode-random-seed-1-ftmode-linear-lr-0.1-bs-256-nonrob/epoch=36-layer1.0.act3-topk=1.ckpt\n",
      "Loaded cached for /NS/robustness_2/work/vnanda/invariances_in_reps/partially_inverted_reps/checkpoints/resnet50-base-imagenet-ft-oxford-iiit-pets/frac-0.05000-mode-random-seed-2-ftmode-linear-lr-0.1-bs-256-nonrob/epoch=45-layer1.0.act3-topk=1.ckpt\n",
      "layer_name: layer1.0.act3, 5\n",
      "Loaded cached for /NS/robustness_2/work/vnanda/invariances_in_reps/partially_inverted_reps/checkpoints/resnet50-base-imagenet-ft-oxford-iiit-pets/frac-0.10000-mode-random-seed-4-ftmode-linear-lr-0.1-bs-256-nonrob/epoch=43-layer1.0.act3-topk=1.ckpt\n",
      "Loaded cached for /NS/robustness_2/work/vnanda/invariances_in_reps/partially_inverted_reps/checkpoints/resnet50-base-imagenet-ft-oxford-iiit-pets/frac-0.10000-mode-random-seed-3-ftmode-linear-lr-0.1-bs-256-nonrob/epoch=34-layer1.0.act3-topk=1.ckpt\n",
      "layer_name: layer1.0.act3, 5\n",
      "Loaded cached for /NS/robustness_2/work/vnanda/invariances_in_reps/partially_inverted_reps/checkpoints/resnet50-base-imagenet-ft-oxford-iiit-pets/frac-0.20000-mode-random-seed-2-ftmode-linear-lr-0.1-bs-256-nonrob/epoch=45-layer1.0.act3-topk=1.ckpt\n",
      "Loaded cached for /NS/robustness_2/work/vnanda/invariances_in_reps/partially_inverted_reps/checkpoints/resnet50-base-imagenet-ft-oxford-iiit-pets/frac-0.20000-mode-random-seed-5-ftmode-linear-lr-0.1-bs-256-nonrob/epoch=47-layer1.0.act3-topk=1.ckpt\n",
      "layer_name: layer1.0.act3, 5\n",
      "Loaded cached for /NS/robustness_2/work/vnanda/invariances_in_reps/partially_inverted_reps/checkpoints/resnet50-base-imagenet-ft-oxford-iiit-pets/frac-0.40000-mode-random-seed-4-ftmode-linear-lr-0.1-bs-256-nonrob/epoch=35-layer1.0.act3-topk=1.ckpt\n",
      "Loaded cached for /NS/robustness_2/work/vnanda/invariances_in_reps/partially_inverted_reps/checkpoints/resnet50-base-imagenet-ft-oxford-iiit-pets/frac-0.40000-mode-random-seed-3-ftmode-linear-lr-0.1-bs-256-nonrob/epoch=34-layer1.0.act3-topk=1.ckpt\n",
      "layer_name: layer1.0.act3, 5\n",
      "Loaded cached for /NS/robustness_2/work/vnanda/invariances_in_reps/partially_inverted_reps/checkpoints/resnet50-base-imagenet-ft-oxford-iiit-pets/frac-0.50000-mode-random-seed-1-ftmode-linear-lr-0.1-bs-256-nonrob/epoch=37-layer1.0.act3-topk=1.ckpt\n",
      "Loaded cached for /NS/robustness_2/work/vnanda/invariances_in_reps/partially_inverted_reps/checkpoints/resnet50-base-imagenet-ft-oxford-iiit-pets/frac-0.50000-mode-random-seed-5-ftmode-linear-lr-0.1-bs-256-nonrob/epoch=43-layer1.0.act3-topk=1.ckpt\n",
      "layer_name: layer1.0.act3, 5\n",
      "Loaded cached for /NS/robustness_2/work/vnanda/invariances_in_reps/partially_inverted_reps/checkpoints/resnet50-base-imagenet-ft-oxford-iiit-pets/frac-0.80000-mode-random-seed-2-ftmode-linear-lr-0.1-bs-256-nonrob/epoch=32-layer1.0.act3-topk=1.ckpt\n",
      "Loaded cached for /NS/robustness_2/work/vnanda/invariances_in_reps/partially_inverted_reps/checkpoints/resnet50-base-imagenet-ft-oxford-iiit-pets/frac-0.80000-mode-random-seed-5-ftmode-linear-lr-0.1-bs-256-nonrob/epoch=49-layer1.0.act3-topk=1.ckpt\n",
      "layer_name: layer1.0.act3, 5\n",
      "Loaded cached for /NS/robustness_2/work/vnanda/invariances_in_reps/partially_inverted_reps/checkpoints/resnet50-base-imagenet-ft-oxford-iiit-pets/frac-0.90000-mode-random-seed-3-ftmode-linear-lr-0.1-bs-256-nonrob/epoch=29-layer1.0.act3-topk=1.ckpt\n",
      "Loaded cached for /NS/robustness_2/work/vnanda/invariances_in_reps/partially_inverted_reps/checkpoints/resnet50-base-imagenet-ft-oxford-iiit-pets/frac-0.90000-mode-random-seed-4-ftmode-linear-lr-0.1-bs-256-nonrob/epoch=41-layer1.0.act3-topk=1.ckpt\n",
      "layer_name: layer1.0.act3, 1\n",
      "Loaded cached for /NS/robustness_2/work/vnanda/invariances_in_reps/partially_inverted_reps/checkpoints/resnet50-base-imagenet-ft-oxford-iiit-pets/frac-1.00000-mode-random-seed-2-ftmode-linear-lr-0.1-bs-256-nonrob/epoch=45-layer1.0.act3-topk=1.ckpt\n",
      "layer_name: layer2.2.act3, 3\n"
     ]
    },
    {
     "name": "stderr",
     "output_type": "stream",
     "text": [
      "Global seed set to 1\n",
      "GPU available: True, used: True\n",
      "TPU available: False, using: 0 TPU cores\n",
      "IPU available: False, using: 0 IPUs\n",
      "Global seed set to 0\n",
      "LOCAL_RANK: 0 - CUDA_VISIBLE_DEVICES: [0,1,2,3,4,5,6,7]\n"
     ]
    },
    {
     "data": {
      "application/vnd.jupyter.widget-view+json": {
       "model_id": "4ff735148bf84126bfab85295746088f",
       "version_major": 2,
       "version_minor": 0
      },
      "text/plain": [
       "Predicting: 0it [00:00, ?it/s]"
      ]
     },
     "metadata": {},
     "output_type": "display_data"
    },
    {
     "name": "stderr",
     "output_type": "stream",
     "text": [
      "Global seed set to 2\n",
      "GPU available: True, used: True\n",
      "TPU available: False, using: 0 TPU cores\n",
      "IPU available: False, using: 0 IPUs\n",
      "LOCAL_RANK: 0 - CUDA_VISIBLE_DEVICES: [0,1,2,3,4,5,6,7]\n"
     ]
    },
    {
     "data": {
      "application/vnd.jupyter.widget-view+json": {
       "model_id": "6ffddf4eb69e4c83a02bce634a042f93",
       "version_major": 2,
       "version_minor": 0
      },
      "text/plain": [
       "Predicting: 0it [00:00, ?it/s]"
      ]
     },
     "metadata": {},
     "output_type": "display_data"
    },
    {
     "name": "stdout",
     "output_type": "stream",
     "text": [
      "layer_name: layer2.2.act3, 3\n"
     ]
    },
    {
     "name": "stderr",
     "output_type": "stream",
     "text": [
      "Global seed set to 3\n",
      "GPU available: True, used: True\n",
      "TPU available: False, using: 0 TPU cores\n",
      "IPU available: False, using: 0 IPUs\n",
      "LOCAL_RANK: 0 - CUDA_VISIBLE_DEVICES: [0,1,2,3,4,5,6,7]\n"
     ]
    },
    {
     "data": {
      "application/vnd.jupyter.widget-view+json": {
       "model_id": "0edcf46de0d341b1bf6ffaf29eb1295f",
       "version_major": 2,
       "version_minor": 0
      },
      "text/plain": [
       "Predicting: 0it [00:00, ?it/s]"
      ]
     },
     "metadata": {},
     "output_type": "display_data"
    },
    {
     "name": "stderr",
     "output_type": "stream",
     "text": [
      "Global seed set to 1\n",
      "GPU available: True, used: True\n",
      "TPU available: False, using: 0 TPU cores\n",
      "IPU available: False, using: 0 IPUs\n",
      "LOCAL_RANK: 0 - CUDA_VISIBLE_DEVICES: [0,1,2,3,4,5,6,7]\n"
     ]
    },
    {
     "data": {
      "application/vnd.jupyter.widget-view+json": {
       "model_id": "6eb1d7842ce249bd83b4ca11bd5565df",
       "version_major": 2,
       "version_minor": 0
      },
      "text/plain": [
       "Predicting: 0it [00:00, ?it/s]"
      ]
     },
     "metadata": {},
     "output_type": "display_data"
    },
    {
     "name": "stdout",
     "output_type": "stream",
     "text": [
      "layer_name: layer2.2.act3, 3\n"
     ]
    },
    {
     "name": "stderr",
     "output_type": "stream",
     "text": [
      "Global seed set to 1\n",
      "GPU available: True, used: True\n",
      "TPU available: False, using: 0 TPU cores\n",
      "IPU available: False, using: 0 IPUs\n",
      "LOCAL_RANK: 0 - CUDA_VISIBLE_DEVICES: [0,1,2,3,4,5,6,7]\n"
     ]
    },
    {
     "data": {
      "application/vnd.jupyter.widget-view+json": {
       "model_id": "d2681503bf1846f29b93b4883e8e04ff",
       "version_major": 2,
       "version_minor": 0
      },
      "text/plain": [
       "Predicting: 0it [00:00, ?it/s]"
      ]
     },
     "metadata": {},
     "output_type": "display_data"
    },
    {
     "name": "stderr",
     "output_type": "stream",
     "text": [
      "Global seed set to 2\n",
      "GPU available: True, used: True\n",
      "TPU available: False, using: 0 TPU cores\n",
      "IPU available: False, using: 0 IPUs\n",
      "LOCAL_RANK: 0 - CUDA_VISIBLE_DEVICES: [0,1,2,3,4,5,6,7]\n"
     ]
    },
    {
     "data": {
      "application/vnd.jupyter.widget-view+json": {
       "model_id": "c731f2ab4e6a4dbf8b42c8b24cb9d4bb",
       "version_major": 2,
       "version_minor": 0
      },
      "text/plain": [
       "Predicting: 0it [00:00, ?it/s]"
      ]
     },
     "metadata": {},
     "output_type": "display_data"
    },
    {
     "name": "stdout",
     "output_type": "stream",
     "text": [
      "layer_name: layer2.2.act3, 3\n"
     ]
    },
    {
     "name": "stderr",
     "output_type": "stream",
     "text": [
      "Global seed set to 3\n",
      "GPU available: True, used: True\n",
      "TPU available: False, using: 0 TPU cores\n",
      "IPU available: False, using: 0 IPUs\n",
      "LOCAL_RANK: 0 - CUDA_VISIBLE_DEVICES: [0,1,2,3,4,5,6,7]\n"
     ]
    },
    {
     "data": {
      "application/vnd.jupyter.widget-view+json": {
       "model_id": "171aed127b4e4cefb0d1405b6a3e910a",
       "version_major": 2,
       "version_minor": 0
      },
      "text/plain": [
       "Predicting: 0it [00:00, ?it/s]"
      ]
     },
     "metadata": {},
     "output_type": "display_data"
    },
    {
     "name": "stderr",
     "output_type": "stream",
     "text": [
      "Global seed set to 2\n",
      "GPU available: True, used: True\n",
      "TPU available: False, using: 0 TPU cores\n",
      "IPU available: False, using: 0 IPUs\n",
      "LOCAL_RANK: 0 - CUDA_VISIBLE_DEVICES: [0,1,2,3,4,5,6,7]\n"
     ]
    },
    {
     "data": {
      "application/vnd.jupyter.widget-view+json": {
       "model_id": "e925ce0e9a864dfba5bfbf77f6316fa7",
       "version_major": 2,
       "version_minor": 0
      },
      "text/plain": [
       "Predicting: 0it [00:00, ?it/s]"
      ]
     },
     "metadata": {},
     "output_type": "display_data"
    },
    {
     "name": "stdout",
     "output_type": "stream",
     "text": [
      "layer_name: layer2.2.act3, 3\n"
     ]
    },
    {
     "name": "stderr",
     "output_type": "stream",
     "text": [
      "Global seed set to 2\n",
      "GPU available: True, used: True\n",
      "TPU available: False, using: 0 TPU cores\n",
      "IPU available: False, using: 0 IPUs\n",
      "LOCAL_RANK: 0 - CUDA_VISIBLE_DEVICES: [0,1,2,3,4,5,6,7]\n"
     ]
    },
    {
     "data": {
      "application/vnd.jupyter.widget-view+json": {
       "model_id": "c55ee9c53c494c48a2f9087af752e920",
       "version_major": 2,
       "version_minor": 0
      },
      "text/plain": [
       "Predicting: 0it [00:00, ?it/s]"
      ]
     },
     "metadata": {},
     "output_type": "display_data"
    },
    {
     "name": "stderr",
     "output_type": "stream",
     "text": [
      "Global seed set to 1\n",
      "GPU available: True, used: True\n",
      "TPU available: False, using: 0 TPU cores\n",
      "IPU available: False, using: 0 IPUs\n",
      "LOCAL_RANK: 0 - CUDA_VISIBLE_DEVICES: [0,1,2,3,4,5,6,7]\n"
     ]
    },
    {
     "data": {
      "application/vnd.jupyter.widget-view+json": {
       "model_id": "1ba20887f97c4220a87ac6eb08f36d03",
       "version_major": 2,
       "version_minor": 0
      },
      "text/plain": [
       "Predicting: 0it [00:00, ?it/s]"
      ]
     },
     "metadata": {},
     "output_type": "display_data"
    },
    {
     "name": "stdout",
     "output_type": "stream",
     "text": [
      "layer_name: layer2.2.act3, 3\n"
     ]
    },
    {
     "name": "stderr",
     "output_type": "stream",
     "text": [
      "Global seed set to 3\n",
      "GPU available: True, used: True\n",
      "TPU available: False, using: 0 TPU cores\n",
      "IPU available: False, using: 0 IPUs\n",
      "LOCAL_RANK: 0 - CUDA_VISIBLE_DEVICES: [0,1,2,3,4,5,6,7]\n"
     ]
    },
    {
     "data": {
      "application/vnd.jupyter.widget-view+json": {
       "model_id": "f87eb35a940a4ce68dec33c46ac69e3a",
       "version_major": 2,
       "version_minor": 0
      },
      "text/plain": [
       "Predicting: 0it [00:00, ?it/s]"
      ]
     },
     "metadata": {},
     "output_type": "display_data"
    },
    {
     "name": "stderr",
     "output_type": "stream",
     "text": [
      "Global seed set to 2\n",
      "GPU available: True, used: True\n",
      "TPU available: False, using: 0 TPU cores\n",
      "IPU available: False, using: 0 IPUs\n",
      "LOCAL_RANK: 0 - CUDA_VISIBLE_DEVICES: [0,1,2,3,4,5,6,7]\n"
     ]
    },
    {
     "data": {
      "application/vnd.jupyter.widget-view+json": {
       "model_id": "ff5966d6a0c641a99dbf382e541e4e54",
       "version_major": 2,
       "version_minor": 0
      },
      "text/plain": [
       "Predicting: 0it [00:00, ?it/s]"
      ]
     },
     "metadata": {},
     "output_type": "display_data"
    },
    {
     "name": "stdout",
     "output_type": "stream",
     "text": [
      "layer_name: layer2.2.act3, 3\n"
     ]
    },
    {
     "name": "stderr",
     "output_type": "stream",
     "text": [
      "Global seed set to 1\n",
      "GPU available: True, used: True\n",
      "TPU available: False, using: 0 TPU cores\n",
      "IPU available: False, using: 0 IPUs\n",
      "LOCAL_RANK: 0 - CUDA_VISIBLE_DEVICES: [0,1,2,3,4,5,6,7]\n"
     ]
    },
    {
     "data": {
      "application/vnd.jupyter.widget-view+json": {
       "model_id": "c81eca0923834cfbb5546e4c4d9d8669",
       "version_major": 2,
       "version_minor": 0
      },
      "text/plain": [
       "Predicting: 0it [00:00, ?it/s]"
      ]
     },
     "metadata": {},
     "output_type": "display_data"
    },
    {
     "name": "stderr",
     "output_type": "stream",
     "text": [
      "Global seed set to 2\n",
      "GPU available: True, used: True\n",
      "TPU available: False, using: 0 TPU cores\n",
      "IPU available: False, using: 0 IPUs\n",
      "LOCAL_RANK: 0 - CUDA_VISIBLE_DEVICES: [0,1,2,3,4,5,6,7]\n"
     ]
    },
    {
     "data": {
      "application/vnd.jupyter.widget-view+json": {
       "model_id": "a0999c9a696f403eb7b574fbb6dfd981",
       "version_major": 2,
       "version_minor": 0
      },
      "text/plain": [
       "Predicting: 0it [00:00, ?it/s]"
      ]
     },
     "metadata": {},
     "output_type": "display_data"
    },
    {
     "name": "stdout",
     "output_type": "stream",
     "text": [
      "layer_name: layer2.2.act3, 3\n"
     ]
    },
    {
     "name": "stderr",
     "output_type": "stream",
     "text": [
      "Global seed set to 2\n",
      "GPU available: True, used: True\n",
      "TPU available: False, using: 0 TPU cores\n",
      "IPU available: False, using: 0 IPUs\n",
      "LOCAL_RANK: 0 - CUDA_VISIBLE_DEVICES: [0,1,2,3,4,5,6,7]\n"
     ]
    },
    {
     "data": {
      "application/vnd.jupyter.widget-view+json": {
       "model_id": "09c83804d4a0480490f13e3fb016288d",
       "version_major": 2,
       "version_minor": 0
      },
      "text/plain": [
       "Predicting: 0it [00:00, ?it/s]"
      ]
     },
     "metadata": {},
     "output_type": "display_data"
    },
    {
     "name": "stderr",
     "output_type": "stream",
     "text": [
      "Global seed set to 1\n",
      "GPU available: True, used: True\n",
      "TPU available: False, using: 0 TPU cores\n",
      "IPU available: False, using: 0 IPUs\n",
      "LOCAL_RANK: 0 - CUDA_VISIBLE_DEVICES: [0,1,2,3,4,5,6,7]\n"
     ]
    },
    {
     "data": {
      "application/vnd.jupyter.widget-view+json": {
       "model_id": "9b6b646973134e20b38110fb12c42e33",
       "version_major": 2,
       "version_minor": 0
      },
      "text/plain": [
       "Predicting: 0it [00:00, ?it/s]"
      ]
     },
     "metadata": {},
     "output_type": "display_data"
    },
    {
     "name": "stdout",
     "output_type": "stream",
     "text": [
      "layer_name: layer2.2.act3, 3\n"
     ]
    },
    {
     "name": "stderr",
     "output_type": "stream",
     "text": [
      "Global seed set to 3\n",
      "GPU available: True, used: True\n",
      "TPU available: False, using: 0 TPU cores\n",
      "IPU available: False, using: 0 IPUs\n",
      "LOCAL_RANK: 0 - CUDA_VISIBLE_DEVICES: [0,1,2,3,4,5,6,7]\n"
     ]
    },
    {
     "data": {
      "application/vnd.jupyter.widget-view+json": {
       "model_id": "fcfb42ee3b1743e3859da550927abc4a",
       "version_major": 2,
       "version_minor": 0
      },
      "text/plain": [
       "Predicting: 0it [00:00, ?it/s]"
      ]
     },
     "metadata": {},
     "output_type": "display_data"
    },
    {
     "name": "stderr",
     "output_type": "stream",
     "text": [
      "Global seed set to 1\n",
      "GPU available: True, used: True\n",
      "TPU available: False, using: 0 TPU cores\n",
      "IPU available: False, using: 0 IPUs\n",
      "LOCAL_RANK: 0 - CUDA_VISIBLE_DEVICES: [0,1,2,3,4,5,6,7]\n"
     ]
    },
    {
     "data": {
      "application/vnd.jupyter.widget-view+json": {
       "model_id": "b05c80885c7f4448b0d473e1cfd03223",
       "version_major": 2,
       "version_minor": 0
      },
      "text/plain": [
       "Predicting: 0it [00:00, ?it/s]"
      ]
     },
     "metadata": {},
     "output_type": "display_data"
    },
    {
     "name": "stdout",
     "output_type": "stream",
     "text": [
      "layer_name: layer2.2.act3, 1\n"
     ]
    },
    {
     "name": "stderr",
     "output_type": "stream",
     "text": [
      "Global seed set to 2\n",
      "GPU available: True, used: True\n",
      "TPU available: False, using: 0 TPU cores\n",
      "IPU available: False, using: 0 IPUs\n",
      "LOCAL_RANK: 0 - CUDA_VISIBLE_DEVICES: [0,1,2,3,4,5,6,7]\n"
     ]
    },
    {
     "data": {
      "application/vnd.jupyter.widget-view+json": {
       "model_id": "864f7fbc7a1e4f8595e5bae00b305e5e",
       "version_major": 2,
       "version_minor": 0
      },
      "text/plain": [
       "Predicting: 0it [00:00, ?it/s]"
      ]
     },
     "metadata": {},
     "output_type": "display_data"
    },
    {
     "name": "stdout",
     "output_type": "stream",
     "text": [
      "layer_name: layer3.3.act3, 2\n"
     ]
    },
    {
     "name": "stderr",
     "output_type": "stream",
     "text": [
      "Global seed set to 1\n",
      "GPU available: True, used: True\n",
      "TPU available: False, using: 0 TPU cores\n",
      "IPU available: False, using: 0 IPUs\n",
      "LOCAL_RANK: 0 - CUDA_VISIBLE_DEVICES: [0,1,2,3,4,5,6,7]\n"
     ]
    },
    {
     "data": {
      "application/vnd.jupyter.widget-view+json": {
       "model_id": "b70c7ba1c42e425882971aa5b269dc73",
       "version_major": 2,
       "version_minor": 0
      },
      "text/plain": [
       "Predicting: 0it [00:00, ?it/s]"
      ]
     },
     "metadata": {},
     "output_type": "display_data"
    },
    {
     "name": "stderr",
     "output_type": "stream",
     "text": [
      "Global seed set to 2\n",
      "GPU available: True, used: True\n",
      "TPU available: False, using: 0 TPU cores\n",
      "IPU available: False, using: 0 IPUs\n",
      "LOCAL_RANK: 0 - CUDA_VISIBLE_DEVICES: [0,1,2,3,4,5,6,7]\n"
     ]
    },
    {
     "data": {
      "application/vnd.jupyter.widget-view+json": {
       "model_id": "c9107234ba0742a29b7b15e5c13eaed5",
       "version_major": 2,
       "version_minor": 0
      },
      "text/plain": [
       "Predicting: 0it [00:00, ?it/s]"
      ]
     },
     "metadata": {},
     "output_type": "display_data"
    },
    {
     "name": "stdout",
     "output_type": "stream",
     "text": [
      "layer_name: layer3.3.act3, 2\n"
     ]
    },
    {
     "name": "stderr",
     "output_type": "stream",
     "text": [
      "Global seed set to 1\n",
      "GPU available: True, used: True\n",
      "TPU available: False, using: 0 TPU cores\n",
      "IPU available: False, using: 0 IPUs\n",
      "LOCAL_RANK: 0 - CUDA_VISIBLE_DEVICES: [0,1,2,3,4,5,6,7]\n"
     ]
    },
    {
     "data": {
      "application/vnd.jupyter.widget-view+json": {
       "model_id": "f57761e23fa54e5bbd3cf38f8ac63c15",
       "version_major": 2,
       "version_minor": 0
      },
      "text/plain": [
       "Predicting: 0it [00:00, ?it/s]"
      ]
     },
     "metadata": {},
     "output_type": "display_data"
    },
    {
     "name": "stderr",
     "output_type": "stream",
     "text": [
      "Global seed set to 2\n",
      "GPU available: True, used: True\n",
      "TPU available: False, using: 0 TPU cores\n",
      "IPU available: False, using: 0 IPUs\n",
      "LOCAL_RANK: 0 - CUDA_VISIBLE_DEVICES: [0,1,2,3,4,5,6,7]\n"
     ]
    },
    {
     "data": {
      "application/vnd.jupyter.widget-view+json": {
       "model_id": "73f6f2f041724f6d9e7f34c92b09cb70",
       "version_major": 2,
       "version_minor": 0
      },
      "text/plain": [
       "Predicting: 0it [00:00, ?it/s]"
      ]
     },
     "metadata": {},
     "output_type": "display_data"
    },
    {
     "name": "stdout",
     "output_type": "stream",
     "text": [
      "layer_name: layer3.3.act3, 2\n"
     ]
    },
    {
     "name": "stderr",
     "output_type": "stream",
     "text": [
      "Global seed set to 1\n",
      "GPU available: True, used: True\n",
      "TPU available: False, using: 0 TPU cores\n",
      "IPU available: False, using: 0 IPUs\n",
      "LOCAL_RANK: 0 - CUDA_VISIBLE_DEVICES: [0,1,2,3,4,5,6,7]\n"
     ]
    },
    {
     "data": {
      "application/vnd.jupyter.widget-view+json": {
       "model_id": "321435713f8647f18930fdd8795eb585",
       "version_major": 2,
       "version_minor": 0
      },
      "text/plain": [
       "Predicting: 0it [00:00, ?it/s]"
      ]
     },
     "metadata": {},
     "output_type": "display_data"
    },
    {
     "name": "stderr",
     "output_type": "stream",
     "text": [
      "Global seed set to 2\n",
      "GPU available: True, used: True\n",
      "TPU available: False, using: 0 TPU cores\n",
      "IPU available: False, using: 0 IPUs\n",
      "LOCAL_RANK: 0 - CUDA_VISIBLE_DEVICES: [0,1,2,3,4,5,6,7]\n"
     ]
    },
    {
     "data": {
      "application/vnd.jupyter.widget-view+json": {
       "model_id": "754fea48b17949069f1b079b5d527e4e",
       "version_major": 2,
       "version_minor": 0
      },
      "text/plain": [
       "Predicting: 0it [00:00, ?it/s]"
      ]
     },
     "metadata": {},
     "output_type": "display_data"
    },
    {
     "name": "stdout",
     "output_type": "stream",
     "text": [
      "layer_name: layer3.3.act3, 2\n"
     ]
    },
    {
     "name": "stderr",
     "output_type": "stream",
     "text": [
      "Global seed set to 2\n",
      "GPU available: True, used: True\n",
      "TPU available: False, using: 0 TPU cores\n",
      "IPU available: False, using: 0 IPUs\n",
      "LOCAL_RANK: 0 - CUDA_VISIBLE_DEVICES: [0,1,2,3,4,5,6,7]\n"
     ]
    },
    {
     "data": {
      "application/vnd.jupyter.widget-view+json": {
       "model_id": "59b484b10f6e4adca755732c94770b92",
       "version_major": 2,
       "version_minor": 0
      },
      "text/plain": [
       "Predicting: 0it [00:00, ?it/s]"
      ]
     },
     "metadata": {},
     "output_type": "display_data"
    },
    {
     "name": "stderr",
     "output_type": "stream",
     "text": [
      "Global seed set to 1\n",
      "GPU available: True, used: True\n",
      "TPU available: False, using: 0 TPU cores\n",
      "IPU available: False, using: 0 IPUs\n",
      "LOCAL_RANK: 0 - CUDA_VISIBLE_DEVICES: [0,1,2,3,4,5,6,7]\n"
     ]
    },
    {
     "data": {
      "application/vnd.jupyter.widget-view+json": {
       "model_id": "e5755d6ac0f04d1d841376934f20d9f5",
       "version_major": 2,
       "version_minor": 0
      },
      "text/plain": [
       "Predicting: 0it [00:00, ?it/s]"
      ]
     },
     "metadata": {},
     "output_type": "display_data"
    },
    {
     "name": "stdout",
     "output_type": "stream",
     "text": [
      "layer_name: layer3.3.act3, 2\n"
     ]
    },
    {
     "name": "stderr",
     "output_type": "stream",
     "text": [
      "Global seed set to 2\n",
      "GPU available: True, used: True\n",
      "TPU available: False, using: 0 TPU cores\n",
      "IPU available: False, using: 0 IPUs\n",
      "LOCAL_RANK: 0 - CUDA_VISIBLE_DEVICES: [0,1,2,3,4,5,6,7]\n"
     ]
    },
    {
     "data": {
      "application/vnd.jupyter.widget-view+json": {
       "model_id": "4d88419a0be14d278bac9888447371f1",
       "version_major": 2,
       "version_minor": 0
      },
      "text/plain": [
       "Predicting: 0it [00:00, ?it/s]"
      ]
     },
     "metadata": {},
     "output_type": "display_data"
    },
    {
     "name": "stderr",
     "output_type": "stream",
     "text": [
      "Global seed set to 1\n",
      "GPU available: True, used: True\n",
      "TPU available: False, using: 0 TPU cores\n",
      "IPU available: False, using: 0 IPUs\n",
      "LOCAL_RANK: 0 - CUDA_VISIBLE_DEVICES: [0,1,2,3,4,5,6,7]\n"
     ]
    },
    {
     "data": {
      "application/vnd.jupyter.widget-view+json": {
       "model_id": "69be15bf476f4ce390540bdd50d9f8b5",
       "version_major": 2,
       "version_minor": 0
      },
      "text/plain": [
       "Predicting: 0it [00:00, ?it/s]"
      ]
     },
     "metadata": {},
     "output_type": "display_data"
    },
    {
     "name": "stdout",
     "output_type": "stream",
     "text": [
      "layer_name: layer3.3.act3, 2\n"
     ]
    },
    {
     "name": "stderr",
     "output_type": "stream",
     "text": [
      "Global seed set to 2\n",
      "GPU available: True, used: True\n",
      "TPU available: False, using: 0 TPU cores\n",
      "IPU available: False, using: 0 IPUs\n",
      "LOCAL_RANK: 0 - CUDA_VISIBLE_DEVICES: [0,1,2,3,4,5,6,7]\n"
     ]
    },
    {
     "data": {
      "application/vnd.jupyter.widget-view+json": {
       "model_id": "bf6f4a01ac574385bcbf024d83e04724",
       "version_major": 2,
       "version_minor": 0
      },
      "text/plain": [
       "Predicting: 0it [00:00, ?it/s]"
      ]
     },
     "metadata": {},
     "output_type": "display_data"
    },
    {
     "name": "stderr",
     "output_type": "stream",
     "text": [
      "Global seed set to 1\n",
      "GPU available: True, used: True\n",
      "TPU available: False, using: 0 TPU cores\n",
      "IPU available: False, using: 0 IPUs\n",
      "LOCAL_RANK: 0 - CUDA_VISIBLE_DEVICES: [0,1,2,3,4,5,6,7]\n"
     ]
    },
    {
     "data": {
      "application/vnd.jupyter.widget-view+json": {
       "model_id": "b1abd34e73084ad08618fcfd62a7021d",
       "version_major": 2,
       "version_minor": 0
      },
      "text/plain": [
       "Predicting: 0it [00:00, ?it/s]"
      ]
     },
     "metadata": {},
     "output_type": "display_data"
    },
    {
     "name": "stdout",
     "output_type": "stream",
     "text": [
      "layer_name: layer3.3.act3, 2\n"
     ]
    },
    {
     "name": "stderr",
     "output_type": "stream",
     "text": [
      "Global seed set to 1\n",
      "GPU available: True, used: True\n",
      "TPU available: False, using: 0 TPU cores\n",
      "IPU available: False, using: 0 IPUs\n",
      "LOCAL_RANK: 0 - CUDA_VISIBLE_DEVICES: [0,1,2,3,4,5,6,7]\n"
     ]
    },
    {
     "data": {
      "application/vnd.jupyter.widget-view+json": {
       "model_id": "04f8c48861054b6990b8cf90fe3388fc",
       "version_major": 2,
       "version_minor": 0
      },
      "text/plain": [
       "Predicting: 0it [00:00, ?it/s]"
      ]
     },
     "metadata": {},
     "output_type": "display_data"
    },
    {
     "name": "stderr",
     "output_type": "stream",
     "text": [
      "Global seed set to 2\n",
      "GPU available: True, used: True\n",
      "TPU available: False, using: 0 TPU cores\n",
      "IPU available: False, using: 0 IPUs\n",
      "LOCAL_RANK: 0 - CUDA_VISIBLE_DEVICES: [0,1,2,3,4,5,6,7]\n"
     ]
    },
    {
     "data": {
      "application/vnd.jupyter.widget-view+json": {
       "model_id": "1044a4c46197424ebe7356877c2a7cab",
       "version_major": 2,
       "version_minor": 0
      },
      "text/plain": [
       "Predicting: 0it [00:00, ?it/s]"
      ]
     },
     "metadata": {},
     "output_type": "display_data"
    },
    {
     "name": "stdout",
     "output_type": "stream",
     "text": [
      "layer_name: layer3.3.act3, 2\n"
     ]
    },
    {
     "name": "stderr",
     "output_type": "stream",
     "text": [
      "Global seed set to 2\n",
      "GPU available: True, used: True\n",
      "TPU available: False, using: 0 TPU cores\n",
      "IPU available: False, using: 0 IPUs\n",
      "LOCAL_RANK: 0 - CUDA_VISIBLE_DEVICES: [0,1,2,3,4,5,6,7]\n"
     ]
    },
    {
     "data": {
      "application/vnd.jupyter.widget-view+json": {
       "model_id": "4c85bd635db24f3ebecfeb5360fbbb32",
       "version_major": 2,
       "version_minor": 0
      },
      "text/plain": [
       "Predicting: 0it [00:00, ?it/s]"
      ]
     },
     "metadata": {},
     "output_type": "display_data"
    },
    {
     "name": "stderr",
     "output_type": "stream",
     "text": [
      "Global seed set to 1\n",
      "GPU available: True, used: True\n",
      "TPU available: False, using: 0 TPU cores\n",
      "IPU available: False, using: 0 IPUs\n",
      "LOCAL_RANK: 0 - CUDA_VISIBLE_DEVICES: [0,1,2,3,4,5,6,7]\n"
     ]
    },
    {
     "data": {
      "application/vnd.jupyter.widget-view+json": {
       "model_id": "f59e65bc0c1748b9be5b6e8fdc85273d",
       "version_major": 2,
       "version_minor": 0
      },
      "text/plain": [
       "Predicting: 0it [00:00, ?it/s]"
      ]
     },
     "metadata": {},
     "output_type": "display_data"
    },
    {
     "name": "stdout",
     "output_type": "stream",
     "text": [
      "layer_name: layer3.3.act3, 2\n"
     ]
    },
    {
     "name": "stderr",
     "output_type": "stream",
     "text": [
      "Global seed set to 1\n",
      "GPU available: True, used: True\n",
      "TPU available: False, using: 0 TPU cores\n",
      "IPU available: False, using: 0 IPUs\n",
      "LOCAL_RANK: 0 - CUDA_VISIBLE_DEVICES: [0,1,2,3,4,5,6,7]\n"
     ]
    },
    {
     "data": {
      "application/vnd.jupyter.widget-view+json": {
       "model_id": "7dbed5cf16304d94b59981578071978d",
       "version_major": 2,
       "version_minor": 0
      },
      "text/plain": [
       "Predicting: 0it [00:00, ?it/s]"
      ]
     },
     "metadata": {},
     "output_type": "display_data"
    },
    {
     "name": "stderr",
     "output_type": "stream",
     "text": [
      "Global seed set to 2\n",
      "GPU available: True, used: True\n",
      "TPU available: False, using: 0 TPU cores\n",
      "IPU available: False, using: 0 IPUs\n",
      "LOCAL_RANK: 0 - CUDA_VISIBLE_DEVICES: [0,1,2,3,4,5,6,7]\n"
     ]
    },
    {
     "data": {
      "application/vnd.jupyter.widget-view+json": {
       "model_id": "9c500e2077084c24af8df02085408b3c",
       "version_major": 2,
       "version_minor": 0
      },
      "text/plain": [
       "Predicting: 0it [00:00, ?it/s]"
      ]
     },
     "metadata": {},
     "output_type": "display_data"
    },
    {
     "name": "stdout",
     "output_type": "stream",
     "text": [
      "layer_name: layer3.3.act3, 1\n"
     ]
    },
    {
     "name": "stderr",
     "output_type": "stream",
     "text": [
      "Global seed set to 2\n",
      "GPU available: True, used: True\n",
      "TPU available: False, using: 0 TPU cores\n",
      "IPU available: False, using: 0 IPUs\n",
      "LOCAL_RANK: 0 - CUDA_VISIBLE_DEVICES: [0,1,2,3,4,5,6,7]\n"
     ]
    },
    {
     "data": {
      "application/vnd.jupyter.widget-view+json": {
       "model_id": "87dccdfaaa164d6aa152b143c9a6d782",
       "version_major": 2,
       "version_minor": 0
      },
      "text/plain": [
       "Predicting: 0it [00:00, ?it/s]"
      ]
     },
     "metadata": {},
     "output_type": "display_data"
    },
    {
     "name": "stdout",
     "output_type": "stream",
     "text": [
      "layer_name: layer4.2.act3, 2\n"
     ]
    },
    {
     "name": "stderr",
     "output_type": "stream",
     "text": [
      "Global seed set to 1\n",
      "GPU available: True, used: True\n",
      "TPU available: False, using: 0 TPU cores\n",
      "IPU available: False, using: 0 IPUs\n",
      "LOCAL_RANK: 0 - CUDA_VISIBLE_DEVICES: [0,1,2,3,4,5,6,7]\n"
     ]
    },
    {
     "data": {
      "application/vnd.jupyter.widget-view+json": {
       "model_id": "9d83dcad02264bb3bee344c90cb67e1c",
       "version_major": 2,
       "version_minor": 0
      },
      "text/plain": [
       "Predicting: 0it [00:00, ?it/s]"
      ]
     },
     "metadata": {},
     "output_type": "display_data"
    },
    {
     "name": "stderr",
     "output_type": "stream",
     "text": [
      "Global seed set to 2\n",
      "GPU available: True, used: True\n",
      "TPU available: False, using: 0 TPU cores\n",
      "IPU available: False, using: 0 IPUs\n",
      "LOCAL_RANK: 0 - CUDA_VISIBLE_DEVICES: [0,1,2,3,4,5,6,7]\n"
     ]
    },
    {
     "data": {
      "application/vnd.jupyter.widget-view+json": {
       "model_id": "ea89a90c9af141d8a420e6300ec4ae71",
       "version_major": 2,
       "version_minor": 0
      },
      "text/plain": [
       "Predicting: 0it [00:00, ?it/s]"
      ]
     },
     "metadata": {},
     "output_type": "display_data"
    },
    {
     "name": "stdout",
     "output_type": "stream",
     "text": [
      "layer_name: layer4.2.act3, 2\n"
     ]
    },
    {
     "name": "stderr",
     "output_type": "stream",
     "text": [
      "Global seed set to 1\n",
      "GPU available: True, used: True\n",
      "TPU available: False, using: 0 TPU cores\n",
      "IPU available: False, using: 0 IPUs\n",
      "LOCAL_RANK: 0 - CUDA_VISIBLE_DEVICES: [0,1,2,3,4,5,6,7]\n"
     ]
    },
    {
     "data": {
      "application/vnd.jupyter.widget-view+json": {
       "model_id": "e0f60efe8beb461084c5ca8b3aaa5f72",
       "version_major": 2,
       "version_minor": 0
      },
      "text/plain": [
       "Predicting: 0it [00:00, ?it/s]"
      ]
     },
     "metadata": {},
     "output_type": "display_data"
    },
    {
     "name": "stderr",
     "output_type": "stream",
     "text": [
      "Global seed set to 2\n",
      "GPU available: True, used: True\n",
      "TPU available: False, using: 0 TPU cores\n",
      "IPU available: False, using: 0 IPUs\n",
      "LOCAL_RANK: 0 - CUDA_VISIBLE_DEVICES: [0,1,2,3,4,5,6,7]\n"
     ]
    },
    {
     "data": {
      "application/vnd.jupyter.widget-view+json": {
       "model_id": "a889d344b05844749bc22cd49f70a106",
       "version_major": 2,
       "version_minor": 0
      },
      "text/plain": [
       "Predicting: 0it [00:00, ?it/s]"
      ]
     },
     "metadata": {},
     "output_type": "display_data"
    },
    {
     "name": "stdout",
     "output_type": "stream",
     "text": [
      "layer_name: layer4.2.act3, 2\n"
     ]
    },
    {
     "name": "stderr",
     "output_type": "stream",
     "text": [
      "Global seed set to 1\n",
      "GPU available: True, used: True\n",
      "TPU available: False, using: 0 TPU cores\n",
      "IPU available: False, using: 0 IPUs\n",
      "LOCAL_RANK: 0 - CUDA_VISIBLE_DEVICES: [0,1,2,3,4,5,6,7]\n"
     ]
    },
    {
     "data": {
      "application/vnd.jupyter.widget-view+json": {
       "model_id": "9b22fbfb091b4fb6b08b3a5a4d6487d7",
       "version_major": 2,
       "version_minor": 0
      },
      "text/plain": [
       "Predicting: 0it [00:00, ?it/s]"
      ]
     },
     "metadata": {},
     "output_type": "display_data"
    },
    {
     "name": "stderr",
     "output_type": "stream",
     "text": [
      "Global seed set to 2\n",
      "GPU available: True, used: True\n",
      "TPU available: False, using: 0 TPU cores\n",
      "IPU available: False, using: 0 IPUs\n",
      "LOCAL_RANK: 0 - CUDA_VISIBLE_DEVICES: [0,1,2,3,4,5,6,7]\n"
     ]
    },
    {
     "data": {
      "application/vnd.jupyter.widget-view+json": {
       "model_id": "166c7fc960aa411797a190626fe04028",
       "version_major": 2,
       "version_minor": 0
      },
      "text/plain": [
       "Predicting: 0it [00:00, ?it/s]"
      ]
     },
     "metadata": {},
     "output_type": "display_data"
    },
    {
     "name": "stdout",
     "output_type": "stream",
     "text": [
      "layer_name: layer4.2.act3, 2\n"
     ]
    },
    {
     "name": "stderr",
     "output_type": "stream",
     "text": [
      "Global seed set to 2\n",
      "GPU available: True, used: True\n",
      "TPU available: False, using: 0 TPU cores\n",
      "IPU available: False, using: 0 IPUs\n",
      "LOCAL_RANK: 0 - CUDA_VISIBLE_DEVICES: [0,1,2,3,4,5,6,7]\n"
     ]
    },
    {
     "data": {
      "application/vnd.jupyter.widget-view+json": {
       "model_id": "09877737535747469984583a45704939",
       "version_major": 2,
       "version_minor": 0
      },
      "text/plain": [
       "Predicting: 0it [00:00, ?it/s]"
      ]
     },
     "metadata": {},
     "output_type": "display_data"
    },
    {
     "name": "stderr",
     "output_type": "stream",
     "text": [
      "Global seed set to 1\n",
      "GPU available: True, used: True\n",
      "TPU available: False, using: 0 TPU cores\n",
      "IPU available: False, using: 0 IPUs\n",
      "LOCAL_RANK: 0 - CUDA_VISIBLE_DEVICES: [0,1,2,3,4,5,6,7]\n"
     ]
    },
    {
     "data": {
      "application/vnd.jupyter.widget-view+json": {
       "model_id": "9a848d6ebda34ce4a45e8f217cfbf7d0",
       "version_major": 2,
       "version_minor": 0
      },
      "text/plain": [
       "Predicting: 0it [00:00, ?it/s]"
      ]
     },
     "metadata": {},
     "output_type": "display_data"
    },
    {
     "name": "stdout",
     "output_type": "stream",
     "text": [
      "layer_name: layer4.2.act3, 2\n"
     ]
    },
    {
     "name": "stderr",
     "output_type": "stream",
     "text": [
      "Global seed set to 2\n",
      "GPU available: True, used: True\n",
      "TPU available: False, using: 0 TPU cores\n",
      "IPU available: False, using: 0 IPUs\n",
      "LOCAL_RANK: 0 - CUDA_VISIBLE_DEVICES: [0,1,2,3,4,5,6,7]\n"
     ]
    },
    {
     "data": {
      "application/vnd.jupyter.widget-view+json": {
       "model_id": "55108fe50ab44bb494229dbb095f0986",
       "version_major": 2,
       "version_minor": 0
      },
      "text/plain": [
       "Predicting: 0it [00:00, ?it/s]"
      ]
     },
     "metadata": {},
     "output_type": "display_data"
    },
    {
     "name": "stderr",
     "output_type": "stream",
     "text": [
      "Global seed set to 1\n",
      "GPU available: True, used: True\n",
      "TPU available: False, using: 0 TPU cores\n",
      "IPU available: False, using: 0 IPUs\n",
      "LOCAL_RANK: 0 - CUDA_VISIBLE_DEVICES: [0,1,2,3,4,5,6,7]\n"
     ]
    },
    {
     "data": {
      "application/vnd.jupyter.widget-view+json": {
       "model_id": "ac5e476f15124c978828e33c8449c160",
       "version_major": 2,
       "version_minor": 0
      },
      "text/plain": [
       "Predicting: 0it [00:00, ?it/s]"
      ]
     },
     "metadata": {},
     "output_type": "display_data"
    },
    {
     "name": "stdout",
     "output_type": "stream",
     "text": [
      "layer_name: layer4.2.act3, 2\n"
     ]
    },
    {
     "name": "stderr",
     "output_type": "stream",
     "text": [
      "Global seed set to 2\n",
      "GPU available: True, used: True\n",
      "TPU available: False, using: 0 TPU cores\n",
      "IPU available: False, using: 0 IPUs\n",
      "LOCAL_RANK: 0 - CUDA_VISIBLE_DEVICES: [0,1,2,3,4,5,6,7]\n"
     ]
    },
    {
     "data": {
      "application/vnd.jupyter.widget-view+json": {
       "model_id": "339cd65c64b848f790236ffb44b791b7",
       "version_major": 2,
       "version_minor": 0
      },
      "text/plain": [
       "Predicting: 0it [00:00, ?it/s]"
      ]
     },
     "metadata": {},
     "output_type": "display_data"
    },
    {
     "name": "stderr",
     "output_type": "stream",
     "text": [
      "Global seed set to 1\n",
      "GPU available: True, used: True\n",
      "TPU available: False, using: 0 TPU cores\n",
      "IPU available: False, using: 0 IPUs\n",
      "LOCAL_RANK: 0 - CUDA_VISIBLE_DEVICES: [0,1,2,3,4,5,6,7]\n"
     ]
    },
    {
     "data": {
      "application/vnd.jupyter.widget-view+json": {
       "model_id": "a21799926a4448e8a67b9adf91ffb642",
       "version_major": 2,
       "version_minor": 0
      },
      "text/plain": [
       "Predicting: 0it [00:00, ?it/s]"
      ]
     },
     "metadata": {},
     "output_type": "display_data"
    },
    {
     "name": "stdout",
     "output_type": "stream",
     "text": [
      "layer_name: layer4.2.act3, 2\n"
     ]
    },
    {
     "name": "stderr",
     "output_type": "stream",
     "text": [
      "Global seed set to 1\n",
      "GPU available: True, used: True\n",
      "TPU available: False, using: 0 TPU cores\n",
      "IPU available: False, using: 0 IPUs\n",
      "LOCAL_RANK: 0 - CUDA_VISIBLE_DEVICES: [0,1,2,3,4,5,6,7]\n"
     ]
    },
    {
     "data": {
      "application/vnd.jupyter.widget-view+json": {
       "model_id": "d19a6474987d47e69b05f3706fe17268",
       "version_major": 2,
       "version_minor": 0
      },
      "text/plain": [
       "Predicting: 0it [00:00, ?it/s]"
      ]
     },
     "metadata": {},
     "output_type": "display_data"
    },
    {
     "name": "stderr",
     "output_type": "stream",
     "text": [
      "Global seed set to 2\n",
      "GPU available: True, used: True\n",
      "TPU available: False, using: 0 TPU cores\n",
      "IPU available: False, using: 0 IPUs\n",
      "LOCAL_RANK: 0 - CUDA_VISIBLE_DEVICES: [0,1,2,3,4,5,6,7]\n"
     ]
    },
    {
     "data": {
      "application/vnd.jupyter.widget-view+json": {
       "model_id": "c51dd99522c749fc8d9947a0f7f36492",
       "version_major": 2,
       "version_minor": 0
      },
      "text/plain": [
       "Predicting: 0it [00:00, ?it/s]"
      ]
     },
     "metadata": {},
     "output_type": "display_data"
    },
    {
     "name": "stdout",
     "output_type": "stream",
     "text": [
      "layer_name: layer4.2.act3, 2\n"
     ]
    },
    {
     "name": "stderr",
     "output_type": "stream",
     "text": [
      "Global seed set to 2\n",
      "GPU available: True, used: True\n",
      "TPU available: False, using: 0 TPU cores\n",
      "IPU available: False, using: 0 IPUs\n",
      "LOCAL_RANK: 0 - CUDA_VISIBLE_DEVICES: [0,1,2,3,4,5,6,7]\n"
     ]
    },
    {
     "data": {
      "application/vnd.jupyter.widget-view+json": {
       "model_id": "f2b7b4dced1c404f8687b1108e597a1c",
       "version_major": 2,
       "version_minor": 0
      },
      "text/plain": [
       "Predicting: 0it [00:00, ?it/s]"
      ]
     },
     "metadata": {},
     "output_type": "display_data"
    },
    {
     "name": "stderr",
     "output_type": "stream",
     "text": [
      "Global seed set to 1\n",
      "GPU available: True, used: True\n",
      "TPU available: False, using: 0 TPU cores\n",
      "IPU available: False, using: 0 IPUs\n",
      "LOCAL_RANK: 0 - CUDA_VISIBLE_DEVICES: [0,1,2,3,4,5,6,7]\n"
     ]
    },
    {
     "data": {
      "application/vnd.jupyter.widget-view+json": {
       "model_id": "32793c47f8ea45d1bbf31117017b7dc9",
       "version_major": 2,
       "version_minor": 0
      },
      "text/plain": [
       "Predicting: 0it [00:00, ?it/s]"
      ]
     },
     "metadata": {},
     "output_type": "display_data"
    },
    {
     "name": "stdout",
     "output_type": "stream",
     "text": [
      "layer_name: layer4.2.act3, 2\n"
     ]
    },
    {
     "name": "stderr",
     "output_type": "stream",
     "text": [
      "Global seed set to 1\n",
      "GPU available: True, used: True\n",
      "TPU available: False, using: 0 TPU cores\n",
      "IPU available: False, using: 0 IPUs\n",
      "LOCAL_RANK: 0 - CUDA_VISIBLE_DEVICES: [0,1,2,3,4,5,6,7]\n"
     ]
    },
    {
     "data": {
      "application/vnd.jupyter.widget-view+json": {
       "model_id": "69162c0375004edabf2929ff276a4268",
       "version_major": 2,
       "version_minor": 0
      },
      "text/plain": [
       "Predicting: 0it [00:00, ?it/s]"
      ]
     },
     "metadata": {},
     "output_type": "display_data"
    },
    {
     "name": "stderr",
     "output_type": "stream",
     "text": [
      "Global seed set to 2\n",
      "GPU available: True, used: True\n",
      "TPU available: False, using: 0 TPU cores\n",
      "IPU available: False, using: 0 IPUs\n",
      "LOCAL_RANK: 0 - CUDA_VISIBLE_DEVICES: [0,1,2,3,4,5,6,7]\n"
     ]
    },
    {
     "data": {
      "application/vnd.jupyter.widget-view+json": {
       "model_id": "674f520c4f4040e88d99423151917e5e",
       "version_major": 2,
       "version_minor": 0
      },
      "text/plain": [
       "Predicting: 0it [00:00, ?it/s]"
      ]
     },
     "metadata": {},
     "output_type": "display_data"
    },
    {
     "name": "stdout",
     "output_type": "stream",
     "text": [
      "layer_name: layer4.2.act3, 1\n"
     ]
    },
    {
     "name": "stderr",
     "output_type": "stream",
     "text": [
      "Global seed set to 2\n",
      "GPU available: True, used: True\n",
      "TPU available: False, using: 0 TPU cores\n",
      "IPU available: False, using: 0 IPUs\n",
      "LOCAL_RANK: 0 - CUDA_VISIBLE_DEVICES: [0,1,2,3,4,5,6,7]\n"
     ]
    },
    {
     "data": {
      "application/vnd.jupyter.widget-view+json": {
       "model_id": "acf7952342e24f28ac16ae500784607f",
       "version_major": 2,
       "version_minor": 0
      },
      "text/plain": [
       "Predicting: 0it [00:00, ?it/s]"
      ]
     },
     "metadata": {},
     "output_type": "display_data"
    },
    {
     "data": {
      "image/png": "[encoded data removed]",
      "text/plain": [
       "<Figure size 1000x600 with 1 Axes>"
      ]
     },
     "metadata": {
      "needs_background": "light"
     },
     "output_type": "display_data"
    },
    {
     "data": {
      "image/png": "[encoded data removed]",
      "text/plain": [
       "<Figure size 1000x600 with 1 Axes>"
      ]
     },
     "metadata": {
      "needs_background": "light"
     },
     "output_type": "display_data"
    },
    {
     "data": {
      "image/png": "[encoded data removed]",
      "text/plain": [
       "<Figure size 1000x600 with 1 Axes>"
      ]
     },
     "metadata": {
      "needs_background": "light"
     },
     "output_type": "display_data"
    },
    {
     "data": {
      "image/png": "[encoded data removed]",
      "text/plain": [
       "<Figure size 1000x600 with 1 Axes>"
      ]
     },
     "metadata": {
      "needs_background": "light"
     },
     "output_type": "display_data"
    },
    {
     "name": "stderr",
     "output_type": "stream",
     "text": [
      "Global seed set to 2\n"
     ]
    },
    {
     "name": "stdout",
     "output_type": "stream",
     "text": [
      "['layer1.0.act3', 'layer1.1.act3', 'layer1.2.act3', 'layer2.0.act3', 'layer2.1.act3', 'layer2.2.act3', 'layer2.3.act3', 'layer3.0.act3', 'layer3.1.act3', 'layer3.2.act3', 'layer3.3.act3', 'layer3.4.act3', 'layer3.5.act3', 'layer4.0.act3', 'layer4.1.act3', 'layer4.2.act3', 'global_pool.pool']\n",
      "layer_name: layer2.2.act3, 1\n"
     ]
    },
    {
     "name": "stderr",
     "output_type": "stream",
     "text": [
      "Global seed set to 1\n",
      "GPU available: True, used: True\n",
      "TPU available: False, using: 0 TPU cores\n",
      "IPU available: False, using: 0 IPUs\n",
      "Global seed set to 0\n",
      "LOCAL_RANK: 0 - CUDA_VISIBLE_DEVICES: [0,1,2,3,4,5,6,7]\n"
     ]
    },
    {
     "data": {
      "application/vnd.jupyter.widget-view+json": {
       "model_id": "18b74d904f5848e9a08ce21323b03a89",
       "version_major": 2,
       "version_minor": 0
      },
      "text/plain": [
       "Predicting: 0it [00:00, ?it/s]"
      ]
     },
     "metadata": {},
     "output_type": "display_data"
    },
    {
     "name": "stdout",
     "output_type": "stream",
     "text": [
      "layer_name: layer2.2.act3, 1\n"
     ]
    },
    {
     "name": "stderr",
     "output_type": "stream",
     "text": [
      "Global seed set to 1\n",
      "GPU available: True, used: True\n",
      "TPU available: False, using: 0 TPU cores\n",
      "IPU available: False, using: 0 IPUs\n",
      "LOCAL_RANK: 0 - CUDA_VISIBLE_DEVICES: [0,1,2,3,4,5,6,7]\n"
     ]
    },
    {
     "data": {
      "application/vnd.jupyter.widget-view+json": {
       "model_id": "8810cfcce57a486e83745194ab42d8e9",
       "version_major": 2,
       "version_minor": 0
      },
      "text/plain": [
       "Predicting: 0it [00:00, ?it/s]"
      ]
     },
     "metadata": {},
     "output_type": "display_data"
    },
    {
     "name": "stdout",
     "output_type": "stream",
     "text": [
      "layer_name: layer2.2.act3, 1\n"
     ]
    },
    {
     "name": "stderr",
     "output_type": "stream",
     "text": [
      "Global seed set to 1\n",
      "GPU available: True, used: True\n",
      "TPU available: False, using: 0 TPU cores\n",
      "IPU available: False, using: 0 IPUs\n",
      "LOCAL_RANK: 0 - CUDA_VISIBLE_DEVICES: [0,1,2,3,4,5,6,7]\n"
     ]
    },
    {
     "data": {
      "application/vnd.jupyter.widget-view+json": {
       "model_id": "72253509f6a94096bf8a6329ca752e47",
       "version_major": 2,
       "version_minor": 0
      },
      "text/plain": [
       "Predicting: 0it [00:00, ?it/s]"
      ]
     },
     "metadata": {},
     "output_type": "display_data"
    },
    {
     "name": "stdout",
     "output_type": "stream",
     "text": [
      "layer_name: layer2.2.act3, 1\n"
     ]
    },
    {
     "name": "stderr",
     "output_type": "stream",
     "text": [
      "Global seed set to 1\n",
      "GPU available: True, used: True\n",
      "TPU available: False, using: 0 TPU cores\n",
      "IPU available: False, using: 0 IPUs\n",
      "LOCAL_RANK: 0 - CUDA_VISIBLE_DEVICES: [0,1,2,3,4,5,6,7]\n"
     ]
    },
    {
     "data": {
      "application/vnd.jupyter.widget-view+json": {
       "model_id": "95daeec3fa464d89bdaaae7ac38829fe",
       "version_major": 2,
       "version_minor": 0
      },
      "text/plain": [
       "Predicting: 0it [00:00, ?it/s]"
      ]
     },
     "metadata": {},
     "output_type": "display_data"
    },
    {
     "name": "stdout",
     "output_type": "stream",
     "text": [
      "layer_name: layer2.2.act3, 1\n"
     ]
    },
    {
     "name": "stderr",
     "output_type": "stream",
     "text": [
      "Global seed set to 1\n",
      "GPU available: True, used: True\n",
      "TPU available: False, using: 0 TPU cores\n",
      "IPU available: False, using: 0 IPUs\n",
      "LOCAL_RANK: 0 - CUDA_VISIBLE_DEVICES: [0,1,2,3,4,5,6,7]\n"
     ]
    },
    {
     "data": {
      "application/vnd.jupyter.widget-view+json": {
       "model_id": "e6e8e63fe697499c9c287d92f47d65ee",
       "version_major": 2,
       "version_minor": 0
      },
      "text/plain": [
       "Predicting: 0it [00:00, ?it/s]"
      ]
     },
     "metadata": {},
     "output_type": "display_data"
    },
    {
     "name": "stdout",
     "output_type": "stream",
     "text": [
      "layer_name: layer2.2.act3, 1\n"
     ]
    },
    {
     "name": "stderr",
     "output_type": "stream",
     "text": [
      "Global seed set to 1\n",
      "GPU available: True, used: True\n",
      "TPU available: False, using: 0 TPU cores\n",
      "IPU available: False, using: 0 IPUs\n",
      "LOCAL_RANK: 0 - CUDA_VISIBLE_DEVICES: [0,1,2,3,4,5,6,7]\n"
     ]
    },
    {
     "data": {
      "application/vnd.jupyter.widget-view+json": {
       "model_id": "11198f4aa13444e8b3e25c99f570aaef",
       "version_major": 2,
       "version_minor": 0
      },
      "text/plain": [
       "Predicting: 0it [00:00, ?it/s]"
      ]
     },
     "metadata": {},
     "output_type": "display_data"
    },
    {
     "name": "stdout",
     "output_type": "stream",
     "text": [
      "layer_name: layer2.2.act3, 1\n"
     ]
    },
    {
     "name": "stderr",
     "output_type": "stream",
     "text": [
      "Global seed set to 1\n",
      "GPU available: True, used: True\n",
      "TPU available: False, using: 0 TPU cores\n",
      "IPU available: False, using: 0 IPUs\n",
      "LOCAL_RANK: 0 - CUDA_VISIBLE_DEVICES: [0,1,2,3,4,5,6,7]\n"
     ]
    },
    {
     "data": {
      "application/vnd.jupyter.widget-view+json": {
       "model_id": "7334e0d795094ab0ac66c069139d6b11",
       "version_major": 2,
       "version_minor": 0
      },
      "text/plain": [
       "Predicting: 0it [00:00, ?it/s]"
      ]
     },
     "metadata": {},
     "output_type": "display_data"
    },
    {
     "name": "stdout",
     "output_type": "stream",
     "text": [
      "layer_name: layer2.2.act3, 1\n"
     ]
    },
    {
     "name": "stderr",
     "output_type": "stream",
     "text": [
      "Global seed set to 1\n",
      "GPU available: True, used: True\n",
      "TPU available: False, using: 0 TPU cores\n",
      "IPU available: False, using: 0 IPUs\n",
      "LOCAL_RANK: 0 - CUDA_VISIBLE_DEVICES: [0,1,2,3,4,5,6,7]\n"
     ]
    },
    {
     "data": {
      "application/vnd.jupyter.widget-view+json": {
       "model_id": "c60a3e4127264be7b54247b304105b85",
       "version_major": 2,
       "version_minor": 0
      },
      "text/plain": [
       "Predicting: 0it [00:00, ?it/s]"
      ]
     },
     "metadata": {},
     "output_type": "display_data"
    },
    {
     "name": "stdout",
     "output_type": "stream",
     "text": [
      "layer_name: layer2.2.act3, 1\n"
     ]
    },
    {
     "name": "stderr",
     "output_type": "stream",
     "text": [
      "Global seed set to 1\n",
      "GPU available: True, used: True\n",
      "TPU available: False, using: 0 TPU cores\n",
      "IPU available: False, using: 0 IPUs\n",
      "LOCAL_RANK: 0 - CUDA_VISIBLE_DEVICES: [0,1,2,3,4,5,6,7]\n"
     ]
    },
    {
     "data": {
      "application/vnd.jupyter.widget-view+json": {
       "model_id": "e0ebc76758ce481a9a501004df25064c",
       "version_major": 2,
       "version_minor": 0
      },
      "text/plain": [
       "Predicting: 0it [00:00, ?it/s]"
      ]
     },
     "metadata": {},
     "output_type": "display_data"
    },
    {
     "name": "stdout",
     "output_type": "stream",
     "text": [
      "layer_name: layer2.2.act3, 1\n"
     ]
    },
    {
     "name": "stderr",
     "output_type": "stream",
     "text": [
      "Global seed set to 2\n",
      "GPU available: True, used: True\n",
      "TPU available: False, using: 0 TPU cores\n",
      "IPU available: False, using: 0 IPUs\n",
      "LOCAL_RANK: 0 - CUDA_VISIBLE_DEVICES: [0,1,2,3,4,5,6,7]\n"
     ]
    },
    {
     "data": {
      "application/vnd.jupyter.widget-view+json": {
       "model_id": "7e0dfcf9a6df4996a0a0c17af6be92dd",
       "version_major": 2,
       "version_minor": 0
      },
      "text/plain": [
       "Predicting: 0it [00:00, ?it/s]"
      ]
     },
     "metadata": {},
     "output_type": "display_data"
    },
    {
     "name": "stdout",
     "output_type": "stream",
     "text": [
      "layer_name: layer3.3.act3, 1\n"
     ]
    },
    {
     "name": "stderr",
     "output_type": "stream",
     "text": [
      "Global seed set to 1\n",
      "GPU available: True, used: True\n",
      "TPU available: False, using: 0 TPU cores\n",
      "IPU available: False, using: 0 IPUs\n",
      "LOCAL_RANK: 0 - CUDA_VISIBLE_DEVICES: [0,1,2,3,4,5,6,7]\n"
     ]
    },
    {
     "data": {
      "application/vnd.jupyter.widget-view+json": {
       "model_id": "5a57782dccec463296316579a39d3d5a",
       "version_major": 2,
       "version_minor": 0
      },
      "text/plain": [
       "Predicting: 0it [00:00, ?it/s]"
      ]
     },
     "metadata": {},
     "output_type": "display_data"
    },
    {
     "name": "stdout",
     "output_type": "stream",
     "text": [
      "layer_name: layer3.3.act3, 1\n"
     ]
    },
    {
     "name": "stderr",
     "output_type": "stream",
     "text": [
      "Global seed set to 1\n",
      "GPU available: True, used: True\n",
      "TPU available: False, using: 0 TPU cores\n",
      "IPU available: False, using: 0 IPUs\n",
      "LOCAL_RANK: 0 - CUDA_VISIBLE_DEVICES: [0,1,2,3,4,5,6,7]\n"
     ]
    },
    {
     "data": {
      "application/vnd.jupyter.widget-view+json": {
       "model_id": "774cfcd09d144e9ca59ab8555f23cf18",
       "version_major": 2,
       "version_minor": 0
      },
      "text/plain": [
       "Predicting: 0it [00:00, ?it/s]"
      ]
     },
     "metadata": {},
     "output_type": "display_data"
    },
    {
     "name": "stdout",
     "output_type": "stream",
     "text": [
      "layer_name: layer3.3.act3, 1\n"
     ]
    },
    {
     "name": "stderr",
     "output_type": "stream",
     "text": [
      "Global seed set to 1\n",
      "GPU available: True, used: True\n",
      "TPU available: False, using: 0 TPU cores\n",
      "IPU available: False, using: 0 IPUs\n",
      "LOCAL_RANK: 0 - CUDA_VISIBLE_DEVICES: [0,1,2,3,4,5,6,7]\n"
     ]
    },
    {
     "data": {
      "application/vnd.jupyter.widget-view+json": {
       "model_id": "123ab3481dbb4892be6b72fa0207fec9",
       "version_major": 2,
       "version_minor": 0
      },
      "text/plain": [
       "Predicting: 0it [00:00, ?it/s]"
      ]
     },
     "metadata": {},
     "output_type": "display_data"
    },
    {
     "name": "stdout",
     "output_type": "stream",
     "text": [
      "layer_name: layer3.3.act3, 1\n"
     ]
    },
    {
     "name": "stderr",
     "output_type": "stream",
     "text": [
      "Global seed set to 1\n",
      "GPU available: True, used: True\n",
      "TPU available: False, using: 0 TPU cores\n",
      "IPU available: False, using: 0 IPUs\n",
      "LOCAL_RANK: 0 - CUDA_VISIBLE_DEVICES: [0,1,2,3,4,5,6,7]\n"
     ]
    },
    {
     "data": {
      "application/vnd.jupyter.widget-view+json": {
       "model_id": "d9f7268625b045dcbf8e456f42b6dac9",
       "version_major": 2,
       "version_minor": 0
      },
      "text/plain": [
       "Predicting: 0it [00:00, ?it/s]"
      ]
     },
     "metadata": {},
     "output_type": "display_data"
    },
    {
     "name": "stdout",
     "output_type": "stream",
     "text": [
      "layer_name: layer3.3.act3, 1\n"
     ]
    },
    {
     "name": "stderr",
     "output_type": "stream",
     "text": [
      "Global seed set to 1\n",
      "GPU available: True, used: True\n",
      "TPU available: False, using: 0 TPU cores\n",
      "IPU available: False, using: 0 IPUs\n",
      "LOCAL_RANK: 0 - CUDA_VISIBLE_DEVICES: [0,1,2,3,4,5,6,7]\n"
     ]
    },
    {
     "data": {
      "application/vnd.jupyter.widget-view+json": {
       "model_id": "652cdd17e0664bff82eaab58153ce6b4",
       "version_major": 2,
       "version_minor": 0
      },
      "text/plain": [
       "Predicting: 0it [00:00, ?it/s]"
      ]
     },
     "metadata": {},
     "output_type": "display_data"
    },
    {
     "name": "stdout",
     "output_type": "stream",
     "text": [
      "layer_name: layer3.3.act3, 1\n"
     ]
    },
    {
     "name": "stderr",
     "output_type": "stream",
     "text": [
      "Global seed set to 1\n",
      "GPU available: True, used: True\n",
      "TPU available: False, using: 0 TPU cores\n",
      "IPU available: False, using: 0 IPUs\n",
      "LOCAL_RANK: 0 - CUDA_VISIBLE_DEVICES: [0,1,2,3,4,5,6,7]\n"
     ]
    },
    {
     "data": {
      "application/vnd.jupyter.widget-view+json": {
       "model_id": "b75d2d7fcd92475d84357c3847b899e8",
       "version_major": 2,
       "version_minor": 0
      },
      "text/plain": [
       "Predicting: 0it [00:00, ?it/s]"
      ]
     },
     "metadata": {},
     "output_type": "display_data"
    },
    {
     "name": "stdout",
     "output_type": "stream",
     "text": [
      "layer_name: layer3.3.act3, 1\n"
     ]
    },
    {
     "name": "stderr",
     "output_type": "stream",
     "text": [
      "Global seed set to 1\n",
      "GPU available: True, used: True\n",
      "TPU available: False, using: 0 TPU cores\n",
      "IPU available: False, using: 0 IPUs\n",
      "LOCAL_RANK: 0 - CUDA_VISIBLE_DEVICES: [0,1,2,3,4,5,6,7]\n"
     ]
    },
    {
     "data": {
      "application/vnd.jupyter.widget-view+json": {
       "model_id": "9beb890ce20745eabef6fd28144eacce",
       "version_major": 2,
       "version_minor": 0
      },
      "text/plain": [
       "Predicting: 0it [00:00, ?it/s]"
      ]
     },
     "metadata": {},
     "output_type": "display_data"
    },
    {
     "name": "stdout",
     "output_type": "stream",
     "text": [
      "layer_name: layer3.3.act3, 1\n"
     ]
    },
    {
     "name": "stderr",
     "output_type": "stream",
     "text": [
      "Global seed set to 1\n",
      "GPU available: True, used: True\n",
      "TPU available: False, using: 0 TPU cores\n",
      "IPU available: False, using: 0 IPUs\n",
      "LOCAL_RANK: 0 - CUDA_VISIBLE_DEVICES: [0,1,2,3,4,5,6,7]\n"
     ]
    },
    {
     "data": {
      "application/vnd.jupyter.widget-view+json": {
       "model_id": "f4f9926739574408ac13fe2597d1a7d5",
       "version_major": 2,
       "version_minor": 0
      },
      "text/plain": [
       "Predicting: 0it [00:00, ?it/s]"
      ]
     },
     "metadata": {},
     "output_type": "display_data"
    },
    {
     "name": "stdout",
     "output_type": "stream",
     "text": [
      "layer_name: layer3.3.act3, 1\n"
     ]
    },
    {
     "name": "stderr",
     "output_type": "stream",
     "text": [
      "Global seed set to 1\n",
      "GPU available: True, used: True\n",
      "TPU available: False, using: 0 TPU cores\n",
      "IPU available: False, using: 0 IPUs\n",
      "LOCAL_RANK: 0 - CUDA_VISIBLE_DEVICES: [0,1,2,3,4,5,6,7]\n"
     ]
    },
    {
     "data": {
      "application/vnd.jupyter.widget-view+json": {
       "model_id": "5731c2a556de48e39983a219dcbc4337",
       "version_major": 2,
       "version_minor": 0
      },
      "text/plain": [
       "Predicting: 0it [00:00, ?it/s]"
      ]
     },
     "metadata": {},
     "output_type": "display_data"
    },
    {
     "name": "stdout",
     "output_type": "stream",
     "text": [
      "layer_name: layer3.3.act3, 1\n"
     ]
    },
    {
     "name": "stderr",
     "output_type": "stream",
     "text": [
      "Global seed set to 2\n",
      "GPU available: True, used: True\n",
      "TPU available: False, using: 0 TPU cores\n",
      "IPU available: False, using: 0 IPUs\n",
      "LOCAL_RANK: 0 - CUDA_VISIBLE_DEVICES: [0,1,2,3,4,5,6,7]\n"
     ]
    },
    {
     "data": {
      "application/vnd.jupyter.widget-view+json": {
       "model_id": "6d3749740fab4bf28c602ef03a769a6d",
       "version_major": 2,
       "version_minor": 0
      },
      "text/plain": [
       "Predicting: 0it [00:00, ?it/s]"
      ]
     },
     "metadata": {},
     "output_type": "display_data"
    },
    {
     "name": "stdout",
     "output_type": "stream",
     "text": [
      "layer_name: layer4.2.act3, 4\n"
     ]
    },
    {
     "name": "stderr",
     "output_type": "stream",
     "text": [
      "Global seed set to 4\n",
      "GPU available: True, used: True\n",
      "TPU available: False, using: 0 TPU cores\n",
      "IPU available: False, using: 0 IPUs\n",
      "LOCAL_RANK: 0 - CUDA_VISIBLE_DEVICES: [0,1,2,3,4,5,6,7]\n"
     ]
    },
    {
     "data": {
      "application/vnd.jupyter.widget-view+json": {
       "model_id": "7d55cb4f463049cbb6e8c79f28732de5",
       "version_major": 2,
       "version_minor": 0
      },
      "text/plain": [
       "Predicting: 0it [00:00, ?it/s]"
      ]
     },
     "metadata": {},
     "output_type": "display_data"
    },
    {
     "name": "stderr",
     "output_type": "stream",
     "text": [
      "Global seed set to 2\n",
      "GPU available: True, used: True\n",
      "TPU available: False, using: 0 TPU cores\n",
      "IPU available: False, using: 0 IPUs\n",
      "LOCAL_RANK: 0 - CUDA_VISIBLE_DEVICES: [0,1,2,3,4,5,6,7]\n"
     ]
    },
    {
     "data": {
      "application/vnd.jupyter.widget-view+json": {
       "model_id": "ea5d44d947ce4a1baf3391b594edcdf7",
       "version_major": 2,
       "version_minor": 0
      },
      "text/plain": [
       "Predicting: 0it [00:00, ?it/s]"
      ]
     },
     "metadata": {},
     "output_type": "display_data"
    },
    {
     "name": "stdout",
     "output_type": "stream",
     "text": [
      "layer_name: layer4.2.act3, 4\n"
     ]
    },
    {
     "name": "stderr",
     "output_type": "stream",
     "text": [
      "Global seed set to 1\n",
      "GPU available: True, used: True\n",
      "TPU available: False, using: 0 TPU cores\n",
      "IPU available: False, using: 0 IPUs\n",
      "LOCAL_RANK: 0 - CUDA_VISIBLE_DEVICES: [0,1,2,3,4,5,6,7]\n"
     ]
    },
    {
     "data": {
      "application/vnd.jupyter.widget-view+json": {
       "model_id": "f14c4377eaf44feaa0bf5b390641ea27",
       "version_major": 2,
       "version_minor": 0
      },
      "text/plain": [
       "Predicting: 0it [00:00, ?it/s]"
      ]
     },
     "metadata": {},
     "output_type": "display_data"
    },
    {
     "name": "stderr",
     "output_type": "stream",
     "text": [
      "Global seed set to 3\n",
      "GPU available: True, used: True\n",
      "TPU available: False, using: 0 TPU cores\n",
      "IPU available: False, using: 0 IPUs\n",
      "LOCAL_RANK: 0 - CUDA_VISIBLE_DEVICES: [0,1,2,3,4,5,6,7]\n"
     ]
    },
    {
     "data": {
      "application/vnd.jupyter.widget-view+json": {
       "model_id": "90e44cb7cdcd413eaff85063d4289a78",
       "version_major": 2,
       "version_minor": 0
      },
      "text/plain": [
       "Predicting: 0it [00:00, ?it/s]"
      ]
     },
     "metadata": {},
     "output_type": "display_data"
    },
    {
     "name": "stdout",
     "output_type": "stream",
     "text": [
      "layer_name: layer4.2.act3, 4\n"
     ]
    },
    {
     "name": "stderr",
     "output_type": "stream",
     "text": [
      "Global seed set to 4\n",
      "GPU available: True, used: True\n",
      "TPU available: False, using: 0 TPU cores\n",
      "IPU available: False, using: 0 IPUs\n",
      "LOCAL_RANK: 0 - CUDA_VISIBLE_DEVICES: [0,1,2,3,4,5,6,7]\n"
     ]
    },
    {
     "data": {
      "application/vnd.jupyter.widget-view+json": {
       "model_id": "c320706a83a04e2eb60ba8c041715a79",
       "version_major": 2,
       "version_minor": 0
      },
      "text/plain": [
       "Predicting: 0it [00:00, ?it/s]"
      ]
     },
     "metadata": {},
     "output_type": "display_data"
    },
    {
     "name": "stderr",
     "output_type": "stream",
     "text": [
      "Global seed set to 2\n",
      "GPU available: True, used: True\n",
      "TPU available: False, using: 0 TPU cores\n",
      "IPU available: False, using: 0 IPUs\n",
      "LOCAL_RANK: 0 - CUDA_VISIBLE_DEVICES: [0,1,2,3,4,5,6,7]\n"
     ]
    },
    {
     "data": {
      "application/vnd.jupyter.widget-view+json": {
       "model_id": "2a0777245d644aff9afc43cff4354ff9",
       "version_major": 2,
       "version_minor": 0
      },
      "text/plain": [
       "Predicting: 0it [00:00, ?it/s]"
      ]
     },
     "metadata": {},
     "output_type": "display_data"
    },
    {
     "name": "stdout",
     "output_type": "stream",
     "text": [
      "layer_name: layer4.2.act3, 4\n"
     ]
    },
    {
     "name": "stderr",
     "output_type": "stream",
     "text": [
      "Global seed set to 4\n",
      "GPU available: True, used: True\n",
      "TPU available: False, using: 0 TPU cores\n",
      "IPU available: False, using: 0 IPUs\n",
      "LOCAL_RANK: 0 - CUDA_VISIBLE_DEVICES: [0,1,2,3,4,5,6,7]\n"
     ]
    },
    {
     "data": {
      "application/vnd.jupyter.widget-view+json": {
       "model_id": "95774b5ec04441f9bfffae9f613f6f5b",
       "version_major": 2,
       "version_minor": 0
      },
      "text/plain": [
       "Predicting: 0it [00:00, ?it/s]"
      ]
     },
     "metadata": {},
     "output_type": "display_data"
    },
    {
     "name": "stderr",
     "output_type": "stream",
     "text": [
      "Global seed set to 2\n",
      "GPU available: True, used: True\n",
      "TPU available: False, using: 0 TPU cores\n",
      "IPU available: False, using: 0 IPUs\n",
      "LOCAL_RANK: 0 - CUDA_VISIBLE_DEVICES: [0,1,2,3,4,5,6,7]\n"
     ]
    },
    {
     "data": {
      "application/vnd.jupyter.widget-view+json": {
       "model_id": "72fca72ad7774b6fb7a44e8bd481a099",
       "version_major": 2,
       "version_minor": 0
      },
      "text/plain": [
       "Predicting: 0it [00:00, ?it/s]"
      ]
     },
     "metadata": {},
     "output_type": "display_data"
    },
    {
     "name": "stdout",
     "output_type": "stream",
     "text": [
      "layer_name: layer4.2.act3, 4\n"
     ]
    },
    {
     "name": "stderr",
     "output_type": "stream",
     "text": [
      "Global seed set to 4\n",
      "GPU available: True, used: True\n",
      "TPU available: False, using: 0 TPU cores\n",
      "IPU available: False, using: 0 IPUs\n",
      "LOCAL_RANK: 0 - CUDA_VISIBLE_DEVICES: [0,1,2,3,4,5,6,7]\n"
     ]
    },
    {
     "data": {
      "application/vnd.jupyter.widget-view+json": {
       "model_id": "5db8ff70375b4e03b492380d4942434b",
       "version_major": 2,
       "version_minor": 0
      },
      "text/plain": [
       "Predicting: 0it [00:00, ?it/s]"
      ]
     },
     "metadata": {},
     "output_type": "display_data"
    },
    {
     "name": "stderr",
     "output_type": "stream",
     "text": [
      "Global seed set to 3\n",
      "GPU available: True, used: True\n",
      "TPU available: False, using: 0 TPU cores\n",
      "IPU available: False, using: 0 IPUs\n",
      "LOCAL_RANK: 0 - CUDA_VISIBLE_DEVICES: [0,1,2,3,4,5,6,7]\n"
     ]
    },
    {
     "data": {
      "application/vnd.jupyter.widget-view+json": {
       "model_id": "32982a6a1f00409b915d1b9a1fbcb356",
       "version_major": 2,
       "version_minor": 0
      },
      "text/plain": [
       "Predicting: 0it [00:00, ?it/s]"
      ]
     },
     "metadata": {},
     "output_type": "display_data"
    },
    {
     "name": "stdout",
     "output_type": "stream",
     "text": [
      "layer_name: layer4.2.act3, 4\n"
     ]
    },
    {
     "name": "stderr",
     "output_type": "stream",
     "text": [
      "Global seed set to 4\n",
      "GPU available: True, used: True\n",
      "TPU available: False, using: 0 TPU cores\n",
      "IPU available: False, using: 0 IPUs\n",
      "LOCAL_RANK: 0 - CUDA_VISIBLE_DEVICES: [0,1,2,3,4,5,6,7]\n"
     ]
    },
    {
     "data": {
      "application/vnd.jupyter.widget-view+json": {
       "model_id": "5dc670b81c9f4452bd87fe1103122f25",
       "version_major": 2,
       "version_minor": 0
      },
      "text/plain": [
       "Predicting: 0it [00:00, ?it/s]"
      ]
     },
     "metadata": {},
     "output_type": "display_data"
    },
    {
     "name": "stderr",
     "output_type": "stream",
     "text": [
      "Global seed set to 1\n",
      "GPU available: True, used: True\n",
      "TPU available: False, using: 0 TPU cores\n",
      "IPU available: False, using: 0 IPUs\n",
      "LOCAL_RANK: 0 - CUDA_VISIBLE_DEVICES: [0,1,2,3,4,5,6,7]\n"
     ]
    },
    {
     "data": {
      "application/vnd.jupyter.widget-view+json": {
       "model_id": "674252904b5e4a9a8ee285148afa26bc",
       "version_major": 2,
       "version_minor": 0
      },
      "text/plain": [
       "Predicting: 0it [00:00, ?it/s]"
      ]
     },
     "metadata": {},
     "output_type": "display_data"
    },
    {
     "name": "stdout",
     "output_type": "stream",
     "text": [
      "layer_name: layer4.2.act3, 4\n"
     ]
    },
    {
     "name": "stderr",
     "output_type": "stream",
     "text": [
      "Global seed set to 4\n",
      "GPU available: True, used: True\n",
      "TPU available: False, using: 0 TPU cores\n",
      "IPU available: False, using: 0 IPUs\n",
      "LOCAL_RANK: 0 - CUDA_VISIBLE_DEVICES: [0,1,2,3,4,5,6,7]\n"
     ]
    },
    {
     "data": {
      "application/vnd.jupyter.widget-view+json": {
       "model_id": "f3dab4f25c8a4119b6b93bbd3fb553e4",
       "version_major": 2,
       "version_minor": 0
      },
      "text/plain": [
       "Predicting: 0it [00:00, ?it/s]"
      ]
     },
     "metadata": {},
     "output_type": "display_data"
    },
    {
     "name": "stderr",
     "output_type": "stream",
     "text": [
      "Global seed set to 1\n",
      "GPU available: True, used: True\n",
      "TPU available: False, using: 0 TPU cores\n",
      "IPU available: False, using: 0 IPUs\n",
      "LOCAL_RANK: 0 - CUDA_VISIBLE_DEVICES: [0,1,2,3,4,5,6,7]\n"
     ]
    },
    {
     "data": {
      "application/vnd.jupyter.widget-view+json": {
       "model_id": "4c0eeacb78fa476f8a5efbfdd85e627a",
       "version_major": 2,
       "version_minor": 0
      },
      "text/plain": [
       "Predicting: 0it [00:00, ?it/s]"
      ]
     },
     "metadata": {},
     "output_type": "display_data"
    },
    {
     "name": "stdout",
     "output_type": "stream",
     "text": [
      "layer_name: layer4.2.act3, 4\n"
     ]
    },
    {
     "name": "stderr",
     "output_type": "stream",
     "text": [
      "Global seed set to 3\n",
      "GPU available: True, used: True\n",
      "TPU available: False, using: 0 TPU cores\n",
      "IPU available: False, using: 0 IPUs\n",
      "LOCAL_RANK: 0 - CUDA_VISIBLE_DEVICES: [0,1,2,3,4,5,6,7]\n"
     ]
    },
    {
     "data": {
      "application/vnd.jupyter.widget-view+json": {
       "model_id": "f0c32620e97d485e847fdde2e805c16b",
       "version_major": 2,
       "version_minor": 0
      },
      "text/plain": [
       "Predicting: 0it [00:00, ?it/s]"
      ]
     },
     "metadata": {},
     "output_type": "display_data"
    },
    {
     "name": "stderr",
     "output_type": "stream",
     "text": [
      "Global seed set to 2\n",
      "GPU available: True, used: True\n",
      "TPU available: False, using: 0 TPU cores\n",
      "IPU available: False, using: 0 IPUs\n",
      "LOCAL_RANK: 0 - CUDA_VISIBLE_DEVICES: [0,1,2,3,4,5,6,7]\n"
     ]
    },
    {
     "data": {
      "application/vnd.jupyter.widget-view+json": {
       "model_id": "5db4ef5d4a734907bcec7a96ea0013c9",
       "version_major": 2,
       "version_minor": 0
      },
      "text/plain": [
       "Predicting: 0it [00:00, ?it/s]"
      ]
     },
     "metadata": {},
     "output_type": "display_data"
    },
    {
     "name": "stdout",
     "output_type": "stream",
     "text": [
      "layer_name: layer4.2.act3, 4\n"
     ]
    },
    {
     "name": "stderr",
     "output_type": "stream",
     "text": [
      "Global seed set to 3\n",
      "GPU available: True, used: True\n",
      "TPU available: False, using: 0 TPU cores\n",
      "IPU available: False, using: 0 IPUs\n",
      "LOCAL_RANK: 0 - CUDA_VISIBLE_DEVICES: [0,1,2,3,4,5,6,7]\n"
     ]
    },
    {
     "data": {
      "application/vnd.jupyter.widget-view+json": {
       "model_id": "e6e93ec73a09428eba3f421c5f504294",
       "version_major": 2,
       "version_minor": 0
      },
      "text/plain": [
       "Predicting: 0it [00:00, ?it/s]"
      ]
     },
     "metadata": {},
     "output_type": "display_data"
    },
    {
     "name": "stderr",
     "output_type": "stream",
     "text": [
      "Global seed set to 2\n",
      "GPU available: True, used: True\n",
      "TPU available: False, using: 0 TPU cores\n",
      "IPU available: False, using: 0 IPUs\n",
      "LOCAL_RANK: 0 - CUDA_VISIBLE_DEVICES: [0,1,2,3,4,5,6,7]\n"
     ]
    },
    {
     "data": {
      "application/vnd.jupyter.widget-view+json": {
       "model_id": "d4e22cd7d0694a59ad5ba573ae155a40",
       "version_major": 2,
       "version_minor": 0
      },
      "text/plain": [
       "Predicting: 0it [00:00, ?it/s]"
      ]
     },
     "metadata": {},
     "output_type": "display_data"
    },
    {
     "name": "stdout",
     "output_type": "stream",
     "text": [
      "layer_name: layer4.2.act3, 1\n"
     ]
    },
    {
     "name": "stderr",
     "output_type": "stream",
     "text": [
      "Global seed set to 2\n",
      "GPU available: True, used: True\n",
      "TPU available: False, using: 0 TPU cores\n",
      "IPU available: False, using: 0 IPUs\n",
      "LOCAL_RANK: 0 - CUDA_VISIBLE_DEVICES: [0,1,2,3,4,5,6,7]\n"
     ]
    },
    {
     "data": {
      "application/vnd.jupyter.widget-view+json": {
       "model_id": "8665edab567440f8b53ed4637c669998",
       "version_major": 2,
       "version_minor": 0
      },
      "text/plain": [
       "Predicting: 0it [00:00, ?it/s]"
      ]
     },
     "metadata": {},
     "output_type": "display_data"
    },
    {
     "name": "stderr",
     "output_type": "stream",
     "text": [
      "Global seed set to 2\n",
      "Global seed set to 2\n"
     ]
    },
    {
     "name": "stdout",
     "output_type": "stream",
     "text": [
      "['layer1.0.act3', 'layer1.1.act3', 'layer1.2.act3', 'layer2.0.act3', 'layer2.1.act3', 'layer2.2.act3', 'layer2.3.act3', 'layer3.0.act3', 'layer3.1.act3', 'layer3.2.act3', 'layer3.3.act3', 'layer3.4.act3', 'layer3.5.act3', 'layer4.0.act3', 'layer4.1.act3', 'layer4.2.act3', 'global_pool.pool']\n"
     ]
    },
    {
     "name": "stderr",
     "output_type": "stream",
     "text": [
      "Global seed set to 2\n"
     ]
    },
    {
     "name": "stdout",
     "output_type": "stream",
     "text": [
      "['layer1.0.act3', 'layer1.1.act3', 'layer1.2.act3', 'layer2.0.act3', 'layer2.1.act3', 'layer2.2.act3', 'layer2.3.act3', 'layer3.0.act3', 'layer3.1.act3', 'layer3.2.act3', 'layer3.3.act3', 'layer3.4.act3', 'layer3.5.act3', 'layer4.0.act3', 'layer4.1.act3', 'layer4.2.act3', 'global_pool.pool']\n",
      "['layer1.0.act3', 'layer1.1.act3', 'layer1.2.act3', 'layer2.0.act3', 'layer2.1.act3', 'layer2.2.act3', 'layer2.3.act3', 'layer3.0.act3', 'layer3.1.act3', 'layer3.2.act3', 'layer3.3.act3', 'layer3.4.act3', 'layer3.5.act3', 'layer4.0.act3', 'layer4.1.act3', 'layer4.2.act3', 'global_pool.pool']\n"
     ]
    },
    {
     "ename": "IndexError",
     "evalue": "list index out of range",
     "output_type": "error",
     "traceback": [
      "\u001b[0;31m---------------------------------------------------------------------------\u001b[0m",
      "\u001b[0;31mIndexError\u001b[0m                                Traceback (most recent call last)",
      "\u001b[0;32m/tmp/ipykernel_2471083/2901628723.py\u001b[0m in \u001b[0;36m<module>\u001b[0;34m\u001b[0m\n\u001b[1;32m     35\u001b[0m                             for f in sorted(all_res[layer][ft_ds].keys())] \\\n\u001b[1;32m     36\u001b[0m                            for ft_ds in FINETUNING_DATASETS], \n\u001b[0;32m---> 37\u001b[0;31m                     legend_ncol=4)\n\u001b[0m",
      "\u001b[0;32m/NS/robustness_2/work/vnanda/invariances_in_reps/plot_helper.py\u001b[0m in \u001b[0;36mline_plot\u001b[0;34m(lines_y, x_title, y_title, plot_title, subfolder, filename, extension, x_vals, legend_vals, vertical_line, horizontal_lines, horizontal_lines_err, colors, linestyles, y_lims, root_dir, paper_friendly_plots, plot_inside, legend_location, savefig, figsize, marker, results_subfolder_name, grid_spacing, y_err, legend_ncol, inset)\u001b[0m\n\u001b[1;32m    103\u001b[0m     \u001b[0mmax_xv\u001b[0m\u001b[0;34m,\u001b[0m \u001b[0mmax_xv_len\u001b[0m \u001b[0;34m=\u001b[0m \u001b[0;32mNone\u001b[0m\u001b[0;34m,\u001b[0m \u001b[0;32mNone\u001b[0m\u001b[0;34m\u001b[0m\u001b[0;34m\u001b[0m\u001b[0m\n\u001b[1;32m    104\u001b[0m     \u001b[0;32mfor\u001b[0m \u001b[0mi\u001b[0m \u001b[0;32min\u001b[0m \u001b[0mrange\u001b[0m\u001b[0;34m(\u001b[0m\u001b[0mlen\u001b[0m\u001b[0;34m(\u001b[0m\u001b[0mx_vals\u001b[0m\u001b[0;34m)\u001b[0m\u001b[0;34m)\u001b[0m\u001b[0;34m:\u001b[0m\u001b[0;34m\u001b[0m\u001b[0;34m\u001b[0m\u001b[0m\n\u001b[0;32m--> 105\u001b[0;31m         \u001b[0;32mif\u001b[0m \u001b[0misinstance\u001b[0m\u001b[0;34m(\u001b[0m\u001b[0mx_vals\u001b[0m\u001b[0;34m[\u001b[0m\u001b[0mi\u001b[0m\u001b[0;34m]\u001b[0m\u001b[0;34m[\u001b[0m\u001b[0;36m0\u001b[0m\u001b[0;34m]\u001b[0m\u001b[0;34m,\u001b[0m \u001b[0mnp\u001b[0m\u001b[0;34m.\u001b[0m\u001b[0mstr_\u001b[0m\u001b[0;34m)\u001b[0m \u001b[0;32mor\u001b[0m \u001b[0misinstance\u001b[0m\u001b[0;34m(\u001b[0m\u001b[0mx_vals\u001b[0m\u001b[0;34m[\u001b[0m\u001b[0mi\u001b[0m\u001b[0;34m]\u001b[0m\u001b[0;34m[\u001b[0m\u001b[0;36m0\u001b[0m\u001b[0;34m]\u001b[0m\u001b[0;34m,\u001b[0m \u001b[0mstr\u001b[0m\u001b[0;34m)\u001b[0m\u001b[0;34m:\u001b[0m\u001b[0;34m\u001b[0m\u001b[0;34m\u001b[0m\u001b[0m\n\u001b[0m\u001b[1;32m    106\u001b[0m             \u001b[0;32mif\u001b[0m \u001b[0mmax_xv_len\u001b[0m \u001b[0;32mis\u001b[0m \u001b[0;32mNone\u001b[0m \u001b[0;32mor\u001b[0m \u001b[0mmax_xv_len\u001b[0m \u001b[0;34m<\u001b[0m \u001b[0mlen\u001b[0m\u001b[0;34m(\u001b[0m\u001b[0mx_vals\u001b[0m\u001b[0;34m[\u001b[0m\u001b[0mi\u001b[0m\u001b[0;34m]\u001b[0m\u001b[0;34m)\u001b[0m\u001b[0;34m:\u001b[0m\u001b[0;34m\u001b[0m\u001b[0;34m\u001b[0m\u001b[0m\n\u001b[1;32m    107\u001b[0m                 \u001b[0mmax_xv_len\u001b[0m \u001b[0;34m=\u001b[0m \u001b[0mlen\u001b[0m\u001b[0;34m(\u001b[0m\u001b[0mx_vals\u001b[0m\u001b[0;34m[\u001b[0m\u001b[0mi\u001b[0m\u001b[0;34m]\u001b[0m\u001b[0;34m)\u001b[0m\u001b[0;34m\u001b[0m\u001b[0;34m\u001b[0m\u001b[0m\n",
      "\u001b[0;31mIndexError\u001b[0m: list index out of range"
     ]
    },
    {
     "data": {
      "image/png": "[encoded data removed]",
      "text/plain": [
       "<Figure size 1000x600 with 1 Axes>"
      ]
     },
     "metadata": {
      "needs_background": "light"
     },
     "output_type": "display_data"
    }
   ],
   "source": [
    "SOURCE_DATASETS = ['imagenet']\n",
    "MODELS = CHECKPOINT_PATHS.keys()\n",
    "\n",
    "for model in MODELS:\n",
    "    for append in CHECKPOINT_PATHS[model].keys():\n",
    "        checkpoint_path = CHECKPOINT_PATHS[model][append]\n",
    "        for source_dataset in SOURCE_DATASETS:\n",
    "            all_res = {}\n",
    "            for finetuning_dataset in FINETUNING_DATASETS:\n",
    "                base_model_path = f'{BASE_DIR}/{model}-base-{source_dataset}-ft-{finetuning_dataset}'\n",
    "                layer_to_acc = get_layerwise_test_acc(model, source_dataset, finetuning_dataset, \n",
    "                                       checkpoint_path, base_model_path, append)\n",
    "            \n",
    "                for layer in layer_to_acc.keys():\n",
    "                    if layer not in all_res:\n",
    "                        all_res[layer] = {ft_ds:{} for ft_ds in FINETUNING_DATASETS}\n",
    "                    all_res[layer][finetuning_dataset] = layer_to_acc[layer]\n",
    "            \n",
    "            for layer in all_res.keys():\n",
    "                plt_hp.line_plot(\n",
    "                    [[np.nanmean(all_res[layer][ft_ds][f]) \\\n",
    "                      for f in sorted(all_res[layer][ft_ds].keys())] \\\n",
    "                     for ft_ds in FINETUNING_DATASETS], \n",
    "                    'Fraction of neurons', 'Transfer Accuracy', layer, subfolder=layer, \n",
    "                    filename=f'{model}_base_{source_dataset}_{append}', \n",
    "                    extension='png', x_vals=[[f for f in sorted(all_res[layer][ft_ds].keys())] \\\n",
    "                                             for ft_ds in FINETUNING_DATASETS], \n",
    "                    legend_vals=FINETUNING_DATASETS, vertical_line=None, colors=plt_hp.COLORS, \n",
    "                    linestyles=['-'] * len(FINETUNING_DATASETS), \n",
    "                    y_lims=(0.,1.), root_dir='.', paper_friendly_plots=True, \n",
    "                    plot_inside=False, legend_location='best', savefig=True, \n",
    "                    figsize=(10,6), marker=[True] * len(FINETUNING_DATASETS), \n",
    "                    results_subfolder_name='middle_layer_analysis', grid_spacing=None, \n",
    "                    y_err=[[np.nanstd(all_res[layer][ft_ds][f]) \\\n",
    "                            for f in sorted(all_res[layer][ft_ds].keys())] \\\n",
    "                           for ft_ds in FINETUNING_DATASETS], \n",
    "                    legend_ncol=4)"
   ]
  },
  {
   "cell_type": "code",
   "execution_count": null,
   "id": "6be1fc0b",
   "metadata": {},
   "outputs": [],
   "source": []
  }
 ],
 "metadata": {
  "kernelspec": {
   "display_name": "Python 3 (ipykernel)",
   "language": "python",
   "name": "python3"
  },
  "language_info": {
   "codemirror_mode": {
    "name": "ipython",
    "version": 3
   },
   "file_extension": ".py",
   "mimetype": "text/x-python",
   "name": "python",
   "nbconvert_exporter": "python",
   "pygments_lexer": "ipython3",
   "version": "3.7.9"
  }
 },
 "nbformat": 4,
 "nbformat_minor": 5
}
