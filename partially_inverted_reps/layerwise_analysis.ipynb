{
 "cells": [
  {
   "cell_type": "code",
   "execution_count": 1,
   "id": "6df5c715",
   "metadata": {},
   "outputs": [
    {
     "name": "stderr",
     "output_type": "stream",
     "text": [
      "/NS/twitter_archive2/work/vnanda/minconda3/envs/dl_base/lib/python3.7/site-packages/paramiko/transport.py:236: CryptographyDeprecationWarning: Blowfish has been deprecated\n",
      "  \"class\": algorithms.Blowfish,\n"
     ]
    }
   ],
   "source": [
    "from pytorch_lightning import utilities as pl_utils\n",
    "from pytorch_lightning.trainer.trainer import Trainer\n",
    "from pytorch_lightning.plugins import DDPPlugin\n",
    "import torch\n",
    "import torch.nn as nn\n",
    "import pathlib\n",
    "from functools import partial\n",
    "import sys, glob, os, copy\n",
    "import numpy as np\n",
    "from typing import List, OrderedDict, Union\n",
    "\n",
    "sys.path.append('..')\n",
    "sys.path.append('../deep-learning-base')\n",
    "sys.path.append('../deep-learning-base/training')\n",
    "sys.path.append('../deep-learning-base/architectures')\n",
    "sys.path.append('../deep-learning-base/datasets')\n",
    "sys.path.append('../partially_inverted_reps')\n",
    "\n",
    "from timm.models.fx_features import GraphExtractNet\n",
    "import plot_helper as plt_hp\n",
    "import output as out\n",
    "from training import LitProgressBar, NicerModelCheckpointing\n",
    "import training.finetuning as ft\n",
    "import architectures as arch\n",
    "from architectures.utils import intermediate_layer_names\n",
    "from architectures.callbacks import LightningWrapper, LinearEvalWrapper\n",
    "from attack.callbacks import AdvCallback\n",
    "from data_modules import DATA_MODULES\n",
    "import dataset_metadata as dsmd\n",
    "from partial_loss import PartialInversionLoss, PartialInversionRegularizedLoss\n",
    "from __init__ import DATA_PATH_IMAGENET, DATA_PATH, SERVER_PROJECT_PATH, DATA_PATH_FLOWERS_PETS"
   ]
  },
  {
   "cell_type": "code",
   "execution_count": 2,
   "id": "5495b002",
   "metadata": {},
   "outputs": [],
   "source": [
    "CHECKPOINT_PATHS = {\n",
    "    'resnet50': {\n",
    "        'nonrob': '',\n",
    "        'robl2eps3': '/NS/robustness_3/work/vnanda/adv-robustness/logs/'\\\n",
    "                        'robust_imagenet/eps3/resnet-50-l2-eps3.ckpt'\n",
    "    }\n",
    "}"
   ]
  },
  {
   "cell_type": "code",
   "execution_count": 3,
   "id": "11882de5",
   "metadata": {},
   "outputs": [],
   "source": [
    "SEED = 2\n",
    "NUM_NODES = 1\n",
    "DEVICES = 1\n",
    "BASE_DIR = f\"{pathlib.Path('.').parent.resolve()}/checkpoints\"\n",
    "\n",
    "FINETUNING_DATASETS = ['cifar10', 'cifar100', 'flowers', 'oxford-iiit-pets']\n",
    "FINETUNE_BS = 256\n",
    "EVAL_BATCH_SIZE = 100"
   ]
  },
  {
   "cell_type": "code",
   "execution_count": 4,
   "id": "47a7f7a7",
   "metadata": {},
   "outputs": [],
   "source": [
    "def save_predictions(model_path, out):\n",
    "    preds_path = f'{model_path.split(\".ckpt\")[0]}.pred'\n",
    "    torch.save({'pred': out[0].detach().cpu(), 'gt': out[1].detach().cpu()}, preds_path)\n",
    "\n",
    "def load_predictions(model_path):\n",
    "    preds_path = f'{model_path.split(\".ckpt\")[0]}.pred'\n",
    "    if os.path.exists(preds_path):\n",
    "        return torch.load(preds_path)\n",
    "\n",
    "def accuracy(gt, pred):\n",
    "    pred = torch.argmax(pred, 1)\n",
    "    return torch.sum(gt == pred) / len(gt)\n",
    "\n",
    "\n",
    "def get_layerwise_test_acc(model, source_dataset, finetuning_dataset, \n",
    "                           checkpoint_path, base_model_path, append):\n",
    "    \"\"\"\n",
    "    checkpoint_path: base model to load when creating model\n",
    "    base_model_path: directory with linear probe weights of diff layers\n",
    "    \"\"\"\n",
    "    dm = DATA_MODULES[finetuning_dataset](\n",
    "        data_dir=DATA_PATH_IMAGENET if 'imagenet' in finetuning_dataset else \\\n",
    "            DATA_PATH_FLOWERS_PETS if finetuning_dataset in ['flowers','oxford-iiit-pets'] else DATA_PATH,\n",
    "        transform_train=dsmd.TRAIN_TRANSFORMS_TRANSFER_DEFAULT(224),\n",
    "        transform_test=dsmd.TEST_TRANSFORMS_DEFAULT(224),\n",
    "        batch_size=EVAL_BATCH_SIZE)\n",
    "    dm.init_remaining_attrs(source_dataset)\n",
    "\n",
    "    ## assign mean and std from source dataset\n",
    "    m1 = arch.create_model(model, source_dataset, pretrained=True,\n",
    "                           checkpoint_path=checkpoint_path, seed=SEED, \n",
    "                           num_classes=dsmd.DATASET_PARAMS[source_dataset]['num_classes'],\n",
    "                           callback=partial(LightningWrapper, \n",
    "                                            dataset_name=source_dataset),\n",
    "                           loading_function_kwargs={'strict': False})\n",
    "    original_model = copy.deepcopy(m1.model)\n",
    "    layer_names = intermediate_layer_names(m1.model)\n",
    "    print (layer_names)\n",
    "    layer_to_acc = {}\n",
    "#     for layer_name in layer_names[:-1:5]:\n",
    "    for layer_name in layer_names:\n",
    "        FRACTIONS = glob.glob(f'{base_model_path}/'\n",
    "                              f'frac-*-mode-random-seed-*-ftmode-linear-lr-0.1-bs-256-{append}/'\n",
    "                              f'*-{layer_name}-topk=1.ckpt')\n",
    "        FRACTIONS = sorted(list(set(\n",
    "            [float(x.split('/frac-')[1].split('-')[0]) for x in FRACTIONS \\\n",
    "             if len(x.split('/frac-')[1].split('-')[0]) == 7]\n",
    "        )))\n",
    "        if len(FRACTIONS) == 0:    continue\n",
    "\n",
    "        frac_to_accs = {}\n",
    "        for fraction in FRACTIONS:\n",
    "            model_paths = glob.glob(f'{base_model_path}/'\n",
    "                                   f'frac-{fraction:.5f}-mode-random-seed-*-ftmode-linear-lr-0.1-bs-256-{append}/'\n",
    "                                   f'*-{layer_name}-topk=1.ckpt')\n",
    "            print (f'layer_name: {layer_name}, {len(model_paths)}')\n",
    "            for model_path in model_paths[:2]:\n",
    "                cached_preds = load_predictions(model_path)\n",
    "                if cached_preds is not None:\n",
    "                    print (f'Loaded cached for {model_path}')\n",
    "                    acc = accuracy(cached_preds['gt'], cached_preds['pred']).item()\n",
    "                else:\n",
    "                    seed = int(model_path.split('seed-')[1].split('-')[0])\n",
    "                    state_dict = torch.load(model_path)\n",
    "                    chopped_model = GraphExtractNet(copy.deepcopy(original_model), [layer_name])\n",
    "                    m1.model = nn.Sequential(\n",
    "                        OrderedDict([\n",
    "                            ('feature_extractor', chopped_model), \n",
    "                            ('flatten', nn.Flatten(1))\n",
    "                            ]))\n",
    "                    new_layer = ft.setup_model_for_finetuning(\n",
    "                        m1.model,\n",
    "                        dsmd.DATASET_PARAMS[finetuning_dataset]['num_classes'],\n",
    "                        'random', fraction, seed, \n",
    "                        inplace=True, infer_features=True)\n",
    "                    new_layer.load_state_dict(\n",
    "                        {'.'.join(k.split('.')[-2:]):v for k, v in state_dict['state_dict'].items()}, \n",
    "                                              strict=True)\n",
    "                    if hasattr(new_layer, 'neuron_indices') and 'neuron_indices' in state_dict:\n",
    "                        assert torch.all(new_layer.neuron_indices == state_dict['neuron_indices'])\n",
    "                    pl_utils.seed.seed_everything(seed, workers=True)\n",
    "                    trainer = Trainer(accelerator='gpu', \n",
    "                                      devices=DEVICES,\n",
    "                                      num_nodes=NUM_NODES,\n",
    "                                      log_every_n_steps=1,\n",
    "                                      auto_select_gpus=True, \n",
    "                                      deterministic=True,\n",
    "                                      check_val_every_n_epoch=1,\n",
    "                                      num_sanity_val_steps=0,\n",
    "                                      callbacks=[\n",
    "                                        LitProgressBar(['loss', \n",
    "                                                        'running_test_acc'])])\n",
    "                    out = trainer.predict(m1, dataloaders=[dm.test_dataloader()])\n",
    "                    save_predictions(model_path, out)\n",
    "                    gt, pred = out[1], out[0]\n",
    "                    acc = accuracy(gt, pred).item()\n",
    "                \n",
    "                if fraction in frac_to_accs:\n",
    "                    frac_to_accs[fraction].append(acc)\n",
    "                else:\n",
    "                    frac_to_accs[fraction] = [acc]\n",
    "        \n",
    "        layer_to_acc[layer_name] = frac_to_accs\n",
    "\n",
    "    return layer_to_acc"
   ]
  },
  {
   "cell_type": "code",
   "execution_count": null,
   "id": "c41db0c0",
   "metadata": {},
   "outputs": [],
   "source": []
  },
  {
   "cell_type": "code",
   "execution_count": null,
   "id": "6b0e2430",
   "metadata": {},
   "outputs": [
    {
     "name": "stderr",
     "output_type": "stream",
     "text": [
      "Global seed set to 2\n"
     ]
    },
    {
     "name": "stdout",
     "output_type": "stream",
     "text": [
      "ERROR! Session/line number was not unique in database. History logging moved to new session 161\n"
     ]
    },
    {
     "name": "stderr",
     "output_type": "stream",
     "text": [
      "Downloading: \"https://github.com/rwightman/pytorch-image-models/releases/download/v0.1-rsb-weights/resnet50_a1_0-14fe96d1.pth\" to /home/vnanda/.cache/torch/hub/checkpoints/resnet50_a1_0-14fe96d1.pth\n"
     ]
    },
    {
     "name": "stdout",
     "output_type": "stream",
     "text": [
      "['layer1.0.act3', 'layer1.1.act3', 'layer1.2.act3', 'layer2.0.act3', 'layer2.1.act3', 'layer2.2.act3', 'layer2.3.act3', 'layer3.0.act3', 'layer3.1.act3', 'layer3.2.act3', 'layer3.3.act3', 'layer3.4.act3', 'layer3.5.act3', 'layer4.0.act3', 'layer4.1.act3', 'layer4.2.act3', 'global_pool.pool']\n",
      "layer_name: layer1.0.act3, 4\n",
      "Loaded cached for /NS/robustness_2/work/vnanda/invariances_in_reps/partially_inverted_reps/checkpoints/resnet50-base-imagenet-ft-cifar10/frac-0.00050-mode-random-seed-4-ftmode-linear-lr-0.1-bs-256-nonrob/epoch=27-layer1.0.act3-topk=1.ckpt\n",
      "Loaded cached for /NS/robustness_2/work/vnanda/invariances_in_reps/partially_inverted_reps/checkpoints/resnet50-base-imagenet-ft-cifar10/frac-0.00050-mode-random-seed-3-ftmode-linear-lr-0.1-bs-256-nonrob/epoch=32-layer1.0.act3-topk=1.ckpt\n",
      "layer_name: layer1.0.act3, 4\n",
      "Loaded cached for /NS/robustness_2/work/vnanda/invariances_in_reps/partially_inverted_reps/checkpoints/resnet50-base-imagenet-ft-cifar10/frac-0.00500-mode-random-seed-2-ftmode-linear-lr-0.1-bs-256-nonrob/epoch=49-layer1.0.act3-topk=1.ckpt\n",
      "Loaded cached for /NS/robustness_2/work/vnanda/invariances_in_reps/partially_inverted_reps/checkpoints/resnet50-base-imagenet-ft-cifar10/frac-0.00500-mode-random-seed-1-ftmode-linear-lr-0.1-bs-256-nonrob/epoch=36-layer1.0.act3-topk=1.ckpt\n",
      "layer_name: layer1.0.act3, 4\n",
      "Loaded cached for /NS/robustness_2/work/vnanda/invariances_in_reps/partially_inverted_reps/checkpoints/resnet50-base-imagenet-ft-cifar10/frac-0.05000-mode-random-seed-3-ftmode-linear-lr-0.1-bs-256-nonrob/epoch=22-layer1.0.act3-topk=1.ckpt\n",
      "Loaded cached for /NS/robustness_2/work/vnanda/invariances_in_reps/partially_inverted_reps/checkpoints/resnet50-base-imagenet-ft-cifar10/frac-0.05000-mode-random-seed-4-ftmode-linear-lr-0.1-bs-256-nonrob/epoch=45-layer1.0.act3-topk=1.ckpt\n",
      "layer_name: layer1.0.act3, 4\n",
      "Loaded cached for /NS/robustness_2/work/vnanda/invariances_in_reps/partially_inverted_reps/checkpoints/resnet50-base-imagenet-ft-cifar10/frac-0.10000-mode-random-seed-1-ftmode-linear-lr-0.1-bs-256-nonrob/epoch=38-layer1.0.act3-topk=1.ckpt\n",
      "Loaded cached for /NS/robustness_2/work/vnanda/invariances_in_reps/partially_inverted_reps/checkpoints/resnet50-base-imagenet-ft-cifar10/frac-0.10000-mode-random-seed-2-ftmode-linear-lr-0.1-bs-256-nonrob/epoch=46-layer1.0.act3-topk=1.ckpt\n",
      "layer_name: layer1.0.act3, 3\n",
      "Loaded cached for /NS/robustness_2/work/vnanda/invariances_in_reps/partially_inverted_reps/checkpoints/resnet50-base-imagenet-ft-cifar10/frac-0.20000-mode-random-seed-3-ftmode-linear-lr-0.1-bs-256-nonrob/epoch=22-layer1.0.act3-topk=1.ckpt\n",
      "Loaded cached for /NS/robustness_2/work/vnanda/invariances_in_reps/partially_inverted_reps/checkpoints/resnet50-base-imagenet-ft-cifar10/frac-0.20000-mode-random-seed-1-ftmode-linear-lr-0.1-bs-256-nonrob/epoch=38-layer1.0.act3-topk=1.ckpt\n",
      "layer_name: layer1.0.act3, 3\n",
      "Loaded cached for /NS/robustness_2/work/vnanda/invariances_in_reps/partially_inverted_reps/checkpoints/resnet50-base-imagenet-ft-cifar10/frac-0.40000-mode-random-seed-1-ftmode-linear-lr-0.1-bs-256-nonrob/epoch=38-layer1.0.act3-topk=1.ckpt\n",
      "Loaded cached for /NS/robustness_2/work/vnanda/invariances_in_reps/partially_inverted_reps/checkpoints/resnet50-base-imagenet-ft-cifar10/frac-0.40000-mode-random-seed-2-ftmode-linear-lr-0.1-bs-256-nonrob/epoch=49-layer1.0.act3-topk=1.ckpt\n",
      "layer_name: layer1.0.act3, 3\n",
      "Loaded cached for /NS/robustness_2/work/vnanda/invariances_in_reps/partially_inverted_reps/checkpoints/resnet50-base-imagenet-ft-cifar10/frac-0.50000-mode-random-seed-3-ftmode-linear-lr-0.1-bs-256-nonrob/epoch=22-layer1.0.act3-topk=1.ckpt\n",
      "Loaded cached for /NS/robustness_2/work/vnanda/invariances_in_reps/partially_inverted_reps/checkpoints/resnet50-base-imagenet-ft-cifar10/frac-0.50000-mode-random-seed-2-ftmode-linear-lr-0.1-bs-256-nonrob/epoch=45-layer1.0.act3-topk=1.ckpt\n",
      "layer_name: layer1.0.act3, 3\n",
      "Loaded cached for /NS/robustness_2/work/vnanda/invariances_in_reps/partially_inverted_reps/checkpoints/resnet50-base-imagenet-ft-cifar10/frac-0.80000-mode-random-seed-3-ftmode-linear-lr-0.1-bs-256-nonrob/epoch=38-layer1.0.act3-topk=1.ckpt\n",
      "Loaded cached for /NS/robustness_2/work/vnanda/invariances_in_reps/partially_inverted_reps/checkpoints/resnet50-base-imagenet-ft-cifar10/frac-0.80000-mode-random-seed-1-ftmode-linear-lr-0.1-bs-256-nonrob/epoch=38-layer1.0.act3-topk=1.ckpt\n",
      "layer_name: layer1.0.act3, 3\n",
      "Loaded cached for /NS/robustness_2/work/vnanda/invariances_in_reps/partially_inverted_reps/checkpoints/resnet50-base-imagenet-ft-cifar10/frac-0.90000-mode-random-seed-2-ftmode-linear-lr-0.1-bs-256-nonrob/epoch=45-layer1.0.act3-topk=1.ckpt\n",
      "Loaded cached for /NS/robustness_2/work/vnanda/invariances_in_reps/partially_inverted_reps/checkpoints/resnet50-base-imagenet-ft-cifar10/frac-0.90000-mode-random-seed-1-ftmode-linear-lr-0.1-bs-256-nonrob/epoch=38-layer1.0.act3-topk=1.ckpt\n",
      "layer_name: layer1.0.act3, 1\n",
      "Loaded cached for /NS/robustness_2/work/vnanda/invariances_in_reps/partially_inverted_reps/checkpoints/resnet50-base-imagenet-ft-cifar10/frac-1.00000-mode-random-seed-2-ftmode-linear-lr-0.1-bs-256-nonrob/epoch=45-layer1.0.act3-topk=1.ckpt\n",
      "layer_name: layer1.1.act3, 6\n",
      "Loaded cached for /NS/robustness_2/work/vnanda/invariances_in_reps/partially_inverted_reps/checkpoints/resnet50-base-imagenet-ft-cifar10/frac-0.00050-mode-random-seed-4-ftmode-linear-lr-0.1-bs-256-nonrob/epoch=11-layer1.1.act3-topk=1.ckpt\n",
      "Loaded cached for /NS/robustness_2/work/vnanda/invariances_in_reps/partially_inverted_reps/checkpoints/resnet50-base-imagenet-ft-cifar10/frac-0.00050-mode-random-seed-4-ftmode-linear-lr-0.1-bs-256-nonrob/epoch=33-layer1.1.act3-topk=1.ckpt\n",
      "layer_name: layer1.1.act3, 7\n",
      "Loaded cached for /NS/robustness_2/work/vnanda/invariances_in_reps/partially_inverted_reps/checkpoints/resnet50-base-imagenet-ft-cifar10/frac-0.00500-mode-random-seed-2-ftmode-linear-lr-0.1-bs-256-nonrob/epoch=14-layer1.1.act3-topk=1.ckpt\n",
      "Loaded cached for /NS/robustness_2/work/vnanda/invariances_in_reps/partially_inverted_reps/checkpoints/resnet50-base-imagenet-ft-cifar10/frac-0.00500-mode-random-seed-2-ftmode-linear-lr-0.1-bs-256-nonrob/epoch=46-layer1.1.act3-topk=1.ckpt\n",
      "layer_name: layer1.1.act3, 5\n",
      "Loaded cached for /NS/robustness_2/work/vnanda/invariances_in_reps/partially_inverted_reps/checkpoints/resnet50-base-imagenet-ft-cifar10/frac-0.05000-mode-random-seed-3-ftmode-linear-lr-0.1-bs-256-nonrob/epoch=22-layer1.1.act3-topk=1.ckpt\n",
      "Loaded cached for /NS/robustness_2/work/vnanda/invariances_in_reps/partially_inverted_reps/checkpoints/resnet50-base-imagenet-ft-cifar10/frac-0.05000-mode-random-seed-3-ftmode-linear-lr-0.1-bs-256-nonrob/epoch=19-layer1.1.act3-topk=1.ckpt\n",
      "layer_name: layer1.1.act3, 5\n",
      "Loaded cached for /NS/robustness_2/work/vnanda/invariances_in_reps/partially_inverted_reps/checkpoints/resnet50-base-imagenet-ft-cifar10/frac-0.10000-mode-random-seed-1-ftmode-linear-lr-0.1-bs-256-nonrob/epoch=33-layer1.1.act3-topk=1.ckpt\n",
      "Loaded cached for /NS/robustness_2/work/vnanda/invariances_in_reps/partially_inverted_reps/checkpoints/resnet50-base-imagenet-ft-cifar10/frac-0.10000-mode-random-seed-2-ftmode-linear-lr-0.1-bs-256-nonrob/epoch=49-layer1.1.act3-topk=1.ckpt\n",
      "layer_name: layer1.1.act3, 5\n",
      "Loaded cached for /NS/robustness_2/work/vnanda/invariances_in_reps/partially_inverted_reps/checkpoints/resnet50-base-imagenet-ft-cifar10/frac-0.20000-mode-random-seed-3-ftmode-linear-lr-0.1-bs-256-nonrob/epoch=36-layer1.1.act3-topk=1.ckpt\n",
      "Loaded cached for /NS/robustness_2/work/vnanda/invariances_in_reps/partially_inverted_reps/checkpoints/resnet50-base-imagenet-ft-cifar10/frac-0.20000-mode-random-seed-3-ftmode-linear-lr-0.1-bs-256-nonrob/epoch=22-layer1.1.act3-topk=1.ckpt\n",
      "layer_name: layer1.1.act3, 4\n",
      "Loaded cached for /NS/robustness_2/work/vnanda/invariances_in_reps/partially_inverted_reps/checkpoints/resnet50-base-imagenet-ft-cifar10/frac-0.40000-mode-random-seed-1-ftmode-linear-lr-0.1-bs-256-nonrob/epoch=38-layer1.1.act3-topk=1.ckpt\n",
      "Loaded cached for /NS/robustness_2/work/vnanda/invariances_in_reps/partially_inverted_reps/checkpoints/resnet50-base-imagenet-ft-cifar10/frac-0.40000-mode-random-seed-2-ftmode-linear-lr-0.1-bs-256-nonrob/epoch=30-layer1.1.act3-topk=1.ckpt\n",
      "layer_name: layer1.1.act3, 5\n",
      "Loaded cached for /NS/robustness_2/work/vnanda/invariances_in_reps/partially_inverted_reps/checkpoints/resnet50-base-imagenet-ft-cifar10/frac-0.50000-mode-random-seed-4-ftmode-linear-lr-0.1-bs-256-nonrob/epoch=33-layer1.1.act3-topk=1.ckpt\n",
      "Loaded cached for /NS/robustness_2/work/vnanda/invariances_in_reps/partially_inverted_reps/checkpoints/resnet50-base-imagenet-ft-cifar10/frac-0.50000-mode-random-seed-3-ftmode-linear-lr-0.1-bs-256-nonrob/epoch=44-layer1.1.act3-topk=1.ckpt\n",
      "layer_name: layer1.1.act3, 5\n",
      "Loaded cached for /NS/robustness_2/work/vnanda/invariances_in_reps/partially_inverted_reps/checkpoints/resnet50-base-imagenet-ft-cifar10/frac-0.80000-mode-random-seed-3-ftmode-linear-lr-0.1-bs-256-nonrob/epoch=14-layer1.1.act3-topk=1.ckpt\n"
     ]
    },
    {
     "name": "stdout",
     "output_type": "stream",
     "text": [
      "Loaded cached for /NS/robustness_2/work/vnanda/invariances_in_reps/partially_inverted_reps/checkpoints/resnet50-base-imagenet-ft-cifar10/frac-0.80000-mode-random-seed-3-ftmode-linear-lr-0.1-bs-256-nonrob/epoch=44-layer1.1.act3-topk=1.ckpt\n",
      "layer_name: layer1.1.act3, 4\n",
      "Loaded cached for /NS/robustness_2/work/vnanda/invariances_in_reps/partially_inverted_reps/checkpoints/resnet50-base-imagenet-ft-cifar10/frac-0.90000-mode-random-seed-2-ftmode-linear-lr-0.1-bs-256-nonrob/epoch=49-layer1.1.act3-topk=1.ckpt\n",
      "Loaded cached for /NS/robustness_2/work/vnanda/invariances_in_reps/partially_inverted_reps/checkpoints/resnet50-base-imagenet-ft-cifar10/frac-0.90000-mode-random-seed-1-ftmode-linear-lr-0.1-bs-256-nonrob/epoch=29-layer1.1.act3-topk=1.ckpt\n",
      "layer_name: layer1.1.act3, 1\n",
      "Loaded cached for /NS/robustness_2/work/vnanda/invariances_in_reps/partially_inverted_reps/checkpoints/resnet50-base-imagenet-ft-cifar10/frac-1.00000-mode-random-seed-2-ftmode-linear-lr-0.1-bs-256-nonrob/epoch=30-layer1.1.act3-topk=1.ckpt\n",
      "layer_name: layer1.2.act3, 5\n",
      "Loaded cached for /NS/robustness_2/work/vnanda/invariances_in_reps/partially_inverted_reps/checkpoints/resnet50-base-imagenet-ft-cifar10/frac-0.00050-mode-random-seed-4-ftmode-linear-lr-0.1-bs-256-nonrob/epoch=31-layer1.2.act3-topk=1.ckpt\n",
      "Loaded cached for /NS/robustness_2/work/vnanda/invariances_in_reps/partially_inverted_reps/checkpoints/resnet50-base-imagenet-ft-cifar10/frac-0.00050-mode-random-seed-3-ftmode-linear-lr-0.1-bs-256-nonrob/epoch=41-layer1.2.act3-topk=1.ckpt\n",
      "layer_name: layer1.2.act3, 4\n",
      "Loaded cached for /NS/robustness_2/work/vnanda/invariances_in_reps/partially_inverted_reps/checkpoints/resnet50-base-imagenet-ft-cifar10/frac-0.00500-mode-random-seed-2-ftmode-linear-lr-0.1-bs-256-nonrob/epoch=49-layer1.2.act3-topk=1.ckpt\n",
      "Loaded cached for /NS/robustness_2/work/vnanda/invariances_in_reps/partially_inverted_reps/checkpoints/resnet50-base-imagenet-ft-cifar10/frac-0.00500-mode-random-seed-1-ftmode-linear-lr-0.1-bs-256-nonrob/epoch=39-layer1.2.act3-topk=1.ckpt\n",
      "layer_name: layer1.2.act3, 3\n",
      "Loaded cached for /NS/robustness_2/work/vnanda/invariances_in_reps/partially_inverted_reps/checkpoints/resnet50-base-imagenet-ft-cifar10/frac-0.05000-mode-random-seed-3-ftmode-linear-lr-0.1-bs-256-nonrob/epoch=19-layer1.2.act3-topk=1.ckpt\n",
      "Loaded cached for /NS/robustness_2/work/vnanda/invariances_in_reps/partially_inverted_reps/checkpoints/resnet50-base-imagenet-ft-cifar10/frac-0.05000-mode-random-seed-2-ftmode-linear-lr-0.1-bs-256-nonrob/epoch=26-layer1.2.act3-topk=1.ckpt\n",
      "layer_name: layer1.2.act3, 3\n",
      "Loaded cached for /NS/robustness_2/work/vnanda/invariances_in_reps/partially_inverted_reps/checkpoints/resnet50-base-imagenet-ft-cifar10/frac-0.10000-mode-random-seed-1-ftmode-linear-lr-0.1-bs-256-nonrob/epoch=49-layer1.2.act3-topk=1.ckpt\n",
      "Loaded cached for /NS/robustness_2/work/vnanda/invariances_in_reps/partially_inverted_reps/checkpoints/resnet50-base-imagenet-ft-cifar10/frac-0.10000-mode-random-seed-2-ftmode-linear-lr-0.1-bs-256-nonrob/epoch=46-layer1.2.act3-topk=1.ckpt\n",
      "layer_name: layer1.2.act3, 3\n",
      "Loaded cached for /NS/robustness_2/work/vnanda/invariances_in_reps/partially_inverted_reps/checkpoints/resnet50-base-imagenet-ft-cifar10/frac-0.20000-mode-random-seed-3-ftmode-linear-lr-0.1-bs-256-nonrob/epoch=19-layer1.2.act3-topk=1.ckpt\n",
      "Loaded cached for /NS/robustness_2/work/vnanda/invariances_in_reps/partially_inverted_reps/checkpoints/resnet50-base-imagenet-ft-cifar10/frac-0.20000-mode-random-seed-1-ftmode-linear-lr-0.1-bs-256-nonrob/epoch=39-layer1.2.act3-topk=1.ckpt\n",
      "layer_name: layer1.2.act3, 4\n",
      "Loaded cached for /NS/robustness_2/work/vnanda/invariances_in_reps/partially_inverted_reps/checkpoints/resnet50-base-imagenet-ft-cifar10/frac-0.40000-mode-random-seed-1-ftmode-linear-lr-0.1-bs-256-nonrob/epoch=40-layer1.2.act3-topk=1.ckpt\n",
      "Loaded cached for /NS/robustness_2/work/vnanda/invariances_in_reps/partially_inverted_reps/checkpoints/resnet50-base-imagenet-ft-cifar10/frac-0.40000-mode-random-seed-2-ftmode-linear-lr-0.1-bs-256-nonrob/epoch=44-layer1.2.act3-topk=1.ckpt\n",
      "layer_name: layer1.2.act3, 3\n",
      "Loaded cached for /NS/robustness_2/work/vnanda/invariances_in_reps/partially_inverted_reps/checkpoints/resnet50-base-imagenet-ft-cifar10/frac-0.50000-mode-random-seed-3-ftmode-linear-lr-0.1-bs-256-nonrob/epoch=44-layer1.2.act3-topk=1.ckpt\n",
      "Loaded cached for /NS/robustness_2/work/vnanda/invariances_in_reps/partially_inverted_reps/checkpoints/resnet50-base-imagenet-ft-cifar10/frac-0.50000-mode-random-seed-2-ftmode-linear-lr-0.1-bs-256-nonrob/epoch=36-layer1.2.act3-topk=1.ckpt\n",
      "layer_name: layer1.2.act3, 3\n",
      "Loaded cached for /NS/robustness_2/work/vnanda/invariances_in_reps/partially_inverted_reps/checkpoints/resnet50-base-imagenet-ft-cifar10/frac-0.80000-mode-random-seed-3-ftmode-linear-lr-0.1-bs-256-nonrob/epoch=42-layer1.2.act3-topk=1.ckpt\n",
      "Loaded cached for /NS/robustness_2/work/vnanda/invariances_in_reps/partially_inverted_reps/checkpoints/resnet50-base-imagenet-ft-cifar10/frac-0.80000-mode-random-seed-1-ftmode-linear-lr-0.1-bs-256-nonrob/epoch=38-layer1.2.act3-topk=1.ckpt\n",
      "layer_name: layer1.2.act3, 3\n",
      "Loaded cached for /NS/robustness_2/work/vnanda/invariances_in_reps/partially_inverted_reps/checkpoints/resnet50-base-imagenet-ft-cifar10/frac-0.90000-mode-random-seed-2-ftmode-linear-lr-0.1-bs-256-nonrob/epoch=46-layer1.2.act3-topk=1.ckpt\n",
      "Loaded cached for /NS/robustness_2/work/vnanda/invariances_in_reps/partially_inverted_reps/checkpoints/resnet50-base-imagenet-ft-cifar10/frac-0.90000-mode-random-seed-1-ftmode-linear-lr-0.1-bs-256-nonrob/epoch=29-layer1.2.act3-topk=1.ckpt\n",
      "layer_name: layer1.2.act3, 1\n",
      "Loaded cached for /NS/robustness_2/work/vnanda/invariances_in_reps/partially_inverted_reps/checkpoints/resnet50-base-imagenet-ft-cifar10/frac-1.00000-mode-random-seed-2-ftmode-linear-lr-0.1-bs-256-nonrob/epoch=49-layer1.2.act3-topk=1.ckpt\n",
      "layer_name: layer2.0.act3, 4\n",
      "Loaded cached for /NS/robustness_2/work/vnanda/invariances_in_reps/partially_inverted_reps/checkpoints/resnet50-base-imagenet-ft-cifar10/frac-0.00050-mode-random-seed-3-ftmode-linear-lr-0.1-bs-256-nonrob/epoch=31-layer2.0.act3-topk=1.ckpt\n",
      "Loaded cached for /NS/robustness_2/work/vnanda/invariances_in_reps/partially_inverted_reps/checkpoints/resnet50-base-imagenet-ft-cifar10/frac-0.00050-mode-random-seed-2-ftmode-linear-lr-0.1-bs-256-nonrob/epoch=33-layer2.0.act3-topk=1.ckpt\n",
      "layer_name: layer2.0.act3, 4\n",
      "Loaded cached for /NS/robustness_2/work/vnanda/invariances_in_reps/partially_inverted_reps/checkpoints/resnet50-base-imagenet-ft-cifar10/frac-0.00500-mode-random-seed-2-ftmode-linear-lr-0.1-bs-256-nonrob/epoch=10-layer2.0.act3-topk=1.ckpt\n",
      "Loaded cached for /NS/robustness_2/work/vnanda/invariances_in_reps/partially_inverted_reps/checkpoints/resnet50-base-imagenet-ft-cifar10/frac-0.00500-mode-random-seed-1-ftmode-linear-lr-0.1-bs-256-nonrob/epoch=10-layer2.0.act3-topk=1.ckpt\n",
      "layer_name: layer2.0.act3, 3\n",
      "Loaded cached for /NS/robustness_2/work/vnanda/invariances_in_reps/partially_inverted_reps/checkpoints/resnet50-base-imagenet-ft-cifar10/frac-0.05000-mode-random-seed-3-ftmode-linear-lr-0.1-bs-256-nonrob/epoch=37-layer2.0.act3-topk=1.ckpt\n",
      "Loaded cached for /NS/robustness_2/work/vnanda/invariances_in_reps/partially_inverted_reps/checkpoints/resnet50-base-imagenet-ft-cifar10/frac-0.05000-mode-random-seed-2-ftmode-linear-lr-0.1-bs-256-nonrob/epoch=42-layer2.0.act3-topk=1.ckpt\n",
      "layer_name: layer2.0.act3, 3\n",
      "Loaded cached for /NS/robustness_2/work/vnanda/invariances_in_reps/partially_inverted_reps/checkpoints/resnet50-base-imagenet-ft-cifar10/frac-0.10000-mode-random-seed-1-ftmode-linear-lr-0.1-bs-256-nonrob/epoch=36-layer2.0.act3-topk=1.ckpt\n",
      "Loaded cached for /NS/robustness_2/work/vnanda/invariances_in_reps/partially_inverted_reps/checkpoints/resnet50-base-imagenet-ft-cifar10/frac-0.10000-mode-random-seed-2-ftmode-linear-lr-0.1-bs-256-nonrob/epoch=22-layer2.0.act3-topk=1.ckpt\n",
      "layer_name: layer2.0.act3, 3\n",
      "Loaded cached for /NS/robustness_2/work/vnanda/invariances_in_reps/partially_inverted_reps/checkpoints/resnet50-base-imagenet-ft-cifar10/frac-0.20000-mode-random-seed-3-ftmode-linear-lr-0.1-bs-256-nonrob/epoch=17-layer2.0.act3-topk=1.ckpt\n",
      "Loaded cached for /NS/robustness_2/work/vnanda/invariances_in_reps/partially_inverted_reps/checkpoints/resnet50-base-imagenet-ft-cifar10/frac-0.20000-mode-random-seed-1-ftmode-linear-lr-0.1-bs-256-nonrob/epoch=29-layer2.0.act3-topk=1.ckpt\n",
      "layer_name: layer2.0.act3, 3\n",
      "Loaded cached for /NS/robustness_2/work/vnanda/invariances_in_reps/partially_inverted_reps/checkpoints/resnet50-base-imagenet-ft-cifar10/frac-0.40000-mode-random-seed-1-ftmode-linear-lr-0.1-bs-256-nonrob/epoch=42-layer2.0.act3-topk=1.ckpt\n"
     ]
    },
    {
     "name": "stdout",
     "output_type": "stream",
     "text": [
      "Loaded cached for /NS/robustness_2/work/vnanda/invariances_in_reps/partially_inverted_reps/checkpoints/resnet50-base-imagenet-ft-cifar10/frac-0.40000-mode-random-seed-2-ftmode-linear-lr-0.1-bs-256-nonrob/epoch=29-layer2.0.act3-topk=1.ckpt\n",
      "layer_name: layer2.0.act3, 3\n",
      "Loaded cached for /NS/robustness_2/work/vnanda/invariances_in_reps/partially_inverted_reps/checkpoints/resnet50-base-imagenet-ft-cifar10/frac-0.50000-mode-random-seed-3-ftmode-linear-lr-0.1-bs-256-nonrob/epoch=39-layer2.0.act3-topk=1.ckpt\n",
      "Loaded cached for /NS/robustness_2/work/vnanda/invariances_in_reps/partially_inverted_reps/checkpoints/resnet50-base-imagenet-ft-cifar10/frac-0.50000-mode-random-seed-2-ftmode-linear-lr-0.1-bs-256-nonrob/epoch=36-layer2.0.act3-topk=1.ckpt\n",
      "layer_name: layer2.0.act3, 3\n",
      "Loaded cached for /NS/robustness_2/work/vnanda/invariances_in_reps/partially_inverted_reps/checkpoints/resnet50-base-imagenet-ft-cifar10/frac-0.80000-mode-random-seed-3-ftmode-linear-lr-0.1-bs-256-nonrob/epoch=37-layer2.0.act3-topk=1.ckpt\n",
      "Loaded cached for /NS/robustness_2/work/vnanda/invariances_in_reps/partially_inverted_reps/checkpoints/resnet50-base-imagenet-ft-cifar10/frac-0.80000-mode-random-seed-1-ftmode-linear-lr-0.1-bs-256-nonrob/epoch=29-layer2.0.act3-topk=1.ckpt\n",
      "layer_name: layer2.0.act3, 4\n",
      "Loaded cached for /NS/robustness_2/work/vnanda/invariances_in_reps/partially_inverted_reps/checkpoints/resnet50-base-imagenet-ft-cifar10/frac-0.90000-mode-random-seed-2-ftmode-linear-lr-0.1-bs-256-nonrob/epoch=36-layer2.0.act3-topk=1.ckpt\n",
      "Loaded cached for /NS/robustness_2/work/vnanda/invariances_in_reps/partially_inverted_reps/checkpoints/resnet50-base-imagenet-ft-cifar10/frac-0.90000-mode-random-seed-1-ftmode-linear-lr-0.1-bs-256-nonrob/epoch=42-layer2.0.act3-topk=1.ckpt\n",
      "layer_name: layer2.0.act3, 1\n",
      "Loaded cached for /NS/robustness_2/work/vnanda/invariances_in_reps/partially_inverted_reps/checkpoints/resnet50-base-imagenet-ft-cifar10/frac-1.00000-mode-random-seed-2-ftmode-linear-lr-0.1-bs-256-nonrob/epoch=49-layer2.0.act3-topk=1.ckpt\n",
      "layer_name: layer2.1.act3, 4\n",
      "Loaded cached for /NS/robustness_2/work/vnanda/invariances_in_reps/partially_inverted_reps/checkpoints/resnet50-base-imagenet-ft-cifar10/frac-0.00050-mode-random-seed-4-ftmode-linear-lr-0.1-bs-256-nonrob/epoch=38-layer2.1.act3-topk=1.ckpt\n",
      "Loaded cached for /NS/robustness_2/work/vnanda/invariances_in_reps/partially_inverted_reps/checkpoints/resnet50-base-imagenet-ft-cifar10/frac-0.00050-mode-random-seed-3-ftmode-linear-lr-0.1-bs-256-nonrob/epoch=37-layer2.1.act3-topk=1.ckpt\n",
      "layer_name: layer2.1.act3, 5\n",
      "Loaded cached for /NS/robustness_2/work/vnanda/invariances_in_reps/partially_inverted_reps/checkpoints/resnet50-base-imagenet-ft-cifar10/frac-0.00500-mode-random-seed-2-ftmode-linear-lr-0.1-bs-256-nonrob/epoch=14-layer2.1.act3-topk=1.ckpt\n",
      "Loaded cached for /NS/robustness_2/work/vnanda/invariances_in_reps/partially_inverted_reps/checkpoints/resnet50-base-imagenet-ft-cifar10/frac-0.00500-mode-random-seed-1-ftmode-linear-lr-0.1-bs-256-nonrob/epoch=27-layer2.1.act3-topk=1.ckpt\n",
      "layer_name: layer2.1.act3, 4\n",
      "Loaded cached for /NS/robustness_2/work/vnanda/invariances_in_reps/partially_inverted_reps/checkpoints/resnet50-base-imagenet-ft-cifar10/frac-0.05000-mode-random-seed-3-ftmode-linear-lr-0.1-bs-256-nonrob/epoch=40-layer2.1.act3-topk=1.ckpt\n",
      "Loaded cached for /NS/robustness_2/work/vnanda/invariances_in_reps/partially_inverted_reps/checkpoints/resnet50-base-imagenet-ft-cifar10/frac-0.05000-mode-random-seed-4-ftmode-linear-lr-0.1-bs-256-nonrob/epoch=42-layer2.1.act3-topk=1.ckpt\n",
      "layer_name: layer2.1.act3, 4\n",
      "Loaded cached for /NS/robustness_2/work/vnanda/invariances_in_reps/partially_inverted_reps/checkpoints/resnet50-base-imagenet-ft-cifar10/frac-0.10000-mode-random-seed-1-ftmode-linear-lr-0.1-bs-256-nonrob/epoch=43-layer2.1.act3-topk=1.ckpt\n",
      "Loaded cached for /NS/robustness_2/work/vnanda/invariances_in_reps/partially_inverted_reps/checkpoints/resnet50-base-imagenet-ft-cifar10/frac-0.10000-mode-random-seed-2-ftmode-linear-lr-0.1-bs-256-nonrob/epoch=36-layer2.1.act3-topk=1.ckpt\n",
      "layer_name: layer2.1.act3, 4\n",
      "Loaded cached for /NS/robustness_2/work/vnanda/invariances_in_reps/partially_inverted_reps/checkpoints/resnet50-base-imagenet-ft-cifar10/frac-0.20000-mode-random-seed-3-ftmode-linear-lr-0.1-bs-256-nonrob/epoch=40-layer2.1.act3-topk=1.ckpt\n",
      "Loaded cached for /NS/robustness_2/work/vnanda/invariances_in_reps/partially_inverted_reps/checkpoints/resnet50-base-imagenet-ft-cifar10/frac-0.20000-mode-random-seed-4-ftmode-linear-lr-0.1-bs-256-nonrob/epoch=42-layer2.1.act3-topk=1.ckpt\n",
      "layer_name: layer2.1.act3, 4\n",
      "Loaded cached for /NS/robustness_2/work/vnanda/invariances_in_reps/partially_inverted_reps/checkpoints/resnet50-base-imagenet-ft-cifar10/frac-0.40000-mode-random-seed-1-ftmode-linear-lr-0.1-bs-256-nonrob/epoch=37-layer2.1.act3-topk=1.ckpt\n",
      "Loaded cached for /NS/robustness_2/work/vnanda/invariances_in_reps/partially_inverted_reps/checkpoints/resnet50-base-imagenet-ft-cifar10/frac-0.40000-mode-random-seed-2-ftmode-linear-lr-0.1-bs-256-nonrob/epoch=36-layer2.1.act3-topk=1.ckpt\n",
      "layer_name: layer2.1.act3, 4\n",
      "Loaded cached for /NS/robustness_2/work/vnanda/invariances_in_reps/partially_inverted_reps/checkpoints/resnet50-base-imagenet-ft-cifar10/frac-0.50000-mode-random-seed-4-ftmode-linear-lr-0.1-bs-256-nonrob/epoch=43-layer2.1.act3-topk=1.ckpt\n",
      "Loaded cached for /NS/robustness_2/work/vnanda/invariances_in_reps/partially_inverted_reps/checkpoints/resnet50-base-imagenet-ft-cifar10/frac-0.50000-mode-random-seed-3-ftmode-linear-lr-0.1-bs-256-nonrob/epoch=39-layer2.1.act3-topk=1.ckpt\n",
      "layer_name: layer2.1.act3, 4\n",
      "Loaded cached for /NS/robustness_2/work/vnanda/invariances_in_reps/partially_inverted_reps/checkpoints/resnet50-base-imagenet-ft-cifar10/frac-0.80000-mode-random-seed-3-ftmode-linear-lr-0.1-bs-256-nonrob/epoch=37-layer2.1.act3-topk=1.ckpt\n",
      "Loaded cached for /NS/robustness_2/work/vnanda/invariances_in_reps/partially_inverted_reps/checkpoints/resnet50-base-imagenet-ft-cifar10/frac-0.80000-mode-random-seed-4-ftmode-linear-lr-0.1-bs-256-nonrob/epoch=43-layer2.1.act3-topk=1.ckpt\n",
      "layer_name: layer2.1.act3, 4\n",
      "Loaded cached for /NS/robustness_2/work/vnanda/invariances_in_reps/partially_inverted_reps/checkpoints/resnet50-base-imagenet-ft-cifar10/frac-0.90000-mode-random-seed-2-ftmode-linear-lr-0.1-bs-256-nonrob/epoch=22-layer2.1.act3-topk=1.ckpt\n",
      "Loaded cached for /NS/robustness_2/work/vnanda/invariances_in_reps/partially_inverted_reps/checkpoints/resnet50-base-imagenet-ft-cifar10/frac-0.90000-mode-random-seed-1-ftmode-linear-lr-0.1-bs-256-nonrob/epoch=25-layer2.1.act3-topk=1.ckpt\n",
      "layer_name: layer2.1.act3, 1\n",
      "Loaded cached for /NS/robustness_2/work/vnanda/invariances_in_reps/partially_inverted_reps/checkpoints/resnet50-base-imagenet-ft-cifar10/frac-1.00000-mode-random-seed-2-ftmode-linear-lr-0.1-bs-256-nonrob/epoch=44-layer2.1.act3-topk=1.ckpt\n",
      "layer_name: layer2.2.act3, 4\n",
      "Loaded cached for /NS/robustness_2/work/vnanda/invariances_in_reps/partially_inverted_reps/checkpoints/resnet50-base-imagenet-ft-cifar10/frac-0.00050-mode-random-seed-4-ftmode-linear-lr-0.1-bs-256-nonrob/epoch=43-layer2.2.act3-topk=1.ckpt\n",
      "Loaded cached for /NS/robustness_2/work/vnanda/invariances_in_reps/partially_inverted_reps/checkpoints/resnet50-base-imagenet-ft-cifar10/frac-0.00050-mode-random-seed-3-ftmode-linear-lr-0.1-bs-256-nonrob/epoch=29-layer2.2.act3-topk=1.ckpt\n",
      "layer_name: layer2.2.act3, 5\n",
      "Loaded cached for /NS/robustness_2/work/vnanda/invariances_in_reps/partially_inverted_reps/checkpoints/resnet50-base-imagenet-ft-cifar10/frac-0.00500-mode-random-seed-2-ftmode-linear-lr-0.1-bs-256-nonrob/epoch=12-layer2.2.act3-topk=1.ckpt\n",
      "Loaded cached for /NS/robustness_2/work/vnanda/invariances_in_reps/partially_inverted_reps/checkpoints/resnet50-base-imagenet-ft-cifar10/frac-0.00500-mode-random-seed-1-ftmode-linear-lr-0.1-bs-256-nonrob/epoch=10-layer2.2.act3-topk=1.ckpt\n",
      "layer_name: layer2.2.act3, 4\n",
      "Loaded cached for /NS/robustness_2/work/vnanda/invariances_in_reps/partially_inverted_reps/checkpoints/resnet50-base-imagenet-ft-cifar10/frac-0.05000-mode-random-seed-3-ftmode-linear-lr-0.1-bs-256-nonrob/epoch=11-layer2.2.act3-topk=1.ckpt\n",
      "Loaded cached for /NS/robustness_2/work/vnanda/invariances_in_reps/partially_inverted_reps/checkpoints/resnet50-base-imagenet-ft-cifar10/frac-0.05000-mode-random-seed-4-ftmode-linear-lr-0.1-bs-256-nonrob/epoch=46-layer2.2.act3-topk=1.ckpt\n",
      "layer_name: layer2.2.act3, 4\n"
     ]
    },
    {
     "name": "stdout",
     "output_type": "stream",
     "text": [
      "Loaded cached for /NS/robustness_2/work/vnanda/invariances_in_reps/partially_inverted_reps/checkpoints/resnet50-base-imagenet-ft-cifar10/frac-0.10000-mode-random-seed-1-ftmode-linear-lr-0.1-bs-256-nonrob/epoch=40-layer2.2.act3-topk=1.ckpt\n",
      "Loaded cached for /NS/robustness_2/work/vnanda/invariances_in_reps/partially_inverted_reps/checkpoints/resnet50-base-imagenet-ft-cifar10/frac-0.10000-mode-random-seed-2-ftmode-linear-lr-0.1-bs-256-nonrob/epoch=36-layer2.2.act3-topk=1.ckpt\n",
      "layer_name: layer2.2.act3, 4\n",
      "Loaded cached for /NS/robustness_2/work/vnanda/invariances_in_reps/partially_inverted_reps/checkpoints/resnet50-base-imagenet-ft-cifar10/frac-0.20000-mode-random-seed-3-ftmode-linear-lr-0.1-bs-256-nonrob/epoch=32-layer2.2.act3-topk=1.ckpt\n",
      "Loaded cached for /NS/robustness_2/work/vnanda/invariances_in_reps/partially_inverted_reps/checkpoints/resnet50-base-imagenet-ft-cifar10/frac-0.20000-mode-random-seed-4-ftmode-linear-lr-0.1-bs-256-nonrob/epoch=42-layer2.2.act3-topk=1.ckpt\n",
      "layer_name: layer2.2.act3, 4\n",
      "Loaded cached for /NS/robustness_2/work/vnanda/invariances_in_reps/partially_inverted_reps/checkpoints/resnet50-base-imagenet-ft-cifar10/frac-0.40000-mode-random-seed-1-ftmode-linear-lr-0.1-bs-256-nonrob/epoch=28-layer2.2.act3-topk=1.ckpt\n",
      "Loaded cached for /NS/robustness_2/work/vnanda/invariances_in_reps/partially_inverted_reps/checkpoints/resnet50-base-imagenet-ft-cifar10/frac-0.40000-mode-random-seed-2-ftmode-linear-lr-0.1-bs-256-nonrob/epoch=36-layer2.2.act3-topk=1.ckpt\n",
      "layer_name: layer2.2.act3, 4\n",
      "Loaded cached for /NS/robustness_2/work/vnanda/invariances_in_reps/partially_inverted_reps/checkpoints/resnet50-base-imagenet-ft-cifar10/frac-0.50000-mode-random-seed-4-ftmode-linear-lr-0.1-bs-256-nonrob/epoch=42-layer2.2.act3-topk=1.ckpt\n",
      "Loaded cached for /NS/robustness_2/work/vnanda/invariances_in_reps/partially_inverted_reps/checkpoints/resnet50-base-imagenet-ft-cifar10/frac-0.50000-mode-random-seed-3-ftmode-linear-lr-0.1-bs-256-nonrob/epoch=39-layer2.2.act3-topk=1.ckpt\n",
      "layer_name: layer2.2.act3, 4\n",
      "Loaded cached for /NS/robustness_2/work/vnanda/invariances_in_reps/partially_inverted_reps/checkpoints/resnet50-base-imagenet-ft-cifar10/frac-0.80000-mode-random-seed-3-ftmode-linear-lr-0.1-bs-256-nonrob/epoch=39-layer2.2.act3-topk=1.ckpt\n",
      "Loaded cached for /NS/robustness_2/work/vnanda/invariances_in_reps/partially_inverted_reps/checkpoints/resnet50-base-imagenet-ft-cifar10/frac-0.80000-mode-random-seed-4-ftmode-linear-lr-0.1-bs-256-nonrob/epoch=42-layer2.2.act3-topk=1.ckpt\n",
      "layer_name: layer2.2.act3, 4\n",
      "Loaded cached for /NS/robustness_2/work/vnanda/invariances_in_reps/partially_inverted_reps/checkpoints/resnet50-base-imagenet-ft-cifar10/frac-0.90000-mode-random-seed-2-ftmode-linear-lr-0.1-bs-256-nonrob/epoch=28-layer2.2.act3-topk=1.ckpt\n",
      "Loaded cached for /NS/robustness_2/work/vnanda/invariances_in_reps/partially_inverted_reps/checkpoints/resnet50-base-imagenet-ft-cifar10/frac-0.90000-mode-random-seed-1-ftmode-linear-lr-0.1-bs-256-nonrob/epoch=46-layer2.2.act3-topk=1.ckpt\n",
      "layer_name: layer2.2.act3, 1\n",
      "Loaded cached for /NS/robustness_2/work/vnanda/invariances_in_reps/partially_inverted_reps/checkpoints/resnet50-base-imagenet-ft-cifar10/frac-1.00000-mode-random-seed-2-ftmode-linear-lr-0.1-bs-256-nonrob/epoch=36-layer2.2.act3-topk=1.ckpt\n",
      "layer_name: layer2.3.act3, 4\n"
     ]
    },
    {
     "name": "stderr",
     "output_type": "stream",
     "text": [
      "Global seed set to 4\n",
      "GPU available: True, used: True\n",
      "TPU available: False, using: 0 TPU cores\n",
      "IPU available: False, using: 0 IPUs\n",
      "Global seed set to 0\n",
      "LOCAL_RANK: 0 - CUDA_VISIBLE_DEVICES: [0,1,2,3,4,5,6,7]\n"
     ]
    },
    {
     "data": {
      "application/vnd.jupyter.widget-view+json": {
       "model_id": "85c6e867da194e699be36ee91e7b460e",
       "version_major": 2,
       "version_minor": 0
      },
      "text/plain": [
       "Predicting: 0it [00:00, ?it/s]"
      ]
     },
     "metadata": {},
     "output_type": "display_data"
    },
    {
     "name": "stdout",
     "output_type": "stream",
     "text": [
      "Loaded cached for /NS/robustness_2/work/vnanda/invariances_in_reps/partially_inverted_reps/checkpoints/resnet50-base-imagenet-ft-cifar10/frac-0.00050-mode-random-seed-3-ftmode-linear-lr-0.1-bs-256-nonrob/epoch=11-layer2.3.act3-topk=1.ckpt\n",
      "layer_name: layer2.3.act3, 5\n",
      "Loaded cached for /NS/robustness_2/work/vnanda/invariances_in_reps/partially_inverted_reps/checkpoints/resnet50-base-imagenet-ft-cifar10/frac-0.00500-mode-random-seed-2-ftmode-linear-lr-0.1-bs-256-nonrob/epoch=10-layer2.3.act3-topk=1.ckpt\n",
      "Loaded cached for /NS/robustness_2/work/vnanda/invariances_in_reps/partially_inverted_reps/checkpoints/resnet50-base-imagenet-ft-cifar10/frac-0.00500-mode-random-seed-1-ftmode-linear-lr-0.1-bs-256-nonrob/epoch=42-layer2.3.act3-topk=1.ckpt\n",
      "layer_name: layer2.3.act3, 4\n",
      "Loaded cached for /NS/robustness_2/work/vnanda/invariances_in_reps/partially_inverted_reps/checkpoints/resnet50-base-imagenet-ft-cifar10/frac-0.05000-mode-random-seed-3-ftmode-linear-lr-0.1-bs-256-nonrob/epoch=29-layer2.3.act3-topk=1.ckpt\n"
     ]
    },
    {
     "name": "stderr",
     "output_type": "stream",
     "text": [
      "Global seed set to 4\n",
      "GPU available: True, used: True\n",
      "TPU available: False, using: 0 TPU cores\n",
      "IPU available: False, using: 0 IPUs\n",
      "LOCAL_RANK: 0 - CUDA_VISIBLE_DEVICES: [0,1,2,3,4,5,6,7]\n"
     ]
    },
    {
     "data": {
      "application/vnd.jupyter.widget-view+json": {
       "model_id": "2ee20761e669435eaf390e8850ede480",
       "version_major": 2,
       "version_minor": 0
      },
      "text/plain": [
       "Predicting: 0it [00:00, ?it/s]"
      ]
     },
     "metadata": {},
     "output_type": "display_data"
    },
    {
     "name": "stdout",
     "output_type": "stream",
     "text": [
      "layer_name: layer2.3.act3, 4\n",
      "Loaded cached for /NS/robustness_2/work/vnanda/invariances_in_reps/partially_inverted_reps/checkpoints/resnet50-base-imagenet-ft-cifar10/frac-0.10000-mode-random-seed-1-ftmode-linear-lr-0.1-bs-256-nonrob/epoch=42-layer2.3.act3-topk=1.ckpt\n",
      "Loaded cached for /NS/robustness_2/work/vnanda/invariances_in_reps/partially_inverted_reps/checkpoints/resnet50-base-imagenet-ft-cifar10/frac-0.10000-mode-random-seed-2-ftmode-linear-lr-0.1-bs-256-nonrob/epoch=22-layer2.3.act3-topk=1.ckpt\n",
      "layer_name: layer2.3.act3, 3\n",
      "Loaded cached for /NS/robustness_2/work/vnanda/invariances_in_reps/partially_inverted_reps/checkpoints/resnet50-base-imagenet-ft-cifar10/frac-0.20000-mode-random-seed-3-ftmode-linear-lr-0.1-bs-256-nonrob/epoch=37-layer2.3.act3-topk=1.ckpt\n",
      "Loaded cached for /NS/robustness_2/work/vnanda/invariances_in_reps/partially_inverted_reps/checkpoints/resnet50-base-imagenet-ft-cifar10/frac-0.20000-mode-random-seed-1-ftmode-linear-lr-0.1-bs-256-nonrob/epoch=42-layer2.3.act3-topk=1.ckpt\n",
      "layer_name: layer2.3.act3, 3\n",
      "Loaded cached for /NS/robustness_2/work/vnanda/invariances_in_reps/partially_inverted_reps/checkpoints/resnet50-base-imagenet-ft-cifar10/frac-0.40000-mode-random-seed-1-ftmode-linear-lr-0.1-bs-256-nonrob/epoch=42-layer2.3.act3-topk=1.ckpt\n",
      "Loaded cached for /NS/robustness_2/work/vnanda/invariances_in_reps/partially_inverted_reps/checkpoints/resnet50-base-imagenet-ft-cifar10/frac-0.40000-mode-random-seed-2-ftmode-linear-lr-0.1-bs-256-nonrob/epoch=22-layer2.3.act3-topk=1.ckpt\n",
      "layer_name: layer2.3.act3, 3\n",
      "Loaded cached for /NS/robustness_2/work/vnanda/invariances_in_reps/partially_inverted_reps/checkpoints/resnet50-base-imagenet-ft-cifar10/frac-0.50000-mode-random-seed-3-ftmode-linear-lr-0.1-bs-256-nonrob/epoch=37-layer2.3.act3-topk=1.ckpt\n",
      "Loaded cached for /NS/robustness_2/work/vnanda/invariances_in_reps/partially_inverted_reps/checkpoints/resnet50-base-imagenet-ft-cifar10/frac-0.50000-mode-random-seed-2-ftmode-linear-lr-0.1-bs-256-nonrob/epoch=36-layer2.3.act3-topk=1.ckpt\n",
      "layer_name: layer2.3.act3, 3\n",
      "Loaded cached for /NS/robustness_2/work/vnanda/invariances_in_reps/partially_inverted_reps/checkpoints/resnet50-base-imagenet-ft-cifar10/frac-0.80000-mode-random-seed-3-ftmode-linear-lr-0.1-bs-256-nonrob/epoch=39-layer2.3.act3-topk=1.ckpt\n",
      "Loaded cached for /NS/robustness_2/work/vnanda/invariances_in_reps/partially_inverted_reps/checkpoints/resnet50-base-imagenet-ft-cifar10/frac-0.80000-mode-random-seed-1-ftmode-linear-lr-0.1-bs-256-nonrob/epoch=42-layer2.3.act3-topk=1.ckpt\n",
      "layer_name: layer2.3.act3, 3\n",
      "Loaded cached for /NS/robustness_2/work/vnanda/invariances_in_reps/partially_inverted_reps/checkpoints/resnet50-base-imagenet-ft-cifar10/frac-0.90000-mode-random-seed-2-ftmode-linear-lr-0.1-bs-256-nonrob/epoch=22-layer2.3.act3-topk=1.ckpt\n",
      "Loaded cached for /NS/robustness_2/work/vnanda/invariances_in_reps/partially_inverted_reps/checkpoints/resnet50-base-imagenet-ft-cifar10/frac-0.90000-mode-random-seed-1-ftmode-linear-lr-0.1-bs-256-nonrob/epoch=40-layer2.3.act3-topk=1.ckpt\n",
      "layer_name: layer2.3.act3, 1\n",
      "Loaded cached for /NS/robustness_2/work/vnanda/invariances_in_reps/partially_inverted_reps/checkpoints/resnet50-base-imagenet-ft-cifar10/frac-1.00000-mode-random-seed-2-ftmode-linear-lr-0.1-bs-256-nonrob/epoch=44-layer2.3.act3-topk=1.ckpt\n",
      "layer_name: layer3.0.act3, 3\n",
      "Loaded cached for /NS/robustness_2/work/vnanda/invariances_in_reps/partially_inverted_reps/checkpoints/resnet50-base-imagenet-ft-cifar10/frac-0.00050-mode-random-seed-3-ftmode-linear-lr-0.1-bs-256-nonrob/epoch=45-layer3.0.act3-topk=1.ckpt\n",
      "Loaded cached for /NS/robustness_2/work/vnanda/invariances_in_reps/partially_inverted_reps/checkpoints/resnet50-base-imagenet-ft-cifar10/frac-0.00050-mode-random-seed-2-ftmode-linear-lr-0.1-bs-256-nonrob/epoch=44-layer3.0.act3-topk=1.ckpt\n",
      "layer_name: layer3.0.act3, 4\n",
      "Loaded cached for /NS/robustness_2/work/vnanda/invariances_in_reps/partially_inverted_reps/checkpoints/resnet50-base-imagenet-ft-cifar10/frac-0.00500-mode-random-seed-2-ftmode-linear-lr-0.1-bs-256-nonrob/epoch=12-layer3.0.act3-topk=1.ckpt\n",
      "Loaded cached for /NS/robustness_2/work/vnanda/invariances_in_reps/partially_inverted_reps/checkpoints/resnet50-base-imagenet-ft-cifar10/frac-0.00500-mode-random-seed-1-ftmode-linear-lr-0.1-bs-256-nonrob/epoch=12-layer3.0.act3-topk=1.ckpt\n",
      "layer_name: layer3.0.act3, 3\n",
      "Loaded cached for /NS/robustness_2/work/vnanda/invariances_in_reps/partially_inverted_reps/checkpoints/resnet50-base-imagenet-ft-cifar10/frac-0.05000-mode-random-seed-3-ftmode-linear-lr-0.1-bs-256-nonrob/epoch=32-layer3.0.act3-topk=1.ckpt\n",
      "Loaded cached for /NS/robustness_2/work/vnanda/invariances_in_reps/partially_inverted_reps/checkpoints/resnet50-base-imagenet-ft-cifar10/frac-0.05000-mode-random-seed-2-ftmode-linear-lr-0.1-bs-256-nonrob/epoch=22-layer3.0.act3-topk=1.ckpt\n",
      "layer_name: layer3.0.act3, 3\n",
      "Loaded cached for /NS/robustness_2/work/vnanda/invariances_in_reps/partially_inverted_reps/checkpoints/resnet50-base-imagenet-ft-cifar10/frac-0.10000-mode-random-seed-1-ftmode-linear-lr-0.1-bs-256-nonrob/epoch=46-layer3.0.act3-topk=1.ckpt\n",
      "Loaded cached for /NS/robustness_2/work/vnanda/invariances_in_reps/partially_inverted_reps/checkpoints/resnet50-base-imagenet-ft-cifar10/frac-0.10000-mode-random-seed-2-ftmode-linear-lr-0.1-bs-256-nonrob/epoch=22-layer3.0.act3-topk=1.ckpt\n",
      "layer_name: layer3.0.act3, 3\n",
      "Loaded cached for /NS/robustness_2/work/vnanda/invariances_in_reps/partially_inverted_reps/checkpoints/resnet50-base-imagenet-ft-cifar10/frac-0.20000-mode-random-seed-3-ftmode-linear-lr-0.1-bs-256-nonrob/epoch=38-layer3.0.act3-topk=1.ckpt\n",
      "Loaded cached for /NS/robustness_2/work/vnanda/invariances_in_reps/partially_inverted_reps/checkpoints/resnet50-base-imagenet-ft-cifar10/frac-0.20000-mode-random-seed-1-ftmode-linear-lr-0.1-bs-256-nonrob/epoch=36-layer3.0.act3-topk=1.ckpt\n",
      "layer_name: layer3.0.act3, 3\n",
      "Loaded cached for /NS/robustness_2/work/vnanda/invariances_in_reps/partially_inverted_reps/checkpoints/resnet50-base-imagenet-ft-cifar10/frac-0.40000-mode-random-seed-1-ftmode-linear-lr-0.1-bs-256-nonrob/epoch=36-layer3.0.act3-topk=1.ckpt\n",
      "Loaded cached for /NS/robustness_2/work/vnanda/invariances_in_reps/partially_inverted_reps/checkpoints/resnet50-base-imagenet-ft-cifar10/frac-0.40000-mode-random-seed-2-ftmode-linear-lr-0.1-bs-256-nonrob/epoch=22-layer3.0.act3-topk=1.ckpt\n",
      "layer_name: layer3.0.act3, 3\n",
      "Loaded cached for /NS/robustness_2/work/vnanda/invariances_in_reps/partially_inverted_reps/checkpoints/resnet50-base-imagenet-ft-cifar10/frac-0.50000-mode-random-seed-3-ftmode-linear-lr-0.1-bs-256-nonrob/epoch=38-layer3.0.act3-topk=1.ckpt\n",
      "Loaded cached for /NS/robustness_2/work/vnanda/invariances_in_reps/partially_inverted_reps/checkpoints/resnet50-base-imagenet-ft-cifar10/frac-0.50000-mode-random-seed-2-ftmode-linear-lr-0.1-bs-256-nonrob/epoch=22-layer3.0.act3-topk=1.ckpt\n",
      "layer_name: layer3.0.act3, 3\n",
      "Loaded cached for /NS/robustness_2/work/vnanda/invariances_in_reps/partially_inverted_reps/checkpoints/resnet50-base-imagenet-ft-cifar10/frac-0.80000-mode-random-seed-3-ftmode-linear-lr-0.1-bs-256-nonrob/epoch=32-layer3.0.act3-topk=1.ckpt\n",
      "Loaded cached for /NS/robustness_2/work/vnanda/invariances_in_reps/partially_inverted_reps/checkpoints/resnet50-base-imagenet-ft-cifar10/frac-0.80000-mode-random-seed-1-ftmode-linear-lr-0.1-bs-256-nonrob/epoch=30-layer3.0.act3-topk=1.ckpt\n",
      "layer_name: layer3.0.act3, 3\n",
      "Loaded cached for /NS/robustness_2/work/vnanda/invariances_in_reps/partially_inverted_reps/checkpoints/resnet50-base-imagenet-ft-cifar10/frac-0.90000-mode-random-seed-2-ftmode-linear-lr-0.1-bs-256-nonrob/epoch=22-layer3.0.act3-topk=1.ckpt\n",
      "Loaded cached for /NS/robustness_2/work/vnanda/invariances_in_reps/partially_inverted_reps/checkpoints/resnet50-base-imagenet-ft-cifar10/frac-0.90000-mode-random-seed-1-ftmode-linear-lr-0.1-bs-256-nonrob/epoch=30-layer3.0.act3-topk=1.ckpt\n",
      "layer_name: layer3.0.act3, 1\n",
      "Loaded cached for /NS/robustness_2/work/vnanda/invariances_in_reps/partially_inverted_reps/checkpoints/resnet50-base-imagenet-ft-cifar10/frac-1.00000-mode-random-seed-2-ftmode-linear-lr-0.1-bs-256-nonrob/epoch=30-layer3.0.act3-topk=1.ckpt\n",
      "layer_name: layer3.1.act3, 5\n",
      "Loaded cached for /NS/robustness_2/work/vnanda/invariances_in_reps/partially_inverted_reps/checkpoints/resnet50-base-imagenet-ft-cifar10/frac-0.00050-mode-random-seed-4-ftmode-linear-lr-0.1-bs-256-nonrob/epoch=44-layer3.1.act3-topk=1.ckpt\n",
      "Loaded cached for /NS/robustness_2/work/vnanda/invariances_in_reps/partially_inverted_reps/checkpoints/resnet50-base-imagenet-ft-cifar10/frac-0.00050-mode-random-seed-3-ftmode-linear-lr-0.1-bs-256-nonrob/epoch=47-layer3.1.act3-topk=1.ckpt\n",
      "layer_name: layer3.1.act3, 6\n"
     ]
    },
    {
     "name": "stdout",
     "output_type": "stream",
     "text": [
      "Loaded cached for /NS/robustness_2/work/vnanda/invariances_in_reps/partially_inverted_reps/checkpoints/resnet50-base-imagenet-ft-cifar10/frac-0.00500-mode-random-seed-2-ftmode-linear-lr-0.1-bs-256-nonrob/epoch=10-layer3.1.act3-topk=1.ckpt\n",
      "Loaded cached for /NS/robustness_2/work/vnanda/invariances_in_reps/partially_inverted_reps/checkpoints/resnet50-base-imagenet-ft-cifar10/frac-0.00500-mode-random-seed-5-ftmode-linear-lr-0.1-bs-256-nonrob/epoch=11-layer3.1.act3-topk=1.ckpt\n",
      "layer_name: layer3.1.act3, 5\n",
      "Loaded cached for /NS/robustness_2/work/vnanda/invariances_in_reps/partially_inverted_reps/checkpoints/resnet50-base-imagenet-ft-cifar10/frac-0.05000-mode-random-seed-3-ftmode-linear-lr-0.1-bs-256-nonrob/epoch=35-layer3.1.act3-topk=1.ckpt\n",
      "Loaded cached for /NS/robustness_2/work/vnanda/invariances_in_reps/partially_inverted_reps/checkpoints/resnet50-base-imagenet-ft-cifar10/frac-0.05000-mode-random-seed-4-ftmode-linear-lr-0.1-bs-256-nonrob/epoch=41-layer3.1.act3-topk=1.ckpt\n",
      "layer_name: layer3.1.act3, 5\n",
      "Loaded cached for /NS/robustness_2/work/vnanda/invariances_in_reps/partially_inverted_reps/checkpoints/resnet50-base-imagenet-ft-cifar10/frac-0.10000-mode-random-seed-1-ftmode-linear-lr-0.1-bs-256-nonrob/epoch=28-layer3.1.act3-topk=1.ckpt\n",
      "Loaded cached for /NS/robustness_2/work/vnanda/invariances_in_reps/partially_inverted_reps/checkpoints/resnet50-base-imagenet-ft-cifar10/frac-0.10000-mode-random-seed-5-ftmode-linear-lr-0.1-bs-256-nonrob/epoch=47-layer3.1.act3-topk=1.ckpt\n",
      "layer_name: layer3.1.act3, 5\n",
      "Loaded cached for /NS/robustness_2/work/vnanda/invariances_in_reps/partially_inverted_reps/checkpoints/resnet50-base-imagenet-ft-cifar10/frac-0.20000-mode-random-seed-3-ftmode-linear-lr-0.1-bs-256-nonrob/epoch=40-layer3.1.act3-topk=1.ckpt\n",
      "Loaded cached for /NS/robustness_2/work/vnanda/invariances_in_reps/partially_inverted_reps/checkpoints/resnet50-base-imagenet-ft-cifar10/frac-0.20000-mode-random-seed-4-ftmode-linear-lr-0.1-bs-256-nonrob/epoch=47-layer3.1.act3-topk=1.ckpt\n",
      "layer_name: layer3.1.act3, 5\n",
      "Loaded cached for /NS/robustness_2/work/vnanda/invariances_in_reps/partially_inverted_reps/checkpoints/resnet50-base-imagenet-ft-cifar10/frac-0.40000-mode-random-seed-1-ftmode-linear-lr-0.1-bs-256-nonrob/epoch=37-layer3.1.act3-topk=1.ckpt\n",
      "Loaded cached for /NS/robustness_2/work/vnanda/invariances_in_reps/partially_inverted_reps/checkpoints/resnet50-base-imagenet-ft-cifar10/frac-0.40000-mode-random-seed-5-ftmode-linear-lr-0.1-bs-256-nonrob/epoch=10-layer3.1.act3-topk=1.ckpt\n",
      "layer_name: layer3.1.act3, 4\n",
      "Loaded cached for /NS/robustness_2/work/vnanda/invariances_in_reps/partially_inverted_reps/checkpoints/resnet50-base-imagenet-ft-cifar10/frac-0.50000-mode-random-seed-4-ftmode-linear-lr-0.1-bs-256-nonrob/epoch=49-layer3.1.act3-topk=1.ckpt\n",
      "Loaded cached for /NS/robustness_2/work/vnanda/invariances_in_reps/partially_inverted_reps/checkpoints/resnet50-base-imagenet-ft-cifar10/frac-0.50000-mode-random-seed-3-ftmode-linear-lr-0.1-bs-256-nonrob/epoch=40-layer3.1.act3-topk=1.ckpt\n",
      "layer_name: layer3.1.act3, 4\n",
      "Loaded cached for /NS/robustness_2/work/vnanda/invariances_in_reps/partially_inverted_reps/checkpoints/resnet50-base-imagenet-ft-cifar10/frac-0.80000-mode-random-seed-3-ftmode-linear-lr-0.1-bs-256-nonrob/epoch=27-layer3.1.act3-topk=1.ckpt\n",
      "Loaded cached for /NS/robustness_2/work/vnanda/invariances_in_reps/partially_inverted_reps/checkpoints/resnet50-base-imagenet-ft-cifar10/frac-0.80000-mode-random-seed-4-ftmode-linear-lr-0.1-bs-256-nonrob/epoch=43-layer3.1.act3-topk=1.ckpt\n",
      "layer_name: layer3.1.act3, 4\n",
      "Loaded cached for /NS/robustness_2/work/vnanda/invariances_in_reps/partially_inverted_reps/checkpoints/resnet50-base-imagenet-ft-cifar10/frac-0.90000-mode-random-seed-2-ftmode-linear-lr-0.1-bs-256-nonrob/epoch=28-layer3.1.act3-topk=1.ckpt\n",
      "Loaded cached for /NS/robustness_2/work/vnanda/invariances_in_reps/partially_inverted_reps/checkpoints/resnet50-base-imagenet-ft-cifar10/frac-0.90000-mode-random-seed-1-ftmode-linear-lr-0.1-bs-256-nonrob/epoch=35-layer3.1.act3-topk=1.ckpt\n",
      "layer_name: layer3.1.act3, 1\n",
      "Loaded cached for /NS/robustness_2/work/vnanda/invariances_in_reps/partially_inverted_reps/checkpoints/resnet50-base-imagenet-ft-cifar10/frac-1.00000-mode-random-seed-2-ftmode-linear-lr-0.1-bs-256-nonrob/epoch=41-layer3.1.act3-topk=1.ckpt\n",
      "layer_name: layer3.2.act3, 4\n",
      "Loaded cached for /NS/robustness_2/work/vnanda/invariances_in_reps/partially_inverted_reps/checkpoints/resnet50-base-imagenet-ft-cifar10/frac-0.00050-mode-random-seed-4-ftmode-linear-lr-0.1-bs-256-nonrob/epoch=28-layer3.2.act3-topk=1.ckpt\n",
      "Loaded cached for /NS/robustness_2/work/vnanda/invariances_in_reps/partially_inverted_reps/checkpoints/resnet50-base-imagenet-ft-cifar10/frac-0.00050-mode-random-seed-3-ftmode-linear-lr-0.1-bs-256-nonrob/epoch=24-layer3.2.act3-topk=1.ckpt\n",
      "layer_name: layer3.2.act3, 5\n",
      "Loaded cached for /NS/robustness_2/work/vnanda/invariances_in_reps/partially_inverted_reps/checkpoints/resnet50-base-imagenet-ft-cifar10/frac-0.00500-mode-random-seed-2-ftmode-linear-lr-0.1-bs-256-nonrob/epoch=10-layer3.2.act3-topk=1.ckpt\n",
      "Loaded cached for /NS/robustness_2/work/vnanda/invariances_in_reps/partially_inverted_reps/checkpoints/resnet50-base-imagenet-ft-cifar10/frac-0.00500-mode-random-seed-1-ftmode-linear-lr-0.1-bs-256-nonrob/epoch=11-layer3.2.act3-topk=1.ckpt\n",
      "layer_name: layer3.2.act3, 4\n",
      "Loaded cached for /NS/robustness_2/work/vnanda/invariances_in_reps/partially_inverted_reps/checkpoints/resnet50-base-imagenet-ft-cifar10/frac-0.05000-mode-random-seed-3-ftmode-linear-lr-0.1-bs-256-nonrob/epoch=27-layer3.2.act3-topk=1.ckpt\n",
      "Loaded cached for /NS/robustness_2/work/vnanda/invariances_in_reps/partially_inverted_reps/checkpoints/resnet50-base-imagenet-ft-cifar10/frac-0.05000-mode-random-seed-4-ftmode-linear-lr-0.1-bs-256-nonrob/epoch=24-layer3.2.act3-topk=1.ckpt\n",
      "layer_name: layer3.2.act3, 4\n",
      "Loaded cached for /NS/robustness_2/work/vnanda/invariances_in_reps/partially_inverted_reps/checkpoints/resnet50-base-imagenet-ft-cifar10/frac-0.10000-mode-random-seed-1-ftmode-linear-lr-0.1-bs-256-nonrob/epoch=42-layer3.2.act3-topk=1.ckpt\n",
      "Loaded cached for /NS/robustness_2/work/vnanda/invariances_in_reps/partially_inverted_reps/checkpoints/resnet50-base-imagenet-ft-cifar10/frac-0.10000-mode-random-seed-2-ftmode-linear-lr-0.1-bs-256-nonrob/epoch=22-layer3.2.act3-topk=1.ckpt\n",
      "layer_name: layer3.2.act3, 4\n",
      "Loaded cached for /NS/robustness_2/work/vnanda/invariances_in_reps/partially_inverted_reps/checkpoints/resnet50-base-imagenet-ft-cifar10/frac-0.20000-mode-random-seed-3-ftmode-linear-lr-0.1-bs-256-nonrob/epoch=27-layer3.2.act3-topk=1.ckpt\n",
      "Loaded cached for /NS/robustness_2/work/vnanda/invariances_in_reps/partially_inverted_reps/checkpoints/resnet50-base-imagenet-ft-cifar10/frac-0.20000-mode-random-seed-4-ftmode-linear-lr-0.1-bs-256-nonrob/epoch=41-layer3.2.act3-topk=1.ckpt\n",
      "layer_name: layer3.2.act3, 4\n",
      "Loaded cached for /NS/robustness_2/work/vnanda/invariances_in_reps/partially_inverted_reps/checkpoints/resnet50-base-imagenet-ft-cifar10/frac-0.40000-mode-random-seed-1-ftmode-linear-lr-0.1-bs-256-nonrob/epoch=42-layer3.2.act3-topk=1.ckpt\n",
      "Loaded cached for /NS/robustness_2/work/vnanda/invariances_in_reps/partially_inverted_reps/checkpoints/resnet50-base-imagenet-ft-cifar10/frac-0.40000-mode-random-seed-2-ftmode-linear-lr-0.1-bs-256-nonrob/epoch=22-layer3.2.act3-topk=1.ckpt\n",
      "layer_name: layer3.2.act3, 4\n",
      "Loaded cached for /NS/robustness_2/work/vnanda/invariances_in_reps/partially_inverted_reps/checkpoints/resnet50-base-imagenet-ft-cifar10/frac-0.50000-mode-random-seed-4-ftmode-linear-lr-0.1-bs-256-nonrob/epoch=49-layer3.2.act3-topk=1.ckpt\n",
      "Loaded cached for /NS/robustness_2/work/vnanda/invariances_in_reps/partially_inverted_reps/checkpoints/resnet50-base-imagenet-ft-cifar10/frac-0.50000-mode-random-seed-3-ftmode-linear-lr-0.1-bs-256-nonrob/epoch=42-layer3.2.act3-topk=1.ckpt\n",
      "layer_name: layer3.2.act3, 4\n",
      "Loaded cached for /NS/robustness_2/work/vnanda/invariances_in_reps/partially_inverted_reps/checkpoints/resnet50-base-imagenet-ft-cifar10/frac-0.80000-mode-random-seed-3-ftmode-linear-lr-0.1-bs-256-nonrob/epoch=42-layer3.2.act3-topk=1.ckpt\n",
      "Loaded cached for /NS/robustness_2/work/vnanda/invariances_in_reps/partially_inverted_reps/checkpoints/resnet50-base-imagenet-ft-cifar10/frac-0.80000-mode-random-seed-4-ftmode-linear-lr-0.1-bs-256-nonrob/epoch=24-layer3.2.act3-topk=1.ckpt\n"
     ]
    },
    {
     "name": "stdout",
     "output_type": "stream",
     "text": [
      "layer_name: layer3.2.act3, 4\n",
      "Loaded cached for /NS/robustness_2/work/vnanda/invariances_in_reps/partially_inverted_reps/checkpoints/resnet50-base-imagenet-ft-cifar10/frac-0.90000-mode-random-seed-2-ftmode-linear-lr-0.1-bs-256-nonrob/epoch=41-layer3.2.act3-topk=1.ckpt\n",
      "Loaded cached for /NS/robustness_2/work/vnanda/invariances_in_reps/partially_inverted_reps/checkpoints/resnet50-base-imagenet-ft-cifar10/frac-0.90000-mode-random-seed-1-ftmode-linear-lr-0.1-bs-256-nonrob/epoch=42-layer3.2.act3-topk=1.ckpt\n",
      "layer_name: layer3.2.act3, 1\n",
      "Loaded cached for /NS/robustness_2/work/vnanda/invariances_in_reps/partially_inverted_reps/checkpoints/resnet50-base-imagenet-ft-cifar10/frac-1.00000-mode-random-seed-2-ftmode-linear-lr-0.1-bs-256-nonrob/epoch=38-layer3.2.act3-topk=1.ckpt\n",
      "layer_name: layer3.3.act3, 4\n",
      "Loaded cached for /NS/robustness_2/work/vnanda/invariances_in_reps/partially_inverted_reps/checkpoints/resnet50-base-imagenet-ft-cifar10/frac-0.00050-mode-random-seed-4-ftmode-linear-lr-0.1-bs-256-nonrob/epoch=26-layer3.3.act3-topk=1.ckpt\n",
      "Loaded cached for /NS/robustness_2/work/vnanda/invariances_in_reps/partially_inverted_reps/checkpoints/resnet50-base-imagenet-ft-cifar10/frac-0.00050-mode-random-seed-3-ftmode-linear-lr-0.1-bs-256-nonrob/epoch=36-layer3.3.act3-topk=1.ckpt\n",
      "layer_name: layer3.3.act3, 4\n",
      "Loaded cached for /NS/robustness_2/work/vnanda/invariances_in_reps/partially_inverted_reps/checkpoints/resnet50-base-imagenet-ft-cifar10/frac-0.00500-mode-random-seed-2-ftmode-linear-lr-0.1-bs-256-nonrob/epoch=30-layer3.3.act3-topk=1.ckpt\n",
      "Loaded cached for /NS/robustness_2/work/vnanda/invariances_in_reps/partially_inverted_reps/checkpoints/resnet50-base-imagenet-ft-cifar10/frac-0.00500-mode-random-seed-1-ftmode-linear-lr-0.1-bs-256-nonrob/epoch=37-layer3.3.act3-topk=1.ckpt\n",
      "layer_name: layer3.3.act3, 4\n",
      "Loaded cached for /NS/robustness_2/work/vnanda/invariances_in_reps/partially_inverted_reps/checkpoints/resnet50-base-imagenet-ft-cifar10/frac-0.05000-mode-random-seed-3-ftmode-linear-lr-0.1-bs-256-nonrob/epoch=22-layer3.3.act3-topk=1.ckpt\n",
      "Loaded cached for /NS/robustness_2/work/vnanda/invariances_in_reps/partially_inverted_reps/checkpoints/resnet50-base-imagenet-ft-cifar10/frac-0.05000-mode-random-seed-4-ftmode-linear-lr-0.1-bs-256-nonrob/epoch=40-layer3.3.act3-topk=1.ckpt\n",
      "layer_name: layer3.3.act3, 4\n",
      "Loaded cached for /NS/robustness_2/work/vnanda/invariances_in_reps/partially_inverted_reps/checkpoints/resnet50-base-imagenet-ft-cifar10/frac-0.10000-mode-random-seed-1-ftmode-linear-lr-0.1-bs-256-nonrob/epoch=42-layer3.3.act3-topk=1.ckpt\n",
      "Loaded cached for /NS/robustness_2/work/vnanda/invariances_in_reps/partially_inverted_reps/checkpoints/resnet50-base-imagenet-ft-cifar10/frac-0.10000-mode-random-seed-2-ftmode-linear-lr-0.1-bs-256-nonrob/epoch=22-layer3.3.act3-topk=1.ckpt\n",
      "layer_name: layer3.3.act3, 4\n",
      "Loaded cached for /NS/robustness_2/work/vnanda/invariances_in_reps/partially_inverted_reps/checkpoints/resnet50-base-imagenet-ft-cifar10/frac-0.20000-mode-random-seed-3-ftmode-linear-lr-0.1-bs-256-nonrob/epoch=14-layer3.3.act3-topk=1.ckpt\n",
      "Loaded cached for /NS/robustness_2/work/vnanda/invariances_in_reps/partially_inverted_reps/checkpoints/resnet50-base-imagenet-ft-cifar10/frac-0.20000-mode-random-seed-4-ftmode-linear-lr-0.1-bs-256-nonrob/epoch=40-layer3.3.act3-topk=1.ckpt\n",
      "layer_name: layer3.3.act3, 4\n",
      "Loaded cached for /NS/robustness_2/work/vnanda/invariances_in_reps/partially_inverted_reps/checkpoints/resnet50-base-imagenet-ft-cifar10/frac-0.40000-mode-random-seed-1-ftmode-linear-lr-0.1-bs-256-nonrob/epoch=34-layer3.3.act3-topk=1.ckpt\n",
      "Loaded cached for /NS/robustness_2/work/vnanda/invariances_in_reps/partially_inverted_reps/checkpoints/resnet50-base-imagenet-ft-cifar10/frac-0.40000-mode-random-seed-2-ftmode-linear-lr-0.1-bs-256-nonrob/epoch=41-layer3.3.act3-topk=1.ckpt\n",
      "layer_name: layer3.3.act3, 4\n",
      "Loaded cached for /NS/robustness_2/work/vnanda/invariances_in_reps/partially_inverted_reps/checkpoints/resnet50-base-imagenet-ft-cifar10/frac-0.50000-mode-random-seed-4-ftmode-linear-lr-0.1-bs-256-nonrob/epoch=28-layer3.3.act3-topk=1.ckpt\n",
      "Loaded cached for /NS/robustness_2/work/vnanda/invariances_in_reps/partially_inverted_reps/checkpoints/resnet50-base-imagenet-ft-cifar10/frac-0.50000-mode-random-seed-3-ftmode-linear-lr-0.1-bs-256-nonrob/epoch=42-layer3.3.act3-topk=1.ckpt\n",
      "layer_name: layer3.3.act3, 4\n",
      "Loaded cached for /NS/robustness_2/work/vnanda/invariances_in_reps/partially_inverted_reps/checkpoints/resnet50-base-imagenet-ft-cifar10/frac-0.80000-mode-random-seed-3-ftmode-linear-lr-0.1-bs-256-nonrob/epoch=40-layer3.3.act3-topk=1.ckpt\n",
      "Loaded cached for /NS/robustness_2/work/vnanda/invariances_in_reps/partially_inverted_reps/checkpoints/resnet50-base-imagenet-ft-cifar10/frac-0.80000-mode-random-seed-4-ftmode-linear-lr-0.1-bs-256-nonrob/epoch=27-layer3.3.act3-topk=1.ckpt\n",
      "layer_name: layer3.3.act3, 4\n",
      "Loaded cached for /NS/robustness_2/work/vnanda/invariances_in_reps/partially_inverted_reps/checkpoints/resnet50-base-imagenet-ft-cifar10/frac-0.90000-mode-random-seed-2-ftmode-linear-lr-0.1-bs-256-nonrob/epoch=41-layer3.3.act3-topk=1.ckpt\n",
      "Loaded cached for /NS/robustness_2/work/vnanda/invariances_in_reps/partially_inverted_reps/checkpoints/resnet50-base-imagenet-ft-cifar10/frac-0.90000-mode-random-seed-1-ftmode-linear-lr-0.1-bs-256-nonrob/epoch=42-layer3.3.act3-topk=1.ckpt\n",
      "layer_name: layer3.3.act3, 1\n",
      "Loaded cached for /NS/robustness_2/work/vnanda/invariances_in_reps/partially_inverted_reps/checkpoints/resnet50-base-imagenet-ft-cifar10/frac-1.00000-mode-random-seed-2-ftmode-linear-lr-0.1-bs-256-nonrob/epoch=38-layer3.3.act3-topk=1.ckpt\n",
      "layer_name: layer3.4.act3, 5\n",
      "Loaded cached for /NS/robustness_2/work/vnanda/invariances_in_reps/partially_inverted_reps/checkpoints/resnet50-base-imagenet-ft-cifar10/frac-0.00050-mode-random-seed-4-ftmode-linear-lr-0.1-bs-256-nonrob/epoch=24-layer3.4.act3-topk=1.ckpt\n",
      "Loaded cached for /NS/robustness_2/work/vnanda/invariances_in_reps/partially_inverted_reps/checkpoints/resnet50-base-imagenet-ft-cifar10/frac-0.00050-mode-random-seed-3-ftmode-linear-lr-0.1-bs-256-nonrob/epoch=31-layer3.4.act3-topk=1.ckpt\n",
      "layer_name: layer3.4.act3, 5\n",
      "Loaded cached for /NS/robustness_2/work/vnanda/invariances_in_reps/partially_inverted_reps/checkpoints/resnet50-base-imagenet-ft-cifar10/frac-0.00500-mode-random-seed-2-ftmode-linear-lr-0.1-bs-256-nonrob/epoch=28-layer3.4.act3-topk=1.ckpt\n",
      "Loaded cached for /NS/robustness_2/work/vnanda/invariances_in_reps/partially_inverted_reps/checkpoints/resnet50-base-imagenet-ft-cifar10/frac-0.00500-mode-random-seed-1-ftmode-linear-lr-0.1-bs-256-nonrob/epoch=12-layer3.4.act3-topk=1.ckpt\n",
      "layer_name: layer3.4.act3, 4\n",
      "Loaded cached for /NS/robustness_2/work/vnanda/invariances_in_reps/partially_inverted_reps/checkpoints/resnet50-base-imagenet-ft-cifar10/frac-0.05000-mode-random-seed-3-ftmode-linear-lr-0.1-bs-256-nonrob/epoch=31-layer3.4.act3-topk=1.ckpt\n",
      "Loaded cached for /NS/robustness_2/work/vnanda/invariances_in_reps/partially_inverted_reps/checkpoints/resnet50-base-imagenet-ft-cifar10/frac-0.05000-mode-random-seed-4-ftmode-linear-lr-0.1-bs-256-nonrob/epoch=15-layer3.4.act3-topk=1.ckpt\n",
      "layer_name: layer3.4.act3, 4\n",
      "Loaded cached for /NS/robustness_2/work/vnanda/invariances_in_reps/partially_inverted_reps/checkpoints/resnet50-base-imagenet-ft-cifar10/frac-0.10000-mode-random-seed-1-ftmode-linear-lr-0.1-bs-256-nonrob/epoch=38-layer3.4.act3-topk=1.ckpt\n",
      "Loaded cached for /NS/robustness_2/work/vnanda/invariances_in_reps/partially_inverted_reps/checkpoints/resnet50-base-imagenet-ft-cifar10/frac-0.10000-mode-random-seed-2-ftmode-linear-lr-0.1-bs-256-nonrob/epoch=41-layer3.4.act3-topk=1.ckpt\n",
      "layer_name: layer3.4.act3, 4\n",
      "Loaded cached for /NS/robustness_2/work/vnanda/invariances_in_reps/partially_inverted_reps/checkpoints/resnet50-base-imagenet-ft-cifar10/frac-0.20000-mode-random-seed-3-ftmode-linear-lr-0.1-bs-256-nonrob/epoch=22-layer3.4.act3-topk=1.ckpt\n",
      "Loaded cached for /NS/robustness_2/work/vnanda/invariances_in_reps/partially_inverted_reps/checkpoints/resnet50-base-imagenet-ft-cifar10/frac-0.20000-mode-random-seed-4-ftmode-linear-lr-0.1-bs-256-nonrob/epoch=15-layer3.4.act3-topk=1.ckpt\n",
      "layer_name: layer3.4.act3, 4\n",
      "Loaded cached for /NS/robustness_2/work/vnanda/invariances_in_reps/partially_inverted_reps/checkpoints/resnet50-base-imagenet-ft-cifar10/frac-0.40000-mode-random-seed-1-ftmode-linear-lr-0.1-bs-256-nonrob/epoch=45-layer3.4.act3-topk=1.ckpt\n",
      "Loaded cached for /NS/robustness_2/work/vnanda/invariances_in_reps/partially_inverted_reps/checkpoints/resnet50-base-imagenet-ft-cifar10/frac-0.40000-mode-random-seed-2-ftmode-linear-lr-0.1-bs-256-nonrob/epoch=41-layer3.4.act3-topk=1.ckpt\n",
      "layer_name: layer3.4.act3, 4\n",
      "Loaded cached for /NS/robustness_2/work/vnanda/invariances_in_reps/partially_inverted_reps/checkpoints/resnet50-base-imagenet-ft-cifar10/frac-0.50000-mode-random-seed-4-ftmode-linear-lr-0.1-bs-256-nonrob/epoch=28-layer3.4.act3-topk=1.ckpt\n",
      "Loaded cached for /NS/robustness_2/work/vnanda/invariances_in_reps/partially_inverted_reps/checkpoints/resnet50-base-imagenet-ft-cifar10/frac-0.50000-mode-random-seed-3-ftmode-linear-lr-0.1-bs-256-nonrob/epoch=32-layer3.4.act3-topk=1.ckpt\n",
      "layer_name: layer3.4.act3, 4\n"
     ]
    },
    {
     "name": "stdout",
     "output_type": "stream",
     "text": [
      "Loaded cached for /NS/robustness_2/work/vnanda/invariances_in_reps/partially_inverted_reps/checkpoints/resnet50-base-imagenet-ft-cifar10/frac-0.80000-mode-random-seed-3-ftmode-linear-lr-0.1-bs-256-nonrob/epoch=31-layer3.4.act3-topk=1.ckpt\n"
     ]
    },
    {
     "name": "stderr",
     "output_type": "stream",
     "text": [
      "Global seed set to 4\n",
      "GPU available: True, used: True\n",
      "TPU available: False, using: 0 TPU cores\n",
      "IPU available: False, using: 0 IPUs\n",
      "LOCAL_RANK: 0 - CUDA_VISIBLE_DEVICES: [0,1,2,3,4,5,6,7]\n"
     ]
    },
    {
     "data": {
      "application/vnd.jupyter.widget-view+json": {
       "model_id": "c8f2d44e23f14ba99be592a52c5fb33b",
       "version_major": 2,
       "version_minor": 0
      },
      "text/plain": [
       "Predicting: 0it [00:00, ?it/s]"
      ]
     },
     "metadata": {},
     "output_type": "display_data"
    },
    {
     "name": "stdout",
     "output_type": "stream",
     "text": [
      "layer_name: layer3.4.act3, 4\n",
      "Loaded cached for /NS/robustness_2/work/vnanda/invariances_in_reps/partially_inverted_reps/checkpoints/resnet50-base-imagenet-ft-cifar10/frac-0.90000-mode-random-seed-2-ftmode-linear-lr-0.1-bs-256-nonrob/epoch=41-layer3.4.act3-topk=1.ckpt\n",
      "Loaded cached for /NS/robustness_2/work/vnanda/invariances_in_reps/partially_inverted_reps/checkpoints/resnet50-base-imagenet-ft-cifar10/frac-0.90000-mode-random-seed-1-ftmode-linear-lr-0.1-bs-256-nonrob/epoch=37-layer3.4.act3-topk=1.ckpt\n",
      "layer_name: layer3.4.act3, 1\n",
      "Loaded cached for /NS/robustness_2/work/vnanda/invariances_in_reps/partially_inverted_reps/checkpoints/resnet50-base-imagenet-ft-cifar10/frac-1.00000-mode-random-seed-2-ftmode-linear-lr-0.1-bs-256-nonrob/epoch=44-layer3.4.act3-topk=1.ckpt\n",
      "layer_name: layer3.5.act3, 4\n",
      "Loaded cached for /NS/robustness_2/work/vnanda/invariances_in_reps/partially_inverted_reps/checkpoints/resnet50-base-imagenet-ft-cifar10/frac-0.00050-mode-random-seed-4-ftmode-linear-lr-0.1-bs-256-nonrob/epoch=24-layer3.5.act3-topk=1.ckpt\n",
      "Loaded cached for /NS/robustness_2/work/vnanda/invariances_in_reps/partially_inverted_reps/checkpoints/resnet50-base-imagenet-ft-cifar10/frac-0.00050-mode-random-seed-3-ftmode-linear-lr-0.1-bs-256-nonrob/epoch=36-layer3.5.act3-topk=1.ckpt\n",
      "layer_name: layer3.5.act3, 4\n",
      "Loaded cached for /NS/robustness_2/work/vnanda/invariances_in_reps/partially_inverted_reps/checkpoints/resnet50-base-imagenet-ft-cifar10/frac-0.00500-mode-random-seed-2-ftmode-linear-lr-0.1-bs-256-nonrob/epoch=44-layer3.5.act3-topk=1.ckpt\n",
      "Loaded cached for /NS/robustness_2/work/vnanda/invariances_in_reps/partially_inverted_reps/checkpoints/resnet50-base-imagenet-ft-cifar10/frac-0.00500-mode-random-seed-1-ftmode-linear-lr-0.1-bs-256-nonrob/epoch=28-layer3.5.act3-topk=1.ckpt\n",
      "layer_name: layer3.5.act3, 4\n",
      "Loaded cached for /NS/robustness_2/work/vnanda/invariances_in_reps/partially_inverted_reps/checkpoints/resnet50-base-imagenet-ft-cifar10/frac-0.05000-mode-random-seed-3-ftmode-linear-lr-0.1-bs-256-nonrob/epoch=42-layer3.5.act3-topk=1.ckpt\n",
      "Loaded cached for /NS/robustness_2/work/vnanda/invariances_in_reps/partially_inverted_reps/checkpoints/resnet50-base-imagenet-ft-cifar10/frac-0.05000-mode-random-seed-4-ftmode-linear-lr-0.1-bs-256-nonrob/epoch=30-layer3.5.act3-topk=1.ckpt\n",
      "layer_name: layer3.5.act3, 4\n",
      "Loaded cached for /NS/robustness_2/work/vnanda/invariances_in_reps/partially_inverted_reps/checkpoints/resnet50-base-imagenet-ft-cifar10/frac-0.10000-mode-random-seed-1-ftmode-linear-lr-0.1-bs-256-nonrob/epoch=36-layer3.5.act3-topk=1.ckpt\n",
      "Loaded cached for /NS/robustness_2/work/vnanda/invariances_in_reps/partially_inverted_reps/checkpoints/resnet50-base-imagenet-ft-cifar10/frac-0.10000-mode-random-seed-2-ftmode-linear-lr-0.1-bs-256-nonrob/epoch=41-layer3.5.act3-topk=1.ckpt\n",
      "layer_name: layer3.5.act3, 4\n",
      "Loaded cached for /NS/robustness_2/work/vnanda/invariances_in_reps/partially_inverted_reps/checkpoints/resnet50-base-imagenet-ft-cifar10/frac-0.20000-mode-random-seed-3-ftmode-linear-lr-0.1-bs-256-nonrob/epoch=31-layer3.5.act3-topk=1.ckpt\n",
      "Loaded cached for /NS/robustness_2/work/vnanda/invariances_in_reps/partially_inverted_reps/checkpoints/resnet50-base-imagenet-ft-cifar10/frac-0.20000-mode-random-seed-4-ftmode-linear-lr-0.1-bs-256-nonrob/epoch=30-layer3.5.act3-topk=1.ckpt\n",
      "layer_name: layer3.5.act3, 4\n",
      "Loaded cached for /NS/robustness_2/work/vnanda/invariances_in_reps/partially_inverted_reps/checkpoints/resnet50-base-imagenet-ft-cifar10/frac-0.40000-mode-random-seed-1-ftmode-linear-lr-0.1-bs-256-nonrob/epoch=26-layer3.5.act3-topk=1.ckpt\n",
      "Loaded cached for /NS/robustness_2/work/vnanda/invariances_in_reps/partially_inverted_reps/checkpoints/resnet50-base-imagenet-ft-cifar10/frac-0.40000-mode-random-seed-2-ftmode-linear-lr-0.1-bs-256-nonrob/epoch=18-layer3.5.act3-topk=1.ckpt\n",
      "layer_name: layer3.5.act3, 4\n",
      "Loaded cached for /NS/robustness_2/work/vnanda/invariances_in_reps/partially_inverted_reps/checkpoints/resnet50-base-imagenet-ft-cifar10/frac-0.50000-mode-random-seed-4-ftmode-linear-lr-0.1-bs-256-nonrob/epoch=43-layer3.5.act3-topk=1.ckpt\n",
      "Loaded cached for /NS/robustness_2/work/vnanda/invariances_in_reps/partially_inverted_reps/checkpoints/resnet50-base-imagenet-ft-cifar10/frac-0.50000-mode-random-seed-3-ftmode-linear-lr-0.1-bs-256-nonrob/epoch=19-layer3.5.act3-topk=1.ckpt\n",
      "layer_name: layer3.5.act3, 4\n",
      "Loaded cached for /NS/robustness_2/work/vnanda/invariances_in_reps/partially_inverted_reps/checkpoints/resnet50-base-imagenet-ft-cifar10/frac-0.80000-mode-random-seed-3-ftmode-linear-lr-0.1-bs-256-nonrob/epoch=29-layer3.5.act3-topk=1.ckpt\n",
      "Loaded cached for /NS/robustness_2/work/vnanda/invariances_in_reps/partially_inverted_reps/checkpoints/resnet50-base-imagenet-ft-cifar10/frac-0.80000-mode-random-seed-4-ftmode-linear-lr-0.1-bs-256-nonrob/epoch=15-layer3.5.act3-topk=1.ckpt\n",
      "layer_name: layer3.5.act3, 3\n",
      "Loaded cached for /NS/robustness_2/work/vnanda/invariances_in_reps/partially_inverted_reps/checkpoints/resnet50-base-imagenet-ft-cifar10/frac-0.90000-mode-random-seed-2-ftmode-linear-lr-0.1-bs-256-nonrob/epoch=34-layer3.5.act3-topk=1.ckpt\n",
      "Loaded cached for /NS/robustness_2/work/vnanda/invariances_in_reps/partially_inverted_reps/checkpoints/resnet50-base-imagenet-ft-cifar10/frac-0.90000-mode-random-seed-1-ftmode-linear-lr-0.1-bs-256-nonrob/epoch=45-layer3.5.act3-topk=1.ckpt\n",
      "layer_name: layer3.5.act3, 1\n",
      "Loaded cached for /NS/robustness_2/work/vnanda/invariances_in_reps/partially_inverted_reps/checkpoints/resnet50-base-imagenet-ft-cifar10/frac-1.00000-mode-random-seed-2-ftmode-linear-lr-0.1-bs-256-nonrob/epoch=34-layer3.5.act3-topk=1.ckpt\n",
      "layer_name: layer4.0.act3, 3\n",
      "Loaded cached for /NS/robustness_2/work/vnanda/invariances_in_reps/partially_inverted_reps/checkpoints/resnet50-base-imagenet-ft-cifar10/frac-0.00050-mode-random-seed-3-ftmode-linear-lr-0.1-bs-256-nonrob/epoch=20-layer4.0.act3-topk=1.ckpt\n",
      "Loaded cached for /NS/robustness_2/work/vnanda/invariances_in_reps/partially_inverted_reps/checkpoints/resnet50-base-imagenet-ft-cifar10/frac-0.00050-mode-random-seed-2-ftmode-linear-lr-0.1-bs-256-nonrob/epoch=10-layer4.0.act3-topk=1.ckpt\n",
      "layer_name: layer4.0.act3, 3\n",
      "Loaded cached for /NS/robustness_2/work/vnanda/invariances_in_reps/partially_inverted_reps/checkpoints/resnet50-base-imagenet-ft-cifar10/frac-0.00500-mode-random-seed-2-ftmode-linear-lr-0.1-bs-256-nonrob/epoch=43-layer4.0.act3-topk=1.ckpt\n",
      "Loaded cached for /NS/robustness_2/work/vnanda/invariances_in_reps/partially_inverted_reps/checkpoints/resnet50-base-imagenet-ft-cifar10/frac-0.00500-mode-random-seed-1-ftmode-linear-lr-0.1-bs-256-nonrob/epoch=30-layer4.0.act3-topk=1.ckpt\n",
      "layer_name: layer4.0.act3, 3\n",
      "Loaded cached for /NS/robustness_2/work/vnanda/invariances_in_reps/partially_inverted_reps/checkpoints/resnet50-base-imagenet-ft-cifar10/frac-0.05000-mode-random-seed-3-ftmode-linear-lr-0.1-bs-256-nonrob/epoch=22-layer4.0.act3-topk=1.ckpt\n",
      "Loaded cached for /NS/robustness_2/work/vnanda/invariances_in_reps/partially_inverted_reps/checkpoints/resnet50-base-imagenet-ft-cifar10/frac-0.05000-mode-random-seed-2-ftmode-linear-lr-0.1-bs-256-nonrob/epoch=44-layer4.0.act3-topk=1.ckpt\n",
      "layer_name: layer4.0.act3, 3\n",
      "Loaded cached for /NS/robustness_2/work/vnanda/invariances_in_reps/partially_inverted_reps/checkpoints/resnet50-base-imagenet-ft-cifar10/frac-0.10000-mode-random-seed-1-ftmode-linear-lr-0.1-bs-256-nonrob/epoch=37-layer4.0.act3-topk=1.ckpt\n",
      "Loaded cached for /NS/robustness_2/work/vnanda/invariances_in_reps/partially_inverted_reps/checkpoints/resnet50-base-imagenet-ft-cifar10/frac-0.10000-mode-random-seed-2-ftmode-linear-lr-0.1-bs-256-nonrob/epoch=37-layer4.0.act3-topk=1.ckpt\n",
      "layer_name: layer4.0.act3, 3\n",
      "Loaded cached for /NS/robustness_2/work/vnanda/invariances_in_reps/partially_inverted_reps/checkpoints/resnet50-base-imagenet-ft-cifar10/frac-0.20000-mode-random-seed-3-ftmode-linear-lr-0.1-bs-256-nonrob/epoch=31-layer4.0.act3-topk=1.ckpt\n",
      "Loaded cached for /NS/robustness_2/work/vnanda/invariances_in_reps/partially_inverted_reps/checkpoints/resnet50-base-imagenet-ft-cifar10/frac-0.20000-mode-random-seed-1-ftmode-linear-lr-0.1-bs-256-nonrob/epoch=25-layer4.0.act3-topk=1.ckpt\n",
      "layer_name: layer4.0.act3, 2\n",
      "Loaded cached for /NS/robustness_2/work/vnanda/invariances_in_reps/partially_inverted_reps/checkpoints/resnet50-base-imagenet-ft-cifar10/frac-0.40000-mode-random-seed-1-ftmode-linear-lr-0.1-bs-256-nonrob/epoch=25-layer4.0.act3-topk=1.ckpt\n",
      "Loaded cached for /NS/robustness_2/work/vnanda/invariances_in_reps/partially_inverted_reps/checkpoints/resnet50-base-imagenet-ft-cifar10/frac-0.40000-mode-random-seed-2-ftmode-linear-lr-0.1-bs-256-nonrob/epoch=19-layer4.0.act3-topk=1.ckpt\n",
      "layer_name: layer4.0.act3, 3\n",
      "Loaded cached for /NS/robustness_2/work/vnanda/invariances_in_reps/partially_inverted_reps/checkpoints/resnet50-base-imagenet-ft-cifar10/frac-0.50000-mode-random-seed-3-ftmode-linear-lr-0.1-bs-256-nonrob/epoch=20-layer4.0.act3-topk=1.ckpt\n"
     ]
    },
    {
     "name": "stdout",
     "output_type": "stream",
     "text": [
      "Loaded cached for /NS/robustness_2/work/vnanda/invariances_in_reps/partially_inverted_reps/checkpoints/resnet50-base-imagenet-ft-cifar10/frac-0.50000-mode-random-seed-2-ftmode-linear-lr-0.1-bs-256-nonrob/epoch=49-layer4.0.act3-topk=1.ckpt\n",
      "layer_name: layer4.0.act3, 3\n",
      "Loaded cached for /NS/robustness_2/work/vnanda/invariances_in_reps/partially_inverted_reps/checkpoints/resnet50-base-imagenet-ft-cifar10/frac-0.80000-mode-random-seed-3-ftmode-linear-lr-0.1-bs-256-nonrob/epoch=20-layer4.0.act3-topk=1.ckpt\n",
      "Loaded cached for /NS/robustness_2/work/vnanda/invariances_in_reps/partially_inverted_reps/checkpoints/resnet50-base-imagenet-ft-cifar10/frac-0.80000-mode-random-seed-1-ftmode-linear-lr-0.1-bs-256-nonrob/epoch=48-layer4.0.act3-topk=1.ckpt\n",
      "layer_name: layer4.0.act3, 3\n",
      "Loaded cached for /NS/robustness_2/work/vnanda/invariances_in_reps/partially_inverted_reps/checkpoints/resnet50-base-imagenet-ft-cifar10/frac-0.90000-mode-random-seed-2-ftmode-linear-lr-0.1-bs-256-nonrob/epoch=49-layer4.0.act3-topk=1.ckpt\n",
      "Loaded cached for /NS/robustness_2/work/vnanda/invariances_in_reps/partially_inverted_reps/checkpoints/resnet50-base-imagenet-ft-cifar10/frac-0.90000-mode-random-seed-1-ftmode-linear-lr-0.1-bs-256-nonrob/epoch=48-layer4.0.act3-topk=1.ckpt\n",
      "layer_name: layer4.0.act3, 1\n",
      "Loaded cached for /NS/robustness_2/work/vnanda/invariances_in_reps/partially_inverted_reps/checkpoints/resnet50-base-imagenet-ft-cifar10/frac-1.00000-mode-random-seed-2-ftmode-linear-lr-0.1-bs-256-nonrob/epoch=48-layer4.0.act3-topk=1.ckpt\n",
      "layer_name: layer4.1.act3, 3\n",
      "Loaded cached for /NS/robustness_2/work/vnanda/invariances_in_reps/partially_inverted_reps/checkpoints/resnet50-base-imagenet-ft-cifar10/frac-0.00050-mode-random-seed-3-ftmode-linear-lr-0.1-bs-256-nonrob/epoch=10-layer4.1.act3-topk=1.ckpt\n",
      "Loaded cached for /NS/robustness_2/work/vnanda/invariances_in_reps/partially_inverted_reps/checkpoints/resnet50-base-imagenet-ft-cifar10/frac-0.00050-mode-random-seed-2-ftmode-linear-lr-0.1-bs-256-nonrob/epoch=26-layer4.1.act3-topk=1.ckpt\n",
      "layer_name: layer4.1.act3, 3\n",
      "Loaded cached for /NS/robustness_2/work/vnanda/invariances_in_reps/partially_inverted_reps/checkpoints/resnet50-base-imagenet-ft-cifar10/frac-0.00500-mode-random-seed-2-ftmode-linear-lr-0.1-bs-256-nonrob/epoch=21-layer4.1.act3-topk=1.ckpt\n",
      "Loaded cached for /NS/robustness_2/work/vnanda/invariances_in_reps/partially_inverted_reps/checkpoints/resnet50-base-imagenet-ft-cifar10/frac-0.00500-mode-random-seed-1-ftmode-linear-lr-0.1-bs-256-nonrob/epoch=42-layer4.1.act3-topk=1.ckpt\n",
      "layer_name: layer4.1.act3, 3\n",
      "Loaded cached for /NS/robustness_2/work/vnanda/invariances_in_reps/partially_inverted_reps/checkpoints/resnet50-base-imagenet-ft-cifar10/frac-0.05000-mode-random-seed-3-ftmode-linear-lr-0.1-bs-256-nonrob/epoch=29-layer4.1.act3-topk=1.ckpt\n",
      "Loaded cached for /NS/robustness_2/work/vnanda/invariances_in_reps/partially_inverted_reps/checkpoints/resnet50-base-imagenet-ft-cifar10/frac-0.05000-mode-random-seed-2-ftmode-linear-lr-0.1-bs-256-nonrob/epoch=19-layer4.1.act3-topk=1.ckpt\n",
      "layer_name: layer4.1.act3, 3\n",
      "Loaded cached for /NS/robustness_2/work/vnanda/invariances_in_reps/partially_inverted_reps/checkpoints/resnet50-base-imagenet-ft-cifar10/frac-0.10000-mode-random-seed-1-ftmode-linear-lr-0.1-bs-256-nonrob/epoch=40-layer4.1.act3-topk=1.ckpt\n",
      "Loaded cached for /NS/robustness_2/work/vnanda/invariances_in_reps/partially_inverted_reps/checkpoints/resnet50-base-imagenet-ft-cifar10/frac-0.10000-mode-random-seed-2-ftmode-linear-lr-0.1-bs-256-nonrob/epoch=49-layer4.1.act3-topk=1.ckpt\n",
      "layer_name: layer4.1.act3, 3\n",
      "Loaded cached for /NS/robustness_2/work/vnanda/invariances_in_reps/partially_inverted_reps/checkpoints/resnet50-base-imagenet-ft-cifar10/frac-0.20000-mode-random-seed-3-ftmode-linear-lr-0.1-bs-256-nonrob/epoch=31-layer4.1.act3-topk=1.ckpt\n",
      "Loaded cached for /NS/robustness_2/work/vnanda/invariances_in_reps/partially_inverted_reps/checkpoints/resnet50-base-imagenet-ft-cifar10/frac-0.20000-mode-random-seed-1-ftmode-linear-lr-0.1-bs-256-nonrob/epoch=40-layer4.1.act3-topk=1.ckpt\n",
      "layer_name: layer4.1.act3, 3\n",
      "Loaded cached for /NS/robustness_2/work/vnanda/invariances_in_reps/partially_inverted_reps/checkpoints/resnet50-base-imagenet-ft-cifar10/frac-0.40000-mode-random-seed-1-ftmode-linear-lr-0.1-bs-256-nonrob/epoch=48-layer4.1.act3-topk=1.ckpt\n",
      "Loaded cached for /NS/robustness_2/work/vnanda/invariances_in_reps/partially_inverted_reps/checkpoints/resnet50-base-imagenet-ft-cifar10/frac-0.40000-mode-random-seed-2-ftmode-linear-lr-0.1-bs-256-nonrob/epoch=42-layer4.1.act3-topk=1.ckpt\n",
      "layer_name: layer4.1.act3, 3\n",
      "Loaded cached for /NS/robustness_2/work/vnanda/invariances_in_reps/partially_inverted_reps/checkpoints/resnet50-base-imagenet-ft-cifar10/frac-0.50000-mode-random-seed-3-ftmode-linear-lr-0.1-bs-256-nonrob/epoch=31-layer4.1.act3-topk=1.ckpt\n",
      "Loaded cached for /NS/robustness_2/work/vnanda/invariances_in_reps/partially_inverted_reps/checkpoints/resnet50-base-imagenet-ft-cifar10/frac-0.50000-mode-random-seed-2-ftmode-linear-lr-0.1-bs-256-nonrob/epoch=42-layer4.1.act3-topk=1.ckpt\n",
      "layer_name: layer4.1.act3, 3\n",
      "Loaded cached for /NS/robustness_2/work/vnanda/invariances_in_reps/partially_inverted_reps/checkpoints/resnet50-base-imagenet-ft-cifar10/frac-0.80000-mode-random-seed-3-ftmode-linear-lr-0.1-bs-256-nonrob/epoch=20-layer4.1.act3-topk=1.ckpt\n",
      "Loaded cached for /NS/robustness_2/work/vnanda/invariances_in_reps/partially_inverted_reps/checkpoints/resnet50-base-imagenet-ft-cifar10/frac-0.80000-mode-random-seed-1-ftmode-linear-lr-0.1-bs-256-nonrob/epoch=40-layer4.1.act3-topk=1.ckpt\n",
      "layer_name: layer4.1.act3, 3\n",
      "Loaded cached for /NS/robustness_2/work/vnanda/invariances_in_reps/partially_inverted_reps/checkpoints/resnet50-base-imagenet-ft-cifar10/frac-0.90000-mode-random-seed-2-ftmode-linear-lr-0.1-bs-256-nonrob/epoch=21-layer4.1.act3-topk=1.ckpt\n",
      "Loaded cached for /NS/robustness_2/work/vnanda/invariances_in_reps/partially_inverted_reps/checkpoints/resnet50-base-imagenet-ft-cifar10/frac-0.90000-mode-random-seed-1-ftmode-linear-lr-0.1-bs-256-nonrob/epoch=40-layer4.1.act3-topk=1.ckpt\n",
      "layer_name: layer4.1.act3, 1\n",
      "Loaded cached for /NS/robustness_2/work/vnanda/invariances_in_reps/partially_inverted_reps/checkpoints/resnet50-base-imagenet-ft-cifar10/frac-1.00000-mode-random-seed-2-ftmode-linear-lr-0.1-bs-256-nonrob/epoch=48-layer4.1.act3-topk=1.ckpt\n",
      "layer_name: layer4.2.act3, 3\n",
      "Loaded cached for /NS/robustness_2/work/vnanda/invariances_in_reps/partially_inverted_reps/checkpoints/resnet50-base-imagenet-ft-cifar10/frac-0.00050-mode-random-seed-3-ftmode-linear-lr-0.1-bs-256-nonrob/epoch=15-layer4.2.act3-topk=1.ckpt\n",
      "Loaded cached for /NS/robustness_2/work/vnanda/invariances_in_reps/partially_inverted_reps/checkpoints/resnet50-base-imagenet-ft-cifar10/frac-0.00050-mode-random-seed-2-ftmode-linear-lr-0.1-bs-256-nonrob/epoch=11-layer4.2.act3-topk=1.ckpt\n",
      "layer_name: layer4.2.act3, 3\n",
      "Loaded cached for /NS/robustness_2/work/vnanda/invariances_in_reps/partially_inverted_reps/checkpoints/resnet50-base-imagenet-ft-cifar10/frac-0.00500-mode-random-seed-2-ftmode-linear-lr-0.1-bs-256-nonrob/epoch=34-layer4.2.act3-topk=1.ckpt\n",
      "Loaded cached for /NS/robustness_2/work/vnanda/invariances_in_reps/partially_inverted_reps/checkpoints/resnet50-base-imagenet-ft-cifar10/frac-0.00500-mode-random-seed-1-ftmode-linear-lr-0.1-bs-256-nonrob/epoch=28-layer4.2.act3-topk=1.ckpt\n",
      "layer_name: layer4.2.act3, 3\n",
      "Loaded cached for /NS/robustness_2/work/vnanda/invariances_in_reps/partially_inverted_reps/checkpoints/resnet50-base-imagenet-ft-cifar10/frac-0.05000-mode-random-seed-3-ftmode-linear-lr-0.1-bs-256-nonrob/epoch=19-layer4.2.act3-topk=1.ckpt\n",
      "Loaded cached for /NS/robustness_2/work/vnanda/invariances_in_reps/partially_inverted_reps/checkpoints/resnet50-base-imagenet-ft-cifar10/frac-0.05000-mode-random-seed-2-ftmode-linear-lr-0.1-bs-256-nonrob/epoch=19-layer4.2.act3-topk=1.ckpt\n",
      "layer_name: layer4.2.act3, 3\n",
      "Loaded cached for /NS/robustness_2/work/vnanda/invariances_in_reps/partially_inverted_reps/checkpoints/resnet50-base-imagenet-ft-cifar10/frac-0.10000-mode-random-seed-1-ftmode-linear-lr-0.1-bs-256-nonrob/epoch=40-layer4.2.act3-topk=1.ckpt\n",
      "Loaded cached for /NS/robustness_2/work/vnanda/invariances_in_reps/partially_inverted_reps/checkpoints/resnet50-base-imagenet-ft-cifar10/frac-0.10000-mode-random-seed-2-ftmode-linear-lr-0.1-bs-256-nonrob/epoch=44-layer4.2.act3-topk=1.ckpt\n",
      "layer_name: layer4.2.act3, 3\n",
      "Loaded cached for /NS/robustness_2/work/vnanda/invariances_in_reps/partially_inverted_reps/checkpoints/resnet50-base-imagenet-ft-cifar10/frac-0.20000-mode-random-seed-3-ftmode-linear-lr-0.1-bs-256-nonrob/epoch=31-layer4.2.act3-topk=1.ckpt\n"
     ]
    },
    {
     "name": "stdout",
     "output_type": "stream",
     "text": [
      "Loaded cached for /NS/robustness_2/work/vnanda/invariances_in_reps/partially_inverted_reps/checkpoints/resnet50-base-imagenet-ft-cifar10/frac-0.20000-mode-random-seed-1-ftmode-linear-lr-0.1-bs-256-nonrob/epoch=40-layer4.2.act3-topk=1.ckpt\n",
      "layer_name: layer4.2.act3, 3\n",
      "Loaded cached for /NS/robustness_2/work/vnanda/invariances_in_reps/partially_inverted_reps/checkpoints/resnet50-base-imagenet-ft-cifar10/frac-0.40000-mode-random-seed-1-ftmode-linear-lr-0.1-bs-256-nonrob/epoch=46-layer4.2.act3-topk=1.ckpt\n",
      "Loaded cached for /NS/robustness_2/work/vnanda/invariances_in_reps/partially_inverted_reps/checkpoints/resnet50-base-imagenet-ft-cifar10/frac-0.40000-mode-random-seed-2-ftmode-linear-lr-0.1-bs-256-nonrob/epoch=21-layer4.2.act3-topk=1.ckpt\n",
      "layer_name: layer4.2.act3, 3\n",
      "Loaded cached for /NS/robustness_2/work/vnanda/invariances_in_reps/partially_inverted_reps/checkpoints/resnet50-base-imagenet-ft-cifar10/frac-0.50000-mode-random-seed-3-ftmode-linear-lr-0.1-bs-256-nonrob/epoch=29-layer4.2.act3-topk=1.ckpt\n",
      "Loaded cached for /NS/robustness_2/work/vnanda/invariances_in_reps/partially_inverted_reps/checkpoints/resnet50-base-imagenet-ft-cifar10/frac-0.50000-mode-random-seed-2-ftmode-linear-lr-0.1-bs-256-nonrob/epoch=42-layer4.2.act3-topk=1.ckpt\n",
      "layer_name: layer4.2.act3, 4\n",
      "Loaded cached for /NS/robustness_2/work/vnanda/invariances_in_reps/partially_inverted_reps/checkpoints/resnet50-base-imagenet-ft-cifar10/frac-0.80000-mode-random-seed-3-ftmode-linear-lr-0.1-bs-256-nonrob/epoch=16-layer4.2.act3-topk=1.ckpt\n",
      "Loaded cached for /NS/robustness_2/work/vnanda/invariances_in_reps/partially_inverted_reps/checkpoints/resnet50-base-imagenet-ft-cifar10/frac-0.80000-mode-random-seed-1-ftmode-linear-lr-0.1-bs-256-nonrob/epoch=34-layer4.2.act3-topk=1.ckpt\n",
      "layer_name: layer4.2.act3, 3\n",
      "Loaded cached for /NS/robustness_2/work/vnanda/invariances_in_reps/partially_inverted_reps/checkpoints/resnet50-base-imagenet-ft-cifar10/frac-0.90000-mode-random-seed-2-ftmode-linear-lr-0.1-bs-256-nonrob/epoch=42-layer4.2.act3-topk=1.ckpt\n",
      "Loaded cached for /NS/robustness_2/work/vnanda/invariances_in_reps/partially_inverted_reps/checkpoints/resnet50-base-imagenet-ft-cifar10/frac-0.90000-mode-random-seed-1-ftmode-linear-lr-0.1-bs-256-nonrob/epoch=47-layer4.2.act3-topk=1.ckpt\n",
      "layer_name: layer4.2.act3, 1\n",
      "Loaded cached for /NS/robustness_2/work/vnanda/invariances_in_reps/partially_inverted_reps/checkpoints/resnet50-base-imagenet-ft-cifar10/frac-1.00000-mode-random-seed-2-ftmode-linear-lr-0.1-bs-256-nonrob/epoch=37-layer4.2.act3-topk=1.ckpt\n",
      "layer_name: global_pool.pool, 3\n"
     ]
    },
    {
     "name": "stderr",
     "output_type": "stream",
     "text": [
      "Global seed set to 3\n",
      "GPU available: True, used: True\n",
      "TPU available: False, using: 0 TPU cores\n",
      "IPU available: False, using: 0 IPUs\n",
      "LOCAL_RANK: 0 - CUDA_VISIBLE_DEVICES: [0,1,2,3,4,5,6,7]\n"
     ]
    },
    {
     "data": {
      "application/vnd.jupyter.widget-view+json": {
       "model_id": "e2e594f114db45fdb66bab94fb4c5345",
       "version_major": 2,
       "version_minor": 0
      },
      "text/plain": [
       "Predicting: 0it [00:00, ?it/s]"
      ]
     },
     "metadata": {},
     "output_type": "display_data"
    },
    {
     "name": "stderr",
     "output_type": "stream",
     "text": [
      "Global seed set to 2\n",
      "GPU available: True, used: True\n",
      "TPU available: False, using: 0 TPU cores\n",
      "IPU available: False, using: 0 IPUs\n",
      "LOCAL_RANK: 0 - CUDA_VISIBLE_DEVICES: [0,1,2,3,4,5,6,7]\n"
     ]
    },
    {
     "data": {
      "application/vnd.jupyter.widget-view+json": {
       "model_id": "24a488eea3f040399475e411184749e1",
       "version_major": 2,
       "version_minor": 0
      },
      "text/plain": [
       "Predicting: 0it [00:00, ?it/s]"
      ]
     },
     "metadata": {},
     "output_type": "display_data"
    },
    {
     "name": "stdout",
     "output_type": "stream",
     "text": [
      "layer_name: global_pool.pool, 3\n"
     ]
    },
    {
     "name": "stderr",
     "output_type": "stream",
     "text": [
      "Global seed set to 2\n",
      "GPU available: True, used: True\n",
      "TPU available: False, using: 0 TPU cores\n",
      "IPU available: False, using: 0 IPUs\n",
      "LOCAL_RANK: 0 - CUDA_VISIBLE_DEVICES: [0,1,2,3,4,5,6,7]\n"
     ]
    },
    {
     "data": {
      "application/vnd.jupyter.widget-view+json": {
       "model_id": "11a2498b0a6d47d6bf8ab7a2730fed47",
       "version_major": 2,
       "version_minor": 0
      },
      "text/plain": [
       "Predicting: 0it [00:00, ?it/s]"
      ]
     },
     "metadata": {},
     "output_type": "display_data"
    },
    {
     "name": "stderr",
     "output_type": "stream",
     "text": [
      "Global seed set to 1\n",
      "GPU available: True, used: True\n",
      "TPU available: False, using: 0 TPU cores\n",
      "IPU available: False, using: 0 IPUs\n",
      "LOCAL_RANK: 0 - CUDA_VISIBLE_DEVICES: [0,1,2,3,4,5,6,7]\n"
     ]
    },
    {
     "data": {
      "application/vnd.jupyter.widget-view+json": {
       "model_id": "13fea5709794470c990f7b98886261fa",
       "version_major": 2,
       "version_minor": 0
      },
      "text/plain": [
       "Predicting: 0it [00:00, ?it/s]"
      ]
     },
     "metadata": {},
     "output_type": "display_data"
    },
    {
     "name": "stdout",
     "output_type": "stream",
     "text": [
      "layer_name: global_pool.pool, 3\n"
     ]
    },
    {
     "name": "stderr",
     "output_type": "stream",
     "text": [
      "Global seed set to 3\n",
      "GPU available: True, used: True\n",
      "TPU available: False, using: 0 TPU cores\n",
      "IPU available: False, using: 0 IPUs\n",
      "LOCAL_RANK: 0 - CUDA_VISIBLE_DEVICES: [0,1,2,3,4,5,6,7]\n"
     ]
    },
    {
     "data": {
      "application/vnd.jupyter.widget-view+json": {
       "model_id": "cf626a3b927048e9abe1f5abb1256cb4",
       "version_major": 2,
       "version_minor": 0
      },
      "text/plain": [
       "Predicting: 0it [00:00, ?it/s]"
      ]
     },
     "metadata": {},
     "output_type": "display_data"
    },
    {
     "name": "stderr",
     "output_type": "stream",
     "text": [
      "Global seed set to 2\n",
      "GPU available: True, used: True\n",
      "TPU available: False, using: 0 TPU cores\n",
      "IPU available: False, using: 0 IPUs\n",
      "LOCAL_RANK: 0 - CUDA_VISIBLE_DEVICES: [0,1,2,3,4,5,6,7]\n"
     ]
    },
    {
     "data": {
      "application/vnd.jupyter.widget-view+json": {
       "model_id": "23b06932624946fe84317e47734c6cc9",
       "version_major": 2,
       "version_minor": 0
      },
      "text/plain": [
       "Predicting: 0it [00:00, ?it/s]"
      ]
     },
     "metadata": {},
     "output_type": "display_data"
    },
    {
     "name": "stdout",
     "output_type": "stream",
     "text": [
      "layer_name: global_pool.pool, 3\n"
     ]
    },
    {
     "name": "stderr",
     "output_type": "stream",
     "text": [
      "Global seed set to 1\n",
      "GPU available: True, used: True\n",
      "TPU available: False, using: 0 TPU cores\n",
      "IPU available: False, using: 0 IPUs\n",
      "LOCAL_RANK: 0 - CUDA_VISIBLE_DEVICES: [0,1,2,3,4,5,6,7]\n"
     ]
    },
    {
     "data": {
      "application/vnd.jupyter.widget-view+json": {
       "model_id": "1f50d21e700d4ac98a913dc65fb5af28",
       "version_major": 2,
       "version_minor": 0
      },
      "text/plain": [
       "Predicting: 0it [00:00, ?it/s]"
      ]
     },
     "metadata": {},
     "output_type": "display_data"
    },
    {
     "name": "stderr",
     "output_type": "stream",
     "text": [
      "Global seed set to 2\n",
      "GPU available: True, used: True\n",
      "TPU available: False, using: 0 TPU cores\n",
      "IPU available: False, using: 0 IPUs\n",
      "LOCAL_RANK: 0 - CUDA_VISIBLE_DEVICES: [0,1,2,3,4,5,6,7]\n"
     ]
    },
    {
     "data": {
      "application/vnd.jupyter.widget-view+json": {
       "model_id": "d34d8c733f254647bc90b4f9901b8c04",
       "version_major": 2,
       "version_minor": 0
      },
      "text/plain": [
       "Predicting: 0it [00:00, ?it/s]"
      ]
     },
     "metadata": {},
     "output_type": "display_data"
    },
    {
     "name": "stdout",
     "output_type": "stream",
     "text": [
      "layer_name: global_pool.pool, 3\n"
     ]
    },
    {
     "name": "stderr",
     "output_type": "stream",
     "text": [
      "Global seed set to 3\n",
      "GPU available: True, used: True\n",
      "TPU available: False, using: 0 TPU cores\n",
      "IPU available: False, using: 0 IPUs\n",
      "LOCAL_RANK: 0 - CUDA_VISIBLE_DEVICES: [0,1,2,3,4,5,6,7]\n"
     ]
    },
    {
     "data": {
      "application/vnd.jupyter.widget-view+json": {
       "model_id": "180a786af9fe442690bb48408f531adb",
       "version_major": 2,
       "version_minor": 0
      },
      "text/plain": [
       "Predicting: 0it [00:00, ?it/s]"
      ]
     },
     "metadata": {},
     "output_type": "display_data"
    },
    {
     "name": "stderr",
     "output_type": "stream",
     "text": [
      "Global seed set to 1\n",
      "GPU available: True, used: True\n",
      "TPU available: False, using: 0 TPU cores\n",
      "IPU available: False, using: 0 IPUs\n",
      "LOCAL_RANK: 0 - CUDA_VISIBLE_DEVICES: [0,1,2,3,4,5,6,7]\n"
     ]
    },
    {
     "data": {
      "application/vnd.jupyter.widget-view+json": {
       "model_id": "cd23c4807b1049a88586a58c3bfcb911",
       "version_major": 2,
       "version_minor": 0
      },
      "text/plain": [
       "Predicting: 0it [00:00, ?it/s]"
      ]
     },
     "metadata": {},
     "output_type": "display_data"
    },
    {
     "name": "stdout",
     "output_type": "stream",
     "text": [
      "layer_name: global_pool.pool, 3\n"
     ]
    },
    {
     "name": "stderr",
     "output_type": "stream",
     "text": [
      "Global seed set to 1\n",
      "GPU available: True, used: True\n",
      "TPU available: False, using: 0 TPU cores\n",
      "IPU available: False, using: 0 IPUs\n",
      "LOCAL_RANK: 0 - CUDA_VISIBLE_DEVICES: [0,1,2,3,4,5,6,7]\n"
     ]
    },
    {
     "data": {
      "application/vnd.jupyter.widget-view+json": {
       "model_id": "7a3e969d9f11495b95e031ff93181ecc",
       "version_major": 2,
       "version_minor": 0
      },
      "text/plain": [
       "Predicting: 0it [00:00, ?it/s]"
      ]
     },
     "metadata": {},
     "output_type": "display_data"
    },
    {
     "name": "stderr",
     "output_type": "stream",
     "text": [
      "Global seed set to 2\n",
      "GPU available: True, used: True\n",
      "TPU available: False, using: 0 TPU cores\n",
      "IPU available: False, using: 0 IPUs\n",
      "LOCAL_RANK: 0 - CUDA_VISIBLE_DEVICES: [0,1,2,3,4,5,6,7]\n"
     ]
    },
    {
     "data": {
      "application/vnd.jupyter.widget-view+json": {
       "model_id": "381630eb137e4eccb14b31deca1c0ab0",
       "version_major": 2,
       "version_minor": 0
      },
      "text/plain": [
       "Predicting: 0it [00:00, ?it/s]"
      ]
     },
     "metadata": {},
     "output_type": "display_data"
    },
    {
     "name": "stdout",
     "output_type": "stream",
     "text": [
      "layer_name: global_pool.pool, 3\n"
     ]
    },
    {
     "name": "stderr",
     "output_type": "stream",
     "text": [
      "Global seed set to 3\n",
      "GPU available: True, used: True\n",
      "TPU available: False, using: 0 TPU cores\n",
      "IPU available: False, using: 0 IPUs\n",
      "LOCAL_RANK: 0 - CUDA_VISIBLE_DEVICES: [0,1,2,3,4,5,6,7]\n"
     ]
    },
    {
     "data": {
      "application/vnd.jupyter.widget-view+json": {
       "model_id": "750762b606c74989a10fca66f352f26a",
       "version_major": 2,
       "version_minor": 0
      },
      "text/plain": [
       "Predicting: 0it [00:00, ?it/s]"
      ]
     },
     "metadata": {},
     "output_type": "display_data"
    },
    {
     "name": "stderr",
     "output_type": "stream",
     "text": [
      "Global seed set to 2\n",
      "GPU available: True, used: True\n",
      "TPU available: False, using: 0 TPU cores\n",
      "IPU available: False, using: 0 IPUs\n",
      "LOCAL_RANK: 0 - CUDA_VISIBLE_DEVICES: [0,1,2,3,4,5,6,7]\n"
     ]
    },
    {
     "data": {
      "application/vnd.jupyter.widget-view+json": {
       "model_id": "e1ef200da4d24cab81ac438d920bb95d",
       "version_major": 2,
       "version_minor": 0
      },
      "text/plain": [
       "Predicting: 0it [00:00, ?it/s]"
      ]
     },
     "metadata": {},
     "output_type": "display_data"
    },
    {
     "name": "stdout",
     "output_type": "stream",
     "text": [
      "layer_name: global_pool.pool, 3\n"
     ]
    },
    {
     "name": "stderr",
     "output_type": "stream",
     "text": [
      "Global seed set to 3\n",
      "GPU available: True, used: True\n",
      "TPU available: False, using: 0 TPU cores\n",
      "IPU available: False, using: 0 IPUs\n",
      "LOCAL_RANK: 0 - CUDA_VISIBLE_DEVICES: [0,1,2,3,4,5,6,7]\n"
     ]
    },
    {
     "data": {
      "application/vnd.jupyter.widget-view+json": {
       "model_id": "856d3df803b548779dae633bf7954491",
       "version_major": 2,
       "version_minor": 0
      },
      "text/plain": [
       "Predicting: 0it [00:00, ?it/s]"
      ]
     },
     "metadata": {},
     "output_type": "display_data"
    },
    {
     "name": "stderr",
     "output_type": "stream",
     "text": [
      "Global seed set to 1\n",
      "GPU available: True, used: True\n",
      "TPU available: False, using: 0 TPU cores\n",
      "IPU available: False, using: 0 IPUs\n",
      "LOCAL_RANK: 0 - CUDA_VISIBLE_DEVICES: [0,1,2,3,4,5,6,7]\n"
     ]
    },
    {
     "data": {
      "application/vnd.jupyter.widget-view+json": {
       "model_id": "9409807af685497c8ba88070d6c9777c",
       "version_major": 2,
       "version_minor": 0
      },
      "text/plain": [
       "Predicting: 0it [00:00, ?it/s]"
      ]
     },
     "metadata": {},
     "output_type": "display_data"
    },
    {
     "name": "stdout",
     "output_type": "stream",
     "text": [
      "layer_name: global_pool.pool, 3\n"
     ]
    },
    {
     "name": "stderr",
     "output_type": "stream",
     "text": [
      "Global seed set to 2\n",
      "GPU available: True, used: True\n",
      "TPU available: False, using: 0 TPU cores\n",
      "IPU available: False, using: 0 IPUs\n",
      "LOCAL_RANK: 0 - CUDA_VISIBLE_DEVICES: [0,1,2,3,4,5,6,7]\n"
     ]
    },
    {
     "data": {
      "application/vnd.jupyter.widget-view+json": {
       "model_id": "7c53f93762fd4d1982b97587439b6bae",
       "version_major": 2,
       "version_minor": 0
      },
      "text/plain": [
       "Predicting: 0it [00:00, ?it/s]"
      ]
     },
     "metadata": {},
     "output_type": "display_data"
    },
    {
     "name": "stderr",
     "output_type": "stream",
     "text": [
      "Global seed set to 1\n",
      "GPU available: True, used: True\n",
      "TPU available: False, using: 0 TPU cores\n",
      "IPU available: False, using: 0 IPUs\n",
      "LOCAL_RANK: 0 - CUDA_VISIBLE_DEVICES: [0,1,2,3,4,5,6,7]\n"
     ]
    },
    {
     "data": {
      "application/vnd.jupyter.widget-view+json": {
       "model_id": "1d588d777c0b4d0e9b1785e63c6d4894",
       "version_major": 2,
       "version_minor": 0
      },
      "text/plain": [
       "Predicting: 0it [00:00, ?it/s]"
      ]
     },
     "metadata": {},
     "output_type": "display_data"
    },
    {
     "name": "stdout",
     "output_type": "stream",
     "text": [
      "layer_name: global_pool.pool, 1\n"
     ]
    },
    {
     "name": "stderr",
     "output_type": "stream",
     "text": [
      "Global seed set to 2\n",
      "GPU available: True, used: True\n",
      "TPU available: False, using: 0 TPU cores\n",
      "IPU available: False, using: 0 IPUs\n",
      "LOCAL_RANK: 0 - CUDA_VISIBLE_DEVICES: [0,1,2,3,4,5,6,7]\n"
     ]
    },
    {
     "data": {
      "application/vnd.jupyter.widget-view+json": {
       "model_id": "fb57c3b4769e4fa495c9de343b622b0d",
       "version_major": 2,
       "version_minor": 0
      },
      "text/plain": [
       "Predicting: 0it [00:00, ?it/s]"
      ]
     },
     "metadata": {},
     "output_type": "display_data"
    },
    {
     "name": "stderr",
     "output_type": "stream",
     "text": [
      "Global seed set to 2\n"
     ]
    },
    {
     "name": "stdout",
     "output_type": "stream",
     "text": [
      "['layer1.0.act3', 'layer1.1.act3', 'layer1.2.act3', 'layer2.0.act3', 'layer2.1.act3', 'layer2.2.act3', 'layer2.3.act3', 'layer3.0.act3', 'layer3.1.act3', 'layer3.2.act3', 'layer3.3.act3', 'layer3.4.act3', 'layer3.5.act3', 'layer4.0.act3', 'layer4.1.act3', 'layer4.2.act3', 'global_pool.pool']\n",
      "layer_name: layer1.0.act3, 4\n",
      "Loaded cached for /NS/robustness_2/work/vnanda/invariances_in_reps/partially_inverted_reps/checkpoints/resnet50-base-imagenet-ft-cifar100/frac-0.00050-mode-random-seed-1-ftmode-linear-lr-0.1-bs-256-nonrob/epoch=40-layer1.0.act3-topk=1.ckpt\n",
      "Loaded cached for /NS/robustness_2/work/vnanda/invariances_in_reps/partially_inverted_reps/checkpoints/resnet50-base-imagenet-ft-cifar100/frac-0.00050-mode-random-seed-2-ftmode-linear-lr-0.1-bs-256-nonrob/epoch=33-layer1.0.act3-topk=1.ckpt\n",
      "layer_name: layer1.0.act3, 3\n",
      "Loaded cached for /NS/robustness_2/work/vnanda/invariances_in_reps/partially_inverted_reps/checkpoints/resnet50-base-imagenet-ft-cifar100/frac-0.00500-mode-random-seed-3-ftmode-linear-lr-0.1-bs-256-nonrob/epoch=32-layer1.0.act3-topk=1.ckpt\n",
      "Loaded cached for /NS/robustness_2/work/vnanda/invariances_in_reps/partially_inverted_reps/checkpoints/resnet50-base-imagenet-ft-cifar100/frac-0.00500-mode-random-seed-1-ftmode-linear-lr-0.1-bs-256-nonrob/epoch=45-layer1.0.act3-topk=1.ckpt\n",
      "layer_name: layer1.0.act3, 3\n",
      "Loaded cached for /NS/robustness_2/work/vnanda/invariances_in_reps/partially_inverted_reps/checkpoints/resnet50-base-imagenet-ft-cifar100/frac-0.05000-mode-random-seed-1-ftmode-linear-lr-0.1-bs-256-nonrob/epoch=32-layer1.0.act3-topk=1.ckpt\n",
      "Loaded cached for /NS/robustness_2/work/vnanda/invariances_in_reps/partially_inverted_reps/checkpoints/resnet50-base-imagenet-ft-cifar100/frac-0.05000-mode-random-seed-2-ftmode-linear-lr-0.1-bs-256-nonrob/epoch=41-layer1.0.act3-topk=1.ckpt\n",
      "layer_name: layer1.0.act3, 3\n",
      "Loaded cached for /NS/robustness_2/work/vnanda/invariances_in_reps/partially_inverted_reps/checkpoints/resnet50-base-imagenet-ft-cifar100/frac-0.10000-mode-random-seed-3-ftmode-linear-lr-0.1-bs-256-nonrob/epoch=34-layer1.0.act3-topk=1.ckpt\n",
      "Loaded cached for /NS/robustness_2/work/vnanda/invariances_in_reps/partially_inverted_reps/checkpoints/resnet50-base-imagenet-ft-cifar100/frac-0.10000-mode-random-seed-2-ftmode-linear-lr-0.1-bs-256-nonrob/epoch=44-layer1.0.act3-topk=1.ckpt\n",
      "layer_name: layer1.0.act3, 3\n",
      "Loaded cached for /NS/robustness_2/work/vnanda/invariances_in_reps/partially_inverted_reps/checkpoints/resnet50-base-imagenet-ft-cifar100/frac-0.20000-mode-random-seed-2-ftmode-linear-lr-0.1-bs-256-nonrob/epoch=35-layer1.0.act3-topk=1.ckpt\n",
      "Loaded cached for /NS/robustness_2/work/vnanda/invariances_in_reps/partially_inverted_reps/checkpoints/resnet50-base-imagenet-ft-cifar100/frac-0.20000-mode-random-seed-1-ftmode-linear-lr-0.1-bs-256-nonrob/epoch=40-layer1.0.act3-topk=1.ckpt\n",
      "layer_name: layer1.0.act3, 3\n",
      "Loaded cached for /NS/robustness_2/work/vnanda/invariances_in_reps/partially_inverted_reps/checkpoints/resnet50-base-imagenet-ft-cifar100/frac-0.40000-mode-random-seed-3-ftmode-linear-lr-0.1-bs-256-nonrob/epoch=32-layer1.0.act3-topk=1.ckpt\n",
      "Loaded cached for /NS/robustness_2/work/vnanda/invariances_in_reps/partially_inverted_reps/checkpoints/resnet50-base-imagenet-ft-cifar100/frac-0.40000-mode-random-seed-2-ftmode-linear-lr-0.1-bs-256-nonrob/epoch=45-layer1.0.act3-topk=1.ckpt\n",
      "layer_name: layer1.0.act3, 3\n",
      "Loaded cached for /NS/robustness_2/work/vnanda/invariances_in_reps/partially_inverted_reps/checkpoints/resnet50-base-imagenet-ft-cifar100/frac-0.50000-mode-random-seed-1-ftmode-linear-lr-0.1-bs-256-nonrob/epoch=32-layer1.0.act3-topk=1.ckpt\n",
      "Loaded cached for /NS/robustness_2/work/vnanda/invariances_in_reps/partially_inverted_reps/checkpoints/resnet50-base-imagenet-ft-cifar100/frac-0.50000-mode-random-seed-2-ftmode-linear-lr-0.1-bs-256-nonrob/epoch=44-layer1.0.act3-topk=1.ckpt\n",
      "layer_name: layer1.0.act3, 3\n",
      "Loaded cached for /NS/robustness_2/work/vnanda/invariances_in_reps/partially_inverted_reps/checkpoints/resnet50-base-imagenet-ft-cifar100/frac-0.80000-mode-random-seed-2-ftmode-linear-lr-0.1-bs-256-nonrob/epoch=34-layer1.0.act3-topk=1.ckpt\n",
      "Loaded cached for /NS/robustness_2/work/vnanda/invariances_in_reps/partially_inverted_reps/checkpoints/resnet50-base-imagenet-ft-cifar100/frac-0.80000-mode-random-seed-1-ftmode-linear-lr-0.1-bs-256-nonrob/epoch=40-layer1.0.act3-topk=1.ckpt\n",
      "layer_name: layer1.0.act3, 3\n",
      "Loaded cached for /NS/robustness_2/work/vnanda/invariances_in_reps/partially_inverted_reps/checkpoints/resnet50-base-imagenet-ft-cifar100/frac-0.90000-mode-random-seed-3-ftmode-linear-lr-0.1-bs-256-nonrob/epoch=40-layer1.0.act3-topk=1.ckpt\n",
      "Loaded cached for /NS/robustness_2/work/vnanda/invariances_in_reps/partially_inverted_reps/checkpoints/resnet50-base-imagenet-ft-cifar100/frac-0.90000-mode-random-seed-1-ftmode-linear-lr-0.1-bs-256-nonrob/epoch=32-layer1.0.act3-topk=1.ckpt\n",
      "layer_name: layer1.0.act3, 1\n",
      "Loaded cached for /NS/robustness_2/work/vnanda/invariances_in_reps/partially_inverted_reps/checkpoints/resnet50-base-imagenet-ft-cifar100/frac-1.00000-mode-random-seed-2-ftmode-linear-lr-0.1-bs-256-nonrob/epoch=44-layer1.0.act3-topk=1.ckpt\n",
      "layer_name: layer1.1.act3, 4\n",
      "Loaded cached for /NS/robustness_2/work/vnanda/invariances_in_reps/partially_inverted_reps/checkpoints/resnet50-base-imagenet-ft-cifar100/frac-0.00050-mode-random-seed-1-ftmode-linear-lr-0.1-bs-256-nonrob/epoch=40-layer1.1.act3-topk=1.ckpt\n",
      "Loaded cached for /NS/robustness_2/work/vnanda/invariances_in_reps/partially_inverted_reps/checkpoints/resnet50-base-imagenet-ft-cifar100/frac-0.00050-mode-random-seed-2-ftmode-linear-lr-0.1-bs-256-nonrob/epoch=48-layer1.1.act3-topk=1.ckpt\n",
      "layer_name: layer1.1.act3, 4\n",
      "Loaded cached for /NS/robustness_2/work/vnanda/invariances_in_reps/partially_inverted_reps/checkpoints/resnet50-base-imagenet-ft-cifar100/frac-0.00500-mode-random-seed-3-ftmode-linear-lr-0.1-bs-256-nonrob/epoch=14-layer1.1.act3-topk=1.ckpt\n",
      "Loaded cached for /NS/robustness_2/work/vnanda/invariances_in_reps/partially_inverted_reps/checkpoints/resnet50-base-imagenet-ft-cifar100/frac-0.00500-mode-random-seed-1-ftmode-linear-lr-0.1-bs-256-nonrob/epoch=14-layer1.1.act3-topk=1.ckpt\n",
      "layer_name: layer1.1.act3, 3\n",
      "Loaded cached for /NS/robustness_2/work/vnanda/invariances_in_reps/partially_inverted_reps/checkpoints/resnet50-base-imagenet-ft-cifar100/frac-0.05000-mode-random-seed-1-ftmode-linear-lr-0.1-bs-256-nonrob/epoch=32-layer1.1.act3-topk=1.ckpt\n",
      "Loaded cached for /NS/robustness_2/work/vnanda/invariances_in_reps/partially_inverted_reps/checkpoints/resnet50-base-imagenet-ft-cifar100/frac-0.05000-mode-random-seed-2-ftmode-linear-lr-0.1-bs-256-nonrob/epoch=30-layer1.1.act3-topk=1.ckpt\n",
      "layer_name: layer1.1.act3, 4\n",
      "Loaded cached for /NS/robustness_2/work/vnanda/invariances_in_reps/partially_inverted_reps/checkpoints/resnet50-base-imagenet-ft-cifar100/frac-0.10000-mode-random-seed-3-ftmode-linear-lr-0.1-bs-256-nonrob/epoch=14-layer1.1.act3-topk=1.ckpt\n",
      "Loaded cached for /NS/robustness_2/work/vnanda/invariances_in_reps/partially_inverted_reps/checkpoints/resnet50-base-imagenet-ft-cifar100/frac-0.10000-mode-random-seed-2-ftmode-linear-lr-0.1-bs-256-nonrob/epoch=33-layer1.1.act3-topk=1.ckpt\n",
      "layer_name: layer1.1.act3, 3\n",
      "Loaded cached for /NS/robustness_2/work/vnanda/invariances_in_reps/partially_inverted_reps/checkpoints/resnet50-base-imagenet-ft-cifar100/frac-0.20000-mode-random-seed-2-ftmode-linear-lr-0.1-bs-256-nonrob/epoch=41-layer1.1.act3-topk=1.ckpt\n",
      "Loaded cached for /NS/robustness_2/work/vnanda/invariances_in_reps/partially_inverted_reps/checkpoints/resnet50-base-imagenet-ft-cifar100/frac-0.20000-mode-random-seed-1-ftmode-linear-lr-0.1-bs-256-nonrob/epoch=48-layer1.1.act3-topk=1.ckpt\n",
      "layer_name: layer1.1.act3, 3\n",
      "Loaded cached for /NS/robustness_2/work/vnanda/invariances_in_reps/partially_inverted_reps/checkpoints/resnet50-base-imagenet-ft-cifar100/frac-0.40000-mode-random-seed-3-ftmode-linear-lr-0.1-bs-256-nonrob/epoch=14-layer1.1.act3-topk=1.ckpt\n",
      "Loaded cached for /NS/robustness_2/work/vnanda/invariances_in_reps/partially_inverted_reps/checkpoints/resnet50-base-imagenet-ft-cifar100/frac-0.40000-mode-random-seed-2-ftmode-linear-lr-0.1-bs-256-nonrob/epoch=30-layer1.1.act3-topk=1.ckpt\n",
      "layer_name: layer1.1.act3, 3\n",
      "Loaded cached for /NS/robustness_2/work/vnanda/invariances_in_reps/partially_inverted_reps/checkpoints/resnet50-base-imagenet-ft-cifar100/frac-0.50000-mode-random-seed-1-ftmode-linear-lr-0.1-bs-256-nonrob/epoch=40-layer1.1.act3-topk=1.ckpt\n"
     ]
    },
    {
     "name": "stdout",
     "output_type": "stream",
     "text": [
      "Loaded cached for /NS/robustness_2/work/vnanda/invariances_in_reps/partially_inverted_reps/checkpoints/resnet50-base-imagenet-ft-cifar100/frac-0.50000-mode-random-seed-2-ftmode-linear-lr-0.1-bs-256-nonrob/epoch=30-layer1.1.act3-topk=1.ckpt\n",
      "layer_name: layer1.1.act3, 3\n",
      "Loaded cached for /NS/robustness_2/work/vnanda/invariances_in_reps/partially_inverted_reps/checkpoints/resnet50-base-imagenet-ft-cifar100/frac-0.80000-mode-random-seed-2-ftmode-linear-lr-0.1-bs-256-nonrob/epoch=41-layer1.1.act3-topk=1.ckpt\n",
      "Loaded cached for /NS/robustness_2/work/vnanda/invariances_in_reps/partially_inverted_reps/checkpoints/resnet50-base-imagenet-ft-cifar100/frac-0.80000-mode-random-seed-1-ftmode-linear-lr-0.1-bs-256-nonrob/epoch=48-layer1.1.act3-topk=1.ckpt\n",
      "layer_name: layer1.1.act3, 3\n",
      "Loaded cached for /NS/robustness_2/work/vnanda/invariances_in_reps/partially_inverted_reps/checkpoints/resnet50-base-imagenet-ft-cifar100/frac-0.90000-mode-random-seed-3-ftmode-linear-lr-0.1-bs-256-nonrob/epoch=14-layer1.1.act3-topk=1.ckpt\n",
      "Loaded cached for /NS/robustness_2/work/vnanda/invariances_in_reps/partially_inverted_reps/checkpoints/resnet50-base-imagenet-ft-cifar100/frac-0.90000-mode-random-seed-1-ftmode-linear-lr-0.1-bs-256-nonrob/epoch=47-layer1.1.act3-topk=1.ckpt\n",
      "layer_name: layer1.1.act3, 1\n",
      "Loaded cached for /NS/robustness_2/work/vnanda/invariances_in_reps/partially_inverted_reps/checkpoints/resnet50-base-imagenet-ft-cifar100/frac-1.00000-mode-random-seed-2-ftmode-linear-lr-0.1-bs-256-nonrob/epoch=38-layer1.1.act3-topk=1.ckpt\n",
      "layer_name: layer1.2.act3, 2\n",
      "Loaded cached for /NS/robustness_2/work/vnanda/invariances_in_reps/partially_inverted_reps/checkpoints/resnet50-base-imagenet-ft-cifar100/frac-0.00050-mode-random-seed-1-ftmode-linear-lr-0.1-bs-256-nonrob/epoch=48-layer1.2.act3-topk=1.ckpt\n",
      "Loaded cached for /NS/robustness_2/work/vnanda/invariances_in_reps/partially_inverted_reps/checkpoints/resnet50-base-imagenet-ft-cifar100/frac-0.00050-mode-random-seed-2-ftmode-linear-lr-0.1-bs-256-nonrob/epoch=48-layer1.2.act3-topk=1.ckpt\n",
      "layer_name: layer1.2.act3, 2\n",
      "Loaded cached for /NS/robustness_2/work/vnanda/invariances_in_reps/partially_inverted_reps/checkpoints/resnet50-base-imagenet-ft-cifar100/frac-0.00500-mode-random-seed-1-ftmode-linear-lr-0.1-bs-256-nonrob/epoch=28-layer1.2.act3-topk=1.ckpt\n",
      "Loaded cached for /NS/robustness_2/work/vnanda/invariances_in_reps/partially_inverted_reps/checkpoints/resnet50-base-imagenet-ft-cifar100/frac-0.00500-mode-random-seed-2-ftmode-linear-lr-0.1-bs-256-nonrob/epoch=30-layer1.2.act3-topk=1.ckpt\n",
      "layer_name: layer1.2.act3, 2\n",
      "Loaded cached for /NS/robustness_2/work/vnanda/invariances_in_reps/partially_inverted_reps/checkpoints/resnet50-base-imagenet-ft-cifar100/frac-0.05000-mode-random-seed-1-ftmode-linear-lr-0.1-bs-256-nonrob/epoch=45-layer1.2.act3-topk=1.ckpt\n",
      "Loaded cached for /NS/robustness_2/work/vnanda/invariances_in_reps/partially_inverted_reps/checkpoints/resnet50-base-imagenet-ft-cifar100/frac-0.05000-mode-random-seed-2-ftmode-linear-lr-0.1-bs-256-nonrob/epoch=44-layer1.2.act3-topk=1.ckpt\n",
      "layer_name: layer1.2.act3, 2\n",
      "Loaded cached for /NS/robustness_2/work/vnanda/invariances_in_reps/partially_inverted_reps/checkpoints/resnet50-base-imagenet-ft-cifar100/frac-0.10000-mode-random-seed-2-ftmode-linear-lr-0.1-bs-256-nonrob/epoch=41-layer1.2.act3-topk=1.ckpt\n",
      "Loaded cached for /NS/robustness_2/work/vnanda/invariances_in_reps/partially_inverted_reps/checkpoints/resnet50-base-imagenet-ft-cifar100/frac-0.10000-mode-random-seed-1-ftmode-linear-lr-0.1-bs-256-nonrob/epoch=40-layer1.2.act3-topk=1.ckpt\n",
      "layer_name: layer1.2.act3, 2\n",
      "Loaded cached for /NS/robustness_2/work/vnanda/invariances_in_reps/partially_inverted_reps/checkpoints/resnet50-base-imagenet-ft-cifar100/frac-0.20000-mode-random-seed-2-ftmode-linear-lr-0.1-bs-256-nonrob/epoch=42-layer1.2.act3-topk=1.ckpt\n",
      "Loaded cached for /NS/robustness_2/work/vnanda/invariances_in_reps/partially_inverted_reps/checkpoints/resnet50-base-imagenet-ft-cifar100/frac-0.20000-mode-random-seed-1-ftmode-linear-lr-0.1-bs-256-nonrob/epoch=40-layer1.2.act3-topk=1.ckpt\n",
      "layer_name: layer1.2.act3, 2\n",
      "Loaded cached for /NS/robustness_2/work/vnanda/invariances_in_reps/partially_inverted_reps/checkpoints/resnet50-base-imagenet-ft-cifar100/frac-0.40000-mode-random-seed-2-ftmode-linear-lr-0.1-bs-256-nonrob/epoch=45-layer1.2.act3-topk=1.ckpt\n",
      "Loaded cached for /NS/robustness_2/work/vnanda/invariances_in_reps/partially_inverted_reps/checkpoints/resnet50-base-imagenet-ft-cifar100/frac-0.40000-mode-random-seed-1-ftmode-linear-lr-0.1-bs-256-nonrob/epoch=48-layer1.2.act3-topk=1.ckpt\n",
      "layer_name: layer1.2.act3, 3\n",
      "Loaded cached for /NS/robustness_2/work/vnanda/invariances_in_reps/partially_inverted_reps/checkpoints/resnet50-base-imagenet-ft-cifar100/frac-0.50000-mode-random-seed-1-ftmode-linear-lr-0.1-bs-256-nonrob/epoch=45-layer1.2.act3-topk=1.ckpt\n",
      "Loaded cached for /NS/robustness_2/work/vnanda/invariances_in_reps/partially_inverted_reps/checkpoints/resnet50-base-imagenet-ft-cifar100/frac-0.50000-mode-random-seed-2-ftmode-linear-lr-0.1-bs-256-nonrob/epoch=41-layer1.2.act3-topk=1.ckpt\n",
      "layer_name: layer1.2.act3, 3\n",
      "Loaded cached for /NS/robustness_2/work/vnanda/invariances_in_reps/partially_inverted_reps/checkpoints/resnet50-base-imagenet-ft-cifar100/frac-0.80000-mode-random-seed-2-ftmode-linear-lr-0.1-bs-256-nonrob/epoch=41-layer1.2.act3-topk=1.ckpt\n",
      "Loaded cached for /NS/robustness_2/work/vnanda/invariances_in_reps/partially_inverted_reps/checkpoints/resnet50-base-imagenet-ft-cifar100/frac-0.80000-mode-random-seed-1-ftmode-linear-lr-0.1-bs-256-nonrob/epoch=48-layer1.2.act3-topk=1.ckpt\n",
      "layer_name: layer1.2.act3, 2\n",
      "Loaded cached for /NS/robustness_2/work/vnanda/invariances_in_reps/partially_inverted_reps/checkpoints/resnet50-base-imagenet-ft-cifar100/frac-0.90000-mode-random-seed-1-ftmode-linear-lr-0.1-bs-256-nonrob/epoch=34-layer1.2.act3-topk=1.ckpt\n",
      "Loaded cached for /NS/robustness_2/work/vnanda/invariances_in_reps/partially_inverted_reps/checkpoints/resnet50-base-imagenet-ft-cifar100/frac-0.90000-mode-random-seed-2-ftmode-linear-lr-0.1-bs-256-nonrob/epoch=42-layer1.2.act3-topk=1.ckpt\n",
      "layer_name: layer1.2.act3, 1\n",
      "Loaded cached for /NS/robustness_2/work/vnanda/invariances_in_reps/partially_inverted_reps/checkpoints/resnet50-base-imagenet-ft-cifar100/frac-1.00000-mode-random-seed-2-ftmode-linear-lr-0.1-bs-256-nonrob/epoch=45-layer1.2.act3-topk=1.ckpt\n",
      "layer_name: layer2.0.act3, 2\n",
      "Loaded cached for /NS/robustness_2/work/vnanda/invariances_in_reps/partially_inverted_reps/checkpoints/resnet50-base-imagenet-ft-cifar100/frac-0.00050-mode-random-seed-1-ftmode-linear-lr-0.1-bs-256-nonrob/epoch=40-layer2.0.act3-topk=1.ckpt\n",
      "Loaded cached for /NS/robustness_2/work/vnanda/invariances_in_reps/partially_inverted_reps/checkpoints/resnet50-base-imagenet-ft-cifar100/frac-0.00050-mode-random-seed-2-ftmode-linear-lr-0.1-bs-256-nonrob/epoch=33-layer2.0.act3-topk=1.ckpt\n",
      "layer_name: layer2.0.act3, 2\n",
      "Loaded cached for /NS/robustness_2/work/vnanda/invariances_in_reps/partially_inverted_reps/checkpoints/resnet50-base-imagenet-ft-cifar100/frac-0.00500-mode-random-seed-1-ftmode-linear-lr-0.1-bs-256-nonrob/epoch=40-layer2.0.act3-topk=1.ckpt\n",
      "Loaded cached for /NS/robustness_2/work/vnanda/invariances_in_reps/partially_inverted_reps/checkpoints/resnet50-base-imagenet-ft-cifar100/frac-0.00500-mode-random-seed-2-ftmode-linear-lr-0.1-bs-256-nonrob/epoch=45-layer2.0.act3-topk=1.ckpt\n",
      "layer_name: layer2.0.act3, 2\n",
      "Loaded cached for /NS/robustness_2/work/vnanda/invariances_in_reps/partially_inverted_reps/checkpoints/resnet50-base-imagenet-ft-cifar100/frac-0.05000-mode-random-seed-1-ftmode-linear-lr-0.1-bs-256-nonrob/epoch=42-layer2.0.act3-topk=1.ckpt\n",
      "Loaded cached for /NS/robustness_2/work/vnanda/invariances_in_reps/partially_inverted_reps/checkpoints/resnet50-base-imagenet-ft-cifar100/frac-0.05000-mode-random-seed-2-ftmode-linear-lr-0.1-bs-256-nonrob/epoch=44-layer2.0.act3-topk=1.ckpt\n",
      "layer_name: layer2.0.act3, 2\n",
      "Loaded cached for /NS/robustness_2/work/vnanda/invariances_in_reps/partially_inverted_reps/checkpoints/resnet50-base-imagenet-ft-cifar100/frac-0.10000-mode-random-seed-2-ftmode-linear-lr-0.1-bs-256-nonrob/epoch=45-layer2.0.act3-topk=1.ckpt\n",
      "Loaded cached for /NS/robustness_2/work/vnanda/invariances_in_reps/partially_inverted_reps/checkpoints/resnet50-base-imagenet-ft-cifar100/frac-0.10000-mode-random-seed-1-ftmode-linear-lr-0.1-bs-256-nonrob/epoch=43-layer2.0.act3-topk=1.ckpt\n",
      "layer_name: layer2.0.act3, 2\n",
      "Loaded cached for /NS/robustness_2/work/vnanda/invariances_in_reps/partially_inverted_reps/checkpoints/resnet50-base-imagenet-ft-cifar100/frac-0.20000-mode-random-seed-2-ftmode-linear-lr-0.1-bs-256-nonrob/epoch=44-layer2.0.act3-topk=1.ckpt\n"
     ]
    },
    {
     "name": "stdout",
     "output_type": "stream",
     "text": [
      "Loaded cached for /NS/robustness_2/work/vnanda/invariances_in_reps/partially_inverted_reps/checkpoints/resnet50-base-imagenet-ft-cifar100/frac-0.20000-mode-random-seed-1-ftmode-linear-lr-0.1-bs-256-nonrob/epoch=44-layer2.0.act3-topk=1.ckpt\n",
      "layer_name: layer2.0.act3, 2\n",
      "Loaded cached for /NS/robustness_2/work/vnanda/invariances_in_reps/partially_inverted_reps/checkpoints/resnet50-base-imagenet-ft-cifar100/frac-0.40000-mode-random-seed-2-ftmode-linear-lr-0.1-bs-256-nonrob/epoch=33-layer2.0.act3-topk=1.ckpt\n",
      "Loaded cached for /NS/robustness_2/work/vnanda/invariances_in_reps/partially_inverted_reps/checkpoints/resnet50-base-imagenet-ft-cifar100/frac-0.40000-mode-random-seed-1-ftmode-linear-lr-0.1-bs-256-nonrob/epoch=44-layer2.0.act3-topk=1.ckpt\n",
      "layer_name: layer2.0.act3, 3\n",
      "Loaded cached for /NS/robustness_2/work/vnanda/invariances_in_reps/partially_inverted_reps/checkpoints/resnet50-base-imagenet-ft-cifar100/frac-0.50000-mode-random-seed-1-ftmode-linear-lr-0.1-bs-256-nonrob/epoch=42-layer2.0.act3-topk=1.ckpt\n",
      "Loaded cached for /NS/robustness_2/work/vnanda/invariances_in_reps/partially_inverted_reps/checkpoints/resnet50-base-imagenet-ft-cifar100/frac-0.50000-mode-random-seed-2-ftmode-linear-lr-0.1-bs-256-nonrob/epoch=44-layer2.0.act3-topk=1.ckpt\n",
      "layer_name: layer2.0.act3, 2\n",
      "Loaded cached for /NS/robustness_2/work/vnanda/invariances_in_reps/partially_inverted_reps/checkpoints/resnet50-base-imagenet-ft-cifar100/frac-0.80000-mode-random-seed-2-ftmode-linear-lr-0.1-bs-256-nonrob/epoch=41-layer2.0.act3-topk=1.ckpt\n",
      "Loaded cached for /NS/robustness_2/work/vnanda/invariances_in_reps/partially_inverted_reps/checkpoints/resnet50-base-imagenet-ft-cifar100/frac-0.80000-mode-random-seed-1-ftmode-linear-lr-0.1-bs-256-nonrob/epoch=44-layer2.0.act3-topk=1.ckpt\n",
      "layer_name: layer2.0.act3, 2\n",
      "Loaded cached for /NS/robustness_2/work/vnanda/invariances_in_reps/partially_inverted_reps/checkpoints/resnet50-base-imagenet-ft-cifar100/frac-0.90000-mode-random-seed-1-ftmode-linear-lr-0.1-bs-256-nonrob/epoch=48-layer2.0.act3-topk=1.ckpt\n",
      "Loaded cached for /NS/robustness_2/work/vnanda/invariances_in_reps/partially_inverted_reps/checkpoints/resnet50-base-imagenet-ft-cifar100/frac-0.90000-mode-random-seed-2-ftmode-linear-lr-0.1-bs-256-nonrob/epoch=48-layer2.0.act3-topk=1.ckpt\n",
      "layer_name: layer2.0.act3, 1\n",
      "Loaded cached for /NS/robustness_2/work/vnanda/invariances_in_reps/partially_inverted_reps/checkpoints/resnet50-base-imagenet-ft-cifar100/frac-1.00000-mode-random-seed-2-ftmode-linear-lr-0.1-bs-256-nonrob/epoch=44-layer2.0.act3-topk=1.ckpt\n",
      "layer_name: layer2.1.act3, 2\n",
      "Loaded cached for /NS/robustness_2/work/vnanda/invariances_in_reps/partially_inverted_reps/checkpoints/resnet50-base-imagenet-ft-cifar100/frac-0.00050-mode-random-seed-1-ftmode-linear-lr-0.1-bs-256-nonrob/epoch=30-layer2.1.act3-topk=1.ckpt\n",
      "Loaded cached for /NS/robustness_2/work/vnanda/invariances_in_reps/partially_inverted_reps/checkpoints/resnet50-base-imagenet-ft-cifar100/frac-0.00050-mode-random-seed-2-ftmode-linear-lr-0.1-bs-256-nonrob/epoch=43-layer2.1.act3-topk=1.ckpt\n",
      "layer_name: layer2.1.act3, 2\n",
      "Loaded cached for /NS/robustness_2/work/vnanda/invariances_in_reps/partially_inverted_reps/checkpoints/resnet50-base-imagenet-ft-cifar100/frac-0.00500-mode-random-seed-1-ftmode-linear-lr-0.1-bs-256-nonrob/epoch=47-layer2.1.act3-topk=1.ckpt\n",
      "Loaded cached for /NS/robustness_2/work/vnanda/invariances_in_reps/partially_inverted_reps/checkpoints/resnet50-base-imagenet-ft-cifar100/frac-0.00500-mode-random-seed-2-ftmode-linear-lr-0.1-bs-256-nonrob/epoch=45-layer2.1.act3-topk=1.ckpt\n",
      "layer_name: layer2.1.act3, 2\n",
      "Loaded cached for /NS/robustness_2/work/vnanda/invariances_in_reps/partially_inverted_reps/checkpoints/resnet50-base-imagenet-ft-cifar100/frac-0.05000-mode-random-seed-1-ftmode-linear-lr-0.1-bs-256-nonrob/epoch=32-layer2.1.act3-topk=1.ckpt\n",
      "Loaded cached for /NS/robustness_2/work/vnanda/invariances_in_reps/partially_inverted_reps/checkpoints/resnet50-base-imagenet-ft-cifar100/frac-0.05000-mode-random-seed-2-ftmode-linear-lr-0.1-bs-256-nonrob/epoch=23-layer2.1.act3-topk=1.ckpt\n",
      "layer_name: layer2.1.act3, 2\n",
      "Loaded cached for /NS/robustness_2/work/vnanda/invariances_in_reps/partially_inverted_reps/checkpoints/resnet50-base-imagenet-ft-cifar100/frac-0.10000-mode-random-seed-2-ftmode-linear-lr-0.1-bs-256-nonrob/epoch=48-layer2.1.act3-topk=1.ckpt\n",
      "Loaded cached for /NS/robustness_2/work/vnanda/invariances_in_reps/partially_inverted_reps/checkpoints/resnet50-base-imagenet-ft-cifar100/frac-0.10000-mode-random-seed-1-ftmode-linear-lr-0.1-bs-256-nonrob/epoch=42-layer2.1.act3-topk=1.ckpt\n",
      "layer_name: layer2.1.act3, 2\n",
      "Loaded cached for /NS/robustness_2/work/vnanda/invariances_in_reps/partially_inverted_reps/checkpoints/resnet50-base-imagenet-ft-cifar100/frac-0.20000-mode-random-seed-2-ftmode-linear-lr-0.1-bs-256-nonrob/epoch=44-layer2.1.act3-topk=1.ckpt\n",
      "Loaded cached for /NS/robustness_2/work/vnanda/invariances_in_reps/partially_inverted_reps/checkpoints/resnet50-base-imagenet-ft-cifar100/frac-0.20000-mode-random-seed-1-ftmode-linear-lr-0.1-bs-256-nonrob/epoch=42-layer2.1.act3-topk=1.ckpt\n",
      "layer_name: layer2.1.act3, 2\n",
      "Loaded cached for /NS/robustness_2/work/vnanda/invariances_in_reps/partially_inverted_reps/checkpoints/resnet50-base-imagenet-ft-cifar100/frac-0.40000-mode-random-seed-2-ftmode-linear-lr-0.1-bs-256-nonrob/epoch=44-layer2.1.act3-topk=1.ckpt\n",
      "Loaded cached for /NS/robustness_2/work/vnanda/invariances_in_reps/partially_inverted_reps/checkpoints/resnet50-base-imagenet-ft-cifar100/frac-0.40000-mode-random-seed-1-ftmode-linear-lr-0.1-bs-256-nonrob/epoch=47-layer2.1.act3-topk=1.ckpt\n",
      "layer_name: layer2.1.act3, 2\n",
      "Loaded cached for /NS/robustness_2/work/vnanda/invariances_in_reps/partially_inverted_reps/checkpoints/resnet50-base-imagenet-ft-cifar100/frac-0.50000-mode-random-seed-1-ftmode-linear-lr-0.1-bs-256-nonrob/epoch=44-layer2.1.act3-topk=1.ckpt\n",
      "Loaded cached for /NS/robustness_2/work/vnanda/invariances_in_reps/partially_inverted_reps/checkpoints/resnet50-base-imagenet-ft-cifar100/frac-0.50000-mode-random-seed-2-ftmode-linear-lr-0.1-bs-256-nonrob/epoch=44-layer2.1.act3-topk=1.ckpt\n",
      "layer_name: layer2.1.act3, 2\n",
      "Loaded cached for /NS/robustness_2/work/vnanda/invariances_in_reps/partially_inverted_reps/checkpoints/resnet50-base-imagenet-ft-cifar100/frac-0.80000-mode-random-seed-2-ftmode-linear-lr-0.1-bs-256-nonrob/epoch=34-layer2.1.act3-topk=1.ckpt\n",
      "Loaded cached for /NS/robustness_2/work/vnanda/invariances_in_reps/partially_inverted_reps/checkpoints/resnet50-base-imagenet-ft-cifar100/frac-0.80000-mode-random-seed-1-ftmode-linear-lr-0.1-bs-256-nonrob/epoch=42-layer2.1.act3-topk=1.ckpt\n",
      "layer_name: layer2.1.act3, 2\n",
      "Loaded cached for /NS/robustness_2/work/vnanda/invariances_in_reps/partially_inverted_reps/checkpoints/resnet50-base-imagenet-ft-cifar100/frac-0.90000-mode-random-seed-1-ftmode-linear-lr-0.1-bs-256-nonrob/epoch=42-layer2.1.act3-topk=1.ckpt\n",
      "Loaded cached for /NS/robustness_2/work/vnanda/invariances_in_reps/partially_inverted_reps/checkpoints/resnet50-base-imagenet-ft-cifar100/frac-0.90000-mode-random-seed-2-ftmode-linear-lr-0.1-bs-256-nonrob/epoch=33-layer2.1.act3-topk=1.ckpt\n",
      "layer_name: layer2.1.act3, 1\n",
      "Loaded cached for /NS/robustness_2/work/vnanda/invariances_in_reps/partially_inverted_reps/checkpoints/resnet50-base-imagenet-ft-cifar100/frac-1.00000-mode-random-seed-2-ftmode-linear-lr-0.1-bs-256-nonrob/epoch=23-layer2.1.act3-topk=1.ckpt\n",
      "layer_name: layer2.2.act3, 2\n",
      "Loaded cached for /NS/robustness_2/work/vnanda/invariances_in_reps/partially_inverted_reps/checkpoints/resnet50-base-imagenet-ft-cifar100/frac-0.00050-mode-random-seed-1-ftmode-linear-lr-0.1-bs-256-nonrob/epoch=49-layer2.2.act3-topk=1.ckpt\n",
      "Loaded cached for /NS/robustness_2/work/vnanda/invariances_in_reps/partially_inverted_reps/checkpoints/resnet50-base-imagenet-ft-cifar100/frac-0.00050-mode-random-seed-2-ftmode-linear-lr-0.1-bs-256-nonrob/epoch=39-layer2.2.act3-topk=1.ckpt\n",
      "layer_name: layer2.2.act3, 2\n",
      "Loaded cached for /NS/robustness_2/work/vnanda/invariances_in_reps/partially_inverted_reps/checkpoints/resnet50-base-imagenet-ft-cifar100/frac-0.00500-mode-random-seed-1-ftmode-linear-lr-0.1-bs-256-nonrob/epoch=24-layer2.2.act3-topk=1.ckpt\n",
      "Loaded cached for /NS/robustness_2/work/vnanda/invariances_in_reps/partially_inverted_reps/checkpoints/resnet50-base-imagenet-ft-cifar100/frac-0.00500-mode-random-seed-2-ftmode-linear-lr-0.1-bs-256-nonrob/epoch=44-layer2.2.act3-topk=1.ckpt\n",
      "layer_name: layer2.2.act3, 2\n"
     ]
    },
    {
     "name": "stdout",
     "output_type": "stream",
     "text": [
      "Loaded cached for /NS/robustness_2/work/vnanda/invariances_in_reps/partially_inverted_reps/checkpoints/resnet50-base-imagenet-ft-cifar100/frac-0.05000-mode-random-seed-1-ftmode-linear-lr-0.1-bs-256-nonrob/epoch=32-layer2.2.act3-topk=1.ckpt\n",
      "Loaded cached for /NS/robustness_2/work/vnanda/invariances_in_reps/partially_inverted_reps/checkpoints/resnet50-base-imagenet-ft-cifar100/frac-0.05000-mode-random-seed-2-ftmode-linear-lr-0.1-bs-256-nonrob/epoch=23-layer2.2.act3-topk=1.ckpt\n",
      "layer_name: layer2.2.act3, 2\n",
      "Loaded cached for /NS/robustness_2/work/vnanda/invariances_in_reps/partially_inverted_reps/checkpoints/resnet50-base-imagenet-ft-cifar100/frac-0.10000-mode-random-seed-2-ftmode-linear-lr-0.1-bs-256-nonrob/epoch=44-layer2.2.act3-topk=1.ckpt\n",
      "Loaded cached for /NS/robustness_2/work/vnanda/invariances_in_reps/partially_inverted_reps/checkpoints/resnet50-base-imagenet-ft-cifar100/frac-0.10000-mode-random-seed-1-ftmode-linear-lr-0.1-bs-256-nonrob/epoch=42-layer2.2.act3-topk=1.ckpt\n",
      "layer_name: layer2.2.act3, 2\n",
      "Loaded cached for /NS/robustness_2/work/vnanda/invariances_in_reps/partially_inverted_reps/checkpoints/resnet50-base-imagenet-ft-cifar100/frac-0.20000-mode-random-seed-2-ftmode-linear-lr-0.1-bs-256-nonrob/epoch=44-layer2.2.act3-topk=1.ckpt\n",
      "Loaded cached for /NS/robustness_2/work/vnanda/invariances_in_reps/partially_inverted_reps/checkpoints/resnet50-base-imagenet-ft-cifar100/frac-0.20000-mode-random-seed-1-ftmode-linear-lr-0.1-bs-256-nonrob/epoch=40-layer2.2.act3-topk=1.ckpt\n",
      "layer_name: layer2.2.act3, 2\n",
      "Loaded cached for /NS/robustness_2/work/vnanda/invariances_in_reps/partially_inverted_reps/checkpoints/resnet50-base-imagenet-ft-cifar100/frac-0.40000-mode-random-seed-2-ftmode-linear-lr-0.1-bs-256-nonrob/epoch=23-layer2.2.act3-topk=1.ckpt\n",
      "Loaded cached for /NS/robustness_2/work/vnanda/invariances_in_reps/partially_inverted_reps/checkpoints/resnet50-base-imagenet-ft-cifar100/frac-0.40000-mode-random-seed-1-ftmode-linear-lr-0.1-bs-256-nonrob/epoch=44-layer2.2.act3-topk=1.ckpt\n",
      "layer_name: layer2.2.act3, 2\n",
      "Loaded cached for /NS/robustness_2/work/vnanda/invariances_in_reps/partially_inverted_reps/checkpoints/resnet50-base-imagenet-ft-cifar100/frac-0.50000-mode-random-seed-1-ftmode-linear-lr-0.1-bs-256-nonrob/epoch=44-layer2.2.act3-topk=1.ckpt\n",
      "Loaded cached for /NS/robustness_2/work/vnanda/invariances_in_reps/partially_inverted_reps/checkpoints/resnet50-base-imagenet-ft-cifar100/frac-0.50000-mode-random-seed-2-ftmode-linear-lr-0.1-bs-256-nonrob/epoch=33-layer2.2.act3-topk=1.ckpt\n",
      "layer_name: layer2.2.act3, 2\n",
      "Loaded cached for /NS/robustness_2/work/vnanda/invariances_in_reps/partially_inverted_reps/checkpoints/resnet50-base-imagenet-ft-cifar100/frac-0.80000-mode-random-seed-2-ftmode-linear-lr-0.1-bs-256-nonrob/epoch=44-layer2.2.act3-topk=1.ckpt\n",
      "Loaded cached for /NS/robustness_2/work/vnanda/invariances_in_reps/partially_inverted_reps/checkpoints/resnet50-base-imagenet-ft-cifar100/frac-0.80000-mode-random-seed-1-ftmode-linear-lr-0.1-bs-256-nonrob/epoch=40-layer2.2.act3-topk=1.ckpt\n",
      "layer_name: layer2.2.act3, 2\n",
      "Loaded cached for /NS/robustness_2/work/vnanda/invariances_in_reps/partially_inverted_reps/checkpoints/resnet50-base-imagenet-ft-cifar100/frac-0.90000-mode-random-seed-1-ftmode-linear-lr-0.1-bs-256-nonrob/epoch=44-layer2.2.act3-topk=1.ckpt\n",
      "Loaded cached for /NS/robustness_2/work/vnanda/invariances_in_reps/partially_inverted_reps/checkpoints/resnet50-base-imagenet-ft-cifar100/frac-0.90000-mode-random-seed-2-ftmode-linear-lr-0.1-bs-256-nonrob/epoch=31-layer2.2.act3-topk=1.ckpt\n",
      "layer_name: layer2.2.act3, 1\n",
      "Loaded cached for /NS/robustness_2/work/vnanda/invariances_in_reps/partially_inverted_reps/checkpoints/resnet50-base-imagenet-ft-cifar100/frac-1.00000-mode-random-seed-2-ftmode-linear-lr-0.1-bs-256-nonrob/epoch=48-layer2.2.act3-topk=1.ckpt\n",
      "layer_name: layer2.3.act3, 2\n",
      "Loaded cached for /NS/robustness_2/work/vnanda/invariances_in_reps/partially_inverted_reps/checkpoints/resnet50-base-imagenet-ft-cifar100/frac-0.00050-mode-random-seed-1-ftmode-linear-lr-0.1-bs-256-nonrob/epoch=40-layer2.3.act3-topk=1.ckpt\n",
      "Loaded cached for /NS/robustness_2/work/vnanda/invariances_in_reps/partially_inverted_reps/checkpoints/resnet50-base-imagenet-ft-cifar100/frac-0.00050-mode-random-seed-2-ftmode-linear-lr-0.1-bs-256-nonrob/epoch=38-layer2.3.act3-topk=1.ckpt\n",
      "layer_name: layer2.3.act3, 2\n",
      "Loaded cached for /NS/robustness_2/work/vnanda/invariances_in_reps/partially_inverted_reps/checkpoints/resnet50-base-imagenet-ft-cifar100/frac-0.00500-mode-random-seed-1-ftmode-linear-lr-0.1-bs-256-nonrob/epoch=24-layer2.3.act3-topk=1.ckpt\n",
      "Loaded cached for /NS/robustness_2/work/vnanda/invariances_in_reps/partially_inverted_reps/checkpoints/resnet50-base-imagenet-ft-cifar100/frac-0.00500-mode-random-seed-2-ftmode-linear-lr-0.1-bs-256-nonrob/epoch=44-layer2.3.act3-topk=1.ckpt\n",
      "layer_name: layer2.3.act3, 2\n",
      "Loaded cached for /NS/robustness_2/work/vnanda/invariances_in_reps/partially_inverted_reps/checkpoints/resnet50-base-imagenet-ft-cifar100/frac-0.05000-mode-random-seed-1-ftmode-linear-lr-0.1-bs-256-nonrob/epoch=42-layer2.3.act3-topk=1.ckpt\n",
      "Loaded cached for /NS/robustness_2/work/vnanda/invariances_in_reps/partially_inverted_reps/checkpoints/resnet50-base-imagenet-ft-cifar100/frac-0.05000-mode-random-seed-2-ftmode-linear-lr-0.1-bs-256-nonrob/epoch=41-layer2.3.act3-topk=1.ckpt\n",
      "layer_name: layer2.3.act3, 2\n",
      "Loaded cached for /NS/robustness_2/work/vnanda/invariances_in_reps/partially_inverted_reps/checkpoints/resnet50-base-imagenet-ft-cifar100/frac-0.10000-mode-random-seed-2-ftmode-linear-lr-0.1-bs-256-nonrob/epoch=48-layer2.3.act3-topk=1.ckpt\n",
      "Loaded cached for /NS/robustness_2/work/vnanda/invariances_in_reps/partially_inverted_reps/checkpoints/resnet50-base-imagenet-ft-cifar100/frac-0.10000-mode-random-seed-1-ftmode-linear-lr-0.1-bs-256-nonrob/epoch=48-layer2.3.act3-topk=1.ckpt\n",
      "layer_name: layer2.3.act3, 2\n",
      "Loaded cached for /NS/robustness_2/work/vnanda/invariances_in_reps/partially_inverted_reps/checkpoints/resnet50-base-imagenet-ft-cifar100/frac-0.20000-mode-random-seed-2-ftmode-linear-lr-0.1-bs-256-nonrob/epoch=23-layer2.3.act3-topk=1.ckpt\n",
      "Loaded cached for /NS/robustness_2/work/vnanda/invariances_in_reps/partially_inverted_reps/checkpoints/resnet50-base-imagenet-ft-cifar100/frac-0.20000-mode-random-seed-1-ftmode-linear-lr-0.1-bs-256-nonrob/epoch=37-layer2.3.act3-topk=1.ckpt\n",
      "layer_name: layer2.3.act3, 2\n",
      "Loaded cached for /NS/robustness_2/work/vnanda/invariances_in_reps/partially_inverted_reps/checkpoints/resnet50-base-imagenet-ft-cifar100/frac-0.40000-mode-random-seed-2-ftmode-linear-lr-0.1-bs-256-nonrob/epoch=23-layer2.3.act3-topk=1.ckpt\n",
      "Loaded cached for /NS/robustness_2/work/vnanda/invariances_in_reps/partially_inverted_reps/checkpoints/resnet50-base-imagenet-ft-cifar100/frac-0.40000-mode-random-seed-1-ftmode-linear-lr-0.1-bs-256-nonrob/epoch=32-layer2.3.act3-topk=1.ckpt\n",
      "layer_name: layer2.3.act3, 2\n",
      "Loaded cached for /NS/robustness_2/work/vnanda/invariances_in_reps/partially_inverted_reps/checkpoints/resnet50-base-imagenet-ft-cifar100/frac-0.50000-mode-random-seed-1-ftmode-linear-lr-0.1-bs-256-nonrob/epoch=42-layer2.3.act3-topk=1.ckpt\n",
      "Loaded cached for /NS/robustness_2/work/vnanda/invariances_in_reps/partially_inverted_reps/checkpoints/resnet50-base-imagenet-ft-cifar100/frac-0.50000-mode-random-seed-2-ftmode-linear-lr-0.1-bs-256-nonrob/epoch=42-layer2.3.act3-topk=1.ckpt\n",
      "layer_name: layer2.3.act3, 2\n",
      "Loaded cached for /NS/robustness_2/work/vnanda/invariances_in_reps/partially_inverted_reps/checkpoints/resnet50-base-imagenet-ft-cifar100/frac-0.80000-mode-random-seed-2-ftmode-linear-lr-0.1-bs-256-nonrob/epoch=42-layer2.3.act3-topk=1.ckpt\n",
      "Loaded cached for /NS/robustness_2/work/vnanda/invariances_in_reps/partially_inverted_reps/checkpoints/resnet50-base-imagenet-ft-cifar100/frac-0.80000-mode-random-seed-1-ftmode-linear-lr-0.1-bs-256-nonrob/epoch=44-layer2.3.act3-topk=1.ckpt\n",
      "layer_name: layer2.3.act3, 2\n",
      "Loaded cached for /NS/robustness_2/work/vnanda/invariances_in_reps/partially_inverted_reps/checkpoints/resnet50-base-imagenet-ft-cifar100/frac-0.90000-mode-random-seed-1-ftmode-linear-lr-0.1-bs-256-nonrob/epoch=42-layer2.3.act3-topk=1.ckpt\n",
      "Loaded cached for /NS/robustness_2/work/vnanda/invariances_in_reps/partially_inverted_reps/checkpoints/resnet50-base-imagenet-ft-cifar100/frac-0.90000-mode-random-seed-2-ftmode-linear-lr-0.1-bs-256-nonrob/epoch=36-layer2.3.act3-topk=1.ckpt\n",
      "layer_name: layer2.3.act3, 1\n"
     ]
    },
    {
     "name": "stdout",
     "output_type": "stream",
     "text": [
      "Loaded cached for /NS/robustness_2/work/vnanda/invariances_in_reps/partially_inverted_reps/checkpoints/resnet50-base-imagenet-ft-cifar100/frac-1.00000-mode-random-seed-2-ftmode-linear-lr-0.1-bs-256-nonrob/epoch=23-layer2.3.act3-topk=1.ckpt\n",
      "layer_name: layer3.0.act3, 2\n",
      "Loaded cached for /NS/robustness_2/work/vnanda/invariances_in_reps/partially_inverted_reps/checkpoints/resnet50-base-imagenet-ft-cifar100/frac-0.00050-mode-random-seed-1-ftmode-linear-lr-0.1-bs-256-nonrob/epoch=24-layer3.0.act3-topk=1.ckpt\n",
      "Loaded cached for /NS/robustness_2/work/vnanda/invariances_in_reps/partially_inverted_reps/checkpoints/resnet50-base-imagenet-ft-cifar100/frac-0.00050-mode-random-seed-2-ftmode-linear-lr-0.1-bs-256-nonrob/epoch=32-layer3.0.act3-topk=1.ckpt\n",
      "layer_name: layer3.0.act3, 2\n",
      "Loaded cached for /NS/robustness_2/work/vnanda/invariances_in_reps/partially_inverted_reps/checkpoints/resnet50-base-imagenet-ft-cifar100/frac-0.00500-mode-random-seed-1-ftmode-linear-lr-0.1-bs-256-nonrob/epoch=24-layer3.0.act3-topk=1.ckpt\n",
      "Loaded cached for /NS/robustness_2/work/vnanda/invariances_in_reps/partially_inverted_reps/checkpoints/resnet50-base-imagenet-ft-cifar100/frac-0.00500-mode-random-seed-2-ftmode-linear-lr-0.1-bs-256-nonrob/epoch=33-layer3.0.act3-topk=1.ckpt\n",
      "layer_name: layer3.0.act3, 2\n",
      "Loaded cached for /NS/robustness_2/work/vnanda/invariances_in_reps/partially_inverted_reps/checkpoints/resnet50-base-imagenet-ft-cifar100/frac-0.05000-mode-random-seed-1-ftmode-linear-lr-0.1-bs-256-nonrob/epoch=44-layer3.0.act3-topk=1.ckpt\n",
      "Loaded cached for /NS/robustness_2/work/vnanda/invariances_in_reps/partially_inverted_reps/checkpoints/resnet50-base-imagenet-ft-cifar100/frac-0.05000-mode-random-seed-2-ftmode-linear-lr-0.1-bs-256-nonrob/epoch=41-layer3.0.act3-topk=1.ckpt\n",
      "layer_name: layer3.0.act3, 2\n",
      "Loaded cached for /NS/robustness_2/work/vnanda/invariances_in_reps/partially_inverted_reps/checkpoints/resnet50-base-imagenet-ft-cifar100/frac-0.10000-mode-random-seed-2-ftmode-linear-lr-0.1-bs-256-nonrob/epoch=44-layer3.0.act3-topk=1.ckpt\n",
      "Loaded cached for /NS/robustness_2/work/vnanda/invariances_in_reps/partially_inverted_reps/checkpoints/resnet50-base-imagenet-ft-cifar100/frac-0.10000-mode-random-seed-1-ftmode-linear-lr-0.1-bs-256-nonrob/epoch=41-layer3.0.act3-topk=1.ckpt\n",
      "layer_name: layer3.0.act3, 2\n",
      "Loaded cached for /NS/robustness_2/work/vnanda/invariances_in_reps/partially_inverted_reps/checkpoints/resnet50-base-imagenet-ft-cifar100/frac-0.20000-mode-random-seed-2-ftmode-linear-lr-0.1-bs-256-nonrob/epoch=23-layer3.0.act3-topk=1.ckpt\n",
      "Loaded cached for /NS/robustness_2/work/vnanda/invariances_in_reps/partially_inverted_reps/checkpoints/resnet50-base-imagenet-ft-cifar100/frac-0.20000-mode-random-seed-1-ftmode-linear-lr-0.1-bs-256-nonrob/epoch=42-layer3.0.act3-topk=1.ckpt\n",
      "layer_name: layer3.0.act3, 2\n",
      "Loaded cached for /NS/robustness_2/work/vnanda/invariances_in_reps/partially_inverted_reps/checkpoints/resnet50-base-imagenet-ft-cifar100/frac-0.40000-mode-random-seed-2-ftmode-linear-lr-0.1-bs-256-nonrob/epoch=44-layer3.0.act3-topk=1.ckpt\n",
      "Loaded cached for /NS/robustness_2/work/vnanda/invariances_in_reps/partially_inverted_reps/checkpoints/resnet50-base-imagenet-ft-cifar100/frac-0.40000-mode-random-seed-1-ftmode-linear-lr-0.1-bs-256-nonrob/epoch=47-layer3.0.act3-topk=1.ckpt\n",
      "layer_name: layer3.0.act3, 2\n",
      "Loaded cached for /NS/robustness_2/work/vnanda/invariances_in_reps/partially_inverted_reps/checkpoints/resnet50-base-imagenet-ft-cifar100/frac-0.50000-mode-random-seed-1-ftmode-linear-lr-0.1-bs-256-nonrob/epoch=40-layer3.0.act3-topk=1.ckpt\n",
      "Loaded cached for /NS/robustness_2/work/vnanda/invariances_in_reps/partially_inverted_reps/checkpoints/resnet50-base-imagenet-ft-cifar100/frac-0.50000-mode-random-seed-2-ftmode-linear-lr-0.1-bs-256-nonrob/epoch=44-layer3.0.act3-topk=1.ckpt\n",
      "layer_name: layer3.0.act3, 2\n",
      "Loaded cached for /NS/robustness_2/work/vnanda/invariances_in_reps/partially_inverted_reps/checkpoints/resnet50-base-imagenet-ft-cifar100/frac-0.80000-mode-random-seed-2-ftmode-linear-lr-0.1-bs-256-nonrob/epoch=44-layer3.0.act3-topk=1.ckpt\n",
      "Loaded cached for /NS/robustness_2/work/vnanda/invariances_in_reps/partially_inverted_reps/checkpoints/resnet50-base-imagenet-ft-cifar100/frac-0.80000-mode-random-seed-1-ftmode-linear-lr-0.1-bs-256-nonrob/epoch=47-layer3.0.act3-topk=1.ckpt\n",
      "layer_name: layer3.0.act3, 2\n",
      "Loaded cached for /NS/robustness_2/work/vnanda/invariances_in_reps/partially_inverted_reps/checkpoints/resnet50-base-imagenet-ft-cifar100/frac-0.90000-mode-random-seed-1-ftmode-linear-lr-0.1-bs-256-nonrob/epoch=46-layer3.0.act3-topk=1.ckpt\n",
      "Loaded cached for /NS/robustness_2/work/vnanda/invariances_in_reps/partially_inverted_reps/checkpoints/resnet50-base-imagenet-ft-cifar100/frac-0.90000-mode-random-seed-2-ftmode-linear-lr-0.1-bs-256-nonrob/epoch=44-layer3.0.act3-topk=1.ckpt\n",
      "layer_name: layer3.0.act3, 1\n",
      "Loaded cached for /NS/robustness_2/work/vnanda/invariances_in_reps/partially_inverted_reps/checkpoints/resnet50-base-imagenet-ft-cifar100/frac-1.00000-mode-random-seed-2-ftmode-linear-lr-0.1-bs-256-nonrob/epoch=44-layer3.0.act3-topk=1.ckpt\n",
      "layer_name: layer3.1.act3, 2\n",
      "Loaded cached for /NS/robustness_2/work/vnanda/invariances_in_reps/partially_inverted_reps/checkpoints/resnet50-base-imagenet-ft-cifar100/frac-0.00050-mode-random-seed-1-ftmode-linear-lr-0.1-bs-256-nonrob/epoch=25-layer3.1.act3-topk=1.ckpt\n",
      "Loaded cached for /NS/robustness_2/work/vnanda/invariances_in_reps/partially_inverted_reps/checkpoints/resnet50-base-imagenet-ft-cifar100/frac-0.00050-mode-random-seed-2-ftmode-linear-lr-0.1-bs-256-nonrob/epoch=45-layer3.1.act3-topk=1.ckpt\n",
      "layer_name: layer3.1.act3, 2\n",
      "Loaded cached for /NS/robustness_2/work/vnanda/invariances_in_reps/partially_inverted_reps/checkpoints/resnet50-base-imagenet-ft-cifar100/frac-0.00500-mode-random-seed-1-ftmode-linear-lr-0.1-bs-256-nonrob/epoch=42-layer3.1.act3-topk=1.ckpt\n",
      "Loaded cached for /NS/robustness_2/work/vnanda/invariances_in_reps/partially_inverted_reps/checkpoints/resnet50-base-imagenet-ft-cifar100/frac-0.00500-mode-random-seed-2-ftmode-linear-lr-0.1-bs-256-nonrob/epoch=36-layer3.1.act3-topk=1.ckpt\n",
      "layer_name: layer3.1.act3, 2\n",
      "Loaded cached for /NS/robustness_2/work/vnanda/invariances_in_reps/partially_inverted_reps/checkpoints/resnet50-base-imagenet-ft-cifar100/frac-0.05000-mode-random-seed-1-ftmode-linear-lr-0.1-bs-256-nonrob/epoch=42-layer3.1.act3-topk=1.ckpt\n",
      "Loaded cached for /NS/robustness_2/work/vnanda/invariances_in_reps/partially_inverted_reps/checkpoints/resnet50-base-imagenet-ft-cifar100/frac-0.05000-mode-random-seed-2-ftmode-linear-lr-0.1-bs-256-nonrob/epoch=34-layer3.1.act3-topk=1.ckpt\n",
      "layer_name: layer3.1.act3, 2\n",
      "Loaded cached for /NS/robustness_2/work/vnanda/invariances_in_reps/partially_inverted_reps/checkpoints/resnet50-base-imagenet-ft-cifar100/frac-0.10000-mode-random-seed-2-ftmode-linear-lr-0.1-bs-256-nonrob/epoch=44-layer3.1.act3-topk=1.ckpt\n",
      "Loaded cached for /NS/robustness_2/work/vnanda/invariances_in_reps/partially_inverted_reps/checkpoints/resnet50-base-imagenet-ft-cifar100/frac-0.10000-mode-random-seed-1-ftmode-linear-lr-0.1-bs-256-nonrob/epoch=34-layer3.1.act3-topk=1.ckpt\n",
      "layer_name: layer3.1.act3, 2\n",
      "Loaded cached for /NS/robustness_2/work/vnanda/invariances_in_reps/partially_inverted_reps/checkpoints/resnet50-base-imagenet-ft-cifar100/frac-0.20000-mode-random-seed-2-ftmode-linear-lr-0.1-bs-256-nonrob/epoch=44-layer3.1.act3-topk=1.ckpt\n",
      "Loaded cached for /NS/robustness_2/work/vnanda/invariances_in_reps/partially_inverted_reps/checkpoints/resnet50-base-imagenet-ft-cifar100/frac-0.20000-mode-random-seed-1-ftmode-linear-lr-0.1-bs-256-nonrob/epoch=48-layer3.1.act3-topk=1.ckpt\n",
      "layer_name: layer3.1.act3, 2\n",
      "Loaded cached for /NS/robustness_2/work/vnanda/invariances_in_reps/partially_inverted_reps/checkpoints/resnet50-base-imagenet-ft-cifar100/frac-0.40000-mode-random-seed-2-ftmode-linear-lr-0.1-bs-256-nonrob/epoch=39-layer3.1.act3-topk=1.ckpt\n",
      "Loaded cached for /NS/robustness_2/work/vnanda/invariances_in_reps/partially_inverted_reps/checkpoints/resnet50-base-imagenet-ft-cifar100/frac-0.40000-mode-random-seed-1-ftmode-linear-lr-0.1-bs-256-nonrob/epoch=37-layer3.1.act3-topk=1.ckpt\n",
      "layer_name: layer3.1.act3, 2\n",
      "Loaded cached for /NS/robustness_2/work/vnanda/invariances_in_reps/partially_inverted_reps/checkpoints/resnet50-base-imagenet-ft-cifar100/frac-0.50000-mode-random-seed-1-ftmode-linear-lr-0.1-bs-256-nonrob/epoch=28-layer3.1.act3-topk=1.ckpt\n",
      "Loaded cached for /NS/robustness_2/work/vnanda/invariances_in_reps/partially_inverted_reps/checkpoints/resnet50-base-imagenet-ft-cifar100/frac-0.50000-mode-random-seed-2-ftmode-linear-lr-0.1-bs-256-nonrob/epoch=44-layer3.1.act3-topk=1.ckpt\n",
      "layer_name: layer3.1.act3, 2\n",
      "Loaded cached for /NS/robustness_2/work/vnanda/invariances_in_reps/partially_inverted_reps/checkpoints/resnet50-base-imagenet-ft-cifar100/frac-0.80000-mode-random-seed-2-ftmode-linear-lr-0.1-bs-256-nonrob/epoch=44-layer3.1.act3-topk=1.ckpt\n"
     ]
    },
    {
     "name": "stdout",
     "output_type": "stream",
     "text": [
      "Loaded cached for /NS/robustness_2/work/vnanda/invariances_in_reps/partially_inverted_reps/checkpoints/resnet50-base-imagenet-ft-cifar100/frac-0.80000-mode-random-seed-1-ftmode-linear-lr-0.1-bs-256-nonrob/epoch=44-layer3.1.act3-topk=1.ckpt\n",
      "layer_name: layer3.1.act3, 2\n",
      "Loaded cached for /NS/robustness_2/work/vnanda/invariances_in_reps/partially_inverted_reps/checkpoints/resnet50-base-imagenet-ft-cifar100/frac-0.90000-mode-random-seed-1-ftmode-linear-lr-0.1-bs-256-nonrob/epoch=46-layer3.1.act3-topk=1.ckpt\n",
      "Loaded cached for /NS/robustness_2/work/vnanda/invariances_in_reps/partially_inverted_reps/checkpoints/resnet50-base-imagenet-ft-cifar100/frac-0.90000-mode-random-seed-2-ftmode-linear-lr-0.1-bs-256-nonrob/epoch=44-layer3.1.act3-topk=1.ckpt\n",
      "layer_name: layer3.1.act3, 1\n",
      "Loaded cached for /NS/robustness_2/work/vnanda/invariances_in_reps/partially_inverted_reps/checkpoints/resnet50-base-imagenet-ft-cifar100/frac-1.00000-mode-random-seed-2-ftmode-linear-lr-0.1-bs-256-nonrob/epoch=44-layer3.1.act3-topk=1.ckpt\n",
      "layer_name: layer3.2.act3, 2\n",
      "Loaded cached for /NS/robustness_2/work/vnanda/invariances_in_reps/partially_inverted_reps/checkpoints/resnet50-base-imagenet-ft-cifar100/frac-0.00050-mode-random-seed-1-ftmode-linear-lr-0.1-bs-256-nonrob/epoch=45-layer3.2.act3-topk=1.ckpt\n",
      "Loaded cached for /NS/robustness_2/work/vnanda/invariances_in_reps/partially_inverted_reps/checkpoints/resnet50-base-imagenet-ft-cifar100/frac-0.00050-mode-random-seed-2-ftmode-linear-lr-0.1-bs-256-nonrob/epoch=34-layer3.2.act3-topk=1.ckpt\n",
      "layer_name: layer3.2.act3, 2\n",
      "Loaded cached for /NS/robustness_2/work/vnanda/invariances_in_reps/partially_inverted_reps/checkpoints/resnet50-base-imagenet-ft-cifar100/frac-0.00500-mode-random-seed-1-ftmode-linear-lr-0.1-bs-256-nonrob/epoch=42-layer3.2.act3-topk=1.ckpt\n",
      "Loaded cached for /NS/robustness_2/work/vnanda/invariances_in_reps/partially_inverted_reps/checkpoints/resnet50-base-imagenet-ft-cifar100/frac-0.00500-mode-random-seed-2-ftmode-linear-lr-0.1-bs-256-nonrob/epoch=46-layer3.2.act3-topk=1.ckpt\n",
      "layer_name: layer3.2.act3, 2\n",
      "Loaded cached for /NS/robustness_2/work/vnanda/invariances_in_reps/partially_inverted_reps/checkpoints/resnet50-base-imagenet-ft-cifar100/frac-0.05000-mode-random-seed-1-ftmode-linear-lr-0.1-bs-256-nonrob/epoch=41-layer3.2.act3-topk=1.ckpt\n",
      "Loaded cached for /NS/robustness_2/work/vnanda/invariances_in_reps/partially_inverted_reps/checkpoints/resnet50-base-imagenet-ft-cifar100/frac-0.05000-mode-random-seed-2-ftmode-linear-lr-0.1-bs-256-nonrob/epoch=23-layer3.2.act3-topk=1.ckpt\n",
      "layer_name: layer3.2.act3, 2\n",
      "Loaded cached for /NS/robustness_2/work/vnanda/invariances_in_reps/partially_inverted_reps/checkpoints/resnet50-base-imagenet-ft-cifar100/frac-0.10000-mode-random-seed-2-ftmode-linear-lr-0.1-bs-256-nonrob/epoch=44-layer3.2.act3-topk=1.ckpt\n",
      "Loaded cached for /NS/robustness_2/work/vnanda/invariances_in_reps/partially_inverted_reps/checkpoints/resnet50-base-imagenet-ft-cifar100/frac-0.10000-mode-random-seed-1-ftmode-linear-lr-0.1-bs-256-nonrob/epoch=34-layer3.2.act3-topk=1.ckpt\n",
      "layer_name: layer3.2.act3, 2\n",
      "Loaded cached for /NS/robustness_2/work/vnanda/invariances_in_reps/partially_inverted_reps/checkpoints/resnet50-base-imagenet-ft-cifar100/frac-0.20000-mode-random-seed-2-ftmode-linear-lr-0.1-bs-256-nonrob/epoch=44-layer3.2.act3-topk=1.ckpt\n",
      "Loaded cached for /NS/robustness_2/work/vnanda/invariances_in_reps/partially_inverted_reps/checkpoints/resnet50-base-imagenet-ft-cifar100/frac-0.20000-mode-random-seed-1-ftmode-linear-lr-0.1-bs-256-nonrob/epoch=42-layer3.2.act3-topk=1.ckpt\n",
      "layer_name: layer3.2.act3, 2\n",
      "Loaded cached for /NS/robustness_2/work/vnanda/invariances_in_reps/partially_inverted_reps/checkpoints/resnet50-base-imagenet-ft-cifar100/frac-0.40000-mode-random-seed-2-ftmode-linear-lr-0.1-bs-256-nonrob/epoch=39-layer3.2.act3-topk=1.ckpt\n",
      "Loaded cached for /NS/robustness_2/work/vnanda/invariances_in_reps/partially_inverted_reps/checkpoints/resnet50-base-imagenet-ft-cifar100/frac-0.40000-mode-random-seed-1-ftmode-linear-lr-0.1-bs-256-nonrob/epoch=43-layer3.2.act3-topk=1.ckpt\n",
      "layer_name: layer3.2.act3, 2\n",
      "Loaded cached for /NS/robustness_2/work/vnanda/invariances_in_reps/partially_inverted_reps/checkpoints/resnet50-base-imagenet-ft-cifar100/frac-0.50000-mode-random-seed-1-ftmode-linear-lr-0.1-bs-256-nonrob/epoch=42-layer3.2.act3-topk=1.ckpt\n",
      "Loaded cached for /NS/robustness_2/work/vnanda/invariances_in_reps/partially_inverted_reps/checkpoints/resnet50-base-imagenet-ft-cifar100/frac-0.50000-mode-random-seed-2-ftmode-linear-lr-0.1-bs-256-nonrob/epoch=44-layer3.2.act3-topk=1.ckpt\n",
      "layer_name: layer3.2.act3, 2\n",
      "Loaded cached for /NS/robustness_2/work/vnanda/invariances_in_reps/partially_inverted_reps/checkpoints/resnet50-base-imagenet-ft-cifar100/frac-0.80000-mode-random-seed-2-ftmode-linear-lr-0.1-bs-256-nonrob/epoch=37-layer3.2.act3-topk=1.ckpt\n",
      "Loaded cached for /NS/robustness_2/work/vnanda/invariances_in_reps/partially_inverted_reps/checkpoints/resnet50-base-imagenet-ft-cifar100/frac-0.80000-mode-random-seed-1-ftmode-linear-lr-0.1-bs-256-nonrob/epoch=47-layer3.2.act3-topk=1.ckpt\n",
      "layer_name: layer3.2.act3, 2\n",
      "Loaded cached for /NS/robustness_2/work/vnanda/invariances_in_reps/partially_inverted_reps/checkpoints/resnet50-base-imagenet-ft-cifar100/frac-0.90000-mode-random-seed-1-ftmode-linear-lr-0.1-bs-256-nonrob/epoch=44-layer3.2.act3-topk=1.ckpt\n",
      "Loaded cached for /NS/robustness_2/work/vnanda/invariances_in_reps/partially_inverted_reps/checkpoints/resnet50-base-imagenet-ft-cifar100/frac-0.90000-mode-random-seed-2-ftmode-linear-lr-0.1-bs-256-nonrob/epoch=44-layer3.2.act3-topk=1.ckpt\n",
      "layer_name: layer3.2.act3, 1\n",
      "Loaded cached for /NS/robustness_2/work/vnanda/invariances_in_reps/partially_inverted_reps/checkpoints/resnet50-base-imagenet-ft-cifar100/frac-1.00000-mode-random-seed-2-ftmode-linear-lr-0.1-bs-256-nonrob/epoch=44-layer3.2.act3-topk=1.ckpt\n",
      "layer_name: layer3.3.act3, 2\n",
      "Loaded cached for /NS/robustness_2/work/vnanda/invariances_in_reps/partially_inverted_reps/checkpoints/resnet50-base-imagenet-ft-cifar100/frac-0.00050-mode-random-seed-1-ftmode-linear-lr-0.1-bs-256-nonrob/epoch=34-layer3.3.act3-topk=1.ckpt\n",
      "Loaded cached for /NS/robustness_2/work/vnanda/invariances_in_reps/partially_inverted_reps/checkpoints/resnet50-base-imagenet-ft-cifar100/frac-0.00050-mode-random-seed-2-ftmode-linear-lr-0.1-bs-256-nonrob/epoch=45-layer3.3.act3-topk=1.ckpt\n",
      "layer_name: layer3.3.act3, 2\n",
      "Loaded cached for /NS/robustness_2/work/vnanda/invariances_in_reps/partially_inverted_reps/checkpoints/resnet50-base-imagenet-ft-cifar100/frac-0.00500-mode-random-seed-1-ftmode-linear-lr-0.1-bs-256-nonrob/epoch=47-layer3.3.act3-topk=1.ckpt\n",
      "Loaded cached for /NS/robustness_2/work/vnanda/invariances_in_reps/partially_inverted_reps/checkpoints/resnet50-base-imagenet-ft-cifar100/frac-0.00500-mode-random-seed-2-ftmode-linear-lr-0.1-bs-256-nonrob/epoch=45-layer3.3.act3-topk=1.ckpt\n",
      "layer_name: layer3.3.act3, 2\n",
      "Loaded cached for /NS/robustness_2/work/vnanda/invariances_in_reps/partially_inverted_reps/checkpoints/resnet50-base-imagenet-ft-cifar100/frac-0.05000-mode-random-seed-1-ftmode-linear-lr-0.1-bs-256-nonrob/epoch=44-layer3.3.act3-topk=1.ckpt\n",
      "Loaded cached for /NS/robustness_2/work/vnanda/invariances_in_reps/partially_inverted_reps/checkpoints/resnet50-base-imagenet-ft-cifar100/frac-0.05000-mode-random-seed-2-ftmode-linear-lr-0.1-bs-256-nonrob/epoch=44-layer3.3.act3-topk=1.ckpt\n",
      "layer_name: layer3.3.act3, 2\n",
      "Loaded cached for /NS/robustness_2/work/vnanda/invariances_in_reps/partially_inverted_reps/checkpoints/resnet50-base-imagenet-ft-cifar100/frac-0.10000-mode-random-seed-2-ftmode-linear-lr-0.1-bs-256-nonrob/epoch=36-layer3.3.act3-topk=1.ckpt\n",
      "Loaded cached for /NS/robustness_2/work/vnanda/invariances_in_reps/partially_inverted_reps/checkpoints/resnet50-base-imagenet-ft-cifar100/frac-0.10000-mode-random-seed-1-ftmode-linear-lr-0.1-bs-256-nonrob/epoch=41-layer3.3.act3-topk=1.ckpt\n",
      "layer_name: layer3.3.act3, 2\n",
      "Loaded cached for /NS/robustness_2/work/vnanda/invariances_in_reps/partially_inverted_reps/checkpoints/resnet50-base-imagenet-ft-cifar100/frac-0.20000-mode-random-seed-2-ftmode-linear-lr-0.1-bs-256-nonrob/epoch=37-layer3.3.act3-topk=1.ckpt\n",
      "Loaded cached for /NS/robustness_2/work/vnanda/invariances_in_reps/partially_inverted_reps/checkpoints/resnet50-base-imagenet-ft-cifar100/frac-0.20000-mode-random-seed-1-ftmode-linear-lr-0.1-bs-256-nonrob/epoch=42-layer3.3.act3-topk=1.ckpt\n",
      "layer_name: layer3.3.act3, 2\n",
      "Loaded cached for /NS/robustness_2/work/vnanda/invariances_in_reps/partially_inverted_reps/checkpoints/resnet50-base-imagenet-ft-cifar100/frac-0.40000-mode-random-seed-2-ftmode-linear-lr-0.1-bs-256-nonrob/epoch=44-layer3.3.act3-topk=1.ckpt\n"
     ]
    },
    {
     "name": "stdout",
     "output_type": "stream",
     "text": [
      "Loaded cached for /NS/robustness_2/work/vnanda/invariances_in_reps/partially_inverted_reps/checkpoints/resnet50-base-imagenet-ft-cifar100/frac-0.40000-mode-random-seed-1-ftmode-linear-lr-0.1-bs-256-nonrob/epoch=44-layer3.3.act3-topk=1.ckpt\n",
      "layer_name: layer3.3.act3, 2\n",
      "Loaded cached for /NS/robustness_2/work/vnanda/invariances_in_reps/partially_inverted_reps/checkpoints/resnet50-base-imagenet-ft-cifar100/frac-0.50000-mode-random-seed-1-ftmode-linear-lr-0.1-bs-256-nonrob/epoch=32-layer3.3.act3-topk=1.ckpt\n",
      "Loaded cached for /NS/robustness_2/work/vnanda/invariances_in_reps/partially_inverted_reps/checkpoints/resnet50-base-imagenet-ft-cifar100/frac-0.50000-mode-random-seed-2-ftmode-linear-lr-0.1-bs-256-nonrob/epoch=36-layer3.3.act3-topk=1.ckpt\n",
      "layer_name: layer3.3.act3, 2\n",
      "Loaded cached for /NS/robustness_2/work/vnanda/invariances_in_reps/partially_inverted_reps/checkpoints/resnet50-base-imagenet-ft-cifar100/frac-0.80000-mode-random-seed-2-ftmode-linear-lr-0.1-bs-256-nonrob/epoch=44-layer3.3.act3-topk=1.ckpt\n",
      "Loaded cached for /NS/robustness_2/work/vnanda/invariances_in_reps/partially_inverted_reps/checkpoints/resnet50-base-imagenet-ft-cifar100/frac-0.80000-mode-random-seed-1-ftmode-linear-lr-0.1-bs-256-nonrob/epoch=32-layer3.3.act3-topk=1.ckpt\n",
      "layer_name: layer3.3.act3, 2\n",
      "Loaded cached for /NS/robustness_2/work/vnanda/invariances_in_reps/partially_inverted_reps/checkpoints/resnet50-base-imagenet-ft-cifar100/frac-0.90000-mode-random-seed-1-ftmode-linear-lr-0.1-bs-256-nonrob/epoch=35-layer3.3.act3-topk=1.ckpt\n",
      "Loaded cached for /NS/robustness_2/work/vnanda/invariances_in_reps/partially_inverted_reps/checkpoints/resnet50-base-imagenet-ft-cifar100/frac-0.90000-mode-random-seed-2-ftmode-linear-lr-0.1-bs-256-nonrob/epoch=43-layer3.3.act3-topk=1.ckpt\n",
      "layer_name: layer3.3.act3, 1\n",
      "Loaded cached for /NS/robustness_2/work/vnanda/invariances_in_reps/partially_inverted_reps/checkpoints/resnet50-base-imagenet-ft-cifar100/frac-1.00000-mode-random-seed-2-ftmode-linear-lr-0.1-bs-256-nonrob/epoch=44-layer3.3.act3-topk=1.ckpt\n",
      "layer_name: layer3.4.act3, 2\n",
      "Loaded cached for /NS/robustness_2/work/vnanda/invariances_in_reps/partially_inverted_reps/checkpoints/resnet50-base-imagenet-ft-cifar100/frac-0.00050-mode-random-seed-1-ftmode-linear-lr-0.1-bs-256-nonrob/epoch=33-layer3.4.act3-topk=1.ckpt\n",
      "Loaded cached for /NS/robustness_2/work/vnanda/invariances_in_reps/partially_inverted_reps/checkpoints/resnet50-base-imagenet-ft-cifar100/frac-0.00050-mode-random-seed-2-ftmode-linear-lr-0.1-bs-256-nonrob/epoch=45-layer3.4.act3-topk=1.ckpt\n",
      "layer_name: layer3.4.act3, 2\n",
      "Loaded cached for /NS/robustness_2/work/vnanda/invariances_in_reps/partially_inverted_reps/checkpoints/resnet50-base-imagenet-ft-cifar100/frac-0.00500-mode-random-seed-1-ftmode-linear-lr-0.1-bs-256-nonrob/epoch=48-layer3.4.act3-topk=1.ckpt\n",
      "Loaded cached for /NS/robustness_2/work/vnanda/invariances_in_reps/partially_inverted_reps/checkpoints/resnet50-base-imagenet-ft-cifar100/frac-0.00500-mode-random-seed-2-ftmode-linear-lr-0.1-bs-256-nonrob/epoch=45-layer3.4.act3-topk=1.ckpt\n",
      "layer_name: layer3.4.act3, 2\n",
      "Loaded cached for /NS/robustness_2/work/vnanda/invariances_in_reps/partially_inverted_reps/checkpoints/resnet50-base-imagenet-ft-cifar100/frac-0.05000-mode-random-seed-1-ftmode-linear-lr-0.1-bs-256-nonrob/epoch=28-layer3.4.act3-topk=1.ckpt\n",
      "Loaded cached for /NS/robustness_2/work/vnanda/invariances_in_reps/partially_inverted_reps/checkpoints/resnet50-base-imagenet-ft-cifar100/frac-0.05000-mode-random-seed-2-ftmode-linear-lr-0.1-bs-256-nonrob/epoch=48-layer3.4.act3-topk=1.ckpt\n",
      "layer_name: layer3.4.act3, 2\n",
      "Loaded cached for /NS/robustness_2/work/vnanda/invariances_in_reps/partially_inverted_reps/checkpoints/resnet50-base-imagenet-ft-cifar100/frac-0.10000-mode-random-seed-2-ftmode-linear-lr-0.1-bs-256-nonrob/epoch=34-layer3.4.act3-topk=1.ckpt\n",
      "Loaded cached for /NS/robustness_2/work/vnanda/invariances_in_reps/partially_inverted_reps/checkpoints/resnet50-base-imagenet-ft-cifar100/frac-0.10000-mode-random-seed-1-ftmode-linear-lr-0.1-bs-256-nonrob/epoch=26-layer3.4.act3-topk=1.ckpt\n",
      "layer_name: layer3.4.act3, 2\n",
      "Loaded cached for /NS/robustness_2/work/vnanda/invariances_in_reps/partially_inverted_reps/checkpoints/resnet50-base-imagenet-ft-cifar100/frac-0.20000-mode-random-seed-2-ftmode-linear-lr-0.1-bs-256-nonrob/epoch=44-layer3.4.act3-topk=1.ckpt\n",
      "Loaded cached for /NS/robustness_2/work/vnanda/invariances_in_reps/partially_inverted_reps/checkpoints/resnet50-base-imagenet-ft-cifar100/frac-0.20000-mode-random-seed-1-ftmode-linear-lr-0.1-bs-256-nonrob/epoch=46-layer3.4.act3-topk=1.ckpt\n",
      "layer_name: layer3.4.act3, 2\n",
      "Loaded cached for /NS/robustness_2/work/vnanda/invariances_in_reps/partially_inverted_reps/checkpoints/resnet50-base-imagenet-ft-cifar100/frac-0.40000-mode-random-seed-2-ftmode-linear-lr-0.1-bs-256-nonrob/epoch=34-layer3.4.act3-topk=1.ckpt\n",
      "Loaded cached for /NS/robustness_2/work/vnanda/invariances_in_reps/partially_inverted_reps/checkpoints/resnet50-base-imagenet-ft-cifar100/frac-0.40000-mode-random-seed-1-ftmode-linear-lr-0.1-bs-256-nonrob/epoch=5-layer3.4.act3-topk=1.ckpt\n",
      "layer_name: layer3.4.act3, 2\n",
      "Loaded cached for /NS/robustness_2/work/vnanda/invariances_in_reps/partially_inverted_reps/checkpoints/resnet50-base-imagenet-ft-cifar100/frac-0.50000-mode-random-seed-1-ftmode-linear-lr-0.1-bs-256-nonrob/epoch=35-layer3.4.act3-topk=1.ckpt\n",
      "Loaded cached for /NS/robustness_2/work/vnanda/invariances_in_reps/partially_inverted_reps/checkpoints/resnet50-base-imagenet-ft-cifar100/frac-0.50000-mode-random-seed-2-ftmode-linear-lr-0.1-bs-256-nonrob/epoch=30-layer3.4.act3-topk=1.ckpt\n",
      "layer_name: layer3.4.act3, 2\n",
      "Loaded cached for /NS/robustness_2/work/vnanda/invariances_in_reps/partially_inverted_reps/checkpoints/resnet50-base-imagenet-ft-cifar100/frac-0.80000-mode-random-seed-2-ftmode-linear-lr-0.1-bs-256-nonrob/epoch=38-layer3.4.act3-topk=1.ckpt\n",
      "Loaded cached for /NS/robustness_2/work/vnanda/invariances_in_reps/partially_inverted_reps/checkpoints/resnet50-base-imagenet-ft-cifar100/frac-0.80000-mode-random-seed-1-ftmode-linear-lr-0.1-bs-256-nonrob/epoch=44-layer3.4.act3-topk=1.ckpt\n",
      "layer_name: layer3.4.act3, 2\n",
      "Loaded cached for /NS/robustness_2/work/vnanda/invariances_in_reps/partially_inverted_reps/checkpoints/resnet50-base-imagenet-ft-cifar100/frac-0.90000-mode-random-seed-1-ftmode-linear-lr-0.1-bs-256-nonrob/epoch=35-layer3.4.act3-topk=1.ckpt\n",
      "Loaded cached for /NS/robustness_2/work/vnanda/invariances_in_reps/partially_inverted_reps/checkpoints/resnet50-base-imagenet-ft-cifar100/frac-0.90000-mode-random-seed-2-ftmode-linear-lr-0.1-bs-256-nonrob/epoch=38-layer3.4.act3-topk=1.ckpt\n",
      "layer_name: layer3.4.act3, 1\n",
      "Loaded cached for /NS/robustness_2/work/vnanda/invariances_in_reps/partially_inverted_reps/checkpoints/resnet50-base-imagenet-ft-cifar100/frac-1.00000-mode-random-seed-2-ftmode-linear-lr-0.1-bs-256-nonrob/epoch=40-layer3.4.act3-topk=1.ckpt\n",
      "layer_name: layer3.5.act3, 2\n",
      "Loaded cached for /NS/robustness_2/work/vnanda/invariances_in_reps/partially_inverted_reps/checkpoints/resnet50-base-imagenet-ft-cifar100/frac-0.00050-mode-random-seed-1-ftmode-linear-lr-0.1-bs-256-nonrob/epoch=28-layer3.5.act3-topk=1.ckpt\n",
      "Loaded cached for /NS/robustness_2/work/vnanda/invariances_in_reps/partially_inverted_reps/checkpoints/resnet50-base-imagenet-ft-cifar100/frac-0.00050-mode-random-seed-2-ftmode-linear-lr-0.1-bs-256-nonrob/epoch=32-layer3.5.act3-topk=1.ckpt\n",
      "layer_name: layer3.5.act3, 2\n",
      "Loaded cached for /NS/robustness_2/work/vnanda/invariances_in_reps/partially_inverted_reps/checkpoints/resnet50-base-imagenet-ft-cifar100/frac-0.00500-mode-random-seed-1-ftmode-linear-lr-0.1-bs-256-nonrob/epoch=47-layer3.5.act3-topk=1.ckpt\n",
      "Loaded cached for /NS/robustness_2/work/vnanda/invariances_in_reps/partially_inverted_reps/checkpoints/resnet50-base-imagenet-ft-cifar100/frac-0.00500-mode-random-seed-2-ftmode-linear-lr-0.1-bs-256-nonrob/epoch=45-layer3.5.act3-topk=1.ckpt\n",
      "layer_name: layer3.5.act3, 2\n",
      "Loaded cached for /NS/robustness_2/work/vnanda/invariances_in_reps/partially_inverted_reps/checkpoints/resnet50-base-imagenet-ft-cifar100/frac-0.05000-mode-random-seed-1-ftmode-linear-lr-0.1-bs-256-nonrob/epoch=35-layer3.5.act3-topk=1.ckpt\n",
      "Loaded cached for /NS/robustness_2/work/vnanda/invariances_in_reps/partially_inverted_reps/checkpoints/resnet50-base-imagenet-ft-cifar100/frac-0.05000-mode-random-seed-2-ftmode-linear-lr-0.1-bs-256-nonrob/epoch=34-layer3.5.act3-topk=1.ckpt\n",
      "layer_name: layer3.5.act3, 2\n"
     ]
    },
    {
     "name": "stdout",
     "output_type": "stream",
     "text": [
      "Loaded cached for /NS/robustness_2/work/vnanda/invariances_in_reps/partially_inverted_reps/checkpoints/resnet50-base-imagenet-ft-cifar100/frac-0.10000-mode-random-seed-2-ftmode-linear-lr-0.1-bs-256-nonrob/epoch=35-layer3.5.act3-topk=1.ckpt\n",
      "Loaded cached for /NS/robustness_2/work/vnanda/invariances_in_reps/partially_inverted_reps/checkpoints/resnet50-base-imagenet-ft-cifar100/frac-0.10000-mode-random-seed-1-ftmode-linear-lr-0.1-bs-256-nonrob/epoch=42-layer3.5.act3-topk=1.ckpt\n",
      "layer_name: layer3.5.act3, 2\n",
      "Loaded cached for /NS/robustness_2/work/vnanda/invariances_in_reps/partially_inverted_reps/checkpoints/resnet50-base-imagenet-ft-cifar100/frac-0.20000-mode-random-seed-2-ftmode-linear-lr-0.1-bs-256-nonrob/epoch=44-layer3.5.act3-topk=1.ckpt\n",
      "Loaded cached for /NS/robustness_2/work/vnanda/invariances_in_reps/partially_inverted_reps/checkpoints/resnet50-base-imagenet-ft-cifar100/frac-0.20000-mode-random-seed-1-ftmode-linear-lr-0.1-bs-256-nonrob/epoch=29-layer3.5.act3-topk=1.ckpt\n",
      "layer_name: layer3.5.act3, 2\n",
      "Loaded cached for /NS/robustness_2/work/vnanda/invariances_in_reps/partially_inverted_reps/checkpoints/resnet50-base-imagenet-ft-cifar100/frac-0.40000-mode-random-seed-2-ftmode-linear-lr-0.1-bs-256-nonrob/epoch=45-layer3.5.act3-topk=1.ckpt\n",
      "Loaded cached for /NS/robustness_2/work/vnanda/invariances_in_reps/partially_inverted_reps/checkpoints/resnet50-base-imagenet-ft-cifar100/frac-0.40000-mode-random-seed-1-ftmode-linear-lr-0.1-bs-256-nonrob/epoch=42-layer3.5.act3-topk=1.ckpt\n",
      "layer_name: layer3.5.act3, 2\n",
      "Loaded cached for /NS/robustness_2/work/vnanda/invariances_in_reps/partially_inverted_reps/checkpoints/resnet50-base-imagenet-ft-cifar100/frac-0.50000-mode-random-seed-1-ftmode-linear-lr-0.1-bs-256-nonrob/epoch=35-layer3.5.act3-topk=1.ckpt\n",
      "Loaded cached for /NS/robustness_2/work/vnanda/invariances_in_reps/partially_inverted_reps/checkpoints/resnet50-base-imagenet-ft-cifar100/frac-0.50000-mode-random-seed-2-ftmode-linear-lr-0.1-bs-256-nonrob/epoch=37-layer3.5.act3-topk=1.ckpt\n",
      "layer_name: layer3.5.act3, 2\n",
      "Loaded cached for /NS/robustness_2/work/vnanda/invariances_in_reps/partially_inverted_reps/checkpoints/resnet50-base-imagenet-ft-cifar100/frac-0.80000-mode-random-seed-2-ftmode-linear-lr-0.1-bs-256-nonrob/epoch=44-layer3.5.act3-topk=1.ckpt\n",
      "Loaded cached for /NS/robustness_2/work/vnanda/invariances_in_reps/partially_inverted_reps/checkpoints/resnet50-base-imagenet-ft-cifar100/frac-0.80000-mode-random-seed-1-ftmode-linear-lr-0.1-bs-256-nonrob/epoch=47-layer3.5.act3-topk=1.ckpt\n",
      "layer_name: layer3.5.act3, 2\n",
      "Loaded cached for /NS/robustness_2/work/vnanda/invariances_in_reps/partially_inverted_reps/checkpoints/resnet50-base-imagenet-ft-cifar100/frac-0.90000-mode-random-seed-1-ftmode-linear-lr-0.1-bs-256-nonrob/epoch=48-layer3.5.act3-topk=1.ckpt\n",
      "Loaded cached for /NS/robustness_2/work/vnanda/invariances_in_reps/partially_inverted_reps/checkpoints/resnet50-base-imagenet-ft-cifar100/frac-0.90000-mode-random-seed-2-ftmode-linear-lr-0.1-bs-256-nonrob/epoch=49-layer3.5.act3-topk=1.ckpt\n",
      "layer_name: layer3.5.act3, 1\n",
      "Loaded cached for /NS/robustness_2/work/vnanda/invariances_in_reps/partially_inverted_reps/checkpoints/resnet50-base-imagenet-ft-cifar100/frac-1.00000-mode-random-seed-2-ftmode-linear-lr-0.1-bs-256-nonrob/epoch=44-layer3.5.act3-topk=1.ckpt\n",
      "layer_name: layer4.0.act3, 2\n",
      "Loaded cached for /NS/robustness_2/work/vnanda/invariances_in_reps/partially_inverted_reps/checkpoints/resnet50-base-imagenet-ft-cifar100/frac-0.00050-mode-random-seed-1-ftmode-linear-lr-0.1-bs-256-nonrob/epoch=32-layer4.0.act3-topk=1.ckpt\n",
      "Loaded cached for /NS/robustness_2/work/vnanda/invariances_in_reps/partially_inverted_reps/checkpoints/resnet50-base-imagenet-ft-cifar100/frac-0.00050-mode-random-seed-2-ftmode-linear-lr-0.1-bs-256-nonrob/epoch=37-layer4.0.act3-topk=1.ckpt\n",
      "layer_name: layer4.0.act3, 2\n",
      "Loaded cached for /NS/robustness_2/work/vnanda/invariances_in_reps/partially_inverted_reps/checkpoints/resnet50-base-imagenet-ft-cifar100/frac-0.00500-mode-random-seed-1-ftmode-linear-lr-0.1-bs-256-nonrob/epoch=32-layer4.0.act3-topk=1.ckpt\n",
      "Loaded cached for /NS/robustness_2/work/vnanda/invariances_in_reps/partially_inverted_reps/checkpoints/resnet50-base-imagenet-ft-cifar100/frac-0.00500-mode-random-seed-2-ftmode-linear-lr-0.1-bs-256-nonrob/epoch=25-layer4.0.act3-topk=1.ckpt\n",
      "layer_name: layer4.0.act3, 2\n",
      "Loaded cached for /NS/robustness_2/work/vnanda/invariances_in_reps/partially_inverted_reps/checkpoints/resnet50-base-imagenet-ft-cifar100/frac-0.05000-mode-random-seed-1-ftmode-linear-lr-0.1-bs-256-nonrob/epoch=22-layer4.0.act3-topk=1.ckpt\n",
      "Loaded cached for /NS/robustness_2/work/vnanda/invariances_in_reps/partially_inverted_reps/checkpoints/resnet50-base-imagenet-ft-cifar100/frac-0.05000-mode-random-seed-2-ftmode-linear-lr-0.1-bs-256-nonrob/epoch=39-layer4.0.act3-topk=1.ckpt\n",
      "layer_name: layer4.0.act3, 2\n",
      "Loaded cached for /NS/robustness_2/work/vnanda/invariances_in_reps/partially_inverted_reps/checkpoints/resnet50-base-imagenet-ft-cifar100/frac-0.10000-mode-random-seed-2-ftmode-linear-lr-0.1-bs-256-nonrob/epoch=34-layer4.0.act3-topk=1.ckpt\n",
      "Loaded cached for /NS/robustness_2/work/vnanda/invariances_in_reps/partially_inverted_reps/checkpoints/resnet50-base-imagenet-ft-cifar100/frac-0.10000-mode-random-seed-1-ftmode-linear-lr-0.1-bs-256-nonrob/epoch=43-layer4.0.act3-topk=1.ckpt\n",
      "layer_name: layer4.0.act3, 2\n",
      "Loaded cached for /NS/robustness_2/work/vnanda/invariances_in_reps/partially_inverted_reps/checkpoints/resnet50-base-imagenet-ft-cifar100/frac-0.20000-mode-random-seed-2-ftmode-linear-lr-0.1-bs-256-nonrob/epoch=23-layer4.0.act3-topk=1.ckpt\n",
      "Loaded cached for /NS/robustness_2/work/vnanda/invariances_in_reps/partially_inverted_reps/checkpoints/resnet50-base-imagenet-ft-cifar100/frac-0.20000-mode-random-seed-1-ftmode-linear-lr-0.1-bs-256-nonrob/epoch=43-layer4.0.act3-topk=1.ckpt\n",
      "layer_name: layer4.0.act3, 2\n",
      "Loaded cached for /NS/robustness_2/work/vnanda/invariances_in_reps/partially_inverted_reps/checkpoints/resnet50-base-imagenet-ft-cifar100/frac-0.40000-mode-random-seed-2-ftmode-linear-lr-0.1-bs-256-nonrob/epoch=37-layer4.0.act3-topk=1.ckpt\n",
      "Loaded cached for /NS/robustness_2/work/vnanda/invariances_in_reps/partially_inverted_reps/checkpoints/resnet50-base-imagenet-ft-cifar100/frac-0.40000-mode-random-seed-1-ftmode-linear-lr-0.1-bs-256-nonrob/epoch=41-layer4.0.act3-topk=1.ckpt\n",
      "layer_name: layer4.0.act3, 2\n",
      "Loaded cached for /NS/robustness_2/work/vnanda/invariances_in_reps/partially_inverted_reps/checkpoints/resnet50-base-imagenet-ft-cifar100/frac-0.50000-mode-random-seed-1-ftmode-linear-lr-0.1-bs-256-nonrob/epoch=40-layer4.0.act3-topk=1.ckpt\n",
      "Loaded cached for /NS/robustness_2/work/vnanda/invariances_in_reps/partially_inverted_reps/checkpoints/resnet50-base-imagenet-ft-cifar100/frac-0.50000-mode-random-seed-2-ftmode-linear-lr-0.1-bs-256-nonrob/epoch=46-layer4.0.act3-topk=1.ckpt\n",
      "layer_name: layer4.0.act3, 2\n",
      "Loaded cached for /NS/robustness_2/work/vnanda/invariances_in_reps/partially_inverted_reps/checkpoints/resnet50-base-imagenet-ft-cifar100/frac-0.80000-mode-random-seed-2-ftmode-linear-lr-0.1-bs-256-nonrob/epoch=37-layer4.0.act3-topk=1.ckpt\n",
      "Loaded cached for /NS/robustness_2/work/vnanda/invariances_in_reps/partially_inverted_reps/checkpoints/resnet50-base-imagenet-ft-cifar100/frac-0.80000-mode-random-seed-1-ftmode-linear-lr-0.1-bs-256-nonrob/epoch=46-layer4.0.act3-topk=1.ckpt\n",
      "layer_name: layer4.0.act3, 2\n",
      "Loaded cached for /NS/robustness_2/work/vnanda/invariances_in_reps/partially_inverted_reps/checkpoints/resnet50-base-imagenet-ft-cifar100/frac-0.90000-mode-random-seed-1-ftmode-linear-lr-0.1-bs-256-nonrob/epoch=30-layer4.0.act3-topk=1.ckpt\n",
      "Loaded cached for /NS/robustness_2/work/vnanda/invariances_in_reps/partially_inverted_reps/checkpoints/resnet50-base-imagenet-ft-cifar100/frac-0.90000-mode-random-seed-2-ftmode-linear-lr-0.1-bs-256-nonrob/epoch=23-layer4.0.act3-topk=1.ckpt\n",
      "layer_name: layer4.0.act3, 1\n",
      "Loaded cached for /NS/robustness_2/work/vnanda/invariances_in_reps/partially_inverted_reps/checkpoints/resnet50-base-imagenet-ft-cifar100/frac-1.00000-mode-random-seed-2-ftmode-linear-lr-0.1-bs-256-nonrob/epoch=41-layer4.0.act3-topk=1.ckpt\n",
      "layer_name: layer4.1.act3, 2\n",
      "Loaded cached for /NS/robustness_2/work/vnanda/invariances_in_reps/partially_inverted_reps/checkpoints/resnet50-base-imagenet-ft-cifar100/frac-0.00050-mode-random-seed-1-ftmode-linear-lr-0.1-bs-256-nonrob/epoch=38-layer4.1.act3-topk=1.ckpt\n",
      "Loaded cached for /NS/robustness_2/work/vnanda/invariances_in_reps/partially_inverted_reps/checkpoints/resnet50-base-imagenet-ft-cifar100/frac-0.00050-mode-random-seed-2-ftmode-linear-lr-0.1-bs-256-nonrob/epoch=21-layer4.1.act3-topk=1.ckpt\n",
      "layer_name: layer4.1.act3, 2\n"
     ]
    },
    {
     "name": "stdout",
     "output_type": "stream",
     "text": [
      "Loaded cached for /NS/robustness_2/work/vnanda/invariances_in_reps/partially_inverted_reps/checkpoints/resnet50-base-imagenet-ft-cifar100/frac-0.00500-mode-random-seed-1-ftmode-linear-lr-0.1-bs-256-nonrob/epoch=30-layer4.1.act3-topk=1.ckpt\n",
      "Loaded cached for /NS/robustness_2/work/vnanda/invariances_in_reps/partially_inverted_reps/checkpoints/resnet50-base-imagenet-ft-cifar100/frac-0.00500-mode-random-seed-2-ftmode-linear-lr-0.1-bs-256-nonrob/epoch=37-layer4.1.act3-topk=1.ckpt\n",
      "layer_name: layer4.1.act3, 2\n",
      "Loaded cached for /NS/robustness_2/work/vnanda/invariances_in_reps/partially_inverted_reps/checkpoints/resnet50-base-imagenet-ft-cifar100/frac-0.05000-mode-random-seed-1-ftmode-linear-lr-0.1-bs-256-nonrob/epoch=32-layer4.1.act3-topk=1.ckpt\n",
      "Loaded cached for /NS/robustness_2/work/vnanda/invariances_in_reps/partially_inverted_reps/checkpoints/resnet50-base-imagenet-ft-cifar100/frac-0.05000-mode-random-seed-2-ftmode-linear-lr-0.1-bs-256-nonrob/epoch=46-layer4.1.act3-topk=1.ckpt\n",
      "layer_name: layer4.1.act3, 2\n",
      "Loaded cached for /NS/robustness_2/work/vnanda/invariances_in_reps/partially_inverted_reps/checkpoints/resnet50-base-imagenet-ft-cifar100/frac-0.10000-mode-random-seed-2-ftmode-linear-lr-0.1-bs-256-nonrob/epoch=46-layer4.1.act3-topk=1.ckpt\n",
      "Loaded cached for /NS/robustness_2/work/vnanda/invariances_in_reps/partially_inverted_reps/checkpoints/resnet50-base-imagenet-ft-cifar100/frac-0.10000-mode-random-seed-1-ftmode-linear-lr-0.1-bs-256-nonrob/epoch=28-layer4.1.act3-topk=1.ckpt\n",
      "layer_name: layer4.1.act3, 2\n",
      "Loaded cached for /NS/robustness_2/work/vnanda/invariances_in_reps/partially_inverted_reps/checkpoints/resnet50-base-imagenet-ft-cifar100/frac-0.20000-mode-random-seed-2-ftmode-linear-lr-0.1-bs-256-nonrob/epoch=37-layer4.1.act3-topk=1.ckpt\n",
      "Loaded cached for /NS/robustness_2/work/vnanda/invariances_in_reps/partially_inverted_reps/checkpoints/resnet50-base-imagenet-ft-cifar100/frac-0.20000-mode-random-seed-1-ftmode-linear-lr-0.1-bs-256-nonrob/epoch=40-layer4.1.act3-topk=1.ckpt\n",
      "layer_name: layer4.1.act3, 2\n",
      "Loaded cached for /NS/robustness_2/work/vnanda/invariances_in_reps/partially_inverted_reps/checkpoints/resnet50-base-imagenet-ft-cifar100/frac-0.40000-mode-random-seed-2-ftmode-linear-lr-0.1-bs-256-nonrob/epoch=46-layer4.1.act3-topk=1.ckpt\n",
      "Loaded cached for /NS/robustness_2/work/vnanda/invariances_in_reps/partially_inverted_reps/checkpoints/resnet50-base-imagenet-ft-cifar100/frac-0.40000-mode-random-seed-1-ftmode-linear-lr-0.1-bs-256-nonrob/epoch=28-layer4.1.act3-topk=1.ckpt\n",
      "layer_name: layer4.1.act3, 2\n",
      "Loaded cached for /NS/robustness_2/work/vnanda/invariances_in_reps/partially_inverted_reps/checkpoints/resnet50-base-imagenet-ft-cifar100/frac-0.50000-mode-random-seed-1-ftmode-linear-lr-0.1-bs-256-nonrob/epoch=29-layer4.1.act3-topk=1.ckpt\n",
      "Loaded cached for /NS/robustness_2/work/vnanda/invariances_in_reps/partially_inverted_reps/checkpoints/resnet50-base-imagenet-ft-cifar100/frac-0.50000-mode-random-seed-2-ftmode-linear-lr-0.1-bs-256-nonrob/epoch=30-layer4.1.act3-topk=1.ckpt\n",
      "layer_name: layer4.1.act3, 3\n",
      "Loaded cached for /NS/robustness_2/work/vnanda/invariances_in_reps/partially_inverted_reps/checkpoints/resnet50-base-imagenet-ft-cifar100/frac-0.80000-mode-random-seed-2-ftmode-linear-lr-0.1-bs-256-nonrob/epoch=30-layer4.1.act3-topk=1.ckpt\n",
      "Loaded cached for /NS/robustness_2/work/vnanda/invariances_in_reps/partially_inverted_reps/checkpoints/resnet50-base-imagenet-ft-cifar100/frac-0.80000-mode-random-seed-1-ftmode-linear-lr-0.1-bs-256-nonrob/epoch=41-layer4.1.act3-topk=1.ckpt\n",
      "layer_name: layer4.1.act3, 2\n",
      "Loaded cached for /NS/robustness_2/work/vnanda/invariances_in_reps/partially_inverted_reps/checkpoints/resnet50-base-imagenet-ft-cifar100/frac-0.90000-mode-random-seed-4-ftmode-linear-lr-0.1-bs-256-nonrob/epoch=1-layer4.1.act3-topk=1.ckpt\n",
      "Loaded cached for /NS/robustness_2/work/vnanda/invariances_in_reps/partially_inverted_reps/checkpoints/resnet50-base-imagenet-ft-cifar100/frac-0.90000-mode-random-seed-1-ftmode-linear-lr-0.1-bs-256-nonrob/epoch=47-layer4.1.act3-topk=1.ckpt\n",
      "layer_name: layer4.1.act3, 1\n",
      "Loaded cached for /NS/robustness_2/work/vnanda/invariances_in_reps/partially_inverted_reps/checkpoints/resnet50-base-imagenet-ft-cifar100/frac-1.00000-mode-random-seed-2-ftmode-linear-lr-0.1-bs-256-nonrob/epoch=46-layer4.1.act3-topk=1.ckpt\n",
      "layer_name: layer4.2.act3, 1\n",
      "Loaded cached for /NS/robustness_2/work/vnanda/invariances_in_reps/partially_inverted_reps/checkpoints/resnet50-base-imagenet-ft-cifar100/frac-0.00050-mode-random-seed-1-ftmode-linear-lr-0.1-bs-256-nonrob/epoch=24-layer4.2.act3-topk=1.ckpt\n",
      "layer_name: layer4.2.act3, 1\n",
      "Loaded cached for /NS/robustness_2/work/vnanda/invariances_in_reps/partially_inverted_reps/checkpoints/resnet50-base-imagenet-ft-cifar100/frac-0.00500-mode-random-seed-1-ftmode-linear-lr-0.1-bs-256-nonrob/epoch=30-layer4.2.act3-topk=1.ckpt\n",
      "layer_name: layer4.2.act3, 1\n",
      "Loaded cached for /NS/robustness_2/work/vnanda/invariances_in_reps/partially_inverted_reps/checkpoints/resnet50-base-imagenet-ft-cifar100/frac-0.05000-mode-random-seed-1-ftmode-linear-lr-0.1-bs-256-nonrob/epoch=25-layer4.2.act3-topk=1.ckpt\n",
      "layer_name: layer4.2.act3, 1\n",
      "Loaded cached for /NS/robustness_2/work/vnanda/invariances_in_reps/partially_inverted_reps/checkpoints/resnet50-base-imagenet-ft-cifar100/frac-0.10000-mode-random-seed-1-ftmode-linear-lr-0.1-bs-256-nonrob/epoch=30-layer4.2.act3-topk=1.ckpt\n",
      "layer_name: layer4.2.act3, 1\n",
      "Loaded cached for /NS/robustness_2/work/vnanda/invariances_in_reps/partially_inverted_reps/checkpoints/resnet50-base-imagenet-ft-cifar100/frac-0.20000-mode-random-seed-1-ftmode-linear-lr-0.1-bs-256-nonrob/epoch=41-layer4.2.act3-topk=1.ckpt\n",
      "layer_name: layer4.2.act3, 1\n",
      "Loaded cached for /NS/robustness_2/work/vnanda/invariances_in_reps/partially_inverted_reps/checkpoints/resnet50-base-imagenet-ft-cifar100/frac-0.40000-mode-random-seed-1-ftmode-linear-lr-0.1-bs-256-nonrob/epoch=42-layer4.2.act3-topk=1.ckpt\n",
      "layer_name: layer4.2.act3, 1\n",
      "Loaded cached for /NS/robustness_2/work/vnanda/invariances_in_reps/partially_inverted_reps/checkpoints/resnet50-base-imagenet-ft-cifar100/frac-0.50000-mode-random-seed-1-ftmode-linear-lr-0.1-bs-256-nonrob/epoch=47-layer4.2.act3-topk=1.ckpt\n",
      "layer_name: layer4.2.act3, 1\n",
      "Loaded cached for /NS/robustness_2/work/vnanda/invariances_in_reps/partially_inverted_reps/checkpoints/resnet50-base-imagenet-ft-cifar100/frac-0.80000-mode-random-seed-1-ftmode-linear-lr-0.1-bs-256-nonrob/epoch=48-layer4.2.act3-topk=1.ckpt\n",
      "layer_name: layer4.2.act3, 1\n",
      "Loaded cached for /NS/robustness_2/work/vnanda/invariances_in_reps/partially_inverted_reps/checkpoints/resnet50-base-imagenet-ft-cifar100/frac-0.90000-mode-random-seed-1-ftmode-linear-lr-0.1-bs-256-nonrob/epoch=48-layer4.2.act3-topk=1.ckpt\n",
      "layer_name: layer4.2.act3, 1\n",
      "Loaded cached for /NS/robustness_2/work/vnanda/invariances_in_reps/partially_inverted_reps/checkpoints/resnet50-base-imagenet-ft-cifar100/frac-1.00000-mode-random-seed-2-ftmode-linear-lr-0.1-bs-256-nonrob/epoch=46-layer4.2.act3-topk=1.ckpt\n",
      "layer_name: global_pool.pool, 1\n"
     ]
    },
    {
     "name": "stderr",
     "output_type": "stream",
     "text": [
      "Global seed set to 1\n",
      "GPU available: True, used: True\n",
      "TPU available: False, using: 0 TPU cores\n",
      "IPU available: False, using: 0 IPUs\n",
      "Global seed set to 0\n",
      "LOCAL_RANK: 0 - CUDA_VISIBLE_DEVICES: [0,1,2,3,4,5,6,7]\n"
     ]
    },
    {
     "data": {
      "application/vnd.jupyter.widget-view+json": {
       "model_id": "76e60d06d28841e284b67588999211b1",
       "version_major": 2,
       "version_minor": 0
      },
      "text/plain": [
       "Predicting: 0it [00:00, ?it/s]"
      ]
     },
     "metadata": {},
     "output_type": "display_data"
    },
    {
     "name": "stdout",
     "output_type": "stream",
     "text": [
      "layer_name: global_pool.pool, 1\n"
     ]
    },
    {
     "name": "stderr",
     "output_type": "stream",
     "text": [
      "Global seed set to 1\n",
      "GPU available: True, used: True\n",
      "TPU available: False, using: 0 TPU cores\n",
      "IPU available: False, using: 0 IPUs\n",
      "LOCAL_RANK: 0 - CUDA_VISIBLE_DEVICES: [0,1,2,3,4,5,6,7]\n"
     ]
    },
    {
     "data": {
      "application/vnd.jupyter.widget-view+json": {
       "model_id": "a6215747a168459ea4ad5d15eae4c5ae",
       "version_major": 2,
       "version_minor": 0
      },
      "text/plain": [
       "Predicting: 0it [00:00, ?it/s]"
      ]
     },
     "metadata": {},
     "output_type": "display_data"
    },
    {
     "name": "stdout",
     "output_type": "stream",
     "text": [
      "layer_name: global_pool.pool, 1\n"
     ]
    },
    {
     "name": "stderr",
     "output_type": "stream",
     "text": [
      "Global seed set to 1\n",
      "GPU available: True, used: True\n",
      "TPU available: False, using: 0 TPU cores\n",
      "IPU available: False, using: 0 IPUs\n",
      "LOCAL_RANK: 0 - CUDA_VISIBLE_DEVICES: [0,1,2,3,4,5,6,7]\n"
     ]
    },
    {
     "data": {
      "application/vnd.jupyter.widget-view+json": {
       "model_id": "a5f1ab1a25854763877da07a3e5f86e2",
       "version_major": 2,
       "version_minor": 0
      },
      "text/plain": [
       "Predicting: 0it [00:00, ?it/s]"
      ]
     },
     "metadata": {},
     "output_type": "display_data"
    },
    {
     "name": "stdout",
     "output_type": "stream",
     "text": [
      "layer_name: global_pool.pool, 1\n"
     ]
    },
    {
     "name": "stderr",
     "output_type": "stream",
     "text": [
      "Global seed set to 1\n",
      "GPU available: True, used: True\n",
      "TPU available: False, using: 0 TPU cores\n",
      "IPU available: False, using: 0 IPUs\n",
      "LOCAL_RANK: 0 - CUDA_VISIBLE_DEVICES: [0,1,2,3,4,5,6,7]\n"
     ]
    },
    {
     "data": {
      "application/vnd.jupyter.widget-view+json": {
       "model_id": "c1a63689f59949868ced43b99cf66fb3",
       "version_major": 2,
       "version_minor": 0
      },
      "text/plain": [
       "Predicting: 0it [00:00, ?it/s]"
      ]
     },
     "metadata": {},
     "output_type": "display_data"
    },
    {
     "name": "stdout",
     "output_type": "stream",
     "text": [
      "layer_name: global_pool.pool, 1\n"
     ]
    },
    {
     "name": "stderr",
     "output_type": "stream",
     "text": [
      "Global seed set to 1\n",
      "GPU available: True, used: True\n",
      "TPU available: False, using: 0 TPU cores\n",
      "IPU available: False, using: 0 IPUs\n",
      "LOCAL_RANK: 0 - CUDA_VISIBLE_DEVICES: [0,1,2,3,4,5,6,7]\n"
     ]
    },
    {
     "data": {
      "application/vnd.jupyter.widget-view+json": {
       "model_id": "22349c1a99ba45ada0c3818c4ca25c75",
       "version_major": 2,
       "version_minor": 0
      },
      "text/plain": [
       "Predicting: 0it [00:00, ?it/s]"
      ]
     },
     "metadata": {},
     "output_type": "display_data"
    },
    {
     "name": "stdout",
     "output_type": "stream",
     "text": [
      "layer_name: global_pool.pool, 1\n"
     ]
    },
    {
     "name": "stderr",
     "output_type": "stream",
     "text": [
      "Global seed set to 1\n",
      "GPU available: True, used: True\n",
      "TPU available: False, using: 0 TPU cores\n",
      "IPU available: False, using: 0 IPUs\n",
      "LOCAL_RANK: 0 - CUDA_VISIBLE_DEVICES: [0,1,2,3,4,5,6,7]\n"
     ]
    },
    {
     "data": {
      "application/vnd.jupyter.widget-view+json": {
       "model_id": "701cb4e80d534689829a60cc5f624bfb",
       "version_major": 2,
       "version_minor": 0
      },
      "text/plain": [
       "Predicting: 0it [00:00, ?it/s]"
      ]
     },
     "metadata": {},
     "output_type": "display_data"
    },
    {
     "name": "stdout",
     "output_type": "stream",
     "text": [
      "layer_name: global_pool.pool, 1\n"
     ]
    },
    {
     "name": "stderr",
     "output_type": "stream",
     "text": [
      "Global seed set to 1\n",
      "GPU available: True, used: True\n",
      "TPU available: False, using: 0 TPU cores\n",
      "IPU available: False, using: 0 IPUs\n",
      "LOCAL_RANK: 0 - CUDA_VISIBLE_DEVICES: [0,1,2,3,4,5,6,7]\n"
     ]
    },
    {
     "data": {
      "application/vnd.jupyter.widget-view+json": {
       "model_id": "c178b2c0252d4b27b429eed0e7cb42d9",
       "version_major": 2,
       "version_minor": 0
      },
      "text/plain": [
       "Predicting: 0it [00:00, ?it/s]"
      ]
     },
     "metadata": {},
     "output_type": "display_data"
    },
    {
     "name": "stdout",
     "output_type": "stream",
     "text": [
      "layer_name: global_pool.pool, 1\n"
     ]
    },
    {
     "name": "stderr",
     "output_type": "stream",
     "text": [
      "Global seed set to 1\n",
      "GPU available: True, used: True\n",
      "TPU available: False, using: 0 TPU cores\n",
      "IPU available: False, using: 0 IPUs\n",
      "LOCAL_RANK: 0 - CUDA_VISIBLE_DEVICES: [0,1,2,3,4,5,6,7]\n"
     ]
    },
    {
     "data": {
      "application/vnd.jupyter.widget-view+json": {
       "model_id": "40474ad125db46278bce274bf8d407b9",
       "version_major": 2,
       "version_minor": 0
      },
      "text/plain": [
       "Predicting: 0it [00:00, ?it/s]"
      ]
     },
     "metadata": {},
     "output_type": "display_data"
    },
    {
     "name": "stdout",
     "output_type": "stream",
     "text": [
      "layer_name: global_pool.pool, 1\n"
     ]
    },
    {
     "name": "stderr",
     "output_type": "stream",
     "text": [
      "Global seed set to 1\n",
      "GPU available: True, used: True\n",
      "TPU available: False, using: 0 TPU cores\n",
      "IPU available: False, using: 0 IPUs\n",
      "LOCAL_RANK: 0 - CUDA_VISIBLE_DEVICES: [0,1,2,3,4,5,6,7]\n"
     ]
    },
    {
     "data": {
      "application/vnd.jupyter.widget-view+json": {
       "model_id": "8c64e5c28cd2480e9982636cb06fa0a8",
       "version_major": 2,
       "version_minor": 0
      },
      "text/plain": [
       "Predicting: 0it [00:00, ?it/s]"
      ]
     },
     "metadata": {},
     "output_type": "display_data"
    },
    {
     "name": "stdout",
     "output_type": "stream",
     "text": [
      "layer_name: global_pool.pool, 1\n"
     ]
    },
    {
     "name": "stderr",
     "output_type": "stream",
     "text": [
      "Global seed set to 2\n",
      "GPU available: True, used: True\n",
      "TPU available: False, using: 0 TPU cores\n",
      "IPU available: False, using: 0 IPUs\n",
      "LOCAL_RANK: 0 - CUDA_VISIBLE_DEVICES: [0,1,2,3,4,5,6,7]\n"
     ]
    },
    {
     "data": {
      "application/vnd.jupyter.widget-view+json": {
       "model_id": "0d31193873da4bef8646be3521e573b1",
       "version_major": 2,
       "version_minor": 0
      },
      "text/plain": [
       "Predicting: 0it [00:00, ?it/s]"
      ]
     },
     "metadata": {},
     "output_type": "display_data"
    },
    {
     "name": "stderr",
     "output_type": "stream",
     "text": [
      "Global seed set to 2\n"
     ]
    },
    {
     "name": "stdout",
     "output_type": "stream",
     "text": [
      "['layer1.0.act3', 'layer1.1.act3', 'layer1.2.act3', 'layer2.0.act3', 'layer2.1.act3', 'layer2.2.act3', 'layer2.3.act3', 'layer3.0.act3', 'layer3.1.act3', 'layer3.2.act3', 'layer3.3.act3', 'layer3.4.act3', 'layer3.5.act3', 'layer4.0.act3', 'layer4.1.act3', 'layer4.2.act3', 'global_pool.pool']\n",
      "layer_name: layer1.0.act3, 5\n",
      "Loaded cached for /NS/robustness_2/work/vnanda/invariances_in_reps/partially_inverted_reps/checkpoints/resnet50-base-imagenet-ft-flowers/frac-0.00050-mode-random-seed-2-ftmode-linear-lr-0.1-bs-256-nonrob/epoch=25-layer1.0.act3-topk=1.ckpt\n",
      "Loaded cached for /NS/robustness_2/work/vnanda/invariances_in_reps/partially_inverted_reps/checkpoints/resnet50-base-imagenet-ft-flowers/frac-0.00050-mode-random-seed-5-ftmode-linear-lr-0.1-bs-256-nonrob/epoch=39-layer1.0.act3-topk=1.ckpt\n",
      "layer_name: layer1.0.act3, 5\n",
      "Loaded cached for /NS/robustness_2/work/vnanda/invariances_in_reps/partially_inverted_reps/checkpoints/resnet50-base-imagenet-ft-flowers/frac-0.00500-mode-random-seed-4-ftmode-linear-lr-0.1-bs-256-nonrob/epoch=46-layer1.0.act3-topk=1.ckpt\n",
      "Loaded cached for /NS/robustness_2/work/vnanda/invariances_in_reps/partially_inverted_reps/checkpoints/resnet50-base-imagenet-ft-flowers/frac-0.00500-mode-random-seed-3-ftmode-linear-lr-0.1-bs-256-nonrob/epoch=44-layer1.0.act3-topk=1.ckpt\n",
      "layer_name: layer1.0.act3, 5\n",
      "Loaded cached for /NS/robustness_2/work/vnanda/invariances_in_reps/partially_inverted_reps/checkpoints/resnet50-base-imagenet-ft-flowers/frac-0.05000-mode-random-seed-5-ftmode-linear-lr-0.1-bs-256-nonrob/epoch=49-layer1.0.act3-topk=1.ckpt\n",
      "Loaded cached for /NS/robustness_2/work/vnanda/invariances_in_reps/partially_inverted_reps/checkpoints/resnet50-base-imagenet-ft-flowers/frac-0.05000-mode-random-seed-2-ftmode-linear-lr-0.1-bs-256-nonrob/epoch=48-layer1.0.act3-topk=1.ckpt\n",
      "layer_name: layer1.0.act3, 5\n",
      "Loaded cached for /NS/robustness_2/work/vnanda/invariances_in_reps/partially_inverted_reps/checkpoints/resnet50-base-imagenet-ft-flowers/frac-0.10000-mode-random-seed-3-ftmode-linear-lr-0.1-bs-256-nonrob/epoch=49-layer1.0.act3-topk=1.ckpt\n",
      "Loaded cached for /NS/robustness_2/work/vnanda/invariances_in_reps/partially_inverted_reps/checkpoints/resnet50-base-imagenet-ft-flowers/frac-0.10000-mode-random-seed-4-ftmode-linear-lr-0.1-bs-256-nonrob/epoch=42-layer1.0.act3-topk=1.ckpt\n",
      "layer_name: layer1.0.act3, 5\n",
      "Loaded cached for /NS/robustness_2/work/vnanda/invariances_in_reps/partially_inverted_reps/checkpoints/resnet50-base-imagenet-ft-flowers/frac-0.20000-mode-random-seed-1-ftmode-linear-lr-0.1-bs-256-nonrob/epoch=43-layer1.0.act3-topk=1.ckpt\n",
      "Loaded cached for /NS/robustness_2/work/vnanda/invariances_in_reps/partially_inverted_reps/checkpoints/resnet50-base-imagenet-ft-flowers/frac-0.20000-mode-random-seed-5-ftmode-linear-lr-0.1-bs-256-nonrob/epoch=41-layer1.0.act3-topk=1.ckpt\n",
      "layer_name: layer1.0.act3, 5\n",
      "Loaded cached for /NS/robustness_2/work/vnanda/invariances_in_reps/partially_inverted_reps/checkpoints/resnet50-base-imagenet-ft-flowers/frac-0.40000-mode-random-seed-3-ftmode-linear-lr-0.1-bs-256-nonrob/epoch=41-layer1.0.act3-topk=1.ckpt\n",
      "Loaded cached for /NS/robustness_2/work/vnanda/invariances_in_reps/partially_inverted_reps/checkpoints/resnet50-base-imagenet-ft-flowers/frac-0.40000-mode-random-seed-4-ftmode-linear-lr-0.1-bs-256-nonrob/epoch=38-layer1.0.act3-topk=1.ckpt\n",
      "layer_name: layer1.0.act3, 5\n",
      "Loaded cached for /NS/robustness_2/work/vnanda/invariances_in_reps/partially_inverted_reps/checkpoints/resnet50-base-imagenet-ft-flowers/frac-0.50000-mode-random-seed-2-ftmode-linear-lr-0.1-bs-256-nonrob/epoch=48-layer1.0.act3-topk=1.ckpt\n",
      "Loaded cached for /NS/robustness_2/work/vnanda/invariances_in_reps/partially_inverted_reps/checkpoints/resnet50-base-imagenet-ft-flowers/frac-0.50000-mode-random-seed-5-ftmode-linear-lr-0.1-bs-256-nonrob/epoch=42-layer1.0.act3-topk=1.ckpt\n",
      "layer_name: layer1.0.act3, 5\n",
      "Loaded cached for /NS/robustness_2/work/vnanda/invariances_in_reps/partially_inverted_reps/checkpoints/resnet50-base-imagenet-ft-flowers/frac-0.80000-mode-random-seed-1-ftmode-linear-lr-0.1-bs-256-nonrob/epoch=44-layer1.0.act3-topk=1.ckpt\n",
      "Loaded cached for /NS/robustness_2/work/vnanda/invariances_in_reps/partially_inverted_reps/checkpoints/resnet50-base-imagenet-ft-flowers/frac-0.80000-mode-random-seed-5-ftmode-linear-lr-0.1-bs-256-nonrob/epoch=49-layer1.0.act3-topk=1.ckpt\n",
      "layer_name: layer1.0.act3, 5\n",
      "Loaded cached for /NS/robustness_2/work/vnanda/invariances_in_reps/partially_inverted_reps/checkpoints/resnet50-base-imagenet-ft-flowers/frac-0.90000-mode-random-seed-4-ftmode-linear-lr-0.1-bs-256-nonrob/epoch=41-layer1.0.act3-topk=1.ckpt\n",
      "Loaded cached for /NS/robustness_2/work/vnanda/invariances_in_reps/partially_inverted_reps/checkpoints/resnet50-base-imagenet-ft-flowers/frac-0.90000-mode-random-seed-3-ftmode-linear-lr-0.1-bs-256-nonrob/epoch=47-layer1.0.act3-topk=1.ckpt\n",
      "layer_name: layer1.0.act3, 1\n",
      "Loaded cached for /NS/robustness_2/work/vnanda/invariances_in_reps/partially_inverted_reps/checkpoints/resnet50-base-imagenet-ft-flowers/frac-1.00000-mode-random-seed-2-ftmode-linear-lr-0.1-bs-256-nonrob/epoch=49-layer1.0.act3-topk=1.ckpt\n",
      "layer_name: layer1.1.act3, 6\n"
     ]
    },
    {
     "name": "stderr",
     "output_type": "stream",
     "text": [
      "Global seed set to 2\n",
      "GPU available: True, used: True\n",
      "TPU available: False, using: 0 TPU cores\n",
      "IPU available: False, using: 0 IPUs\n",
      "Global seed set to 0\n",
      "LOCAL_RANK: 0 - CUDA_VISIBLE_DEVICES: [0,1,2,3,4,5,6,7]\n"
     ]
    },
    {
     "data": {
      "application/vnd.jupyter.widget-view+json": {
       "model_id": "325fcf4630a748c5a86cfac1794c5e33",
       "version_major": 2,
       "version_minor": 0
      },
      "text/plain": [
       "Predicting: 0it [00:00, ?it/s]"
      ]
     },
     "metadata": {},
     "output_type": "display_data"
    },
    {
     "name": "stderr",
     "output_type": "stream",
     "text": [
      "Global seed set to 2\n",
      "GPU available: True, used: True\n",
      "TPU available: False, using: 0 TPU cores\n",
      "IPU available: False, using: 0 IPUs\n",
      "LOCAL_RANK: 0 - CUDA_VISIBLE_DEVICES: [0,1,2,3,4,5,6,7]\n"
     ]
    },
    {
     "data": {
      "application/vnd.jupyter.widget-view+json": {
       "model_id": "182f3e455fd54e5cb2bbc4c85fdf9b26",
       "version_major": 2,
       "version_minor": 0
      },
      "text/plain": [
       "Predicting: 0it [00:00, ?it/s]"
      ]
     },
     "metadata": {},
     "output_type": "display_data"
    },
    {
     "name": "stdout",
     "output_type": "stream",
     "text": [
      "layer_name: layer1.1.act3, 7\n"
     ]
    },
    {
     "name": "stderr",
     "output_type": "stream",
     "text": [
      "Global seed set to 4\n",
      "GPU available: True, used: True\n",
      "TPU available: False, using: 0 TPU cores\n",
      "IPU available: False, using: 0 IPUs\n",
      "LOCAL_RANK: 0 - CUDA_VISIBLE_DEVICES: [0,1,2,3,4,5,6,7]\n"
     ]
    },
    {
     "data": {
      "application/vnd.jupyter.widget-view+json": {
       "model_id": "46284d514a9c456f9c8956a6578c4c02",
       "version_major": 2,
       "version_minor": 0
      },
      "text/plain": [
       "Predicting: 0it [00:00, ?it/s]"
      ]
     },
     "metadata": {},
     "output_type": "display_data"
    },
    {
     "name": "stderr",
     "output_type": "stream",
     "text": [
      "Global seed set to 3\n",
      "GPU available: True, used: True\n",
      "TPU available: False, using: 0 TPU cores\n",
      "IPU available: False, using: 0 IPUs\n",
      "LOCAL_RANK: 0 - CUDA_VISIBLE_DEVICES: [0,1,2,3,4,5,6,7]\n"
     ]
    },
    {
     "data": {
      "application/vnd.jupyter.widget-view+json": {
       "model_id": "cb98cedb9266415ba08a636b2e175514",
       "version_major": 2,
       "version_minor": 0
      },
      "text/plain": [
       "Predicting: 0it [00:00, ?it/s]"
      ]
     },
     "metadata": {},
     "output_type": "display_data"
    },
    {
     "name": "stdout",
     "output_type": "stream",
     "text": [
      "layer_name: layer1.1.act3, 6\n"
     ]
    },
    {
     "name": "stderr",
     "output_type": "stream",
     "text": [
      "Global seed set to 5\n",
      "GPU available: True, used: True\n",
      "TPU available: False, using: 0 TPU cores\n",
      "IPU available: False, using: 0 IPUs\n",
      "LOCAL_RANK: 0 - CUDA_VISIBLE_DEVICES: [0,1,2,3,4,5,6,7]\n"
     ]
    },
    {
     "data": {
      "application/vnd.jupyter.widget-view+json": {
       "model_id": "3c10c373638548dab39a4c161be3ad9f",
       "version_major": 2,
       "version_minor": 0
      },
      "text/plain": [
       "Predicting: 0it [00:00, ?it/s]"
      ]
     },
     "metadata": {},
     "output_type": "display_data"
    },
    {
     "name": "stderr",
     "output_type": "stream",
     "text": [
      "Global seed set to 2\n",
      "GPU available: True, used: True\n",
      "TPU available: False, using: 0 TPU cores\n",
      "IPU available: False, using: 0 IPUs\n",
      "LOCAL_RANK: 0 - CUDA_VISIBLE_DEVICES: [0,1,2,3,4,5,6,7]\n"
     ]
    },
    {
     "data": {
      "application/vnd.jupyter.widget-view+json": {
       "model_id": "0c6952b2bfff451cb7836689f6228287",
       "version_major": 2,
       "version_minor": 0
      },
      "text/plain": [
       "Predicting: 0it [00:00, ?it/s]"
      ]
     },
     "metadata": {},
     "output_type": "display_data"
    },
    {
     "name": "stdout",
     "output_type": "stream",
     "text": [
      "layer_name: layer1.1.act3, 5\n"
     ]
    },
    {
     "name": "stderr",
     "output_type": "stream",
     "text": [
      "Global seed set to 3\n",
      "GPU available: True, used: True\n",
      "TPU available: False, using: 0 TPU cores\n",
      "IPU available: False, using: 0 IPUs\n",
      "LOCAL_RANK: 0 - CUDA_VISIBLE_DEVICES: [0,1,2,3,4,5,6,7]\n"
     ]
    },
    {
     "data": {
      "application/vnd.jupyter.widget-view+json": {
       "model_id": "219c74d02bcd4c918a7295306fb989d0",
       "version_major": 2,
       "version_minor": 0
      },
      "text/plain": [
       "Predicting: 0it [00:00, ?it/s]"
      ]
     },
     "metadata": {},
     "output_type": "display_data"
    },
    {
     "name": "stderr",
     "output_type": "stream",
     "text": [
      "Global seed set to 4\n",
      "GPU available: True, used: True\n",
      "TPU available: False, using: 0 TPU cores\n",
      "IPU available: False, using: 0 IPUs\n",
      "LOCAL_RANK: 0 - CUDA_VISIBLE_DEVICES: [0,1,2,3,4,5,6,7]\n"
     ]
    },
    {
     "data": {
      "application/vnd.jupyter.widget-view+json": {
       "model_id": "9b4b2b9779af487ca598987b8b9a24a1",
       "version_major": 2,
       "version_minor": 0
      },
      "text/plain": [
       "Predicting: 0it [00:00, ?it/s]"
      ]
     },
     "metadata": {},
     "output_type": "display_data"
    },
    {
     "name": "stdout",
     "output_type": "stream",
     "text": [
      "layer_name: layer1.1.act3, 6\n"
     ]
    },
    {
     "name": "stderr",
     "output_type": "stream",
     "text": [
      "Global seed set to 1\n",
      "GPU available: True, used: True\n",
      "TPU available: False, using: 0 TPU cores\n",
      "IPU available: False, using: 0 IPUs\n",
      "LOCAL_RANK: 0 - CUDA_VISIBLE_DEVICES: [0,1,2,3,4,5,6,7]\n"
     ]
    },
    {
     "data": {
      "application/vnd.jupyter.widget-view+json": {
       "model_id": "6f767032525740cda2c37913881b171e",
       "version_major": 2,
       "version_minor": 0
      },
      "text/plain": [
       "Predicting: 0it [00:00, ?it/s]"
      ]
     },
     "metadata": {},
     "output_type": "display_data"
    },
    {
     "name": "stderr",
     "output_type": "stream",
     "text": [
      "Global seed set to 5\n",
      "GPU available: True, used: True\n",
      "TPU available: False, using: 0 TPU cores\n",
      "IPU available: False, using: 0 IPUs\n",
      "LOCAL_RANK: 0 - CUDA_VISIBLE_DEVICES: [0,1,2,3,4,5,6,7]\n"
     ]
    },
    {
     "data": {
      "application/vnd.jupyter.widget-view+json": {
       "model_id": "7d161ec5e1ad4cad8ff1ca48db5f4678",
       "version_major": 2,
       "version_minor": 0
      },
      "text/plain": [
       "Predicting: 0it [00:00, ?it/s]"
      ]
     },
     "metadata": {},
     "output_type": "display_data"
    },
    {
     "name": "stdout",
     "output_type": "stream",
     "text": [
      "layer_name: layer1.1.act3, 7\n"
     ]
    },
    {
     "name": "stderr",
     "output_type": "stream",
     "text": [
      "Global seed set to 3\n",
      "GPU available: True, used: True\n",
      "TPU available: False, using: 0 TPU cores\n",
      "IPU available: False, using: 0 IPUs\n",
      "LOCAL_RANK: 0 - CUDA_VISIBLE_DEVICES: [0,1,2,3,4,5,6,7]\n"
     ]
    },
    {
     "data": {
      "application/vnd.jupyter.widget-view+json": {
       "model_id": "77d9aed9fc26459780249a6ef152a737",
       "version_major": 2,
       "version_minor": 0
      },
      "text/plain": [
       "Predicting: 0it [00:00, ?it/s]"
      ]
     },
     "metadata": {},
     "output_type": "display_data"
    },
    {
     "name": "stderr",
     "output_type": "stream",
     "text": [
      "Global seed set to 3\n",
      "GPU available: True, used: True\n",
      "TPU available: False, using: 0 TPU cores\n",
      "IPU available: False, using: 0 IPUs\n",
      "LOCAL_RANK: 0 - CUDA_VISIBLE_DEVICES: [0,1,2,3,4,5,6,7]\n"
     ]
    },
    {
     "data": {
      "application/vnd.jupyter.widget-view+json": {
       "model_id": "860833c2acf04eeda041b159cfc29612",
       "version_major": 2,
       "version_minor": 0
      },
      "text/plain": [
       "Predicting: 0it [00:00, ?it/s]"
      ]
     },
     "metadata": {},
     "output_type": "display_data"
    },
    {
     "name": "stdout",
     "output_type": "stream",
     "text": [
      "layer_name: layer1.1.act3, 6\n"
     ]
    },
    {
     "name": "stderr",
     "output_type": "stream",
     "text": [
      "Global seed set to 2\n",
      "GPU available: True, used: True\n",
      "TPU available: False, using: 0 TPU cores\n",
      "IPU available: False, using: 0 IPUs\n",
      "LOCAL_RANK: 0 - CUDA_VISIBLE_DEVICES: [0,1,2,3,4,5,6,7]\n"
     ]
    },
    {
     "data": {
      "application/vnd.jupyter.widget-view+json": {
       "model_id": "2f4ddd735f1c461ca4a5f8cd2544b394",
       "version_major": 2,
       "version_minor": 0
      },
      "text/plain": [
       "Predicting: 0it [00:00, ?it/s]"
      ]
     },
     "metadata": {},
     "output_type": "display_data"
    },
    {
     "name": "stderr",
     "output_type": "stream",
     "text": [
      "Global seed set to 5\n",
      "GPU available: True, used: True\n",
      "TPU available: False, using: 0 TPU cores\n",
      "IPU available: False, using: 0 IPUs\n",
      "LOCAL_RANK: 0 - CUDA_VISIBLE_DEVICES: [0,1,2,3,4,5,6,7]\n"
     ]
    },
    {
     "data": {
      "application/vnd.jupyter.widget-view+json": {
       "model_id": "056f774951d34039b6297c3dcee5a1d7",
       "version_major": 2,
       "version_minor": 0
      },
      "text/plain": [
       "Predicting: 0it [00:00, ?it/s]"
      ]
     },
     "metadata": {},
     "output_type": "display_data"
    },
    {
     "name": "stdout",
     "output_type": "stream",
     "text": [
      "layer_name: layer1.1.act3, 6\n"
     ]
    },
    {
     "name": "stderr",
     "output_type": "stream",
     "text": [
      "Global seed set to 1\n",
      "GPU available: True, used: True\n",
      "TPU available: False, using: 0 TPU cores\n",
      "IPU available: False, using: 0 IPUs\n",
      "LOCAL_RANK: 0 - CUDA_VISIBLE_DEVICES: [0,1,2,3,4,5,6,7]\n"
     ]
    },
    {
     "data": {
      "application/vnd.jupyter.widget-view+json": {
       "model_id": "a2e21f7f0da94c778d082e2c39877b65",
       "version_major": 2,
       "version_minor": 0
      },
      "text/plain": [
       "Predicting: 0it [00:00, ?it/s]"
      ]
     },
     "metadata": {},
     "output_type": "display_data"
    },
    {
     "name": "stderr",
     "output_type": "stream",
     "text": [
      "Global seed set to 1\n",
      "GPU available: True, used: True\n",
      "TPU available: False, using: 0 TPU cores\n",
      "IPU available: False, using: 0 IPUs\n",
      "LOCAL_RANK: 0 - CUDA_VISIBLE_DEVICES: [0,1,2,3,4,5,6,7]\n"
     ]
    },
    {
     "data": {
      "application/vnd.jupyter.widget-view+json": {
       "model_id": "a36cca9eaa15414e9b5b3d50b1904c1a",
       "version_major": 2,
       "version_minor": 0
      },
      "text/plain": [
       "Predicting: 0it [00:00, ?it/s]"
      ]
     },
     "metadata": {},
     "output_type": "display_data"
    },
    {
     "name": "stdout",
     "output_type": "stream",
     "text": [
      "layer_name: layer1.1.act3, 5\n"
     ]
    },
    {
     "name": "stderr",
     "output_type": "stream",
     "text": [
      "Global seed set to 4\n",
      "GPU available: True, used: True\n",
      "TPU available: False, using: 0 TPU cores\n",
      "IPU available: False, using: 0 IPUs\n",
      "LOCAL_RANK: 0 - CUDA_VISIBLE_DEVICES: [0,1,2,3,4,5,6,7]\n"
     ]
    },
    {
     "data": {
      "application/vnd.jupyter.widget-view+json": {
       "model_id": "84a63a7098d3403594d4fe7567053838",
       "version_major": 2,
       "version_minor": 0
      },
      "text/plain": [
       "Predicting: 0it [00:00, ?it/s]"
      ]
     },
     "metadata": {},
     "output_type": "display_data"
    },
    {
     "name": "stderr",
     "output_type": "stream",
     "text": [
      "Global seed set to 3\n",
      "GPU available: True, used: True\n",
      "TPU available: False, using: 0 TPU cores\n",
      "IPU available: False, using: 0 IPUs\n",
      "LOCAL_RANK: 0 - CUDA_VISIBLE_DEVICES: [0,1,2,3,4,5,6,7]\n"
     ]
    },
    {
     "data": {
      "application/vnd.jupyter.widget-view+json": {
       "model_id": "27e758deaf3743f3a3eae0e1c40c5198",
       "version_major": 2,
       "version_minor": 0
      },
      "text/plain": [
       "Predicting: 0it [00:00, ?it/s]"
      ]
     },
     "metadata": {},
     "output_type": "display_data"
    },
    {
     "name": "stdout",
     "output_type": "stream",
     "text": [
      "layer_name: layer1.1.act3, 1\n"
     ]
    },
    {
     "name": "stderr",
     "output_type": "stream",
     "text": [
      "Global seed set to 2\n",
      "GPU available: True, used: True\n",
      "TPU available: False, using: 0 TPU cores\n",
      "IPU available: False, using: 0 IPUs\n",
      "LOCAL_RANK: 0 - CUDA_VISIBLE_DEVICES: [0,1,2,3,4,5,6,7]\n"
     ]
    },
    {
     "data": {
      "application/vnd.jupyter.widget-view+json": {
       "model_id": "114386e5742144de9354333d09b54f8c",
       "version_major": 2,
       "version_minor": 0
      },
      "text/plain": [
       "Predicting: 0it [00:00, ?it/s]"
      ]
     },
     "metadata": {},
     "output_type": "display_data"
    },
    {
     "name": "stdout",
     "output_type": "stream",
     "text": [
      "layer_name: layer1.2.act3, 3\n"
     ]
    },
    {
     "name": "stderr",
     "output_type": "stream",
     "text": [
      "Global seed set to 2\n",
      "GPU available: True, used: True\n",
      "TPU available: False, using: 0 TPU cores\n",
      "IPU available: False, using: 0 IPUs\n",
      "LOCAL_RANK: 0 - CUDA_VISIBLE_DEVICES: [0,1,2,3,4,5,6,7]\n"
     ]
    },
    {
     "data": {
      "application/vnd.jupyter.widget-view+json": {
       "model_id": "146da64ee048477b86d25907c42c4cd4",
       "version_major": 2,
       "version_minor": 0
      },
      "text/plain": [
       "Predicting: 0it [00:00, ?it/s]"
      ]
     },
     "metadata": {},
     "output_type": "display_data"
    },
    {
     "name": "stderr",
     "output_type": "stream",
     "text": [
      "Global seed set to 1\n",
      "GPU available: True, used: True\n",
      "TPU available: False, using: 0 TPU cores\n",
      "IPU available: False, using: 0 IPUs\n",
      "LOCAL_RANK: 0 - CUDA_VISIBLE_DEVICES: [0,1,2,3,4,5,6,7]\n"
     ]
    },
    {
     "data": {
      "application/vnd.jupyter.widget-view+json": {
       "model_id": "a50329f7b9034800b4da5cabf92b28ba",
       "version_major": 2,
       "version_minor": 0
      },
      "text/plain": [
       "Predicting: 0it [00:00, ?it/s]"
      ]
     },
     "metadata": {},
     "output_type": "display_data"
    },
    {
     "name": "stdout",
     "output_type": "stream",
     "text": [
      "layer_name: layer1.2.act3, 3\n"
     ]
    },
    {
     "name": "stderr",
     "output_type": "stream",
     "text": [
      "Global seed set to 3\n",
      "GPU available: True, used: True\n",
      "TPU available: False, using: 0 TPU cores\n",
      "IPU available: False, using: 0 IPUs\n",
      "LOCAL_RANK: 0 - CUDA_VISIBLE_DEVICES: [0,1,2,3,4,5,6,7]\n"
     ]
    },
    {
     "data": {
      "application/vnd.jupyter.widget-view+json": {
       "model_id": "42277e36feff485f990d131185db5222",
       "version_major": 2,
       "version_minor": 0
      },
      "text/plain": [
       "Predicting: 0it [00:00, ?it/s]"
      ]
     },
     "metadata": {},
     "output_type": "display_data"
    },
    {
     "name": "stderr",
     "output_type": "stream",
     "text": [
      "Global seed set to 2\n",
      "GPU available: True, used: True\n",
      "TPU available: False, using: 0 TPU cores\n",
      "IPU available: False, using: 0 IPUs\n",
      "LOCAL_RANK: 0 - CUDA_VISIBLE_DEVICES: [0,1,2,3,4,5,6,7]\n"
     ]
    },
    {
     "data": {
      "application/vnd.jupyter.widget-view+json": {
       "model_id": "55297868ffc549508d49c2048eb29190",
       "version_major": 2,
       "version_minor": 0
      },
      "text/plain": [
       "Predicting: 0it [00:00, ?it/s]"
      ]
     },
     "metadata": {},
     "output_type": "display_data"
    },
    {
     "name": "stdout",
     "output_type": "stream",
     "text": [
      "layer_name: layer1.2.act3, 3\n"
     ]
    },
    {
     "name": "stderr",
     "output_type": "stream",
     "text": [
      "Global seed set to 2\n",
      "GPU available: True, used: True\n",
      "TPU available: False, using: 0 TPU cores\n",
      "IPU available: False, using: 0 IPUs\n",
      "LOCAL_RANK: 0 - CUDA_VISIBLE_DEVICES: [0,1,2,3,4,5,6,7]\n"
     ]
    },
    {
     "data": {
      "application/vnd.jupyter.widget-view+json": {
       "model_id": "600d6ff02bf74e4684fcc7bddfa8eda4",
       "version_major": 2,
       "version_minor": 0
      },
      "text/plain": [
       "Predicting: 0it [00:00, ?it/s]"
      ]
     },
     "metadata": {},
     "output_type": "display_data"
    },
    {
     "name": "stderr",
     "output_type": "stream",
     "text": [
      "Global seed set to 1\n",
      "GPU available: True, used: True\n",
      "TPU available: False, using: 0 TPU cores\n",
      "IPU available: False, using: 0 IPUs\n",
      "LOCAL_RANK: 0 - CUDA_VISIBLE_DEVICES: [0,1,2,3,4,5,6,7]\n"
     ]
    },
    {
     "data": {
      "application/vnd.jupyter.widget-view+json": {
       "model_id": "c3efad93a4ad4432a121ad3f5970cec6",
       "version_major": 2,
       "version_minor": 0
      },
      "text/plain": [
       "Predicting: 0it [00:00, ?it/s]"
      ]
     },
     "metadata": {},
     "output_type": "display_data"
    },
    {
     "name": "stdout",
     "output_type": "stream",
     "text": [
      "layer_name: layer1.2.act3, 3\n"
     ]
    },
    {
     "name": "stderr",
     "output_type": "stream",
     "text": [
      "Global seed set to 3\n",
      "GPU available: True, used: True\n",
      "TPU available: False, using: 0 TPU cores\n",
      "IPU available: False, using: 0 IPUs\n",
      "LOCAL_RANK: 0 - CUDA_VISIBLE_DEVICES: [0,1,2,3,4,5,6,7]\n"
     ]
    },
    {
     "data": {
      "application/vnd.jupyter.widget-view+json": {
       "model_id": "68b316992fb345d398e2ebf23c2bccfc",
       "version_major": 2,
       "version_minor": 0
      },
      "text/plain": [
       "Predicting: 0it [00:00, ?it/s]"
      ]
     },
     "metadata": {},
     "output_type": "display_data"
    },
    {
     "name": "stderr",
     "output_type": "stream",
     "text": [
      "Global seed set to 1\n",
      "GPU available: True, used: True\n",
      "TPU available: False, using: 0 TPU cores\n",
      "IPU available: False, using: 0 IPUs\n",
      "LOCAL_RANK: 0 - CUDA_VISIBLE_DEVICES: [0,1,2,3,4,5,6,7]\n"
     ]
    },
    {
     "data": {
      "application/vnd.jupyter.widget-view+json": {
       "model_id": "e55af274a1e744068fa7b7edcdce3216",
       "version_major": 2,
       "version_minor": 0
      },
      "text/plain": [
       "Predicting: 0it [00:00, ?it/s]"
      ]
     },
     "metadata": {},
     "output_type": "display_data"
    },
    {
     "name": "stdout",
     "output_type": "stream",
     "text": [
      "layer_name: layer1.2.act3, 4\n"
     ]
    },
    {
     "name": "stderr",
     "output_type": "stream",
     "text": [
      "Global seed set to 1\n",
      "GPU available: True, used: True\n",
      "TPU available: False, using: 0 TPU cores\n",
      "IPU available: False, using: 0 IPUs\n",
      "LOCAL_RANK: 0 - CUDA_VISIBLE_DEVICES: [0,1,2,3,4,5,6,7]\n"
     ]
    },
    {
     "data": {
      "application/vnd.jupyter.widget-view+json": {
       "model_id": "4554024a332840eb87feb52a7f0277be",
       "version_major": 2,
       "version_minor": 0
      },
      "text/plain": [
       "Predicting: 0it [00:00, ?it/s]"
      ]
     },
     "metadata": {},
     "output_type": "display_data"
    },
    {
     "name": "stderr",
     "output_type": "stream",
     "text": [
      "Global seed set to 1\n",
      "GPU available: True, used: True\n",
      "TPU available: False, using: 0 TPU cores\n",
      "IPU available: False, using: 0 IPUs\n",
      "LOCAL_RANK: 0 - CUDA_VISIBLE_DEVICES: [0,1,2,3,4,5,6,7]\n"
     ]
    },
    {
     "data": {
      "application/vnd.jupyter.widget-view+json": {
       "model_id": "56c197874daf455ba696e6df08cda388",
       "version_major": 2,
       "version_minor": 0
      },
      "text/plain": [
       "Predicting: 0it [00:00, ?it/s]"
      ]
     },
     "metadata": {},
     "output_type": "display_data"
    },
    {
     "name": "stdout",
     "output_type": "stream",
     "text": [
      "layer_name: layer1.2.act3, 3\n"
     ]
    },
    {
     "name": "stderr",
     "output_type": "stream",
     "text": [
      "Global seed set to 3\n",
      "GPU available: True, used: True\n",
      "TPU available: False, using: 0 TPU cores\n",
      "IPU available: False, using: 0 IPUs\n",
      "LOCAL_RANK: 0 - CUDA_VISIBLE_DEVICES: [0,1,2,3,4,5,6,7]\n"
     ]
    },
    {
     "data": {
      "application/vnd.jupyter.widget-view+json": {
       "model_id": "9040d33829004bca9b57fb0e2d0a7532",
       "version_major": 2,
       "version_minor": 0
      },
      "text/plain": [
       "Predicting: 0it [00:00, ?it/s]"
      ]
     },
     "metadata": {},
     "output_type": "display_data"
    },
    {
     "name": "stderr",
     "output_type": "stream",
     "text": [
      "Global seed set to 1\n",
      "GPU available: True, used: True\n",
      "TPU available: False, using: 0 TPU cores\n",
      "IPU available: False, using: 0 IPUs\n",
      "LOCAL_RANK: 0 - CUDA_VISIBLE_DEVICES: [0,1,2,3,4,5,6,7]\n"
     ]
    },
    {
     "data": {
      "application/vnd.jupyter.widget-view+json": {
       "model_id": "8acd8ab5aad943ba80af6bf7dda905b3",
       "version_major": 2,
       "version_minor": 0
      },
      "text/plain": [
       "Predicting: 0it [00:00, ?it/s]"
      ]
     },
     "metadata": {},
     "output_type": "display_data"
    },
    {
     "name": "stdout",
     "output_type": "stream",
     "text": [
      "layer_name: layer1.2.act3, 3\n"
     ]
    },
    {
     "name": "stderr",
     "output_type": "stream",
     "text": [
      "Global seed set to 2\n",
      "GPU available: True, used: True\n",
      "TPU available: False, using: 0 TPU cores\n",
      "IPU available: False, using: 0 IPUs\n",
      "LOCAL_RANK: 0 - CUDA_VISIBLE_DEVICES: [0,1,2,3,4,5,6,7]\n"
     ]
    },
    {
     "data": {
      "application/vnd.jupyter.widget-view+json": {
       "model_id": "ee626af9b85e4c1cb821b373e3939a37",
       "version_major": 2,
       "version_minor": 0
      },
      "text/plain": [
       "Predicting: 0it [00:00, ?it/s]"
      ]
     },
     "metadata": {},
     "output_type": "display_data"
    },
    {
     "name": "stderr",
     "output_type": "stream",
     "text": [
      "Global seed set to 1\n",
      "GPU available: True, used: True\n",
      "TPU available: False, using: 0 TPU cores\n",
      "IPU available: False, using: 0 IPUs\n",
      "LOCAL_RANK: 0 - CUDA_VISIBLE_DEVICES: [0,1,2,3,4,5,6,7]\n"
     ]
    },
    {
     "data": {
      "application/vnd.jupyter.widget-view+json": {
       "model_id": "f61853c27be748e28c0318016321b918",
       "version_major": 2,
       "version_minor": 0
      },
      "text/plain": [
       "Predicting: 0it [00:00, ?it/s]"
      ]
     },
     "metadata": {},
     "output_type": "display_data"
    },
    {
     "name": "stdout",
     "output_type": "stream",
     "text": [
      "layer_name: layer1.2.act3, 3\n"
     ]
    },
    {
     "name": "stderr",
     "output_type": "stream",
     "text": [
      "Global seed set to 1\n",
      "GPU available: True, used: True\n",
      "TPU available: False, using: 0 TPU cores\n",
      "IPU available: False, using: 0 IPUs\n",
      "LOCAL_RANK: 0 - CUDA_VISIBLE_DEVICES: [0,1,2,3,4,5,6,7]\n"
     ]
    },
    {
     "data": {
      "application/vnd.jupyter.widget-view+json": {
       "model_id": "231b54d7950d40189d076ceebe4147d7",
       "version_major": 2,
       "version_minor": 0
      },
      "text/plain": [
       "Predicting: 0it [00:00, ?it/s]"
      ]
     },
     "metadata": {},
     "output_type": "display_data"
    },
    {
     "name": "stderr",
     "output_type": "stream",
     "text": [
      "Global seed set to 2\n",
      "GPU available: True, used: True\n",
      "TPU available: False, using: 0 TPU cores\n",
      "IPU available: False, using: 0 IPUs\n",
      "LOCAL_RANK: 0 - CUDA_VISIBLE_DEVICES: [0,1,2,3,4,5,6,7]\n"
     ]
    },
    {
     "data": {
      "application/vnd.jupyter.widget-view+json": {
       "model_id": "9a050c24921047a7a5a5db3716ed868f",
       "version_major": 2,
       "version_minor": 0
      },
      "text/plain": [
       "Predicting: 0it [00:00, ?it/s]"
      ]
     },
     "metadata": {},
     "output_type": "display_data"
    },
    {
     "name": "stdout",
     "output_type": "stream",
     "text": [
      "layer_name: layer1.2.act3, 3\n"
     ]
    },
    {
     "name": "stderr",
     "output_type": "stream",
     "text": [
      "Global seed set to 3\n",
      "GPU available: True, used: True\n",
      "TPU available: False, using: 0 TPU cores\n",
      "IPU available: False, using: 0 IPUs\n",
      "LOCAL_RANK: 0 - CUDA_VISIBLE_DEVICES: [0,1,2,3,4,5,6,7]\n"
     ]
    },
    {
     "data": {
      "application/vnd.jupyter.widget-view+json": {
       "model_id": "531901a9a85149c59789cc70f0015437",
       "version_major": 2,
       "version_minor": 0
      },
      "text/plain": [
       "Predicting: 0it [00:00, ?it/s]"
      ]
     },
     "metadata": {},
     "output_type": "display_data"
    },
    {
     "name": "stderr",
     "output_type": "stream",
     "text": [
      "Global seed set to 2\n",
      "GPU available: True, used: True\n",
      "TPU available: False, using: 0 TPU cores\n",
      "IPU available: False, using: 0 IPUs\n",
      "LOCAL_RANK: 0 - CUDA_VISIBLE_DEVICES: [0,1,2,3,4,5,6,7]\n"
     ]
    },
    {
     "data": {
      "application/vnd.jupyter.widget-view+json": {
       "model_id": "21f721e88e044c90a881f80d86b0d7f4",
       "version_major": 2,
       "version_minor": 0
      },
      "text/plain": [
       "Predicting: 0it [00:00, ?it/s]"
      ]
     },
     "metadata": {},
     "output_type": "display_data"
    },
    {
     "name": "stdout",
     "output_type": "stream",
     "text": [
      "layer_name: layer1.2.act3, 1\n"
     ]
    },
    {
     "name": "stderr",
     "output_type": "stream",
     "text": [
      "Global seed set to 2\n",
      "GPU available: True, used: True\n",
      "TPU available: False, using: 0 TPU cores\n",
      "IPU available: False, using: 0 IPUs\n",
      "LOCAL_RANK: 0 - CUDA_VISIBLE_DEVICES: [0,1,2,3,4,5,6,7]\n"
     ]
    },
    {
     "data": {
      "application/vnd.jupyter.widget-view+json": {
       "model_id": "348e35b78708437ebb76ca01c29a88ce",
       "version_major": 2,
       "version_minor": 0
      },
      "text/plain": [
       "Predicting: 0it [00:00, ?it/s]"
      ]
     },
     "metadata": {},
     "output_type": "display_data"
    },
    {
     "name": "stdout",
     "output_type": "stream",
     "text": [
      "layer_name: layer2.0.act3, 3\n"
     ]
    },
    {
     "name": "stderr",
     "output_type": "stream",
     "text": [
      "Global seed set to 2\n",
      "GPU available: True, used: True\n",
      "TPU available: False, using: 0 TPU cores\n",
      "IPU available: False, using: 0 IPUs\n",
      "LOCAL_RANK: 0 - CUDA_VISIBLE_DEVICES: [0,1,2,3,4,5,6,7]\n"
     ]
    },
    {
     "data": {
      "application/vnd.jupyter.widget-view+json": {
       "model_id": "75af373c5320489580aaf1ece211236d",
       "version_major": 2,
       "version_minor": 0
      },
      "text/plain": [
       "Predicting: 0it [00:00, ?it/s]"
      ]
     },
     "metadata": {},
     "output_type": "display_data"
    },
    {
     "name": "stderr",
     "output_type": "stream",
     "text": [
      "Global seed set to 1\n",
      "GPU available: True, used: True\n",
      "TPU available: False, using: 0 TPU cores\n",
      "IPU available: False, using: 0 IPUs\n",
      "LOCAL_RANK: 0 - CUDA_VISIBLE_DEVICES: [0,1,2,3,4,5,6,7]\n"
     ]
    },
    {
     "data": {
      "application/vnd.jupyter.widget-view+json": {
       "model_id": "bd4ead171c0a4de48cb656c5853da32e",
       "version_major": 2,
       "version_minor": 0
      },
      "text/plain": [
       "Predicting: 0it [00:00, ?it/s]"
      ]
     },
     "metadata": {},
     "output_type": "display_data"
    },
    {
     "name": "stdout",
     "output_type": "stream",
     "text": [
      "layer_name: layer2.0.act3, 3\n"
     ]
    },
    {
     "name": "stderr",
     "output_type": "stream",
     "text": [
      "Global seed set to 3\n",
      "GPU available: True, used: True\n",
      "TPU available: False, using: 0 TPU cores\n",
      "IPU available: False, using: 0 IPUs\n",
      "LOCAL_RANK: 0 - CUDA_VISIBLE_DEVICES: [0,1,2,3,4,5,6,7]\n"
     ]
    },
    {
     "data": {
      "application/vnd.jupyter.widget-view+json": {
       "model_id": "a2f297a7ad4f4705bae355c914b02218",
       "version_major": 2,
       "version_minor": 0
      },
      "text/plain": [
       "Predicting: 0it [00:00, ?it/s]"
      ]
     },
     "metadata": {},
     "output_type": "display_data"
    },
    {
     "name": "stderr",
     "output_type": "stream",
     "text": [
      "Global seed set to 2\n",
      "GPU available: True, used: True\n",
      "TPU available: False, using: 0 TPU cores\n",
      "IPU available: False, using: 0 IPUs\n",
      "LOCAL_RANK: 0 - CUDA_VISIBLE_DEVICES: [0,1,2,3,4,5,6,7]\n"
     ]
    },
    {
     "data": {
      "application/vnd.jupyter.widget-view+json": {
       "model_id": "1ba6cd7de11c43e497552bd0b36824d0",
       "version_major": 2,
       "version_minor": 0
      },
      "text/plain": [
       "Predicting: 0it [00:00, ?it/s]"
      ]
     },
     "metadata": {},
     "output_type": "display_data"
    },
    {
     "name": "stdout",
     "output_type": "stream",
     "text": [
      "layer_name: layer2.0.act3, 3\n"
     ]
    },
    {
     "name": "stderr",
     "output_type": "stream",
     "text": [
      "Global seed set to 2\n",
      "GPU available: True, used: True\n",
      "TPU available: False, using: 0 TPU cores\n",
      "IPU available: False, using: 0 IPUs\n",
      "LOCAL_RANK: 0 - CUDA_VISIBLE_DEVICES: [0,1,2,3,4,5,6,7]\n"
     ]
    },
    {
     "data": {
      "application/vnd.jupyter.widget-view+json": {
       "model_id": "f35af54eeeaf47fab80cbb34e7d9ceff",
       "version_major": 2,
       "version_minor": 0
      },
      "text/plain": [
       "Predicting: 0it [00:00, ?it/s]"
      ]
     },
     "metadata": {},
     "output_type": "display_data"
    },
    {
     "name": "stderr",
     "output_type": "stream",
     "text": [
      "Global seed set to 1\n",
      "GPU available: True, used: True\n",
      "TPU available: False, using: 0 TPU cores\n",
      "IPU available: False, using: 0 IPUs\n",
      "LOCAL_RANK: 0 - CUDA_VISIBLE_DEVICES: [0,1,2,3,4,5,6,7]\n"
     ]
    },
    {
     "data": {
      "application/vnd.jupyter.widget-view+json": {
       "model_id": "09c77a29eda549a58776784098f2dda9",
       "version_major": 2,
       "version_minor": 0
      },
      "text/plain": [
       "Predicting: 0it [00:00, ?it/s]"
      ]
     },
     "metadata": {},
     "output_type": "display_data"
    },
    {
     "name": "stdout",
     "output_type": "stream",
     "text": [
      "layer_name: layer2.0.act3, 3\n"
     ]
    },
    {
     "name": "stderr",
     "output_type": "stream",
     "text": [
      "Global seed set to 3\n",
      "GPU available: True, used: True\n",
      "TPU available: False, using: 0 TPU cores\n",
      "IPU available: False, using: 0 IPUs\n",
      "LOCAL_RANK: 0 - CUDA_VISIBLE_DEVICES: [0,1,2,3,4,5,6,7]\n"
     ]
    },
    {
     "data": {
      "application/vnd.jupyter.widget-view+json": {
       "model_id": "503a45588d2642e7aa9e0165aa0a5f0d",
       "version_major": 2,
       "version_minor": 0
      },
      "text/plain": [
       "Predicting: 0it [00:00, ?it/s]"
      ]
     },
     "metadata": {},
     "output_type": "display_data"
    },
    {
     "name": "stderr",
     "output_type": "stream",
     "text": [
      "Global seed set to 1\n",
      "GPU available: True, used: True\n",
      "TPU available: False, using: 0 TPU cores\n",
      "IPU available: False, using: 0 IPUs\n",
      "LOCAL_RANK: 0 - CUDA_VISIBLE_DEVICES: [0,1,2,3,4,5,6,7]\n"
     ]
    },
    {
     "data": {
      "application/vnd.jupyter.widget-view+json": {
       "model_id": "582d3f9c9f98459bba9a4bf67d2b19ba",
       "version_major": 2,
       "version_minor": 0
      },
      "text/plain": [
       "Predicting: 0it [00:00, ?it/s]"
      ]
     },
     "metadata": {},
     "output_type": "display_data"
    },
    {
     "name": "stdout",
     "output_type": "stream",
     "text": [
      "layer_name: layer2.0.act3, 3\n"
     ]
    },
    {
     "name": "stderr",
     "output_type": "stream",
     "text": [
      "Global seed set to 1\n",
      "GPU available: True, used: True\n",
      "TPU available: False, using: 0 TPU cores\n",
      "IPU available: False, using: 0 IPUs\n",
      "LOCAL_RANK: 0 - CUDA_VISIBLE_DEVICES: [0,1,2,3,4,5,6,7]\n"
     ]
    },
    {
     "data": {
      "application/vnd.jupyter.widget-view+json": {
       "model_id": "c1dc96039d034333a8384f1495fbb504",
       "version_major": 2,
       "version_minor": 0
      },
      "text/plain": [
       "Predicting: 0it [00:00, ?it/s]"
      ]
     },
     "metadata": {},
     "output_type": "display_data"
    },
    {
     "name": "stderr",
     "output_type": "stream",
     "text": [
      "Global seed set to 2\n",
      "GPU available: True, used: True\n",
      "TPU available: False, using: 0 TPU cores\n",
      "IPU available: False, using: 0 IPUs\n",
      "LOCAL_RANK: 0 - CUDA_VISIBLE_DEVICES: [0,1,2,3,4,5,6,7]\n"
     ]
    },
    {
     "data": {
      "application/vnd.jupyter.widget-view+json": {
       "model_id": "19eaa31ff9e44ecd9a2660993251ae21",
       "version_major": 2,
       "version_minor": 0
      },
      "text/plain": [
       "Predicting: 0it [00:00, ?it/s]"
      ]
     },
     "metadata": {},
     "output_type": "display_data"
    },
    {
     "name": "stdout",
     "output_type": "stream",
     "text": [
      "layer_name: layer2.0.act3, 3\n"
     ]
    },
    {
     "name": "stderr",
     "output_type": "stream",
     "text": [
      "Global seed set to 3\n",
      "GPU available: True, used: True\n",
      "TPU available: False, using: 0 TPU cores\n",
      "IPU available: False, using: 0 IPUs\n",
      "LOCAL_RANK: 0 - CUDA_VISIBLE_DEVICES: [0,1,2,3,4,5,6,7]\n"
     ]
    },
    {
     "data": {
      "application/vnd.jupyter.widget-view+json": {
       "model_id": "07d90479fa1246b788cb1c3544ccf31a",
       "version_major": 2,
       "version_minor": 0
      },
      "text/plain": [
       "Predicting: 0it [00:00, ?it/s]"
      ]
     },
     "metadata": {},
     "output_type": "display_data"
    },
    {
     "name": "stderr",
     "output_type": "stream",
     "text": [
      "Global seed set to 1\n",
      "GPU available: True, used: True\n",
      "TPU available: False, using: 0 TPU cores\n",
      "IPU available: False, using: 0 IPUs\n",
      "LOCAL_RANK: 0 - CUDA_VISIBLE_DEVICES: [0,1,2,3,4,5,6,7]\n"
     ]
    },
    {
     "data": {
      "application/vnd.jupyter.widget-view+json": {
       "model_id": "62494fba65854b3f81d451668641b834",
       "version_major": 2,
       "version_minor": 0
      },
      "text/plain": [
       "Predicting: 0it [00:00, ?it/s]"
      ]
     },
     "metadata": {},
     "output_type": "display_data"
    },
    {
     "name": "stdout",
     "output_type": "stream",
     "text": [
      "layer_name: layer2.0.act3, 2\n"
     ]
    },
    {
     "name": "stderr",
     "output_type": "stream",
     "text": [
      "Global seed set to 2\n",
      "GPU available: True, used: True\n",
      "TPU available: False, using: 0 TPU cores\n",
      "IPU available: False, using: 0 IPUs\n",
      "LOCAL_RANK: 0 - CUDA_VISIBLE_DEVICES: [0,1,2,3,4,5,6,7]\n"
     ]
    },
    {
     "data": {
      "application/vnd.jupyter.widget-view+json": {
       "model_id": "ffb89235f6e04e508a24fafab64f1211",
       "version_major": 2,
       "version_minor": 0
      },
      "text/plain": [
       "Predicting: 0it [00:00, ?it/s]"
      ]
     },
     "metadata": {},
     "output_type": "display_data"
    },
    {
     "name": "stderr",
     "output_type": "stream",
     "text": [
      "Global seed set to 1\n",
      "GPU available: True, used: True\n",
      "TPU available: False, using: 0 TPU cores\n",
      "IPU available: False, using: 0 IPUs\n",
      "LOCAL_RANK: 0 - CUDA_VISIBLE_DEVICES: [0,1,2,3,4,5,6,7]\n"
     ]
    },
    {
     "data": {
      "application/vnd.jupyter.widget-view+json": {
       "model_id": "3560b4a360294399a0fdc4bd3ee065d1",
       "version_major": 2,
       "version_minor": 0
      },
      "text/plain": [
       "Predicting: 0it [00:00, ?it/s]"
      ]
     },
     "metadata": {},
     "output_type": "display_data"
    },
    {
     "name": "stdout",
     "output_type": "stream",
     "text": [
      "layer_name: layer2.0.act3, 3\n"
     ]
    },
    {
     "name": "stderr",
     "output_type": "stream",
     "text": [
      "Global seed set to 1\n",
      "GPU available: True, used: True\n",
      "TPU available: False, using: 0 TPU cores\n",
      "IPU available: False, using: 0 IPUs\n",
      "LOCAL_RANK: 0 - CUDA_VISIBLE_DEVICES: [0,1,2,3,4,5,6,7]\n"
     ]
    },
    {
     "data": {
      "application/vnd.jupyter.widget-view+json": {
       "model_id": "3133ef8cc9d441a790a5666bccb4f90e",
       "version_major": 2,
       "version_minor": 0
      },
      "text/plain": [
       "Predicting: 0it [00:00, ?it/s]"
      ]
     },
     "metadata": {},
     "output_type": "display_data"
    },
    {
     "name": "stderr",
     "output_type": "stream",
     "text": [
      "Global seed set to 2\n",
      "GPU available: True, used: True\n",
      "TPU available: False, using: 0 TPU cores\n",
      "IPU available: False, using: 0 IPUs\n",
      "LOCAL_RANK: 0 - CUDA_VISIBLE_DEVICES: [0,1,2,3,4,5,6,7]\n"
     ]
    },
    {
     "data": {
      "application/vnd.jupyter.widget-view+json": {
       "model_id": "8454185c89014b3c8698ec70987a1766",
       "version_major": 2,
       "version_minor": 0
      },
      "text/plain": [
       "Predicting: 0it [00:00, ?it/s]"
      ]
     },
     "metadata": {},
     "output_type": "display_data"
    },
    {
     "name": "stdout",
     "output_type": "stream",
     "text": [
      "layer_name: layer2.0.act3, 3\n"
     ]
    },
    {
     "name": "stderr",
     "output_type": "stream",
     "text": [
      "Global seed set to 3\n",
      "GPU available: True, used: True\n",
      "TPU available: False, using: 0 TPU cores\n",
      "IPU available: False, using: 0 IPUs\n",
      "LOCAL_RANK: 0 - CUDA_VISIBLE_DEVICES: [0,1,2,3,4,5,6,7]\n"
     ]
    },
    {
     "data": {
      "application/vnd.jupyter.widget-view+json": {
       "model_id": "7345b47d793e425a9c6f77158b2e3975",
       "version_major": 2,
       "version_minor": 0
      },
      "text/plain": [
       "Predicting: 0it [00:00, ?it/s]"
      ]
     },
     "metadata": {},
     "output_type": "display_data"
    },
    {
     "name": "stderr",
     "output_type": "stream",
     "text": [
      "Global seed set to 2\n",
      "GPU available: True, used: True\n",
      "TPU available: False, using: 0 TPU cores\n",
      "IPU available: False, using: 0 IPUs\n",
      "LOCAL_RANK: 0 - CUDA_VISIBLE_DEVICES: [0,1,2,3,4,5,6,7]\n"
     ]
    },
    {
     "data": {
      "application/vnd.jupyter.widget-view+json": {
       "model_id": "f5222b0071d74b7baa58063b89b841c7",
       "version_major": 2,
       "version_minor": 0
      },
      "text/plain": [
       "Predicting: 0it [00:00, ?it/s]"
      ]
     },
     "metadata": {},
     "output_type": "display_data"
    },
    {
     "name": "stdout",
     "output_type": "stream",
     "text": [
      "layer_name: layer2.0.act3, 1\n"
     ]
    },
    {
     "name": "stderr",
     "output_type": "stream",
     "text": [
      "Global seed set to 2\n",
      "GPU available: True, used: True\n",
      "TPU available: False, using: 0 TPU cores\n",
      "IPU available: False, using: 0 IPUs\n",
      "LOCAL_RANK: 0 - CUDA_VISIBLE_DEVICES: [0,1,2,3,4,5,6,7]\n"
     ]
    },
    {
     "data": {
      "application/vnd.jupyter.widget-view+json": {
       "model_id": "60a61f5b945e48d0b6fe07ce54a33afd",
       "version_major": 2,
       "version_minor": 0
      },
      "text/plain": [
       "Predicting: 0it [00:00, ?it/s]"
      ]
     },
     "metadata": {},
     "output_type": "display_data"
    },
    {
     "name": "stdout",
     "output_type": "stream",
     "text": [
      "layer_name: layer2.1.act3, 3\n",
      "Loaded cached for /NS/robustness_2/work/vnanda/invariances_in_reps/partially_inverted_reps/checkpoints/resnet50-base-imagenet-ft-flowers/frac-0.00050-mode-random-seed-2-ftmode-linear-lr-0.1-bs-256-nonrob/epoch=37-layer2.1.act3-topk=1.ckpt\n",
      "Loaded cached for /NS/robustness_2/work/vnanda/invariances_in_reps/partially_inverted_reps/checkpoints/resnet50-base-imagenet-ft-flowers/frac-0.00050-mode-random-seed-1-ftmode-linear-lr-0.1-bs-256-nonrob/epoch=36-layer2.1.act3-topk=1.ckpt\n",
      "layer_name: layer2.1.act3, 3\n",
      "Loaded cached for /NS/robustness_2/work/vnanda/invariances_in_reps/partially_inverted_reps/checkpoints/resnet50-base-imagenet-ft-flowers/frac-0.00500-mode-random-seed-3-ftmode-linear-lr-0.1-bs-256-nonrob/epoch=48-layer2.1.act3-topk=1.ckpt\n",
      "Loaded cached for /NS/robustness_2/work/vnanda/invariances_in_reps/partially_inverted_reps/checkpoints/resnet50-base-imagenet-ft-flowers/frac-0.00500-mode-random-seed-2-ftmode-linear-lr-0.1-bs-256-nonrob/epoch=43-layer2.1.act3-topk=1.ckpt\n",
      "layer_name: layer2.1.act3, 3\n",
      "Loaded cached for /NS/robustness_2/work/vnanda/invariances_in_reps/partially_inverted_reps/checkpoints/resnet50-base-imagenet-ft-flowers/frac-0.05000-mode-random-seed-2-ftmode-linear-lr-0.1-bs-256-nonrob/epoch=49-layer2.1.act3-topk=1.ckpt\n",
      "Loaded cached for /NS/robustness_2/work/vnanda/invariances_in_reps/partially_inverted_reps/checkpoints/resnet50-base-imagenet-ft-flowers/frac-0.05000-mode-random-seed-1-ftmode-linear-lr-0.1-bs-256-nonrob/epoch=45-layer2.1.act3-topk=1.ckpt\n",
      "layer_name: layer2.1.act3, 3\n",
      "Loaded cached for /NS/robustness_2/work/vnanda/invariances_in_reps/partially_inverted_reps/checkpoints/resnet50-base-imagenet-ft-flowers/frac-0.10000-mode-random-seed-3-ftmode-linear-lr-0.1-bs-256-nonrob/epoch=47-layer2.1.act3-topk=1.ckpt\n",
      "Loaded cached for /NS/robustness_2/work/vnanda/invariances_in_reps/partially_inverted_reps/checkpoints/resnet50-base-imagenet-ft-flowers/frac-0.10000-mode-random-seed-1-ftmode-linear-lr-0.1-bs-256-nonrob/epoch=47-layer2.1.act3-topk=1.ckpt\n",
      "layer_name: layer2.1.act3, 3\n",
      "Loaded cached for /NS/robustness_2/work/vnanda/invariances_in_reps/partially_inverted_reps/checkpoints/resnet50-base-imagenet-ft-flowers/frac-0.20000-mode-random-seed-1-ftmode-linear-lr-0.1-bs-256-nonrob/epoch=43-layer2.1.act3-topk=1.ckpt\n",
      "Loaded cached for /NS/robustness_2/work/vnanda/invariances_in_reps/partially_inverted_reps/checkpoints/resnet50-base-imagenet-ft-flowers/frac-0.20000-mode-random-seed-2-ftmode-linear-lr-0.1-bs-256-nonrob/epoch=44-layer2.1.act3-topk=1.ckpt\n",
      "layer_name: layer2.1.act3, 3\n",
      "Loaded cached for /NS/robustness_2/work/vnanda/invariances_in_reps/partially_inverted_reps/checkpoints/resnet50-base-imagenet-ft-flowers/frac-0.40000-mode-random-seed-3-ftmode-linear-lr-0.1-bs-256-nonrob/epoch=44-layer2.1.act3-topk=1.ckpt\n",
      "Loaded cached for /NS/robustness_2/work/vnanda/invariances_in_reps/partially_inverted_reps/checkpoints/resnet50-base-imagenet-ft-flowers/frac-0.40000-mode-random-seed-1-ftmode-linear-lr-0.1-bs-256-nonrob/epoch=41-layer2.1.act3-topk=1.ckpt\n",
      "layer_name: layer2.1.act3, 3\n",
      "Loaded cached for /NS/robustness_2/work/vnanda/invariances_in_reps/partially_inverted_reps/checkpoints/resnet50-base-imagenet-ft-flowers/frac-0.50000-mode-random-seed-2-ftmode-linear-lr-0.1-bs-256-nonrob/epoch=41-layer2.1.act3-topk=1.ckpt\n",
      "Loaded cached for /NS/robustness_2/work/vnanda/invariances_in_reps/partially_inverted_reps/checkpoints/resnet50-base-imagenet-ft-flowers/frac-0.50000-mode-random-seed-1-ftmode-linear-lr-0.1-bs-256-nonrob/epoch=44-layer2.1.act3-topk=1.ckpt\n",
      "layer_name: layer2.1.act3, 3\n",
      "Loaded cached for /NS/robustness_2/work/vnanda/invariances_in_reps/partially_inverted_reps/checkpoints/resnet50-base-imagenet-ft-flowers/frac-0.80000-mode-random-seed-1-ftmode-linear-lr-0.1-bs-256-nonrob/epoch=43-layer2.1.act3-topk=1.ckpt\n",
      "Loaded cached for /NS/robustness_2/work/vnanda/invariances_in_reps/partially_inverted_reps/checkpoints/resnet50-base-imagenet-ft-flowers/frac-0.80000-mode-random-seed-2-ftmode-linear-lr-0.1-bs-256-nonrob/epoch=48-layer2.1.act3-topk=1.ckpt\n",
      "layer_name: layer2.1.act3, 3\n",
      "Loaded cached for /NS/robustness_2/work/vnanda/invariances_in_reps/partially_inverted_reps/checkpoints/resnet50-base-imagenet-ft-flowers/frac-0.90000-mode-random-seed-3-ftmode-linear-lr-0.1-bs-256-nonrob/epoch=49-layer2.1.act3-topk=1.ckpt\n",
      "Loaded cached for /NS/robustness_2/work/vnanda/invariances_in_reps/partially_inverted_reps/checkpoints/resnet50-base-imagenet-ft-flowers/frac-0.90000-mode-random-seed-2-ftmode-linear-lr-0.1-bs-256-nonrob/epoch=49-layer2.1.act3-topk=1.ckpt\n",
      "layer_name: layer2.1.act3, 1\n",
      "Loaded cached for /NS/robustness_2/work/vnanda/invariances_in_reps/partially_inverted_reps/checkpoints/resnet50-base-imagenet-ft-flowers/frac-1.00000-mode-random-seed-2-ftmode-linear-lr-0.1-bs-256-nonrob/epoch=41-layer2.1.act3-topk=1.ckpt\n",
      "layer_name: layer2.2.act3, 3\n",
      "Loaded cached for /NS/robustness_2/work/vnanda/invariances_in_reps/partially_inverted_reps/checkpoints/resnet50-base-imagenet-ft-flowers/frac-0.00050-mode-random-seed-2-ftmode-linear-lr-0.1-bs-256-nonrob/epoch=37-layer2.2.act3-topk=1.ckpt\n",
      "Loaded cached for /NS/robustness_2/work/vnanda/invariances_in_reps/partially_inverted_reps/checkpoints/resnet50-base-imagenet-ft-flowers/frac-0.00050-mode-random-seed-1-ftmode-linear-lr-0.1-bs-256-nonrob/epoch=45-layer2.2.act3-topk=1.ckpt\n",
      "layer_name: layer2.2.act3, 3\n",
      "Loaded cached for /NS/robustness_2/work/vnanda/invariances_in_reps/partially_inverted_reps/checkpoints/resnet50-base-imagenet-ft-flowers/frac-0.00500-mode-random-seed-3-ftmode-linear-lr-0.1-bs-256-nonrob/epoch=46-layer2.2.act3-topk=1.ckpt\n",
      "Loaded cached for /NS/robustness_2/work/vnanda/invariances_in_reps/partially_inverted_reps/checkpoints/resnet50-base-imagenet-ft-flowers/frac-0.00500-mode-random-seed-2-ftmode-linear-lr-0.1-bs-256-nonrob/epoch=44-layer2.2.act3-topk=1.ckpt\n",
      "layer_name: layer2.2.act3, 3\n",
      "Loaded cached for /NS/robustness_2/work/vnanda/invariances_in_reps/partially_inverted_reps/checkpoints/resnet50-base-imagenet-ft-flowers/frac-0.05000-mode-random-seed-2-ftmode-linear-lr-0.1-bs-256-nonrob/epoch=41-layer2.2.act3-topk=1.ckpt\n",
      "Loaded cached for /NS/robustness_2/work/vnanda/invariances_in_reps/partially_inverted_reps/checkpoints/resnet50-base-imagenet-ft-flowers/frac-0.05000-mode-random-seed-1-ftmode-linear-lr-0.1-bs-256-nonrob/epoch=41-layer2.2.act3-topk=1.ckpt\n",
      "layer_name: layer2.2.act3, 3\n",
      "Loaded cached for /NS/robustness_2/work/vnanda/invariances_in_reps/partially_inverted_reps/checkpoints/resnet50-base-imagenet-ft-flowers/frac-0.10000-mode-random-seed-3-ftmode-linear-lr-0.1-bs-256-nonrob/epoch=41-layer2.2.act3-topk=1.ckpt\n",
      "Loaded cached for /NS/robustness_2/work/vnanda/invariances_in_reps/partially_inverted_reps/checkpoints/resnet50-base-imagenet-ft-flowers/frac-0.10000-mode-random-seed-1-ftmode-linear-lr-0.1-bs-256-nonrob/epoch=40-layer2.2.act3-topk=1.ckpt\n",
      "layer_name: layer2.2.act3, 3\n",
      "Loaded cached for /NS/robustness_2/work/vnanda/invariances_in_reps/partially_inverted_reps/checkpoints/resnet50-base-imagenet-ft-flowers/frac-0.20000-mode-random-seed-1-ftmode-linear-lr-0.1-bs-256-nonrob/epoch=43-layer2.2.act3-topk=1.ckpt\n",
      "Loaded cached for /NS/robustness_2/work/vnanda/invariances_in_reps/partially_inverted_reps/checkpoints/resnet50-base-imagenet-ft-flowers/frac-0.20000-mode-random-seed-2-ftmode-linear-lr-0.1-bs-256-nonrob/epoch=41-layer2.2.act3-topk=1.ckpt\n",
      "layer_name: layer2.2.act3, 3\n",
      "Loaded cached for /NS/robustness_2/work/vnanda/invariances_in_reps/partially_inverted_reps/checkpoints/resnet50-base-imagenet-ft-flowers/frac-0.40000-mode-random-seed-3-ftmode-linear-lr-0.1-bs-256-nonrob/epoch=45-layer2.2.act3-topk=1.ckpt\n",
      "Loaded cached for /NS/robustness_2/work/vnanda/invariances_in_reps/partially_inverted_reps/checkpoints/resnet50-base-imagenet-ft-flowers/frac-0.40000-mode-random-seed-1-ftmode-linear-lr-0.1-bs-256-nonrob/epoch=41-layer2.2.act3-topk=1.ckpt\n",
      "layer_name: layer2.2.act3, 3\n",
      "Loaded cached for /NS/robustness_2/work/vnanda/invariances_in_reps/partially_inverted_reps/checkpoints/resnet50-base-imagenet-ft-flowers/frac-0.50000-mode-random-seed-2-ftmode-linear-lr-0.1-bs-256-nonrob/epoch=43-layer2.2.act3-topk=1.ckpt\n",
      "Loaded cached for /NS/robustness_2/work/vnanda/invariances_in_reps/partially_inverted_reps/checkpoints/resnet50-base-imagenet-ft-flowers/frac-0.50000-mode-random-seed-1-ftmode-linear-lr-0.1-bs-256-nonrob/epoch=44-layer2.2.act3-topk=1.ckpt\n",
      "layer_name: layer2.2.act3, 3\n"
     ]
    },
    {
     "name": "stdout",
     "output_type": "stream",
     "text": [
      "Loaded cached for /NS/robustness_2/work/vnanda/invariances_in_reps/partially_inverted_reps/checkpoints/resnet50-base-imagenet-ft-flowers/frac-0.80000-mode-random-seed-1-ftmode-linear-lr-0.1-bs-256-nonrob/epoch=40-layer2.2.act3-topk=1.ckpt\n",
      "Loaded cached for /NS/robustness_2/work/vnanda/invariances_in_reps/partially_inverted_reps/checkpoints/resnet50-base-imagenet-ft-flowers/frac-0.80000-mode-random-seed-2-ftmode-linear-lr-0.1-bs-256-nonrob/epoch=48-layer2.2.act3-topk=1.ckpt\n",
      "layer_name: layer2.2.act3, 3\n",
      "Loaded cached for /NS/robustness_2/work/vnanda/invariances_in_reps/partially_inverted_reps/checkpoints/resnet50-base-imagenet-ft-flowers/frac-0.90000-mode-random-seed-3-ftmode-linear-lr-0.1-bs-256-nonrob/epoch=43-layer2.2.act3-topk=1.ckpt\n",
      "Loaded cached for /NS/robustness_2/work/vnanda/invariances_in_reps/partially_inverted_reps/checkpoints/resnet50-base-imagenet-ft-flowers/frac-0.90000-mode-random-seed-2-ftmode-linear-lr-0.1-bs-256-nonrob/epoch=43-layer2.2.act3-topk=1.ckpt\n",
      "layer_name: layer2.2.act3, 1\n",
      "Loaded cached for /NS/robustness_2/work/vnanda/invariances_in_reps/partially_inverted_reps/checkpoints/resnet50-base-imagenet-ft-flowers/frac-1.00000-mode-random-seed-2-ftmode-linear-lr-0.1-bs-256-nonrob/epoch=43-layer2.2.act3-topk=1.ckpt\n",
      "layer_name: layer2.3.act3, 3\n"
     ]
    },
    {
     "name": "stderr",
     "output_type": "stream",
     "text": [
      "Global seed set to 2\n",
      "GPU available: True, used: True\n",
      "TPU available: False, using: 0 TPU cores\n",
      "IPU available: False, using: 0 IPUs\n",
      "LOCAL_RANK: 0 - CUDA_VISIBLE_DEVICES: [0,1,2,3,4,5,6,7]\n"
     ]
    },
    {
     "data": {
      "application/vnd.jupyter.widget-view+json": {
       "model_id": "56a71b93fc264793abbb8db6ae62892c",
       "version_major": 2,
       "version_minor": 0
      },
      "text/plain": [
       "Predicting: 0it [00:00, ?it/s]"
      ]
     },
     "metadata": {},
     "output_type": "display_data"
    },
    {
     "name": "stderr",
     "output_type": "stream",
     "text": [
      "Global seed set to 1\n",
      "GPU available: True, used: True\n",
      "TPU available: False, using: 0 TPU cores\n",
      "IPU available: False, using: 0 IPUs\n",
      "LOCAL_RANK: 0 - CUDA_VISIBLE_DEVICES: [0,1,2,3,4,5,6,7]\n"
     ]
    },
    {
     "data": {
      "application/vnd.jupyter.widget-view+json": {
       "model_id": "7ccc57027b6d45de9c91b9089272a258",
       "version_major": 2,
       "version_minor": 0
      },
      "text/plain": [
       "Predicting: 0it [00:00, ?it/s]"
      ]
     },
     "metadata": {},
     "output_type": "display_data"
    },
    {
     "name": "stdout",
     "output_type": "stream",
     "text": [
      "layer_name: layer2.3.act3, 3\n"
     ]
    },
    {
     "name": "stderr",
     "output_type": "stream",
     "text": [
      "Global seed set to 3\n",
      "GPU available: True, used: True\n",
      "TPU available: False, using: 0 TPU cores\n",
      "IPU available: False, using: 0 IPUs\n",
      "LOCAL_RANK: 0 - CUDA_VISIBLE_DEVICES: [0,1,2,3,4,5,6,7]\n"
     ]
    },
    {
     "data": {
      "application/vnd.jupyter.widget-view+json": {
       "model_id": "66e025a1e0df49b097188ba8a5ba36a8",
       "version_major": 2,
       "version_minor": 0
      },
      "text/plain": [
       "Predicting: 0it [00:00, ?it/s]"
      ]
     },
     "metadata": {},
     "output_type": "display_data"
    },
    {
     "name": "stderr",
     "output_type": "stream",
     "text": [
      "Global seed set to 2\n",
      "GPU available: True, used: True\n",
      "TPU available: False, using: 0 TPU cores\n",
      "IPU available: False, using: 0 IPUs\n",
      "LOCAL_RANK: 0 - CUDA_VISIBLE_DEVICES: [0,1,2,3,4,5,6,7]\n"
     ]
    },
    {
     "data": {
      "application/vnd.jupyter.widget-view+json": {
       "model_id": "2ce877f371004cb082215022b35c6e31",
       "version_major": 2,
       "version_minor": 0
      },
      "text/plain": [
       "Predicting: 0it [00:00, ?it/s]"
      ]
     },
     "metadata": {},
     "output_type": "display_data"
    },
    {
     "name": "stdout",
     "output_type": "stream",
     "text": [
      "layer_name: layer2.3.act3, 3\n"
     ]
    },
    {
     "name": "stderr",
     "output_type": "stream",
     "text": [
      "Global seed set to 2\n",
      "GPU available: True, used: True\n",
      "TPU available: False, using: 0 TPU cores\n",
      "IPU available: False, using: 0 IPUs\n",
      "LOCAL_RANK: 0 - CUDA_VISIBLE_DEVICES: [0,1,2,3,4,5,6,7]\n"
     ]
    },
    {
     "data": {
      "application/vnd.jupyter.widget-view+json": {
       "model_id": "aa54ab688e5c46d4bf85cc3b2a8023fb",
       "version_major": 2,
       "version_minor": 0
      },
      "text/plain": [
       "Predicting: 0it [00:00, ?it/s]"
      ]
     },
     "metadata": {},
     "output_type": "display_data"
    },
    {
     "name": "stderr",
     "output_type": "stream",
     "text": [
      "Global seed set to 1\n",
      "GPU available: True, used: True\n",
      "TPU available: False, using: 0 TPU cores\n",
      "IPU available: False, using: 0 IPUs\n",
      "LOCAL_RANK: 0 - CUDA_VISIBLE_DEVICES: [0,1,2,3,4,5,6,7]\n"
     ]
    },
    {
     "data": {
      "application/vnd.jupyter.widget-view+json": {
       "model_id": "e0e5626906c145fdaa3df09d2b685bb1",
       "version_major": 2,
       "version_minor": 0
      },
      "text/plain": [
       "Predicting: 0it [00:00, ?it/s]"
      ]
     },
     "metadata": {},
     "output_type": "display_data"
    },
    {
     "name": "stdout",
     "output_type": "stream",
     "text": [
      "layer_name: layer2.3.act3, 3\n"
     ]
    },
    {
     "name": "stderr",
     "output_type": "stream",
     "text": [
      "Global seed set to 3\n",
      "GPU available: True, used: True\n",
      "TPU available: False, using: 0 TPU cores\n",
      "IPU available: False, using: 0 IPUs\n",
      "LOCAL_RANK: 0 - CUDA_VISIBLE_DEVICES: [0,1,2,3,4,5,6,7]\n"
     ]
    },
    {
     "data": {
      "application/vnd.jupyter.widget-view+json": {
       "model_id": "c4046a27013846ed9834842027e6cadc",
       "version_major": 2,
       "version_minor": 0
      },
      "text/plain": [
       "Predicting: 0it [00:00, ?it/s]"
      ]
     },
     "metadata": {},
     "output_type": "display_data"
    },
    {
     "name": "stderr",
     "output_type": "stream",
     "text": [
      "Global seed set to 1\n",
      "GPU available: True, used: True\n",
      "TPU available: False, using: 0 TPU cores\n",
      "IPU available: False, using: 0 IPUs\n",
      "LOCAL_RANK: 0 - CUDA_VISIBLE_DEVICES: [0,1,2,3,4,5,6,7]\n"
     ]
    },
    {
     "data": {
      "application/vnd.jupyter.widget-view+json": {
       "model_id": "a8384567803247e5a246d858cc4ed89e",
       "version_major": 2,
       "version_minor": 0
      },
      "text/plain": [
       "Predicting: 0it [00:00, ?it/s]"
      ]
     },
     "metadata": {},
     "output_type": "display_data"
    },
    {
     "name": "stdout",
     "output_type": "stream",
     "text": [
      "layer_name: layer2.3.act3, 3\n"
     ]
    },
    {
     "name": "stderr",
     "output_type": "stream",
     "text": [
      "Global seed set to 1\n",
      "GPU available: True, used: True\n",
      "TPU available: False, using: 0 TPU cores\n",
      "IPU available: False, using: 0 IPUs\n",
      "LOCAL_RANK: 0 - CUDA_VISIBLE_DEVICES: [0,1,2,3,4,5,6,7]\n"
     ]
    },
    {
     "data": {
      "application/vnd.jupyter.widget-view+json": {
       "model_id": "dc99525c43d346f2af2671c852bd2115",
       "version_major": 2,
       "version_minor": 0
      },
      "text/plain": [
       "Predicting: 0it [00:00, ?it/s]"
      ]
     },
     "metadata": {},
     "output_type": "display_data"
    },
    {
     "name": "stderr",
     "output_type": "stream",
     "text": [
      "Global seed set to 2\n",
      "GPU available: True, used: True\n",
      "TPU available: False, using: 0 TPU cores\n",
      "IPU available: False, using: 0 IPUs\n",
      "LOCAL_RANK: 0 - CUDA_VISIBLE_DEVICES: [0,1,2,3,4,5,6,7]\n"
     ]
    },
    {
     "data": {
      "application/vnd.jupyter.widget-view+json": {
       "model_id": "3b7eb14a4f3f4a79b198ceecb1c8d7e6",
       "version_major": 2,
       "version_minor": 0
      },
      "text/plain": [
       "Predicting: 0it [00:00, ?it/s]"
      ]
     },
     "metadata": {},
     "output_type": "display_data"
    },
    {
     "name": "stdout",
     "output_type": "stream",
     "text": [
      "layer_name: layer2.3.act3, 3\n"
     ]
    },
    {
     "name": "stderr",
     "output_type": "stream",
     "text": [
      "Global seed set to 3\n",
      "GPU available: True, used: True\n",
      "TPU available: False, using: 0 TPU cores\n",
      "IPU available: False, using: 0 IPUs\n",
      "LOCAL_RANK: 0 - CUDA_VISIBLE_DEVICES: [0,1,2,3,4,5,6,7]\n"
     ]
    },
    {
     "data": {
      "application/vnd.jupyter.widget-view+json": {
       "model_id": "cbb3efa5b56e4dc0bfa085007b507fb5",
       "version_major": 2,
       "version_minor": 0
      },
      "text/plain": [
       "Predicting: 0it [00:00, ?it/s]"
      ]
     },
     "metadata": {},
     "output_type": "display_data"
    },
    {
     "name": "stderr",
     "output_type": "stream",
     "text": [
      "Global seed set to 1\n",
      "GPU available: True, used: True\n",
      "TPU available: False, using: 0 TPU cores\n",
      "IPU available: False, using: 0 IPUs\n",
      "LOCAL_RANK: 0 - CUDA_VISIBLE_DEVICES: [0,1,2,3,4,5,6,7]\n"
     ]
    },
    {
     "data": {
      "application/vnd.jupyter.widget-view+json": {
       "model_id": "7acb19a2eccc47c68b4b15ec59592575",
       "version_major": 2,
       "version_minor": 0
      },
      "text/plain": [
       "Predicting: 0it [00:00, ?it/s]"
      ]
     },
     "metadata": {},
     "output_type": "display_data"
    },
    {
     "name": "stdout",
     "output_type": "stream",
     "text": [
      "layer_name: layer2.3.act3, 3\n"
     ]
    },
    {
     "name": "stderr",
     "output_type": "stream",
     "text": [
      "Global seed set to 2\n",
      "GPU available: True, used: True\n",
      "TPU available: False, using: 0 TPU cores\n",
      "IPU available: False, using: 0 IPUs\n",
      "LOCAL_RANK: 0 - CUDA_VISIBLE_DEVICES: [0,1,2,3,4,5,6,7]\n"
     ]
    },
    {
     "data": {
      "application/vnd.jupyter.widget-view+json": {
       "model_id": "a37341dcccac4fa7984a0d3266232fc4",
       "version_major": 2,
       "version_minor": 0
      },
      "text/plain": [
       "Predicting: 0it [00:00, ?it/s]"
      ]
     },
     "metadata": {},
     "output_type": "display_data"
    },
    {
     "name": "stderr",
     "output_type": "stream",
     "text": [
      "Global seed set to 1\n",
      "GPU available: True, used: True\n",
      "TPU available: False, using: 0 TPU cores\n",
      "IPU available: False, using: 0 IPUs\n",
      "LOCAL_RANK: 0 - CUDA_VISIBLE_DEVICES: [0,1,2,3,4,5,6,7]\n"
     ]
    },
    {
     "data": {
      "application/vnd.jupyter.widget-view+json": {
       "model_id": "bfdf51535b3243a7a4178ea9f98c18de",
       "version_major": 2,
       "version_minor": 0
      },
      "text/plain": [
       "Predicting: 0it [00:00, ?it/s]"
      ]
     },
     "metadata": {},
     "output_type": "display_data"
    },
    {
     "name": "stdout",
     "output_type": "stream",
     "text": [
      "layer_name: layer2.3.act3, 3\n"
     ]
    },
    {
     "name": "stderr",
     "output_type": "stream",
     "text": [
      "Global seed set to 1\n",
      "GPU available: True, used: True\n",
      "TPU available: False, using: 0 TPU cores\n",
      "IPU available: False, using: 0 IPUs\n",
      "LOCAL_RANK: 0 - CUDA_VISIBLE_DEVICES: [0,1,2,3,4,5,6,7]\n"
     ]
    },
    {
     "data": {
      "application/vnd.jupyter.widget-view+json": {
       "model_id": "c7597018face4f718c82849bd4d2cded",
       "version_major": 2,
       "version_minor": 0
      },
      "text/plain": [
       "Predicting: 0it [00:00, ?it/s]"
      ]
     },
     "metadata": {},
     "output_type": "display_data"
    },
    {
     "name": "stderr",
     "output_type": "stream",
     "text": [
      "Global seed set to 2\n",
      "GPU available: True, used: True\n",
      "TPU available: False, using: 0 TPU cores\n",
      "IPU available: False, using: 0 IPUs\n",
      "LOCAL_RANK: 0 - CUDA_VISIBLE_DEVICES: [0,1,2,3,4,5,6,7]\n"
     ]
    },
    {
     "data": {
      "application/vnd.jupyter.widget-view+json": {
       "model_id": "010a353da07c40bc90e6a4c0fbbe6051",
       "version_major": 2,
       "version_minor": 0
      },
      "text/plain": [
       "Predicting: 0it [00:00, ?it/s]"
      ]
     },
     "metadata": {},
     "output_type": "display_data"
    },
    {
     "name": "stdout",
     "output_type": "stream",
     "text": [
      "layer_name: layer2.3.act3, 3\n"
     ]
    },
    {
     "name": "stderr",
     "output_type": "stream",
     "text": [
      "Global seed set to 3\n",
      "GPU available: True, used: True\n",
      "TPU available: False, using: 0 TPU cores\n",
      "IPU available: False, using: 0 IPUs\n",
      "LOCAL_RANK: 0 - CUDA_VISIBLE_DEVICES: [0,1,2,3,4,5,6,7]\n"
     ]
    },
    {
     "data": {
      "application/vnd.jupyter.widget-view+json": {
       "model_id": "901b31e06d384372ad13e3b7e7b30feb",
       "version_major": 2,
       "version_minor": 0
      },
      "text/plain": [
       "Predicting: 0it [00:00, ?it/s]"
      ]
     },
     "metadata": {},
     "output_type": "display_data"
    },
    {
     "name": "stderr",
     "output_type": "stream",
     "text": [
      "Global seed set to 2\n",
      "GPU available: True, used: True\n",
      "TPU available: False, using: 0 TPU cores\n",
      "IPU available: False, using: 0 IPUs\n",
      "LOCAL_RANK: 0 - CUDA_VISIBLE_DEVICES: [0,1,2,3,4,5,6,7]\n"
     ]
    },
    {
     "data": {
      "application/vnd.jupyter.widget-view+json": {
       "model_id": "7bd204dbd43546c2b71b1a1d96006960",
       "version_major": 2,
       "version_minor": 0
      },
      "text/plain": [
       "Predicting: 0it [00:00, ?it/s]"
      ]
     },
     "metadata": {},
     "output_type": "display_data"
    },
    {
     "name": "stdout",
     "output_type": "stream",
     "text": [
      "layer_name: layer2.3.act3, 1\n"
     ]
    },
    {
     "name": "stderr",
     "output_type": "stream",
     "text": [
      "Global seed set to 2\n",
      "GPU available: True, used: True\n",
      "TPU available: False, using: 0 TPU cores\n",
      "IPU available: False, using: 0 IPUs\n",
      "LOCAL_RANK: 0 - CUDA_VISIBLE_DEVICES: [0,1,2,3,4,5,6,7]\n"
     ]
    },
    {
     "data": {
      "application/vnd.jupyter.widget-view+json": {
       "model_id": "09e19d33cb7f47d2a8439a4bc2748d31",
       "version_major": 2,
       "version_minor": 0
      },
      "text/plain": [
       "Predicting: 0it [00:00, ?it/s]"
      ]
     },
     "metadata": {},
     "output_type": "display_data"
    },
    {
     "name": "stdout",
     "output_type": "stream",
     "text": [
      "layer_name: layer3.0.act3, 3\n"
     ]
    },
    {
     "name": "stderr",
     "output_type": "stream",
     "text": [
      "Global seed set to 2\n",
      "GPU available: True, used: True\n",
      "TPU available: False, using: 0 TPU cores\n",
      "IPU available: False, using: 0 IPUs\n",
      "LOCAL_RANK: 0 - CUDA_VISIBLE_DEVICES: [0,1,2,3,4,5,6,7]\n"
     ]
    },
    {
     "data": {
      "application/vnd.jupyter.widget-view+json": {
       "model_id": "759360d3da58448fa83652e46f5bc42c",
       "version_major": 2,
       "version_minor": 0
      },
      "text/plain": [
       "Predicting: 0it [00:00, ?it/s]"
      ]
     },
     "metadata": {},
     "output_type": "display_data"
    },
    {
     "name": "stderr",
     "output_type": "stream",
     "text": [
      "Global seed set to 1\n",
      "GPU available: True, used: True\n",
      "TPU available: False, using: 0 TPU cores\n",
      "IPU available: False, using: 0 IPUs\n",
      "LOCAL_RANK: 0 - CUDA_VISIBLE_DEVICES: [0,1,2,3,4,5,6,7]\n"
     ]
    },
    {
     "data": {
      "application/vnd.jupyter.widget-view+json": {
       "model_id": "124a40d52bc342e1a368d39ee8915ca2",
       "version_major": 2,
       "version_minor": 0
      },
      "text/plain": [
       "Predicting: 0it [00:00, ?it/s]"
      ]
     },
     "metadata": {},
     "output_type": "display_data"
    },
    {
     "name": "stdout",
     "output_type": "stream",
     "text": [
      "layer_name: layer3.0.act3, 3\n"
     ]
    },
    {
     "name": "stderr",
     "output_type": "stream",
     "text": [
      "Global seed set to 3\n",
      "GPU available: True, used: True\n",
      "TPU available: False, using: 0 TPU cores\n",
      "IPU available: False, using: 0 IPUs\n",
      "LOCAL_RANK: 0 - CUDA_VISIBLE_DEVICES: [0,1,2,3,4,5,6,7]\n"
     ]
    },
    {
     "data": {
      "application/vnd.jupyter.widget-view+json": {
       "model_id": "a42ffed54459491197fd01f4421c09e5",
       "version_major": 2,
       "version_minor": 0
      },
      "text/plain": [
       "Predicting: 0it [00:00, ?it/s]"
      ]
     },
     "metadata": {},
     "output_type": "display_data"
    },
    {
     "name": "stderr",
     "output_type": "stream",
     "text": [
      "Global seed set to 2\n",
      "GPU available: True, used: True\n",
      "TPU available: False, using: 0 TPU cores\n",
      "IPU available: False, using: 0 IPUs\n",
      "LOCAL_RANK: 0 - CUDA_VISIBLE_DEVICES: [0,1,2,3,4,5,6,7]\n"
     ]
    },
    {
     "data": {
      "application/vnd.jupyter.widget-view+json": {
       "model_id": "02b2d0ef233a4faa9a84f427c8c23fbc",
       "version_major": 2,
       "version_minor": 0
      },
      "text/plain": [
       "Predicting: 0it [00:00, ?it/s]"
      ]
     },
     "metadata": {},
     "output_type": "display_data"
    },
    {
     "name": "stdout",
     "output_type": "stream",
     "text": [
      "layer_name: layer3.0.act3, 3\n"
     ]
    },
    {
     "name": "stderr",
     "output_type": "stream",
     "text": [
      "Global seed set to 2\n",
      "GPU available: True, used: True\n",
      "TPU available: False, using: 0 TPU cores\n",
      "IPU available: False, using: 0 IPUs\n",
      "LOCAL_RANK: 0 - CUDA_VISIBLE_DEVICES: [0,1,2,3,4,5,6,7]\n"
     ]
    },
    {
     "data": {
      "application/vnd.jupyter.widget-view+json": {
       "model_id": "5b225956023f44c6bacf5fe6fc497e4d",
       "version_major": 2,
       "version_minor": 0
      },
      "text/plain": [
       "Predicting: 0it [00:00, ?it/s]"
      ]
     },
     "metadata": {},
     "output_type": "display_data"
    },
    {
     "name": "stderr",
     "output_type": "stream",
     "text": [
      "Global seed set to 1\n",
      "GPU available: True, used: True\n",
      "TPU available: False, using: 0 TPU cores\n",
      "IPU available: False, using: 0 IPUs\n",
      "LOCAL_RANK: 0 - CUDA_VISIBLE_DEVICES: [0,1,2,3,4,5,6,7]\n"
     ]
    },
    {
     "data": {
      "application/vnd.jupyter.widget-view+json": {
       "model_id": "f61cdbeb47774e3aa07e27cc4deb4aa2",
       "version_major": 2,
       "version_minor": 0
      },
      "text/plain": [
       "Predicting: 0it [00:00, ?it/s]"
      ]
     },
     "metadata": {},
     "output_type": "display_data"
    },
    {
     "name": "stdout",
     "output_type": "stream",
     "text": [
      "layer_name: layer3.0.act3, 3\n"
     ]
    },
    {
     "name": "stderr",
     "output_type": "stream",
     "text": [
      "Global seed set to 3\n",
      "GPU available: True, used: True\n",
      "TPU available: False, using: 0 TPU cores\n",
      "IPU available: False, using: 0 IPUs\n",
      "LOCAL_RANK: 0 - CUDA_VISIBLE_DEVICES: [0,1,2,3,4,5,6,7]\n"
     ]
    },
    {
     "data": {
      "application/vnd.jupyter.widget-view+json": {
       "model_id": "274828c83d354ffa9c1da259c951c7d9",
       "version_major": 2,
       "version_minor": 0
      },
      "text/plain": [
       "Predicting: 0it [00:00, ?it/s]"
      ]
     },
     "metadata": {},
     "output_type": "display_data"
    },
    {
     "name": "stderr",
     "output_type": "stream",
     "text": [
      "Global seed set to 1\n",
      "GPU available: True, used: True\n",
      "TPU available: False, using: 0 TPU cores\n",
      "IPU available: False, using: 0 IPUs\n",
      "LOCAL_RANK: 0 - CUDA_VISIBLE_DEVICES: [0,1,2,3,4,5,6,7]\n"
     ]
    },
    {
     "data": {
      "application/vnd.jupyter.widget-view+json": {
       "model_id": "c5746b8852444f3d980441dbdc8d99d3",
       "version_major": 2,
       "version_minor": 0
      },
      "text/plain": [
       "Predicting: 0it [00:00, ?it/s]"
      ]
     },
     "metadata": {},
     "output_type": "display_data"
    },
    {
     "name": "stdout",
     "output_type": "stream",
     "text": [
      "layer_name: layer3.0.act3, 3\n"
     ]
    },
    {
     "name": "stderr",
     "output_type": "stream",
     "text": [
      "Global seed set to 1\n",
      "GPU available: True, used: True\n",
      "TPU available: False, using: 0 TPU cores\n",
      "IPU available: False, using: 0 IPUs\n",
      "LOCAL_RANK: 0 - CUDA_VISIBLE_DEVICES: [0,1,2,3,4,5,6,7]\n"
     ]
    },
    {
     "data": {
      "application/vnd.jupyter.widget-view+json": {
       "model_id": "cd5acfffb37b47c8b7831b60b6a3eefb",
       "version_major": 2,
       "version_minor": 0
      },
      "text/plain": [
       "Predicting: 0it [00:00, ?it/s]"
      ]
     },
     "metadata": {},
     "output_type": "display_data"
    },
    {
     "name": "stderr",
     "output_type": "stream",
     "text": [
      "Global seed set to 2\n",
      "GPU available: True, used: True\n",
      "TPU available: False, using: 0 TPU cores\n",
      "IPU available: False, using: 0 IPUs\n",
      "LOCAL_RANK: 0 - CUDA_VISIBLE_DEVICES: [0,1,2,3,4,5,6,7]\n"
     ]
    },
    {
     "data": {
      "application/vnd.jupyter.widget-view+json": {
       "model_id": "f77d4c5146cd4a879fe42285680ceb89",
       "version_major": 2,
       "version_minor": 0
      },
      "text/plain": [
       "Predicting: 0it [00:00, ?it/s]"
      ]
     },
     "metadata": {},
     "output_type": "display_data"
    },
    {
     "name": "stdout",
     "output_type": "stream",
     "text": [
      "layer_name: layer3.0.act3, 3\n"
     ]
    },
    {
     "name": "stderr",
     "output_type": "stream",
     "text": [
      "Global seed set to 3\n",
      "GPU available: True, used: True\n",
      "TPU available: False, using: 0 TPU cores\n",
      "IPU available: False, using: 0 IPUs\n",
      "LOCAL_RANK: 0 - CUDA_VISIBLE_DEVICES: [0,1,2,3,4,5,6,7]\n"
     ]
    },
    {
     "data": {
      "application/vnd.jupyter.widget-view+json": {
       "model_id": "99b6d1e307b941e391c1a58b7bf1f4fc",
       "version_major": 2,
       "version_minor": 0
      },
      "text/plain": [
       "Predicting: 0it [00:00, ?it/s]"
      ]
     },
     "metadata": {},
     "output_type": "display_data"
    },
    {
     "name": "stderr",
     "output_type": "stream",
     "text": [
      "Global seed set to 1\n",
      "GPU available: True, used: True\n",
      "TPU available: False, using: 0 TPU cores\n",
      "IPU available: False, using: 0 IPUs\n",
      "LOCAL_RANK: 0 - CUDA_VISIBLE_DEVICES: [0,1,2,3,4,5,6,7]\n"
     ]
    },
    {
     "data": {
      "application/vnd.jupyter.widget-view+json": {
       "model_id": "01bacd8bb2b04a91a402ba9d3fd6ea57",
       "version_major": 2,
       "version_minor": 0
      },
      "text/plain": [
       "Predicting: 0it [00:00, ?it/s]"
      ]
     },
     "metadata": {},
     "output_type": "display_data"
    },
    {
     "name": "stdout",
     "output_type": "stream",
     "text": [
      "layer_name: layer3.0.act3, 3\n"
     ]
    },
    {
     "name": "stderr",
     "output_type": "stream",
     "text": [
      "Global seed set to 2\n",
      "GPU available: True, used: True\n",
      "TPU available: False, using: 0 TPU cores\n",
      "IPU available: False, using: 0 IPUs\n",
      "LOCAL_RANK: 0 - CUDA_VISIBLE_DEVICES: [0,1,2,3,4,5,6,7]\n"
     ]
    },
    {
     "data": {
      "application/vnd.jupyter.widget-view+json": {
       "model_id": "87fe29f601cb4ef382f8cb2ecc12a817",
       "version_major": 2,
       "version_minor": 0
      },
      "text/plain": [
       "Predicting: 0it [00:00, ?it/s]"
      ]
     },
     "metadata": {},
     "output_type": "display_data"
    },
    {
     "name": "stderr",
     "output_type": "stream",
     "text": [
      "Global seed set to 1\n",
      "GPU available: True, used: True\n",
      "TPU available: False, using: 0 TPU cores\n",
      "IPU available: False, using: 0 IPUs\n",
      "LOCAL_RANK: 0 - CUDA_VISIBLE_DEVICES: [0,1,2,3,4,5,6,7]\n"
     ]
    },
    {
     "data": {
      "application/vnd.jupyter.widget-view+json": {
       "model_id": "10a3f764ca0b4cb89c380e7e4dd23e08",
       "version_major": 2,
       "version_minor": 0
      },
      "text/plain": [
       "Predicting: 0it [00:00, ?it/s]"
      ]
     },
     "metadata": {},
     "output_type": "display_data"
    },
    {
     "name": "stdout",
     "output_type": "stream",
     "text": [
      "layer_name: layer3.0.act3, 3\n"
     ]
    },
    {
     "name": "stderr",
     "output_type": "stream",
     "text": [
      "Global seed set to 1\n",
      "GPU available: True, used: True\n",
      "TPU available: False, using: 0 TPU cores\n",
      "IPU available: False, using: 0 IPUs\n",
      "LOCAL_RANK: 0 - CUDA_VISIBLE_DEVICES: [0,1,2,3,4,5,6,7]\n"
     ]
    },
    {
     "data": {
      "application/vnd.jupyter.widget-view+json": {
       "model_id": "a445bb2efd904a689e7c3439191ca6ec",
       "version_major": 2,
       "version_minor": 0
      },
      "text/plain": [
       "Predicting: 0it [00:00, ?it/s]"
      ]
     },
     "metadata": {},
     "output_type": "display_data"
    },
    {
     "name": "stderr",
     "output_type": "stream",
     "text": [
      "Global seed set to 2\n",
      "GPU available: True, used: True\n",
      "TPU available: False, using: 0 TPU cores\n",
      "IPU available: False, using: 0 IPUs\n",
      "LOCAL_RANK: 0 - CUDA_VISIBLE_DEVICES: [0,1,2,3,4,5,6,7]\n"
     ]
    },
    {
     "data": {
      "application/vnd.jupyter.widget-view+json": {
       "model_id": "4be91a34feaa4c38bee00de1ae786c18",
       "version_major": 2,
       "version_minor": 0
      },
      "text/plain": [
       "Predicting: 0it [00:00, ?it/s]"
      ]
     },
     "metadata": {},
     "output_type": "display_data"
    },
    {
     "name": "stdout",
     "output_type": "stream",
     "text": [
      "layer_name: layer3.0.act3, 3\n"
     ]
    },
    {
     "name": "stderr",
     "output_type": "stream",
     "text": [
      "Global seed set to 3\n",
      "GPU available: True, used: True\n",
      "TPU available: False, using: 0 TPU cores\n",
      "IPU available: False, using: 0 IPUs\n",
      "LOCAL_RANK: 0 - CUDA_VISIBLE_DEVICES: [0,1,2,3,4,5,6,7]\n"
     ]
    },
    {
     "data": {
      "application/vnd.jupyter.widget-view+json": {
       "model_id": "85cd656aafb14144aca4f7c35adc22d3",
       "version_major": 2,
       "version_minor": 0
      },
      "text/plain": [
       "Predicting: 0it [00:00, ?it/s]"
      ]
     },
     "metadata": {},
     "output_type": "display_data"
    },
    {
     "name": "stderr",
     "output_type": "stream",
     "text": [
      "Global seed set to 2\n",
      "GPU available: True, used: True\n",
      "TPU available: False, using: 0 TPU cores\n",
      "IPU available: False, using: 0 IPUs\n",
      "LOCAL_RANK: 0 - CUDA_VISIBLE_DEVICES: [0,1,2,3,4,5,6,7]\n"
     ]
    },
    {
     "data": {
      "application/vnd.jupyter.widget-view+json": {
       "model_id": "479947341a2945c08a1467e676d5fa8e",
       "version_major": 2,
       "version_minor": 0
      },
      "text/plain": [
       "Predicting: 0it [00:00, ?it/s]"
      ]
     },
     "metadata": {},
     "output_type": "display_data"
    },
    {
     "name": "stdout",
     "output_type": "stream",
     "text": [
      "layer_name: layer3.0.act3, 1\n"
     ]
    },
    {
     "name": "stderr",
     "output_type": "stream",
     "text": [
      "Global seed set to 2\n",
      "GPU available: True, used: True\n",
      "TPU available: False, using: 0 TPU cores\n",
      "IPU available: False, using: 0 IPUs\n",
      "LOCAL_RANK: 0 - CUDA_VISIBLE_DEVICES: [0,1,2,3,4,5,6,7]\n"
     ]
    },
    {
     "data": {
      "application/vnd.jupyter.widget-view+json": {
       "model_id": "90e58154a8bc4811b78a4bb7afa2b6b3",
       "version_major": 2,
       "version_minor": 0
      },
      "text/plain": [
       "Predicting: 0it [00:00, ?it/s]"
      ]
     },
     "metadata": {},
     "output_type": "display_data"
    },
    {
     "name": "stdout",
     "output_type": "stream",
     "text": [
      "layer_name: layer3.1.act3, 3\n",
      "Loaded cached for /NS/robustness_2/work/vnanda/invariances_in_reps/partially_inverted_reps/checkpoints/resnet50-base-imagenet-ft-flowers/frac-0.00050-mode-random-seed-2-ftmode-linear-lr-0.1-bs-256-nonrob/epoch=48-layer3.1.act3-topk=1.ckpt\n",
      "Loaded cached for /NS/robustness_2/work/vnanda/invariances_in_reps/partially_inverted_reps/checkpoints/resnet50-base-imagenet-ft-flowers/frac-0.00050-mode-random-seed-1-ftmode-linear-lr-0.1-bs-256-nonrob/epoch=49-layer3.1.act3-topk=1.ckpt\n",
      "layer_name: layer3.1.act3, 3\n",
      "Loaded cached for /NS/robustness_2/work/vnanda/invariances_in_reps/partially_inverted_reps/checkpoints/resnet50-base-imagenet-ft-flowers/frac-0.00500-mode-random-seed-3-ftmode-linear-lr-0.1-bs-256-nonrob/epoch=37-layer3.1.act3-topk=1.ckpt\n",
      "Loaded cached for /NS/robustness_2/work/vnanda/invariances_in_reps/partially_inverted_reps/checkpoints/resnet50-base-imagenet-ft-flowers/frac-0.00500-mode-random-seed-2-ftmode-linear-lr-0.1-bs-256-nonrob/epoch=48-layer3.1.act3-topk=1.ckpt\n",
      "layer_name: layer3.1.act3, 3\n",
      "Loaded cached for /NS/robustness_2/work/vnanda/invariances_in_reps/partially_inverted_reps/checkpoints/resnet50-base-imagenet-ft-flowers/frac-0.05000-mode-random-seed-2-ftmode-linear-lr-0.1-bs-256-nonrob/epoch=37-layer3.1.act3-topk=1.ckpt\n",
      "Loaded cached for /NS/robustness_2/work/vnanda/invariances_in_reps/partially_inverted_reps/checkpoints/resnet50-base-imagenet-ft-flowers/frac-0.05000-mode-random-seed-1-ftmode-linear-lr-0.1-bs-256-nonrob/epoch=41-layer3.1.act3-topk=1.ckpt\n",
      "layer_name: layer3.1.act3, 3\n",
      "Loaded cached for /NS/robustness_2/work/vnanda/invariances_in_reps/partially_inverted_reps/checkpoints/resnet50-base-imagenet-ft-flowers/frac-0.10000-mode-random-seed-3-ftmode-linear-lr-0.1-bs-256-nonrob/epoch=37-layer3.1.act3-topk=1.ckpt\n",
      "Loaded cached for /NS/robustness_2/work/vnanda/invariances_in_reps/partially_inverted_reps/checkpoints/resnet50-base-imagenet-ft-flowers/frac-0.10000-mode-random-seed-1-ftmode-linear-lr-0.1-bs-256-nonrob/epoch=40-layer3.1.act3-topk=1.ckpt\n",
      "layer_name: layer3.1.act3, 3\n",
      "Loaded cached for /NS/robustness_2/work/vnanda/invariances_in_reps/partially_inverted_reps/checkpoints/resnet50-base-imagenet-ft-flowers/frac-0.20000-mode-random-seed-1-ftmode-linear-lr-0.1-bs-256-nonrob/epoch=49-layer3.1.act3-topk=1.ckpt\n",
      "Loaded cached for /NS/robustness_2/work/vnanda/invariances_in_reps/partially_inverted_reps/checkpoints/resnet50-base-imagenet-ft-flowers/frac-0.20000-mode-random-seed-2-ftmode-linear-lr-0.1-bs-256-nonrob/epoch=49-layer3.1.act3-topk=1.ckpt\n",
      "layer_name: layer3.1.act3, 2\n",
      "Loaded cached for /NS/robustness_2/work/vnanda/invariances_in_reps/partially_inverted_reps/checkpoints/resnet50-base-imagenet-ft-flowers/frac-0.40000-mode-random-seed-1-ftmode-linear-lr-0.1-bs-256-nonrob/epoch=44-layer3.1.act3-topk=1.ckpt\n",
      "Loaded cached for /NS/robustness_2/work/vnanda/invariances_in_reps/partially_inverted_reps/checkpoints/resnet50-base-imagenet-ft-flowers/frac-0.40000-mode-random-seed-2-ftmode-linear-lr-0.1-bs-256-nonrob/epoch=41-layer3.1.act3-topk=1.ckpt\n",
      "layer_name: layer3.1.act3, 2\n",
      "Loaded cached for /NS/robustness_2/work/vnanda/invariances_in_reps/partially_inverted_reps/checkpoints/resnet50-base-imagenet-ft-flowers/frac-0.50000-mode-random-seed-2-ftmode-linear-lr-0.1-bs-256-nonrob/epoch=49-layer3.1.act3-topk=1.ckpt\n",
      "Loaded cached for /NS/robustness_2/work/vnanda/invariances_in_reps/partially_inverted_reps/checkpoints/resnet50-base-imagenet-ft-flowers/frac-0.50000-mode-random-seed-1-ftmode-linear-lr-0.1-bs-256-nonrob/epoch=46-layer3.1.act3-topk=1.ckpt\n",
      "layer_name: layer3.1.act3, 2\n",
      "Loaded cached for /NS/robustness_2/work/vnanda/invariances_in_reps/partially_inverted_reps/checkpoints/resnet50-base-imagenet-ft-flowers/frac-0.80000-mode-random-seed-1-ftmode-linear-lr-0.1-bs-256-nonrob/epoch=37-layer3.1.act3-topk=1.ckpt\n",
      "Loaded cached for /NS/robustness_2/work/vnanda/invariances_in_reps/partially_inverted_reps/checkpoints/resnet50-base-imagenet-ft-flowers/frac-0.80000-mode-random-seed-2-ftmode-linear-lr-0.1-bs-256-nonrob/epoch=41-layer3.1.act3-topk=1.ckpt\n",
      "layer_name: layer3.1.act3, 2\n",
      "Loaded cached for /NS/robustness_2/work/vnanda/invariances_in_reps/partially_inverted_reps/checkpoints/resnet50-base-imagenet-ft-flowers/frac-0.90000-mode-random-seed-2-ftmode-linear-lr-0.1-bs-256-nonrob/epoch=48-layer3.1.act3-topk=1.ckpt\n",
      "Loaded cached for /NS/robustness_2/work/vnanda/invariances_in_reps/partially_inverted_reps/checkpoints/resnet50-base-imagenet-ft-flowers/frac-0.90000-mode-random-seed-1-ftmode-linear-lr-0.1-bs-256-nonrob/epoch=47-layer3.1.act3-topk=1.ckpt\n",
      "layer_name: layer3.1.act3, 1\n",
      "Loaded cached for /NS/robustness_2/work/vnanda/invariances_in_reps/partially_inverted_reps/checkpoints/resnet50-base-imagenet-ft-flowers/frac-1.00000-mode-random-seed-2-ftmode-linear-lr-0.1-bs-256-nonrob/epoch=41-layer3.1.act3-topk=1.ckpt\n",
      "layer_name: layer3.2.act3, 2\n"
     ]
    },
    {
     "name": "stderr",
     "output_type": "stream",
     "text": [
      "Global seed set to 2\n",
      "GPU available: True, used: True\n",
      "TPU available: False, using: 0 TPU cores\n",
      "IPU available: False, using: 0 IPUs\n",
      "LOCAL_RANK: 0 - CUDA_VISIBLE_DEVICES: [0,1,2,3,4,5,6,7]\n"
     ]
    },
    {
     "data": {
      "application/vnd.jupyter.widget-view+json": {
       "model_id": "18019bccc4ac4eb09bb8019f347211d6",
       "version_major": 2,
       "version_minor": 0
      },
      "text/plain": [
       "Predicting: 0it [00:00, ?it/s]"
      ]
     },
     "metadata": {},
     "output_type": "display_data"
    },
    {
     "name": "stderr",
     "output_type": "stream",
     "text": [
      "Global seed set to 1\n",
      "GPU available: True, used: True\n",
      "TPU available: False, using: 0 TPU cores\n",
      "IPU available: False, using: 0 IPUs\n",
      "LOCAL_RANK: 0 - CUDA_VISIBLE_DEVICES: [0,1,2,3,4,5,6,7]\n"
     ]
    },
    {
     "data": {
      "application/vnd.jupyter.widget-view+json": {
       "model_id": "0ed7926fd0d64fd88a31e3efbf8ccafb",
       "version_major": 2,
       "version_minor": 0
      },
      "text/plain": [
       "Predicting: 0it [00:00, ?it/s]"
      ]
     },
     "metadata": {},
     "output_type": "display_data"
    },
    {
     "name": "stdout",
     "output_type": "stream",
     "text": [
      "layer_name: layer3.2.act3, 2\n"
     ]
    },
    {
     "name": "stderr",
     "output_type": "stream",
     "text": [
      "Global seed set to 2\n",
      "GPU available: True, used: True\n",
      "TPU available: False, using: 0 TPU cores\n",
      "IPU available: False, using: 0 IPUs\n",
      "LOCAL_RANK: 0 - CUDA_VISIBLE_DEVICES: [0,1,2,3,4,5,6,7]\n"
     ]
    },
    {
     "data": {
      "application/vnd.jupyter.widget-view+json": {
       "model_id": "3992e99caefb493cb255335661eb50c8",
       "version_major": 2,
       "version_minor": 0
      },
      "text/plain": [
       "Predicting: 0it [00:00, ?it/s]"
      ]
     },
     "metadata": {},
     "output_type": "display_data"
    },
    {
     "name": "stderr",
     "output_type": "stream",
     "text": [
      "Global seed set to 1\n",
      "GPU available: True, used: True\n",
      "TPU available: False, using: 0 TPU cores\n",
      "IPU available: False, using: 0 IPUs\n",
      "LOCAL_RANK: 0 - CUDA_VISIBLE_DEVICES: [0,1,2,3,4,5,6,7]\n"
     ]
    },
    {
     "data": {
      "application/vnd.jupyter.widget-view+json": {
       "model_id": "2490ecf95de840b78b1b125d416086e0",
       "version_major": 2,
       "version_minor": 0
      },
      "text/plain": [
       "Predicting: 0it [00:00, ?it/s]"
      ]
     },
     "metadata": {},
     "output_type": "display_data"
    },
    {
     "name": "stdout",
     "output_type": "stream",
     "text": [
      "layer_name: layer3.2.act3, 2\n"
     ]
    },
    {
     "name": "stderr",
     "output_type": "stream",
     "text": [
      "Global seed set to 2\n",
      "GPU available: True, used: True\n",
      "TPU available: False, using: 0 TPU cores\n",
      "IPU available: False, using: 0 IPUs\n",
      "LOCAL_RANK: 0 - CUDA_VISIBLE_DEVICES: [0,1,2,3,4,5,6,7]\n"
     ]
    },
    {
     "data": {
      "application/vnd.jupyter.widget-view+json": {
       "model_id": "0adf6ab49c2c4abea3c3d4c95753bad9",
       "version_major": 2,
       "version_minor": 0
      },
      "text/plain": [
       "Predicting: 0it [00:00, ?it/s]"
      ]
     },
     "metadata": {},
     "output_type": "display_data"
    },
    {
     "name": "stderr",
     "output_type": "stream",
     "text": [
      "Global seed set to 1\n",
      "GPU available: True, used: True\n",
      "TPU available: False, using: 0 TPU cores\n",
      "IPU available: False, using: 0 IPUs\n",
      "LOCAL_RANK: 0 - CUDA_VISIBLE_DEVICES: [0,1,2,3,4,5,6,7]\n"
     ]
    },
    {
     "data": {
      "application/vnd.jupyter.widget-view+json": {
       "model_id": "3b97af03fb7c406ebdbecd11ea9ef2e6",
       "version_major": 2,
       "version_minor": 0
      },
      "text/plain": [
       "Predicting: 0it [00:00, ?it/s]"
      ]
     },
     "metadata": {},
     "output_type": "display_data"
    },
    {
     "name": "stdout",
     "output_type": "stream",
     "text": [
      "layer_name: layer3.2.act3, 2\n"
     ]
    },
    {
     "name": "stderr",
     "output_type": "stream",
     "text": [
      "Global seed set to 1\n",
      "GPU available: True, used: True\n",
      "TPU available: False, using: 0 TPU cores\n",
      "IPU available: False, using: 0 IPUs\n",
      "LOCAL_RANK: 0 - CUDA_VISIBLE_DEVICES: [0,1,2,3,4,5,6,7]\n"
     ]
    },
    {
     "data": {
      "application/vnd.jupyter.widget-view+json": {
       "model_id": "fa5a3aaccd2748b6a6938b6ed4e516cc",
       "version_major": 2,
       "version_minor": 0
      },
      "text/plain": [
       "Predicting: 0it [00:00, ?it/s]"
      ]
     },
     "metadata": {},
     "output_type": "display_data"
    },
    {
     "name": "stderr",
     "output_type": "stream",
     "text": [
      "Global seed set to 2\n",
      "GPU available: True, used: True\n",
      "TPU available: False, using: 0 TPU cores\n",
      "IPU available: False, using: 0 IPUs\n",
      "LOCAL_RANK: 0 - CUDA_VISIBLE_DEVICES: [0,1,2,3,4,5,6,7]\n"
     ]
    },
    {
     "data": {
      "application/vnd.jupyter.widget-view+json": {
       "model_id": "e8b2601896a94a16a8d841cf3aff6dcb",
       "version_major": 2,
       "version_minor": 0
      },
      "text/plain": [
       "Predicting: 0it [00:00, ?it/s]"
      ]
     },
     "metadata": {},
     "output_type": "display_data"
    },
    {
     "name": "stdout",
     "output_type": "stream",
     "text": [
      "layer_name: layer3.2.act3, 2\n"
     ]
    },
    {
     "name": "stderr",
     "output_type": "stream",
     "text": [
      "Global seed set to 1\n",
      "GPU available: True, used: True\n",
      "TPU available: False, using: 0 TPU cores\n",
      "IPU available: False, using: 0 IPUs\n",
      "LOCAL_RANK: 0 - CUDA_VISIBLE_DEVICES: [0,1,2,3,4,5,6,7]\n"
     ]
    },
    {
     "data": {
      "application/vnd.jupyter.widget-view+json": {
       "model_id": "0e40f8ee19094cd5b712e2ff92ca293e",
       "version_major": 2,
       "version_minor": 0
      },
      "text/plain": [
       "Predicting: 0it [00:00, ?it/s]"
      ]
     },
     "metadata": {},
     "output_type": "display_data"
    },
    {
     "name": "stderr",
     "output_type": "stream",
     "text": [
      "Global seed set to 2\n",
      "GPU available: True, used: True\n",
      "TPU available: False, using: 0 TPU cores\n",
      "IPU available: False, using: 0 IPUs\n",
      "LOCAL_RANK: 0 - CUDA_VISIBLE_DEVICES: [0,1,2,3,4,5,6,7]\n"
     ]
    },
    {
     "data": {
      "application/vnd.jupyter.widget-view+json": {
       "model_id": "01d7207e9ca44d2ea110c8b9da420424",
       "version_major": 2,
       "version_minor": 0
      },
      "text/plain": [
       "Predicting: 0it [00:00, ?it/s]"
      ]
     },
     "metadata": {},
     "output_type": "display_data"
    },
    {
     "name": "stdout",
     "output_type": "stream",
     "text": [
      "layer_name: layer3.2.act3, 2\n"
     ]
    },
    {
     "name": "stderr",
     "output_type": "stream",
     "text": [
      "Global seed set to 1\n",
      "GPU available: True, used: True\n",
      "TPU available: False, using: 0 TPU cores\n",
      "IPU available: False, using: 0 IPUs\n",
      "LOCAL_RANK: 0 - CUDA_VISIBLE_DEVICES: [0,1,2,3,4,5,6,7]\n"
     ]
    },
    {
     "data": {
      "application/vnd.jupyter.widget-view+json": {
       "model_id": "ea4cf5dcde9244cc8ca8014895cb1955",
       "version_major": 2,
       "version_minor": 0
      },
      "text/plain": [
       "Predicting: 0it [00:00, ?it/s]"
      ]
     },
     "metadata": {},
     "output_type": "display_data"
    },
    {
     "name": "stderr",
     "output_type": "stream",
     "text": [
      "Global seed set to 2\n",
      "GPU available: True, used: True\n",
      "TPU available: False, using: 0 TPU cores\n",
      "IPU available: False, using: 0 IPUs\n",
      "LOCAL_RANK: 0 - CUDA_VISIBLE_DEVICES: [0,1,2,3,4,5,6,7]\n"
     ]
    },
    {
     "data": {
      "application/vnd.jupyter.widget-view+json": {
       "model_id": "df86233d86084679a234e2bf440419ad",
       "version_major": 2,
       "version_minor": 0
      },
      "text/plain": [
       "Predicting: 0it [00:00, ?it/s]"
      ]
     },
     "metadata": {},
     "output_type": "display_data"
    },
    {
     "name": "stdout",
     "output_type": "stream",
     "text": [
      "layer_name: layer3.2.act3, 2\n"
     ]
    },
    {
     "name": "stderr",
     "output_type": "stream",
     "text": [
      "Global seed set to 2\n",
      "GPU available: True, used: True\n",
      "TPU available: False, using: 0 TPU cores\n",
      "IPU available: False, using: 0 IPUs\n",
      "LOCAL_RANK: 0 - CUDA_VISIBLE_DEVICES: [0,1,2,3,4,5,6,7]\n"
     ]
    },
    {
     "data": {
      "application/vnd.jupyter.widget-view+json": {
       "model_id": "d02ae403f96f4dd6a6a8490d80571524",
       "version_major": 2,
       "version_minor": 0
      },
      "text/plain": [
       "Predicting: 0it [00:00, ?it/s]"
      ]
     },
     "metadata": {},
     "output_type": "display_data"
    },
    {
     "name": "stderr",
     "output_type": "stream",
     "text": [
      "Global seed set to 1\n",
      "GPU available: True, used: True\n",
      "TPU available: False, using: 0 TPU cores\n",
      "IPU available: False, using: 0 IPUs\n",
      "LOCAL_RANK: 0 - CUDA_VISIBLE_DEVICES: [0,1,2,3,4,5,6,7]\n"
     ]
    },
    {
     "data": {
      "application/vnd.jupyter.widget-view+json": {
       "model_id": "c74e262f5f214976a626d354e1ee935e",
       "version_major": 2,
       "version_minor": 0
      },
      "text/plain": [
       "Predicting: 0it [00:00, ?it/s]"
      ]
     },
     "metadata": {},
     "output_type": "display_data"
    },
    {
     "name": "stdout",
     "output_type": "stream",
     "text": [
      "layer_name: layer3.2.act3, 2\n"
     ]
    },
    {
     "name": "stderr",
     "output_type": "stream",
     "text": [
      "Global seed set to 1\n",
      "GPU available: True, used: True\n",
      "TPU available: False, using: 0 TPU cores\n",
      "IPU available: False, using: 0 IPUs\n",
      "LOCAL_RANK: 0 - CUDA_VISIBLE_DEVICES: [0,1,2,3,4,5,6,7]\n"
     ]
    },
    {
     "data": {
      "application/vnd.jupyter.widget-view+json": {
       "model_id": "07705b19f1274c31be6acd0f7cdd3728",
       "version_major": 2,
       "version_minor": 0
      },
      "text/plain": [
       "Predicting: 0it [00:00, ?it/s]"
      ]
     },
     "metadata": {},
     "output_type": "display_data"
    },
    {
     "name": "stderr",
     "output_type": "stream",
     "text": [
      "Global seed set to 2\n",
      "GPU available: True, used: True\n",
      "TPU available: False, using: 0 TPU cores\n",
      "IPU available: False, using: 0 IPUs\n",
      "LOCAL_RANK: 0 - CUDA_VISIBLE_DEVICES: [0,1,2,3,4,5,6,7]\n"
     ]
    },
    {
     "data": {
      "application/vnd.jupyter.widget-view+json": {
       "model_id": "b60b162e910249a2bfedbace3985318a",
       "version_major": 2,
       "version_minor": 0
      },
      "text/plain": [
       "Predicting: 0it [00:00, ?it/s]"
      ]
     },
     "metadata": {},
     "output_type": "display_data"
    },
    {
     "name": "stdout",
     "output_type": "stream",
     "text": [
      "layer_name: layer3.2.act3, 2\n"
     ]
    },
    {
     "name": "stderr",
     "output_type": "stream",
     "text": [
      "Global seed set to 2\n",
      "GPU available: True, used: True\n",
      "TPU available: False, using: 0 TPU cores\n",
      "IPU available: False, using: 0 IPUs\n",
      "LOCAL_RANK: 0 - CUDA_VISIBLE_DEVICES: [0,1,2,3,4,5,6,7]\n"
     ]
    },
    {
     "data": {
      "application/vnd.jupyter.widget-view+json": {
       "model_id": "fd19885e59494b4eaa641bf56375cf2a",
       "version_major": 2,
       "version_minor": 0
      },
      "text/plain": [
       "Predicting: 0it [00:00, ?it/s]"
      ]
     },
     "metadata": {},
     "output_type": "display_data"
    },
    {
     "name": "stderr",
     "output_type": "stream",
     "text": [
      "Global seed set to 1\n",
      "GPU available: True, used: True\n",
      "TPU available: False, using: 0 TPU cores\n",
      "IPU available: False, using: 0 IPUs\n",
      "LOCAL_RANK: 0 - CUDA_VISIBLE_DEVICES: [0,1,2,3,4,5,6,7]\n"
     ]
    },
    {
     "data": {
      "application/vnd.jupyter.widget-view+json": {
       "model_id": "d34004e85242490a9d090bf8ab478bcd",
       "version_major": 2,
       "version_minor": 0
      },
      "text/plain": [
       "Predicting: 0it [00:00, ?it/s]"
      ]
     },
     "metadata": {},
     "output_type": "display_data"
    },
    {
     "name": "stdout",
     "output_type": "stream",
     "text": [
      "layer_name: layer3.2.act3, 1\n"
     ]
    },
    {
     "name": "stderr",
     "output_type": "stream",
     "text": [
      "Global seed set to 2\n",
      "GPU available: True, used: True\n",
      "TPU available: False, using: 0 TPU cores\n",
      "IPU available: False, using: 0 IPUs\n",
      "LOCAL_RANK: 0 - CUDA_VISIBLE_DEVICES: [0,1,2,3,4,5,6,7]\n"
     ]
    },
    {
     "data": {
      "application/vnd.jupyter.widget-view+json": {
       "model_id": "5d35d3e8aafc4000b427922f842b14a7",
       "version_major": 2,
       "version_minor": 0
      },
      "text/plain": [
       "Predicting: 0it [00:00, ?it/s]"
      ]
     },
     "metadata": {},
     "output_type": "display_data"
    },
    {
     "name": "stdout",
     "output_type": "stream",
     "text": [
      "layer_name: layer3.3.act3, 2\n",
      "Loaded cached for /NS/robustness_2/work/vnanda/invariances_in_reps/partially_inverted_reps/checkpoints/resnet50-base-imagenet-ft-flowers/frac-0.00050-mode-random-seed-2-ftmode-linear-lr-0.1-bs-256-nonrob/epoch=46-layer3.3.act3-topk=1.ckpt\n",
      "Loaded cached for /NS/robustness_2/work/vnanda/invariances_in_reps/partially_inverted_reps/checkpoints/resnet50-base-imagenet-ft-flowers/frac-0.00050-mode-random-seed-1-ftmode-linear-lr-0.1-bs-256-nonrob/epoch=23-layer3.3.act3-topk=1.ckpt\n",
      "layer_name: layer3.3.act3, 2\n",
      "Loaded cached for /NS/robustness_2/work/vnanda/invariances_in_reps/partially_inverted_reps/checkpoints/resnet50-base-imagenet-ft-flowers/frac-0.00500-mode-random-seed-2-ftmode-linear-lr-0.1-bs-256-nonrob/epoch=32-layer3.3.act3-topk=1.ckpt\n",
      "Loaded cached for /NS/robustness_2/work/vnanda/invariances_in_reps/partially_inverted_reps/checkpoints/resnet50-base-imagenet-ft-flowers/frac-0.00500-mode-random-seed-1-ftmode-linear-lr-0.1-bs-256-nonrob/epoch=26-layer3.3.act3-topk=1.ckpt\n",
      "layer_name: layer3.3.act3, 2\n",
      "Loaded cached for /NS/robustness_2/work/vnanda/invariances_in_reps/partially_inverted_reps/checkpoints/resnet50-base-imagenet-ft-flowers/frac-0.05000-mode-random-seed-2-ftmode-linear-lr-0.1-bs-256-nonrob/epoch=41-layer3.3.act3-topk=1.ckpt\n",
      "Loaded cached for /NS/robustness_2/work/vnanda/invariances_in_reps/partially_inverted_reps/checkpoints/resnet50-base-imagenet-ft-flowers/frac-0.05000-mode-random-seed-1-ftmode-linear-lr-0.1-bs-256-nonrob/epoch=49-layer3.3.act3-topk=1.ckpt\n",
      "layer_name: layer3.3.act3, 2\n",
      "Loaded cached for /NS/robustness_2/work/vnanda/invariances_in_reps/partially_inverted_reps/checkpoints/resnet50-base-imagenet-ft-flowers/frac-0.10000-mode-random-seed-1-ftmode-linear-lr-0.1-bs-256-nonrob/epoch=47-layer3.3.act3-topk=1.ckpt\n",
      "Loaded cached for /NS/robustness_2/work/vnanda/invariances_in_reps/partially_inverted_reps/checkpoints/resnet50-base-imagenet-ft-flowers/frac-0.10000-mode-random-seed-2-ftmode-linear-lr-0.1-bs-256-nonrob/epoch=47-layer3.3.act3-topk=1.ckpt\n",
      "layer_name: layer3.3.act3, 2\n",
      "Loaded cached for /NS/robustness_2/work/vnanda/invariances_in_reps/partially_inverted_reps/checkpoints/resnet50-base-imagenet-ft-flowers/frac-0.20000-mode-random-seed-1-ftmode-linear-lr-0.1-bs-256-nonrob/epoch=46-layer3.3.act3-topk=1.ckpt\n",
      "Loaded cached for /NS/robustness_2/work/vnanda/invariances_in_reps/partially_inverted_reps/checkpoints/resnet50-base-imagenet-ft-flowers/frac-0.20000-mode-random-seed-2-ftmode-linear-lr-0.1-bs-256-nonrob/epoch=48-layer3.3.act3-topk=1.ckpt\n",
      "layer_name: layer3.3.act3, 2\n",
      "Loaded cached for /NS/robustness_2/work/vnanda/invariances_in_reps/partially_inverted_reps/checkpoints/resnet50-base-imagenet-ft-flowers/frac-0.40000-mode-random-seed-1-ftmode-linear-lr-0.1-bs-256-nonrob/epoch=46-layer3.3.act3-topk=1.ckpt\n",
      "Loaded cached for /NS/robustness_2/work/vnanda/invariances_in_reps/partially_inverted_reps/checkpoints/resnet50-base-imagenet-ft-flowers/frac-0.40000-mode-random-seed-2-ftmode-linear-lr-0.1-bs-256-nonrob/epoch=41-layer3.3.act3-topk=1.ckpt\n",
      "layer_name: layer3.3.act3, 3\n",
      "Loaded cached for /NS/robustness_2/work/vnanda/invariances_in_reps/partially_inverted_reps/checkpoints/resnet50-base-imagenet-ft-flowers/frac-0.50000-mode-random-seed-2-ftmode-linear-lr-0.1-bs-256-nonrob/epoch=47-layer3.3.act3-topk=1.ckpt\n",
      "Loaded cached for /NS/robustness_2/work/vnanda/invariances_in_reps/partially_inverted_reps/checkpoints/resnet50-base-imagenet-ft-flowers/frac-0.50000-mode-random-seed-1-ftmode-linear-lr-0.1-bs-256-nonrob/epoch=40-layer3.3.act3-topk=1.ckpt\n",
      "layer_name: layer3.3.act3, 3\n",
      "Loaded cached for /NS/robustness_2/work/vnanda/invariances_in_reps/partially_inverted_reps/checkpoints/resnet50-base-imagenet-ft-flowers/frac-0.80000-mode-random-seed-1-ftmode-linear-lr-0.1-bs-256-nonrob/epoch=37-layer3.3.act3-topk=1.ckpt\n",
      "Loaded cached for /NS/robustness_2/work/vnanda/invariances_in_reps/partially_inverted_reps/checkpoints/resnet50-base-imagenet-ft-flowers/frac-0.80000-mode-random-seed-2-ftmode-linear-lr-0.1-bs-256-nonrob/epoch=39-layer3.3.act3-topk=1.ckpt\n",
      "layer_name: layer3.3.act3, 3\n",
      "Loaded cached for /NS/robustness_2/work/vnanda/invariances_in_reps/partially_inverted_reps/checkpoints/resnet50-base-imagenet-ft-flowers/frac-0.90000-mode-random-seed-3-ftmode-linear-lr-0.1-bs-256-nonrob/epoch=45-layer3.3.act3-topk=1.ckpt\n",
      "Loaded cached for /NS/robustness_2/work/vnanda/invariances_in_reps/partially_inverted_reps/checkpoints/resnet50-base-imagenet-ft-flowers/frac-0.90000-mode-random-seed-2-ftmode-linear-lr-0.1-bs-256-nonrob/epoch=43-layer3.3.act3-topk=1.ckpt\n",
      "layer_name: layer3.3.act3, 1\n",
      "Loaded cached for /NS/robustness_2/work/vnanda/invariances_in_reps/partially_inverted_reps/checkpoints/resnet50-base-imagenet-ft-flowers/frac-1.00000-mode-random-seed-2-ftmode-linear-lr-0.1-bs-256-nonrob/epoch=40-layer3.3.act3-topk=1.ckpt\n",
      "layer_name: layer3.4.act3, 3\n"
     ]
    },
    {
     "name": "stderr",
     "output_type": "stream",
     "text": [
      "Global seed set to 2\n",
      "GPU available: True, used: True\n",
      "TPU available: False, using: 0 TPU cores\n",
      "IPU available: False, using: 0 IPUs\n",
      "LOCAL_RANK: 0 - CUDA_VISIBLE_DEVICES: [0,1,2,3,4,5,6,7]\n"
     ]
    },
    {
     "data": {
      "application/vnd.jupyter.widget-view+json": {
       "model_id": "f160aab293564733bbb2417836b4cd33",
       "version_major": 2,
       "version_minor": 0
      },
      "text/plain": [
       "Predicting: 0it [00:00, ?it/s]"
      ]
     },
     "metadata": {},
     "output_type": "display_data"
    },
    {
     "name": "stderr",
     "output_type": "stream",
     "text": [
      "Global seed set to 1\n",
      "GPU available: True, used: True\n",
      "TPU available: False, using: 0 TPU cores\n",
      "IPU available: False, using: 0 IPUs\n",
      "LOCAL_RANK: 0 - CUDA_VISIBLE_DEVICES: [0,1,2,3,4,5,6,7]\n"
     ]
    },
    {
     "data": {
      "application/vnd.jupyter.widget-view+json": {
       "model_id": "033430ca7578440ab7fe2afee9264fbc",
       "version_major": 2,
       "version_minor": 0
      },
      "text/plain": [
       "Predicting: 0it [00:00, ?it/s]"
      ]
     },
     "metadata": {},
     "output_type": "display_data"
    },
    {
     "name": "stdout",
     "output_type": "stream",
     "text": [
      "layer_name: layer3.4.act3, 3\n"
     ]
    },
    {
     "name": "stderr",
     "output_type": "stream",
     "text": [
      "Global seed set to 3\n",
      "GPU available: True, used: True\n",
      "TPU available: False, using: 0 TPU cores\n",
      "IPU available: False, using: 0 IPUs\n",
      "LOCAL_RANK: 0 - CUDA_VISIBLE_DEVICES: [0,1,2,3,4,5,6,7]\n"
     ]
    },
    {
     "data": {
      "application/vnd.jupyter.widget-view+json": {
       "model_id": "aa28d3dac6344dcc85917c9c47ba119b",
       "version_major": 2,
       "version_minor": 0
      },
      "text/plain": [
       "Predicting: 0it [00:00, ?it/s]"
      ]
     },
     "metadata": {},
     "output_type": "display_data"
    },
    {
     "name": "stderr",
     "output_type": "stream",
     "text": [
      "Global seed set to 2\n",
      "GPU available: True, used: True\n",
      "TPU available: False, using: 0 TPU cores\n",
      "IPU available: False, using: 0 IPUs\n",
      "LOCAL_RANK: 0 - CUDA_VISIBLE_DEVICES: [0,1,2,3,4,5,6,7]\n"
     ]
    },
    {
     "data": {
      "application/vnd.jupyter.widget-view+json": {
       "model_id": "3880d024a20e4bb78b913fbdab7ea30d",
       "version_major": 2,
       "version_minor": 0
      },
      "text/plain": [
       "Predicting: 0it [00:00, ?it/s]"
      ]
     },
     "metadata": {},
     "output_type": "display_data"
    },
    {
     "name": "stdout",
     "output_type": "stream",
     "text": [
      "layer_name: layer3.4.act3, 3\n"
     ]
    },
    {
     "name": "stderr",
     "output_type": "stream",
     "text": [
      "Global seed set to 2\n",
      "GPU available: True, used: True\n",
      "TPU available: False, using: 0 TPU cores\n",
      "IPU available: False, using: 0 IPUs\n",
      "LOCAL_RANK: 0 - CUDA_VISIBLE_DEVICES: [0,1,2,3,4,5,6,7]\n"
     ]
    },
    {
     "data": {
      "application/vnd.jupyter.widget-view+json": {
       "model_id": "a5c7a0ec9f7b48dc8bad392e934ce5d1",
       "version_major": 2,
       "version_minor": 0
      },
      "text/plain": [
       "Predicting: 0it [00:00, ?it/s]"
      ]
     },
     "metadata": {},
     "output_type": "display_data"
    },
    {
     "name": "stderr",
     "output_type": "stream",
     "text": [
      "Global seed set to 1\n",
      "GPU available: True, used: True\n",
      "TPU available: False, using: 0 TPU cores\n",
      "IPU available: False, using: 0 IPUs\n",
      "LOCAL_RANK: 0 - CUDA_VISIBLE_DEVICES: [0,1,2,3,4,5,6,7]\n"
     ]
    },
    {
     "data": {
      "application/vnd.jupyter.widget-view+json": {
       "model_id": "a6cca1b1f68c40c0acd148d52ba4d5ba",
       "version_major": 2,
       "version_minor": 0
      },
      "text/plain": [
       "Predicting: 0it [00:00, ?it/s]"
      ]
     },
     "metadata": {},
     "output_type": "display_data"
    },
    {
     "name": "stdout",
     "output_type": "stream",
     "text": [
      "layer_name: layer3.4.act3, 3\n"
     ]
    },
    {
     "name": "stderr",
     "output_type": "stream",
     "text": [
      "Global seed set to 3\n",
      "GPU available: True, used: True\n",
      "TPU available: False, using: 0 TPU cores\n",
      "IPU available: False, using: 0 IPUs\n",
      "LOCAL_RANK: 0 - CUDA_VISIBLE_DEVICES: [0,1,2,3,4,5,6,7]\n"
     ]
    },
    {
     "data": {
      "application/vnd.jupyter.widget-view+json": {
       "model_id": "7c1562e1a8244580a2dad884a2a3358a",
       "version_major": 2,
       "version_minor": 0
      },
      "text/plain": [
       "Predicting: 0it [00:00, ?it/s]"
      ]
     },
     "metadata": {},
     "output_type": "display_data"
    },
    {
     "name": "stderr",
     "output_type": "stream",
     "text": [
      "Global seed set to 1\n",
      "GPU available: True, used: True\n",
      "TPU available: False, using: 0 TPU cores\n",
      "IPU available: False, using: 0 IPUs\n",
      "LOCAL_RANK: 0 - CUDA_VISIBLE_DEVICES: [0,1,2,3,4,5,6,7]\n"
     ]
    },
    {
     "data": {
      "application/vnd.jupyter.widget-view+json": {
       "model_id": "4716709bbb3f43a0a6f5e3fd5b54408f",
       "version_major": 2,
       "version_minor": 0
      },
      "text/plain": [
       "Predicting: 0it [00:00, ?it/s]"
      ]
     },
     "metadata": {},
     "output_type": "display_data"
    },
    {
     "name": "stdout",
     "output_type": "stream",
     "text": [
      "layer_name: layer3.4.act3, 3\n"
     ]
    },
    {
     "name": "stderr",
     "output_type": "stream",
     "text": [
      "Global seed set to 1\n",
      "GPU available: True, used: True\n",
      "TPU available: False, using: 0 TPU cores\n",
      "IPU available: False, using: 0 IPUs\n",
      "LOCAL_RANK: 0 - CUDA_VISIBLE_DEVICES: [0,1,2,3,4,5,6,7]\n"
     ]
    },
    {
     "data": {
      "application/vnd.jupyter.widget-view+json": {
       "model_id": "bab33fd059b843b59810aed404843875",
       "version_major": 2,
       "version_minor": 0
      },
      "text/plain": [
       "Predicting: 0it [00:00, ?it/s]"
      ]
     },
     "metadata": {},
     "output_type": "display_data"
    },
    {
     "name": "stderr",
     "output_type": "stream",
     "text": [
      "Global seed set to 2\n",
      "GPU available: True, used: True\n",
      "TPU available: False, using: 0 TPU cores\n",
      "IPU available: False, using: 0 IPUs\n",
      "LOCAL_RANK: 0 - CUDA_VISIBLE_DEVICES: [0,1,2,3,4,5,6,7]\n"
     ]
    },
    {
     "data": {
      "application/vnd.jupyter.widget-view+json": {
       "model_id": "da1e75bad28d423f8ac3e7fc3b1f85ec",
       "version_major": 2,
       "version_minor": 0
      },
      "text/plain": [
       "Predicting: 0it [00:00, ?it/s]"
      ]
     },
     "metadata": {},
     "output_type": "display_data"
    },
    {
     "name": "stdout",
     "output_type": "stream",
     "text": [
      "layer_name: layer3.4.act3, 3\n"
     ]
    },
    {
     "name": "stderr",
     "output_type": "stream",
     "text": [
      "Global seed set to 3\n",
      "GPU available: True, used: True\n",
      "TPU available: False, using: 0 TPU cores\n",
      "IPU available: False, using: 0 IPUs\n",
      "LOCAL_RANK: 0 - CUDA_VISIBLE_DEVICES: [0,1,2,3,4,5,6,7]\n"
     ]
    },
    {
     "data": {
      "application/vnd.jupyter.widget-view+json": {
       "model_id": "5758ad4304944849a87fa047634bc14b",
       "version_major": 2,
       "version_minor": 0
      },
      "text/plain": [
       "Predicting: 0it [00:00, ?it/s]"
      ]
     },
     "metadata": {},
     "output_type": "display_data"
    },
    {
     "name": "stderr",
     "output_type": "stream",
     "text": [
      "Global seed set to 1\n",
      "GPU available: True, used: True\n",
      "TPU available: False, using: 0 TPU cores\n",
      "IPU available: False, using: 0 IPUs\n",
      "LOCAL_RANK: 0 - CUDA_VISIBLE_DEVICES: [0,1,2,3,4,5,6,7]\n"
     ]
    },
    {
     "data": {
      "application/vnd.jupyter.widget-view+json": {
       "model_id": "9b0dd14b14b6426da6a029fb1e92f4fc",
       "version_major": 2,
       "version_minor": 0
      },
      "text/plain": [
       "Predicting: 0it [00:00, ?it/s]"
      ]
     },
     "metadata": {},
     "output_type": "display_data"
    },
    {
     "name": "stdout",
     "output_type": "stream",
     "text": [
      "layer_name: layer3.4.act3, 3\n"
     ]
    },
    {
     "name": "stderr",
     "output_type": "stream",
     "text": [
      "Global seed set to 2\n",
      "GPU available: True, used: True\n",
      "TPU available: False, using: 0 TPU cores\n",
      "IPU available: False, using: 0 IPUs\n",
      "LOCAL_RANK: 0 - CUDA_VISIBLE_DEVICES: [0,1,2,3,4,5,6,7]\n"
     ]
    },
    {
     "data": {
      "application/vnd.jupyter.widget-view+json": {
       "model_id": "b6c9960f326743d7bb07e5ce89394610",
       "version_major": 2,
       "version_minor": 0
      },
      "text/plain": [
       "Predicting: 0it [00:00, ?it/s]"
      ]
     },
     "metadata": {},
     "output_type": "display_data"
    },
    {
     "name": "stderr",
     "output_type": "stream",
     "text": [
      "Global seed set to 1\n",
      "GPU available: True, used: True\n",
      "TPU available: False, using: 0 TPU cores\n",
      "IPU available: False, using: 0 IPUs\n",
      "LOCAL_RANK: 0 - CUDA_VISIBLE_DEVICES: [0,1,2,3,4,5,6,7]\n"
     ]
    },
    {
     "data": {
      "application/vnd.jupyter.widget-view+json": {
       "model_id": "4f4822652a5f4764892d70a07a47f2e4",
       "version_major": 2,
       "version_minor": 0
      },
      "text/plain": [
       "Predicting: 0it [00:00, ?it/s]"
      ]
     },
     "metadata": {},
     "output_type": "display_data"
    },
    {
     "name": "stdout",
     "output_type": "stream",
     "text": [
      "layer_name: layer3.4.act3, 3\n"
     ]
    },
    {
     "name": "stderr",
     "output_type": "stream",
     "text": [
      "Global seed set to 1\n",
      "GPU available: True, used: True\n",
      "TPU available: False, using: 0 TPU cores\n",
      "IPU available: False, using: 0 IPUs\n",
      "LOCAL_RANK: 0 - CUDA_VISIBLE_DEVICES: [0,1,2,3,4,5,6,7]\n"
     ]
    },
    {
     "data": {
      "application/vnd.jupyter.widget-view+json": {
       "model_id": "276a2481621d4b6a87ca32d2c77b2487",
       "version_major": 2,
       "version_minor": 0
      },
      "text/plain": [
       "Predicting: 0it [00:00, ?it/s]"
      ]
     },
     "metadata": {},
     "output_type": "display_data"
    },
    {
     "name": "stderr",
     "output_type": "stream",
     "text": [
      "Global seed set to 2\n",
      "GPU available: True, used: True\n",
      "TPU available: False, using: 0 TPU cores\n",
      "IPU available: False, using: 0 IPUs\n",
      "LOCAL_RANK: 0 - CUDA_VISIBLE_DEVICES: [0,1,2,3,4,5,6,7]\n"
     ]
    },
    {
     "data": {
      "application/vnd.jupyter.widget-view+json": {
       "model_id": "5eb337cdbb38429dadb8d0f06af4138f",
       "version_major": 2,
       "version_minor": 0
      },
      "text/plain": [
       "Predicting: 0it [00:00, ?it/s]"
      ]
     },
     "metadata": {},
     "output_type": "display_data"
    },
    {
     "name": "stdout",
     "output_type": "stream",
     "text": [
      "layer_name: layer3.4.act3, 3\n"
     ]
    },
    {
     "name": "stderr",
     "output_type": "stream",
     "text": [
      "Global seed set to 3\n",
      "GPU available: True, used: True\n",
      "TPU available: False, using: 0 TPU cores\n",
      "IPU available: False, using: 0 IPUs\n",
      "LOCAL_RANK: 0 - CUDA_VISIBLE_DEVICES: [0,1,2,3,4,5,6,7]\n"
     ]
    },
    {
     "data": {
      "application/vnd.jupyter.widget-view+json": {
       "model_id": "6eeaa984b1874a7d823fd9ea2758ad9b",
       "version_major": 2,
       "version_minor": 0
      },
      "text/plain": [
       "Predicting: 0it [00:00, ?it/s]"
      ]
     },
     "metadata": {},
     "output_type": "display_data"
    },
    {
     "name": "stderr",
     "output_type": "stream",
     "text": [
      "Global seed set to 2\n",
      "GPU available: True, used: True\n",
      "TPU available: False, using: 0 TPU cores\n",
      "IPU available: False, using: 0 IPUs\n",
      "LOCAL_RANK: 0 - CUDA_VISIBLE_DEVICES: [0,1,2,3,4,5,6,7]\n"
     ]
    },
    {
     "data": {
      "application/vnd.jupyter.widget-view+json": {
       "model_id": "48c701faa0b14399b71ecf682bfe1472",
       "version_major": 2,
       "version_minor": 0
      },
      "text/plain": [
       "Predicting: 0it [00:00, ?it/s]"
      ]
     },
     "metadata": {},
     "output_type": "display_data"
    },
    {
     "name": "stdout",
     "output_type": "stream",
     "text": [
      "layer_name: layer3.4.act3, 1\n"
     ]
    },
    {
     "name": "stderr",
     "output_type": "stream",
     "text": [
      "Global seed set to 2\n",
      "GPU available: True, used: True\n",
      "TPU available: False, using: 0 TPU cores\n",
      "IPU available: False, using: 0 IPUs\n",
      "LOCAL_RANK: 0 - CUDA_VISIBLE_DEVICES: [0,1,2,3,4,5,6,7]\n"
     ]
    },
    {
     "data": {
      "application/vnd.jupyter.widget-view+json": {
       "model_id": "100c5721f1c145b1b30f6ec0fab74746",
       "version_major": 2,
       "version_minor": 0
      },
      "text/plain": [
       "Predicting: 0it [00:00, ?it/s]"
      ]
     },
     "metadata": {},
     "output_type": "display_data"
    },
    {
     "name": "stdout",
     "output_type": "stream",
     "text": [
      "layer_name: layer3.5.act3, 3\n",
      "Loaded cached for /NS/robustness_2/work/vnanda/invariances_in_reps/partially_inverted_reps/checkpoints/resnet50-base-imagenet-ft-flowers/frac-0.00050-mode-random-seed-2-ftmode-linear-lr-0.1-bs-256-nonrob/epoch=43-layer3.5.act3-topk=1.ckpt\n",
      "Loaded cached for /NS/robustness_2/work/vnanda/invariances_in_reps/partially_inverted_reps/checkpoints/resnet50-base-imagenet-ft-flowers/frac-0.00050-mode-random-seed-1-ftmode-linear-lr-0.1-bs-256-nonrob/epoch=30-layer3.5.act3-topk=1.ckpt\n",
      "layer_name: layer3.5.act3, 3\n",
      "Loaded cached for /NS/robustness_2/work/vnanda/invariances_in_reps/partially_inverted_reps/checkpoints/resnet50-base-imagenet-ft-flowers/frac-0.00500-mode-random-seed-3-ftmode-linear-lr-0.1-bs-256-nonrob/epoch=43-layer3.5.act3-topk=1.ckpt\n",
      "Loaded cached for /NS/robustness_2/work/vnanda/invariances_in_reps/partially_inverted_reps/checkpoints/resnet50-base-imagenet-ft-flowers/frac-0.00500-mode-random-seed-2-ftmode-linear-lr-0.1-bs-256-nonrob/epoch=32-layer3.5.act3-topk=1.ckpt\n",
      "layer_name: layer3.5.act3, 3\n",
      "Loaded cached for /NS/robustness_2/work/vnanda/invariances_in_reps/partially_inverted_reps/checkpoints/resnet50-base-imagenet-ft-flowers/frac-0.05000-mode-random-seed-2-ftmode-linear-lr-0.1-bs-256-nonrob/epoch=39-layer3.5.act3-topk=1.ckpt\n",
      "Loaded cached for /NS/robustness_2/work/vnanda/invariances_in_reps/partially_inverted_reps/checkpoints/resnet50-base-imagenet-ft-flowers/frac-0.05000-mode-random-seed-1-ftmode-linear-lr-0.1-bs-256-nonrob/epoch=47-layer3.5.act3-topk=1.ckpt\n",
      "layer_name: layer3.5.act3, 3\n",
      "Loaded cached for /NS/robustness_2/work/vnanda/invariances_in_reps/partially_inverted_reps/checkpoints/resnet50-base-imagenet-ft-flowers/frac-0.10000-mode-random-seed-3-ftmode-linear-lr-0.1-bs-256-nonrob/epoch=49-layer3.5.act3-topk=1.ckpt\n",
      "Loaded cached for /NS/robustness_2/work/vnanda/invariances_in_reps/partially_inverted_reps/checkpoints/resnet50-base-imagenet-ft-flowers/frac-0.10000-mode-random-seed-1-ftmode-linear-lr-0.1-bs-256-nonrob/epoch=40-layer3.5.act3-topk=1.ckpt\n",
      "layer_name: layer3.5.act3, 3\n",
      "Loaded cached for /NS/robustness_2/work/vnanda/invariances_in_reps/partially_inverted_reps/checkpoints/resnet50-base-imagenet-ft-flowers/frac-0.20000-mode-random-seed-1-ftmode-linear-lr-0.1-bs-256-nonrob/epoch=46-layer3.5.act3-topk=1.ckpt\n",
      "Loaded cached for /NS/robustness_2/work/vnanda/invariances_in_reps/partially_inverted_reps/checkpoints/resnet50-base-imagenet-ft-flowers/frac-0.20000-mode-random-seed-2-ftmode-linear-lr-0.1-bs-256-nonrob/epoch=40-layer3.5.act3-topk=1.ckpt\n",
      "layer_name: layer3.5.act3, 3\n",
      "Loaded cached for /NS/robustness_2/work/vnanda/invariances_in_reps/partially_inverted_reps/checkpoints/resnet50-base-imagenet-ft-flowers/frac-0.40000-mode-random-seed-3-ftmode-linear-lr-0.1-bs-256-nonrob/epoch=37-layer3.5.act3-topk=1.ckpt\n",
      "Loaded cached for /NS/robustness_2/work/vnanda/invariances_in_reps/partially_inverted_reps/checkpoints/resnet50-base-imagenet-ft-flowers/frac-0.40000-mode-random-seed-1-ftmode-linear-lr-0.1-bs-256-nonrob/epoch=47-layer3.5.act3-topk=1.ckpt\n",
      "layer_name: layer3.5.act3, 3\n",
      "Loaded cached for /NS/robustness_2/work/vnanda/invariances_in_reps/partially_inverted_reps/checkpoints/resnet50-base-imagenet-ft-flowers/frac-0.50000-mode-random-seed-2-ftmode-linear-lr-0.1-bs-256-nonrob/epoch=41-layer3.5.act3-topk=1.ckpt\n",
      "Loaded cached for /NS/robustness_2/work/vnanda/invariances_in_reps/partially_inverted_reps/checkpoints/resnet50-base-imagenet-ft-flowers/frac-0.50000-mode-random-seed-1-ftmode-linear-lr-0.1-bs-256-nonrob/epoch=40-layer3.5.act3-topk=1.ckpt\n",
      "layer_name: layer3.5.act3, 3\n",
      "Loaded cached for /NS/robustness_2/work/vnanda/invariances_in_reps/partially_inverted_reps/checkpoints/resnet50-base-imagenet-ft-flowers/frac-0.80000-mode-random-seed-1-ftmode-linear-lr-0.1-bs-256-nonrob/epoch=32-layer3.5.act3-topk=1.ckpt\n",
      "Loaded cached for /NS/robustness_2/work/vnanda/invariances_in_reps/partially_inverted_reps/checkpoints/resnet50-base-imagenet-ft-flowers/frac-0.80000-mode-random-seed-2-ftmode-linear-lr-0.1-bs-256-nonrob/epoch=47-layer3.5.act3-topk=1.ckpt\n",
      "layer_name: layer3.5.act3, 3\n",
      "Loaded cached for /NS/robustness_2/work/vnanda/invariances_in_reps/partially_inverted_reps/checkpoints/resnet50-base-imagenet-ft-flowers/frac-0.90000-mode-random-seed-3-ftmode-linear-lr-0.1-bs-256-nonrob/epoch=38-layer3.5.act3-topk=1.ckpt\n",
      "Loaded cached for /NS/robustness_2/work/vnanda/invariances_in_reps/partially_inverted_reps/checkpoints/resnet50-base-imagenet-ft-flowers/frac-0.90000-mode-random-seed-2-ftmode-linear-lr-0.1-bs-256-nonrob/epoch=48-layer3.5.act3-topk=1.ckpt\n",
      "layer_name: layer3.5.act3, 1\n",
      "Loaded cached for /NS/robustness_2/work/vnanda/invariances_in_reps/partially_inverted_reps/checkpoints/resnet50-base-imagenet-ft-flowers/frac-1.00000-mode-random-seed-2-ftmode-linear-lr-0.1-bs-256-nonrob/epoch=48-layer3.5.act3-topk=1.ckpt\n",
      "layer_name: layer4.0.act3, 3\n"
     ]
    },
    {
     "name": "stderr",
     "output_type": "stream",
     "text": [
      "Global seed set to 2\n",
      "GPU available: True, used: True\n",
      "TPU available: False, using: 0 TPU cores\n",
      "IPU available: False, using: 0 IPUs\n",
      "LOCAL_RANK: 0 - CUDA_VISIBLE_DEVICES: [0,1,2,3,4,5,6,7]\n"
     ]
    },
    {
     "data": {
      "application/vnd.jupyter.widget-view+json": {
       "model_id": "b0ee5acf336442bdaabd3c0d6531aaf1",
       "version_major": 2,
       "version_minor": 0
      },
      "text/plain": [
       "Predicting: 0it [00:00, ?it/s]"
      ]
     },
     "metadata": {},
     "output_type": "display_data"
    },
    {
     "name": "stderr",
     "output_type": "stream",
     "text": [
      "Global seed set to 1\n",
      "GPU available: True, used: True\n",
      "TPU available: False, using: 0 TPU cores\n",
      "IPU available: False, using: 0 IPUs\n",
      "LOCAL_RANK: 0 - CUDA_VISIBLE_DEVICES: [0,1,2,3,4,5,6,7]\n"
     ]
    },
    {
     "data": {
      "application/vnd.jupyter.widget-view+json": {
       "model_id": "8b8bff5c96ec4592876dc22c80235bfd",
       "version_major": 2,
       "version_minor": 0
      },
      "text/plain": [
       "Predicting: 0it [00:00, ?it/s]"
      ]
     },
     "metadata": {},
     "output_type": "display_data"
    },
    {
     "name": "stdout",
     "output_type": "stream",
     "text": [
      "layer_name: layer4.0.act3, 3\n"
     ]
    },
    {
     "name": "stderr",
     "output_type": "stream",
     "text": [
      "Global seed set to 3\n",
      "GPU available: True, used: True\n",
      "TPU available: False, using: 0 TPU cores\n",
      "IPU available: False, using: 0 IPUs\n",
      "LOCAL_RANK: 0 - CUDA_VISIBLE_DEVICES: [0,1,2,3,4,5,6,7]\n"
     ]
    },
    {
     "data": {
      "application/vnd.jupyter.widget-view+json": {
       "model_id": "5e2f23b0acd34fec87783e7794e9fbad",
       "version_major": 2,
       "version_minor": 0
      },
      "text/plain": [
       "Predicting: 0it [00:00, ?it/s]"
      ]
     },
     "metadata": {},
     "output_type": "display_data"
    },
    {
     "name": "stderr",
     "output_type": "stream",
     "text": [
      "Global seed set to 2\n",
      "GPU available: True, used: True\n",
      "TPU available: False, using: 0 TPU cores\n",
      "IPU available: False, using: 0 IPUs\n",
      "LOCAL_RANK: 0 - CUDA_VISIBLE_DEVICES: [0,1,2,3,4,5,6,7]\n"
     ]
    },
    {
     "data": {
      "application/vnd.jupyter.widget-view+json": {
       "model_id": "3c6e884e289a4ed583c72f5f26ba8c82",
       "version_major": 2,
       "version_minor": 0
      },
      "text/plain": [
       "Predicting: 0it [00:00, ?it/s]"
      ]
     },
     "metadata": {},
     "output_type": "display_data"
    },
    {
     "name": "stdout",
     "output_type": "stream",
     "text": [
      "layer_name: layer4.0.act3, 3\n"
     ]
    },
    {
     "name": "stderr",
     "output_type": "stream",
     "text": [
      "Global seed set to 2\n",
      "GPU available: True, used: True\n",
      "TPU available: False, using: 0 TPU cores\n",
      "IPU available: False, using: 0 IPUs\n",
      "LOCAL_RANK: 0 - CUDA_VISIBLE_DEVICES: [0,1,2,3,4,5,6,7]\n"
     ]
    },
    {
     "data": {
      "application/vnd.jupyter.widget-view+json": {
       "model_id": "345c570c20704be8b1e980dc43147699",
       "version_major": 2,
       "version_minor": 0
      },
      "text/plain": [
       "Predicting: 0it [00:00, ?it/s]"
      ]
     },
     "metadata": {},
     "output_type": "display_data"
    },
    {
     "name": "stderr",
     "output_type": "stream",
     "text": [
      "Global seed set to 1\n",
      "GPU available: True, used: True\n",
      "TPU available: False, using: 0 TPU cores\n",
      "IPU available: False, using: 0 IPUs\n",
      "LOCAL_RANK: 0 - CUDA_VISIBLE_DEVICES: [0,1,2,3,4,5,6,7]\n"
     ]
    },
    {
     "data": {
      "application/vnd.jupyter.widget-view+json": {
       "model_id": "35e7e11d8c0e4ef99bfe8a94d0920370",
       "version_major": 2,
       "version_minor": 0
      },
      "text/plain": [
       "Predicting: 0it [00:00, ?it/s]"
      ]
     },
     "metadata": {},
     "output_type": "display_data"
    },
    {
     "name": "stdout",
     "output_type": "stream",
     "text": [
      "layer_name: layer4.0.act3, 3\n"
     ]
    },
    {
     "name": "stderr",
     "output_type": "stream",
     "text": [
      "Global seed set to 3\n",
      "GPU available: True, used: True\n",
      "TPU available: False, using: 0 TPU cores\n",
      "IPU available: False, using: 0 IPUs\n",
      "LOCAL_RANK: 0 - CUDA_VISIBLE_DEVICES: [0,1,2,3,4,5,6,7]\n"
     ]
    },
    {
     "data": {
      "application/vnd.jupyter.widget-view+json": {
       "model_id": "e788e2178d6a4d4797f47aa9d481a285",
       "version_major": 2,
       "version_minor": 0
      },
      "text/plain": [
       "Predicting: 0it [00:00, ?it/s]"
      ]
     },
     "metadata": {},
     "output_type": "display_data"
    },
    {
     "name": "stderr",
     "output_type": "stream",
     "text": [
      "Global seed set to 1\n",
      "GPU available: True, used: True\n",
      "TPU available: False, using: 0 TPU cores\n",
      "IPU available: False, using: 0 IPUs\n",
      "LOCAL_RANK: 0 - CUDA_VISIBLE_DEVICES: [0,1,2,3,4,5,6,7]\n"
     ]
    },
    {
     "data": {
      "application/vnd.jupyter.widget-view+json": {
       "model_id": "ea70ad664666415290833f01e54089ea",
       "version_major": 2,
       "version_minor": 0
      },
      "text/plain": [
       "Predicting: 0it [00:00, ?it/s]"
      ]
     },
     "metadata": {},
     "output_type": "display_data"
    },
    {
     "name": "stdout",
     "output_type": "stream",
     "text": [
      "layer_name: layer4.0.act3, 3\n"
     ]
    },
    {
     "name": "stderr",
     "output_type": "stream",
     "text": [
      "Global seed set to 1\n",
      "GPU available: True, used: True\n",
      "TPU available: False, using: 0 TPU cores\n",
      "IPU available: False, using: 0 IPUs\n",
      "LOCAL_RANK: 0 - CUDA_VISIBLE_DEVICES: [0,1,2,3,4,5,6,7]\n"
     ]
    },
    {
     "data": {
      "application/vnd.jupyter.widget-view+json": {
       "model_id": "be664361bdd44e37bfbf3fd9bb3d5331",
       "version_major": 2,
       "version_minor": 0
      },
      "text/plain": [
       "Predicting: 0it [00:00, ?it/s]"
      ]
     },
     "metadata": {},
     "output_type": "display_data"
    },
    {
     "name": "stderr",
     "output_type": "stream",
     "text": [
      "Global seed set to 2\n",
      "GPU available: True, used: True\n",
      "TPU available: False, using: 0 TPU cores\n",
      "IPU available: False, using: 0 IPUs\n",
      "LOCAL_RANK: 0 - CUDA_VISIBLE_DEVICES: [0,1,2,3,4,5,6,7]\n"
     ]
    },
    {
     "data": {
      "application/vnd.jupyter.widget-view+json": {
       "model_id": "ac312e5eb329464d9938f73834aed746",
       "version_major": 2,
       "version_minor": 0
      },
      "text/plain": [
       "Predicting: 0it [00:00, ?it/s]"
      ]
     },
     "metadata": {},
     "output_type": "display_data"
    },
    {
     "name": "stdout",
     "output_type": "stream",
     "text": [
      "layer_name: layer4.0.act3, 3\n"
     ]
    },
    {
     "name": "stderr",
     "output_type": "stream",
     "text": [
      "Global seed set to 3\n",
      "GPU available: True, used: True\n",
      "TPU available: False, using: 0 TPU cores\n",
      "IPU available: False, using: 0 IPUs\n",
      "LOCAL_RANK: 0 - CUDA_VISIBLE_DEVICES: [0,1,2,3,4,5,6,7]\n"
     ]
    },
    {
     "data": {
      "application/vnd.jupyter.widget-view+json": {
       "model_id": "142f8e8f106b4f4786fc2bbbd5509a77",
       "version_major": 2,
       "version_minor": 0
      },
      "text/plain": [
       "Predicting: 0it [00:00, ?it/s]"
      ]
     },
     "metadata": {},
     "output_type": "display_data"
    },
    {
     "name": "stderr",
     "output_type": "stream",
     "text": [
      "Global seed set to 1\n",
      "GPU available: True, used: True\n",
      "TPU available: False, using: 0 TPU cores\n",
      "IPU available: False, using: 0 IPUs\n",
      "LOCAL_RANK: 0 - CUDA_VISIBLE_DEVICES: [0,1,2,3,4,5,6,7]\n"
     ]
    },
    {
     "data": {
      "application/vnd.jupyter.widget-view+json": {
       "model_id": "594a1b8374e84b82b3e2f51afcb3c55d",
       "version_major": 2,
       "version_minor": 0
      },
      "text/plain": [
       "Predicting: 0it [00:00, ?it/s]"
      ]
     },
     "metadata": {},
     "output_type": "display_data"
    },
    {
     "name": "stdout",
     "output_type": "stream",
     "text": [
      "layer_name: layer4.0.act3, 3\n"
     ]
    },
    {
     "name": "stderr",
     "output_type": "stream",
     "text": [
      "Global seed set to 2\n",
      "GPU available: True, used: True\n",
      "TPU available: False, using: 0 TPU cores\n",
      "IPU available: False, using: 0 IPUs\n",
      "LOCAL_RANK: 0 - CUDA_VISIBLE_DEVICES: [0,1,2,3,4,5,6,7]\n"
     ]
    },
    {
     "data": {
      "application/vnd.jupyter.widget-view+json": {
       "model_id": "b5e7680efd06464b8853414f6790192b",
       "version_major": 2,
       "version_minor": 0
      },
      "text/plain": [
       "Predicting: 0it [00:00, ?it/s]"
      ]
     },
     "metadata": {},
     "output_type": "display_data"
    },
    {
     "name": "stderr",
     "output_type": "stream",
     "text": [
      "Global seed set to 1\n",
      "GPU available: True, used: True\n",
      "TPU available: False, using: 0 TPU cores\n",
      "IPU available: False, using: 0 IPUs\n",
      "LOCAL_RANK: 0 - CUDA_VISIBLE_DEVICES: [0,1,2,3,4,5,6,7]\n"
     ]
    },
    {
     "data": {
      "application/vnd.jupyter.widget-view+json": {
       "model_id": "ed31fee0b0644139a4c7bfd0afaa9577",
       "version_major": 2,
       "version_minor": 0
      },
      "text/plain": [
       "Predicting: 0it [00:00, ?it/s]"
      ]
     },
     "metadata": {},
     "output_type": "display_data"
    },
    {
     "name": "stdout",
     "output_type": "stream",
     "text": [
      "layer_name: layer4.0.act3, 2\n"
     ]
    },
    {
     "name": "stderr",
     "output_type": "stream",
     "text": [
      "Global seed set to 1\n",
      "GPU available: True, used: True\n",
      "TPU available: False, using: 0 TPU cores\n",
      "IPU available: False, using: 0 IPUs\n",
      "LOCAL_RANK: 0 - CUDA_VISIBLE_DEVICES: [0,1,2,3,4,5,6,7]\n"
     ]
    },
    {
     "data": {
      "application/vnd.jupyter.widget-view+json": {
       "model_id": "78a7af26fb954390abed9f89a0bf2ee0",
       "version_major": 2,
       "version_minor": 0
      },
      "text/plain": [
       "Predicting: 0it [00:00, ?it/s]"
      ]
     },
     "metadata": {},
     "output_type": "display_data"
    },
    {
     "name": "stderr",
     "output_type": "stream",
     "text": [
      "Global seed set to 2\n",
      "GPU available: True, used: True\n",
      "TPU available: False, using: 0 TPU cores\n",
      "IPU available: False, using: 0 IPUs\n",
      "LOCAL_RANK: 0 - CUDA_VISIBLE_DEVICES: [0,1,2,3,4,5,6,7]\n"
     ]
    },
    {
     "data": {
      "application/vnd.jupyter.widget-view+json": {
       "model_id": "86fb4351b8ce4e6499359d183ff33fff",
       "version_major": 2,
       "version_minor": 0
      },
      "text/plain": [
       "Predicting: 0it [00:00, ?it/s]"
      ]
     },
     "metadata": {},
     "output_type": "display_data"
    },
    {
     "name": "stdout",
     "output_type": "stream",
     "text": [
      "layer_name: layer4.0.act3, 2\n"
     ]
    },
    {
     "name": "stderr",
     "output_type": "stream",
     "text": [
      "Global seed set to 2\n",
      "GPU available: True, used: True\n",
      "TPU available: False, using: 0 TPU cores\n",
      "IPU available: False, using: 0 IPUs\n",
      "LOCAL_RANK: 0 - CUDA_VISIBLE_DEVICES: [0,1,2,3,4,5,6,7]\n"
     ]
    },
    {
     "data": {
      "application/vnd.jupyter.widget-view+json": {
       "model_id": "59e02e44473343d28c0500c86921e6e8",
       "version_major": 2,
       "version_minor": 0
      },
      "text/plain": [
       "Predicting: 0it [00:00, ?it/s]"
      ]
     },
     "metadata": {},
     "output_type": "display_data"
    },
    {
     "name": "stderr",
     "output_type": "stream",
     "text": [
      "Global seed set to 1\n",
      "GPU available: True, used: True\n",
      "TPU available: False, using: 0 TPU cores\n",
      "IPU available: False, using: 0 IPUs\n",
      "LOCAL_RANK: 0 - CUDA_VISIBLE_DEVICES: [0,1,2,3,4,5,6,7]\n"
     ]
    },
    {
     "data": {
      "application/vnd.jupyter.widget-view+json": {
       "model_id": "28b6a8c7720e421b812c0cc1ba648350",
       "version_major": 2,
       "version_minor": 0
      },
      "text/plain": [
       "Predicting: 0it [00:00, ?it/s]"
      ]
     },
     "metadata": {},
     "output_type": "display_data"
    },
    {
     "name": "stdout",
     "output_type": "stream",
     "text": [
      "layer_name: layer4.0.act3, 1\n"
     ]
    },
    {
     "name": "stderr",
     "output_type": "stream",
     "text": [
      "Global seed set to 2\n",
      "GPU available: True, used: True\n",
      "TPU available: False, using: 0 TPU cores\n",
      "IPU available: False, using: 0 IPUs\n",
      "LOCAL_RANK: 0 - CUDA_VISIBLE_DEVICES: [0,1,2,3,4,5,6,7]\n"
     ]
    },
    {
     "data": {
      "application/vnd.jupyter.widget-view+json": {
       "model_id": "5b1615a0d55e4e8da074d2ae117838d4",
       "version_major": 2,
       "version_minor": 0
      },
      "text/plain": [
       "Predicting: 0it [00:00, ?it/s]"
      ]
     },
     "metadata": {},
     "output_type": "display_data"
    },
    {
     "name": "stdout",
     "output_type": "stream",
     "text": [
      "layer_name: layer4.1.act3, 2\n"
     ]
    },
    {
     "name": "stderr",
     "output_type": "stream",
     "text": [
      "Global seed set to 2\n",
      "GPU available: True, used: True\n",
      "TPU available: False, using: 0 TPU cores\n",
      "IPU available: False, using: 0 IPUs\n",
      "LOCAL_RANK: 0 - CUDA_VISIBLE_DEVICES: [0,1,2,3,4,5,6,7]\n"
     ]
    },
    {
     "data": {
      "application/vnd.jupyter.widget-view+json": {
       "model_id": "208e6c7a387b4ba092a77f51f619f804",
       "version_major": 2,
       "version_minor": 0
      },
      "text/plain": [
       "Predicting: 0it [00:00, ?it/s]"
      ]
     },
     "metadata": {},
     "output_type": "display_data"
    },
    {
     "name": "stderr",
     "output_type": "stream",
     "text": [
      "Global seed set to 1\n",
      "GPU available: True, used: True\n",
      "TPU available: False, using: 0 TPU cores\n",
      "IPU available: False, using: 0 IPUs\n",
      "LOCAL_RANK: 0 - CUDA_VISIBLE_DEVICES: [0,1,2,3,4,5,6,7]\n"
     ]
    },
    {
     "data": {
      "application/vnd.jupyter.widget-view+json": {
       "model_id": "6f5ebc0a2796414781c214e1534cf441",
       "version_major": 2,
       "version_minor": 0
      },
      "text/plain": [
       "Predicting: 0it [00:00, ?it/s]"
      ]
     },
     "metadata": {},
     "output_type": "display_data"
    },
    {
     "name": "stdout",
     "output_type": "stream",
     "text": [
      "layer_name: layer4.1.act3, 2\n"
     ]
    },
    {
     "name": "stderr",
     "output_type": "stream",
     "text": [
      "Global seed set to 2\n",
      "GPU available: True, used: True\n",
      "TPU available: False, using: 0 TPU cores\n",
      "IPU available: False, using: 0 IPUs\n",
      "LOCAL_RANK: 0 - CUDA_VISIBLE_DEVICES: [0,1,2,3,4,5,6,7]\n"
     ]
    },
    {
     "data": {
      "application/vnd.jupyter.widget-view+json": {
       "model_id": "ace1718e110c4609b455374b63fb8614",
       "version_major": 2,
       "version_minor": 0
      },
      "text/plain": [
       "Predicting: 0it [00:00, ?it/s]"
      ]
     },
     "metadata": {},
     "output_type": "display_data"
    },
    {
     "name": "stderr",
     "output_type": "stream",
     "text": [
      "Global seed set to 1\n",
      "GPU available: True, used: True\n",
      "TPU available: False, using: 0 TPU cores\n",
      "IPU available: False, using: 0 IPUs\n",
      "LOCAL_RANK: 0 - CUDA_VISIBLE_DEVICES: [0,1,2,3,4,5,6,7]\n"
     ]
    },
    {
     "data": {
      "application/vnd.jupyter.widget-view+json": {
       "model_id": "a6a717fed7ed4328a18c49277172a49f",
       "version_major": 2,
       "version_minor": 0
      },
      "text/plain": [
       "Predicting: 0it [00:00, ?it/s]"
      ]
     },
     "metadata": {},
     "output_type": "display_data"
    },
    {
     "name": "stdout",
     "output_type": "stream",
     "text": [
      "layer_name: layer4.1.act3, 2\n"
     ]
    },
    {
     "name": "stderr",
     "output_type": "stream",
     "text": [
      "Global seed set to 2\n",
      "GPU available: True, used: True\n",
      "TPU available: False, using: 0 TPU cores\n",
      "IPU available: False, using: 0 IPUs\n",
      "LOCAL_RANK: 0 - CUDA_VISIBLE_DEVICES: [0,1,2,3,4,5,6,7]\n"
     ]
    },
    {
     "data": {
      "application/vnd.jupyter.widget-view+json": {
       "model_id": "b4b5f5c560d24723bd2b56572ff336b3",
       "version_major": 2,
       "version_minor": 0
      },
      "text/plain": [
       "Predicting: 0it [00:00, ?it/s]"
      ]
     },
     "metadata": {},
     "output_type": "display_data"
    },
    {
     "name": "stderr",
     "output_type": "stream",
     "text": [
      "Global seed set to 1\n",
      "GPU available: True, used: True\n",
      "TPU available: False, using: 0 TPU cores\n",
      "IPU available: False, using: 0 IPUs\n",
      "LOCAL_RANK: 0 - CUDA_VISIBLE_DEVICES: [0,1,2,3,4,5,6,7]\n"
     ]
    },
    {
     "data": {
      "application/vnd.jupyter.widget-view+json": {
       "model_id": "5013dc66bac0477cba9dc4ffa593b9c8",
       "version_major": 2,
       "version_minor": 0
      },
      "text/plain": [
       "Predicting: 0it [00:00, ?it/s]"
      ]
     },
     "metadata": {},
     "output_type": "display_data"
    },
    {
     "name": "stdout",
     "output_type": "stream",
     "text": [
      "layer_name: layer4.1.act3, 2\n"
     ]
    },
    {
     "name": "stderr",
     "output_type": "stream",
     "text": [
      "Global seed set to 1\n",
      "GPU available: True, used: True\n",
      "TPU available: False, using: 0 TPU cores\n",
      "IPU available: False, using: 0 IPUs\n",
      "LOCAL_RANK: 0 - CUDA_VISIBLE_DEVICES: [0,1,2,3,4,5,6,7]\n"
     ]
    },
    {
     "data": {
      "application/vnd.jupyter.widget-view+json": {
       "model_id": "0903eef782fd48ad80a044724904cc18",
       "version_major": 2,
       "version_minor": 0
      },
      "text/plain": [
       "Predicting: 0it [00:00, ?it/s]"
      ]
     },
     "metadata": {},
     "output_type": "display_data"
    },
    {
     "name": "stderr",
     "output_type": "stream",
     "text": [
      "Global seed set to 2\n",
      "GPU available: True, used: True\n",
      "TPU available: False, using: 0 TPU cores\n",
      "IPU available: False, using: 0 IPUs\n",
      "LOCAL_RANK: 0 - CUDA_VISIBLE_DEVICES: [0,1,2,3,4,5,6,7]\n"
     ]
    },
    {
     "data": {
      "application/vnd.jupyter.widget-view+json": {
       "model_id": "8dd580157ca74e54925f4c1675029dfb",
       "version_major": 2,
       "version_minor": 0
      },
      "text/plain": [
       "Predicting: 0it [00:00, ?it/s]"
      ]
     },
     "metadata": {},
     "output_type": "display_data"
    },
    {
     "name": "stdout",
     "output_type": "stream",
     "text": [
      "layer_name: layer4.1.act3, 2\n"
     ]
    },
    {
     "name": "stderr",
     "output_type": "stream",
     "text": [
      "Global seed set to 1\n",
      "GPU available: True, used: True\n",
      "TPU available: False, using: 0 TPU cores\n",
      "IPU available: False, using: 0 IPUs\n",
      "LOCAL_RANK: 0 - CUDA_VISIBLE_DEVICES: [0,1,2,3,4,5,6,7]\n"
     ]
    },
    {
     "data": {
      "application/vnd.jupyter.widget-view+json": {
       "model_id": "04daf4d990944269b68b7391886ef892",
       "version_major": 2,
       "version_minor": 0
      },
      "text/plain": [
       "Predicting: 0it [00:00, ?it/s]"
      ]
     },
     "metadata": {},
     "output_type": "display_data"
    },
    {
     "name": "stderr",
     "output_type": "stream",
     "text": [
      "Global seed set to 2\n",
      "GPU available: True, used: True\n",
      "TPU available: False, using: 0 TPU cores\n",
      "IPU available: False, using: 0 IPUs\n",
      "LOCAL_RANK: 0 - CUDA_VISIBLE_DEVICES: [0,1,2,3,4,5,6,7]\n"
     ]
    },
    {
     "data": {
      "application/vnd.jupyter.widget-view+json": {
       "model_id": "593f6054555c4b82aef0852666b685ef",
       "version_major": 2,
       "version_minor": 0
      },
      "text/plain": [
       "Predicting: 0it [00:00, ?it/s]"
      ]
     },
     "metadata": {},
     "output_type": "display_data"
    },
    {
     "name": "stdout",
     "output_type": "stream",
     "text": [
      "layer_name: layer4.1.act3, 2\n"
     ]
    },
    {
     "name": "stderr",
     "output_type": "stream",
     "text": [
      "Global seed set to 1\n",
      "GPU available: True, used: True\n",
      "TPU available: False, using: 0 TPU cores\n",
      "IPU available: False, using: 0 IPUs\n",
      "LOCAL_RANK: 0 - CUDA_VISIBLE_DEVICES: [0,1,2,3,4,5,6,7]\n"
     ]
    },
    {
     "data": {
      "application/vnd.jupyter.widget-view+json": {
       "model_id": "ba50509fc36e4ec88f53cf20ddb960dc",
       "version_major": 2,
       "version_minor": 0
      },
      "text/plain": [
       "Predicting: 0it [00:00, ?it/s]"
      ]
     },
     "metadata": {},
     "output_type": "display_data"
    },
    {
     "name": "stderr",
     "output_type": "stream",
     "text": [
      "Global seed set to 2\n",
      "GPU available: True, used: True\n",
      "TPU available: False, using: 0 TPU cores\n",
      "IPU available: False, using: 0 IPUs\n",
      "LOCAL_RANK: 0 - CUDA_VISIBLE_DEVICES: [0,1,2,3,4,5,6,7]\n"
     ]
    },
    {
     "data": {
      "application/vnd.jupyter.widget-view+json": {
       "model_id": "fabeeeace34247aeac1eb10249ee2dc0",
       "version_major": 2,
       "version_minor": 0
      },
      "text/plain": [
       "Predicting: 0it [00:00, ?it/s]"
      ]
     },
     "metadata": {},
     "output_type": "display_data"
    },
    {
     "name": "stdout",
     "output_type": "stream",
     "text": [
      "layer_name: layer4.1.act3, 2\n"
     ]
    },
    {
     "name": "stderr",
     "output_type": "stream",
     "text": [
      "Global seed set to 2\n",
      "GPU available: True, used: True\n",
      "TPU available: False, using: 0 TPU cores\n",
      "IPU available: False, using: 0 IPUs\n",
      "LOCAL_RANK: 0 - CUDA_VISIBLE_DEVICES: [0,1,2,3,4,5,6,7]\n"
     ]
    },
    {
     "data": {
      "application/vnd.jupyter.widget-view+json": {
       "model_id": "2be3c97dc27b4e75b42e9df248ffcaa4",
       "version_major": 2,
       "version_minor": 0
      },
      "text/plain": [
       "Predicting: 0it [00:00, ?it/s]"
      ]
     },
     "metadata": {},
     "output_type": "display_data"
    },
    {
     "name": "stderr",
     "output_type": "stream",
     "text": [
      "Global seed set to 1\n",
      "GPU available: True, used: True\n",
      "TPU available: False, using: 0 TPU cores\n",
      "IPU available: False, using: 0 IPUs\n",
      "LOCAL_RANK: 0 - CUDA_VISIBLE_DEVICES: [0,1,2,3,4,5,6,7]\n"
     ]
    },
    {
     "data": {
      "application/vnd.jupyter.widget-view+json": {
       "model_id": "222ca01f03554446bd989649cc22532c",
       "version_major": 2,
       "version_minor": 0
      },
      "text/plain": [
       "Predicting: 0it [00:00, ?it/s]"
      ]
     },
     "metadata": {},
     "output_type": "display_data"
    },
    {
     "name": "stdout",
     "output_type": "stream",
     "text": [
      "layer_name: layer4.1.act3, 2\n"
     ]
    },
    {
     "name": "stderr",
     "output_type": "stream",
     "text": [
      "Global seed set to 1\n",
      "GPU available: True, used: True\n",
      "TPU available: False, using: 0 TPU cores\n",
      "IPU available: False, using: 0 IPUs\n",
      "LOCAL_RANK: 0 - CUDA_VISIBLE_DEVICES: [0,1,2,3,4,5,6,7]\n"
     ]
    },
    {
     "data": {
      "application/vnd.jupyter.widget-view+json": {
       "model_id": "f7f95a77b78742b895a32918ca143168",
       "version_major": 2,
       "version_minor": 0
      },
      "text/plain": [
       "Predicting: 0it [00:00, ?it/s]"
      ]
     },
     "metadata": {},
     "output_type": "display_data"
    },
    {
     "name": "stderr",
     "output_type": "stream",
     "text": [
      "Global seed set to 2\n",
      "GPU available: True, used: True\n",
      "TPU available: False, using: 0 TPU cores\n",
      "IPU available: False, using: 0 IPUs\n",
      "LOCAL_RANK: 0 - CUDA_VISIBLE_DEVICES: [0,1,2,3,4,5,6,7]\n"
     ]
    },
    {
     "data": {
      "application/vnd.jupyter.widget-view+json": {
       "model_id": "79ff6c131a16402b9f818395339b3ff5",
       "version_major": 2,
       "version_minor": 0
      },
      "text/plain": [
       "Predicting: 0it [00:00, ?it/s]"
      ]
     },
     "metadata": {},
     "output_type": "display_data"
    },
    {
     "name": "stdout",
     "output_type": "stream",
     "text": [
      "layer_name: layer4.1.act3, 2\n"
     ]
    },
    {
     "name": "stderr",
     "output_type": "stream",
     "text": [
      "Global seed set to 2\n",
      "GPU available: True, used: True\n",
      "TPU available: False, using: 0 TPU cores\n",
      "IPU available: False, using: 0 IPUs\n",
      "LOCAL_RANK: 0 - CUDA_VISIBLE_DEVICES: [0,1,2,3,4,5,6,7]\n"
     ]
    },
    {
     "data": {
      "application/vnd.jupyter.widget-view+json": {
       "model_id": "b9a837ee26fe4a37b307fcecc75d3675",
       "version_major": 2,
       "version_minor": 0
      },
      "text/plain": [
       "Predicting: 0it [00:00, ?it/s]"
      ]
     },
     "metadata": {},
     "output_type": "display_data"
    },
    {
     "name": "stderr",
     "output_type": "stream",
     "text": [
      "Global seed set to 1\n",
      "GPU available: True, used: True\n",
      "TPU available: False, using: 0 TPU cores\n",
      "IPU available: False, using: 0 IPUs\n",
      "LOCAL_RANK: 0 - CUDA_VISIBLE_DEVICES: [0,1,2,3,4,5,6,7]\n"
     ]
    },
    {
     "data": {
      "application/vnd.jupyter.widget-view+json": {
       "model_id": "0c991a29e93e446787791949d655ec84",
       "version_major": 2,
       "version_minor": 0
      },
      "text/plain": [
       "Predicting: 0it [00:00, ?it/s]"
      ]
     },
     "metadata": {},
     "output_type": "display_data"
    },
    {
     "name": "stdout",
     "output_type": "stream",
     "text": [
      "layer_name: layer4.1.act3, 1\n"
     ]
    },
    {
     "name": "stderr",
     "output_type": "stream",
     "text": [
      "Global seed set to 2\n",
      "GPU available: True, used: True\n",
      "TPU available: False, using: 0 TPU cores\n",
      "IPU available: False, using: 0 IPUs\n",
      "LOCAL_RANK: 0 - CUDA_VISIBLE_DEVICES: [0,1,2,3,4,5,6,7]\n"
     ]
    },
    {
     "data": {
      "application/vnd.jupyter.widget-view+json": {
       "model_id": "93bc1dd9e7ee447e91b7d56a96176476",
       "version_major": 2,
       "version_minor": 0
      },
      "text/plain": [
       "Predicting: 0it [00:00, ?it/s]"
      ]
     },
     "metadata": {},
     "output_type": "display_data"
    },
    {
     "name": "stdout",
     "output_type": "stream",
     "text": [
      "layer_name: layer4.2.act3, 2\n",
      "Loaded cached for /NS/robustness_2/work/vnanda/invariances_in_reps/partially_inverted_reps/checkpoints/resnet50-base-imagenet-ft-flowers/frac-0.00050-mode-random-seed-2-ftmode-linear-lr-0.1-bs-256-nonrob/epoch=21-layer4.2.act3-topk=1.ckpt\n",
      "Loaded cached for /NS/robustness_2/work/vnanda/invariances_in_reps/partially_inverted_reps/checkpoints/resnet50-base-imagenet-ft-flowers/frac-0.00050-mode-random-seed-1-ftmode-linear-lr-0.1-bs-256-nonrob/epoch=27-layer4.2.act3-topk=1.ckpt\n",
      "layer_name: layer4.2.act3, 2\n",
      "Loaded cached for /NS/robustness_2/work/vnanda/invariances_in_reps/partially_inverted_reps/checkpoints/resnet50-base-imagenet-ft-flowers/frac-0.00500-mode-random-seed-2-ftmode-linear-lr-0.1-bs-256-nonrob/epoch=19-layer4.2.act3-topk=1.ckpt\n",
      "Loaded cached for /NS/robustness_2/work/vnanda/invariances_in_reps/partially_inverted_reps/checkpoints/resnet50-base-imagenet-ft-flowers/frac-0.00500-mode-random-seed-1-ftmode-linear-lr-0.1-bs-256-nonrob/epoch=22-layer4.2.act3-topk=1.ckpt\n",
      "layer_name: layer4.2.act3, 2\n",
      "Loaded cached for /NS/robustness_2/work/vnanda/invariances_in_reps/partially_inverted_reps/checkpoints/resnet50-base-imagenet-ft-flowers/frac-0.05000-mode-random-seed-2-ftmode-linear-lr-0.1-bs-256-nonrob/epoch=31-layer4.2.act3-topk=1.ckpt\n",
      "Loaded cached for /NS/robustness_2/work/vnanda/invariances_in_reps/partially_inverted_reps/checkpoints/resnet50-base-imagenet-ft-flowers/frac-0.05000-mode-random-seed-1-ftmode-linear-lr-0.1-bs-256-nonrob/epoch=45-layer4.2.act3-topk=1.ckpt\n",
      "layer_name: layer4.2.act3, 2\n",
      "Loaded cached for /NS/robustness_2/work/vnanda/invariances_in_reps/partially_inverted_reps/checkpoints/resnet50-base-imagenet-ft-flowers/frac-0.10000-mode-random-seed-1-ftmode-linear-lr-0.1-bs-256-nonrob/epoch=40-layer4.2.act3-topk=1.ckpt\n",
      "Loaded cached for /NS/robustness_2/work/vnanda/invariances_in_reps/partially_inverted_reps/checkpoints/resnet50-base-imagenet-ft-flowers/frac-0.10000-mode-random-seed-2-ftmode-linear-lr-0.1-bs-256-nonrob/epoch=43-layer4.2.act3-topk=1.ckpt\n",
      "layer_name: layer4.2.act3, 2\n",
      "Loaded cached for /NS/robustness_2/work/vnanda/invariances_in_reps/partially_inverted_reps/checkpoints/resnet50-base-imagenet-ft-flowers/frac-0.20000-mode-random-seed-1-ftmode-linear-lr-0.1-bs-256-nonrob/epoch=42-layer4.2.act3-topk=1.ckpt\n",
      "Loaded cached for /NS/robustness_2/work/vnanda/invariances_in_reps/partially_inverted_reps/checkpoints/resnet50-base-imagenet-ft-flowers/frac-0.20000-mode-random-seed-2-ftmode-linear-lr-0.1-bs-256-nonrob/epoch=43-layer4.2.act3-topk=1.ckpt\n",
      "layer_name: layer4.2.act3, 2\n",
      "Loaded cached for /NS/robustness_2/work/vnanda/invariances_in_reps/partially_inverted_reps/checkpoints/resnet50-base-imagenet-ft-flowers/frac-0.40000-mode-random-seed-1-ftmode-linear-lr-0.1-bs-256-nonrob/epoch=40-layer4.2.act3-topk=1.ckpt\n",
      "Loaded cached for /NS/robustness_2/work/vnanda/invariances_in_reps/partially_inverted_reps/checkpoints/resnet50-base-imagenet-ft-flowers/frac-0.40000-mode-random-seed-2-ftmode-linear-lr-0.1-bs-256-nonrob/epoch=43-layer4.2.act3-topk=1.ckpt\n",
      "layer_name: layer4.2.act3, 2\n",
      "Loaded cached for /NS/robustness_2/work/vnanda/invariances_in_reps/partially_inverted_reps/checkpoints/resnet50-base-imagenet-ft-flowers/frac-0.50000-mode-random-seed-2-ftmode-linear-lr-0.1-bs-256-nonrob/epoch=32-layer4.2.act3-topk=1.ckpt\n",
      "Loaded cached for /NS/robustness_2/work/vnanda/invariances_in_reps/partially_inverted_reps/checkpoints/resnet50-base-imagenet-ft-flowers/frac-0.50000-mode-random-seed-1-ftmode-linear-lr-0.1-bs-256-nonrob/epoch=40-layer4.2.act3-topk=1.ckpt\n",
      "layer_name: layer4.2.act3, 2\n",
      "Loaded cached for /NS/robustness_2/work/vnanda/invariances_in_reps/partially_inverted_reps/checkpoints/resnet50-base-imagenet-ft-flowers/frac-0.80000-mode-random-seed-1-ftmode-linear-lr-0.1-bs-256-nonrob/epoch=23-layer4.2.act3-topk=1.ckpt\n",
      "Loaded cached for /NS/robustness_2/work/vnanda/invariances_in_reps/partially_inverted_reps/checkpoints/resnet50-base-imagenet-ft-flowers/frac-0.80000-mode-random-seed-2-ftmode-linear-lr-0.1-bs-256-nonrob/epoch=45-layer4.2.act3-topk=1.ckpt\n",
      "layer_name: layer4.2.act3, 2\n",
      "Loaded cached for /NS/robustness_2/work/vnanda/invariances_in_reps/partially_inverted_reps/checkpoints/resnet50-base-imagenet-ft-flowers/frac-0.90000-mode-random-seed-2-ftmode-linear-lr-0.1-bs-256-nonrob/epoch=45-layer4.2.act3-topk=1.ckpt\n",
      "Loaded cached for /NS/robustness_2/work/vnanda/invariances_in_reps/partially_inverted_reps/checkpoints/resnet50-base-imagenet-ft-flowers/frac-0.90000-mode-random-seed-1-ftmode-linear-lr-0.1-bs-256-nonrob/epoch=40-layer4.2.act3-topk=1.ckpt\n",
      "layer_name: layer4.2.act3, 1\n",
      "Loaded cached for /NS/robustness_2/work/vnanda/invariances_in_reps/partially_inverted_reps/checkpoints/resnet50-base-imagenet-ft-flowers/frac-1.00000-mode-random-seed-2-ftmode-linear-lr-0.1-bs-256-nonrob/epoch=45-layer4.2.act3-topk=1.ckpt\n",
      "layer_name: global_pool.pool, 2\n"
     ]
    },
    {
     "name": "stderr",
     "output_type": "stream",
     "text": [
      "Global seed set to 2\n",
      "GPU available: True, used: True\n",
      "TPU available: False, using: 0 TPU cores\n",
      "IPU available: False, using: 0 IPUs\n",
      "LOCAL_RANK: 0 - CUDA_VISIBLE_DEVICES: [0,1,2,3,4,5,6,7]\n"
     ]
    },
    {
     "data": {
      "application/vnd.jupyter.widget-view+json": {
       "model_id": "1a42f40fb99a48268c0c429b13018bd1",
       "version_major": 2,
       "version_minor": 0
      },
      "text/plain": [
       "Predicting: 0it [00:00, ?it/s]"
      ]
     },
     "metadata": {},
     "output_type": "display_data"
    },
    {
     "name": "stderr",
     "output_type": "stream",
     "text": [
      "Global seed set to 1\n",
      "GPU available: True, used: True\n",
      "TPU available: False, using: 0 TPU cores\n",
      "IPU available: False, using: 0 IPUs\n",
      "LOCAL_RANK: 0 - CUDA_VISIBLE_DEVICES: [0,1,2,3,4,5,6,7]\n"
     ]
    },
    {
     "data": {
      "application/vnd.jupyter.widget-view+json": {
       "model_id": "484de32f120d467c9594a8bdf7bbf1e8",
       "version_major": 2,
       "version_minor": 0
      },
      "text/plain": [
       "Predicting: 0it [00:00, ?it/s]"
      ]
     },
     "metadata": {},
     "output_type": "display_data"
    },
    {
     "name": "stdout",
     "output_type": "stream",
     "text": [
      "layer_name: global_pool.pool, 2\n"
     ]
    },
    {
     "name": "stderr",
     "output_type": "stream",
     "text": [
      "Global seed set to 2\n",
      "GPU available: True, used: True\n",
      "TPU available: False, using: 0 TPU cores\n",
      "IPU available: False, using: 0 IPUs\n",
      "LOCAL_RANK: 0 - CUDA_VISIBLE_DEVICES: [0,1,2,3,4,5,6,7]\n"
     ]
    },
    {
     "data": {
      "application/vnd.jupyter.widget-view+json": {
       "model_id": "1a9b570c594e4af7bb5857153d63e469",
       "version_major": 2,
       "version_minor": 0
      },
      "text/plain": [
       "Predicting: 0it [00:00, ?it/s]"
      ]
     },
     "metadata": {},
     "output_type": "display_data"
    },
    {
     "name": "stderr",
     "output_type": "stream",
     "text": [
      "Global seed set to 1\n",
      "GPU available: True, used: True\n",
      "TPU available: False, using: 0 TPU cores\n",
      "IPU available: False, using: 0 IPUs\n",
      "LOCAL_RANK: 0 - CUDA_VISIBLE_DEVICES: [0,1,2,3,4,5,6,7]\n"
     ]
    },
    {
     "data": {
      "application/vnd.jupyter.widget-view+json": {
       "model_id": "3e548ca3a71743ac887df62021770a6e",
       "version_major": 2,
       "version_minor": 0
      },
      "text/plain": [
       "Predicting: 0it [00:00, ?it/s]"
      ]
     },
     "metadata": {},
     "output_type": "display_data"
    },
    {
     "name": "stdout",
     "output_type": "stream",
     "text": [
      "layer_name: global_pool.pool, 2\n"
     ]
    },
    {
     "name": "stderr",
     "output_type": "stream",
     "text": [
      "Global seed set to 2\n",
      "GPU available: True, used: True\n",
      "TPU available: False, using: 0 TPU cores\n",
      "IPU available: False, using: 0 IPUs\n",
      "LOCAL_RANK: 0 - CUDA_VISIBLE_DEVICES: [0,1,2,3,4,5,6,7]\n"
     ]
    },
    {
     "data": {
      "application/vnd.jupyter.widget-view+json": {
       "model_id": "a2c9b4fc8cc349c2a58be73a78d90161",
       "version_major": 2,
       "version_minor": 0
      },
      "text/plain": [
       "Predicting: 0it [00:00, ?it/s]"
      ]
     },
     "metadata": {},
     "output_type": "display_data"
    },
    {
     "name": "stderr",
     "output_type": "stream",
     "text": [
      "Global seed set to 1\n",
      "GPU available: True, used: True\n",
      "TPU available: False, using: 0 TPU cores\n",
      "IPU available: False, using: 0 IPUs\n",
      "LOCAL_RANK: 0 - CUDA_VISIBLE_DEVICES: [0,1,2,3,4,5,6,7]\n"
     ]
    },
    {
     "data": {
      "application/vnd.jupyter.widget-view+json": {
       "model_id": "df25d4bca09c4148abd288f1a64a0f88",
       "version_major": 2,
       "version_minor": 0
      },
      "text/plain": [
       "Predicting: 0it [00:00, ?it/s]"
      ]
     },
     "metadata": {},
     "output_type": "display_data"
    },
    {
     "name": "stdout",
     "output_type": "stream",
     "text": [
      "layer_name: global_pool.pool, 2\n"
     ]
    },
    {
     "name": "stderr",
     "output_type": "stream",
     "text": [
      "Global seed set to 1\n",
      "GPU available: True, used: True\n",
      "TPU available: False, using: 0 TPU cores\n",
      "IPU available: False, using: 0 IPUs\n",
      "LOCAL_RANK: 0 - CUDA_VISIBLE_DEVICES: [0,1,2,3,4,5,6,7]\n"
     ]
    },
    {
     "data": {
      "application/vnd.jupyter.widget-view+json": {
       "model_id": "bb3a00aa02874c64b6d45dd4e8ce7aa6",
       "version_major": 2,
       "version_minor": 0
      },
      "text/plain": [
       "Predicting: 0it [00:00, ?it/s]"
      ]
     },
     "metadata": {},
     "output_type": "display_data"
    },
    {
     "name": "stderr",
     "output_type": "stream",
     "text": [
      "Global seed set to 2\n",
      "GPU available: True, used: True\n",
      "TPU available: False, using: 0 TPU cores\n",
      "IPU available: False, using: 0 IPUs\n",
      "LOCAL_RANK: 0 - CUDA_VISIBLE_DEVICES: [0,1,2,3,4,5,6,7]\n"
     ]
    },
    {
     "data": {
      "application/vnd.jupyter.widget-view+json": {
       "model_id": "bd9011e2d3334b16b75deab53b1752c5",
       "version_major": 2,
       "version_minor": 0
      },
      "text/plain": [
       "Predicting: 0it [00:00, ?it/s]"
      ]
     },
     "metadata": {},
     "output_type": "display_data"
    },
    {
     "name": "stdout",
     "output_type": "stream",
     "text": [
      "layer_name: global_pool.pool, 2\n"
     ]
    },
    {
     "name": "stderr",
     "output_type": "stream",
     "text": [
      "Global seed set to 1\n",
      "GPU available: True, used: True\n",
      "TPU available: False, using: 0 TPU cores\n",
      "IPU available: False, using: 0 IPUs\n",
      "LOCAL_RANK: 0 - CUDA_VISIBLE_DEVICES: [0,1,2,3,4,5,6,7]\n"
     ]
    },
    {
     "data": {
      "application/vnd.jupyter.widget-view+json": {
       "model_id": "e9269d91941e458191736162c0118f29",
       "version_major": 2,
       "version_minor": 0
      },
      "text/plain": [
       "Predicting: 0it [00:00, ?it/s]"
      ]
     },
     "metadata": {},
     "output_type": "display_data"
    },
    {
     "name": "stderr",
     "output_type": "stream",
     "text": [
      "Global seed set to 2\n",
      "GPU available: True, used: True\n",
      "TPU available: False, using: 0 TPU cores\n",
      "IPU available: False, using: 0 IPUs\n",
      "LOCAL_RANK: 0 - CUDA_VISIBLE_DEVICES: [0,1,2,3,4,5,6,7]\n"
     ]
    },
    {
     "data": {
      "application/vnd.jupyter.widget-view+json": {
       "model_id": "53c5ca9cb9884b928a8af9fd0602e043",
       "version_major": 2,
       "version_minor": 0
      },
      "text/plain": [
       "Predicting: 0it [00:00, ?it/s]"
      ]
     },
     "metadata": {},
     "output_type": "display_data"
    },
    {
     "name": "stdout",
     "output_type": "stream",
     "text": [
      "layer_name: global_pool.pool, 2\n"
     ]
    },
    {
     "name": "stderr",
     "output_type": "stream",
     "text": [
      "Global seed set to 1\n",
      "GPU available: True, used: True\n",
      "TPU available: False, using: 0 TPU cores\n",
      "IPU available: False, using: 0 IPUs\n",
      "LOCAL_RANK: 0 - CUDA_VISIBLE_DEVICES: [0,1,2,3,4,5,6,7]\n"
     ]
    },
    {
     "data": {
      "application/vnd.jupyter.widget-view+json": {
       "model_id": "09a9709da1554b249efa389eb788dc30",
       "version_major": 2,
       "version_minor": 0
      },
      "text/plain": [
       "Predicting: 0it [00:00, ?it/s]"
      ]
     },
     "metadata": {},
     "output_type": "display_data"
    },
    {
     "name": "stderr",
     "output_type": "stream",
     "text": [
      "Global seed set to 2\n",
      "GPU available: True, used: True\n",
      "TPU available: False, using: 0 TPU cores\n",
      "IPU available: False, using: 0 IPUs\n",
      "LOCAL_RANK: 0 - CUDA_VISIBLE_DEVICES: [0,1,2,3,4,5,6,7]\n"
     ]
    },
    {
     "data": {
      "application/vnd.jupyter.widget-view+json": {
       "model_id": "4062be4aff944083875e5caa0485fd8f",
       "version_major": 2,
       "version_minor": 0
      },
      "text/plain": [
       "Predicting: 0it [00:00, ?it/s]"
      ]
     },
     "metadata": {},
     "output_type": "display_data"
    },
    {
     "name": "stdout",
     "output_type": "stream",
     "text": [
      "layer_name: global_pool.pool, 2\n"
     ]
    },
    {
     "name": "stderr",
     "output_type": "stream",
     "text": [
      "Global seed set to 2\n",
      "GPU available: True, used: True\n",
      "TPU available: False, using: 0 TPU cores\n",
      "IPU available: False, using: 0 IPUs\n",
      "LOCAL_RANK: 0 - CUDA_VISIBLE_DEVICES: [0,1,2,3,4,5,6,7]\n"
     ]
    },
    {
     "data": {
      "application/vnd.jupyter.widget-view+json": {
       "model_id": "ef9290f39754472a8818318c5d24cf0f",
       "version_major": 2,
       "version_minor": 0
      },
      "text/plain": [
       "Predicting: 0it [00:00, ?it/s]"
      ]
     },
     "metadata": {},
     "output_type": "display_data"
    },
    {
     "name": "stderr",
     "output_type": "stream",
     "text": [
      "Global seed set to 1\n",
      "GPU available: True, used: True\n",
      "TPU available: False, using: 0 TPU cores\n",
      "IPU available: False, using: 0 IPUs\n",
      "LOCAL_RANK: 0 - CUDA_VISIBLE_DEVICES: [0,1,2,3,4,5,6,7]\n"
     ]
    },
    {
     "data": {
      "application/vnd.jupyter.widget-view+json": {
       "model_id": "f63370bf038c49e4b0a4d51138b7f749",
       "version_major": 2,
       "version_minor": 0
      },
      "text/plain": [
       "Predicting: 0it [00:00, ?it/s]"
      ]
     },
     "metadata": {},
     "output_type": "display_data"
    },
    {
     "name": "stdout",
     "output_type": "stream",
     "text": [
      "layer_name: global_pool.pool, 2\n"
     ]
    },
    {
     "name": "stderr",
     "output_type": "stream",
     "text": [
      "Global seed set to 1\n",
      "GPU available: True, used: True\n",
      "TPU available: False, using: 0 TPU cores\n",
      "IPU available: False, using: 0 IPUs\n",
      "LOCAL_RANK: 0 - CUDA_VISIBLE_DEVICES: [0,1,2,3,4,5,6,7]\n"
     ]
    },
    {
     "data": {
      "application/vnd.jupyter.widget-view+json": {
       "model_id": "206719d1deaf4fa59597fd00397214ef",
       "version_major": 2,
       "version_minor": 0
      },
      "text/plain": [
       "Predicting: 0it [00:00, ?it/s]"
      ]
     },
     "metadata": {},
     "output_type": "display_data"
    },
    {
     "name": "stderr",
     "output_type": "stream",
     "text": [
      "Global seed set to 2\n",
      "GPU available: True, used: True\n",
      "TPU available: False, using: 0 TPU cores\n",
      "IPU available: False, using: 0 IPUs\n",
      "LOCAL_RANK: 0 - CUDA_VISIBLE_DEVICES: [0,1,2,3,4,5,6,7]\n"
     ]
    },
    {
     "data": {
      "application/vnd.jupyter.widget-view+json": {
       "model_id": "001e6ee2ba4a45a1b29847dbe01c3fa3",
       "version_major": 2,
       "version_minor": 0
      },
      "text/plain": [
       "Predicting: 0it [00:00, ?it/s]"
      ]
     },
     "metadata": {},
     "output_type": "display_data"
    },
    {
     "name": "stdout",
     "output_type": "stream",
     "text": [
      "layer_name: global_pool.pool, 2\n"
     ]
    },
    {
     "name": "stderr",
     "output_type": "stream",
     "text": [
      "Global seed set to 2\n",
      "GPU available: True, used: True\n",
      "TPU available: False, using: 0 TPU cores\n",
      "IPU available: False, using: 0 IPUs\n",
      "LOCAL_RANK: 0 - CUDA_VISIBLE_DEVICES: [0,1,2,3,4,5,6,7]\n"
     ]
    },
    {
     "data": {
      "application/vnd.jupyter.widget-view+json": {
       "model_id": "88473a6e337d4adf9ba7e5fca6163987",
       "version_major": 2,
       "version_minor": 0
      },
      "text/plain": [
       "Predicting: 0it [00:00, ?it/s]"
      ]
     },
     "metadata": {},
     "output_type": "display_data"
    },
    {
     "name": "stderr",
     "output_type": "stream",
     "text": [
      "Global seed set to 1\n",
      "GPU available: True, used: True\n",
      "TPU available: False, using: 0 TPU cores\n",
      "IPU available: False, using: 0 IPUs\n",
      "LOCAL_RANK: 0 - CUDA_VISIBLE_DEVICES: [0,1,2,3,4,5,6,7]\n"
     ]
    },
    {
     "data": {
      "application/vnd.jupyter.widget-view+json": {
       "model_id": "f152704b099f479493b212d95be0261c",
       "version_major": 2,
       "version_minor": 0
      },
      "text/plain": [
       "Predicting: 0it [00:00, ?it/s]"
      ]
     },
     "metadata": {},
     "output_type": "display_data"
    },
    {
     "name": "stdout",
     "output_type": "stream",
     "text": [
      "layer_name: global_pool.pool, 1\n"
     ]
    },
    {
     "name": "stderr",
     "output_type": "stream",
     "text": [
      "Global seed set to 2\n",
      "GPU available: True, used: True\n",
      "TPU available: False, using: 0 TPU cores\n",
      "IPU available: False, using: 0 IPUs\n",
      "LOCAL_RANK: 0 - CUDA_VISIBLE_DEVICES: [0,1,2,3,4,5,6,7]\n"
     ]
    },
    {
     "data": {
      "application/vnd.jupyter.widget-view+json": {
       "model_id": "b2465dbb43eb4079bc5cb56a6dbcb514",
       "version_major": 2,
       "version_minor": 0
      },
      "text/plain": [
       "Predicting: 0it [00:00, ?it/s]"
      ]
     },
     "metadata": {},
     "output_type": "display_data"
    },
    {
     "name": "stderr",
     "output_type": "stream",
     "text": [
      "Global seed set to 2\n"
     ]
    },
    {
     "name": "stdout",
     "output_type": "stream",
     "text": [
      "['layer1.0.act3', 'layer1.1.act3', 'layer1.2.act3', 'layer2.0.act3', 'layer2.1.act3', 'layer2.2.act3', 'layer2.3.act3', 'layer3.0.act3', 'layer3.1.act3', 'layer3.2.act3', 'layer3.3.act3', 'layer3.4.act3', 'layer3.5.act3', 'layer4.0.act3', 'layer4.1.act3', 'layer4.2.act3', 'global_pool.pool']\n",
      "layer_name: layer1.0.act3, 5\n",
      "Loaded cached for /NS/robustness_2/work/vnanda/invariances_in_reps/partially_inverted_reps/checkpoints/resnet50-base-imagenet-ft-oxford-iiit-pets/frac-0.00050-mode-random-seed-1-ftmode-linear-lr-0.1-bs-256-nonrob/epoch=40-layer1.0.act3-topk=1.ckpt\n",
      "Loaded cached for /NS/robustness_2/work/vnanda/invariances_in_reps/partially_inverted_reps/checkpoints/resnet50-base-imagenet-ft-oxford-iiit-pets/frac-0.00050-mode-random-seed-5-ftmode-linear-lr-0.1-bs-256-nonrob/epoch=33-layer1.0.act3-topk=1.ckpt\n",
      "layer_name: layer1.0.act3, 5\n",
      "Loaded cached for /NS/robustness_2/work/vnanda/invariances_in_reps/partially_inverted_reps/checkpoints/resnet50-base-imagenet-ft-oxford-iiit-pets/frac-0.00500-mode-random-seed-3-ftmode-linear-lr-0.1-bs-256-nonrob/epoch=34-layer1.0.act3-topk=1.ckpt\n",
      "Loaded cached for /NS/robustness_2/work/vnanda/invariances_in_reps/partially_inverted_reps/checkpoints/resnet50-base-imagenet-ft-oxford-iiit-pets/frac-0.00500-mode-random-seed-4-ftmode-linear-lr-0.1-bs-256-nonrob/epoch=43-layer1.0.act3-topk=1.ckpt\n",
      "layer_name: layer1.0.act3, 5\n",
      "Loaded cached for /NS/robustness_2/work/vnanda/invariances_in_reps/partially_inverted_reps/checkpoints/resnet50-base-imagenet-ft-oxford-iiit-pets/frac-0.05000-mode-random-seed-1-ftmode-linear-lr-0.1-bs-256-nonrob/epoch=36-layer1.0.act3-topk=1.ckpt\n",
      "Loaded cached for /NS/robustness_2/work/vnanda/invariances_in_reps/partially_inverted_reps/checkpoints/resnet50-base-imagenet-ft-oxford-iiit-pets/frac-0.05000-mode-random-seed-2-ftmode-linear-lr-0.1-bs-256-nonrob/epoch=45-layer1.0.act3-topk=1.ckpt\n",
      "layer_name: layer1.0.act3, 5\n",
      "Loaded cached for /NS/robustness_2/work/vnanda/invariances_in_reps/partially_inverted_reps/checkpoints/resnet50-base-imagenet-ft-oxford-iiit-pets/frac-0.10000-mode-random-seed-4-ftmode-linear-lr-0.1-bs-256-nonrob/epoch=43-layer1.0.act3-topk=1.ckpt\n",
      "Loaded cached for /NS/robustness_2/work/vnanda/invariances_in_reps/partially_inverted_reps/checkpoints/resnet50-base-imagenet-ft-oxford-iiit-pets/frac-0.10000-mode-random-seed-3-ftmode-linear-lr-0.1-bs-256-nonrob/epoch=34-layer1.0.act3-topk=1.ckpt\n",
      "layer_name: layer1.0.act3, 5\n",
      "Loaded cached for /NS/robustness_2/work/vnanda/invariances_in_reps/partially_inverted_reps/checkpoints/resnet50-base-imagenet-ft-oxford-iiit-pets/frac-0.20000-mode-random-seed-2-ftmode-linear-lr-0.1-bs-256-nonrob/epoch=45-layer1.0.act3-topk=1.ckpt\n",
      "Loaded cached for /NS/robustness_2/work/vnanda/invariances_in_reps/partially_inverted_reps/checkpoints/resnet50-base-imagenet-ft-oxford-iiit-pets/frac-0.20000-mode-random-seed-5-ftmode-linear-lr-0.1-bs-256-nonrob/epoch=47-layer1.0.act3-topk=1.ckpt\n",
      "layer_name: layer1.0.act3, 5\n",
      "Loaded cached for /NS/robustness_2/work/vnanda/invariances_in_reps/partially_inverted_reps/checkpoints/resnet50-base-imagenet-ft-oxford-iiit-pets/frac-0.40000-mode-random-seed-4-ftmode-linear-lr-0.1-bs-256-nonrob/epoch=35-layer1.0.act3-topk=1.ckpt\n",
      "Loaded cached for /NS/robustness_2/work/vnanda/invariances_in_reps/partially_inverted_reps/checkpoints/resnet50-base-imagenet-ft-oxford-iiit-pets/frac-0.40000-mode-random-seed-3-ftmode-linear-lr-0.1-bs-256-nonrob/epoch=34-layer1.0.act3-topk=1.ckpt\n",
      "layer_name: layer1.0.act3, 5\n",
      "Loaded cached for /NS/robustness_2/work/vnanda/invariances_in_reps/partially_inverted_reps/checkpoints/resnet50-base-imagenet-ft-oxford-iiit-pets/frac-0.50000-mode-random-seed-1-ftmode-linear-lr-0.1-bs-256-nonrob/epoch=37-layer1.0.act3-topk=1.ckpt\n",
      "Loaded cached for /NS/robustness_2/work/vnanda/invariances_in_reps/partially_inverted_reps/checkpoints/resnet50-base-imagenet-ft-oxford-iiit-pets/frac-0.50000-mode-random-seed-5-ftmode-linear-lr-0.1-bs-256-nonrob/epoch=43-layer1.0.act3-topk=1.ckpt\n",
      "layer_name: layer1.0.act3, 5\n",
      "Loaded cached for /NS/robustness_2/work/vnanda/invariances_in_reps/partially_inverted_reps/checkpoints/resnet50-base-imagenet-ft-oxford-iiit-pets/frac-0.80000-mode-random-seed-2-ftmode-linear-lr-0.1-bs-256-nonrob/epoch=32-layer1.0.act3-topk=1.ckpt\n",
      "Loaded cached for /NS/robustness_2/work/vnanda/invariances_in_reps/partially_inverted_reps/checkpoints/resnet50-base-imagenet-ft-oxford-iiit-pets/frac-0.80000-mode-random-seed-5-ftmode-linear-lr-0.1-bs-256-nonrob/epoch=49-layer1.0.act3-topk=1.ckpt\n",
      "layer_name: layer1.0.act3, 5\n",
      "Loaded cached for /NS/robustness_2/work/vnanda/invariances_in_reps/partially_inverted_reps/checkpoints/resnet50-base-imagenet-ft-oxford-iiit-pets/frac-0.90000-mode-random-seed-3-ftmode-linear-lr-0.1-bs-256-nonrob/epoch=29-layer1.0.act3-topk=1.ckpt\n",
      "Loaded cached for /NS/robustness_2/work/vnanda/invariances_in_reps/partially_inverted_reps/checkpoints/resnet50-base-imagenet-ft-oxford-iiit-pets/frac-0.90000-mode-random-seed-4-ftmode-linear-lr-0.1-bs-256-nonrob/epoch=41-layer1.0.act3-topk=1.ckpt\n",
      "layer_name: layer1.0.act3, 1\n",
      "Loaded cached for /NS/robustness_2/work/vnanda/invariances_in_reps/partially_inverted_reps/checkpoints/resnet50-base-imagenet-ft-oxford-iiit-pets/frac-1.00000-mode-random-seed-2-ftmode-linear-lr-0.1-bs-256-nonrob/epoch=45-layer1.0.act3-topk=1.ckpt\n",
      "layer_name: layer1.1.act3, 5\n"
     ]
    },
    {
     "name": "stderr",
     "output_type": "stream",
     "text": [
      "Global seed set to 1\n",
      "GPU available: True, used: True\n",
      "TPU available: False, using: 0 TPU cores\n",
      "IPU available: False, using: 0 IPUs\n",
      "Global seed set to 0\n",
      "LOCAL_RANK: 0 - CUDA_VISIBLE_DEVICES: [0,1,2,3,4,5,6,7]\n"
     ]
    },
    {
     "data": {
      "application/vnd.jupyter.widget-view+json": {
       "model_id": "784f1a3beaf443fdb552a8caf0c05e50",
       "version_major": 2,
       "version_minor": 0
      },
      "text/plain": [
       "Predicting: 0it [00:00, ?it/s]"
      ]
     },
     "metadata": {},
     "output_type": "display_data"
    },
    {
     "name": "stderr",
     "output_type": "stream",
     "text": [
      "Global seed set to 5\n",
      "GPU available: True, used: True\n",
      "TPU available: False, using: 0 TPU cores\n",
      "IPU available: False, using: 0 IPUs\n",
      "LOCAL_RANK: 0 - CUDA_VISIBLE_DEVICES: [0,1,2,3,4,5,6,7]\n"
     ]
    },
    {
     "data": {
      "application/vnd.jupyter.widget-view+json": {
       "model_id": "ad1e552c67f94e78bdf46007c9bff763",
       "version_major": 2,
       "version_minor": 0
      },
      "text/plain": [
       "Predicting: 0it [00:00, ?it/s]"
      ]
     },
     "metadata": {},
     "output_type": "display_data"
    },
    {
     "name": "stdout",
     "output_type": "stream",
     "text": [
      "layer_name: layer1.1.act3, 5\n"
     ]
    },
    {
     "name": "stderr",
     "output_type": "stream",
     "text": [
      "Global seed set to 3\n",
      "GPU available: True, used: True\n",
      "TPU available: False, using: 0 TPU cores\n",
      "IPU available: False, using: 0 IPUs\n",
      "LOCAL_RANK: 0 - CUDA_VISIBLE_DEVICES: [0,1,2,3,4,5,6,7]\n"
     ]
    },
    {
     "data": {
      "application/vnd.jupyter.widget-view+json": {
       "model_id": "689d623c438c4fcc8cd495e3616211ad",
       "version_major": 2,
       "version_minor": 0
      },
      "text/plain": [
       "Predicting: 0it [00:00, ?it/s]"
      ]
     },
     "metadata": {},
     "output_type": "display_data"
    },
    {
     "name": "stderr",
     "output_type": "stream",
     "text": [
      "Global seed set to 4\n",
      "GPU available: True, used: True\n",
      "TPU available: False, using: 0 TPU cores\n",
      "IPU available: False, using: 0 IPUs\n",
      "LOCAL_RANK: 0 - CUDA_VISIBLE_DEVICES: [0,1,2,3,4,5,6,7]\n"
     ]
    },
    {
     "data": {
      "application/vnd.jupyter.widget-view+json": {
       "model_id": "3cbc06f30d984f039f0ac48878259526",
       "version_major": 2,
       "version_minor": 0
      },
      "text/plain": [
       "Predicting: 0it [00:00, ?it/s]"
      ]
     },
     "metadata": {},
     "output_type": "display_data"
    },
    {
     "name": "stdout",
     "output_type": "stream",
     "text": [
      "layer_name: layer1.1.act3, 5\n"
     ]
    },
    {
     "name": "stderr",
     "output_type": "stream",
     "text": [
      "Global seed set to 1\n",
      "GPU available: True, used: True\n",
      "TPU available: False, using: 0 TPU cores\n",
      "IPU available: False, using: 0 IPUs\n",
      "LOCAL_RANK: 0 - CUDA_VISIBLE_DEVICES: [0,1,2,3,4,5,6,7]\n"
     ]
    },
    {
     "data": {
      "application/vnd.jupyter.widget-view+json": {
       "model_id": "8874d05308904402a8a66ea1e6e060b9",
       "version_major": 2,
       "version_minor": 0
      },
      "text/plain": [
       "Predicting: 0it [00:00, ?it/s]"
      ]
     },
     "metadata": {},
     "output_type": "display_data"
    },
    {
     "name": "stderr",
     "output_type": "stream",
     "text": [
      "Global seed set to 2\n",
      "GPU available: True, used: True\n",
      "TPU available: False, using: 0 TPU cores\n",
      "IPU available: False, using: 0 IPUs\n",
      "LOCAL_RANK: 0 - CUDA_VISIBLE_DEVICES: [0,1,2,3,4,5,6,7]\n"
     ]
    },
    {
     "data": {
      "application/vnd.jupyter.widget-view+json": {
       "model_id": "0f9bd0978beb436ea69ad5d3437c8cc6",
       "version_major": 2,
       "version_minor": 0
      },
      "text/plain": [
       "Predicting: 0it [00:00, ?it/s]"
      ]
     },
     "metadata": {},
     "output_type": "display_data"
    },
    {
     "name": "stdout",
     "output_type": "stream",
     "text": [
      "layer_name: layer1.1.act3, 5\n"
     ]
    },
    {
     "name": "stderr",
     "output_type": "stream",
     "text": [
      "Global seed set to 4\n",
      "GPU available: True, used: True\n",
      "TPU available: False, using: 0 TPU cores\n",
      "IPU available: False, using: 0 IPUs\n",
      "LOCAL_RANK: 0 - CUDA_VISIBLE_DEVICES: [0,1,2,3,4,5,6,7]\n"
     ]
    },
    {
     "data": {
      "application/vnd.jupyter.widget-view+json": {
       "model_id": "b1fd587fe51e40efb55e070ee8c743a4",
       "version_major": 2,
       "version_minor": 0
      },
      "text/plain": [
       "Predicting: 0it [00:00, ?it/s]"
      ]
     },
     "metadata": {},
     "output_type": "display_data"
    },
    {
     "name": "stderr",
     "output_type": "stream",
     "text": [
      "Global seed set to 3\n",
      "GPU available: True, used: True\n",
      "TPU available: False, using: 0 TPU cores\n",
      "IPU available: False, using: 0 IPUs\n",
      "LOCAL_RANK: 0 - CUDA_VISIBLE_DEVICES: [0,1,2,3,4,5,6,7]\n"
     ]
    },
    {
     "data": {
      "application/vnd.jupyter.widget-view+json": {
       "model_id": "d382dba2829e4e8e8132c1c12c1c0bc6",
       "version_major": 2,
       "version_minor": 0
      },
      "text/plain": [
       "Predicting: 0it [00:00, ?it/s]"
      ]
     },
     "metadata": {},
     "output_type": "display_data"
    },
    {
     "name": "stdout",
     "output_type": "stream",
     "text": [
      "layer_name: layer1.1.act3, 5\n"
     ]
    },
    {
     "name": "stderr",
     "output_type": "stream",
     "text": [
      "Global seed set to 2\n",
      "GPU available: True, used: True\n",
      "TPU available: False, using: 0 TPU cores\n",
      "IPU available: False, using: 0 IPUs\n",
      "LOCAL_RANK: 0 - CUDA_VISIBLE_DEVICES: [0,1,2,3,4,5,6,7]\n"
     ]
    },
    {
     "data": {
      "application/vnd.jupyter.widget-view+json": {
       "model_id": "d9b8df339f3f4c2983dc55ab89dce45e",
       "version_major": 2,
       "version_minor": 0
      },
      "text/plain": [
       "Predicting: 0it [00:00, ?it/s]"
      ]
     },
     "metadata": {},
     "output_type": "display_data"
    },
    {
     "name": "stderr",
     "output_type": "stream",
     "text": [
      "Global seed set to 5\n",
      "GPU available: True, used: True\n",
      "TPU available: False, using: 0 TPU cores\n",
      "IPU available: False, using: 0 IPUs\n",
      "LOCAL_RANK: 0 - CUDA_VISIBLE_DEVICES: [0,1,2,3,4,5,6,7]\n"
     ]
    },
    {
     "data": {
      "application/vnd.jupyter.widget-view+json": {
       "model_id": "05bede8ce7934efb9a807303bc99cccd",
       "version_major": 2,
       "version_minor": 0
      },
      "text/plain": [
       "Predicting: 0it [00:00, ?it/s]"
      ]
     },
     "metadata": {},
     "output_type": "display_data"
    },
    {
     "name": "stdout",
     "output_type": "stream",
     "text": [
      "layer_name: layer1.1.act3, 5\n"
     ]
    },
    {
     "name": "stderr",
     "output_type": "stream",
     "text": [
      "Global seed set to 4\n",
      "GPU available: True, used: True\n",
      "TPU available: False, using: 0 TPU cores\n",
      "IPU available: False, using: 0 IPUs\n",
      "LOCAL_RANK: 0 - CUDA_VISIBLE_DEVICES: [0,1,2,3,4,5,6,7]\n"
     ]
    },
    {
     "data": {
      "application/vnd.jupyter.widget-view+json": {
       "model_id": "6af70e1c45dd4030b266950bbeefaafa",
       "version_major": 2,
       "version_minor": 0
      },
      "text/plain": [
       "Predicting: 0it [00:00, ?it/s]"
      ]
     },
     "metadata": {},
     "output_type": "display_data"
    },
    {
     "name": "stderr",
     "output_type": "stream",
     "text": [
      "Global seed set to 3\n",
      "GPU available: True, used: True\n",
      "TPU available: False, using: 0 TPU cores\n",
      "IPU available: False, using: 0 IPUs\n",
      "LOCAL_RANK: 0 - CUDA_VISIBLE_DEVICES: [0,1,2,3,4,5,6,7]\n"
     ]
    },
    {
     "data": {
      "application/vnd.jupyter.widget-view+json": {
       "model_id": "78de3bce8bce4b29816cbdbc80185ea6",
       "version_major": 2,
       "version_minor": 0
      },
      "text/plain": [
       "Predicting: 0it [00:00, ?it/s]"
      ]
     },
     "metadata": {},
     "output_type": "display_data"
    },
    {
     "name": "stdout",
     "output_type": "stream",
     "text": [
      "layer_name: layer1.1.act3, 5\n"
     ]
    },
    {
     "name": "stderr",
     "output_type": "stream",
     "text": [
      "Global seed set to 1\n",
      "GPU available: True, used: True\n",
      "TPU available: False, using: 0 TPU cores\n",
      "IPU available: False, using: 0 IPUs\n",
      "LOCAL_RANK: 0 - CUDA_VISIBLE_DEVICES: [0,1,2,3,4,5,6,7]\n"
     ]
    },
    {
     "data": {
      "application/vnd.jupyter.widget-view+json": {
       "model_id": "fba625263a1b449a87a7ba443f49438b",
       "version_major": 2,
       "version_minor": 0
      },
      "text/plain": [
       "Predicting: 0it [00:00, ?it/s]"
      ]
     },
     "metadata": {},
     "output_type": "display_data"
    },
    {
     "name": "stderr",
     "output_type": "stream",
     "text": [
      "Global seed set to 5\n",
      "GPU available: True, used: True\n",
      "TPU available: False, using: 0 TPU cores\n",
      "IPU available: False, using: 0 IPUs\n",
      "LOCAL_RANK: 0 - CUDA_VISIBLE_DEVICES: [0,1,2,3,4,5,6,7]\n"
     ]
    },
    {
     "data": {
      "application/vnd.jupyter.widget-view+json": {
       "model_id": "f8b2a1ea04a249fd8982ecfbf9702fd4",
       "version_major": 2,
       "version_minor": 0
      },
      "text/plain": [
       "Predicting: 0it [00:00, ?it/s]"
      ]
     },
     "metadata": {},
     "output_type": "display_data"
    },
    {
     "name": "stdout",
     "output_type": "stream",
     "text": [
      "layer_name: layer1.1.act3, 5\n"
     ]
    },
    {
     "name": "stderr",
     "output_type": "stream",
     "text": [
      "Global seed set to 2\n",
      "GPU available: True, used: True\n",
      "TPU available: False, using: 0 TPU cores\n",
      "IPU available: False, using: 0 IPUs\n",
      "LOCAL_RANK: 0 - CUDA_VISIBLE_DEVICES: [0,1,2,3,4,5,6,7]\n"
     ]
    },
    {
     "data": {
      "application/vnd.jupyter.widget-view+json": {
       "model_id": "2697578ac0fc4a0facd6d576fb7f6228",
       "version_major": 2,
       "version_minor": 0
      },
      "text/plain": [
       "Predicting: 0it [00:00, ?it/s]"
      ]
     },
     "metadata": {},
     "output_type": "display_data"
    },
    {
     "name": "stderr",
     "output_type": "stream",
     "text": [
      "Global seed set to 5\n",
      "GPU available: True, used: True\n",
      "TPU available: False, using: 0 TPU cores\n",
      "IPU available: False, using: 0 IPUs\n",
      "LOCAL_RANK: 0 - CUDA_VISIBLE_DEVICES: [0,1,2,3,4,5,6,7]\n"
     ]
    },
    {
     "data": {
      "application/vnd.jupyter.widget-view+json": {
       "model_id": "ddd3420d6383482780e6ac320cf1843a",
       "version_major": 2,
       "version_minor": 0
      },
      "text/plain": [
       "Predicting: 0it [00:00, ?it/s]"
      ]
     },
     "metadata": {},
     "output_type": "display_data"
    },
    {
     "name": "stdout",
     "output_type": "stream",
     "text": [
      "layer_name: layer1.1.act3, 5\n"
     ]
    },
    {
     "name": "stderr",
     "output_type": "stream",
     "text": [
      "Global seed set to 3\n",
      "GPU available: True, used: True\n",
      "TPU available: False, using: 0 TPU cores\n",
      "IPU available: False, using: 0 IPUs\n",
      "LOCAL_RANK: 0 - CUDA_VISIBLE_DEVICES: [0,1,2,3,4,5,6,7]\n"
     ]
    },
    {
     "data": {
      "application/vnd.jupyter.widget-view+json": {
       "model_id": "1ae442de5e484d838a1dd8c11790921d",
       "version_major": 2,
       "version_minor": 0
      },
      "text/plain": [
       "Predicting: 0it [00:00, ?it/s]"
      ]
     },
     "metadata": {},
     "output_type": "display_data"
    },
    {
     "name": "stderr",
     "output_type": "stream",
     "text": [
      "Global seed set to 4\n",
      "GPU available: True, used: True\n",
      "TPU available: False, using: 0 TPU cores\n",
      "IPU available: False, using: 0 IPUs\n",
      "LOCAL_RANK: 0 - CUDA_VISIBLE_DEVICES: [0,1,2,3,4,5,6,7]\n"
     ]
    },
    {
     "data": {
      "application/vnd.jupyter.widget-view+json": {
       "model_id": "0947b1381e77436cbfd7b8fea49c2b3d",
       "version_major": 2,
       "version_minor": 0
      },
      "text/plain": [
       "Predicting: 0it [00:00, ?it/s]"
      ]
     },
     "metadata": {},
     "output_type": "display_data"
    },
    {
     "name": "stdout",
     "output_type": "stream",
     "text": [
      "layer_name: layer1.1.act3, 1\n"
     ]
    },
    {
     "name": "stderr",
     "output_type": "stream",
     "text": [
      "Global seed set to 2\n",
      "GPU available: True, used: True\n",
      "TPU available: False, using: 0 TPU cores\n",
      "IPU available: False, using: 0 IPUs\n",
      "LOCAL_RANK: 0 - CUDA_VISIBLE_DEVICES: [0,1,2,3,4,5,6,7]\n"
     ]
    },
    {
     "data": {
      "application/vnd.jupyter.widget-view+json": {
       "model_id": "ed55d4fd28e44e1d8667c0c041de36b5",
       "version_major": 2,
       "version_minor": 0
      },
      "text/plain": [
       "Predicting: 0it [00:00, ?it/s]"
      ]
     },
     "metadata": {},
     "output_type": "display_data"
    },
    {
     "name": "stdout",
     "output_type": "stream",
     "text": [
      "layer_name: layer1.2.act3, 3\n"
     ]
    },
    {
     "name": "stderr",
     "output_type": "stream",
     "text": [
      "Global seed set to 1\n",
      "GPU available: True, used: True\n",
      "TPU available: False, using: 0 TPU cores\n",
      "IPU available: False, using: 0 IPUs\n",
      "LOCAL_RANK: 0 - CUDA_VISIBLE_DEVICES: [0,1,2,3,4,5,6,7]\n"
     ]
    },
    {
     "data": {
      "application/vnd.jupyter.widget-view+json": {
       "model_id": "4869a79e61b14b82b1d1dfaedea793ff",
       "version_major": 2,
       "version_minor": 0
      },
      "text/plain": [
       "Predicting: 0it [00:00, ?it/s]"
      ]
     },
     "metadata": {},
     "output_type": "display_data"
    },
    {
     "name": "stderr",
     "output_type": "stream",
     "text": [
      "Global seed set to 2\n",
      "GPU available: True, used: True\n",
      "TPU available: False, using: 0 TPU cores\n",
      "IPU available: False, using: 0 IPUs\n",
      "LOCAL_RANK: 0 - CUDA_VISIBLE_DEVICES: [0,1,2,3,4,5,6,7]\n"
     ]
    },
    {
     "data": {
      "application/vnd.jupyter.widget-view+json": {
       "model_id": "8f0adefe35194408a996741e0ec57bcc",
       "version_major": 2,
       "version_minor": 0
      },
      "text/plain": [
       "Predicting: 0it [00:00, ?it/s]"
      ]
     },
     "metadata": {},
     "output_type": "display_data"
    },
    {
     "name": "stdout",
     "output_type": "stream",
     "text": [
      "layer_name: layer1.2.act3, 3\n"
     ]
    },
    {
     "name": "stderr",
     "output_type": "stream",
     "text": [
      "Global seed set to 3\n",
      "GPU available: True, used: True\n",
      "TPU available: False, using: 0 TPU cores\n",
      "IPU available: False, using: 0 IPUs\n",
      "LOCAL_RANK: 0 - CUDA_VISIBLE_DEVICES: [0,1,2,3,4,5,6,7]\n"
     ]
    },
    {
     "data": {
      "application/vnd.jupyter.widget-view+json": {
       "model_id": "abc9ba1d6b744b6d8ff39c2549377484",
       "version_major": 2,
       "version_minor": 0
      },
      "text/plain": [
       "Predicting: 0it [00:00, ?it/s]"
      ]
     },
     "metadata": {},
     "output_type": "display_data"
    },
    {
     "name": "stderr",
     "output_type": "stream",
     "text": [
      "Global seed set to 1\n",
      "GPU available: True, used: True\n",
      "TPU available: False, using: 0 TPU cores\n",
      "IPU available: False, using: 0 IPUs\n",
      "LOCAL_RANK: 0 - CUDA_VISIBLE_DEVICES: [0,1,2,3,4,5,6,7]\n"
     ]
    },
    {
     "data": {
      "application/vnd.jupyter.widget-view+json": {
       "model_id": "c73196e8bf7940e684d3e97463058c9a",
       "version_major": 2,
       "version_minor": 0
      },
      "text/plain": [
       "Predicting: 0it [00:00, ?it/s]"
      ]
     },
     "metadata": {},
     "output_type": "display_data"
    },
    {
     "name": "stdout",
     "output_type": "stream",
     "text": [
      "layer_name: layer1.2.act3, 3\n"
     ]
    },
    {
     "name": "stderr",
     "output_type": "stream",
     "text": [
      "Global seed set to 1\n",
      "GPU available: True, used: True\n",
      "TPU available: False, using: 0 TPU cores\n",
      "IPU available: False, using: 0 IPUs\n",
      "LOCAL_RANK: 0 - CUDA_VISIBLE_DEVICES: [0,1,2,3,4,5,6,7]\n"
     ]
    },
    {
     "data": {
      "application/vnd.jupyter.widget-view+json": {
       "model_id": "531afe5f242544afa5f2046e45505213",
       "version_major": 2,
       "version_minor": 0
      },
      "text/plain": [
       "Predicting: 0it [00:00, ?it/s]"
      ]
     },
     "metadata": {},
     "output_type": "display_data"
    },
    {
     "name": "stderr",
     "output_type": "stream",
     "text": [
      "Global seed set to 2\n",
      "GPU available: True, used: True\n",
      "TPU available: False, using: 0 TPU cores\n",
      "IPU available: False, using: 0 IPUs\n",
      "LOCAL_RANK: 0 - CUDA_VISIBLE_DEVICES: [0,1,2,3,4,5,6,7]\n"
     ]
    },
    {
     "data": {
      "application/vnd.jupyter.widget-view+json": {
       "model_id": "3cbe40db2d62434f976a3f1f4bd7fe63",
       "version_major": 2,
       "version_minor": 0
      },
      "text/plain": [
       "Predicting: 0it [00:00, ?it/s]"
      ]
     },
     "metadata": {},
     "output_type": "display_data"
    },
    {
     "name": "stdout",
     "output_type": "stream",
     "text": [
      "layer_name: layer1.2.act3, 3\n"
     ]
    },
    {
     "name": "stderr",
     "output_type": "stream",
     "text": [
      "Global seed set to 3\n",
      "GPU available: True, used: True\n",
      "TPU available: False, using: 0 TPU cores\n",
      "IPU available: False, using: 0 IPUs\n",
      "LOCAL_RANK: 0 - CUDA_VISIBLE_DEVICES: [0,1,2,3,4,5,6,7]\n"
     ]
    },
    {
     "data": {
      "application/vnd.jupyter.widget-view+json": {
       "model_id": "cd94dcf055624e54a564111998b56891",
       "version_major": 2,
       "version_minor": 0
      },
      "text/plain": [
       "Predicting: 0it [00:00, ?it/s]"
      ]
     },
     "metadata": {},
     "output_type": "display_data"
    },
    {
     "name": "stderr",
     "output_type": "stream",
     "text": [
      "Global seed set to 2\n",
      "GPU available: True, used: True\n",
      "TPU available: False, using: 0 TPU cores\n",
      "IPU available: False, using: 0 IPUs\n",
      "LOCAL_RANK: 0 - CUDA_VISIBLE_DEVICES: [0,1,2,3,4,5,6,7]\n"
     ]
    },
    {
     "data": {
      "application/vnd.jupyter.widget-view+json": {
       "model_id": "7d9d14c57933401cb08b038d7dd7b404",
       "version_major": 2,
       "version_minor": 0
      },
      "text/plain": [
       "Predicting: 0it [00:00, ?it/s]"
      ]
     },
     "metadata": {},
     "output_type": "display_data"
    },
    {
     "name": "stdout",
     "output_type": "stream",
     "text": [
      "layer_name: layer1.2.act3, 3\n"
     ]
    },
    {
     "name": "stderr",
     "output_type": "stream",
     "text": [
      "Global seed set to 2\n",
      "GPU available: True, used: True\n",
      "TPU available: False, using: 0 TPU cores\n",
      "IPU available: False, using: 0 IPUs\n",
      "LOCAL_RANK: 0 - CUDA_VISIBLE_DEVICES: [0,1,2,3,4,5,6,7]\n"
     ]
    },
    {
     "data": {
      "application/vnd.jupyter.widget-view+json": {
       "model_id": "aee79f32e5f2475cbd73314beb566470",
       "version_major": 2,
       "version_minor": 0
      },
      "text/plain": [
       "Predicting: 0it [00:00, ?it/s]"
      ]
     },
     "metadata": {},
     "output_type": "display_data"
    },
    {
     "name": "stderr",
     "output_type": "stream",
     "text": [
      "Global seed set to 1\n",
      "GPU available: True, used: True\n",
      "TPU available: False, using: 0 TPU cores\n",
      "IPU available: False, using: 0 IPUs\n",
      "LOCAL_RANK: 0 - CUDA_VISIBLE_DEVICES: [0,1,2,3,4,5,6,7]\n"
     ]
    },
    {
     "data": {
      "application/vnd.jupyter.widget-view+json": {
       "model_id": "e80a9820c01d4bca92341d4a6148ab90",
       "version_major": 2,
       "version_minor": 0
      },
      "text/plain": [
       "Predicting: 0it [00:00, ?it/s]"
      ]
     },
     "metadata": {},
     "output_type": "display_data"
    },
    {
     "name": "stdout",
     "output_type": "stream",
     "text": [
      "layer_name: layer1.2.act3, 3\n"
     ]
    },
    {
     "name": "stderr",
     "output_type": "stream",
     "text": [
      "Global seed set to 3\n",
      "GPU available: True, used: True\n",
      "TPU available: False, using: 0 TPU cores\n",
      "IPU available: False, using: 0 IPUs\n",
      "LOCAL_RANK: 0 - CUDA_VISIBLE_DEVICES: [0,1,2,3,4,5,6,7]\n"
     ]
    },
    {
     "data": {
      "application/vnd.jupyter.widget-view+json": {
       "model_id": "b46e6d87d0134dd087036140a878e2b1",
       "version_major": 2,
       "version_minor": 0
      },
      "text/plain": [
       "Predicting: 0it [00:00, ?it/s]"
      ]
     },
     "metadata": {},
     "output_type": "display_data"
    },
    {
     "name": "stderr",
     "output_type": "stream",
     "text": [
      "Global seed set to 2\n",
      "GPU available: True, used: True\n",
      "TPU available: False, using: 0 TPU cores\n",
      "IPU available: False, using: 0 IPUs\n",
      "LOCAL_RANK: 0 - CUDA_VISIBLE_DEVICES: [0,1,2,3,4,5,6,7]\n"
     ]
    },
    {
     "data": {
      "application/vnd.jupyter.widget-view+json": {
       "model_id": "be0df3af97fc4ac596c2a148930c9a66",
       "version_major": 2,
       "version_minor": 0
      },
      "text/plain": [
       "Predicting: 0it [00:00, ?it/s]"
      ]
     },
     "metadata": {},
     "output_type": "display_data"
    },
    {
     "name": "stdout",
     "output_type": "stream",
     "text": [
      "layer_name: layer1.2.act3, 3\n"
     ]
    },
    {
     "name": "stderr",
     "output_type": "stream",
     "text": [
      "Global seed set to 1\n",
      "GPU available: True, used: True\n",
      "TPU available: False, using: 0 TPU cores\n",
      "IPU available: False, using: 0 IPUs\n",
      "LOCAL_RANK: 0 - CUDA_VISIBLE_DEVICES: [0,1,2,3,4,5,6,7]\n"
     ]
    },
    {
     "data": {
      "application/vnd.jupyter.widget-view+json": {
       "model_id": "1587dc9982cc4a2c89895cec10478a37",
       "version_major": 2,
       "version_minor": 0
      },
      "text/plain": [
       "Predicting: 0it [00:00, ?it/s]"
      ]
     },
     "metadata": {},
     "output_type": "display_data"
    },
    {
     "name": "stderr",
     "output_type": "stream",
     "text": [
      "Global seed set to 2\n",
      "GPU available: True, used: True\n",
      "TPU available: False, using: 0 TPU cores\n",
      "IPU available: False, using: 0 IPUs\n",
      "LOCAL_RANK: 0 - CUDA_VISIBLE_DEVICES: [0,1,2,3,4,5,6,7]\n"
     ]
    },
    {
     "data": {
      "application/vnd.jupyter.widget-view+json": {
       "model_id": "f86bc895947a413f9f46dabc63d4992f",
       "version_major": 2,
       "version_minor": 0
      },
      "text/plain": [
       "Predicting: 0it [00:00, ?it/s]"
      ]
     },
     "metadata": {},
     "output_type": "display_data"
    },
    {
     "name": "stdout",
     "output_type": "stream",
     "text": [
      "layer_name: layer1.2.act3, 3\n"
     ]
    },
    {
     "name": "stderr",
     "output_type": "stream",
     "text": [
      "Global seed set to 2\n",
      "GPU available: True, used: True\n",
      "TPU available: False, using: 0 TPU cores\n",
      "IPU available: False, using: 0 IPUs\n",
      "LOCAL_RANK: 0 - CUDA_VISIBLE_DEVICES: [0,1,2,3,4,5,6,7]\n"
     ]
    },
    {
     "data": {
      "application/vnd.jupyter.widget-view+json": {
       "model_id": "5f6e9ea1229043cc82b5fd8cdef45b7f",
       "version_major": 2,
       "version_minor": 0
      },
      "text/plain": [
       "Predicting: 0it [00:00, ?it/s]"
      ]
     },
     "metadata": {},
     "output_type": "display_data"
    },
    {
     "name": "stderr",
     "output_type": "stream",
     "text": [
      "Global seed set to 1\n",
      "GPU available: True, used: True\n",
      "TPU available: False, using: 0 TPU cores\n",
      "IPU available: False, using: 0 IPUs\n",
      "LOCAL_RANK: 0 - CUDA_VISIBLE_DEVICES: [0,1,2,3,4,5,6,7]\n"
     ]
    },
    {
     "data": {
      "application/vnd.jupyter.widget-view+json": {
       "model_id": "26ba04c272c04ed88dd1c5324eacb056",
       "version_major": 2,
       "version_minor": 0
      },
      "text/plain": [
       "Predicting: 0it [00:00, ?it/s]"
      ]
     },
     "metadata": {},
     "output_type": "display_data"
    },
    {
     "name": "stdout",
     "output_type": "stream",
     "text": [
      "layer_name: layer1.2.act3, 3\n"
     ]
    },
    {
     "name": "stderr",
     "output_type": "stream",
     "text": [
      "Global seed set to 3\n",
      "GPU available: True, used: True\n",
      "TPU available: False, using: 0 TPU cores\n",
      "IPU available: False, using: 0 IPUs\n",
      "LOCAL_RANK: 0 - CUDA_VISIBLE_DEVICES: [0,1,2,3,4,5,6,7]\n"
     ]
    },
    {
     "data": {
      "application/vnd.jupyter.widget-view+json": {
       "model_id": "c289ce96834245019c6ae9387280e81c",
       "version_major": 2,
       "version_minor": 0
      },
      "text/plain": [
       "Predicting: 0it [00:00, ?it/s]"
      ]
     },
     "metadata": {},
     "output_type": "display_data"
    },
    {
     "name": "stderr",
     "output_type": "stream",
     "text": [
      "Global seed set to 1\n",
      "GPU available: True, used: True\n",
      "TPU available: False, using: 0 TPU cores\n",
      "IPU available: False, using: 0 IPUs\n",
      "LOCAL_RANK: 0 - CUDA_VISIBLE_DEVICES: [0,1,2,3,4,5,6,7]\n"
     ]
    },
    {
     "data": {
      "application/vnd.jupyter.widget-view+json": {
       "model_id": "d639fd0d8660475fb32c086fe97dc931",
       "version_major": 2,
       "version_minor": 0
      },
      "text/plain": [
       "Predicting: 0it [00:00, ?it/s]"
      ]
     },
     "metadata": {},
     "output_type": "display_data"
    },
    {
     "name": "stdout",
     "output_type": "stream",
     "text": [
      "layer_name: layer1.2.act3, 1\n"
     ]
    },
    {
     "name": "stderr",
     "output_type": "stream",
     "text": [
      "Global seed set to 2\n",
      "GPU available: True, used: True\n",
      "TPU available: False, using: 0 TPU cores\n",
      "IPU available: False, using: 0 IPUs\n",
      "LOCAL_RANK: 0 - CUDA_VISIBLE_DEVICES: [0,1,2,3,4,5,6,7]\n"
     ]
    },
    {
     "data": {
      "application/vnd.jupyter.widget-view+json": {
       "model_id": "af70a230b5cb45399fc2f864a446050b",
       "version_major": 2,
       "version_minor": 0
      },
      "text/plain": [
       "Predicting: 0it [00:00, ?it/s]"
      ]
     },
     "metadata": {},
     "output_type": "display_data"
    },
    {
     "name": "stdout",
     "output_type": "stream",
     "text": [
      "layer_name: layer2.0.act3, 3\n"
     ]
    },
    {
     "name": "stderr",
     "output_type": "stream",
     "text": [
      "Global seed set to 1\n",
      "GPU available: True, used: True\n",
      "TPU available: False, using: 0 TPU cores\n",
      "IPU available: False, using: 0 IPUs\n",
      "LOCAL_RANK: 0 - CUDA_VISIBLE_DEVICES: [0,1,2,3,4,5,6,7]\n"
     ]
    },
    {
     "data": {
      "application/vnd.jupyter.widget-view+json": {
       "model_id": "1bcb1e41a7b549d8beb16d100e130d7c",
       "version_major": 2,
       "version_minor": 0
      },
      "text/plain": [
       "Predicting: 0it [00:00, ?it/s]"
      ]
     },
     "metadata": {},
     "output_type": "display_data"
    },
    {
     "name": "stderr",
     "output_type": "stream",
     "text": [
      "Global seed set to 2\n",
      "GPU available: True, used: True\n",
      "TPU available: False, using: 0 TPU cores\n",
      "IPU available: False, using: 0 IPUs\n",
      "LOCAL_RANK: 0 - CUDA_VISIBLE_DEVICES: [0,1,2,3,4,5,6,7]\n"
     ]
    },
    {
     "data": {
      "application/vnd.jupyter.widget-view+json": {
       "model_id": "7f50e3e6db934318b7ceb3eb964dba10",
       "version_major": 2,
       "version_minor": 0
      },
      "text/plain": [
       "Predicting: 0it [00:00, ?it/s]"
      ]
     },
     "metadata": {},
     "output_type": "display_data"
    },
    {
     "name": "stdout",
     "output_type": "stream",
     "text": [
      "layer_name: layer2.0.act3, 3\n"
     ]
    },
    {
     "name": "stderr",
     "output_type": "stream",
     "text": [
      "Global seed set to 3\n",
      "GPU available: True, used: True\n",
      "TPU available: False, using: 0 TPU cores\n",
      "IPU available: False, using: 0 IPUs\n",
      "LOCAL_RANK: 0 - CUDA_VISIBLE_DEVICES: [0,1,2,3,4,5,6,7]\n"
     ]
    },
    {
     "data": {
      "application/vnd.jupyter.widget-view+json": {
       "model_id": "15c2acc5b4bd4653917ed6be7687a716",
       "version_major": 2,
       "version_minor": 0
      },
      "text/plain": [
       "Predicting: 0it [00:00, ?it/s]"
      ]
     },
     "metadata": {},
     "output_type": "display_data"
    },
    {
     "name": "stderr",
     "output_type": "stream",
     "text": [
      "Global seed set to 1\n",
      "GPU available: True, used: True\n",
      "TPU available: False, using: 0 TPU cores\n",
      "IPU available: False, using: 0 IPUs\n",
      "LOCAL_RANK: 0 - CUDA_VISIBLE_DEVICES: [0,1,2,3,4,5,6,7]\n"
     ]
    },
    {
     "data": {
      "application/vnd.jupyter.widget-view+json": {
       "model_id": "3ba6879020984257b19264b63bcaa419",
       "version_major": 2,
       "version_minor": 0
      },
      "text/plain": [
       "Predicting: 0it [00:00, ?it/s]"
      ]
     },
     "metadata": {},
     "output_type": "display_data"
    },
    {
     "name": "stdout",
     "output_type": "stream",
     "text": [
      "layer_name: layer2.0.act3, 3\n"
     ]
    },
    {
     "name": "stderr",
     "output_type": "stream",
     "text": [
      "Global seed set to 1\n",
      "GPU available: True, used: True\n",
      "TPU available: False, using: 0 TPU cores\n",
      "IPU available: False, using: 0 IPUs\n",
      "LOCAL_RANK: 0 - CUDA_VISIBLE_DEVICES: [0,1,2,3,4,5,6,7]\n"
     ]
    },
    {
     "data": {
      "application/vnd.jupyter.widget-view+json": {
       "model_id": "23cce910ea77499bbc928a60147102fb",
       "version_major": 2,
       "version_minor": 0
      },
      "text/plain": [
       "Predicting: 0it [00:00, ?it/s]"
      ]
     },
     "metadata": {},
     "output_type": "display_data"
    },
    {
     "name": "stderr",
     "output_type": "stream",
     "text": [
      "Global seed set to 2\n",
      "GPU available: True, used: True\n",
      "TPU available: False, using: 0 TPU cores\n",
      "IPU available: False, using: 0 IPUs\n",
      "LOCAL_RANK: 0 - CUDA_VISIBLE_DEVICES: [0,1,2,3,4,5,6,7]\n"
     ]
    },
    {
     "data": {
      "application/vnd.jupyter.widget-view+json": {
       "model_id": "ef4da9e5300e4a2bb2e09491f2a118e4",
       "version_major": 2,
       "version_minor": 0
      },
      "text/plain": [
       "Predicting: 0it [00:00, ?it/s]"
      ]
     },
     "metadata": {},
     "output_type": "display_data"
    },
    {
     "name": "stdout",
     "output_type": "stream",
     "text": [
      "layer_name: layer2.0.act3, 3\n"
     ]
    },
    {
     "name": "stderr",
     "output_type": "stream",
     "text": [
      "Global seed set to 3\n",
      "GPU available: True, used: True\n",
      "TPU available: False, using: 0 TPU cores\n",
      "IPU available: False, using: 0 IPUs\n",
      "LOCAL_RANK: 0 - CUDA_VISIBLE_DEVICES: [0,1,2,3,4,5,6,7]\n"
     ]
    },
    {
     "data": {
      "application/vnd.jupyter.widget-view+json": {
       "model_id": "d484e5cc65804f80b6d703ded8d58685",
       "version_major": 2,
       "version_minor": 0
      },
      "text/plain": [
       "Predicting: 0it [00:00, ?it/s]"
      ]
     },
     "metadata": {},
     "output_type": "display_data"
    },
    {
     "name": "stderr",
     "output_type": "stream",
     "text": [
      "Global seed set to 2\n",
      "GPU available: True, used: True\n",
      "TPU available: False, using: 0 TPU cores\n",
      "IPU available: False, using: 0 IPUs\n",
      "LOCAL_RANK: 0 - CUDA_VISIBLE_DEVICES: [0,1,2,3,4,5,6,7]\n"
     ]
    },
    {
     "data": {
      "application/vnd.jupyter.widget-view+json": {
       "model_id": "ffc589dfaeb74feb82d6c2eb6c46882c",
       "version_major": 2,
       "version_minor": 0
      },
      "text/plain": [
       "Predicting: 0it [00:00, ?it/s]"
      ]
     },
     "metadata": {},
     "output_type": "display_data"
    },
    {
     "name": "stdout",
     "output_type": "stream",
     "text": [
      "layer_name: layer2.0.act3, 3\n"
     ]
    },
    {
     "name": "stderr",
     "output_type": "stream",
     "text": [
      "Global seed set to 2\n",
      "GPU available: True, used: True\n",
      "TPU available: False, using: 0 TPU cores\n",
      "IPU available: False, using: 0 IPUs\n",
      "LOCAL_RANK: 0 - CUDA_VISIBLE_DEVICES: [0,1,2,3,4,5,6,7]\n"
     ]
    },
    {
     "data": {
      "application/vnd.jupyter.widget-view+json": {
       "model_id": "5a1b86a7f35a48cda6cdee4c6c601931",
       "version_major": 2,
       "version_minor": 0
      },
      "text/plain": [
       "Predicting: 0it [00:00, ?it/s]"
      ]
     },
     "metadata": {},
     "output_type": "display_data"
    },
    {
     "name": "stderr",
     "output_type": "stream",
     "text": [
      "Global seed set to 1\n",
      "GPU available: True, used: True\n",
      "TPU available: False, using: 0 TPU cores\n",
      "IPU available: False, using: 0 IPUs\n",
      "LOCAL_RANK: 0 - CUDA_VISIBLE_DEVICES: [0,1,2,3,4,5,6,7]\n"
     ]
    },
    {
     "data": {
      "application/vnd.jupyter.widget-view+json": {
       "model_id": "ea5529958dcc476cb70247e08d5c2ff6",
       "version_major": 2,
       "version_minor": 0
      },
      "text/plain": [
       "Predicting: 0it [00:00, ?it/s]"
      ]
     },
     "metadata": {},
     "output_type": "display_data"
    },
    {
     "name": "stdout",
     "output_type": "stream",
     "text": [
      "layer_name: layer2.0.act3, 3\n"
     ]
    },
    {
     "name": "stderr",
     "output_type": "stream",
     "text": [
      "Global seed set to 3\n",
      "GPU available: True, used: True\n",
      "TPU available: False, using: 0 TPU cores\n",
      "IPU available: False, using: 0 IPUs\n",
      "LOCAL_RANK: 0 - CUDA_VISIBLE_DEVICES: [0,1,2,3,4,5,6,7]\n"
     ]
    },
    {
     "data": {
      "application/vnd.jupyter.widget-view+json": {
       "model_id": "b2fd63700a1a4771ab6cd160a3e8ac8c",
       "version_major": 2,
       "version_minor": 0
      },
      "text/plain": [
       "Predicting: 0it [00:00, ?it/s]"
      ]
     },
     "metadata": {},
     "output_type": "display_data"
    },
    {
     "name": "stderr",
     "output_type": "stream",
     "text": [
      "Global seed set to 2\n",
      "GPU available: True, used: True\n",
      "TPU available: False, using: 0 TPU cores\n",
      "IPU available: False, using: 0 IPUs\n",
      "LOCAL_RANK: 0 - CUDA_VISIBLE_DEVICES: [0,1,2,3,4,5,6,7]\n"
     ]
    },
    {
     "data": {
      "application/vnd.jupyter.widget-view+json": {
       "model_id": "4b002ae3d4d84f8bbf261cf9422255d8",
       "version_major": 2,
       "version_minor": 0
      },
      "text/plain": [
       "Predicting: 0it [00:00, ?it/s]"
      ]
     },
     "metadata": {},
     "output_type": "display_data"
    },
    {
     "name": "stdout",
     "output_type": "stream",
     "text": [
      "layer_name: layer2.0.act3, 3\n"
     ]
    },
    {
     "name": "stderr",
     "output_type": "stream",
     "text": [
      "Global seed set to 1\n",
      "GPU available: True, used: True\n",
      "TPU available: False, using: 0 TPU cores\n",
      "IPU available: False, using: 0 IPUs\n",
      "LOCAL_RANK: 0 - CUDA_VISIBLE_DEVICES: [0,1,2,3,4,5,6,7]\n"
     ]
    },
    {
     "data": {
      "application/vnd.jupyter.widget-view+json": {
       "model_id": "4ce60d5d3a3b4061b165f4df87577b88",
       "version_major": 2,
       "version_minor": 0
      },
      "text/plain": [
       "Predicting: 0it [00:00, ?it/s]"
      ]
     },
     "metadata": {},
     "output_type": "display_data"
    },
    {
     "name": "stderr",
     "output_type": "stream",
     "text": [
      "Global seed set to 2\n",
      "GPU available: True, used: True\n",
      "TPU available: False, using: 0 TPU cores\n",
      "IPU available: False, using: 0 IPUs\n",
      "LOCAL_RANK: 0 - CUDA_VISIBLE_DEVICES: [0,1,2,3,4,5,6,7]\n"
     ]
    },
    {
     "data": {
      "application/vnd.jupyter.widget-view+json": {
       "model_id": "123b9d968a0544b3b62de167e27d83d2",
       "version_major": 2,
       "version_minor": 0
      },
      "text/plain": [
       "Predicting: 0it [00:00, ?it/s]"
      ]
     },
     "metadata": {},
     "output_type": "display_data"
    },
    {
     "name": "stdout",
     "output_type": "stream",
     "text": [
      "layer_name: layer2.0.act3, 3\n"
     ]
    },
    {
     "name": "stderr",
     "output_type": "stream",
     "text": [
      "Global seed set to 2\n",
      "GPU available: True, used: True\n",
      "TPU available: False, using: 0 TPU cores\n",
      "IPU available: False, using: 0 IPUs\n",
      "LOCAL_RANK: 0 - CUDA_VISIBLE_DEVICES: [0,1,2,3,4,5,6,7]\n"
     ]
    },
    {
     "data": {
      "application/vnd.jupyter.widget-view+json": {
       "model_id": "bb1b2d35ebaf4c8ba43f47a2a912b0b0",
       "version_major": 2,
       "version_minor": 0
      },
      "text/plain": [
       "Predicting: 0it [00:00, ?it/s]"
      ]
     },
     "metadata": {},
     "output_type": "display_data"
    },
    {
     "name": "stderr",
     "output_type": "stream",
     "text": [
      "Global seed set to 1\n",
      "GPU available: True, used: True\n",
      "TPU available: False, using: 0 TPU cores\n",
      "IPU available: False, using: 0 IPUs\n",
      "LOCAL_RANK: 0 - CUDA_VISIBLE_DEVICES: [0,1,2,3,4,5,6,7]\n"
     ]
    },
    {
     "data": {
      "application/vnd.jupyter.widget-view+json": {
       "model_id": "8ff06674559e407b884e598562657c07",
       "version_major": 2,
       "version_minor": 0
      },
      "text/plain": [
       "Predicting: 0it [00:00, ?it/s]"
      ]
     },
     "metadata": {},
     "output_type": "display_data"
    },
    {
     "name": "stdout",
     "output_type": "stream",
     "text": [
      "layer_name: layer2.0.act3, 3\n"
     ]
    },
    {
     "name": "stderr",
     "output_type": "stream",
     "text": [
      "Global seed set to 3\n",
      "GPU available: True, used: True\n",
      "TPU available: False, using: 0 TPU cores\n",
      "IPU available: False, using: 0 IPUs\n",
      "LOCAL_RANK: 0 - CUDA_VISIBLE_DEVICES: [0,1,2,3,4,5,6,7]\n"
     ]
    },
    {
     "data": {
      "application/vnd.jupyter.widget-view+json": {
       "model_id": "472c710d8c374446b3d28c7c43c06b91",
       "version_major": 2,
       "version_minor": 0
      },
      "text/plain": [
       "Predicting: 0it [00:00, ?it/s]"
      ]
     },
     "metadata": {},
     "output_type": "display_data"
    },
    {
     "name": "stderr",
     "output_type": "stream",
     "text": [
      "Global seed set to 1\n",
      "GPU available: True, used: True\n",
      "TPU available: False, using: 0 TPU cores\n",
      "IPU available: False, using: 0 IPUs\n",
      "LOCAL_RANK: 0 - CUDA_VISIBLE_DEVICES: [0,1,2,3,4,5,6,7]\n"
     ]
    },
    {
     "data": {
      "application/vnd.jupyter.widget-view+json": {
       "model_id": "a13acd09f1e04b37a28a5f5886446860",
       "version_major": 2,
       "version_minor": 0
      },
      "text/plain": [
       "Predicting: 0it [00:00, ?it/s]"
      ]
     },
     "metadata": {},
     "output_type": "display_data"
    },
    {
     "name": "stdout",
     "output_type": "stream",
     "text": [
      "layer_name: layer2.0.act3, 1\n"
     ]
    },
    {
     "name": "stderr",
     "output_type": "stream",
     "text": [
      "Global seed set to 2\n",
      "GPU available: True, used: True\n",
      "TPU available: False, using: 0 TPU cores\n",
      "IPU available: False, using: 0 IPUs\n",
      "LOCAL_RANK: 0 - CUDA_VISIBLE_DEVICES: [0,1,2,3,4,5,6,7]\n"
     ]
    },
    {
     "data": {
      "application/vnd.jupyter.widget-view+json": {
       "model_id": "d4e74fd35b8f4415a51d97f9aa74c7b4",
       "version_major": 2,
       "version_minor": 0
      },
      "text/plain": [
       "Predicting: 0it [00:00, ?it/s]"
      ]
     },
     "metadata": {},
     "output_type": "display_data"
    },
    {
     "name": "stdout",
     "output_type": "stream",
     "text": [
      "layer_name: layer2.1.act3, 3\n",
      "Loaded cached for /NS/robustness_2/work/vnanda/invariances_in_reps/partially_inverted_reps/checkpoints/resnet50-base-imagenet-ft-oxford-iiit-pets/frac-0.00050-mode-random-seed-1-ftmode-linear-lr-0.1-bs-256-nonrob/epoch=37-layer2.1.act3-topk=1.ckpt\n",
      "Loaded cached for /NS/robustness_2/work/vnanda/invariances_in_reps/partially_inverted_reps/checkpoints/resnet50-base-imagenet-ft-oxford-iiit-pets/frac-0.00050-mode-random-seed-2-ftmode-linear-lr-0.1-bs-256-nonrob/epoch=30-layer2.1.act3-topk=1.ckpt\n",
      "layer_name: layer2.1.act3, 3\n",
      "Loaded cached for /NS/robustness_2/work/vnanda/invariances_in_reps/partially_inverted_reps/checkpoints/resnet50-base-imagenet-ft-oxford-iiit-pets/frac-0.00500-mode-random-seed-3-ftmode-linear-lr-0.1-bs-256-nonrob/epoch=49-layer2.1.act3-topk=1.ckpt\n",
      "Loaded cached for /NS/robustness_2/work/vnanda/invariances_in_reps/partially_inverted_reps/checkpoints/resnet50-base-imagenet-ft-oxford-iiit-pets/frac-0.00500-mode-random-seed-1-ftmode-linear-lr-0.1-bs-256-nonrob/epoch=28-layer2.1.act3-topk=1.ckpt\n",
      "layer_name: layer2.1.act3, 3\n",
      "Loaded cached for /NS/robustness_2/work/vnanda/invariances_in_reps/partially_inverted_reps/checkpoints/resnet50-base-imagenet-ft-oxford-iiit-pets/frac-0.05000-mode-random-seed-1-ftmode-linear-lr-0.1-bs-256-nonrob/epoch=32-layer2.1.act3-topk=1.ckpt\n",
      "Loaded cached for /NS/robustness_2/work/vnanda/invariances_in_reps/partially_inverted_reps/checkpoints/resnet50-base-imagenet-ft-oxford-iiit-pets/frac-0.05000-mode-random-seed-2-ftmode-linear-lr-0.1-bs-256-nonrob/epoch=29-layer2.1.act3-topk=1.ckpt\n",
      "layer_name: layer2.1.act3, 3\n",
      "Loaded cached for /NS/robustness_2/work/vnanda/invariances_in_reps/partially_inverted_reps/checkpoints/resnet50-base-imagenet-ft-oxford-iiit-pets/frac-0.10000-mode-random-seed-3-ftmode-linear-lr-0.1-bs-256-nonrob/epoch=25-layer2.1.act3-topk=1.ckpt\n",
      "Loaded cached for /NS/robustness_2/work/vnanda/invariances_in_reps/partially_inverted_reps/checkpoints/resnet50-base-imagenet-ft-oxford-iiit-pets/frac-0.10000-mode-random-seed-2-ftmode-linear-lr-0.1-bs-256-nonrob/epoch=27-layer2.1.act3-topk=1.ckpt\n",
      "layer_name: layer2.1.act3, 3\n",
      "Loaded cached for /NS/robustness_2/work/vnanda/invariances_in_reps/partially_inverted_reps/checkpoints/resnet50-base-imagenet-ft-oxford-iiit-pets/frac-0.20000-mode-random-seed-2-ftmode-linear-lr-0.1-bs-256-nonrob/epoch=36-layer2.1.act3-topk=1.ckpt\n",
      "Loaded cached for /NS/robustness_2/work/vnanda/invariances_in_reps/partially_inverted_reps/checkpoints/resnet50-base-imagenet-ft-oxford-iiit-pets/frac-0.20000-mode-random-seed-1-ftmode-linear-lr-0.1-bs-256-nonrob/epoch=36-layer2.1.act3-topk=1.ckpt\n",
      "layer_name: layer2.1.act3, 3\n",
      "Loaded cached for /NS/robustness_2/work/vnanda/invariances_in_reps/partially_inverted_reps/checkpoints/resnet50-base-imagenet-ft-oxford-iiit-pets/frac-0.40000-mode-random-seed-3-ftmode-linear-lr-0.1-bs-256-nonrob/epoch=31-layer2.1.act3-topk=1.ckpt\n",
      "Loaded cached for /NS/robustness_2/work/vnanda/invariances_in_reps/partially_inverted_reps/checkpoints/resnet50-base-imagenet-ft-oxford-iiit-pets/frac-0.40000-mode-random-seed-2-ftmode-linear-lr-0.1-bs-256-nonrob/epoch=41-layer2.1.act3-topk=1.ckpt\n",
      "layer_name: layer2.1.act3, 3\n",
      "Loaded cached for /NS/robustness_2/work/vnanda/invariances_in_reps/partially_inverted_reps/checkpoints/resnet50-base-imagenet-ft-oxford-iiit-pets/frac-0.50000-mode-random-seed-1-ftmode-linear-lr-0.1-bs-256-nonrob/epoch=32-layer2.1.act3-topk=1.ckpt\n",
      "Loaded cached for /NS/robustness_2/work/vnanda/invariances_in_reps/partially_inverted_reps/checkpoints/resnet50-base-imagenet-ft-oxford-iiit-pets/frac-0.50000-mode-random-seed-2-ftmode-linear-lr-0.1-bs-256-nonrob/epoch=45-layer2.1.act3-topk=1.ckpt\n",
      "layer_name: layer2.1.act3, 3\n",
      "Loaded cached for /NS/robustness_2/work/vnanda/invariances_in_reps/partially_inverted_reps/checkpoints/resnet50-base-imagenet-ft-oxford-iiit-pets/frac-0.80000-mode-random-seed-2-ftmode-linear-lr-0.1-bs-256-nonrob/epoch=36-layer2.1.act3-topk=1.ckpt\n",
      "Loaded cached for /NS/robustness_2/work/vnanda/invariances_in_reps/partially_inverted_reps/checkpoints/resnet50-base-imagenet-ft-oxford-iiit-pets/frac-0.80000-mode-random-seed-1-ftmode-linear-lr-0.1-bs-256-nonrob/epoch=36-layer2.1.act3-topk=1.ckpt\n",
      "layer_name: layer2.1.act3, 3\n",
      "Loaded cached for /NS/robustness_2/work/vnanda/invariances_in_reps/partially_inverted_reps/checkpoints/resnet50-base-imagenet-ft-oxford-iiit-pets/frac-0.90000-mode-random-seed-3-ftmode-linear-lr-0.1-bs-256-nonrob/epoch=33-layer2.1.act3-topk=1.ckpt\n",
      "Loaded cached for /NS/robustness_2/work/vnanda/invariances_in_reps/partially_inverted_reps/checkpoints/resnet50-base-imagenet-ft-oxford-iiit-pets/frac-0.90000-mode-random-seed-1-ftmode-linear-lr-0.1-bs-256-nonrob/epoch=36-layer2.1.act3-topk=1.ckpt\n",
      "layer_name: layer2.1.act3, 1\n",
      "Loaded cached for /NS/robustness_2/work/vnanda/invariances_in_reps/partially_inverted_reps/checkpoints/resnet50-base-imagenet-ft-oxford-iiit-pets/frac-1.00000-mode-random-seed-2-ftmode-linear-lr-0.1-bs-256-nonrob/epoch=45-layer2.1.act3-topk=1.ckpt\n",
      "layer_name: layer2.2.act3, 3\n",
      "Loaded cached for /NS/robustness_2/work/vnanda/invariances_in_reps/partially_inverted_reps/checkpoints/resnet50-base-imagenet-ft-oxford-iiit-pets/frac-0.00050-mode-random-seed-1-ftmode-linear-lr-0.1-bs-256-nonrob/epoch=49-layer2.2.act3-topk=1.ckpt\n",
      "Loaded cached for /NS/robustness_2/work/vnanda/invariances_in_reps/partially_inverted_reps/checkpoints/resnet50-base-imagenet-ft-oxford-iiit-pets/frac-0.00050-mode-random-seed-2-ftmode-linear-lr-0.1-bs-256-nonrob/epoch=39-layer2.2.act3-topk=1.ckpt\n",
      "layer_name: layer2.2.act3, 3\n",
      "Loaded cached for /NS/robustness_2/work/vnanda/invariances_in_reps/partially_inverted_reps/checkpoints/resnet50-base-imagenet-ft-oxford-iiit-pets/frac-0.00500-mode-random-seed-3-ftmode-linear-lr-0.1-bs-256-nonrob/epoch=34-layer2.2.act3-topk=1.ckpt\n",
      "Loaded cached for /NS/robustness_2/work/vnanda/invariances_in_reps/partially_inverted_reps/checkpoints/resnet50-base-imagenet-ft-oxford-iiit-pets/frac-0.00500-mode-random-seed-1-ftmode-linear-lr-0.1-bs-256-nonrob/epoch=37-layer2.2.act3-topk=1.ckpt\n",
      "layer_name: layer2.2.act3, 3\n",
      "Loaded cached for /NS/robustness_2/work/vnanda/invariances_in_reps/partially_inverted_reps/checkpoints/resnet50-base-imagenet-ft-oxford-iiit-pets/frac-0.05000-mode-random-seed-1-ftmode-linear-lr-0.1-bs-256-nonrob/epoch=38-layer2.2.act3-topk=1.ckpt\n",
      "Loaded cached for /NS/robustness_2/work/vnanda/invariances_in_reps/partially_inverted_reps/checkpoints/resnet50-base-imagenet-ft-oxford-iiit-pets/frac-0.05000-mode-random-seed-2-ftmode-linear-lr-0.1-bs-256-nonrob/epoch=36-layer2.2.act3-topk=1.ckpt\n",
      "layer_name: layer2.2.act3, 3\n",
      "Loaded cached for /NS/robustness_2/work/vnanda/invariances_in_reps/partially_inverted_reps/checkpoints/resnet50-base-imagenet-ft-oxford-iiit-pets/frac-0.10000-mode-random-seed-3-ftmode-linear-lr-0.1-bs-256-nonrob/epoch=33-layer2.2.act3-topk=1.ckpt\n",
      "Loaded cached for /NS/robustness_2/work/vnanda/invariances_in_reps/partially_inverted_reps/checkpoints/resnet50-base-imagenet-ft-oxford-iiit-pets/frac-0.10000-mode-random-seed-2-ftmode-linear-lr-0.1-bs-256-nonrob/epoch=45-layer2.2.act3-topk=1.ckpt\n",
      "layer_name: layer2.2.act3, 3\n",
      "Loaded cached for /NS/robustness_2/work/vnanda/invariances_in_reps/partially_inverted_reps/checkpoints/resnet50-base-imagenet-ft-oxford-iiit-pets/frac-0.20000-mode-random-seed-2-ftmode-linear-lr-0.1-bs-256-nonrob/epoch=41-layer2.2.act3-topk=1.ckpt\n",
      "Loaded cached for /NS/robustness_2/work/vnanda/invariances_in_reps/partially_inverted_reps/checkpoints/resnet50-base-imagenet-ft-oxford-iiit-pets/frac-0.20000-mode-random-seed-1-ftmode-linear-lr-0.1-bs-256-nonrob/epoch=38-layer2.2.act3-topk=1.ckpt\n",
      "layer_name: layer2.2.act3, 3\n",
      "Loaded cached for /NS/robustness_2/work/vnanda/invariances_in_reps/partially_inverted_reps/checkpoints/resnet50-base-imagenet-ft-oxford-iiit-pets/frac-0.40000-mode-random-seed-3-ftmode-linear-lr-0.1-bs-256-nonrob/epoch=34-layer2.2.act3-topk=1.ckpt\n",
      "Loaded cached for /NS/robustness_2/work/vnanda/invariances_in_reps/partially_inverted_reps/checkpoints/resnet50-base-imagenet-ft-oxford-iiit-pets/frac-0.40000-mode-random-seed-2-ftmode-linear-lr-0.1-bs-256-nonrob/epoch=45-layer2.2.act3-topk=1.ckpt\n",
      "layer_name: layer2.2.act3, 3\n",
      "Loaded cached for /NS/robustness_2/work/vnanda/invariances_in_reps/partially_inverted_reps/checkpoints/resnet50-base-imagenet-ft-oxford-iiit-pets/frac-0.50000-mode-random-seed-1-ftmode-linear-lr-0.1-bs-256-nonrob/epoch=36-layer2.2.act3-topk=1.ckpt\n"
     ]
    },
    {
     "name": "stdout",
     "output_type": "stream",
     "text": [
      "Loaded cached for /NS/robustness_2/work/vnanda/invariances_in_reps/partially_inverted_reps/checkpoints/resnet50-base-imagenet-ft-oxford-iiit-pets/frac-0.50000-mode-random-seed-2-ftmode-linear-lr-0.1-bs-256-nonrob/epoch=36-layer2.2.act3-topk=1.ckpt\n",
      "layer_name: layer2.2.act3, 3\n",
      "Loaded cached for /NS/robustness_2/work/vnanda/invariances_in_reps/partially_inverted_reps/checkpoints/resnet50-base-imagenet-ft-oxford-iiit-pets/frac-0.80000-mode-random-seed-2-ftmode-linear-lr-0.1-bs-256-nonrob/epoch=45-layer2.2.act3-topk=1.ckpt\n",
      "Loaded cached for /NS/robustness_2/work/vnanda/invariances_in_reps/partially_inverted_reps/checkpoints/resnet50-base-imagenet-ft-oxford-iiit-pets/frac-0.80000-mode-random-seed-1-ftmode-linear-lr-0.1-bs-256-nonrob/epoch=36-layer2.2.act3-topk=1.ckpt\n",
      "layer_name: layer2.2.act3, 3\n",
      "Loaded cached for /NS/robustness_2/work/vnanda/invariances_in_reps/partially_inverted_reps/checkpoints/resnet50-base-imagenet-ft-oxford-iiit-pets/frac-0.90000-mode-random-seed-3-ftmode-linear-lr-0.1-bs-256-nonrob/epoch=32-layer2.2.act3-topk=1.ckpt\n",
      "Loaded cached for /NS/robustness_2/work/vnanda/invariances_in_reps/partially_inverted_reps/checkpoints/resnet50-base-imagenet-ft-oxford-iiit-pets/frac-0.90000-mode-random-seed-1-ftmode-linear-lr-0.1-bs-256-nonrob/epoch=38-layer2.2.act3-topk=1.ckpt\n",
      "layer_name: layer2.2.act3, 1\n",
      "Loaded cached for /NS/robustness_2/work/vnanda/invariances_in_reps/partially_inverted_reps/checkpoints/resnet50-base-imagenet-ft-oxford-iiit-pets/frac-1.00000-mode-random-seed-2-ftmode-linear-lr-0.1-bs-256-nonrob/epoch=45-layer2.2.act3-topk=1.ckpt\n",
      "layer_name: layer2.3.act3, 3\n"
     ]
    },
    {
     "name": "stderr",
     "output_type": "stream",
     "text": [
      "Global seed set to 1\n",
      "GPU available: True, used: True\n",
      "TPU available: False, using: 0 TPU cores\n",
      "IPU available: False, using: 0 IPUs\n",
      "LOCAL_RANK: 0 - CUDA_VISIBLE_DEVICES: [0,1,2,3,4,5,6,7]\n"
     ]
    },
    {
     "data": {
      "application/vnd.jupyter.widget-view+json": {
       "model_id": "62f37177a0d441edb870b455bd79f69d",
       "version_major": 2,
       "version_minor": 0
      },
      "text/plain": [
       "Predicting: 0it [00:00, ?it/s]"
      ]
     },
     "metadata": {},
     "output_type": "display_data"
    },
    {
     "name": "stderr",
     "output_type": "stream",
     "text": [
      "Global seed set to 2\n",
      "GPU available: True, used: True\n",
      "TPU available: False, using: 0 TPU cores\n",
      "IPU available: False, using: 0 IPUs\n",
      "LOCAL_RANK: 0 - CUDA_VISIBLE_DEVICES: [0,1,2,3,4,5,6,7]\n"
     ]
    },
    {
     "data": {
      "application/vnd.jupyter.widget-view+json": {
       "model_id": "6cdd68c75f7940a9906c80aa6ea7c0ee",
       "version_major": 2,
       "version_minor": 0
      },
      "text/plain": [
       "Predicting: 0it [00:00, ?it/s]"
      ]
     },
     "metadata": {},
     "output_type": "display_data"
    },
    {
     "name": "stdout",
     "output_type": "stream",
     "text": [
      "layer_name: layer2.3.act3, 3\n"
     ]
    },
    {
     "name": "stderr",
     "output_type": "stream",
     "text": [
      "Global seed set to 3\n",
      "GPU available: True, used: True\n",
      "TPU available: False, using: 0 TPU cores\n",
      "IPU available: False, using: 0 IPUs\n",
      "LOCAL_RANK: 0 - CUDA_VISIBLE_DEVICES: [0,1,2,3,4,5,6,7]\n"
     ]
    },
    {
     "data": {
      "application/vnd.jupyter.widget-view+json": {
       "model_id": "0801983082ed44e0b6cfc02f1f86827c",
       "version_major": 2,
       "version_minor": 0
      },
      "text/plain": [
       "Predicting: 0it [00:00, ?it/s]"
      ]
     },
     "metadata": {},
     "output_type": "display_data"
    },
    {
     "name": "stderr",
     "output_type": "stream",
     "text": [
      "Global seed set to 1\n",
      "GPU available: True, used: True\n",
      "TPU available: False, using: 0 TPU cores\n",
      "IPU available: False, using: 0 IPUs\n",
      "LOCAL_RANK: 0 - CUDA_VISIBLE_DEVICES: [0,1,2,3,4,5,6,7]\n"
     ]
    },
    {
     "data": {
      "application/vnd.jupyter.widget-view+json": {
       "model_id": "aa0ac9c03c50420a8410a20372a04e65",
       "version_major": 2,
       "version_minor": 0
      },
      "text/plain": [
       "Predicting: 0it [00:00, ?it/s]"
      ]
     },
     "metadata": {},
     "output_type": "display_data"
    },
    {
     "name": "stdout",
     "output_type": "stream",
     "text": [
      "layer_name: layer2.3.act3, 3\n"
     ]
    },
    {
     "name": "stderr",
     "output_type": "stream",
     "text": [
      "Global seed set to 1\n",
      "GPU available: True, used: True\n",
      "TPU available: False, using: 0 TPU cores\n",
      "IPU available: False, using: 0 IPUs\n",
      "LOCAL_RANK: 0 - CUDA_VISIBLE_DEVICES: [0,1,2,3,4,5,6,7]\n"
     ]
    },
    {
     "data": {
      "application/vnd.jupyter.widget-view+json": {
       "model_id": "b064d321ae8a42fb80ed0521d8de55c3",
       "version_major": 2,
       "version_minor": 0
      },
      "text/plain": [
       "Predicting: 0it [00:00, ?it/s]"
      ]
     },
     "metadata": {},
     "output_type": "display_data"
    },
    {
     "name": "stderr",
     "output_type": "stream",
     "text": [
      "Global seed set to 2\n",
      "GPU available: True, used: True\n",
      "TPU available: False, using: 0 TPU cores\n",
      "IPU available: False, using: 0 IPUs\n",
      "LOCAL_RANK: 0 - CUDA_VISIBLE_DEVICES: [0,1,2,3,4,5,6,7]\n"
     ]
    },
    {
     "data": {
      "application/vnd.jupyter.widget-view+json": {
       "model_id": "12e028ad00f048ff8bd9d66ce3fe6a6d",
       "version_major": 2,
       "version_minor": 0
      },
      "text/plain": [
       "Predicting: 0it [00:00, ?it/s]"
      ]
     },
     "metadata": {},
     "output_type": "display_data"
    },
    {
     "name": "stdout",
     "output_type": "stream",
     "text": [
      "layer_name: layer2.3.act3, 3\n"
     ]
    },
    {
     "name": "stderr",
     "output_type": "stream",
     "text": [
      "Global seed set to 3\n",
      "GPU available: True, used: True\n",
      "TPU available: False, using: 0 TPU cores\n",
      "IPU available: False, using: 0 IPUs\n",
      "LOCAL_RANK: 0 - CUDA_VISIBLE_DEVICES: [0,1,2,3,4,5,6,7]\n"
     ]
    },
    {
     "data": {
      "application/vnd.jupyter.widget-view+json": {
       "model_id": "f2a1dee5af084d7a97681a96fb3d1fdb",
       "version_major": 2,
       "version_minor": 0
      },
      "text/plain": [
       "Predicting: 0it [00:00, ?it/s]"
      ]
     },
     "metadata": {},
     "output_type": "display_data"
    },
    {
     "name": "stderr",
     "output_type": "stream",
     "text": [
      "Global seed set to 2\n",
      "GPU available: True, used: True\n",
      "TPU available: False, using: 0 TPU cores\n",
      "IPU available: False, using: 0 IPUs\n",
      "LOCAL_RANK: 0 - CUDA_VISIBLE_DEVICES: [0,1,2,3,4,5,6,7]\n"
     ]
    },
    {
     "data": {
      "application/vnd.jupyter.widget-view+json": {
       "model_id": "1c9d771e5d6847afa1ef1a5623e4d80b",
       "version_major": 2,
       "version_minor": 0
      },
      "text/plain": [
       "Predicting: 0it [00:00, ?it/s]"
      ]
     },
     "metadata": {},
     "output_type": "display_data"
    },
    {
     "name": "stdout",
     "output_type": "stream",
     "text": [
      "layer_name: layer2.3.act3, 3\n"
     ]
    },
    {
     "name": "stderr",
     "output_type": "stream",
     "text": [
      "Global seed set to 2\n",
      "GPU available: True, used: True\n",
      "TPU available: False, using: 0 TPU cores\n",
      "IPU available: False, using: 0 IPUs\n",
      "LOCAL_RANK: 0 - CUDA_VISIBLE_DEVICES: [0,1,2,3,4,5,6,7]\n"
     ]
    },
    {
     "data": {
      "application/vnd.jupyter.widget-view+json": {
       "model_id": "5b2e8a2b63ea4e7d87e2df582842c928",
       "version_major": 2,
       "version_minor": 0
      },
      "text/plain": [
       "Predicting: 0it [00:00, ?it/s]"
      ]
     },
     "metadata": {},
     "output_type": "display_data"
    },
    {
     "name": "stderr",
     "output_type": "stream",
     "text": [
      "Global seed set to 1\n",
      "GPU available: True, used: True\n",
      "TPU available: False, using: 0 TPU cores\n",
      "IPU available: False, using: 0 IPUs\n",
      "LOCAL_RANK: 0 - CUDA_VISIBLE_DEVICES: [0,1,2,3,4,5,6,7]\n"
     ]
    },
    {
     "data": {
      "application/vnd.jupyter.widget-view+json": {
       "model_id": "a5597a94c82149119803141492ba30ba",
       "version_major": 2,
       "version_minor": 0
      },
      "text/plain": [
       "Predicting: 0it [00:00, ?it/s]"
      ]
     },
     "metadata": {},
     "output_type": "display_data"
    },
    {
     "name": "stdout",
     "output_type": "stream",
     "text": [
      "layer_name: layer2.3.act3, 3\n"
     ]
    },
    {
     "name": "stderr",
     "output_type": "stream",
     "text": [
      "Global seed set to 3\n",
      "GPU available: True, used: True\n",
      "TPU available: False, using: 0 TPU cores\n",
      "IPU available: False, using: 0 IPUs\n",
      "LOCAL_RANK: 0 - CUDA_VISIBLE_DEVICES: [0,1,2,3,4,5,6,7]\n"
     ]
    },
    {
     "data": {
      "application/vnd.jupyter.widget-view+json": {
       "model_id": "6509423f49294b5fba11ca07b6b8c1eb",
       "version_major": 2,
       "version_minor": 0
      },
      "text/plain": [
       "Predicting: 0it [00:00, ?it/s]"
      ]
     },
     "metadata": {},
     "output_type": "display_data"
    },
    {
     "name": "stderr",
     "output_type": "stream",
     "text": [
      "Global seed set to 2\n",
      "GPU available: True, used: True\n",
      "TPU available: False, using: 0 TPU cores\n",
      "IPU available: False, using: 0 IPUs\n",
      "LOCAL_RANK: 0 - CUDA_VISIBLE_DEVICES: [0,1,2,3,4,5,6,7]\n"
     ]
    },
    {
     "data": {
      "application/vnd.jupyter.widget-view+json": {
       "model_id": "2087043096aa420db6904c23e096aa95",
       "version_major": 2,
       "version_minor": 0
      },
      "text/plain": [
       "Predicting: 0it [00:00, ?it/s]"
      ]
     },
     "metadata": {},
     "output_type": "display_data"
    },
    {
     "name": "stdout",
     "output_type": "stream",
     "text": [
      "layer_name: layer2.3.act3, 3\n"
     ]
    },
    {
     "name": "stderr",
     "output_type": "stream",
     "text": [
      "Global seed set to 1\n",
      "GPU available: True, used: True\n",
      "TPU available: False, using: 0 TPU cores\n",
      "IPU available: False, using: 0 IPUs\n",
      "LOCAL_RANK: 0 - CUDA_VISIBLE_DEVICES: [0,1,2,3,4,5,6,7]\n"
     ]
    },
    {
     "data": {
      "application/vnd.jupyter.widget-view+json": {
       "model_id": "4fccc4e5aeba4e468c874826b97517dc",
       "version_major": 2,
       "version_minor": 0
      },
      "text/plain": [
       "Predicting: 0it [00:00, ?it/s]"
      ]
     },
     "metadata": {},
     "output_type": "display_data"
    },
    {
     "name": "stderr",
     "output_type": "stream",
     "text": [
      "Global seed set to 2\n",
      "GPU available: True, used: True\n",
      "TPU available: False, using: 0 TPU cores\n",
      "IPU available: False, using: 0 IPUs\n",
      "LOCAL_RANK: 0 - CUDA_VISIBLE_DEVICES: [0,1,2,3,4,5,6,7]\n"
     ]
    },
    {
     "data": {
      "application/vnd.jupyter.widget-view+json": {
       "model_id": "4cffc74bb79a4277b9aa338995b00025",
       "version_major": 2,
       "version_minor": 0
      },
      "text/plain": [
       "Predicting: 0it [00:00, ?it/s]"
      ]
     },
     "metadata": {},
     "output_type": "display_data"
    },
    {
     "name": "stdout",
     "output_type": "stream",
     "text": [
      "layer_name: layer2.3.act3, 3\n"
     ]
    },
    {
     "name": "stderr",
     "output_type": "stream",
     "text": [
      "Global seed set to 2\n",
      "GPU available: True, used: True\n",
      "TPU available: False, using: 0 TPU cores\n",
      "IPU available: False, using: 0 IPUs\n",
      "LOCAL_RANK: 0 - CUDA_VISIBLE_DEVICES: [0,1,2,3,4,5,6,7]\n"
     ]
    },
    {
     "data": {
      "application/vnd.jupyter.widget-view+json": {
       "model_id": "437d5c77521b47c8af859ca0db8d18bd",
       "version_major": 2,
       "version_minor": 0
      },
      "text/plain": [
       "Predicting: 0it [00:00, ?it/s]"
      ]
     },
     "metadata": {},
     "output_type": "display_data"
    },
    {
     "name": "stderr",
     "output_type": "stream",
     "text": [
      "Global seed set to 1\n",
      "GPU available: True, used: True\n",
      "TPU available: False, using: 0 TPU cores\n",
      "IPU available: False, using: 0 IPUs\n",
      "LOCAL_RANK: 0 - CUDA_VISIBLE_DEVICES: [0,1,2,3,4,5,6,7]\n"
     ]
    },
    {
     "data": {
      "application/vnd.jupyter.widget-view+json": {
       "model_id": "fe17b06209ea47b29cfb716dbe1d06f4",
       "version_major": 2,
       "version_minor": 0
      },
      "text/plain": [
       "Predicting: 0it [00:00, ?it/s]"
      ]
     },
     "metadata": {},
     "output_type": "display_data"
    },
    {
     "name": "stdout",
     "output_type": "stream",
     "text": [
      "layer_name: layer2.3.act3, 3\n"
     ]
    },
    {
     "name": "stderr",
     "output_type": "stream",
     "text": [
      "Global seed set to 3\n",
      "GPU available: True, used: True\n",
      "TPU available: False, using: 0 TPU cores\n",
      "IPU available: False, using: 0 IPUs\n",
      "LOCAL_RANK: 0 - CUDA_VISIBLE_DEVICES: [0,1,2,3,4,5,6,7]\n"
     ]
    },
    {
     "data": {
      "application/vnd.jupyter.widget-view+json": {
       "model_id": "522d8e24720648968fbc413e2f3ca397",
       "version_major": 2,
       "version_minor": 0
      },
      "text/plain": [
       "Predicting: 0it [00:00, ?it/s]"
      ]
     },
     "metadata": {},
     "output_type": "display_data"
    },
    {
     "name": "stderr",
     "output_type": "stream",
     "text": [
      "Global seed set to 1\n",
      "GPU available: True, used: True\n",
      "TPU available: False, using: 0 TPU cores\n",
      "IPU available: False, using: 0 IPUs\n",
      "LOCAL_RANK: 0 - CUDA_VISIBLE_DEVICES: [0,1,2,3,4,5,6,7]\n"
     ]
    },
    {
     "data": {
      "application/vnd.jupyter.widget-view+json": {
       "model_id": "673a8153a3194ae7b89c68c4580e4e9d",
       "version_major": 2,
       "version_minor": 0
      },
      "text/plain": [
       "Predicting: 0it [00:00, ?it/s]"
      ]
     },
     "metadata": {},
     "output_type": "display_data"
    },
    {
     "name": "stdout",
     "output_type": "stream",
     "text": [
      "layer_name: layer2.3.act3, 1\n"
     ]
    },
    {
     "name": "stderr",
     "output_type": "stream",
     "text": [
      "Global seed set to 2\n",
      "GPU available: True, used: True\n",
      "TPU available: False, using: 0 TPU cores\n",
      "IPU available: False, using: 0 IPUs\n",
      "LOCAL_RANK: 0 - CUDA_VISIBLE_DEVICES: [0,1,2,3,4,5,6,7]\n"
     ]
    },
    {
     "data": {
      "application/vnd.jupyter.widget-view+json": {
       "model_id": "b0b2fc20bbc2410cae6eace5a5c0f9a1",
       "version_major": 2,
       "version_minor": 0
      },
      "text/plain": [
       "Predicting: 0it [00:00, ?it/s]"
      ]
     },
     "metadata": {},
     "output_type": "display_data"
    },
    {
     "name": "stdout",
     "output_type": "stream",
     "text": [
      "layer_name: layer3.0.act3, 3\n"
     ]
    },
    {
     "name": "stderr",
     "output_type": "stream",
     "text": [
      "Global seed set to 1\n",
      "GPU available: True, used: True\n",
      "TPU available: False, using: 0 TPU cores\n",
      "IPU available: False, using: 0 IPUs\n",
      "LOCAL_RANK: 0 - CUDA_VISIBLE_DEVICES: [0,1,2,3,4,5,6,7]\n"
     ]
    },
    {
     "data": {
      "application/vnd.jupyter.widget-view+json": {
       "model_id": "f9bab1f4d37b4e19a4e9ff758af19641",
       "version_major": 2,
       "version_minor": 0
      },
      "text/plain": [
       "Predicting: 0it [00:00, ?it/s]"
      ]
     },
     "metadata": {},
     "output_type": "display_data"
    },
    {
     "name": "stderr",
     "output_type": "stream",
     "text": [
      "Global seed set to 2\n",
      "GPU available: True, used: True\n",
      "TPU available: False, using: 0 TPU cores\n",
      "IPU available: False, using: 0 IPUs\n",
      "LOCAL_RANK: 0 - CUDA_VISIBLE_DEVICES: [0,1,2,3,4,5,6,7]\n"
     ]
    },
    {
     "data": {
      "application/vnd.jupyter.widget-view+json": {
       "model_id": "3786d918b01c4f108e0f23275edff153",
       "version_major": 2,
       "version_minor": 0
      },
      "text/plain": [
       "Predicting: 0it [00:00, ?it/s]"
      ]
     },
     "metadata": {},
     "output_type": "display_data"
    },
    {
     "name": "stdout",
     "output_type": "stream",
     "text": [
      "layer_name: layer3.0.act3, 3\n"
     ]
    },
    {
     "name": "stderr",
     "output_type": "stream",
     "text": [
      "Global seed set to 3\n",
      "GPU available: True, used: True\n",
      "TPU available: False, using: 0 TPU cores\n",
      "IPU available: False, using: 0 IPUs\n",
      "LOCAL_RANK: 0 - CUDA_VISIBLE_DEVICES: [0,1,2,3,4,5,6,7]\n"
     ]
    },
    {
     "data": {
      "application/vnd.jupyter.widget-view+json": {
       "model_id": "8bc660cdac184a68a19efc381ab6a2ef",
       "version_major": 2,
       "version_minor": 0
      },
      "text/plain": [
       "Predicting: 0it [00:00, ?it/s]"
      ]
     },
     "metadata": {},
     "output_type": "display_data"
    },
    {
     "name": "stderr",
     "output_type": "stream",
     "text": [
      "Global seed set to 1\n",
      "GPU available: True, used: True\n",
      "TPU available: False, using: 0 TPU cores\n",
      "IPU available: False, using: 0 IPUs\n",
      "LOCAL_RANK: 0 - CUDA_VISIBLE_DEVICES: [0,1,2,3,4,5,6,7]\n"
     ]
    },
    {
     "data": {
      "application/vnd.jupyter.widget-view+json": {
       "model_id": "3216389277ef4b929d11ff4ca2a13049",
       "version_major": 2,
       "version_minor": 0
      },
      "text/plain": [
       "Predicting: 0it [00:00, ?it/s]"
      ]
     },
     "metadata": {},
     "output_type": "display_data"
    },
    {
     "name": "stdout",
     "output_type": "stream",
     "text": [
      "layer_name: layer3.0.act3, 3\n"
     ]
    },
    {
     "name": "stderr",
     "output_type": "stream",
     "text": [
      "Global seed set to 1\n",
      "GPU available: True, used: True\n",
      "TPU available: False, using: 0 TPU cores\n",
      "IPU available: False, using: 0 IPUs\n",
      "LOCAL_RANK: 0 - CUDA_VISIBLE_DEVICES: [0,1,2,3,4,5,6,7]\n"
     ]
    },
    {
     "data": {
      "application/vnd.jupyter.widget-view+json": {
       "model_id": "14bb7043388f4eca89f6ab587e1fa8f8",
       "version_major": 2,
       "version_minor": 0
      },
      "text/plain": [
       "Predicting: 0it [00:00, ?it/s]"
      ]
     },
     "metadata": {},
     "output_type": "display_data"
    },
    {
     "name": "stderr",
     "output_type": "stream",
     "text": [
      "Global seed set to 2\n",
      "GPU available: True, used: True\n",
      "TPU available: False, using: 0 TPU cores\n",
      "IPU available: False, using: 0 IPUs\n",
      "LOCAL_RANK: 0 - CUDA_VISIBLE_DEVICES: [0,1,2,3,4,5,6,7]\n"
     ]
    },
    {
     "data": {
      "application/vnd.jupyter.widget-view+json": {
       "model_id": "e2e08103d7e443e5ab5e7bf04d3558bc",
       "version_major": 2,
       "version_minor": 0
      },
      "text/plain": [
       "Predicting: 0it [00:00, ?it/s]"
      ]
     },
     "metadata": {},
     "output_type": "display_data"
    },
    {
     "name": "stdout",
     "output_type": "stream",
     "text": [
      "layer_name: layer3.0.act3, 3\n"
     ]
    },
    {
     "name": "stderr",
     "output_type": "stream",
     "text": [
      "Global seed set to 3\n",
      "GPU available: True, used: True\n",
      "TPU available: False, using: 0 TPU cores\n",
      "IPU available: False, using: 0 IPUs\n",
      "LOCAL_RANK: 0 - CUDA_VISIBLE_DEVICES: [0,1,2,3,4,5,6,7]\n"
     ]
    },
    {
     "data": {
      "application/vnd.jupyter.widget-view+json": {
       "model_id": "59edbebb50354f3f83980a57dbda9023",
       "version_major": 2,
       "version_minor": 0
      },
      "text/plain": [
       "Predicting: 0it [00:00, ?it/s]"
      ]
     },
     "metadata": {},
     "output_type": "display_data"
    },
    {
     "name": "stderr",
     "output_type": "stream",
     "text": [
      "Global seed set to 2\n",
      "GPU available: True, used: True\n",
      "TPU available: False, using: 0 TPU cores\n",
      "IPU available: False, using: 0 IPUs\n",
      "LOCAL_RANK: 0 - CUDA_VISIBLE_DEVICES: [0,1,2,3,4,5,6,7]\n"
     ]
    },
    {
     "data": {
      "application/vnd.jupyter.widget-view+json": {
       "model_id": "e190f9a55a9a461dba6e9b8f38d1fb24",
       "version_major": 2,
       "version_minor": 0
      },
      "text/plain": [
       "Predicting: 0it [00:00, ?it/s]"
      ]
     },
     "metadata": {},
     "output_type": "display_data"
    },
    {
     "name": "stdout",
     "output_type": "stream",
     "text": [
      "layer_name: layer3.0.act3, 3\n"
     ]
    },
    {
     "name": "stderr",
     "output_type": "stream",
     "text": [
      "Global seed set to 2\n",
      "GPU available: True, used: True\n",
      "TPU available: False, using: 0 TPU cores\n",
      "IPU available: False, using: 0 IPUs\n",
      "LOCAL_RANK: 0 - CUDA_VISIBLE_DEVICES: [0,1,2,3,4,5,6,7]\n"
     ]
    },
    {
     "data": {
      "application/vnd.jupyter.widget-view+json": {
       "model_id": "20655bb8242e463ba58ec01b4ba7b3da",
       "version_major": 2,
       "version_minor": 0
      },
      "text/plain": [
       "Predicting: 0it [00:00, ?it/s]"
      ]
     },
     "metadata": {},
     "output_type": "display_data"
    },
    {
     "name": "stderr",
     "output_type": "stream",
     "text": [
      "Global seed set to 1\n",
      "GPU available: True, used: True\n",
      "TPU available: False, using: 0 TPU cores\n",
      "IPU available: False, using: 0 IPUs\n",
      "LOCAL_RANK: 0 - CUDA_VISIBLE_DEVICES: [0,1,2,3,4,5,6,7]\n"
     ]
    },
    {
     "data": {
      "application/vnd.jupyter.widget-view+json": {
       "model_id": "647291a6167848759b9b01d4c3432382",
       "version_major": 2,
       "version_minor": 0
      },
      "text/plain": [
       "Predicting: 0it [00:00, ?it/s]"
      ]
     },
     "metadata": {},
     "output_type": "display_data"
    },
    {
     "name": "stdout",
     "output_type": "stream",
     "text": [
      "layer_name: layer3.0.act3, 3\n"
     ]
    },
    {
     "name": "stderr",
     "output_type": "stream",
     "text": [
      "Global seed set to 3\n",
      "GPU available: True, used: True\n",
      "TPU available: False, using: 0 TPU cores\n",
      "IPU available: False, using: 0 IPUs\n",
      "LOCAL_RANK: 0 - CUDA_VISIBLE_DEVICES: [0,1,2,3,4,5,6,7]\n"
     ]
    },
    {
     "data": {
      "application/vnd.jupyter.widget-view+json": {
       "model_id": "e2d93af7d5ae45d19da26c5ea78b02f6",
       "version_major": 2,
       "version_minor": 0
      },
      "text/plain": [
       "Predicting: 0it [00:00, ?it/s]"
      ]
     },
     "metadata": {},
     "output_type": "display_data"
    },
    {
     "name": "stderr",
     "output_type": "stream",
     "text": [
      "Global seed set to 2\n",
      "GPU available: True, used: True\n",
      "TPU available: False, using: 0 TPU cores\n",
      "IPU available: False, using: 0 IPUs\n",
      "LOCAL_RANK: 0 - CUDA_VISIBLE_DEVICES: [0,1,2,3,4,5,6,7]\n"
     ]
    },
    {
     "data": {
      "application/vnd.jupyter.widget-view+json": {
       "model_id": "115e13c0ff6c4227aa99c6b30d1fb29c",
       "version_major": 2,
       "version_minor": 0
      },
      "text/plain": [
       "Predicting: 0it [00:00, ?it/s]"
      ]
     },
     "metadata": {},
     "output_type": "display_data"
    },
    {
     "name": "stdout",
     "output_type": "stream",
     "text": [
      "layer_name: layer3.0.act3, 3\n"
     ]
    },
    {
     "name": "stderr",
     "output_type": "stream",
     "text": [
      "Global seed set to 1\n",
      "GPU available: True, used: True\n",
      "TPU available: False, using: 0 TPU cores\n",
      "IPU available: False, using: 0 IPUs\n",
      "LOCAL_RANK: 0 - CUDA_VISIBLE_DEVICES: [0,1,2,3,4,5,6,7]\n"
     ]
    },
    {
     "data": {
      "application/vnd.jupyter.widget-view+json": {
       "model_id": "257464ff7dbb4873b44c228e16666de5",
       "version_major": 2,
       "version_minor": 0
      },
      "text/plain": [
       "Predicting: 0it [00:00, ?it/s]"
      ]
     },
     "metadata": {},
     "output_type": "display_data"
    },
    {
     "name": "stderr",
     "output_type": "stream",
     "text": [
      "Global seed set to 2\n",
      "GPU available: True, used: True\n",
      "TPU available: False, using: 0 TPU cores\n",
      "IPU available: False, using: 0 IPUs\n",
      "LOCAL_RANK: 0 - CUDA_VISIBLE_DEVICES: [0,1,2,3,4,5,6,7]\n"
     ]
    },
    {
     "data": {
      "application/vnd.jupyter.widget-view+json": {
       "model_id": "3440c2c9b487439bbaa4b9634ae8a456",
       "version_major": 2,
       "version_minor": 0
      },
      "text/plain": [
       "Predicting: 0it [00:00, ?it/s]"
      ]
     },
     "metadata": {},
     "output_type": "display_data"
    },
    {
     "name": "stdout",
     "output_type": "stream",
     "text": [
      "layer_name: layer3.0.act3, 3\n"
     ]
    },
    {
     "name": "stderr",
     "output_type": "stream",
     "text": [
      "Global seed set to 2\n",
      "GPU available: True, used: True\n",
      "TPU available: False, using: 0 TPU cores\n",
      "IPU available: False, using: 0 IPUs\n",
      "LOCAL_RANK: 0 - CUDA_VISIBLE_DEVICES: [0,1,2,3,4,5,6,7]\n"
     ]
    },
    {
     "data": {
      "application/vnd.jupyter.widget-view+json": {
       "model_id": "ac1e011a75b143deb9504a86fb6927b7",
       "version_major": 2,
       "version_minor": 0
      },
      "text/plain": [
       "Predicting: 0it [00:00, ?it/s]"
      ]
     },
     "metadata": {},
     "output_type": "display_data"
    },
    {
     "name": "stderr",
     "output_type": "stream",
     "text": [
      "Global seed set to 1\n",
      "GPU available: True, used: True\n",
      "TPU available: False, using: 0 TPU cores\n",
      "IPU available: False, using: 0 IPUs\n",
      "LOCAL_RANK: 0 - CUDA_VISIBLE_DEVICES: [0,1,2,3,4,5,6,7]\n"
     ]
    },
    {
     "data": {
      "application/vnd.jupyter.widget-view+json": {
       "model_id": "4b82a496e4704340980eabf55732c932",
       "version_major": 2,
       "version_minor": 0
      },
      "text/plain": [
       "Predicting: 0it [00:00, ?it/s]"
      ]
     },
     "metadata": {},
     "output_type": "display_data"
    },
    {
     "name": "stdout",
     "output_type": "stream",
     "text": [
      "layer_name: layer3.0.act3, 3\n"
     ]
    },
    {
     "name": "stderr",
     "output_type": "stream",
     "text": [
      "Global seed set to 3\n",
      "GPU available: True, used: True\n",
      "TPU available: False, using: 0 TPU cores\n",
      "IPU available: False, using: 0 IPUs\n",
      "LOCAL_RANK: 0 - CUDA_VISIBLE_DEVICES: [0,1,2,3,4,5,6,7]\n"
     ]
    },
    {
     "data": {
      "application/vnd.jupyter.widget-view+json": {
       "model_id": "305d18c0c30b417eb7ced89305757c99",
       "version_major": 2,
       "version_minor": 0
      },
      "text/plain": [
       "Predicting: 0it [00:00, ?it/s]"
      ]
     },
     "metadata": {},
     "output_type": "display_data"
    },
    {
     "name": "stderr",
     "output_type": "stream",
     "text": [
      "Global seed set to 1\n",
      "GPU available: True, used: True\n",
      "TPU available: False, using: 0 TPU cores\n",
      "IPU available: False, using: 0 IPUs\n",
      "LOCAL_RANK: 0 - CUDA_VISIBLE_DEVICES: [0,1,2,3,4,5,6,7]\n"
     ]
    },
    {
     "data": {
      "application/vnd.jupyter.widget-view+json": {
       "model_id": "ed858514a48a4333ad1e022a31dbd7b3",
       "version_major": 2,
       "version_minor": 0
      },
      "text/plain": [
       "Predicting: 0it [00:00, ?it/s]"
      ]
     },
     "metadata": {},
     "output_type": "display_data"
    },
    {
     "name": "stdout",
     "output_type": "stream",
     "text": [
      "layer_name: layer3.0.act3, 1\n"
     ]
    },
    {
     "name": "stderr",
     "output_type": "stream",
     "text": [
      "Global seed set to 2\n",
      "GPU available: True, used: True\n",
      "TPU available: False, using: 0 TPU cores\n",
      "IPU available: False, using: 0 IPUs\n",
      "LOCAL_RANK: 0 - CUDA_VISIBLE_DEVICES: [0,1,2,3,4,5,6,7]\n"
     ]
    },
    {
     "data": {
      "application/vnd.jupyter.widget-view+json": {
       "model_id": "c755e918e09b4dcba20cef604972eb24",
       "version_major": 2,
       "version_minor": 0
      },
      "text/plain": [
       "Predicting: 0it [00:00, ?it/s]"
      ]
     },
     "metadata": {},
     "output_type": "display_data"
    },
    {
     "name": "stdout",
     "output_type": "stream",
     "text": [
      "layer_name: layer3.1.act3, 3\n",
      "Loaded cached for /NS/robustness_2/work/vnanda/invariances_in_reps/partially_inverted_reps/checkpoints/resnet50-base-imagenet-ft-oxford-iiit-pets/frac-0.00050-mode-random-seed-1-ftmode-linear-lr-0.1-bs-256-nonrob/epoch=39-layer3.1.act3-topk=1.ckpt\n",
      "Loaded cached for /NS/robustness_2/work/vnanda/invariances_in_reps/partially_inverted_reps/checkpoints/resnet50-base-imagenet-ft-oxford-iiit-pets/frac-0.00050-mode-random-seed-2-ftmode-linear-lr-0.1-bs-256-nonrob/epoch=21-layer3.1.act3-topk=1.ckpt\n",
      "layer_name: layer3.1.act3, 2\n",
      "Loaded cached for /NS/robustness_2/work/vnanda/invariances_in_reps/partially_inverted_reps/checkpoints/resnet50-base-imagenet-ft-oxford-iiit-pets/frac-0.00500-mode-random-seed-1-ftmode-linear-lr-0.1-bs-256-nonrob/epoch=32-layer3.1.act3-topk=1.ckpt\n",
      "Loaded cached for /NS/robustness_2/work/vnanda/invariances_in_reps/partially_inverted_reps/checkpoints/resnet50-base-imagenet-ft-oxford-iiit-pets/frac-0.00500-mode-random-seed-2-ftmode-linear-lr-0.1-bs-256-nonrob/epoch=38-layer3.1.act3-topk=1.ckpt\n",
      "layer_name: layer3.1.act3, 2\n",
      "Loaded cached for /NS/robustness_2/work/vnanda/invariances_in_reps/partially_inverted_reps/checkpoints/resnet50-base-imagenet-ft-oxford-iiit-pets/frac-0.05000-mode-random-seed-1-ftmode-linear-lr-0.1-bs-256-nonrob/epoch=28-layer3.1.act3-topk=1.ckpt\n",
      "Loaded cached for /NS/robustness_2/work/vnanda/invariances_in_reps/partially_inverted_reps/checkpoints/resnet50-base-imagenet-ft-oxford-iiit-pets/frac-0.05000-mode-random-seed-2-ftmode-linear-lr-0.1-bs-256-nonrob/epoch=45-layer3.1.act3-topk=1.ckpt\n",
      "layer_name: layer3.1.act3, 2\n",
      "Loaded cached for /NS/robustness_2/work/vnanda/invariances_in_reps/partially_inverted_reps/checkpoints/resnet50-base-imagenet-ft-oxford-iiit-pets/frac-0.10000-mode-random-seed-2-ftmode-linear-lr-0.1-bs-256-nonrob/epoch=45-layer3.1.act3-topk=1.ckpt\n",
      "Loaded cached for /NS/robustness_2/work/vnanda/invariances_in_reps/partially_inverted_reps/checkpoints/resnet50-base-imagenet-ft-oxford-iiit-pets/frac-0.10000-mode-random-seed-1-ftmode-linear-lr-0.1-bs-256-nonrob/epoch=28-layer3.1.act3-topk=1.ckpt\n",
      "layer_name: layer3.1.act3, 2\n",
      "Loaded cached for /NS/robustness_2/work/vnanda/invariances_in_reps/partially_inverted_reps/checkpoints/resnet50-base-imagenet-ft-oxford-iiit-pets/frac-0.20000-mode-random-seed-2-ftmode-linear-lr-0.1-bs-256-nonrob/epoch=36-layer3.1.act3-topk=1.ckpt\n",
      "Loaded cached for /NS/robustness_2/work/vnanda/invariances_in_reps/partially_inverted_reps/checkpoints/resnet50-base-imagenet-ft-oxford-iiit-pets/frac-0.20000-mode-random-seed-1-ftmode-linear-lr-0.1-bs-256-nonrob/epoch=47-layer3.1.act3-topk=1.ckpt\n",
      "layer_name: layer3.1.act3, 2\n",
      "Loaded cached for /NS/robustness_2/work/vnanda/invariances_in_reps/partially_inverted_reps/checkpoints/resnet50-base-imagenet-ft-oxford-iiit-pets/frac-0.40000-mode-random-seed-2-ftmode-linear-lr-0.1-bs-256-nonrob/epoch=45-layer3.1.act3-topk=1.ckpt\n",
      "Loaded cached for /NS/robustness_2/work/vnanda/invariances_in_reps/partially_inverted_reps/checkpoints/resnet50-base-imagenet-ft-oxford-iiit-pets/frac-0.40000-mode-random-seed-1-ftmode-linear-lr-0.1-bs-256-nonrob/epoch=28-layer3.1.act3-topk=1.ckpt\n",
      "layer_name: layer3.1.act3, 2\n",
      "Loaded cached for /NS/robustness_2/work/vnanda/invariances_in_reps/partially_inverted_reps/checkpoints/resnet50-base-imagenet-ft-oxford-iiit-pets/frac-0.50000-mode-random-seed-1-ftmode-linear-lr-0.1-bs-256-nonrob/epoch=28-layer3.1.act3-topk=1.ckpt\n",
      "Loaded cached for /NS/robustness_2/work/vnanda/invariances_in_reps/partially_inverted_reps/checkpoints/resnet50-base-imagenet-ft-oxford-iiit-pets/frac-0.50000-mode-random-seed-2-ftmode-linear-lr-0.1-bs-256-nonrob/epoch=48-layer3.1.act3-topk=1.ckpt\n",
      "layer_name: layer3.1.act3, 2\n",
      "Loaded cached for /NS/robustness_2/work/vnanda/invariances_in_reps/partially_inverted_reps/checkpoints/resnet50-base-imagenet-ft-oxford-iiit-pets/frac-0.80000-mode-random-seed-2-ftmode-linear-lr-0.1-bs-256-nonrob/epoch=27-layer3.1.act3-topk=1.ckpt\n",
      "Loaded cached for /NS/robustness_2/work/vnanda/invariances_in_reps/partially_inverted_reps/checkpoints/resnet50-base-imagenet-ft-oxford-iiit-pets/frac-0.80000-mode-random-seed-1-ftmode-linear-lr-0.1-bs-256-nonrob/epoch=28-layer3.1.act3-topk=1.ckpt\n",
      "layer_name: layer3.1.act3, 2\n",
      "Loaded cached for /NS/robustness_2/work/vnanda/invariances_in_reps/partially_inverted_reps/checkpoints/resnet50-base-imagenet-ft-oxford-iiit-pets/frac-0.90000-mode-random-seed-1-ftmode-linear-lr-0.1-bs-256-nonrob/epoch=28-layer3.1.act3-topk=1.ckpt\n",
      "Loaded cached for /NS/robustness_2/work/vnanda/invariances_in_reps/partially_inverted_reps/checkpoints/resnet50-base-imagenet-ft-oxford-iiit-pets/frac-0.90000-mode-random-seed-2-ftmode-linear-lr-0.1-bs-256-nonrob/epoch=21-layer3.1.act3-topk=1.ckpt\n",
      "layer_name: layer3.1.act3, 1\n",
      "Loaded cached for /NS/robustness_2/work/vnanda/invariances_in_reps/partially_inverted_reps/checkpoints/resnet50-base-imagenet-ft-oxford-iiit-pets/frac-1.00000-mode-random-seed-2-ftmode-linear-lr-0.1-bs-256-nonrob/epoch=46-layer3.1.act3-topk=1.ckpt\n",
      "layer_name: layer3.2.act3, 2\n"
     ]
    },
    {
     "name": "stderr",
     "output_type": "stream",
     "text": [
      "Global seed set to 1\n",
      "GPU available: True, used: True\n",
      "TPU available: False, using: 0 TPU cores\n",
      "IPU available: False, using: 0 IPUs\n",
      "LOCAL_RANK: 0 - CUDA_VISIBLE_DEVICES: [0,1,2,3,4,5,6,7]\n"
     ]
    },
    {
     "data": {
      "application/vnd.jupyter.widget-view+json": {
       "model_id": "7c1ca95ed2414b5ea66cb9697d28c99f",
       "version_major": 2,
       "version_minor": 0
      },
      "text/plain": [
       "Predicting: 0it [00:00, ?it/s]"
      ]
     },
     "metadata": {},
     "output_type": "display_data"
    },
    {
     "name": "stderr",
     "output_type": "stream",
     "text": [
      "Global seed set to 2\n",
      "GPU available: True, used: True\n",
      "TPU available: False, using: 0 TPU cores\n",
      "IPU available: False, using: 0 IPUs\n",
      "LOCAL_RANK: 0 - CUDA_VISIBLE_DEVICES: [0,1,2,3,4,5,6,7]\n"
     ]
    },
    {
     "data": {
      "application/vnd.jupyter.widget-view+json": {
       "model_id": "ddf6a82c946d46b495c8ba08af725491",
       "version_major": 2,
       "version_minor": 0
      },
      "text/plain": [
       "Predicting: 0it [00:00, ?it/s]"
      ]
     },
     "metadata": {},
     "output_type": "display_data"
    },
    {
     "name": "stdout",
     "output_type": "stream",
     "text": [
      "layer_name: layer3.2.act3, 2\n"
     ]
    },
    {
     "name": "stderr",
     "output_type": "stream",
     "text": [
      "Global seed set to 1\n",
      "GPU available: True, used: True\n",
      "TPU available: False, using: 0 TPU cores\n",
      "IPU available: False, using: 0 IPUs\n",
      "LOCAL_RANK: 0 - CUDA_VISIBLE_DEVICES: [0,1,2,3,4,5,6,7]\n"
     ]
    },
    {
     "data": {
      "application/vnd.jupyter.widget-view+json": {
       "model_id": "27c24e61aa7e4b158807f36853d33a9a",
       "version_major": 2,
       "version_minor": 0
      },
      "text/plain": [
       "Predicting: 0it [00:00, ?it/s]"
      ]
     },
     "metadata": {},
     "output_type": "display_data"
    },
    {
     "name": "stderr",
     "output_type": "stream",
     "text": [
      "Global seed set to 2\n",
      "GPU available: True, used: True\n",
      "TPU available: False, using: 0 TPU cores\n",
      "IPU available: False, using: 0 IPUs\n",
      "LOCAL_RANK: 0 - CUDA_VISIBLE_DEVICES: [0,1,2,3,4,5,6,7]\n"
     ]
    },
    {
     "data": {
      "application/vnd.jupyter.widget-view+json": {
       "model_id": "ca75318336d246b0a1b26a2ddc1a67d7",
       "version_major": 2,
       "version_minor": 0
      },
      "text/plain": [
       "Predicting: 0it [00:00, ?it/s]"
      ]
     },
     "metadata": {},
     "output_type": "display_data"
    },
    {
     "name": "stdout",
     "output_type": "stream",
     "text": [
      "layer_name: layer3.2.act3, 2\n"
     ]
    },
    {
     "name": "stderr",
     "output_type": "stream",
     "text": [
      "Global seed set to 1\n",
      "GPU available: True, used: True\n",
      "TPU available: False, using: 0 TPU cores\n",
      "IPU available: False, using: 0 IPUs\n",
      "LOCAL_RANK: 0 - CUDA_VISIBLE_DEVICES: [0,1,2,3,4,5,6,7]\n"
     ]
    },
    {
     "data": {
      "application/vnd.jupyter.widget-view+json": {
       "model_id": "a20de52a516447908a34942ba0347d66",
       "version_major": 2,
       "version_minor": 0
      },
      "text/plain": [
       "Predicting: 0it [00:00, ?it/s]"
      ]
     },
     "metadata": {},
     "output_type": "display_data"
    },
    {
     "name": "stderr",
     "output_type": "stream",
     "text": [
      "Global seed set to 2\n",
      "GPU available: True, used: True\n",
      "TPU available: False, using: 0 TPU cores\n",
      "IPU available: False, using: 0 IPUs\n",
      "LOCAL_RANK: 0 - CUDA_VISIBLE_DEVICES: [0,1,2,3,4,5,6,7]\n"
     ]
    },
    {
     "data": {
      "application/vnd.jupyter.widget-view+json": {
       "model_id": "dfe37856f8a84bb8a8741191452348ba",
       "version_major": 2,
       "version_minor": 0
      },
      "text/plain": [
       "Predicting: 0it [00:00, ?it/s]"
      ]
     },
     "metadata": {},
     "output_type": "display_data"
    },
    {
     "name": "stdout",
     "output_type": "stream",
     "text": [
      "layer_name: layer3.2.act3, 2\n"
     ]
    },
    {
     "name": "stderr",
     "output_type": "stream",
     "text": [
      "Global seed set to 2\n",
      "GPU available: True, used: True\n",
      "TPU available: False, using: 0 TPU cores\n",
      "IPU available: False, using: 0 IPUs\n",
      "LOCAL_RANK: 0 - CUDA_VISIBLE_DEVICES: [0,1,2,3,4,5,6,7]\n"
     ]
    },
    {
     "data": {
      "application/vnd.jupyter.widget-view+json": {
       "model_id": "1e5f9e0a5cc84cc282592cc327c9e56c",
       "version_major": 2,
       "version_minor": 0
      },
      "text/plain": [
       "Predicting: 0it [00:00, ?it/s]"
      ]
     },
     "metadata": {},
     "output_type": "display_data"
    },
    {
     "name": "stderr",
     "output_type": "stream",
     "text": [
      "Global seed set to 1\n",
      "GPU available: True, used: True\n",
      "TPU available: False, using: 0 TPU cores\n",
      "IPU available: False, using: 0 IPUs\n",
      "LOCAL_RANK: 0 - CUDA_VISIBLE_DEVICES: [0,1,2,3,4,5,6,7]\n"
     ]
    },
    {
     "data": {
      "application/vnd.jupyter.widget-view+json": {
       "model_id": "094a66d923ad441abedb4d12563fb79b",
       "version_major": 2,
       "version_minor": 0
      },
      "text/plain": [
       "Predicting: 0it [00:00, ?it/s]"
      ]
     },
     "metadata": {},
     "output_type": "display_data"
    },
    {
     "name": "stdout",
     "output_type": "stream",
     "text": [
      "layer_name: layer3.2.act3, 2\n"
     ]
    },
    {
     "name": "stderr",
     "output_type": "stream",
     "text": [
      "Global seed set to 2\n",
      "GPU available: True, used: True\n",
      "TPU available: False, using: 0 TPU cores\n",
      "IPU available: False, using: 0 IPUs\n",
      "LOCAL_RANK: 0 - CUDA_VISIBLE_DEVICES: [0,1,2,3,4,5,6,7]\n"
     ]
    },
    {
     "data": {
      "application/vnd.jupyter.widget-view+json": {
       "model_id": "5634b5b385c74b3fb39e512b612da7ba",
       "version_major": 2,
       "version_minor": 0
      },
      "text/plain": [
       "Predicting: 0it [00:00, ?it/s]"
      ]
     },
     "metadata": {},
     "output_type": "display_data"
    },
    {
     "name": "stderr",
     "output_type": "stream",
     "text": [
      "Global seed set to 1\n",
      "GPU available: True, used: True\n",
      "TPU available: False, using: 0 TPU cores\n",
      "IPU available: False, using: 0 IPUs\n",
      "LOCAL_RANK: 0 - CUDA_VISIBLE_DEVICES: [0,1,2,3,4,5,6,7]\n"
     ]
    },
    {
     "data": {
      "application/vnd.jupyter.widget-view+json": {
       "model_id": "53ebe21b5c2a436bac94a53f0e3a0bb4",
       "version_major": 2,
       "version_minor": 0
      },
      "text/plain": [
       "Predicting: 0it [00:00, ?it/s]"
      ]
     },
     "metadata": {},
     "output_type": "display_data"
    },
    {
     "name": "stdout",
     "output_type": "stream",
     "text": [
      "layer_name: layer3.2.act3, 2\n"
     ]
    },
    {
     "name": "stderr",
     "output_type": "stream",
     "text": [
      "Global seed set to 2\n",
      "GPU available: True, used: True\n",
      "TPU available: False, using: 0 TPU cores\n",
      "IPU available: False, using: 0 IPUs\n",
      "LOCAL_RANK: 0 - CUDA_VISIBLE_DEVICES: [0,1,2,3,4,5,6,7]\n"
     ]
    },
    {
     "data": {
      "application/vnd.jupyter.widget-view+json": {
       "model_id": "b8983cd5499440be944f5c59378946f2",
       "version_major": 2,
       "version_minor": 0
      },
      "text/plain": [
       "Predicting: 0it [00:00, ?it/s]"
      ]
     },
     "metadata": {},
     "output_type": "display_data"
    },
    {
     "name": "stderr",
     "output_type": "stream",
     "text": [
      "Global seed set to 1\n",
      "GPU available: True, used: True\n",
      "TPU available: False, using: 0 TPU cores\n",
      "IPU available: False, using: 0 IPUs\n",
      "LOCAL_RANK: 0 - CUDA_VISIBLE_DEVICES: [0,1,2,3,4,5,6,7]\n"
     ]
    },
    {
     "data": {
      "application/vnd.jupyter.widget-view+json": {
       "model_id": "0e47248f610440a0bfc6425a721fc1d9",
       "version_major": 2,
       "version_minor": 0
      },
      "text/plain": [
       "Predicting: 0it [00:00, ?it/s]"
      ]
     },
     "metadata": {},
     "output_type": "display_data"
    },
    {
     "name": "stdout",
     "output_type": "stream",
     "text": [
      "layer_name: layer3.2.act3, 2\n"
     ]
    },
    {
     "name": "stderr",
     "output_type": "stream",
     "text": [
      "Global seed set to 1\n",
      "GPU available: True, used: True\n",
      "TPU available: False, using: 0 TPU cores\n",
      "IPU available: False, using: 0 IPUs\n",
      "LOCAL_RANK: 0 - CUDA_VISIBLE_DEVICES: [0,1,2,3,4,5,6,7]\n"
     ]
    },
    {
     "data": {
      "application/vnd.jupyter.widget-view+json": {
       "model_id": "44dc30caedda49efa44db950b4620676",
       "version_major": 2,
       "version_minor": 0
      },
      "text/plain": [
       "Predicting: 0it [00:00, ?it/s]"
      ]
     },
     "metadata": {},
     "output_type": "display_data"
    },
    {
     "name": "stderr",
     "output_type": "stream",
     "text": [
      "Global seed set to 2\n",
      "GPU available: True, used: True\n",
      "TPU available: False, using: 0 TPU cores\n",
      "IPU available: False, using: 0 IPUs\n",
      "LOCAL_RANK: 0 - CUDA_VISIBLE_DEVICES: [0,1,2,3,4,5,6,7]\n"
     ]
    },
    {
     "data": {
      "application/vnd.jupyter.widget-view+json": {
       "model_id": "90b2a4dbe85f4bf3b5d68e112dccd21f",
       "version_major": 2,
       "version_minor": 0
      },
      "text/plain": [
       "Predicting: 0it [00:00, ?it/s]"
      ]
     },
     "metadata": {},
     "output_type": "display_data"
    },
    {
     "name": "stdout",
     "output_type": "stream",
     "text": [
      "layer_name: layer3.2.act3, 2\n"
     ]
    },
    {
     "name": "stderr",
     "output_type": "stream",
     "text": [
      "Global seed set to 2\n",
      "GPU available: True, used: True\n",
      "TPU available: False, using: 0 TPU cores\n",
      "IPU available: False, using: 0 IPUs\n",
      "LOCAL_RANK: 0 - CUDA_VISIBLE_DEVICES: [0,1,2,3,4,5,6,7]\n"
     ]
    },
    {
     "data": {
      "application/vnd.jupyter.widget-view+json": {
       "model_id": "2d3cdf35645a497f95be7c03c4c95169",
       "version_major": 2,
       "version_minor": 0
      },
      "text/plain": [
       "Predicting: 0it [00:00, ?it/s]"
      ]
     },
     "metadata": {},
     "output_type": "display_data"
    },
    {
     "name": "stderr",
     "output_type": "stream",
     "text": [
      "Global seed set to 1\n",
      "GPU available: True, used: True\n",
      "TPU available: False, using: 0 TPU cores\n",
      "IPU available: False, using: 0 IPUs\n",
      "LOCAL_RANK: 0 - CUDA_VISIBLE_DEVICES: [0,1,2,3,4,5,6,7]\n"
     ]
    },
    {
     "data": {
      "application/vnd.jupyter.widget-view+json": {
       "model_id": "2c7f03d4f5da4aedab6000d408d0d18c",
       "version_major": 2,
       "version_minor": 0
      },
      "text/plain": [
       "Predicting: 0it [00:00, ?it/s]"
      ]
     },
     "metadata": {},
     "output_type": "display_data"
    },
    {
     "name": "stdout",
     "output_type": "stream",
     "text": [
      "layer_name: layer3.2.act3, 2\n"
     ]
    },
    {
     "name": "stderr",
     "output_type": "stream",
     "text": [
      "Global seed set to 1\n",
      "GPU available: True, used: True\n",
      "TPU available: False, using: 0 TPU cores\n",
      "IPU available: False, using: 0 IPUs\n",
      "LOCAL_RANK: 0 - CUDA_VISIBLE_DEVICES: [0,1,2,3,4,5,6,7]\n"
     ]
    },
    {
     "data": {
      "application/vnd.jupyter.widget-view+json": {
       "model_id": "7e7d3503f76a4ce5b502865e9ac42c6d",
       "version_major": 2,
       "version_minor": 0
      },
      "text/plain": [
       "Predicting: 0it [00:00, ?it/s]"
      ]
     },
     "metadata": {},
     "output_type": "display_data"
    },
    {
     "name": "stderr",
     "output_type": "stream",
     "text": [
      "Global seed set to 2\n",
      "GPU available: True, used: True\n",
      "TPU available: False, using: 0 TPU cores\n",
      "IPU available: False, using: 0 IPUs\n",
      "LOCAL_RANK: 0 - CUDA_VISIBLE_DEVICES: [0,1,2,3,4,5,6,7]\n"
     ]
    },
    {
     "data": {
      "application/vnd.jupyter.widget-view+json": {
       "model_id": "5ab8b58f37e44056821f723c7e993639",
       "version_major": 2,
       "version_minor": 0
      },
      "text/plain": [
       "Predicting: 0it [00:00, ?it/s]"
      ]
     },
     "metadata": {},
     "output_type": "display_data"
    },
    {
     "name": "stdout",
     "output_type": "stream",
     "text": [
      "layer_name: layer3.2.act3, 1\n"
     ]
    },
    {
     "name": "stderr",
     "output_type": "stream",
     "text": [
      "Global seed set to 2\n",
      "GPU available: True, used: True\n",
      "TPU available: False, using: 0 TPU cores\n",
      "IPU available: False, using: 0 IPUs\n",
      "LOCAL_RANK: 0 - CUDA_VISIBLE_DEVICES: [0,1,2,3,4,5,6,7]\n"
     ]
    },
    {
     "data": {
      "application/vnd.jupyter.widget-view+json": {
       "model_id": "db8be8f015ea4d31bb8c66181a06508a",
       "version_major": 2,
       "version_minor": 0
      },
      "text/plain": [
       "Predicting: 0it [00:00, ?it/s]"
      ]
     },
     "metadata": {},
     "output_type": "display_data"
    },
    {
     "name": "stdout",
     "output_type": "stream",
     "text": [
      "layer_name: layer3.3.act3, 2\n",
      "Loaded cached for /NS/robustness_2/work/vnanda/invariances_in_reps/partially_inverted_reps/checkpoints/resnet50-base-imagenet-ft-oxford-iiit-pets/frac-0.00050-mode-random-seed-1-ftmode-linear-lr-0.1-bs-256-nonrob/epoch=25-layer3.3.act3-topk=1.ckpt\n",
      "Loaded cached for /NS/robustness_2/work/vnanda/invariances_in_reps/partially_inverted_reps/checkpoints/resnet50-base-imagenet-ft-oxford-iiit-pets/frac-0.00050-mode-random-seed-2-ftmode-linear-lr-0.1-bs-256-nonrob/epoch=47-layer3.3.act3-topk=1.ckpt\n",
      "layer_name: layer3.3.act3, 2\n",
      "Loaded cached for /NS/robustness_2/work/vnanda/invariances_in_reps/partially_inverted_reps/checkpoints/resnet50-base-imagenet-ft-oxford-iiit-pets/frac-0.00500-mode-random-seed-1-ftmode-linear-lr-0.1-bs-256-nonrob/epoch=23-layer3.3.act3-topk=1.ckpt\n",
      "Loaded cached for /NS/robustness_2/work/vnanda/invariances_in_reps/partially_inverted_reps/checkpoints/resnet50-base-imagenet-ft-oxford-iiit-pets/frac-0.00500-mode-random-seed-2-ftmode-linear-lr-0.1-bs-256-nonrob/epoch=20-layer3.3.act3-topk=1.ckpt\n",
      "layer_name: layer3.3.act3, 2\n",
      "Loaded cached for /NS/robustness_2/work/vnanda/invariances_in_reps/partially_inverted_reps/checkpoints/resnet50-base-imagenet-ft-oxford-iiit-pets/frac-0.05000-mode-random-seed-1-ftmode-linear-lr-0.1-bs-256-nonrob/epoch=28-layer3.3.act3-topk=1.ckpt\n",
      "Loaded cached for /NS/robustness_2/work/vnanda/invariances_in_reps/partially_inverted_reps/checkpoints/resnet50-base-imagenet-ft-oxford-iiit-pets/frac-0.05000-mode-random-seed-2-ftmode-linear-lr-0.1-bs-256-nonrob/epoch=45-layer3.3.act3-topk=1.ckpt\n",
      "layer_name: layer3.3.act3, 2\n",
      "Loaded cached for /NS/robustness_2/work/vnanda/invariances_in_reps/partially_inverted_reps/checkpoints/resnet50-base-imagenet-ft-oxford-iiit-pets/frac-0.10000-mode-random-seed-2-ftmode-linear-lr-0.1-bs-256-nonrob/epoch=45-layer3.3.act3-topk=1.ckpt\n",
      "Loaded cached for /NS/robustness_2/work/vnanda/invariances_in_reps/partially_inverted_reps/checkpoints/resnet50-base-imagenet-ft-oxford-iiit-pets/frac-0.10000-mode-random-seed-1-ftmode-linear-lr-0.1-bs-256-nonrob/epoch=28-layer3.3.act3-topk=1.ckpt\n",
      "layer_name: layer3.3.act3, 2\n",
      "Loaded cached for /NS/robustness_2/work/vnanda/invariances_in_reps/partially_inverted_reps/checkpoints/resnet50-base-imagenet-ft-oxford-iiit-pets/frac-0.20000-mode-random-seed-2-ftmode-linear-lr-0.1-bs-256-nonrob/epoch=45-layer3.3.act3-topk=1.ckpt\n",
      "Loaded cached for /NS/robustness_2/work/vnanda/invariances_in_reps/partially_inverted_reps/checkpoints/resnet50-base-imagenet-ft-oxford-iiit-pets/frac-0.20000-mode-random-seed-1-ftmode-linear-lr-0.1-bs-256-nonrob/epoch=28-layer3.3.act3-topk=1.ckpt\n",
      "layer_name: layer3.3.act3, 2\n",
      "Loaded cached for /NS/robustness_2/work/vnanda/invariances_in_reps/partially_inverted_reps/checkpoints/resnet50-base-imagenet-ft-oxford-iiit-pets/frac-0.40000-mode-random-seed-2-ftmode-linear-lr-0.1-bs-256-nonrob/epoch=36-layer3.3.act3-topk=1.ckpt\n",
      "Loaded cached for /NS/robustness_2/work/vnanda/invariances_in_reps/partially_inverted_reps/checkpoints/resnet50-base-imagenet-ft-oxford-iiit-pets/frac-0.40000-mode-random-seed-1-ftmode-linear-lr-0.1-bs-256-nonrob/epoch=28-layer3.3.act3-topk=1.ckpt\n",
      "layer_name: layer3.3.act3, 2\n",
      "Loaded cached for /NS/robustness_2/work/vnanda/invariances_in_reps/partially_inverted_reps/checkpoints/resnet50-base-imagenet-ft-oxford-iiit-pets/frac-0.50000-mode-random-seed-1-ftmode-linear-lr-0.1-bs-256-nonrob/epoch=37-layer3.3.act3-topk=1.ckpt\n",
      "Loaded cached for /NS/robustness_2/work/vnanda/invariances_in_reps/partially_inverted_reps/checkpoints/resnet50-base-imagenet-ft-oxford-iiit-pets/frac-0.50000-mode-random-seed-2-ftmode-linear-lr-0.1-bs-256-nonrob/epoch=45-layer3.3.act3-topk=1.ckpt\n",
      "layer_name: layer3.3.act3, 2\n",
      "Loaded cached for /NS/robustness_2/work/vnanda/invariances_in_reps/partially_inverted_reps/checkpoints/resnet50-base-imagenet-ft-oxford-iiit-pets/frac-0.80000-mode-random-seed-2-ftmode-linear-lr-0.1-bs-256-nonrob/epoch=45-layer3.3.act3-topk=1.ckpt\n",
      "Loaded cached for /NS/robustness_2/work/vnanda/invariances_in_reps/partially_inverted_reps/checkpoints/resnet50-base-imagenet-ft-oxford-iiit-pets/frac-0.80000-mode-random-seed-1-ftmode-linear-lr-0.1-bs-256-nonrob/epoch=28-layer3.3.act3-topk=1.ckpt\n",
      "layer_name: layer3.3.act3, 2\n",
      "Loaded cached for /NS/robustness_2/work/vnanda/invariances_in_reps/partially_inverted_reps/checkpoints/resnet50-base-imagenet-ft-oxford-iiit-pets/frac-0.90000-mode-random-seed-1-ftmode-linear-lr-0.1-bs-256-nonrob/epoch=47-layer3.3.act3-topk=1.ckpt\n",
      "Loaded cached for /NS/robustness_2/work/vnanda/invariances_in_reps/partially_inverted_reps/checkpoints/resnet50-base-imagenet-ft-oxford-iiit-pets/frac-0.90000-mode-random-seed-2-ftmode-linear-lr-0.1-bs-256-nonrob/epoch=45-layer3.3.act3-topk=1.ckpt\n",
      "layer_name: layer3.3.act3, 1\n",
      "Loaded cached for /NS/robustness_2/work/vnanda/invariances_in_reps/partially_inverted_reps/checkpoints/resnet50-base-imagenet-ft-oxford-iiit-pets/frac-1.00000-mode-random-seed-2-ftmode-linear-lr-0.1-bs-256-nonrob/epoch=45-layer3.3.act3-topk=1.ckpt\n",
      "layer_name: layer3.4.act3, 2\n"
     ]
    },
    {
     "name": "stderr",
     "output_type": "stream",
     "text": [
      "Global seed set to 1\n",
      "GPU available: True, used: True\n",
      "TPU available: False, using: 0 TPU cores\n",
      "IPU available: False, using: 0 IPUs\n",
      "LOCAL_RANK: 0 - CUDA_VISIBLE_DEVICES: [0,1,2,3,4,5,6,7]\n"
     ]
    },
    {
     "data": {
      "application/vnd.jupyter.widget-view+json": {
       "model_id": "0c500f80b9684fcab4c2e843de661790",
       "version_major": 2,
       "version_minor": 0
      },
      "text/plain": [
       "Predicting: 0it [00:00, ?it/s]"
      ]
     },
     "metadata": {},
     "output_type": "display_data"
    },
    {
     "name": "stderr",
     "output_type": "stream",
     "text": [
      "Global seed set to 2\n",
      "GPU available: True, used: True\n",
      "TPU available: False, using: 0 TPU cores\n",
      "IPU available: False, using: 0 IPUs\n",
      "LOCAL_RANK: 0 - CUDA_VISIBLE_DEVICES: [0,1,2,3,4,5,6,7]\n"
     ]
    },
    {
     "data": {
      "application/vnd.jupyter.widget-view+json": {
       "model_id": "4e5122fe3e7d40819438ad2f8c19a5dc",
       "version_major": 2,
       "version_minor": 0
      },
      "text/plain": [
       "Predicting: 0it [00:00, ?it/s]"
      ]
     },
     "metadata": {},
     "output_type": "display_data"
    }
   ],
   "source": [
    "SOURCE_DATASETS = ['imagenet']\n",
    "MODELS = CHECKPOINT_PATHS.keys()\n",
    "\n",
    "for model in MODELS:\n",
    "    for append in CHECKPOINT_PATHS[model].keys():\n",
    "        checkpoint_path = CHECKPOINT_PATHS[model][append]\n",
    "        for source_dataset in SOURCE_DATASETS:\n",
    "            all_res = {}\n",
    "            for finetuning_dataset in FINETUNING_DATASETS:\n",
    "                base_model_path = f'{BASE_DIR}/{model}-base-{source_dataset}-ft-{finetuning_dataset}'\n",
    "                layer_to_acc = get_layerwise_test_acc(model, source_dataset, finetuning_dataset, \n",
    "                                       checkpoint_path, base_model_path, append)\n",
    "            \n",
    "                for layer in layer_to_acc.keys():\n",
    "                    if layer not in all_res:\n",
    "                        all_res[layer] = {ft_ds:{} for ft_ds in FINETUNING_DATASETS}\n",
    "                    all_res[layer][finetuning_dataset] = layer_to_acc[layer]\n",
    "            \n",
    "            for layer in all_res.keys():\n",
    "                plt_hp.line_plot(\n",
    "                    [[np.nanmean(all_res[layer][ft_ds][f]) \\\n",
    "                      for f in sorted(all_res[layer][ft_ds].keys())] \\\n",
    "                     for ft_ds in FINETUNING_DATASETS], \n",
    "                    'Fraction of neurons', 'Transfer Accuracy', layer, subfolder=layer, \n",
    "                    filename=f'{model}_base_{source_dataset}_{append}', \n",
    "                    extension='png', x_vals=[[f for f in sorted(all_res[layer][ft_ds].keys())] \\\n",
    "                                             for ft_ds in FINETUNING_DATASETS], \n",
    "                    legend_vals=FINETUNING_DATASETS, vertical_line=None, colors=plt_hp.COLORS, \n",
    "                    linestyles=['-'] * len(FINETUNING_DATASETS), \n",
    "                    y_lims=(0.,1.), root_dir='.', paper_friendly_plots=True, \n",
    "                    plot_inside=False, legend_location='best', savefig=True, \n",
    "                    figsize=(10,6), marker=[True] * len(FINETUNING_DATASETS), \n",
    "                    results_subfolder_name='middle_layer_analysis', grid_spacing=None, \n",
    "                    y_err=[[np.nanstd(all_res[layer][ft_ds][f]) \\\n",
    "                            for f in sorted(all_res[layer][ft_ds].keys())] \\\n",
    "                           for ft_ds in FINETUNING_DATASETS], \n",
    "                    legend_ncol=4)"
   ]
  },
  {
   "cell_type": "code",
   "execution_count": null,
   "id": "6be1fc0b",
   "metadata": {},
   "outputs": [],
   "source": []
  }
 ],
 "metadata": {
  "kernelspec": {
   "display_name": "Python 3 (ipykernel)",
   "language": "python",
   "name": "python3"
  },
  "language_info": {
   "codemirror_mode": {
    "name": "ipython",
    "version": 3
   },
   "file_extension": ".py",
   "mimetype": "text/x-python",
   "name": "python",
   "nbconvert_exporter": "python",
   "pygments_lexer": "ipython3",
   "version": "3.7.9"
  }
 },
 "nbformat": 4,
 "nbformat_minor": 5
}
