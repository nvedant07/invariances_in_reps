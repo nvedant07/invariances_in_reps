{
 "cells": [
  {
   "cell_type": "code",
   "execution_count": 3,
   "id": "6df5c715",
   "metadata": {},
   "outputs": [],
   "source": [
    "import os\n",
    "os.environ['CUDA_VISIBLE_DEVICES'] = '4'\n",
    "\n",
    "from pytorch_lightning import utilities as pl_utils\n",
    "from pytorch_lightning.trainer.trainer import Trainer\n",
    "from pytorch_lightning.plugins import DDPPlugin\n",
    "import torch\n",
    "import pathlib\n",
    "from functools import partial\n",
    "import sys, glob\n",
    "import numpy as np\n",
    "\n",
    "sys.path.append('..')\n",
    "sys.path.append('../deep-learning-base')\n",
    "sys.path.append('../deep-learning-base/training')\n",
    "sys.path.append('../deep-learning-base/datasets')\n",
    "sys.path.append('../partially_inverted_reps')\n",
    "\n",
    "import plot_helper as plt_hp\n",
    "import output as out\n",
    "from training import LitProgressBar, NicerModelCheckpointing\n",
    "import training.finetuning as ft\n",
    "import architectures as arch\n",
    "from architectures.callbacks import LightningWrapper, LinearEvalWrapper\n",
    "from attack.callbacks import AdvCallback\n",
    "from data_modules import DATA_MODULES\n",
    "import dataset_metadata as dsmd\n",
    "from partial_loss import PartialInversionLoss, PartialInversionRegularizedLoss\n",
    "from __init__ import DATA_PATH_IMAGENET, DATA_PATH, SERVER_PROJECT_PATH"
   ]
  },
  {
   "cell_type": "code",
   "execution_count": 4,
   "id": "5495b002",
   "metadata": {},
   "outputs": [],
   "source": [
    "CHECKPOINT_PATHS = {\n",
    "    'vgg16_bn': {'imagenet': {\n",
    "        'nonrob': '',\n",
    "        'robustl2eps3': '/NS/robustness_3/work/vnanda/adv-robustness/logs/'\\\n",
    "                        'robust_imagenet/eps3/vgg16_bn_l2_eps3.ckpt'}},\n",
    "    'resnet18': {'imagenet': {\n",
    "        'nonrob': '',\n",
    "        'robustl2eps3': '/NS/robustness_3/work/vnanda/adv-robustness/logs/'\\\n",
    "                        'robust_imagenet/eps3/resnet-18-l2-eps3.ckpt'}},\n",
    "    'resnet50': {'imagenet': {\n",
    "        'nonrob': '',\n",
    "        'robustl2eps3': '/NS/robustness_3/work/vnanda/adv-robustness/logs/'\\\n",
    "                        'robust_imagenet/eps3/resnet-50-l2-eps3.ckpt'}},\n",
    "    'resnet50_mrl': {'imagenet': {\n",
    "        'nonrob': '/NS/robustness_2/work/vnanda/invariances_in_reps/deep-learning-base/'\\\n",
    "                  'checkpoints/imagenet1k/r50_mrl1_e0_ff2048.pt'}},\n",
    "    'resnet50_ff8': {'imagenet': {\n",
    "        'nonrob': '/NS/robustness_2/work/vnanda/invariances_in_reps/deep-learning-base/'\\\n",
    "                  'checkpoints/imagenet1k/r50_mrl0_e0_ff8.pt'}},\n",
    "    'resnet50_ff16': {'imagenet': {\n",
    "        'nonrob': '/NS/robustness_2/work/vnanda/invariances_in_reps/deep-learning-base/'\\\n",
    "                  'checkpoints/imagenet1k/r50_mrl0_e0_ff16.pt'}},\n",
    "    'resnet50_ff32': {'imagenet': {\n",
    "        'nonrob': '/NS/robustness_2/work/vnanda/invariances_in_reps/deep-learning-base/'\\\n",
    "                  'checkpoints/imagenet1k/r50_mrl0_e0_ff32.pt'}},\n",
    "    'resnet50_ff64': {'imagenet': {\n",
    "        'nonrob': '/NS/robustness_2/work/vnanda/invariances_in_reps/deep-learning-base/'\\\n",
    "                  'checkpoints/imagenet1k/r50_mrl0_e0_ff64.pt'}},\n",
    "    'resnet50_ff128': {'imagenet': {\n",
    "        'nonrob': '/NS/robustness_2/work/vnanda/invariances_in_reps/deep-learning-base/'\\\n",
    "                  'checkpoints/imagenet1k/r50_mrl0_e0_ff128.pt'}},\n",
    "    'resnet50_ff256': {'imagenet': {\n",
    "        'nonrob': '/NS/robustness_2/work/vnanda/invariances_in_reps/deep-learning-base/'\\\n",
    "                  'checkpoints/imagenet1k/r50_mrl0_e0_ff256.pt'}},\n",
    "    'resnet50_ff512': {'imagenet': {\n",
    "        'nonrob': '/NS/robustness_2/work/vnanda/invariances_in_reps/deep-learning-base/'\\\n",
    "                  'checkpoints/imagenet1k/r50_mrl0_e0_ff512.pt'}},\n",
    "    'resnet50_ff1024': {'imagenet': {\n",
    "        'nonrob': '/NS/robustness_2/work/vnanda/invariances_in_reps/deep-learning-base/'\\\n",
    "                  'checkpoints/imagenet1k/r50_mrl0_e0_ff1024.pt'}},\n",
    "    'resnet50_ff2048': {'imagenet': {\n",
    "        'mrl0_nonrob': '/NS/robustness_2/work/vnanda/invariances_in_reps/deep-learning-base/'\\\n",
    "                  'checkpoints/imagenet1k/r50_mrl0_e0_ff1024.pt'}},\n",
    "    'wide_resnet50_2': {'imagenet': {\n",
    "        'nonrob': '/NS/robustness_3/work/vnanda/adv-robustness/logs/'\\\n",
    "                  'robust_imagenet/eps0/wideresnet-50-2-nonrob.ckpt',\n",
    "        'robustl2eps3': '/NS/robustness_3/work/vnanda/adv-robustness/logs/'\\\n",
    "                        'robust_imagenet/eps3/wideresnet-50-2-l2-eps3.ckpt'}},\n",
    "    'wide_resnet50_4': {'imagenet': {\n",
    "        'nonrob': '/NS/robustness_3/work/vnanda/adv-robustness/logs/'\\\n",
    "                  'robust_imagenet/eps0/wideresnet-50-4-nonrob.ckpt',\n",
    "        'robustl2eps3': '/NS/robustness_3/work/vnanda/adv-robustness/logs/'\\\n",
    "                        'robust_imagenet/eps3/wideresnet-50-4-l2-eps3.ckpt'}},\n",
    "    'vit_small_patch16_224': {\n",
    "        'imagenet21k': {\n",
    "            'nonrob': \\\n",
    "                '/NS/robustness_2/work/vnanda/invariances_in_reps/deep-learning-base/checkpoints/imagenet21k/'\\\n",
    "                'S_16-i21k-300ep-lr_0.001-aug_light1-wd_0.03-do_0.0-sd_0.0.npz'\n",
    "        },\n",
    "        'imagenet': {\n",
    "            'nonrob': \\\n",
    "                '/NS/robustness_2/work/vnanda/invariances_in_reps/deep-learning-base/checkpoints/imagenet1k/'\\\n",
    "                'S_16-i1k-300ep-lr_0.001-aug_light1-wd_0.03-do_0.0-sd_0.0.npz'\n",
    "        }\n",
    "    },\n",
    "    'vit_small_patch32_224': {\n",
    "        'imagenet21k': {\n",
    "            'nonrob': \\\n",
    "                '/NS/robustness_2/work/vnanda/invariances_in_reps/deep-learning-base/checkpoints/imagenet21k/'\\\n",
    "                'S_32-i21k-300ep-lr_0.001-aug_light1-wd_0.03-do_0.0-sd_0.0.npz'\n",
    "        },\n",
    "        'imagenet': {\n",
    "            'nonrob': \\\n",
    "                '/NS/robustness_2/work/vnanda/invariances_in_reps/deep-learning-base/checkpoints/imagenet1k/'\\\n",
    "                'S_32-i1k-300ep-lr_0.001-aug_light1-wd_0.03-do_0.0-sd_0.0.npz'\n",
    "        }\n",
    "    }\n",
    "}"
   ]
  },
  {
   "cell_type": "code",
   "execution_count": 5,
   "id": "11882de5",
   "metadata": {},
   "outputs": [],
   "source": [
    "SEED = 2\n",
    "NUM_NODES = 1\n",
    "DEVICES = 1\n",
    "BASE_DIR = f\"{pathlib.Path('.').parent.resolve()}/checkpoints\"\n",
    "\n",
    "FINETUNE_BS = 256\n",
    "EVAL_BATCH_SIZE = 100"
   ]
  },
  {
   "cell_type": "code",
   "execution_count": 6,
   "id": "47a7f7a7",
   "metadata": {},
   "outputs": [],
   "source": [
    "def save_predictions(model_path, out):\n",
    "    preds_path = f'{model_path.split(\".ckpt\")[0]}.pred'\n",
    "    torch.save({'pred': out[0].detach().cpu(), 'gt': out[2].detach().cpu()}, preds_path)\n",
    "\n",
    "def load_predictions(model_path):\n",
    "    preds_path = f'{model_path.split(\".ckpt\")[0]}.pred'\n",
    "    if os.path.exists(preds_path):\n",
    "        return torch.load(preds_path)\n",
    "\n",
    "def accuracy(gt, pred):\n",
    "    pred = torch.argmax(pred, 1)\n",
    "    return torch.sum(gt == pred) / len(gt)\n",
    "\n",
    "def get_test_acc(model, source_dataset, finetuning_dataset, checkpoint_path, \n",
    "                 model_path, seed, fraction, finetune_mode):\n",
    "    state_dict = torch.load(model_path)\n",
    "    dm = DATA_MODULES[finetuning_dataset](\n",
    "        data_dir=DATA_PATH_IMAGENET if 'imagenet' in finetuning_dataset else DATA_PATH,\n",
    "        transform_train=dsmd.TRAIN_TRANSFORMS_TRANSFER_DEFAULT(224),\n",
    "        transform_test=dsmd.TEST_TRANSFORMS_DEFAULT(224),\n",
    "        batch_size=EVAL_BATCH_SIZE)\n",
    "    dm.init_remaining_attrs(source_dataset)\n",
    "\n",
    "    ## assign mean and std from source dataset\n",
    "    m1 = arch.create_model(model, source_dataset, pretrained=True,\n",
    "                           checkpoint_path=checkpoint_path, seed=SEED, \n",
    "                           num_classes=dsmd.DATASET_PARAMS[source_dataset]['num_classes'],\n",
    "                           callback=partial(LightningWrapper, \n",
    "                                            dataset_name=source_dataset,\n",
    "                                            inference_kwargs={'with_latent': True}),\n",
    "                           loading_function_kwargs={'strict': False}) # some final layers are strange\n",
    "    new_layer = ft.setup_model_for_finetuning(\n",
    "        m1.model, \n",
    "        dsmd.DATASET_PARAMS[finetuning_dataset]['num_classes'],\n",
    "        finetune_mode, fraction, seed)\n",
    "    new_layer.linear.load_state_dict({k.split('.')[-1]:v \\\n",
    "                                  for k,v in state_dict['state_dict'].items()}, strict=True)\n",
    "    if hasattr(new_layer, 'neuron_indices') and 'neuron_indices' in state_dict:\n",
    "        assert torch.all(new_layer.neuron_indices == state_dict['neuron_indices'])\n",
    "    pl_utils.seed.seed_everything(seed, workers=True)\n",
    "\n",
    "    trainer = Trainer(accelerator='gpu', \n",
    "                      devices=DEVICES,\n",
    "                      num_nodes=NUM_NODES,\n",
    "                      log_every_n_steps=1,\n",
    "                      auto_select_gpus=True, \n",
    "                      deterministic=True,\n",
    "                      check_val_every_n_epoch=1,\n",
    "                      num_sanity_val_steps=0,\n",
    "                      callbacks=[\n",
    "                        LitProgressBar(['loss', \n",
    "                                        'running_test_acc'])])\n",
    "\n",
    "    out = trainer.predict(m1, dataloaders=[dm.test_dataloader()])\n",
    "    save_predictions(model_path, out)\n",
    "    gt, pred = out[2], out[0]\n",
    "    return accuracy(gt, pred)"
   ]
  },
  {
   "cell_type": "code",
   "execution_count": 7,
   "id": "6c14ddd0",
   "metadata": {},
   "outputs": [],
   "source": [
    "def results(models_to_compare, source_datasets, finetune_modes, ft_ds, FRACTIONS_OR_NUMBERS, analysis_type):\n",
    "    plt_str = '== Finetuning results ==\\n\\n'\n",
    "    model_to_fracwise_accs = {}\n",
    "    model_keys = []\n",
    "    for idx, model in enumerate(models_to_compare):\n",
    "        for source_dataset in source_datasets:\n",
    "            for append in CHECKPOINT_PATHS[model][source_dataset].keys():\n",
    "                for finetune_mode in finetune_modes:\n",
    "                    print (f'{model}-{append}-{source_dataset}-{finetune_mode}')\n",
    "                    frac_wise_test_accs = {}\n",
    "                    if FRACTIONS_OR_NUMBERS[idx] is None:\n",
    "                        PARTIAL_FRACTIONS = sorted(\n",
    "                            list(set(\n",
    "                                [float(x.split('/frac-')[1].split('-')[0]) for x in \\\n",
    "                                        glob.glob(f'./checkpoints/{model}-base-'\n",
    "                                                  f'{source_dataset}-ft-{ft_ds}/'\n",
    "                                                  f'*-bs-256-{append}/*-topk=1.ckpt') \\\n",
    "                                 if len(x.split('/frac-')[1].split('-')[0]) == 7 and \\\n",
    "                                    'layer' not in x.split('/')[-1] and \\\n",
    "                                    'pool' not in x.split('/')[-1] and \\\n",
    "                                    'full-feature' not in x.split('/')[-1]]\n",
    "                            )))\n",
    "                        FRACTIONS_OR_NUMBERS[idx] = PARTIAL_FRACTIONS\n",
    "                    else:\n",
    "                        PARTIAL_FRACTIONS = FRACTIONS_OR_NUMBERS[idx]\n",
    "\n",
    "                    for frac in PARTIAL_FRACTIONS:\n",
    "                        if isinstance(frac, int):\n",
    "                            actual_fraction = frac / PARTIAL_FRACTIONS[-1]\n",
    "                        else:\n",
    "                            actual_fraction = frac\n",
    "                        model_paths = [x for x in glob.glob(\n",
    "                            f'{BASE_DIR}/{model}-base-{source_dataset}-ft-{ft_ds}/'\n",
    "                            f'frac-{actual_fraction:.5f}-mode-{finetune_mode}-seed-*-'\n",
    "                            f'ftmode-linear-lr-*-bs*-{append}/*-topk=1.ckpt') \\\n",
    "                                       if 'layer' not in x.split('/')[-1] and \\\n",
    "                                          'pool' not in x.split('/')[-1] and \\\n",
    "                                          'full-feature' not in x.split('/')[-1]]\n",
    "                        print (f'{frac}: {len(model_paths)}')\n",
    "                        for path in model_paths:\n",
    "                            pickled_preds = load_predictions(path)\n",
    "                            if pickled_preds is not None:\n",
    "                                acc = accuracy(pickled_preds['gt'], pickled_preds['pred']).item()\n",
    "                            else:\n",
    "                                acc = get_test_acc(model, source_dataset, ft_ds, \n",
    "                                                   CHECKPOINT_PATHS[model][source_dataset][append], path, \n",
    "                                                   int(path.split('-seed-')[1].split('-')[0]), \n",
    "                                                   actual_fraction, finetune_mode).item()\n",
    "                            if actual_fraction in frac_wise_test_accs:\n",
    "                                frac_wise_test_accs[actual_fraction].append(acc)\n",
    "                            else:\n",
    "                                frac_wise_test_accs[actual_fraction] = [acc]\n",
    "                    if len(frac_wise_test_accs) > 0:\n",
    "                        model_keys.append(f'{model}-{append}-{source_dataset}-{finetune_mode}')\n",
    "                        model_to_fracwise_accs[f'{model}-{append}-{source_dataset}-{finetune_mode}'] = \\\n",
    "                            frac_wise_test_accs\n",
    "\n",
    "    x_vals_fracs = [sorted(list(model_to_fracwise_accs[mkey].keys())) for mkey in model_keys]\n",
    "    plt_str += '{}\\n\\n'.format(\n",
    "        plt_hp.get_wiki_link(plt_hp.line_plot(\n",
    "            [[np.nanmean(model_to_fracwise_accs[mkey][f]) \n",
    "              for f in sorted(model_to_fracwise_accs[mkey].keys())] \\\n",
    "                 for mkey in model_keys], \n",
    "            'Fraction of neurons', 'Transfer Accuracy', ft_ds, \n",
    "            subfolder=analysis_type, \n",
    "            filename=f'{\"-\".join(models_to_compare)}_{ft_ds}_{append}', \n",
    "            extension='png', x_vals=x_vals_fracs, \n",
    "            legend_vals=[f\"{m.split('-')[0]}-{m.split('-')[1]}-{m.split('-')[3]}\" for m in model_keys], \n",
    "            vertical_line=None, colors=plt_hp.COLORS, \n",
    "            linestyles=['-'] * len(model_keys), \n",
    "            y_lims=(0.,1.), root_dir='.', paper_friendly_plots=True, \n",
    "            plot_inside=False, legend_location='best', savefig=True, \n",
    "            figsize=(10,6), marker=[True] * len(model_keys), \n",
    "            results_subfolder_name='archs_loss_datasets', grid_spacing=None, \n",
    "            y_err=[[np.nanstd(model_to_fracwise_accs[mkey][f]) \\\n",
    "                    for f in sorted(model_to_fracwise_accs[mkey].keys())] for mkey in model_keys], \n",
    "            legend_ncol=4), \n",
    "                             SERVER_PROJECT_PATH, size=700)\n",
    "    )\n",
    "\n",
    "    with open(f'./results/archs_loss_datasets/{analysis_type}/'\n",
    "              f'wiki_results-{\"-\".join(source_datasets)}-{ft_ds}.txt', 'w') as fp:\n",
    "        fp.write(plt_str)\n",
    "    out.upload_results(['{}/{}/{}'.format(plt_hp.RESULTS_FOLDER_NAME, 'archs_loss_datasets', analysis_type)], \n",
    "        'results', SERVER_PROJECT_PATH, '.png')\n",
    "    \n",
    "    return model_to_fracwise_accs"
   ]
  },
  {
   "cell_type": "code",
   "execution_count": 9,
   "id": "01168f7b",
   "metadata": {},
   "outputs": [],
   "source": [
    "def estimate_dr(fractions, corresponding_accs, delta):\n",
    "    '''\n",
    "    fractions: a list of fractions (will be sorted)\n",
    "    corresponding_accs: a list of lists where each list contains accuracy along multiple random seeds\n",
    "    delta: what fraction of full layer accuracy do you want from the fraction\n",
    "    '''\n",
    "    fractions, corresponding_accs = list(zip(*sorted(zip(fractions, corresponding_accs), \n",
    "                                                     key=lambda x: x[0])))\n",
    "    full_acc = np.mean(corresponding_accs[-1])\n",
    "    ratios = np.array([])\n",
    "    for fr, accs in zip(fractions, corresponding_accs):\n",
    "        ratios = np.append(ratios, np.mean(accs) / full_acc)\n",
    "    return 1 - fractions[np.argmin(np.abs(ratios - delta))]"
   ]
  },
  {
   "cell_type": "markdown",
   "id": "04f8b0cd",
   "metadata": {},
   "source": [
    "### Compare different architectures with both nonrob and rob losses"
   ]
  },
  {
   "cell_type": "code",
   "execution_count": 10,
   "id": "7dded8bf",
   "metadata": {
    "scrolled": false
   },
   "outputs": [
    {
     "name": "stdout",
     "output_type": "stream",
     "text": [
      "vgg16_bn-nonrob-imagenet-random\n",
      "0.0005: 2\n",
      "0.001: 2\n",
      "0.005: 2\n",
      "0.01: 2\n",
      "0.05: 2\n",
      "0.1: 2\n",
      "0.2: 2\n",
      "0.3: 1\n",
      "0.5: 1\n",
      "0.8: 1\n",
      "0.9: 1\n",
      "1.0: 1\n",
      "vgg16_bn-robustl2eps3-imagenet-random\n",
      "0.0005: 2\n",
      "0.001: 2\n",
      "0.005: 2\n"
     ]
    },
    {
     "name": "stderr",
     "output_type": "stream",
     "text": [
      "Global seed set to 2\n",
      "Global seed set to 2\n",
      "GPU available: True, used: True\n",
      "TPU available: False, using: 0 TPU cores\n",
      "IPU available: False, using: 0 IPUs\n",
      "Global seed set to 0\n",
      "LOCAL_RANK: 0 - CUDA_VISIBLE_DEVICES: [4]\n"
     ]
    },
    {
     "data": {
      "application/vnd.jupyter.widget-view+json": {
       "model_id": "58dd3980538a41729aab11235f7683b4",
       "version_major": 2,
       "version_minor": 0
      },
      "text/plain": [
       "Predicting: 0it [00:00, ?it/s]"
      ]
     },
     "metadata": {},
     "output_type": "display_data"
    },
    {
     "name": "stderr",
     "output_type": "stream",
     "text": [
      "Global seed set to 2\n"
     ]
    },
    {
     "name": "stdout",
     "output_type": "stream",
     "text": [
      "0.01: 2\n"
     ]
    },
    {
     "name": "stderr",
     "output_type": "stream",
     "text": [
      "Global seed set to 2\n",
      "GPU available: True, used: True\n",
      "TPU available: False, using: 0 TPU cores\n",
      "IPU available: False, using: 0 IPUs\n",
      "Global seed set to 0\n",
      "LOCAL_RANK: 0 - CUDA_VISIBLE_DEVICES: [4]\n"
     ]
    },
    {
     "data": {
      "application/vnd.jupyter.widget-view+json": {
       "model_id": "5e124e3cc2df4b6ba0a0b1de105b40c5",
       "version_major": 2,
       "version_minor": 0
      },
      "text/plain": [
       "Predicting: 0it [00:00, ?it/s]"
      ]
     },
     "metadata": {},
     "output_type": "display_data"
    },
    {
     "name": "stderr",
     "output_type": "stream",
     "text": [
      "Global seed set to 2\n"
     ]
    },
    {
     "name": "stdout",
     "output_type": "stream",
     "text": [
      "0.05: 2\n"
     ]
    },
    {
     "name": "stderr",
     "output_type": "stream",
     "text": [
      "Global seed set to 2\n",
      "GPU available: True, used: True\n",
      "TPU available: False, using: 0 TPU cores\n",
      "IPU available: False, using: 0 IPUs\n",
      "Global seed set to 0\n",
      "LOCAL_RANK: 0 - CUDA_VISIBLE_DEVICES: [4]\n"
     ]
    },
    {
     "data": {
      "application/vnd.jupyter.widget-view+json": {
       "model_id": "803a11463d9e4d58aba48248e8d49e29",
       "version_major": 2,
       "version_minor": 0
      },
      "text/plain": [
       "Predicting: 0it [00:00, ?it/s]"
      ]
     },
     "metadata": {},
     "output_type": "display_data"
    },
    {
     "name": "stderr",
     "output_type": "stream",
     "text": [
      "Global seed set to 2\n"
     ]
    },
    {
     "name": "stdout",
     "output_type": "stream",
     "text": [
      "0.1: 2\n"
     ]
    },
    {
     "name": "stderr",
     "output_type": "stream",
     "text": [
      "Global seed set to 2\n",
      "GPU available: True, used: True\n",
      "TPU available: False, using: 0 TPU cores\n",
      "IPU available: False, using: 0 IPUs\n",
      "Global seed set to 0\n",
      "LOCAL_RANK: 0 - CUDA_VISIBLE_DEVICES: [4]\n"
     ]
    },
    {
     "data": {
      "application/vnd.jupyter.widget-view+json": {
       "model_id": "28550a864138403eb0e6642daded5d3d",
       "version_major": 2,
       "version_minor": 0
      },
      "text/plain": [
       "Predicting: 0it [00:00, ?it/s]"
      ]
     },
     "metadata": {},
     "output_type": "display_data"
    },
    {
     "name": "stderr",
     "output_type": "stream",
     "text": [
      "Global seed set to 2\n"
     ]
    },
    {
     "name": "stdout",
     "output_type": "stream",
     "text": [
      "0.2: 2\n"
     ]
    },
    {
     "name": "stderr",
     "output_type": "stream",
     "text": [
      "Global seed set to 2\n",
      "GPU available: True, used: True\n",
      "TPU available: False, using: 0 TPU cores\n",
      "IPU available: False, using: 0 IPUs\n",
      "Global seed set to 0\n",
      "LOCAL_RANK: 0 - CUDA_VISIBLE_DEVICES: [4]\n"
     ]
    },
    {
     "data": {
      "application/vnd.jupyter.widget-view+json": {
       "model_id": "bb7434300b674952bdc014cb09f24de4",
       "version_major": 2,
       "version_minor": 0
      },
      "text/plain": [
       "Predicting: 0it [00:00, ?it/s]"
      ]
     },
     "metadata": {},
     "output_type": "display_data"
    },
    {
     "name": "stderr",
     "output_type": "stream",
     "text": [
      "Global seed set to 2\n"
     ]
    },
    {
     "name": "stdout",
     "output_type": "stream",
     "text": [
      "0.3: 2\n"
     ]
    },
    {
     "name": "stderr",
     "output_type": "stream",
     "text": [
      "Global seed set to 2\n",
      "GPU available: True, used: True\n",
      "TPU available: False, using: 0 TPU cores\n",
      "IPU available: False, using: 0 IPUs\n",
      "Global seed set to 0\n",
      "LOCAL_RANK: 0 - CUDA_VISIBLE_DEVICES: [4]\n"
     ]
    },
    {
     "data": {
      "application/vnd.jupyter.widget-view+json": {
       "model_id": "f6ca1a997cc24cc98d47f3c27f502de8",
       "version_major": 2,
       "version_minor": 0
      },
      "text/plain": [
       "Predicting: 0it [00:00, ?it/s]"
      ]
     },
     "metadata": {},
     "output_type": "display_data"
    },
    {
     "name": "stderr",
     "output_type": "stream",
     "text": [
      "Global seed set to 2\n"
     ]
    },
    {
     "name": "stdout",
     "output_type": "stream",
     "text": [
      "0.5: 2\n"
     ]
    },
    {
     "name": "stderr",
     "output_type": "stream",
     "text": [
      "Global seed set to 2\n",
      "GPU available: True, used: True\n",
      "TPU available: False, using: 0 TPU cores\n",
      "IPU available: False, using: 0 IPUs\n",
      "Global seed set to 0\n",
      "LOCAL_RANK: 0 - CUDA_VISIBLE_DEVICES: [4]\n"
     ]
    },
    {
     "data": {
      "application/vnd.jupyter.widget-view+json": {
       "model_id": "61d54842000048eb8bf07a292ff3fc71",
       "version_major": 2,
       "version_minor": 0
      },
      "text/plain": [
       "Predicting: 0it [00:00, ?it/s]"
      ]
     },
     "metadata": {},
     "output_type": "display_data"
    },
    {
     "name": "stderr",
     "output_type": "stream",
     "text": [
      "Global seed set to 2\n"
     ]
    },
    {
     "name": "stdout",
     "output_type": "stream",
     "text": [
      "0.8: 2\n"
     ]
    },
    {
     "name": "stderr",
     "output_type": "stream",
     "text": [
      "Global seed set to 2\n",
      "GPU available: True, used: True\n",
      "TPU available: False, using: 0 TPU cores\n",
      "IPU available: False, using: 0 IPUs\n",
      "Global seed set to 0\n",
      "LOCAL_RANK: 0 - CUDA_VISIBLE_DEVICES: [4]\n"
     ]
    },
    {
     "data": {
      "application/vnd.jupyter.widget-view+json": {
       "model_id": "42b3d8f4365e4791ae6d0152a87f48e2",
       "version_major": 2,
       "version_minor": 0
      },
      "text/plain": [
       "Predicting: 0it [00:00, ?it/s]"
      ]
     },
     "metadata": {},
     "output_type": "display_data"
    },
    {
     "name": "stderr",
     "output_type": "stream",
     "text": [
      "Global seed set to 2\n"
     ]
    },
    {
     "name": "stdout",
     "output_type": "stream",
     "text": [
      "0.9: 2\n"
     ]
    },
    {
     "name": "stderr",
     "output_type": "stream",
     "text": [
      "Global seed set to 2\n",
      "GPU available: True, used: True\n",
      "TPU available: False, using: 0 TPU cores\n",
      "IPU available: False, using: 0 IPUs\n",
      "Global seed set to 0\n",
      "LOCAL_RANK: 0 - CUDA_VISIBLE_DEVICES: [4]\n"
     ]
    },
    {
     "data": {
      "application/vnd.jupyter.widget-view+json": {
       "model_id": "18db3ac7033c4dc48894da0ff0302793",
       "version_major": 2,
       "version_minor": 0
      },
      "text/plain": [
       "Predicting: 0it [00:00, ?it/s]"
      ]
     },
     "metadata": {},
     "output_type": "display_data"
    },
    {
     "name": "stdout",
     "output_type": "stream",
     "text": [
      "1.0: 1\n",
      "resnet18-nonrob-imagenet-random\n",
      "0.005: 5\n",
      "0.01: 5\n",
      "0.05: 5\n",
      "0.1: 5\n",
      "0.2: 5\n",
      "0.3: 5\n",
      "0.5: 5\n",
      "0.8: 5\n",
      "0.9: 5\n",
      "1.0: 1\n",
      "resnet18-robustl2eps3-imagenet-random\n",
      "0.005: 5\n",
      "0.01: 5\n",
      "0.05: 5\n",
      "0.1: 5\n",
      "0.2: 5\n",
      "0.3: 5\n",
      "0.5: 5\n",
      "0.8: 5\n",
      "0.9: 5\n",
      "1.0: 1\n",
      "resnet50-nonrob-imagenet-random\n",
      "0.0005: 5\n",
      "0.001: 5\n",
      "0.002: 5\n",
      "0.003: 5\n",
      "0.004: 5\n",
      "0.005: 5\n",
      "0.01: 5\n",
      "0.05: 5\n",
      "0.1: 5\n",
      "0.2: 5\n",
      "0.3: 5\n",
      "0.5: 5\n",
      "0.8: 5\n",
      "0.9: 5\n",
      "1.0: 1\n",
      "resnet50-robustl2eps3-imagenet-random\n",
      "0.0005: 5\n",
      "0.001: 5\n",
      "0.002: 5\n",
      "0.003: 5\n",
      "0.004: 5\n",
      "0.005: 5\n",
      "0.01: 5\n",
      "0.05: 5\n",
      "0.1: 30\n",
      "0.2: 30\n",
      "0.3: 30\n",
      "0.5: 5\n",
      "0.8: 5\n",
      "0.9: 5\n",
      "1.0: 1\n",
      "wide_resnet50_2-nonrob-imagenet-random\n"
     ]
    },
    {
     "name": "stderr",
     "output_type": "stream",
     "text": [
      "Global seed set to 2\n"
     ]
    },
    {
     "name": "stdout",
     "output_type": "stream",
     "text": [
      "0.0005: 5\n"
     ]
    },
    {
     "name": "stderr",
     "output_type": "stream",
     "text": [
      "Global seed set to 5\n",
      "GPU available: True, used: True\n",
      "TPU available: False, using: 0 TPU cores\n",
      "IPU available: False, using: 0 IPUs\n",
      "Global seed set to 0\n",
      "LOCAL_RANK: 0 - CUDA_VISIBLE_DEVICES: [4]\n"
     ]
    },
    {
     "data": {
      "application/vnd.jupyter.widget-view+json": {
       "model_id": "709b795dcc2b4719bb973eaed9d61890",
       "version_major": 2,
       "version_minor": 0
      },
      "text/plain": [
       "Predicting: 0it [00:00, ?it/s]"
      ]
     },
     "metadata": {},
     "output_type": "display_data"
    },
    {
     "name": "stderr",
     "output_type": "stream",
     "text": [
      "Global seed set to 2\n"
     ]
    },
    {
     "name": "stdout",
     "output_type": "stream",
     "text": [
      "0.001: 5\n"
     ]
    },
    {
     "name": "stderr",
     "output_type": "stream",
     "text": [
      "Global seed set to 5\n",
      "GPU available: True, used: True\n",
      "TPU available: False, using: 0 TPU cores\n",
      "IPU available: False, using: 0 IPUs\n",
      "Global seed set to 0\n",
      "LOCAL_RANK: 0 - CUDA_VISIBLE_DEVICES: [4]\n"
     ]
    },
    {
     "data": {
      "application/vnd.jupyter.widget-view+json": {
       "model_id": "7f4fd5cea45a470aae3fdfec13145908",
       "version_major": 2,
       "version_minor": 0
      },
      "text/plain": [
       "Predicting: 0it [00:00, ?it/s]"
      ]
     },
     "metadata": {},
     "output_type": "display_data"
    },
    {
     "name": "stderr",
     "output_type": "stream",
     "text": [
      "Global seed set to 2\n"
     ]
    },
    {
     "name": "stdout",
     "output_type": "stream",
     "text": [
      "0.002: 5\n"
     ]
    },
    {
     "name": "stderr",
     "output_type": "stream",
     "text": [
      "Global seed set to 5\n",
      "GPU available: True, used: True\n",
      "TPU available: False, using: 0 TPU cores\n",
      "IPU available: False, using: 0 IPUs\n",
      "Global seed set to 0\n",
      "LOCAL_RANK: 0 - CUDA_VISIBLE_DEVICES: [4]\n"
     ]
    },
    {
     "data": {
      "application/vnd.jupyter.widget-view+json": {
       "model_id": "f91e34ebef8b46569a4a9f10f9dfd9ee",
       "version_major": 2,
       "version_minor": 0
      },
      "text/plain": [
       "Predicting: 0it [00:00, ?it/s]"
      ]
     },
     "metadata": {},
     "output_type": "display_data"
    },
    {
     "name": "stderr",
     "output_type": "stream",
     "text": [
      "Global seed set to 2\n"
     ]
    },
    {
     "name": "stdout",
     "output_type": "stream",
     "text": [
      "0.003: 5\n"
     ]
    },
    {
     "name": "stderr",
     "output_type": "stream",
     "text": [
      "Global seed set to 5\n",
      "GPU available: True, used: True\n",
      "TPU available: False, using: 0 TPU cores\n",
      "IPU available: False, using: 0 IPUs\n",
      "Global seed set to 0\n",
      "LOCAL_RANK: 0 - CUDA_VISIBLE_DEVICES: [4]\n"
     ]
    },
    {
     "data": {
      "application/vnd.jupyter.widget-view+json": {
       "model_id": "1e49100b37a543319657585c1e0632d9",
       "version_major": 2,
       "version_minor": 0
      },
      "text/plain": [
       "Predicting: 0it [00:00, ?it/s]"
      ]
     },
     "metadata": {},
     "output_type": "display_data"
    },
    {
     "name": "stderr",
     "output_type": "stream",
     "text": [
      "Global seed set to 2\n"
     ]
    },
    {
     "name": "stdout",
     "output_type": "stream",
     "text": [
      "0.004: 5\n"
     ]
    },
    {
     "name": "stderr",
     "output_type": "stream",
     "text": [
      "Global seed set to 5\n",
      "GPU available: True, used: True\n",
      "TPU available: False, using: 0 TPU cores\n",
      "IPU available: False, using: 0 IPUs\n",
      "Global seed set to 0\n",
      "LOCAL_RANK: 0 - CUDA_VISIBLE_DEVICES: [4]\n"
     ]
    },
    {
     "data": {
      "application/vnd.jupyter.widget-view+json": {
       "model_id": "3c7e9b81cd894582ad75711e8401153d",
       "version_major": 2,
       "version_minor": 0
      },
      "text/plain": [
       "Predicting: 0it [00:00, ?it/s]"
      ]
     },
     "metadata": {},
     "output_type": "display_data"
    },
    {
     "name": "stderr",
     "output_type": "stream",
     "text": [
      "Global seed set to 2\n"
     ]
    },
    {
     "name": "stdout",
     "output_type": "stream",
     "text": [
      "0.005: 5\n"
     ]
    },
    {
     "name": "stderr",
     "output_type": "stream",
     "text": [
      "Global seed set to 5\n",
      "GPU available: True, used: True\n",
      "TPU available: False, using: 0 TPU cores\n",
      "IPU available: False, using: 0 IPUs\n",
      "Global seed set to 0\n",
      "LOCAL_RANK: 0 - CUDA_VISIBLE_DEVICES: [4]\n"
     ]
    },
    {
     "data": {
      "application/vnd.jupyter.widget-view+json": {
       "model_id": "3d58329a3ba44b03afe3daea454ec30d",
       "version_major": 2,
       "version_minor": 0
      },
      "text/plain": [
       "Predicting: 0it [00:00, ?it/s]"
      ]
     },
     "metadata": {},
     "output_type": "display_data"
    },
    {
     "name": "stderr",
     "output_type": "stream",
     "text": [
      "Global seed set to 2\n"
     ]
    },
    {
     "name": "stdout",
     "output_type": "stream",
     "text": [
      "0.01: 5\n"
     ]
    },
    {
     "name": "stderr",
     "output_type": "stream",
     "text": [
      "Global seed set to 5\n",
      "GPU available: True, used: True\n",
      "TPU available: False, using: 0 TPU cores\n",
      "IPU available: False, using: 0 IPUs\n",
      "Global seed set to 0\n",
      "LOCAL_RANK: 0 - CUDA_VISIBLE_DEVICES: [4]\n"
     ]
    },
    {
     "data": {
      "application/vnd.jupyter.widget-view+json": {
       "model_id": "30198858a2c4415dbfadede1d48dd18a",
       "version_major": 2,
       "version_minor": 0
      },
      "text/plain": [
       "Predicting: 0it [00:00, ?it/s]"
      ]
     },
     "metadata": {},
     "output_type": "display_data"
    },
    {
     "name": "stderr",
     "output_type": "stream",
     "text": [
      "Global seed set to 2\n"
     ]
    },
    {
     "name": "stdout",
     "output_type": "stream",
     "text": [
      "0.05: 5\n"
     ]
    },
    {
     "name": "stderr",
     "output_type": "stream",
     "text": [
      "Global seed set to 5\n",
      "GPU available: True, used: True\n",
      "TPU available: False, using: 0 TPU cores\n",
      "IPU available: False, using: 0 IPUs\n",
      "Global seed set to 0\n",
      "LOCAL_RANK: 0 - CUDA_VISIBLE_DEVICES: [4]\n"
     ]
    },
    {
     "data": {
      "application/vnd.jupyter.widget-view+json": {
       "model_id": "3298b230572d4954924bc6336bb559c6",
       "version_major": 2,
       "version_minor": 0
      },
      "text/plain": [
       "Predicting: 0it [00:00, ?it/s]"
      ]
     },
     "metadata": {},
     "output_type": "display_data"
    },
    {
     "name": "stderr",
     "output_type": "stream",
     "text": [
      "Global seed set to 2\n"
     ]
    },
    {
     "name": "stdout",
     "output_type": "stream",
     "text": [
      "0.1: 5\n"
     ]
    },
    {
     "name": "stderr",
     "output_type": "stream",
     "text": [
      "Global seed set to 5\n",
      "GPU available: True, used: True\n",
      "TPU available: False, using: 0 TPU cores\n",
      "IPU available: False, using: 0 IPUs\n",
      "Global seed set to 0\n",
      "LOCAL_RANK: 0 - CUDA_VISIBLE_DEVICES: [4]\n"
     ]
    },
    {
     "data": {
      "application/vnd.jupyter.widget-view+json": {
       "model_id": "e049460227754656bd22858f823991de",
       "version_major": 2,
       "version_minor": 0
      },
      "text/plain": [
       "Predicting: 0it [00:00, ?it/s]"
      ]
     },
     "metadata": {},
     "output_type": "display_data"
    },
    {
     "name": "stderr",
     "output_type": "stream",
     "text": [
      "Global seed set to 2\n"
     ]
    },
    {
     "name": "stdout",
     "output_type": "stream",
     "text": [
      "0.2: 5\n"
     ]
    },
    {
     "name": "stderr",
     "output_type": "stream",
     "text": [
      "Global seed set to 5\n",
      "GPU available: True, used: True\n",
      "TPU available: False, using: 0 TPU cores\n",
      "IPU available: False, using: 0 IPUs\n",
      "Global seed set to 0\n",
      "LOCAL_RANK: 0 - CUDA_VISIBLE_DEVICES: [4]\n"
     ]
    },
    {
     "data": {
      "application/vnd.jupyter.widget-view+json": {
       "model_id": "e39e4c203c3e404c88d182f405234bee",
       "version_major": 2,
       "version_minor": 0
      },
      "text/plain": [
       "Predicting: 0it [00:00, ?it/s]"
      ]
     },
     "metadata": {},
     "output_type": "display_data"
    },
    {
     "name": "stderr",
     "output_type": "stream",
     "text": [
      "Global seed set to 2\n"
     ]
    },
    {
     "name": "stdout",
     "output_type": "stream",
     "text": [
      "0.3: 5\n"
     ]
    },
    {
     "name": "stderr",
     "output_type": "stream",
     "text": [
      "Global seed set to 5\n",
      "GPU available: True, used: True\n",
      "TPU available: False, using: 0 TPU cores\n",
      "IPU available: False, using: 0 IPUs\n",
      "Global seed set to 0\n",
      "LOCAL_RANK: 0 - CUDA_VISIBLE_DEVICES: [4]\n"
     ]
    },
    {
     "data": {
      "application/vnd.jupyter.widget-view+json": {
       "model_id": "bf1ec988a5c345f9935efe1c54eff737",
       "version_major": 2,
       "version_minor": 0
      },
      "text/plain": [
       "Predicting: 0it [00:00, ?it/s]"
      ]
     },
     "metadata": {},
     "output_type": "display_data"
    },
    {
     "name": "stderr",
     "output_type": "stream",
     "text": [
      "Global seed set to 2\n"
     ]
    },
    {
     "name": "stdout",
     "output_type": "stream",
     "text": [
      "0.5: 5\n"
     ]
    },
    {
     "name": "stderr",
     "output_type": "stream",
     "text": [
      "Global seed set to 5\n",
      "GPU available: True, used: True\n",
      "TPU available: False, using: 0 TPU cores\n",
      "IPU available: False, using: 0 IPUs\n",
      "Global seed set to 0\n",
      "LOCAL_RANK: 0 - CUDA_VISIBLE_DEVICES: [4]\n"
     ]
    },
    {
     "data": {
      "application/vnd.jupyter.widget-view+json": {
       "model_id": "6d283405f682416392f9cc2bd0bdb5bb",
       "version_major": 2,
       "version_minor": 0
      },
      "text/plain": [
       "Predicting: 0it [00:00, ?it/s]"
      ]
     },
     "metadata": {},
     "output_type": "display_data"
    },
    {
     "name": "stderr",
     "output_type": "stream",
     "text": [
      "Global seed set to 2\n"
     ]
    },
    {
     "name": "stdout",
     "output_type": "stream",
     "text": [
      "0.8: 5\n"
     ]
    },
    {
     "name": "stderr",
     "output_type": "stream",
     "text": [
      "Global seed set to 5\n",
      "GPU available: True, used: True\n",
      "TPU available: False, using: 0 TPU cores\n",
      "IPU available: False, using: 0 IPUs\n",
      "Global seed set to 0\n",
      "LOCAL_RANK: 0 - CUDA_VISIBLE_DEVICES: [4]\n"
     ]
    },
    {
     "data": {
      "application/vnd.jupyter.widget-view+json": {
       "model_id": "d6aaf378d8404b1885a4337674ce5580",
       "version_major": 2,
       "version_minor": 0
      },
      "text/plain": [
       "Predicting: 0it [00:00, ?it/s]"
      ]
     },
     "metadata": {},
     "output_type": "display_data"
    },
    {
     "name": "stderr",
     "output_type": "stream",
     "text": [
      "Global seed set to 2\n"
     ]
    },
    {
     "name": "stdout",
     "output_type": "stream",
     "text": [
      "0.9: 5\n"
     ]
    },
    {
     "name": "stderr",
     "output_type": "stream",
     "text": [
      "Global seed set to 5\n",
      "GPU available: True, used: True\n",
      "TPU available: False, using: 0 TPU cores\n",
      "IPU available: False, using: 0 IPUs\n",
      "Global seed set to 0\n",
      "LOCAL_RANK: 0 - CUDA_VISIBLE_DEVICES: [4]\n"
     ]
    },
    {
     "data": {
      "application/vnd.jupyter.widget-view+json": {
       "model_id": "f748d0cbe8624462a6ff7b99fdea8ba5",
       "version_major": 2,
       "version_minor": 0
      },
      "text/plain": [
       "Predicting: 0it [00:00, ?it/s]"
      ]
     },
     "metadata": {},
     "output_type": "display_data"
    },
    {
     "name": "stdout",
     "output_type": "stream",
     "text": [
      "1.0: 1\n",
      "wide_resnet50_2-robustl2eps3-imagenet-random\n",
      "0.0005: 5\n",
      "0.001: 0\n",
      "0.002: 0\n",
      "0.003: 0\n",
      "0.004: 0\n",
      "0.005: 5\n",
      "0.01: 0\n",
      "0.05: 5\n",
      "0.1: 5\n",
      "0.2: 5\n",
      "0.3: 5\n",
      "0.5: 5\n",
      "0.8: 0\n",
      "0.9: 5\n",
      "1.0: 1\n",
      "vit_small_patch16_224-nonrob-imagenet-random\n",
      "0.005: 5\n",
      "0.01: 5\n",
      "0.05: 5\n",
      "0.1: 5\n",
      "0.2: 5\n",
      "0.3: 5\n",
      "0.5: 5\n",
      "0.8: 5\n",
      "0.9: 5\n",
      "1.0: 1\n",
      "vit_small_patch32_224-nonrob-imagenet-random\n",
      "0.005: 5\n",
      "0.01: 5\n",
      "0.05: 5\n",
      "0.1: 5\n",
      "0.2: 5\n",
      "0.3: 5\n",
      "0.5: 5\n",
      "0.8: 5\n",
      "0.9: 5\n",
      "1.0: 1\n",
      "[[0.0005, 0.001, 0.005, 0.01, 0.05, 0.1, 0.2, 0.3, 0.5, 0.8, 0.9, 1.0], [0.0005, 0.001, 0.005, 0.01, 0.05, 0.1, 0.2, 0.3, 0.5, 0.8, 0.9, 1.0], [0.005, 0.01, 0.05, 0.1, 0.2, 0.3, 0.5, 0.8, 0.9, 1.0], [0.005, 0.01, 0.05, 0.1, 0.2, 0.3, 0.5, 0.8, 0.9, 1.0], [0.0005, 0.001, 0.002, 0.003, 0.004, 0.005, 0.01, 0.05, 0.1, 0.2, 0.3, 0.5, 0.8, 0.9, 1.0], [0.0005, 0.001, 0.002, 0.003, 0.004, 0.005, 0.01, 0.05, 0.1, 0.2, 0.3, 0.5, 0.8, 0.9, 1.0], [0.0005, 0.001, 0.002, 0.003, 0.004, 0.005, 0.01, 0.05, 0.1, 0.2, 0.3, 0.5, 0.8, 0.9, 1.0], [0.0005, 0.005, 0.05, 0.1, 0.2, 0.3, 0.5, 0.9, 1.0], [0.005, 0.01, 0.05, 0.1, 0.2, 0.3, 0.5, 0.8, 0.9, 1.0], [0.005, 0.01, 0.05, 0.1, 0.2, 0.3, 0.5, 0.8, 0.9, 1.0]] [[0.17424999922513962, 0.22574999928474426, 0.4669500142335892, 0.5879500210285187, 0.7603999972343445, 0.802949994802475, 0.8232499957084656, 0.8349000215530396, 0.8393999934196472, 0.8503000140190125, 0.8507999777793884, 0.8503000140190125], [0.1417500004172325, 0.20480000227689743, 0.3548000007867813, 0.48969998955726624, 0.7227499783039093, 0.7808499932289124, 0.816100001335144, 0.8277499973773956, 0.8413999974727631, 0.8526999950408936, 0.8537999987602234, 0.8555999994277954], [0.19120000004768373, 0.2621800065040588, 0.5372600018978119, 0.6621399879455566, 0.756220006942749, 0.7922000169754029, 0.8196200013160706, 0.8379400134086609, 0.8421199798583985, 0.8461999893188477], [0.16335999965667725, 0.23649999797344207, 0.5268600046634674, 0.6391599893569946, 0.7233200073242188, 0.7614799857139587, 0.7945000052452087, 0.8193599939346313, 0.823200011253357, 0.8245000243186951], [0.1229200005531311, 0.15139999836683274, 0.18558000028133392, 0.23235999643802643, 0.2521800011396408, 0.2738999992609024, 0.3705000042915344, 0.694760000705719, 0.778879988193512, 0.832260000705719, 0.8519200086593628, 0.8740199923515319, 0.8878000020980835, 0.8911400079727173, 0.8913999795913696], [0.1314400002360344, 0.156980000436306, 0.2222400039434433, 0.25476000308990476, 0.2949400007724762, 0.32829999923706055, 0.4647800028324127, 0.7464800000190734, 0.806580001115799, 0.8412400046984355, 0.8542899986108144, 0.8674600005149842, 0.8755199909210205, 0.8769400119781494, 0.8769999742507935], [0.14868000149726868, 0.17932000160217285, 0.22240000069141388, 0.25183999836444854, 0.29109999537467957, 0.3281800031661987, 0.4967400014400482, 0.7946599960327149, 0.8412199974060058, 0.8652799963951111, 0.8732999920845032, 0.88264000415802, 0.8897200107574463, 0.8914400100708008, 0.8931000232696533], [0.1376799985766411, 0.3245999991893768, 0.7428400039672851, 0.8076599955558776, 0.8417800188064575, 0.8545799970626831, 0.8663799881935119, 0.8767400026321411, 0.8791999816894531], [0.14664000272750854, 0.20238000452518462, 0.43921999335289, 0.5599400043487549, 0.6695399880409241, 0.7231000065803528, 0.7736999988555908, 0.804040002822876, 0.8106000185012817, 0.8141999840736389], [0.14259999692440034, 0.18774000108242034, 0.4220800042152405, 0.5709800124168396, 0.6868200182914734, 0.7333799958229065, 0.7781000018119812, 0.8077799916267395, 0.8146399974822998, 0.8188999891281128]]\n"
     ]
    },
    {
     "data": {
      "image/png": "[encoded data removed]",
      "text/plain": [
       "<Figure size 500x300 with 1 Axes>"
      ]
     },
     "metadata": {
      "needs_background": "light"
     },
     "output_type": "display_data"
    },
    {
     "name": "stdout",
     "output_type": "stream",
     "text": [
      "Uploading results in ['results/archs_loss_datasets/architectures'] to contact.mpi-sws.org...\n",
      "Uploading 5 files to server\n",
      "copying results/archs_loss_datasets/architectures/vgg16_bn-resnet18-resnet50-wide_resnet50_2-vit_small_patch16_224-vit_small_patch32_224_cifar10_nonrob.png to /home/vnanda/public_html/results/partially_inverted_reps/archs_loss_datasets/architectures/vgg16_bn-resnet18-resnet50-wide_resnet50_2-vit_small_patch16_224-vit_small_patch32_224_cifar10_nonrob.png\n",
      "copying results/archs_loss_datasets/architectures/vgg16_bn-resnet18-resnet50-wide_resnet50_2-vit_small_patch16_224-vit_small_patch32_224_cifar100_nonrob.png to /home/vnanda/public_html/results/partially_inverted_reps/archs_loss_datasets/architectures/vgg16_bn-resnet18-resnet50-wide_resnet50_2-vit_small_patch16_224-vit_small_patch32_224_cifar100_nonrob.png\n",
      "copying results/archs_loss_datasets/architectures/vgg16_bn_cifar10_robustl2eps3.png to /home/vnanda/public_html/results/partially_inverted_reps/archs_loss_datasets/architectures/vgg16_bn_cifar10_robustl2eps3.png\n",
      "copying results/archs_loss_datasets/architectures/vgg16_bn-resnet18-resnet50-wide_resnet50_2-vit_small_patch16_224-vit_small_patch32_224_flowers_nonrob.png to /home/vnanda/public_html/results/partially_inverted_reps/archs_loss_datasets/architectures/vgg16_bn-resnet18-resnet50-wide_resnet50_2-vit_small_patch16_224-vit_small_patch32_224_flowers_nonrob.png\n",
      "copying results/archs_loss_datasets/architectures/vgg16_bn-resnet18-resnet50-wide_resnet50_2-vit_small_patch16_224-vit_small_patch32_224_oxford-iiit-pets_nonrob.png to /home/vnanda/public_html/results/partially_inverted_reps/archs_loss_datasets/architectures/vgg16_bn-resnet18-resnet50-wide_resnet50_2-vit_small_patch16_224-vit_small_patch32_224_oxford-iiit-pets_nonrob.png\n",
      "vgg16_bn-nonrob-imagenet-random\n",
      "0.0005: 1\n",
      "0.001: 1\n",
      "0.005: 1\n",
      "0.01: 1\n",
      "0.05: 1\n",
      "0.1: 1\n",
      "0.2: 1\n",
      "0.3: 1\n",
      "0.5: 1\n",
      "0.8: 1\n",
      "0.9: 1\n",
      "1.0: 1\n"
     ]
    },
    {
     "name": "stderr",
     "output_type": "stream",
     "text": [
      "Global seed set to 2\n"
     ]
    },
    {
     "name": "stdout",
     "output_type": "stream",
     "text": [
      "vgg16_bn-robustl2eps3-imagenet-random\n",
      "0.0005: 2\n"
     ]
    },
    {
     "name": "stderr",
     "output_type": "stream",
     "text": [
      "Global seed set to 2\n",
      "GPU available: True, used: True\n",
      "TPU available: False, using: 0 TPU cores\n",
      "IPU available: False, using: 0 IPUs\n",
      "Global seed set to 0\n",
      "LOCAL_RANK: 0 - CUDA_VISIBLE_DEVICES: [4]\n"
     ]
    },
    {
     "data": {
      "application/vnd.jupyter.widget-view+json": {
       "model_id": "2c99af63fe244d32aa5037c3d830ecad",
       "version_major": 2,
       "version_minor": 0
      },
      "text/plain": [
       "Predicting: 0it [00:00, ?it/s]"
      ]
     },
     "metadata": {},
     "output_type": "display_data"
    },
    {
     "name": "stderr",
     "output_type": "stream",
     "text": [
      "Global seed set to 2\n"
     ]
    },
    {
     "name": "stdout",
     "output_type": "stream",
     "text": [
      "0.001: 2\n"
     ]
    },
    {
     "name": "stderr",
     "output_type": "stream",
     "text": [
      "Global seed set to 2\n",
      "GPU available: True, used: True\n",
      "TPU available: False, using: 0 TPU cores\n",
      "IPU available: False, using: 0 IPUs\n",
      "Global seed set to 0\n",
      "LOCAL_RANK: 0 - CUDA_VISIBLE_DEVICES: [4]\n"
     ]
    },
    {
     "data": {
      "application/vnd.jupyter.widget-view+json": {
       "model_id": "f7425d7bb2c04d419a6d0b50885ccfeb",
       "version_major": 2,
       "version_minor": 0
      },
      "text/plain": [
       "Predicting: 0it [00:00, ?it/s]"
      ]
     },
     "metadata": {},
     "output_type": "display_data"
    },
    {
     "name": "stdout",
     "output_type": "stream",
     "text": [
      "0.005: 1\n",
      "0.01: 1\n",
      "0.05: 1\n",
      "0.1: 1\n",
      "0.2: 1\n",
      "0.3: 1\n",
      "0.5: 1\n",
      "0.8: 1\n",
      "0.9: 1\n",
      "1.0: 1\n",
      "resnet18-nonrob-imagenet-random\n",
      "0.005: 5\n",
      "0.01: 5\n",
      "0.05: 5\n",
      "0.1: 5\n",
      "0.2: 5\n",
      "0.3: 5\n",
      "0.5: 5\n",
      "0.8: 5\n",
      "0.9: 5\n",
      "1.0: 1\n",
      "resnet18-robustl2eps3-imagenet-random\n",
      "0.005: 5\n",
      "0.01: 5\n",
      "0.05: 5\n",
      "0.1: 5\n",
      "0.2: 5\n",
      "0.3: 5\n",
      "0.5: 5\n",
      "0.8: 5\n",
      "0.9: 5\n",
      "1.0: 1\n",
      "resnet50-nonrob-imagenet-random\n",
      "0.0005: 5\n",
      "0.001: 5\n",
      "0.002: 5\n",
      "0.003: 5\n",
      "0.004: 5\n",
      "0.005: 5\n",
      "0.01: 5\n",
      "0.05: 5\n",
      "0.1: 5\n",
      "0.2: 5\n",
      "0.3: 5\n",
      "0.5: 5\n",
      "0.8: 5\n",
      "0.9: 5\n",
      "1.0: 1\n",
      "resnet50-robustl2eps3-imagenet-random\n",
      "0.0005: 5\n",
      "0.001: 5\n",
      "0.002: 5\n",
      "0.003: 5\n",
      "0.004: 4\n",
      "0.005: 4\n",
      "0.01: 4\n",
      "0.05: 4\n",
      "0.1: 29\n",
      "0.2: 28\n",
      "0.3: 27\n"
     ]
    },
    {
     "name": "stderr",
     "output_type": "stream",
     "text": [
      "Global seed set to 2\n"
     ]
    },
    {
     "name": "stdout",
     "output_type": "stream",
     "text": [
      "0.5: 4\n",
      "0.8: 4\n",
      "0.9: 4\n",
      "1.0: 1\n",
      "wide_resnet50_2-nonrob-imagenet-random\n",
      "0.0005: 5\n"
     ]
    },
    {
     "name": "stderr",
     "output_type": "stream",
     "text": [
      "Global seed set to 5\n",
      "GPU available: True, used: True\n",
      "TPU available: False, using: 0 TPU cores\n",
      "IPU available: False, using: 0 IPUs\n",
      "Global seed set to 0\n",
      "LOCAL_RANK: 0 - CUDA_VISIBLE_DEVICES: [4]\n"
     ]
    },
    {
     "data": {
      "application/vnd.jupyter.widget-view+json": {
       "model_id": "7f6d3dd973b84d65a045e458b4280194",
       "version_major": 2,
       "version_minor": 0
      },
      "text/plain": [
       "Predicting: 0it [00:00, ?it/s]"
      ]
     },
     "metadata": {},
     "output_type": "display_data"
    },
    {
     "name": "stderr",
     "output_type": "stream",
     "text": [
      "Global seed set to 2\n"
     ]
    },
    {
     "name": "stdout",
     "output_type": "stream",
     "text": [
      "0.001: 5\n"
     ]
    },
    {
     "name": "stderr",
     "output_type": "stream",
     "text": [
      "Global seed set to 5\n",
      "GPU available: True, used: True\n",
      "TPU available: False, using: 0 TPU cores\n",
      "IPU available: False, using: 0 IPUs\n",
      "Global seed set to 0\n",
      "LOCAL_RANK: 0 - CUDA_VISIBLE_DEVICES: [4]\n"
     ]
    },
    {
     "data": {
      "application/vnd.jupyter.widget-view+json": {
       "model_id": "8635c51e115340009a0a1b8aad3a431d",
       "version_major": 2,
       "version_minor": 0
      },
      "text/plain": [
       "Predicting: 0it [00:00, ?it/s]"
      ]
     },
     "metadata": {},
     "output_type": "display_data"
    },
    {
     "name": "stderr",
     "output_type": "stream",
     "text": [
      "Global seed set to 2\n"
     ]
    },
    {
     "name": "stdout",
     "output_type": "stream",
     "text": [
      "0.002: 5\n"
     ]
    },
    {
     "name": "stderr",
     "output_type": "stream",
     "text": [
      "Global seed set to 5\n",
      "GPU available: True, used: True\n",
      "TPU available: False, using: 0 TPU cores\n",
      "IPU available: False, using: 0 IPUs\n",
      "Global seed set to 0\n",
      "LOCAL_RANK: 0 - CUDA_VISIBLE_DEVICES: [4]\n"
     ]
    },
    {
     "data": {
      "application/vnd.jupyter.widget-view+json": {
       "model_id": "b945bf4c6fc9407788d45bd82928fef0",
       "version_major": 2,
       "version_minor": 0
      },
      "text/plain": [
       "Predicting: 0it [00:00, ?it/s]"
      ]
     },
     "metadata": {},
     "output_type": "display_data"
    },
    {
     "name": "stderr",
     "output_type": "stream",
     "text": [
      "Global seed set to 2\n"
     ]
    },
    {
     "name": "stdout",
     "output_type": "stream",
     "text": [
      "0.003: 5\n"
     ]
    },
    {
     "name": "stderr",
     "output_type": "stream",
     "text": [
      "Global seed set to 5\n",
      "GPU available: True, used: True\n",
      "TPU available: False, using: 0 TPU cores\n",
      "IPU available: False, using: 0 IPUs\n",
      "Global seed set to 0\n",
      "LOCAL_RANK: 0 - CUDA_VISIBLE_DEVICES: [4]\n"
     ]
    },
    {
     "data": {
      "application/vnd.jupyter.widget-view+json": {
       "model_id": "cbb1447773e0429189754f5135ff6d20",
       "version_major": 2,
       "version_minor": 0
      },
      "text/plain": [
       "Predicting: 0it [00:00, ?it/s]"
      ]
     },
     "metadata": {},
     "output_type": "display_data"
    },
    {
     "name": "stderr",
     "output_type": "stream",
     "text": [
      "Global seed set to 2\n"
     ]
    },
    {
     "name": "stdout",
     "output_type": "stream",
     "text": [
      "0.004: 5\n"
     ]
    },
    {
     "name": "stderr",
     "output_type": "stream",
     "text": [
      "Global seed set to 5\n",
      "GPU available: True, used: True\n",
      "TPU available: False, using: 0 TPU cores\n",
      "IPU available: False, using: 0 IPUs\n",
      "Global seed set to 0\n",
      "LOCAL_RANK: 0 - CUDA_VISIBLE_DEVICES: [4]\n"
     ]
    },
    {
     "data": {
      "application/vnd.jupyter.widget-view+json": {
       "model_id": "a66f263ed15e4f6fad37019d8f542f15",
       "version_major": 2,
       "version_minor": 0
      },
      "text/plain": [
       "Predicting: 0it [00:00, ?it/s]"
      ]
     },
     "metadata": {},
     "output_type": "display_data"
    },
    {
     "name": "stderr",
     "output_type": "stream",
     "text": [
      "Global seed set to 2\n"
     ]
    },
    {
     "name": "stdout",
     "output_type": "stream",
     "text": [
      "0.005: 5\n"
     ]
    },
    {
     "name": "stderr",
     "output_type": "stream",
     "text": [
      "Global seed set to 5\n",
      "GPU available: True, used: True\n",
      "TPU available: False, using: 0 TPU cores\n",
      "IPU available: False, using: 0 IPUs\n",
      "Global seed set to 0\n",
      "LOCAL_RANK: 0 - CUDA_VISIBLE_DEVICES: [4]\n"
     ]
    },
    {
     "data": {
      "application/vnd.jupyter.widget-view+json": {
       "model_id": "32ea1050fa3644d7a245ba0c6c85b914",
       "version_major": 2,
       "version_minor": 0
      },
      "text/plain": [
       "Predicting: 0it [00:00, ?it/s]"
      ]
     },
     "metadata": {},
     "output_type": "display_data"
    },
    {
     "name": "stderr",
     "output_type": "stream",
     "text": [
      "Global seed set to 2\n"
     ]
    },
    {
     "name": "stdout",
     "output_type": "stream",
     "text": [
      "0.01: 5\n"
     ]
    },
    {
     "name": "stderr",
     "output_type": "stream",
     "text": [
      "Global seed set to 4\n",
      "GPU available: True, used: True\n",
      "TPU available: False, using: 0 TPU cores\n",
      "IPU available: False, using: 0 IPUs\n",
      "Global seed set to 0\n",
      "LOCAL_RANK: 0 - CUDA_VISIBLE_DEVICES: [4]\n"
     ]
    },
    {
     "data": {
      "application/vnd.jupyter.widget-view+json": {
       "model_id": "b004685c24b34f7f80e01fbd29a1f613",
       "version_major": 2,
       "version_minor": 0
      },
      "text/plain": [
       "Predicting: 0it [00:00, ?it/s]"
      ]
     },
     "metadata": {},
     "output_type": "display_data"
    },
    {
     "name": "stderr",
     "output_type": "stream",
     "text": [
      "Global seed set to 2\n",
      "Global seed set to 5\n",
      "GPU available: True, used: True\n",
      "TPU available: False, using: 0 TPU cores\n",
      "IPU available: False, using: 0 IPUs\n",
      "Global seed set to 0\n",
      "LOCAL_RANK: 0 - CUDA_VISIBLE_DEVICES: [4]\n"
     ]
    },
    {
     "data": {
      "application/vnd.jupyter.widget-view+json": {
       "model_id": "9801f242541d478694a854571236e15b",
       "version_major": 2,
       "version_minor": 0
      },
      "text/plain": [
       "Predicting: 0it [00:00, ?it/s]"
      ]
     },
     "metadata": {},
     "output_type": "display_data"
    },
    {
     "name": "stderr",
     "output_type": "stream",
     "text": [
      "Global seed set to 2\n"
     ]
    },
    {
     "name": "stdout",
     "output_type": "stream",
     "text": [
      "0.05: 5\n"
     ]
    },
    {
     "name": "stderr",
     "output_type": "stream",
     "text": [
      "Global seed set to 4\n",
      "GPU available: True, used: True\n",
      "TPU available: False, using: 0 TPU cores\n",
      "IPU available: False, using: 0 IPUs\n",
      "Global seed set to 0\n",
      "LOCAL_RANK: 0 - CUDA_VISIBLE_DEVICES: [4]\n"
     ]
    },
    {
     "data": {
      "application/vnd.jupyter.widget-view+json": {
       "model_id": "6602b10a9c4246cb9ed167135def10f3",
       "version_major": 2,
       "version_minor": 0
      },
      "text/plain": [
       "Predicting: 0it [00:00, ?it/s]"
      ]
     },
     "metadata": {},
     "output_type": "display_data"
    },
    {
     "name": "stderr",
     "output_type": "stream",
     "text": [
      "Global seed set to 2\n",
      "Global seed set to 5\n",
      "GPU available: True, used: True\n",
      "TPU available: False, using: 0 TPU cores\n",
      "IPU available: False, using: 0 IPUs\n",
      "Global seed set to 0\n",
      "LOCAL_RANK: 0 - CUDA_VISIBLE_DEVICES: [4]\n"
     ]
    },
    {
     "data": {
      "application/vnd.jupyter.widget-view+json": {
       "model_id": "89faf8db38a64f18b9d49ece655f14c9",
       "version_major": 2,
       "version_minor": 0
      },
      "text/plain": [
       "Predicting: 0it [00:00, ?it/s]"
      ]
     },
     "metadata": {},
     "output_type": "display_data"
    },
    {
     "name": "stderr",
     "output_type": "stream",
     "text": [
      "Global seed set to 2\n"
     ]
    },
    {
     "name": "stdout",
     "output_type": "stream",
     "text": [
      "0.1: 5\n"
     ]
    },
    {
     "name": "stderr",
     "output_type": "stream",
     "text": [
      "Global seed set to 5\n",
      "GPU available: True, used: True\n",
      "TPU available: False, using: 0 TPU cores\n",
      "IPU available: False, using: 0 IPUs\n",
      "Global seed set to 0\n",
      "LOCAL_RANK: 0 - CUDA_VISIBLE_DEVICES: [4]\n"
     ]
    },
    {
     "data": {
      "application/vnd.jupyter.widget-view+json": {
       "model_id": "d09231ca1b2f4351808033e997e8fc28",
       "version_major": 2,
       "version_minor": 0
      },
      "text/plain": [
       "Predicting: 0it [00:00, ?it/s]"
      ]
     },
     "metadata": {},
     "output_type": "display_data"
    },
    {
     "name": "stderr",
     "output_type": "stream",
     "text": [
      "Global seed set to 2\n",
      "Global seed set to 4\n",
      "GPU available: True, used: True\n",
      "TPU available: False, using: 0 TPU cores\n",
      "IPU available: False, using: 0 IPUs\n",
      "Global seed set to 0\n",
      "LOCAL_RANK: 0 - CUDA_VISIBLE_DEVICES: [4]\n"
     ]
    },
    {
     "data": {
      "application/vnd.jupyter.widget-view+json": {
       "model_id": "3858934c5b6047488d696fefc2db724b",
       "version_major": 2,
       "version_minor": 0
      },
      "text/plain": [
       "Predicting: 0it [00:00, ?it/s]"
      ]
     },
     "metadata": {},
     "output_type": "display_data"
    },
    {
     "name": "stderr",
     "output_type": "stream",
     "text": [
      "Global seed set to 2\n"
     ]
    },
    {
     "name": "stdout",
     "output_type": "stream",
     "text": [
      "0.2: 5\n"
     ]
    },
    {
     "name": "stderr",
     "output_type": "stream",
     "text": [
      "Global seed set to 4\n",
      "GPU available: True, used: True\n",
      "TPU available: False, using: 0 TPU cores\n",
      "IPU available: False, using: 0 IPUs\n",
      "Global seed set to 0\n",
      "LOCAL_RANK: 0 - CUDA_VISIBLE_DEVICES: [4]\n"
     ]
    },
    {
     "data": {
      "application/vnd.jupyter.widget-view+json": {
       "model_id": "5ec2d89a211e4761be1c2fa9e8212dcc",
       "version_major": 2,
       "version_minor": 0
      },
      "text/plain": [
       "Predicting: 0it [00:00, ?it/s]"
      ]
     },
     "metadata": {},
     "output_type": "display_data"
    },
    {
     "name": "stderr",
     "output_type": "stream",
     "text": [
      "Global seed set to 2\n",
      "Global seed set to 5\n",
      "GPU available: True, used: True\n",
      "TPU available: False, using: 0 TPU cores\n",
      "IPU available: False, using: 0 IPUs\n",
      "Global seed set to 0\n",
      "LOCAL_RANK: 0 - CUDA_VISIBLE_DEVICES: [4]\n"
     ]
    },
    {
     "data": {
      "application/vnd.jupyter.widget-view+json": {
       "model_id": "660e7bf44b5c43d38a910f7c4a95d21c",
       "version_major": 2,
       "version_minor": 0
      },
      "text/plain": [
       "Predicting: 0it [00:00, ?it/s]"
      ]
     },
     "metadata": {},
     "output_type": "display_data"
    },
    {
     "name": "stderr",
     "output_type": "stream",
     "text": [
      "Global seed set to 2\n"
     ]
    },
    {
     "name": "stdout",
     "output_type": "stream",
     "text": [
      "0.3: 5\n"
     ]
    },
    {
     "name": "stderr",
     "output_type": "stream",
     "text": [
      "Global seed set to 5\n",
      "GPU available: True, used: True\n",
      "TPU available: False, using: 0 TPU cores\n",
      "IPU available: False, using: 0 IPUs\n",
      "Global seed set to 0\n",
      "LOCAL_RANK: 0 - CUDA_VISIBLE_DEVICES: [4]\n"
     ]
    },
    {
     "data": {
      "application/vnd.jupyter.widget-view+json": {
       "model_id": "34e4e6c66de7439687f7d523ab90152f",
       "version_major": 2,
       "version_minor": 0
      },
      "text/plain": [
       "Predicting: 0it [00:00, ?it/s]"
      ]
     },
     "metadata": {},
     "output_type": "display_data"
    },
    {
     "name": "stderr",
     "output_type": "stream",
     "text": [
      "Global seed set to 2\n",
      "Global seed set to 4\n",
      "GPU available: True, used: True\n",
      "TPU available: False, using: 0 TPU cores\n",
      "IPU available: False, using: 0 IPUs\n",
      "Global seed set to 0\n",
      "LOCAL_RANK: 0 - CUDA_VISIBLE_DEVICES: [4]\n"
     ]
    },
    {
     "data": {
      "application/vnd.jupyter.widget-view+json": {
       "model_id": "42dc61cad628445e830431f93b34345d",
       "version_major": 2,
       "version_minor": 0
      },
      "text/plain": [
       "Predicting: 0it [00:00, ?it/s]"
      ]
     },
     "metadata": {},
     "output_type": "display_data"
    },
    {
     "name": "stderr",
     "output_type": "stream",
     "text": [
      "Global seed set to 2\n"
     ]
    },
    {
     "name": "stdout",
     "output_type": "stream",
     "text": [
      "0.5: 5\n"
     ]
    },
    {
     "name": "stderr",
     "output_type": "stream",
     "text": [
      "Global seed set to 4\n",
      "GPU available: True, used: True\n",
      "TPU available: False, using: 0 TPU cores\n",
      "IPU available: False, using: 0 IPUs\n",
      "Global seed set to 0\n",
      "LOCAL_RANK: 0 - CUDA_VISIBLE_DEVICES: [4]\n"
     ]
    },
    {
     "data": {
      "application/vnd.jupyter.widget-view+json": {
       "model_id": "b27f26fc08fd47e298a6d9569f1a4398",
       "version_major": 2,
       "version_minor": 0
      },
      "text/plain": [
       "Predicting: 0it [00:00, ?it/s]"
      ]
     },
     "metadata": {},
     "output_type": "display_data"
    },
    {
     "name": "stderr",
     "output_type": "stream",
     "text": [
      "Global seed set to 2\n",
      "Global seed set to 5\n",
      "GPU available: True, used: True\n",
      "TPU available: False, using: 0 TPU cores\n",
      "IPU available: False, using: 0 IPUs\n",
      "Global seed set to 0\n",
      "LOCAL_RANK: 0 - CUDA_VISIBLE_DEVICES: [4]\n"
     ]
    },
    {
     "data": {
      "application/vnd.jupyter.widget-view+json": {
       "model_id": "c803b58ff6c04a7a879ea29b9df6392e",
       "version_major": 2,
       "version_minor": 0
      },
      "text/plain": [
       "Predicting: 0it [00:00, ?it/s]"
      ]
     },
     "metadata": {},
     "output_type": "display_data"
    },
    {
     "name": "stderr",
     "output_type": "stream",
     "text": [
      "Global seed set to 2\n"
     ]
    },
    {
     "name": "stdout",
     "output_type": "stream",
     "text": [
      "0.8: 5\n"
     ]
    },
    {
     "name": "stderr",
     "output_type": "stream",
     "text": [
      "Global seed set to 4\n",
      "GPU available: True, used: True\n",
      "TPU available: False, using: 0 TPU cores\n",
      "IPU available: False, using: 0 IPUs\n",
      "Global seed set to 0\n",
      "LOCAL_RANK: 0 - CUDA_VISIBLE_DEVICES: [4]\n"
     ]
    },
    {
     "data": {
      "application/vnd.jupyter.widget-view+json": {
       "model_id": "3f1d9fd141244096a727de0aa1fcabb9",
       "version_major": 2,
       "version_minor": 0
      },
      "text/plain": [
       "Predicting: 0it [00:00, ?it/s]"
      ]
     },
     "metadata": {},
     "output_type": "display_data"
    },
    {
     "name": "stderr",
     "output_type": "stream",
     "text": [
      "Global seed set to 2\n",
      "Global seed set to 5\n",
      "GPU available: True, used: True\n",
      "TPU available: False, using: 0 TPU cores\n",
      "IPU available: False, using: 0 IPUs\n",
      "Global seed set to 0\n",
      "LOCAL_RANK: 0 - CUDA_VISIBLE_DEVICES: [4]\n"
     ]
    },
    {
     "data": {
      "application/vnd.jupyter.widget-view+json": {
       "model_id": "56d680c934c64261aafc8b7cacee8522",
       "version_major": 2,
       "version_minor": 0
      },
      "text/plain": [
       "Predicting: 0it [00:00, ?it/s]"
      ]
     },
     "metadata": {},
     "output_type": "display_data"
    },
    {
     "name": "stderr",
     "output_type": "stream",
     "text": [
      "Global seed set to 2\n"
     ]
    },
    {
     "name": "stdout",
     "output_type": "stream",
     "text": [
      "0.9: 5\n"
     ]
    },
    {
     "name": "stderr",
     "output_type": "stream",
     "text": [
      "Global seed set to 5\n",
      "GPU available: True, used: True\n",
      "TPU available: False, using: 0 TPU cores\n",
      "IPU available: False, using: 0 IPUs\n",
      "Global seed set to 0\n",
      "LOCAL_RANK: 0 - CUDA_VISIBLE_DEVICES: [4]\n"
     ]
    },
    {
     "data": {
      "application/vnd.jupyter.widget-view+json": {
       "model_id": "62cb844e1cf746298d89175422dc7f37",
       "version_major": 2,
       "version_minor": 0
      },
      "text/plain": [
       "Predicting: 0it [00:00, ?it/s]"
      ]
     },
     "metadata": {},
     "output_type": "display_data"
    },
    {
     "name": "stderr",
     "output_type": "stream",
     "text": [
      "Global seed set to 2\n",
      "Global seed set to 4\n",
      "GPU available: True, used: True\n",
      "TPU available: False, using: 0 TPU cores\n",
      "IPU available: False, using: 0 IPUs\n",
      "Global seed set to 0\n",
      "LOCAL_RANK: 0 - CUDA_VISIBLE_DEVICES: [4]\n"
     ]
    },
    {
     "data": {
      "application/vnd.jupyter.widget-view+json": {
       "model_id": "8e0406907c07453aa43c2ba2c5716385",
       "version_major": 2,
       "version_minor": 0
      },
      "text/plain": [
       "Predicting: 0it [00:00, ?it/s]"
      ]
     },
     "metadata": {},
     "output_type": "display_data"
    },
    {
     "name": "stdout",
     "output_type": "stream",
     "text": [
      "1.0: 1\n",
      "wide_resnet50_2-robustl2eps3-imagenet-random\n",
      "0.0005: 5\n",
      "0.001: 5\n",
      "0.002: 5\n",
      "0.003: 5\n",
      "0.004: 5\n",
      "0.005: 5\n",
      "0.01: 5\n",
      "0.05: 5\n",
      "0.1: 5\n",
      "0.2: 5\n",
      "0.3: 5\n"
     ]
    },
    {
     "name": "stderr",
     "output_type": "stream",
     "text": [
      "Global seed set to 2\n",
      "Global seed set to 5\n",
      "GPU available: True, used: True\n",
      "TPU available: False, using: 0 TPU cores\n",
      "IPU available: False, using: 0 IPUs\n",
      "Global seed set to 0\n",
      "LOCAL_RANK: 0 - CUDA_VISIBLE_DEVICES: [4]\n"
     ]
    },
    {
     "data": {
      "application/vnd.jupyter.widget-view+json": {
       "model_id": "0443872ed0fe4e25a46bc89cb010a3cb",
       "version_major": 2,
       "version_minor": 0
      },
      "text/plain": [
       "Predicting: 0it [00:00, ?it/s]"
      ]
     },
     "metadata": {},
     "output_type": "display_data"
    },
    {
     "name": "stderr",
     "output_type": "stream",
     "text": [
      "Global seed set to 2\n"
     ]
    },
    {
     "name": "stdout",
     "output_type": "stream",
     "text": [
      "0.5: 5\n"
     ]
    },
    {
     "name": "stderr",
     "output_type": "stream",
     "text": [
      "Global seed set to 5\n",
      "GPU available: True, used: True\n",
      "TPU available: False, using: 0 TPU cores\n",
      "IPU available: False, using: 0 IPUs\n",
      "Global seed set to 0\n",
      "LOCAL_RANK: 0 - CUDA_VISIBLE_DEVICES: [4]\n"
     ]
    },
    {
     "data": {
      "application/vnd.jupyter.widget-view+json": {
       "model_id": "78f7991a083748cb983d31526f037def",
       "version_major": 2,
       "version_minor": 0
      },
      "text/plain": [
       "Predicting: 0it [00:00, ?it/s]"
      ]
     },
     "metadata": {},
     "output_type": "display_data"
    },
    {
     "name": "stderr",
     "output_type": "stream",
     "text": [
      "Global seed set to 2\n"
     ]
    },
    {
     "name": "stdout",
     "output_type": "stream",
     "text": [
      "0.8: 5\n"
     ]
    },
    {
     "name": "stderr",
     "output_type": "stream",
     "text": [
      "Global seed set to 5\n",
      "GPU available: True, used: True\n",
      "TPU available: False, using: 0 TPU cores\n",
      "IPU available: False, using: 0 IPUs\n",
      "Global seed set to 0\n",
      "LOCAL_RANK: 0 - CUDA_VISIBLE_DEVICES: [4]\n"
     ]
    },
    {
     "data": {
      "application/vnd.jupyter.widget-view+json": {
       "model_id": "0f479aa170024deeb275b8664e0e4f98",
       "version_major": 2,
       "version_minor": 0
      },
      "text/plain": [
       "Predicting: 0it [00:00, ?it/s]"
      ]
     },
     "metadata": {},
     "output_type": "display_data"
    },
    {
     "name": "stdout",
     "output_type": "stream",
     "text": [
      "0.9: 5\n"
     ]
    },
    {
     "name": "stderr",
     "output_type": "stream",
     "text": [
      "Global seed set to 2\n",
      "Global seed set to 5\n",
      "GPU available: True, used: True\n",
      "TPU available: False, using: 0 TPU cores\n",
      "IPU available: False, using: 0 IPUs\n",
      "Global seed set to 0\n",
      "LOCAL_RANK: 0 - CUDA_VISIBLE_DEVICES: [4]\n"
     ]
    },
    {
     "data": {
      "application/vnd.jupyter.widget-view+json": {
       "model_id": "e6740b24cffc4390b8bb32450f1d6e2f",
       "version_major": 2,
       "version_minor": 0
      },
      "text/plain": [
       "Predicting: 0it [00:00, ?it/s]"
      ]
     },
     "metadata": {},
     "output_type": "display_data"
    },
    {
     "name": "stdout",
     "output_type": "stream",
     "text": [
      "1.0: 1\n",
      "vit_small_patch16_224-nonrob-imagenet-random\n",
      "0.005: 5\n",
      "0.01: 5\n",
      "0.05: 5\n",
      "0.1: 5\n",
      "0.2: 5\n",
      "0.3: 5\n",
      "0.5: 5\n",
      "0.8: 5\n",
      "0.9: 5\n",
      "1.0: 1\n",
      "vit_small_patch32_224-nonrob-imagenet-random\n",
      "0.005: 5\n",
      "0.01: 5\n",
      "0.05: 5\n",
      "0.1: 5\n",
      "0.2: 5\n",
      "0.3: 5\n",
      "0.5: 5\n",
      "0.8: 5\n",
      "0.9: 5\n",
      "1.0: 1\n",
      "[[0.0005, 0.001, 0.005, 0.01, 0.05, 0.1, 0.2, 0.3, 0.5, 0.8, 0.9, 1.0], [0.0005, 0.001, 0.005, 0.01, 0.05, 0.1, 0.2, 0.3, 0.5, 0.8, 0.9, 1.0], [0.005, 0.01, 0.05, 0.1, 0.2, 0.3, 0.5, 0.8, 0.9, 1.0], [0.005, 0.01, 0.05, 0.1, 0.2, 0.3, 0.5, 0.8, 0.9, 1.0], [0.0005, 0.001, 0.002, 0.003, 0.004, 0.005, 0.01, 0.05, 0.1, 0.2, 0.3, 0.5, 0.8, 0.9, 1.0], [0.0005, 0.001, 0.002, 0.003, 0.004, 0.005, 0.01, 0.05, 0.1, 0.2, 0.3, 0.5, 0.8, 0.9, 1.0], [0.0005, 0.001, 0.002, 0.003, 0.004, 0.005, 0.01, 0.05, 0.1, 0.2, 0.3, 0.5, 0.8, 0.9, 1.0], [0.0005, 0.001, 0.002, 0.003, 0.004, 0.005, 0.01, 0.05, 0.1, 0.2, 0.3, 0.5, 0.8, 0.9, 1.0], [0.005, 0.01, 0.05, 0.1, 0.2, 0.3, 0.5, 0.8, 0.9, 1.0], [0.005, 0.01, 0.05, 0.1, 0.2, 0.3, 0.5, 0.8, 0.9, 1.0]] [[0.020400000736117363, 0.026900000870227814, 0.1754000037908554, 0.2849000096321106, 0.4975000023841858, 0.5597000122070312, 0.5892999768257141, 0.6079999804496765, 0.6252999901771545, 0.6353999972343445, 0.6377000212669373, 0.6406000256538391], [0.023950000293552876, 0.03665000107139349, 0.10499999672174454, 0.18330000340938568, 0.46230000257492065, 0.5292999744415283, 0.5853000283241272, 0.6049000024795532, 0.625, 0.6416000127792358, 0.6449000239372253, 0.6480000019073486], [0.026339999958872796, 0.05539999976754188, 0.22630000114440918, 0.36898000836372374, 0.49157999753952025, 0.5460200071334839, 0.5956800103187561, 0.6270800113677979, 0.6337200164794922, 0.6395999789237976], [0.026899999752640725, 0.05427999943494797, 0.24221999645233155, 0.36341999769210814, 0.46844000220298765, 0.5177199959754943, 0.5644600033760071, 0.5988199949264527, 0.6060399889945984, 0.6119999885559082], [0.014640000090003014, 0.022420000284910202, 0.03343999981880188, 0.04003999978303909, 0.047860000282526016, 0.053920000046491626, 0.09385999888181687, 0.28966000080108645, 0.4099999964237213, 0.5175599932670594, 0.5675599932670593, 0.6233800053596497, 0.6607599973678588, 0.6676399827003479, 0.6628000140190125], [0.01801999993622303, 0.026900000125169753, 0.0446600005030632, 0.06223999932408333, 0.07782499957829714, 0.09689999930560589, 0.19107500091195107, 0.4841750040650368, 0.5728344876190712, 0.6242428634847913, 0.6456148116676895, 0.660974994301796, 0.6710000038146973, 0.6745000034570694, 0.67330002784729], [0.017199999652802944, 0.0241799995303154, 0.03841999992728233, 0.051759999990463254, 0.07164000123739242, 0.09003999829292297, 0.16387999951839446, 0.48795999884605407, 0.5801999807357788, 0.6377999901771545, 0.6587800025939942, 0.6788600087165833, 0.6929800152778626, 0.695580005645752, 0.6966999769210815], [0.01689999960362911, 0.023100000247359274, 0.04027999937534332, 0.05507999956607819, 0.07120000123977661, 0.08656000047922134, 0.1546600043773651, 0.4567199945449829, 0.5462800025939941, 0.6080599904060364, 0.6320600032806396, 0.6564999938011169, 0.6725000023841858, 0.6756200194358826, 0.6777999997138977], [0.015499999932944774, 0.028119999915361404, 0.163060000538826, 0.2807399988174438, 0.405840003490448, 0.4666200041770935, 0.5256399869918823, 0.5703200101852417, 0.5796200037002563, 0.5889999866485596], [0.014799999818205834, 0.032160000130534175, 0.17195999920368193, 0.2925000011920929, 0.4144400000572205, 0.4782600045204163, 0.5402399897575378, 0.5835400104522706, 0.5919400095939636, 0.599399983882904]]\n"
     ]
    },
    {
     "data": {
      "image/png": "[encoded data removed]",
      "text/plain": [
       "<Figure size 500x300 with 1 Axes>"
      ]
     },
     "metadata": {
      "needs_background": "light"
     },
     "output_type": "display_data"
    },
    {
     "name": "stdout",
     "output_type": "stream",
     "text": [
      "Uploading results in ['results/archs_loss_datasets/architectures'] to contact.mpi-sws.org...\n",
      "Uploading 5 files to server\n",
      "copying results/archs_loss_datasets/architectures/vgg16_bn-resnet18-resnet50-wide_resnet50_2-vit_small_patch16_224-vit_small_patch32_224_cifar10_nonrob.png to /home/vnanda/public_html/results/partially_inverted_reps/archs_loss_datasets/architectures/vgg16_bn-resnet18-resnet50-wide_resnet50_2-vit_small_patch16_224-vit_small_patch32_224_cifar10_nonrob.png\n",
      "copying results/archs_loss_datasets/architectures/vgg16_bn-resnet18-resnet50-wide_resnet50_2-vit_small_patch16_224-vit_small_patch32_224_cifar100_nonrob.png to /home/vnanda/public_html/results/partially_inverted_reps/archs_loss_datasets/architectures/vgg16_bn-resnet18-resnet50-wide_resnet50_2-vit_small_patch16_224-vit_small_patch32_224_cifar100_nonrob.png\n",
      "copying results/archs_loss_datasets/architectures/vgg16_bn_cifar10_robustl2eps3.png to /home/vnanda/public_html/results/partially_inverted_reps/archs_loss_datasets/architectures/vgg16_bn_cifar10_robustl2eps3.png\n",
      "copying results/archs_loss_datasets/architectures/vgg16_bn-resnet18-resnet50-wide_resnet50_2-vit_small_patch16_224-vit_small_patch32_224_flowers_nonrob.png to /home/vnanda/public_html/results/partially_inverted_reps/archs_loss_datasets/architectures/vgg16_bn-resnet18-resnet50-wide_resnet50_2-vit_small_patch16_224-vit_small_patch32_224_flowers_nonrob.png\n",
      "copying results/archs_loss_datasets/architectures/vgg16_bn-resnet18-resnet50-wide_resnet50_2-vit_small_patch16_224-vit_small_patch32_224_oxford-iiit-pets_nonrob.png to /home/vnanda/public_html/results/partially_inverted_reps/archs_loss_datasets/architectures/vgg16_bn-resnet18-resnet50-wide_resnet50_2-vit_small_patch16_224-vit_small_patch32_224_oxford-iiit-pets_nonrob.png\n",
      "vgg16_bn-nonrob-imagenet-random\n",
      "0.0005: 1\n",
      "0.001: 1\n",
      "0.005: 1\n",
      "0.01: 1\n",
      "0.05: 1\n",
      "0.1: 1\n",
      "0.2: 1\n",
      "0.3: 1\n",
      "0.5: 1\n",
      "0.8: 1\n",
      "0.9: 1\n",
      "1.0: 1\n",
      "vgg16_bn-robustl2eps3-imagenet-random\n",
      "0.0005: 1\n",
      "0.001: 1\n",
      "0.005: 1\n",
      "0.01: 1\n",
      "0.05: 1\n",
      "0.1: 1\n",
      "0.2: 1\n",
      "0.3: 1\n",
      "0.5: 1\n",
      "0.8: 1\n",
      "0.9: 1\n",
      "1.0: 1\n",
      "resnet18-nonrob-imagenet-random\n",
      "0.005: 5\n",
      "0.01: 5\n",
      "0.05: 5\n",
      "0.1: 5\n",
      "0.2: 5\n",
      "0.3: 5\n",
      "0.5: 5\n",
      "0.8: 5\n",
      "0.9: 5\n",
      "1.0: 1\n",
      "resnet18-robustl2eps3-imagenet-random\n",
      "0.005: 5\n",
      "0.01: 5\n",
      "0.05: 5\n",
      "0.1: 5\n",
      "0.2: 5\n",
      "0.3: 5\n",
      "0.5: 5\n",
      "0.8: 5\n",
      "0.9: 5\n",
      "1.0: 1\n",
      "resnet50-nonrob-imagenet-random\n",
      "0.0005: 5\n",
      "0.001: 5\n",
      "0.002: 5\n",
      "0.003: 5\n",
      "0.004: 5\n",
      "0.005: 5\n",
      "0.01: 5\n",
      "0.05: 5\n",
      "0.1: 5\n",
      "0.2: 5\n",
      "0.3: 5\n",
      "0.5: 5\n",
      "0.8: 5\n",
      "0.9: 5\n",
      "1.0: 1\n",
      "resnet50-robustl2eps3-imagenet-random\n",
      "0.0005: 5\n",
      "0.001: 5\n",
      "0.002: 5\n",
      "0.003: 5\n",
      "0.004: 5\n",
      "0.005: 5\n",
      "0.01: 5\n",
      "0.05: 5\n",
      "0.1: 5\n",
      "0.2: 5\n",
      "0.3: 5\n",
      "0.5: 5\n",
      "0.8: 5\n",
      "0.9: 5\n"
     ]
    },
    {
     "name": "stderr",
     "output_type": "stream",
     "text": [
      "Global seed set to 2\n"
     ]
    },
    {
     "name": "stdout",
     "output_type": "stream",
     "text": [
      "1.0: 1\n",
      "wide_resnet50_2-nonrob-imagenet-random\n",
      "0.0005: 5\n"
     ]
    },
    {
     "name": "stderr",
     "output_type": "stream",
     "text": [
      "Global seed set to 5\n",
      "GPU available: True, used: True\n",
      "TPU available: False, using: 0 TPU cores\n",
      "IPU available: False, using: 0 IPUs\n",
      "Global seed set to 0\n",
      "LOCAL_RANK: 0 - CUDA_VISIBLE_DEVICES: [4]\n"
     ]
    },
    {
     "data": {
      "application/vnd.jupyter.widget-view+json": {
       "model_id": "58eb5a13f2314af1abfba282e6059e52",
       "version_major": 2,
       "version_minor": 0
      },
      "text/plain": [
       "Predicting: 0it [00:00, ?it/s]"
      ]
     },
     "metadata": {},
     "output_type": "display_data"
    },
    {
     "name": "stderr",
     "output_type": "stream",
     "text": [
      "Global seed set to 2\n",
      "Global seed set to 4\n",
      "GPU available: True, used: True\n",
      "TPU available: False, using: 0 TPU cores\n",
      "IPU available: False, using: 0 IPUs\n",
      "Global seed set to 0\n",
      "LOCAL_RANK: 0 - CUDA_VISIBLE_DEVICES: [4]\n"
     ]
    },
    {
     "data": {
      "application/vnd.jupyter.widget-view+json": {
       "model_id": "9f671f5d31d741f2b83969a5fdcaf39c",
       "version_major": 2,
       "version_minor": 0
      },
      "text/plain": [
       "Predicting: 0it [00:00, ?it/s]"
      ]
     },
     "metadata": {},
     "output_type": "display_data"
    },
    {
     "name": "stderr",
     "output_type": "stream",
     "text": [
      "Global seed set to 2\n"
     ]
    },
    {
     "name": "stdout",
     "output_type": "stream",
     "text": [
      "0.001: 5\n"
     ]
    },
    {
     "name": "stderr",
     "output_type": "stream",
     "text": [
      "Global seed set to 5\n",
      "GPU available: True, used: True\n",
      "TPU available: False, using: 0 TPU cores\n",
      "IPU available: False, using: 0 IPUs\n",
      "Global seed set to 0\n",
      "LOCAL_RANK: 0 - CUDA_VISIBLE_DEVICES: [4]\n"
     ]
    },
    {
     "data": {
      "application/vnd.jupyter.widget-view+json": {
       "model_id": "d5a5248aac11407e9a8f68ae201bf86b",
       "version_major": 2,
       "version_minor": 0
      },
      "text/plain": [
       "Predicting: 0it [00:00, ?it/s]"
      ]
     },
     "metadata": {},
     "output_type": "display_data"
    },
    {
     "name": "stderr",
     "output_type": "stream",
     "text": [
      "Global seed set to 2\n",
      "Global seed set to 4\n",
      "GPU available: True, used: True\n",
      "TPU available: False, using: 0 TPU cores\n",
      "IPU available: False, using: 0 IPUs\n",
      "Global seed set to 0\n",
      "LOCAL_RANK: 0 - CUDA_VISIBLE_DEVICES: [4]\n"
     ]
    },
    {
     "data": {
      "application/vnd.jupyter.widget-view+json": {
       "model_id": "1179481bd8fa4189a71b571b83e1671c",
       "version_major": 2,
       "version_minor": 0
      },
      "text/plain": [
       "Predicting: 0it [00:00, ?it/s]"
      ]
     },
     "metadata": {},
     "output_type": "display_data"
    },
    {
     "name": "stderr",
     "output_type": "stream",
     "text": [
      "Global seed set to 2\n"
     ]
    },
    {
     "name": "stdout",
     "output_type": "stream",
     "text": [
      "0.002: 5\n"
     ]
    },
    {
     "name": "stderr",
     "output_type": "stream",
     "text": [
      "Global seed set to 4\n",
      "GPU available: True, used: True\n",
      "TPU available: False, using: 0 TPU cores\n",
      "IPU available: False, using: 0 IPUs\n",
      "Global seed set to 0\n",
      "LOCAL_RANK: 0 - CUDA_VISIBLE_DEVICES: [4]\n"
     ]
    },
    {
     "data": {
      "application/vnd.jupyter.widget-view+json": {
       "model_id": "0bd81e40d7514455ac487459dc6783b1",
       "version_major": 2,
       "version_minor": 0
      },
      "text/plain": [
       "Predicting: 0it [00:00, ?it/s]"
      ]
     },
     "metadata": {},
     "output_type": "display_data"
    },
    {
     "name": "stderr",
     "output_type": "stream",
     "text": [
      "Global seed set to 2\n",
      "Global seed set to 5\n",
      "GPU available: True, used: True\n",
      "TPU available: False, using: 0 TPU cores\n",
      "IPU available: False, using: 0 IPUs\n",
      "Global seed set to 0\n",
      "LOCAL_RANK: 0 - CUDA_VISIBLE_DEVICES: [4]\n"
     ]
    },
    {
     "data": {
      "application/vnd.jupyter.widget-view+json": {
       "model_id": "c4b4c64804494eff8e0f2085d47695a7",
       "version_major": 2,
       "version_minor": 0
      },
      "text/plain": [
       "Predicting: 0it [00:00, ?it/s]"
      ]
     },
     "metadata": {},
     "output_type": "display_data"
    },
    {
     "name": "stderr",
     "output_type": "stream",
     "text": [
      "Global seed set to 2\n"
     ]
    },
    {
     "name": "stdout",
     "output_type": "stream",
     "text": [
      "0.003: 5\n"
     ]
    },
    {
     "name": "stderr",
     "output_type": "stream",
     "text": [
      "Global seed set to 4\n",
      "GPU available: True, used: True\n",
      "TPU available: False, using: 0 TPU cores\n",
      "IPU available: False, using: 0 IPUs\n",
      "Global seed set to 0\n",
      "LOCAL_RANK: 0 - CUDA_VISIBLE_DEVICES: [4]\n"
     ]
    },
    {
     "data": {
      "application/vnd.jupyter.widget-view+json": {
       "model_id": "c6ba3ce0ae8a4f8aa4a7f8b8a66009f3",
       "version_major": 2,
       "version_minor": 0
      },
      "text/plain": [
       "Predicting: 0it [00:00, ?it/s]"
      ]
     },
     "metadata": {},
     "output_type": "display_data"
    },
    {
     "name": "stderr",
     "output_type": "stream",
     "text": [
      "Global seed set to 2\n",
      "Global seed set to 5\n",
      "GPU available: True, used: True\n",
      "TPU available: False, using: 0 TPU cores\n",
      "IPU available: False, using: 0 IPUs\n",
      "Global seed set to 0\n",
      "LOCAL_RANK: 0 - CUDA_VISIBLE_DEVICES: [4]\n"
     ]
    },
    {
     "data": {
      "application/vnd.jupyter.widget-view+json": {
       "model_id": "88fcb0d348474469b9e64352ebfdd8bc",
       "version_major": 2,
       "version_minor": 0
      },
      "text/plain": [
       "Predicting: 0it [00:00, ?it/s]"
      ]
     },
     "metadata": {},
     "output_type": "display_data"
    },
    {
     "name": "stderr",
     "output_type": "stream",
     "text": [
      "Global seed set to 2\n"
     ]
    },
    {
     "name": "stdout",
     "output_type": "stream",
     "text": [
      "0.004: 5\n"
     ]
    },
    {
     "name": "stderr",
     "output_type": "stream",
     "text": [
      "Global seed set to 4\n",
      "GPU available: True, used: True\n",
      "TPU available: False, using: 0 TPU cores\n",
      "IPU available: False, using: 0 IPUs\n",
      "Global seed set to 0\n",
      "LOCAL_RANK: 0 - CUDA_VISIBLE_DEVICES: [4]\n"
     ]
    },
    {
     "data": {
      "application/vnd.jupyter.widget-view+json": {
       "model_id": "8c704f60ca23441899d98df5f47b5c8e",
       "version_major": 2,
       "version_minor": 0
      },
      "text/plain": [
       "Predicting: 0it [00:00, ?it/s]"
      ]
     },
     "metadata": {},
     "output_type": "display_data"
    },
    {
     "name": "stderr",
     "output_type": "stream",
     "text": [
      "Global seed set to 2\n",
      "Global seed set to 5\n",
      "GPU available: True, used: True\n",
      "TPU available: False, using: 0 TPU cores\n",
      "IPU available: False, using: 0 IPUs\n",
      "Global seed set to 0\n",
      "LOCAL_RANK: 0 - CUDA_VISIBLE_DEVICES: [4]\n"
     ]
    },
    {
     "data": {
      "application/vnd.jupyter.widget-view+json": {
       "model_id": "b40f0faaa0db4af3aac6f657c86dd597",
       "version_major": 2,
       "version_minor": 0
      },
      "text/plain": [
       "Predicting: 0it [00:00, ?it/s]"
      ]
     },
     "metadata": {},
     "output_type": "display_data"
    },
    {
     "name": "stderr",
     "output_type": "stream",
     "text": [
      "Global seed set to 2\n"
     ]
    },
    {
     "name": "stdout",
     "output_type": "stream",
     "text": [
      "0.005: 5\n"
     ]
    },
    {
     "name": "stderr",
     "output_type": "stream",
     "text": [
      "Global seed set to 4\n",
      "GPU available: True, used: True\n",
      "TPU available: False, using: 0 TPU cores\n",
      "IPU available: False, using: 0 IPUs\n",
      "Global seed set to 0\n",
      "LOCAL_RANK: 0 - CUDA_VISIBLE_DEVICES: [4]\n"
     ]
    },
    {
     "data": {
      "application/vnd.jupyter.widget-view+json": {
       "model_id": "d766e662456341d9b74b47b2587844e0",
       "version_major": 2,
       "version_minor": 0
      },
      "text/plain": [
       "Predicting: 0it [00:00, ?it/s]"
      ]
     },
     "metadata": {},
     "output_type": "display_data"
    },
    {
     "name": "stderr",
     "output_type": "stream",
     "text": [
      "Global seed set to 2\n",
      "Global seed set to 5\n",
      "GPU available: True, used: True\n",
      "TPU available: False, using: 0 TPU cores\n",
      "IPU available: False, using: 0 IPUs\n",
      "Global seed set to 0\n",
      "LOCAL_RANK: 0 - CUDA_VISIBLE_DEVICES: [4]\n"
     ]
    },
    {
     "data": {
      "application/vnd.jupyter.widget-view+json": {
       "model_id": "44dcfd54c98847b6b83ee71a6a885cb4",
       "version_major": 2,
       "version_minor": 0
      },
      "text/plain": [
       "Predicting: 0it [00:00, ?it/s]"
      ]
     },
     "metadata": {},
     "output_type": "display_data"
    },
    {
     "name": "stderr",
     "output_type": "stream",
     "text": [
      "Global seed set to 2\n"
     ]
    },
    {
     "name": "stdout",
     "output_type": "stream",
     "text": [
      "0.01: 5\n"
     ]
    },
    {
     "name": "stderr",
     "output_type": "stream",
     "text": [
      "Global seed set to 5\n",
      "GPU available: True, used: True\n",
      "TPU available: False, using: 0 TPU cores\n",
      "IPU available: False, using: 0 IPUs\n",
      "Global seed set to 0\n",
      "LOCAL_RANK: 0 - CUDA_VISIBLE_DEVICES: [4]\n"
     ]
    },
    {
     "data": {
      "application/vnd.jupyter.widget-view+json": {
       "model_id": "76123c7e8e3648d8b3ab0dabda370b9c",
       "version_major": 2,
       "version_minor": 0
      },
      "text/plain": [
       "Predicting: 0it [00:00, ?it/s]"
      ]
     },
     "metadata": {},
     "output_type": "display_data"
    },
    {
     "name": "stderr",
     "output_type": "stream",
     "text": [
      "Global seed set to 2\n",
      "Global seed set to 4\n",
      "GPU available: True, used: True\n",
      "TPU available: False, using: 0 TPU cores\n",
      "IPU available: False, using: 0 IPUs\n",
      "Global seed set to 0\n",
      "LOCAL_RANK: 0 - CUDA_VISIBLE_DEVICES: [4]\n"
     ]
    },
    {
     "data": {
      "application/vnd.jupyter.widget-view+json": {
       "model_id": "d4a1457dff28437bac6d3c37f4fb88af",
       "version_major": 2,
       "version_minor": 0
      },
      "text/plain": [
       "Predicting: 0it [00:00, ?it/s]"
      ]
     },
     "metadata": {},
     "output_type": "display_data"
    },
    {
     "name": "stderr",
     "output_type": "stream",
     "text": [
      "Global seed set to 2\n"
     ]
    },
    {
     "name": "stdout",
     "output_type": "stream",
     "text": [
      "0.05: 5\n"
     ]
    },
    {
     "name": "stderr",
     "output_type": "stream",
     "text": [
      "Global seed set to 5\n",
      "GPU available: True, used: True\n",
      "TPU available: False, using: 0 TPU cores\n",
      "IPU available: False, using: 0 IPUs\n",
      "Global seed set to 0\n",
      "LOCAL_RANK: 0 - CUDA_VISIBLE_DEVICES: [4]\n"
     ]
    },
    {
     "data": {
      "application/vnd.jupyter.widget-view+json": {
       "model_id": "17544d490e9b4ef38cf824c67c3c89eb",
       "version_major": 2,
       "version_minor": 0
      },
      "text/plain": [
       "Predicting: 0it [00:00, ?it/s]"
      ]
     },
     "metadata": {},
     "output_type": "display_data"
    },
    {
     "name": "stderr",
     "output_type": "stream",
     "text": [
      "Global seed set to 2\n",
      "Global seed set to 4\n",
      "GPU available: True, used: True\n",
      "TPU available: False, using: 0 TPU cores\n",
      "IPU available: False, using: 0 IPUs\n",
      "Global seed set to 0\n",
      "LOCAL_RANK: 0 - CUDA_VISIBLE_DEVICES: [4]\n"
     ]
    },
    {
     "data": {
      "application/vnd.jupyter.widget-view+json": {
       "model_id": "5bfa9dda66e8414a809699a883f24131",
       "version_major": 2,
       "version_minor": 0
      },
      "text/plain": [
       "Predicting: 0it [00:00, ?it/s]"
      ]
     },
     "metadata": {},
     "output_type": "display_data"
    },
    {
     "name": "stderr",
     "output_type": "stream",
     "text": [
      "Global seed set to 2\n"
     ]
    },
    {
     "name": "stdout",
     "output_type": "stream",
     "text": [
      "0.1: 5\n"
     ]
    },
    {
     "name": "stderr",
     "output_type": "stream",
     "text": [
      "Global seed set to 4\n",
      "GPU available: True, used: True\n",
      "TPU available: False, using: 0 TPU cores\n",
      "IPU available: False, using: 0 IPUs\n",
      "Global seed set to 0\n",
      "LOCAL_RANK: 0 - CUDA_VISIBLE_DEVICES: [4]\n"
     ]
    },
    {
     "data": {
      "application/vnd.jupyter.widget-view+json": {
       "model_id": "1d9d879e02b44495ab2ec42b7768d0ff",
       "version_major": 2,
       "version_minor": 0
      },
      "text/plain": [
       "Predicting: 0it [00:00, ?it/s]"
      ]
     },
     "metadata": {},
     "output_type": "display_data"
    },
    {
     "name": "stderr",
     "output_type": "stream",
     "text": [
      "Global seed set to 2\n",
      "Global seed set to 5\n",
      "GPU available: True, used: True\n",
      "TPU available: False, using: 0 TPU cores\n",
      "IPU available: False, using: 0 IPUs\n",
      "Global seed set to 0\n",
      "LOCAL_RANK: 0 - CUDA_VISIBLE_DEVICES: [4]\n"
     ]
    },
    {
     "data": {
      "application/vnd.jupyter.widget-view+json": {
       "model_id": "0917c2f9768b49bb8423951c82559fee",
       "version_major": 2,
       "version_minor": 0
      },
      "text/plain": [
       "Predicting: 0it [00:00, ?it/s]"
      ]
     },
     "metadata": {},
     "output_type": "display_data"
    },
    {
     "name": "stderr",
     "output_type": "stream",
     "text": [
      "Global seed set to 2\n"
     ]
    },
    {
     "name": "stdout",
     "output_type": "stream",
     "text": [
      "0.2: 5\n"
     ]
    },
    {
     "name": "stderr",
     "output_type": "stream",
     "text": [
      "Global seed set to 5\n",
      "GPU available: True, used: True\n",
      "TPU available: False, using: 0 TPU cores\n",
      "IPU available: False, using: 0 IPUs\n",
      "Global seed set to 0\n",
      "LOCAL_RANK: 0 - CUDA_VISIBLE_DEVICES: [4]\n"
     ]
    },
    {
     "data": {
      "application/vnd.jupyter.widget-view+json": {
       "model_id": "6d65f6c4bab6481aa28cb9ab162eabf9",
       "version_major": 2,
       "version_minor": 0
      },
      "text/plain": [
       "Predicting: 0it [00:00, ?it/s]"
      ]
     },
     "metadata": {},
     "output_type": "display_data"
    },
    {
     "name": "stderr",
     "output_type": "stream",
     "text": [
      "Global seed set to 2\n",
      "Global seed set to 4\n",
      "GPU available: True, used: True\n",
      "TPU available: False, using: 0 TPU cores\n",
      "IPU available: False, using: 0 IPUs\n",
      "Global seed set to 0\n",
      "LOCAL_RANK: 0 - CUDA_VISIBLE_DEVICES: [4]\n"
     ]
    },
    {
     "data": {
      "application/vnd.jupyter.widget-view+json": {
       "model_id": "68fa57db42b74604bc9ff3b3fff7e22b",
       "version_major": 2,
       "version_minor": 0
      },
      "text/plain": [
       "Predicting: 0it [00:00, ?it/s]"
      ]
     },
     "metadata": {},
     "output_type": "display_data"
    },
    {
     "name": "stderr",
     "output_type": "stream",
     "text": [
      "Global seed set to 2\n"
     ]
    },
    {
     "name": "stdout",
     "output_type": "stream",
     "text": [
      "0.3: 5\n"
     ]
    },
    {
     "name": "stderr",
     "output_type": "stream",
     "text": [
      "Global seed set to 4\n",
      "GPU available: True, used: True\n",
      "TPU available: False, using: 0 TPU cores\n",
      "IPU available: False, using: 0 IPUs\n",
      "Global seed set to 0\n",
      "LOCAL_RANK: 0 - CUDA_VISIBLE_DEVICES: [4]\n"
     ]
    },
    {
     "data": {
      "application/vnd.jupyter.widget-view+json": {
       "model_id": "0833e725b8a1463a857128b2d3d11bf6",
       "version_major": 2,
       "version_minor": 0
      },
      "text/plain": [
       "Predicting: 0it [00:00, ?it/s]"
      ]
     },
     "metadata": {},
     "output_type": "display_data"
    },
    {
     "name": "stderr",
     "output_type": "stream",
     "text": [
      "Global seed set to 2\n",
      "Global seed set to 5\n",
      "GPU available: True, used: True\n",
      "TPU available: False, using: 0 TPU cores\n",
      "IPU available: False, using: 0 IPUs\n",
      "Global seed set to 0\n",
      "LOCAL_RANK: 0 - CUDA_VISIBLE_DEVICES: [4]\n"
     ]
    },
    {
     "data": {
      "application/vnd.jupyter.widget-view+json": {
       "model_id": "91035c3dfe174b15979a4dbffb364c57",
       "version_major": 2,
       "version_minor": 0
      },
      "text/plain": [
       "Predicting: 0it [00:00, ?it/s]"
      ]
     },
     "metadata": {},
     "output_type": "display_data"
    },
    {
     "name": "stderr",
     "output_type": "stream",
     "text": [
      "Global seed set to 2\n"
     ]
    },
    {
     "name": "stdout",
     "output_type": "stream",
     "text": [
      "0.5: 5\n"
     ]
    },
    {
     "name": "stderr",
     "output_type": "stream",
     "text": [
      "Global seed set to 5\n",
      "GPU available: True, used: True\n",
      "TPU available: False, using: 0 TPU cores\n",
      "IPU available: False, using: 0 IPUs\n",
      "Global seed set to 0\n",
      "LOCAL_RANK: 0 - CUDA_VISIBLE_DEVICES: [4]\n"
     ]
    },
    {
     "data": {
      "application/vnd.jupyter.widget-view+json": {
       "model_id": "267ce05a379142b4b84b816a7231458e",
       "version_major": 2,
       "version_minor": 0
      },
      "text/plain": [
       "Predicting: 0it [00:00, ?it/s]"
      ]
     },
     "metadata": {},
     "output_type": "display_data"
    },
    {
     "name": "stderr",
     "output_type": "stream",
     "text": [
      "Global seed set to 2\n",
      "Global seed set to 4\n",
      "GPU available: True, used: True\n",
      "TPU available: False, using: 0 TPU cores\n",
      "IPU available: False, using: 0 IPUs\n",
      "Global seed set to 0\n",
      "LOCAL_RANK: 0 - CUDA_VISIBLE_DEVICES: [4]\n"
     ]
    },
    {
     "data": {
      "application/vnd.jupyter.widget-view+json": {
       "model_id": "0de7aad95d6140d183d7f797a2475e71",
       "version_major": 2,
       "version_minor": 0
      },
      "text/plain": [
       "Predicting: 0it [00:00, ?it/s]"
      ]
     },
     "metadata": {},
     "output_type": "display_data"
    },
    {
     "name": "stderr",
     "output_type": "stream",
     "text": [
      "Global seed set to 2\n"
     ]
    },
    {
     "name": "stdout",
     "output_type": "stream",
     "text": [
      "0.8: 5\n"
     ]
    },
    {
     "name": "stderr",
     "output_type": "stream",
     "text": [
      "Global seed set to 5\n",
      "GPU available: True, used: True\n",
      "TPU available: False, using: 0 TPU cores\n",
      "IPU available: False, using: 0 IPUs\n",
      "Global seed set to 0\n",
      "LOCAL_RANK: 0 - CUDA_VISIBLE_DEVICES: [4]\n"
     ]
    },
    {
     "data": {
      "application/vnd.jupyter.widget-view+json": {
       "model_id": "2a85ec1af1764e95a5cd7d45f44900c9",
       "version_major": 2,
       "version_minor": 0
      },
      "text/plain": [
       "Predicting: 0it [00:00, ?it/s]"
      ]
     },
     "metadata": {},
     "output_type": "display_data"
    },
    {
     "name": "stderr",
     "output_type": "stream",
     "text": [
      "Global seed set to 2\n",
      "Global seed set to 4\n",
      "GPU available: True, used: True\n",
      "TPU available: False, using: 0 TPU cores\n",
      "IPU available: False, using: 0 IPUs\n",
      "Global seed set to 0\n",
      "LOCAL_RANK: 0 - CUDA_VISIBLE_DEVICES: [4]\n"
     ]
    },
    {
     "data": {
      "application/vnd.jupyter.widget-view+json": {
       "model_id": "538b0d0f7725499cb857e7d202da1975",
       "version_major": 2,
       "version_minor": 0
      },
      "text/plain": [
       "Predicting: 0it [00:00, ?it/s]"
      ]
     },
     "metadata": {},
     "output_type": "display_data"
    },
    {
     "name": "stderr",
     "output_type": "stream",
     "text": [
      "Global seed set to 2\n"
     ]
    },
    {
     "name": "stdout",
     "output_type": "stream",
     "text": [
      "0.9: 5\n"
     ]
    },
    {
     "name": "stderr",
     "output_type": "stream",
     "text": [
      "Global seed set to 4\n",
      "GPU available: True, used: True\n",
      "TPU available: False, using: 0 TPU cores\n",
      "IPU available: False, using: 0 IPUs\n",
      "Global seed set to 0\n",
      "LOCAL_RANK: 0 - CUDA_VISIBLE_DEVICES: [4]\n"
     ]
    },
    {
     "data": {
      "application/vnd.jupyter.widget-view+json": {
       "model_id": "27b82080e5154605998334079e757b7f",
       "version_major": 2,
       "version_minor": 0
      },
      "text/plain": [
       "Predicting: 0it [00:00, ?it/s]"
      ]
     },
     "metadata": {},
     "output_type": "display_data"
    },
    {
     "name": "stderr",
     "output_type": "stream",
     "text": [
      "Global seed set to 2\n",
      "Global seed set to 5\n",
      "GPU available: True, used: True\n",
      "TPU available: False, using: 0 TPU cores\n",
      "IPU available: False, using: 0 IPUs\n",
      "Global seed set to 0\n",
      "LOCAL_RANK: 0 - CUDA_VISIBLE_DEVICES: [4]\n"
     ]
    },
    {
     "data": {
      "application/vnd.jupyter.widget-view+json": {
       "model_id": "97de92d6204741419792a486733b9770",
       "version_major": 2,
       "version_minor": 0
      },
      "text/plain": [
       "Predicting: 0it [00:00, ?it/s]"
      ]
     },
     "metadata": {},
     "output_type": "display_data"
    },
    {
     "name": "stderr",
     "output_type": "stream",
     "text": [
      "Global seed set to 2\n"
     ]
    },
    {
     "name": "stdout",
     "output_type": "stream",
     "text": [
      "1.0: 1\n",
      "wide_resnet50_2-robustl2eps3-imagenet-random\n",
      "0.0005: 5\n"
     ]
    },
    {
     "name": "stderr",
     "output_type": "stream",
     "text": [
      "Global seed set to 5\n",
      "GPU available: True, used: True\n",
      "TPU available: False, using: 0 TPU cores\n",
      "IPU available: False, using: 0 IPUs\n",
      "Global seed set to 0\n",
      "LOCAL_RANK: 0 - CUDA_VISIBLE_DEVICES: [4]\n"
     ]
    },
    {
     "data": {
      "application/vnd.jupyter.widget-view+json": {
       "model_id": "f617b7fb806c4b25806888f2f2f1017a",
       "version_major": 2,
       "version_minor": 0
      },
      "text/plain": [
       "Predicting: 0it [00:00, ?it/s]"
      ]
     },
     "metadata": {},
     "output_type": "display_data"
    },
    {
     "name": "stderr",
     "output_type": "stream",
     "text": [
      "Global seed set to 2\n"
     ]
    },
    {
     "name": "stdout",
     "output_type": "stream",
     "text": [
      "0.001: 5\n"
     ]
    },
    {
     "name": "stderr",
     "output_type": "stream",
     "text": [
      "Global seed set to 5\n",
      "GPU available: True, used: True\n",
      "TPU available: False, using: 0 TPU cores\n",
      "IPU available: False, using: 0 IPUs\n",
      "Global seed set to 0\n",
      "LOCAL_RANK: 0 - CUDA_VISIBLE_DEVICES: [4]\n"
     ]
    },
    {
     "data": {
      "application/vnd.jupyter.widget-view+json": {
       "model_id": "e4c209e7612c42119a19644f47559718",
       "version_major": 2,
       "version_minor": 0
      },
      "text/plain": [
       "Predicting: 0it [00:00, ?it/s]"
      ]
     },
     "metadata": {},
     "output_type": "display_data"
    },
    {
     "name": "stderr",
     "output_type": "stream",
     "text": [
      "Global seed set to 2\n"
     ]
    },
    {
     "name": "stdout",
     "output_type": "stream",
     "text": [
      "0.002: 5\n"
     ]
    },
    {
     "name": "stderr",
     "output_type": "stream",
     "text": [
      "Global seed set to 5\n",
      "GPU available: True, used: True\n",
      "TPU available: False, using: 0 TPU cores\n",
      "IPU available: False, using: 0 IPUs\n",
      "Global seed set to 0\n",
      "LOCAL_RANK: 0 - CUDA_VISIBLE_DEVICES: [4]\n"
     ]
    },
    {
     "data": {
      "application/vnd.jupyter.widget-view+json": {
       "model_id": "9e665f3bb8fb43379ef8560a662745e5",
       "version_major": 2,
       "version_minor": 0
      },
      "text/plain": [
       "Predicting: 0it [00:00, ?it/s]"
      ]
     },
     "metadata": {},
     "output_type": "display_data"
    },
    {
     "name": "stderr",
     "output_type": "stream",
     "text": [
      "Global seed set to 2\n"
     ]
    },
    {
     "name": "stdout",
     "output_type": "stream",
     "text": [
      "0.003: 5\n"
     ]
    },
    {
     "name": "stderr",
     "output_type": "stream",
     "text": [
      "Global seed set to 5\n",
      "GPU available: True, used: True\n",
      "TPU available: False, using: 0 TPU cores\n",
      "IPU available: False, using: 0 IPUs\n",
      "Global seed set to 0\n",
      "LOCAL_RANK: 0 - CUDA_VISIBLE_DEVICES: [4]\n"
     ]
    },
    {
     "data": {
      "application/vnd.jupyter.widget-view+json": {
       "model_id": "7ed5887fa4a44259b36e82d709f7533b",
       "version_major": 2,
       "version_minor": 0
      },
      "text/plain": [
       "Predicting: 0it [00:00, ?it/s]"
      ]
     },
     "metadata": {},
     "output_type": "display_data"
    },
    {
     "name": "stderr",
     "output_type": "stream",
     "text": [
      "Global seed set to 2\n"
     ]
    },
    {
     "name": "stdout",
     "output_type": "stream",
     "text": [
      "0.004: 5\n"
     ]
    },
    {
     "name": "stderr",
     "output_type": "stream",
     "text": [
      "Global seed set to 5\n",
      "GPU available: True, used: True\n",
      "TPU available: False, using: 0 TPU cores\n",
      "IPU available: False, using: 0 IPUs\n",
      "Global seed set to 0\n",
      "LOCAL_RANK: 0 - CUDA_VISIBLE_DEVICES: [4]\n"
     ]
    },
    {
     "data": {
      "application/vnd.jupyter.widget-view+json": {
       "model_id": "4a9cf65e5c2245b49728b19e3dcbfb16",
       "version_major": 2,
       "version_minor": 0
      },
      "text/plain": [
       "Predicting: 0it [00:00, ?it/s]"
      ]
     },
     "metadata": {},
     "output_type": "display_data"
    },
    {
     "name": "stderr",
     "output_type": "stream",
     "text": [
      "Global seed set to 2\n"
     ]
    },
    {
     "name": "stdout",
     "output_type": "stream",
     "text": [
      "0.005: 5\n"
     ]
    },
    {
     "name": "stderr",
     "output_type": "stream",
     "text": [
      "Global seed set to 5\n",
      "GPU available: True, used: True\n",
      "TPU available: False, using: 0 TPU cores\n",
      "IPU available: False, using: 0 IPUs\n",
      "Global seed set to 0\n",
      "LOCAL_RANK: 0 - CUDA_VISIBLE_DEVICES: [4]\n"
     ]
    },
    {
     "data": {
      "application/vnd.jupyter.widget-view+json": {
       "model_id": "725fdd409e8e4cfd898d5ccce44fa937",
       "version_major": 2,
       "version_minor": 0
      },
      "text/plain": [
       "Predicting: 0it [00:00, ?it/s]"
      ]
     },
     "metadata": {},
     "output_type": "display_data"
    },
    {
     "name": "stderr",
     "output_type": "stream",
     "text": [
      "Global seed set to 2\n"
     ]
    },
    {
     "name": "stdout",
     "output_type": "stream",
     "text": [
      "0.01: 5\n"
     ]
    },
    {
     "name": "stderr",
     "output_type": "stream",
     "text": [
      "Global seed set to 5\n",
      "GPU available: True, used: True\n",
      "TPU available: False, using: 0 TPU cores\n",
      "IPU available: False, using: 0 IPUs\n",
      "Global seed set to 0\n",
      "LOCAL_RANK: 0 - CUDA_VISIBLE_DEVICES: [4]\n"
     ]
    },
    {
     "data": {
      "application/vnd.jupyter.widget-view+json": {
       "model_id": "972a3e1a9f7b41649dc8b45bbee624cf",
       "version_major": 2,
       "version_minor": 0
      },
      "text/plain": [
       "Predicting: 0it [00:00, ?it/s]"
      ]
     },
     "metadata": {},
     "output_type": "display_data"
    },
    {
     "name": "stderr",
     "output_type": "stream",
     "text": [
      "Global seed set to 2\n"
     ]
    },
    {
     "name": "stdout",
     "output_type": "stream",
     "text": [
      "0.05: 5\n"
     ]
    },
    {
     "name": "stderr",
     "output_type": "stream",
     "text": [
      "Global seed set to 5\n",
      "GPU available: True, used: True\n",
      "TPU available: False, using: 0 TPU cores\n",
      "IPU available: False, using: 0 IPUs\n",
      "Global seed set to 0\n",
      "LOCAL_RANK: 0 - CUDA_VISIBLE_DEVICES: [4]\n"
     ]
    },
    {
     "data": {
      "application/vnd.jupyter.widget-view+json": {
       "model_id": "09618577751049628340254b16135368",
       "version_major": 2,
       "version_minor": 0
      },
      "text/plain": [
       "Predicting: 0it [00:00, ?it/s]"
      ]
     },
     "metadata": {},
     "output_type": "display_data"
    },
    {
     "name": "stderr",
     "output_type": "stream",
     "text": [
      "Global seed set to 2\n"
     ]
    },
    {
     "name": "stdout",
     "output_type": "stream",
     "text": [
      "0.1: 5\n"
     ]
    },
    {
     "name": "stderr",
     "output_type": "stream",
     "text": [
      "Global seed set to 5\n",
      "GPU available: True, used: True\n",
      "TPU available: False, using: 0 TPU cores\n",
      "IPU available: False, using: 0 IPUs\n",
      "Global seed set to 0\n",
      "LOCAL_RANK: 0 - CUDA_VISIBLE_DEVICES: [4]\n"
     ]
    },
    {
     "data": {
      "application/vnd.jupyter.widget-view+json": {
       "model_id": "4885405bc2fb4e368dc13413a5fa3a5e",
       "version_major": 2,
       "version_minor": 0
      },
      "text/plain": [
       "Predicting: 0it [00:00, ?it/s]"
      ]
     },
     "metadata": {},
     "output_type": "display_data"
    },
    {
     "name": "stderr",
     "output_type": "stream",
     "text": [
      "Global seed set to 2\n"
     ]
    },
    {
     "name": "stdout",
     "output_type": "stream",
     "text": [
      "0.2: 5\n"
     ]
    },
    {
     "name": "stderr",
     "output_type": "stream",
     "text": [
      "Global seed set to 5\n",
      "GPU available: True, used: True\n",
      "TPU available: False, using: 0 TPU cores\n",
      "IPU available: False, using: 0 IPUs\n",
      "Global seed set to 0\n",
      "LOCAL_RANK: 0 - CUDA_VISIBLE_DEVICES: [4]\n"
     ]
    },
    {
     "data": {
      "application/vnd.jupyter.widget-view+json": {
       "model_id": "349fcbc4a0be468b91f694670b6b80e0",
       "version_major": 2,
       "version_minor": 0
      },
      "text/plain": [
       "Predicting: 0it [00:00, ?it/s]"
      ]
     },
     "metadata": {},
     "output_type": "display_data"
    },
    {
     "name": "stderr",
     "output_type": "stream",
     "text": [
      "Global seed set to 2\n"
     ]
    },
    {
     "name": "stdout",
     "output_type": "stream",
     "text": [
      "0.3: 5\n"
     ]
    },
    {
     "name": "stderr",
     "output_type": "stream",
     "text": [
      "Global seed set to 5\n",
      "GPU available: True, used: True\n",
      "TPU available: False, using: 0 TPU cores\n",
      "IPU available: False, using: 0 IPUs\n",
      "Global seed set to 0\n",
      "LOCAL_RANK: 0 - CUDA_VISIBLE_DEVICES: [4]\n"
     ]
    },
    {
     "data": {
      "application/vnd.jupyter.widget-view+json": {
       "model_id": "767941aa3edd45849284858eddcea3a3",
       "version_major": 2,
       "version_minor": 0
      },
      "text/plain": [
       "Predicting: 0it [00:00, ?it/s]"
      ]
     },
     "metadata": {},
     "output_type": "display_data"
    },
    {
     "name": "stderr",
     "output_type": "stream",
     "text": [
      "Global seed set to 2\n"
     ]
    },
    {
     "name": "stdout",
     "output_type": "stream",
     "text": [
      "0.5: 5\n"
     ]
    },
    {
     "name": "stderr",
     "output_type": "stream",
     "text": [
      "Global seed set to 5\n",
      "GPU available: True, used: True\n",
      "TPU available: False, using: 0 TPU cores\n",
      "IPU available: False, using: 0 IPUs\n",
      "Global seed set to 0\n",
      "LOCAL_RANK: 0 - CUDA_VISIBLE_DEVICES: [4]\n"
     ]
    },
    {
     "data": {
      "application/vnd.jupyter.widget-view+json": {
       "model_id": "283cc86852d447e1869bbe8ef0022c53",
       "version_major": 2,
       "version_minor": 0
      },
      "text/plain": [
       "Predicting: 0it [00:00, ?it/s]"
      ]
     },
     "metadata": {},
     "output_type": "display_data"
    },
    {
     "name": "stderr",
     "output_type": "stream",
     "text": [
      "Global seed set to 2\n"
     ]
    },
    {
     "name": "stdout",
     "output_type": "stream",
     "text": [
      "0.8: 5\n"
     ]
    },
    {
     "name": "stderr",
     "output_type": "stream",
     "text": [
      "Global seed set to 5\n",
      "GPU available: True, used: True\n",
      "TPU available: False, using: 0 TPU cores\n",
      "IPU available: False, using: 0 IPUs\n",
      "Global seed set to 0\n",
      "LOCAL_RANK: 0 - CUDA_VISIBLE_DEVICES: [4]\n"
     ]
    },
    {
     "data": {
      "application/vnd.jupyter.widget-view+json": {
       "model_id": "3effb82b988f41dc84843f882dc59bc8",
       "version_major": 2,
       "version_minor": 0
      },
      "text/plain": [
       "Predicting: 0it [00:00, ?it/s]"
      ]
     },
     "metadata": {},
     "output_type": "display_data"
    },
    {
     "name": "stderr",
     "output_type": "stream",
     "text": [
      "Global seed set to 2\n"
     ]
    },
    {
     "name": "stdout",
     "output_type": "stream",
     "text": [
      "0.9: 5\n"
     ]
    },
    {
     "name": "stderr",
     "output_type": "stream",
     "text": [
      "Global seed set to 5\n",
      "GPU available: True, used: True\n",
      "TPU available: False, using: 0 TPU cores\n",
      "IPU available: False, using: 0 IPUs\n",
      "Global seed set to 0\n",
      "LOCAL_RANK: 0 - CUDA_VISIBLE_DEVICES: [4]\n"
     ]
    },
    {
     "data": {
      "application/vnd.jupyter.widget-view+json": {
       "model_id": "0b41fa741d7b48879156d60079f4063d",
       "version_major": 2,
       "version_minor": 0
      },
      "text/plain": [
       "Predicting: 0it [00:00, ?it/s]"
      ]
     },
     "metadata": {},
     "output_type": "display_data"
    },
    {
     "name": "stdout",
     "output_type": "stream",
     "text": [
      "1.0: 1\n",
      "vit_small_patch16_224-nonrob-imagenet-random\n",
      "0.005: 5\n",
      "0.01: 5\n",
      "0.05: 5\n",
      "0.1: 5\n",
      "0.2: 5\n",
      "0.3: 5\n",
      "0.5: 5\n",
      "0.8: 5\n",
      "0.9: 5\n",
      "1.0: 1\n",
      "vit_small_patch32_224-nonrob-imagenet-random\n",
      "0.005: 5\n",
      "0.01: 5\n",
      "0.05: 5\n",
      "0.1: 5\n",
      "0.2: 5\n",
      "0.3: 5\n",
      "0.5: 5\n",
      "0.8: 5\n",
      "0.9: 5\n",
      "1.0: 1\n",
      "[[0.0005, 0.001, 0.005, 0.01, 0.05, 0.1, 0.2, 0.3, 0.5, 0.8, 0.9, 1.0], [0.0005, 0.001, 0.005, 0.01, 0.05, 0.1, 0.2, 0.3, 0.5, 0.8, 0.9, 1.0], [0.005, 0.01, 0.05, 0.1, 0.2, 0.3, 0.5, 0.8, 0.9, 1.0], [0.005, 0.01, 0.05, 0.1, 0.2, 0.3, 0.5, 0.8, 0.9, 1.0], [0.0005, 0.001, 0.002, 0.003, 0.004, 0.005, 0.01, 0.05, 0.1, 0.2, 0.3, 0.5, 0.8, 0.9, 1.0], [0.0005, 0.001, 0.002, 0.003, 0.004, 0.005, 0.01, 0.05, 0.1, 0.2, 0.3, 0.5, 0.8, 0.9, 1.0], [0.0005, 0.001, 0.002, 0.003, 0.004, 0.005, 0.01, 0.05, 0.1, 0.2, 0.3, 0.5, 0.8, 0.9, 1.0], [0.0005, 0.001, 0.002, 0.003, 0.004, 0.005, 0.01, 0.05, 0.1, 0.2, 0.3, 0.5, 0.8, 0.9, 1.0], [0.005, 0.01, 0.05, 0.1, 0.2, 0.3, 0.5, 0.8, 0.9, 1.0], [0.005, 0.01, 0.05, 0.1, 0.2, 0.3, 0.5, 0.8, 0.9, 1.0]] [[0.007806147448718548, 0.027158888056874275, 0.05578142777085304, 0.11335176229476929, 0.4618637263774872, 0.5992844104766846, 0.6737681031227112, 0.6934460997581482, 0.7272727489471436, 0.7490648627281189, 0.7532932162284851, 0.7508537769317627], [0.03398926556110382, 0.013172873295843601, 0.03756708279252052, 0.06602699309587479, 0.440559446811676, 0.5609042048454285, 0.6415677070617676, 0.6615709662437439, 0.6944218277931213, 0.7092210054397583, 0.7175150513648987, 0.7194665670394897], [0.009172223042696714, 0.020946495421230792, 0.06609204560518264, 0.16685639768838884, 0.3926166832447052, 0.5099365890026093, 0.6479102373123169, 0.7167994856834412, 0.7270775675773621, 0.7347536087036133], [0.01070092711597681, 0.014116116054356097, 0.07445113062858581, 0.17342657297849656, 0.36435192823410034, 0.4762725651264191, 0.5666937828063965, 0.6251423120498657, 0.6378272891044616, 0.6544153690338135], [0.026573426276445388, 0.00621239235624671, 0.008619287703186273, 0.012229630816727876, 0.014116116613149644, 0.013563181087374688, 0.01554724331945181, 0.06492112427949906, 0.13374532461166383, 0.24143763780593872, 0.3273052453994751, 0.4753293216228485, 0.5671166062355042, 0.5921613216400147, 0.6093673706054688], [0.022995609045028686, 0.009269799944013358, 0.009074646327644587, 0.010831029340624809, 0.019873150251805784, 0.02010082919150591, 0.051357944309711454, 0.3445113003253937, 0.5082452416419982, 0.6200032591819763, 0.6631322145462036, 0.7022605299949646, 0.7256139159202576, 0.7309155941009522, 0.7342657446861267], [0.012815092038363219, 0.00777362184599042, 0.009595056110993028, 0.011058708652853966, 0.013368027471005916, 0.024231582693755627, 0.027093836292624473, 0.1386892169713974, 0.32863880395889283, 0.5149780571460724, 0.5993169665336608, 0.6773459076881408, 0.7192714214324951, 0.7296145796775818, 0.7332899570465088], [0.01639290973544121, 0.00832655718550086, 0.014278744533658027, 0.010570824518799782, 0.013628232013434171, 0.02611806821078062, 0.025792812183499336, 0.20292730629444122, 0.3863067150115967, 0.53803870677948, 0.6021141767501831, 0.6545129299163819, 0.6870060086250305, 0.6934460997581482, 0.7012522220611572], [0.013920962624251843, 0.01795413941144943, 0.100796876847744, 0.24452756345272064, 0.4567246735095978, 0.5830866694450378, 0.6776711702346802, 0.734883713722229, 0.7425597548484802, 0.7523174285888672], [0.013368027051910758, 0.01824686974287033, 0.0812815085053444, 0.1988290786743164, 0.38510326743125917, 0.5077573478221893, 0.6096601009368896, 0.6709383606910706, 0.6807936310768128, 0.6910066604614258]]\n"
     ]
    },
    {
     "data": {
      "image/png": "[encoded data removed]",
      "text/plain": [
       "<Figure size 500x300 with 1 Axes>"
      ]
     },
     "metadata": {
      "needs_background": "light"
     },
     "output_type": "display_data"
    },
    {
     "name": "stdout",
     "output_type": "stream",
     "text": [
      "Uploading results in ['results/archs_loss_datasets/architectures'] to contact.mpi-sws.org...\n",
      "Uploading 5 files to server\n",
      "copying results/archs_loss_datasets/architectures/vgg16_bn-resnet18-resnet50-wide_resnet50_2-vit_small_patch16_224-vit_small_patch32_224_cifar10_nonrob.png to /home/vnanda/public_html/results/partially_inverted_reps/archs_loss_datasets/architectures/vgg16_bn-resnet18-resnet50-wide_resnet50_2-vit_small_patch16_224-vit_small_patch32_224_cifar10_nonrob.png\n",
      "copying results/archs_loss_datasets/architectures/vgg16_bn-resnet18-resnet50-wide_resnet50_2-vit_small_patch16_224-vit_small_patch32_224_cifar100_nonrob.png to /home/vnanda/public_html/results/partially_inverted_reps/archs_loss_datasets/architectures/vgg16_bn-resnet18-resnet50-wide_resnet50_2-vit_small_patch16_224-vit_small_patch32_224_cifar100_nonrob.png\n",
      "copying results/archs_loss_datasets/architectures/vgg16_bn_cifar10_robustl2eps3.png to /home/vnanda/public_html/results/partially_inverted_reps/archs_loss_datasets/architectures/vgg16_bn_cifar10_robustl2eps3.png\n",
      "copying results/archs_loss_datasets/architectures/vgg16_bn-resnet18-resnet50-wide_resnet50_2-vit_small_patch16_224-vit_small_patch32_224_flowers_nonrob.png to /home/vnanda/public_html/results/partially_inverted_reps/archs_loss_datasets/architectures/vgg16_bn-resnet18-resnet50-wide_resnet50_2-vit_small_patch16_224-vit_small_patch32_224_flowers_nonrob.png\n",
      "copying results/archs_loss_datasets/architectures/vgg16_bn-resnet18-resnet50-wide_resnet50_2-vit_small_patch16_224-vit_small_patch32_224_oxford-iiit-pets_nonrob.png to /home/vnanda/public_html/results/partially_inverted_reps/archs_loss_datasets/architectures/vgg16_bn-resnet18-resnet50-wide_resnet50_2-vit_small_patch16_224-vit_small_patch32_224_oxford-iiit-pets_nonrob.png\n",
      "vgg16_bn-nonrob-imagenet-random\n",
      "0.0005: 1\n",
      "0.001: 1\n",
      "0.005: 1\n",
      "0.01: 1\n",
      "0.05: 1\n",
      "0.1: 1\n",
      "0.2: 1\n",
      "0.3: 1\n",
      "0.5: 1\n",
      "0.8: 1\n",
      "0.9: 1\n",
      "1.0: 1\n",
      "vgg16_bn-robustl2eps3-imagenet-random\n",
      "0.0005: 1\n",
      "0.001: 1\n",
      "0.005: 1\n",
      "0.01: 1\n",
      "0.05: 1\n",
      "0.1: 1\n",
      "0.2: 1\n",
      "0.3: 1\n",
      "0.5: 1\n",
      "0.8: 1\n",
      "0.9: 1\n",
      "1.0: 1\n",
      "resnet18-nonrob-imagenet-random\n",
      "0.005: 5\n",
      "0.01: 5\n",
      "0.05: 5\n",
      "0.1: 5\n",
      "0.2: 5\n",
      "0.3: 5\n",
      "0.5: 5\n",
      "0.8: 5\n",
      "0.9: 5\n",
      "1.0: 1\n",
      "resnet18-robustl2eps3-imagenet-random\n",
      "0.005: 5\n",
      "0.01: 5\n",
      "0.05: 5\n",
      "0.1: 5\n",
      "0.2: 5\n",
      "0.3: 5\n",
      "0.5: 5\n",
      "0.8: 5\n",
      "0.9: 5\n",
      "1.0: 1\n",
      "resnet50-nonrob-imagenet-random\n",
      "0.0005: 5\n",
      "0.001: 5\n",
      "0.002: 5\n",
      "0.003: 5\n",
      "0.004: 5\n",
      "0.005: 5\n",
      "0.01: 5\n",
      "0.05: 5\n",
      "0.1: 5\n",
      "0.2: 5\n",
      "0.3: 5\n",
      "0.5: 5\n",
      "0.8: 5\n",
      "0.9: 5\n",
      "1.0: 1\n",
      "resnet50-robustl2eps3-imagenet-random\n",
      "0.0005: 5\n",
      "0.001: 5\n",
      "0.002: 5\n",
      "0.003: 5\n",
      "0.004: 5\n"
     ]
    },
    {
     "name": "stderr",
     "output_type": "stream",
     "text": [
      "Global seed set to 2\n"
     ]
    },
    {
     "name": "stdout",
     "output_type": "stream",
     "text": [
      "0.005: 5\n",
      "0.01: 5\n",
      "0.05: 5\n",
      "0.1: 5\n",
      "0.2: 5\n",
      "0.3: 5\n",
      "0.5: 5\n",
      "0.8: 5\n",
      "0.9: 5\n",
      "1.0: 1\n",
      "wide_resnet50_2-nonrob-imagenet-random\n",
      "0.0005: 5\n"
     ]
    },
    {
     "name": "stderr",
     "output_type": "stream",
     "text": [
      "Global seed set to 4\n",
      "GPU available: True, used: True\n",
      "TPU available: False, using: 0 TPU cores\n",
      "IPU available: False, using: 0 IPUs\n",
      "Global seed set to 0\n",
      "LOCAL_RANK: 0 - CUDA_VISIBLE_DEVICES: [4]\n"
     ]
    },
    {
     "data": {
      "application/vnd.jupyter.widget-view+json": {
       "model_id": "b63976d6acd94763a031a221be74ba07",
       "version_major": 2,
       "version_minor": 0
      },
      "text/plain": [
       "Predicting: 0it [00:00, ?it/s]"
      ]
     },
     "metadata": {},
     "output_type": "display_data"
    },
    {
     "name": "stderr",
     "output_type": "stream",
     "text": [
      "Global seed set to 2\n",
      "Global seed set to 5\n",
      "GPU available: True, used: True\n",
      "TPU available: False, using: 0 TPU cores\n",
      "IPU available: False, using: 0 IPUs\n",
      "Global seed set to 0\n",
      "LOCAL_RANK: 0 - CUDA_VISIBLE_DEVICES: [4]\n"
     ]
    },
    {
     "data": {
      "application/vnd.jupyter.widget-view+json": {
       "model_id": "6821f3872d174cc298b512e396d480a7",
       "version_major": 2,
       "version_minor": 0
      },
      "text/plain": [
       "Predicting: 0it [00:00, ?it/s]"
      ]
     },
     "metadata": {},
     "output_type": "display_data"
    },
    {
     "name": "stderr",
     "output_type": "stream",
     "text": [
      "Global seed set to 2\n"
     ]
    },
    {
     "name": "stdout",
     "output_type": "stream",
     "text": [
      "0.001: 5\n"
     ]
    },
    {
     "name": "stderr",
     "output_type": "stream",
     "text": [
      "Global seed set to 4\n",
      "GPU available: True, used: True\n",
      "TPU available: False, using: 0 TPU cores\n",
      "IPU available: False, using: 0 IPUs\n",
      "Global seed set to 0\n",
      "LOCAL_RANK: 0 - CUDA_VISIBLE_DEVICES: [4]\n"
     ]
    },
    {
     "data": {
      "application/vnd.jupyter.widget-view+json": {
       "model_id": "6d9d8305c1cd42abb395568997ca2ec9",
       "version_major": 2,
       "version_minor": 0
      },
      "text/plain": [
       "Predicting: 0it [00:00, ?it/s]"
      ]
     },
     "metadata": {},
     "output_type": "display_data"
    },
    {
     "name": "stderr",
     "output_type": "stream",
     "text": [
      "Global seed set to 2\n",
      "Global seed set to 5\n",
      "GPU available: True, used: True\n",
      "TPU available: False, using: 0 TPU cores\n",
      "IPU available: False, using: 0 IPUs\n",
      "Global seed set to 0\n",
      "LOCAL_RANK: 0 - CUDA_VISIBLE_DEVICES: [4]\n"
     ]
    },
    {
     "data": {
      "application/vnd.jupyter.widget-view+json": {
       "model_id": "3203531d015a46b08c931b49d2fab187",
       "version_major": 2,
       "version_minor": 0
      },
      "text/plain": [
       "Predicting: 0it [00:00, ?it/s]"
      ]
     },
     "metadata": {},
     "output_type": "display_data"
    },
    {
     "name": "stdout",
     "output_type": "stream",
     "text": [
      "0.002: 5\n"
     ]
    },
    {
     "name": "stderr",
     "output_type": "stream",
     "text": [
      "Global seed set to 2\n",
      "Global seed set to 5\n",
      "GPU available: True, used: True\n",
      "TPU available: False, using: 0 TPU cores\n",
      "IPU available: False, using: 0 IPUs\n",
      "Global seed set to 0\n",
      "LOCAL_RANK: 0 - CUDA_VISIBLE_DEVICES: [4]\n"
     ]
    },
    {
     "data": {
      "application/vnd.jupyter.widget-view+json": {
       "model_id": "e284c27f95684e76b056a16238442512",
       "version_major": 2,
       "version_minor": 0
      },
      "text/plain": [
       "Predicting: 0it [00:00, ?it/s]"
      ]
     },
     "metadata": {},
     "output_type": "display_data"
    },
    {
     "name": "stderr",
     "output_type": "stream",
     "text": [
      "Global seed set to 2\n",
      "Global seed set to 4\n",
      "GPU available: True, used: True\n",
      "TPU available: False, using: 0 TPU cores\n",
      "IPU available: False, using: 0 IPUs\n",
      "Global seed set to 0\n",
      "LOCAL_RANK: 0 - CUDA_VISIBLE_DEVICES: [4]\n"
     ]
    },
    {
     "data": {
      "application/vnd.jupyter.widget-view+json": {
       "model_id": "b6ed378216d94a22878828cd7dd08679",
       "version_major": 2,
       "version_minor": 0
      },
      "text/plain": [
       "Predicting: 0it [00:00, ?it/s]"
      ]
     },
     "metadata": {},
     "output_type": "display_data"
    },
    {
     "name": "stderr",
     "output_type": "stream",
     "text": [
      "Global seed set to 2\n"
     ]
    },
    {
     "name": "stdout",
     "output_type": "stream",
     "text": [
      "0.003: 5\n"
     ]
    },
    {
     "name": "stderr",
     "output_type": "stream",
     "text": [
      "Global seed set to 5\n",
      "GPU available: True, used: True\n",
      "TPU available: False, using: 0 TPU cores\n",
      "IPU available: False, using: 0 IPUs\n",
      "Global seed set to 0\n",
      "LOCAL_RANK: 0 - CUDA_VISIBLE_DEVICES: [4]\n"
     ]
    },
    {
     "data": {
      "application/vnd.jupyter.widget-view+json": {
       "model_id": "e139d5305c0045ec91bb55c3e92397b5",
       "version_major": 2,
       "version_minor": 0
      },
      "text/plain": [
       "Predicting: 0it [00:00, ?it/s]"
      ]
     },
     "metadata": {},
     "output_type": "display_data"
    },
    {
     "name": "stderr",
     "output_type": "stream",
     "text": [
      "Global seed set to 2\n",
      "Global seed set to 4\n",
      "GPU available: True, used: True\n",
      "TPU available: False, using: 0 TPU cores\n",
      "IPU available: False, using: 0 IPUs\n",
      "Global seed set to 0\n",
      "LOCAL_RANK: 0 - CUDA_VISIBLE_DEVICES: [4]\n"
     ]
    },
    {
     "data": {
      "application/vnd.jupyter.widget-view+json": {
       "model_id": "ee7328f5df254b28ad93843315f9e47b",
       "version_major": 2,
       "version_minor": 0
      },
      "text/plain": [
       "Predicting: 0it [00:00, ?it/s]"
      ]
     },
     "metadata": {},
     "output_type": "display_data"
    },
    {
     "name": "stderr",
     "output_type": "stream",
     "text": [
      "Global seed set to 2\n"
     ]
    },
    {
     "name": "stdout",
     "output_type": "stream",
     "text": [
      "0.004: 5\n"
     ]
    },
    {
     "name": "stderr",
     "output_type": "stream",
     "text": [
      "Global seed set to 5\n",
      "GPU available: True, used: True\n",
      "TPU available: False, using: 0 TPU cores\n",
      "IPU available: False, using: 0 IPUs\n",
      "Global seed set to 0\n",
      "LOCAL_RANK: 0 - CUDA_VISIBLE_DEVICES: [4]\n"
     ]
    },
    {
     "data": {
      "application/vnd.jupyter.widget-view+json": {
       "model_id": "689292d395f046d28f5f55e084d77907",
       "version_major": 2,
       "version_minor": 0
      },
      "text/plain": [
       "Predicting: 0it [00:00, ?it/s]"
      ]
     },
     "metadata": {},
     "output_type": "display_data"
    },
    {
     "name": "stderr",
     "output_type": "stream",
     "text": [
      "Global seed set to 2\n",
      "Global seed set to 4\n",
      "GPU available: True, used: True\n",
      "TPU available: False, using: 0 TPU cores\n",
      "IPU available: False, using: 0 IPUs\n",
      "Global seed set to 0\n",
      "LOCAL_RANK: 0 - CUDA_VISIBLE_DEVICES: [4]\n"
     ]
    },
    {
     "data": {
      "application/vnd.jupyter.widget-view+json": {
       "model_id": "9b48798184d9473ea5de84e4fd69f69a",
       "version_major": 2,
       "version_minor": 0
      },
      "text/plain": [
       "Predicting: 0it [00:00, ?it/s]"
      ]
     },
     "metadata": {},
     "output_type": "display_data"
    },
    {
     "name": "stderr",
     "output_type": "stream",
     "text": [
      "Global seed set to 2\n"
     ]
    },
    {
     "name": "stdout",
     "output_type": "stream",
     "text": [
      "0.005: 5\n"
     ]
    },
    {
     "name": "stderr",
     "output_type": "stream",
     "text": [
      "Global seed set to 5\n",
      "GPU available: True, used: True\n",
      "TPU available: False, using: 0 TPU cores\n",
      "IPU available: False, using: 0 IPUs\n",
      "Global seed set to 0\n",
      "LOCAL_RANK: 0 - CUDA_VISIBLE_DEVICES: [4]\n"
     ]
    },
    {
     "data": {
      "application/vnd.jupyter.widget-view+json": {
       "model_id": "79db4abd73444f0f8d480f2b50030321",
       "version_major": 2,
       "version_minor": 0
      },
      "text/plain": [
       "Predicting: 0it [00:00, ?it/s]"
      ]
     },
     "metadata": {},
     "output_type": "display_data"
    },
    {
     "name": "stderr",
     "output_type": "stream",
     "text": [
      "Global seed set to 2\n",
      "Global seed set to 4\n",
      "GPU available: True, used: True\n",
      "TPU available: False, using: 0 TPU cores\n",
      "IPU available: False, using: 0 IPUs\n",
      "Global seed set to 0\n",
      "LOCAL_RANK: 0 - CUDA_VISIBLE_DEVICES: [4]\n"
     ]
    },
    {
     "data": {
      "application/vnd.jupyter.widget-view+json": {
       "model_id": "5321da20bc4a4469bf08e4814909652f",
       "version_major": 2,
       "version_minor": 0
      },
      "text/plain": [
       "Predicting: 0it [00:00, ?it/s]"
      ]
     },
     "metadata": {},
     "output_type": "display_data"
    },
    {
     "name": "stderr",
     "output_type": "stream",
     "text": [
      "Global seed set to 2\n"
     ]
    },
    {
     "name": "stdout",
     "output_type": "stream",
     "text": [
      "0.01: 5\n"
     ]
    },
    {
     "name": "stderr",
     "output_type": "stream",
     "text": [
      "Global seed set to 4\n",
      "GPU available: True, used: True\n",
      "TPU available: False, using: 0 TPU cores\n",
      "IPU available: False, using: 0 IPUs\n",
      "Global seed set to 0\n",
      "LOCAL_RANK: 0 - CUDA_VISIBLE_DEVICES: [4]\n"
     ]
    },
    {
     "data": {
      "application/vnd.jupyter.widget-view+json": {
       "model_id": "e946ab5cae6f4abca1405a423c6511a3",
       "version_major": 2,
       "version_minor": 0
      },
      "text/plain": [
       "Predicting: 0it [00:00, ?it/s]"
      ]
     },
     "metadata": {},
     "output_type": "display_data"
    },
    {
     "name": "stderr",
     "output_type": "stream",
     "text": [
      "Global seed set to 2\n",
      "Global seed set to 5\n",
      "GPU available: True, used: True\n",
      "TPU available: False, using: 0 TPU cores\n",
      "IPU available: False, using: 0 IPUs\n",
      "Global seed set to 0\n",
      "LOCAL_RANK: 0 - CUDA_VISIBLE_DEVICES: [4]\n"
     ]
    },
    {
     "data": {
      "application/vnd.jupyter.widget-view+json": {
       "model_id": "fc6ddfd0c6814ea1b328ae684821010c",
       "version_major": 2,
       "version_minor": 0
      },
      "text/plain": [
       "Predicting: 0it [00:00, ?it/s]"
      ]
     },
     "metadata": {},
     "output_type": "display_data"
    },
    {
     "name": "stderr",
     "output_type": "stream",
     "text": [
      "Global seed set to 2\n"
     ]
    },
    {
     "name": "stdout",
     "output_type": "stream",
     "text": [
      "0.05: 5\n"
     ]
    },
    {
     "name": "stderr",
     "output_type": "stream",
     "text": [
      "Global seed set to 4\n",
      "GPU available: True, used: True\n",
      "TPU available: False, using: 0 TPU cores\n",
      "IPU available: False, using: 0 IPUs\n",
      "Global seed set to 0\n",
      "LOCAL_RANK: 0 - CUDA_VISIBLE_DEVICES: [4]\n"
     ]
    },
    {
     "data": {
      "application/vnd.jupyter.widget-view+json": {
       "model_id": "6d003d2293554ae0811d279893210fc9",
       "version_major": 2,
       "version_minor": 0
      },
      "text/plain": [
       "Predicting: 0it [00:00, ?it/s]"
      ]
     },
     "metadata": {},
     "output_type": "display_data"
    },
    {
     "name": "stderr",
     "output_type": "stream",
     "text": [
      "Global seed set to 2\n",
      "Global seed set to 5\n",
      "GPU available: True, used: True\n",
      "TPU available: False, using: 0 TPU cores\n",
      "IPU available: False, using: 0 IPUs\n",
      "Global seed set to 0\n",
      "LOCAL_RANK: 0 - CUDA_VISIBLE_DEVICES: [4]\n"
     ]
    },
    {
     "data": {
      "application/vnd.jupyter.widget-view+json": {
       "model_id": "d552f5fbb4a347fdba1824cef3905fef",
       "version_major": 2,
       "version_minor": 0
      },
      "text/plain": [
       "Predicting: 0it [00:00, ?it/s]"
      ]
     },
     "metadata": {},
     "output_type": "display_data"
    },
    {
     "name": "stderr",
     "output_type": "stream",
     "text": [
      "Global seed set to 2\n"
     ]
    },
    {
     "name": "stdout",
     "output_type": "stream",
     "text": [
      "0.1: 5\n"
     ]
    },
    {
     "name": "stderr",
     "output_type": "stream",
     "text": [
      "Global seed set to 5\n",
      "GPU available: True, used: True\n",
      "TPU available: False, using: 0 TPU cores\n",
      "IPU available: False, using: 0 IPUs\n",
      "Global seed set to 0\n",
      "LOCAL_RANK: 0 - CUDA_VISIBLE_DEVICES: [4]\n"
     ]
    },
    {
     "data": {
      "application/vnd.jupyter.widget-view+json": {
       "model_id": "c57ff61611cd49aaa01f6af6f90f4d7e",
       "version_major": 2,
       "version_minor": 0
      },
      "text/plain": [
       "Predicting: 0it [00:00, ?it/s]"
      ]
     },
     "metadata": {},
     "output_type": "display_data"
    },
    {
     "name": "stderr",
     "output_type": "stream",
     "text": [
      "Global seed set to 2\n",
      "Global seed set to 4\n",
      "GPU available: True, used: True\n",
      "TPU available: False, using: 0 TPU cores\n",
      "IPU available: False, using: 0 IPUs\n",
      "Global seed set to 0\n",
      "LOCAL_RANK: 0 - CUDA_VISIBLE_DEVICES: [4]\n"
     ]
    },
    {
     "data": {
      "application/vnd.jupyter.widget-view+json": {
       "model_id": "3e4efb04d3c5475a81e4edcb5578a683",
       "version_major": 2,
       "version_minor": 0
      },
      "text/plain": [
       "Predicting: 0it [00:00, ?it/s]"
      ]
     },
     "metadata": {},
     "output_type": "display_data"
    },
    {
     "name": "stderr",
     "output_type": "stream",
     "text": [
      "Global seed set to 2\n"
     ]
    },
    {
     "name": "stdout",
     "output_type": "stream",
     "text": [
      "0.2: 5\n"
     ]
    },
    {
     "name": "stderr",
     "output_type": "stream",
     "text": [
      "Global seed set to 4\n",
      "GPU available: True, used: True\n",
      "TPU available: False, using: 0 TPU cores\n",
      "IPU available: False, using: 0 IPUs\n",
      "Global seed set to 0\n",
      "LOCAL_RANK: 0 - CUDA_VISIBLE_DEVICES: [4]\n"
     ]
    },
    {
     "data": {
      "application/vnd.jupyter.widget-view+json": {
       "model_id": "e7820462ce0f4763a3a9f1ef4c687bf3",
       "version_major": 2,
       "version_minor": 0
      },
      "text/plain": [
       "Predicting: 0it [00:00, ?it/s]"
      ]
     },
     "metadata": {},
     "output_type": "display_data"
    },
    {
     "name": "stderr",
     "output_type": "stream",
     "text": [
      "Global seed set to 2\n",
      "Global seed set to 5\n",
      "GPU available: True, used: True\n",
      "TPU available: False, using: 0 TPU cores\n",
      "IPU available: False, using: 0 IPUs\n",
      "Global seed set to 0\n",
      "LOCAL_RANK: 0 - CUDA_VISIBLE_DEVICES: [4]\n"
     ]
    },
    {
     "data": {
      "application/vnd.jupyter.widget-view+json": {
       "model_id": "91182291ec044b47a3533b6400ea05c8",
       "version_major": 2,
       "version_minor": 0
      },
      "text/plain": [
       "Predicting: 0it [00:00, ?it/s]"
      ]
     },
     "metadata": {},
     "output_type": "display_data"
    },
    {
     "name": "stderr",
     "output_type": "stream",
     "text": [
      "Global seed set to 2\n"
     ]
    },
    {
     "name": "stdout",
     "output_type": "stream",
     "text": [
      "0.8: 5\n"
     ]
    },
    {
     "name": "stderr",
     "output_type": "stream",
     "text": [
      "Global seed set to 4\n",
      "GPU available: True, used: True\n",
      "TPU available: False, using: 0 TPU cores\n",
      "IPU available: False, using: 0 IPUs\n",
      "Global seed set to 0\n",
      "LOCAL_RANK: 0 - CUDA_VISIBLE_DEVICES: [4]\n"
     ]
    },
    {
     "data": {
      "application/vnd.jupyter.widget-view+json": {
       "model_id": "9b9f21e57318431193dd1bf3ebe89b40",
       "version_major": 2,
       "version_minor": 0
      },
      "text/plain": [
       "Predicting: 0it [00:00, ?it/s]"
      ]
     },
     "metadata": {},
     "output_type": "display_data"
    },
    {
     "name": "stderr",
     "output_type": "stream",
     "text": [
      "Global seed set to 2\n",
      "Global seed set to 5\n",
      "GPU available: True, used: True\n",
      "TPU available: False, using: 0 TPU cores\n",
      "IPU available: False, using: 0 IPUs\n",
      "Global seed set to 0\n",
      "LOCAL_RANK: 0 - CUDA_VISIBLE_DEVICES: [4]\n"
     ]
    },
    {
     "data": {
      "application/vnd.jupyter.widget-view+json": {
       "model_id": "34cac5bf48584ebfa3cb63398c6ae70e",
       "version_major": 2,
       "version_minor": 0
      },
      "text/plain": [
       "Predicting: 0it [00:00, ?it/s]"
      ]
     },
     "metadata": {},
     "output_type": "display_data"
    },
    {
     "name": "stdout",
     "output_type": "stream",
     "text": [
      "0.9: 5\n"
     ]
    },
    {
     "name": "stderr",
     "output_type": "stream",
     "text": [
      "Global seed set to 2\n",
      "Global seed set to 5\n",
      "GPU available: True, used: True\n",
      "TPU available: False, using: 0 TPU cores\n",
      "IPU available: False, using: 0 IPUs\n",
      "Global seed set to 0\n",
      "LOCAL_RANK: 0 - CUDA_VISIBLE_DEVICES: [4]\n"
     ]
    },
    {
     "data": {
      "application/vnd.jupyter.widget-view+json": {
       "model_id": "31cd95b24f094d6bbabd80c93beaa18d",
       "version_major": 2,
       "version_minor": 0
      },
      "text/plain": [
       "Predicting: 0it [00:00, ?it/s]"
      ]
     },
     "metadata": {},
     "output_type": "display_data"
    },
    {
     "name": "stderr",
     "output_type": "stream",
     "text": [
      "Global seed set to 2\n",
      "Global seed set to 4\n",
      "GPU available: True, used: True\n",
      "TPU available: False, using: 0 TPU cores\n",
      "IPU available: False, using: 0 IPUs\n",
      "Global seed set to 0\n",
      "LOCAL_RANK: 0 - CUDA_VISIBLE_DEVICES: [4]\n"
     ]
    },
    {
     "data": {
      "application/vnd.jupyter.widget-view+json": {
       "model_id": "5cdbc947c47b483a9f387182f034a48c",
       "version_major": 2,
       "version_minor": 0
      },
      "text/plain": [
       "Predicting: 0it [00:00, ?it/s]"
      ]
     },
     "metadata": {},
     "output_type": "display_data"
    },
    {
     "name": "stderr",
     "output_type": "stream",
     "text": [
      "Global seed set to 2\n"
     ]
    },
    {
     "name": "stdout",
     "output_type": "stream",
     "text": [
      "1.0: 1\n",
      "wide_resnet50_2-robustl2eps3-imagenet-random\n",
      "0.0005: 5\n"
     ]
    },
    {
     "name": "stderr",
     "output_type": "stream",
     "text": [
      "Global seed set to 5\n",
      "GPU available: True, used: True\n",
      "TPU available: False, using: 0 TPU cores\n",
      "IPU available: False, using: 0 IPUs\n",
      "Global seed set to 0\n",
      "LOCAL_RANK: 0 - CUDA_VISIBLE_DEVICES: [4]\n"
     ]
    },
    {
     "data": {
      "application/vnd.jupyter.widget-view+json": {
       "model_id": "4062bd9193574134ba45b8e1dfb6a7ff",
       "version_major": 2,
       "version_minor": 0
      },
      "text/plain": [
       "Predicting: 0it [00:00, ?it/s]"
      ]
     },
     "metadata": {},
     "output_type": "display_data"
    },
    {
     "name": "stderr",
     "output_type": "stream",
     "text": [
      "Global seed set to 2\n"
     ]
    },
    {
     "name": "stdout",
     "output_type": "stream",
     "text": [
      "0.001: 5\n"
     ]
    },
    {
     "name": "stderr",
     "output_type": "stream",
     "text": [
      "Global seed set to 5\n",
      "GPU available: True, used: True\n",
      "TPU available: False, using: 0 TPU cores\n",
      "IPU available: False, using: 0 IPUs\n",
      "Global seed set to 0\n",
      "LOCAL_RANK: 0 - CUDA_VISIBLE_DEVICES: [4]\n"
     ]
    },
    {
     "data": {
      "application/vnd.jupyter.widget-view+json": {
       "model_id": "90bdb9b2be1f4f85a0b973fab0b57286",
       "version_major": 2,
       "version_minor": 0
      },
      "text/plain": [
       "Predicting: 0it [00:00, ?it/s]"
      ]
     },
     "metadata": {},
     "output_type": "display_data"
    },
    {
     "name": "stderr",
     "output_type": "stream",
     "text": [
      "Global seed set to 2\n"
     ]
    },
    {
     "name": "stdout",
     "output_type": "stream",
     "text": [
      "0.002: 5\n"
     ]
    },
    {
     "name": "stderr",
     "output_type": "stream",
     "text": [
      "Global seed set to 5\n",
      "GPU available: True, used: True\n",
      "TPU available: False, using: 0 TPU cores\n",
      "IPU available: False, using: 0 IPUs\n",
      "Global seed set to 0\n",
      "LOCAL_RANK: 0 - CUDA_VISIBLE_DEVICES: [4]\n"
     ]
    },
    {
     "data": {
      "application/vnd.jupyter.widget-view+json": {
       "model_id": "94abd6fd182149d3acb247e02a7dcdbf",
       "version_major": 2,
       "version_minor": 0
      },
      "text/plain": [
       "Predicting: 0it [00:00, ?it/s]"
      ]
     },
     "metadata": {},
     "output_type": "display_data"
    },
    {
     "name": "stderr",
     "output_type": "stream",
     "text": [
      "Global seed set to 2\n"
     ]
    },
    {
     "name": "stdout",
     "output_type": "stream",
     "text": [
      "0.003: 5\n"
     ]
    },
    {
     "name": "stderr",
     "output_type": "stream",
     "text": [
      "Global seed set to 5\n",
      "GPU available: True, used: True\n",
      "TPU available: False, using: 0 TPU cores\n",
      "IPU available: False, using: 0 IPUs\n",
      "Global seed set to 0\n",
      "LOCAL_RANK: 0 - CUDA_VISIBLE_DEVICES: [4]\n"
     ]
    },
    {
     "data": {
      "application/vnd.jupyter.widget-view+json": {
       "model_id": "3eafbc9fe4ae4942ba8ad8bc85642902",
       "version_major": 2,
       "version_minor": 0
      },
      "text/plain": [
       "Predicting: 0it [00:00, ?it/s]"
      ]
     },
     "metadata": {},
     "output_type": "display_data"
    },
    {
     "name": "stderr",
     "output_type": "stream",
     "text": [
      "Global seed set to 2\n"
     ]
    },
    {
     "name": "stdout",
     "output_type": "stream",
     "text": [
      "0.004: 5\n"
     ]
    },
    {
     "name": "stderr",
     "output_type": "stream",
     "text": [
      "Global seed set to 5\n",
      "GPU available: True, used: True\n",
      "TPU available: False, using: 0 TPU cores\n",
      "IPU available: False, using: 0 IPUs\n",
      "Global seed set to 0\n",
      "LOCAL_RANK: 0 - CUDA_VISIBLE_DEVICES: [4]\n"
     ]
    },
    {
     "data": {
      "application/vnd.jupyter.widget-view+json": {
       "model_id": "5452654a1d8f42e19b128bc6c06e04e2",
       "version_major": 2,
       "version_minor": 0
      },
      "text/plain": [
       "Predicting: 0it [00:00, ?it/s]"
      ]
     },
     "metadata": {},
     "output_type": "display_data"
    },
    {
     "name": "stderr",
     "output_type": "stream",
     "text": [
      "Global seed set to 2\n"
     ]
    },
    {
     "name": "stdout",
     "output_type": "stream",
     "text": [
      "0.005: 5\n"
     ]
    },
    {
     "name": "stderr",
     "output_type": "stream",
     "text": [
      "Global seed set to 5\n",
      "GPU available: True, used: True\n",
      "TPU available: False, using: 0 TPU cores\n",
      "IPU available: False, using: 0 IPUs\n",
      "Global seed set to 0\n",
      "LOCAL_RANK: 0 - CUDA_VISIBLE_DEVICES: [4]\n"
     ]
    },
    {
     "data": {
      "application/vnd.jupyter.widget-view+json": {
       "model_id": "59bac616e84e4e0e89cb510faea7164e",
       "version_major": 2,
       "version_minor": 0
      },
      "text/plain": [
       "Predicting: 0it [00:00, ?it/s]"
      ]
     },
     "metadata": {},
     "output_type": "display_data"
    },
    {
     "name": "stderr",
     "output_type": "stream",
     "text": [
      "Global seed set to 2\n"
     ]
    },
    {
     "name": "stdout",
     "output_type": "stream",
     "text": [
      "0.01: 5\n"
     ]
    },
    {
     "name": "stderr",
     "output_type": "stream",
     "text": [
      "Global seed set to 5\n",
      "GPU available: True, used: True\n",
      "TPU available: False, using: 0 TPU cores\n",
      "IPU available: False, using: 0 IPUs\n",
      "Global seed set to 0\n",
      "LOCAL_RANK: 0 - CUDA_VISIBLE_DEVICES: [4]\n"
     ]
    },
    {
     "data": {
      "application/vnd.jupyter.widget-view+json": {
       "model_id": "22cab5cc35b24417aa3d0de077f3fd3f",
       "version_major": 2,
       "version_minor": 0
      },
      "text/plain": [
       "Predicting: 0it [00:00, ?it/s]"
      ]
     },
     "metadata": {},
     "output_type": "display_data"
    },
    {
     "name": "stderr",
     "output_type": "stream",
     "text": [
      "Global seed set to 2\n"
     ]
    },
    {
     "name": "stdout",
     "output_type": "stream",
     "text": [
      "0.05: 5\n"
     ]
    },
    {
     "name": "stderr",
     "output_type": "stream",
     "text": [
      "Global seed set to 5\n",
      "GPU available: True, used: True\n",
      "TPU available: False, using: 0 TPU cores\n",
      "IPU available: False, using: 0 IPUs\n",
      "Global seed set to 0\n",
      "LOCAL_RANK: 0 - CUDA_VISIBLE_DEVICES: [4]\n"
     ]
    },
    {
     "data": {
      "application/vnd.jupyter.widget-view+json": {
       "model_id": "2cf3fc262efe4a15b88a59d13fdbe150",
       "version_major": 2,
       "version_minor": 0
      },
      "text/plain": [
       "Predicting: 0it [00:00, ?it/s]"
      ]
     },
     "metadata": {},
     "output_type": "display_data"
    },
    {
     "name": "stderr",
     "output_type": "stream",
     "text": [
      "Global seed set to 2\n"
     ]
    },
    {
     "name": "stdout",
     "output_type": "stream",
     "text": [
      "0.1: 5\n"
     ]
    },
    {
     "name": "stderr",
     "output_type": "stream",
     "text": [
      "Global seed set to 5\n",
      "GPU available: True, used: True\n",
      "TPU available: False, using: 0 TPU cores\n",
      "IPU available: False, using: 0 IPUs\n",
      "Global seed set to 0\n",
      "LOCAL_RANK: 0 - CUDA_VISIBLE_DEVICES: [4]\n"
     ]
    },
    {
     "data": {
      "application/vnd.jupyter.widget-view+json": {
       "model_id": "febfd0f3f3cb49b5a6d9cf75ac4021c5",
       "version_major": 2,
       "version_minor": 0
      },
      "text/plain": [
       "Predicting: 0it [00:00, ?it/s]"
      ]
     },
     "metadata": {},
     "output_type": "display_data"
    },
    {
     "name": "stderr",
     "output_type": "stream",
     "text": [
      "Global seed set to 2\n"
     ]
    },
    {
     "name": "stdout",
     "output_type": "stream",
     "text": [
      "0.2: 5\n"
     ]
    },
    {
     "name": "stderr",
     "output_type": "stream",
     "text": [
      "Global seed set to 5\n",
      "GPU available: True, used: True\n",
      "TPU available: False, using: 0 TPU cores\n",
      "IPU available: False, using: 0 IPUs\n",
      "Global seed set to 0\n",
      "LOCAL_RANK: 0 - CUDA_VISIBLE_DEVICES: [4]\n"
     ]
    },
    {
     "data": {
      "application/vnd.jupyter.widget-view+json": {
       "model_id": "0784bed155fe4b2084d19d2b82ab41a3",
       "version_major": 2,
       "version_minor": 0
      },
      "text/plain": [
       "Predicting: 0it [00:00, ?it/s]"
      ]
     },
     "metadata": {},
     "output_type": "display_data"
    },
    {
     "name": "stderr",
     "output_type": "stream",
     "text": [
      "Global seed set to 2\n"
     ]
    },
    {
     "name": "stdout",
     "output_type": "stream",
     "text": [
      "0.3: 5\n"
     ]
    },
    {
     "name": "stderr",
     "output_type": "stream",
     "text": [
      "Global seed set to 5\n",
      "GPU available: True, used: True\n",
      "TPU available: False, using: 0 TPU cores\n",
      "IPU available: False, using: 0 IPUs\n",
      "Global seed set to 0\n",
      "LOCAL_RANK: 0 - CUDA_VISIBLE_DEVICES: [4]\n"
     ]
    },
    {
     "data": {
      "application/vnd.jupyter.widget-view+json": {
       "model_id": "8f388ae6d7d549bf8b3eff27a194a427",
       "version_major": 2,
       "version_minor": 0
      },
      "text/plain": [
       "Predicting: 0it [00:00, ?it/s]"
      ]
     },
     "metadata": {},
     "output_type": "display_data"
    },
    {
     "name": "stderr",
     "output_type": "stream",
     "text": [
      "Global seed set to 2\n"
     ]
    },
    {
     "name": "stdout",
     "output_type": "stream",
     "text": [
      "0.5: 5\n"
     ]
    },
    {
     "name": "stderr",
     "output_type": "stream",
     "text": [
      "Global seed set to 5\n",
      "GPU available: True, used: True\n",
      "TPU available: False, using: 0 TPU cores\n",
      "IPU available: False, using: 0 IPUs\n",
      "Global seed set to 0\n",
      "LOCAL_RANK: 0 - CUDA_VISIBLE_DEVICES: [4]\n"
     ]
    },
    {
     "data": {
      "application/vnd.jupyter.widget-view+json": {
       "model_id": "54dc660e27c84c628c4ff04dc4b70437",
       "version_major": 2,
       "version_minor": 0
      },
      "text/plain": [
       "Predicting: 0it [00:00, ?it/s]"
      ]
     },
     "metadata": {},
     "output_type": "display_data"
    },
    {
     "name": "stdout",
     "output_type": "stream",
     "text": [
      "0.8: 5\n"
     ]
    },
    {
     "name": "stderr",
     "output_type": "stream",
     "text": [
      "Global seed set to 2\n",
      "Global seed set to 5\n",
      "GPU available: True, used: True\n",
      "TPU available: False, using: 0 TPU cores\n",
      "IPU available: False, using: 0 IPUs\n",
      "Global seed set to 0\n",
      "LOCAL_RANK: 0 - CUDA_VISIBLE_DEVICES: [4]\n"
     ]
    },
    {
     "data": {
      "application/vnd.jupyter.widget-view+json": {
       "model_id": "47065842616c48e98f007665a4972070",
       "version_major": 2,
       "version_minor": 0
      },
      "text/plain": [
       "Predicting: 0it [00:00, ?it/s]"
      ]
     },
     "metadata": {},
     "output_type": "display_data"
    },
    {
     "name": "stderr",
     "output_type": "stream",
     "text": [
      "Global seed set to 2\n"
     ]
    },
    {
     "name": "stdout",
     "output_type": "stream",
     "text": [
      "0.9: 5\n"
     ]
    },
    {
     "name": "stderr",
     "output_type": "stream",
     "text": [
      "Global seed set to 5\n",
      "GPU available: True, used: True\n",
      "TPU available: False, using: 0 TPU cores\n",
      "IPU available: False, using: 0 IPUs\n",
      "Global seed set to 0\n",
      "LOCAL_RANK: 0 - CUDA_VISIBLE_DEVICES: [4]\n"
     ]
    },
    {
     "data": {
      "application/vnd.jupyter.widget-view+json": {
       "model_id": "8cae26fc01bd4a3197c3d8ab2762eef8",
       "version_major": 2,
       "version_minor": 0
      },
      "text/plain": [
       "Predicting: 0it [00:00, ?it/s]"
      ]
     },
     "metadata": {},
     "output_type": "display_data"
    },
    {
     "name": "stdout",
     "output_type": "stream",
     "text": [
      "1.0: 1\n",
      "vit_small_patch16_224-nonrob-imagenet-random\n",
      "0.005: 5\n",
      "0.01: 5\n",
      "0.05: 5\n",
      "0.1: 5\n",
      "0.2: 5\n",
      "0.3: 5\n",
      "0.5: 5\n",
      "0.8: 5\n",
      "0.9: 5\n",
      "1.0: 1\n",
      "vit_small_patch32_224-nonrob-imagenet-random\n",
      "0.005: 5\n",
      "0.01: 5\n",
      "0.05: 5\n",
      "0.1: 5\n",
      "0.2: 5\n",
      "0.3: 5\n",
      "0.5: 5\n",
      "0.8: 5\n",
      "0.9: 5\n",
      "1.0: 1\n",
      "[[0.0005, 0.001, 0.005, 0.01, 0.05, 0.1, 0.2, 0.3, 0.5, 0.8, 0.9, 1.0], [0.0005, 0.001, 0.005, 0.01, 0.05, 0.1, 0.2, 0.3, 0.5, 0.8, 0.9, 1.0], [0.005, 0.01, 0.05, 0.1, 0.2, 0.3, 0.5, 0.8, 0.9, 1.0], [0.005, 0.01, 0.05, 0.1, 0.2, 0.3, 0.5, 0.8, 0.9, 1.0], [0.0005, 0.001, 0.002, 0.003, 0.004, 0.005, 0.01, 0.05, 0.1, 0.2, 0.3, 0.5, 0.8, 0.9, 1.0], [0.0005, 0.001, 0.002, 0.003, 0.004, 0.005, 0.01, 0.05, 0.1, 0.2, 0.3, 0.5, 0.8, 0.9, 1.0], [0.0005, 0.001, 0.002, 0.003, 0.004, 0.005, 0.01, 0.05, 0.1, 0.2, 0.3, 0.5, 0.8, 0.9, 1.0], [0.0005, 0.001, 0.002, 0.003, 0.004, 0.005, 0.01, 0.05, 0.1, 0.2, 0.3, 0.5, 0.8, 0.9, 1.0], [0.005, 0.01, 0.05, 0.1, 0.2, 0.3, 0.5, 0.8, 0.9, 1.0], [0.005, 0.01, 0.05, 0.1, 0.2, 0.3, 0.5, 0.8, 0.9, 1.0]] [[0.08558190613985062, 0.13518670201301575, 0.5429272055625916, 0.7304442524909973, 0.8825293183326721, 0.8980648517608643, 0.9016080498695374, 0.9067865610122681, 0.9043335914611816, 0.906514048576355, 0.9076042771339417, 0.9089670181274414], [0.07604251801967621, 0.09730171412229538, 0.2221313714981079, 0.37585172057151794, 0.7089124917984009, 0.7514309287071228, 0.7765058875083923, 0.7890433073043823, 0.7944943904876709, 0.7947669625282288, 0.7964022755622864, 0.7928590774536133], [0.0773507758975029, 0.16876533031463622, 0.6214227199554443, 0.7840283513069153, 0.8524938702583313, 0.87293541431427, 0.8867266297340393, 0.8944671511650085, 0.8969746589660644, 0.8969746232032776], [0.057672391086816786, 0.10209866315126419, 0.39056963920593263, 0.5646225214004517, 0.6717906832695008, 0.7091850519180298, 0.7435268521308899, 0.7571545481681824, 0.7608067631721497, 0.7677841186523438], [0.038103025406599045, 0.03521395437419415, 0.04666121639311314, 0.07762333005666733, 0.09174161851406097, 0.12968111038208008, 0.2293813019990921, 0.6634505391120911, 0.8272008895874023, 0.8811120390892029, 0.900463342666626, 0.9107113599777221, 0.9212864518165589, 0.9223221659660339, 0.9250476956367493], [0.04170073643326759, 0.05821749866008759, 0.08863450437784196, 0.1336058869957924, 0.17138184905052184, 0.20179885923862456, 0.3496865689754486, 0.721395468711853, 0.7830471515655517, 0.8175524592399597, 0.8268738031387329, 0.8323248744010925, 0.834232759475708, 0.8352139472961426, 0.8351049423217773], [0.03668574579060078, 0.05031343773007393, 0.09414009153842925, 0.14363586604595185, 0.19574815928936004, 0.2345598191022873, 0.4905423879623413, 0.8685745358467102, 0.899264109134674, 0.9146361351013184, 0.9208503723144531, 0.9234123706817627, 0.9241210222244263, 0.9255927920341491, 0.9247751235961914], [0.034014717862010005, 0.05031343698501587, 0.07576996311545373, 0.1005178526043892, 0.14134641587734223, 0.17547015249729156, 0.31000272631645204, 0.715998911857605, 0.7850095391273498, 0.8215317606925965, 0.8381575226783753, 0.8495502829551697, 0.8576178669929504, 0.8577814102172852, 0.8574543595314026], [0.05009539350867272, 0.11229217946529388, 0.5113654971122742, 0.6820932030677795, 0.7987462520599365, 0.8363586664199829, 0.8638866066932678, 0.8809484839439392, 0.8837830424308777, 0.8844372034072876], [0.044262741878628734, 0.09168710708618164, 0.4167348086833954, 0.5937857747077941, 0.715072226524353, 0.757863187789917, 0.7938402771949769, 0.8180430650711059, 0.8224039196968078, 0.8247478604316711]]\n"
     ]
    },
    {
     "data": {
      "image/png": "[encoded data removed]",
      "text/plain": [
       "<Figure size 500x300 with 1 Axes>"
      ]
     },
     "metadata": {
      "needs_background": "light"
     },
     "output_type": "display_data"
    },
    {
     "name": "stdout",
     "output_type": "stream",
     "text": [
      "Uploading results in ['results/archs_loss_datasets/architectures'] to contact.mpi-sws.org...\n",
      "Uploading 5 files to server\n",
      "copying results/archs_loss_datasets/architectures/vgg16_bn-resnet18-resnet50-wide_resnet50_2-vit_small_patch16_224-vit_small_patch32_224_cifar10_nonrob.png to /home/vnanda/public_html/results/partially_inverted_reps/archs_loss_datasets/architectures/vgg16_bn-resnet18-resnet50-wide_resnet50_2-vit_small_patch16_224-vit_small_patch32_224_cifar10_nonrob.png\n",
      "copying results/archs_loss_datasets/architectures/vgg16_bn-resnet18-resnet50-wide_resnet50_2-vit_small_patch16_224-vit_small_patch32_224_cifar100_nonrob.png to /home/vnanda/public_html/results/partially_inverted_reps/archs_loss_datasets/architectures/vgg16_bn-resnet18-resnet50-wide_resnet50_2-vit_small_patch16_224-vit_small_patch32_224_cifar100_nonrob.png\n",
      "copying results/archs_loss_datasets/architectures/vgg16_bn_cifar10_robustl2eps3.png to /home/vnanda/public_html/results/partially_inverted_reps/archs_loss_datasets/architectures/vgg16_bn_cifar10_robustl2eps3.png\n",
      "copying results/archs_loss_datasets/architectures/vgg16_bn-resnet18-resnet50-wide_resnet50_2-vit_small_patch16_224-vit_small_patch32_224_flowers_nonrob.png to /home/vnanda/public_html/results/partially_inverted_reps/archs_loss_datasets/architectures/vgg16_bn-resnet18-resnet50-wide_resnet50_2-vit_small_patch16_224-vit_small_patch32_224_flowers_nonrob.png\n",
      "copying results/archs_loss_datasets/architectures/vgg16_bn-resnet18-resnet50-wide_resnet50_2-vit_small_patch16_224-vit_small_patch32_224_oxford-iiit-pets_nonrob.png to /home/vnanda/public_html/results/partially_inverted_reps/archs_loss_datasets/architectures/vgg16_bn-resnet18-resnet50-wide_resnet50_2-vit_small_patch16_224-vit_small_patch32_224_oxford-iiit-pets_nonrob.png\n"
     ]
    }
   ],
   "source": [
    "SOURCE_DATASETS = ['imagenet']\n",
    "MODELS = ['vgg16_bn', 'resnet18', 'resnet50', 'wide_resnet50_2', \n",
    "#           'wide_resnet50_4', \n",
    "          'vit_small_patch16_224', 'vit_small_patch32_224']\n",
    "FINETUNE_MODES = ['random']\n",
    "FRACTIONS_OR_NUMBERS = [None] * len(MODELS)\n",
    "ANALYSIS_TYPE = 'architectures'\n",
    "\n",
    "datasetwise_model_to_accs = {}\n",
    "for FT_DATASET in ['cifar10','cifar100','flowers','oxford-iiit-pets']:\n",
    "    datasetwise_model_to_accs[FT_DATASET] = \\\n",
    "        results(MODELS, SOURCE_DATASETS, FINETUNE_MODES, \n",
    "                FT_DATASET, FRACTIONS_OR_NUMBERS, ANALYSIS_TYPE)"
   ]
  },
  {
   "cell_type": "markdown",
   "id": "f242e61b",
   "metadata": {},
   "source": [
    "### Table 1 measures"
   ]
  },
  {
   "cell_type": "code",
   "execution_count": 17,
   "id": "4fbabbb6",
   "metadata": {},
   "outputs": [
    {
     "name": "stdout",
     "output_type": "stream",
     "text": [
      "cifar10, vgg16_bn, 0.95\n",
      "cifar10, resnet18, 0.8\n",
      "cifar10, resnet50, 0.9\n",
      "cifar10, wide_resnet50_2, 0.95\n",
      "cifar10, vit_small_patch16_224, 0.7\n",
      "cifar10, vit_small_patch32_224, 0.7\n",
      "cifar100, vgg16_bn, 0.8\n",
      "cifar100, resnet18, 0.5\n",
      "cifar100, resnet50, 0.5\n",
      "cifar100, wide_resnet50_2, 0.8\n",
      "cifar100, vit_small_patch16_224, 0.5\n",
      "cifar100, vit_small_patch32_224, 0.5\n",
      "flowers, vgg16_bn, 0.8\n",
      "flowers, resnet18, 0.5\n",
      "flowers, resnet50, 0.19999999999999996\n",
      "flowers, wide_resnet50_2, 0.5\n",
      "flowers, vit_small_patch16_224, 0.5\n",
      "flowers, vit_small_patch32_224, 0.5\n",
      "oxford-iiit-pets, vgg16_bn, 0.95\n",
      "oxford-iiit-pets, resnet18, 0.9\n",
      "oxford-iiit-pets, resnet50, 0.9\n",
      "oxford-iiit-pets, wide_resnet50_2, 0.95\n",
      "oxford-iiit-pets, vit_small_patch16_224, 0.8\n",
      "oxford-iiit-pets, vit_small_patch32_224, 0.7\n"
     ]
    }
   ],
   "source": [
    "for ft_ds in ['cifar10','cifar100','flowers','oxford-iiit-pets']:\n",
    "    for model in MODELS:\n",
    "        dr = estimate_dr(\n",
    "            *list(zip(*datasetwise_model_to_accs[ft_ds][f'{model}-nonrob-imagenet-random'].items())), 0.9)\n",
    "        print (f'{ft_ds}, {model}, {dr}')"
   ]
  },
  {
   "cell_type": "markdown",
   "id": "9d149e46",
   "metadata": {},
   "source": [
    "### Compare different upstream training datasets"
   ]
  },
  {
   "cell_type": "code",
   "execution_count": 23,
   "id": "76fd90ab",
   "metadata": {},
   "outputs": [
    {
     "name": "stdout",
     "output_type": "stream",
     "text": [
      "vit_small_patch16_224-nonrob-imagenet-random\n",
      "0.005: 5\n",
      "0.01: 5\n",
      "0.05: 5\n",
      "0.1: 5\n",
      "0.2: 5\n",
      "0.3: 5\n",
      "0.5: 5\n",
      "0.8: 5\n",
      "0.9: 5\n",
      "1.0: 1\n",
      "vit_small_patch16_224-nonrob-imagenet21k-random\n",
      "0.005: 9\n",
      "0.01: 0\n",
      "0.05: 9\n",
      "0.1: 9\n",
      "0.2: 9\n",
      "0.3: 0\n",
      "0.5: 9\n",
      "0.8: 0\n",
      "0.9: 8\n",
      "1.0: 1\n",
      "vit_small_patch32_224-nonrob-imagenet-random\n",
      "0.005: 5\n",
      "0.01: 5\n",
      "0.05: 5\n",
      "0.1: 5\n",
      "0.2: 5\n",
      "0.3: 5\n",
      "0.5: 5\n",
      "0.8: 5\n",
      "0.9: 5\n",
      "1.0: 1\n",
      "vit_small_patch32_224-nonrob-imagenet21k-random\n",
      "0.005: 10\n",
      "0.01: 0\n",
      "0.05: 10\n",
      "0.1: 10\n",
      "0.2: 10\n",
      "0.3: 0\n",
      "0.5: 10\n",
      "0.8: 0\n",
      "0.9: 10\n",
      "1.0: 1\n",
      "[[0.005, 0.01, 0.05, 0.1, 0.2, 0.3, 0.5, 0.8, 0.9, 1.0], [0.005, 0.05, 0.1, 0.2, 0.5, 0.9, 1.0], [0.005, 0.01, 0.05, 0.1, 0.2, 0.3, 0.5, 0.8, 0.9, 1.0], [0.005, 0.05, 0.1, 0.2, 0.5, 0.9, 1.0]] [[0.14664000272750854, 0.20238000452518462, 0.43921999335289, 0.5599400043487549, 0.6695399880409241, 0.7231000065803528, 0.7736999988555908, 0.804040002822876, 0.8106000185012817, 0.8141999840736389], [0.15880000094572702, 0.6252333256933424, 0.7992111113336351, 0.9039333330260383, 0.9489888813760545, 0.9591999873518944, 0.9593999981880188], [0.14259999692440034, 0.18774000108242034, 0.4220800042152405, 0.5709800124168396, 0.6868200182914734, 0.7333799958229065, 0.7781000018119812, 0.8077799916267395, 0.8146399974822998, 0.8188999891281128], [0.14684000089764596, 0.5816299915313721, 0.7688299894332886, 0.8782799959182739, 0.9335900127887726, 0.9448599934577941, 0.9463000297546387]]\n"
     ]
    },
    {
     "name": "stderr",
     "output_type": "stream",
     "text": [
      "../plot_helper.py:120: UserWarning: marker is redundantly defined by the 'marker' keyword argument and the fmt string \"o\" (-> marker='o'). The keyword argument will take precedence.\n",
      "  label=legend_vals[i] if legend_vals is not None else \"\")\n"
     ]
    },
    {
     "data": {
      "image/png": "[encoded data removed]",
      "text/plain": [
       "<Figure size 500x300 with 1 Axes>"
      ]
     },
     "metadata": {},
     "output_type": "display_data"
    },
    {
     "name": "stdout",
     "output_type": "stream",
     "text": [
      "Uploading results in ['results/archs_loss_datasets/upstream_datasets'] to contact.mpi-sws.org...\n",
      "Uploading 4 files to server\n",
      "copying results/archs_loss_datasets/upstream_datasets/vit_small_patch16_224-vit_small_patch32_224_flowers_nonrob.png to /home/vnanda/public_html/results/partially_inverted_reps/archs_loss_datasets/upstream_datasets/vit_small_patch16_224-vit_small_patch32_224_flowers_nonrob.png\n",
      "copying results/archs_loss_datasets/upstream_datasets/vit_small_patch16_224-vit_small_patch32_224_cifar100_nonrob.png to /home/vnanda/public_html/results/partially_inverted_reps/archs_loss_datasets/upstream_datasets/vit_small_patch16_224-vit_small_patch32_224_cifar100_nonrob.png\n",
      "copying results/archs_loss_datasets/upstream_datasets/vit_small_patch16_224-vit_small_patch32_224_cifar10_nonrob.png to /home/vnanda/public_html/results/partially_inverted_reps/archs_loss_datasets/upstream_datasets/vit_small_patch16_224-vit_small_patch32_224_cifar10_nonrob.png\n",
      "copying results/archs_loss_datasets/upstream_datasets/vit_small_patch16_224-vit_small_patch32_224_oxford-iiit-pets_nonrob.png to /home/vnanda/public_html/results/partially_inverted_reps/archs_loss_datasets/upstream_datasets/vit_small_patch16_224-vit_small_patch32_224_oxford-iiit-pets_nonrob.png\n",
      "vit_small_patch16_224-nonrob-imagenet-random\n",
      "0.005: 5\n",
      "0.01: 5\n",
      "0.05: 5\n",
      "0.1: 5\n",
      "0.2: 5\n",
      "0.3: 5\n",
      "0.5: 5\n",
      "0.8: 5\n",
      "0.9: 5\n",
      "1.0: 1\n",
      "vit_small_patch16_224-nonrob-imagenet21k-random\n",
      "0.005: 9\n",
      "0.01: 0\n",
      "0.05: 9\n",
      "0.1: 9\n",
      "0.2: 9\n",
      "0.3: 0\n",
      "0.5: 9\n",
      "0.8: 0\n",
      "0.9: 9\n",
      "1.0: 1\n",
      "vit_small_patch32_224-nonrob-imagenet-random\n",
      "0.005: 5\n",
      "0.01: 5\n",
      "0.05: 5\n",
      "0.1: 5\n",
      "0.2: 5\n",
      "0.3: 5\n",
      "0.5: 5\n",
      "0.8: 5\n",
      "0.9: 5\n",
      "1.0: 1\n",
      "vit_small_patch32_224-nonrob-imagenet21k-random\n",
      "0.005: 10\n",
      "0.01: 0\n",
      "0.05: 10\n",
      "0.1: 10\n",
      "0.2: 10\n",
      "0.3: 0\n",
      "0.5: 10\n",
      "0.8: 0\n",
      "0.9: 10\n",
      "1.0: 1\n",
      "[[0.005, 0.01, 0.05, 0.1, 0.2, 0.3, 0.5, 0.8, 0.9, 1.0], [0.005, 0.05, 0.1, 0.2, 0.5, 0.9, 1.0], [0.005, 0.01, 0.05, 0.1, 0.2, 0.3, 0.5, 0.8, 0.9, 1.0], [0.005, 0.05, 0.1, 0.2, 0.5, 0.9, 1.0]] [[0.015499999932944774, 0.028119999915361404, 0.163060000538826, 0.2807399988174438, 0.405840003490448, 0.4666200041770935, 0.5256399869918823, 0.5703200101852417, 0.5796200037002563, 0.5889999866485596], [0.018655555529726878, 0.3532444437344869, 0.5743222170405917, 0.7297222150696648, 0.8159555527899001, 0.8331333266364204, 0.8341000080108643], [0.014799999818205834, 0.032160000130534175, 0.17195999920368193, 0.2925000011920929, 0.4144400000572205, 0.4782600045204163, 0.5402399897575378, 0.5835400104522706, 0.5919400095939636, 0.599399983882904], [0.019709999766200782, 0.3133899986743927, 0.5335500031709671, 0.6901499927043915, 0.7902899920940399, 0.8167799949645996, 0.8190000057220459]]\n"
     ]
    },
    {
     "name": "stderr",
     "output_type": "stream",
     "text": [
      "../plot_helper.py:120: UserWarning: marker is redundantly defined by the 'marker' keyword argument and the fmt string \"o\" (-> marker='o'). The keyword argument will take precedence.\n",
      "  label=legend_vals[i] if legend_vals is not None else \"\")\n"
     ]
    },
    {
     "data": {
      "image/png": "[encoded data removed]",
      "text/plain": [
       "<Figure size 500x300 with 1 Axes>"
      ]
     },
     "metadata": {},
     "output_type": "display_data"
    },
    {
     "name": "stdout",
     "output_type": "stream",
     "text": [
      "Uploading results in ['results/archs_loss_datasets/upstream_datasets'] to contact.mpi-sws.org...\n",
      "Uploading 4 files to server\n",
      "copying results/archs_loss_datasets/upstream_datasets/vit_small_patch16_224-vit_small_patch32_224_flowers_nonrob.png to /home/vnanda/public_html/results/partially_inverted_reps/archs_loss_datasets/upstream_datasets/vit_small_patch16_224-vit_small_patch32_224_flowers_nonrob.png\n",
      "copying results/archs_loss_datasets/upstream_datasets/vit_small_patch16_224-vit_small_patch32_224_cifar100_nonrob.png to /home/vnanda/public_html/results/partially_inverted_reps/archs_loss_datasets/upstream_datasets/vit_small_patch16_224-vit_small_patch32_224_cifar100_nonrob.png\n",
      "copying results/archs_loss_datasets/upstream_datasets/vit_small_patch16_224-vit_small_patch32_224_cifar10_nonrob.png to /home/vnanda/public_html/results/partially_inverted_reps/archs_loss_datasets/upstream_datasets/vit_small_patch16_224-vit_small_patch32_224_cifar10_nonrob.png\n",
      "copying results/archs_loss_datasets/upstream_datasets/vit_small_patch16_224-vit_small_patch32_224_oxford-iiit-pets_nonrob.png to /home/vnanda/public_html/results/partially_inverted_reps/archs_loss_datasets/upstream_datasets/vit_small_patch16_224-vit_small_patch32_224_oxford-iiit-pets_nonrob.png\n",
      "vit_small_patch16_224-nonrob-imagenet-random\n",
      "0.005: 5\n",
      "0.01: 5\n",
      "0.05: 5\n",
      "0.1: 5\n",
      "0.2: 5\n",
      "0.3: 5\n",
      "0.5: 5\n",
      "0.8: 5\n",
      "0.9: 5\n",
      "1.0: 1\n",
      "vit_small_patch16_224-nonrob-imagenet21k-random\n",
      "0.005: 10\n",
      "0.01: 0\n",
      "0.05: 10\n",
      "0.1: 10\n",
      "0.2: 10\n",
      "0.3: 0\n",
      "0.5: 10\n",
      "0.8: 0\n",
      "0.9: 10\n",
      "1.0: 1\n",
      "vit_small_patch32_224-nonrob-imagenet-random\n",
      "0.005: 5\n",
      "0.01: 5\n",
      "0.05: 5\n",
      "0.1: 5\n",
      "0.2: 5\n",
      "0.3: 5\n",
      "0.5: 5\n",
      "0.8: 5\n",
      "0.9: 5\n",
      "1.0: 1\n",
      "vit_small_patch32_224-nonrob-imagenet21k-random\n",
      "0.005: 11\n",
      "0.01: 0\n",
      "0.05: 10\n",
      "0.1: 10\n",
      "0.2: 10\n",
      "0.3: 0\n",
      "0.5: 10\n",
      "0.8: 0\n",
      "0.9: 10\n",
      "1.0: 1\n",
      "[[0.005, 0.01, 0.05, 0.1, 0.2, 0.3, 0.5, 0.8, 0.9, 1.0], [0.005, 0.05, 0.1, 0.2, 0.5, 0.9, 1.0], [0.005, 0.01, 0.05, 0.1, 0.2, 0.3, 0.5, 0.8, 0.9, 1.0], [0.005, 0.05, 0.1, 0.2, 0.5, 0.9, 1.0]] [[0.013920962624251843, 0.01795413941144943, 0.100796876847744, 0.24452756345272064, 0.4567246735095978, 0.5830866694450378, 0.6776711702346802, 0.734883713722229, 0.7425597548484802, 0.7523174285888672], [0.020263457484543324, 0.8591966271400452, 0.9613595724105835, 0.9831192016601562, 0.9912668704986572, 0.9928606212139129, 0.9933322668075562], [0.013368027051910758, 0.01824686974287033, 0.0812815085053444, 0.1988290786743164, 0.38510326743125917, 0.5077573478221893, 0.6096601009368896, 0.6709383606910706, 0.6807936310768128, 0.6910066604614258], [0.024556838399307293, 0.7915596127510071, 0.9240038931369782, 0.9643519401550293, 0.9793299615383149, 0.9828589975833892, 0.9827614426612854]]\n"
     ]
    },
    {
     "name": "stderr",
     "output_type": "stream",
     "text": [
      "../plot_helper.py:120: UserWarning: marker is redundantly defined by the 'marker' keyword argument and the fmt string \"o\" (-> marker='o'). The keyword argument will take precedence.\n",
      "  label=legend_vals[i] if legend_vals is not None else \"\")\n"
     ]
    },
    {
     "data": {
      "image/png": "[encoded data removed]",
      "text/plain": [
       "<Figure size 500x300 with 1 Axes>"
      ]
     },
     "metadata": {},
     "output_type": "display_data"
    },
    {
     "name": "stdout",
     "output_type": "stream",
     "text": [
      "Uploading results in ['results/archs_loss_datasets/upstream_datasets'] to contact.mpi-sws.org...\n",
      "Uploading 4 files to server\n",
      "copying results/archs_loss_datasets/upstream_datasets/vit_small_patch16_224-vit_small_patch32_224_flowers_nonrob.png to /home/vnanda/public_html/results/partially_inverted_reps/archs_loss_datasets/upstream_datasets/vit_small_patch16_224-vit_small_patch32_224_flowers_nonrob.png\n",
      "copying results/archs_loss_datasets/upstream_datasets/vit_small_patch16_224-vit_small_patch32_224_cifar100_nonrob.png to /home/vnanda/public_html/results/partially_inverted_reps/archs_loss_datasets/upstream_datasets/vit_small_patch16_224-vit_small_patch32_224_cifar100_nonrob.png\n",
      "copying results/archs_loss_datasets/upstream_datasets/vit_small_patch16_224-vit_small_patch32_224_cifar10_nonrob.png to /home/vnanda/public_html/results/partially_inverted_reps/archs_loss_datasets/upstream_datasets/vit_small_patch16_224-vit_small_patch32_224_cifar10_nonrob.png\n",
      "copying results/archs_loss_datasets/upstream_datasets/vit_small_patch16_224-vit_small_patch32_224_oxford-iiit-pets_nonrob.png to /home/vnanda/public_html/results/partially_inverted_reps/archs_loss_datasets/upstream_datasets/vit_small_patch16_224-vit_small_patch32_224_oxford-iiit-pets_nonrob.png\n",
      "vit_small_patch16_224-nonrob-imagenet-random\n",
      "0.005: 5\n",
      "0.01: 5\n",
      "0.05: 5\n",
      "0.1: 5\n",
      "0.2: 5\n",
      "0.3: 5\n",
      "0.5: 5\n",
      "0.8: 5\n",
      "0.9: 5\n",
      "1.0: 1\n",
      "vit_small_patch16_224-nonrob-imagenet21k-random\n",
      "0.005: 11\n",
      "0.01: 0\n",
      "0.05: 11\n",
      "0.1: 10\n",
      "0.2: 10\n",
      "0.3: 0\n",
      "0.5: 10\n",
      "0.8: 0\n",
      "0.9: 10\n",
      "1.0: 1\n",
      "vit_small_patch32_224-nonrob-imagenet-random\n",
      "0.005: 5\n",
      "0.01: 5\n",
      "0.05: 5\n",
      "0.1: 5\n",
      "0.2: 5\n",
      "0.3: 5\n",
      "0.5: 5\n",
      "0.8: 5\n",
      "0.9: 5\n",
      "1.0: 1\n",
      "vit_small_patch32_224-nonrob-imagenet21k-random\n",
      "0.005: 11\n",
      "0.01: 0\n",
      "0.05: 11\n",
      "0.1: 10\n",
      "0.2: 10\n",
      "0.3: 0\n",
      "0.5: 10\n",
      "0.8: 0\n",
      "0.9: 10\n",
      "1.0: 1\n",
      "[[0.005, 0.01, 0.05, 0.1, 0.2, 0.3, 0.5, 0.8, 0.9, 1.0], [0.005, 0.05, 0.1, 0.2, 0.5, 0.9, 1.0], [0.005, 0.01, 0.05, 0.1, 0.2, 0.3, 0.5, 0.8, 0.9, 1.0], [0.005, 0.05, 0.1, 0.2, 0.5, 0.9, 1.0]] [[0.05009539350867272, 0.11229217946529388, 0.5113654971122742, 0.6820932030677795, 0.7987462520599365, 0.8363586664199829, 0.8638866066932678, 0.8809484839439392, 0.8837830424308777, 0.8844372034072876], [0.06149805371056904, 0.6748680634932085, 0.8172254085540771, 0.8739166021347046, 0.9086672127246856, 0.9164077341556549, 0.9182338714599609], [0.044262741878628734, 0.09168710708618164, 0.4167348086833954, 0.5937857747077941, 0.715072226524353, 0.757863187789917, 0.7938402771949769, 0.8180430650711059, 0.8224039196968078, 0.8247478604316711], [0.05738497017459436, 0.5953071171587164, 0.748378312587738, 0.8242572903633117, 0.8648678064346313, 0.8779231429100036, 0.8852548599243164]]\n"
     ]
    },
    {
     "name": "stderr",
     "output_type": "stream",
     "text": [
      "../plot_helper.py:120: UserWarning: marker is redundantly defined by the 'marker' keyword argument and the fmt string \"o\" (-> marker='o'). The keyword argument will take precedence.\n",
      "  label=legend_vals[i] if legend_vals is not None else \"\")\n"
     ]
    },
    {
     "data": {
      "image/png": "[encoded data removed]",
      "text/plain": [
       "<Figure size 500x300 with 1 Axes>"
      ]
     },
     "metadata": {},
     "output_type": "display_data"
    },
    {
     "name": "stdout",
     "output_type": "stream",
     "text": [
      "Uploading results in ['results/archs_loss_datasets/upstream_datasets'] to contact.mpi-sws.org...\n",
      "Uploading 4 files to server\n",
      "copying results/archs_loss_datasets/upstream_datasets/vit_small_patch16_224-vit_small_patch32_224_flowers_nonrob.png to /home/vnanda/public_html/results/partially_inverted_reps/archs_loss_datasets/upstream_datasets/vit_small_patch16_224-vit_small_patch32_224_flowers_nonrob.png\n",
      "copying results/archs_loss_datasets/upstream_datasets/vit_small_patch16_224-vit_small_patch32_224_cifar100_nonrob.png to /home/vnanda/public_html/results/partially_inverted_reps/archs_loss_datasets/upstream_datasets/vit_small_patch16_224-vit_small_patch32_224_cifar100_nonrob.png\n",
      "copying results/archs_loss_datasets/upstream_datasets/vit_small_patch16_224-vit_small_patch32_224_cifar10_nonrob.png to /home/vnanda/public_html/results/partially_inverted_reps/archs_loss_datasets/upstream_datasets/vit_small_patch16_224-vit_small_patch32_224_cifar10_nonrob.png\n",
      "copying results/archs_loss_datasets/upstream_datasets/vit_small_patch16_224-vit_small_patch32_224_oxford-iiit-pets_nonrob.png to /home/vnanda/public_html/results/partially_inverted_reps/archs_loss_datasets/upstream_datasets/vit_small_patch16_224-vit_small_patch32_224_oxford-iiit-pets_nonrob.png\n"
     ]
    }
   ],
   "source": [
    "SOURCE_DATASETS = ['imagenet', 'imagenet21k']\n",
    "MODELS = ['vit_small_patch16_224', 'vit_small_patch32_224']\n",
    "FINETUNE_MODES = ['random']\n",
    "FRACTIONS_OR_NUMBERS = [None] * len(MODELS)\n",
    "ANALYSIS_TYPE = 'upstream_datasets'\n",
    "\n",
    "for FT_DATASET in ['cifar10','cifar100','flowers','oxford-iiit-pets']:\n",
    "    results(MODELS, SOURCE_DATASETS, FINETUNE_MODES, FT_DATASET, FRACTIONS_OR_NUMBERS, ANALYSIS_TYPE)"
   ]
  },
  {
   "cell_type": "markdown",
   "id": "75918528",
   "metadata": {},
   "source": [
    "### Compare ResNet50-MRL to ResNet50-nonrob to ResNet50-rob"
   ]
  },
  {
   "cell_type": "code",
   "execution_count": 28,
   "id": "ad2d962e",
   "metadata": {},
   "outputs": [
    {
     "name": "stdout",
     "output_type": "stream",
     "text": [
      "resnet50-nonrob-imagenet-random\n",
      "0.0005: 5\n",
      "0.001: 5\n",
      "0.002: 5\n",
      "0.003: 5\n",
      "0.004: 5\n",
      "0.005: 5\n",
      "0.01: 5\n",
      "0.05: 5\n",
      "0.1: 5\n",
      "0.2: 5\n",
      "0.3: 5\n",
      "0.5: 5\n",
      "0.8: 5\n",
      "0.9: 5\n",
      "1.0: 1\n",
      "resnet50-nonrob-imagenet-first\n",
      "0.0005: 0\n",
      "0.001: 0\n",
      "0.002: 0\n",
      "0.003: 0\n",
      "0.004: 0\n",
      "0.005: 0\n",
      "0.01: 0\n",
      "0.05: 0\n",
      "0.1: 0\n",
      "0.2: 0\n",
      "0.3: 0\n",
      "0.5: 0\n",
      "0.8: 0\n",
      "0.9: 0\n",
      "1.0: 0\n",
      "resnet50-robustl2eps3-imagenet-random\n",
      "0.0005: 5\n",
      "0.001: 5\n",
      "0.002: 5\n",
      "0.003: 5\n",
      "0.004: 5\n",
      "0.005: 5\n",
      "0.01: 5\n",
      "0.05: 5\n",
      "0.1: 30\n",
      "0.2: 30\n",
      "0.3: 30\n",
      "0.5: 5\n",
      "0.8: 5\n",
      "0.9: 5\n",
      "1.0: 1\n",
      "resnet50-robustl2eps3-imagenet-first\n",
      "0.0005: 0\n",
      "0.001: 0\n",
      "0.002: 0\n",
      "0.003: 0\n",
      "0.004: 0\n",
      "0.005: 0\n",
      "0.01: 0\n",
      "0.05: 0\n",
      "0.1: 0\n",
      "0.2: 0\n",
      "0.3: 0\n",
      "0.5: 0\n",
      "0.8: 0\n",
      "0.9: 0\n",
      "1.0: 0\n",
      "resnet50_mrl-nonrob-imagenet-random\n",
      "8: 5\n",
      "16: 5\n",
      "32: 5\n",
      "64: 5\n",
      "128: 5\n",
      "256: 5\n",
      "512: 5\n",
      "1024: 5\n",
      "2048: 1\n",
      "resnet50_mrl-nonrob-imagenet-first\n",
      "8: 1\n",
      "16: 1\n",
      "32: 1\n",
      "64: 1\n",
      "128: 1\n",
      "256: 1\n",
      "512: 1\n",
      "1024: 1\n",
      "2048: 1\n",
      "[[0.0005, 0.001, 0.002, 0.003, 0.004, 0.005, 0.01, 0.05, 0.1, 0.2, 0.3, 0.5, 0.8, 0.9, 1.0], [0.0005, 0.001, 0.002, 0.003, 0.004, 0.005, 0.01, 0.05, 0.1, 0.2, 0.3, 0.5, 0.8, 0.9, 1.0], [0.00390625, 0.0078125, 0.015625, 0.03125, 0.0625, 0.125, 0.25, 0.5, 1.0], [0.00390625, 0.0078125, 0.015625, 0.03125, 0.0625, 0.125, 0.25, 0.5, 1.0]] [[0.1229200005531311, 0.15139999836683274, 0.18558000028133392, 0.23235999643802643, 0.2521800011396408, 0.2738999992609024, 0.3705000042915344, 0.694760000705719, 0.778879988193512, 0.832260000705719, 0.8519200086593628, 0.8740199923515319, 0.8878000020980835, 0.8911400079727173, 0.8913999795913696], [0.1314400002360344, 0.156980000436306, 0.2222400039434433, 0.25476000308990476, 0.2949400007724762, 0.32829999923706055, 0.4647800028324127, 0.7464800000190734, 0.806580001115799, 0.8412400046984355, 0.8542899986108144, 0.8674600005149842, 0.8755199909210205, 0.8769400119781494, 0.8769999742507935], [0.2746000051498413, 0.3595200002193451, 0.4856199979782104, 0.6040200114250183, 0.6870400071144104, 0.7366600036621094, 0.7700999975204468, 0.7907400131225586, 0.7921000123023987], [0.5580000281333923, 0.6310999989509583, 0.6711000204086304, 0.7078999876976013, 0.7459999918937683, 0.7631000280380249, 0.7768999934196472, 0.7864999771118164, 0.7928000092506409]]\n"
     ]
    },
    {
     "name": "stderr",
     "output_type": "stream",
     "text": [
      "../plot_helper.py:120: UserWarning: marker is redundantly defined by the 'marker' keyword argument and the fmt string \"o\" (-> marker='o'). The keyword argument will take precedence.\n",
      "  label=legend_vals[i] if legend_vals is not None else \"\")\n"
     ]
    },
    {
     "data": {
      "image/png": "[encoded data removed]",
      "text/plain": [
       "<Figure size 500x300 with 1 Axes>"
      ]
     },
     "metadata": {},
     "output_type": "display_data"
    },
    {
     "name": "stdout",
     "output_type": "stream",
     "text": [
      "Uploading results in ['results/archs_loss_datasets/efficient_representations'] to contact.mpi-sws.org...\n",
      "Uploading 8 files to server\n",
      "copying results/archs_loss_datasets/efficient_representations/resnet50-resnet50_mrl-resnet50_ff2048_cifar10_mrl0_nonrob.png to /home/vnanda/public_html/results/partially_inverted_reps/archs_loss_datasets/efficient_representations/resnet50-resnet50_mrl-resnet50_ff2048_cifar10_mrl0_nonrob.png\n",
      "copying results/archs_loss_datasets/efficient_representations/resnet50-resnet50_mrl-resnet50_ff2048_flowers_mrl0_nonrob.png to /home/vnanda/public_html/results/partially_inverted_reps/archs_loss_datasets/efficient_representations/resnet50-resnet50_mrl-resnet50_ff2048_flowers_mrl0_nonrob.png\n",
      "copying results/archs_loss_datasets/efficient_representations/resnet50-resnet50_mrl_cifar100_nonrob.png to /home/vnanda/public_html/results/partially_inverted_reps/archs_loss_datasets/efficient_representations/resnet50-resnet50_mrl_cifar100_nonrob.png\n",
      "copying results/archs_loss_datasets/efficient_representations/resnet50-resnet50_mrl_flowers_nonrob.png to /home/vnanda/public_html/results/partially_inverted_reps/archs_loss_datasets/efficient_representations/resnet50-resnet50_mrl_flowers_nonrob.png\n",
      "copying results/archs_loss_datasets/efficient_representations/resnet50-resnet50_mrl_oxford-iiit-pets_nonrob.png to /home/vnanda/public_html/results/partially_inverted_reps/archs_loss_datasets/efficient_representations/resnet50-resnet50_mrl_oxford-iiit-pets_nonrob.png\n",
      "copying results/archs_loss_datasets/efficient_representations/resnet50-resnet50_mrl-resnet50_ff2048_oxford-iiit-pets_mrl0_nonrob.png to /home/vnanda/public_html/results/partially_inverted_reps/archs_loss_datasets/efficient_representations/resnet50-resnet50_mrl-resnet50_ff2048_oxford-iiit-pets_mrl0_nonrob.png\n",
      "copying results/archs_loss_datasets/efficient_representations/resnet50-resnet50_mrl-resnet50_ff2048_cifar100_mrl0_nonrob.png to /home/vnanda/public_html/results/partially_inverted_reps/archs_loss_datasets/efficient_representations/resnet50-resnet50_mrl-resnet50_ff2048_cifar100_mrl0_nonrob.png\n",
      "copying results/archs_loss_datasets/efficient_representations/resnet50-resnet50_mrl_cifar10_nonrob.png to /home/vnanda/public_html/results/partially_inverted_reps/archs_loss_datasets/efficient_representations/resnet50-resnet50_mrl_cifar10_nonrob.png\n",
      "resnet50-nonrob-imagenet-random\n",
      "0.0005: 5\n",
      "0.001: 5\n",
      "0.002: 5\n",
      "0.003: 5\n",
      "0.004: 5\n",
      "0.005: 5\n",
      "0.01: 5\n",
      "0.05: 5\n",
      "0.1: 5\n",
      "0.2: 5\n",
      "0.3: 5\n",
      "0.5: 5\n",
      "0.8: 5\n",
      "0.9: 5\n",
      "1.0: 1\n",
      "resnet50-nonrob-imagenet-first\n",
      "0.0005: 0\n",
      "0.001: 0\n",
      "0.002: 0\n",
      "0.003: 0\n",
      "0.004: 0\n",
      "0.005: 0\n",
      "0.01: 0\n",
      "0.05: 0\n",
      "0.1: 0\n",
      "0.2: 0\n",
      "0.3: 0\n",
      "0.5: 0\n",
      "0.8: 0\n",
      "0.9: 0\n",
      "1.0: 0\n",
      "resnet50-robustl2eps3-imagenet-random\n",
      "0.0005: 5\n",
      "0.001: 5\n",
      "0.002: 5\n",
      "0.003: 5\n",
      "0.004: 4\n",
      "0.005: 4\n",
      "0.01: 4\n",
      "0.05: 4\n",
      "0.1: 29\n",
      "0.2: 28\n",
      "0.3: 27\n",
      "0.5: 4\n",
      "0.8: 4\n",
      "0.9: 4\n",
      "1.0: 1\n",
      "resnet50-robustl2eps3-imagenet-first\n",
      "0.0005: 0\n",
      "0.001: 0\n",
      "0.002: 0\n",
      "0.003: 0\n",
      "0.004: 0\n",
      "0.005: 0\n",
      "0.01: 0\n",
      "0.05: 0\n",
      "0.1: 0\n",
      "0.2: 0\n",
      "0.3: 0\n",
      "0.5: 0\n",
      "0.8: 0\n",
      "0.9: 0\n",
      "1.0: 0\n",
      "resnet50_mrl-nonrob-imagenet-random\n",
      "8: 5\n",
      "16: 5\n",
      "32: 5\n",
      "64: 5\n",
      "128: 5\n",
      "256: 5\n",
      "512: 5\n",
      "1024: 5\n",
      "2048: 1\n",
      "resnet50_mrl-nonrob-imagenet-first\n",
      "8: 1\n",
      "16: 1\n",
      "32: 1\n",
      "64: 1\n",
      "128: 1\n",
      "256: 1\n",
      "512: 1\n",
      "1024: 1\n",
      "2048: 1\n",
      "[[0.0005, 0.001, 0.002, 0.003, 0.004, 0.005, 0.01, 0.05, 0.1, 0.2, 0.3, 0.5, 0.8, 0.9, 1.0], [0.0005, 0.001, 0.002, 0.003, 0.004, 0.005, 0.01, 0.05, 0.1, 0.2, 0.3, 0.5, 0.8, 0.9, 1.0], [0.00390625, 0.0078125, 0.015625, 0.03125, 0.0625, 0.125, 0.25, 0.5, 1.0], [0.00390625, 0.0078125, 0.015625, 0.03125, 0.0625, 0.125, 0.25, 0.5, 1.0]] [[0.014640000090003014, 0.022420000284910202, 0.03343999981880188, 0.04003999978303909, 0.047860000282526016, 0.053920000046491626, 0.09385999888181687, 0.28966000080108645, 0.4099999964237213, 0.5175599932670594, 0.5675599932670593, 0.6233800053596497, 0.6607599973678588, 0.6676399827003479, 0.6628000140190125], [0.01801999993622303, 0.026900000125169753, 0.0446600005030632, 0.06223999932408333, 0.07782499957829714, 0.09689999930560589, 0.19107500091195107, 0.4841750040650368, 0.5728344876190712, 0.6242428634847913, 0.6456148116676895, 0.660974994301796, 0.6710000038146973, 0.6745000034570694, 0.67330002784729], [0.04838000014424324, 0.08284000158309937, 0.14163999855518342, 0.23316000103950502, 0.3420599937438965, 0.43426000475883486, 0.4943599998950958, 0.5386800050735474, 0.5677000284194946], [0.21089999377727509, 0.3147999942302704, 0.3919000029563904, 0.4625999927520752, 0.5081999897956848, 0.5249000191688538, 0.5443999767303467, 0.5569999814033508, 0.5694000124931335]]\n"
     ]
    },
    {
     "name": "stderr",
     "output_type": "stream",
     "text": [
      "../plot_helper.py:120: UserWarning: marker is redundantly defined by the 'marker' keyword argument and the fmt string \"o\" (-> marker='o'). The keyword argument will take precedence.\n",
      "  label=legend_vals[i] if legend_vals is not None else \"\")\n"
     ]
    },
    {
     "data": {
      "image/png": "[encoded data removed]",
      "text/plain": [
       "<Figure size 500x300 with 1 Axes>"
      ]
     },
     "metadata": {},
     "output_type": "display_data"
    },
    {
     "name": "stdout",
     "output_type": "stream",
     "text": [
      "Uploading results in ['results/archs_loss_datasets/efficient_representations'] to contact.mpi-sws.org...\n",
      "Uploading 8 files to server\n",
      "copying results/archs_loss_datasets/efficient_representations/resnet50-resnet50_mrl-resnet50_ff2048_cifar10_mrl0_nonrob.png to /home/vnanda/public_html/results/partially_inverted_reps/archs_loss_datasets/efficient_representations/resnet50-resnet50_mrl-resnet50_ff2048_cifar10_mrl0_nonrob.png\n",
      "copying results/archs_loss_datasets/efficient_representations/resnet50-resnet50_mrl-resnet50_ff2048_flowers_mrl0_nonrob.png to /home/vnanda/public_html/results/partially_inverted_reps/archs_loss_datasets/efficient_representations/resnet50-resnet50_mrl-resnet50_ff2048_flowers_mrl0_nonrob.png\n",
      "copying results/archs_loss_datasets/efficient_representations/resnet50-resnet50_mrl_cifar100_nonrob.png to /home/vnanda/public_html/results/partially_inverted_reps/archs_loss_datasets/efficient_representations/resnet50-resnet50_mrl_cifar100_nonrob.png\n",
      "copying results/archs_loss_datasets/efficient_representations/resnet50-resnet50_mrl_flowers_nonrob.png to /home/vnanda/public_html/results/partially_inverted_reps/archs_loss_datasets/efficient_representations/resnet50-resnet50_mrl_flowers_nonrob.png\n",
      "copying results/archs_loss_datasets/efficient_representations/resnet50-resnet50_mrl_oxford-iiit-pets_nonrob.png to /home/vnanda/public_html/results/partially_inverted_reps/archs_loss_datasets/efficient_representations/resnet50-resnet50_mrl_oxford-iiit-pets_nonrob.png\n",
      "copying results/archs_loss_datasets/efficient_representations/resnet50-resnet50_mrl-resnet50_ff2048_oxford-iiit-pets_mrl0_nonrob.png to /home/vnanda/public_html/results/partially_inverted_reps/archs_loss_datasets/efficient_representations/resnet50-resnet50_mrl-resnet50_ff2048_oxford-iiit-pets_mrl0_nonrob.png\n",
      "copying results/archs_loss_datasets/efficient_representations/resnet50-resnet50_mrl-resnet50_ff2048_cifar100_mrl0_nonrob.png to /home/vnanda/public_html/results/partially_inverted_reps/archs_loss_datasets/efficient_representations/resnet50-resnet50_mrl-resnet50_ff2048_cifar100_mrl0_nonrob.png\n",
      "copying results/archs_loss_datasets/efficient_representations/resnet50-resnet50_mrl_cifar10_nonrob.png to /home/vnanda/public_html/results/partially_inverted_reps/archs_loss_datasets/efficient_representations/resnet50-resnet50_mrl_cifar10_nonrob.png\n",
      "resnet50-nonrob-imagenet-random\n",
      "0.0005: 5\n",
      "0.001: 5\n",
      "0.002: 5\n",
      "0.003: 5\n",
      "0.004: 5\n",
      "0.005: 5\n",
      "0.01: 5\n",
      "0.05: 5\n",
      "0.1: 5\n",
      "0.2: 5\n",
      "0.3: 5\n",
      "0.5: 5\n",
      "0.8: 5\n",
      "0.9: 5\n",
      "1.0: 1\n",
      "resnet50-nonrob-imagenet-first\n",
      "0.0005: 0\n",
      "0.001: 0\n",
      "0.002: 0\n",
      "0.003: 0\n",
      "0.004: 0\n",
      "0.005: 0\n",
      "0.01: 0\n",
      "0.05: 0\n",
      "0.1: 0\n",
      "0.2: 0\n",
      "0.3: 0\n",
      "0.5: 0\n",
      "0.8: 0\n",
      "0.9: 0\n",
      "1.0: 0\n",
      "resnet50-robustl2eps3-imagenet-random\n",
      "0.0005: 5\n",
      "0.001: 5\n",
      "0.002: 5\n",
      "0.003: 5\n",
      "0.004: 5\n",
      "0.005: 5\n",
      "0.01: 5\n",
      "0.05: 5\n",
      "0.1: 5\n",
      "0.2: 5\n",
      "0.3: 5\n",
      "0.5: 5\n",
      "0.8: 5\n",
      "0.9: 5\n",
      "1.0: 1\n",
      "resnet50-robustl2eps3-imagenet-first\n",
      "0.0005: 0\n",
      "0.001: 0\n",
      "0.002: 0\n",
      "0.003: 0\n",
      "0.004: 0\n",
      "0.005: 0\n",
      "0.01: 0\n",
      "0.05: 0\n",
      "0.1: 0\n",
      "0.2: 0\n",
      "0.3: 0\n",
      "0.5: 0\n",
      "0.8: 0\n",
      "0.9: 0\n",
      "1.0: 0\n",
      "resnet50_mrl-nonrob-imagenet-random\n",
      "8: 5\n",
      "16: 5\n",
      "32: 5\n",
      "64: 5\n",
      "128: 5\n",
      "256: 5\n",
      "512: 5\n",
      "1024: 5\n",
      "2048: 1\n",
      "resnet50_mrl-nonrob-imagenet-first\n",
      "8: 3\n",
      "16: 3\n",
      "32: 3\n",
      "64: 3\n",
      "128: 3\n",
      "256: 3\n",
      "512: 2\n",
      "1024: 2\n",
      "2048: 1\n",
      "[[0.0005, 0.001, 0.002, 0.003, 0.004, 0.005, 0.01, 0.05, 0.1, 0.2, 0.3, 0.5, 0.8, 0.9, 1.0], [0.0005, 0.001, 0.002, 0.003, 0.004, 0.005, 0.01, 0.05, 0.1, 0.2, 0.3, 0.5, 0.8, 0.9, 1.0], [0.00390625, 0.0078125, 0.015625, 0.03125, 0.0625, 0.125, 0.25, 0.5, 1.0], [0.00390625, 0.0078125, 0.015625, 0.03125, 0.0625, 0.125, 0.25, 0.5, 1.0]] [[0.026573426276445388, 0.00621239235624671, 0.008619287703186273, 0.012229630816727876, 0.014116116613149644, 0.013563181087374688, 0.01554724331945181, 0.06492112427949906, 0.13374532461166383, 0.24143763780593872, 0.3273052453994751, 0.4753293216228485, 0.5671166062355042, 0.5921613216400147, 0.6093673706054688], [0.022995609045028686, 0.009269799944013358, 0.009074646327644587, 0.010831029340624809, 0.019873150251805784, 0.02010082919150591, 0.051357944309711454, 0.3445113003253937, 0.5082452416419982, 0.6200032591819763, 0.6631322145462036, 0.7022605299949646, 0.7256139159202576, 0.7309155941009522, 0.7342657446861267], [0.013465604372322559, 0.01177427228540182, 0.0183769715949893, 0.04290128536522388, 0.11039193421602249, 0.24355179965496063, 0.3474711298942566, 0.44143763184547424, 0.5038217306137085], [0.045481650779644646, 0.09090908865133922, 0.18355287611484528, 0.27966607610384625, 0.37193040053049725, 0.42370033264160156, 0.4642218351364136, 0.4904049336910248, 0.5065864324569702]]\n"
     ]
    },
    {
     "name": "stderr",
     "output_type": "stream",
     "text": [
      "../plot_helper.py:120: UserWarning: marker is redundantly defined by the 'marker' keyword argument and the fmt string \"o\" (-> marker='o'). The keyword argument will take precedence.\n",
      "  label=legend_vals[i] if legend_vals is not None else \"\")\n"
     ]
    },
    {
     "data": {
      "image/png": "[encoded data removed]",
      "text/plain": [
       "<Figure size 500x300 with 1 Axes>"
      ]
     },
     "metadata": {},
     "output_type": "display_data"
    },
    {
     "name": "stdout",
     "output_type": "stream",
     "text": [
      "Uploading results in ['results/archs_loss_datasets/efficient_representations'] to contact.mpi-sws.org...\n",
      "Uploading 8 files to server\n",
      "copying results/archs_loss_datasets/efficient_representations/resnet50-resnet50_mrl-resnet50_ff2048_cifar10_mrl0_nonrob.png to /home/vnanda/public_html/results/partially_inverted_reps/archs_loss_datasets/efficient_representations/resnet50-resnet50_mrl-resnet50_ff2048_cifar10_mrl0_nonrob.png\n",
      "copying results/archs_loss_datasets/efficient_representations/resnet50-resnet50_mrl-resnet50_ff2048_flowers_mrl0_nonrob.png to /home/vnanda/public_html/results/partially_inverted_reps/archs_loss_datasets/efficient_representations/resnet50-resnet50_mrl-resnet50_ff2048_flowers_mrl0_nonrob.png\n",
      "copying results/archs_loss_datasets/efficient_representations/resnet50-resnet50_mrl_cifar100_nonrob.png to /home/vnanda/public_html/results/partially_inverted_reps/archs_loss_datasets/efficient_representations/resnet50-resnet50_mrl_cifar100_nonrob.png\n",
      "copying results/archs_loss_datasets/efficient_representations/resnet50-resnet50_mrl_flowers_nonrob.png to /home/vnanda/public_html/results/partially_inverted_reps/archs_loss_datasets/efficient_representations/resnet50-resnet50_mrl_flowers_nonrob.png\n",
      "copying results/archs_loss_datasets/efficient_representations/resnet50-resnet50_mrl_oxford-iiit-pets_nonrob.png to /home/vnanda/public_html/results/partially_inverted_reps/archs_loss_datasets/efficient_representations/resnet50-resnet50_mrl_oxford-iiit-pets_nonrob.png\n",
      "copying results/archs_loss_datasets/efficient_representations/resnet50-resnet50_mrl-resnet50_ff2048_oxford-iiit-pets_mrl0_nonrob.png to /home/vnanda/public_html/results/partially_inverted_reps/archs_loss_datasets/efficient_representations/resnet50-resnet50_mrl-resnet50_ff2048_oxford-iiit-pets_mrl0_nonrob.png\n",
      "copying results/archs_loss_datasets/efficient_representations/resnet50-resnet50_mrl-resnet50_ff2048_cifar100_mrl0_nonrob.png to /home/vnanda/public_html/results/partially_inverted_reps/archs_loss_datasets/efficient_representations/resnet50-resnet50_mrl-resnet50_ff2048_cifar100_mrl0_nonrob.png\n",
      "copying results/archs_loss_datasets/efficient_representations/resnet50-resnet50_mrl_cifar10_nonrob.png to /home/vnanda/public_html/results/partially_inverted_reps/archs_loss_datasets/efficient_representations/resnet50-resnet50_mrl_cifar10_nonrob.png\n",
      "resnet50-nonrob-imagenet-random\n",
      "0.0005: 5\n",
      "0.001: 5\n",
      "0.002: 5\n",
      "0.003: 5\n",
      "0.004: 5\n",
      "0.005: 5\n",
      "0.01: 5\n",
      "0.05: 5\n",
      "0.1: 5\n",
      "0.2: 5\n",
      "0.3: 5\n",
      "0.5: 5\n",
      "0.8: 5\n",
      "0.9: 5\n",
      "1.0: 1\n",
      "resnet50-nonrob-imagenet-first\n",
      "0.0005: 0\n",
      "0.001: 0\n",
      "0.002: 0\n",
      "0.003: 0\n",
      "0.004: 0\n",
      "0.005: 0\n",
      "0.01: 0\n",
      "0.05: 0\n",
      "0.1: 0\n",
      "0.2: 0\n",
      "0.3: 0\n",
      "0.5: 0\n",
      "0.8: 0\n",
      "0.9: 0\n",
      "1.0: 0\n",
      "resnet50-robustl2eps3-imagenet-random\n",
      "0.0005: 5\n",
      "0.001: 5\n",
      "0.002: 5\n",
      "0.003: 5\n",
      "0.004: 5\n",
      "0.005: 5\n",
      "0.01: 5\n",
      "0.05: 5\n",
      "0.1: 5\n",
      "0.2: 5\n",
      "0.3: 5\n",
      "0.5: 5\n",
      "0.8: 5\n",
      "0.9: 5\n",
      "1.0: 1\n",
      "resnet50-robustl2eps3-imagenet-first\n",
      "0.0005: 0\n",
      "0.001: 0\n",
      "0.002: 0\n",
      "0.003: 0\n",
      "0.004: 0\n",
      "0.005: 0\n",
      "0.01: 0\n",
      "0.05: 0\n",
      "0.1: 0\n",
      "0.2: 0\n",
      "0.3: 0\n",
      "0.5: 0\n",
      "0.8: 0\n",
      "0.9: 0\n",
      "1.0: 0\n",
      "resnet50_mrl-nonrob-imagenet-random\n",
      "8: 5\n",
      "16: 5\n",
      "32: 5\n",
      "64: 5\n",
      "128: 5\n",
      "256: 5\n",
      "512: 5\n",
      "1024: 5\n",
      "2048: 1\n",
      "resnet50_mrl-nonrob-imagenet-first\n",
      "8: 3\n",
      "16: 2\n",
      "32: 2\n",
      "64: 2\n",
      "128: 2\n",
      "256: 2\n",
      "512: 2\n",
      "1024: 2\n",
      "2048: 1\n",
      "[[0.0005, 0.001, 0.002, 0.003, 0.004, 0.005, 0.01, 0.05, 0.1, 0.2, 0.3, 0.5, 0.8, 0.9, 1.0], [0.0005, 0.001, 0.002, 0.003, 0.004, 0.005, 0.01, 0.05, 0.1, 0.2, 0.3, 0.5, 0.8, 0.9, 1.0], [0.00390625, 0.0078125, 0.015625, 0.03125, 0.0625, 0.125, 0.25, 0.5, 1.0], [0.00390625, 0.0078125, 0.015625, 0.03125, 0.0625, 0.125, 0.25, 0.5, 1.0]] [[0.038103025406599045, 0.03521395437419415, 0.04666121639311314, 0.07762333005666733, 0.09174161851406097, 0.12968111038208008, 0.2293813019990921, 0.6634505391120911, 0.8272008895874023, 0.8811120390892029, 0.900463342666626, 0.9107113599777221, 0.9212864518165589, 0.9223221659660339, 0.9250476956367493], [0.04170073643326759, 0.05821749866008759, 0.08863450437784196, 0.1336058869957924, 0.17138184905052184, 0.20179885923862456, 0.3496865689754486, 0.721395468711853, 0.7830471515655517, 0.8175524592399597, 0.8268738031387329, 0.8323248744010925, 0.834232759475708, 0.8352139472961426, 0.8351049423217773], [0.1545925334095955, 0.30275278985500337, 0.4893431425094604, 0.7110929489135742, 0.8282365798950195, 0.8697192668914795, 0.8892886281013489, 0.9017170906066895, 0.902698278427124], [0.771509051322937, 0.8393295109272003, 0.8697192668914795, 0.8817116618156433, 0.8973834812641144, 0.8992913365364075, 0.9005178511142731, 0.904469907283783, 0.9018806219100952]]\n"
     ]
    },
    {
     "name": "stderr",
     "output_type": "stream",
     "text": [
      "../plot_helper.py:120: UserWarning: marker is redundantly defined by the 'marker' keyword argument and the fmt string \"o\" (-> marker='o'). The keyword argument will take precedence.\n",
      "  label=legend_vals[i] if legend_vals is not None else \"\")\n"
     ]
    },
    {
     "data": {
      "image/png": "[encoded data removed]",
      "text/plain": [
       "<Figure size 500x300 with 1 Axes>"
      ]
     },
     "metadata": {},
     "output_type": "display_data"
    },
    {
     "name": "stdout",
     "output_type": "stream",
     "text": [
      "Uploading results in ['results/archs_loss_datasets/efficient_representations'] to contact.mpi-sws.org...\n",
      "Uploading 8 files to server\n",
      "copying results/archs_loss_datasets/efficient_representations/resnet50-resnet50_mrl-resnet50_ff2048_cifar10_mrl0_nonrob.png to /home/vnanda/public_html/results/partially_inverted_reps/archs_loss_datasets/efficient_representations/resnet50-resnet50_mrl-resnet50_ff2048_cifar10_mrl0_nonrob.png\n",
      "copying results/archs_loss_datasets/efficient_representations/resnet50-resnet50_mrl-resnet50_ff2048_flowers_mrl0_nonrob.png to /home/vnanda/public_html/results/partially_inverted_reps/archs_loss_datasets/efficient_representations/resnet50-resnet50_mrl-resnet50_ff2048_flowers_mrl0_nonrob.png\n",
      "copying results/archs_loss_datasets/efficient_representations/resnet50-resnet50_mrl_cifar100_nonrob.png to /home/vnanda/public_html/results/partially_inverted_reps/archs_loss_datasets/efficient_representations/resnet50-resnet50_mrl_cifar100_nonrob.png\n",
      "copying results/archs_loss_datasets/efficient_representations/resnet50-resnet50_mrl_flowers_nonrob.png to /home/vnanda/public_html/results/partially_inverted_reps/archs_loss_datasets/efficient_representations/resnet50-resnet50_mrl_flowers_nonrob.png\n",
      "copying results/archs_loss_datasets/efficient_representations/resnet50-resnet50_mrl_oxford-iiit-pets_nonrob.png to /home/vnanda/public_html/results/partially_inverted_reps/archs_loss_datasets/efficient_representations/resnet50-resnet50_mrl_oxford-iiit-pets_nonrob.png\n",
      "copying results/archs_loss_datasets/efficient_representations/resnet50-resnet50_mrl-resnet50_ff2048_oxford-iiit-pets_mrl0_nonrob.png to /home/vnanda/public_html/results/partially_inverted_reps/archs_loss_datasets/efficient_representations/resnet50-resnet50_mrl-resnet50_ff2048_oxford-iiit-pets_mrl0_nonrob.png\n",
      "copying results/archs_loss_datasets/efficient_representations/resnet50-resnet50_mrl-resnet50_ff2048_cifar100_mrl0_nonrob.png to /home/vnanda/public_html/results/partially_inverted_reps/archs_loss_datasets/efficient_representations/resnet50-resnet50_mrl-resnet50_ff2048_cifar100_mrl0_nonrob.png\n",
      "copying results/archs_loss_datasets/efficient_representations/resnet50-resnet50_mrl_cifar10_nonrob.png to /home/vnanda/public_html/results/partially_inverted_reps/archs_loss_datasets/efficient_representations/resnet50-resnet50_mrl_cifar10_nonrob.png\n"
     ]
    }
   ],
   "source": [
    "SOURCE_DATASETS = ['imagenet']\n",
    "MODELS = ['resnet50', 'resnet50_mrl']\n",
    "FINETUNE_MODES = ['random', 'first']\n",
    "FRACTIONS_OR_NUMBERS = [None, [8,16,32,64,128,256,512,1024,2048]]\n",
    "ANALYSIS_TYPE = 'efficient_representations'\n",
    "\n",
    "for FT_DATASET in ['cifar10','cifar100','flowers','oxford-iiit-pets']:\n",
    "    results(MODELS, SOURCE_DATASETS, FINETUNE_MODES, FT_DATASET, FRACTIONS_OR_NUMBERS, ANALYSIS_TYPE)"
   ]
  },
  {
   "cell_type": "code",
   "execution_count": null,
   "id": "8c062b60",
   "metadata": {},
   "outputs": [],
   "source": []
  }
 ],
 "metadata": {
  "kernelspec": {
   "display_name": "Python 3 (ipykernel)",
   "language": "python",
   "name": "python3"
  },
  "language_info": {
   "codemirror_mode": {
    "name": "ipython",
    "version": 3
   },
   "file_extension": ".py",
   "mimetype": "text/x-python",
   "name": "python",
   "nbconvert_exporter": "python",
   "pygments_lexer": "ipython3",
   "version": "3.7.9"
  }
 },
 "nbformat": 4,
 "nbformat_minor": 5
}
