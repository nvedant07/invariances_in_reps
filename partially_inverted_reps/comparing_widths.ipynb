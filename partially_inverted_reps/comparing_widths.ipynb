{
 "cells": [
  {
   "cell_type": "code",
   "execution_count": 7,
   "id": "6df5c715",
   "metadata": {},
   "outputs": [],
   "source": [
    "import os\n",
    "os.environ['CUDA_VISIBLE_DEVICES'] = '3'\n",
    "\n",
    "from pytorch_lightning import utilities as pl_utils\n",
    "from pytorch_lightning.trainer.trainer import Trainer\n",
    "from pytorch_lightning.plugins import DDPPlugin\n",
    "import torch\n",
    "import pathlib\n",
    "from functools import partial\n",
    "import sys, glob\n",
    "import numpy as np\n",
    "\n",
    "sys.path.append('..')\n",
    "sys.path.append('../deep-learning-base')\n",
    "sys.path.append('../deep-learning-base/training')\n",
    "sys.path.append('../partially_inverted_reps')\n",
    "\n",
    "import plot_helper as plt_hp\n",
    "import output as out\n",
    "from training import LitProgressBar, NicerModelCheckpointing\n",
    "import training.finetuning as ft\n",
    "import architectures as arch\n",
    "from architectures.callbacks import LightningWrapper, LinearEvalWrapper\n",
    "from attack.callbacks import AdvCallback\n",
    "from datasets.data_modules import DATA_MODULES\n",
    "import datasets.dataset_metadata as dsmd\n",
    "from partial_loss import PartialInversionLoss, PartialInversionRegularizedLoss\n",
    "from __init__ import DATA_PATH_IMAGENET, DATA_PATH, SERVER_PROJECT_PATH"
   ]
  },
  {
   "cell_type": "code",
   "execution_count": 8,
   "id": "5495b002",
   "metadata": {},
   "outputs": [],
   "source": [
    "CHECKPOINT_PATHS = {\n",
    "    'resnet50': {\n",
    "        'nonrob': '',\n",
    "        'robustl2eps3': '/NS/robustness_3/work/vnanda/adv-robustness/logs/'\\\n",
    "                        'robust_imagenet/eps3/resnet-50-l2-eps3.ckpt'},\n",
    "    'resnet50_ff8': {\n",
    "        'nonrob': '/NS/robustness_2/work/vnanda/invariances_in_reps/deep-learning-base/'\\\n",
    "                  'checkpoints/imagenet1k/r50_mrl0_e0_ff8.pt'},\n",
    "    'resnet50_ff16': {\n",
    "        'nonrob': '/NS/robustness_2/work/vnanda/invariances_in_reps/deep-learning-base/'\\\n",
    "                  'checkpoints/imagenet1k/r50_mrl0_e0_ff16.pt'},\n",
    "    'resnet50_ff32': {\n",
    "        'nonrob': '/NS/robustness_2/work/vnanda/invariances_in_reps/deep-learning-base/'\\\n",
    "                  'checkpoints/imagenet1k/r50_mrl0_e0_ff32.pt'},\n",
    "    'resnet50_ff64': {\n",
    "        'nonrob': '/NS/robustness_2/work/vnanda/invariances_in_reps/deep-learning-base/'\\\n",
    "                  'checkpoints/imagenet1k/r50_mrl0_e0_ff64.pt'},\n",
    "    'resnet50_ff128': {\n",
    "        'nonrob': '/NS/robustness_2/work/vnanda/invariances_in_reps/deep-learning-base/'\\\n",
    "                  'checkpoints/imagenet1k/r50_mrl0_e0_ff128.pt'},\n",
    "    'resnet50_ff256': {\n",
    "        'nonrob': '/NS/robustness_2/work/vnanda/invariances_in_reps/deep-learning-base/'\\\n",
    "                  'checkpoints/imagenet1k/r50_mrl0_e0_ff256.pt'},\n",
    "    'resnet50_ff512': {\n",
    "        'nonrob': '/NS/robustness_2/work/vnanda/invariances_in_reps/deep-learning-base/'\\\n",
    "                  'checkpoints/imagenet1k/r50_mrl0_e0_ff512.pt'},\n",
    "    'resnet50_ff1024': {\n",
    "        'nonrob': '/NS/robustness_2/work/vnanda/invariances_in_reps/deep-learning-base/'\\\n",
    "                  'checkpoints/imagenet1k/r50_mrl0_e0_ff1024.pt'},\n",
    "    'wide_resnet50_2': {\n",
    "        'robustl2eps3': '/NS/robustness_3/work/vnanda/adv-robustness/logs/'\\\n",
    "                        'robust_imagenet/eps3/wideresnet-50-2-l2-eps3.ckpt'},\n",
    "    'wide_resnet50_4': {\n",
    "        'robustl2eps3': '/NS/robustness_3/work/vnanda/adv-robustness/logs/'\\\n",
    "                        'robust_imagenet/eps3/wideresnet-50-4-l2-eps3.ckpt'}\n",
    "}"
   ]
  },
  {
   "cell_type": "code",
   "execution_count": 9,
   "id": "11882de5",
   "metadata": {},
   "outputs": [],
   "source": [
    "SEED = 2\n",
    "NUM_NODES = 1\n",
    "DEVICES = 1\n",
    "BASE_DIR = f\"{pathlib.Path('.').parent.resolve()}/checkpoints\"\n",
    "\n",
    "FINETUNE_MODE = 'random'\n",
    "FINETUNE_BS = 256\n",
    "EVAL_BATCH_SIZE = 100"
   ]
  },
  {
   "cell_type": "code",
   "execution_count": 10,
   "id": "47a7f7a7",
   "metadata": {},
   "outputs": [],
   "source": [
    "def save_predictions(model_path, out):\n",
    "    preds_path = f'{model_path.split(\".ckpt\")[0]}.pred'\n",
    "    torch.save({'pred': out[0].detach().cpu(), 'gt': out[2].detach().cpu()}, preds_path)\n",
    "\n",
    "def load_predictions(model_path):\n",
    "    preds_path = f'{model_path.split(\".ckpt\")[0]}.pred'\n",
    "    if os.path.exists(preds_path):\n",
    "        return torch.load(preds_path)\n",
    "\n",
    "def accuracy(gt, pred):\n",
    "    pred = torch.argmax(pred, 1)\n",
    "    return torch.sum(gt == pred) / len(gt)\n",
    "\n",
    "\n",
    "def get_test_acc(model, source_dataset, finetuning_dataset, checkpoint_path, model_path, seed, fraction):\n",
    "    state_dict = torch.load(model_path)\n",
    "    dm = DATA_MODULES[finetuning_dataset](\n",
    "        data_dir=DATA_PATH_IMAGENET if 'imagenet' in finetuning_dataset else DATA_PATH,\n",
    "        transform_train=dsmd.TRAIN_TRANSFORMS_TRANSFER_DEFAULT(224),\n",
    "        transform_test=dsmd.TEST_TRANSFORMS_DEFAULT(224),\n",
    "        batch_size=EVAL_BATCH_SIZE)\n",
    "    dm.init_remaining_attrs(source_dataset)\n",
    "\n",
    "    ## assign mean and std from source dataset\n",
    "    m1 = arch.create_model(model, source_dataset, pretrained=True,\n",
    "                           checkpoint_path=checkpoint_path, seed=SEED, \n",
    "                           num_classes=dsmd.DATASET_PARAMS[source_dataset]['num_classes'],\n",
    "                           callback=partial(LightningWrapper, \n",
    "                                            dataset_name=source_dataset,\n",
    "                                            inference_kwargs={'with_latent': True}),\n",
    "                           loading_function_kwargs={'strict': False}) # some final layers are strange\n",
    "    new_layer = ft.setup_model_for_finetuning(\n",
    "        m1.model, \n",
    "        dsmd.DATASET_PARAMS[finetuning_dataset]['num_classes'],\n",
    "        FINETUNE_MODE, fraction, seed)\n",
    "    print (new_layer.__dict__)\n",
    "    linear_layer = list(m1.model.named_modules())[-1][1]\n",
    "    linear_layer.load_state_dict({k.split('.')[-1]:v \\\n",
    "                                  for k,v in state_dict['state_dict'].items()}, strict=True)\n",
    "    if hasattr(new_layer, 'neuron_indices') and 'neuron_indices' in state_dict:\n",
    "        assert torch.all(new_layer.neuron_indices == state_dict['neuron_indices'])\n",
    "    pl_utils.seed.seed_everything(seed, workers=True)\n",
    "\n",
    "    trainer = Trainer(accelerator='gpu', \n",
    "                      devices=DEVICES,\n",
    "                      num_nodes=NUM_NODES,\n",
    "                      log_every_n_steps=1,\n",
    "                      auto_select_gpus=True, \n",
    "                      deterministic=True,\n",
    "                      check_val_every_n_epoch=1,\n",
    "                      num_sanity_val_steps=0,\n",
    "                      callbacks=[\n",
    "                        LitProgressBar(['loss', \n",
    "                                        'running_test_acc'])])\n",
    "\n",
    "    out = trainer.predict(m1, dataloaders=[dm.test_dataloader()])\n",
    "    save_predictions(model_path, out)\n",
    "    return accuracy(out[2], out[0])"
   ]
  },
  {
   "cell_type": "code",
   "execution_count": 18,
   "id": "6c14ddd0",
   "metadata": {},
   "outputs": [],
   "source": [
    "def results(models_to_compare, source_dataset, ft_ds, append, FRACTIONS_OR_NUMBERS):\n",
    "    plt_str = '== Finetuning results ==\\n\\n'\n",
    "    model_to_fracwise_accs = {}\n",
    "    for idx, model in enumerate(models_to_compare):\n",
    "        plt_str += f'=== {model} - {append} - {ft_ds} ===\\n\\n'\n",
    "        frac_wise_test_accs = {}\n",
    "        if FRACTIONS_OR_NUMBERS[idx] is None:\n",
    "            PARTIAL_FRACTIONS = sorted(\n",
    "                list(set(\n",
    "                    [float(x.split('/frac-')[1].split('-')[0]) for x in \\\n",
    "                            glob.glob(f'./checkpoints/{model}-base-'\n",
    "                                      f'{source_dataset}-ft-{ft_ds}/'\n",
    "                                      f'*-bs-256-{append}/*-topk=1.ckpt') \\\n",
    "                     if len(x.split('/frac-')[1].split('-')[0]) == 7 and \\\n",
    "                        'layer' not in x.split('/')[-1] and \\\n",
    "                        'pool' not in x.split('/')[-1] and \\\n",
    "                        'full-feature' not in x.split('/')[-1]]\n",
    "                )))\n",
    "        else:\n",
    "            PARTIAL_FRACTIONS = FRACTIONS_OR_NUMBERS[idx]\n",
    "\n",
    "        for frac in PARTIAL_FRACTIONS:\n",
    "            if isinstance(frac, int):\n",
    "                actual_fraction = frac / PARTIAL_FRACTIONS[-1]\n",
    "            else:\n",
    "                actual_fraction = frac\n",
    "            model_paths = [x for x in glob.glob(f'{BASE_DIR}/{model}-base-{source_dataset}-ft-{ft_ds}/'\n",
    "                                           f'frac-{actual_fraction:.5f}-mode-{FINETUNE_MODE}-seed-*-'\n",
    "                                           f'ftmode-linear-lr-*-bs*-{append}/'\n",
    "                                           '*-topk=1.ckpt') \\\n",
    "                           if 'layer' not in x.split('/')[-1] and \\\n",
    "                              'pool' not in x.split('/')[-1] and \\\n",
    "                              'full-feature' not in x.split('/')[-1]]\n",
    "            for path in model_paths:\n",
    "                pickled_preds = load_predictions(path)\n",
    "                if pickled_preds is None:\n",
    "                    acc = get_test_acc(model, source_dataset, ft_ds, \n",
    "                                       CHECKPOINT_PATHS[model][append], path, \n",
    "                                       int(path.split('-seed-')[1].split('-')[0]), actual_fraction).item()\n",
    "                else:\n",
    "                    acc = accuracy(pickled_preds['gt'], pickled_preds['pred'])\n",
    "                \n",
    "                if actual_fraction in frac_wise_test_accs:\n",
    "                    frac_wise_test_accs[actual_fraction].append(acc)\n",
    "                else:\n",
    "                    frac_wise_test_accs[actual_fraction] = [acc]\n",
    "        model_to_fracwise_accs[model] = frac_wise_test_accs\n",
    "\n",
    "    x_vals = [sorted(list(model_to_fracwise_accs[model].keys())) for model in models_to_compare]\n",
    "    plt_str += '{}\\n\\n'.format(plt_hp.get_wiki_link(plt_hp.line_plot(\n",
    "        [[np.nanmean(model_to_fracwise_accs[model][f]) for f in sorted(model_to_fracwise_accs[model].keys())] \\\n",
    "             for model in models_to_compare], \n",
    "        'Fraction of neurons', 'Transfer Accuracy', ft_ds, \n",
    "        subfolder=source_dataset, \n",
    "        filename=f'{\"-\".join(models_to_compare)}_{ft_ds}_bs_{FINETUNE_BS}_{append}', \n",
    "        extension='png', x_vals=x_vals, \n",
    "        legend_vals=[m for m in models_to_compare], \n",
    "        vertical_line=None, colors=plt_hp.COLORS, \n",
    "        linestyles=['-'] * len(models_to_compare), \n",
    "        y_lims=(0.,1.), root_dir='.', paper_friendly_plots=True, \n",
    "        plot_inside=False, legend_location='best', savefig=True, \n",
    "        figsize=(10,6), marker=[True] * len(models_to_compare), \n",
    "        results_subfolder_name='width_comparison', grid_spacing=None, \n",
    "        y_err=[[np.nanstd(model_to_fracwise_accs[model][f]) \\\n",
    "                for f in sorted(model_to_fracwise_accs[model].keys())] for model in models_to_compare], \n",
    "        legend_ncol=3), SERVER_PROJECT_PATH, size=700))\n",
    "\n",
    "    with open(f'./results/width_comparison/{source_dataset}/wiki_results-{model}.txt', 'w') as fp:\n",
    "        fp.write(plt_str)\n",
    "    out.upload_results(['{}/{}/{}'.format(plt_hp.RESULTS_FOLDER_NAME, 'width_comparison', source_dataset)], \n",
    "        'results', SERVER_PROJECT_PATH, '.png')"
   ]
  },
  {
   "cell_type": "code",
   "execution_count": null,
   "id": "7dded8bf",
   "metadata": {
    "scrolled": true
   },
   "outputs": [
    {
     "name": "stderr",
     "output_type": "stream",
     "text": [
      "Global seed set to 2\n",
      "No pretrained weights exist or were found for this model. Using random initialization.\n",
      "Global seed set to 2\n",
      "GPU available: True, used: True\n",
      "TPU available: False, using: 0 TPU cores\n",
      "IPU available: False, using: 0 IPUs\n",
      "Global seed set to 0\n"
     ]
    },
    {
     "name": "stdout",
     "output_type": "stream",
     "text": [
      "{'training': True, '_parameters': OrderedDict(), '_buffers': OrderedDict(), '_non_persistent_buffers_set': set(), '_backward_hooks': OrderedDict(), '_is_full_backward_hook': None, '_forward_hooks': OrderedDict(), '_forward_pre_hooks': OrderedDict(), '_state_dict_hooks': OrderedDict(), '_load_state_dict_pre_hooks': OrderedDict(), '_load_state_dict_post_hooks': OrderedDict(), '_modules': OrderedDict([('linear', Linear(in_features=4, out_features=10, bias=True))]), 'neuron_indices': tensor([ 168,  361,  293, 1002]), 'in_features': 4, 'out_features': 10}\n"
     ]
    },
    {
     "name": "stderr",
     "output_type": "stream",
     "text": [
      "LOCAL_RANK: 0 - CUDA_VISIBLE_DEVICES: [3]\n"
     ]
    },
    {
     "data": {
      "application/vnd.jupyter.widget-view+json": {
       "model_id": "2b7c4cf6135043cea37fa14398472c56",
       "version_major": 2,
       "version_minor": 0
      },
      "text/plain": [
       "Predicting: 0it [00:00, ?it/s]"
      ]
     },
     "metadata": {},
     "output_type": "display_data"
    },
    {
     "name": "stderr",
     "output_type": "stream",
     "text": [
      "Global seed set to 2\n",
      "No pretrained weights exist or were found for this model. Using random initialization.\n",
      "Global seed set to 5\n",
      "GPU available: True, used: True\n",
      "TPU available: False, using: 0 TPU cores\n",
      "IPU available: False, using: 0 IPUs\n",
      "Global seed set to 0\n"
     ]
    },
    {
     "name": "stdout",
     "output_type": "stream",
     "text": [
      "{'training': True, '_parameters': OrderedDict(), '_buffers': OrderedDict(), '_non_persistent_buffers_set': set(), '_backward_hooks': OrderedDict(), '_is_full_backward_hook': None, '_forward_hooks': OrderedDict(), '_forward_pre_hooks': OrderedDict(), '_state_dict_hooks': OrderedDict(), '_load_state_dict_pre_hooks': OrderedDict(), '_load_state_dict_post_hooks': OrderedDict(), '_modules': OrderedDict([('linear', Linear(in_features=4, out_features=10, bias=True))]), 'neuron_indices': tensor([ 867,  451, 1005,   61]), 'in_features': 4, 'out_features': 10}\n"
     ]
    },
    {
     "name": "stderr",
     "output_type": "stream",
     "text": [
      "LOCAL_RANK: 0 - CUDA_VISIBLE_DEVICES: [3]\n"
     ]
    },
    {
     "data": {
      "application/vnd.jupyter.widget-view+json": {
       "model_id": "5295e8a5e6d54f2084f94fe323b42fee",
       "version_major": 2,
       "version_minor": 0
      },
      "text/plain": [
       "Predicting: 0it [00:00, ?it/s]"
      ]
     },
     "metadata": {},
     "output_type": "display_data"
    },
    {
     "name": "stderr",
     "output_type": "stream",
     "text": [
      "Global seed set to 2\n",
      "No pretrained weights exist or were found for this model. Using random initialization.\n",
      "Global seed set to 1\n",
      "GPU available: True, used: True\n",
      "TPU available: False, using: 0 TPU cores\n",
      "IPU available: False, using: 0 IPUs\n",
      "Global seed set to 0\n"
     ]
    },
    {
     "name": "stdout",
     "output_type": "stream",
     "text": [
      "{'training': True, '_parameters': OrderedDict(), '_buffers': OrderedDict(), '_non_persistent_buffers_set': set(), '_backward_hooks': OrderedDict(), '_is_full_backward_hook': None, '_forward_hooks': OrderedDict(), '_forward_pre_hooks': OrderedDict(), '_state_dict_hooks': OrderedDict(), '_load_state_dict_pre_hooks': OrderedDict(), '_load_state_dict_post_hooks': OrderedDict(), '_modules': OrderedDict([('linear', Linear(in_features=4, out_features=10, bias=True))]), 'neuron_indices': tensor([ 37, 708, 342,   9]), 'in_features': 4, 'out_features': 10}\n"
     ]
    },
    {
     "name": "stderr",
     "output_type": "stream",
     "text": [
      "LOCAL_RANK: 0 - CUDA_VISIBLE_DEVICES: [3]\n"
     ]
    },
    {
     "data": {
      "application/vnd.jupyter.widget-view+json": {
       "model_id": "0377163c247044e19c10456da1d6c0b9",
       "version_major": 2,
       "version_minor": 0
      },
      "text/plain": [
       "Predicting: 0it [00:00, ?it/s]"
      ]
     },
     "metadata": {},
     "output_type": "display_data"
    },
    {
     "name": "stderr",
     "output_type": "stream",
     "text": [
      "Global seed set to 2\n",
      "No pretrained weights exist or were found for this model. Using random initialization.\n",
      "Global seed set to 4\n",
      "GPU available: True, used: True\n",
      "TPU available: False, using: 0 TPU cores\n",
      "IPU available: False, using: 0 IPUs\n",
      "Global seed set to 0\n"
     ]
    },
    {
     "name": "stdout",
     "output_type": "stream",
     "text": [
      "{'training': True, '_parameters': OrderedDict(), '_buffers': OrderedDict(), '_non_persistent_buffers_set': set(), '_backward_hooks': OrderedDict(), '_is_full_backward_hook': None, '_forward_hooks': OrderedDict(), '_forward_pre_hooks': OrderedDict(), '_state_dict_hooks': OrderedDict(), '_load_state_dict_pre_hooks': OrderedDict(), '_load_state_dict_post_hooks': OrderedDict(), '_modules': OrderedDict([('linear', Linear(in_features=4, out_features=10, bias=True))]), 'neuron_indices': tensor([122, 739, 133,  11]), 'in_features': 4, 'out_features': 10}\n"
     ]
    },
    {
     "name": "stderr",
     "output_type": "stream",
     "text": [
      "LOCAL_RANK: 0 - CUDA_VISIBLE_DEVICES: [3]\n"
     ]
    },
    {
     "data": {
      "application/vnd.jupyter.widget-view+json": {
       "model_id": "18cb8aa345ea454e969fe2a9bbbbdfc4",
       "version_major": 2,
       "version_minor": 0
      },
      "text/plain": [
       "Predicting: 0it [00:00, ?it/s]"
      ]
     },
     "metadata": {},
     "output_type": "display_data"
    },
    {
     "name": "stderr",
     "output_type": "stream",
     "text": [
      "Global seed set to 2\n",
      "No pretrained weights exist or were found for this model. Using random initialization.\n",
      "Global seed set to 3\n",
      "GPU available: True, used: True\n",
      "TPU available: False, using: 0 TPU cores\n",
      "IPU available: False, using: 0 IPUs\n",
      "Global seed set to 0\n"
     ]
    },
    {
     "name": "stdout",
     "output_type": "stream",
     "text": [
      "{'training': True, '_parameters': OrderedDict(), '_buffers': OrderedDict(), '_non_persistent_buffers_set': set(), '_backward_hooks': OrderedDict(), '_is_full_backward_hook': None, '_forward_hooks': OrderedDict(), '_forward_pre_hooks': OrderedDict(), '_state_dict_hooks': OrderedDict(), '_load_state_dict_pre_hooks': OrderedDict(), '_load_state_dict_post_hooks': OrderedDict(), '_modules': OrderedDict([('linear', Linear(in_features=4, out_features=10, bias=True))]), 'neuron_indices': tensor([874, 636, 761, 257]), 'in_features': 4, 'out_features': 10}\n"
     ]
    },
    {
     "name": "stderr",
     "output_type": "stream",
     "text": [
      "LOCAL_RANK: 0 - CUDA_VISIBLE_DEVICES: [3]\n"
     ]
    },
    {
     "data": {
      "application/vnd.jupyter.widget-view+json": {
       "model_id": "c62e77ea032048f7a78af838d94f7b2b",
       "version_major": 2,
       "version_minor": 0
      },
      "text/plain": [
       "Predicting: 0it [00:00, ?it/s]"
      ]
     },
     "metadata": {},
     "output_type": "display_data"
    },
    {
     "name": "stderr",
     "output_type": "stream",
     "text": [
      "Global seed set to 2\n",
      "No pretrained weights exist or were found for this model. Using random initialization.\n",
      "Global seed set to 3\n",
      "GPU available: True, used: True\n",
      "TPU available: False, using: 0 TPU cores\n",
      "IPU available: False, using: 0 IPUs\n",
      "Global seed set to 0\n"
     ]
    },
    {
     "name": "stdout",
     "output_type": "stream",
     "text": [
      "{'training': True, '_parameters': OrderedDict(), '_buffers': OrderedDict(), '_non_persistent_buffers_set': set(), '_backward_hooks': OrderedDict(), '_is_full_backward_hook': None, '_forward_hooks': OrderedDict(), '_forward_pre_hooks': OrderedDict(), '_state_dict_hooks': OrderedDict(), '_load_state_dict_pre_hooks': OrderedDict(), '_load_state_dict_post_hooks': OrderedDict(), '_modules': OrderedDict([('linear', Linear(in_features=8, out_features=10, bias=True))]), 'neuron_indices': tensor([874, 636, 761, 257, 824, 970, 354, 432]), 'in_features': 8, 'out_features': 10}\n"
     ]
    },
    {
     "name": "stderr",
     "output_type": "stream",
     "text": [
      "LOCAL_RANK: 0 - CUDA_VISIBLE_DEVICES: [3]\n"
     ]
    },
    {
     "data": {
      "application/vnd.jupyter.widget-view+json": {
       "model_id": "64f37bc30cd34af9933448c926558c4a",
       "version_major": 2,
       "version_minor": 0
      },
      "text/plain": [
       "Predicting: 0it [00:00, ?it/s]"
      ]
     },
     "metadata": {},
     "output_type": "display_data"
    },
    {
     "name": "stderr",
     "output_type": "stream",
     "text": [
      "Global seed set to 2\n",
      "No pretrained weights exist or were found for this model. Using random initialization.\n",
      "Global seed set to 4\n",
      "GPU available: True, used: True\n",
      "TPU available: False, using: 0 TPU cores\n",
      "IPU available: False, using: 0 IPUs\n",
      "Global seed set to 0\n"
     ]
    },
    {
     "name": "stdout",
     "output_type": "stream",
     "text": [
      "{'training': True, '_parameters': OrderedDict(), '_buffers': OrderedDict(), '_non_persistent_buffers_set': set(), '_backward_hooks': OrderedDict(), '_is_full_backward_hook': None, '_forward_hooks': OrderedDict(), '_forward_pre_hooks': OrderedDict(), '_state_dict_hooks': OrderedDict(), '_load_state_dict_pre_hooks': OrderedDict(), '_load_state_dict_post_hooks': OrderedDict(), '_modules': OrderedDict([('linear', Linear(in_features=8, out_features=10, bias=True))]), 'neuron_indices': tensor([122, 739, 133,  11, 853, 464, 457, 929]), 'in_features': 8, 'out_features': 10}\n"
     ]
    },
    {
     "name": "stderr",
     "output_type": "stream",
     "text": [
      "LOCAL_RANK: 0 - CUDA_VISIBLE_DEVICES: [3]\n"
     ]
    },
    {
     "data": {
      "application/vnd.jupyter.widget-view+json": {
       "model_id": "887b96a3c5404bb189ea6c6211b33de6",
       "version_major": 2,
       "version_minor": 0
      },
      "text/plain": [
       "Predicting: 0it [00:00, ?it/s]"
      ]
     },
     "metadata": {},
     "output_type": "display_data"
    },
    {
     "name": "stderr",
     "output_type": "stream",
     "text": [
      "Global seed set to 2\n",
      "No pretrained weights exist or were found for this model. Using random initialization.\n",
      "Global seed set to 1\n",
      "GPU available: True, used: True\n",
      "TPU available: False, using: 0 TPU cores\n",
      "IPU available: False, using: 0 IPUs\n",
      "Global seed set to 0\n"
     ]
    },
    {
     "name": "stdout",
     "output_type": "stream",
     "text": [
      "{'training': True, '_parameters': OrderedDict(), '_buffers': OrderedDict(), '_non_persistent_buffers_set': set(), '_backward_hooks': OrderedDict(), '_is_full_backward_hook': None, '_forward_hooks': OrderedDict(), '_forward_pre_hooks': OrderedDict(), '_state_dict_hooks': OrderedDict(), '_load_state_dict_pre_hooks': OrderedDict(), '_load_state_dict_post_hooks': OrderedDict(), '_modules': OrderedDict([('linear', Linear(in_features=8, out_features=10, bias=True))]), 'neuron_indices': tensor([ 37, 708, 342,   9, 647, 767, 633, 291]), 'in_features': 8, 'out_features': 10}\n"
     ]
    },
    {
     "name": "stderr",
     "output_type": "stream",
     "text": [
      "LOCAL_RANK: 0 - CUDA_VISIBLE_DEVICES: [3]\n"
     ]
    },
    {
     "data": {
      "application/vnd.jupyter.widget-view+json": {
       "model_id": "e5ac801cc5b94003bc63fe79943474cf",
       "version_major": 2,
       "version_minor": 0
      },
      "text/plain": [
       "Predicting: 0it [00:00, ?it/s]"
      ]
     },
     "metadata": {},
     "output_type": "display_data"
    },
    {
     "name": "stderr",
     "output_type": "stream",
     "text": [
      "Global seed set to 2\n",
      "No pretrained weights exist or were found for this model. Using random initialization.\n",
      "Global seed set to 5\n",
      "GPU available: True, used: True\n",
      "TPU available: False, using: 0 TPU cores\n",
      "IPU available: False, using: 0 IPUs\n",
      "Global seed set to 0\n"
     ]
    },
    {
     "name": "stdout",
     "output_type": "stream",
     "text": [
      "{'training': True, '_parameters': OrderedDict(), '_buffers': OrderedDict(), '_non_persistent_buffers_set': set(), '_backward_hooks': OrderedDict(), '_is_full_backward_hook': None, '_forward_hooks': OrderedDict(), '_forward_pre_hooks': OrderedDict(), '_state_dict_hooks': OrderedDict(), '_load_state_dict_pre_hooks': OrderedDict(), '_load_state_dict_post_hooks': OrderedDict(), '_modules': OrderedDict([('linear', Linear(in_features=8, out_features=10, bias=True))]), 'neuron_indices': tensor([ 867,  451, 1005,   61,  150, 1023,  242,   18]), 'in_features': 8, 'out_features': 10}\n"
     ]
    },
    {
     "name": "stderr",
     "output_type": "stream",
     "text": [
      "LOCAL_RANK: 0 - CUDA_VISIBLE_DEVICES: [3]\n"
     ]
    },
    {
     "data": {
      "application/vnd.jupyter.widget-view+json": {
       "model_id": "5384091133b84feeb349eaa96871ed4f",
       "version_major": 2,
       "version_minor": 0
      },
      "text/plain": [
       "Predicting: 0it [00:00, ?it/s]"
      ]
     },
     "metadata": {},
     "output_type": "display_data"
    },
    {
     "name": "stderr",
     "output_type": "stream",
     "text": [
      "Global seed set to 2\n",
      "No pretrained weights exist or were found for this model. Using random initialization.\n",
      "Global seed set to 2\n",
      "GPU available: True, used: True\n",
      "TPU available: False, using: 0 TPU cores\n",
      "IPU available: False, using: 0 IPUs\n",
      "Global seed set to 0\n"
     ]
    },
    {
     "name": "stdout",
     "output_type": "stream",
     "text": [
      "{'training': True, '_parameters': OrderedDict(), '_buffers': OrderedDict(), '_non_persistent_buffers_set': set(), '_backward_hooks': OrderedDict(), '_is_full_backward_hook': None, '_forward_hooks': OrderedDict(), '_forward_pre_hooks': OrderedDict(), '_state_dict_hooks': OrderedDict(), '_load_state_dict_pre_hooks': OrderedDict(), '_load_state_dict_post_hooks': OrderedDict(), '_modules': OrderedDict([('linear', Linear(in_features=8, out_features=10, bias=True))]), 'neuron_indices': tensor([ 168,  361,  293, 1002,  522,   59, 1018,  479]), 'in_features': 8, 'out_features': 10}\n"
     ]
    },
    {
     "name": "stderr",
     "output_type": "stream",
     "text": [
      "LOCAL_RANK: 0 - CUDA_VISIBLE_DEVICES: [3]\n"
     ]
    },
    {
     "data": {
      "application/vnd.jupyter.widget-view+json": {
       "model_id": "f08e92952aac41998a6bb423e12104b7",
       "version_major": 2,
       "version_minor": 0
      },
      "text/plain": [
       "Predicting: 0it [00:00, ?it/s]"
      ]
     },
     "metadata": {},
     "output_type": "display_data"
    },
    {
     "name": "stderr",
     "output_type": "stream",
     "text": [
      "Global seed set to 2\n",
      "No pretrained weights exist or were found for this model. Using random initialization.\n",
      "Global seed set to 4\n",
      "GPU available: True, used: True\n",
      "TPU available: False, using: 0 TPU cores\n",
      "IPU available: False, using: 0 IPUs\n",
      "Global seed set to 0\n"
     ]
    },
    {
     "name": "stdout",
     "output_type": "stream",
     "text": [
      "{'training': True, '_parameters': OrderedDict(), '_buffers': OrderedDict(), '_non_persistent_buffers_set': set(), '_backward_hooks': OrderedDict(), '_is_full_backward_hook': None, '_forward_hooks': OrderedDict(), '_forward_pre_hooks': OrderedDict(), '_state_dict_hooks': OrderedDict(), '_load_state_dict_pre_hooks': OrderedDict(), '_load_state_dict_post_hooks': OrderedDict(), '_modules': OrderedDict([('linear', Linear(in_features=16, out_features=10, bias=True))]), 'neuron_indices': tensor([122, 739, 133,  11, 853, 464, 457, 929,  10,  30, 386, 789, 715, 332,\n",
      "        834, 687]), 'in_features': 16, 'out_features': 10}\n"
     ]
    },
    {
     "name": "stderr",
     "output_type": "stream",
     "text": [
      "LOCAL_RANK: 0 - CUDA_VISIBLE_DEVICES: [3]\n"
     ]
    },
    {
     "data": {
      "application/vnd.jupyter.widget-view+json": {
       "model_id": "0697f87eebea4b7695525673736c387f",
       "version_major": 2,
       "version_minor": 0
      },
      "text/plain": [
       "Predicting: 0it [00:00, ?it/s]"
      ]
     },
     "metadata": {},
     "output_type": "display_data"
    },
    {
     "name": "stderr",
     "output_type": "stream",
     "text": [
      "Global seed set to 2\n",
      "No pretrained weights exist or were found for this model. Using random initialization.\n",
      "Global seed set to 3\n",
      "GPU available: True, used: True\n",
      "TPU available: False, using: 0 TPU cores\n",
      "IPU available: False, using: 0 IPUs\n",
      "Global seed set to 0\n"
     ]
    },
    {
     "name": "stdout",
     "output_type": "stream",
     "text": [
      "{'training': True, '_parameters': OrderedDict(), '_buffers': OrderedDict(), '_non_persistent_buffers_set': set(), '_backward_hooks': OrderedDict(), '_is_full_backward_hook': None, '_forward_hooks': OrderedDict(), '_forward_pre_hooks': OrderedDict(), '_state_dict_hooks': OrderedDict(), '_load_state_dict_pre_hooks': OrderedDict(), '_load_state_dict_post_hooks': OrderedDict(), '_modules': OrderedDict([('linear', Linear(in_features=16, out_features=10, bias=True))]), 'neuron_indices': tensor([ 874,  636,  761,  257,  824,  970,  354,  432,  493,  373,  938,  758,\n",
      "         981, 1014,  520,  589]), 'in_features': 16, 'out_features': 10}\n"
     ]
    },
    {
     "name": "stderr",
     "output_type": "stream",
     "text": [
      "LOCAL_RANK: 0 - CUDA_VISIBLE_DEVICES: [3]\n"
     ]
    },
    {
     "data": {
      "application/vnd.jupyter.widget-view+json": {
       "model_id": "6d346d9abcb04155ae335af238e97a1f",
       "version_major": 2,
       "version_minor": 0
      },
      "text/plain": [
       "Predicting: 0it [00:00, ?it/s]"
      ]
     },
     "metadata": {},
     "output_type": "display_data"
    },
    {
     "name": "stderr",
     "output_type": "stream",
     "text": [
      "Global seed set to 2\n",
      "No pretrained weights exist or were found for this model. Using random initialization.\n",
      "Global seed set to 1\n",
      "GPU available: True, used: True\n",
      "TPU available: False, using: 0 TPU cores\n",
      "IPU available: False, using: 0 IPUs\n",
      "Global seed set to 0\n"
     ]
    },
    {
     "name": "stdout",
     "output_type": "stream",
     "text": [
      "{'training': True, '_parameters': OrderedDict(), '_buffers': OrderedDict(), '_non_persistent_buffers_set': set(), '_backward_hooks': OrderedDict(), '_is_full_backward_hook': None, '_forward_hooks': OrderedDict(), '_forward_pre_hooks': OrderedDict(), '_state_dict_hooks': OrderedDict(), '_load_state_dict_pre_hooks': OrderedDict(), '_load_state_dict_post_hooks': OrderedDict(), '_modules': OrderedDict([('linear', Linear(in_features=16, out_features=10, bias=True))]), 'neuron_indices': tensor([ 37, 708, 342,   9, 647, 767, 633, 291, 607, 306, 648, 514, 588, 660,\n",
      "        257, 444]), 'in_features': 16, 'out_features': 10}\n"
     ]
    },
    {
     "name": "stderr",
     "output_type": "stream",
     "text": [
      "LOCAL_RANK: 0 - CUDA_VISIBLE_DEVICES: [3]\n"
     ]
    },
    {
     "data": {
      "application/vnd.jupyter.widget-view+json": {
       "model_id": "4e2ea0e391494cd1a018c6b7d9cdd4e4",
       "version_major": 2,
       "version_minor": 0
      },
      "text/plain": [
       "Predicting: 0it [00:00, ?it/s]"
      ]
     },
     "metadata": {},
     "output_type": "display_data"
    },
    {
     "name": "stderr",
     "output_type": "stream",
     "text": [
      "Global seed set to 2\n",
      "No pretrained weights exist or were found for this model. Using random initialization.\n",
      "Global seed set to 2\n",
      "GPU available: True, used: True\n",
      "TPU available: False, using: 0 TPU cores\n",
      "IPU available: False, using: 0 IPUs\n",
      "Global seed set to 0\n"
     ]
    },
    {
     "name": "stdout",
     "output_type": "stream",
     "text": [
      "{'training': True, '_parameters': OrderedDict(), '_buffers': OrderedDict(), '_non_persistent_buffers_set': set(), '_backward_hooks': OrderedDict(), '_is_full_backward_hook': None, '_forward_hooks': OrderedDict(), '_forward_pre_hooks': OrderedDict(), '_state_dict_hooks': OrderedDict(), '_load_state_dict_pre_hooks': OrderedDict(), '_load_state_dict_post_hooks': OrderedDict(), '_modules': OrderedDict([('linear', Linear(in_features=16, out_features=10, bias=True))]), 'neuron_indices': tensor([ 168,  361,  293, 1002,  522,   59, 1018,  479,  440,  300,  628,  847,\n",
      "         779,  134,  439,  386]), 'in_features': 16, 'out_features': 10}\n"
     ]
    },
    {
     "name": "stderr",
     "output_type": "stream",
     "text": [
      "LOCAL_RANK: 0 - CUDA_VISIBLE_DEVICES: [3]\n"
     ]
    },
    {
     "data": {
      "application/vnd.jupyter.widget-view+json": {
       "model_id": "0fc3221df3c14c04a1d6e191004a25ee",
       "version_major": 2,
       "version_minor": 0
      },
      "text/plain": [
       "Predicting: 0it [00:00, ?it/s]"
      ]
     },
     "metadata": {},
     "output_type": "display_data"
    },
    {
     "name": "stderr",
     "output_type": "stream",
     "text": [
      "Global seed set to 2\n",
      "No pretrained weights exist or were found for this model. Using random initialization.\n",
      "Global seed set to 5\n",
      "GPU available: True, used: True\n",
      "TPU available: False, using: 0 TPU cores\n",
      "IPU available: False, using: 0 IPUs\n",
      "Global seed set to 0\n"
     ]
    },
    {
     "name": "stdout",
     "output_type": "stream",
     "text": [
      "{'training': True, '_parameters': OrderedDict(), '_buffers': OrderedDict(), '_non_persistent_buffers_set': set(), '_backward_hooks': OrderedDict(), '_is_full_backward_hook': None, '_forward_hooks': OrderedDict(), '_forward_pre_hooks': OrderedDict(), '_state_dict_hooks': OrderedDict(), '_load_state_dict_pre_hooks': OrderedDict(), '_load_state_dict_post_hooks': OrderedDict(), '_modules': OrderedDict([('linear', Linear(in_features=16, out_features=10, bias=True))]), 'neuron_indices': tensor([ 867,  451, 1005,   61,  150, 1023,  242,   18,  296,  258,  887,  422,\n",
      "         719,  243,  912,  244]), 'in_features': 16, 'out_features': 10}\n"
     ]
    },
    {
     "name": "stderr",
     "output_type": "stream",
     "text": [
      "LOCAL_RANK: 0 - CUDA_VISIBLE_DEVICES: [3]\n"
     ]
    },
    {
     "data": {
      "application/vnd.jupyter.widget-view+json": {
       "model_id": "c85930f564e648b4bb196ac4f89cfd4d",
       "version_major": 2,
       "version_minor": 0
      },
      "text/plain": [
       "Predicting: 0it [00:00, ?it/s]"
      ]
     },
     "metadata": {},
     "output_type": "display_data"
    },
    {
     "name": "stderr",
     "output_type": "stream",
     "text": [
      "Global seed set to 2\n",
      "No pretrained weights exist or were found for this model. Using random initialization.\n",
      "Global seed set to 5\n",
      "GPU available: True, used: True\n",
      "TPU available: False, using: 0 TPU cores\n",
      "IPU available: False, using: 0 IPUs\n",
      "Global seed set to 0\n"
     ]
    },
    {
     "name": "stdout",
     "output_type": "stream",
     "text": [
      "{'training': True, '_parameters': OrderedDict(), '_buffers': OrderedDict(), '_non_persistent_buffers_set': set(), '_backward_hooks': OrderedDict(), '_is_full_backward_hook': None, '_forward_hooks': OrderedDict(), '_forward_pre_hooks': OrderedDict(), '_state_dict_hooks': OrderedDict(), '_load_state_dict_pre_hooks': OrderedDict(), '_load_state_dict_post_hooks': OrderedDict(), '_modules': OrderedDict([('linear', Linear(in_features=48, out_features=10, bias=True))]), 'neuron_indices': tensor([ 867,  451, 1005,   61,  150, 1023,  242,   18,  296,  258,  887,  422,\n",
      "         719,  243,  912,  244,  391,  790,  863,   68,  533,  485,  442,   17,\n",
      "         708,   10,  313,  855,  723,  735,  222,  138,  701,  111,  644,  542,\n",
      "         621,  567,  879,  488,  494,  765,  474,  774,  984,  659,  441,  237]), 'in_features': 48, 'out_features': 10}\n"
     ]
    },
    {
     "name": "stderr",
     "output_type": "stream",
     "text": [
      "LOCAL_RANK: 0 - CUDA_VISIBLE_DEVICES: [3]\n"
     ]
    },
    {
     "data": {
      "application/vnd.jupyter.widget-view+json": {
       "model_id": "b386164055e44911af4e9cbf1cd00021",
       "version_major": 2,
       "version_minor": 0
      },
      "text/plain": [
       "Predicting: 0it [00:00, ?it/s]"
      ]
     },
     "metadata": {},
     "output_type": "display_data"
    },
    {
     "name": "stderr",
     "output_type": "stream",
     "text": [
      "Global seed set to 2\n",
      "No pretrained weights exist or were found for this model. Using random initialization.\n",
      "Global seed set to 2\n",
      "GPU available: True, used: True\n",
      "TPU available: False, using: 0 TPU cores\n",
      "IPU available: False, using: 0 IPUs\n",
      "Global seed set to 0\n"
     ]
    },
    {
     "name": "stdout",
     "output_type": "stream",
     "text": [
      "{'training': True, '_parameters': OrderedDict(), '_buffers': OrderedDict(), '_non_persistent_buffers_set': set(), '_backward_hooks': OrderedDict(), '_is_full_backward_hook': None, '_forward_hooks': OrderedDict(), '_forward_pre_hooks': OrderedDict(), '_state_dict_hooks': OrderedDict(), '_load_state_dict_pre_hooks': OrderedDict(), '_load_state_dict_post_hooks': OrderedDict(), '_modules': OrderedDict([('linear', Linear(in_features=48, out_features=10, bias=True))]), 'neuron_indices': tensor([ 168,  361,  293, 1002,  522,   59, 1018,  479,  440,  300,  628,  847,\n",
      "         779,  134,  439,  386,  719,  401,  370,  544,   36,  798,  773,  691,\n",
      "         475,  382,  688,  432,  583,  187,  893,  306,  970,  817,  820,  985,\n",
      "         335,  223,  765,  889,  268,  848,  214,  537,  395,  337,  503,  107]), 'in_features': 48, 'out_features': 10}\n"
     ]
    },
    {
     "name": "stderr",
     "output_type": "stream",
     "text": [
      "LOCAL_RANK: 0 - CUDA_VISIBLE_DEVICES: [3]\n"
     ]
    },
    {
     "data": {
      "application/vnd.jupyter.widget-view+json": {
       "model_id": "3b8cd438e6a3457d87a57585a60c39f3",
       "version_major": 2,
       "version_minor": 0
      },
      "text/plain": [
       "Predicting: 0it [00:00, ?it/s]"
      ]
     },
     "metadata": {},
     "output_type": "display_data"
    },
    {
     "name": "stderr",
     "output_type": "stream",
     "text": [
      "Global seed set to 2\n",
      "No pretrained weights exist or were found for this model. Using random initialization.\n",
      "Global seed set to 1\n",
      "GPU available: True, used: True\n",
      "TPU available: False, using: 0 TPU cores\n",
      "IPU available: False, using: 0 IPUs\n",
      "Global seed set to 0\n"
     ]
    },
    {
     "name": "stdout",
     "output_type": "stream",
     "text": [
      "{'training': True, '_parameters': OrderedDict(), '_buffers': OrderedDict(), '_non_persistent_buffers_set': set(), '_backward_hooks': OrderedDict(), '_is_full_backward_hook': None, '_forward_hooks': OrderedDict(), '_forward_pre_hooks': OrderedDict(), '_state_dict_hooks': OrderedDict(), '_load_state_dict_pre_hooks': OrderedDict(), '_load_state_dict_post_hooks': OrderedDict(), '_modules': OrderedDict([('linear', Linear(in_features=48, out_features=10, bias=True))]), 'neuron_indices': tensor([ 37, 708, 342,   9, 647, 767, 633, 291, 607, 306, 648, 514, 588, 660,\n",
      "        257, 444, 694, 492, 878, 770, 758,  89, 126, 561, 747, 223, 786, 658,\n",
      "        261, 403, 156, 783, 631, 353, 491, 818, 699, 640, 310, 354, 253, 220,\n",
      "        649, 552,  47, 136, 646, 570]), 'in_features': 48, 'out_features': 10}\n"
     ]
    },
    {
     "name": "stderr",
     "output_type": "stream",
     "text": [
      "LOCAL_RANK: 0 - CUDA_VISIBLE_DEVICES: [3]\n"
     ]
    },
    {
     "data": {
      "application/vnd.jupyter.widget-view+json": {
       "model_id": "8b2e30dece1c4af992d66a08853ff8b5",
       "version_major": 2,
       "version_minor": 0
      },
      "text/plain": [
       "Predicting: 0it [00:00, ?it/s]"
      ]
     },
     "metadata": {},
     "output_type": "display_data"
    },
    {
     "name": "stderr",
     "output_type": "stream",
     "text": [
      "Global seed set to 2\n",
      "No pretrained weights exist or were found for this model. Using random initialization.\n",
      "Global seed set to 3\n",
      "GPU available: True, used: True\n",
      "TPU available: False, using: 0 TPU cores\n",
      "IPU available: False, using: 0 IPUs\n",
      "Global seed set to 0\n"
     ]
    },
    {
     "name": "stdout",
     "output_type": "stream",
     "text": [
      "{'training': True, '_parameters': OrderedDict(), '_buffers': OrderedDict(), '_non_persistent_buffers_set': set(), '_backward_hooks': OrderedDict(), '_is_full_backward_hook': None, '_forward_hooks': OrderedDict(), '_forward_pre_hooks': OrderedDict(), '_state_dict_hooks': OrderedDict(), '_load_state_dict_pre_hooks': OrderedDict(), '_load_state_dict_post_hooks': OrderedDict(), '_modules': OrderedDict([('linear', Linear(in_features=48, out_features=10, bias=True))]), 'neuron_indices': tensor([ 874,  636,  761,  257,  824,  970,  354,  432,  493,  373,  938,  758,\n",
      "         981, 1014,  520,  589,  631,  582,   26,  918,  152,  574,  439,  814,\n",
      "         496,   66,  783,    8,  350,  634,  804,  659,   92,  896,  103,  795,\n",
      "         857,  368,  340,  845,  509,  503,   52,  547,  198, 1016,  596,  800]), 'in_features': 48, 'out_features': 10}\n"
     ]
    },
    {
     "name": "stderr",
     "output_type": "stream",
     "text": [
      "LOCAL_RANK: 0 - CUDA_VISIBLE_DEVICES: [3]\n"
     ]
    },
    {
     "data": {
      "application/vnd.jupyter.widget-view+json": {
       "model_id": "f20bbb3fd482458caee65384dcd25964",
       "version_major": 2,
       "version_minor": 0
      },
      "text/plain": [
       "Predicting: 0it [00:00, ?it/s]"
      ]
     },
     "metadata": {},
     "output_type": "display_data"
    },
    {
     "name": "stderr",
     "output_type": "stream",
     "text": [
      "Global seed set to 2\n",
      "No pretrained weights exist or were found for this model. Using random initialization.\n",
      "Global seed set to 4\n",
      "GPU available: True, used: True\n",
      "TPU available: False, using: 0 TPU cores\n",
      "IPU available: False, using: 0 IPUs\n",
      "Global seed set to 0\n"
     ]
    },
    {
     "name": "stdout",
     "output_type": "stream",
     "text": [
      "{'training': True, '_parameters': OrderedDict(), '_buffers': OrderedDict(), '_non_persistent_buffers_set': set(), '_backward_hooks': OrderedDict(), '_is_full_backward_hook': None, '_forward_hooks': OrderedDict(), '_forward_pre_hooks': OrderedDict(), '_state_dict_hooks': OrderedDict(), '_load_state_dict_pre_hooks': OrderedDict(), '_load_state_dict_post_hooks': OrderedDict(), '_modules': OrderedDict([('linear', Linear(in_features=48, out_features=10, bias=True))]), 'neuron_indices': tensor([122, 739, 133,  11, 853, 464, 457, 929,  10,  30, 386, 789, 715, 332,\n",
      "        834, 687, 567, 151, 756, 681, 850, 125, 228, 641, 746, 158,  33, 541,\n",
      "        199, 416, 869, 168, 262, 362, 858, 694, 650, 947, 105, 248, 736, 773,\n",
      "        188, 513, 131, 915, 606, 521]), 'in_features': 48, 'out_features': 10}\n"
     ]
    },
    {
     "name": "stderr",
     "output_type": "stream",
     "text": [
      "LOCAL_RANK: 0 - CUDA_VISIBLE_DEVICES: [3]\n"
     ]
    },
    {
     "data": {
      "application/vnd.jupyter.widget-view+json": {
       "model_id": "04ee13424ee647cf995e5299b57e6634",
       "version_major": 2,
       "version_minor": 0
      },
      "text/plain": [
       "Predicting: 0it [00:00, ?it/s]"
      ]
     },
     "metadata": {},
     "output_type": "display_data"
    },
    {
     "name": "stderr",
     "output_type": "stream",
     "text": [
      "Global seed set to 2\n",
      "No pretrained weights exist or were found for this model. Using random initialization.\n",
      "Global seed set to 3\n",
      "GPU available: True, used: True\n",
      "TPU available: False, using: 0 TPU cores\n",
      "IPU available: False, using: 0 IPUs\n",
      "Global seed set to 0\n"
     ]
    },
    {
     "name": "stdout",
     "output_type": "stream",
     "text": [
      "{'training': True, '_parameters': OrderedDict(), '_buffers': OrderedDict(), '_non_persistent_buffers_set': set(), '_backward_hooks': OrderedDict(), '_is_full_backward_hook': None, '_forward_hooks': OrderedDict(), '_forward_pre_hooks': OrderedDict(), '_state_dict_hooks': OrderedDict(), '_load_state_dict_pre_hooks': OrderedDict(), '_load_state_dict_post_hooks': OrderedDict(), '_modules': OrderedDict([('linear', Linear(in_features=90, out_features=10, bias=True))]), 'neuron_indices': tensor([ 874,  636,  761,  257,  824,  970,  354,  432,  493,  373,  938,  758,\n",
      "         981, 1014,  520,  589,  631,  582,   26,  918,  152,  574,  439,  814,\n",
      "         496,   66,  783,    8,  350,  634,  804,  659,   92,  896,  103,  795,\n",
      "         857,  368,  340,  845,  509,  503,   52,  547,  198, 1016,  596,  800,\n",
      "         273,  175,   43,  320,  701,  926,  458,  725,  973,  794,   45,  886,\n",
      "         300,  453,  654,  775,  448,  823,  812,  168,  579,  944,  754,  714,\n",
      "         559,  515,  311,  218,  537,  116,  765,  894,  469,  500,  436, 1003,\n",
      "         176,  551,  279,  950,  312,  684]), 'in_features': 90, 'out_features': 10}\n"
     ]
    },
    {
     "name": "stderr",
     "output_type": "stream",
     "text": [
      "LOCAL_RANK: 0 - CUDA_VISIBLE_DEVICES: [3]\n"
     ]
    },
    {
     "data": {
      "application/vnd.jupyter.widget-view+json": {
       "model_id": "e85838aebd4e4defb7113334e8abe21b",
       "version_major": 2,
       "version_minor": 0
      },
      "text/plain": [
       "Predicting: 0it [00:00, ?it/s]"
      ]
     },
     "metadata": {},
     "output_type": "display_data"
    },
    {
     "name": "stderr",
     "output_type": "stream",
     "text": [
      "Global seed set to 2\n",
      "No pretrained weights exist or were found for this model. Using random initialization.\n",
      "Global seed set to 4\n",
      "GPU available: True, used: True\n",
      "TPU available: False, using: 0 TPU cores\n",
      "IPU available: False, using: 0 IPUs\n",
      "Global seed set to 0\n"
     ]
    },
    {
     "name": "stdout",
     "output_type": "stream",
     "text": [
      "{'training': True, '_parameters': OrderedDict(), '_buffers': OrderedDict(), '_non_persistent_buffers_set': set(), '_backward_hooks': OrderedDict(), '_is_full_backward_hook': None, '_forward_hooks': OrderedDict(), '_forward_pre_hooks': OrderedDict(), '_state_dict_hooks': OrderedDict(), '_load_state_dict_pre_hooks': OrderedDict(), '_load_state_dict_post_hooks': OrderedDict(), '_modules': OrderedDict([('linear', Linear(in_features=90, out_features=10, bias=True))]), 'neuron_indices': tensor([ 122,  739,  133,   11,  853,  464,  457,  929,   10,   30,  386,  789,\n",
      "         715,  332,  834,  687,  567,  151,  756,  681,  850,  125,  228,  641,\n",
      "         746,  158,   33,  541,  199,  416,  869,  168,  262,  362,  858,  694,\n",
      "         650,  947,  105,  248,  736,  773,  188,  513,  131,  915,  606,  521,\n",
      "         538,  116,  623,  748,  306,  710,  500,  473,  922,  286,    7,   57,\n",
      "        1023,  445,  671,  759,  977,  835,  601,  956,  433,  381,  294,  666,\n",
      "         695,  984,  590,  220,   12,  179,  696,  656,  247,  646,  474,  167,\n",
      "         923,  315,   34,  913,  177,  129]), 'in_features': 90, 'out_features': 10}\n"
     ]
    },
    {
     "name": "stderr",
     "output_type": "stream",
     "text": [
      "LOCAL_RANK: 0 - CUDA_VISIBLE_DEVICES: [3]\n"
     ]
    },
    {
     "data": {
      "application/vnd.jupyter.widget-view+json": {
       "model_id": "932dde2c03874dc99f2442a90649c446",
       "version_major": 2,
       "version_minor": 0
      },
      "text/plain": [
       "Predicting: 0it [00:00, ?it/s]"
      ]
     },
     "metadata": {},
     "output_type": "display_data"
    },
    {
     "name": "stderr",
     "output_type": "stream",
     "text": [
      "Global seed set to 2\n",
      "No pretrained weights exist or were found for this model. Using random initialization.\n",
      "Global seed set to 1\n",
      "GPU available: True, used: True\n",
      "TPU available: False, using: 0 TPU cores\n",
      "IPU available: False, using: 0 IPUs\n",
      "Global seed set to 0\n"
     ]
    },
    {
     "name": "stdout",
     "output_type": "stream",
     "text": [
      "{'training': True, '_parameters': OrderedDict(), '_buffers': OrderedDict(), '_non_persistent_buffers_set': set(), '_backward_hooks': OrderedDict(), '_is_full_backward_hook': None, '_forward_hooks': OrderedDict(), '_forward_pre_hooks': OrderedDict(), '_state_dict_hooks': OrderedDict(), '_load_state_dict_pre_hooks': OrderedDict(), '_load_state_dict_post_hooks': OrderedDict(), '_modules': OrderedDict([('linear', Linear(in_features=90, out_features=10, bias=True))]), 'neuron_indices': tensor([  37,  708,  342,    9,  647,  767,  633,  291,  607,  306,  648,  514,\n",
      "         588,  660,  257,  444,  694,  492,  878,  770,  758,   89,  126,  561,\n",
      "         747,  223,  786,  658,  261,  403,  156,  783,  631,  353,  491,  818,\n",
      "         699,  640,  310,  354,  253,  220,  649,  552,   47,  136,  646,  570,\n",
      "         673,  113,  112,  322,   92,  888,  855,  776,   95,  941,  955,  247,\n",
      "         626,  428,  789,   36,  277,  886,  987,  408,  348,    2, 1019,  129,\n",
      "         868,  210,  896,  983,  153,   44,  191,  239,  255,  182,  462,  759,\n",
      "         659,  385,  757,  901,  122,  883]), 'in_features': 90, 'out_features': 10}\n"
     ]
    },
    {
     "name": "stderr",
     "output_type": "stream",
     "text": [
      "LOCAL_RANK: 0 - CUDA_VISIBLE_DEVICES: [3]\n"
     ]
    },
    {
     "data": {
      "application/vnd.jupyter.widget-view+json": {
       "model_id": "7e3db51aa0f74d24b172f01228747922",
       "version_major": 2,
       "version_minor": 0
      },
      "text/plain": [
       "Predicting: 0it [00:00, ?it/s]"
      ]
     },
     "metadata": {},
     "output_type": "display_data"
    },
    {
     "name": "stderr",
     "output_type": "stream",
     "text": [
      "Global seed set to 2\n",
      "No pretrained weights exist or were found for this model. Using random initialization.\n",
      "Global seed set to 5\n",
      "GPU available: True, used: True\n",
      "TPU available: False, using: 0 TPU cores\n",
      "IPU available: False, using: 0 IPUs\n",
      "Global seed set to 0\n"
     ]
    },
    {
     "name": "stdout",
     "output_type": "stream",
     "text": [
      "{'training': True, '_parameters': OrderedDict(), '_buffers': OrderedDict(), '_non_persistent_buffers_set': set(), '_backward_hooks': OrderedDict(), '_is_full_backward_hook': None, '_forward_hooks': OrderedDict(), '_forward_pre_hooks': OrderedDict(), '_state_dict_hooks': OrderedDict(), '_load_state_dict_pre_hooks': OrderedDict(), '_load_state_dict_post_hooks': OrderedDict(), '_modules': OrderedDict([('linear', Linear(in_features=90, out_features=10, bias=True))]), 'neuron_indices': tensor([ 867,  451, 1005,   61,  150, 1023,  242,   18,  296,  258,  887,  422,\n",
      "         719,  243,  912,  244,  391,  790,  863,   68,  533,  485,  442,   17,\n",
      "         708,   10,  313,  855,  723,  735,  222,  138,  701,  111,  644,  542,\n",
      "         621,  567,  879,  488,  494,  765,  474,  774,  984,  659,  441,  237,\n",
      "         768,  479,  416,  538,  996,  898,  913,  300,  687,  514,  192,    5,\n",
      "         525,  433,  435,  962,  369,  609, 1003,  919,  264,  236,  176,  393,\n",
      "          28,   25,   33,   30, 1009,  304,  475,  553,  254,  992,  979,  406,\n",
      "         653, 1004,   82,  170,  310,  493]), 'in_features': 90, 'out_features': 10}\n"
     ]
    },
    {
     "name": "stderr",
     "output_type": "stream",
     "text": [
      "LOCAL_RANK: 0 - CUDA_VISIBLE_DEVICES: [3]\n"
     ]
    },
    {
     "data": {
      "application/vnd.jupyter.widget-view+json": {
       "model_id": "41d4420b7f5d4a30880c47d6c30e685f",
       "version_major": 2,
       "version_minor": 0
      },
      "text/plain": [
       "Predicting: 0it [00:00, ?it/s]"
      ]
     },
     "metadata": {},
     "output_type": "display_data"
    },
    {
     "name": "stderr",
     "output_type": "stream",
     "text": [
      "Global seed set to 2\n",
      "No pretrained weights exist or were found for this model. Using random initialization.\n",
      "Global seed set to 2\n",
      "GPU available: True, used: True\n",
      "TPU available: False, using: 0 TPU cores\n",
      "IPU available: False, using: 0 IPUs\n",
      "Global seed set to 0\n"
     ]
    },
    {
     "name": "stdout",
     "output_type": "stream",
     "text": [
      "{'training': True, '_parameters': OrderedDict(), '_buffers': OrderedDict(), '_non_persistent_buffers_set': set(), '_backward_hooks': OrderedDict(), '_is_full_backward_hook': None, '_forward_hooks': OrderedDict(), '_forward_pre_hooks': OrderedDict(), '_state_dict_hooks': OrderedDict(), '_load_state_dict_pre_hooks': OrderedDict(), '_load_state_dict_post_hooks': OrderedDict(), '_modules': OrderedDict([('linear', Linear(in_features=90, out_features=10, bias=True))]), 'neuron_indices': tensor([ 168,  361,  293, 1002,  522,   59, 1018,  479,  440,  300,  628,  847,\n",
      "         779,  134,  439,  386,  719,  401,  370,  544,   36,  798,  773,  691,\n",
      "         475,  382,  688,  432,  583,  187,  893,  306,  970,  817,  820,  985,\n",
      "         335,  223,  765,  889,  268,  848,  214,  537,  395,  337,  503,  107,\n",
      "         816,  262,  500,  800,  170,  511,  292,  513,  591,  793,  263,  536,\n",
      "         806,  502,  490,  264,  250,  669,  813,  454,  556,  651,  795,  828,\n",
      "         504,  496,  521,  242,  973,  873,  962,  318,  698,  546,  805,  167,\n",
      "         727,  305,  906,  703,  448,   54]), 'in_features': 90, 'out_features': 10}\n"
     ]
    },
    {
     "name": "stderr",
     "output_type": "stream",
     "text": [
      "LOCAL_RANK: 0 - CUDA_VISIBLE_DEVICES: [3]\n"
     ]
    },
    {
     "data": {
      "application/vnd.jupyter.widget-view+json": {
       "model_id": "e80e44152484426b96dceb46ca2b1ecd",
       "version_major": 2,
       "version_minor": 0
      },
      "text/plain": [
       "Predicting: 0it [00:00, ?it/s]"
      ]
     },
     "metadata": {},
     "output_type": "display_data"
    },
    {
     "name": "stderr",
     "output_type": "stream",
     "text": [
      "Global seed set to 2\n",
      "No pretrained weights exist or were found for this model. Using random initialization.\n",
      "Global seed set to 2\n",
      "GPU available: True, used: True\n",
      "TPU available: False, using: 0 TPU cores\n",
      "IPU available: False, using: 0 IPUs\n",
      "Global seed set to 0\n"
     ]
    },
    {
     "name": "stdout",
     "output_type": "stream",
     "text": [
      "{'training': True, '_parameters': OrderedDict(), '_buffers': OrderedDict(), '_non_persistent_buffers_set': set(), '_backward_hooks': OrderedDict(), '_is_full_backward_hook': None, '_forward_hooks': OrderedDict(), '_forward_pre_hooks': OrderedDict(), '_state_dict_hooks': OrderedDict(), '_load_state_dict_pre_hooks': OrderedDict(), '_load_state_dict_post_hooks': OrderedDict(), '_modules': OrderedDict([('linear', Linear(in_features=200, out_features=10, bias=True))]), 'neuron_indices': tensor([ 168,  361,  293, 1002,  522,   59, 1018,  479,  440,  300,  628,  847,\n",
      "         779,  134,  439,  386,  719,  401,  370,  544,   36,  798,  773,  691,\n",
      "         475,  382,  688,  432,  583,  187,  893,  306,  970,  817,  820,  985,\n",
      "         335,  223,  765,  889,  268,  848,  214,  537,  395,  337,  503,  107,\n",
      "         816,  262,  500,  800,  170,  511,  292,  513,  591,  793,  263,  536,\n",
      "         806,  502,  490,  264,  250,  669,  813,  454,  556,  651,  795,  828,\n",
      "         504,  496,  521,  242,  973,  873,  962,  318,  698,  546,  805,  167,\n",
      "         727,  305,  906,  703,  448,   54,  654,  328,  336,  931,  210,  752,\n",
      "         950,  862,  186,  415,   15,  161,  174,  165,  553,  990,  786,  283,\n",
      "         289,  130,  419,  322, 1013,  290,  340,  853,  426,  784,  638,  757,\n",
      "         532,  678,  234,  608,  718,  710,  927,  119,  144,  630,  507,  885,\n",
      "          77,   69,  865,  220,  632,   12,  988,  941,  599,  359,  579, 1023,\n",
      "         877,  445,  451,  425,  327,   25,  792,  437,  822,  645,  385,  670,\n",
      "         118,  390,  413,  576,  414,  658,  278,   39,  952,  120,  733,  619,\n",
      "          61,  273,  369,  767,  849,  951,   60,  243,  559,  154,  650,  562,\n",
      "         543,  311,  514,  597,  622,   92,  573,  466,  686,  593,  930,  135,\n",
      "         928,  509,  178,  960,  955,  482,   18,  215]), 'in_features': 200, 'out_features': 10}\n"
     ]
    },
    {
     "name": "stderr",
     "output_type": "stream",
     "text": [
      "LOCAL_RANK: 0 - CUDA_VISIBLE_DEVICES: [3]\n"
     ]
    },
    {
     "data": {
      "application/vnd.jupyter.widget-view+json": {
       "model_id": "be8767c3934a49f6993ad6dc8389dc3b",
       "version_major": 2,
       "version_minor": 0
      },
      "text/plain": [
       "Predicting: 0it [00:00, ?it/s]"
      ]
     },
     "metadata": {},
     "output_type": "display_data"
    },
    {
     "name": "stderr",
     "output_type": "stream",
     "text": [
      "Global seed set to 2\n",
      "No pretrained weights exist or were found for this model. Using random initialization.\n",
      "Global seed set to 5\n",
      "GPU available: True, used: True\n",
      "TPU available: False, using: 0 TPU cores\n",
      "IPU available: False, using: 0 IPUs\n",
      "Global seed set to 0\n"
     ]
    },
    {
     "name": "stdout",
     "output_type": "stream",
     "text": [
      "{'training': True, '_parameters': OrderedDict(), '_buffers': OrderedDict(), '_non_persistent_buffers_set': set(), '_backward_hooks': OrderedDict(), '_is_full_backward_hook': None, '_forward_hooks': OrderedDict(), '_forward_pre_hooks': OrderedDict(), '_state_dict_hooks': OrderedDict(), '_load_state_dict_pre_hooks': OrderedDict(), '_load_state_dict_post_hooks': OrderedDict(), '_modules': OrderedDict([('linear', Linear(in_features=200, out_features=10, bias=True))]), 'neuron_indices': tensor([ 867,  451, 1005,   61,  150, 1023,  242,   18,  296,  258,  887,  422,\n",
      "         719,  243,  912,  244,  391,  790,  863,   68,  533,  485,  442,   17,\n",
      "         708,   10,  313,  855,  723,  735,  222,  138,  701,  111,  644,  542,\n",
      "         621,  567,  879,  488,  494,  765,  474,  774,  984,  659,  441,  237,\n",
      "         768,  479,  416,  538,  996,  898,  913,  300,  687,  514,  192,    5,\n",
      "         525,  433,  435,  962,  369,  609, 1003,  919,  264,  236,  176,  393,\n",
      "          28,   25,   33,   30, 1009,  304,  475,  553,  254,  992,  979,  406,\n",
      "         653, 1004,   82,  170,  310,  493,   50,  500,  809,  679,  669,  152,\n",
      "         677,  954,  133,  690,  496,  611,   19,  977,  696,  901,  338,  598,\n",
      "         892,  873,  238,  861,  366,  290,  302,  806,  319,  652,  245,  658,\n",
      "         848,  177,  240,  970,   43,  251,  484,  380,  261,  933,  204,  698,\n",
      "          76,  907,  764,  306,  781,  893,  856,  173,   39,  536,  252,  830,\n",
      "         239,  570,   98,  668,  836,  269,   57,  853,  748,  544,    7,  389,\n",
      "           8,  864,  880,  215,  339,   99,  401,  153,  463,  452,  202,  195,\n",
      "         467,  179,  639,  837,  736,  945,  509,  766,  620,   13,  976,  383,\n",
      "         947,  201,  248,  355,  578, 1000,   47,  506,  980,  522,  395,  554,\n",
      "         711,    3,  562,   31,  808,  430,  960,  325]), 'in_features': 200, 'out_features': 10}\n"
     ]
    },
    {
     "name": "stderr",
     "output_type": "stream",
     "text": [
      "LOCAL_RANK: 0 - CUDA_VISIBLE_DEVICES: [3]\n"
     ]
    },
    {
     "data": {
      "application/vnd.jupyter.widget-view+json": {
       "model_id": "b0e0b79519a44a4791245eb9bece96e9",
       "version_major": 2,
       "version_minor": 0
      },
      "text/plain": [
       "Predicting: 0it [00:00, ?it/s]"
      ]
     },
     "metadata": {},
     "output_type": "display_data"
    },
    {
     "name": "stderr",
     "output_type": "stream",
     "text": [
      "Global seed set to 2\n",
      "No pretrained weights exist or were found for this model. Using random initialization.\n",
      "Global seed set to 1\n",
      "GPU available: True, used: True\n",
      "TPU available: False, using: 0 TPU cores\n",
      "IPU available: False, using: 0 IPUs\n",
      "Global seed set to 0\n"
     ]
    },
    {
     "name": "stdout",
     "output_type": "stream",
     "text": [
      "{'training': True, '_parameters': OrderedDict(), '_buffers': OrderedDict(), '_non_persistent_buffers_set': set(), '_backward_hooks': OrderedDict(), '_is_full_backward_hook': None, '_forward_hooks': OrderedDict(), '_forward_pre_hooks': OrderedDict(), '_state_dict_hooks': OrderedDict(), '_load_state_dict_pre_hooks': OrderedDict(), '_load_state_dict_post_hooks': OrderedDict(), '_modules': OrderedDict([('linear', Linear(in_features=200, out_features=10, bias=True))]), 'neuron_indices': tensor([  37,  708,  342,    9,  647,  767,  633,  291,  607,  306,  648,  514,\n",
      "         588,  660,  257,  444,  694,  492,  878,  770,  758,   89,  126,  561,\n",
      "         747,  223,  786,  658,  261,  403,  156,  783,  631,  353,  491,  818,\n",
      "         699,  640,  310,  354,  253,  220,  649,  552,   47,  136,  646,  570,\n",
      "         673,  113,  112,  322,   92,  888,  855,  776,   95,  941,  955,  247,\n",
      "         626,  428,  789,   36,  277,  886,  987,  408,  348,    2, 1019,  129,\n",
      "         868,  210,  896,  983,  153,   44,  191,  239,  255,  182,  462,  759,\n",
      "         659,  385,  757,  901,  122,  883,  248,   79,  617,  961,  907,  162,\n",
      "         215,  180,  728,  686,  225,  414,  445,  242,  760,  202,  296,  706,\n",
      "         523,  359,  423,  687, 1017,  251,  110,  357,  850,  311,  930,  714,\n",
      "         160,  881,   87,  991,  693,  443,  613,  453,  504,  355,  145,  595,\n",
      "         828,  361,  952,  450,  796,   50,  167,  208,  723,  697,  768,   61,\n",
      "          15,  795,  386,  995,  988,  979,  455,  582,  524,  679,  176, 1001,\n",
      "         107,  196,  851,  821,  503,  438,  683,  295,  753, 1010,  682,  193,\n",
      "         340,  913,  978,   43,  534,  554,  931,  815,   26,  114,  843,  303,\n",
      "         200,  924,  581,  467,  103,  382,  154,  158,  418,  259,  366,    0,\n",
      "         263,   10,  984,  238,   21,  437,  777,  910]), 'in_features': 200, 'out_features': 10}\n"
     ]
    },
    {
     "name": "stderr",
     "output_type": "stream",
     "text": [
      "LOCAL_RANK: 0 - CUDA_VISIBLE_DEVICES: [3]\n"
     ]
    },
    {
     "data": {
      "application/vnd.jupyter.widget-view+json": {
       "model_id": "3f897fc66a59486fb2c8273c08086d45",
       "version_major": 2,
       "version_minor": 0
      },
      "text/plain": [
       "Predicting: 0it [00:00, ?it/s]"
      ]
     },
     "metadata": {},
     "output_type": "display_data"
    },
    {
     "name": "stderr",
     "output_type": "stream",
     "text": [
      "Global seed set to 2\n",
      "No pretrained weights exist or were found for this model. Using random initialization.\n",
      "Global seed set to 4\n",
      "GPU available: True, used: True\n",
      "TPU available: False, using: 0 TPU cores\n",
      "IPU available: False, using: 0 IPUs\n",
      "Global seed set to 0\n"
     ]
    },
    {
     "name": "stdout",
     "output_type": "stream",
     "text": [
      "{'training': True, '_parameters': OrderedDict(), '_buffers': OrderedDict(), '_non_persistent_buffers_set': set(), '_backward_hooks': OrderedDict(), '_is_full_backward_hook': None, '_forward_hooks': OrderedDict(), '_forward_pre_hooks': OrderedDict(), '_state_dict_hooks': OrderedDict(), '_load_state_dict_pre_hooks': OrderedDict(), '_load_state_dict_post_hooks': OrderedDict(), '_modules': OrderedDict([('linear', Linear(in_features=200, out_features=10, bias=True))]), 'neuron_indices': tensor([ 122,  739,  133,   11,  853,  464,  457,  929,   10,   30,  386,  789,\n",
      "         715,  332,  834,  687,  567,  151,  756,  681,  850,  125,  228,  641,\n",
      "         746,  158,   33,  541,  199,  416,  869,  168,  262,  362,  858,  694,\n",
      "         650,  947,  105,  248,  736,  773,  188,  513,  131,  915,  606,  521,\n",
      "         538,  116,  623,  748,  306,  710,  500,  473,  922,  286,    7,   57,\n",
      "        1023,  445,  671,  759,  977,  835,  601,  956,  433,  381,  294,  666,\n",
      "         695,  984,  590,  220,   12,  179,  696,  656,  247,  646,  474,  167,\n",
      "         923,  315,   34,  913,  177,  129,  299,  573,  339,  212,   15,  705,\n",
      "         367,  391,  361,  625,   17,  271,  706,  345,  701,  631,  811,  130,\n",
      "          27,  285,  263,  639,   46,  645,  810,  289,  196,  712,  353,  519,\n",
      "          88,  603,  637,  242,  393,  882,  602,  283,  955,   85,  998,  876,\n",
      "         846,  629,   74,  533,  488,  570,  723,  107,  542,  619,  802,  327,\n",
      "         689,  634,  341,  891,  983,  169,  485,  954,  429, 1022,  530,  675,\n",
      "         335,  319,  790,  920,  607,  732,  543,  962,  323,   49,  170, 1004,\n",
      "         101,  826,  437,   61,  102,  740,  974,  231,   31,    0,  647,  663,\n",
      "         953,  827,  536,  730,  930,  421,  986,  390,  635,  482,  653,  678,\n",
      "         470,  431,  841,  557,    1,  428,  742,  668]), 'in_features': 200, 'out_features': 10}\n"
     ]
    },
    {
     "name": "stderr",
     "output_type": "stream",
     "text": [
      "LOCAL_RANK: 0 - CUDA_VISIBLE_DEVICES: [3]\n"
     ]
    },
    {
     "data": {
      "application/vnd.jupyter.widget-view+json": {
       "model_id": "e7d1742546aa4a92ae4404aa665af8a0",
       "version_major": 2,
       "version_minor": 0
      },
      "text/plain": [
       "Predicting: 0it [00:00, ?it/s]"
      ]
     },
     "metadata": {},
     "output_type": "display_data"
    },
    {
     "name": "stderr",
     "output_type": "stream",
     "text": [
      "Global seed set to 2\n",
      "No pretrained weights exist or were found for this model. Using random initialization.\n",
      "Global seed set to 3\n",
      "GPU available: True, used: True\n",
      "TPU available: False, using: 0 TPU cores\n",
      "IPU available: False, using: 0 IPUs\n",
      "Global seed set to 0\n"
     ]
    },
    {
     "name": "stdout",
     "output_type": "stream",
     "text": [
      "{'training': True, '_parameters': OrderedDict(), '_buffers': OrderedDict(), '_non_persistent_buffers_set': set(), '_backward_hooks': OrderedDict(), '_is_full_backward_hook': None, '_forward_hooks': OrderedDict(), '_forward_pre_hooks': OrderedDict(), '_state_dict_hooks': OrderedDict(), '_load_state_dict_pre_hooks': OrderedDict(), '_load_state_dict_post_hooks': OrderedDict(), '_modules': OrderedDict([('linear', Linear(in_features=200, out_features=10, bias=True))]), 'neuron_indices': tensor([ 874,  636,  761,  257,  824,  970,  354,  432,  493,  373,  938,  758,\n",
      "         981, 1014,  520,  589,  631,  582,   26,  918,  152,  574,  439,  814,\n",
      "         496,   66,  783,    8,  350,  634,  804,  659,   92,  896,  103,  795,\n",
      "         857,  368,  340,  845,  509,  503,   52,  547,  198, 1016,  596,  800,\n",
      "         273,  175,   43,  320,  701,  926,  458,  725,  973,  794,   45,  886,\n",
      "         300,  453,  654,  775,  448,  823,  812,  168,  579,  944,  754,  714,\n",
      "         559,  515,  311,  218,  537,  116,  765,  894,  469,  500,  436, 1003,\n",
      "         176,  551,  279,  950,  312,  684, 1008,  533,  264,   42,  304,  858,\n",
      "         855,  112,  323,  803,  213,  395,  724,  494,  289,  925,  571,  616,\n",
      "           0,   79,  342,  989,   75,  865,  308,  566,  487,  497,  372,  602,\n",
      "         412,  207,  773,  367, 1021,  123,  778,  256,  541,  987,  202,  968,\n",
      "         949,   14,  573,  696,  131,  819,  457,  149,  290,  667,  536,  827,\n",
      "         740,  603,  614,  385,  283,  433,  852,  985,  231,  208,   78,   39,\n",
      "         147,  982,  140,  444,  402,  872,  906,  810,  195,  425,    7,  640,\n",
      "        1022,  558,  563,  572,  781,  897,  743,  969,  780,  876,  912, 1005,\n",
      "         129,  346,  511,   24,  196,  928,  834,  932, 1012,  206,  332,  861,\n",
      "         410,   59,  185,  816,  584,   10,  759,  612]), 'in_features': 200, 'out_features': 10}\n"
     ]
    },
    {
     "name": "stderr",
     "output_type": "stream",
     "text": [
      "LOCAL_RANK: 0 - CUDA_VISIBLE_DEVICES: [3]\n"
     ]
    },
    {
     "data": {
      "application/vnd.jupyter.widget-view+json": {
       "model_id": "925122ec78424f6eb9b6ceb2e0a9ee66",
       "version_major": 2,
       "version_minor": 0
      },
      "text/plain": [
       "Predicting: 0it [00:00, ?it/s]"
      ]
     },
     "metadata": {},
     "output_type": "display_data"
    },
    {
     "name": "stderr",
     "output_type": "stream",
     "text": [
      "Global seed set to 2\n",
      "No pretrained weights exist or were found for this model. Using random initialization.\n",
      "Global seed set to 1\n",
      "GPU available: True, used: True\n",
      "TPU available: False, using: 0 TPU cores\n",
      "IPU available: False, using: 0 IPUs\n",
      "Global seed set to 0\n"
     ]
    },
    {
     "name": "stdout",
     "output_type": "stream",
     "text": [
      "{'training': True, '_parameters': OrderedDict(), '_buffers': OrderedDict(), '_non_persistent_buffers_set': set(), '_backward_hooks': OrderedDict(), '_is_full_backward_hook': None, '_forward_hooks': OrderedDict(), '_forward_pre_hooks': OrderedDict(), '_state_dict_hooks': OrderedDict(), '_load_state_dict_pre_hooks': OrderedDict(), '_load_state_dict_post_hooks': OrderedDict(), '_modules': OrderedDict([('linear', Linear(in_features=300, out_features=10, bias=True))]), 'neuron_indices': tensor([  37,  708,  342,    9,  647,  767,  633,  291,  607,  306,  648,  514,\n",
      "         588,  660,  257,  444,  694,  492,  878,  770,  758,   89,  126,  561,\n",
      "         747,  223,  786,  658,  261,  403,  156,  783,  631,  353,  491,  818,\n",
      "         699,  640,  310,  354,  253,  220,  649,  552,   47,  136,  646,  570,\n",
      "         673,  113,  112,  322,   92,  888,  855,  776,   95,  941,  955,  247,\n",
      "         626,  428,  789,   36,  277,  886,  987,  408,  348,    2, 1019,  129,\n",
      "         868,  210,  896,  983,  153,   44,  191,  239,  255,  182,  462,  759,\n",
      "         659,  385,  757,  901,  122,  883,  248,   79,  617,  961,  907,  162,\n",
      "         215,  180,  728,  686,  225,  414,  445,  242,  760,  202,  296,  706,\n",
      "         523,  359,  423,  687, 1017,  251,  110,  357,  850,  311,  930,  714,\n",
      "         160,  881,   87,  991,  693,  443,  613,  453,  504,  355,  145,  595,\n",
      "         828,  361,  952,  450,  796,   50,  167,  208,  723,  697,  768,   61,\n",
      "          15,  795,  386,  995,  988,  979,  455,  582,  524,  679,  176, 1001,\n",
      "         107,  196,  851,  821,  503,  438,  683,  295,  753, 1010,  682,  193,\n",
      "         340,  913,  978,   43,  534,  554,  931,  815,   26,  114,  843,  303,\n",
      "         200,  924,  581,  467,  103,  382,  154,  158,  418,  259,  366,    0,\n",
      "         263,   10,  984,  238,   21,  437,  777,  910,  980,  915,  772,  102,\n",
      "         609,  742,  483,  804,  625,  419,  406,  486,  516,  324,  799,  918,\n",
      "         141,  802,  787,  397,  909,  560,  973,   58,  846,  168,  226,  575,\n",
      "         479,  384,  391,  616,  209,  243,  620,  138,  689,  639,  369,  923,\n",
      "         885,  898,  232,  996,  989,  178,   59,  725,   33,  573,  509,  853,\n",
      "         928,    6,   75,  839,  656,  468,  892,  756,  179,  508,  464,  484,\n",
      "         870,   11, 1003,  434,  183,  465,  343,   88,  785,  827,  812,  771,\n",
      "         344,  106,  982,  376,  207,  792,  836,  212,  944,   23,  267,  676,\n",
      "          41,  734,  970,  527,  568,  395,  280,  897,  489,  300,  550,  268]), 'in_features': 300, 'out_features': 10}\n"
     ]
    },
    {
     "name": "stderr",
     "output_type": "stream",
     "text": [
      "LOCAL_RANK: 0 - CUDA_VISIBLE_DEVICES: [3]\n"
     ]
    },
    {
     "data": {
      "application/vnd.jupyter.widget-view+json": {
       "model_id": "42b39afc45f2409ba1ab7d9f9898fa25",
       "version_major": 2,
       "version_minor": 0
      },
      "text/plain": [
       "Predicting: 0it [00:00, ?it/s]"
      ]
     },
     "metadata": {},
     "output_type": "display_data"
    },
    {
     "name": "stderr",
     "output_type": "stream",
     "text": [
      "Global seed set to 2\n",
      "No pretrained weights exist or were found for this model. Using random initialization.\n",
      "Global seed set to 5\n",
      "GPU available: True, used: True\n",
      "TPU available: False, using: 0 TPU cores\n",
      "IPU available: False, using: 0 IPUs\n",
      "Global seed set to 0\n"
     ]
    },
    {
     "name": "stdout",
     "output_type": "stream",
     "text": [
      "{'training': True, '_parameters': OrderedDict(), '_buffers': OrderedDict(), '_non_persistent_buffers_set': set(), '_backward_hooks': OrderedDict(), '_is_full_backward_hook': None, '_forward_hooks': OrderedDict(), '_forward_pre_hooks': OrderedDict(), '_state_dict_hooks': OrderedDict(), '_load_state_dict_pre_hooks': OrderedDict(), '_load_state_dict_post_hooks': OrderedDict(), '_modules': OrderedDict([('linear', Linear(in_features=300, out_features=10, bias=True))]), 'neuron_indices': tensor([ 867,  451, 1005,   61,  150, 1023,  242,   18,  296,  258,  887,  422,\n",
      "         719,  243,  912,  244,  391,  790,  863,   68,  533,  485,  442,   17,\n",
      "         708,   10,  313,  855,  723,  735,  222,  138,  701,  111,  644,  542,\n",
      "         621,  567,  879,  488,  494,  765,  474,  774,  984,  659,  441,  237,\n",
      "         768,  479,  416,  538,  996,  898,  913,  300,  687,  514,  192,    5,\n",
      "         525,  433,  435,  962,  369,  609, 1003,  919,  264,  236,  176,  393,\n",
      "          28,   25,   33,   30, 1009,  304,  475,  553,  254,  992,  979,  406,\n",
      "         653, 1004,   82,  170,  310,  493,   50,  500,  809,  679,  669,  152,\n",
      "         677,  954,  133,  690,  496,  611,   19,  977,  696,  901,  338,  598,\n",
      "         892,  873,  238,  861,  366,  290,  302,  806,  319,  652,  245,  658,\n",
      "         848,  177,  240,  970,   43,  251,  484,  380,  261,  933,  204,  698,\n",
      "          76,  907,  764,  306,  781,  893,  856,  173,   39,  536,  252,  830,\n",
      "         239,  570,   98,  668,  836,  269,   57,  853,  748,  544,    7,  389,\n",
      "           8,  864,  880,  215,  339,   99,  401,  153,  463,  452,  202,  195,\n",
      "         467,  179,  639,  837,  736,  945,  509,  766,  620,   13,  976,  383,\n",
      "         947,  201,  248,  355,  578, 1000,   47,  506,  980,  522,  395,  554,\n",
      "         711,    3,  562,   31,  808,  430,  960,  325,  928,  877,  903,  384,\n",
      "         849,  921,  135,  461,  683,  895,  450,  200,  250,  163,  423,  518,\n",
      "         341,  148,  545,  190,  883,   80,  868,  882,  758,  793,  674,  141,\n",
      "         537,  682,   65,  734,  198,  732,  737,  331,  188,  166,  905, 1007,\n",
      "         740,  228,  101,  123,  397,  799,  404,  191,  274,  827,  657,  757,\n",
      "         726,  120,  387,  374,  594,  663,  645,  320,  825,  946,   24,  812,\n",
      "         614,  524,  410,  270, 1018,  741,  221,  807,  899,  956,  964,  595,\n",
      "         205,   90,  454,   38,  917,  210,  232,  273,  253,  559, 1010,  847,\n",
      "         558,  814,  691,  470,  151,  935,  579,  966,   34,  813,  581,  295]), 'in_features': 300, 'out_features': 10}\n"
     ]
    },
    {
     "name": "stderr",
     "output_type": "stream",
     "text": [
      "LOCAL_RANK: 0 - CUDA_VISIBLE_DEVICES: [3]\n"
     ]
    },
    {
     "data": {
      "application/vnd.jupyter.widget-view+json": {
       "model_id": "51da77ce4ca44dda9e699525f1a50350",
       "version_major": 2,
       "version_minor": 0
      },
      "text/plain": [
       "Predicting: 0it [00:00, ?it/s]"
      ]
     },
     "metadata": {},
     "output_type": "display_data"
    },
    {
     "name": "stderr",
     "output_type": "stream",
     "text": [
      "Global seed set to 2\n",
      "No pretrained weights exist or were found for this model. Using random initialization.\n",
      "Global seed set to 2\n",
      "GPU available: True, used: True\n",
      "TPU available: False, using: 0 TPU cores\n",
      "IPU available: False, using: 0 IPUs\n",
      "Global seed set to 0\n"
     ]
    },
    {
     "name": "stdout",
     "output_type": "stream",
     "text": [
      "{'training': True, '_parameters': OrderedDict(), '_buffers': OrderedDict(), '_non_persistent_buffers_set': set(), '_backward_hooks': OrderedDict(), '_is_full_backward_hook': None, '_forward_hooks': OrderedDict(), '_forward_pre_hooks': OrderedDict(), '_state_dict_hooks': OrderedDict(), '_load_state_dict_pre_hooks': OrderedDict(), '_load_state_dict_post_hooks': OrderedDict(), '_modules': OrderedDict([('linear', Linear(in_features=300, out_features=10, bias=True))]), 'neuron_indices': tensor([ 168,  361,  293, 1002,  522,   59, 1018,  479,  440,  300,  628,  847,\n",
      "         779,  134,  439,  386,  719,  401,  370,  544,   36,  798,  773,  691,\n",
      "         475,  382,  688,  432,  583,  187,  893,  306,  970,  817,  820,  985,\n",
      "         335,  223,  765,  889,  268,  848,  214,  537,  395,  337,  503,  107,\n",
      "         816,  262,  500,  800,  170,  511,  292,  513,  591,  793,  263,  536,\n",
      "         806,  502,  490,  264,  250,  669,  813,  454,  556,  651,  795,  828,\n",
      "         504,  496,  521,  242,  973,  873,  962,  318,  698,  546,  805,  167,\n",
      "         727,  305,  906,  703,  448,   54,  654,  328,  336,  931,  210,  752,\n",
      "         950,  862,  186,  415,   15,  161,  174,  165,  553,  990,  786,  283,\n",
      "         289,  130,  419,  322, 1013,  290,  340,  853,  426,  784,  638,  757,\n",
      "         532,  678,  234,  608,  718,  710,  927,  119,  144,  630,  507,  885,\n",
      "          77,   69,  865,  220,  632,   12,  988,  941,  599,  359,  579, 1023,\n",
      "         877,  445,  451,  425,  327,   25,  792,  437,  822,  645,  385,  670,\n",
      "         118,  390,  413,  576,  414,  658,  278,   39,  952,  120,  733,  619,\n",
      "          61,  273,  369,  767,  849,  951,   60,  243,  559,  154,  650,  562,\n",
      "         543,  311,  514,  597,  622,   92,  573,  466,  686,  593,  930,  135,\n",
      "         928,  509,  178,  960,  955,  482,   18,  215,  100,  280,  675,  667,\n",
      "           2,  298,  707,  588,  968,  566,  942, 1021,  148,  275,  629,  436,\n",
      "         151,  246,  251,  577,  748,   71,  188,  456,   80,  464,  693,   90,\n",
      "         879,  770,  704,  922,  856,  842,  434,  407,  379, 1007,  423,  282,\n",
      "         453,  911,  245,  189,   97,  596,  664,  890,  443,  610,  590,  919,\n",
      "          19,  595,  857,  257,  392,  755,  984,  217,  561,  384,  705,  461,\n",
      "         491,  916,  442,   68,  477,  609,  618,   86,  139,  665,  634,  122,\n",
      "         104,  746,  345,   41,  837,  721,  672,  682,  538,  726,  531,  171,\n",
      "         409,  932,  676,  986,   17,  164,  224,  211,  574,  497,  313,  581]), 'in_features': 300, 'out_features': 10}\n"
     ]
    },
    {
     "name": "stderr",
     "output_type": "stream",
     "text": [
      "LOCAL_RANK: 0 - CUDA_VISIBLE_DEVICES: [3]\n"
     ]
    },
    {
     "data": {
      "application/vnd.jupyter.widget-view+json": {
       "model_id": "f2feef5f4511412e9ffad15363b6035e",
       "version_major": 2,
       "version_minor": 0
      },
      "text/plain": [
       "Predicting: 0it [00:00, ?it/s]"
      ]
     },
     "metadata": {},
     "output_type": "display_data"
    },
    {
     "name": "stderr",
     "output_type": "stream",
     "text": [
      "Global seed set to 2\n",
      "No pretrained weights exist or were found for this model. Using random initialization.\n",
      "Global seed set to 3\n",
      "GPU available: True, used: True\n",
      "TPU available: False, using: 0 TPU cores\n",
      "IPU available: False, using: 0 IPUs\n",
      "Global seed set to 0\n"
     ]
    },
    {
     "name": "stdout",
     "output_type": "stream",
     "text": [
      "{'training': True, '_parameters': OrderedDict(), '_buffers': OrderedDict(), '_non_persistent_buffers_set': set(), '_backward_hooks': OrderedDict(), '_is_full_backward_hook': None, '_forward_hooks': OrderedDict(), '_forward_pre_hooks': OrderedDict(), '_state_dict_hooks': OrderedDict(), '_load_state_dict_pre_hooks': OrderedDict(), '_load_state_dict_post_hooks': OrderedDict(), '_modules': OrderedDict([('linear', Linear(in_features=300, out_features=10, bias=True))]), 'neuron_indices': tensor([ 874,  636,  761,  257,  824,  970,  354,  432,  493,  373,  938,  758,\n",
      "         981, 1014,  520,  589,  631,  582,   26,  918,  152,  574,  439,  814,\n",
      "         496,   66,  783,    8,  350,  634,  804,  659,   92,  896,  103,  795,\n",
      "         857,  368,  340,  845,  509,  503,   52,  547,  198, 1016,  596,  800,\n",
      "         273,  175,   43,  320,  701,  926,  458,  725,  973,  794,   45,  886,\n",
      "         300,  453,  654,  775,  448,  823,  812,  168,  579,  944,  754,  714,\n",
      "         559,  515,  311,  218,  537,  116,  765,  894,  469,  500,  436, 1003,\n",
      "         176,  551,  279,  950,  312,  684, 1008,  533,  264,   42,  304,  858,\n",
      "         855,  112,  323,  803,  213,  395,  724,  494,  289,  925,  571,  616,\n",
      "           0,   79,  342,  989,   75,  865,  308,  566,  487,  497,  372,  602,\n",
      "         412,  207,  773,  367, 1021,  123,  778,  256,  541,  987,  202,  968,\n",
      "         949,   14,  573,  696,  131,  819,  457,  149,  290,  667,  536,  827,\n",
      "         740,  603,  614,  385,  283,  433,  852,  985,  231,  208,   78,   39,\n",
      "         147,  982,  140,  444,  402,  872,  906,  810,  195,  425,    7,  640,\n",
      "        1022,  558,  563,  572,  781,  897,  743,  969,  780,  876,  912, 1005,\n",
      "         129,  346,  511,   24,  196,  928,  834,  932, 1012,  206,  332,  861,\n",
      "         410,   59,  185,  816,  584,   10,  759,  612,  954,  212,  249,  316,\n",
      "         997,  895,  796,  567,  159,  915,  101, 1009, 1020,  262,  682,  792,\n",
      "         532,    6,  540,  785,  957,  181,  240,  378,  374,  510,  700,  964,\n",
      "         460,  611,  624,  805,   46,  443,  337,  613,  143,  916,  723,  401,\n",
      "         793,  197,  122,  712,  847,  562,  993,   64,  943,  939,  961,  383,\n",
      "         317,  626,  120,  104,  171,  913,  910,  853,  822,  539,  275,  465,\n",
      "        1007,  464,  278,  900,   98,  561,   33, 1013,  483,   18,   47,  245,\n",
      "         344,  106,  904,  455,  113,   60,  331,  817,  226,  638,   44,  505,\n",
      "         472,   57,  479,   48,  557,  219,  437,  215,  490,  423,  419,  945]), 'in_features': 300, 'out_features': 10}\n"
     ]
    },
    {
     "name": "stderr",
     "output_type": "stream",
     "text": [
      "LOCAL_RANK: 0 - CUDA_VISIBLE_DEVICES: [3]\n"
     ]
    },
    {
     "data": {
      "application/vnd.jupyter.widget-view+json": {
       "model_id": "fe54cf1ea6b54b97baf03d1c30072932",
       "version_major": 2,
       "version_minor": 0
      },
      "text/plain": [
       "Predicting: 0it [00:00, ?it/s]"
      ]
     },
     "metadata": {},
     "output_type": "display_data"
    },
    {
     "name": "stderr",
     "output_type": "stream",
     "text": [
      "Global seed set to 2\n",
      "No pretrained weights exist or were found for this model. Using random initialization.\n",
      "Global seed set to 4\n",
      "GPU available: True, used: True\n",
      "TPU available: False, using: 0 TPU cores\n",
      "IPU available: False, using: 0 IPUs\n",
      "Global seed set to 0\n"
     ]
    },
    {
     "name": "stdout",
     "output_type": "stream",
     "text": [
      "{'training': True, '_parameters': OrderedDict(), '_buffers': OrderedDict(), '_non_persistent_buffers_set': set(), '_backward_hooks': OrderedDict(), '_is_full_backward_hook': None, '_forward_hooks': OrderedDict(), '_forward_pre_hooks': OrderedDict(), '_state_dict_hooks': OrderedDict(), '_load_state_dict_pre_hooks': OrderedDict(), '_load_state_dict_post_hooks': OrderedDict(), '_modules': OrderedDict([('linear', Linear(in_features=300, out_features=10, bias=True))]), 'neuron_indices': tensor([ 122,  739,  133,   11,  853,  464,  457,  929,   10,   30,  386,  789,\n",
      "         715,  332,  834,  687,  567,  151,  756,  681,  850,  125,  228,  641,\n",
      "         746,  158,   33,  541,  199,  416,  869,  168,  262,  362,  858,  694,\n",
      "         650,  947,  105,  248,  736,  773,  188,  513,  131,  915,  606,  521,\n",
      "         538,  116,  623,  748,  306,  710,  500,  473,  922,  286,    7,   57,\n",
      "        1023,  445,  671,  759,  977,  835,  601,  956,  433,  381,  294,  666,\n",
      "         695,  984,  590,  220,   12,  179,  696,  656,  247,  646,  474,  167,\n",
      "         923,  315,   34,  913,  177,  129,  299,  573,  339,  212,   15,  705,\n",
      "         367,  391,  361,  625,   17,  271,  706,  345,  701,  631,  811,  130,\n",
      "          27,  285,  263,  639,   46,  645,  810,  289,  196,  712,  353,  519,\n",
      "          88,  603,  637,  242,  393,  882,  602,  283,  955,   85,  998,  876,\n",
      "         846,  629,   74,  533,  488,  570,  723,  107,  542,  619,  802,  327,\n",
      "         689,  634,  341,  891,  983,  169,  485,  954,  429, 1022,  530,  675,\n",
      "         335,  319,  790,  920,  607,  732,  543,  962,  323,   49,  170, 1004,\n",
      "         101,  826,  437,   61,  102,  740,  974,  231,   31,    0,  647,  663,\n",
      "         953,  827,  536,  730,  930,  421,  986,  390,  635,  482,  653,  678,\n",
      "         470,  431,  841,  557,    1,  428,  742,  668,  798, 1002, 1017,  951,\n",
      "         884, 1008,  166,  558,  805,  911,  113,  368,  583,  895,  597,   90,\n",
      "         720,  491,   80,  246,  816,  633,  132,  301,  528,  486,  302,  587,\n",
      "         253,  334,   13,  236,   67,  545,  383,  444,  932,  781,  917,  238,\n",
      "         458,   14, 1012,  699,  483,  274,  160, 1016,  265,  515,  848,  985,\n",
      "         300,  914,  994,  777,   48,  793,  952,  698,  945,  878,  591,  927,\n",
      "         257,   69,  547,  396,  419,  999,  241,  610,  652,  561,  758,  822,\n",
      "         821,  140,  825,  404,  769,  806,  942,  722,  417,  809,  495,  845,\n",
      "         889,   47,  434,  409,  752,  472,  905,  808,  812,  209,  662,  351]), 'in_features': 300, 'out_features': 10}\n"
     ]
    },
    {
     "name": "stderr",
     "output_type": "stream",
     "text": [
      "LOCAL_RANK: 0 - CUDA_VISIBLE_DEVICES: [3]\n"
     ]
    },
    {
     "data": {
      "application/vnd.jupyter.widget-view+json": {
       "model_id": "beb7dd16cf0f4420b6192b1c3d59fb25",
       "version_major": 2,
       "version_minor": 0
      },
      "text/plain": [
       "Predicting: 0it [00:00, ?it/s]"
      ]
     },
     "metadata": {},
     "output_type": "display_data"
    },
    {
     "name": "stderr",
     "output_type": "stream",
     "text": [
      "Global seed set to 2\n",
      "No pretrained weights exist or were found for this model. Using random initialization.\n",
      "Global seed set to 1\n",
      "GPU available: True, used: True\n",
      "TPU available: False, using: 0 TPU cores\n",
      "IPU available: False, using: 0 IPUs\n",
      "Global seed set to 0\n"
     ]
    },
    {
     "name": "stdout",
     "output_type": "stream",
     "text": [
      "{'training': True, '_parameters': OrderedDict(), '_buffers': OrderedDict(), '_non_persistent_buffers_set': set(), '_backward_hooks': OrderedDict(), '_is_full_backward_hook': None, '_forward_hooks': OrderedDict(), '_forward_pre_hooks': OrderedDict(), '_state_dict_hooks': OrderedDict(), '_load_state_dict_pre_hooks': OrderedDict(), '_load_state_dict_post_hooks': OrderedDict(), '_modules': OrderedDict([('linear', Linear(in_features=400, out_features=10, bias=True))]), 'neuron_indices': tensor([  37,  708,  342,    9,  647,  767,  633,  291,  607,  306,  648,  514,\n",
      "         588,  660,  257,  444,  694,  492,  878,  770,  758,   89,  126,  561,\n",
      "         747,  223,  786,  658,  261,  403,  156,  783,  631,  353,  491,  818,\n",
      "         699,  640,  310,  354,  253,  220,  649,  552,   47,  136,  646,  570,\n",
      "         673,  113,  112,  322,   92,  888,  855,  776,   95,  941,  955,  247,\n",
      "         626,  428,  789,   36,  277,  886,  987,  408,  348,    2, 1019,  129,\n",
      "         868,  210,  896,  983,  153,   44,  191,  239,  255,  182,  462,  759,\n",
      "         659,  385,  757,  901,  122,  883,  248,   79,  617,  961,  907,  162,\n",
      "         215,  180,  728,  686,  225,  414,  445,  242,  760,  202,  296,  706,\n",
      "         523,  359,  423,  687, 1017,  251,  110,  357,  850,  311,  930,  714,\n",
      "         160,  881,   87,  991,  693,  443,  613,  453,  504,  355,  145,  595,\n",
      "         828,  361,  952,  450,  796,   50,  167,  208,  723,  697,  768,   61,\n",
      "          15,  795,  386,  995,  988,  979,  455,  582,  524,  679,  176, 1001,\n",
      "         107,  196,  851,  821,  503,  438,  683,  295,  753, 1010,  682,  193,\n",
      "         340,  913,  978,   43,  534,  554,  931,  815,   26,  114,  843,  303,\n",
      "         200,  924,  581,  467,  103,  382,  154,  158,  418,  259,  366,    0,\n",
      "         263,   10,  984,  238,   21,  437,  777,  910,  980,  915,  772,  102,\n",
      "         609,  742,  483,  804,  625,  419,  406,  486,  516,  324,  799,  918,\n",
      "         141,  802,  787,  397,  909,  560,  973,   58,  846,  168,  226,  575,\n",
      "         479,  384,  391,  616,  209,  243,  620,  138,  689,  639,  369,  923,\n",
      "         885,  898,  232,  996,  989,  178,   59,  725,   33,  573,  509,  853,\n",
      "         928,    6,   75,  839,  656,  468,  892,  756,  179,  508,  464,  484,\n",
      "         870,   11, 1003,  434,  183,  465,  343,   88,  785,  827,  812,  771,\n",
      "         344,  106,  982,  376,  207,  792,  836,  212,  944,   23,  267,  676,\n",
      "          41,  734,  970,  527,  568,  395,  280,  897,  489,  300,  550,  268,\n",
      "         488,  778,  736,   86,   17,  856,  586,  638,  698,  939,  721,  469,\n",
      "         170,  902,  173,  426,  293,  869,  705,  335,  764,  135,  642,  899,\n",
      "         432, 1014,  519, 1018,  832,  738,  867,  256,   46,  380,  351,  781,\n",
      "         911,  553,  741,  329,  331,  132,  370,  715,  520, 1002,  430,  585,\n",
      "          98,  529,  320,  219,  199,  904,  393,   52,  953,  713,  990,  556,\n",
      "         377,  431,  336,  914,  709,  204, 1008, 1007,  217,  743,  986,  807,\n",
      "          65,  603,  748,  666,  800,  500,   49,  662,  940,  555,  139,  374,\n",
      "         507,  190,  735,  109,  471,  999,   28,  501,   24,  717,  346,  372,\n",
      "         470,  577,   62,   25]), 'in_features': 400, 'out_features': 10}\n"
     ]
    },
    {
     "name": "stderr",
     "output_type": "stream",
     "text": [
      "LOCAL_RANK: 0 - CUDA_VISIBLE_DEVICES: [3]\n"
     ]
    },
    {
     "data": {
      "application/vnd.jupyter.widget-view+json": {
       "model_id": "2e9fc8338c584026a01dac4a13ce1526",
       "version_major": 2,
       "version_minor": 0
      },
      "text/plain": [
       "Predicting: 0it [00:00, ?it/s]"
      ]
     },
     "metadata": {},
     "output_type": "display_data"
    },
    {
     "name": "stderr",
     "output_type": "stream",
     "text": [
      "Global seed set to 2\n",
      "No pretrained weights exist or were found for this model. Using random initialization.\n",
      "Global seed set to 2\n",
      "GPU available: True, used: True\n",
      "TPU available: False, using: 0 TPU cores\n",
      "IPU available: False, using: 0 IPUs\n",
      "Global seed set to 0\n"
     ]
    },
    {
     "name": "stdout",
     "output_type": "stream",
     "text": [
      "{'training': True, '_parameters': OrderedDict(), '_buffers': OrderedDict(), '_non_persistent_buffers_set': set(), '_backward_hooks': OrderedDict(), '_is_full_backward_hook': None, '_forward_hooks': OrderedDict(), '_forward_pre_hooks': OrderedDict(), '_state_dict_hooks': OrderedDict(), '_load_state_dict_pre_hooks': OrderedDict(), '_load_state_dict_post_hooks': OrderedDict(), '_modules': OrderedDict([('linear', Linear(in_features=400, out_features=10, bias=True))]), 'neuron_indices': tensor([ 168,  361,  293, 1002,  522,   59, 1018,  479,  440,  300,  628,  847,\n",
      "         779,  134,  439,  386,  719,  401,  370,  544,   36,  798,  773,  691,\n",
      "         475,  382,  688,  432,  583,  187,  893,  306,  970,  817,  820,  985,\n",
      "         335,  223,  765,  889,  268,  848,  214,  537,  395,  337,  503,  107,\n",
      "         816,  262,  500,  800,  170,  511,  292,  513,  591,  793,  263,  536,\n",
      "         806,  502,  490,  264,  250,  669,  813,  454,  556,  651,  795,  828,\n",
      "         504,  496,  521,  242,  973,  873,  962,  318,  698,  546,  805,  167,\n",
      "         727,  305,  906,  703,  448,   54,  654,  328,  336,  931,  210,  752,\n",
      "         950,  862,  186,  415,   15,  161,  174,  165,  553,  990,  786,  283,\n",
      "         289,  130,  419,  322, 1013,  290,  340,  853,  426,  784,  638,  757,\n",
      "         532,  678,  234,  608,  718,  710,  927,  119,  144,  630,  507,  885,\n",
      "          77,   69,  865,  220,  632,   12,  988,  941,  599,  359,  579, 1023,\n",
      "         877,  445,  451,  425,  327,   25,  792,  437,  822,  645,  385,  670,\n",
      "         118,  390,  413,  576,  414,  658,  278,   39,  952,  120,  733,  619,\n",
      "          61,  273,  369,  767,  849,  951,   60,  243,  559,  154,  650,  562,\n",
      "         543,  311,  514,  597,  622,   92,  573,  466,  686,  593,  930,  135,\n",
      "         928,  509,  178,  960,  955,  482,   18,  215,  100,  280,  675,  667,\n",
      "           2,  298,  707,  588,  968,  566,  942, 1021,  148,  275,  629,  436,\n",
      "         151,  246,  251,  577,  748,   71,  188,  456,   80,  464,  693,   90,\n",
      "         879,  770,  704,  922,  856,  842,  434,  407,  379, 1007,  423,  282,\n",
      "         453,  911,  245,  189,   97,  596,  664,  890,  443,  610,  590,  919,\n",
      "          19,  595,  857,  257,  392,  755,  984,  217,  561,  384,  705,  461,\n",
      "         491,  916,  442,   68,  477,  609,  618,   86,  139,  665,  634,  122,\n",
      "         104,  746,  345,   41,  837,  721,  672,  682,  538,  726,  531,  171,\n",
      "         409,  932,  676,  986,   17,  164,  224,  211,  574,  497,  313,  581,\n",
      "         957,   33,  935,  526,  929,  921,  723,   32,  325,    4,  766,   30,\n",
      "         568,  412,  754,  232,  601,  277,  685,   91,  661,  193,  175,  473,\n",
      "         185,  374,  302,  555,  196,    0,  656,  360,  462,  460,  602,  143,\n",
      "         367,   79,  649,  826,  759,   84,  947,  730,   63,  428,  113,  363,\n",
      "         516,  343,  809,  987,  668,  446,  541,  836,  418,  430,  646,  625,\n",
      "         869,  505,  372,   73,  633,  655,  998,  903,  320,  749, 1008,  594,\n",
      "         301,   24,  230,  326,  110,  564,  357,  603,   14,  687,  937,   76,\n",
      "         117,  774,  276,  467,   67,  315,   21,  156,  375,  523,  321,  213,\n",
      "          46,  179, 1005,   31]), 'in_features': 400, 'out_features': 10}\n"
     ]
    },
    {
     "name": "stderr",
     "output_type": "stream",
     "text": [
      "LOCAL_RANK: 0 - CUDA_VISIBLE_DEVICES: [3]\n"
     ]
    },
    {
     "data": {
      "application/vnd.jupyter.widget-view+json": {
       "model_id": "ce7f4cc0bc7e49669a02a61f829b6f96",
       "version_major": 2,
       "version_minor": 0
      },
      "text/plain": [
       "Predicting: 0it [00:00, ?it/s]"
      ]
     },
     "metadata": {},
     "output_type": "display_data"
    },
    {
     "name": "stderr",
     "output_type": "stream",
     "text": [
      "Global seed set to 2\n",
      "No pretrained weights exist or were found for this model. Using random initialization.\n",
      "Global seed set to 5\n",
      "GPU available: True, used: True\n",
      "TPU available: False, using: 0 TPU cores\n",
      "IPU available: False, using: 0 IPUs\n",
      "Global seed set to 0\n"
     ]
    },
    {
     "name": "stdout",
     "output_type": "stream",
     "text": [
      "{'training': True, '_parameters': OrderedDict(), '_buffers': OrderedDict(), '_non_persistent_buffers_set': set(), '_backward_hooks': OrderedDict(), '_is_full_backward_hook': None, '_forward_hooks': OrderedDict(), '_forward_pre_hooks': OrderedDict(), '_state_dict_hooks': OrderedDict(), '_load_state_dict_pre_hooks': OrderedDict(), '_load_state_dict_post_hooks': OrderedDict(), '_modules': OrderedDict([('linear', Linear(in_features=400, out_features=10, bias=True))]), 'neuron_indices': tensor([ 867,  451, 1005,   61,  150, 1023,  242,   18,  296,  258,  887,  422,\n",
      "         719,  243,  912,  244,  391,  790,  863,   68,  533,  485,  442,   17,\n",
      "         708,   10,  313,  855,  723,  735,  222,  138,  701,  111,  644,  542,\n",
      "         621,  567,  879,  488,  494,  765,  474,  774,  984,  659,  441,  237,\n",
      "         768,  479,  416,  538,  996,  898,  913,  300,  687,  514,  192,    5,\n",
      "         525,  433,  435,  962,  369,  609, 1003,  919,  264,  236,  176,  393,\n",
      "          28,   25,   33,   30, 1009,  304,  475,  553,  254,  992,  979,  406,\n",
      "         653, 1004,   82,  170,  310,  493,   50,  500,  809,  679,  669,  152,\n",
      "         677,  954,  133,  690,  496,  611,   19,  977,  696,  901,  338,  598,\n",
      "         892,  873,  238,  861,  366,  290,  302,  806,  319,  652,  245,  658,\n",
      "         848,  177,  240,  970,   43,  251,  484,  380,  261,  933,  204,  698,\n",
      "          76,  907,  764,  306,  781,  893,  856,  173,   39,  536,  252,  830,\n",
      "         239,  570,   98,  668,  836,  269,   57,  853,  748,  544,    7,  389,\n",
      "           8,  864,  880,  215,  339,   99,  401,  153,  463,  452,  202,  195,\n",
      "         467,  179,  639,  837,  736,  945,  509,  766,  620,   13,  976,  383,\n",
      "         947,  201,  248,  355,  578, 1000,   47,  506,  980,  522,  395,  554,\n",
      "         711,    3,  562,   31,  808,  430,  960,  325,  928,  877,  903,  384,\n",
      "         849,  921,  135,  461,  683,  895,  450,  200,  250,  163,  423,  518,\n",
      "         341,  148,  545,  190,  883,   80,  868,  882,  758,  793,  674,  141,\n",
      "         537,  682,   65,  734,  198,  732,  737,  331,  188,  166,  905, 1007,\n",
      "         740,  228,  101,  123,  397,  799,  404,  191,  274,  827,  657,  757,\n",
      "         726,  120,  387,  374,  594,  663,  645,  320,  825,  946,   24,  812,\n",
      "         614,  524,  410,  270, 1018,  741,  221,  807,  899,  956,  964,  595,\n",
      "         205,   90,  454,   38,  917,  210,  232,  273,  253,  559, 1010,  847,\n",
      "         558,  814,  691,  470,  151,  935,  579,  966,   34,  813,  581,  295,\n",
      "          16,  760,  272,  852,  995,  788,  600,  720,  973,  642,  566,  379,\n",
      "         703,   26,  575,  678,  471,  528,  347,  142,  539,  335,  407,  978,\n",
      "         327,  786,   89,  293,  821,  403,  787,  670,  622,  884,  100,  181,\n",
      "         854,  119,  508,   54,  417,  733,  874,  865,  360,  574,  256,  233,\n",
      "         507,   11,  495,  937,  592,  318,  676, 1020,   15,  844,  571,  405,\n",
      "         476,  303,  353,  109,  110,  106,  640,  842,  447,  280,  779,  782,\n",
      "         247,  666,  108,  363, 1012,  526,  132,  673,   72,  599,  647,    4,\n",
      "          46,  323,  351,  333,  588,  983,   73,  743,  378,  767,  373,  886,\n",
      "         942,  940,  364,   44]), 'in_features': 400, 'out_features': 10}\n"
     ]
    },
    {
     "name": "stderr",
     "output_type": "stream",
     "text": [
      "LOCAL_RANK: 0 - CUDA_VISIBLE_DEVICES: [3]\n"
     ]
    },
    {
     "data": {
      "application/vnd.jupyter.widget-view+json": {
       "model_id": "c7d8c29da94c47eda050ddd6f2c329a2",
       "version_major": 2,
       "version_minor": 0
      },
      "text/plain": [
       "Predicting: 0it [00:00, ?it/s]"
      ]
     },
     "metadata": {},
     "output_type": "display_data"
    },
    {
     "name": "stderr",
     "output_type": "stream",
     "text": [
      "Global seed set to 2\n",
      "No pretrained weights exist or were found for this model. Using random initialization.\n",
      "Global seed set to 4\n",
      "GPU available: True, used: True\n",
      "TPU available: False, using: 0 TPU cores\n",
      "IPU available: False, using: 0 IPUs\n",
      "Global seed set to 0\n"
     ]
    },
    {
     "name": "stdout",
     "output_type": "stream",
     "text": [
      "{'training': True, '_parameters': OrderedDict(), '_buffers': OrderedDict(), '_non_persistent_buffers_set': set(), '_backward_hooks': OrderedDict(), '_is_full_backward_hook': None, '_forward_hooks': OrderedDict(), '_forward_pre_hooks': OrderedDict(), '_state_dict_hooks': OrderedDict(), '_load_state_dict_pre_hooks': OrderedDict(), '_load_state_dict_post_hooks': OrderedDict(), '_modules': OrderedDict([('linear', Linear(in_features=400, out_features=10, bias=True))]), 'neuron_indices': tensor([ 122,  739,  133,   11,  853,  464,  457,  929,   10,   30,  386,  789,\n",
      "         715,  332,  834,  687,  567,  151,  756,  681,  850,  125,  228,  641,\n",
      "         746,  158,   33,  541,  199,  416,  869,  168,  262,  362,  858,  694,\n",
      "         650,  947,  105,  248,  736,  773,  188,  513,  131,  915,  606,  521,\n",
      "         538,  116,  623,  748,  306,  710,  500,  473,  922,  286,    7,   57,\n",
      "        1023,  445,  671,  759,  977,  835,  601,  956,  433,  381,  294,  666,\n",
      "         695,  984,  590,  220,   12,  179,  696,  656,  247,  646,  474,  167,\n",
      "         923,  315,   34,  913,  177,  129,  299,  573,  339,  212,   15,  705,\n",
      "         367,  391,  361,  625,   17,  271,  706,  345,  701,  631,  811,  130,\n",
      "          27,  285,  263,  639,   46,  645,  810,  289,  196,  712,  353,  519,\n",
      "          88,  603,  637,  242,  393,  882,  602,  283,  955,   85,  998,  876,\n",
      "         846,  629,   74,  533,  488,  570,  723,  107,  542,  619,  802,  327,\n",
      "         689,  634,  341,  891,  983,  169,  485,  954,  429, 1022,  530,  675,\n",
      "         335,  319,  790,  920,  607,  732,  543,  962,  323,   49,  170, 1004,\n",
      "         101,  826,  437,   61,  102,  740,  974,  231,   31,    0,  647,  663,\n",
      "         953,  827,  536,  730,  930,  421,  986,  390,  635,  482,  653,  678,\n",
      "         470,  431,  841,  557,    1,  428,  742,  668,  798, 1002, 1017,  951,\n",
      "         884, 1008,  166,  558,  805,  911,  113,  368,  583,  895,  597,   90,\n",
      "         720,  491,   80,  246,  816,  633,  132,  301,  528,  486,  302,  587,\n",
      "         253,  334,   13,  236,   67,  545,  383,  444,  932,  781,  917,  238,\n",
      "         458,   14, 1012,  699,  483,  274,  160, 1016,  265,  515,  848,  985,\n",
      "         300,  914,  994,  777,   48,  793,  952,  698,  945,  878,  591,  927,\n",
      "         257,   69,  547,  396,  419,  999,  241,  610,  652,  561,  758,  822,\n",
      "         821,  140,  825,  404,  769,  806,  942,  722,  417,  809,  495,  845,\n",
      "         889,   47,  434,  409,  752,  472,  905,  808,  812,  209,  662,  351,\n",
      "         422,  568,  971,  921,  879,  357,  980,  492,  397,  157,   45,  311,\n",
      "         901,  593,  544,  127,  117,  904,  581,  948,  772,  968,  731,  928,\n",
      "         686,  504,  982,  506,  622, 1007,  108,  186,  202,   19,  569,  219,\n",
      "          21,   25,  682,  244,  525,  350,  371,  989,  136,  501,  674,   84,\n",
      "          91,  925, 1014,  316,  807,  609,  337,  580,  899,  669, 1021,  410,\n",
      "         377, 1001,  738,  560,  412,  540,  679,  480,  174,  729,  893,  585,\n",
      "         577,  333, 1020,  146,  820,  507,   43,  479,  963,  346,  232,  307,\n",
      "         494,  193,  660,  615,  579,  191, 1019, 1003,  134,  796,  993,  245,\n",
      "         281,  317,  373,   42]), 'in_features': 400, 'out_features': 10}\n"
     ]
    },
    {
     "name": "stderr",
     "output_type": "stream",
     "text": [
      "LOCAL_RANK: 0 - CUDA_VISIBLE_DEVICES: [3]\n"
     ]
    },
    {
     "data": {
      "application/vnd.jupyter.widget-view+json": {
       "model_id": "d1a48cc15c9a48dbad64bdfe1ad89c78",
       "version_major": 2,
       "version_minor": 0
      },
      "text/plain": [
       "Predicting: 0it [00:00, ?it/s]"
      ]
     },
     "metadata": {},
     "output_type": "display_data"
    },
    {
     "name": "stderr",
     "output_type": "stream",
     "text": [
      "Global seed set to 2\n",
      "No pretrained weights exist or were found for this model. Using random initialization.\n",
      "Global seed set to 3\n",
      "GPU available: True, used: True\n",
      "TPU available: False, using: 0 TPU cores\n",
      "IPU available: False, using: 0 IPUs\n",
      "Global seed set to 0\n"
     ]
    },
    {
     "name": "stdout",
     "output_type": "stream",
     "text": [
      "{'training': True, '_parameters': OrderedDict(), '_buffers': OrderedDict(), '_non_persistent_buffers_set': set(), '_backward_hooks': OrderedDict(), '_is_full_backward_hook': None, '_forward_hooks': OrderedDict(), '_forward_pre_hooks': OrderedDict(), '_state_dict_hooks': OrderedDict(), '_load_state_dict_pre_hooks': OrderedDict(), '_load_state_dict_post_hooks': OrderedDict(), '_modules': OrderedDict([('linear', Linear(in_features=400, out_features=10, bias=True))]), 'neuron_indices': tensor([ 874,  636,  761,  257,  824,  970,  354,  432,  493,  373,  938,  758,\n",
      "         981, 1014,  520,  589,  631,  582,   26,  918,  152,  574,  439,  814,\n",
      "         496,   66,  783,    8,  350,  634,  804,  659,   92,  896,  103,  795,\n",
      "         857,  368,  340,  845,  509,  503,   52,  547,  198, 1016,  596,  800,\n",
      "         273,  175,   43,  320,  701,  926,  458,  725,  973,  794,   45,  886,\n",
      "         300,  453,  654,  775,  448,  823,  812,  168,  579,  944,  754,  714,\n",
      "         559,  515,  311,  218,  537,  116,  765,  894,  469,  500,  436, 1003,\n",
      "         176,  551,  279,  950,  312,  684, 1008,  533,  264,   42,  304,  858,\n",
      "         855,  112,  323,  803,  213,  395,  724,  494,  289,  925,  571,  616,\n",
      "           0,   79,  342,  989,   75,  865,  308,  566,  487,  497,  372,  602,\n",
      "         412,  207,  773,  367, 1021,  123,  778,  256,  541,  987,  202,  968,\n",
      "         949,   14,  573,  696,  131,  819,  457,  149,  290,  667,  536,  827,\n",
      "         740,  603,  614,  385,  283,  433,  852,  985,  231,  208,   78,   39,\n",
      "         147,  982,  140,  444,  402,  872,  906,  810,  195,  425,    7,  640,\n",
      "        1022,  558,  563,  572,  781,  897,  743,  969,  780,  876,  912, 1005,\n",
      "         129,  346,  511,   24,  196,  928,  834,  932, 1012,  206,  332,  861,\n",
      "         410,   59,  185,  816,  584,   10,  759,  612,  954,  212,  249,  316,\n",
      "         997,  895,  796,  567,  159,  915,  101, 1009, 1020,  262,  682,  792,\n",
      "         532,    6,  540,  785,  957,  181,  240,  378,  374,  510,  700,  964,\n",
      "         460,  611,  624,  805,   46,  443,  337,  613,  143,  916,  723,  401,\n",
      "         793,  197,  122,  712,  847,  562,  993,   64,  943,  939,  961,  383,\n",
      "         317,  626,  120,  104,  171,  913,  910,  853,  822,  539,  275,  465,\n",
      "        1007,  464,  278,  900,   98,  561,   33, 1013,  483,   18,   47,  245,\n",
      "         344,  106,  904,  455,  113,   60,  331,  817,  226,  638,   44,  505,\n",
      "         472,   57,  479,   48,  557,  219,  437,  215,  490,  423,  419,  945,\n",
      "          72,  166,  590,  799,  747,  370,  154,  438,  529,  501,  287,  782,\n",
      "         940,  426,  430,  879,  959,  167,  362,  391,  470,  666,  100,  594,\n",
      "         930,    9,  375,  191,  336,  880,   11,  230,  674,  742,  199,   54,\n",
      "         690,  394,   36,  779,   67,   73,  333,  731,  722,  295,  860,  477,\n",
      "         606,  427,  806,  726,  741,  771,   53,  435,  260,  967,  179,   76,\n",
      "         618,  881,  718,  643,  546,  356,  454,  450,  307,  835,  745,  293,\n",
      "          96,  204,  644,  492,  600,  923,   19,  998,  577,  622,  343,  832,\n",
      "         734,  272,  164,   81,   94,  521,  625,  889,  192,  652,  303,  499,\n",
      "         489,  627,  595,  875]), 'in_features': 400, 'out_features': 10}\n"
     ]
    },
    {
     "name": "stderr",
     "output_type": "stream",
     "text": [
      "LOCAL_RANK: 0 - CUDA_VISIBLE_DEVICES: [3]\n"
     ]
    },
    {
     "data": {
      "application/vnd.jupyter.widget-view+json": {
       "model_id": "52021c5fe5d1464ab78a48703a38a1f5",
       "version_major": 2,
       "version_minor": 0
      },
      "text/plain": [
       "Predicting: 0it [00:00, ?it/s]"
      ]
     },
     "metadata": {},
     "output_type": "display_data"
    },
    {
     "name": "stderr",
     "output_type": "stream",
     "text": [
      "Global seed set to 2\n",
      "No pretrained weights exist or were found for this model. Using random initialization.\n",
      "Global seed set to 4\n",
      "GPU available: True, used: True\n",
      "TPU available: False, using: 0 TPU cores\n",
      "IPU available: False, using: 0 IPUs\n",
      "Global seed set to 0\n"
     ]
    },
    {
     "name": "stdout",
     "output_type": "stream",
     "text": [
      "{'training': True, '_parameters': OrderedDict(), '_buffers': OrderedDict(), '_non_persistent_buffers_set': set(), '_backward_hooks': OrderedDict(), '_is_full_backward_hook': None, '_forward_hooks': OrderedDict(), '_forward_pre_hooks': OrderedDict(), '_state_dict_hooks': OrderedDict(), '_load_state_dict_pre_hooks': OrderedDict(), '_load_state_dict_post_hooks': OrderedDict(), '_modules': OrderedDict([('linear', Linear(in_features=600, out_features=10, bias=True))]), 'neuron_indices': tensor([ 122,  739,  133,   11,  853,  464,  457,  929,   10,   30,  386,  789,\n",
      "         715,  332,  834,  687,  567,  151,  756,  681,  850,  125,  228,  641,\n",
      "         746,  158,   33,  541,  199,  416,  869,  168,  262,  362,  858,  694,\n",
      "         650,  947,  105,  248,  736,  773,  188,  513,  131,  915,  606,  521,\n",
      "         538,  116,  623,  748,  306,  710,  500,  473,  922,  286,    7,   57,\n",
      "        1023,  445,  671,  759,  977,  835,  601,  956,  433,  381,  294,  666,\n",
      "         695,  984,  590,  220,   12,  179,  696,  656,  247,  646,  474,  167,\n",
      "         923,  315,   34,  913,  177,  129,  299,  573,  339,  212,   15,  705,\n",
      "         367,  391,  361,  625,   17,  271,  706,  345,  701,  631,  811,  130,\n",
      "          27,  285,  263,  639,   46,  645,  810,  289,  196,  712,  353,  519,\n",
      "          88,  603,  637,  242,  393,  882,  602,  283,  955,   85,  998,  876,\n",
      "         846,  629,   74,  533,  488,  570,  723,  107,  542,  619,  802,  327,\n",
      "         689,  634,  341,  891,  983,  169,  485,  954,  429, 1022,  530,  675,\n",
      "         335,  319,  790,  920,  607,  732,  543,  962,  323,   49,  170, 1004,\n",
      "         101,  826,  437,   61,  102,  740,  974,  231,   31,    0,  647,  663,\n",
      "         953,  827,  536,  730,  930,  421,  986,  390,  635,  482,  653,  678,\n",
      "         470,  431,  841,  557,    1,  428,  742,  668,  798, 1002, 1017,  951,\n",
      "         884, 1008,  166,  558,  805,  911,  113,  368,  583,  895,  597,   90,\n",
      "         720,  491,   80,  246,  816,  633,  132,  301,  528,  486,  302,  587,\n",
      "         253,  334,   13,  236,   67,  545,  383,  444,  932,  781,  917,  238,\n",
      "         458,   14, 1012,  699,  483,  274,  160, 1016,  265,  515,  848,  985,\n",
      "         300,  914,  994,  777,   48,  793,  952,  698,  945,  878,  591,  927,\n",
      "         257,   69,  547,  396,  419,  999,  241,  610,  652,  561,  758,  822,\n",
      "         821,  140,  825,  404,  769,  806,  942,  722,  417,  809,  495,  845,\n",
      "         889,   47,  434,  409,  752,  472,  905,  808,  812,  209,  662,  351,\n",
      "         422,  568,  971,  921,  879,  357,  980,  492,  397,  157,   45,  311,\n",
      "         901,  593,  544,  127,  117,  904,  581,  948,  772,  968,  731,  928,\n",
      "         686,  504,  982,  506,  622, 1007,  108,  186,  202,   19,  569,  219,\n",
      "          21,   25,  682,  244,  525,  350,  371,  989,  136,  501,  674,   84,\n",
      "          91,  925, 1014,  316,  807,  609,  337,  580,  899,  669, 1021,  410,\n",
      "         377, 1001,  738,  560,  412,  540,  679,  480,  174,  729,  893,  585,\n",
      "         577,  333, 1020,  146,  820,  507,   43,  479,  963,  346,  232,  307,\n",
      "         494,  193,  660,  615,  579,  191, 1019, 1003,  134,  796,  993,  245,\n",
      "         281,  317,  373,   42,  119,  217,  819,  973,  490,  788,  363,  958,\n",
      "         264,  284,   83,  173,  741,  976,  115,  539,  280,  787,  960,  469,\n",
      "         411,  239,  509,  657,  192,  461,  120,  677,  465,  991,  388,  566,\n",
      "         981,  312,  526,  183,  661,   78,  398,  156, 1009,   95,  588,  655,\n",
      "         938,  665,  216,  711,   50, 1000,  439,  726,  155,  172,  499,  103,\n",
      "         223,  775,  524,  909,  215,  885,  406,  987,  230,  865,  343,  708,\n",
      "         520,  338,  138,  427,  605,  750,  670,  535,  791,  771,  508,  430,\n",
      "         185,   55,  451,  356,  152,  358,  870,  762,  123, 1010,  182,  851,\n",
      "         114,  442,  707,  751,  267,  797,  143,   65,  924,  649,  702,  676,\n",
      "         833, 1006,   39,  624,  937,  967,  877,  815,  303,   75,  360,  880,\n",
      "         321,  831,   63,  401,  218,  254,  348,  648,  252,  564,  908,  272,\n",
      "         290,  405,  237,  498,   87,  440,  747,  194,  478,  842,  612,   22,\n",
      "         325,  139,  420,  896,  961,  163,  735, 1013,  450,  475,  725,  261,\n",
      "         374,  571,  276,  934,  147,  295,   99,  176,  144,   40,  121,  403,\n",
      "         862,  342,  251,  505,    3,  658,   62,  226,  632,  467,  950,  109,\n",
      "         784,  844,  667,  970,  640,  372,  207,  435,  175,  340,   59,  903,\n",
      "          18,  549,  453,  919,  714,   94,  181,  892,  578,  201,  703,  935]), 'in_features': 600, 'out_features': 10}\n"
     ]
    },
    {
     "name": "stderr",
     "output_type": "stream",
     "text": [
      "LOCAL_RANK: 0 - CUDA_VISIBLE_DEVICES: [3]\n"
     ]
    },
    {
     "data": {
      "application/vnd.jupyter.widget-view+json": {
       "model_id": "f154079ab91b459bba359abfdf532c74",
       "version_major": 2,
       "version_minor": 0
      },
      "text/plain": [
       "Predicting: 0it [00:00, ?it/s]"
      ]
     },
     "metadata": {},
     "output_type": "display_data"
    },
    {
     "name": "stderr",
     "output_type": "stream",
     "text": [
      "Global seed set to 2\n",
      "No pretrained weights exist or were found for this model. Using random initialization.\n",
      "Global seed set to 3\n",
      "GPU available: True, used: True\n",
      "TPU available: False, using: 0 TPU cores\n",
      "IPU available: False, using: 0 IPUs\n",
      "Global seed set to 0\n"
     ]
    },
    {
     "name": "stdout",
     "output_type": "stream",
     "text": [
      "{'training': True, '_parameters': OrderedDict(), '_buffers': OrderedDict(), '_non_persistent_buffers_set': set(), '_backward_hooks': OrderedDict(), '_is_full_backward_hook': None, '_forward_hooks': OrderedDict(), '_forward_pre_hooks': OrderedDict(), '_state_dict_hooks': OrderedDict(), '_load_state_dict_pre_hooks': OrderedDict(), '_load_state_dict_post_hooks': OrderedDict(), '_modules': OrderedDict([('linear', Linear(in_features=600, out_features=10, bias=True))]), 'neuron_indices': tensor([ 874,  636,  761,  257,  824,  970,  354,  432,  493,  373,  938,  758,\n",
      "         981, 1014,  520,  589,  631,  582,   26,  918,  152,  574,  439,  814,\n",
      "         496,   66,  783,    8,  350,  634,  804,  659,   92,  896,  103,  795,\n",
      "         857,  368,  340,  845,  509,  503,   52,  547,  198, 1016,  596,  800,\n",
      "         273,  175,   43,  320,  701,  926,  458,  725,  973,  794,   45,  886,\n",
      "         300,  453,  654,  775,  448,  823,  812,  168,  579,  944,  754,  714,\n",
      "         559,  515,  311,  218,  537,  116,  765,  894,  469,  500,  436, 1003,\n",
      "         176,  551,  279,  950,  312,  684, 1008,  533,  264,   42,  304,  858,\n",
      "         855,  112,  323,  803,  213,  395,  724,  494,  289,  925,  571,  616,\n",
      "           0,   79,  342,  989,   75,  865,  308,  566,  487,  497,  372,  602,\n",
      "         412,  207,  773,  367, 1021,  123,  778,  256,  541,  987,  202,  968,\n",
      "         949,   14,  573,  696,  131,  819,  457,  149,  290,  667,  536,  827,\n",
      "         740,  603,  614,  385,  283,  433,  852,  985,  231,  208,   78,   39,\n",
      "         147,  982,  140,  444,  402,  872,  906,  810,  195,  425,    7,  640,\n",
      "        1022,  558,  563,  572,  781,  897,  743,  969,  780,  876,  912, 1005,\n",
      "         129,  346,  511,   24,  196,  928,  834,  932, 1012,  206,  332,  861,\n",
      "         410,   59,  185,  816,  584,   10,  759,  612,  954,  212,  249,  316,\n",
      "         997,  895,  796,  567,  159,  915,  101, 1009, 1020,  262,  682,  792,\n",
      "         532,    6,  540,  785,  957,  181,  240,  378,  374,  510,  700,  964,\n",
      "         460,  611,  624,  805,   46,  443,  337,  613,  143,  916,  723,  401,\n",
      "         793,  197,  122,  712,  847,  562,  993,   64,  943,  939,  961,  383,\n",
      "         317,  626,  120,  104,  171,  913,  910,  853,  822,  539,  275,  465,\n",
      "        1007,  464,  278,  900,   98,  561,   33, 1013,  483,   18,   47,  245,\n",
      "         344,  106,  904,  455,  113,   60,  331,  817,  226,  638,   44,  505,\n",
      "         472,   57,  479,   48,  557,  219,  437,  215,  490,  423,  419,  945,\n",
      "          72,  166,  590,  799,  747,  370,  154,  438,  529,  501,  287,  782,\n",
      "         940,  426,  430,  879,  959,  167,  362,  391,  470,  666,  100,  594,\n",
      "         930,    9,  375,  191,  336,  880,   11,  230,  674,  742,  199,   54,\n",
      "         690,  394,   36,  779,   67,   73,  333,  731,  722,  295,  860,  477,\n",
      "         606,  427,  806,  726,  741,  771,   53,  435,  260,  967,  179,   76,\n",
      "         618,  881,  718,  643,  546,  356,  454,  450,  307,  835,  745,  293,\n",
      "          96,  204,  644,  492,  600,  923,   19,  998,  577,  622,  343,  832,\n",
      "         734,  272,  164,   81,   94,  521,  625,  889,  192,  652,  303,  499,\n",
      "         489,  627,  595,  875,  651,  699,   88,  550,  587,  363,  578,  676,\n",
      "         911,  409,  229,  929,  598,  459,  607,   90,  428,  988,   82,   35,\n",
      "         583,  446,  174,  390,  710,  301,  201,  431,  815,  369,  846,  609,\n",
      "         118,   87,   34,  371,    2,  117,  136,  250,  978,   21,   22,  730,\n",
      "         866,  703,  180,   38,  384,  801,  907,  552,   15,  485,  633,  224,\n",
      "         322,  508,  617,  698,  604,  184,  599,  772,   29,  909,  766,  649,\n",
      "         449,  379,  668,  276,  564,  285,  934,  960,    4,  963,  544,  935,\n",
      "         705,  305,  650,  170,  707,  979,  286,  263, 1015,  751,  119,  752,\n",
      "         377,  764,  630,  282,  514,  560,  842,  144,  110,  109,  568,   17,\n",
      "         420, 1018,  524,  661,   74,  899,  637,  284, 1002,  183,  349,  555,\n",
      "         306,  593,  646,  908,  538,  107,  137,  241,  339, 1006,  310,  962,\n",
      "         239,  694,   50,  254,   93,  669,  770,  728,  227,  228,  360,  414,\n",
      "         608,  820,  788,  927,  933,  777,  736,  797,  729,  689,   56,  656,\n",
      "          28,  882,  216,  128,  542,  523,  291,  329,  980,  108,  569,  565,\n",
      "         115,  948,  478,  621,  864,  863,  807,  461,  680,  361,  150,  986,\n",
      "         843,  507,  178,  763,  883,  898,  821,  177,  760,  966,  677,   99,\n",
      "         421,  193,   49,  506,  134,  248,  719,  888,  887,  588,  762,   63]), 'in_features': 600, 'out_features': 10}\n"
     ]
    },
    {
     "name": "stderr",
     "output_type": "stream",
     "text": [
      "LOCAL_RANK: 0 - CUDA_VISIBLE_DEVICES: [3]\n"
     ]
    },
    {
     "data": {
      "application/vnd.jupyter.widget-view+json": {
       "model_id": "b8b487c0df504ea5a9543763dc687a17",
       "version_major": 2,
       "version_minor": 0
      },
      "text/plain": [
       "Predicting: 0it [00:00, ?it/s]"
      ]
     },
     "metadata": {},
     "output_type": "display_data"
    },
    {
     "name": "stderr",
     "output_type": "stream",
     "text": [
      "Global seed set to 2\n",
      "No pretrained weights exist or were found for this model. Using random initialization.\n",
      "Global seed set to 1\n",
      "GPU available: True, used: True\n",
      "TPU available: False, using: 0 TPU cores\n",
      "IPU available: False, using: 0 IPUs\n",
      "Global seed set to 0\n"
     ]
    },
    {
     "name": "stdout",
     "output_type": "stream",
     "text": [
      "{'training': True, '_parameters': OrderedDict(), '_buffers': OrderedDict(), '_non_persistent_buffers_set': set(), '_backward_hooks': OrderedDict(), '_is_full_backward_hook': None, '_forward_hooks': OrderedDict(), '_forward_pre_hooks': OrderedDict(), '_state_dict_hooks': OrderedDict(), '_load_state_dict_pre_hooks': OrderedDict(), '_load_state_dict_post_hooks': OrderedDict(), '_modules': OrderedDict([('linear', Linear(in_features=600, out_features=10, bias=True))]), 'neuron_indices': tensor([  37,  708,  342,    9,  647,  767,  633,  291,  607,  306,  648,  514,\n",
      "         588,  660,  257,  444,  694,  492,  878,  770,  758,   89,  126,  561,\n",
      "         747,  223,  786,  658,  261,  403,  156,  783,  631,  353,  491,  818,\n",
      "         699,  640,  310,  354,  253,  220,  649,  552,   47,  136,  646,  570,\n",
      "         673,  113,  112,  322,   92,  888,  855,  776,   95,  941,  955,  247,\n",
      "         626,  428,  789,   36,  277,  886,  987,  408,  348,    2, 1019,  129,\n",
      "         868,  210,  896,  983,  153,   44,  191,  239,  255,  182,  462,  759,\n",
      "         659,  385,  757,  901,  122,  883,  248,   79,  617,  961,  907,  162,\n",
      "         215,  180,  728,  686,  225,  414,  445,  242,  760,  202,  296,  706,\n",
      "         523,  359,  423,  687, 1017,  251,  110,  357,  850,  311,  930,  714,\n",
      "         160,  881,   87,  991,  693,  443,  613,  453,  504,  355,  145,  595,\n",
      "         828,  361,  952,  450,  796,   50,  167,  208,  723,  697,  768,   61,\n",
      "          15,  795,  386,  995,  988,  979,  455,  582,  524,  679,  176, 1001,\n",
      "         107,  196,  851,  821,  503,  438,  683,  295,  753, 1010,  682,  193,\n",
      "         340,  913,  978,   43,  534,  554,  931,  815,   26,  114,  843,  303,\n",
      "         200,  924,  581,  467,  103,  382,  154,  158,  418,  259,  366,    0,\n",
      "         263,   10,  984,  238,   21,  437,  777,  910,  980,  915,  772,  102,\n",
      "         609,  742,  483,  804,  625,  419,  406,  486,  516,  324,  799,  918,\n",
      "         141,  802,  787,  397,  909,  560,  973,   58,  846,  168,  226,  575,\n",
      "         479,  384,  391,  616,  209,  243,  620,  138,  689,  639,  369,  923,\n",
      "         885,  898,  232,  996,  989,  178,   59,  725,   33,  573,  509,  853,\n",
      "         928,    6,   75,  839,  656,  468,  892,  756,  179,  508,  464,  484,\n",
      "         870,   11, 1003,  434,  183,  465,  343,   88,  785,  827,  812,  771,\n",
      "         344,  106,  982,  376,  207,  792,  836,  212,  944,   23,  267,  676,\n",
      "          41,  734,  970,  527,  568,  395,  280,  897,  489,  300,  550,  268,\n",
      "         488,  778,  736,   86,   17,  856,  586,  638,  698,  939,  721,  469,\n",
      "         170,  902,  173,  426,  293,  869,  705,  335,  764,  135,  642,  899,\n",
      "         432, 1014,  519, 1018,  832,  738,  867,  256,   46,  380,  351,  781,\n",
      "         911,  553,  741,  329,  331,  132,  370,  715,  520, 1002,  430,  585,\n",
      "          98,  529,  320,  219,  199,  904,  393,   52,  953,  713,  990,  556,\n",
      "         377,  431,  336,  914,  709,  204, 1008, 1007,  217,  743,  986,  807,\n",
      "          65,  603,  748,  666,  800,  500,   49,  662,  940,  555,  139,  374,\n",
      "         507,  190,  735,  109,  471,  999,   28,  501,   24,  717,  346,  372,\n",
      "         470,  577,   62,   25,  780,  100,  745,   51,  957,  249,  636,  258,\n",
      "         482,  630,  292,  808,  977,  485,  675,  700,   91,  281,   72,  604,\n",
      "         628,  319,   96,  825,  326,  448,  637,  184,  875,  146,  510,  442,\n",
      "         143,   85,  334,  817,  574,  273,  260,  411,  297,  720,  569,  104,\n",
      "         925,   54,  597,  732,  363,  477,  684,  942,  798,  668,  858,  222,\n",
      "         456,  782,  842,  498,  187,  526,  528,  900,  838,  702,  559,  826,\n",
      "          39,  266,  837,  548,  655,    8,  433,  108,  536,  349,  496,   27,\n",
      "         661,  367,  763,  801,  532,  441,  427,  674,   97,  502,  948,  298,\n",
      "         959,  144,   19,  634,  252,  994,  227,  278,  596,  906,  381,  515,\n",
      "         969,  579,  270,  521,  134,   16,  844,  424,  130,  729,  368,  840,\n",
      "         111,  874,  147,  265,  490,  562,  916,  314,  805,  474,  775,    1,\n",
      "         750,  615,  719,  405,  302,  205, 1009,  240,  730,  188,  439,  531,\n",
      "         754,  415,  517,  859,  124,  148,  530,  726,  860,   56,  505,  774,\n",
      "         592,  274,  101,  460,  425,  752,  360,  680,  919,  538, 1011,    5,\n",
      "        1015,  435,  537,   70,  198,  704,  688,  857,  301,   81,  224,  535,\n",
      "         722,  601,   53,  593,   12,  399,  345,   38,  793,  463,  294,  447,\n",
      "         410,  920,  254,  338,  197,  670,  150,  533,  116,  378,  966,  287]), 'in_features': 600, 'out_features': 10}\n"
     ]
    },
    {
     "name": "stderr",
     "output_type": "stream",
     "text": [
      "LOCAL_RANK: 0 - CUDA_VISIBLE_DEVICES: [3]\n"
     ]
    },
    {
     "data": {
      "application/vnd.jupyter.widget-view+json": {
       "model_id": "67371a2d80ea4ae9a602e4d1aa17d41e",
       "version_major": 2,
       "version_minor": 0
      },
      "text/plain": [
       "Predicting: 0it [00:00, ?it/s]"
      ]
     },
     "metadata": {},
     "output_type": "display_data"
    },
    {
     "name": "stderr",
     "output_type": "stream",
     "text": [
      "Global seed set to 2\n",
      "No pretrained weights exist or were found for this model. Using random initialization.\n",
      "Global seed set to 2\n",
      "GPU available: True, used: True\n",
      "TPU available: False, using: 0 TPU cores\n",
      "IPU available: False, using: 0 IPUs\n",
      "Global seed set to 0\n"
     ]
    },
    {
     "name": "stdout",
     "output_type": "stream",
     "text": [
      "{'training': True, '_parameters': OrderedDict(), '_buffers': OrderedDict(), '_non_persistent_buffers_set': set(), '_backward_hooks': OrderedDict(), '_is_full_backward_hook': None, '_forward_hooks': OrderedDict(), '_forward_pre_hooks': OrderedDict(), '_state_dict_hooks': OrderedDict(), '_load_state_dict_pre_hooks': OrderedDict(), '_load_state_dict_post_hooks': OrderedDict(), '_modules': OrderedDict([('linear', Linear(in_features=600, out_features=10, bias=True))]), 'neuron_indices': tensor([ 168,  361,  293, 1002,  522,   59, 1018,  479,  440,  300,  628,  847,\n",
      "         779,  134,  439,  386,  719,  401,  370,  544,   36,  798,  773,  691,\n",
      "         475,  382,  688,  432,  583,  187,  893,  306,  970,  817,  820,  985,\n",
      "         335,  223,  765,  889,  268,  848,  214,  537,  395,  337,  503,  107,\n",
      "         816,  262,  500,  800,  170,  511,  292,  513,  591,  793,  263,  536,\n",
      "         806,  502,  490,  264,  250,  669,  813,  454,  556,  651,  795,  828,\n",
      "         504,  496,  521,  242,  973,  873,  962,  318,  698,  546,  805,  167,\n",
      "         727,  305,  906,  703,  448,   54,  654,  328,  336,  931,  210,  752,\n",
      "         950,  862,  186,  415,   15,  161,  174,  165,  553,  990,  786,  283,\n",
      "         289,  130,  419,  322, 1013,  290,  340,  853,  426,  784,  638,  757,\n",
      "         532,  678,  234,  608,  718,  710,  927,  119,  144,  630,  507,  885,\n",
      "          77,   69,  865,  220,  632,   12,  988,  941,  599,  359,  579, 1023,\n",
      "         877,  445,  451,  425,  327,   25,  792,  437,  822,  645,  385,  670,\n",
      "         118,  390,  413,  576,  414,  658,  278,   39,  952,  120,  733,  619,\n",
      "          61,  273,  369,  767,  849,  951,   60,  243,  559,  154,  650,  562,\n",
      "         543,  311,  514,  597,  622,   92,  573,  466,  686,  593,  930,  135,\n",
      "         928,  509,  178,  960,  955,  482,   18,  215,  100,  280,  675,  667,\n",
      "           2,  298,  707,  588,  968,  566,  942, 1021,  148,  275,  629,  436,\n",
      "         151,  246,  251,  577,  748,   71,  188,  456,   80,  464,  693,   90,\n",
      "         879,  770,  704,  922,  856,  842,  434,  407,  379, 1007,  423,  282,\n",
      "         453,  911,  245,  189,   97,  596,  664,  890,  443,  610,  590,  919,\n",
      "          19,  595,  857,  257,  392,  755,  984,  217,  561,  384,  705,  461,\n",
      "         491,  916,  442,   68,  477,  609,  618,   86,  139,  665,  634,  122,\n",
      "         104,  746,  345,   41,  837,  721,  672,  682,  538,  726,  531,  171,\n",
      "         409,  932,  676,  986,   17,  164,  224,  211,  574,  497,  313,  581,\n",
      "         957,   33,  935,  526,  929,  921,  723,   32,  325,    4,  766,   30,\n",
      "         568,  412,  754,  232,  601,  277,  685,   91,  661,  193,  175,  473,\n",
      "         185,  374,  302,  555,  196,    0,  656,  360,  462,  460,  602,  143,\n",
      "         367,   79,  649,  826,  759,   84,  947,  730,   63,  428,  113,  363,\n",
      "         516,  343,  809,  987,  668,  446,  541,  836,  418,  430,  646,  625,\n",
      "         869,  505,  372,   73,  633,  655,  998,  903,  320,  749, 1008,  594,\n",
      "         301,   24,  230,  326,  110,  564,  357,  603,   14,  687,  937,   76,\n",
      "         117,  774,  276,  467,   67,  315,   21,  156,  375,  523,  321,  213,\n",
      "          46,  179, 1005,   31,  411,   44,  506, 1017,  247,  810,  695,  499,\n",
      "         621,  116,  476,  923,  121,  881,  155,  824,  267, 1000,  961,  493,\n",
      "          16,  758,  631,   13,  209,  692,  383,  172,  963,  309,  834,  218,\n",
      "         420,  572,  611,  540,  936,  697,  530,  917,  883, 1003,  560,  915,\n",
      "         339,   10,  554,  228,  683,  387,  333,   28,  201,  846,  240,  191,\n",
      "         706,  679,  814,  180,  549,  843,  569,  346,  614,  323,  410, 1019,\n",
      "         350,  783,  995,  285,  237,  295,  299,  858,  841,  444,  138,  341,\n",
      "         229,   78,  735,  734,  332,  254,  405,  338,  260,  850, 1012, 1009,\n",
      "         235,  489,  575,  498,  358,  684,  136,  132,  738,  108,  659,  829,\n",
      "         872,  427,  587, 1006,  926,  740,  258,  197,  381,  635,  233,  307,\n",
      "         274,  944,  788,   75,  371,  888,  103,  880,  999,  163,  647,  147,\n",
      "        1004,  271,  365,  714,  270,   62,  598,  912,  249,  997,  202,  552,\n",
      "         417,  495,  690,  565,  256,  463,  227,  711,  775,  398,  585,  605,\n",
      "         884,  720,  823,  851,  447,  982,  933,   22,  639,  362,  712,  637,\n",
      "         859,  324,  861,  222,  265,   93,   47,  623,  524,  272,   57,  114,\n",
      "         248,   70,  776, 1014,  510,  652,  725,  898,  520,  567,  160,  394,\n",
      "         433,  396,  742,  643,  344,  689,  354,  534,  965,  729,  617,  558]), 'in_features': 600, 'out_features': 10}\n"
     ]
    },
    {
     "name": "stderr",
     "output_type": "stream",
     "text": [
      "LOCAL_RANK: 0 - CUDA_VISIBLE_DEVICES: [3]\n"
     ]
    },
    {
     "data": {
      "application/vnd.jupyter.widget-view+json": {
       "model_id": "b41bc151dc8446eea7e3209a7e0928e6",
       "version_major": 2,
       "version_minor": 0
      },
      "text/plain": [
       "Predicting: 0it [00:00, ?it/s]"
      ]
     },
     "metadata": {},
     "output_type": "display_data"
    },
    {
     "name": "stderr",
     "output_type": "stream",
     "text": [
      "Global seed set to 2\n",
      "No pretrained weights exist or were found for this model. Using random initialization.\n",
      "Global seed set to 5\n",
      "GPU available: True, used: True\n",
      "TPU available: False, using: 0 TPU cores\n",
      "IPU available: False, using: 0 IPUs\n",
      "Global seed set to 0\n"
     ]
    },
    {
     "name": "stdout",
     "output_type": "stream",
     "text": [
      "{'training': True, '_parameters': OrderedDict(), '_buffers': OrderedDict(), '_non_persistent_buffers_set': set(), '_backward_hooks': OrderedDict(), '_is_full_backward_hook': None, '_forward_hooks': OrderedDict(), '_forward_pre_hooks': OrderedDict(), '_state_dict_hooks': OrderedDict(), '_load_state_dict_pre_hooks': OrderedDict(), '_load_state_dict_post_hooks': OrderedDict(), '_modules': OrderedDict([('linear', Linear(in_features=600, out_features=10, bias=True))]), 'neuron_indices': tensor([ 867,  451, 1005,   61,  150, 1023,  242,   18,  296,  258,  887,  422,\n",
      "         719,  243,  912,  244,  391,  790,  863,   68,  533,  485,  442,   17,\n",
      "         708,   10,  313,  855,  723,  735,  222,  138,  701,  111,  644,  542,\n",
      "         621,  567,  879,  488,  494,  765,  474,  774,  984,  659,  441,  237,\n",
      "         768,  479,  416,  538,  996,  898,  913,  300,  687,  514,  192,    5,\n",
      "         525,  433,  435,  962,  369,  609, 1003,  919,  264,  236,  176,  393,\n",
      "          28,   25,   33,   30, 1009,  304,  475,  553,  254,  992,  979,  406,\n",
      "         653, 1004,   82,  170,  310,  493,   50,  500,  809,  679,  669,  152,\n",
      "         677,  954,  133,  690,  496,  611,   19,  977,  696,  901,  338,  598,\n",
      "         892,  873,  238,  861,  366,  290,  302,  806,  319,  652,  245,  658,\n",
      "         848,  177,  240,  970,   43,  251,  484,  380,  261,  933,  204,  698,\n",
      "          76,  907,  764,  306,  781,  893,  856,  173,   39,  536,  252,  830,\n",
      "         239,  570,   98,  668,  836,  269,   57,  853,  748,  544,    7,  389,\n",
      "           8,  864,  880,  215,  339,   99,  401,  153,  463,  452,  202,  195,\n",
      "         467,  179,  639,  837,  736,  945,  509,  766,  620,   13,  976,  383,\n",
      "         947,  201,  248,  355,  578, 1000,   47,  506,  980,  522,  395,  554,\n",
      "         711,    3,  562,   31,  808,  430,  960,  325,  928,  877,  903,  384,\n",
      "         849,  921,  135,  461,  683,  895,  450,  200,  250,  163,  423,  518,\n",
      "         341,  148,  545,  190,  883,   80,  868,  882,  758,  793,  674,  141,\n",
      "         537,  682,   65,  734,  198,  732,  737,  331,  188,  166,  905, 1007,\n",
      "         740,  228,  101,  123,  397,  799,  404,  191,  274,  827,  657,  757,\n",
      "         726,  120,  387,  374,  594,  663,  645,  320,  825,  946,   24,  812,\n",
      "         614,  524,  410,  270, 1018,  741,  221,  807,  899,  956,  964,  595,\n",
      "         205,   90,  454,   38,  917,  210,  232,  273,  253,  559, 1010,  847,\n",
      "         558,  814,  691,  470,  151,  935,  579,  966,   34,  813,  581,  295,\n",
      "          16,  760,  272,  852,  995,  788,  600,  720,  973,  642,  566,  379,\n",
      "         703,   26,  575,  678,  471,  528,  347,  142,  539,  335,  407,  978,\n",
      "         327,  786,   89,  293,  821,  403,  787,  670,  622,  884,  100,  181,\n",
      "         854,  119,  508,   54,  417,  733,  874,  865,  360,  574,  256,  233,\n",
      "         507,   11,  495,  937,  592,  318,  676, 1020,   15,  844,  571,  405,\n",
      "         476,  303,  353,  109,  110,  106,  640,  842,  447,  280,  779,  782,\n",
      "         247,  666,  108,  363, 1012,  526,  132,  673,   72,  599,  647,    4,\n",
      "          46,  323,  351,  333,  588,  983,   73,  743,  378,  767,  373,  886,\n",
      "         942,  940,  364,   44,  446,  107,  478,  778,  817,  311,  860,  174,\n",
      "         337,  997,  235,  699,  503,  564,   51,  473,  641,  431,  229,  974,\n",
      "         167,  130,  616,  751,  573,  926,    9,  275,  453,  287,  624,  199,\n",
      "         924,   41,  773,  193,  843,   83,  262,  890,   14,  445,  896,  386,\n",
      "         482,  492,  943,  426,  555,  930,  372,  791,   93,  343,  638,   58,\n",
      "         911,  549,  859,  511,  941,  480,  931,  915,  989, 1002,  249,  585,\n",
      "         308,  706,  505,  710,  771,   21,  920,  535,  520,  704,  468,  131,\n",
      "         986,  932,  424,  731,  299,  724,  203,  396,  742,  718,  497,  455,\n",
      "         834,  749,  309, 1013,    2,  316,  288,  292,  224,  610,  462,  282,\n",
      "         770,  871,   20,   66,   42,  225,  187,  776,  154,  263,  125,  220,\n",
      "         754,  147,  329,  543,  531,  330,  936, 1015,  744,  377,  580,  705,\n",
      "         672,  797,  552,  317,  487,  577,   74,  321,  375,  206,  707,  850,\n",
      "         197,  438,  729,  603,  576,  908,  556,  346,  160,  636,  328,  136,\n",
      "         144,  727,  394,  569,  472,  685,  398,  278,  510,  955,  322,  218,\n",
      "         975,  434,  105,  604,  289,  382,  916,  298,   63,  457, 1008,   69,\n",
      "         145,  448,  414,  583,  534,   49,  939,  910,  617,  922,  820,  780,\n",
      "         613,   55,  444,   36,  227,  283,  527,  661,   52,  314,  342,  517]), 'in_features': 600, 'out_features': 10}\n"
     ]
    },
    {
     "name": "stderr",
     "output_type": "stream",
     "text": [
      "LOCAL_RANK: 0 - CUDA_VISIBLE_DEVICES: [3]\n"
     ]
    },
    {
     "data": {
      "application/vnd.jupyter.widget-view+json": {
       "model_id": "654e3bd0af10417e87764bfec25cda60",
       "version_major": 2,
       "version_minor": 0
      },
      "text/plain": [
       "Predicting: 0it [00:00, ?it/s]"
      ]
     },
     "metadata": {},
     "output_type": "display_data"
    },
    {
     "name": "stderr",
     "output_type": "stream",
     "text": [
      "Global seed set to 2\n",
      "No pretrained weights exist or were found for this model. Using random initialization.\n",
      "Global seed set to 4\n",
      "GPU available: True, used: True\n",
      "TPU available: False, using: 0 TPU cores\n",
      "IPU available: False, using: 0 IPUs\n",
      "Global seed set to 0\n"
     ]
    },
    {
     "name": "stdout",
     "output_type": "stream",
     "text": [
      "{'training': True, '_parameters': OrderedDict(), '_buffers': OrderedDict(), '_non_persistent_buffers_set': set(), '_backward_hooks': OrderedDict(), '_is_full_backward_hook': None, '_forward_hooks': OrderedDict(), '_forward_pre_hooks': OrderedDict(), '_state_dict_hooks': OrderedDict(), '_load_state_dict_pre_hooks': OrderedDict(), '_load_state_dict_post_hooks': OrderedDict(), '_modules': OrderedDict([('linear', Linear(in_features=8, out_features=10, bias=True))]), 'neuron_indices': tensor([122, 511, 453, 377, 273, 217, 347,  93]), 'in_features': 8, 'out_features': 10}\n"
     ]
    },
    {
     "name": "stderr",
     "output_type": "stream",
     "text": [
      "LOCAL_RANK: 0 - CUDA_VISIBLE_DEVICES: [3]\n"
     ]
    },
    {
     "data": {
      "application/vnd.jupyter.widget-view+json": {
       "model_id": "2802b5ec5ea241a2873b8cc70d9ad8cd",
       "version_major": 2,
       "version_minor": 0
      },
      "text/plain": [
       "Predicting: 0it [00:00, ?it/s]"
      ]
     },
     "metadata": {},
     "output_type": "display_data"
    },
    {
     "name": "stderr",
     "output_type": "stream",
     "text": [
      "Global seed set to 2\n",
      "No pretrained weights exist or were found for this model. Using random initialization.\n",
      "Global seed set to 3\n",
      "GPU available: True, used: True\n",
      "TPU available: False, using: 0 TPU cores\n",
      "IPU available: False, using: 0 IPUs\n",
      "Global seed set to 0\n"
     ]
    },
    {
     "name": "stdout",
     "output_type": "stream",
     "text": [
      "{'training': True, '_parameters': OrderedDict(), '_buffers': OrderedDict(), '_non_persistent_buffers_set': set(), '_backward_hooks': OrderedDict(), '_is_full_backward_hook': None, '_forward_hooks': OrderedDict(), '_forward_pre_hooks': OrderedDict(), '_state_dict_hooks': OrderedDict(), '_load_state_dict_pre_hooks': OrderedDict(), '_load_state_dict_post_hooks': OrderedDict(), '_modules': OrderedDict([('linear', Linear(in_features=8, out_features=10, bias=True))]), 'neuron_indices': tensor([362, 165,  39, 391, 364,  80, 182, 397]), 'in_features': 8, 'out_features': 10}\n"
     ]
    },
    {
     "name": "stderr",
     "output_type": "stream",
     "text": [
      "LOCAL_RANK: 0 - CUDA_VISIBLE_DEVICES: [3]\n"
     ]
    },
    {
     "data": {
      "application/vnd.jupyter.widget-view+json": {
       "model_id": "ea9cfac7d99b4a52bee9197c472cda7e",
       "version_major": 2,
       "version_minor": 0
      },
      "text/plain": [
       "Predicting: 0it [00:00, ?it/s]"
      ]
     },
     "metadata": {},
     "output_type": "display_data"
    },
    {
     "name": "stderr",
     "output_type": "stream",
     "text": [
      "Global seed set to 2\n",
      "No pretrained weights exist or were found for this model. Using random initialization.\n",
      "Global seed set to 2\n",
      "GPU available: True, used: True\n",
      "TPU available: False, using: 0 TPU cores\n",
      "IPU available: False, using: 0 IPUs\n",
      "Global seed set to 0\n"
     ]
    },
    {
     "name": "stdout",
     "output_type": "stream",
     "text": [
      "{'training': True, '_parameters': OrderedDict(), '_buffers': OrderedDict(), '_non_persistent_buffers_set': set(), '_backward_hooks': OrderedDict(), '_is_full_backward_hook': None, '_forward_hooks': OrderedDict(), '_forward_pre_hooks': OrderedDict(), '_state_dict_hooks': OrderedDict(), '_load_state_dict_pre_hooks': OrderedDict(), '_load_state_dict_post_hooks': OrderedDict(), '_modules': OrderedDict([('linear', Linear(in_features=8, out_features=10, bias=True))]), 'neuron_indices': tensor([168, 179, 433,  55, 190, 176, 148, 347]), 'in_features': 8, 'out_features': 10}\n"
     ]
    },
    {
     "name": "stderr",
     "output_type": "stream",
     "text": [
      "LOCAL_RANK: 0 - CUDA_VISIBLE_DEVICES: [3]\n"
     ]
    },
    {
     "data": {
      "application/vnd.jupyter.widget-view+json": {
       "model_id": "0c31764ecb734f578516cedf102fa9a6",
       "version_major": 2,
       "version_minor": 0
      },
      "text/plain": [
       "Predicting: 0it [00:00, ?it/s]"
      ]
     },
     "metadata": {},
     "output_type": "display_data"
    },
    {
     "name": "stderr",
     "output_type": "stream",
     "text": [
      "Global seed set to 2\n",
      "No pretrained weights exist or were found for this model. Using random initialization.\n",
      "Global seed set to 1\n",
      "GPU available: True, used: True\n",
      "TPU available: False, using: 0 TPU cores\n",
      "IPU available: False, using: 0 IPUs\n",
      "Global seed set to 0\n"
     ]
    },
    {
     "name": "stdout",
     "output_type": "stream",
     "text": [
      "{'training': True, '_parameters': OrderedDict(), '_buffers': OrderedDict(), '_non_persistent_buffers_set': set(), '_backward_hooks': OrderedDict(), '_is_full_backward_hook': None, '_forward_hooks': OrderedDict(), '_forward_pre_hooks': OrderedDict(), '_state_dict_hooks': OrderedDict(), '_load_state_dict_pre_hooks': OrderedDict(), '_load_state_dict_post_hooks': OrderedDict(), '_modules': OrderedDict([('linear', Linear(in_features=8, out_features=10, bias=True))]), 'neuron_indices': tensor([ 37, 158, 476, 186,  31, 123, 165, 223]), 'in_features': 8, 'out_features': 10}\n"
     ]
    },
    {
     "name": "stderr",
     "output_type": "stream",
     "text": [
      "LOCAL_RANK: 0 - CUDA_VISIBLE_DEVICES: [3]\n"
     ]
    },
    {
     "data": {
      "application/vnd.jupyter.widget-view+json": {
       "model_id": "465f1ee4641241c5a6c355553fc5d03d",
       "version_major": 2,
       "version_minor": 0
      },
      "text/plain": [
       "Predicting: 0it [00:00, ?it/s]"
      ]
     },
     "metadata": {},
     "output_type": "display_data"
    },
    {
     "name": "stderr",
     "output_type": "stream",
     "text": [
      "Global seed set to 2\n",
      "No pretrained weights exist or were found for this model. Using random initialization.\n",
      "Global seed set to 1\n",
      "GPU available: True, used: True\n",
      "TPU available: False, using: 0 TPU cores\n",
      "IPU available: False, using: 0 IPUs\n",
      "Global seed set to 0\n"
     ]
    },
    {
     "name": "stdout",
     "output_type": "stream",
     "text": [
      "{'training': True, '_parameters': OrderedDict(), '_buffers': OrderedDict(), '_non_persistent_buffers_set': set(), '_backward_hooks': OrderedDict(), '_is_full_backward_hook': None, '_forward_hooks': OrderedDict(), '_forward_pre_hooks': OrderedDict(), '_state_dict_hooks': OrderedDict(), '_load_state_dict_pre_hooks': OrderedDict(), '_load_state_dict_post_hooks': OrderedDict(), '_modules': OrderedDict([('linear', Linear(in_features=16, out_features=10, bias=True))]), 'neuron_indices': tensor([ 37, 158, 476, 186,  31, 123, 165, 223, 295, 262, 214, 458,  28, 261,\n",
      "         57, 258]), 'in_features': 16, 'out_features': 10}\n"
     ]
    },
    {
     "name": "stderr",
     "output_type": "stream",
     "text": [
      "LOCAL_RANK: 0 - CUDA_VISIBLE_DEVICES: [3]\n"
     ]
    },
    {
     "data": {
      "application/vnd.jupyter.widget-view+json": {
       "model_id": "c157c4a52cb2440c88b99de8e8fc30d7",
       "version_major": 2,
       "version_minor": 0
      },
      "text/plain": [
       "Predicting: 0it [00:00, ?it/s]"
      ]
     },
     "metadata": {},
     "output_type": "display_data"
    },
    {
     "name": "stderr",
     "output_type": "stream",
     "text": [
      "Global seed set to 2\n",
      "No pretrained weights exist or were found for this model. Using random initialization.\n",
      "Global seed set to 2\n",
      "GPU available: True, used: True\n",
      "TPU available: False, using: 0 TPU cores\n",
      "IPU available: False, using: 0 IPUs\n",
      "Global seed set to 0\n"
     ]
    },
    {
     "name": "stdout",
     "output_type": "stream",
     "text": [
      "{'training': True, '_parameters': OrderedDict(), '_buffers': OrderedDict(), '_non_persistent_buffers_set': set(), '_backward_hooks': OrderedDict(), '_is_full_backward_hook': None, '_forward_hooks': OrderedDict(), '_forward_pre_hooks': OrderedDict(), '_state_dict_hooks': OrderedDict(), '_load_state_dict_pre_hooks': OrderedDict(), '_load_state_dict_post_hooks': OrderedDict(), '_modules': OrderedDict([('linear', Linear(in_features=16, out_features=10, bias=True))]), 'neuron_indices': tensor([168, 179, 433,  55, 190, 176, 148, 347, 376, 125, 262, 165, 211, 123,\n",
      "        299, 436]), 'in_features': 16, 'out_features': 10}\n"
     ]
    },
    {
     "name": "stderr",
     "output_type": "stream",
     "text": [
      "LOCAL_RANK: 0 - CUDA_VISIBLE_DEVICES: [3]\n"
     ]
    },
    {
     "data": {
      "application/vnd.jupyter.widget-view+json": {
       "model_id": "018ae04d4c8b4534934c31da77511a46",
       "version_major": 2,
       "version_minor": 0
      },
      "text/plain": [
       "Predicting: 0it [00:00, ?it/s]"
      ]
     },
     "metadata": {},
     "output_type": "display_data"
    },
    {
     "name": "stderr",
     "output_type": "stream",
     "text": [
      "Global seed set to 2\n",
      "No pretrained weights exist or were found for this model. Using random initialization.\n",
      "Global seed set to 4\n",
      "GPU available: True, used: True\n",
      "TPU available: False, using: 0 TPU cores\n",
      "IPU available: False, using: 0 IPUs\n",
      "Global seed set to 0\n"
     ]
    },
    {
     "name": "stdout",
     "output_type": "stream",
     "text": [
      "{'training': True, '_parameters': OrderedDict(), '_buffers': OrderedDict(), '_non_persistent_buffers_set': set(), '_backward_hooks': OrderedDict(), '_is_full_backward_hook': None, '_forward_hooks': OrderedDict(), '_forward_pre_hooks': OrderedDict(), '_state_dict_hooks': OrderedDict(), '_load_state_dict_pre_hooks': OrderedDict(), '_load_state_dict_post_hooks': OrderedDict(), '_modules': OrderedDict([('linear', Linear(in_features=16, out_features=10, bias=True))]), 'neuron_indices': tensor([122, 511, 453, 377, 273, 217, 347,  93, 482, 308, 250, 265, 367, 481,\n",
      "        228, 393]), 'in_features': 16, 'out_features': 10}\n"
     ]
    },
    {
     "name": "stderr",
     "output_type": "stream",
     "text": [
      "LOCAL_RANK: 0 - CUDA_VISIBLE_DEVICES: [3]\n"
     ]
    },
    {
     "data": {
      "application/vnd.jupyter.widget-view+json": {
       "model_id": "2787b6abf6c64ced90fdd97ccd57a130",
       "version_major": 2,
       "version_minor": 0
      },
      "text/plain": [
       "Predicting: 0it [00:00, ?it/s]"
      ]
     },
     "metadata": {},
     "output_type": "display_data"
    },
    {
     "name": "stderr",
     "output_type": "stream",
     "text": [
      "Global seed set to 2\n",
      "No pretrained weights exist or were found for this model. Using random initialization.\n",
      "Global seed set to 3\n",
      "GPU available: True, used: True\n",
      "TPU available: False, using: 0 TPU cores\n",
      "IPU available: False, using: 0 IPUs\n",
      "Global seed set to 0\n"
     ]
    },
    {
     "name": "stdout",
     "output_type": "stream",
     "text": [
      "{'training': True, '_parameters': OrderedDict(), '_buffers': OrderedDict(), '_non_persistent_buffers_set': set(), '_backward_hooks': OrderedDict(), '_is_full_backward_hook': None, '_forward_hooks': OrderedDict(), '_forward_pre_hooks': OrderedDict(), '_state_dict_hooks': OrderedDict(), '_load_state_dict_pre_hooks': OrderedDict(), '_load_state_dict_post_hooks': OrderedDict(), '_modules': OrderedDict([('linear', Linear(in_features=16, out_features=10, bias=True))]), 'neuron_indices': tensor([362, 165,  39, 391, 364,  80, 182, 397,  69, 425, 174, 380, 337, 416,\n",
      "        104, 255]), 'in_features': 16, 'out_features': 10}\n"
     ]
    },
    {
     "name": "stderr",
     "output_type": "stream",
     "text": [
      "LOCAL_RANK: 0 - CUDA_VISIBLE_DEVICES: [3]\n"
     ]
    },
    {
     "data": {
      "application/vnd.jupyter.widget-view+json": {
       "model_id": "c8dd7401c16b49f0a45babaecbacc7ca",
       "version_major": 2,
       "version_minor": 0
      },
      "text/plain": [
       "Predicting: 0it [00:00, ?it/s]"
      ]
     },
     "metadata": {},
     "output_type": "display_data"
    },
    {
     "name": "stderr",
     "output_type": "stream",
     "text": [
      "Global seed set to 2\n",
      "No pretrained weights exist or were found for this model. Using random initialization.\n",
      "Global seed set to 3\n",
      "GPU available: True, used: True\n",
      "TPU available: False, using: 0 TPU cores\n",
      "IPU available: False, using: 0 IPUs\n",
      "Global seed set to 0\n"
     ]
    },
    {
     "name": "stdout",
     "output_type": "stream",
     "text": [
      "{'training': True, '_parameters': OrderedDict(), '_buffers': OrderedDict(), '_non_persistent_buffers_set': set(), '_backward_hooks': OrderedDict(), '_is_full_backward_hook': None, '_forward_hooks': OrderedDict(), '_forward_pre_hooks': OrderedDict(), '_state_dict_hooks': OrderedDict(), '_load_state_dict_pre_hooks': OrderedDict(), '_load_state_dict_post_hooks': OrderedDict(), '_modules': OrderedDict([('linear', Linear(in_features=48, out_features=10, bias=True))]), 'neuron_indices': tensor([362, 165,  39, 391, 364,  80, 182, 397,  69, 425, 174, 380, 337, 416,\n",
      "        104, 255, 151, 221, 460,  48, 332,  31, 293, 375, 160, 155, 175, 371,\n",
      "        494, 283, 214, 169, 156, 150, 261,  67, 189, 312, 328,  66, 277, 236,\n",
      "        298, 145, 222, 309,  18, 295]), 'in_features': 48, 'out_features': 10}\n"
     ]
    },
    {
     "name": "stderr",
     "output_type": "stream",
     "text": [
      "LOCAL_RANK: 0 - CUDA_VISIBLE_DEVICES: [3]\n"
     ]
    },
    {
     "data": {
      "application/vnd.jupyter.widget-view+json": {
       "model_id": "c4d2ab0c67454efb8d4363c824896add",
       "version_major": 2,
       "version_minor": 0
      },
      "text/plain": [
       "Predicting: 0it [00:00, ?it/s]"
      ]
     },
     "metadata": {},
     "output_type": "display_data"
    },
    {
     "name": "stderr",
     "output_type": "stream",
     "text": [
      "Global seed set to 2\n",
      "No pretrained weights exist or were found for this model. Using random initialization.\n",
      "Global seed set to 2\n",
      "GPU available: True, used: True\n",
      "TPU available: False, using: 0 TPU cores\n",
      "IPU available: False, using: 0 IPUs\n",
      "Global seed set to 0\n"
     ]
    },
    {
     "name": "stdout",
     "output_type": "stream",
     "text": [
      "{'training': True, '_parameters': OrderedDict(), '_buffers': OrderedDict(), '_non_persistent_buffers_set': set(), '_backward_hooks': OrderedDict(), '_is_full_backward_hook': None, '_forward_hooks': OrderedDict(), '_forward_pre_hooks': OrderedDict(), '_state_dict_hooks': OrderedDict(), '_load_state_dict_pre_hooks': OrderedDict(), '_load_state_dict_post_hooks': OrderedDict(), '_modules': OrderedDict([('linear', Linear(in_features=48, out_features=10, bias=True))]), 'neuron_indices': tensor([168, 179, 433,  55, 190, 176, 148, 347, 376, 125, 262, 165, 211, 123,\n",
      "        299, 436, 143, 334, 146, 315,  60, 147,  65, 253, 483, 486, 336, 461,\n",
      "        407, 162,  41, 485, 298, 337, 498, 205,   7, 233, 307, 140, 188, 465,\n",
      "        500, 499, 391,  92, 259, 394]), 'in_features': 48, 'out_features': 10}\n"
     ]
    },
    {
     "name": "stderr",
     "output_type": "stream",
     "text": [
      "LOCAL_RANK: 0 - CUDA_VISIBLE_DEVICES: [3]\n"
     ]
    },
    {
     "data": {
      "application/vnd.jupyter.widget-view+json": {
       "model_id": "a3cfb6d4fb80452baa6e361206c9a2da",
       "version_major": 2,
       "version_minor": 0
      },
      "text/plain": [
       "Predicting: 0it [00:00, ?it/s]"
      ]
     },
     "metadata": {},
     "output_type": "display_data"
    },
    {
     "name": "stderr",
     "output_type": "stream",
     "text": [
      "Global seed set to 2\n",
      "No pretrained weights exist or were found for this model. Using random initialization.\n",
      "Global seed set to 1\n",
      "GPU available: True, used: True\n",
      "TPU available: False, using: 0 TPU cores\n",
      "IPU available: False, using: 0 IPUs\n",
      "Global seed set to 0\n"
     ]
    },
    {
     "name": "stdout",
     "output_type": "stream",
     "text": [
      "{'training': True, '_parameters': OrderedDict(), '_buffers': OrderedDict(), '_non_persistent_buffers_set': set(), '_backward_hooks': OrderedDict(), '_is_full_backward_hook': None, '_forward_hooks': OrderedDict(), '_forward_pre_hooks': OrderedDict(), '_state_dict_hooks': OrderedDict(), '_load_state_dict_pre_hooks': OrderedDict(), '_load_state_dict_post_hooks': OrderedDict(), '_modules': OrderedDict([('linear', Linear(in_features=48, out_features=10, bias=True))]), 'neuron_indices': tensor([ 37, 158, 476, 186,  31, 123, 165, 223, 295, 262, 214, 458,  28, 261,\n",
      "         57, 258,  86, 203, 450,  74, 494, 430, 488, 339, 251,  96, 312,  23,\n",
      "        401, 384,  26, 356, 119,  76, 307, 257,  47, 378, 424, 390, 405, 460,\n",
      "        177, 348, 359, 396, 382, 146]), 'in_features': 48, 'out_features': 10}\n"
     ]
    },
    {
     "name": "stderr",
     "output_type": "stream",
     "text": [
      "LOCAL_RANK: 0 - CUDA_VISIBLE_DEVICES: [3]\n"
     ]
    },
    {
     "data": {
      "application/vnd.jupyter.widget-view+json": {
       "model_id": "bd8bac62e0cf421ba9e93b989e79818c",
       "version_major": 2,
       "version_minor": 0
      },
      "text/plain": [
       "Predicting: 0it [00:00, ?it/s]"
      ]
     },
     "metadata": {},
     "output_type": "display_data"
    },
    {
     "name": "stderr",
     "output_type": "stream",
     "text": [
      "Global seed set to 2\n",
      "No pretrained weights exist or were found for this model. Using random initialization.\n",
      "Global seed set to 3\n",
      "GPU available: True, used: True\n",
      "TPU available: False, using: 0 TPU cores\n",
      "IPU available: False, using: 0 IPUs\n",
      "Global seed set to 0\n"
     ]
    },
    {
     "name": "stdout",
     "output_type": "stream",
     "text": [
      "{'training': True, '_parameters': OrderedDict(), '_buffers': OrderedDict(), '_non_persistent_buffers_set': set(), '_backward_hooks': OrderedDict(), '_is_full_backward_hook': None, '_forward_hooks': OrderedDict(), '_forward_pre_hooks': OrderedDict(), '_state_dict_hooks': OrderedDict(), '_load_state_dict_pre_hooks': OrderedDict(), '_load_state_dict_post_hooks': OrderedDict(), '_modules': OrderedDict([('linear', Linear(in_features=90, out_features=10, bias=True))]), 'neuron_indices': tensor([362, 165,  39, 391, 364,  80, 182, 397,  69, 425, 174, 380, 337, 416,\n",
      "        104, 255, 151, 221, 460,  48, 332,  31, 293, 375, 160, 155, 175, 371,\n",
      "        494, 283, 214, 169, 156, 150, 261,  67, 189, 312, 328,  66, 277, 236,\n",
      "        298, 145, 222, 309,  18, 295, 241, 152, 355, 282, 141, 101,  98, 392,\n",
      "        509, 280, 470, 274, 164, 498, 422, 113,  64, 483, 428, 450, 339,  71,\n",
      "        432, 217, 431, 458,  21, 319, 297,  93, 479,  55, 485, 208, 510, 133,\n",
      "        108, 171, 477, 213, 248, 393]), 'in_features': 90, 'out_features': 10}\n"
     ]
    },
    {
     "name": "stderr",
     "output_type": "stream",
     "text": [
      "LOCAL_RANK: 0 - CUDA_VISIBLE_DEVICES: [3]\n"
     ]
    },
    {
     "data": {
      "application/vnd.jupyter.widget-view+json": {
       "model_id": "9e571aa208614afca363879283227979",
       "version_major": 2,
       "version_minor": 0
      },
      "text/plain": [
       "Predicting: 0it [00:00, ?it/s]"
      ]
     },
     "metadata": {},
     "output_type": "display_data"
    },
    {
     "name": "stderr",
     "output_type": "stream",
     "text": [
      "Global seed set to 2\n",
      "No pretrained weights exist or were found for this model. Using random initialization.\n",
      "Global seed set to 2\n",
      "GPU available: True, used: True\n",
      "TPU available: False, using: 0 TPU cores\n",
      "IPU available: False, using: 0 IPUs\n",
      "Global seed set to 0\n"
     ]
    },
    {
     "name": "stdout",
     "output_type": "stream",
     "text": [
      "{'training': True, '_parameters': OrderedDict(), '_buffers': OrderedDict(), '_non_persistent_buffers_set': set(), '_backward_hooks': OrderedDict(), '_is_full_backward_hook': None, '_forward_hooks': OrderedDict(), '_forward_pre_hooks': OrderedDict(), '_state_dict_hooks': OrderedDict(), '_load_state_dict_pre_hooks': OrderedDict(), '_load_state_dict_post_hooks': OrderedDict(), '_modules': OrderedDict([('linear', Linear(in_features=90, out_features=10, bias=True))]), 'neuron_indices': tensor([168, 179, 433,  55, 190, 176, 148, 347, 376, 125, 262, 165, 211, 123,\n",
      "        299, 436, 143, 334, 146, 315,  60, 147,  65, 253, 483, 486, 336, 461,\n",
      "        407, 162,  41, 485, 298, 337, 498, 205,   7, 233, 307, 140, 188, 465,\n",
      "        500, 499, 391,  92, 259, 394, 480,  40, 268, 258, 134,  83,  72, 332,\n",
      "        255, 478, 397, 226,  18, 367, 224, 279, 442, 277, 387, 246, 280, 195,\n",
      "         38, 126, 416, 459, 351, 296, 497, 330, 502,  27, 458, 174, 323, 477,\n",
      "        251, 345, 166, 507, 408, 410]), 'in_features': 90, 'out_features': 10}\n"
     ]
    },
    {
     "name": "stderr",
     "output_type": "stream",
     "text": [
      "LOCAL_RANK: 0 - CUDA_VISIBLE_DEVICES: [3]\n"
     ]
    },
    {
     "data": {
      "application/vnd.jupyter.widget-view+json": {
       "model_id": "c0c0a1909a964be79fcd9cefea634f71",
       "version_major": 2,
       "version_minor": 0
      },
      "text/plain": [
       "Predicting: 0it [00:00, ?it/s]"
      ]
     },
     "metadata": {},
     "output_type": "display_data"
    },
    {
     "name": "stderr",
     "output_type": "stream",
     "text": [
      "Global seed set to 2\n",
      "No pretrained weights exist or were found for this model. Using random initialization.\n",
      "Global seed set to 1\n",
      "GPU available: True, used: True\n",
      "TPU available: False, using: 0 TPU cores\n",
      "IPU available: False, using: 0 IPUs\n",
      "Global seed set to 0\n"
     ]
    },
    {
     "name": "stdout",
     "output_type": "stream",
     "text": [
      "{'training': True, '_parameters': OrderedDict(), '_buffers': OrderedDict(), '_non_persistent_buffers_set': set(), '_backward_hooks': OrderedDict(), '_is_full_backward_hook': None, '_forward_hooks': OrderedDict(), '_forward_pre_hooks': OrderedDict(), '_state_dict_hooks': OrderedDict(), '_load_state_dict_pre_hooks': OrderedDict(), '_load_state_dict_post_hooks': OrderedDict(), '_modules': OrderedDict([('linear', Linear(in_features=90, out_features=10, bias=True))]), 'neuron_indices': tensor([ 37, 158, 476, 186,  31, 123, 165, 223, 295, 262, 214, 458,  28, 261,\n",
      "         57, 258,  86, 203, 450,  74, 494, 430, 488, 339, 251,  96, 312,  23,\n",
      "        401, 384,  26, 356, 119,  76, 307, 257,  47, 378, 424, 390, 405, 460,\n",
      "        177, 348, 359, 396, 382, 146, 113, 407, 254, 300,  60, 140, 239, 174,\n",
      "        391, 276, 199, 209, 246, 474, 371, 364, 213,  53, 311, 314, 204,   1,\n",
      "        273, 505, 132,  24, 372, 388, 497,  16, 363, 286, 191, 148,  94, 167,\n",
      "        143, 138, 351, 283, 226,  66]), 'in_features': 90, 'out_features': 10}\n"
     ]
    },
    {
     "name": "stderr",
     "output_type": "stream",
     "text": [
      "LOCAL_RANK: 0 - CUDA_VISIBLE_DEVICES: [3]\n"
     ]
    },
    {
     "data": {
      "application/vnd.jupyter.widget-view+json": {
       "model_id": "d4dd32e49d144734945da27cca8cf5f9",
       "version_major": 2,
       "version_minor": 0
      },
      "text/plain": [
       "Predicting: 0it [00:00, ?it/s]"
      ]
     },
     "metadata": {},
     "output_type": "display_data"
    },
    {
     "name": "stderr",
     "output_type": "stream",
     "text": [
      "Global seed set to 2\n",
      "No pretrained weights exist or were found for this model. Using random initialization.\n",
      "Global seed set to 2\n",
      "GPU available: True, used: True\n",
      "TPU available: False, using: 0 TPU cores\n",
      "IPU available: False, using: 0 IPUs\n",
      "Global seed set to 0\n"
     ]
    },
    {
     "name": "stdout",
     "output_type": "stream",
     "text": [
      "{'training': True, '_parameters': OrderedDict(), '_buffers': OrderedDict(), '_non_persistent_buffers_set': set(), '_backward_hooks': OrderedDict(), '_is_full_backward_hook': None, '_forward_hooks': OrderedDict(), '_forward_pre_hooks': OrderedDict(), '_state_dict_hooks': OrderedDict(), '_load_state_dict_pre_hooks': OrderedDict(), '_load_state_dict_post_hooks': OrderedDict(), '_modules': OrderedDict([('linear', Linear(in_features=200, out_features=10, bias=True))]), 'neuron_indices': tensor([168, 179, 433,  55, 190, 176, 148, 347, 376, 125, 262, 165, 211, 123,\n",
      "        299, 436, 143, 334, 146, 315,  60, 147,  65, 253, 483, 486, 336, 461,\n",
      "        407, 162,  41, 485, 298, 337, 498, 205,   7, 233, 307, 140, 188, 465,\n",
      "        500, 499, 391,  92, 259, 394, 480,  40, 268, 258, 134,  83,  72, 332,\n",
      "        255, 478, 397, 226,  18, 367, 224, 279, 442, 277, 387, 246, 280, 195,\n",
      "         38, 126, 416, 459, 351, 296, 497, 330, 502,  27, 458, 174, 323, 477,\n",
      "        251, 345, 166, 507, 408, 410, 160, 375, 380, 510, 424, 420, 310, 264,\n",
      "        216, 223, 402, 396, 432, 377, 103, 464, 448, 508, 341, 503,  13, 311,\n",
      "        261,  26,  39, 150, 382, 122, 208, 460, 124,  45, 294, 308, 418, 422,\n",
      "        339, 411, 272, 324, 419, 252, 193, 430, 235, 137,  54, 177, 288,  29,\n",
      "         21, 144,  87, 453, 413, 320, 383, 260, 335, 444, 120, 254, 151, 331,\n",
      "          6, 153,  64,  88, 171, 219, 414, 467, 236, 452, 400,  49,  24,  86,\n",
      "         10,  97, 423, 250,  76, 439, 292, 133, 463,  91, 196, 200, 111, 355,\n",
      "         75, 372,  78, 306,   5, 206, 482, 493, 278,  96,  62,   8, 230, 163,\n",
      "        415, 184, 388,  19]), 'in_features': 200, 'out_features': 10}\n"
     ]
    },
    {
     "name": "stderr",
     "output_type": "stream",
     "text": [
      "LOCAL_RANK: 0 - CUDA_VISIBLE_DEVICES: [3]\n"
     ]
    },
    {
     "data": {
      "application/vnd.jupyter.widget-view+json": {
       "model_id": "4bb117d19e87479e823fa16b973adc29",
       "version_major": 2,
       "version_minor": 0
      },
      "text/plain": [
       "Predicting: 0it [00:00, ?it/s]"
      ]
     },
     "metadata": {},
     "output_type": "display_data"
    },
    {
     "name": "stderr",
     "output_type": "stream",
     "text": [
      "Global seed set to 2\n",
      "No pretrained weights exist or were found for this model. Using random initialization.\n",
      "Global seed set to 1\n",
      "GPU available: True, used: True\n",
      "TPU available: False, using: 0 TPU cores\n",
      "IPU available: False, using: 0 IPUs\n",
      "Global seed set to 0\n"
     ]
    },
    {
     "name": "stdout",
     "output_type": "stream",
     "text": [
      "{'training': True, '_parameters': OrderedDict(), '_buffers': OrderedDict(), '_non_persistent_buffers_set': set(), '_backward_hooks': OrderedDict(), '_is_full_backward_hook': None, '_forward_hooks': OrderedDict(), '_forward_pre_hooks': OrderedDict(), '_state_dict_hooks': OrderedDict(), '_load_state_dict_pre_hooks': OrderedDict(), '_load_state_dict_post_hooks': OrderedDict(), '_modules': OrderedDict([('linear', Linear(in_features=200, out_features=10, bias=True))]), 'neuron_indices': tensor([ 37, 158, 476, 186,  31, 123, 165, 223, 295, 262, 214, 458,  28, 261,\n",
      "         57, 258,  86, 203, 450,  74, 494, 430, 488, 339, 251,  96, 312,  23,\n",
      "        401, 384,  26, 356, 119,  76, 307, 257,  47, 378, 424, 390, 405, 460,\n",
      "        177, 348, 359, 396, 382, 146, 113, 407, 254, 300,  60, 140, 239, 174,\n",
      "        391, 276, 199, 209, 246, 474, 371, 364, 213,  53, 311, 314, 204,   1,\n",
      "        273, 505, 132,  24, 372, 388, 497,  16, 363, 286, 191, 148,  94, 167,\n",
      "        143, 138, 351, 283, 226,  66,  79, 161, 489, 315, 291, 212, 279,  99,\n",
      "        352, 465, 225, 481, 495, 330, 456, 418, 228, 202, 491, 327, 243, 486,\n",
      "        457,  36, 139, 492, 266, 462, 304, 236, 208, 470, 331, 361, 461,  71,\n",
      "        511, 166, 504, 350, 337, 101, 220, 329, 468, 451,  68,  50, 393,  34,\n",
      "         83, 349, 164,  87, 172, 196, 362, 406, 296, 420, 219, 269, 284, 122,\n",
      "        200, 347, 434, 253,  25, 507, 471, 129,  56, 409, 325, 118, 496, 217,\n",
      "         75, 289, 180, 134, 454, 502, 110, 343, 290, 415, 297,  62, 272, 324,\n",
      "        341, 211, 107,  44, 298, 426, 144, 198, 336, 169, 162,  13, 238, 499,\n",
      "        355, 147, 247,   2]), 'in_features': 200, 'out_features': 10}\n"
     ]
    },
    {
     "name": "stderr",
     "output_type": "stream",
     "text": [
      "LOCAL_RANK: 0 - CUDA_VISIBLE_DEVICES: [3]\n"
     ]
    },
    {
     "data": {
      "application/vnd.jupyter.widget-view+json": {
       "model_id": "9d0a7be1c86c4499af96647d91181d08",
       "version_major": 2,
       "version_minor": 0
      },
      "text/plain": [
       "Predicting: 0it [00:00, ?it/s]"
      ]
     },
     "metadata": {},
     "output_type": "display_data"
    },
    {
     "name": "stderr",
     "output_type": "stream",
     "text": [
      "Global seed set to 2\n",
      "No pretrained weights exist or were found for this model. Using random initialization.\n",
      "Global seed set to 3\n",
      "GPU available: True, used: True\n",
      "TPU available: False, using: 0 TPU cores\n",
      "IPU available: False, using: 0 IPUs\n",
      "Global seed set to 0\n"
     ]
    },
    {
     "name": "stdout",
     "output_type": "stream",
     "text": [
      "{'training': True, '_parameters': OrderedDict(), '_buffers': OrderedDict(), '_non_persistent_buffers_set': set(), '_backward_hooks': OrderedDict(), '_is_full_backward_hook': None, '_forward_hooks': OrderedDict(), '_forward_pre_hooks': OrderedDict(), '_state_dict_hooks': OrderedDict(), '_load_state_dict_pre_hooks': OrderedDict(), '_load_state_dict_post_hooks': OrderedDict(), '_modules': OrderedDict([('linear', Linear(in_features=200, out_features=10, bias=True))]), 'neuron_indices': tensor([362, 165,  39, 391, 364,  80, 182, 397,  69, 425, 174, 380, 337, 416,\n",
      "        104, 255, 151, 221, 460,  48, 332,  31, 293, 375, 160, 155, 175, 371,\n",
      "        494, 283, 214, 169, 156, 150, 261,  67, 189, 312, 328,  66, 277, 236,\n",
      "        298, 145, 222, 309,  18, 295, 241, 152, 355, 282, 141, 101,  98, 392,\n",
      "        509, 280, 470, 274, 164, 498, 422, 113,  64, 483, 428, 450, 339,  71,\n",
      "        432, 217, 431, 458,  21, 319, 297,  93, 479,  55, 485, 208, 510, 133,\n",
      "        108, 171, 477, 213, 248, 393, 478, 384, 172, 203, 302, 399, 215, 129,\n",
      "         27, 434, 361, 196, 414, 421, 369, 130, 331,  36,   0, 185, 134, 433,\n",
      "        218, 237, 354, 273, 447,  41, 122, 230,  32, 251, 379, 103, 481, 501,\n",
      "        190, 465, 285, 223, 310,  15, 329, 270,  76,  89,  24, 239, 139, 188,\n",
      "         83, 290, 119, 199, 500, 427,  57, 220, 195, 348, 186,  40, 159, 507,\n",
      "        271, 204, 229, 128, 360, 168, 338, 426, 324, 187, 263, 376, 318, 488,\n",
      "        278,   5, 429, 240, 493, 463, 489,  77, 149, 192, 368, 247, 191,  73,\n",
      "        233, 207, 176, 390, 486, 117, 396, 448,  62, 440,  51,  11, 180, 438,\n",
      "        146, 147,   7, 202]), 'in_features': 200, 'out_features': 10}\n"
     ]
    },
    {
     "name": "stderr",
     "output_type": "stream",
     "text": [
      "LOCAL_RANK: 0 - CUDA_VISIBLE_DEVICES: [3]\n"
     ]
    },
    {
     "data": {
      "application/vnd.jupyter.widget-view+json": {
       "model_id": "0cd6bb8f214f43b587bcb41c1d3bfc79",
       "version_major": 2,
       "version_minor": 0
      },
      "text/plain": [
       "Predicting: 0it [00:00, ?it/s]"
      ]
     },
     "metadata": {},
     "output_type": "display_data"
    },
    {
     "name": "stderr",
     "output_type": "stream",
     "text": [
      "Global seed set to 2\n",
      "No pretrained weights exist or were found for this model. Using random initialization.\n",
      "Global seed set to 3\n",
      "GPU available: True, used: True\n",
      "TPU available: False, using: 0 TPU cores\n",
      "IPU available: False, using: 0 IPUs\n",
      "Global seed set to 0\n"
     ]
    },
    {
     "name": "stdout",
     "output_type": "stream",
     "text": [
      "{'training': True, '_parameters': OrderedDict(), '_buffers': OrderedDict(), '_non_persistent_buffers_set': set(), '_backward_hooks': OrderedDict(), '_is_full_backward_hook': None, '_forward_hooks': OrderedDict(), '_forward_pre_hooks': OrderedDict(), '_state_dict_hooks': OrderedDict(), '_load_state_dict_pre_hooks': OrderedDict(), '_load_state_dict_post_hooks': OrderedDict(), '_modules': OrderedDict([('linear', Linear(in_features=350, out_features=10, bias=True))]), 'neuron_indices': tensor([362, 165,  39, 391, 364,  80, 182, 397,  69, 425, 174, 380, 337, 416,\n",
      "        104, 255, 151, 221, 460,  48, 332,  31, 293, 375, 160, 155, 175, 371,\n",
      "        494, 283, 214, 169, 156, 150, 261,  67, 189, 312, 328,  66, 277, 236,\n",
      "        298, 145, 222, 309,  18, 295, 241, 152, 355, 282, 141, 101,  98, 392,\n",
      "        509, 280, 470, 274, 164, 498, 422, 113,  64, 483, 428, 450, 339,  71,\n",
      "        432, 217, 431, 458,  21, 319, 297,  93, 479,  55, 485, 208, 510, 133,\n",
      "        108, 171, 477, 213, 248, 393, 478, 384, 172, 203, 302, 399, 215, 129,\n",
      "         27, 434, 361, 196, 414, 421, 369, 130, 331,  36,   0, 185, 134, 433,\n",
      "        218, 237, 354, 273, 447,  41, 122, 230,  32, 251, 379, 103, 481, 501,\n",
      "        190, 465, 285, 223, 310,  15, 329, 270,  76,  89,  24, 239, 139, 188,\n",
      "         83, 290, 119, 199, 500, 427,  57, 220, 195, 348, 186,  40, 159, 507,\n",
      "        271, 204, 229, 128, 360, 168, 338, 426, 324, 187, 263, 376, 318, 488,\n",
      "        278,   5, 429, 240, 493, 463, 489,  77, 149, 192, 368, 247, 191,  73,\n",
      "        233, 207, 176, 390, 486, 117, 396, 448,  62, 440,  51,  11, 180, 438,\n",
      "        146, 147,   7, 202, 210, 419,   8, 259, 209, 307, 472, 173, 197, 167,\n",
      "        359,  42, 252, 123, 242, 238, 308, 335, 184, 457, 245, 234,  28, 423,\n",
      "        342, 178, 410, 499, 464, 378, 206, 495,  20, 144, 467, 417, 243, 124,\n",
      "         23, 200, 345,  58,  12, 508, 439,  87, 253,  74, 367, 135,  10, 157,\n",
      "        179, 194, 224, 226, 316, 437, 105,  90, 482, 268,  56, 474, 137, 381,\n",
      "        504, 294,  97, 383, 506, 232,  65, 288, 181, 476, 388, 401, 296,  70,\n",
      "        289,  26, 373, 314,   6, 456, 125, 116, 266, 306, 407, 193,  16, 402,\n",
      "        177, 409, 394, 389, 503, 322, 143, 398, 330, 114, 106, 452, 100, 264,\n",
      "         85, 444, 235, 292, 484, 131,  45,  35, 269,  53,  60, 365, 406, 109,\n",
      "        303, 212, 386, 287,  54, 326, 496, 120, 352, 344, 260, 453, 492, 276,\n",
      "        299,  47, 227, 455, 358, 502, 154, 163,  84, 469,  61, 275, 350, 415]), 'in_features': 350, 'out_features': 10}\n"
     ]
    },
    {
     "name": "stderr",
     "output_type": "stream",
     "text": [
      "LOCAL_RANK: 0 - CUDA_VISIBLE_DEVICES: [3]\n"
     ]
    },
    {
     "data": {
      "application/vnd.jupyter.widget-view+json": {
       "model_id": "6aacd242319e4e5aa21fc6e75b8937fd",
       "version_major": 2,
       "version_minor": 0
      },
      "text/plain": [
       "Predicting: 0it [00:00, ?it/s]"
      ]
     },
     "metadata": {},
     "output_type": "display_data"
    },
    {
     "name": "stderr",
     "output_type": "stream",
     "text": [
      "Global seed set to 2\n",
      "No pretrained weights exist or were found for this model. Using random initialization.\n",
      "Global seed set to 2\n",
      "GPU available: True, used: True\n",
      "TPU available: False, using: 0 TPU cores\n",
      "IPU available: False, using: 0 IPUs\n",
      "Global seed set to 0\n"
     ]
    },
    {
     "name": "stdout",
     "output_type": "stream",
     "text": [
      "{'training': True, '_parameters': OrderedDict(), '_buffers': OrderedDict(), '_non_persistent_buffers_set': set(), '_backward_hooks': OrderedDict(), '_is_full_backward_hook': None, '_forward_hooks': OrderedDict(), '_forward_pre_hooks': OrderedDict(), '_state_dict_hooks': OrderedDict(), '_load_state_dict_pre_hooks': OrderedDict(), '_load_state_dict_post_hooks': OrderedDict(), '_modules': OrderedDict([('linear', Linear(in_features=350, out_features=10, bias=True))]), 'neuron_indices': tensor([168, 179, 433,  55, 190, 176, 148, 347, 376, 125, 262, 165, 211, 123,\n",
      "        299, 436, 143, 334, 146, 315,  60, 147,  65, 253, 483, 486, 336, 461,\n",
      "        407, 162,  41, 485, 298, 337, 498, 205,   7, 233, 307, 140, 188, 465,\n",
      "        500, 499, 391,  92, 259, 394, 480,  40, 268, 258, 134,  83,  72, 332,\n",
      "        255, 478, 397, 226,  18, 367, 224, 279, 442, 277, 387, 246, 280, 195,\n",
      "         38, 126, 416, 459, 351, 296, 497, 330, 502,  27, 458, 174, 323, 477,\n",
      "        251, 345, 166, 507, 408, 410, 160, 375, 380, 510, 424, 420, 310, 264,\n",
      "        216, 223, 402, 396, 432, 377, 103, 464, 448, 508, 341, 503,  13, 311,\n",
      "        261,  26,  39, 150, 382, 122, 208, 460, 124,  45, 294, 308, 418, 422,\n",
      "        339, 411, 272, 324, 419, 252, 193, 430, 235, 137,  54, 177, 288,  29,\n",
      "         21, 144,  87, 453, 413, 320, 383, 260, 335, 444, 120, 254, 151, 331,\n",
      "          6, 153,  64,  88, 171, 219, 414, 467, 236, 452, 400,  49,  24,  86,\n",
      "         10,  97, 423, 250,  76, 439, 292, 133, 463,  91, 196, 200, 111, 355,\n",
      "         75, 372,  78, 306,   5, 206, 482, 493, 278,  96,  62,   8, 230, 163,\n",
      "        415, 184, 388,  19, 115, 138, 471, 132, 473, 489, 243, 240, 328, 321,\n",
      "         11,  35, 443, 469, 369, 217, 437, 158, 505,  44, 368, 316, 185,   9,\n",
      "        474, 159, 451, 105, 363, 139, 182, 445, 504, 269, 121, 225, 142, 401,\n",
      "         56, 373, 421,  69,  73, 340, 215, 404, 107, 197, 242, 209, 106, 291,\n",
      "        384, 352, 281,  36, 392, 491, 201,  70, 481, 403, 130, 425,  43, 129,\n",
      "        374, 501,  58, 395,  42, 496, 365, 429, 346,  59, 509, 466,   0,  28,\n",
      "        239, 325,  15,  98, 274,  14, 405, 156, 104, 263,  95, 192, 349, 187,\n",
      "        426, 357, 454, 128, 319, 222,  51, 344,  12, 117, 114,  47, 427, 234,\n",
      "         30, 446, 221, 271, 488,  77, 313,  23,  79, 303, 435,  89, 213, 389,\n",
      "        229, 364,  48, 297, 141, 245, 318, 167,  57, 462,   1,  68, 149, 183,\n",
      "         74, 450,  16, 186, 379, 490, 487, 409, 293, 181,  67, 305, 265, 348]), 'in_features': 350, 'out_features': 10}\n"
     ]
    },
    {
     "name": "stderr",
     "output_type": "stream",
     "text": [
      "LOCAL_RANK: 0 - CUDA_VISIBLE_DEVICES: [3]\n"
     ]
    },
    {
     "data": {
      "application/vnd.jupyter.widget-view+json": {
       "model_id": "2fb008e16fce4ba6bb10672c1e1b3529",
       "version_major": 2,
       "version_minor": 0
      },
      "text/plain": [
       "Predicting: 0it [00:00, ?it/s]"
      ]
     },
     "metadata": {},
     "output_type": "display_data"
    },
    {
     "name": "stderr",
     "output_type": "stream",
     "text": [
      "Global seed set to 2\n",
      "No pretrained weights exist or were found for this model. Using random initialization.\n",
      "Global seed set to 1\n",
      "GPU available: True, used: True\n",
      "TPU available: False, using: 0 TPU cores\n",
      "IPU available: False, using: 0 IPUs\n",
      "Global seed set to 0\n"
     ]
    },
    {
     "name": "stdout",
     "output_type": "stream",
     "text": [
      "{'training': True, '_parameters': OrderedDict(), '_buffers': OrderedDict(), '_non_persistent_buffers_set': set(), '_backward_hooks': OrderedDict(), '_is_full_backward_hook': None, '_forward_hooks': OrderedDict(), '_forward_pre_hooks': OrderedDict(), '_state_dict_hooks': OrderedDict(), '_load_state_dict_pre_hooks': OrderedDict(), '_load_state_dict_post_hooks': OrderedDict(), '_modules': OrderedDict([('linear', Linear(in_features=350, out_features=10, bias=True))]), 'neuron_indices': tensor([ 37, 158, 476, 186,  31, 123, 165, 223, 295, 262, 214, 458,  28, 261,\n",
      "         57, 258,  86, 203, 450,  74, 494, 430, 488, 339, 251,  96, 312,  23,\n",
      "        401, 384,  26, 356, 119,  76, 307, 257,  47, 378, 424, 390, 405, 460,\n",
      "        177, 348, 359, 396, 382, 146, 113, 407, 254, 300,  60, 140, 239, 174,\n",
      "        391, 276, 199, 209, 246, 474, 371, 364, 213,  53, 311, 314, 204,   1,\n",
      "        273, 505, 132,  24, 372, 388, 497,  16, 363, 286, 191, 148,  94, 167,\n",
      "        143, 138, 351, 283, 226,  66,  79, 161, 489, 315, 291, 212, 279,  99,\n",
      "        352, 465, 225, 481, 495, 330, 456, 418, 228, 202, 491, 327, 243, 486,\n",
      "        457,  36, 139, 492, 266, 462, 304, 236, 208, 470, 331, 361, 461,  71,\n",
      "        511, 166, 504, 350, 337, 101, 220, 329, 468, 451,  68,  50, 393,  34,\n",
      "         83, 349, 164,  87, 172, 196, 362, 406, 296, 420, 219, 269, 284, 122,\n",
      "        200, 347, 434, 253,  25, 507, 471, 129,  56, 409, 325, 118, 496, 217,\n",
      "         75, 289, 180, 134, 454, 502, 110, 343, 290, 415, 297,  62, 272, 324,\n",
      "        341, 211, 107,  44, 298, 426, 144, 198, 336, 169, 162,  13, 238, 499,\n",
      "        355, 147, 247,   2, 171, 264, 340,  90, 469,  64, 357,  22, 449, 232,\n",
      "        288, 386,  38,  70, 231, 328, 313, 278, 381, 150, 437, 156, 303, 377,\n",
      "        398, 484, 482, 397, 463, 394, 433, 230, 114, 155, 183, 506, 178,  43,\n",
      "        287, 503, 421, 498, 425, 440,  72,  89, 369, 510, 265, 121, 130,  15,\n",
      "        308, 216, 151, 360, 400, 175,  30, 237, 185, 193, 280, 335, 270, 117,\n",
      "        285, 194, 192, 323, 395, 252, 205, 344,  21, 160, 332, 436,  41, 294,\n",
      "        452, 116, 274, 103,  73, 309, 127, 248, 493, 501, 402, 366, 255,   0,\n",
      "         98, 125,  97, 152, 472, 159, 215,  54, 374, 318, 508, 479,  84,  20,\n",
      "         67, 310, 473, 346, 338, 190, 115, 207, 419, 509,  40, 301, 444, 271,\n",
      "         46,   6, 157, 455, 319, 135, 368,  77, 427,  65, 414, 133, 431, 256,\n",
      "        367, 141, 453, 235,  63, 404, 380, 438,  93, 267, 221, 342,  95, 182]), 'in_features': 350, 'out_features': 10}\n"
     ]
    },
    {
     "name": "stderr",
     "output_type": "stream",
     "text": [
      "LOCAL_RANK: 0 - CUDA_VISIBLE_DEVICES: [3]\n"
     ]
    },
    {
     "data": {
      "application/vnd.jupyter.widget-view+json": {
       "model_id": "cd0894ce37e0462c8e4fa570dd108f27",
       "version_major": 2,
       "version_minor": 0
      },
      "text/plain": [
       "Predicting: 0it [00:00, ?it/s]"
      ]
     },
     "metadata": {},
     "output_type": "display_data"
    },
    {
     "name": "stderr",
     "output_type": "stream",
     "text": [
      "Global seed set to 2\n",
      "No pretrained weights exist or were found for this model. Using random initialization.\n",
      "Global seed set to 2\n",
      "GPU available: True, used: True\n",
      "TPU available: False, using: 0 TPU cores\n",
      "IPU available: False, using: 0 IPUs\n",
      "Global seed set to 0\n"
     ]
    },
    {
     "name": "stdout",
     "output_type": "stream",
     "text": [
      "{'training': True, '_parameters': OrderedDict(), '_buffers': OrderedDict(), '_non_persistent_buffers_set': set(), '_backward_hooks': OrderedDict(), '_is_full_backward_hook': None, '_forward_hooks': OrderedDict(), '_forward_pre_hooks': OrderedDict(), '_state_dict_hooks': OrderedDict(), '_load_state_dict_pre_hooks': OrderedDict(), '_load_state_dict_post_hooks': OrderedDict(), '_modules': OrderedDict([('linear', Linear(in_features=500, out_features=10, bias=True))]), 'neuron_indices': tensor([168, 179, 433,  55, 190, 176, 148, 347, 376, 125, 262, 165, 211, 123,\n",
      "        299, 436, 143, 334, 146, 315,  60, 147,  65, 253, 483, 486, 336, 461,\n",
      "        407, 162,  41, 485, 298, 337, 498, 205,   7, 233, 307, 140, 188, 465,\n",
      "        500, 499, 391,  92, 259, 394, 480,  40, 268, 258, 134,  83,  72, 332,\n",
      "        255, 478, 397, 226,  18, 367, 224, 279, 442, 277, 387, 246, 280, 195,\n",
      "         38, 126, 416, 459, 351, 296, 497, 330, 502,  27, 458, 174, 323, 477,\n",
      "        251, 345, 166, 507, 408, 410, 160, 375, 380, 510, 424, 420, 310, 264,\n",
      "        216, 223, 402, 396, 432, 377, 103, 464, 448, 508, 341, 503,  13, 311,\n",
      "        261,  26,  39, 150, 382, 122, 208, 460, 124,  45, 294, 308, 418, 422,\n",
      "        339, 411, 272, 324, 419, 252, 193, 430, 235, 137,  54, 177, 288,  29,\n",
      "         21, 144,  87, 453, 413, 320, 383, 260, 335, 444, 120, 254, 151, 331,\n",
      "          6, 153,  64,  88, 171, 219, 414, 467, 236, 452, 400,  49,  24,  86,\n",
      "         10,  97, 423, 250,  76, 439, 292, 133, 463,  91, 196, 200, 111, 355,\n",
      "         75, 372,  78, 306,   5, 206, 482, 493, 278,  96,  62,   8, 230, 163,\n",
      "        415, 184, 388,  19, 115, 138, 471, 132, 473, 489, 243, 240, 328, 321,\n",
      "         11,  35, 443, 469, 369, 217, 437, 158, 505,  44, 368, 316, 185,   9,\n",
      "        474, 159, 451, 105, 363, 139, 182, 445, 504, 269, 121, 225, 142, 401,\n",
      "         56, 373, 421,  69,  73, 340, 215, 404, 107, 197, 242, 209, 106, 291,\n",
      "        384, 352, 281,  36, 392, 491, 201,  70, 481, 403, 130, 425,  43, 129,\n",
      "        374, 501,  58, 395,  42, 496, 365, 429, 346,  59, 509, 466,   0,  28,\n",
      "        239, 325,  15,  98, 274,  14, 405, 156, 104, 263,  95, 192, 349, 187,\n",
      "        426, 357, 454, 128, 319, 222,  51, 344,  12, 117, 114,  47, 427, 234,\n",
      "         30, 446, 221, 271, 488,  77, 313,  23,  79, 303, 435,  89, 213, 389,\n",
      "        229, 364,  48, 297, 141, 245, 318, 167,  57, 462,   1,  68, 149, 183,\n",
      "         74, 450,  16, 186, 379, 490, 487, 409, 293, 181,  67, 305, 265, 348,\n",
      "        231,  71,  17, 220,  61, 390, 108, 136, 199, 110, 286, 479, 232, 343,\n",
      "        326, 204, 100, 244, 338, 289, 270, 359, 350,  94,  25, 304, 329, 161,\n",
      "         34, 438, 127, 476,  66, 385, 164, 145, 302, 290, 378, 287, 312,  84,\n",
      "        511, 406, 191, 358, 275,  32, 386, 113, 475, 447,  85, 257,  90, 353,\n",
      "        207,  46,  82, 109, 102, 155, 470, 169, 472, 283, 119,  31, 431, 178,\n",
      "        361, 189, 228, 440, 247, 484, 360, 249, 322,  63, 492, 203, 116,  50,\n",
      "        267, 154, 284, 327,  93, 101, 212, 371, 282, 295,  52, 434, 412, 131,\n",
      "        112,  20, 170, 314, 172, 449, 266,   3, 198, 494, 285,  99, 135, 218,\n",
      "        256, 300, 309, 276,  37, 506,  53, 457, 118, 455, 273, 202, 238, 393,\n",
      "         33,  22, 301, 194, 210, 468, 152, 333, 398, 317, 456, 370, 214, 173,\n",
      "         81, 237, 495, 227, 381, 354, 356,   4,  80, 175]), 'in_features': 500, 'out_features': 10}\n"
     ]
    },
    {
     "name": "stderr",
     "output_type": "stream",
     "text": [
      "LOCAL_RANK: 0 - CUDA_VISIBLE_DEVICES: [3]\n"
     ]
    },
    {
     "data": {
      "application/vnd.jupyter.widget-view+json": {
       "model_id": "ca3456bdaece4b338fdbf2a230cce809",
       "version_major": 2,
       "version_minor": 0
      },
      "text/plain": [
       "Predicting: 0it [00:00, ?it/s]"
      ]
     },
     "metadata": {},
     "output_type": "display_data"
    },
    {
     "name": "stderr",
     "output_type": "stream",
     "text": [
      "Global seed set to 2\n",
      "No pretrained weights exist or were found for this model. Using random initialization.\n",
      "Global seed set to 1\n",
      "GPU available: True, used: True\n",
      "TPU available: False, using: 0 TPU cores\n",
      "IPU available: False, using: 0 IPUs\n",
      "Global seed set to 0\n"
     ]
    },
    {
     "name": "stdout",
     "output_type": "stream",
     "text": [
      "{'training': True, '_parameters': OrderedDict(), '_buffers': OrderedDict(), '_non_persistent_buffers_set': set(), '_backward_hooks': OrderedDict(), '_is_full_backward_hook': None, '_forward_hooks': OrderedDict(), '_forward_pre_hooks': OrderedDict(), '_state_dict_hooks': OrderedDict(), '_load_state_dict_pre_hooks': OrderedDict(), '_load_state_dict_post_hooks': OrderedDict(), '_modules': OrderedDict([('linear', Linear(in_features=500, out_features=10, bias=True))]), 'neuron_indices': tensor([ 37, 158, 476, 186,  31, 123, 165, 223, 295, 262, 214, 458,  28, 261,\n",
      "         57, 258,  86, 203, 450,  74, 494, 430, 488, 339, 251,  96, 312,  23,\n",
      "        401, 384,  26, 356, 119,  76, 307, 257,  47, 378, 424, 390, 405, 460,\n",
      "        177, 348, 359, 396, 382, 146, 113, 407, 254, 300,  60, 140, 239, 174,\n",
      "        391, 276, 199, 209, 246, 474, 371, 364, 213,  53, 311, 314, 204,   1,\n",
      "        273, 505, 132,  24, 372, 388, 497,  16, 363, 286, 191, 148,  94, 167,\n",
      "        143, 138, 351, 283, 226,  66,  79, 161, 489, 315, 291, 212, 279,  99,\n",
      "        352, 465, 225, 481, 495, 330, 456, 418, 228, 202, 491, 327, 243, 486,\n",
      "        457,  36, 139, 492, 266, 462, 304, 236, 208, 470, 331, 361, 461,  71,\n",
      "        511, 166, 504, 350, 337, 101, 220, 329, 468, 451,  68,  50, 393,  34,\n",
      "         83, 349, 164,  87, 172, 196, 362, 406, 296, 420, 219, 269, 284, 122,\n",
      "        200, 347, 434, 253,  25, 507, 471, 129,  56, 409, 325, 118, 496, 217,\n",
      "         75, 289, 180, 134, 454, 502, 110, 343, 290, 415, 297,  62, 272, 324,\n",
      "        341, 211, 107,  44, 298, 426, 144, 198, 336, 169, 162,  13, 238, 499,\n",
      "        355, 147, 247,   2, 171, 264, 340,  90, 469,  64, 357,  22, 449, 232,\n",
      "        288, 386,  38,  70, 231, 328, 313, 278, 381, 150, 437, 156, 303, 377,\n",
      "        398, 484, 482, 397, 463, 394, 433, 230, 114, 155, 183, 506, 178,  43,\n",
      "        287, 503, 421, 498, 425, 440,  72,  89, 369, 510, 265, 121, 130,  15,\n",
      "        308, 216, 151, 360, 400, 175,  30, 237, 185, 193, 280, 335, 270, 117,\n",
      "        285, 194, 192, 323, 395, 252, 205, 344,  21, 160, 332, 436,  41, 294,\n",
      "        452, 116, 274, 103,  73, 309, 127, 248, 493, 501, 402, 366, 255,   0,\n",
      "         98, 125,  97, 152, 472, 159, 215,  54, 374, 318, 508, 479,  84,  20,\n",
      "         67, 310, 473, 346, 338, 190, 115, 207, 419, 509,  40, 301, 444, 271,\n",
      "         46,   6, 157, 455, 319, 135, 368,  77, 427,  65, 414, 133, 431, 256,\n",
      "        367, 141, 453, 235,  63, 404, 380, 438,  93, 267, 221, 342,  95, 182,\n",
      "        448, 320, 345,  82, 467, 145, 373, 250,  18, 445,   5, 168, 275, 483,\n",
      "        242, 480, 358, 154, 105, 126,  11, 263, 176, 106,  27, 293,  29, 260,\n",
      "        201,  42, 149, 317, 240, 124, 299, 111,   8,  45, 306, 428,  55, 108,\n",
      "        411, 379, 100,  32, 442, 370, 195,  14, 137,  52, 244, 245, 163,  33,\n",
      "        188, 385,  51, 399, 408, 233,  80, 410,   7, 432, 475, 321,   9, 153,\n",
      "         17,  12, 229,   3, 326, 227, 447,  78, 109, 218,  39,  19, 459, 210,\n",
      "        136, 375, 353, 234, 443, 173, 464, 334, 376, 112, 412, 131, 333, 354,\n",
      "        466, 417, 104, 422, 241, 277, 389, 102, 392, 416,  49, 439, 224, 500,\n",
      "        249, 189, 184, 222, 403, 429,  81,  91, 259, 142,  48,  10, 365, 128,\n",
      "        170, 477, 120,   4, 446, 206, 487, 322, 383, 197, 282, 478, 179, 181,\n",
      "        485,  58,  69,  88,  35,  92, 435, 292, 187, 423]), 'in_features': 500, 'out_features': 10}\n"
     ]
    },
    {
     "name": "stderr",
     "output_type": "stream",
     "text": [
      "LOCAL_RANK: 0 - CUDA_VISIBLE_DEVICES: [3]\n"
     ]
    },
    {
     "data": {
      "application/vnd.jupyter.widget-view+json": {
       "model_id": "d7fa4b6ad3f84981bd2781ece1d5c0a4",
       "version_major": 2,
       "version_minor": 0
      },
      "text/plain": [
       "Predicting: 0it [00:00, ?it/s]"
      ]
     },
     "metadata": {},
     "output_type": "display_data"
    },
    {
     "name": "stderr",
     "output_type": "stream",
     "text": [
      "Global seed set to 2\n",
      "No pretrained weights exist or were found for this model. Using random initialization.\n",
      "Global seed set to 3\n",
      "GPU available: True, used: True\n",
      "TPU available: False, using: 0 TPU cores\n",
      "IPU available: False, using: 0 IPUs\n",
      "Global seed set to 0\n"
     ]
    },
    {
     "name": "stdout",
     "output_type": "stream",
     "text": [
      "{'training': True, '_parameters': OrderedDict(), '_buffers': OrderedDict(), '_non_persistent_buffers_set': set(), '_backward_hooks': OrderedDict(), '_is_full_backward_hook': None, '_forward_hooks': OrderedDict(), '_forward_pre_hooks': OrderedDict(), '_state_dict_hooks': OrderedDict(), '_load_state_dict_pre_hooks': OrderedDict(), '_load_state_dict_post_hooks': OrderedDict(), '_modules': OrderedDict([('linear', Linear(in_features=500, out_features=10, bias=True))]), 'neuron_indices': tensor([362, 165,  39, 391, 364,  80, 182, 397,  69, 425, 174, 380, 337, 416,\n",
      "        104, 255, 151, 221, 460,  48, 332,  31, 293, 375, 160, 155, 175, 371,\n",
      "        494, 283, 214, 169, 156, 150, 261,  67, 189, 312, 328,  66, 277, 236,\n",
      "        298, 145, 222, 309,  18, 295, 241, 152, 355, 282, 141, 101,  98, 392,\n",
      "        509, 280, 470, 274, 164, 498, 422, 113,  64, 483, 428, 450, 339,  71,\n",
      "        432, 217, 431, 458,  21, 319, 297,  93, 479,  55, 485, 208, 510, 133,\n",
      "        108, 171, 477, 213, 248, 393, 478, 384, 172, 203, 302, 399, 215, 129,\n",
      "         27, 434, 361, 196, 414, 421, 369, 130, 331,  36,   0, 185, 134, 433,\n",
      "        218, 237, 354, 273, 447,  41, 122, 230,  32, 251, 379, 103, 481, 501,\n",
      "        190, 465, 285, 223, 310,  15, 329, 270,  76,  89,  24, 239, 139, 188,\n",
      "         83, 290, 119, 199, 500, 427,  57, 220, 195, 348, 186,  40, 159, 507,\n",
      "        271, 204, 229, 128, 360, 168, 338, 426, 324, 187, 263, 376, 318, 488,\n",
      "        278,   5, 429, 240, 493, 463, 489,  77, 149, 192, 368, 247, 191,  73,\n",
      "        233, 207, 176, 390, 486, 117, 396, 448,  62, 440,  51,  11, 180, 438,\n",
      "        146, 147,   7, 202, 210, 419,   8, 259, 209, 307, 472, 173, 197, 167,\n",
      "        359,  42, 252, 123, 242, 238, 308, 335, 184, 457, 245, 234,  28, 423,\n",
      "        342, 178, 410, 499, 464, 378, 206, 495,  20, 144, 467, 417, 243, 124,\n",
      "         23, 200, 345,  58,  12, 508, 439,  87, 253,  74, 367, 135,  10, 157,\n",
      "        179, 194, 224, 226, 316, 437, 105,  90, 482, 268,  56, 474, 137, 381,\n",
      "        504, 294,  97, 383, 506, 232,  65, 288, 181, 476, 388, 401, 296,  70,\n",
      "        289,  26, 373, 314,   6, 456, 125, 116, 266, 306, 407, 193,  16, 402,\n",
      "        177, 409, 394, 389, 503, 322, 143, 398, 330, 114, 106, 452, 100, 264,\n",
      "         85, 444, 235, 292, 484, 131,  45,  35, 269,  53,  60, 365, 406, 109,\n",
      "        303, 212, 386, 287,  54, 326, 496, 120, 352, 344, 260, 453, 492, 276,\n",
      "        299,  47, 227, 455, 358, 502, 154, 163,  84, 469,  61, 275, 350, 415,\n",
      "        374, 317, 357, 279, 412, 231,  49, 102, 443,  29, 132,  37, 436,  63,\n",
      "        466, 430, 343,  78,  19, 385, 471, 442,  88, 305,  79, 225,  25, 219,\n",
      "        351, 136, 110, 366,  50, 491, 281, 112, 301, 315, 118,  92, 370, 449,\n",
      "        387, 153, 201, 205, 497, 320, 411, 158, 162, 400, 304, 161, 256,  72,\n",
      "        334,  59,  68, 349, 138,  13, 346, 250, 321, 490,  46,  82,  75, 121,\n",
      "        249, 418, 435, 228,  91, 311,  30, 468, 325, 257, 198, 480, 211, 254,\n",
      "        403, 265, 127, 487, 267, 356, 336,  43,  17, 459, 424, 216, 313, 461,\n",
      "        395, 323, 446, 126, 262, 454,  14, 404,   4,  81, 372, 382,  34,  38,\n",
      "        420, 341, 166,  96,  33, 291, 363, 246,   1,  95, 377, 284,  22, 511,\n",
      "         94, 473, 183, 441,  52,   3,   9, 107, 353, 340, 505, 111, 405, 347,\n",
      "         86, 115, 413, 148, 408, 286, 445, 333, 272, 451]), 'in_features': 500, 'out_features': 10}\n"
     ]
    },
    {
     "name": "stderr",
     "output_type": "stream",
     "text": [
      "LOCAL_RANK: 0 - CUDA_VISIBLE_DEVICES: [3]\n"
     ]
    },
    {
     "data": {
      "application/vnd.jupyter.widget-view+json": {
       "model_id": "9add0db5b1de43a5beff5fcfc0fb6853",
       "version_major": 2,
       "version_minor": 0
      },
      "text/plain": [
       "Predicting: 0it [00:00, ?it/s]"
      ]
     },
     "metadata": {},
     "output_type": "display_data"
    },
    {
     "name": "stderr",
     "output_type": "stream",
     "text": [
      "Global seed set to 2\n",
      "No pretrained weights exist or were found for this model. Using random initialization.\n",
      "Global seed set to 4\n",
      "GPU available: True, used: True\n",
      "TPU available: False, using: 0 TPU cores\n",
      "IPU available: False, using: 0 IPUs\n",
      "Global seed set to 0\n"
     ]
    },
    {
     "name": "stdout",
     "output_type": "stream",
     "text": [
      "{'training': True, '_parameters': OrderedDict(), '_buffers': OrderedDict(), '_non_persistent_buffers_set': set(), '_backward_hooks': OrderedDict(), '_is_full_backward_hook': None, '_forward_hooks': OrderedDict(), '_forward_pre_hooks': OrderedDict(), '_state_dict_hooks': OrderedDict(), '_load_state_dict_pre_hooks': OrderedDict(), '_load_state_dict_post_hooks': OrderedDict(), '_modules': OrderedDict([('linear', Linear(in_features=5, out_features=10, bias=True))]), 'neuron_indices': tensor([122,  70,  83, 170,  61]), 'in_features': 5, 'out_features': 10}\n"
     ]
    },
    {
     "name": "stderr",
     "output_type": "stream",
     "text": [
      "LOCAL_RANK: 0 - CUDA_VISIBLE_DEVICES: [3]\n"
     ]
    },
    {
     "data": {
      "application/vnd.jupyter.widget-view+json": {
       "model_id": "b931a4dfd1794612930de5dc9767f954",
       "version_major": 2,
       "version_minor": 0
      },
      "text/plain": [
       "Predicting: 0it [00:00, ?it/s]"
      ]
     },
     "metadata": {},
     "output_type": "display_data"
    },
    {
     "name": "stderr",
     "output_type": "stream",
     "text": [
      "Global seed set to 2\n",
      "No pretrained weights exist or were found for this model. Using random initialization.\n",
      "Global seed set to 3\n",
      "GPU available: True, used: True\n",
      "TPU available: False, using: 0 TPU cores\n",
      "IPU available: False, using: 0 IPUs\n",
      "Global seed set to 0\n"
     ]
    },
    {
     "name": "stdout",
     "output_type": "stream",
     "text": [
      "{'training': True, '_parameters': OrderedDict(), '_buffers': OrderedDict(), '_non_persistent_buffers_set': set(), '_backward_hooks': OrderedDict(), '_is_full_backward_hook': None, '_forward_hooks': OrderedDict(), '_forward_pre_hooks': OrderedDict(), '_state_dict_hooks': OrderedDict(), '_load_state_dict_pre_hooks': OrderedDict(), '_load_state_dict_post_hooks': OrderedDict(), '_modules': OrderedDict([('linear', Linear(in_features=5, out_features=10, bias=True))]), 'neuron_indices': tensor([106, 204,  47, 105,  32]), 'in_features': 5, 'out_features': 10}\n"
     ]
    },
    {
     "name": "stderr",
     "output_type": "stream",
     "text": [
      "LOCAL_RANK: 0 - CUDA_VISIBLE_DEVICES: [3]\n"
     ]
    },
    {
     "data": {
      "application/vnd.jupyter.widget-view+json": {
       "model_id": "07e339795a9347e9834d15eff2a30341",
       "version_major": 2,
       "version_minor": 0
      },
      "text/plain": [
       "Predicting: 0it [00:00, ?it/s]"
      ]
     },
     "metadata": {},
     "output_type": "display_data"
    },
    {
     "name": "stderr",
     "output_type": "stream",
     "text": [
      "Global seed set to 2\n",
      "No pretrained weights exist or were found for this model. Using random initialization.\n",
      "Global seed set to 1\n",
      "GPU available: True, used: True\n",
      "TPU available: False, using: 0 TPU cores\n",
      "IPU available: False, using: 0 IPUs\n",
      "Global seed set to 0\n"
     ]
    },
    {
     "name": "stdout",
     "output_type": "stream",
     "text": [
      "{'training': True, '_parameters': OrderedDict(), '_buffers': OrderedDict(), '_non_persistent_buffers_set': set(), '_backward_hooks': OrderedDict(), '_is_full_backward_hook': None, '_forward_hooks': OrderedDict(), '_forward_pre_hooks': OrderedDict(), '_state_dict_hooks': OrderedDict(), '_load_state_dict_pre_hooks': OrderedDict(), '_load_state_dict_post_hooks': OrderedDict(), '_modules': OrderedDict([('linear', Linear(in_features=5, out_features=10, bias=True))]), 'neuron_indices': tensor([ 37, 180,  88, 157, 119]), 'in_features': 5, 'out_features': 10}\n"
     ]
    },
    {
     "name": "stderr",
     "output_type": "stream",
     "text": [
      "LOCAL_RANK: 0 - CUDA_VISIBLE_DEVICES: [3]\n"
     ]
    },
    {
     "data": {
      "application/vnd.jupyter.widget-view+json": {
       "model_id": "a915e806898c4a8b8ba6afa767ee7bd1",
       "version_major": 2,
       "version_minor": 0
      },
      "text/plain": [
       "Predicting: 0it [00:00, ?it/s]"
      ]
     },
     "metadata": {},
     "output_type": "display_data"
    },
    {
     "name": "stderr",
     "output_type": "stream",
     "text": [
      "Global seed set to 2\n",
      "No pretrained weights exist or were found for this model. Using random initialization.\n",
      "Global seed set to 2\n",
      "GPU available: True, used: True\n",
      "TPU available: False, using: 0 TPU cores\n",
      "IPU available: False, using: 0 IPUs\n",
      "Global seed set to 0\n"
     ]
    },
    {
     "name": "stdout",
     "output_type": "stream",
     "text": [
      "{'training': True, '_parameters': OrderedDict(), '_buffers': OrderedDict(), '_non_persistent_buffers_set': set(), '_backward_hooks': OrderedDict(), '_is_full_backward_hook': None, '_forward_hooks': OrderedDict(), '_forward_pre_hooks': OrderedDict(), '_state_dict_hooks': OrderedDict(), '_load_state_dict_pre_hooks': OrderedDict(), '_load_state_dict_post_hooks': OrderedDict(), '_modules': OrderedDict([('linear', Linear(in_features=5, out_features=10, bias=True))]), 'neuron_indices': tensor([168,  43, 227, 101, 246]), 'in_features': 5, 'out_features': 10}\n"
     ]
    },
    {
     "name": "stderr",
     "output_type": "stream",
     "text": [
      "LOCAL_RANK: 0 - CUDA_VISIBLE_DEVICES: [3]\n"
     ]
    },
    {
     "data": {
      "application/vnd.jupyter.widget-view+json": {
       "model_id": "ccca0d3a51044d1c91be863193122836",
       "version_major": 2,
       "version_minor": 0
      },
      "text/plain": [
       "Predicting: 0it [00:00, ?it/s]"
      ]
     },
     "metadata": {},
     "output_type": "display_data"
    },
    {
     "name": "stderr",
     "output_type": "stream",
     "text": [
      "Global seed set to 2\n",
      "No pretrained weights exist or were found for this model. Using random initialization.\n",
      "Global seed set to 5\n",
      "GPU available: True, used: True\n",
      "TPU available: False, using: 0 TPU cores\n",
      "IPU available: False, using: 0 IPUs\n",
      "Global seed set to 0\n"
     ]
    },
    {
     "name": "stdout",
     "output_type": "stream",
     "text": [
      "{'training': True, '_parameters': OrderedDict(), '_buffers': OrderedDict(), '_non_persistent_buffers_set': set(), '_backward_hooks': OrderedDict(), '_is_full_backward_hook': None, '_forward_hooks': OrderedDict(), '_forward_pre_hooks': OrderedDict(), '_state_dict_hooks': OrderedDict(), '_load_state_dict_pre_hooks': OrderedDict(), '_load_state_dict_post_hooks': OrderedDict(), '_modules': OrderedDict([('linear', Linear(in_features=5, out_features=10, bias=True))]), 'neuron_indices': tensor([ 99,  70,  55, 138,  66]), 'in_features': 5, 'out_features': 10}\n"
     ]
    },
    {
     "name": "stderr",
     "output_type": "stream",
     "text": [
      "LOCAL_RANK: 0 - CUDA_VISIBLE_DEVICES: [3]\n"
     ]
    },
    {
     "data": {
      "application/vnd.jupyter.widget-view+json": {
       "model_id": "1a6ebd47e78b41e8b3d7b764732ca600",
       "version_major": 2,
       "version_minor": 0
      },
      "text/plain": [
       "Predicting: 0it [00:00, ?it/s]"
      ]
     },
     "metadata": {},
     "output_type": "display_data"
    },
    {
     "name": "stderr",
     "output_type": "stream",
     "text": [
      "Global seed set to 2\n",
      "No pretrained weights exist or were found for this model. Using random initialization.\n",
      "Global seed set to 1\n",
      "GPU available: True, used: True\n",
      "TPU available: False, using: 0 TPU cores\n",
      "IPU available: False, using: 0 IPUs\n",
      "Global seed set to 0\n"
     ]
    },
    {
     "name": "stdout",
     "output_type": "stream",
     "text": [
      "{'training': True, '_parameters': OrderedDict(), '_buffers': OrderedDict(), '_non_persistent_buffers_set': set(), '_backward_hooks': OrderedDict(), '_is_full_backward_hook': None, '_forward_hooks': OrderedDict(), '_forward_pre_hooks': OrderedDict(), '_state_dict_hooks': OrderedDict(), '_load_state_dict_pre_hooks': OrderedDict(), '_load_state_dict_post_hooks': OrderedDict(), '_modules': OrderedDict([('linear', Linear(in_features=20, out_features=10, bias=True))]), 'neuron_indices': tensor([ 37, 180,  88, 157, 119, 177, 247, 162, 175, 161, 144, 255, 200,  66,\n",
      "         63, 156, 118, 152, 120, 203]), 'in_features': 20, 'out_features': 10}\n"
     ]
    },
    {
     "name": "stderr",
     "output_type": "stream",
     "text": [
      "LOCAL_RANK: 0 - CUDA_VISIBLE_DEVICES: [3]\n"
     ]
    },
    {
     "data": {
      "application/vnd.jupyter.widget-view+json": {
       "model_id": "2dc4fbf3aa6d48759f06afb35aec4b76",
       "version_major": 2,
       "version_minor": 0
      },
      "text/plain": [
       "Predicting: 0it [00:00, ?it/s]"
      ]
     },
     "metadata": {},
     "output_type": "display_data"
    },
    {
     "name": "stderr",
     "output_type": "stream",
     "text": [
      "Global seed set to 2\n",
      "No pretrained weights exist or were found for this model. Using random initialization.\n",
      "Global seed set to 2\n",
      "GPU available: True, used: True\n",
      "TPU available: False, using: 0 TPU cores\n",
      "IPU available: False, using: 0 IPUs\n",
      "Global seed set to 0\n"
     ]
    },
    {
     "name": "stdout",
     "output_type": "stream",
     "text": [
      "{'training': True, '_parameters': OrderedDict(), '_buffers': OrderedDict(), '_non_persistent_buffers_set': set(), '_backward_hooks': OrderedDict(), '_is_full_backward_hook': None, '_forward_hooks': OrderedDict(), '_forward_pre_hooks': OrderedDict(), '_state_dict_hooks': OrderedDict(), '_load_state_dict_pre_hooks': OrderedDict(), '_load_state_dict_post_hooks': OrderedDict(), '_modules': OrderedDict([('linear', Linear(in_features=20, out_features=10, bias=True))]), 'neuron_indices': tensor([168,  43, 227, 101, 246, 215, 198, 143, 176, 241,  58, 147, 207,  32,\n",
      "         11,  14,  95, 233,   8, 124]), 'in_features': 20, 'out_features': 10}\n"
     ]
    },
    {
     "name": "stderr",
     "output_type": "stream",
     "text": [
      "LOCAL_RANK: 0 - CUDA_VISIBLE_DEVICES: [3]\n"
     ]
    },
    {
     "data": {
      "application/vnd.jupyter.widget-view+json": {
       "model_id": "0ad98491213548e08d336029a448f7ba",
       "version_major": 2,
       "version_minor": 0
      },
      "text/plain": [
       "Predicting: 0it [00:00, ?it/s]"
      ]
     },
     "metadata": {},
     "output_type": "display_data"
    },
    {
     "name": "stderr",
     "output_type": "stream",
     "text": [
      "Global seed set to 2\n",
      "No pretrained weights exist or were found for this model. Using random initialization.\n",
      "Global seed set to 5\n",
      "GPU available: True, used: True\n",
      "TPU available: False, using: 0 TPU cores\n",
      "IPU available: False, using: 0 IPUs\n",
      "Global seed set to 0\n"
     ]
    },
    {
     "name": "stdout",
     "output_type": "stream",
     "text": [
      "{'training': True, '_parameters': OrderedDict(), '_buffers': OrderedDict(), '_non_persistent_buffers_set': set(), '_backward_hooks': OrderedDict(), '_is_full_backward_hook': None, '_forward_hooks': OrderedDict(), '_forward_pre_hooks': OrderedDict(), '_state_dict_hooks': OrderedDict(), '_load_state_dict_pre_hooks': OrderedDict(), '_load_state_dict_post_hooks': OrderedDict(), '_modules': OrderedDict([('linear', Linear(in_features=20, out_features=10, bias=True))]), 'neuron_indices': tensor([ 99,  70,  55, 138,  66,  19,  48,  54, 112, 228, 161, 171,  27, 210,\n",
      "         56, 113, 199,  98, 129, 134]), 'in_features': 20, 'out_features': 10}\n"
     ]
    },
    {
     "name": "stderr",
     "output_type": "stream",
     "text": [
      "LOCAL_RANK: 0 - CUDA_VISIBLE_DEVICES: [3]\n"
     ]
    },
    {
     "data": {
      "application/vnd.jupyter.widget-view+json": {
       "model_id": "5e0b9d712c094fe09e6e78a782962b1c",
       "version_major": 2,
       "version_minor": 0
      },
      "text/plain": [
       "Predicting: 0it [00:00, ?it/s]"
      ]
     },
     "metadata": {},
     "output_type": "display_data"
    },
    {
     "name": "stderr",
     "output_type": "stream",
     "text": [
      "Global seed set to 2\n",
      "No pretrained weights exist or were found for this model. Using random initialization.\n",
      "Global seed set to 4\n",
      "GPU available: True, used: True\n",
      "TPU available: False, using: 0 TPU cores\n",
      "IPU available: False, using: 0 IPUs\n",
      "Global seed set to 0\n"
     ]
    },
    {
     "name": "stdout",
     "output_type": "stream",
     "text": [
      "{'training': True, '_parameters': OrderedDict(), '_buffers': OrderedDict(), '_non_persistent_buffers_set': set(), '_backward_hooks': OrderedDict(), '_is_full_backward_hook': None, '_forward_hooks': OrderedDict(), '_forward_pre_hooks': OrderedDict(), '_state_dict_hooks': OrderedDict(), '_load_state_dict_pre_hooks': OrderedDict(), '_load_state_dict_post_hooks': OrderedDict(), '_modules': OrderedDict([('linear', Linear(in_features=20, out_features=10, bias=True))]), 'neuron_indices': tensor([122,  70,  83, 170,  61,  89,  75, 155, 106, 242, 110, 177,  67,   9,\n",
      "         98,  47, 183, 246,  64, 168]), 'in_features': 20, 'out_features': 10}\n"
     ]
    },
    {
     "name": "stderr",
     "output_type": "stream",
     "text": [
      "LOCAL_RANK: 0 - CUDA_VISIBLE_DEVICES: [3]\n"
     ]
    },
    {
     "data": {
      "application/vnd.jupyter.widget-view+json": {
       "model_id": "a6e0bb5e83a44e6fbd25cc35ed63760e",
       "version_major": 2,
       "version_minor": 0
      },
      "text/plain": [
       "Predicting: 0it [00:00, ?it/s]"
      ]
     },
     "metadata": {},
     "output_type": "display_data"
    },
    {
     "name": "stderr",
     "output_type": "stream",
     "text": [
      "Global seed set to 2\n",
      "No pretrained weights exist or were found for this model. Using random initialization.\n",
      "Global seed set to 3\n",
      "GPU available: True, used: True\n",
      "TPU available: False, using: 0 TPU cores\n",
      "IPU available: False, using: 0 IPUs\n",
      "Global seed set to 0\n"
     ]
    },
    {
     "name": "stdout",
     "output_type": "stream",
     "text": [
      "{'training': True, '_parameters': OrderedDict(), '_buffers': OrderedDict(), '_non_persistent_buffers_set': set(), '_backward_hooks': OrderedDict(), '_is_full_backward_hook': None, '_forward_hooks': OrderedDict(), '_forward_pre_hooks': OrderedDict(), '_state_dict_hooks': OrderedDict(), '_load_state_dict_pre_hooks': OrderedDict(), '_load_state_dict_post_hooks': OrderedDict(), '_modules': OrderedDict([('linear', Linear(in_features=20, out_features=10, bias=True))]), 'neuron_indices': tensor([106, 204,  47, 105,  32, 181,  96, 255,  93,   8,  74, 157, 145, 168,\n",
      "        232, 198, 151,  45,  38, 153]), 'in_features': 20, 'out_features': 10}\n"
     ]
    },
    {
     "name": "stderr",
     "output_type": "stream",
     "text": [
      "LOCAL_RANK: 0 - CUDA_VISIBLE_DEVICES: [3]\n"
     ]
    },
    {
     "data": {
      "application/vnd.jupyter.widget-view+json": {
       "model_id": "1c973e32d9d54bd9993ce3ba9229bedd",
       "version_major": 2,
       "version_minor": 0
      },
      "text/plain": [
       "Predicting: 0it [00:00, ?it/s]"
      ]
     },
     "metadata": {},
     "output_type": "display_data"
    },
    {
     "name": "stderr",
     "output_type": "stream",
     "text": [
      "Global seed set to 2\n",
      "No pretrained weights exist or were found for this model. Using random initialization.\n",
      "Global seed set to 5\n",
      "GPU available: True, used: True\n",
      "TPU available: False, using: 0 TPU cores\n",
      "IPU available: False, using: 0 IPUs\n",
      "Global seed set to 0\n"
     ]
    },
    {
     "name": "stdout",
     "output_type": "stream",
     "text": [
      "{'training': True, '_parameters': OrderedDict(), '_buffers': OrderedDict(), '_non_persistent_buffers_set': set(), '_backward_hooks': OrderedDict(), '_is_full_backward_hook': None, '_forward_hooks': OrderedDict(), '_forward_pre_hooks': OrderedDict(), '_state_dict_hooks': OrderedDict(), '_load_state_dict_pre_hooks': OrderedDict(), '_load_state_dict_post_hooks': OrderedDict(), '_modules': OrderedDict([('linear', Linear(in_features=30, out_features=10, bias=True))]), 'neuron_indices': tensor([ 99,  70,  55, 138,  66,  19,  48,  54, 112, 228, 161, 171,  27, 210,\n",
      "         56, 113, 199,  98, 129, 134, 133,  23, 136, 121,  28,  95,  57, 135,\n",
      "         11, 187]), 'in_features': 30, 'out_features': 10}\n"
     ]
    },
    {
     "name": "stderr",
     "output_type": "stream",
     "text": [
      "LOCAL_RANK: 0 - CUDA_VISIBLE_DEVICES: [3]\n"
     ]
    },
    {
     "data": {
      "application/vnd.jupyter.widget-view+json": {
       "model_id": "9fcb6b57600c4fc6879ebc1c6c3c508b",
       "version_major": 2,
       "version_minor": 0
      },
      "text/plain": [
       "Predicting: 0it [00:00, ?it/s]"
      ]
     },
     "metadata": {},
     "output_type": "display_data"
    },
    {
     "name": "stderr",
     "output_type": "stream",
     "text": [
      "Global seed set to 2\n",
      "No pretrained weights exist or were found for this model. Using random initialization.\n",
      "Global seed set to 2\n",
      "GPU available: True, used: True\n",
      "TPU available: False, using: 0 TPU cores\n",
      "IPU available: False, using: 0 IPUs\n",
      "Global seed set to 0\n"
     ]
    },
    {
     "name": "stdout",
     "output_type": "stream",
     "text": [
      "{'training': True, '_parameters': OrderedDict(), '_buffers': OrderedDict(), '_non_persistent_buffers_set': set(), '_backward_hooks': OrderedDict(), '_is_full_backward_hook': None, '_forward_hooks': OrderedDict(), '_forward_pre_hooks': OrderedDict(), '_state_dict_hooks': OrderedDict(), '_load_state_dict_pre_hooks': OrderedDict(), '_load_state_dict_post_hooks': OrderedDict(), '_modules': OrderedDict([('linear', Linear(in_features=30, out_features=10, bias=True))]), 'neuron_indices': tensor([168,  43, 227, 101, 246, 215, 198, 143, 176, 241,  58, 147, 207,  32,\n",
      "         11,  14,  95, 233,   8, 124,  92,  10,   5, 183,  75, 232,  46, 163,\n",
      "        235, 181]), 'in_features': 30, 'out_features': 10}\n"
     ]
    },
    {
     "name": "stderr",
     "output_type": "stream",
     "text": [
      "LOCAL_RANK: 0 - CUDA_VISIBLE_DEVICES: [3]\n"
     ]
    },
    {
     "data": {
      "application/vnd.jupyter.widget-view+json": {
       "model_id": "575a6624e4ed453f86f6317a0d664a85",
       "version_major": 2,
       "version_minor": 0
      },
      "text/plain": [
       "Predicting: 0it [00:00, ?it/s]"
      ]
     },
     "metadata": {},
     "output_type": "display_data"
    },
    {
     "name": "stderr",
     "output_type": "stream",
     "text": [
      "Global seed set to 2\n",
      "No pretrained weights exist or were found for this model. Using random initialization.\n",
      "Global seed set to 1\n",
      "GPU available: True, used: True\n",
      "TPU available: False, using: 0 TPU cores\n",
      "IPU available: False, using: 0 IPUs\n",
      "Global seed set to 0\n"
     ]
    },
    {
     "name": "stdout",
     "output_type": "stream",
     "text": [
      "{'training': True, '_parameters': OrderedDict(), '_buffers': OrderedDict(), '_non_persistent_buffers_set': set(), '_backward_hooks': OrderedDict(), '_is_full_backward_hook': None, '_forward_hooks': OrderedDict(), '_forward_pre_hooks': OrderedDict(), '_state_dict_hooks': OrderedDict(), '_load_state_dict_pre_hooks': OrderedDict(), '_load_state_dict_post_hooks': OrderedDict(), '_modules': OrderedDict([('linear', Linear(in_features=30, out_features=10, bias=True))]), 'neuron_indices': tensor([ 37, 180,  88, 157, 119, 177, 247, 162, 175, 161, 144, 255, 200,  66,\n",
      "         63, 156, 118, 152, 120, 203, 234, 199,  13, 151, 155, 142, 210,  82,\n",
      "        237, 213]), 'in_features': 30, 'out_features': 10}\n"
     ]
    },
    {
     "name": "stderr",
     "output_type": "stream",
     "text": [
      "LOCAL_RANK: 0 - CUDA_VISIBLE_DEVICES: [3]\n"
     ]
    },
    {
     "data": {
      "application/vnd.jupyter.widget-view+json": {
       "model_id": "1397548be83d43ecb0d16a57913daf76",
       "version_major": 2,
       "version_minor": 0
      },
      "text/plain": [
       "Predicting: 0it [00:00, ?it/s]"
      ]
     },
     "metadata": {},
     "output_type": "display_data"
    },
    {
     "name": "stderr",
     "output_type": "stream",
     "text": [
      "Global seed set to 2\n",
      "No pretrained weights exist or were found for this model. Using random initialization.\n",
      "Global seed set to 3\n",
      "GPU available: True, used: True\n",
      "TPU available: False, using: 0 TPU cores\n",
      "IPU available: False, using: 0 IPUs\n",
      "Global seed set to 0\n"
     ]
    },
    {
     "name": "stdout",
     "output_type": "stream",
     "text": [
      "{'training': True, '_parameters': OrderedDict(), '_buffers': OrderedDict(), '_non_persistent_buffers_set': set(), '_backward_hooks': OrderedDict(), '_is_full_backward_hook': None, '_forward_hooks': OrderedDict(), '_forward_pre_hooks': OrderedDict(), '_state_dict_hooks': OrderedDict(), '_load_state_dict_pre_hooks': OrderedDict(), '_load_state_dict_post_hooks': OrderedDict(), '_modules': OrderedDict([('linear', Linear(in_features=30, out_features=10, bias=True))]), 'neuron_indices': tensor([106, 204,  47, 105,  32, 181,  96, 255,  93,   8,  74, 157, 145, 168,\n",
      "        232, 198, 151,  45,  38, 153, 164,  65,  91,  88, 152, 195, 193, 112,\n",
      "         18, 230]), 'in_features': 30, 'out_features': 10}\n"
     ]
    },
    {
     "name": "stderr",
     "output_type": "stream",
     "text": [
      "LOCAL_RANK: 0 - CUDA_VISIBLE_DEVICES: [3]\n"
     ]
    },
    {
     "data": {
      "application/vnd.jupyter.widget-view+json": {
       "model_id": "5ac7702407a446149c6cc947e59ee682",
       "version_major": 2,
       "version_minor": 0
      },
      "text/plain": [
       "Predicting: 0it [00:00, ?it/s]"
      ]
     },
     "metadata": {},
     "output_type": "display_data"
    },
    {
     "name": "stderr",
     "output_type": "stream",
     "text": [
      "Global seed set to 2\n",
      "No pretrained weights exist or were found for this model. Using random initialization.\n",
      "Global seed set to 4\n",
      "GPU available: True, used: True\n",
      "TPU available: False, using: 0 TPU cores\n",
      "IPU available: False, using: 0 IPUs\n",
      "Global seed set to 0\n"
     ]
    },
    {
     "name": "stdout",
     "output_type": "stream",
     "text": [
      "{'training': True, '_parameters': OrderedDict(), '_buffers': OrderedDict(), '_non_persistent_buffers_set': set(), '_backward_hooks': OrderedDict(), '_is_full_backward_hook': None, '_forward_hooks': OrderedDict(), '_forward_pre_hooks': OrderedDict(), '_state_dict_hooks': OrderedDict(), '_load_state_dict_pre_hooks': OrderedDict(), '_load_state_dict_post_hooks': OrderedDict(), '_modules': OrderedDict([('linear', Linear(in_features=30, out_features=10, bias=True))]), 'neuron_indices': tensor([122,  70,  83, 170,  61,  89,  75, 155, 106, 242, 110, 177,  67,   9,\n",
      "         98,  47, 183, 246,  64, 168, 198, 251, 192, 150, 162, 233, 217,  74,\n",
      "        187,  54]), 'in_features': 30, 'out_features': 10}\n"
     ]
    },
    {
     "name": "stderr",
     "output_type": "stream",
     "text": [
      "LOCAL_RANK: 0 - CUDA_VISIBLE_DEVICES: [3]\n"
     ]
    },
    {
     "data": {
      "application/vnd.jupyter.widget-view+json": {
       "model_id": "5c7d692ddf6a4750acb915a715a6e973",
       "version_major": 2,
       "version_minor": 0
      },
      "text/plain": [
       "Predicting: 0it [00:00, ?it/s]"
      ]
     },
     "metadata": {},
     "output_type": "display_data"
    },
    {
     "name": "stderr",
     "output_type": "stream",
     "text": [
      "Global seed set to 2\n",
      "No pretrained weights exist or were found for this model. Using random initialization.\n",
      "Global seed set to 1\n",
      "GPU available: True, used: True\n",
      "TPU available: False, using: 0 TPU cores\n",
      "IPU available: False, using: 0 IPUs\n",
      "Global seed set to 0\n"
     ]
    },
    {
     "name": "stdout",
     "output_type": "stream",
     "text": [
      "{'training': True, '_parameters': OrderedDict(), '_buffers': OrderedDict(), '_non_persistent_buffers_set': set(), '_backward_hooks': OrderedDict(), '_is_full_backward_hook': None, '_forward_hooks': OrderedDict(), '_forward_pre_hooks': OrderedDict(), '_state_dict_hooks': OrderedDict(), '_load_state_dict_pre_hooks': OrderedDict(), '_load_state_dict_post_hooks': OrderedDict(), '_modules': OrderedDict([('linear', Linear(in_features=128, out_features=10, bias=True))]), 'neuron_indices': tensor([ 37, 180,  88, 157, 119, 177, 247, 162, 175, 161, 144, 255, 200,  66,\n",
      "         63, 156, 118, 152, 120, 203, 234, 199,  13, 151, 155, 142, 210,  82,\n",
      "        237, 213,  96,   5,  55,   7,  83, 229,  39,   0, 254,  99, 109, 220,\n",
      "         36, 111,  91, 233,  64,  19, 129, 197, 182, 186, 140, 240,  93, 248,\n",
      "        167,  27,  97, 150, 238,  12, 145, 214,  85, 232,  28, 207, 164,  43,\n",
      "        173, 184, 108,  20,  26,  32, 141, 130,  24, 110, 239,  29,   1,  35,\n",
      "         44,  21,  62, 252,  98, 216,  16,  38,  49,  77,   3, 158, 183, 135,\n",
      "        170, 195, 105,  73, 149,  50,  53,  52, 116,  17, 159, 188, 131, 246,\n",
      "        201, 187,  22, 123, 166, 168,  51, 205,  18, 227,   9, 253,  76, 218,\n",
      "         46,  31]), 'in_features': 128, 'out_features': 10}\n"
     ]
    },
    {
     "name": "stderr",
     "output_type": "stream",
     "text": [
      "LOCAL_RANK: 0 - CUDA_VISIBLE_DEVICES: [3]\n"
     ]
    },
    {
     "data": {
      "application/vnd.jupyter.widget-view+json": {
       "model_id": "57538a18e8404daa87a9e38832922659",
       "version_major": 2,
       "version_minor": 0
      },
      "text/plain": [
       "Predicting: 0it [00:00, ?it/s]"
      ]
     },
     "metadata": {},
     "output_type": "display_data"
    },
    {
     "name": "stderr",
     "output_type": "stream",
     "text": [
      "LOCAL_RANK: 0 - CUDA_VISIBLE_DEVICES: [3]\n"
     ]
    },
    {
     "data": {
      "application/vnd.jupyter.widget-view+json": {
       "model_id": "8b6598151428477ea6a2c5e41cb009cc",
       "version_major": 2,
       "version_minor": 0
      },
      "text/plain": [
       "Predicting: 0it [00:00, ?it/s]"
      ]
     },
     "metadata": {},
     "output_type": "display_data"
    },
    {
     "name": "stderr",
     "output_type": "stream",
     "text": [
      "Global seed set to 2\n",
      "No pretrained weights exist or were found for this model. Using random initialization.\n",
      "Global seed set to 3\n",
      "GPU available: True, used: True\n",
      "TPU available: False, using: 0 TPU cores\n",
      "IPU available: False, using: 0 IPUs\n",
      "Global seed set to 0\n"
     ]
    },
    {
     "name": "stdout",
     "output_type": "stream",
     "text": [
      "{'training': True, '_parameters': OrderedDict(), '_buffers': OrderedDict(), '_non_persistent_buffers_set': set(), '_backward_hooks': OrderedDict(), '_is_full_backward_hook': None, '_forward_hooks': OrderedDict(), '_forward_pre_hooks': OrderedDict(), '_state_dict_hooks': OrderedDict(), '_load_state_dict_pre_hooks': OrderedDict(), '_load_state_dict_post_hooks': OrderedDict(), '_modules': OrderedDict([('linear', Linear(in_features=128, out_features=10, bias=True))]), 'neuron_indices': tensor([106, 204,  47, 105,  32, 181,  96, 255,  93,   8,  74, 157, 145, 168,\n",
      "        232, 198, 151,  45,  38, 153, 164,  65,  91,  88, 152, 195, 193, 112,\n",
      "         18, 230, 108,  77, 188, 110,  49, 102,  89, 122, 244, 155, 125, 100,\n",
      "        234,  27,  78, 247,  37,  87, 209,  67,  73,  46, 185,  95,  76,  68,\n",
      "        117,  83,  29, 173, 236,   1, 208,  24,  64, 142, 154, 192, 199, 249,\n",
      "        160,  51, 207, 242, 215, 212, 129, 126, 219,  19, 133, 240, 214, 118,\n",
      "         61,  36, 165,   5,  34,  57,  20, 251, 196,  52,  28,  40,  17, 205,\n",
      "        163, 158,  69, 123, 120, 191, 177, 184, 187,  98,  33, 159,  70, 103,\n",
      "        218,  58,  60,  53, 135,  63,  84, 127,  92, 225,  11, 156,   2, 203,\n",
      "         31, 202]), 'in_features': 128, 'out_features': 10}\n"
     ]
    },
    {
     "name": "stderr",
     "output_type": "stream",
     "text": [
      "LOCAL_RANK: 0 - CUDA_VISIBLE_DEVICES: [3]\n"
     ]
    },
    {
     "data": {
      "application/vnd.jupyter.widget-view+json": {
       "model_id": "950b7d8b7386422cb1c381f627f42ff7",
       "version_major": 2,
       "version_minor": 0
      },
      "text/plain": [
       "Predicting: 0it [00:00, ?it/s]"
      ]
     },
     "metadata": {},
     "output_type": "display_data"
    },
    {
     "name": "stderr",
     "output_type": "stream",
     "text": [
      "Global seed set to 2\n",
      "No pretrained weights exist or were found for this model. Using random initialization.\n",
      "Global seed set to 3\n",
      "GPU available: True, used: True\n",
      "TPU available: False, using: 0 TPU cores\n",
      "IPU available: False, using: 0 IPUs\n",
      "Global seed set to 0\n"
     ]
    },
    {
     "name": "stdout",
     "output_type": "stream",
     "text": [
      "{'training': True, '_parameters': OrderedDict(), '_buffers': OrderedDict(), '_non_persistent_buffers_set': set(), '_backward_hooks': OrderedDict(), '_is_full_backward_hook': None, '_forward_hooks': OrderedDict(), '_forward_pre_hooks': OrderedDict(), '_state_dict_hooks': OrderedDict(), '_load_state_dict_pre_hooks': OrderedDict(), '_load_state_dict_post_hooks': OrderedDict(), '_modules': OrderedDict([('linear', Linear(in_features=220, out_features=10, bias=True))]), 'neuron_indices': tensor([106, 204,  47, 105,  32, 181,  96, 255,  93,   8,  74, 157, 145, 168,\n",
      "        232, 198, 151,  45,  38, 153, 164,  65,  91,  88, 152, 195, 193, 112,\n",
      "         18, 230, 108,  77, 188, 110,  49, 102,  89, 122, 244, 155, 125, 100,\n",
      "        234,  27,  78, 247,  37,  87, 209,  67,  73,  46, 185,  95,  76,  68,\n",
      "        117,  83,  29, 173, 236,   1, 208,  24,  64, 142, 154, 192, 199, 249,\n",
      "        160,  51, 207, 242, 215, 212, 129, 126, 219,  19, 133, 240, 214, 118,\n",
      "         61,  36, 165,   5,  34,  57,  20, 251, 196,  52,  28,  40,  17, 205,\n",
      "        163, 158,  69, 123, 120, 191, 177, 184, 187,  98,  33, 159,  70, 103,\n",
      "        218,  58,  60,  53, 135,  63,  84, 127,  92, 225,  11, 156,   2, 203,\n",
      "         31, 202,  71, 174,  21,  30, 161, 235, 167, 139, 248, 210,   9,  59,\n",
      "        250, 121, 194,   6, 228, 231,   3, 186,  80, 132, 206, 148, 143,  81,\n",
      "        201,  50, 253,  82, 226, 183, 137, 227, 170, 180, 211,  39, 147,  41,\n",
      "        254,  25, 169, 241,  97, 130, 149, 107,  85, 189, 246, 200,  22,  94,\n",
      "        197, 213, 124,  44, 238,   4, 114,  75,   0, 141,  43,  26, 136, 220,\n",
      "        179, 223,  16, 243, 119, 144, 138,  72, 171,  62, 224,  90, 252, 221,\n",
      "        245,  14,  66,  86, 128, 150, 172,   7,  79, 178]), 'in_features': 220, 'out_features': 10}\n"
     ]
    },
    {
     "name": "stderr",
     "output_type": "stream",
     "text": [
      "LOCAL_RANK: 0 - CUDA_VISIBLE_DEVICES: [3]\n"
     ]
    },
    {
     "data": {
      "application/vnd.jupyter.widget-view+json": {
       "model_id": "bd272342c23b4e46b5b8d1ceb8c41609",
       "version_major": 2,
       "version_minor": 0
      },
      "text/plain": [
       "Predicting: 0it [00:00, ?it/s]"
      ]
     },
     "metadata": {},
     "output_type": "display_data"
    },
    {
     "name": "stderr",
     "output_type": "stream",
     "text": [
      "Global seed set to 2\n",
      "No pretrained weights exist or were found for this model. Using random initialization.\n",
      "Global seed set to 4\n",
      "GPU available: True, used: True\n",
      "TPU available: False, using: 0 TPU cores\n",
      "IPU available: False, using: 0 IPUs\n",
      "Global seed set to 0\n"
     ]
    },
    {
     "name": "stdout",
     "output_type": "stream",
     "text": [
      "{'training': True, '_parameters': OrderedDict(), '_buffers': OrderedDict(), '_non_persistent_buffers_set': set(), '_backward_hooks': OrderedDict(), '_is_full_backward_hook': None, '_forward_hooks': OrderedDict(), '_forward_pre_hooks': OrderedDict(), '_state_dict_hooks': OrderedDict(), '_load_state_dict_pre_hooks': OrderedDict(), '_load_state_dict_post_hooks': OrderedDict(), '_modules': OrderedDict([('linear', Linear(in_features=220, out_features=10, bias=True))]), 'neuron_indices': tensor([122,  70,  83, 170,  61,  89,  75, 155, 106, 242, 110, 177,  67,   9,\n",
      "         98,  47, 183, 246,  64, 168, 198, 251, 192, 150, 162, 233, 217,  74,\n",
      "        187,  54, 153, 114,  38,  81, 132, 204,  62,  15,  93,  94,  40, 147,\n",
      "         88, 216, 227, 101,  43,  49,  90, 113, 205, 151,  17, 169,   3, 191,\n",
      "         82, 196,  55, 210,  12,   1, 175,  60, 209, 108, 133, 239,  77, 149,\n",
      "         19,  91,  95, 105, 188,  35,  51, 238, 240, 107,  76, 152,  46, 203,\n",
      "        255, 219, 208,  30, 129,  27, 111,  59,  72,  78, 165,  58, 207,  50,\n",
      "         37, 171, 127, 178, 126,  65, 173, 121, 115, 135, 245, 159, 249, 223,\n",
      "        102, 211, 226,  86, 244, 195, 221, 236, 145,  22, 201, 144, 237, 189,\n",
      "        119,  36,  28, 146,  13,  87,  68, 130, 186, 103, 200,  56, 139,  63,\n",
      "        206, 231, 166,  10, 193, 247, 163, 141, 215, 250,  11, 180, 157,   0,\n",
      "        224,  21, 148, 116, 142,  52,  48,  96,  16, 212,   7, 174, 254, 134,\n",
      "         92, 202, 241,  25,  69, 220, 158, 225, 161, 125,  18,   2,  45, 138,\n",
      "        104, 109, 234, 235,  24,  84, 243, 182, 118,  44, 214, 197, 181, 176,\n",
      "        185, 156, 228,   4,  73,  42, 143,  31, 232, 124, 199,  33, 229, 128,\n",
      "         14, 164, 140,  66,  85,  32, 154, 230,  71, 117]), 'in_features': 220, 'out_features': 10}\n"
     ]
    },
    {
     "name": "stderr",
     "output_type": "stream",
     "text": [
      "LOCAL_RANK: 0 - CUDA_VISIBLE_DEVICES: [3]\n"
     ]
    },
    {
     "data": {
      "application/vnd.jupyter.widget-view+json": {
       "model_id": "0942d8eb85f8488b87f67c8c53ad6be3",
       "version_major": 2,
       "version_minor": 0
      },
      "text/plain": [
       "Predicting: 0it [00:00, ?it/s]"
      ]
     },
     "metadata": {},
     "output_type": "display_data"
    },
    {
     "name": "stderr",
     "output_type": "stream",
     "text": [
      "Global seed set to 2\n",
      "No pretrained weights exist or were found for this model. Using random initialization.\n",
      "Global seed set to 1\n",
      "GPU available: True, used: True\n",
      "TPU available: False, using: 0 TPU cores\n",
      "IPU available: False, using: 0 IPUs\n",
      "Global seed set to 0\n"
     ]
    },
    {
     "name": "stdout",
     "output_type": "stream",
     "text": [
      "{'training': True, '_parameters': OrderedDict(), '_buffers': OrderedDict(), '_non_persistent_buffers_set': set(), '_backward_hooks': OrderedDict(), '_is_full_backward_hook': None, '_forward_hooks': OrderedDict(), '_forward_pre_hooks': OrderedDict(), '_state_dict_hooks': OrderedDict(), '_load_state_dict_pre_hooks': OrderedDict(), '_load_state_dict_post_hooks': OrderedDict(), '_modules': OrderedDict([('linear', Linear(in_features=220, out_features=10, bias=True))]), 'neuron_indices': tensor([ 37, 180,  88, 157, 119, 177, 247, 162, 175, 161, 144, 255, 200,  66,\n",
      "         63, 156, 118, 152, 120, 203, 234, 199,  13, 151, 155, 142, 210,  82,\n",
      "        237, 213,  96,   5,  55,   7,  83, 229,  39,   0, 254,  99, 109, 220,\n",
      "         36, 111,  91, 233,  64,  19, 129, 197, 182, 186, 140, 240,  93, 248,\n",
      "        167,  27,  97, 150, 238,  12, 145, 214,  85, 232,  28, 207, 164,  43,\n",
      "        173, 184, 108,  20,  26,  32, 141, 130,  24, 110, 239,  29,   1,  35,\n",
      "         44,  21,  62, 252,  98, 216,  16,  38,  49,  77,   3, 158, 183, 135,\n",
      "        170, 195, 105,  73, 149,  50,  53,  52, 116,  17, 159, 188, 131, 246,\n",
      "        201, 187,  22, 123, 166, 168,  51, 205,  18, 227,   9, 253,  76, 218,\n",
      "         46,  31,  75,   8, 181,  33,  71, 211,  65,  42, 172, 126, 219,  60,\n",
      "          6,  47, 174, 225,  40, 165, 244, 206, 160,  30, 121,  86,  87, 127,\n",
      "        230, 243, 103,  94, 231,  84, 215, 176,  11, 132, 209, 169, 190, 193,\n",
      "        196, 113, 228,  69, 222, 101, 124,  45, 194,  48,  58,  41, 236, 143,\n",
      "        112,  72, 122, 163, 224,  92, 136,  23,   2,  80, 137, 198, 212, 128,\n",
      "        100, 117,   4,  34,  57, 104, 250,  25,  54, 115,  78,  89, 241,  61,\n",
      "        107,  70,  67, 221, 223, 208, 249, 148,  59, 171]), 'in_features': 220, 'out_features': 10}\n"
     ]
    },
    {
     "name": "stderr",
     "output_type": "stream",
     "text": [
      "LOCAL_RANK: 0 - CUDA_VISIBLE_DEVICES: [3]\n"
     ]
    },
    {
     "data": {
      "application/vnd.jupyter.widget-view+json": {
       "model_id": "51f6b2be7a084485b275057c0ba27c79",
       "version_major": 2,
       "version_minor": 0
      },
      "text/plain": [
       "Predicting: 0it [00:00, ?it/s]"
      ]
     },
     "metadata": {},
     "output_type": "display_data"
    },
    {
     "name": "stderr",
     "output_type": "stream",
     "text": [
      "Global seed set to 2\n",
      "No pretrained weights exist or were found for this model. Using random initialization.\n",
      "Global seed set to 5\n",
      "GPU available: True, used: True\n",
      "TPU available: False, using: 0 TPU cores\n",
      "IPU available: False, using: 0 IPUs\n",
      "Global seed set to 0\n"
     ]
    },
    {
     "name": "stdout",
     "output_type": "stream",
     "text": [
      "{'training': True, '_parameters': OrderedDict(), '_buffers': OrderedDict(), '_non_persistent_buffers_set': set(), '_backward_hooks': OrderedDict(), '_is_full_backward_hook': None, '_forward_hooks': OrderedDict(), '_forward_pre_hooks': OrderedDict(), '_state_dict_hooks': OrderedDict(), '_load_state_dict_pre_hooks': OrderedDict(), '_load_state_dict_post_hooks': OrderedDict(), '_modules': OrderedDict([('linear', Linear(in_features=220, out_features=10, bias=True))]), 'neuron_indices': tensor([ 99,  70,  55, 138,  66,  19,  48,  54, 112, 228, 161, 171,  27, 210,\n",
      "         56, 113, 199,  98, 129, 134, 133,  23, 136, 121,  28,  95,  57, 135,\n",
      "         11, 187, 244, 180,  93, 220, 146,  40,  15, 165, 205, 235, 230, 124,\n",
      "        254, 186,  30,  75, 255, 107, 240,  77, 190, 213, 156,  64, 159, 177,\n",
      "        223,   9, 102, 118,  69, 238,   2, 212,  62,  78,  85,  16, 172, 245,\n",
      "         34,  97,  39,  60, 153, 150, 145, 143,  53, 127, 158,  84, 175, 115,\n",
      "         89, 131,  46, 248,  94, 243, 108, 218,  71,  25, 105,  20, 229,  81,\n",
      "        141, 227,  33,  63,  61,  73, 224, 157,  87, 179,  41, 189,  52,  79,\n",
      "        222,   1, 116, 128,  82, 236, 197, 184, 216,  43, 162, 194,  45, 168,\n",
      "        120,  47,  32, 200, 192, 181, 221,  96, 148,  50,  88, 249, 110, 170,\n",
      "        252, 130,  21, 206,  86,   3, 193,  83, 164, 250,  91, 114,  26, 167,\n",
      "        203, 204,   5, 183, 119, 106,  92, 242,  36, 147,  22,  51, 214, 195,\n",
      "        251,  35, 111,  76,  68,  14,  29, 163, 140,  65, 202,  42, 215, 137,\n",
      "          7, 149,  90, 155, 191, 154, 117,   4,  31, 122,  67, 173, 232, 219,\n",
      "        123, 169, 126, 226, 104,  37, 160, 217, 103, 176, 101, 178, 125, 188,\n",
      "         13, 247,  59, 198,  74, 233, 151,  10, 132,   6]), 'in_features': 220, 'out_features': 10}\n"
     ]
    },
    {
     "name": "stderr",
     "output_type": "stream",
     "text": [
      "LOCAL_RANK: 0 - CUDA_VISIBLE_DEVICES: [3]\n"
     ]
    },
    {
     "data": {
      "application/vnd.jupyter.widget-view+json": {
       "model_id": "b33afc5fbe5b416ca7d63c8d888419fb",
       "version_major": 2,
       "version_minor": 0
      },
      "text/plain": [
       "Predicting: 0it [00:00, ?it/s]"
      ]
     },
     "metadata": {},
     "output_type": "display_data"
    },
    {
     "name": "stderr",
     "output_type": "stream",
     "text": [
      "Global seed set to 2\n",
      "No pretrained weights exist or were found for this model. Using random initialization.\n",
      "Global seed set to 2\n",
      "GPU available: True, used: True\n",
      "TPU available: False, using: 0 TPU cores\n",
      "IPU available: False, using: 0 IPUs\n",
      "Global seed set to 0\n"
     ]
    },
    {
     "name": "stdout",
     "output_type": "stream",
     "text": [
      "{'training': True, '_parameters': OrderedDict(), '_buffers': OrderedDict(), '_non_persistent_buffers_set': set(), '_backward_hooks': OrderedDict(), '_is_full_backward_hook': None, '_forward_hooks': OrderedDict(), '_forward_pre_hooks': OrderedDict(), '_state_dict_hooks': OrderedDict(), '_load_state_dict_pre_hooks': OrderedDict(), '_load_state_dict_post_hooks': OrderedDict(), '_modules': OrderedDict([('linear', Linear(in_features=220, out_features=10, bias=True))]), 'neuron_indices': tensor([168,  43, 227, 101, 246, 215, 198, 143, 176, 241,  58, 147, 207,  32,\n",
      "         11,  14,  95, 233,   8, 124,  92,  10,   5, 183,  75, 232,  46, 163,\n",
      "        235, 181,  51, 162,  42, 211, 178, 177,  16, 121, 249,  77, 196, 173,\n",
      "         96,   0,  55, 127,  39, 184,  80,  34, 102,  88, 206, 228,  68, 210,\n",
      "         12,  17, 203,  89,  50, 223, 188,  24, 250, 137, 165, 118,  13, 186,\n",
      "         87, 172, 240, 100,  97, 234, 169, 187, 104, 120, 154,  40,  76,  93,\n",
      "        119,   2,  53, 189, 136, 199,  52,  71, 192, 197,  63, 229,  67,  19,\n",
      "         47, 201, 218,  37, 244,  70, 105, 103,  69,  82, 245, 220,   9, 252,\n",
      "        149, 133, 150,  45,  73, 106, 254, 193,  91,  66, 138,  25, 226, 128,\n",
      "        231,  61, 144,  81, 219, 209, 213, 237, 253, 135,  18,  54, 212,   7,\n",
      "         22,  38,   3, 180, 205, 157, 185, 159,  56, 200, 208,  21,   4, 111,\n",
      "        110, 216,  44,  15, 221,  84, 222, 153, 242, 115,   1,  86, 145,  79,\n",
      "        160,  35, 131, 195, 141, 108,  31, 156, 255, 107, 174,  27, 179, 182,\n",
      "         98, 134, 190, 224, 191,  59, 214, 116,   6, 142, 146, 248,  78, 139,\n",
      "        171, 129, 117,  20,  49, 123,  30, 243, 132,  28, 202,  29, 166,  36,\n",
      "         64, 217,  90, 167, 251, 158,  23, 126, 151, 125]), 'in_features': 220, 'out_features': 10}\n"
     ]
    },
    {
     "name": "stderr",
     "output_type": "stream",
     "text": [
      "LOCAL_RANK: 0 - CUDA_VISIBLE_DEVICES: [3]\n"
     ]
    },
    {
     "data": {
      "application/vnd.jupyter.widget-view+json": {
       "model_id": "85c7fe0d33aa4c6c92a415158a2fcf7a",
       "version_major": 2,
       "version_minor": 0
      },
      "text/plain": [
       "Predicting: 0it [00:00, ?it/s]"
      ]
     },
     "metadata": {},
     "output_type": "display_data"
    },
    {
     "name": "stderr",
     "output_type": "stream",
     "text": [
      "Global seed set to 2\n",
      "No pretrained weights exist or were found for this model. Using random initialization.\n",
      "Global seed set to 1\n",
      "GPU available: True, used: True\n",
      "TPU available: False, using: 0 TPU cores\n",
      "IPU available: False, using: 0 IPUs\n",
      "Global seed set to 0\n"
     ]
    },
    {
     "name": "stdout",
     "output_type": "stream",
     "text": [
      "{'training': True, '_parameters': OrderedDict(), '_buffers': OrderedDict(), '_non_persistent_buffers_set': set(), '_backward_hooks': OrderedDict(), '_is_full_backward_hook': None, '_forward_hooks': OrderedDict(), '_forward_pre_hooks': OrderedDict(), '_state_dict_hooks': OrderedDict(), '_load_state_dict_pre_hooks': OrderedDict(), '_load_state_dict_post_hooks': OrderedDict(), '_modules': OrderedDict([('linear', Linear(in_features=240, out_features=10, bias=True))]), 'neuron_indices': tensor([ 37, 180,  88, 157, 119, 177, 247, 162, 175, 161, 144, 255, 200,  66,\n",
      "         63, 156, 118, 152, 120, 203, 234, 199,  13, 151, 155, 142, 210,  82,\n",
      "        237, 213,  96,   5,  55,   7,  83, 229,  39,   0, 254,  99, 109, 220,\n",
      "         36, 111,  91, 233,  64,  19, 129, 197, 182, 186, 140, 240,  93, 248,\n",
      "        167,  27,  97, 150, 238,  12, 145, 214,  85, 232,  28, 207, 164,  43,\n",
      "        173, 184, 108,  20,  26,  32, 141, 130,  24, 110, 239,  29,   1,  35,\n",
      "         44,  21,  62, 252,  98, 216,  16,  38,  49,  77,   3, 158, 183, 135,\n",
      "        170, 195, 105,  73, 149,  50,  53,  52, 116,  17, 159, 188, 131, 246,\n",
      "        201, 187,  22, 123, 166, 168,  51, 205,  18, 227,   9, 253,  76, 218,\n",
      "         46,  31,  75,   8, 181,  33,  71, 211,  65,  42, 172, 126, 219,  60,\n",
      "          6,  47, 174, 225,  40, 165, 244, 206, 160,  30, 121,  86,  87, 127,\n",
      "        230, 243, 103,  94, 231,  84, 215, 176,  11, 132, 209, 169, 190, 193,\n",
      "        196, 113, 228,  69, 222, 101, 124,  45, 194,  48,  58,  41, 236, 143,\n",
      "        112,  72, 122, 163, 224,  92, 136,  23,   2,  80, 137, 198, 212, 128,\n",
      "        100, 117,   4,  34,  57, 104, 250,  25,  54, 115,  78,  89, 241,  61,\n",
      "        107,  70,  67, 221, 223, 208, 249, 148,  59, 171, 185, 189,  14, 217,\n",
      "        139, 134, 226, 178,  95, 179,  81, 153, 251,  79, 125, 147, 114, 242,\n",
      "        192,  74]), 'in_features': 240, 'out_features': 10}\n"
     ]
    },
    {
     "name": "stderr",
     "output_type": "stream",
     "text": [
      "LOCAL_RANK: 0 - CUDA_VISIBLE_DEVICES: [3]\n"
     ]
    },
    {
     "data": {
      "application/vnd.jupyter.widget-view+json": {
       "model_id": "7c850d24e12e4cf7ac1ac92c38498022",
       "version_major": 2,
       "version_minor": 0
      },
      "text/plain": [
       "Predicting: 0it [00:00, ?it/s]"
      ]
     },
     "metadata": {},
     "output_type": "display_data"
    },
    {
     "name": "stderr",
     "output_type": "stream",
     "text": [
      "Global seed set to 2\n",
      "No pretrained weights exist or were found for this model. Using random initialization.\n",
      "Global seed set to 5\n",
      "GPU available: True, used: True\n",
      "TPU available: False, using: 0 TPU cores\n",
      "IPU available: False, using: 0 IPUs\n",
      "Global seed set to 0\n"
     ]
    },
    {
     "name": "stdout",
     "output_type": "stream",
     "text": [
      "{'training': True, '_parameters': OrderedDict(), '_buffers': OrderedDict(), '_non_persistent_buffers_set': set(), '_backward_hooks': OrderedDict(), '_is_full_backward_hook': None, '_forward_hooks': OrderedDict(), '_forward_pre_hooks': OrderedDict(), '_state_dict_hooks': OrderedDict(), '_load_state_dict_pre_hooks': OrderedDict(), '_load_state_dict_post_hooks': OrderedDict(), '_modules': OrderedDict([('linear', Linear(in_features=240, out_features=10, bias=True))]), 'neuron_indices': tensor([ 99,  70,  55, 138,  66,  19,  48,  54, 112, 228, 161, 171,  27, 210,\n",
      "         56, 113, 199,  98, 129, 134, 133,  23, 136, 121,  28,  95,  57, 135,\n",
      "         11, 187, 244, 180,  93, 220, 146,  40,  15, 165, 205, 235, 230, 124,\n",
      "        254, 186,  30,  75, 255, 107, 240,  77, 190, 213, 156,  64, 159, 177,\n",
      "        223,   9, 102, 118,  69, 238,   2, 212,  62,  78,  85,  16, 172, 245,\n",
      "         34,  97,  39,  60, 153, 150, 145, 143,  53, 127, 158,  84, 175, 115,\n",
      "         89, 131,  46, 248,  94, 243, 108, 218,  71,  25, 105,  20, 229,  81,\n",
      "        141, 227,  33,  63,  61,  73, 224, 157,  87, 179,  41, 189,  52,  79,\n",
      "        222,   1, 116, 128,  82, 236, 197, 184, 216,  43, 162, 194,  45, 168,\n",
      "        120,  47,  32, 200, 192, 181, 221,  96, 148,  50,  88, 249, 110, 170,\n",
      "        252, 130,  21, 206,  86,   3, 193,  83, 164, 250,  91, 114,  26, 167,\n",
      "        203, 204,   5, 183, 119, 106,  92, 242,  36, 147,  22,  51, 214, 195,\n",
      "        251,  35, 111,  76,  68,  14,  29, 163, 140,  65, 202,  42, 215, 137,\n",
      "          7, 149,  90, 155, 191, 154, 117,   4,  31, 122,  67, 173, 232, 219,\n",
      "        123, 169, 126, 226, 104,  37, 160, 217, 103, 176, 101, 178, 125, 188,\n",
      "         13, 247,  59, 198,  74, 233, 151,  10, 132,   6,  72, 182,  49, 225,\n",
      "        246,  18,   8, 109, 237, 241, 100, 142, 166,  44,  17,  12,  80,   0,\n",
      "        239, 144]), 'in_features': 240, 'out_features': 10}\n"
     ]
    },
    {
     "name": "stderr",
     "output_type": "stream",
     "text": [
      "LOCAL_RANK: 0 - CUDA_VISIBLE_DEVICES: [3]\n"
     ]
    },
    {
     "data": {
      "application/vnd.jupyter.widget-view+json": {
       "model_id": "448fc8d12c2f4f9fb7e6ddb8e3bb364f",
       "version_major": 2,
       "version_minor": 0
      },
      "text/plain": [
       "Predicting: 0it [00:00, ?it/s]"
      ]
     },
     "metadata": {},
     "output_type": "display_data"
    },
    {
     "name": "stderr",
     "output_type": "stream",
     "text": [
      "Global seed set to 2\n",
      "No pretrained weights exist or were found for this model. Using random initialization.\n",
      "Global seed set to 2\n",
      "GPU available: True, used: True\n",
      "TPU available: False, using: 0 TPU cores\n",
      "IPU available: False, using: 0 IPUs\n",
      "Global seed set to 0\n"
     ]
    },
    {
     "name": "stdout",
     "output_type": "stream",
     "text": [
      "{'training': True, '_parameters': OrderedDict(), '_buffers': OrderedDict(), '_non_persistent_buffers_set': set(), '_backward_hooks': OrderedDict(), '_is_full_backward_hook': None, '_forward_hooks': OrderedDict(), '_forward_pre_hooks': OrderedDict(), '_state_dict_hooks': OrderedDict(), '_load_state_dict_pre_hooks': OrderedDict(), '_load_state_dict_post_hooks': OrderedDict(), '_modules': OrderedDict([('linear', Linear(in_features=240, out_features=10, bias=True))]), 'neuron_indices': tensor([168,  43, 227, 101, 246, 215, 198, 143, 176, 241,  58, 147, 207,  32,\n",
      "         11,  14,  95, 233,   8, 124,  92,  10,   5, 183,  75, 232,  46, 163,\n",
      "        235, 181,  51, 162,  42, 211, 178, 177,  16, 121, 249,  77, 196, 173,\n",
      "         96,   0,  55, 127,  39, 184,  80,  34, 102,  88, 206, 228,  68, 210,\n",
      "         12,  17, 203,  89,  50, 223, 188,  24, 250, 137, 165, 118,  13, 186,\n",
      "         87, 172, 240, 100,  97, 234, 169, 187, 104, 120, 154,  40,  76,  93,\n",
      "        119,   2,  53, 189, 136, 199,  52,  71, 192, 197,  63, 229,  67,  19,\n",
      "         47, 201, 218,  37, 244,  70, 105, 103,  69,  82, 245, 220,   9, 252,\n",
      "        149, 133, 150,  45,  73, 106, 254, 193,  91,  66, 138,  25, 226, 128,\n",
      "        231,  61, 144,  81, 219, 209, 213, 237, 253, 135,  18,  54, 212,   7,\n",
      "         22,  38,   3, 180, 205, 157, 185, 159,  56, 200, 208,  21,   4, 111,\n",
      "        110, 216,  44,  15, 221,  84, 222, 153, 242, 115,   1,  86, 145,  79,\n",
      "        160,  35, 131, 195, 141, 108,  31, 156, 255, 107, 174,  27, 179, 182,\n",
      "         98, 134, 190, 224, 191,  59, 214, 116,   6, 142, 146, 248,  78, 139,\n",
      "        171, 129, 117,  20,  49, 123,  30, 243, 132,  28, 202,  29, 166,  36,\n",
      "         64, 217,  90, 167, 251, 158,  23, 126, 151, 125, 109, 239,  72, 225,\n",
      "        175, 148, 122, 236, 140, 114, 238, 204,  99, 170,  60,  57, 194, 161,\n",
      "         74, 230]), 'in_features': 240, 'out_features': 10}\n"
     ]
    },
    {
     "name": "stderr",
     "output_type": "stream",
     "text": [
      "LOCAL_RANK: 0 - CUDA_VISIBLE_DEVICES: [3]\n"
     ]
    },
    {
     "data": {
      "application/vnd.jupyter.widget-view+json": {
       "model_id": "0b20a4d37b9c45d5a5f87c7dc444f759",
       "version_major": 2,
       "version_minor": 0
      },
      "text/plain": [
       "Predicting: 0it [00:00, ?it/s]"
      ]
     },
     "metadata": {},
     "output_type": "display_data"
    },
    {
     "name": "stderr",
     "output_type": "stream",
     "text": [
      "Global seed set to 2\n",
      "No pretrained weights exist or were found for this model. Using random initialization.\n",
      "Global seed set to 3\n",
      "GPU available: True, used: True\n",
      "TPU available: False, using: 0 TPU cores\n",
      "IPU available: False, using: 0 IPUs\n",
      "Global seed set to 0\n"
     ]
    },
    {
     "name": "stdout",
     "output_type": "stream",
     "text": [
      "{'training': True, '_parameters': OrderedDict(), '_buffers': OrderedDict(), '_non_persistent_buffers_set': set(), '_backward_hooks': OrderedDict(), '_is_full_backward_hook': None, '_forward_hooks': OrderedDict(), '_forward_pre_hooks': OrderedDict(), '_state_dict_hooks': OrderedDict(), '_load_state_dict_pre_hooks': OrderedDict(), '_load_state_dict_post_hooks': OrderedDict(), '_modules': OrderedDict([('linear', Linear(in_features=240, out_features=10, bias=True))]), 'neuron_indices': tensor([106, 204,  47, 105,  32, 181,  96, 255,  93,   8,  74, 157, 145, 168,\n",
      "        232, 198, 151,  45,  38, 153, 164,  65,  91,  88, 152, 195, 193, 112,\n",
      "         18, 230, 108,  77, 188, 110,  49, 102,  89, 122, 244, 155, 125, 100,\n",
      "        234,  27,  78, 247,  37,  87, 209,  67,  73,  46, 185,  95,  76,  68,\n",
      "        117,  83,  29, 173, 236,   1, 208,  24,  64, 142, 154, 192, 199, 249,\n",
      "        160,  51, 207, 242, 215, 212, 129, 126, 219,  19, 133, 240, 214, 118,\n",
      "         61,  36, 165,   5,  34,  57,  20, 251, 196,  52,  28,  40,  17, 205,\n",
      "        163, 158,  69, 123, 120, 191, 177, 184, 187,  98,  33, 159,  70, 103,\n",
      "        218,  58,  60,  53, 135,  63,  84, 127,  92, 225,  11, 156,   2, 203,\n",
      "         31, 202,  71, 174,  21,  30, 161, 235, 167, 139, 248, 210,   9,  59,\n",
      "        250, 121, 194,   6, 228, 231,   3, 186,  80, 132, 206, 148, 143,  81,\n",
      "        201,  50, 253,  82, 226, 183, 137, 227, 170, 180, 211,  39, 147,  41,\n",
      "        254,  25, 169, 241,  97, 130, 149, 107,  85, 189, 246, 200,  22,  94,\n",
      "        197, 213, 124,  44, 238,   4, 114,  75,   0, 141,  43,  26, 136, 220,\n",
      "        179, 223,  16, 243, 119, 144, 138,  72, 171,  62, 224,  90, 252, 221,\n",
      "        245,  14,  66,  86, 128, 150, 172,   7,  79, 178, 111, 166, 190, 134,\n",
      "         35,  55,  48, 239, 222, 233,  99, 217, 104, 109, 175,  15,  54,  13,\n",
      "         12, 176]), 'in_features': 240, 'out_features': 10}\n"
     ]
    },
    {
     "name": "stderr",
     "output_type": "stream",
     "text": [
      "LOCAL_RANK: 0 - CUDA_VISIBLE_DEVICES: [3]\n"
     ]
    },
    {
     "data": {
      "application/vnd.jupyter.widget-view+json": {
       "model_id": "c186615664eb4372a775f55f8016a788",
       "version_major": 2,
       "version_minor": 0
      },
      "text/plain": [
       "Predicting: 0it [00:00, ?it/s]"
      ]
     },
     "metadata": {},
     "output_type": "display_data"
    },
    {
     "name": "stderr",
     "output_type": "stream",
     "text": [
      "Global seed set to 2\n",
      "No pretrained weights exist or were found for this model. Using random initialization.\n",
      "Global seed set to 4\n",
      "GPU available: True, used: True\n",
      "TPU available: False, using: 0 TPU cores\n",
      "IPU available: False, using: 0 IPUs\n",
      "Global seed set to 0\n"
     ]
    },
    {
     "name": "stdout",
     "output_type": "stream",
     "text": [
      "{'training': True, '_parameters': OrderedDict(), '_buffers': OrderedDict(), '_non_persistent_buffers_set': set(), '_backward_hooks': OrderedDict(), '_is_full_backward_hook': None, '_forward_hooks': OrderedDict(), '_forward_pre_hooks': OrderedDict(), '_state_dict_hooks': OrderedDict(), '_load_state_dict_pre_hooks': OrderedDict(), '_load_state_dict_post_hooks': OrderedDict(), '_modules': OrderedDict([('linear', Linear(in_features=240, out_features=10, bias=True))]), 'neuron_indices': tensor([122,  70,  83, 170,  61,  89,  75, 155, 106, 242, 110, 177,  67,   9,\n",
      "         98,  47, 183, 246,  64, 168, 198, 251, 192, 150, 162, 233, 217,  74,\n",
      "        187,  54, 153, 114,  38,  81, 132, 204,  62,  15,  93,  94,  40, 147,\n",
      "         88, 216, 227, 101,  43,  49,  90, 113, 205, 151,  17, 169,   3, 191,\n",
      "         82, 196,  55, 210,  12,   1, 175,  60, 209, 108, 133, 239,  77, 149,\n",
      "         19,  91,  95, 105, 188,  35,  51, 238, 240, 107,  76, 152,  46, 203,\n",
      "        255, 219, 208,  30, 129,  27, 111,  59,  72,  78, 165,  58, 207,  50,\n",
      "         37, 171, 127, 178, 126,  65, 173, 121, 115, 135, 245, 159, 249, 223,\n",
      "        102, 211, 226,  86, 244, 195, 221, 236, 145,  22, 201, 144, 237, 189,\n",
      "        119,  36,  28, 146,  13,  87,  68, 130, 186, 103, 200,  56, 139,  63,\n",
      "        206, 231, 166,  10, 193, 247, 163, 141, 215, 250,  11, 180, 157,   0,\n",
      "        224,  21, 148, 116, 142,  52,  48,  96,  16, 212,   7, 174, 254, 134,\n",
      "         92, 202, 241,  25,  69, 220, 158, 225, 161, 125,  18,   2,  45, 138,\n",
      "        104, 109, 234, 235,  24,  84, 243, 182, 118,  44, 214, 197, 181, 176,\n",
      "        185, 156, 228,   4,  73,  42, 143,  31, 232, 124, 199,  33, 229, 128,\n",
      "         14, 164, 140,  66,  85,  32, 154, 230,  71, 117,  20, 112,   6, 172,\n",
      "        123,  97, 248, 136,  29,  57, 131, 120, 190,  53,  80, 184, 252,  79,\n",
      "        218,  39]), 'in_features': 240, 'out_features': 10}\n"
     ]
    },
    {
     "name": "stderr",
     "output_type": "stream",
     "text": [
      "LOCAL_RANK: 0 - CUDA_VISIBLE_DEVICES: [3]\n"
     ]
    },
    {
     "data": {
      "application/vnd.jupyter.widget-view+json": {
       "model_id": "b8cd59dea4b648c284fbae08ece2da34",
       "version_major": 2,
       "version_minor": 0
      },
      "text/plain": [
       "Predicting: 0it [00:00, ?it/s]"
      ]
     },
     "metadata": {},
     "output_type": "display_data"
    },
    {
     "name": "stderr",
     "output_type": "stream",
     "text": [
      "Global seed set to 2\n",
      "No pretrained weights exist or were found for this model. Using random initialization.\n",
      "Global seed set to 1\n",
      "GPU available: True, used: True\n",
      "TPU available: False, using: 0 TPU cores\n",
      "IPU available: False, using: 0 IPUs\n",
      "Global seed set to 0\n"
     ]
    },
    {
     "name": "stdout",
     "output_type": "stream",
     "text": [
      "{'training': True, '_parameters': OrderedDict(), '_buffers': OrderedDict(), '_non_persistent_buffers_set': set(), '_backward_hooks': OrderedDict(), '_is_full_backward_hook': None, '_forward_hooks': OrderedDict(), '_forward_pre_hooks': OrderedDict(), '_state_dict_hooks': OrderedDict(), '_load_state_dict_pre_hooks': OrderedDict(), '_load_state_dict_post_hooks': OrderedDict(), '_modules': OrderedDict([('linear', Linear(in_features=4, out_features=10, bias=True))]), 'neuron_indices': tensor([ 37,  22,  20, 121]), 'in_features': 4, 'out_features': 10}\n"
     ]
    },
    {
     "name": "stderr",
     "output_type": "stream",
     "text": [
      "LOCAL_RANK: 0 - CUDA_VISIBLE_DEVICES: [3]\n"
     ]
    },
    {
     "data": {
      "application/vnd.jupyter.widget-view+json": {
       "model_id": "1f055d9d06154d2cbdfd657d90120548",
       "version_major": 2,
       "version_minor": 0
      },
      "text/plain": [
       "Predicting: 0it [00:00, ?it/s]"
      ]
     },
     "metadata": {},
     "output_type": "display_data"
    },
    {
     "name": "stderr",
     "output_type": "stream",
     "text": [
      "Global seed set to 2\n",
      "No pretrained weights exist or were found for this model. Using random initialization.\n",
      "Global seed set to 5\n",
      "GPU available: True, used: True\n",
      "TPU available: False, using: 0 TPU cores\n",
      "IPU available: False, using: 0 IPUs\n",
      "Global seed set to 0\n"
     ]
    },
    {
     "name": "stdout",
     "output_type": "stream",
     "text": [
      "{'training': True, '_parameters': OrderedDict(), '_buffers': OrderedDict(), '_non_persistent_buffers_set': set(), '_backward_hooks': OrderedDict(), '_is_full_backward_hook': None, '_forward_hooks': OrderedDict(), '_forward_pre_hooks': OrderedDict(), '_state_dict_hooks': OrderedDict(), '_load_state_dict_pre_hooks': OrderedDict(), '_load_state_dict_post_hooks': OrderedDict(), '_modules': OrderedDict([('linear', Linear(in_features=4, out_features=10, bias=True))]), 'neuron_indices': tensor([99, 83, 81, 13]), 'in_features': 4, 'out_features': 10}\n"
     ]
    },
    {
     "name": "stderr",
     "output_type": "stream",
     "text": [
      "LOCAL_RANK: 0 - CUDA_VISIBLE_DEVICES: [3]\n"
     ]
    },
    {
     "data": {
      "application/vnd.jupyter.widget-view+json": {
       "model_id": "cb69929973bf4135b4d039427f445356",
       "version_major": 2,
       "version_minor": 0
      },
      "text/plain": [
       "Predicting: 0it [00:00, ?it/s]"
      ]
     },
     "metadata": {},
     "output_type": "display_data"
    },
    {
     "name": "stderr",
     "output_type": "stream",
     "text": [
      "IOPub message rate exceeded.\n",
      "The notebook server will temporarily stop sending output\n",
      "to the client in order to avoid crashing it.\n",
      "To change this limit, set the config variable\n",
      "`--NotebookApp.iopub_msg_rate_limit`.\n",
      "\n",
      "Current values:\n",
      "NotebookApp.iopub_msg_rate_limit=1000.0 (msgs/sec)\n",
      "NotebookApp.rate_limit_window=3.0 (secs)\n",
      "\n",
      "Global seed set to 2\n",
      "No pretrained weights exist or were found for this model. Using random initialization.\n",
      "Global seed set to 5\n",
      "GPU available: True, used: True\n",
      "TPU available: False, using: 0 TPU cores\n",
      "IPU available: False, using: 0 IPUs\n",
      "Global seed set to 0\n"
     ]
    },
    {
     "name": "stdout",
     "output_type": "stream",
     "text": [
      "{'training': True, '_parameters': OrderedDict(), '_buffers': OrderedDict(), '_non_persistent_buffers_set': set(), '_backward_hooks': OrderedDict(), '_is_full_backward_hook': None, '_forward_hooks': OrderedDict(), '_forward_pre_hooks': OrderedDict(), '_state_dict_hooks': OrderedDict(), '_load_state_dict_pre_hooks': OrderedDict(), '_load_state_dict_post_hooks': OrderedDict(), '_modules': OrderedDict([('linear', Linear(in_features=65, out_features=10, bias=True))]), 'neuron_indices': tensor([ 99,  83,  81,  13, 106,  69,  48,  55,  56,   6,  29,  77, 111,  50,\n",
      "         68,  86,   7,  98, 105,  30,  41,  54, 118,  62,  76,  24,  45,   9,\n",
      "         12,  59,  14, 103,  61, 117,  44,   1,  57,  11,  43,   8,  70, 100,\n",
      "         25,  16,  88,   3,  47,  79,  64,  33,  39,   5,  27, 127, 125,  53,\n",
      "         63,  31,  94,  72,  97,  26,  28,  78, 113]), 'in_features': 65, 'out_features': 10}\n"
     ]
    },
    {
     "name": "stderr",
     "output_type": "stream",
     "text": [
      "LOCAL_RANK: 0 - CUDA_VISIBLE_DEVICES: [3]\n"
     ]
    },
    {
     "data": {
      "application/vnd.jupyter.widget-view+json": {
       "model_id": "d83ad7f6a87d43d2931e2396b1a49a92",
       "version_major": 2,
       "version_minor": 0
      },
      "text/plain": [
       "Predicting: 0it [00:00, ?it/s]"
      ]
     },
     "metadata": {},
     "output_type": "display_data"
    },
    {
     "name": "stderr",
     "output_type": "stream",
     "text": [
      "Global seed set to 2\n",
      "No pretrained weights exist or were found for this model. Using random initialization.\n",
      "Global seed set to 1\n",
      "GPU available: True, used: True\n",
      "TPU available: False, using: 0 TPU cores\n",
      "IPU available: False, using: 0 IPUs\n",
      "Global seed set to 0\n"
     ]
    },
    {
     "name": "stdout",
     "output_type": "stream",
     "text": [
      "{'training': True, '_parameters': OrderedDict(), '_buffers': OrderedDict(), '_non_persistent_buffers_set': set(), '_backward_hooks': OrderedDict(), '_is_full_backward_hook': None, '_forward_hooks': OrderedDict(), '_forward_pre_hooks': OrderedDict(), '_state_dict_hooks': OrderedDict(), '_load_state_dict_pre_hooks': OrderedDict(), '_load_state_dict_post_hooks': OrderedDict(), '_modules': OrderedDict([('linear', Linear(in_features=65, out_features=10, bias=True))]), 'neuron_indices': tensor([ 37,  22,  20, 121, 103, 126,  33,   8, 127,  82, 102,  50,  56,  76,\n",
      "         99,  89,   1,  92,   2,   5,  26,  87,  18,  57,  67,  59,  10,  39,\n",
      "         23,   6,  30,  93, 119,  96,   3,  17,   4,  73,  40,  43, 117,   0,\n",
      "         51,  91,  47, 115,  16, 107,  49,  24,  11,  84,  60,  98,  31,  85,\n",
      "         79, 123,  45,  80,  90, 105, 113, 116,  55]), 'in_features': 65, 'out_features': 10}\n"
     ]
    },
    {
     "name": "stderr",
     "output_type": "stream",
     "text": [
      "LOCAL_RANK: 0 - CUDA_VISIBLE_DEVICES: [3]\n"
     ]
    },
    {
     "data": {
      "application/vnd.jupyter.widget-view+json": {
       "model_id": "bf59372230074b918724621d4c433892",
       "version_major": 2,
       "version_minor": 0
      },
      "text/plain": [
       "Predicting: 0it [00:00, ?it/s]"
      ]
     },
     "metadata": {},
     "output_type": "display_data"
    },
    {
     "name": "stderr",
     "output_type": "stream",
     "text": [
      "Global seed set to 2\n",
      "No pretrained weights exist or were found for this model. Using random initialization.\n",
      "Global seed set to 3\n",
      "GPU available: True, used: True\n",
      "TPU available: False, using: 0 TPU cores\n",
      "IPU available: False, using: 0 IPUs\n",
      "Global seed set to 0\n"
     ]
    },
    {
     "name": "stdout",
     "output_type": "stream",
     "text": [
      "{'training': True, '_parameters': OrderedDict(), '_buffers': OrderedDict(), '_non_persistent_buffers_set': set(), '_backward_hooks': OrderedDict(), '_is_full_backward_hook': None, '_forward_hooks': OrderedDict(), '_forward_pre_hooks': OrderedDict(), '_state_dict_hooks': OrderedDict(), '_load_state_dict_pre_hooks': OrderedDict(), '_load_state_dict_post_hooks': OrderedDict(), '_modules': OrderedDict([('linear', Linear(in_features=75, out_features=10, bias=True))]), 'neuron_indices': tensor([106,  36,  75,  45,   8, 116, 114,  87,  69,  58, 124,  11,  33,  32,\n",
      "          5,  63,  71,  56,  68,  66,  92,  70,  29,   6, 112,  94,  85,  30,\n",
      "        122,  73, 118, 121,  60, 111,  39, 109, 117,  74, 100,  91, 125,  28,\n",
      "         38,  78,  23,  59,  96,  27,  65, 119,  31,   1, 113, 107,  90,  40,\n",
      "         55,  43,  64,  79,  72,  37,  18,  42,   9,  81,  98,  41,  12,  76,\n",
      "        110,  34,  62,   2,  35]), 'in_features': 75, 'out_features': 10}\n"
     ]
    },
    {
     "name": "stderr",
     "output_type": "stream",
     "text": [
      "LOCAL_RANK: 0 - CUDA_VISIBLE_DEVICES: [3]\n"
     ]
    },
    {
     "data": {
      "application/vnd.jupyter.widget-view+json": {
       "model_id": "95b8ac38aa3f4f00a7ea84e1c6eb2341",
       "version_major": 2,
       "version_minor": 0
      },
      "text/plain": [
       "Predicting: 0it [00:00, ?it/s]"
      ]
     },
     "metadata": {},
     "output_type": "display_data"
    },
    {
     "name": "stderr",
     "output_type": "stream",
     "text": [
      "Global seed set to 2\n",
      "No pretrained weights exist or were found for this model. Using random initialization.\n",
      "Global seed set to 4\n",
      "GPU available: True, used: True\n",
      "TPU available: False, using: 0 TPU cores\n",
      "IPU available: False, using: 0 IPUs\n",
      "Global seed set to 0\n"
     ]
    },
    {
     "name": "stdout",
     "output_type": "stream",
     "text": [
      "{'training': True, '_parameters': OrderedDict(), '_buffers': OrderedDict(), '_non_persistent_buffers_set': set(), '_backward_hooks': OrderedDict(), '_is_full_backward_hook': None, '_forward_hooks': OrderedDict(), '_forward_pre_hooks': OrderedDict(), '_state_dict_hooks': OrderedDict(), '_load_state_dict_pre_hooks': OrderedDict(), '_load_state_dict_post_hooks': OrderedDict(), '_modules': OrderedDict([('linear', Linear(in_features=75, out_features=10, bias=True))]), 'neuron_indices': tensor([122, 111, 105,  26,  73, 115, 113,  61,  50,  65,  90,  82,  19,  66,\n",
      "        114,  91, 119,  33,  88,  20,  54,  92,  56, 102,  10,  96, 127,  74,\n",
      "        107, 117,   3,  63,  38,  60,  46,  89, 110,  93,   6,  13,  48, 108,\n",
      "         27,  30, 103,  31,  21,  78, 106,  58,  69, 125,  49,  22,  62, 109,\n",
      "          0,  47,  75, 104,  45,  71, 101,  51,  81,  37,  99,  67,  55,  76,\n",
      "          8,  17,  79,  52, 118]), 'in_features': 75, 'out_features': 10}\n"
     ]
    },
    {
     "name": "stderr",
     "output_type": "stream",
     "text": [
      "LOCAL_RANK: 0 - CUDA_VISIBLE_DEVICES: [3]\n"
     ]
    },
    {
     "data": {
      "application/vnd.jupyter.widget-view+json": {
       "model_id": "01281e13ccb644a7a3021b466af50611",
       "version_major": 2,
       "version_minor": 0
      },
      "text/plain": [
       "Predicting: 0it [00:00, ?it/s]"
      ]
     },
     "metadata": {},
     "output_type": "display_data"
    },
    {
     "name": "stderr",
     "output_type": "stream",
     "text": [
      "Global seed set to 2\n",
      "No pretrained weights exist or were found for this model. Using random initialization.\n",
      "Global seed set to 5\n",
      "GPU available: True, used: True\n",
      "TPU available: False, using: 0 TPU cores\n",
      "IPU available: False, using: 0 IPUs\n",
      "Global seed set to 0\n"
     ]
    },
    {
     "name": "stdout",
     "output_type": "stream",
     "text": [
      "{'training': True, '_parameters': OrderedDict(), '_buffers': OrderedDict(), '_non_persistent_buffers_set': set(), '_backward_hooks': OrderedDict(), '_is_full_backward_hook': None, '_forward_hooks': OrderedDict(), '_forward_pre_hooks': OrderedDict(), '_state_dict_hooks': OrderedDict(), '_load_state_dict_pre_hooks': OrderedDict(), '_load_state_dict_post_hooks': OrderedDict(), '_modules': OrderedDict([('linear', Linear(in_features=75, out_features=10, bias=True))]), 'neuron_indices': tensor([ 99,  83,  81,  13, 106,  69,  48,  55,  56,   6,  29,  77, 111,  50,\n",
      "         68,  86,   7,  98, 105,  30,  41,  54, 118,  62,  76,  24,  45,   9,\n",
      "         12,  59,  14, 103,  61, 117,  44,   1,  57,  11,  43,   8,  70, 100,\n",
      "         25,  16,  88,   3,  47,  79,  64,  33,  39,   5,  27, 127, 125,  53,\n",
      "         63,  31,  94,  72,  97,  26,  28,  78, 113,  40, 121,  73, 104,  75,\n",
      "         82,  96, 107,  58,  10]), 'in_features': 75, 'out_features': 10}\n"
     ]
    },
    {
     "name": "stderr",
     "output_type": "stream",
     "text": [
      "LOCAL_RANK: 0 - CUDA_VISIBLE_DEVICES: [3]\n"
     ]
    },
    {
     "data": {
      "application/vnd.jupyter.widget-view+json": {
       "model_id": "45a8b7b4a1934db98c55275feda694da",
       "version_major": 2,
       "version_minor": 0
      },
      "text/plain": [
       "Predicting: 0it [00:00, ?it/s]"
      ]
     },
     "metadata": {},
     "output_type": "display_data"
    },
    {
     "name": "stderr",
     "output_type": "stream",
     "text": [
      "Global seed set to 2\n",
      "No pretrained weights exist or were found for this model. Using random initialization.\n",
      "Global seed set to 2\n",
      "GPU available: True, used: True\n",
      "TPU available: False, using: 0 TPU cores\n",
      "IPU available: False, using: 0 IPUs\n",
      "Global seed set to 0\n"
     ]
    },
    {
     "name": "stdout",
     "output_type": "stream",
     "text": [
      "{'training': True, '_parameters': OrderedDict(), '_buffers': OrderedDict(), '_non_persistent_buffers_set': set(), '_backward_hooks': OrderedDict(), '_is_full_backward_hook': None, '_forward_hooks': OrderedDict(), '_forward_pre_hooks': OrderedDict(), '_state_dict_hooks': OrderedDict(), '_load_state_dict_pre_hooks': OrderedDict(), '_load_state_dict_post_hooks': OrderedDict(), '_modules': OrderedDict([('linear', Linear(in_features=75, out_features=10, bias=True))]), 'neuron_indices': tensor([ 40,   0,  55,  47,  54,  20,  64, 104,  88,  13,  12,  93,  67,  63,\n",
      "        101,  10,   3,  49, 124,  97,  48,  72,  45,  18,  75,  61,  42,   2,\n",
      "        107,  24, 109,  80, 106,   4,  70,  52,  59,  19, 121,  77,  60,  51,\n",
      "         96,  29, 115, 102, 113, 103,   5, 127, 100, 114, 110, 116,   1,  22,\n",
      "          9, 112, 123,  30,  66,  46,  86,  92, 122,  36,  79,  16,  23,  99,\n",
      "         65,  26,  57,  43,  58]), 'in_features': 75, 'out_features': 10}\n"
     ]
    },
    {
     "name": "stderr",
     "output_type": "stream",
     "text": [
      "LOCAL_RANK: 0 - CUDA_VISIBLE_DEVICES: [3]\n"
     ]
    },
    {
     "data": {
      "application/vnd.jupyter.widget-view+json": {
       "model_id": "df864c45508c412facf28e76a8b9e492",
       "version_major": 2,
       "version_minor": 0
      },
      "text/plain": [
       "Predicting: 0it [00:00, ?it/s]"
      ]
     },
     "metadata": {},
     "output_type": "display_data"
    },
    {
     "name": "stderr",
     "output_type": "stream",
     "text": [
      "Global seed set to 2\n",
      "No pretrained weights exist or were found for this model. Using random initialization.\n",
      "Global seed set to 1\n",
      "GPU available: True, used: True\n",
      "TPU available: False, using: 0 TPU cores\n",
      "IPU available: False, using: 0 IPUs\n",
      "Global seed set to 0\n"
     ]
    },
    {
     "name": "stdout",
     "output_type": "stream",
     "text": [
      "{'training': True, '_parameters': OrderedDict(), '_buffers': OrderedDict(), '_non_persistent_buffers_set': set(), '_backward_hooks': OrderedDict(), '_is_full_backward_hook': None, '_forward_hooks': OrderedDict(), '_forward_pre_hooks': OrderedDict(), '_state_dict_hooks': OrderedDict(), '_load_state_dict_pre_hooks': OrderedDict(), '_load_state_dict_post_hooks': OrderedDict(), '_modules': OrderedDict([('linear', Linear(in_features=75, out_features=10, bias=True))]), 'neuron_indices': tensor([ 37,  22,  20, 121, 103, 126,  33,   8, 127,  82, 102,  50,  56,  76,\n",
      "         99,  89,   1,  92,   2,   5,  26,  87,  18,  57,  67,  59,  10,  39,\n",
      "         23,   6,  30,  93, 119,  96,   3,  17,   4,  73,  40,  43, 117,   0,\n",
      "         51,  91,  47, 115,  16, 107,  49,  24,  11,  84,  60,  98,  31,  85,\n",
      "         79, 123,  45,  80,  90, 105, 113, 116,  55,  95,  12,  74, 120, 112,\n",
      "         58,  66,  42, 100, 108]), 'in_features': 75, 'out_features': 10}\n"
     ]
    },
    {
     "name": "stderr",
     "output_type": "stream",
     "text": [
      "LOCAL_RANK: 0 - CUDA_VISIBLE_DEVICES: [3]\n"
     ]
    },
    {
     "data": {
      "application/vnd.jupyter.widget-view+json": {
       "model_id": "5ecbd509e6404b828324a91ea4dbf02d",
       "version_major": 2,
       "version_minor": 0
      },
      "text/plain": [
       "Predicting: 0it [00:00, ?it/s]"
      ]
     },
     "metadata": {},
     "output_type": "display_data"
    },
    {
     "name": "stderr",
     "output_type": "stream",
     "text": [
      "Global seed set to 2\n",
      "No pretrained weights exist or were found for this model. Using random initialization.\n",
      "Global seed set to 5\n",
      "GPU available: True, used: True\n",
      "TPU available: False, using: 0 TPU cores\n",
      "IPU available: False, using: 0 IPUs\n",
      "Global seed set to 0\n"
     ]
    },
    {
     "name": "stdout",
     "output_type": "stream",
     "text": [
      "{'training': True, '_parameters': OrderedDict(), '_buffers': OrderedDict(), '_non_persistent_buffers_set': set(), '_backward_hooks': OrderedDict(), '_is_full_backward_hook': None, '_forward_hooks': OrderedDict(), '_forward_pre_hooks': OrderedDict(), '_state_dict_hooks': OrderedDict(), '_load_state_dict_pre_hooks': OrderedDict(), '_load_state_dict_post_hooks': OrderedDict(), '_modules': OrderedDict([('linear', Linear(in_features=100, out_features=10, bias=True))]), 'neuron_indices': tensor([ 99,  83,  81,  13, 106,  69,  48,  55,  56,   6,  29,  77, 111,  50,\n",
      "         68,  86,   7,  98, 105,  30,  41,  54, 118,  62,  76,  24,  45,   9,\n",
      "         12,  59,  14, 103,  61, 117,  44,   1,  57,  11,  43,   8,  70, 100,\n",
      "         25,  16,  88,   3,  47,  79,  64,  33,  39,   5,  27, 127, 125,  53,\n",
      "         63,  31,  94,  72,  97,  26,  28,  78, 113,  40, 121,  73, 104,  75,\n",
      "         82,  96, 107,  58,  10,  67,  66, 123,  74, 119,  51,  22,  37, 101,\n",
      "         21,  84,  60,  87, 110,   0,  80,  20,  52, 112,  35,  32,  90,  71,\n",
      "        109,  18]), 'in_features': 100, 'out_features': 10}\n"
     ]
    },
    {
     "name": "stderr",
     "output_type": "stream",
     "text": [
      "LOCAL_RANK: 0 - CUDA_VISIBLE_DEVICES: [3]\n"
     ]
    },
    {
     "data": {
      "application/vnd.jupyter.widget-view+json": {
       "model_id": "f1d537211ad241ef85643c7ca241294b",
       "version_major": 2,
       "version_minor": 0
      },
      "text/plain": [
       "Predicting: 0it [00:00, ?it/s]"
      ]
     },
     "metadata": {},
     "output_type": "display_data"
    },
    {
     "name": "stderr",
     "output_type": "stream",
     "text": [
      "Global seed set to 2\n",
      "No pretrained weights exist or were found for this model. Using random initialization.\n",
      "Global seed set to 2\n",
      "GPU available: True, used: True\n",
      "TPU available: False, using: 0 TPU cores\n",
      "IPU available: False, using: 0 IPUs\n",
      "Global seed set to 0\n"
     ]
    },
    {
     "name": "stdout",
     "output_type": "stream",
     "text": [
      "{'training': True, '_parameters': OrderedDict(), '_buffers': OrderedDict(), '_non_persistent_buffers_set': set(), '_backward_hooks': OrderedDict(), '_is_full_backward_hook': None, '_forward_hooks': OrderedDict(), '_forward_pre_hooks': OrderedDict(), '_state_dict_hooks': OrderedDict(), '_load_state_dict_pre_hooks': OrderedDict(), '_load_state_dict_post_hooks': OrderedDict(), '_modules': OrderedDict([('linear', Linear(in_features=100, out_features=10, bias=True))]), 'neuron_indices': tensor([ 40,   0,  55,  47,  54,  20,  64, 104,  88,  13,  12,  93,  67,  63,\n",
      "        101,  10,   3,  49, 124,  97,  48,  72,  45,  18,  75,  61,  42,   2,\n",
      "        107,  24, 109,  80, 106,   4,  70,  52,  59,  19, 121,  77,  60,  51,\n",
      "         96,  29, 115, 102, 113, 103,   5, 127, 100, 114, 110, 116,   1,  22,\n",
      "          9, 112, 123,  30,  66,  46,  86,  92, 122,  36,  79,  16,  23,  99,\n",
      "         65,  26,  57,  43,  58,  38,  11, 111, 126,  44,   6,  85,  81,  74,\n",
      "         15,  41,  94,  95,   8, 119,  98,  33,  56, 105,  35,  39, 118,  31,\n",
      "         27,  68]), 'in_features': 100, 'out_features': 10}\n"
     ]
    },
    {
     "name": "stderr",
     "output_type": "stream",
     "text": [
      "LOCAL_RANK: 0 - CUDA_VISIBLE_DEVICES: [3]\n"
     ]
    },
    {
     "data": {
      "application/vnd.jupyter.widget-view+json": {
       "model_id": "67a19e93aac04337b94fafd4d2c90b07",
       "version_major": 2,
       "version_minor": 0
      },
      "text/plain": [
       "Predicting: 0it [00:00, ?it/s]"
      ]
     },
     "metadata": {},
     "output_type": "display_data"
    },
    {
     "name": "stderr",
     "output_type": "stream",
     "text": [
      "Global seed set to 2\n",
      "No pretrained weights exist or were found for this model. Using random initialization.\n",
      "Global seed set to 1\n",
      "GPU available: True, used: True\n",
      "TPU available: False, using: 0 TPU cores\n",
      "IPU available: False, using: 0 IPUs\n",
      "Global seed set to 0\n"
     ]
    },
    {
     "name": "stdout",
     "output_type": "stream",
     "text": [
      "{'training': True, '_parameters': OrderedDict(), '_buffers': OrderedDict(), '_non_persistent_buffers_set': set(), '_backward_hooks': OrderedDict(), '_is_full_backward_hook': None, '_forward_hooks': OrderedDict(), '_forward_pre_hooks': OrderedDict(), '_state_dict_hooks': OrderedDict(), '_load_state_dict_pre_hooks': OrderedDict(), '_load_state_dict_post_hooks': OrderedDict(), '_modules': OrderedDict([('linear', Linear(in_features=100, out_features=10, bias=True))]), 'neuron_indices': tensor([ 37,  22,  20, 121, 103, 126,  33,   8, 127,  82, 102,  50,  56,  76,\n",
      "         99,  89,   1,  92,   2,   5,  26,  87,  18,  57,  67,  59,  10,  39,\n",
      "         23,   6,  30,  93, 119,  96,   3,  17,   4,  73,  40,  43, 117,   0,\n",
      "         51,  91,  47, 115,  16, 107,  49,  24,  11,  84,  60,  98,  31,  85,\n",
      "         79, 123,  45,  80,  90, 105, 113, 116,  55,  95,  12,  74, 120, 112,\n",
      "         58,  66,  42, 100, 108,  29,  81,  53,  38,  68,  65,  62,  71,  83,\n",
      "         36,  13,  14,  70, 114, 101,  48, 109,  54,  41,  27, 104,  32,  52,\n",
      "         35,  69]), 'in_features': 100, 'out_features': 10}\n"
     ]
    },
    {
     "name": "stderr",
     "output_type": "stream",
     "text": [
      "LOCAL_RANK: 0 - CUDA_VISIBLE_DEVICES: [3]\n"
     ]
    },
    {
     "data": {
      "application/vnd.jupyter.widget-view+json": {
       "model_id": "323ed88f17f64b50b43b1897de2eee93",
       "version_major": 2,
       "version_minor": 0
      },
      "text/plain": [
       "Predicting: 0it [00:00, ?it/s]"
      ]
     },
     "metadata": {},
     "output_type": "display_data"
    },
    {
     "name": "stderr",
     "output_type": "stream",
     "text": [
      "Global seed set to 2\n",
      "No pretrained weights exist or were found for this model. Using random initialization.\n",
      "Global seed set to 3\n",
      "GPU available: True, used: True\n",
      "TPU available: False, using: 0 TPU cores\n",
      "IPU available: False, using: 0 IPUs\n",
      "Global seed set to 0\n"
     ]
    },
    {
     "name": "stdout",
     "output_type": "stream",
     "text": [
      "{'training': True, '_parameters': OrderedDict(), '_buffers': OrderedDict(), '_non_persistent_buffers_set': set(), '_backward_hooks': OrderedDict(), '_is_full_backward_hook': None, '_forward_hooks': OrderedDict(), '_forward_pre_hooks': OrderedDict(), '_state_dict_hooks': OrderedDict(), '_load_state_dict_pre_hooks': OrderedDict(), '_load_state_dict_post_hooks': OrderedDict(), '_modules': OrderedDict([('linear', Linear(in_features=100, out_features=10, bias=True))]), 'neuron_indices': tensor([106,  36,  75,  45,   8, 116, 114,  87,  69,  58, 124,  11,  33,  32,\n",
      "          5,  63,  71,  56,  68,  66,  92,  70,  29,   6, 112,  94,  85,  30,\n",
      "        122,  73, 118, 121,  60, 111,  39, 109, 117,  74, 100,  91, 125,  28,\n",
      "         38,  78,  23,  59,  96,  27,  65, 119,  31,   1, 113, 107,  90,  40,\n",
      "         55,  43,  64,  79,  72,  37,  18,  42,   9,  81,  98,  41,  12,  76,\n",
      "        110,  34,  62,   2,  35,  89,  97,  48,  53,  22, 101,  88, 102,  16,\n",
      "         10,   4,  13,  44, 120, 108,  20,  57,  24,  52,   3,  51,  49, 127,\n",
      "         93,  61]), 'in_features': 100, 'out_features': 10}\n"
     ]
    },
    {
     "name": "stderr",
     "output_type": "stream",
     "text": [
      "LOCAL_RANK: 0 - CUDA_VISIBLE_DEVICES: [3]\n"
     ]
    },
    {
     "data": {
      "application/vnd.jupyter.widget-view+json": {
       "model_id": "c98ef0e069b14c688a1a0eeb64c1fa51",
       "version_major": 2,
       "version_minor": 0
      },
      "text/plain": [
       "Predicting: 0it [00:00, ?it/s]"
      ]
     },
     "metadata": {},
     "output_type": "display_data"
    },
    {
     "name": "stderr",
     "output_type": "stream",
     "text": [
      "Global seed set to 2\n",
      "No pretrained weights exist or were found for this model. Using random initialization.\n",
      "Global seed set to 4\n",
      "GPU available: True, used: True\n",
      "TPU available: False, using: 0 TPU cores\n",
      "IPU available: False, using: 0 IPUs\n",
      "Global seed set to 0\n"
     ]
    },
    {
     "name": "stdout",
     "output_type": "stream",
     "text": [
      "{'training': True, '_parameters': OrderedDict(), '_buffers': OrderedDict(), '_non_persistent_buffers_set': set(), '_backward_hooks': OrderedDict(), '_is_full_backward_hook': None, '_forward_hooks': OrderedDict(), '_forward_pre_hooks': OrderedDict(), '_state_dict_hooks': OrderedDict(), '_load_state_dict_pre_hooks': OrderedDict(), '_load_state_dict_post_hooks': OrderedDict(), '_modules': OrderedDict([('linear', Linear(in_features=100, out_features=10, bias=True))]), 'neuron_indices': tensor([122, 111, 105,  26,  73, 115, 113,  61,  50,  65,  90,  82,  19,  66,\n",
      "        114,  91, 119,  33,  88,  20,  54,  92,  56, 102,  10,  96, 127,  74,\n",
      "        107, 117,   3,  63,  38,  60,  46,  89, 110,  93,   6,  13,  48, 108,\n",
      "         27,  30, 103,  31,  21,  78, 106,  58,  69, 125,  49,  22,  62, 109,\n",
      "          0,  47,  75, 104,  45,  71, 101,  51,  81,  37,  99,  67,  55,  76,\n",
      "          8,  17,  79,  52, 118,  40,  16,  43,  18,  29,  87,   1, 124,   7,\n",
      "         80,  84,  23,  41,  35,  42,  77,  39, 123,   9,  97,  59,  64, 116,\n",
      "         25,  34]), 'in_features': 100, 'out_features': 10}\n"
     ]
    },
    {
     "name": "stderr",
     "output_type": "stream",
     "text": [
      "LOCAL_RANK: 0 - CUDA_VISIBLE_DEVICES: [3]\n"
     ]
    },
    {
     "data": {
      "application/vnd.jupyter.widget-view+json": {
       "model_id": "847dd674e8dc45c6ba22db979c559ee1",
       "version_major": 2,
       "version_minor": 0
      },
      "text/plain": [
       "Predicting: 0it [00:00, ?it/s]"
      ]
     },
     "metadata": {},
     "output_type": "display_data"
    },
    {
     "name": "stderr",
     "output_type": "stream",
     "text": [
      "Global seed set to 2\n",
      "No pretrained weights exist or were found for this model. Using random initialization.\n",
      "Global seed set to 4\n",
      "GPU available: True, used: True\n",
      "TPU available: False, using: 0 TPU cores\n",
      "IPU available: False, using: 0 IPUs\n",
      "Global seed set to 0\n"
     ]
    },
    {
     "name": "stdout",
     "output_type": "stream",
     "text": [
      "{'training': True, '_parameters': OrderedDict(), '_buffers': OrderedDict(), '_non_persistent_buffers_set': set(), '_backward_hooks': OrderedDict(), '_is_full_backward_hook': None, '_forward_hooks': OrderedDict(), '_forward_pre_hooks': OrderedDict(), '_state_dict_hooks': OrderedDict(), '_load_state_dict_pre_hooks': OrderedDict(), '_load_state_dict_post_hooks': OrderedDict(), '_modules': OrderedDict([('linear', Linear(in_features=120, out_features=10, bias=True))]), 'neuron_indices': tensor([122, 111, 105,  26,  73, 115, 113,  61,  50,  65,  90,  82,  19,  66,\n",
      "        114,  91, 119,  33,  88,  20,  54,  92,  56, 102,  10,  96, 127,  74,\n",
      "        107, 117,   3,  63,  38,  60,  46,  89, 110,  93,   6,  13,  48, 108,\n",
      "         27,  30, 103,  31,  21,  78, 106,  58,  69, 125,  49,  22,  62, 109,\n",
      "          0,  47,  75, 104,  45,  71, 101,  51,  81,  37,  99,  67,  55,  76,\n",
      "          8,  17,  79,  52, 118,  40,  16,  43,  18,  29,  87,   1, 124,   7,\n",
      "         80,  84,  23,  41,  35,  42,  77,  39, 123,   9,  97,  59,  64, 116,\n",
      "         25,  34,  15,  68,  85,  36,  72,  53,   5,  94,  95,  44,  86,   4,\n",
      "        126,  98,  11,  83,  28, 112,  32, 100]), 'in_features': 120, 'out_features': 10}\n"
     ]
    },
    {
     "name": "stderr",
     "output_type": "stream",
     "text": [
      "LOCAL_RANK: 0 - CUDA_VISIBLE_DEVICES: [3]\n"
     ]
    },
    {
     "data": {
      "application/vnd.jupyter.widget-view+json": {
       "model_id": "814354bab2d74024aac40d741fb1a3b8",
       "version_major": 2,
       "version_minor": 0
      },
      "text/plain": [
       "Predicting: 0it [00:00, ?it/s]"
      ]
     },
     "metadata": {},
     "output_type": "display_data"
    },
    {
     "name": "stderr",
     "output_type": "stream",
     "text": [
      "Global seed set to 2\n",
      "No pretrained weights exist or were found for this model. Using random initialization.\n",
      "Global seed set to 3\n",
      "GPU available: True, used: True\n",
      "TPU available: False, using: 0 TPU cores\n",
      "IPU available: False, using: 0 IPUs\n",
      "Global seed set to 0\n"
     ]
    },
    {
     "name": "stdout",
     "output_type": "stream",
     "text": [
      "{'training': True, '_parameters': OrderedDict(), '_buffers': OrderedDict(), '_non_persistent_buffers_set': set(), '_backward_hooks': OrderedDict(), '_is_full_backward_hook': None, '_forward_hooks': OrderedDict(), '_forward_pre_hooks': OrderedDict(), '_state_dict_hooks': OrderedDict(), '_load_state_dict_pre_hooks': OrderedDict(), '_load_state_dict_post_hooks': OrderedDict(), '_modules': OrderedDict([('linear', Linear(in_features=120, out_features=10, bias=True))]), 'neuron_indices': tensor([106,  36,  75,  45,   8, 116, 114,  87,  69,  58, 124,  11,  33,  32,\n",
      "          5,  63,  71,  56,  68,  66,  92,  70,  29,   6, 112,  94,  85,  30,\n",
      "        122,  73, 118, 121,  60, 111,  39, 109, 117,  74, 100,  91, 125,  28,\n",
      "         38,  78,  23,  59,  96,  27,  65, 119,  31,   1, 113, 107,  90,  40,\n",
      "         55,  43,  64,  79,  72,  37,  18,  42,   9,  81,  98,  41,  12,  76,\n",
      "        110,  34,  62,   2,  35,  89,  97,  48,  53,  22, 101,  88, 102,  16,\n",
      "         10,   4,  13,  44, 120, 108,  20,  57,  24,  52,   3,  51,  49, 127,\n",
      "         93,  61,  80,  84,  25,  14, 105,  26,  17, 126,  47,  46, 103,  19,\n",
      "         67,  77,  83,  99, 123, 104,  82,   0]), 'in_features': 120, 'out_features': 10}\n"
     ]
    },
    {
     "name": "stderr",
     "output_type": "stream",
     "text": [
      "LOCAL_RANK: 0 - CUDA_VISIBLE_DEVICES: [3]\n"
     ]
    },
    {
     "data": {
      "application/vnd.jupyter.widget-view+json": {
       "model_id": "650b4fe28419486484483bcfdd9df123",
       "version_major": 2,
       "version_minor": 0
      },
      "text/plain": [
       "Predicting: 0it [00:00, ?it/s]"
      ]
     },
     "metadata": {},
     "output_type": "display_data"
    },
    {
     "name": "stderr",
     "output_type": "stream",
     "text": [
      "Global seed set to 2\n",
      "No pretrained weights exist or were found for this model. Using random initialization.\n",
      "Global seed set to 2\n",
      "GPU available: True, used: True\n",
      "TPU available: False, using: 0 TPU cores\n",
      "IPU available: False, using: 0 IPUs\n",
      "Global seed set to 0\n"
     ]
    },
    {
     "name": "stdout",
     "output_type": "stream",
     "text": [
      "{'training': True, '_parameters': OrderedDict(), '_buffers': OrderedDict(), '_non_persistent_buffers_set': set(), '_backward_hooks': OrderedDict(), '_is_full_backward_hook': None, '_forward_hooks': OrderedDict(), '_forward_pre_hooks': OrderedDict(), '_state_dict_hooks': OrderedDict(), '_load_state_dict_pre_hooks': OrderedDict(), '_load_state_dict_post_hooks': OrderedDict(), '_modules': OrderedDict([('linear', Linear(in_features=120, out_features=10, bias=True))]), 'neuron_indices': tensor([ 40,   0,  55,  47,  54,  20,  64, 104,  88,  13,  12,  93,  67,  63,\n",
      "        101,  10,   3,  49, 124,  97,  48,  72,  45,  18,  75,  61,  42,   2,\n",
      "        107,  24, 109,  80, 106,   4,  70,  52,  59,  19, 121,  77,  60,  51,\n",
      "         96,  29, 115, 102, 113, 103,   5, 127, 100, 114, 110, 116,   1,  22,\n",
      "          9, 112, 123,  30,  66,  46,  86,  92, 122,  36,  79,  16,  23,  99,\n",
      "         65,  26,  57,  43,  58,  38,  11, 111, 126,  44,   6,  85,  81,  74,\n",
      "         15,  41,  94,  95,   8, 119,  98,  33,  56, 105,  35,  39, 118,  31,\n",
      "         27,  68,  32, 120,  50,  91,  25, 108,  62,  84,   7,  34, 117,  82,\n",
      "         90,  21,  53,  17,  71,  76,  87,  28]), 'in_features': 120, 'out_features': 10}\n"
     ]
    },
    {
     "name": "stderr",
     "output_type": "stream",
     "text": [
      "LOCAL_RANK: 0 - CUDA_VISIBLE_DEVICES: [3]\n"
     ]
    },
    {
     "data": {
      "application/vnd.jupyter.widget-view+json": {
       "model_id": "fe55f60f1161414895792d3e5df1bbc5",
       "version_major": 2,
       "version_minor": 0
      },
      "text/plain": [
       "Predicting: 0it [00:00, ?it/s]"
      ]
     },
     "metadata": {},
     "output_type": "display_data"
    },
    {
     "name": "stderr",
     "output_type": "stream",
     "text": [
      "Global seed set to 2\n",
      "No pretrained weights exist or were found for this model. Using random initialization.\n",
      "Global seed set to 5\n",
      "GPU available: True, used: True\n",
      "TPU available: False, using: 0 TPU cores\n",
      "IPU available: False, using: 0 IPUs\n",
      "Global seed set to 0\n"
     ]
    },
    {
     "name": "stdout",
     "output_type": "stream",
     "text": [
      "{'training': True, '_parameters': OrderedDict(), '_buffers': OrderedDict(), '_non_persistent_buffers_set': set(), '_backward_hooks': OrderedDict(), '_is_full_backward_hook': None, '_forward_hooks': OrderedDict(), '_forward_pre_hooks': OrderedDict(), '_state_dict_hooks': OrderedDict(), '_load_state_dict_pre_hooks': OrderedDict(), '_load_state_dict_post_hooks': OrderedDict(), '_modules': OrderedDict([('linear', Linear(in_features=120, out_features=10, bias=True))]), 'neuron_indices': tensor([ 99,  83,  81,  13, 106,  69,  48,  55,  56,   6,  29,  77, 111,  50,\n",
      "         68,  86,   7,  98, 105,  30,  41,  54, 118,  62,  76,  24,  45,   9,\n",
      "         12,  59,  14, 103,  61, 117,  44,   1,  57,  11,  43,   8,  70, 100,\n",
      "         25,  16,  88,   3,  47,  79,  64,  33,  39,   5,  27, 127, 125,  53,\n",
      "         63,  31,  94,  72,  97,  26,  28,  78, 113,  40, 121,  73, 104,  75,\n",
      "         82,  96, 107,  58,  10,  67,  66, 123,  74, 119,  51,  22,  37, 101,\n",
      "         21,  84,  60,  87, 110,   0,  80,  20,  52, 112,  35,  32,  90,  71,\n",
      "        109,  18,  19, 122,  91,  38,  93, 126, 108,  15, 124,  34,   2, 120,\n",
      "         89,  95,  23,  17,  36, 115,  65,  92]), 'in_features': 120, 'out_features': 10}\n"
     ]
    },
    {
     "name": "stderr",
     "output_type": "stream",
     "text": [
      "LOCAL_RANK: 0 - CUDA_VISIBLE_DEVICES: [3]\n"
     ]
    },
    {
     "data": {
      "application/vnd.jupyter.widget-view+json": {
       "model_id": "bbd7bcadc5e54b42952d70f667ab533a",
       "version_major": 2,
       "version_minor": 0
      },
      "text/plain": [
       "Predicting: 0it [00:00, ?it/s]"
      ]
     },
     "metadata": {},
     "output_type": "display_data"
    },
    {
     "name": "stderr",
     "output_type": "stream",
     "text": [
      "Global seed set to 2\n",
      "No pretrained weights exist or were found for this model. Using random initialization.\n",
      "Global seed set to 1\n",
      "GPU available: True, used: True\n",
      "TPU available: False, using: 0 TPU cores\n",
      "IPU available: False, using: 0 IPUs\n",
      "Global seed set to 0\n"
     ]
    },
    {
     "name": "stdout",
     "output_type": "stream",
     "text": [
      "{'training': True, '_parameters': OrderedDict(), '_buffers': OrderedDict(), '_non_persistent_buffers_set': set(), '_backward_hooks': OrderedDict(), '_is_full_backward_hook': None, '_forward_hooks': OrderedDict(), '_forward_pre_hooks': OrderedDict(), '_state_dict_hooks': OrderedDict(), '_load_state_dict_pre_hooks': OrderedDict(), '_load_state_dict_post_hooks': OrderedDict(), '_modules': OrderedDict([('linear', Linear(in_features=120, out_features=10, bias=True))]), 'neuron_indices': tensor([ 37,  22,  20, 121, 103, 126,  33,   8, 127,  82, 102,  50,  56,  76,\n",
      "         99,  89,   1,  92,   2,   5,  26,  87,  18,  57,  67,  59,  10,  39,\n",
      "         23,   6,  30,  93, 119,  96,   3,  17,   4,  73,  40,  43, 117,   0,\n",
      "         51,  91,  47, 115,  16, 107,  49,  24,  11,  84,  60,  98,  31,  85,\n",
      "         79, 123,  45,  80,  90, 105, 113, 116,  55,  95,  12,  74, 120, 112,\n",
      "         58,  66,  42, 100, 108,  29,  81,  53,  38,  68,  65,  62,  71,  83,\n",
      "         36,  13,  14,  70, 114, 101,  48, 109,  54,  41,  27, 104,  32,  52,\n",
      "         35,  69,  64, 124,   7,  15,   9,  94, 106, 118,  21,  78, 111,  19,\n",
      "         34, 122,  97,  25,  77,  72, 110,  63]), 'in_features': 120, 'out_features': 10}\n"
     ]
    },
    {
     "name": "stderr",
     "output_type": "stream",
     "text": [
      "LOCAL_RANK: 0 - CUDA_VISIBLE_DEVICES: [3]\n"
     ]
    },
    {
     "data": {
      "application/vnd.jupyter.widget-view+json": {
       "model_id": "11f912e0522d4b76b7d758be917deeb7",
       "version_major": 2,
       "version_minor": 0
      },
      "text/plain": [
       "Predicting: 0it [00:00, ?it/s]"
      ]
     },
     "metadata": {},
     "output_type": "display_data"
    },
    {
     "name": "stderr",
     "output_type": "stream",
     "text": [
      "Global seed set to 2\n",
      "No pretrained weights exist or were found for this model. Using random initialization.\n",
      "Global seed set to 2\n",
      "GPU available: True, used: True\n",
      "TPU available: False, using: 0 TPU cores\n",
      "IPU available: False, using: 0 IPUs\n",
      "Global seed set to 0\n"
     ]
    },
    {
     "name": "stdout",
     "output_type": "stream",
     "text": [
      "{'training': True, '_parameters': OrderedDict(), '_buffers': OrderedDict(), '_non_persistent_buffers_set': set(), '_backward_hooks': OrderedDict(), '_is_full_backward_hook': None, '_forward_hooks': OrderedDict(), '_forward_pre_hooks': OrderedDict(), '_state_dict_hooks': OrderedDict(), '_load_state_dict_pre_hooks': OrderedDict(), '_load_state_dict_post_hooks': OrderedDict(), '_modules': OrderedDict([('linear', Linear(in_features=10, out_features=10, bias=True))]), 'neuron_indices': tensor([40, 25, 55,  7, 42, 34, 24, 35,  0, 15]), 'in_features': 10, 'out_features': 10}\n"
     ]
    },
    {
     "name": "stderr",
     "output_type": "stream",
     "text": [
      "LOCAL_RANK: 0 - CUDA_VISIBLE_DEVICES: [3]\n"
     ]
    },
    {
     "data": {
      "application/vnd.jupyter.widget-view+json": {
       "model_id": "171b035be7e54a69a8c2fd70e6e6523f",
       "version_major": 2,
       "version_minor": 0
      },
      "text/plain": [
       "Predicting: 0it [00:00, ?it/s]"
      ]
     },
     "metadata": {},
     "output_type": "display_data"
    },
    {
     "name": "stderr",
     "output_type": "stream",
     "text": [
      "Global seed set to 2\n",
      "No pretrained weights exist or were found for this model. Using random initialization.\n",
      "Global seed set to 5\n",
      "GPU available: True, used: True\n",
      "TPU available: False, using: 0 TPU cores\n",
      "IPU available: False, using: 0 IPUs\n",
      "Global seed set to 0\n"
     ]
    },
    {
     "name": "stdout",
     "output_type": "stream",
     "text": [
      "{'training': True, '_parameters': OrderedDict(), '_buffers': OrderedDict(), '_non_persistent_buffers_set': set(), '_backward_hooks': OrderedDict(), '_is_full_backward_hook': None, '_forward_hooks': OrderedDict(), '_forward_pre_hooks': OrderedDict(), '_state_dict_hooks': OrderedDict(), '_load_state_dict_pre_hooks': OrderedDict(), '_load_state_dict_post_hooks': OrderedDict(), '_modules': OrderedDict([('linear', Linear(in_features=10, out_features=10, bias=True))]), 'neuron_indices': tensor([35, 13, 53, 17, 30, 26, 24, 51, 48,  2]), 'in_features': 10, 'out_features': 10}\n"
     ]
    },
    {
     "name": "stderr",
     "output_type": "stream",
     "text": [
      "LOCAL_RANK: 0 - CUDA_VISIBLE_DEVICES: [3]\n"
     ]
    },
    {
     "data": {
      "application/vnd.jupyter.widget-view+json": {
       "model_id": "d5be25df292c4456b591b87681aa5b43",
       "version_major": 2,
       "version_minor": 0
      },
      "text/plain": [
       "Predicting: 0it [00:00, ?it/s]"
      ]
     },
     "metadata": {},
     "output_type": "display_data"
    },
    {
     "name": "stderr",
     "output_type": "stream",
     "text": [
      "Global seed set to 2\n",
      "No pretrained weights exist or were found for this model. Using random initialization.\n",
      "Global seed set to 1\n",
      "GPU available: True, used: True\n",
      "TPU available: False, using: 0 TPU cores\n",
      "IPU available: False, using: 0 IPUs\n",
      "Global seed set to 0\n"
     ]
    },
    {
     "name": "stdout",
     "output_type": "stream",
     "text": [
      "{'training': True, '_parameters': OrderedDict(), '_buffers': OrderedDict(), '_non_persistent_buffers_set': set(), '_backward_hooks': OrderedDict(), '_is_full_backward_hook': None, '_forward_hooks': OrderedDict(), '_forward_pre_hooks': OrderedDict(), '_state_dict_hooks': OrderedDict(), '_load_state_dict_pre_hooks': OrderedDict(), '_load_state_dict_post_hooks': OrderedDict(), '_modules': OrderedDict([('linear', Linear(in_features=10, out_features=10, bias=True))]), 'neuron_indices': tensor([37, 60, 10, 61, 47, 32, 31, 63, 15,  6]), 'in_features': 10, 'out_features': 10}\n"
     ]
    },
    {
     "name": "stderr",
     "output_type": "stream",
     "text": [
      "LOCAL_RANK: 0 - CUDA_VISIBLE_DEVICES: [3]\n"
     ]
    },
    {
     "data": {
      "application/vnd.jupyter.widget-view+json": {
       "model_id": "b91b517e9d214a848c8a5c06bbaa6bf9",
       "version_major": 2,
       "version_minor": 0
      },
      "text/plain": [
       "Predicting: 0it [00:00, ?it/s]"
      ]
     },
     "metadata": {},
     "output_type": "display_data"
    },
    {
     "name": "stderr",
     "output_type": "stream",
     "text": [
      "Global seed set to 2\n",
      "No pretrained weights exist or were found for this model. Using random initialization.\n",
      "Global seed set to 4\n",
      "GPU available: True, used: True\n",
      "TPU available: False, using: 0 TPU cores\n",
      "IPU available: False, using: 0 IPUs\n",
      "Global seed set to 0\n"
     ]
    },
    {
     "name": "stdout",
     "output_type": "stream",
     "text": [
      "{'training': True, '_parameters': OrderedDict(), '_buffers': OrderedDict(), '_non_persistent_buffers_set': set(), '_backward_hooks': OrderedDict(), '_is_full_backward_hook': None, '_forward_hooks': OrderedDict(), '_forward_pre_hooks': OrderedDict(), '_state_dict_hooks': OrderedDict(), '_load_state_dict_pre_hooks': OrderedDict(), '_load_state_dict_post_hooks': OrderedDict(), '_modules': OrderedDict([('linear', Linear(in_features=10, out_features=10, bias=True))]), 'neuron_indices': tensor([58, 49, 25, 60, 13, 11, 51, 14, 34, 10]), 'in_features': 10, 'out_features': 10}\n"
     ]
    },
    {
     "name": "stderr",
     "output_type": "stream",
     "text": [
      "LOCAL_RANK: 0 - CUDA_VISIBLE_DEVICES: [3]\n"
     ]
    },
    {
     "data": {
      "application/vnd.jupyter.widget-view+json": {
       "model_id": "89e16c1c7e4f4475a78d3c5c6f10553e",
       "version_major": 2,
       "version_minor": 0
      },
      "text/plain": [
       "Predicting: 0it [00:00, ?it/s]"
      ]
     },
     "metadata": {},
     "output_type": "display_data"
    },
    {
     "name": "stderr",
     "output_type": "stream",
     "text": [
      "Global seed set to 2\n",
      "No pretrained weights exist or were found for this model. Using random initialization.\n",
      "Global seed set to 3\n",
      "GPU available: True, used: True\n",
      "TPU available: False, using: 0 TPU cores\n",
      "IPU available: False, using: 0 IPUs\n",
      "Global seed set to 0\n"
     ]
    },
    {
     "name": "stdout",
     "output_type": "stream",
     "text": [
      "{'training': True, '_parameters': OrderedDict(), '_buffers': OrderedDict(), '_non_persistent_buffers_set': set(), '_backward_hooks': OrderedDict(), '_is_full_backward_hook': None, '_forward_hooks': OrderedDict(), '_forward_pre_hooks': OrderedDict(), '_state_dict_hooks': OrderedDict(), '_load_state_dict_pre_hooks': OrderedDict(), '_load_state_dict_post_hooks': OrderedDict(), '_modules': OrderedDict([('linear', Linear(in_features=10, out_features=10, bias=True))]), 'neuron_indices': tensor([42, 60, 49,  6, 44,  7, 38, 15, 13, 28]), 'in_features': 10, 'out_features': 10}\n"
     ]
    },
    {
     "name": "stderr",
     "output_type": "stream",
     "text": [
      "LOCAL_RANK: 0 - CUDA_VISIBLE_DEVICES: [3]\n"
     ]
    },
    {
     "data": {
      "application/vnd.jupyter.widget-view+json": {
       "model_id": "aa4d3dc98990456881d4760403a85350",
       "version_major": 2,
       "version_minor": 0
      },
      "text/plain": [
       "Predicting: 0it [00:00, ?it/s]"
      ]
     },
     "metadata": {},
     "output_type": "display_data"
    },
    {
     "name": "stderr",
     "output_type": "stream",
     "text": [
      "Global seed set to 2\n",
      "No pretrained weights exist or were found for this model. Using random initialization.\n",
      "Global seed set to 4\n",
      "GPU available: True, used: True\n",
      "TPU available: False, using: 0 TPU cores\n",
      "IPU available: False, using: 0 IPUs\n",
      "Global seed set to 0\n"
     ]
    },
    {
     "name": "stdout",
     "output_type": "stream",
     "text": [
      "{'training': True, '_parameters': OrderedDict(), '_buffers': OrderedDict(), '_non_persistent_buffers_set': set(), '_backward_hooks': OrderedDict(), '_is_full_backward_hook': None, '_forward_hooks': OrderedDict(), '_forward_pre_hooks': OrderedDict(), '_state_dict_hooks': OrderedDict(), '_load_state_dict_pre_hooks': OrderedDict(), '_load_state_dict_post_hooks': OrderedDict(), '_modules': OrderedDict([('linear', Linear(in_features=20, out_features=10, bias=True))]), 'neuron_indices': tensor([58, 49, 25, 60, 13, 11, 51, 14, 34, 10, 50, 63, 15,  9,  7, 57, 39, 45,\n",
      "        62, 36]), 'in_features': 20, 'out_features': 10}\n"
     ]
    },
    {
     "name": "stderr",
     "output_type": "stream",
     "text": [
      "LOCAL_RANK: 0 - CUDA_VISIBLE_DEVICES: [3]\n"
     ]
    },
    {
     "data": {
      "application/vnd.jupyter.widget-view+json": {
       "model_id": "bc34034079d94056b7b38e1661023d29",
       "version_major": 2,
       "version_minor": 0
      },
      "text/plain": [
       "Predicting: 0it [00:00, ?it/s]"
      ]
     },
     "metadata": {},
     "output_type": "display_data"
    },
    {
     "name": "stderr",
     "output_type": "stream",
     "text": [
      "Global seed set to 2\n",
      "No pretrained weights exist or were found for this model. Using random initialization.\n",
      "Global seed set to 3\n",
      "GPU available: True, used: True\n",
      "TPU available: False, using: 0 TPU cores\n",
      "IPU available: False, using: 0 IPUs\n",
      "Global seed set to 0\n"
     ]
    },
    {
     "name": "stdout",
     "output_type": "stream",
     "text": [
      "{'training': True, '_parameters': OrderedDict(), '_buffers': OrderedDict(), '_non_persistent_buffers_set': set(), '_backward_hooks': OrderedDict(), '_is_full_backward_hook': None, '_forward_hooks': OrderedDict(), '_forward_pre_hooks': OrderedDict(), '_state_dict_hooks': OrderedDict(), '_load_state_dict_pre_hooks': OrderedDict(), '_load_state_dict_post_hooks': OrderedDict(), '_modules': OrderedDict([('linear', Linear(in_features=20, out_features=10, bias=True))]), 'neuron_indices': tensor([42, 60, 49,  6, 44,  7, 38, 15, 13, 28, 62, 50, 17, 33, 11, 12, 55,  9,\n",
      "         4, 63]), 'in_features': 20, 'out_features': 10}\n"
     ]
    },
    {
     "name": "stderr",
     "output_type": "stream",
     "text": [
      "LOCAL_RANK: 0 - CUDA_VISIBLE_DEVICES: [3]\n"
     ]
    },
    {
     "data": {
      "application/vnd.jupyter.widget-view+json": {
       "model_id": "96702aa12b3649ce93eb00f39e80cc4c",
       "version_major": 2,
       "version_minor": 0
      },
      "text/plain": [
       "Predicting: 0it [00:00, ?it/s]"
      ]
     },
     "metadata": {},
     "output_type": "display_data"
    },
    {
     "name": "stderr",
     "output_type": "stream",
     "text": [
      "Global seed set to 2\n",
      "No pretrained weights exist or were found for this model. Using random initialization.\n",
      "Global seed set to 1\n",
      "GPU available: True, used: True\n",
      "TPU available: False, using: 0 TPU cores\n",
      "IPU available: False, using: 0 IPUs\n",
      "Global seed set to 0\n"
     ]
    },
    {
     "name": "stdout",
     "output_type": "stream",
     "text": [
      "{'training': True, '_parameters': OrderedDict(), '_buffers': OrderedDict(), '_non_persistent_buffers_set': set(), '_backward_hooks': OrderedDict(), '_is_full_backward_hook': None, '_forward_hooks': OrderedDict(), '_forward_pre_hooks': OrderedDict(), '_state_dict_hooks': OrderedDict(), '_load_state_dict_pre_hooks': OrderedDict(), '_load_state_dict_post_hooks': OrderedDict(), '_modules': OrderedDict([('linear', Linear(in_features=20, out_features=10, bias=True))]), 'neuron_indices': tensor([37, 60, 10, 61, 47, 32, 31, 63, 15,  6, 30, 33,  1, 36, 27, 48, 22, 26,\n",
      "        12, 35]), 'in_features': 20, 'out_features': 10}\n"
     ]
    },
    {
     "name": "stderr",
     "output_type": "stream",
     "text": [
      "LOCAL_RANK: 0 - CUDA_VISIBLE_DEVICES: [3]\n"
     ]
    },
    {
     "data": {
      "application/vnd.jupyter.widget-view+json": {
       "model_id": "fc6dee814e5c4f4b8606475f9bfae3d4",
       "version_major": 2,
       "version_minor": 0
      },
      "text/plain": [
       "Predicting: 0it [00:00, ?it/s]"
      ]
     },
     "metadata": {},
     "output_type": "display_data"
    },
    {
     "name": "stderr",
     "output_type": "stream",
     "text": [
      "Global seed set to 2\n",
      "No pretrained weights exist or were found for this model. Using random initialization.\n",
      "Global seed set to 2\n",
      "GPU available: True, used: True\n",
      "TPU available: False, using: 0 TPU cores\n",
      "IPU available: False, using: 0 IPUs\n",
      "Global seed set to 0\n"
     ]
    },
    {
     "name": "stdout",
     "output_type": "stream",
     "text": [
      "{'training': True, '_parameters': OrderedDict(), '_buffers': OrderedDict(), '_non_persistent_buffers_set': set(), '_backward_hooks': OrderedDict(), '_is_full_backward_hook': None, '_forward_hooks': OrderedDict(), '_forward_pre_hooks': OrderedDict(), '_state_dict_hooks': OrderedDict(), '_load_state_dict_pre_hooks': OrderedDict(), '_load_state_dict_post_hooks': OrderedDict(), '_modules': OrderedDict([('linear', Linear(in_features=20, out_features=10, bias=True))]), 'neuron_indices': tensor([40, 25, 55,  7, 42, 34, 24, 35,  0, 15, 52, 56, 39, 11, 29, 30, 47, 50,\n",
      "        22,  5]), 'in_features': 20, 'out_features': 10}\n"
     ]
    },
    {
     "name": "stderr",
     "output_type": "stream",
     "text": [
      "LOCAL_RANK: 0 - CUDA_VISIBLE_DEVICES: [3]\n"
     ]
    },
    {
     "data": {
      "application/vnd.jupyter.widget-view+json": {
       "model_id": "1c6e1bdd87a0471b9c7502f79c28b4cb",
       "version_major": 2,
       "version_minor": 0
      },
      "text/plain": [
       "Predicting: 0it [00:00, ?it/s]"
      ]
     },
     "metadata": {},
     "output_type": "display_data"
    },
    {
     "name": "stderr",
     "output_type": "stream",
     "text": [
      "Global seed set to 2\n",
      "No pretrained weights exist or were found for this model. Using random initialization.\n",
      "Global seed set to 5\n",
      "GPU available: True, used: True\n",
      "TPU available: False, using: 0 TPU cores\n",
      "IPU available: False, using: 0 IPUs\n",
      "Global seed set to 0\n"
     ]
    },
    {
     "name": "stdout",
     "output_type": "stream",
     "text": [
      "{'training': True, '_parameters': OrderedDict(), '_buffers': OrderedDict(), '_non_persistent_buffers_set': set(), '_backward_hooks': OrderedDict(), '_is_full_backward_hook': None, '_forward_hooks': OrderedDict(), '_forward_pre_hooks': OrderedDict(), '_state_dict_hooks': OrderedDict(), '_load_state_dict_pre_hooks': OrderedDict(), '_load_state_dict_post_hooks': OrderedDict(), '_modules': OrderedDict([('linear', Linear(in_features=20, out_features=10, bias=True))]), 'neuron_indices': tensor([35, 13, 53, 17, 30, 26, 24, 51, 48,  2, 47, 38,  7,  6, 32, 11, 55, 12,\n",
      "        16, 23]), 'in_features': 20, 'out_features': 10}\n"
     ]
    },
    {
     "name": "stderr",
     "output_type": "stream",
     "text": [
      "LOCAL_RANK: 0 - CUDA_VISIBLE_DEVICES: [3]\n"
     ]
    },
    {
     "data": {
      "application/vnd.jupyter.widget-view+json": {
       "model_id": "7fc24f73e7854eb6a1bdb80db9debc73",
       "version_major": 2,
       "version_minor": 0
      },
      "text/plain": [
       "Predicting: 0it [00:00, ?it/s]"
      ]
     },
     "metadata": {},
     "output_type": "display_data"
    },
    {
     "name": "stderr",
     "output_type": "stream",
     "text": [
      "Global seed set to 2\n",
      "No pretrained weights exist or were found for this model. Using random initialization.\n",
      "Global seed set to 3\n",
      "GPU available: True, used: True\n",
      "TPU available: False, using: 0 TPU cores\n",
      "IPU available: False, using: 0 IPUs\n",
      "Global seed set to 0\n"
     ]
    },
    {
     "name": "stdout",
     "output_type": "stream",
     "text": [
      "{'training': True, '_parameters': OrderedDict(), '_buffers': OrderedDict(), '_non_persistent_buffers_set': set(), '_backward_hooks': OrderedDict(), '_is_full_backward_hook': None, '_forward_hooks': OrderedDict(), '_forward_pre_hooks': OrderedDict(), '_state_dict_hooks': OrderedDict(), '_load_state_dict_pre_hooks': OrderedDict(), '_load_state_dict_post_hooks': OrderedDict(), '_modules': OrderedDict([('linear', Linear(in_features=28, out_features=10, bias=True))]), 'neuron_indices': tensor([42, 60, 49,  6, 44,  7, 38, 15, 13, 28, 62, 50, 17, 33, 11, 12, 55,  9,\n",
      "         4, 63, 18, 14, 16, 29, 56, 51, 27, 25]), 'in_features': 28, 'out_features': 10}\n"
     ]
    },
    {
     "name": "stderr",
     "output_type": "stream",
     "text": [
      "LOCAL_RANK: 0 - CUDA_VISIBLE_DEVICES: [3]\n"
     ]
    },
    {
     "data": {
      "application/vnd.jupyter.widget-view+json": {
       "model_id": "30091442df464231bd4d600e1a272f3b",
       "version_major": 2,
       "version_minor": 0
      },
      "text/plain": [
       "Predicting: 0it [00:00, ?it/s]"
      ]
     },
     "metadata": {},
     "output_type": "display_data"
    },
    {
     "name": "stderr",
     "output_type": "stream",
     "text": [
      "Global seed set to 2\n",
      "No pretrained weights exist or were found for this model. Using random initialization.\n",
      "Global seed set to 4\n",
      "GPU available: True, used: True\n",
      "TPU available: False, using: 0 TPU cores\n",
      "IPU available: False, using: 0 IPUs\n",
      "Global seed set to 0\n"
     ]
    },
    {
     "name": "stdout",
     "output_type": "stream",
     "text": [
      "{'training': True, '_parameters': OrderedDict(), '_buffers': OrderedDict(), '_non_persistent_buffers_set': set(), '_backward_hooks': OrderedDict(), '_is_full_backward_hook': None, '_forward_hooks': OrderedDict(), '_forward_pre_hooks': OrderedDict(), '_state_dict_hooks': OrderedDict(), '_load_state_dict_pre_hooks': OrderedDict(), '_load_state_dict_post_hooks': OrderedDict(), '_modules': OrderedDict([('linear', Linear(in_features=28, out_features=10, bias=True))]), 'neuron_indices': tensor([58, 49, 25, 60, 13, 11, 51, 14, 34, 10, 50, 63, 15,  9,  7, 57, 39, 45,\n",
      "        62, 36, 30, 28, 24, 18, 26, 29, 53, 41]), 'in_features': 28, 'out_features': 10}\n"
     ]
    },
    {
     "name": "stderr",
     "output_type": "stream",
     "text": [
      "LOCAL_RANK: 0 - CUDA_VISIBLE_DEVICES: [3]\n"
     ]
    },
    {
     "data": {
      "application/vnd.jupyter.widget-view+json": {
       "model_id": "9f042d023c70403289ff1670fb66f215",
       "version_major": 2,
       "version_minor": 0
      },
      "text/plain": [
       "Predicting: 0it [00:00, ?it/s]"
      ]
     },
     "metadata": {},
     "output_type": "display_data"
    },
    {
     "name": "stderr",
     "output_type": "stream",
     "text": [
      "Global seed set to 2\n",
      "No pretrained weights exist or were found for this model. Using random initialization.\n",
      "Global seed set to 1\n",
      "GPU available: True, used: True\n",
      "TPU available: False, using: 0 TPU cores\n",
      "IPU available: False, using: 0 IPUs\n",
      "Global seed set to 0\n"
     ]
    },
    {
     "name": "stdout",
     "output_type": "stream",
     "text": [
      "{'training': True, '_parameters': OrderedDict(), '_buffers': OrderedDict(), '_non_persistent_buffers_set': set(), '_backward_hooks': OrderedDict(), '_is_full_backward_hook': None, '_forward_hooks': OrderedDict(), '_forward_pre_hooks': OrderedDict(), '_state_dict_hooks': OrderedDict(), '_load_state_dict_pre_hooks': OrderedDict(), '_load_state_dict_post_hooks': OrderedDict(), '_modules': OrderedDict([('linear', Linear(in_features=28, out_features=10, bias=True))]), 'neuron_indices': tensor([37, 60, 10, 61, 47, 32, 31, 63, 15,  6, 30, 33,  1, 36, 27, 48, 22, 26,\n",
      "        12, 35, 54, 59, 20, 14, 23, 40, 17,  7]), 'in_features': 28, 'out_features': 10}\n"
     ]
    },
    {
     "name": "stderr",
     "output_type": "stream",
     "text": [
      "LOCAL_RANK: 0 - CUDA_VISIBLE_DEVICES: [3]\n"
     ]
    },
    {
     "data": {
      "application/vnd.jupyter.widget-view+json": {
       "model_id": "d073893642fd48af9baaa181276880fe",
       "version_major": 2,
       "version_minor": 0
      },
      "text/plain": [
       "Predicting: 0it [00:00, ?it/s]"
      ]
     },
     "metadata": {},
     "output_type": "display_data"
    },
    {
     "name": "stderr",
     "output_type": "stream",
     "text": [
      "Global seed set to 2\n",
      "No pretrained weights exist or were found for this model. Using random initialization.\n",
      "Global seed set to 5\n",
      "GPU available: True, used: True\n",
      "TPU available: False, using: 0 TPU cores\n",
      "IPU available: False, using: 0 IPUs\n",
      "Global seed set to 0\n"
     ]
    },
    {
     "name": "stdout",
     "output_type": "stream",
     "text": [
      "{'training': True, '_parameters': OrderedDict(), '_buffers': OrderedDict(), '_non_persistent_buffers_set': set(), '_backward_hooks': OrderedDict(), '_is_full_backward_hook': None, '_forward_hooks': OrderedDict(), '_forward_pre_hooks': OrderedDict(), '_state_dict_hooks': OrderedDict(), '_load_state_dict_pre_hooks': OrderedDict(), '_load_state_dict_post_hooks': OrderedDict(), '_modules': OrderedDict([('linear', Linear(in_features=28, out_features=10, bias=True))]), 'neuron_indices': tensor([35, 13, 53, 17, 30, 26, 24, 51, 48,  2, 47, 38,  7,  6, 32, 11, 55, 12,\n",
      "        16, 23, 57, 43, 22, 44, 28, 15, 45, 42]), 'in_features': 28, 'out_features': 10}\n"
     ]
    },
    {
     "name": "stderr",
     "output_type": "stream",
     "text": [
      "LOCAL_RANK: 0 - CUDA_VISIBLE_DEVICES: [3]\n"
     ]
    },
    {
     "data": {
      "application/vnd.jupyter.widget-view+json": {
       "model_id": "505ffac430b947adab49934bb70be243",
       "version_major": 2,
       "version_minor": 0
      },
      "text/plain": [
       "Predicting: 0it [00:00, ?it/s]"
      ]
     },
     "metadata": {},
     "output_type": "display_data"
    },
    {
     "name": "stderr",
     "output_type": "stream",
     "text": [
      "Global seed set to 2\n",
      "No pretrained weights exist or were found for this model. Using random initialization.\n",
      "Global seed set to 2\n",
      "GPU available: True, used: True\n",
      "TPU available: False, using: 0 TPU cores\n",
      "IPU available: False, using: 0 IPUs\n",
      "Global seed set to 0\n"
     ]
    },
    {
     "name": "stdout",
     "output_type": "stream",
     "text": [
      "{'training': True, '_parameters': OrderedDict(), '_buffers': OrderedDict(), '_non_persistent_buffers_set': set(), '_backward_hooks': OrderedDict(), '_is_full_backward_hook': None, '_forward_hooks': OrderedDict(), '_forward_pre_hooks': OrderedDict(), '_state_dict_hooks': OrderedDict(), '_load_state_dict_pre_hooks': OrderedDict(), '_load_state_dict_post_hooks': OrderedDict(), '_modules': OrderedDict([('linear', Linear(in_features=28, out_features=10, bias=True))]), 'neuron_indices': tensor([40, 25, 55,  7, 42, 34, 24, 35,  0, 15, 52, 56, 39, 11, 29, 30, 47, 50,\n",
      "        22,  5,  8, 32, 23, 62,  3, 43, 46, 28]), 'in_features': 28, 'out_features': 10}\n"
     ]
    },
    {
     "name": "stderr",
     "output_type": "stream",
     "text": [
      "LOCAL_RANK: 0 - CUDA_VISIBLE_DEVICES: [3]\n"
     ]
    },
    {
     "data": {
      "application/vnd.jupyter.widget-view+json": {
       "model_id": "ce6de0d6918b4a48beeaa7902eec0544",
       "version_major": 2,
       "version_minor": 0
      },
      "text/plain": [
       "Predicting: 0it [00:00, ?it/s]"
      ]
     },
     "metadata": {},
     "output_type": "display_data"
    },
    {
     "name": "stderr",
     "output_type": "stream",
     "text": [
      "Global seed set to 2\n",
      "No pretrained weights exist or were found for this model. Using random initialization.\n",
      "Global seed set to 1\n",
      "GPU available: True, used: True\n",
      "TPU available: False, using: 0 TPU cores\n",
      "IPU available: False, using: 0 IPUs\n",
      "Global seed set to 0\n"
     ]
    },
    {
     "name": "stdout",
     "output_type": "stream",
     "text": [
      "{'training': True, '_parameters': OrderedDict(), '_buffers': OrderedDict(), '_non_persistent_buffers_set': set(), '_backward_hooks': OrderedDict(), '_is_full_backward_hook': None, '_forward_hooks': OrderedDict(), '_forward_pre_hooks': OrderedDict(), '_state_dict_hooks': OrderedDict(), '_load_state_dict_pre_hooks': OrderedDict(), '_load_state_dict_post_hooks': OrderedDict(), '_modules': OrderedDict([('linear', Linear(in_features=40, out_features=10, bias=True))]), 'neuron_indices': tensor([37, 60, 10, 61, 47, 32, 31, 63, 15,  6, 30, 33,  1, 36, 27, 48, 22, 26,\n",
      "        12, 35, 54, 59, 20, 14, 23, 40, 17,  7, 45,  8,  2, 39, 55, 50, 41,  5,\n",
      "         4,  3, 38, 49]), 'in_features': 40, 'out_features': 10}\n"
     ]
    },
    {
     "name": "stderr",
     "output_type": "stream",
     "text": [
      "LOCAL_RANK: 0 - CUDA_VISIBLE_DEVICES: [3]\n"
     ]
    },
    {
     "data": {
      "application/vnd.jupyter.widget-view+json": {
       "model_id": "49cfc5fc166e42b3a3aeba8087f9662d",
       "version_major": 2,
       "version_minor": 0
      },
      "text/plain": [
       "Predicting: 0it [00:00, ?it/s]"
      ]
     },
     "metadata": {},
     "output_type": "display_data"
    },
    {
     "name": "stderr",
     "output_type": "stream",
     "text": [
      "Global seed set to 2\n",
      "No pretrained weights exist or were found for this model. Using random initialization.\n",
      "Global seed set to 5\n",
      "GPU available: True, used: True\n",
      "TPU available: False, using: 0 TPU cores\n",
      "IPU available: False, using: 0 IPUs\n",
      "Global seed set to 0\n"
     ]
    },
    {
     "name": "stdout",
     "output_type": "stream",
     "text": [
      "{'training': True, '_parameters': OrderedDict(), '_buffers': OrderedDict(), '_non_persistent_buffers_set': set(), '_backward_hooks': OrderedDict(), '_is_full_backward_hook': None, '_forward_hooks': OrderedDict(), '_forward_pre_hooks': OrderedDict(), '_state_dict_hooks': OrderedDict(), '_load_state_dict_pre_hooks': OrderedDict(), '_load_state_dict_post_hooks': OrderedDict(), '_modules': OrderedDict([('linear', Linear(in_features=40, out_features=10, bias=True))]), 'neuron_indices': tensor([35, 13, 53, 17, 30, 26, 24, 51, 48,  2, 47, 38,  7,  6, 32, 11, 55, 12,\n",
      "        16, 23, 57, 43, 22, 44, 28, 15, 45, 42, 39, 18,  4, 54, 61, 21, 19, 27,\n",
      "        41,  0, 10,  8]), 'in_features': 40, 'out_features': 10}\n"
     ]
    },
    {
     "name": "stderr",
     "output_type": "stream",
     "text": [
      "LOCAL_RANK: 0 - CUDA_VISIBLE_DEVICES: [3]\n"
     ]
    },
    {
     "data": {
      "application/vnd.jupyter.widget-view+json": {
       "model_id": "b066a079cd3a4fe2b8df7aead3503908",
       "version_major": 2,
       "version_minor": 0
      },
      "text/plain": [
       "Predicting: 0it [00:00, ?it/s]"
      ]
     },
     "metadata": {},
     "output_type": "display_data"
    },
    {
     "name": "stderr",
     "output_type": "stream",
     "text": [
      "Global seed set to 2\n",
      "No pretrained weights exist or were found for this model. Using random initialization.\n",
      "Global seed set to 2\n",
      "GPU available: True, used: True\n",
      "TPU available: False, using: 0 TPU cores\n",
      "IPU available: False, using: 0 IPUs\n",
      "Global seed set to 0\n"
     ]
    },
    {
     "name": "stdout",
     "output_type": "stream",
     "text": [
      "{'training': True, '_parameters': OrderedDict(), '_buffers': OrderedDict(), '_non_persistent_buffers_set': set(), '_backward_hooks': OrderedDict(), '_is_full_backward_hook': None, '_forward_hooks': OrderedDict(), '_forward_pre_hooks': OrderedDict(), '_state_dict_hooks': OrderedDict(), '_load_state_dict_pre_hooks': OrderedDict(), '_load_state_dict_post_hooks': OrderedDict(), '_modules': OrderedDict([('linear', Linear(in_features=40, out_features=10, bias=True))]), 'neuron_indices': tensor([40, 25, 55,  7, 42, 34, 24, 35,  0, 15, 52, 56, 39, 11, 29, 30, 47, 50,\n",
      "        22,  5,  8, 32, 23, 62,  3, 43, 46, 28,  2, 57, 37, 14,  4, 48, 20, 19,\n",
      "        12, 58, 63, 44]), 'in_features': 40, 'out_features': 10}\n"
     ]
    },
    {
     "name": "stderr",
     "output_type": "stream",
     "text": [
      "LOCAL_RANK: 0 - CUDA_VISIBLE_DEVICES: [3]\n"
     ]
    },
    {
     "data": {
      "application/vnd.jupyter.widget-view+json": {
       "model_id": "e08bd498d9a74a9881561b02b2c42005",
       "version_major": 2,
       "version_minor": 0
      },
      "text/plain": [
       "Predicting: 0it [00:00, ?it/s]"
      ]
     },
     "metadata": {},
     "output_type": "display_data"
    },
    {
     "name": "stderr",
     "output_type": "stream",
     "text": [
      "Global seed set to 2\n",
      "No pretrained weights exist or were found for this model. Using random initialization.\n",
      "Global seed set to 3\n",
      "GPU available: True, used: True\n",
      "TPU available: False, using: 0 TPU cores\n",
      "IPU available: False, using: 0 IPUs\n",
      "Global seed set to 0\n"
     ]
    },
    {
     "name": "stdout",
     "output_type": "stream",
     "text": [
      "{'training': True, '_parameters': OrderedDict(), '_buffers': OrderedDict(), '_non_persistent_buffers_set': set(), '_backward_hooks': OrderedDict(), '_is_full_backward_hook': None, '_forward_hooks': OrderedDict(), '_forward_pre_hooks': OrderedDict(), '_state_dict_hooks': OrderedDict(), '_load_state_dict_pre_hooks': OrderedDict(), '_load_state_dict_post_hooks': OrderedDict(), '_modules': OrderedDict([('linear', Linear(in_features=40, out_features=10, bias=True))]), 'neuron_indices': tensor([42, 60, 49,  6, 44,  7, 38, 15, 13, 28, 62, 50, 17, 33, 11, 12, 55,  9,\n",
      "         4, 63, 18, 14, 16, 29, 56, 51, 27, 25, 21, 59,  0, 24,  1, 35, 43, 45,\n",
      "         2, 20, 48, 22]), 'in_features': 40, 'out_features': 10}\n"
     ]
    },
    {
     "name": "stderr",
     "output_type": "stream",
     "text": [
      "LOCAL_RANK: 0 - CUDA_VISIBLE_DEVICES: [3]\n"
     ]
    },
    {
     "data": {
      "application/vnd.jupyter.widget-view+json": {
       "model_id": "6dd97663d01445538c108fe4b44617e2",
       "version_major": 2,
       "version_minor": 0
      },
      "text/plain": [
       "Predicting: 0it [00:00, ?it/s]"
      ]
     },
     "metadata": {},
     "output_type": "display_data"
    },
    {
     "name": "stderr",
     "output_type": "stream",
     "text": [
      "Global seed set to 2\n",
      "No pretrained weights exist or were found for this model. Using random initialization.\n",
      "Global seed set to 4\n",
      "GPU available: True, used: True\n",
      "TPU available: False, using: 0 TPU cores\n",
      "IPU available: False, using: 0 IPUs\n",
      "Global seed set to 0\n"
     ]
    },
    {
     "name": "stdout",
     "output_type": "stream",
     "text": [
      "{'training': True, '_parameters': OrderedDict(), '_buffers': OrderedDict(), '_non_persistent_buffers_set': set(), '_backward_hooks': OrderedDict(), '_is_full_backward_hook': None, '_forward_hooks': OrderedDict(), '_forward_pre_hooks': OrderedDict(), '_state_dict_hooks': OrderedDict(), '_load_state_dict_pre_hooks': OrderedDict(), '_load_state_dict_post_hooks': OrderedDict(), '_modules': OrderedDict([('linear', Linear(in_features=40, out_features=10, bias=True))]), 'neuron_indices': tensor([58, 49, 25, 60, 13, 11, 51, 14, 34, 10, 50, 63, 15,  9,  7, 57, 39, 45,\n",
      "        62, 36, 30, 28, 24, 18, 26, 29, 53, 41, 31, 56, 27, 16, 38, 32, 48, 54,\n",
      "        42, 44, 61, 22]), 'in_features': 40, 'out_features': 10}\n"
     ]
    },
    {
     "name": "stderr",
     "output_type": "stream",
     "text": [
      "LOCAL_RANK: 0 - CUDA_VISIBLE_DEVICES: [3]\n"
     ]
    },
    {
     "data": {
      "application/vnd.jupyter.widget-view+json": {
       "model_id": "662f811ead4148dbbded02f3652846d7",
       "version_major": 2,
       "version_minor": 0
      },
      "text/plain": [
       "Predicting: 0it [00:00, ?it/s]"
      ]
     },
     "metadata": {},
     "output_type": "display_data"
    },
    {
     "name": "stderr",
     "output_type": "stream",
     "text": [
      "Global seed set to 2\n",
      "No pretrained weights exist or were found for this model. Using random initialization.\n",
      "Global seed set to 3\n",
      "GPU available: True, used: True\n",
      "TPU available: False, using: 0 TPU cores\n",
      "IPU available: False, using: 0 IPUs\n",
      "Global seed set to 0\n"
     ]
    },
    {
     "name": "stdout",
     "output_type": "stream",
     "text": [
      "{'training': True, '_parameters': OrderedDict(), '_buffers': OrderedDict(), '_non_persistent_buffers_set': set(), '_backward_hooks': OrderedDict(), '_is_full_backward_hook': None, '_forward_hooks': OrderedDict(), '_forward_pre_hooks': OrderedDict(), '_state_dict_hooks': OrderedDict(), '_load_state_dict_pre_hooks': OrderedDict(), '_load_state_dict_post_hooks': OrderedDict(), '_modules': OrderedDict([('linear', Linear(in_features=45, out_features=10, bias=True))]), 'neuron_indices': tensor([42, 60, 49,  6, 44,  7, 38, 15, 13, 28, 62, 50, 17, 33, 11, 12, 55,  9,\n",
      "         4, 63, 18, 14, 16, 29, 56, 51, 27, 25, 21, 59,  0, 24,  1, 35, 43, 45,\n",
      "         2, 20, 48, 22, 53, 52,  3, 61, 58]), 'in_features': 45, 'out_features': 10}\n"
     ]
    },
    {
     "name": "stderr",
     "output_type": "stream",
     "text": [
      "LOCAL_RANK: 0 - CUDA_VISIBLE_DEVICES: [3]\n"
     ]
    },
    {
     "data": {
      "application/vnd.jupyter.widget-view+json": {
       "model_id": "ef174f5367f64a75bde952c0d7e08b99",
       "version_major": 2,
       "version_minor": 0
      },
      "text/plain": [
       "Predicting: 0it [00:00, ?it/s]"
      ]
     },
     "metadata": {},
     "output_type": "display_data"
    },
    {
     "name": "stderr",
     "output_type": "stream",
     "text": [
      "Global seed set to 2\n",
      "No pretrained weights exist or were found for this model. Using random initialization.\n",
      "Global seed set to 4\n",
      "GPU available: True, used: True\n",
      "TPU available: False, using: 0 TPU cores\n",
      "IPU available: False, using: 0 IPUs\n",
      "Global seed set to 0\n"
     ]
    },
    {
     "name": "stdout",
     "output_type": "stream",
     "text": [
      "{'training': True, '_parameters': OrderedDict(), '_buffers': OrderedDict(), '_non_persistent_buffers_set': set(), '_backward_hooks': OrderedDict(), '_is_full_backward_hook': None, '_forward_hooks': OrderedDict(), '_forward_pre_hooks': OrderedDict(), '_state_dict_hooks': OrderedDict(), '_load_state_dict_pre_hooks': OrderedDict(), '_load_state_dict_post_hooks': OrderedDict(), '_modules': OrderedDict([('linear', Linear(in_features=45, out_features=10, bias=True))]), 'neuron_indices': tensor([58, 49, 25, 60, 13, 11, 51, 14, 34, 10, 50, 63, 15,  9,  7, 57, 39, 45,\n",
      "        62, 36, 30, 28, 24, 18, 26, 29, 53, 41, 31, 56, 27, 16, 38, 32, 48, 54,\n",
      "        42, 44, 61, 22, 40, 35,  3,  8,  6]), 'in_features': 45, 'out_features': 10}\n"
     ]
    },
    {
     "name": "stderr",
     "output_type": "stream",
     "text": [
      "LOCAL_RANK: 0 - CUDA_VISIBLE_DEVICES: [3]\n"
     ]
    },
    {
     "data": {
      "application/vnd.jupyter.widget-view+json": {
       "model_id": "157bd005b5b5450b8491119ea5371483",
       "version_major": 2,
       "version_minor": 0
      },
      "text/plain": [
       "Predicting: 0it [00:00, ?it/s]"
      ]
     },
     "metadata": {},
     "output_type": "display_data"
    },
    {
     "name": "stderr",
     "output_type": "stream",
     "text": [
      "Global seed set to 2\n",
      "No pretrained weights exist or were found for this model. Using random initialization.\n",
      "Global seed set to 1\n",
      "GPU available: True, used: True\n",
      "TPU available: False, using: 0 TPU cores\n",
      "IPU available: False, using: 0 IPUs\n",
      "Global seed set to 0\n"
     ]
    },
    {
     "name": "stdout",
     "output_type": "stream",
     "text": [
      "{'training': True, '_parameters': OrderedDict(), '_buffers': OrderedDict(), '_non_persistent_buffers_set': set(), '_backward_hooks': OrderedDict(), '_is_full_backward_hook': None, '_forward_hooks': OrderedDict(), '_forward_pre_hooks': OrderedDict(), '_state_dict_hooks': OrderedDict(), '_load_state_dict_pre_hooks': OrderedDict(), '_load_state_dict_post_hooks': OrderedDict(), '_modules': OrderedDict([('linear', Linear(in_features=45, out_features=10, bias=True))]), 'neuron_indices': tensor([37, 60, 10, 61, 47, 32, 31, 63, 15,  6, 30, 33,  1, 36, 27, 48, 22, 26,\n",
      "        12, 35, 54, 59, 20, 14, 23, 40, 17,  7, 45,  8,  2, 39, 55, 50, 41,  5,\n",
      "         4,  3, 38, 49,  0, 16, 19, 34, 13]), 'in_features': 45, 'out_features': 10}\n"
     ]
    },
    {
     "name": "stderr",
     "output_type": "stream",
     "text": [
      "LOCAL_RANK: 0 - CUDA_VISIBLE_DEVICES: [3]\n"
     ]
    },
    {
     "data": {
      "application/vnd.jupyter.widget-view+json": {
       "model_id": "928036afb4474906b2783154197e1d75",
       "version_major": 2,
       "version_minor": 0
      },
      "text/plain": [
       "Predicting: 0it [00:00, ?it/s]"
      ]
     },
     "metadata": {},
     "output_type": "display_data"
    },
    {
     "name": "stderr",
     "output_type": "stream",
     "text": [
      "Global seed set to 2\n",
      "No pretrained weights exist or were found for this model. Using random initialization.\n",
      "Global seed set to 5\n",
      "GPU available: True, used: True\n",
      "TPU available: False, using: 0 TPU cores\n",
      "IPU available: False, using: 0 IPUs\n",
      "Global seed set to 0\n"
     ]
    },
    {
     "name": "stdout",
     "output_type": "stream",
     "text": [
      "{'training': True, '_parameters': OrderedDict(), '_buffers': OrderedDict(), '_non_persistent_buffers_set': set(), '_backward_hooks': OrderedDict(), '_is_full_backward_hook': None, '_forward_hooks': OrderedDict(), '_forward_pre_hooks': OrderedDict(), '_state_dict_hooks': OrderedDict(), '_load_state_dict_pre_hooks': OrderedDict(), '_load_state_dict_post_hooks': OrderedDict(), '_modules': OrderedDict([('linear', Linear(in_features=45, out_features=10, bias=True))]), 'neuron_indices': tensor([35, 13, 53, 17, 30, 26, 24, 51, 48,  2, 47, 38,  7,  6, 32, 11, 55, 12,\n",
      "        16, 23, 57, 43, 22, 44, 28, 15, 45, 42, 39, 18,  4, 54, 61, 21, 19, 27,\n",
      "        41,  0, 10,  8, 62, 14, 37, 63, 34]), 'in_features': 45, 'out_features': 10}\n"
     ]
    },
    {
     "name": "stderr",
     "output_type": "stream",
     "text": [
      "LOCAL_RANK: 0 - CUDA_VISIBLE_DEVICES: [3]\n"
     ]
    },
    {
     "data": {
      "application/vnd.jupyter.widget-view+json": {
       "model_id": "1169b7a1511f4675832ba3f99e0bdc3f",
       "version_major": 2,
       "version_minor": 0
      },
      "text/plain": [
       "Predicting: 0it [00:00, ?it/s]"
      ]
     },
     "metadata": {},
     "output_type": "display_data"
    },
    {
     "name": "stderr",
     "output_type": "stream",
     "text": [
      "Global seed set to 2\n",
      "No pretrained weights exist or were found for this model. Using random initialization.\n",
      "Global seed set to 2\n",
      "GPU available: True, used: True\n",
      "TPU available: False, using: 0 TPU cores\n",
      "IPU available: False, using: 0 IPUs\n",
      "Global seed set to 0\n"
     ]
    },
    {
     "name": "stdout",
     "output_type": "stream",
     "text": [
      "{'training': True, '_parameters': OrderedDict(), '_buffers': OrderedDict(), '_non_persistent_buffers_set': set(), '_backward_hooks': OrderedDict(), '_is_full_backward_hook': None, '_forward_hooks': OrderedDict(), '_forward_pre_hooks': OrderedDict(), '_state_dict_hooks': OrderedDict(), '_load_state_dict_pre_hooks': OrderedDict(), '_load_state_dict_post_hooks': OrderedDict(), '_modules': OrderedDict([('linear', Linear(in_features=45, out_features=10, bias=True))]), 'neuron_indices': tensor([40, 25, 55,  7, 42, 34, 24, 35,  0, 15, 52, 56, 39, 11, 29, 30, 47, 50,\n",
      "        22,  5,  8, 32, 23, 62,  3, 43, 46, 28,  2, 57, 37, 14,  4, 48, 20, 19,\n",
      "        12, 58, 63, 44, 10, 18, 21, 51, 27]), 'in_features': 45, 'out_features': 10}\n"
     ]
    },
    {
     "name": "stderr",
     "output_type": "stream",
     "text": [
      "LOCAL_RANK: 0 - CUDA_VISIBLE_DEVICES: [3]\n"
     ]
    },
    {
     "data": {
      "application/vnd.jupyter.widget-view+json": {
       "model_id": "13c7482aa66849e4b7d775b4688a1364",
       "version_major": 2,
       "version_minor": 0
      },
      "text/plain": [
       "Predicting: 0it [00:00, ?it/s]"
      ]
     },
     "metadata": {},
     "output_type": "display_data"
    },
    {
     "name": "stderr",
     "output_type": "stream",
     "text": [
      "Global seed set to 2\n",
      "No pretrained weights exist or were found for this model. Using random initialization.\n",
      "Global seed set to 1\n",
      "GPU available: True, used: True\n",
      "TPU available: False, using: 0 TPU cores\n",
      "IPU available: False, using: 0 IPUs\n",
      "Global seed set to 0\n"
     ]
    },
    {
     "name": "stdout",
     "output_type": "stream",
     "text": [
      "{'training': True, '_parameters': OrderedDict(), '_buffers': OrderedDict(), '_non_persistent_buffers_set': set(), '_backward_hooks': OrderedDict(), '_is_full_backward_hook': None, '_forward_hooks': OrderedDict(), '_forward_pre_hooks': OrderedDict(), '_state_dict_hooks': OrderedDict(), '_load_state_dict_pre_hooks': OrderedDict(), '_load_state_dict_post_hooks': OrderedDict(), '_modules': OrderedDict([('linear', Linear(in_features=58, out_features=10, bias=True))]), 'neuron_indices': tensor([37, 60, 10, 61, 47, 32, 31, 63, 15,  6, 30, 33,  1, 36, 27, 48, 22, 26,\n",
      "        12, 35, 54, 59, 20, 14, 23, 40, 17,  7, 45,  8,  2, 39, 55, 50, 41,  5,\n",
      "         4,  3, 38, 49,  0, 16, 19, 34, 13, 57, 46, 56,  9, 53, 58, 42, 44, 51,\n",
      "        29, 62, 24, 21]), 'in_features': 58, 'out_features': 10}\n"
     ]
    },
    {
     "name": "stderr",
     "output_type": "stream",
     "text": [
      "LOCAL_RANK: 0 - CUDA_VISIBLE_DEVICES: [3]\n"
     ]
    },
    {
     "data": {
      "application/vnd.jupyter.widget-view+json": {
       "model_id": "cf9cad89d05c45e0bc411e3ef31b89a0",
       "version_major": 2,
       "version_minor": 0
      },
      "text/plain": [
       "Predicting: 0it [00:00, ?it/s]"
      ]
     },
     "metadata": {},
     "output_type": "display_data"
    },
    {
     "name": "stderr",
     "output_type": "stream",
     "text": [
      "Global seed set to 2\n",
      "No pretrained weights exist or were found for this model. Using random initialization.\n",
      "Global seed set to 2\n",
      "GPU available: True, used: True\n",
      "TPU available: False, using: 0 TPU cores\n",
      "IPU available: False, using: 0 IPUs\n",
      "Global seed set to 0\n"
     ]
    },
    {
     "name": "stdout",
     "output_type": "stream",
     "text": [
      "{'training': True, '_parameters': OrderedDict(), '_buffers': OrderedDict(), '_non_persistent_buffers_set': set(), '_backward_hooks': OrderedDict(), '_is_full_backward_hook': None, '_forward_hooks': OrderedDict(), '_forward_pre_hooks': OrderedDict(), '_state_dict_hooks': OrderedDict(), '_load_state_dict_pre_hooks': OrderedDict(), '_load_state_dict_post_hooks': OrderedDict(), '_modules': OrderedDict([('linear', Linear(in_features=58, out_features=10, bias=True))]), 'neuron_indices': tensor([40, 25, 55,  7, 42, 34, 24, 35,  0, 15, 52, 56, 39, 11, 29, 30, 47, 50,\n",
      "        22,  5,  8, 32, 23, 62,  3, 43, 46, 28,  2, 57, 37, 14,  4, 48, 20, 19,\n",
      "        12, 58, 63, 44, 10, 18, 21, 51, 27,  6, 16, 41, 33, 45,  9, 60, 26, 49,\n",
      "        53, 38, 36, 17]), 'in_features': 58, 'out_features': 10}\n"
     ]
    },
    {
     "name": "stderr",
     "output_type": "stream",
     "text": [
      "LOCAL_RANK: 0 - CUDA_VISIBLE_DEVICES: [3]\n"
     ]
    },
    {
     "data": {
      "application/vnd.jupyter.widget-view+json": {
       "model_id": "62deb713df77437db754813ced2594e1",
       "version_major": 2,
       "version_minor": 0
      },
      "text/plain": [
       "Predicting: 0it [00:00, ?it/s]"
      ]
     },
     "metadata": {},
     "output_type": "display_data"
    },
    {
     "name": "stderr",
     "output_type": "stream",
     "text": [
      "Global seed set to 2\n",
      "No pretrained weights exist or were found for this model. Using random initialization.\n",
      "Global seed set to 5\n",
      "GPU available: True, used: True\n",
      "TPU available: False, using: 0 TPU cores\n",
      "IPU available: False, using: 0 IPUs\n",
      "Global seed set to 0\n"
     ]
    },
    {
     "name": "stdout",
     "output_type": "stream",
     "text": [
      "{'training': True, '_parameters': OrderedDict(), '_buffers': OrderedDict(), '_non_persistent_buffers_set': set(), '_backward_hooks': OrderedDict(), '_is_full_backward_hook': None, '_forward_hooks': OrderedDict(), '_forward_pre_hooks': OrderedDict(), '_state_dict_hooks': OrderedDict(), '_load_state_dict_pre_hooks': OrderedDict(), '_load_state_dict_post_hooks': OrderedDict(), '_modules': OrderedDict([('linear', Linear(in_features=58, out_features=10, bias=True))]), 'neuron_indices': tensor([35, 13, 53, 17, 30, 26, 24, 51, 48,  2, 47, 38,  7,  6, 32, 11, 55, 12,\n",
      "        16, 23, 57, 43, 22, 44, 28, 15, 45, 42, 39, 18,  4, 54, 61, 21, 19, 27,\n",
      "        41,  0, 10,  8, 62, 14, 37, 63, 34, 46, 20, 59,  1, 25, 56, 29, 60,  3,\n",
      "        33, 31,  9, 50]), 'in_features': 58, 'out_features': 10}\n"
     ]
    },
    {
     "name": "stderr",
     "output_type": "stream",
     "text": [
      "LOCAL_RANK: 0 - CUDA_VISIBLE_DEVICES: [3]\n"
     ]
    },
    {
     "data": {
      "application/vnd.jupyter.widget-view+json": {
       "model_id": "ff5ae6ec64a0421ea33111722dfe3347",
       "version_major": 2,
       "version_minor": 0
      },
      "text/plain": [
       "Predicting: 0it [00:00, ?it/s]"
      ]
     },
     "metadata": {},
     "output_type": "display_data"
    },
    {
     "name": "stderr",
     "output_type": "stream",
     "text": [
      "Global seed set to 2\n",
      "No pretrained weights exist or were found for this model. Using random initialization.\n",
      "Global seed set to 4\n",
      "GPU available: True, used: True\n",
      "TPU available: False, using: 0 TPU cores\n",
      "IPU available: False, using: 0 IPUs\n",
      "Global seed set to 0\n"
     ]
    },
    {
     "name": "stdout",
     "output_type": "stream",
     "text": [
      "{'training': True, '_parameters': OrderedDict(), '_buffers': OrderedDict(), '_non_persistent_buffers_set': set(), '_backward_hooks': OrderedDict(), '_is_full_backward_hook': None, '_forward_hooks': OrderedDict(), '_forward_pre_hooks': OrderedDict(), '_state_dict_hooks': OrderedDict(), '_load_state_dict_pre_hooks': OrderedDict(), '_load_state_dict_post_hooks': OrderedDict(), '_modules': OrderedDict([('linear', Linear(in_features=58, out_features=10, bias=True))]), 'neuron_indices': tensor([58, 49, 25, 60, 13, 11, 51, 14, 34, 10, 50, 63, 15,  9,  7, 57, 39, 45,\n",
      "        62, 36, 30, 28, 24, 18, 26, 29, 53, 41, 31, 56, 27, 16, 38, 32, 48, 54,\n",
      "        42, 44, 61, 22, 40, 35,  3,  8,  6, 52, 19, 43,  0,  2, 59,  1, 20, 33,\n",
      "        46, 37, 47,  5]), 'in_features': 58, 'out_features': 10}\n"
     ]
    },
    {
     "name": "stderr",
     "output_type": "stream",
     "text": [
      "LOCAL_RANK: 0 - CUDA_VISIBLE_DEVICES: [3]\n"
     ]
    },
    {
     "data": {
      "application/vnd.jupyter.widget-view+json": {
       "model_id": "c93df5b9098b4f8f8fa781d88e6db6aa",
       "version_major": 2,
       "version_minor": 0
      },
      "text/plain": [
       "Predicting: 0it [00:00, ?it/s]"
      ]
     },
     "metadata": {},
     "output_type": "display_data"
    },
    {
     "name": "stderr",
     "output_type": "stream",
     "text": [
      "Global seed set to 2\n",
      "No pretrained weights exist or were found for this model. Using random initialization.\n",
      "Global seed set to 3\n",
      "GPU available: True, used: True\n",
      "TPU available: False, using: 0 TPU cores\n",
      "IPU available: False, using: 0 IPUs\n",
      "Global seed set to 0\n"
     ]
    },
    {
     "name": "stdout",
     "output_type": "stream",
     "text": [
      "{'training': True, '_parameters': OrderedDict(), '_buffers': OrderedDict(), '_non_persistent_buffers_set': set(), '_backward_hooks': OrderedDict(), '_is_full_backward_hook': None, '_forward_hooks': OrderedDict(), '_forward_pre_hooks': OrderedDict(), '_state_dict_hooks': OrderedDict(), '_load_state_dict_pre_hooks': OrderedDict(), '_load_state_dict_post_hooks': OrderedDict(), '_modules': OrderedDict([('linear', Linear(in_features=58, out_features=10, bias=True))]), 'neuron_indices': tensor([42, 60, 49,  6, 44,  7, 38, 15, 13, 28, 62, 50, 17, 33, 11, 12, 55,  9,\n",
      "         4, 63, 18, 14, 16, 29, 56, 51, 27, 25, 21, 59,  0, 24,  1, 35, 43, 45,\n",
      "         2, 20, 48, 22, 53, 52,  3, 61, 58, 31, 10,  5, 36, 39, 34, 37, 40, 30,\n",
      "        26, 23, 47, 19]), 'in_features': 58, 'out_features': 10}\n"
     ]
    },
    {
     "name": "stderr",
     "output_type": "stream",
     "text": [
      "LOCAL_RANK: 0 - CUDA_VISIBLE_DEVICES: [3]\n"
     ]
    },
    {
     "data": {
      "application/vnd.jupyter.widget-view+json": {
       "model_id": "ebbfec648029459b9f3e262d71a2d545",
       "version_major": 2,
       "version_minor": 0
      },
      "text/plain": [
       "Predicting: 0it [00:00, ?it/s]"
      ]
     },
     "metadata": {},
     "output_type": "display_data"
    },
    {
     "name": "stderr",
     "output_type": "stream",
     "text": [
      "Global seed set to 2\n",
      "No pretrained weights exist or were found for this model. Using random initialization.\n",
      "Global seed set to 1\n",
      "GPU available: True, used: True\n",
      "TPU available: False, using: 0 TPU cores\n",
      "IPU available: False, using: 0 IPUs\n",
      "Global seed set to 0\n"
     ]
    },
    {
     "name": "stdout",
     "output_type": "stream",
     "text": [
      "{'training': True, '_parameters': OrderedDict(), '_buffers': OrderedDict(), '_non_persistent_buffers_set': set(), '_backward_hooks': OrderedDict(), '_is_full_backward_hook': None, '_forward_hooks': OrderedDict(), '_forward_pre_hooks': OrderedDict(), '_state_dict_hooks': OrderedDict(), '_load_state_dict_pre_hooks': OrderedDict(), '_load_state_dict_post_hooks': OrderedDict(), '_modules': OrderedDict([('linear', Linear(in_features=2, out_features=10, bias=True))]), 'neuron_indices': tensor([ 5, 26]), 'in_features': 2, 'out_features': 10}\n"
     ]
    },
    {
     "name": "stderr",
     "output_type": "stream",
     "text": [
      "LOCAL_RANK: 0 - CUDA_VISIBLE_DEVICES: [3]\n"
     ]
    },
    {
     "data": {
      "application/vnd.jupyter.widget-view+json": {
       "model_id": "524fa7669a0a4a0e98afb6b8f13dd275",
       "version_major": 2,
       "version_minor": 0
      },
      "text/plain": [
       "Predicting: 0it [00:00, ?it/s]"
      ]
     },
     "metadata": {},
     "output_type": "display_data"
    },
    {
     "name": "stderr",
     "output_type": "stream",
     "text": [
      "Global seed set to 2\n",
      "No pretrained weights exist or were found for this model. Using random initialization.\n",
      "Global seed set to 2\n",
      "GPU available: True, used: True\n",
      "TPU available: False, using: 0 TPU cores\n",
      "IPU available: False, using: 0 IPUs\n",
      "Global seed set to 0\n"
     ]
    },
    {
     "name": "stdout",
     "output_type": "stream",
     "text": [
      "{'training': True, '_parameters': OrderedDict(), '_buffers': OrderedDict(), '_non_persistent_buffers_set': set(), '_backward_hooks': OrderedDict(), '_is_full_backward_hook': None, '_forward_hooks': OrderedDict(), '_forward_pre_hooks': OrderedDict(), '_state_dict_hooks': OrderedDict(), '_load_state_dict_pre_hooks': OrderedDict(), '_load_state_dict_post_hooks': OrderedDict(), '_modules': OrderedDict([('linear', Linear(in_features=2, out_features=10, bias=True))]), 'neuron_indices': tensor([ 8, 20]), 'in_features': 2, 'out_features': 10}\n"
     ]
    },
    {
     "name": "stderr",
     "output_type": "stream",
     "text": [
      "LOCAL_RANK: 0 - CUDA_VISIBLE_DEVICES: [3]\n"
     ]
    },
    {
     "data": {
      "application/vnd.jupyter.widget-view+json": {
       "model_id": "77ecefb7d011402db3cd9b44331e7243",
       "version_major": 2,
       "version_minor": 0
      },
      "text/plain": [
       "Predicting: 0it [00:00, ?it/s]"
      ]
     },
     "metadata": {},
     "output_type": "display_data"
    },
    {
     "name": "stderr",
     "output_type": "stream",
     "text": [
      "Global seed set to 2\n",
      "No pretrained weights exist or were found for this model. Using random initialization.\n",
      "Global seed set to 3\n",
      "GPU available: True, used: True\n",
      "TPU available: False, using: 0 TPU cores\n",
      "IPU available: False, using: 0 IPUs\n",
      "Global seed set to 0\n"
     ]
    },
    {
     "name": "stdout",
     "output_type": "stream",
     "text": [
      "{'training': True, '_parameters': OrderedDict(), '_buffers': OrderedDict(), '_non_persistent_buffers_set': set(), '_backward_hooks': OrderedDict(), '_is_full_backward_hook': None, '_forward_hooks': OrderedDict(), '_forward_pre_hooks': OrderedDict(), '_state_dict_hooks': OrderedDict(), '_load_state_dict_pre_hooks': OrderedDict(), '_load_state_dict_post_hooks': OrderedDict(), '_modules': OrderedDict([('linear', Linear(in_features=2, out_features=10, bias=True))]), 'neuron_indices': tensor([10, 16]), 'in_features': 2, 'out_features': 10}\n"
     ]
    },
    {
     "name": "stderr",
     "output_type": "stream",
     "text": [
      "LOCAL_RANK: 0 - CUDA_VISIBLE_DEVICES: [3]\n"
     ]
    },
    {
     "data": {
      "application/vnd.jupyter.widget-view+json": {
       "model_id": "0c5d86ab238646cda7f04706e97df6bc",
       "version_major": 2,
       "version_minor": 0
      },
      "text/plain": [
       "Predicting: 0it [00:00, ?it/s]"
      ]
     },
     "metadata": {},
     "output_type": "display_data"
    },
    {
     "name": "stderr",
     "output_type": "stream",
     "text": [
      "Global seed set to 2\n",
      "No pretrained weights exist or were found for this model. Using random initialization.\n",
      "Global seed set to 4\n",
      "GPU available: True, used: True\n",
      "TPU available: False, using: 0 TPU cores\n",
      "IPU available: False, using: 0 IPUs\n",
      "Global seed set to 0\n"
     ]
    },
    {
     "name": "stdout",
     "output_type": "stream",
     "text": [
      "{'training': True, '_parameters': OrderedDict(), '_buffers': OrderedDict(), '_non_persistent_buffers_set': set(), '_backward_hooks': OrderedDict(), '_is_full_backward_hook': None, '_forward_hooks': OrderedDict(), '_forward_pre_hooks': OrderedDict(), '_state_dict_hooks': OrderedDict(), '_load_state_dict_pre_hooks': OrderedDict(), '_load_state_dict_post_hooks': OrderedDict(), '_modules': OrderedDict([('linear', Linear(in_features=2, out_features=10, bias=True))]), 'neuron_indices': tensor([26,  0]), 'in_features': 2, 'out_features': 10}\n"
     ]
    },
    {
     "name": "stderr",
     "output_type": "stream",
     "text": [
      "LOCAL_RANK: 0 - CUDA_VISIBLE_DEVICES: [3]\n"
     ]
    },
    {
     "data": {
      "application/vnd.jupyter.widget-view+json": {
       "model_id": "cc009d46b70a45b0b7147e4cba0209cc",
       "version_major": 2,
       "version_minor": 0
      },
      "text/plain": [
       "Predicting: 0it [00:00, ?it/s]"
      ]
     },
     "metadata": {},
     "output_type": "display_data"
    },
    {
     "name": "stderr",
     "output_type": "stream",
     "text": [
      "Global seed set to 2\n",
      "No pretrained weights exist or were found for this model. Using random initialization.\n",
      "Global seed set to 2\n",
      "GPU available: True, used: True\n",
      "TPU available: False, using: 0 TPU cores\n",
      "IPU available: False, using: 0 IPUs\n",
      "Global seed set to 0\n"
     ]
    },
    {
     "name": "stdout",
     "output_type": "stream",
     "text": [
      "{'training': True, '_parameters': OrderedDict(), '_buffers': OrderedDict(), '_non_persistent_buffers_set': set(), '_backward_hooks': OrderedDict(), '_is_full_backward_hook': None, '_forward_hooks': OrderedDict(), '_forward_pre_hooks': OrderedDict(), '_state_dict_hooks': OrderedDict(), '_load_state_dict_pre_hooks': OrderedDict(), '_load_state_dict_post_hooks': OrderedDict(), '_modules': OrderedDict([('linear', Linear(in_features=6, out_features=10, bias=True))]), 'neuron_indices': tensor([ 8, 20, 13,  1, 22, 17]), 'in_features': 6, 'out_features': 10}\n"
     ]
    },
    {
     "name": "stderr",
     "output_type": "stream",
     "text": [
      "LOCAL_RANK: 0 - CUDA_VISIBLE_DEVICES: [3]\n"
     ]
    },
    {
     "data": {
      "application/vnd.jupyter.widget-view+json": {
       "model_id": "fae186d6edbe4219b0c9fd442326da09",
       "version_major": 2,
       "version_minor": 0
      },
      "text/plain": [
       "Predicting: 0it [00:00, ?it/s]"
      ]
     },
     "metadata": {},
     "output_type": "display_data"
    },
    {
     "name": "stderr",
     "output_type": "stream",
     "text": [
      "Global seed set to 2\n",
      "No pretrained weights exist or were found for this model. Using random initialization.\n",
      "Global seed set to 1\n",
      "GPU available: True, used: True\n",
      "TPU available: False, using: 0 TPU cores\n",
      "IPU available: False, using: 0 IPUs\n",
      "Global seed set to 0\n"
     ]
    },
    {
     "name": "stdout",
     "output_type": "stream",
     "text": [
      "{'training': True, '_parameters': OrderedDict(), '_buffers': OrderedDict(), '_non_persistent_buffers_set': set(), '_backward_hooks': OrderedDict(), '_is_full_backward_hook': None, '_forward_hooks': OrderedDict(), '_forward_pre_hooks': OrderedDict(), '_state_dict_hooks': OrderedDict(), '_load_state_dict_pre_hooks': OrderedDict(), '_load_state_dict_post_hooks': OrderedDict(), '_modules': OrderedDict([('linear', Linear(in_features=6, out_features=10, bias=True))]), 'neuron_indices': tensor([ 5, 26,  1, 10,  7, 24]), 'in_features': 6, 'out_features': 10}\n"
     ]
    },
    {
     "name": "stderr",
     "output_type": "stream",
     "text": [
      "LOCAL_RANK: 0 - CUDA_VISIBLE_DEVICES: [3]\n"
     ]
    },
    {
     "data": {
      "application/vnd.jupyter.widget-view+json": {
       "model_id": "26b7d07cf8394ca99515f2abcb3a7c77",
       "version_major": 2,
       "version_minor": 0
      },
      "text/plain": [
       "Predicting: 0it [00:00, ?it/s]"
      ]
     },
     "metadata": {},
     "output_type": "display_data"
    },
    {
     "name": "stderr",
     "output_type": "stream",
     "text": [
      "Global seed set to 2\n",
      "No pretrained weights exist or were found for this model. Using random initialization.\n",
      "Global seed set to 4\n",
      "GPU available: True, used: True\n",
      "TPU available: False, using: 0 TPU cores\n",
      "IPU available: False, using: 0 IPUs\n",
      "Global seed set to 0\n"
     ]
    },
    {
     "name": "stdout",
     "output_type": "stream",
     "text": [
      "{'training': True, '_parameters': OrderedDict(), '_buffers': OrderedDict(), '_non_persistent_buffers_set': set(), '_backward_hooks': OrderedDict(), '_is_full_backward_hook': None, '_forward_hooks': OrderedDict(), '_forward_pre_hooks': OrderedDict(), '_state_dict_hooks': OrderedDict(), '_load_state_dict_pre_hooks': OrderedDict(), '_load_state_dict_post_hooks': OrderedDict(), '_modules': OrderedDict([('linear', Linear(in_features=6, out_features=10, bias=True))]), 'neuron_indices': tensor([26,  0,  3, 14,  5, 10]), 'in_features': 6, 'out_features': 10}\n"
     ]
    },
    {
     "name": "stderr",
     "output_type": "stream",
     "text": [
      "LOCAL_RANK: 0 - CUDA_VISIBLE_DEVICES: [3]\n"
     ]
    },
    {
     "data": {
      "application/vnd.jupyter.widget-view+json": {
       "model_id": "e194ffff6c054cc1bb6dba4af9121843",
       "version_major": 2,
       "version_minor": 0
      },
      "text/plain": [
       "Predicting: 0it [00:00, ?it/s]"
      ]
     },
     "metadata": {},
     "output_type": "display_data"
    },
    {
     "name": "stderr",
     "output_type": "stream",
     "text": [
      "Global seed set to 2\n",
      "No pretrained weights exist or were found for this model. Using random initialization.\n",
      "Global seed set to 3\n",
      "GPU available: True, used: True\n",
      "TPU available: False, using: 0 TPU cores\n",
      "IPU available: False, using: 0 IPUs\n",
      "Global seed set to 0\n"
     ]
    },
    {
     "name": "stdout",
     "output_type": "stream",
     "text": [
      "{'training': True, '_parameters': OrderedDict(), '_buffers': OrderedDict(), '_non_persistent_buffers_set': set(), '_backward_hooks': OrderedDict(), '_is_full_backward_hook': None, '_forward_hooks': OrderedDict(), '_forward_pre_hooks': OrderedDict(), '_state_dict_hooks': OrderedDict(), '_load_state_dict_pre_hooks': OrderedDict(), '_load_state_dict_post_hooks': OrderedDict(), '_modules': OrderedDict([('linear', Linear(in_features=6, out_features=10, bias=True))]), 'neuron_indices': tensor([10, 16,  9, 12,  4, 17]), 'in_features': 6, 'out_features': 10}\n"
     ]
    },
    {
     "name": "stderr",
     "output_type": "stream",
     "text": [
      "LOCAL_RANK: 0 - CUDA_VISIBLE_DEVICES: [3]\n"
     ]
    },
    {
     "data": {
      "application/vnd.jupyter.widget-view+json": {
       "model_id": "980f33476ad14b21a0e590e4ae49ef2d",
       "version_major": 2,
       "version_minor": 0
      },
      "text/plain": [
       "Predicting: 0it [00:00, ?it/s]"
      ]
     },
     "metadata": {},
     "output_type": "display_data"
    },
    {
     "name": "stderr",
     "output_type": "stream",
     "text": [
      "Global seed set to 2\n",
      "No pretrained weights exist or were found for this model. Using random initialization.\n",
      "Global seed set to 2\n",
      "GPU available: True, used: True\n",
      "TPU available: False, using: 0 TPU cores\n",
      "IPU available: False, using: 0 IPUs\n",
      "Global seed set to 0\n"
     ]
    },
    {
     "name": "stdout",
     "output_type": "stream",
     "text": [
      "{'training': True, '_parameters': OrderedDict(), '_buffers': OrderedDict(), '_non_persistent_buffers_set': set(), '_backward_hooks': OrderedDict(), '_is_full_backward_hook': None, '_forward_hooks': OrderedDict(), '_forward_pre_hooks': OrderedDict(), '_state_dict_hooks': OrderedDict(), '_load_state_dict_pre_hooks': OrderedDict(), '_load_state_dict_post_hooks': OrderedDict(), '_modules': OrderedDict([('linear', Linear(in_features=10, out_features=10, bias=True))]), 'neuron_indices': tensor([ 8, 20, 13,  1, 22, 17, 10,  4, 16, 23]), 'in_features': 10, 'out_features': 10}\n"
     ]
    },
    {
     "name": "stderr",
     "output_type": "stream",
     "text": [
      "LOCAL_RANK: 0 - CUDA_VISIBLE_DEVICES: [3]\n"
     ]
    },
    {
     "data": {
      "application/vnd.jupyter.widget-view+json": {
       "model_id": "aaee065adf40403485284277d3dd6066",
       "version_major": 2,
       "version_minor": 0
      },
      "text/plain": [
       "Predicting: 0it [00:00, ?it/s]"
      ]
     },
     "metadata": {},
     "output_type": "display_data"
    },
    {
     "name": "stderr",
     "output_type": "stream",
     "text": [
      "Global seed set to 2\n",
      "No pretrained weights exist or were found for this model. Using random initialization.\n",
      "Global seed set to 1\n",
      "GPU available: True, used: True\n",
      "TPU available: False, using: 0 TPU cores\n",
      "IPU available: False, using: 0 IPUs\n",
      "Global seed set to 0\n"
     ]
    },
    {
     "name": "stdout",
     "output_type": "stream",
     "text": [
      "{'training': True, '_parameters': OrderedDict(), '_buffers': OrderedDict(), '_non_persistent_buffers_set': set(), '_backward_hooks': OrderedDict(), '_is_full_backward_hook': None, '_forward_hooks': OrderedDict(), '_forward_pre_hooks': OrderedDict(), '_state_dict_hooks': OrderedDict(), '_load_state_dict_pre_hooks': OrderedDict(), '_load_state_dict_post_hooks': OrderedDict(), '_modules': OrderedDict([('linear', Linear(in_features=10, out_features=10, bias=True))]), 'neuron_indices': tensor([ 5, 26,  1, 10,  7, 24, 13, 23, 31, 19]), 'in_features': 10, 'out_features': 10}\n"
     ]
    },
    {
     "name": "stderr",
     "output_type": "stream",
     "text": [
      "LOCAL_RANK: 0 - CUDA_VISIBLE_DEVICES: [3]\n"
     ]
    },
    {
     "data": {
      "application/vnd.jupyter.widget-view+json": {
       "model_id": "1a0f0d52ebdd49f4b802fb5435a39bbc",
       "version_major": 2,
       "version_minor": 0
      },
      "text/plain": [
       "Predicting: 0it [00:00, ?it/s]"
      ]
     },
     "metadata": {},
     "output_type": "display_data"
    },
    {
     "name": "stderr",
     "output_type": "stream",
     "text": [
      "Global seed set to 2\n",
      "No pretrained weights exist or were found for this model. Using random initialization.\n",
      "Global seed set to 4\n",
      "GPU available: True, used: True\n",
      "TPU available: False, using: 0 TPU cores\n",
      "IPU available: False, using: 0 IPUs\n",
      "Global seed set to 0\n"
     ]
    },
    {
     "name": "stdout",
     "output_type": "stream",
     "text": [
      "{'training': True, '_parameters': OrderedDict(), '_buffers': OrderedDict(), '_non_persistent_buffers_set': set(), '_backward_hooks': OrderedDict(), '_is_full_backward_hook': None, '_forward_hooks': OrderedDict(), '_forward_pre_hooks': OrderedDict(), '_state_dict_hooks': OrderedDict(), '_load_state_dict_pre_hooks': OrderedDict(), '_load_state_dict_post_hooks': OrderedDict(), '_modules': OrderedDict([('linear', Linear(in_features=10, out_features=10, bias=True))]), 'neuron_indices': tensor([26,  0,  3, 14,  5, 10, 21,  8,  1, 22]), 'in_features': 10, 'out_features': 10}\n"
     ]
    },
    {
     "name": "stderr",
     "output_type": "stream",
     "text": [
      "LOCAL_RANK: 0 - CUDA_VISIBLE_DEVICES: [3]\n"
     ]
    },
    {
     "data": {
      "application/vnd.jupyter.widget-view+json": {
       "model_id": "f5948f8aa2794807882195883b9e961d",
       "version_major": 2,
       "version_minor": 0
      },
      "text/plain": [
       "Predicting: 0it [00:00, ?it/s]"
      ]
     },
     "metadata": {},
     "output_type": "display_data"
    },
    {
     "name": "stderr",
     "output_type": "stream",
     "text": [
      "Global seed set to 2\n",
      "No pretrained weights exist or were found for this model. Using random initialization.\n",
      "Global seed set to 3\n",
      "GPU available: True, used: True\n",
      "TPU available: False, using: 0 TPU cores\n",
      "IPU available: False, using: 0 IPUs\n",
      "Global seed set to 0\n"
     ]
    },
    {
     "name": "stdout",
     "output_type": "stream",
     "text": [
      "{'training': True, '_parameters': OrderedDict(), '_buffers': OrderedDict(), '_non_persistent_buffers_set': set(), '_backward_hooks': OrderedDict(), '_is_full_backward_hook': None, '_forward_hooks': OrderedDict(), '_forward_pre_hooks': OrderedDict(), '_state_dict_hooks': OrderedDict(), '_load_state_dict_pre_hooks': OrderedDict(), '_load_state_dict_post_hooks': OrderedDict(), '_modules': OrderedDict([('linear', Linear(in_features=10, out_features=10, bias=True))]), 'neuron_indices': tensor([10, 16,  9, 12,  4, 17, 24,  7, 21, 13]), 'in_features': 10, 'out_features': 10}\n"
     ]
    },
    {
     "name": "stderr",
     "output_type": "stream",
     "text": [
      "LOCAL_RANK: 0 - CUDA_VISIBLE_DEVICES: [3]\n"
     ]
    },
    {
     "data": {
      "application/vnd.jupyter.widget-view+json": {
       "model_id": "96d6c1c814784ff891472259c8a21d2f",
       "version_major": 2,
       "version_minor": 0
      },
      "text/plain": [
       "Predicting: 0it [00:00, ?it/s]"
      ]
     },
     "metadata": {},
     "output_type": "display_data"
    },
    {
     "name": "stderr",
     "output_type": "stream",
     "text": [
      "Global seed set to 2\n",
      "No pretrained weights exist or were found for this model. Using random initialization.\n",
      "Global seed set to 4\n",
      "GPU available: True, used: True\n",
      "TPU available: False, using: 0 TPU cores\n",
      "IPU available: False, using: 0 IPUs\n",
      "Global seed set to 0\n"
     ]
    },
    {
     "name": "stdout",
     "output_type": "stream",
     "text": [
      "{'training': True, '_parameters': OrderedDict(), '_buffers': OrderedDict(), '_non_persistent_buffers_set': set(), '_backward_hooks': OrderedDict(), '_is_full_backward_hook': None, '_forward_hooks': OrderedDict(), '_forward_pre_hooks': OrderedDict(), '_state_dict_hooks': OrderedDict(), '_load_state_dict_pre_hooks': OrderedDict(), '_load_state_dict_post_hooks': OrderedDict(), '_modules': OrderedDict([('linear', Linear(in_features=12, out_features=10, bias=True))]), 'neuron_indices': tensor([26,  0,  3, 14,  5, 10, 21,  8,  1, 22, 24, 16]), 'in_features': 12, 'out_features': 10}\n"
     ]
    },
    {
     "name": "stderr",
     "output_type": "stream",
     "text": [
      "LOCAL_RANK: 0 - CUDA_VISIBLE_DEVICES: [3]\n"
     ]
    },
    {
     "data": {
      "application/vnd.jupyter.widget-view+json": {
       "model_id": "13d0dbfb8c0f469da1be75eed5c3a678",
       "version_major": 2,
       "version_minor": 0
      },
      "text/plain": [
       "Predicting: 0it [00:00, ?it/s]"
      ]
     },
     "metadata": {},
     "output_type": "display_data"
    },
    {
     "name": "stderr",
     "output_type": "stream",
     "text": [
      "Global seed set to 2\n",
      "No pretrained weights exist or were found for this model. Using random initialization.\n",
      "Global seed set to 3\n",
      "GPU available: True, used: True\n",
      "TPU available: False, using: 0 TPU cores\n",
      "IPU available: False, using: 0 IPUs\n",
      "Global seed set to 0\n"
     ]
    },
    {
     "name": "stdout",
     "output_type": "stream",
     "text": [
      "{'training': True, '_parameters': OrderedDict(), '_buffers': OrderedDict(), '_non_persistent_buffers_set': set(), '_backward_hooks': OrderedDict(), '_is_full_backward_hook': None, '_forward_hooks': OrderedDict(), '_forward_pre_hooks': OrderedDict(), '_state_dict_hooks': OrderedDict(), '_load_state_dict_pre_hooks': OrderedDict(), '_load_state_dict_post_hooks': OrderedDict(), '_modules': OrderedDict([('linear', Linear(in_features=12, out_features=10, bias=True))]), 'neuron_indices': tensor([10, 16,  9, 12,  4, 17, 24,  7, 21, 13, 18,  5]), 'in_features': 12, 'out_features': 10}\n"
     ]
    },
    {
     "name": "stderr",
     "output_type": "stream",
     "text": [
      "LOCAL_RANK: 0 - CUDA_VISIBLE_DEVICES: [3]\n"
     ]
    },
    {
     "data": {
      "application/vnd.jupyter.widget-view+json": {
       "model_id": "cdcb6ee5353e4f5c8583f1de4c0ba180",
       "version_major": 2,
       "version_minor": 0
      },
      "text/plain": [
       "Predicting: 0it [00:00, ?it/s]"
      ]
     },
     "metadata": {},
     "output_type": "display_data"
    },
    {
     "name": "stderr",
     "output_type": "stream",
     "text": [
      "Global seed set to 2\n",
      "No pretrained weights exist or were found for this model. Using random initialization.\n",
      "Global seed set to 2\n",
      "GPU available: True, used: True\n",
      "TPU available: False, using: 0 TPU cores\n",
      "IPU available: False, using: 0 IPUs\n",
      "Global seed set to 0\n"
     ]
    },
    {
     "name": "stdout",
     "output_type": "stream",
     "text": [
      "{'training': True, '_parameters': OrderedDict(), '_buffers': OrderedDict(), '_non_persistent_buffers_set': set(), '_backward_hooks': OrderedDict(), '_is_full_backward_hook': None, '_forward_hooks': OrderedDict(), '_forward_pre_hooks': OrderedDict(), '_state_dict_hooks': OrderedDict(), '_load_state_dict_pre_hooks': OrderedDict(), '_load_state_dict_post_hooks': OrderedDict(), '_modules': OrderedDict([('linear', Linear(in_features=12, out_features=10, bias=True))]), 'neuron_indices': tensor([ 8, 20, 13,  1, 22, 17, 10,  4, 16, 23,  6, 21]), 'in_features': 12, 'out_features': 10}\n"
     ]
    },
    {
     "name": "stderr",
     "output_type": "stream",
     "text": [
      "LOCAL_RANK: 0 - CUDA_VISIBLE_DEVICES: [3]\n"
     ]
    },
    {
     "data": {
      "application/vnd.jupyter.widget-view+json": {
       "model_id": "f103ad0959b34d0ea349d084fc9ed7e1",
       "version_major": 2,
       "version_minor": 0
      },
      "text/plain": [
       "Predicting: 0it [00:00, ?it/s]"
      ]
     },
     "metadata": {},
     "output_type": "display_data"
    },
    {
     "name": "stderr",
     "output_type": "stream",
     "text": [
      "Global seed set to 2\n",
      "No pretrained weights exist or were found for this model. Using random initialization.\n",
      "Global seed set to 1\n",
      "GPU available: True, used: True\n",
      "TPU available: False, using: 0 TPU cores\n",
      "IPU available: False, using: 0 IPUs\n",
      "Global seed set to 0\n"
     ]
    },
    {
     "name": "stdout",
     "output_type": "stream",
     "text": [
      "{'training': True, '_parameters': OrderedDict(), '_buffers': OrderedDict(), '_non_persistent_buffers_set': set(), '_backward_hooks': OrderedDict(), '_is_full_backward_hook': None, '_forward_hooks': OrderedDict(), '_forward_pre_hooks': OrderedDict(), '_state_dict_hooks': OrderedDict(), '_load_state_dict_pre_hooks': OrderedDict(), '_load_state_dict_post_hooks': OrderedDict(), '_modules': OrderedDict([('linear', Linear(in_features=12, out_features=10, bias=True))]), 'neuron_indices': tensor([ 5, 26,  1, 10,  7, 24, 13, 23, 31, 19, 30, 17]), 'in_features': 12, 'out_features': 10}\n"
     ]
    },
    {
     "name": "stderr",
     "output_type": "stream",
     "text": [
      "LOCAL_RANK: 0 - CUDA_VISIBLE_DEVICES: [3]\n"
     ]
    },
    {
     "data": {
      "application/vnd.jupyter.widget-view+json": {
       "model_id": "30cf1df738aa4b13954694795f37e993",
       "version_major": 2,
       "version_minor": 0
      },
      "text/plain": [
       "Predicting: 0it [00:00, ?it/s]"
      ]
     },
     "metadata": {},
     "output_type": "display_data"
    },
    {
     "name": "stderr",
     "output_type": "stream",
     "text": [
      "Global seed set to 2\n",
      "No pretrained weights exist or were found for this model. Using random initialization.\n",
      "Global seed set to 3\n",
      "GPU available: True, used: True\n",
      "TPU available: False, using: 0 TPU cores\n",
      "IPU available: False, using: 0 IPUs\n",
      "Global seed set to 0\n"
     ]
    },
    {
     "name": "stdout",
     "output_type": "stream",
     "text": [
      "{'training': True, '_parameters': OrderedDict(), '_buffers': OrderedDict(), '_non_persistent_buffers_set': set(), '_backward_hooks': OrderedDict(), '_is_full_backward_hook': None, '_forward_hooks': OrderedDict(), '_forward_pre_hooks': OrderedDict(), '_state_dict_hooks': OrderedDict(), '_load_state_dict_pre_hooks': OrderedDict(), '_load_state_dict_post_hooks': OrderedDict(), '_modules': OrderedDict([('linear', Linear(in_features=20, out_features=10, bias=True))]), 'neuron_indices': tensor([10, 16,  9, 12,  4, 17, 24,  7, 21, 13, 18,  5, 11,  3, 14, 23, 15, 26,\n",
      "         6, 29]), 'in_features': 20, 'out_features': 10}\n"
     ]
    },
    {
     "name": "stderr",
     "output_type": "stream",
     "text": [
      "LOCAL_RANK: 0 - CUDA_VISIBLE_DEVICES: [3]\n"
     ]
    },
    {
     "data": {
      "application/vnd.jupyter.widget-view+json": {
       "model_id": "4f801b92d411410dad280b6a6a0ba856",
       "version_major": 2,
       "version_minor": 0
      },
      "text/plain": [
       "Predicting: 0it [00:00, ?it/s]"
      ]
     },
     "metadata": {},
     "output_type": "display_data"
    },
    {
     "name": "stderr",
     "output_type": "stream",
     "text": [
      "Global seed set to 2\n",
      "No pretrained weights exist or were found for this model. Using random initialization.\n",
      "Global seed set to 4\n",
      "GPU available: True, used: True\n",
      "TPU available: False, using: 0 TPU cores\n",
      "IPU available: False, using: 0 IPUs\n",
      "Global seed set to 0\n"
     ]
    },
    {
     "name": "stdout",
     "output_type": "stream",
     "text": [
      "{'training': True, '_parameters': OrderedDict(), '_buffers': OrderedDict(), '_non_persistent_buffers_set': set(), '_backward_hooks': OrderedDict(), '_is_full_backward_hook': None, '_forward_hooks': OrderedDict(), '_forward_pre_hooks': OrderedDict(), '_state_dict_hooks': OrderedDict(), '_load_state_dict_pre_hooks': OrderedDict(), '_load_state_dict_post_hooks': OrderedDict(), '_modules': OrderedDict([('linear', Linear(in_features=20, out_features=10, bias=True))]), 'neuron_indices': tensor([26,  0,  3, 14,  5, 10, 21,  8,  1, 22, 24, 16, 27, 15, 18, 12, 23, 30,\n",
      "         9, 17]), 'in_features': 20, 'out_features': 10}\n"
     ]
    },
    {
     "name": "stderr",
     "output_type": "stream",
     "text": [
      "LOCAL_RANK: 0 - CUDA_VISIBLE_DEVICES: [3]\n"
     ]
    },
    {
     "data": {
      "application/vnd.jupyter.widget-view+json": {
       "model_id": "352b236bdc7c41f283a7389a62f64058",
       "version_major": 2,
       "version_minor": 0
      },
      "text/plain": [
       "Predicting: 0it [00:00, ?it/s]"
      ]
     },
     "metadata": {},
     "output_type": "display_data"
    },
    {
     "name": "stderr",
     "output_type": "stream",
     "text": [
      "Global seed set to 2\n",
      "No pretrained weights exist or were found for this model. Using random initialization.\n",
      "Global seed set to 2\n",
      "GPU available: True, used: True\n",
      "TPU available: False, using: 0 TPU cores\n",
      "IPU available: False, using: 0 IPUs\n",
      "Global seed set to 0\n"
     ]
    },
    {
     "name": "stdout",
     "output_type": "stream",
     "text": [
      "{'training': True, '_parameters': OrderedDict(), '_buffers': OrderedDict(), '_non_persistent_buffers_set': set(), '_backward_hooks': OrderedDict(), '_is_full_backward_hook': None, '_forward_hooks': OrderedDict(), '_forward_pre_hooks': OrderedDict(), '_state_dict_hooks': OrderedDict(), '_load_state_dict_pre_hooks': OrderedDict(), '_load_state_dict_post_hooks': OrderedDict(), '_modules': OrderedDict([('linear', Linear(in_features=20, out_features=10, bias=True))]), 'neuron_indices': tensor([ 8, 20, 13,  1, 22, 17, 10,  4, 16, 23,  6, 21, 31, 15,  5, 11, 12, 19,\n",
      "         7, 14]), 'in_features': 20, 'out_features': 10}\n"
     ]
    },
    {
     "name": "stderr",
     "output_type": "stream",
     "text": [
      "LOCAL_RANK: 0 - CUDA_VISIBLE_DEVICES: [3]\n"
     ]
    },
    {
     "data": {
      "application/vnd.jupyter.widget-view+json": {
       "model_id": "c4a87970622846e1b0152e786b98fe34",
       "version_major": 2,
       "version_minor": 0
      },
      "text/plain": [
       "Predicting: 0it [00:00, ?it/s]"
      ]
     },
     "metadata": {},
     "output_type": "display_data"
    },
    {
     "name": "stderr",
     "output_type": "stream",
     "text": [
      "Global seed set to 2\n",
      "No pretrained weights exist or were found for this model. Using random initialization.\n",
      "Global seed set to 1\n",
      "GPU available: True, used: True\n",
      "TPU available: False, using: 0 TPU cores\n",
      "IPU available: False, using: 0 IPUs\n",
      "Global seed set to 0\n"
     ]
    },
    {
     "name": "stdout",
     "output_type": "stream",
     "text": [
      "{'training': True, '_parameters': OrderedDict(), '_buffers': OrderedDict(), '_non_persistent_buffers_set': set(), '_backward_hooks': OrderedDict(), '_is_full_backward_hook': None, '_forward_hooks': OrderedDict(), '_forward_pre_hooks': OrderedDict(), '_state_dict_hooks': OrderedDict(), '_load_state_dict_pre_hooks': OrderedDict(), '_load_state_dict_post_hooks': OrderedDict(), '_modules': OrderedDict([('linear', Linear(in_features=20, out_features=10, bias=True))]), 'neuron_indices': tensor([ 5, 26,  1, 10,  7, 24, 13, 23, 31, 19, 30, 17, 28,  8, 27, 29, 22,  4,\n",
      "        16, 21]), 'in_features': 20, 'out_features': 10}\n"
     ]
    },
    {
     "name": "stderr",
     "output_type": "stream",
     "text": [
      "LOCAL_RANK: 0 - CUDA_VISIBLE_DEVICES: [3]\n"
     ]
    },
    {
     "data": {
      "application/vnd.jupyter.widget-view+json": {
       "model_id": "f10f412fe23046f8b0956b8eb0496d96",
       "version_major": 2,
       "version_minor": 0
      },
      "text/plain": [
       "Predicting: 0it [00:00, ?it/s]"
      ]
     },
     "metadata": {},
     "output_type": "display_data"
    },
    {
     "name": "stderr",
     "output_type": "stream",
     "text": [
      "Global seed set to 2\n",
      "No pretrained weights exist or were found for this model. Using random initialization.\n",
      "Global seed set to 1\n",
      "GPU available: True, used: True\n",
      "TPU available: False, using: 0 TPU cores\n",
      "IPU available: False, using: 0 IPUs\n",
      "Global seed set to 0\n"
     ]
    },
    {
     "name": "stdout",
     "output_type": "stream",
     "text": [
      "{'training': True, '_parameters': OrderedDict(), '_buffers': OrderedDict(), '_non_persistent_buffers_set': set(), '_backward_hooks': OrderedDict(), '_is_full_backward_hook': None, '_forward_hooks': OrderedDict(), '_forward_pre_hooks': OrderedDict(), '_state_dict_hooks': OrderedDict(), '_load_state_dict_pre_hooks': OrderedDict(), '_load_state_dict_post_hooks': OrderedDict(), '_modules': OrderedDict([('linear', Linear(in_features=28, out_features=10, bias=True))]), 'neuron_indices': tensor([ 5, 26,  1, 10,  7, 24, 13, 23, 31, 19, 30, 17, 28,  8, 27, 29, 22,  4,\n",
      "        16, 21,  2, 15, 12,  3, 14, 11, 25,  9]), 'in_features': 28, 'out_features': 10}\n"
     ]
    },
    {
     "name": "stderr",
     "output_type": "stream",
     "text": [
      "LOCAL_RANK: 0 - CUDA_VISIBLE_DEVICES: [3]\n"
     ]
    },
    {
     "data": {
      "application/vnd.jupyter.widget-view+json": {
       "model_id": "ac336f79de554d6daa2bed55c64b1e61",
       "version_major": 2,
       "version_minor": 0
      },
      "text/plain": [
       "Predicting: 0it [00:00, ?it/s]"
      ]
     },
     "metadata": {},
     "output_type": "display_data"
    },
    {
     "name": "stderr",
     "output_type": "stream",
     "text": [
      "Global seed set to 2\n",
      "No pretrained weights exist or were found for this model. Using random initialization.\n",
      "Global seed set to 2\n",
      "GPU available: True, used: True\n",
      "TPU available: False, using: 0 TPU cores\n",
      "IPU available: False, using: 0 IPUs\n",
      "Global seed set to 0\n"
     ]
    },
    {
     "name": "stdout",
     "output_type": "stream",
     "text": [
      "{'training': True, '_parameters': OrderedDict(), '_buffers': OrderedDict(), '_non_persistent_buffers_set': set(), '_backward_hooks': OrderedDict(), '_is_full_backward_hook': None, '_forward_hooks': OrderedDict(), '_forward_pre_hooks': OrderedDict(), '_state_dict_hooks': OrderedDict(), '_load_state_dict_pre_hooks': OrderedDict(), '_load_state_dict_post_hooks': OrderedDict(), '_modules': OrderedDict([('linear', Linear(in_features=28, out_features=10, bias=True))]), 'neuron_indices': tensor([ 8, 20, 13,  1, 22, 17, 10,  4, 16, 23,  6, 21, 31, 15,  5, 11, 12, 19,\n",
      "         7, 14, 24,  9, 25, 18, 27, 29, 30,  0]), 'in_features': 28, 'out_features': 10}\n"
     ]
    },
    {
     "name": "stderr",
     "output_type": "stream",
     "text": [
      "LOCAL_RANK: 0 - CUDA_VISIBLE_DEVICES: [3]\n"
     ]
    },
    {
     "data": {
      "application/vnd.jupyter.widget-view+json": {
       "model_id": "7f2bd08be2364dab9d193b4e96a97331",
       "version_major": 2,
       "version_minor": 0
      },
      "text/plain": [
       "Predicting: 0it [00:00, ?it/s]"
      ]
     },
     "metadata": {},
     "output_type": "display_data"
    },
    {
     "name": "stderr",
     "output_type": "stream",
     "text": [
      "Global seed set to 2\n",
      "No pretrained weights exist or were found for this model. Using random initialization.\n",
      "Global seed set to 3\n",
      "GPU available: True, used: True\n",
      "TPU available: False, using: 0 TPU cores\n",
      "IPU available: False, using: 0 IPUs\n",
      "Global seed set to 0\n"
     ]
    },
    {
     "name": "stdout",
     "output_type": "stream",
     "text": [
      "{'training': True, '_parameters': OrderedDict(), '_buffers': OrderedDict(), '_non_persistent_buffers_set': set(), '_backward_hooks': OrderedDict(), '_is_full_backward_hook': None, '_forward_hooks': OrderedDict(), '_forward_pre_hooks': OrderedDict(), '_state_dict_hooks': OrderedDict(), '_load_state_dict_pre_hooks': OrderedDict(), '_load_state_dict_post_hooks': OrderedDict(), '_modules': OrderedDict([('linear', Linear(in_features=28, out_features=10, bias=True))]), 'neuron_indices': tensor([10, 16,  9, 12,  4, 17, 24,  7, 21, 13, 18,  5, 11,  3, 14, 23, 15, 26,\n",
      "         6, 29, 20, 28,  1,  0, 22, 27, 31,  2]), 'in_features': 28, 'out_features': 10}\n"
     ]
    },
    {
     "name": "stderr",
     "output_type": "stream",
     "text": [
      "LOCAL_RANK: 0 - CUDA_VISIBLE_DEVICES: [3]\n"
     ]
    },
    {
     "data": {
      "application/vnd.jupyter.widget-view+json": {
       "model_id": "a29ab68a3c2a40eaa4d49058e3da831b",
       "version_major": 2,
       "version_minor": 0
      },
      "text/plain": [
       "Predicting: 0it [00:00, ?it/s]"
      ]
     },
     "metadata": {},
     "output_type": "display_data"
    },
    {
     "name": "stderr",
     "output_type": "stream",
     "text": [
      "Global seed set to 2\n",
      "No pretrained weights exist or were found for this model. Using random initialization.\n",
      "Global seed set to 4\n",
      "GPU available: True, used: True\n",
      "TPU available: False, using: 0 TPU cores\n",
      "IPU available: False, using: 0 IPUs\n",
      "Global seed set to 0\n"
     ]
    },
    {
     "name": "stdout",
     "output_type": "stream",
     "text": [
      "{'training': True, '_parameters': OrderedDict(), '_buffers': OrderedDict(), '_non_persistent_buffers_set': set(), '_backward_hooks': OrderedDict(), '_is_full_backward_hook': None, '_forward_hooks': OrderedDict(), '_forward_pre_hooks': OrderedDict(), '_state_dict_hooks': OrderedDict(), '_load_state_dict_pre_hooks': OrderedDict(), '_load_state_dict_post_hooks': OrderedDict(), '_modules': OrderedDict([('linear', Linear(in_features=28, out_features=10, bias=True))]), 'neuron_indices': tensor([26,  0,  3, 14,  5, 10, 21,  8,  1, 22, 24, 16, 27, 15, 18, 12, 23, 30,\n",
      "         9, 17, 19, 11, 20,  4,  7,  2, 31, 29]), 'in_features': 28, 'out_features': 10}\n"
     ]
    },
    {
     "name": "stderr",
     "output_type": "stream",
     "text": [
      "LOCAL_RANK: 0 - CUDA_VISIBLE_DEVICES: [3]\n"
     ]
    },
    {
     "data": {
      "application/vnd.jupyter.widget-view+json": {
       "model_id": "eccc0c86924b47ee9b9714476135ea7c",
       "version_major": 2,
       "version_minor": 0
      },
      "text/plain": [
       "Predicting: 0it [00:00, ?it/s]"
      ]
     },
     "metadata": {},
     "output_type": "display_data"
    },
    {
     "name": "stderr",
     "output_type": "stream",
     "text": [
      "Global seed set to 2\n",
      "No pretrained weights exist or were found for this model. Using random initialization.\n",
      "Global seed set to 1\n",
      "GPU available: True, used: True\n",
      "TPU available: False, using: 0 TPU cores\n",
      "IPU available: False, using: 0 IPUs\n",
      "Global seed set to 0\n"
     ]
    },
    {
     "name": "stdout",
     "output_type": "stream",
     "text": [
      "{'training': True, '_parameters': OrderedDict(), '_buffers': OrderedDict(), '_non_persistent_buffers_set': set(), '_backward_hooks': OrderedDict(), '_is_full_backward_hook': None, '_forward_hooks': OrderedDict(), '_forward_pre_hooks': OrderedDict(), '_state_dict_hooks': OrderedDict(), '_load_state_dict_pre_hooks': OrderedDict(), '_load_state_dict_post_hooks': OrderedDict(), '_modules': OrderedDict([('linear', Linear(in_features=4, out_features=10, bias=True))]), 'neuron_indices': tensor([ 5, 15,  6,  4]), 'in_features': 4, 'out_features': 10}\n"
     ]
    },
    {
     "name": "stderr",
     "output_type": "stream",
     "text": [
      "LOCAL_RANK: 0 - CUDA_VISIBLE_DEVICES: [3]\n"
     ]
    },
    {
     "data": {
      "application/vnd.jupyter.widget-view+json": {
       "model_id": "21759764cfdf40c491f028e2d5857619",
       "version_major": 2,
       "version_minor": 0
      },
      "text/plain": [
       "Predicting: 0it [00:00, ?it/s]"
      ]
     },
     "metadata": {},
     "output_type": "display_data"
    },
    {
     "name": "stderr",
     "output_type": "stream",
     "text": [
      "Global seed set to 2\n",
      "No pretrained weights exist or were found for this model. Using random initialization.\n",
      "Global seed set to 5\n",
      "GPU available: True, used: True\n",
      "TPU available: False, using: 0 TPU cores\n",
      "IPU available: False, using: 0 IPUs\n",
      "Global seed set to 0\n"
     ]
    },
    {
     "name": "stdout",
     "output_type": "stream",
     "text": [
      "{'training': True, '_parameters': OrderedDict(), '_buffers': OrderedDict(), '_non_persistent_buffers_set': set(), '_backward_hooks': OrderedDict(), '_is_full_backward_hook': None, '_forward_hooks': OrderedDict(), '_forward_pre_hooks': OrderedDict(), '_state_dict_hooks': OrderedDict(), '_load_state_dict_pre_hooks': OrderedDict(), '_load_state_dict_post_hooks': OrderedDict(), '_modules': OrderedDict([('linear', Linear(in_features=4, out_features=10, bias=True))]), 'neuron_indices': tensor([ 3, 10, 11,  7]), 'in_features': 4, 'out_features': 10}\n"
     ]
    },
    {
     "name": "stderr",
     "output_type": "stream",
     "text": [
      "LOCAL_RANK: 0 - CUDA_VISIBLE_DEVICES: [3]\n"
     ]
    },
    {
     "data": {
      "application/vnd.jupyter.widget-view+json": {
       "model_id": "779d2950568341e694a1300e49066e18",
       "version_major": 2,
       "version_minor": 0
      },
      "text/plain": [
       "Predicting: 0it [00:00, ?it/s]"
      ]
     },
     "metadata": {},
     "output_type": "display_data"
    },
    {
     "name": "stderr",
     "output_type": "stream",
     "text": [
      "Global seed set to 2\n",
      "No pretrained weights exist or were found for this model. Using random initialization.\n",
      "Global seed set to 2\n",
      "GPU available: True, used: True\n",
      "TPU available: False, using: 0 TPU cores\n",
      "IPU available: False, using: 0 IPUs\n",
      "Global seed set to 0\n"
     ]
    },
    {
     "name": "stdout",
     "output_type": "stream",
     "text": [
      "{'training': True, '_parameters': OrderedDict(), '_buffers': OrderedDict(), '_non_persistent_buffers_set': set(), '_backward_hooks': OrderedDict(), '_is_full_backward_hook': None, '_forward_hooks': OrderedDict(), '_forward_pre_hooks': OrderedDict(), '_state_dict_hooks': OrderedDict(), '_load_state_dict_pre_hooks': OrderedDict(), '_load_state_dict_post_hooks': OrderedDict(), '_modules': OrderedDict([('linear', Linear(in_features=4, out_features=10, bias=True))]), 'neuron_indices': tensor([ 8, 13,  1,  9]), 'in_features': 4, 'out_features': 10}\n"
     ]
    },
    {
     "name": "stderr",
     "output_type": "stream",
     "text": [
      "LOCAL_RANK: 0 - CUDA_VISIBLE_DEVICES: [3]\n"
     ]
    },
    {
     "data": {
      "application/vnd.jupyter.widget-view+json": {
       "model_id": "24b2374b7a0e4345bed28c77520ee0ee",
       "version_major": 2,
       "version_minor": 0
      },
      "text/plain": [
       "Predicting: 0it [00:00, ?it/s]"
      ]
     },
     "metadata": {},
     "output_type": "display_data"
    },
    {
     "name": "stderr",
     "output_type": "stream",
     "text": [
      "Global seed set to 2\n",
      "No pretrained weights exist or were found for this model. Using random initialization.\n",
      "Global seed set to 3\n",
      "GPU available: True, used: True\n",
      "TPU available: False, using: 0 TPU cores\n",
      "IPU available: False, using: 0 IPUs\n",
      "Global seed set to 0\n"
     ]
    },
    {
     "name": "stdout",
     "output_type": "stream",
     "text": [
      "{'training': True, '_parameters': OrderedDict(), '_buffers': OrderedDict(), '_non_persistent_buffers_set': set(), '_backward_hooks': OrderedDict(), '_is_full_backward_hook': None, '_forward_hooks': OrderedDict(), '_forward_pre_hooks': OrderedDict(), '_state_dict_hooks': OrderedDict(), '_load_state_dict_pre_hooks': OrderedDict(), '_load_state_dict_post_hooks': OrderedDict(), '_modules': OrderedDict([('linear', Linear(in_features=4, out_features=10, bias=True))]), 'neuron_indices': tensor([10,  9,  5,  6]), 'in_features': 4, 'out_features': 10}\n"
     ]
    },
    {
     "name": "stderr",
     "output_type": "stream",
     "text": [
      "LOCAL_RANK: 0 - CUDA_VISIBLE_DEVICES: [3]\n"
     ]
    },
    {
     "data": {
      "application/vnd.jupyter.widget-view+json": {
       "model_id": "5b5cc789fc374915a757b5f122a6dfad",
       "version_major": 2,
       "version_minor": 0
      },
      "text/plain": [
       "Predicting: 0it [00:00, ?it/s]"
      ]
     },
     "metadata": {},
     "output_type": "display_data"
    },
    {
     "name": "stderr",
     "output_type": "stream",
     "text": [
      "Global seed set to 2\n",
      "No pretrained weights exist or were found for this model. Using random initialization.\n",
      "Global seed set to 4\n",
      "GPU available: True, used: True\n",
      "TPU available: False, using: 0 TPU cores\n",
      "IPU available: False, using: 0 IPUs\n",
      "Global seed set to 0\n"
     ]
    },
    {
     "name": "stdout",
     "output_type": "stream",
     "text": [
      "{'training': True, '_parameters': OrderedDict(), '_buffers': OrderedDict(), '_non_persistent_buffers_set': set(), '_backward_hooks': OrderedDict(), '_is_full_backward_hook': None, '_forward_hooks': OrderedDict(), '_forward_pre_hooks': OrderedDict(), '_state_dict_hooks': OrderedDict(), '_load_state_dict_pre_hooks': OrderedDict(), '_load_state_dict_post_hooks': OrderedDict(), '_modules': OrderedDict([('linear', Linear(in_features=4, out_features=10, bias=True))]), 'neuron_indices': tensor([10,  0,  7,  4]), 'in_features': 4, 'out_features': 10}\n"
     ]
    },
    {
     "name": "stderr",
     "output_type": "stream",
     "text": [
      "LOCAL_RANK: 0 - CUDA_VISIBLE_DEVICES: [3]\n"
     ]
    },
    {
     "data": {
      "application/vnd.jupyter.widget-view+json": {
       "model_id": "0ac1999d85b140d0bf9e39fb21828f50",
       "version_major": 2,
       "version_minor": 0
      },
      "text/plain": [
       "Predicting: 0it [00:00, ?it/s]"
      ]
     },
     "metadata": {},
     "output_type": "display_data"
    },
    {
     "name": "stderr",
     "output_type": "stream",
     "text": [
      "Global seed set to 2\n",
      "No pretrained weights exist or were found for this model. Using random initialization.\n",
      "Global seed set to 5\n",
      "GPU available: True, used: True\n",
      "TPU available: False, using: 0 TPU cores\n",
      "IPU available: False, using: 0 IPUs\n",
      "Global seed set to 0\n"
     ]
    },
    {
     "name": "stdout",
     "output_type": "stream",
     "text": [
      "{'training': True, '_parameters': OrderedDict(), '_buffers': OrderedDict(), '_non_persistent_buffers_set': set(), '_backward_hooks': OrderedDict(), '_is_full_backward_hook': None, '_forward_hooks': OrderedDict(), '_forward_pre_hooks': OrderedDict(), '_state_dict_hooks': OrderedDict(), '_load_state_dict_pre_hooks': OrderedDict(), '_load_state_dict_post_hooks': OrderedDict(), '_modules': OrderedDict([('linear', Linear(in_features=8, out_features=10, bias=True))]), 'neuron_indices': tensor([ 3, 10, 11,  7,  6, 13,  8,  9]), 'in_features': 8, 'out_features': 10}\n"
     ]
    },
    {
     "name": "stderr",
     "output_type": "stream",
     "text": [
      "LOCAL_RANK: 0 - CUDA_VISIBLE_DEVICES: [3]\n"
     ]
    },
    {
     "data": {
      "application/vnd.jupyter.widget-view+json": {
       "model_id": "ac8e43e37dc644a29193bb2da6b7926b",
       "version_major": 2,
       "version_minor": 0
      },
      "text/plain": [
       "Predicting: 0it [00:00, ?it/s]"
      ]
     },
     "metadata": {},
     "output_type": "display_data"
    },
    {
     "name": "stderr",
     "output_type": "stream",
     "text": [
      "Global seed set to 2\n",
      "No pretrained weights exist or were found for this model. Using random initialization.\n",
      "Global seed set to 2\n",
      "GPU available: True, used: True\n",
      "TPU available: False, using: 0 TPU cores\n",
      "IPU available: False, using: 0 IPUs\n",
      "Global seed set to 0\n"
     ]
    },
    {
     "name": "stdout",
     "output_type": "stream",
     "text": [
      "{'training': True, '_parameters': OrderedDict(), '_buffers': OrderedDict(), '_non_persistent_buffers_set': set(), '_backward_hooks': OrderedDict(), '_is_full_backward_hook': None, '_forward_hooks': OrderedDict(), '_forward_pre_hooks': OrderedDict(), '_state_dict_hooks': OrderedDict(), '_load_state_dict_pre_hooks': OrderedDict(), '_load_state_dict_post_hooks': OrderedDict(), '_modules': OrderedDict([('linear', Linear(in_features=8, out_features=10, bias=True))]), 'neuron_indices': tensor([ 8, 13,  1,  9,  6,  7,  0, 11]), 'in_features': 8, 'out_features': 10}\n"
     ]
    },
    {
     "name": "stderr",
     "output_type": "stream",
     "text": [
      "LOCAL_RANK: 0 - CUDA_VISIBLE_DEVICES: [3]\n"
     ]
    },
    {
     "data": {
      "application/vnd.jupyter.widget-view+json": {
       "model_id": "5a44e00fe52f4a0b928313d94f704cac",
       "version_major": 2,
       "version_minor": 0
      },
      "text/plain": [
       "Predicting: 0it [00:00, ?it/s]"
      ]
     },
     "metadata": {},
     "output_type": "display_data"
    },
    {
     "name": "stderr",
     "output_type": "stream",
     "text": [
      "Global seed set to 2\n",
      "No pretrained weights exist or were found for this model. Using random initialization.\n",
      "Global seed set to 1\n",
      "GPU available: True, used: True\n",
      "TPU available: False, using: 0 TPU cores\n",
      "IPU available: False, using: 0 IPUs\n",
      "Global seed set to 0\n"
     ]
    },
    {
     "name": "stdout",
     "output_type": "stream",
     "text": [
      "{'training': True, '_parameters': OrderedDict(), '_buffers': OrderedDict(), '_non_persistent_buffers_set': set(), '_backward_hooks': OrderedDict(), '_is_full_backward_hook': None, '_forward_hooks': OrderedDict(), '_forward_pre_hooks': OrderedDict(), '_state_dict_hooks': OrderedDict(), '_load_state_dict_pre_hooks': OrderedDict(), '_load_state_dict_post_hooks': OrderedDict(), '_modules': OrderedDict([('linear', Linear(in_features=8, out_features=10, bias=True))]), 'neuron_indices': tensor([ 5, 15,  6,  4, 11,  2,  7, 12]), 'in_features': 8, 'out_features': 10}\n"
     ]
    },
    {
     "name": "stderr",
     "output_type": "stream",
     "text": [
      "LOCAL_RANK: 0 - CUDA_VISIBLE_DEVICES: [3]\n"
     ]
    },
    {
     "data": {
      "application/vnd.jupyter.widget-view+json": {
       "model_id": "413551b5fe0448e194371b4225d5806b",
       "version_major": 2,
       "version_minor": 0
      },
      "text/plain": [
       "Predicting: 0it [00:00, ?it/s]"
      ]
     },
     "metadata": {},
     "output_type": "display_data"
    },
    {
     "name": "stderr",
     "output_type": "stream",
     "text": [
      "Global seed set to 2\n",
      "No pretrained weights exist or were found for this model. Using random initialization.\n",
      "Global seed set to 3\n",
      "GPU available: True, used: True\n",
      "TPU available: False, using: 0 TPU cores\n",
      "IPU available: False, using: 0 IPUs\n",
      "Global seed set to 0\n"
     ]
    },
    {
     "name": "stdout",
     "output_type": "stream",
     "text": [
      "{'training': True, '_parameters': OrderedDict(), '_buffers': OrderedDict(), '_non_persistent_buffers_set': set(), '_backward_hooks': OrderedDict(), '_is_full_backward_hook': None, '_forward_hooks': OrderedDict(), '_forward_pre_hooks': OrderedDict(), '_state_dict_hooks': OrderedDict(), '_load_state_dict_pre_hooks': OrderedDict(), '_load_state_dict_post_hooks': OrderedDict(), '_modules': OrderedDict([('linear', Linear(in_features=8, out_features=10, bias=True))]), 'neuron_indices': tensor([10,  9,  5,  6,  8, 11,  3,  1]), 'in_features': 8, 'out_features': 10}\n"
     ]
    },
    {
     "name": "stderr",
     "output_type": "stream",
     "text": [
      "LOCAL_RANK: 0 - CUDA_VISIBLE_DEVICES: [3]\n"
     ]
    },
    {
     "data": {
      "application/vnd.jupyter.widget-view+json": {
       "model_id": "8067f5d003ab4b52839be71c7ec6ad79",
       "version_major": 2,
       "version_minor": 0
      },
      "text/plain": [
       "Predicting: 0it [00:00, ?it/s]"
      ]
     },
     "metadata": {},
     "output_type": "display_data"
    },
    {
     "name": "stderr",
     "output_type": "stream",
     "text": [
      "Global seed set to 2\n",
      "No pretrained weights exist or were found for this model. Using random initialization.\n",
      "Global seed set to 4\n",
      "GPU available: True, used: True\n",
      "TPU available: False, using: 0 TPU cores\n",
      "IPU available: False, using: 0 IPUs\n",
      "Global seed set to 0\n"
     ]
    },
    {
     "name": "stdout",
     "output_type": "stream",
     "text": [
      "{'training': True, '_parameters': OrderedDict(), '_buffers': OrderedDict(), '_non_persistent_buffers_set': set(), '_backward_hooks': OrderedDict(), '_is_full_backward_hook': None, '_forward_hooks': OrderedDict(), '_forward_pre_hooks': OrderedDict(), '_state_dict_hooks': OrderedDict(), '_load_state_dict_pre_hooks': OrderedDict(), '_load_state_dict_post_hooks': OrderedDict(), '_modules': OrderedDict([('linear', Linear(in_features=8, out_features=10, bias=True))]), 'neuron_indices': tensor([10,  0,  7,  4, 13,  8, 15, 11]), 'in_features': 8, 'out_features': 10}\n"
     ]
    },
    {
     "name": "stderr",
     "output_type": "stream",
     "text": [
      "LOCAL_RANK: 0 - CUDA_VISIBLE_DEVICES: [3]\n"
     ]
    },
    {
     "data": {
      "application/vnd.jupyter.widget-view+json": {
       "model_id": "37086166a4244571ba5040d554379a31",
       "version_major": 2,
       "version_minor": 0
      },
      "text/plain": [
       "Predicting: 0it [00:00, ?it/s]"
      ]
     },
     "metadata": {},
     "output_type": "display_data"
    },
    {
     "name": "stderr",
     "output_type": "stream",
     "text": [
      "Global seed set to 2\n",
      "No pretrained weights exist or were found for this model. Using random initialization.\n",
      "Global seed set to 1\n",
      "GPU available: True, used: True\n",
      "TPU available: False, using: 0 TPU cores\n",
      "IPU available: False, using: 0 IPUs\n",
      "Global seed set to 0\n"
     ]
    },
    {
     "name": "stdout",
     "output_type": "stream",
     "text": [
      "{'training': True, '_parameters': OrderedDict(), '_buffers': OrderedDict(), '_non_persistent_buffers_set': set(), '_backward_hooks': OrderedDict(), '_is_full_backward_hook': None, '_forward_hooks': OrderedDict(), '_forward_pre_hooks': OrderedDict(), '_state_dict_hooks': OrderedDict(), '_load_state_dict_pre_hooks': OrderedDict(), '_load_state_dict_post_hooks': OrderedDict(), '_modules': OrderedDict([('linear', Linear(in_features=12, out_features=10, bias=True))]), 'neuron_indices': tensor([ 5, 15,  6,  4, 11,  2,  7, 12,  1,  0,  9,  8]), 'in_features': 12, 'out_features': 10}\n"
     ]
    },
    {
     "name": "stderr",
     "output_type": "stream",
     "text": [
      "LOCAL_RANK: 0 - CUDA_VISIBLE_DEVICES: [3]\n"
     ]
    },
    {
     "data": {
      "application/vnd.jupyter.widget-view+json": {
       "model_id": "5db62357ef0249568c8d6ae831d0b60d",
       "version_major": 2,
       "version_minor": 0
      },
      "text/plain": [
       "Predicting: 0it [00:00, ?it/s]"
      ]
     },
     "metadata": {},
     "output_type": "display_data"
    },
    {
     "name": "stderr",
     "output_type": "stream",
     "text": [
      "Global seed set to 2\n",
      "No pretrained weights exist or were found for this model. Using random initialization.\n",
      "Global seed set to 5\n",
      "GPU available: True, used: True\n",
      "TPU available: False, using: 0 TPU cores\n",
      "IPU available: False, using: 0 IPUs\n",
      "Global seed set to 0\n"
     ]
    },
    {
     "name": "stdout",
     "output_type": "stream",
     "text": [
      "{'training': True, '_parameters': OrderedDict(), '_buffers': OrderedDict(), '_non_persistent_buffers_set': set(), '_backward_hooks': OrderedDict(), '_is_full_backward_hook': None, '_forward_hooks': OrderedDict(), '_forward_pre_hooks': OrderedDict(), '_state_dict_hooks': OrderedDict(), '_load_state_dict_pre_hooks': OrderedDict(), '_load_state_dict_post_hooks': OrderedDict(), '_modules': OrderedDict([('linear', Linear(in_features=12, out_features=10, bias=True))]), 'neuron_indices': tensor([ 3, 10, 11,  7,  6, 13,  8,  9,  4,  5,  2,  1]), 'in_features': 12, 'out_features': 10}\n"
     ]
    },
    {
     "name": "stderr",
     "output_type": "stream",
     "text": [
      "LOCAL_RANK: 0 - CUDA_VISIBLE_DEVICES: [3]\n"
     ]
    },
    {
     "data": {
      "application/vnd.jupyter.widget-view+json": {
       "model_id": "fecb95e6227843d981d41758102a5951",
       "version_major": 2,
       "version_minor": 0
      },
      "text/plain": [
       "Predicting: 0it [00:00, ?it/s]"
      ]
     },
     "metadata": {},
     "output_type": "display_data"
    },
    {
     "name": "stderr",
     "output_type": "stream",
     "text": [
      "Global seed set to 2\n",
      "No pretrained weights exist or were found for this model. Using random initialization.\n",
      "Global seed set to 2\n",
      "GPU available: True, used: True\n",
      "TPU available: False, using: 0 TPU cores\n",
      "IPU available: False, using: 0 IPUs\n",
      "Global seed set to 0\n"
     ]
    },
    {
     "name": "stdout",
     "output_type": "stream",
     "text": [
      "{'training': True, '_parameters': OrderedDict(), '_buffers': OrderedDict(), '_non_persistent_buffers_set': set(), '_backward_hooks': OrderedDict(), '_is_full_backward_hook': None, '_forward_hooks': OrderedDict(), '_forward_pre_hooks': OrderedDict(), '_state_dict_hooks': OrderedDict(), '_load_state_dict_pre_hooks': OrderedDict(), '_load_state_dict_post_hooks': OrderedDict(), '_modules': OrderedDict([('linear', Linear(in_features=12, out_features=10, bias=True))]), 'neuron_indices': tensor([ 8, 13,  1,  9,  6,  7,  0, 11,  4,  2, 10, 12]), 'in_features': 12, 'out_features': 10}\n"
     ]
    },
    {
     "name": "stderr",
     "output_type": "stream",
     "text": [
      "LOCAL_RANK: 0 - CUDA_VISIBLE_DEVICES: [3]\n"
     ]
    },
    {
     "data": {
      "application/vnd.jupyter.widget-view+json": {
       "model_id": "2890ee44062c42b5884ab1174239ae39",
       "version_major": 2,
       "version_minor": 0
      },
      "text/plain": [
       "Predicting: 0it [00:00, ?it/s]"
      ]
     },
     "metadata": {},
     "output_type": "display_data"
    },
    {
     "name": "stderr",
     "output_type": "stream",
     "text": [
      "Global seed set to 2\n",
      "No pretrained weights exist or were found for this model. Using random initialization.\n",
      "Global seed set to 3\n",
      "GPU available: True, used: True\n",
      "TPU available: False, using: 0 TPU cores\n",
      "IPU available: False, using: 0 IPUs\n",
      "Global seed set to 0\n"
     ]
    },
    {
     "name": "stdout",
     "output_type": "stream",
     "text": [
      "{'training': True, '_parameters': OrderedDict(), '_buffers': OrderedDict(), '_non_persistent_buffers_set': set(), '_backward_hooks': OrderedDict(), '_is_full_backward_hook': None, '_forward_hooks': OrderedDict(), '_forward_pre_hooks': OrderedDict(), '_state_dict_hooks': OrderedDict(), '_load_state_dict_pre_hooks': OrderedDict(), '_load_state_dict_post_hooks': OrderedDict(), '_modules': OrderedDict([('linear', Linear(in_features=12, out_features=10, bias=True))]), 'neuron_indices': tensor([10,  9,  5,  6,  8, 11,  3,  1, 13,  7, 14, 12]), 'in_features': 12, 'out_features': 10}\n"
     ]
    },
    {
     "name": "stderr",
     "output_type": "stream",
     "text": [
      "LOCAL_RANK: 0 - CUDA_VISIBLE_DEVICES: [3]\n"
     ]
    },
    {
     "data": {
      "application/vnd.jupyter.widget-view+json": {
       "model_id": "5103d803d35f4fefa8d680c80fbcb93c",
       "version_major": 2,
       "version_minor": 0
      },
      "text/plain": [
       "Predicting: 0it [00:00, ?it/s]"
      ]
     },
     "metadata": {},
     "output_type": "display_data"
    },
    {
     "name": "stderr",
     "output_type": "stream",
     "text": [
      "Global seed set to 2\n",
      "No pretrained weights exist or were found for this model. Using random initialization.\n",
      "Global seed set to 4\n",
      "GPU available: True, used: True\n",
      "TPU available: False, using: 0 TPU cores\n",
      "IPU available: False, using: 0 IPUs\n",
      "Global seed set to 0\n"
     ]
    },
    {
     "name": "stdout",
     "output_type": "stream",
     "text": [
      "{'training': True, '_parameters': OrderedDict(), '_buffers': OrderedDict(), '_non_persistent_buffers_set': set(), '_backward_hooks': OrderedDict(), '_is_full_backward_hook': None, '_forward_hooks': OrderedDict(), '_forward_pre_hooks': OrderedDict(), '_state_dict_hooks': OrderedDict(), '_load_state_dict_pre_hooks': OrderedDict(), '_load_state_dict_post_hooks': OrderedDict(), '_modules': OrderedDict([('linear', Linear(in_features=12, out_features=10, bias=True))]), 'neuron_indices': tensor([10,  0,  7,  4, 13,  8, 15, 11,  1,  9, 14, 12]), 'in_features': 12, 'out_features': 10}\n"
     ]
    },
    {
     "name": "stderr",
     "output_type": "stream",
     "text": [
      "LOCAL_RANK: 0 - CUDA_VISIBLE_DEVICES: [3]\n"
     ]
    },
    {
     "data": {
      "application/vnd.jupyter.widget-view+json": {
       "model_id": "0626df2528024471b5e4dc15e273ace1",
       "version_major": 2,
       "version_minor": 0
      },
      "text/plain": [
       "Predicting: 0it [00:00, ?it/s]"
      ]
     },
     "metadata": {},
     "output_type": "display_data"
    },
    {
     "name": "stderr",
     "output_type": "stream",
     "text": [
      "../plot_helper.py:119: UserWarning: marker is redundantly defined by the 'marker' keyword argument and the fmt string \"o\" (-> marker='o'). The keyword argument will take precedence.\n",
      "  label=legend_vals[i] if legend_vals is not None else \"\")\n"
     ]
    },
    {
     "data": {
      "image/png": "[encoded data removed]",
      "text/plain": [
       "<Figure size 500x300 with 1 Axes>"
      ]
     },
     "metadata": {},
     "output_type": "display_data"
    },
    {
     "name": "stdout",
     "output_type": "stream",
     "text": [
      "Uploading results in ['results/width_comparison/imagenet'] to contact.mpi-sws.org...\n",
      "Uploading 12 files to server\n",
      "copying results/width_comparison/imagenet/resnet50-resnet50_ff8-resnet50_ff16-resnet50_ff32-resnet50_ff64_cifar10_bs_256_nonrob.png to /home/vnanda/public_html/results/partially_inverted_reps/width_comparison/imagenet/resnet50-resnet50_ff8-resnet50_ff16-resnet50_ff32-resnet50_ff64_cifar10_bs_256_nonrob.png\n",
      "copying results/width_comparison/imagenet/resnet50-wide_resnet50_2-wide_resnet50_4_cifar10_bs_256_robustl2eps3.png to /home/vnanda/public_html/results/partially_inverted_reps/width_comparison/imagenet/resnet50-wide_resnet50_2-wide_resnet50_4_cifar10_bs_256_robustl2eps3.png\n",
      "copying results/width_comparison/imagenet/resnet50-resnet50_ff8-resnet50_ff16-resnet50_ff32-resnet50_ff64-resnet50_ff128-resnet50_ff256-resnet50_ff512-resnet50_ff1024_cifar10_bs_256_nonrob.png to /home/vnanda/public_html/results/partially_inverted_reps/width_comparison/imagenet/resnet50-resnet50_ff8-resnet50_ff16-resnet50_ff32-resnet50_ff64-resnet50_ff128-resnet50_ff256-resnet50_ff512-resnet50_ff1024_cifar10_bs_256_nonrob.png\n",
      "copying results/width_comparison/imagenet/wide_resnet50_2-wide_resnet50_4_cifar10_bs_256_robustl2eps3.png to /home/vnanda/public_html/results/partially_inverted_reps/width_comparison/imagenet/wide_resnet50_2-wide_resnet50_4_cifar10_bs_256_robustl2eps3.png\n",
      "copying results/width_comparison/imagenet/resnet50-resnet50_ff1024-resnet50_ff512-resnet50_ff256-resnet50_ff128-resnet50_ff64-resnet50_ff32-resnet50_ff16-resnet50_ff8_cifar10_bs_256_nonrob.png to /home/vnanda/public_html/results/partially_inverted_reps/width_comparison/imagenet/resnet50-resnet50_ff1024-resnet50_ff512-resnet50_ff256-resnet50_ff128-resnet50_ff64-resnet50_ff32-resnet50_ff16-resnet50_ff8_cifar10_bs_256_nonrob.png\n",
      "copying results/width_comparison/imagenet/resnet50-resnet50_ff8-resnet50_ff16-resnet50_ff32-resnet50_ff64-resnet50_ff128-resnet50_ff256-resnet50_ff512-resnet50_ff1024_flowers_bs_256_nonrob.png to /home/vnanda/public_html/results/partially_inverted_reps/width_comparison/imagenet/resnet50-resnet50_ff8-resnet50_ff16-resnet50_ff32-resnet50_ff64-resnet50_ff128-resnet50_ff256-resnet50_ff512-resnet50_ff1024_flowers_bs_256_nonrob.png\n",
      "copying results/width_comparison/imagenet/resnet50-resnet50_ff8-resnet50_ff16-resnet50_ff32-resnet50_ff64-resnet50_ff128-resnet50_ff256-resnet50_ff512-resnet50_ff1024_oxford-iiit-pets_bs_256_nonrob.png to /home/vnanda/public_html/results/partially_inverted_reps/width_comparison/imagenet/resnet50-resnet50_ff8-resnet50_ff16-resnet50_ff32-resnet50_ff64-resnet50_ff128-resnet50_ff256-resnet50_ff512-resnet50_ff1024_oxford-iiit-pets_bs_256_nonrob.png\n",
      "copying results/width_comparison/imagenet/resnet50_ff8-resnet50_ff16-resnet50_ff32-resnet50_ff64-resnet50_ff128-resnet50_ff256-resnet50_ff512-resnet50_ff1024_cifar10_bs_256_nonrob.png to /home/vnanda/public_html/results/partially_inverted_reps/width_comparison/imagenet/resnet50_ff8-resnet50_ff16-resnet50_ff32-resnet50_ff64-resnet50_ff128-resnet50_ff256-resnet50_ff512-resnet50_ff1024_cifar10_bs_256_nonrob.png\n",
      "copying results/width_comparison/imagenet/resnet50-resnet50_ff1024-resnet50_ff512-resnet50_ff256-resnet50_ff128-resnet50_ff64-resnet50_ff32-resnet50_ff16-resnet50_ff8_flowers_bs_256_nonrob.png to /home/vnanda/public_html/results/partially_inverted_reps/width_comparison/imagenet/resnet50-resnet50_ff1024-resnet50_ff512-resnet50_ff256-resnet50_ff128-resnet50_ff64-resnet50_ff32-resnet50_ff16-resnet50_ff8_flowers_bs_256_nonrob.png\n",
      "copying results/width_comparison/imagenet/resnet50-resnet50_ff8-resnet50_ff16-resnet50_ff32-resnet50_ff64-resnet50_ff128-resnet50_ff256-resnet50_ff512-resnet50_ff1024_cifar100_bs_256_nonrob.png to /home/vnanda/public_html/results/partially_inverted_reps/width_comparison/imagenet/resnet50-resnet50_ff8-resnet50_ff16-resnet50_ff32-resnet50_ff64-resnet50_ff128-resnet50_ff256-resnet50_ff512-resnet50_ff1024_cifar100_bs_256_nonrob.png\n",
      "copying results/width_comparison/imagenet/resnet50-resnet50_ff1024-resnet50_ff512-resnet50_ff256-resnet50_ff128-resnet50_ff64-resnet50_ff32-resnet50_ff16-resnet50_ff8_cifar100_bs_256_nonrob.png to /home/vnanda/public_html/results/partially_inverted_reps/width_comparison/imagenet/resnet50-resnet50_ff1024-resnet50_ff512-resnet50_ff256-resnet50_ff128-resnet50_ff64-resnet50_ff32-resnet50_ff16-resnet50_ff8_cifar100_bs_256_nonrob.png\n",
      "copying results/width_comparison/imagenet/resnet50-resnet50_ff1024-resnet50_ff512-resnet50_ff256-resnet50_ff128-resnet50_ff64-resnet50_ff32-resnet50_ff16-resnet50_ff8_oxford-iiit-pets_bs_256_nonrob.png to /home/vnanda/public_html/results/partially_inverted_reps/width_comparison/imagenet/resnet50-resnet50_ff1024-resnet50_ff512-resnet50_ff256-resnet50_ff128-resnet50_ff64-resnet50_ff32-resnet50_ff16-resnet50_ff8_oxford-iiit-pets_bs_256_nonrob.png\n"
     ]
    },
    {
     "name": "stderr",
     "output_type": "stream",
     "text": [
      "Global seed set to 2\n",
      "No pretrained weights exist or were found for this model. Using random initialization.\n",
      "Global seed set to 3\n",
      "GPU available: True, used: True\n",
      "TPU available: False, using: 0 TPU cores\n",
      "IPU available: False, using: 0 IPUs\n",
      "Global seed set to 0\n"
     ]
    },
    {
     "name": "stdout",
     "output_type": "stream",
     "text": [
      "{'training': True, '_parameters': OrderedDict(), '_buffers': OrderedDict(), '_non_persistent_buffers_set': set(), '_backward_hooks': OrderedDict(), '_is_full_backward_hook': None, '_forward_hooks': OrderedDict(), '_forward_pre_hooks': OrderedDict(), '_state_dict_hooks': OrderedDict(), '_load_state_dict_pre_hooks': OrderedDict(), '_load_state_dict_post_hooks': OrderedDict(), '_modules': OrderedDict([('linear', Linear(in_features=4, out_features=100, bias=True))]), 'neuron_indices': tensor([874, 636, 761, 257]), 'in_features': 4, 'out_features': 100}\n"
     ]
    },
    {
     "name": "stderr",
     "output_type": "stream",
     "text": [
      "LOCAL_RANK: 0 - CUDA_VISIBLE_DEVICES: [3]\n"
     ]
    },
    {
     "data": {
      "application/vnd.jupyter.widget-view+json": {
       "model_id": "253a3238489a490294b1be32bd2f0d30",
       "version_major": 2,
       "version_minor": 0
      },
      "text/plain": [
       "Predicting: 0it [00:00, ?it/s]"
      ]
     },
     "metadata": {},
     "output_type": "display_data"
    },
    {
     "name": "stderr",
     "output_type": "stream",
     "text": [
      "Global seed set to 2\n",
      "No pretrained weights exist or were found for this model. Using random initialization.\n",
      "Global seed set to 4\n",
      "GPU available: True, used: True\n",
      "TPU available: False, using: 0 TPU cores\n",
      "IPU available: False, using: 0 IPUs\n",
      "Global seed set to 0\n"
     ]
    },
    {
     "name": "stdout",
     "output_type": "stream",
     "text": [
      "{'training': True, '_parameters': OrderedDict(), '_buffers': OrderedDict(), '_non_persistent_buffers_set': set(), '_backward_hooks': OrderedDict(), '_is_full_backward_hook': None, '_forward_hooks': OrderedDict(), '_forward_pre_hooks': OrderedDict(), '_state_dict_hooks': OrderedDict(), '_load_state_dict_pre_hooks': OrderedDict(), '_load_state_dict_post_hooks': OrderedDict(), '_modules': OrderedDict([('linear', Linear(in_features=4, out_features=100, bias=True))]), 'neuron_indices': tensor([122, 739, 133,  11]), 'in_features': 4, 'out_features': 100}\n"
     ]
    },
    {
     "name": "stderr",
     "output_type": "stream",
     "text": [
      "LOCAL_RANK: 0 - CUDA_VISIBLE_DEVICES: [3]\n"
     ]
    },
    {
     "data": {
      "application/vnd.jupyter.widget-view+json": {
       "model_id": "500069e667a745ea8169152c2ec83038",
       "version_major": 2,
       "version_minor": 0
      },
      "text/plain": [
       "Predicting: 0it [00:00, ?it/s]"
      ]
     },
     "metadata": {},
     "output_type": "display_data"
    },
    {
     "name": "stderr",
     "output_type": "stream",
     "text": [
      "Global seed set to 2\n",
      "No pretrained weights exist or were found for this model. Using random initialization.\n",
      "Global seed set to 5\n",
      "GPU available: True, used: True\n",
      "TPU available: False, using: 0 TPU cores\n",
      "IPU available: False, using: 0 IPUs\n",
      "Global seed set to 0\n"
     ]
    },
    {
     "name": "stdout",
     "output_type": "stream",
     "text": [
      "{'training': True, '_parameters': OrderedDict(), '_buffers': OrderedDict(), '_non_persistent_buffers_set': set(), '_backward_hooks': OrderedDict(), '_is_full_backward_hook': None, '_forward_hooks': OrderedDict(), '_forward_pre_hooks': OrderedDict(), '_state_dict_hooks': OrderedDict(), '_load_state_dict_pre_hooks': OrderedDict(), '_load_state_dict_post_hooks': OrderedDict(), '_modules': OrderedDict([('linear', Linear(in_features=4, out_features=100, bias=True))]), 'neuron_indices': tensor([ 867,  451, 1005,   61]), 'in_features': 4, 'out_features': 100}\n"
     ]
    },
    {
     "name": "stderr",
     "output_type": "stream",
     "text": [
      "LOCAL_RANK: 0 - CUDA_VISIBLE_DEVICES: [3]\n"
     ]
    },
    {
     "data": {
      "application/vnd.jupyter.widget-view+json": {
       "model_id": "fce09d861a4b488aaed6fe1f19773567",
       "version_major": 2,
       "version_minor": 0
      },
      "text/plain": [
       "Predicting: 0it [00:00, ?it/s]"
      ]
     },
     "metadata": {},
     "output_type": "display_data"
    },
    {
     "name": "stderr",
     "output_type": "stream",
     "text": [
      "Global seed set to 2\n",
      "No pretrained weights exist or were found for this model. Using random initialization.\n",
      "Global seed set to 2\n",
      "GPU available: True, used: True\n",
      "TPU available: False, using: 0 TPU cores\n",
      "IPU available: False, using: 0 IPUs\n",
      "Global seed set to 0\n"
     ]
    },
    {
     "name": "stdout",
     "output_type": "stream",
     "text": [
      "{'training': True, '_parameters': OrderedDict(), '_buffers': OrderedDict(), '_non_persistent_buffers_set': set(), '_backward_hooks': OrderedDict(), '_is_full_backward_hook': None, '_forward_hooks': OrderedDict(), '_forward_pre_hooks': OrderedDict(), '_state_dict_hooks': OrderedDict(), '_load_state_dict_pre_hooks': OrderedDict(), '_load_state_dict_post_hooks': OrderedDict(), '_modules': OrderedDict([('linear', Linear(in_features=4, out_features=100, bias=True))]), 'neuron_indices': tensor([ 168,  361,  293, 1002]), 'in_features': 4, 'out_features': 100}\n"
     ]
    },
    {
     "name": "stderr",
     "output_type": "stream",
     "text": [
      "LOCAL_RANK: 0 - CUDA_VISIBLE_DEVICES: [3]\n"
     ]
    },
    {
     "data": {
      "application/vnd.jupyter.widget-view+json": {
       "model_id": "27bb19df27ba44cdbd789f2679d9501b",
       "version_major": 2,
       "version_minor": 0
      },
      "text/plain": [
       "Predicting: 0it [00:00, ?it/s]"
      ]
     },
     "metadata": {},
     "output_type": "display_data"
    },
    {
     "name": "stderr",
     "output_type": "stream",
     "text": [
      "Global seed set to 2\n",
      "No pretrained weights exist or were found for this model. Using random initialization.\n",
      "Global seed set to 1\n",
      "GPU available: True, used: True\n",
      "TPU available: False, using: 0 TPU cores\n",
      "IPU available: False, using: 0 IPUs\n",
      "Global seed set to 0\n"
     ]
    },
    {
     "name": "stdout",
     "output_type": "stream",
     "text": [
      "{'training': True, '_parameters': OrderedDict(), '_buffers': OrderedDict(), '_non_persistent_buffers_set': set(), '_backward_hooks': OrderedDict(), '_is_full_backward_hook': None, '_forward_hooks': OrderedDict(), '_forward_pre_hooks': OrderedDict(), '_state_dict_hooks': OrderedDict(), '_load_state_dict_pre_hooks': OrderedDict(), '_load_state_dict_post_hooks': OrderedDict(), '_modules': OrderedDict([('linear', Linear(in_features=4, out_features=100, bias=True))]), 'neuron_indices': tensor([ 37, 708, 342,   9]), 'in_features': 4, 'out_features': 100}\n"
     ]
    },
    {
     "name": "stderr",
     "output_type": "stream",
     "text": [
      "LOCAL_RANK: 0 - CUDA_VISIBLE_DEVICES: [3]\n"
     ]
    },
    {
     "data": {
      "application/vnd.jupyter.widget-view+json": {
       "model_id": "ebd7f7abffba4575b548dbcbbda9f686",
       "version_major": 2,
       "version_minor": 0
      },
      "text/plain": [
       "Predicting: 0it [00:00, ?it/s]"
      ]
     },
     "metadata": {},
     "output_type": "display_data"
    },
    {
     "name": "stderr",
     "output_type": "stream",
     "text": [
      "Global seed set to 2\n",
      "No pretrained weights exist or were found for this model. Using random initialization.\n",
      "Global seed set to 1\n",
      "GPU available: True, used: True\n",
      "TPU available: False, using: 0 TPU cores\n",
      "IPU available: False, using: 0 IPUs\n",
      "Global seed set to 0\n"
     ]
    },
    {
     "name": "stdout",
     "output_type": "stream",
     "text": [
      "{'training': True, '_parameters': OrderedDict(), '_buffers': OrderedDict(), '_non_persistent_buffers_set': set(), '_backward_hooks': OrderedDict(), '_is_full_backward_hook': None, '_forward_hooks': OrderedDict(), '_forward_pre_hooks': OrderedDict(), '_state_dict_hooks': OrderedDict(), '_load_state_dict_pre_hooks': OrderedDict(), '_load_state_dict_post_hooks': OrderedDict(), '_modules': OrderedDict([('linear', Linear(in_features=8, out_features=100, bias=True))]), 'neuron_indices': tensor([ 37, 708, 342,   9, 647, 767, 633, 291]), 'in_features': 8, 'out_features': 100}\n"
     ]
    },
    {
     "name": "stderr",
     "output_type": "stream",
     "text": [
      "LOCAL_RANK: 0 - CUDA_VISIBLE_DEVICES: [3]\n"
     ]
    },
    {
     "data": {
      "application/vnd.jupyter.widget-view+json": {
       "model_id": "85480ac538ce479ca95c0d956e3408a2",
       "version_major": 2,
       "version_minor": 0
      },
      "text/plain": [
       "Predicting: 0it [00:00, ?it/s]"
      ]
     },
     "metadata": {},
     "output_type": "display_data"
    },
    {
     "name": "stderr",
     "output_type": "stream",
     "text": [
      "Global seed set to 2\n",
      "No pretrained weights exist or were found for this model. Using random initialization.\n",
      "Global seed set to 2\n",
      "GPU available: True, used: True\n",
      "TPU available: False, using: 0 TPU cores\n",
      "IPU available: False, using: 0 IPUs\n",
      "Global seed set to 0\n"
     ]
    },
    {
     "name": "stdout",
     "output_type": "stream",
     "text": [
      "{'training': True, '_parameters': OrderedDict(), '_buffers': OrderedDict(), '_non_persistent_buffers_set': set(), '_backward_hooks': OrderedDict(), '_is_full_backward_hook': None, '_forward_hooks': OrderedDict(), '_forward_pre_hooks': OrderedDict(), '_state_dict_hooks': OrderedDict(), '_load_state_dict_pre_hooks': OrderedDict(), '_load_state_dict_post_hooks': OrderedDict(), '_modules': OrderedDict([('linear', Linear(in_features=8, out_features=100, bias=True))]), 'neuron_indices': tensor([ 168,  361,  293, 1002,  522,   59, 1018,  479]), 'in_features': 8, 'out_features': 100}\n"
     ]
    },
    {
     "name": "stderr",
     "output_type": "stream",
     "text": [
      "LOCAL_RANK: 0 - CUDA_VISIBLE_DEVICES: [3]\n"
     ]
    },
    {
     "data": {
      "application/vnd.jupyter.widget-view+json": {
       "model_id": "2bf8026e853e4003b0888d1e0c191a74",
       "version_major": 2,
       "version_minor": 0
      },
      "text/plain": [
       "Predicting: 0it [00:00, ?it/s]"
      ]
     },
     "metadata": {},
     "output_type": "display_data"
    },
    {
     "name": "stderr",
     "output_type": "stream",
     "text": [
      "Global seed set to 2\n",
      "No pretrained weights exist or were found for this model. Using random initialization.\n",
      "Global seed set to 5\n",
      "GPU available: True, used: True\n",
      "TPU available: False, using: 0 TPU cores\n",
      "IPU available: False, using: 0 IPUs\n",
      "Global seed set to 0\n"
     ]
    },
    {
     "name": "stdout",
     "output_type": "stream",
     "text": [
      "{'training': True, '_parameters': OrderedDict(), '_buffers': OrderedDict(), '_non_persistent_buffers_set': set(), '_backward_hooks': OrderedDict(), '_is_full_backward_hook': None, '_forward_hooks': OrderedDict(), '_forward_pre_hooks': OrderedDict(), '_state_dict_hooks': OrderedDict(), '_load_state_dict_pre_hooks': OrderedDict(), '_load_state_dict_post_hooks': OrderedDict(), '_modules': OrderedDict([('linear', Linear(in_features=8, out_features=100, bias=True))]), 'neuron_indices': tensor([ 867,  451, 1005,   61,  150, 1023,  242,   18]), 'in_features': 8, 'out_features': 100}\n"
     ]
    },
    {
     "name": "stderr",
     "output_type": "stream",
     "text": [
      "LOCAL_RANK: 0 - CUDA_VISIBLE_DEVICES: [3]\n"
     ]
    },
    {
     "data": {
      "application/vnd.jupyter.widget-view+json": {
       "model_id": "ce897e42457c46b2bff4b9e95cec6be9",
       "version_major": 2,
       "version_minor": 0
      },
      "text/plain": [
       "Predicting: 0it [00:00, ?it/s]"
      ]
     },
     "metadata": {},
     "output_type": "display_data"
    },
    {
     "name": "stderr",
     "output_type": "stream",
     "text": [
      "Global seed set to 2\n",
      "No pretrained weights exist or were found for this model. Using random initialization.\n",
      "Global seed set to 4\n",
      "GPU available: True, used: True\n",
      "TPU available: False, using: 0 TPU cores\n",
      "IPU available: False, using: 0 IPUs\n",
      "Global seed set to 0\n"
     ]
    },
    {
     "name": "stdout",
     "output_type": "stream",
     "text": [
      "{'training': True, '_parameters': OrderedDict(), '_buffers': OrderedDict(), '_non_persistent_buffers_set': set(), '_backward_hooks': OrderedDict(), '_is_full_backward_hook': None, '_forward_hooks': OrderedDict(), '_forward_pre_hooks': OrderedDict(), '_state_dict_hooks': OrderedDict(), '_load_state_dict_pre_hooks': OrderedDict(), '_load_state_dict_post_hooks': OrderedDict(), '_modules': OrderedDict([('linear', Linear(in_features=8, out_features=100, bias=True))]), 'neuron_indices': tensor([122, 739, 133,  11, 853, 464, 457, 929]), 'in_features': 8, 'out_features': 100}\n"
     ]
    },
    {
     "name": "stderr",
     "output_type": "stream",
     "text": [
      "LOCAL_RANK: 0 - CUDA_VISIBLE_DEVICES: [3]\n"
     ]
    },
    {
     "data": {
      "application/vnd.jupyter.widget-view+json": {
       "model_id": "079893799129443b8890d4f1cad3630f",
       "version_major": 2,
       "version_minor": 0
      },
      "text/plain": [
       "Predicting: 0it [00:00, ?it/s]"
      ]
     },
     "metadata": {},
     "output_type": "display_data"
    },
    {
     "name": "stderr",
     "output_type": "stream",
     "text": [
      "Global seed set to 2\n",
      "No pretrained weights exist or were found for this model. Using random initialization.\n",
      "Global seed set to 3\n",
      "GPU available: True, used: True\n",
      "TPU available: False, using: 0 TPU cores\n",
      "IPU available: False, using: 0 IPUs\n",
      "Global seed set to 0\n"
     ]
    },
    {
     "name": "stdout",
     "output_type": "stream",
     "text": [
      "{'training': True, '_parameters': OrderedDict(), '_buffers': OrderedDict(), '_non_persistent_buffers_set': set(), '_backward_hooks': OrderedDict(), '_is_full_backward_hook': None, '_forward_hooks': OrderedDict(), '_forward_pre_hooks': OrderedDict(), '_state_dict_hooks': OrderedDict(), '_load_state_dict_pre_hooks': OrderedDict(), '_load_state_dict_post_hooks': OrderedDict(), '_modules': OrderedDict([('linear', Linear(in_features=8, out_features=100, bias=True))]), 'neuron_indices': tensor([874, 636, 761, 257, 824, 970, 354, 432]), 'in_features': 8, 'out_features': 100}\n"
     ]
    },
    {
     "name": "stderr",
     "output_type": "stream",
     "text": [
      "LOCAL_RANK: 0 - CUDA_VISIBLE_DEVICES: [3]\n"
     ]
    },
    {
     "data": {
      "application/vnd.jupyter.widget-view+json": {
       "model_id": "5b41373140044d379114f49eb3c3a1ab",
       "version_major": 2,
       "version_minor": 0
      },
      "text/plain": [
       "Predicting: 0it [00:00, ?it/s]"
      ]
     },
     "metadata": {},
     "output_type": "display_data"
    },
    {
     "name": "stderr",
     "output_type": "stream",
     "text": [
      "Global seed set to 2\n",
      "No pretrained weights exist or were found for this model. Using random initialization.\n",
      "Global seed set to 1\n",
      "GPU available: True, used: True\n",
      "TPU available: False, using: 0 TPU cores\n",
      "IPU available: False, using: 0 IPUs\n",
      "Global seed set to 0\n"
     ]
    },
    {
     "name": "stdout",
     "output_type": "stream",
     "text": [
      "{'training': True, '_parameters': OrderedDict(), '_buffers': OrderedDict(), '_non_persistent_buffers_set': set(), '_backward_hooks': OrderedDict(), '_is_full_backward_hook': None, '_forward_hooks': OrderedDict(), '_forward_pre_hooks': OrderedDict(), '_state_dict_hooks': OrderedDict(), '_load_state_dict_pre_hooks': OrderedDict(), '_load_state_dict_post_hooks': OrderedDict(), '_modules': OrderedDict([('linear', Linear(in_features=16, out_features=100, bias=True))]), 'neuron_indices': tensor([ 37, 708, 342,   9, 647, 767, 633, 291, 607, 306, 648, 514, 588, 660,\n",
      "        257, 444]), 'in_features': 16, 'out_features': 100}\n"
     ]
    },
    {
     "name": "stderr",
     "output_type": "stream",
     "text": [
      "LOCAL_RANK: 0 - CUDA_VISIBLE_DEVICES: [3]\n"
     ]
    },
    {
     "data": {
      "application/vnd.jupyter.widget-view+json": {
       "model_id": "801c76abf8344cd8964f869c5fa06f14",
       "version_major": 2,
       "version_minor": 0
      },
      "text/plain": [
       "Predicting: 0it [00:00, ?it/s]"
      ]
     },
     "metadata": {},
     "output_type": "display_data"
    },
    {
     "name": "stderr",
     "output_type": "stream",
     "text": [
      "Global seed set to 2\n",
      "No pretrained weights exist or were found for this model. Using random initialization.\n",
      "Global seed set to 5\n",
      "GPU available: True, used: True\n",
      "TPU available: False, using: 0 TPU cores\n",
      "IPU available: False, using: 0 IPUs\n",
      "Global seed set to 0\n"
     ]
    },
    {
     "name": "stdout",
     "output_type": "stream",
     "text": [
      "{'training': True, '_parameters': OrderedDict(), '_buffers': OrderedDict(), '_non_persistent_buffers_set': set(), '_backward_hooks': OrderedDict(), '_is_full_backward_hook': None, '_forward_hooks': OrderedDict(), '_forward_pre_hooks': OrderedDict(), '_state_dict_hooks': OrderedDict(), '_load_state_dict_pre_hooks': OrderedDict(), '_load_state_dict_post_hooks': OrderedDict(), '_modules': OrderedDict([('linear', Linear(in_features=16, out_features=100, bias=True))]), 'neuron_indices': tensor([ 867,  451, 1005,   61,  150, 1023,  242,   18,  296,  258,  887,  422,\n",
      "         719,  243,  912,  244]), 'in_features': 16, 'out_features': 100}\n"
     ]
    },
    {
     "name": "stderr",
     "output_type": "stream",
     "text": [
      "LOCAL_RANK: 0 - CUDA_VISIBLE_DEVICES: [3]\n"
     ]
    },
    {
     "data": {
      "application/vnd.jupyter.widget-view+json": {
       "model_id": "1685e10272e34627b7e4669a6e25bc47",
       "version_major": 2,
       "version_minor": 0
      },
      "text/plain": [
       "Predicting: 0it [00:00, ?it/s]"
      ]
     },
     "metadata": {},
     "output_type": "display_data"
    },
    {
     "name": "stderr",
     "output_type": "stream",
     "text": [
      "Global seed set to 2\n",
      "No pretrained weights exist or were found for this model. Using random initialization.\n",
      "Global seed set to 2\n",
      "GPU available: True, used: True\n",
      "TPU available: False, using: 0 TPU cores\n",
      "IPU available: False, using: 0 IPUs\n",
      "Global seed set to 0\n"
     ]
    },
    {
     "name": "stdout",
     "output_type": "stream",
     "text": [
      "{'training': True, '_parameters': OrderedDict(), '_buffers': OrderedDict(), '_non_persistent_buffers_set': set(), '_backward_hooks': OrderedDict(), '_is_full_backward_hook': None, '_forward_hooks': OrderedDict(), '_forward_pre_hooks': OrderedDict(), '_state_dict_hooks': OrderedDict(), '_load_state_dict_pre_hooks': OrderedDict(), '_load_state_dict_post_hooks': OrderedDict(), '_modules': OrderedDict([('linear', Linear(in_features=16, out_features=100, bias=True))]), 'neuron_indices': tensor([ 168,  361,  293, 1002,  522,   59, 1018,  479,  440,  300,  628,  847,\n",
      "         779,  134,  439,  386]), 'in_features': 16, 'out_features': 100}\n"
     ]
    },
    {
     "name": "stderr",
     "output_type": "stream",
     "text": [
      "LOCAL_RANK: 0 - CUDA_VISIBLE_DEVICES: [3]\n"
     ]
    },
    {
     "data": {
      "application/vnd.jupyter.widget-view+json": {
       "model_id": "7881cf9719574a7d8924eaa96d471659",
       "version_major": 2,
       "version_minor": 0
      },
      "text/plain": [
       "Predicting: 0it [00:00, ?it/s]"
      ]
     },
     "metadata": {},
     "output_type": "display_data"
    },
    {
     "name": "stderr",
     "output_type": "stream",
     "text": [
      "Global seed set to 2\n",
      "No pretrained weights exist or were found for this model. Using random initialization.\n",
      "Global seed set to 3\n",
      "GPU available: True, used: True\n",
      "TPU available: False, using: 0 TPU cores\n",
      "IPU available: False, using: 0 IPUs\n",
      "Global seed set to 0\n"
     ]
    },
    {
     "name": "stdout",
     "output_type": "stream",
     "text": [
      "{'training': True, '_parameters': OrderedDict(), '_buffers': OrderedDict(), '_non_persistent_buffers_set': set(), '_backward_hooks': OrderedDict(), '_is_full_backward_hook': None, '_forward_hooks': OrderedDict(), '_forward_pre_hooks': OrderedDict(), '_state_dict_hooks': OrderedDict(), '_load_state_dict_pre_hooks': OrderedDict(), '_load_state_dict_post_hooks': OrderedDict(), '_modules': OrderedDict([('linear', Linear(in_features=16, out_features=100, bias=True))]), 'neuron_indices': tensor([ 874,  636,  761,  257,  824,  970,  354,  432,  493,  373,  938,  758,\n",
      "         981, 1014,  520,  589]), 'in_features': 16, 'out_features': 100}\n"
     ]
    },
    {
     "name": "stderr",
     "output_type": "stream",
     "text": [
      "LOCAL_RANK: 0 - CUDA_VISIBLE_DEVICES: [3]\n"
     ]
    },
    {
     "data": {
      "application/vnd.jupyter.widget-view+json": {
       "model_id": "0d21a4dd152047b5a5e3ac58048ad2cd",
       "version_major": 2,
       "version_minor": 0
      },
      "text/plain": [
       "Predicting: 0it [00:00, ?it/s]"
      ]
     },
     "metadata": {},
     "output_type": "display_data"
    },
    {
     "name": "stderr",
     "output_type": "stream",
     "text": [
      "Global seed set to 2\n",
      "No pretrained weights exist or were found for this model. Using random initialization.\n",
      "Global seed set to 4\n",
      "GPU available: True, used: True\n",
      "TPU available: False, using: 0 TPU cores\n",
      "IPU available: False, using: 0 IPUs\n",
      "Global seed set to 0\n"
     ]
    },
    {
     "name": "stdout",
     "output_type": "stream",
     "text": [
      "{'training': True, '_parameters': OrderedDict(), '_buffers': OrderedDict(), '_non_persistent_buffers_set': set(), '_backward_hooks': OrderedDict(), '_is_full_backward_hook': None, '_forward_hooks': OrderedDict(), '_forward_pre_hooks': OrderedDict(), '_state_dict_hooks': OrderedDict(), '_load_state_dict_pre_hooks': OrderedDict(), '_load_state_dict_post_hooks': OrderedDict(), '_modules': OrderedDict([('linear', Linear(in_features=16, out_features=100, bias=True))]), 'neuron_indices': tensor([122, 739, 133,  11, 853, 464, 457, 929,  10,  30, 386, 789, 715, 332,\n",
      "        834, 687]), 'in_features': 16, 'out_features': 100}\n"
     ]
    },
    {
     "name": "stderr",
     "output_type": "stream",
     "text": [
      "LOCAL_RANK: 0 - CUDA_VISIBLE_DEVICES: [3]\n"
     ]
    },
    {
     "data": {
      "application/vnd.jupyter.widget-view+json": {
       "model_id": "4f56764614bf486193cb4797fdaa6a51",
       "version_major": 2,
       "version_minor": 0
      },
      "text/plain": [
       "Predicting: 0it [00:00, ?it/s]"
      ]
     },
     "metadata": {},
     "output_type": "display_data"
    },
    {
     "name": "stderr",
     "output_type": "stream",
     "text": [
      "Global seed set to 2\n",
      "No pretrained weights exist or were found for this model. Using random initialization.\n",
      "Global seed set to 4\n",
      "GPU available: True, used: True\n",
      "TPU available: False, using: 0 TPU cores\n",
      "IPU available: False, using: 0 IPUs\n",
      "Global seed set to 0\n"
     ]
    },
    {
     "name": "stdout",
     "output_type": "stream",
     "text": [
      "{'training': True, '_parameters': OrderedDict(), '_buffers': OrderedDict(), '_non_persistent_buffers_set': set(), '_backward_hooks': OrderedDict(), '_is_full_backward_hook': None, '_forward_hooks': OrderedDict(), '_forward_pre_hooks': OrderedDict(), '_state_dict_hooks': OrderedDict(), '_load_state_dict_pre_hooks': OrderedDict(), '_load_state_dict_post_hooks': OrderedDict(), '_modules': OrderedDict([('linear', Linear(in_features=48, out_features=100, bias=True))]), 'neuron_indices': tensor([122, 739, 133,  11, 853, 464, 457, 929,  10,  30, 386, 789, 715, 332,\n",
      "        834, 687, 567, 151, 756, 681, 850, 125, 228, 641, 746, 158,  33, 541,\n",
      "        199, 416, 869, 168, 262, 362, 858, 694, 650, 947, 105, 248, 736, 773,\n",
      "        188, 513, 131, 915, 606, 521]), 'in_features': 48, 'out_features': 100}\n"
     ]
    },
    {
     "name": "stderr",
     "output_type": "stream",
     "text": [
      "LOCAL_RANK: 0 - CUDA_VISIBLE_DEVICES: [3]\n"
     ]
    },
    {
     "data": {
      "application/vnd.jupyter.widget-view+json": {
       "model_id": "dabd0ad34d824ae4911eaa89fcd082da",
       "version_major": 2,
       "version_minor": 0
      },
      "text/plain": [
       "Predicting: 0it [00:00, ?it/s]"
      ]
     },
     "metadata": {},
     "output_type": "display_data"
    },
    {
     "name": "stderr",
     "output_type": "stream",
     "text": [
      "Global seed set to 2\n",
      "No pretrained weights exist or were found for this model. Using random initialization.\n",
      "Global seed set to 3\n",
      "GPU available: True, used: True\n",
      "TPU available: False, using: 0 TPU cores\n",
      "IPU available: False, using: 0 IPUs\n",
      "Global seed set to 0\n"
     ]
    },
    {
     "name": "stdout",
     "output_type": "stream",
     "text": [
      "{'training': True, '_parameters': OrderedDict(), '_buffers': OrderedDict(), '_non_persistent_buffers_set': set(), '_backward_hooks': OrderedDict(), '_is_full_backward_hook': None, '_forward_hooks': OrderedDict(), '_forward_pre_hooks': OrderedDict(), '_state_dict_hooks': OrderedDict(), '_load_state_dict_pre_hooks': OrderedDict(), '_load_state_dict_post_hooks': OrderedDict(), '_modules': OrderedDict([('linear', Linear(in_features=48, out_features=100, bias=True))]), 'neuron_indices': tensor([ 874,  636,  761,  257,  824,  970,  354,  432,  493,  373,  938,  758,\n",
      "         981, 1014,  520,  589,  631,  582,   26,  918,  152,  574,  439,  814,\n",
      "         496,   66,  783,    8,  350,  634,  804,  659,   92,  896,  103,  795,\n",
      "         857,  368,  340,  845,  509,  503,   52,  547,  198, 1016,  596,  800]), 'in_features': 48, 'out_features': 100}\n"
     ]
    },
    {
     "name": "stderr",
     "output_type": "stream",
     "text": [
      "LOCAL_RANK: 0 - CUDA_VISIBLE_DEVICES: [3]\n"
     ]
    },
    {
     "data": {
      "application/vnd.jupyter.widget-view+json": {
       "model_id": "07176f6e74e84e37a431b647e66ec5b6",
       "version_major": 2,
       "version_minor": 0
      },
      "text/plain": [
       "Predicting: 0it [00:00, ?it/s]"
      ]
     },
     "metadata": {},
     "output_type": "display_data"
    },
    {
     "name": "stderr",
     "output_type": "stream",
     "text": [
      "Global seed set to 2\n",
      "No pretrained weights exist or were found for this model. Using random initialization.\n",
      "Global seed set to 2\n",
      "GPU available: True, used: True\n",
      "TPU available: False, using: 0 TPU cores\n",
      "IPU available: False, using: 0 IPUs\n",
      "Global seed set to 0\n"
     ]
    },
    {
     "name": "stdout",
     "output_type": "stream",
     "text": [
      "{'training': True, '_parameters': OrderedDict(), '_buffers': OrderedDict(), '_non_persistent_buffers_set': set(), '_backward_hooks': OrderedDict(), '_is_full_backward_hook': None, '_forward_hooks': OrderedDict(), '_forward_pre_hooks': OrderedDict(), '_state_dict_hooks': OrderedDict(), '_load_state_dict_pre_hooks': OrderedDict(), '_load_state_dict_post_hooks': OrderedDict(), '_modules': OrderedDict([('linear', Linear(in_features=48, out_features=100, bias=True))]), 'neuron_indices': tensor([ 168,  361,  293, 1002,  522,   59, 1018,  479,  440,  300,  628,  847,\n",
      "         779,  134,  439,  386,  719,  401,  370,  544,   36,  798,  773,  691,\n",
      "         475,  382,  688,  432,  583,  187,  893,  306,  970,  817,  820,  985,\n",
      "         335,  223,  765,  889,  268,  848,  214,  537,  395,  337,  503,  107]), 'in_features': 48, 'out_features': 100}\n"
     ]
    },
    {
     "name": "stderr",
     "output_type": "stream",
     "text": [
      "LOCAL_RANK: 0 - CUDA_VISIBLE_DEVICES: [3]\n"
     ]
    },
    {
     "data": {
      "application/vnd.jupyter.widget-view+json": {
       "model_id": "7adf2a135a2a4d9f8e64503a595c9bef",
       "version_major": 2,
       "version_minor": 0
      },
      "text/plain": [
       "Predicting: 0it [00:00, ?it/s]"
      ]
     },
     "metadata": {},
     "output_type": "display_data"
    },
    {
     "name": "stderr",
     "output_type": "stream",
     "text": [
      "Global seed set to 2\n",
      "No pretrained weights exist or were found for this model. Using random initialization.\n",
      "Global seed set to 5\n",
      "GPU available: True, used: True\n",
      "TPU available: False, using: 0 TPU cores\n",
      "IPU available: False, using: 0 IPUs\n",
      "Global seed set to 0\n"
     ]
    },
    {
     "name": "stdout",
     "output_type": "stream",
     "text": [
      "{'training': True, '_parameters': OrderedDict(), '_buffers': OrderedDict(), '_non_persistent_buffers_set': set(), '_backward_hooks': OrderedDict(), '_is_full_backward_hook': None, '_forward_hooks': OrderedDict(), '_forward_pre_hooks': OrderedDict(), '_state_dict_hooks': OrderedDict(), '_load_state_dict_pre_hooks': OrderedDict(), '_load_state_dict_post_hooks': OrderedDict(), '_modules': OrderedDict([('linear', Linear(in_features=48, out_features=100, bias=True))]), 'neuron_indices': tensor([ 867,  451, 1005,   61,  150, 1023,  242,   18,  296,  258,  887,  422,\n",
      "         719,  243,  912,  244,  391,  790,  863,   68,  533,  485,  442,   17,\n",
      "         708,   10,  313,  855,  723,  735,  222,  138,  701,  111,  644,  542,\n",
      "         621,  567,  879,  488,  494,  765,  474,  774,  984,  659,  441,  237]), 'in_features': 48, 'out_features': 100}\n"
     ]
    },
    {
     "name": "stderr",
     "output_type": "stream",
     "text": [
      "LOCAL_RANK: 0 - CUDA_VISIBLE_DEVICES: [3]\n"
     ]
    },
    {
     "data": {
      "application/vnd.jupyter.widget-view+json": {
       "model_id": "c51698a4f41c45b1b073776828c209cd",
       "version_major": 2,
       "version_minor": 0
      },
      "text/plain": [
       "Predicting: 0it [00:00, ?it/s]"
      ]
     },
     "metadata": {},
     "output_type": "display_data"
    },
    {
     "name": "stderr",
     "output_type": "stream",
     "text": [
      "Global seed set to 2\n",
      "No pretrained weights exist or were found for this model. Using random initialization.\n",
      "Global seed set to 1\n",
      "GPU available: True, used: True\n",
      "TPU available: False, using: 0 TPU cores\n",
      "IPU available: False, using: 0 IPUs\n",
      "Global seed set to 0\n"
     ]
    },
    {
     "name": "stdout",
     "output_type": "stream",
     "text": [
      "{'training': True, '_parameters': OrderedDict(), '_buffers': OrderedDict(), '_non_persistent_buffers_set': set(), '_backward_hooks': OrderedDict(), '_is_full_backward_hook': None, '_forward_hooks': OrderedDict(), '_forward_pre_hooks': OrderedDict(), '_state_dict_hooks': OrderedDict(), '_load_state_dict_pre_hooks': OrderedDict(), '_load_state_dict_post_hooks': OrderedDict(), '_modules': OrderedDict([('linear', Linear(in_features=48, out_features=100, bias=True))]), 'neuron_indices': tensor([ 37, 708, 342,   9, 647, 767, 633, 291, 607, 306, 648, 514, 588, 660,\n",
      "        257, 444, 694, 492, 878, 770, 758,  89, 126, 561, 747, 223, 786, 658,\n",
      "        261, 403, 156, 783, 631, 353, 491, 818, 699, 640, 310, 354, 253, 220,\n",
      "        649, 552,  47, 136, 646, 570]), 'in_features': 48, 'out_features': 100}\n"
     ]
    },
    {
     "name": "stderr",
     "output_type": "stream",
     "text": [
      "LOCAL_RANK: 0 - CUDA_VISIBLE_DEVICES: [3]\n"
     ]
    },
    {
     "data": {
      "application/vnd.jupyter.widget-view+json": {
       "model_id": "5120325761854ec29a5b63214d638cf0",
       "version_major": 2,
       "version_minor": 0
      },
      "text/plain": [
       "Predicting: 0it [00:00, ?it/s]"
      ]
     },
     "metadata": {},
     "output_type": "display_data"
    },
    {
     "name": "stderr",
     "output_type": "stream",
     "text": [
      "Global seed set to 2\n",
      "No pretrained weights exist or were found for this model. Using random initialization.\n",
      "Global seed set to 1\n",
      "GPU available: True, used: True\n",
      "TPU available: False, using: 0 TPU cores\n",
      "IPU available: False, using: 0 IPUs\n",
      "Global seed set to 0\n"
     ]
    },
    {
     "name": "stdout",
     "output_type": "stream",
     "text": [
      "{'training': True, '_parameters': OrderedDict(), '_buffers': OrderedDict(), '_non_persistent_buffers_set': set(), '_backward_hooks': OrderedDict(), '_is_full_backward_hook': None, '_forward_hooks': OrderedDict(), '_forward_pre_hooks': OrderedDict(), '_state_dict_hooks': OrderedDict(), '_load_state_dict_pre_hooks': OrderedDict(), '_load_state_dict_post_hooks': OrderedDict(), '_modules': OrderedDict([('linear', Linear(in_features=90, out_features=100, bias=True))]), 'neuron_indices': tensor([  37,  708,  342,    9,  647,  767,  633,  291,  607,  306,  648,  514,\n",
      "         588,  660,  257,  444,  694,  492,  878,  770,  758,   89,  126,  561,\n",
      "         747,  223,  786,  658,  261,  403,  156,  783,  631,  353,  491,  818,\n",
      "         699,  640,  310,  354,  253,  220,  649,  552,   47,  136,  646,  570,\n",
      "         673,  113,  112,  322,   92,  888,  855,  776,   95,  941,  955,  247,\n",
      "         626,  428,  789,   36,  277,  886,  987,  408,  348,    2, 1019,  129,\n",
      "         868,  210,  896,  983,  153,   44,  191,  239,  255,  182,  462,  759,\n",
      "         659,  385,  757,  901,  122,  883]), 'in_features': 90, 'out_features': 100}\n"
     ]
    },
    {
     "name": "stderr",
     "output_type": "stream",
     "text": [
      "LOCAL_RANK: 0 - CUDA_VISIBLE_DEVICES: [3]\n"
     ]
    },
    {
     "data": {
      "application/vnd.jupyter.widget-view+json": {
       "model_id": "29ab0e4cc868422b9732baefdf8ceda9",
       "version_major": 2,
       "version_minor": 0
      },
      "text/plain": [
       "Predicting: 0it [00:00, ?it/s]"
      ]
     },
     "metadata": {},
     "output_type": "display_data"
    },
    {
     "name": "stderr",
     "output_type": "stream",
     "text": [
      "Global seed set to 2\n",
      "No pretrained weights exist or were found for this model. Using random initialization.\n",
      "Global seed set to 2\n",
      "GPU available: True, used: True\n",
      "TPU available: False, using: 0 TPU cores\n",
      "IPU available: False, using: 0 IPUs\n",
      "Global seed set to 0\n"
     ]
    },
    {
     "name": "stdout",
     "output_type": "stream",
     "text": [
      "{'training': True, '_parameters': OrderedDict(), '_buffers': OrderedDict(), '_non_persistent_buffers_set': set(), '_backward_hooks': OrderedDict(), '_is_full_backward_hook': None, '_forward_hooks': OrderedDict(), '_forward_pre_hooks': OrderedDict(), '_state_dict_hooks': OrderedDict(), '_load_state_dict_pre_hooks': OrderedDict(), '_load_state_dict_post_hooks': OrderedDict(), '_modules': OrderedDict([('linear', Linear(in_features=90, out_features=100, bias=True))]), 'neuron_indices': tensor([ 168,  361,  293, 1002,  522,   59, 1018,  479,  440,  300,  628,  847,\n",
      "         779,  134,  439,  386,  719,  401,  370,  544,   36,  798,  773,  691,\n",
      "         475,  382,  688,  432,  583,  187,  893,  306,  970,  817,  820,  985,\n",
      "         335,  223,  765,  889,  268,  848,  214,  537,  395,  337,  503,  107,\n",
      "         816,  262,  500,  800,  170,  511,  292,  513,  591,  793,  263,  536,\n",
      "         806,  502,  490,  264,  250,  669,  813,  454,  556,  651,  795,  828,\n",
      "         504,  496,  521,  242,  973,  873,  962,  318,  698,  546,  805,  167,\n",
      "         727,  305,  906,  703,  448,   54]), 'in_features': 90, 'out_features': 100}\n"
     ]
    },
    {
     "name": "stderr",
     "output_type": "stream",
     "text": [
      "LOCAL_RANK: 0 - CUDA_VISIBLE_DEVICES: [3]\n"
     ]
    },
    {
     "data": {
      "application/vnd.jupyter.widget-view+json": {
       "model_id": "700b7e5d8bb14170b77adbeb8fb4ca52",
       "version_major": 2,
       "version_minor": 0
      },
      "text/plain": [
       "Predicting: 0it [00:00, ?it/s]"
      ]
     },
     "metadata": {},
     "output_type": "display_data"
    },
    {
     "name": "stderr",
     "output_type": "stream",
     "text": [
      "Global seed set to 2\n",
      "No pretrained weights exist or were found for this model. Using random initialization.\n",
      "Global seed set to 5\n",
      "GPU available: True, used: True\n",
      "TPU available: False, using: 0 TPU cores\n",
      "IPU available: False, using: 0 IPUs\n",
      "Global seed set to 0\n"
     ]
    },
    {
     "name": "stdout",
     "output_type": "stream",
     "text": [
      "{'training': True, '_parameters': OrderedDict(), '_buffers': OrderedDict(), '_non_persistent_buffers_set': set(), '_backward_hooks': OrderedDict(), '_is_full_backward_hook': None, '_forward_hooks': OrderedDict(), '_forward_pre_hooks': OrderedDict(), '_state_dict_hooks': OrderedDict(), '_load_state_dict_pre_hooks': OrderedDict(), '_load_state_dict_post_hooks': OrderedDict(), '_modules': OrderedDict([('linear', Linear(in_features=90, out_features=100, bias=True))]), 'neuron_indices': tensor([ 867,  451, 1005,   61,  150, 1023,  242,   18,  296,  258,  887,  422,\n",
      "         719,  243,  912,  244,  391,  790,  863,   68,  533,  485,  442,   17,\n",
      "         708,   10,  313,  855,  723,  735,  222,  138,  701,  111,  644,  542,\n",
      "         621,  567,  879,  488,  494,  765,  474,  774,  984,  659,  441,  237,\n",
      "         768,  479,  416,  538,  996,  898,  913,  300,  687,  514,  192,    5,\n",
      "         525,  433,  435,  962,  369,  609, 1003,  919,  264,  236,  176,  393,\n",
      "          28,   25,   33,   30, 1009,  304,  475,  553,  254,  992,  979,  406,\n",
      "         653, 1004,   82,  170,  310,  493]), 'in_features': 90, 'out_features': 100}\n"
     ]
    },
    {
     "name": "stderr",
     "output_type": "stream",
     "text": [
      "LOCAL_RANK: 0 - CUDA_VISIBLE_DEVICES: [3]\n"
     ]
    },
    {
     "data": {
      "application/vnd.jupyter.widget-view+json": {
       "model_id": "fb1471331d2b431ba1ee0ebf971d24e6",
       "version_major": 2,
       "version_minor": 0
      },
      "text/plain": [
       "Predicting: 0it [00:00, ?it/s]"
      ]
     },
     "metadata": {},
     "output_type": "display_data"
    },
    {
     "name": "stderr",
     "output_type": "stream",
     "text": [
      "Global seed set to 2\n",
      "No pretrained weights exist or were found for this model. Using random initialization.\n",
      "Global seed set to 4\n",
      "GPU available: True, used: True\n",
      "TPU available: False, using: 0 TPU cores\n",
      "IPU available: False, using: 0 IPUs\n",
      "Global seed set to 0\n"
     ]
    },
    {
     "name": "stdout",
     "output_type": "stream",
     "text": [
      "{'training': True, '_parameters': OrderedDict(), '_buffers': OrderedDict(), '_non_persistent_buffers_set': set(), '_backward_hooks': OrderedDict(), '_is_full_backward_hook': None, '_forward_hooks': OrderedDict(), '_forward_pre_hooks': OrderedDict(), '_state_dict_hooks': OrderedDict(), '_load_state_dict_pre_hooks': OrderedDict(), '_load_state_dict_post_hooks': OrderedDict(), '_modules': OrderedDict([('linear', Linear(in_features=90, out_features=100, bias=True))]), 'neuron_indices': tensor([ 122,  739,  133,   11,  853,  464,  457,  929,   10,   30,  386,  789,\n",
      "         715,  332,  834,  687,  567,  151,  756,  681,  850,  125,  228,  641,\n",
      "         746,  158,   33,  541,  199,  416,  869,  168,  262,  362,  858,  694,\n",
      "         650,  947,  105,  248,  736,  773,  188,  513,  131,  915,  606,  521,\n",
      "         538,  116,  623,  748,  306,  710,  500,  473,  922,  286,    7,   57,\n",
      "        1023,  445,  671,  759,  977,  835,  601,  956,  433,  381,  294,  666,\n",
      "         695,  984,  590,  220,   12,  179,  696,  656,  247,  646,  474,  167,\n",
      "         923,  315,   34,  913,  177,  129]), 'in_features': 90, 'out_features': 100}\n"
     ]
    },
    {
     "name": "stderr",
     "output_type": "stream",
     "text": [
      "LOCAL_RANK: 0 - CUDA_VISIBLE_DEVICES: [3]\n"
     ]
    },
    {
     "data": {
      "application/vnd.jupyter.widget-view+json": {
       "model_id": "2d41abefd9a7416ebba4984a94ac57a5",
       "version_major": 2,
       "version_minor": 0
      },
      "text/plain": [
       "Predicting: 0it [00:00, ?it/s]"
      ]
     },
     "metadata": {},
     "output_type": "display_data"
    },
    {
     "name": "stderr",
     "output_type": "stream",
     "text": [
      "Global seed set to 2\n",
      "No pretrained weights exist or were found for this model. Using random initialization.\n",
      "Global seed set to 3\n",
      "GPU available: True, used: True\n",
      "TPU available: False, using: 0 TPU cores\n",
      "IPU available: False, using: 0 IPUs\n",
      "Global seed set to 0\n"
     ]
    },
    {
     "name": "stdout",
     "output_type": "stream",
     "text": [
      "{'training': True, '_parameters': OrderedDict(), '_buffers': OrderedDict(), '_non_persistent_buffers_set': set(), '_backward_hooks': OrderedDict(), '_is_full_backward_hook': None, '_forward_hooks': OrderedDict(), '_forward_pre_hooks': OrderedDict(), '_state_dict_hooks': OrderedDict(), '_load_state_dict_pre_hooks': OrderedDict(), '_load_state_dict_post_hooks': OrderedDict(), '_modules': OrderedDict([('linear', Linear(in_features=90, out_features=100, bias=True))]), 'neuron_indices': tensor([ 874,  636,  761,  257,  824,  970,  354,  432,  493,  373,  938,  758,\n",
      "         981, 1014,  520,  589,  631,  582,   26,  918,  152,  574,  439,  814,\n",
      "         496,   66,  783,    8,  350,  634,  804,  659,   92,  896,  103,  795,\n",
      "         857,  368,  340,  845,  509,  503,   52,  547,  198, 1016,  596,  800,\n",
      "         273,  175,   43,  320,  701,  926,  458,  725,  973,  794,   45,  886,\n",
      "         300,  453,  654,  775,  448,  823,  812,  168,  579,  944,  754,  714,\n",
      "         559,  515,  311,  218,  537,  116,  765,  894,  469,  500,  436, 1003,\n",
      "         176,  551,  279,  950,  312,  684]), 'in_features': 90, 'out_features': 100}\n"
     ]
    },
    {
     "name": "stderr",
     "output_type": "stream",
     "text": [
      "LOCAL_RANK: 0 - CUDA_VISIBLE_DEVICES: [3]\n"
     ]
    },
    {
     "data": {
      "application/vnd.jupyter.widget-view+json": {
       "model_id": "b6162d6a541b4963b17955684f5c2a43",
       "version_major": 2,
       "version_minor": 0
      },
      "text/plain": [
       "Predicting: 0it [00:00, ?it/s]"
      ]
     },
     "metadata": {},
     "output_type": "display_data"
    },
    {
     "name": "stderr",
     "output_type": "stream",
     "text": [
      "Global seed set to 2\n",
      "No pretrained weights exist or were found for this model. Using random initialization.\n",
      "Global seed set to 3\n",
      "GPU available: True, used: True\n",
      "TPU available: False, using: 0 TPU cores\n",
      "IPU available: False, using: 0 IPUs\n",
      "Global seed set to 0\n"
     ]
    },
    {
     "name": "stdout",
     "output_type": "stream",
     "text": [
      "{'training': True, '_parameters': OrderedDict(), '_buffers': OrderedDict(), '_non_persistent_buffers_set': set(), '_backward_hooks': OrderedDict(), '_is_full_backward_hook': None, '_forward_hooks': OrderedDict(), '_forward_pre_hooks': OrderedDict(), '_state_dict_hooks': OrderedDict(), '_load_state_dict_pre_hooks': OrderedDict(), '_load_state_dict_post_hooks': OrderedDict(), '_modules': OrderedDict([('linear', Linear(in_features=200, out_features=100, bias=True))]), 'neuron_indices': tensor([ 874,  636,  761,  257,  824,  970,  354,  432,  493,  373,  938,  758,\n",
      "         981, 1014,  520,  589,  631,  582,   26,  918,  152,  574,  439,  814,\n",
      "         496,   66,  783,    8,  350,  634,  804,  659,   92,  896,  103,  795,\n",
      "         857,  368,  340,  845,  509,  503,   52,  547,  198, 1016,  596,  800,\n",
      "         273,  175,   43,  320,  701,  926,  458,  725,  973,  794,   45,  886,\n",
      "         300,  453,  654,  775,  448,  823,  812,  168,  579,  944,  754,  714,\n",
      "         559,  515,  311,  218,  537,  116,  765,  894,  469,  500,  436, 1003,\n",
      "         176,  551,  279,  950,  312,  684, 1008,  533,  264,   42,  304,  858,\n",
      "         855,  112,  323,  803,  213,  395,  724,  494,  289,  925,  571,  616,\n",
      "           0,   79,  342,  989,   75,  865,  308,  566,  487,  497,  372,  602,\n",
      "         412,  207,  773,  367, 1021,  123,  778,  256,  541,  987,  202,  968,\n",
      "         949,   14,  573,  696,  131,  819,  457,  149,  290,  667,  536,  827,\n",
      "         740,  603,  614,  385,  283,  433,  852,  985,  231,  208,   78,   39,\n",
      "         147,  982,  140,  444,  402,  872,  906,  810,  195,  425,    7,  640,\n",
      "        1022,  558,  563,  572,  781,  897,  743,  969,  780,  876,  912, 1005,\n",
      "         129,  346,  511,   24,  196,  928,  834,  932, 1012,  206,  332,  861,\n",
      "         410,   59,  185,  816,  584,   10,  759,  612]), 'in_features': 200, 'out_features': 100}\n"
     ]
    },
    {
     "name": "stderr",
     "output_type": "stream",
     "text": [
      "LOCAL_RANK: 0 - CUDA_VISIBLE_DEVICES: [3]\n"
     ]
    },
    {
     "data": {
      "application/vnd.jupyter.widget-view+json": {
       "model_id": "8ad3b133671748e5aaaae61cd1187c7e",
       "version_major": 2,
       "version_minor": 0
      },
      "text/plain": [
       "Predicting: 0it [00:00, ?it/s]"
      ]
     },
     "metadata": {},
     "output_type": "display_data"
    },
    {
     "name": "stderr",
     "output_type": "stream",
     "text": [
      "Global seed set to 2\n",
      "No pretrained weights exist or were found for this model. Using random initialization.\n",
      "Global seed set to 4\n",
      "GPU available: True, used: True\n",
      "TPU available: False, using: 0 TPU cores\n",
      "IPU available: False, using: 0 IPUs\n",
      "Global seed set to 0\n"
     ]
    },
    {
     "name": "stdout",
     "output_type": "stream",
     "text": [
      "{'training': True, '_parameters': OrderedDict(), '_buffers': OrderedDict(), '_non_persistent_buffers_set': set(), '_backward_hooks': OrderedDict(), '_is_full_backward_hook': None, '_forward_hooks': OrderedDict(), '_forward_pre_hooks': OrderedDict(), '_state_dict_hooks': OrderedDict(), '_load_state_dict_pre_hooks': OrderedDict(), '_load_state_dict_post_hooks': OrderedDict(), '_modules': OrderedDict([('linear', Linear(in_features=200, out_features=100, bias=True))]), 'neuron_indices': tensor([ 122,  739,  133,   11,  853,  464,  457,  929,   10,   30,  386,  789,\n",
      "         715,  332,  834,  687,  567,  151,  756,  681,  850,  125,  228,  641,\n",
      "         746,  158,   33,  541,  199,  416,  869,  168,  262,  362,  858,  694,\n",
      "         650,  947,  105,  248,  736,  773,  188,  513,  131,  915,  606,  521,\n",
      "         538,  116,  623,  748,  306,  710,  500,  473,  922,  286,    7,   57,\n",
      "        1023,  445,  671,  759,  977,  835,  601,  956,  433,  381,  294,  666,\n",
      "         695,  984,  590,  220,   12,  179,  696,  656,  247,  646,  474,  167,\n",
      "         923,  315,   34,  913,  177,  129,  299,  573,  339,  212,   15,  705,\n",
      "         367,  391,  361,  625,   17,  271,  706,  345,  701,  631,  811,  130,\n",
      "          27,  285,  263,  639,   46,  645,  810,  289,  196,  712,  353,  519,\n",
      "          88,  603,  637,  242,  393,  882,  602,  283,  955,   85,  998,  876,\n",
      "         846,  629,   74,  533,  488,  570,  723,  107,  542,  619,  802,  327,\n",
      "         689,  634,  341,  891,  983,  169,  485,  954,  429, 1022,  530,  675,\n",
      "         335,  319,  790,  920,  607,  732,  543,  962,  323,   49,  170, 1004,\n",
      "         101,  826,  437,   61,  102,  740,  974,  231,   31,    0,  647,  663,\n",
      "         953,  827,  536,  730,  930,  421,  986,  390,  635,  482,  653,  678,\n",
      "         470,  431,  841,  557,    1,  428,  742,  668]), 'in_features': 200, 'out_features': 100}\n"
     ]
    },
    {
     "name": "stderr",
     "output_type": "stream",
     "text": [
      "LOCAL_RANK: 0 - CUDA_VISIBLE_DEVICES: [3]\n"
     ]
    },
    {
     "data": {
      "application/vnd.jupyter.widget-view+json": {
       "model_id": "b0983d65e474459c91007bfc1f9cb3c7",
       "version_major": 2,
       "version_minor": 0
      },
      "text/plain": [
       "Predicting: 0it [00:00, ?it/s]"
      ]
     },
     "metadata": {},
     "output_type": "display_data"
    },
    {
     "name": "stderr",
     "output_type": "stream",
     "text": [
      "Global seed set to 2\n",
      "No pretrained weights exist or were found for this model. Using random initialization.\n",
      "Global seed set to 5\n",
      "GPU available: True, used: True\n",
      "TPU available: False, using: 0 TPU cores\n",
      "IPU available: False, using: 0 IPUs\n",
      "Global seed set to 0\n"
     ]
    },
    {
     "name": "stdout",
     "output_type": "stream",
     "text": [
      "{'training': True, '_parameters': OrderedDict(), '_buffers': OrderedDict(), '_non_persistent_buffers_set': set(), '_backward_hooks': OrderedDict(), '_is_full_backward_hook': None, '_forward_hooks': OrderedDict(), '_forward_pre_hooks': OrderedDict(), '_state_dict_hooks': OrderedDict(), '_load_state_dict_pre_hooks': OrderedDict(), '_load_state_dict_post_hooks': OrderedDict(), '_modules': OrderedDict([('linear', Linear(in_features=200, out_features=100, bias=True))]), 'neuron_indices': tensor([ 867,  451, 1005,   61,  150, 1023,  242,   18,  296,  258,  887,  422,\n",
      "         719,  243,  912,  244,  391,  790,  863,   68,  533,  485,  442,   17,\n",
      "         708,   10,  313,  855,  723,  735,  222,  138,  701,  111,  644,  542,\n",
      "         621,  567,  879,  488,  494,  765,  474,  774,  984,  659,  441,  237,\n",
      "         768,  479,  416,  538,  996,  898,  913,  300,  687,  514,  192,    5,\n",
      "         525,  433,  435,  962,  369,  609, 1003,  919,  264,  236,  176,  393,\n",
      "          28,   25,   33,   30, 1009,  304,  475,  553,  254,  992,  979,  406,\n",
      "         653, 1004,   82,  170,  310,  493,   50,  500,  809,  679,  669,  152,\n",
      "         677,  954,  133,  690,  496,  611,   19,  977,  696,  901,  338,  598,\n",
      "         892,  873,  238,  861,  366,  290,  302,  806,  319,  652,  245,  658,\n",
      "         848,  177,  240,  970,   43,  251,  484,  380,  261,  933,  204,  698,\n",
      "          76,  907,  764,  306,  781,  893,  856,  173,   39,  536,  252,  830,\n",
      "         239,  570,   98,  668,  836,  269,   57,  853,  748,  544,    7,  389,\n",
      "           8,  864,  880,  215,  339,   99,  401,  153,  463,  452,  202,  195,\n",
      "         467,  179,  639,  837,  736,  945,  509,  766,  620,   13,  976,  383,\n",
      "         947,  201,  248,  355,  578, 1000,   47,  506,  980,  522,  395,  554,\n",
      "         711,    3,  562,   31,  808,  430,  960,  325]), 'in_features': 200, 'out_features': 100}\n"
     ]
    },
    {
     "name": "stderr",
     "output_type": "stream",
     "text": [
      "LOCAL_RANK: 0 - CUDA_VISIBLE_DEVICES: [3]\n"
     ]
    },
    {
     "data": {
      "application/vnd.jupyter.widget-view+json": {
       "model_id": "4bbeb180138a49df9a3fdf870e28744b",
       "version_major": 2,
       "version_minor": 0
      },
      "text/plain": [
       "Predicting: 0it [00:00, ?it/s]"
      ]
     },
     "metadata": {},
     "output_type": "display_data"
    },
    {
     "name": "stderr",
     "output_type": "stream",
     "text": [
      "Global seed set to 2\n",
      "No pretrained weights exist or were found for this model. Using random initialization.\n",
      "Global seed set to 2\n",
      "GPU available: True, used: True\n",
      "TPU available: False, using: 0 TPU cores\n",
      "IPU available: False, using: 0 IPUs\n",
      "Global seed set to 0\n"
     ]
    },
    {
     "name": "stdout",
     "output_type": "stream",
     "text": [
      "{'training': True, '_parameters': OrderedDict(), '_buffers': OrderedDict(), '_non_persistent_buffers_set': set(), '_backward_hooks': OrderedDict(), '_is_full_backward_hook': None, '_forward_hooks': OrderedDict(), '_forward_pre_hooks': OrderedDict(), '_state_dict_hooks': OrderedDict(), '_load_state_dict_pre_hooks': OrderedDict(), '_load_state_dict_post_hooks': OrderedDict(), '_modules': OrderedDict([('linear', Linear(in_features=200, out_features=100, bias=True))]), 'neuron_indices': tensor([ 168,  361,  293, 1002,  522,   59, 1018,  479,  440,  300,  628,  847,\n",
      "         779,  134,  439,  386,  719,  401,  370,  544,   36,  798,  773,  691,\n",
      "         475,  382,  688,  432,  583,  187,  893,  306,  970,  817,  820,  985,\n",
      "         335,  223,  765,  889,  268,  848,  214,  537,  395,  337,  503,  107,\n",
      "         816,  262,  500,  800,  170,  511,  292,  513,  591,  793,  263,  536,\n",
      "         806,  502,  490,  264,  250,  669,  813,  454,  556,  651,  795,  828,\n",
      "         504,  496,  521,  242,  973,  873,  962,  318,  698,  546,  805,  167,\n",
      "         727,  305,  906,  703,  448,   54,  654,  328,  336,  931,  210,  752,\n",
      "         950,  862,  186,  415,   15,  161,  174,  165,  553,  990,  786,  283,\n",
      "         289,  130,  419,  322, 1013,  290,  340,  853,  426,  784,  638,  757,\n",
      "         532,  678,  234,  608,  718,  710,  927,  119,  144,  630,  507,  885,\n",
      "          77,   69,  865,  220,  632,   12,  988,  941,  599,  359,  579, 1023,\n",
      "         877,  445,  451,  425,  327,   25,  792,  437,  822,  645,  385,  670,\n",
      "         118,  390,  413,  576,  414,  658,  278,   39,  952,  120,  733,  619,\n",
      "          61,  273,  369,  767,  849,  951,   60,  243,  559,  154,  650,  562,\n",
      "         543,  311,  514,  597,  622,   92,  573,  466,  686,  593,  930,  135,\n",
      "         928,  509,  178,  960,  955,  482,   18,  215]), 'in_features': 200, 'out_features': 100}\n"
     ]
    },
    {
     "name": "stderr",
     "output_type": "stream",
     "text": [
      "LOCAL_RANK: 0 - CUDA_VISIBLE_DEVICES: [3]\n"
     ]
    },
    {
     "data": {
      "application/vnd.jupyter.widget-view+json": {
       "model_id": "89010f7357ba4a329d97abc3b4d58dd5",
       "version_major": 2,
       "version_minor": 0
      },
      "text/plain": [
       "Predicting: 0it [00:00, ?it/s]"
      ]
     },
     "metadata": {},
     "output_type": "display_data"
    },
    {
     "name": "stderr",
     "output_type": "stream",
     "text": [
      "Global seed set to 2\n",
      "No pretrained weights exist or were found for this model. Using random initialization.\n",
      "Global seed set to 1\n",
      "GPU available: True, used: True\n",
      "TPU available: False, using: 0 TPU cores\n",
      "IPU available: False, using: 0 IPUs\n",
      "Global seed set to 0\n"
     ]
    },
    {
     "name": "stdout",
     "output_type": "stream",
     "text": [
      "{'training': True, '_parameters': OrderedDict(), '_buffers': OrderedDict(), '_non_persistent_buffers_set': set(), '_backward_hooks': OrderedDict(), '_is_full_backward_hook': None, '_forward_hooks': OrderedDict(), '_forward_pre_hooks': OrderedDict(), '_state_dict_hooks': OrderedDict(), '_load_state_dict_pre_hooks': OrderedDict(), '_load_state_dict_post_hooks': OrderedDict(), '_modules': OrderedDict([('linear', Linear(in_features=200, out_features=100, bias=True))]), 'neuron_indices': tensor([  37,  708,  342,    9,  647,  767,  633,  291,  607,  306,  648,  514,\n",
      "         588,  660,  257,  444,  694,  492,  878,  770,  758,   89,  126,  561,\n",
      "         747,  223,  786,  658,  261,  403,  156,  783,  631,  353,  491,  818,\n",
      "         699,  640,  310,  354,  253,  220,  649,  552,   47,  136,  646,  570,\n",
      "         673,  113,  112,  322,   92,  888,  855,  776,   95,  941,  955,  247,\n",
      "         626,  428,  789,   36,  277,  886,  987,  408,  348,    2, 1019,  129,\n",
      "         868,  210,  896,  983,  153,   44,  191,  239,  255,  182,  462,  759,\n",
      "         659,  385,  757,  901,  122,  883,  248,   79,  617,  961,  907,  162,\n",
      "         215,  180,  728,  686,  225,  414,  445,  242,  760,  202,  296,  706,\n",
      "         523,  359,  423,  687, 1017,  251,  110,  357,  850,  311,  930,  714,\n",
      "         160,  881,   87,  991,  693,  443,  613,  453,  504,  355,  145,  595,\n",
      "         828,  361,  952,  450,  796,   50,  167,  208,  723,  697,  768,   61,\n",
      "          15,  795,  386,  995,  988,  979,  455,  582,  524,  679,  176, 1001,\n",
      "         107,  196,  851,  821,  503,  438,  683,  295,  753, 1010,  682,  193,\n",
      "         340,  913,  978,   43,  534,  554,  931,  815,   26,  114,  843,  303,\n",
      "         200,  924,  581,  467,  103,  382,  154,  158,  418,  259,  366,    0,\n",
      "         263,   10,  984,  238,   21,  437,  777,  910]), 'in_features': 200, 'out_features': 100}\n"
     ]
    },
    {
     "name": "stderr",
     "output_type": "stream",
     "text": [
      "LOCAL_RANK: 0 - CUDA_VISIBLE_DEVICES: [3]\n"
     ]
    },
    {
     "data": {
      "application/vnd.jupyter.widget-view+json": {
       "model_id": "6a6c86f768ca4a82b741bc3cf78c2c86",
       "version_major": 2,
       "version_minor": 0
      },
      "text/plain": [
       "Predicting: 0it [00:00, ?it/s]"
      ]
     },
     "metadata": {},
     "output_type": "display_data"
    },
    {
     "name": "stderr",
     "output_type": "stream",
     "text": [
      "Global seed set to 2\n",
      "No pretrained weights exist or were found for this model. Using random initialization.\n",
      "Global seed set to 4\n",
      "GPU available: True, used: True\n",
      "TPU available: False, using: 0 TPU cores\n",
      "IPU available: False, using: 0 IPUs\n",
      "Global seed set to 0\n"
     ]
    },
    {
     "name": "stdout",
     "output_type": "stream",
     "text": [
      "{'training': True, '_parameters': OrderedDict(), '_buffers': OrderedDict(), '_non_persistent_buffers_set': set(), '_backward_hooks': OrderedDict(), '_is_full_backward_hook': None, '_forward_hooks': OrderedDict(), '_forward_pre_hooks': OrderedDict(), '_state_dict_hooks': OrderedDict(), '_load_state_dict_pre_hooks': OrderedDict(), '_load_state_dict_post_hooks': OrderedDict(), '_modules': OrderedDict([('linear', Linear(in_features=300, out_features=100, bias=True))]), 'neuron_indices': tensor([ 122,  739,  133,   11,  853,  464,  457,  929,   10,   30,  386,  789,\n",
      "         715,  332,  834,  687,  567,  151,  756,  681,  850,  125,  228,  641,\n",
      "         746,  158,   33,  541,  199,  416,  869,  168,  262,  362,  858,  694,\n",
      "         650,  947,  105,  248,  736,  773,  188,  513,  131,  915,  606,  521,\n",
      "         538,  116,  623,  748,  306,  710,  500,  473,  922,  286,    7,   57,\n",
      "        1023,  445,  671,  759,  977,  835,  601,  956,  433,  381,  294,  666,\n",
      "         695,  984,  590,  220,   12,  179,  696,  656,  247,  646,  474,  167,\n",
      "         923,  315,   34,  913,  177,  129,  299,  573,  339,  212,   15,  705,\n",
      "         367,  391,  361,  625,   17,  271,  706,  345,  701,  631,  811,  130,\n",
      "          27,  285,  263,  639,   46,  645,  810,  289,  196,  712,  353,  519,\n",
      "          88,  603,  637,  242,  393,  882,  602,  283,  955,   85,  998,  876,\n",
      "         846,  629,   74,  533,  488,  570,  723,  107,  542,  619,  802,  327,\n",
      "         689,  634,  341,  891,  983,  169,  485,  954,  429, 1022,  530,  675,\n",
      "         335,  319,  790,  920,  607,  732,  543,  962,  323,   49,  170, 1004,\n",
      "         101,  826,  437,   61,  102,  740,  974,  231,   31,    0,  647,  663,\n",
      "         953,  827,  536,  730,  930,  421,  986,  390,  635,  482,  653,  678,\n",
      "         470,  431,  841,  557,    1,  428,  742,  668,  798, 1002, 1017,  951,\n",
      "         884, 1008,  166,  558,  805,  911,  113,  368,  583,  895,  597,   90,\n",
      "         720,  491,   80,  246,  816,  633,  132,  301,  528,  486,  302,  587,\n",
      "         253,  334,   13,  236,   67,  545,  383,  444,  932,  781,  917,  238,\n",
      "         458,   14, 1012,  699,  483,  274,  160, 1016,  265,  515,  848,  985,\n",
      "         300,  914,  994,  777,   48,  793,  952,  698,  945,  878,  591,  927,\n",
      "         257,   69,  547,  396,  419,  999,  241,  610,  652,  561,  758,  822,\n",
      "         821,  140,  825,  404,  769,  806,  942,  722,  417,  809,  495,  845,\n",
      "         889,   47,  434,  409,  752,  472,  905,  808,  812,  209,  662,  351]), 'in_features': 300, 'out_features': 100}\n"
     ]
    },
    {
     "name": "stderr",
     "output_type": "stream",
     "text": [
      "LOCAL_RANK: 0 - CUDA_VISIBLE_DEVICES: [3]\n"
     ]
    },
    {
     "data": {
      "application/vnd.jupyter.widget-view+json": {
       "model_id": "7501ccb05caa4a58b14d3912d5588a8d",
       "version_major": 2,
       "version_minor": 0
      },
      "text/plain": [
       "Predicting: 0it [00:00, ?it/s]"
      ]
     },
     "metadata": {},
     "output_type": "display_data"
    },
    {
     "name": "stderr",
     "output_type": "stream",
     "text": [
      "Global seed set to 2\n",
      "No pretrained weights exist or were found for this model. Using random initialization.\n",
      "Global seed set to 3\n",
      "GPU available: True, used: True\n",
      "TPU available: False, using: 0 TPU cores\n",
      "IPU available: False, using: 0 IPUs\n",
      "Global seed set to 0\n"
     ]
    },
    {
     "name": "stdout",
     "output_type": "stream",
     "text": [
      "{'training': True, '_parameters': OrderedDict(), '_buffers': OrderedDict(), '_non_persistent_buffers_set': set(), '_backward_hooks': OrderedDict(), '_is_full_backward_hook': None, '_forward_hooks': OrderedDict(), '_forward_pre_hooks': OrderedDict(), '_state_dict_hooks': OrderedDict(), '_load_state_dict_pre_hooks': OrderedDict(), '_load_state_dict_post_hooks': OrderedDict(), '_modules': OrderedDict([('linear', Linear(in_features=300, out_features=100, bias=True))]), 'neuron_indices': tensor([ 874,  636,  761,  257,  824,  970,  354,  432,  493,  373,  938,  758,\n",
      "         981, 1014,  520,  589,  631,  582,   26,  918,  152,  574,  439,  814,\n",
      "         496,   66,  783,    8,  350,  634,  804,  659,   92,  896,  103,  795,\n",
      "         857,  368,  340,  845,  509,  503,   52,  547,  198, 1016,  596,  800,\n",
      "         273,  175,   43,  320,  701,  926,  458,  725,  973,  794,   45,  886,\n",
      "         300,  453,  654,  775,  448,  823,  812,  168,  579,  944,  754,  714,\n",
      "         559,  515,  311,  218,  537,  116,  765,  894,  469,  500,  436, 1003,\n",
      "         176,  551,  279,  950,  312,  684, 1008,  533,  264,   42,  304,  858,\n",
      "         855,  112,  323,  803,  213,  395,  724,  494,  289,  925,  571,  616,\n",
      "           0,   79,  342,  989,   75,  865,  308,  566,  487,  497,  372,  602,\n",
      "         412,  207,  773,  367, 1021,  123,  778,  256,  541,  987,  202,  968,\n",
      "         949,   14,  573,  696,  131,  819,  457,  149,  290,  667,  536,  827,\n",
      "         740,  603,  614,  385,  283,  433,  852,  985,  231,  208,   78,   39,\n",
      "         147,  982,  140,  444,  402,  872,  906,  810,  195,  425,    7,  640,\n",
      "        1022,  558,  563,  572,  781,  897,  743,  969,  780,  876,  912, 1005,\n",
      "         129,  346,  511,   24,  196,  928,  834,  932, 1012,  206,  332,  861,\n",
      "         410,   59,  185,  816,  584,   10,  759,  612,  954,  212,  249,  316,\n",
      "         997,  895,  796,  567,  159,  915,  101, 1009, 1020,  262,  682,  792,\n",
      "         532,    6,  540,  785,  957,  181,  240,  378,  374,  510,  700,  964,\n",
      "         460,  611,  624,  805,   46,  443,  337,  613,  143,  916,  723,  401,\n",
      "         793,  197,  122,  712,  847,  562,  993,   64,  943,  939,  961,  383,\n",
      "         317,  626,  120,  104,  171,  913,  910,  853,  822,  539,  275,  465,\n",
      "        1007,  464,  278,  900,   98,  561,   33, 1013,  483,   18,   47,  245,\n",
      "         344,  106,  904,  455,  113,   60,  331,  817,  226,  638,   44,  505,\n",
      "         472,   57,  479,   48,  557,  219,  437,  215,  490,  423,  419,  945]), 'in_features': 300, 'out_features': 100}\n"
     ]
    },
    {
     "name": "stderr",
     "output_type": "stream",
     "text": [
      "LOCAL_RANK: 0 - CUDA_VISIBLE_DEVICES: [3]\n"
     ]
    },
    {
     "data": {
      "application/vnd.jupyter.widget-view+json": {
       "model_id": "785a76bd450242eba0174515c6a7d771",
       "version_major": 2,
       "version_minor": 0
      },
      "text/plain": [
       "Predicting: 0it [00:00, ?it/s]"
      ]
     },
     "metadata": {},
     "output_type": "display_data"
    },
    {
     "name": "stderr",
     "output_type": "stream",
     "text": [
      "Global seed set to 2\n",
      "No pretrained weights exist or were found for this model. Using random initialization.\n",
      "Global seed set to 1\n",
      "GPU available: True, used: True\n",
      "TPU available: False, using: 0 TPU cores\n",
      "IPU available: False, using: 0 IPUs\n",
      "Global seed set to 0\n"
     ]
    },
    {
     "name": "stdout",
     "output_type": "stream",
     "text": [
      "{'training': True, '_parameters': OrderedDict(), '_buffers': OrderedDict(), '_non_persistent_buffers_set': set(), '_backward_hooks': OrderedDict(), '_is_full_backward_hook': None, '_forward_hooks': OrderedDict(), '_forward_pre_hooks': OrderedDict(), '_state_dict_hooks': OrderedDict(), '_load_state_dict_pre_hooks': OrderedDict(), '_load_state_dict_post_hooks': OrderedDict(), '_modules': OrderedDict([('linear', Linear(in_features=300, out_features=100, bias=True))]), 'neuron_indices': tensor([  37,  708,  342,    9,  647,  767,  633,  291,  607,  306,  648,  514,\n",
      "         588,  660,  257,  444,  694,  492,  878,  770,  758,   89,  126,  561,\n",
      "         747,  223,  786,  658,  261,  403,  156,  783,  631,  353,  491,  818,\n",
      "         699,  640,  310,  354,  253,  220,  649,  552,   47,  136,  646,  570,\n",
      "         673,  113,  112,  322,   92,  888,  855,  776,   95,  941,  955,  247,\n",
      "         626,  428,  789,   36,  277,  886,  987,  408,  348,    2, 1019,  129,\n",
      "         868,  210,  896,  983,  153,   44,  191,  239,  255,  182,  462,  759,\n",
      "         659,  385,  757,  901,  122,  883,  248,   79,  617,  961,  907,  162,\n",
      "         215,  180,  728,  686,  225,  414,  445,  242,  760,  202,  296,  706,\n",
      "         523,  359,  423,  687, 1017,  251,  110,  357,  850,  311,  930,  714,\n",
      "         160,  881,   87,  991,  693,  443,  613,  453,  504,  355,  145,  595,\n",
      "         828,  361,  952,  450,  796,   50,  167,  208,  723,  697,  768,   61,\n",
      "          15,  795,  386,  995,  988,  979,  455,  582,  524,  679,  176, 1001,\n",
      "         107,  196,  851,  821,  503,  438,  683,  295,  753, 1010,  682,  193,\n",
      "         340,  913,  978,   43,  534,  554,  931,  815,   26,  114,  843,  303,\n",
      "         200,  924,  581,  467,  103,  382,  154,  158,  418,  259,  366,    0,\n",
      "         263,   10,  984,  238,   21,  437,  777,  910,  980,  915,  772,  102,\n",
      "         609,  742,  483,  804,  625,  419,  406,  486,  516,  324,  799,  918,\n",
      "         141,  802,  787,  397,  909,  560,  973,   58,  846,  168,  226,  575,\n",
      "         479,  384,  391,  616,  209,  243,  620,  138,  689,  639,  369,  923,\n",
      "         885,  898,  232,  996,  989,  178,   59,  725,   33,  573,  509,  853,\n",
      "         928,    6,   75,  839,  656,  468,  892,  756,  179,  508,  464,  484,\n",
      "         870,   11, 1003,  434,  183,  465,  343,   88,  785,  827,  812,  771,\n",
      "         344,  106,  982,  376,  207,  792,  836,  212,  944,   23,  267,  676,\n",
      "          41,  734,  970,  527,  568,  395,  280,  897,  489,  300,  550,  268]), 'in_features': 300, 'out_features': 100}\n"
     ]
    },
    {
     "name": "stderr",
     "output_type": "stream",
     "text": [
      "LOCAL_RANK: 0 - CUDA_VISIBLE_DEVICES: [3]\n"
     ]
    },
    {
     "data": {
      "application/vnd.jupyter.widget-view+json": {
       "model_id": "1c52c3e516be4f9bbee47cea4a7605b6",
       "version_major": 2,
       "version_minor": 0
      },
      "text/plain": [
       "Predicting: 0it [00:00, ?it/s]"
      ]
     },
     "metadata": {},
     "output_type": "display_data"
    },
    {
     "name": "stderr",
     "output_type": "stream",
     "text": [
      "Global seed set to 2\n",
      "No pretrained weights exist or were found for this model. Using random initialization.\n",
      "Global seed set to 2\n",
      "GPU available: True, used: True\n",
      "TPU available: False, using: 0 TPU cores\n",
      "IPU available: False, using: 0 IPUs\n",
      "Global seed set to 0\n"
     ]
    },
    {
     "name": "stdout",
     "output_type": "stream",
     "text": [
      "{'training': True, '_parameters': OrderedDict(), '_buffers': OrderedDict(), '_non_persistent_buffers_set': set(), '_backward_hooks': OrderedDict(), '_is_full_backward_hook': None, '_forward_hooks': OrderedDict(), '_forward_pre_hooks': OrderedDict(), '_state_dict_hooks': OrderedDict(), '_load_state_dict_pre_hooks': OrderedDict(), '_load_state_dict_post_hooks': OrderedDict(), '_modules': OrderedDict([('linear', Linear(in_features=300, out_features=100, bias=True))]), 'neuron_indices': tensor([ 168,  361,  293, 1002,  522,   59, 1018,  479,  440,  300,  628,  847,\n",
      "         779,  134,  439,  386,  719,  401,  370,  544,   36,  798,  773,  691,\n",
      "         475,  382,  688,  432,  583,  187,  893,  306,  970,  817,  820,  985,\n",
      "         335,  223,  765,  889,  268,  848,  214,  537,  395,  337,  503,  107,\n",
      "         816,  262,  500,  800,  170,  511,  292,  513,  591,  793,  263,  536,\n",
      "         806,  502,  490,  264,  250,  669,  813,  454,  556,  651,  795,  828,\n",
      "         504,  496,  521,  242,  973,  873,  962,  318,  698,  546,  805,  167,\n",
      "         727,  305,  906,  703,  448,   54,  654,  328,  336,  931,  210,  752,\n",
      "         950,  862,  186,  415,   15,  161,  174,  165,  553,  990,  786,  283,\n",
      "         289,  130,  419,  322, 1013,  290,  340,  853,  426,  784,  638,  757,\n",
      "         532,  678,  234,  608,  718,  710,  927,  119,  144,  630,  507,  885,\n",
      "          77,   69,  865,  220,  632,   12,  988,  941,  599,  359,  579, 1023,\n",
      "         877,  445,  451,  425,  327,   25,  792,  437,  822,  645,  385,  670,\n",
      "         118,  390,  413,  576,  414,  658,  278,   39,  952,  120,  733,  619,\n",
      "          61,  273,  369,  767,  849,  951,   60,  243,  559,  154,  650,  562,\n",
      "         543,  311,  514,  597,  622,   92,  573,  466,  686,  593,  930,  135,\n",
      "         928,  509,  178,  960,  955,  482,   18,  215,  100,  280,  675,  667,\n",
      "           2,  298,  707,  588,  968,  566,  942, 1021,  148,  275,  629,  436,\n",
      "         151,  246,  251,  577,  748,   71,  188,  456,   80,  464,  693,   90,\n",
      "         879,  770,  704,  922,  856,  842,  434,  407,  379, 1007,  423,  282,\n",
      "         453,  911,  245,  189,   97,  596,  664,  890,  443,  610,  590,  919,\n",
      "          19,  595,  857,  257,  392,  755,  984,  217,  561,  384,  705,  461,\n",
      "         491,  916,  442,   68,  477,  609,  618,   86,  139,  665,  634,  122,\n",
      "         104,  746,  345,   41,  837,  721,  672,  682,  538,  726,  531,  171,\n",
      "         409,  932,  676,  986,   17,  164,  224,  211,  574,  497,  313,  581]), 'in_features': 300, 'out_features': 100}\n"
     ]
    },
    {
     "name": "stderr",
     "output_type": "stream",
     "text": [
      "LOCAL_RANK: 0 - CUDA_VISIBLE_DEVICES: [3]\n"
     ]
    },
    {
     "data": {
      "application/vnd.jupyter.widget-view+json": {
       "model_id": "3fb096c5724b4d628556a24ce4196e9c",
       "version_major": 2,
       "version_minor": 0
      },
      "text/plain": [
       "Predicting: 0it [00:00, ?it/s]"
      ]
     },
     "metadata": {},
     "output_type": "display_data"
    },
    {
     "name": "stderr",
     "output_type": "stream",
     "text": [
      "Global seed set to 2\n",
      "No pretrained weights exist or were found for this model. Using random initialization.\n",
      "Global seed set to 5\n",
      "GPU available: True, used: True\n",
      "TPU available: False, using: 0 TPU cores\n",
      "IPU available: False, using: 0 IPUs\n",
      "Global seed set to 0\n"
     ]
    },
    {
     "name": "stdout",
     "output_type": "stream",
     "text": [
      "{'training': True, '_parameters': OrderedDict(), '_buffers': OrderedDict(), '_non_persistent_buffers_set': set(), '_backward_hooks': OrderedDict(), '_is_full_backward_hook': None, '_forward_hooks': OrderedDict(), '_forward_pre_hooks': OrderedDict(), '_state_dict_hooks': OrderedDict(), '_load_state_dict_pre_hooks': OrderedDict(), '_load_state_dict_post_hooks': OrderedDict(), '_modules': OrderedDict([('linear', Linear(in_features=300, out_features=100, bias=True))]), 'neuron_indices': tensor([ 867,  451, 1005,   61,  150, 1023,  242,   18,  296,  258,  887,  422,\n",
      "         719,  243,  912,  244,  391,  790,  863,   68,  533,  485,  442,   17,\n",
      "         708,   10,  313,  855,  723,  735,  222,  138,  701,  111,  644,  542,\n",
      "         621,  567,  879,  488,  494,  765,  474,  774,  984,  659,  441,  237,\n",
      "         768,  479,  416,  538,  996,  898,  913,  300,  687,  514,  192,    5,\n",
      "         525,  433,  435,  962,  369,  609, 1003,  919,  264,  236,  176,  393,\n",
      "          28,   25,   33,   30, 1009,  304,  475,  553,  254,  992,  979,  406,\n",
      "         653, 1004,   82,  170,  310,  493,   50,  500,  809,  679,  669,  152,\n",
      "         677,  954,  133,  690,  496,  611,   19,  977,  696,  901,  338,  598,\n",
      "         892,  873,  238,  861,  366,  290,  302,  806,  319,  652,  245,  658,\n",
      "         848,  177,  240,  970,   43,  251,  484,  380,  261,  933,  204,  698,\n",
      "          76,  907,  764,  306,  781,  893,  856,  173,   39,  536,  252,  830,\n",
      "         239,  570,   98,  668,  836,  269,   57,  853,  748,  544,    7,  389,\n",
      "           8,  864,  880,  215,  339,   99,  401,  153,  463,  452,  202,  195,\n",
      "         467,  179,  639,  837,  736,  945,  509,  766,  620,   13,  976,  383,\n",
      "         947,  201,  248,  355,  578, 1000,   47,  506,  980,  522,  395,  554,\n",
      "         711,    3,  562,   31,  808,  430,  960,  325,  928,  877,  903,  384,\n",
      "         849,  921,  135,  461,  683,  895,  450,  200,  250,  163,  423,  518,\n",
      "         341,  148,  545,  190,  883,   80,  868,  882,  758,  793,  674,  141,\n",
      "         537,  682,   65,  734,  198,  732,  737,  331,  188,  166,  905, 1007,\n",
      "         740,  228,  101,  123,  397,  799,  404,  191,  274,  827,  657,  757,\n",
      "         726,  120,  387,  374,  594,  663,  645,  320,  825,  946,   24,  812,\n",
      "         614,  524,  410,  270, 1018,  741,  221,  807,  899,  956,  964,  595,\n",
      "         205,   90,  454,   38,  917,  210,  232,  273,  253,  559, 1010,  847,\n",
      "         558,  814,  691,  470,  151,  935,  579,  966,   34,  813,  581,  295]), 'in_features': 300, 'out_features': 100}\n"
     ]
    },
    {
     "name": "stderr",
     "output_type": "stream",
     "text": [
      "LOCAL_RANK: 0 - CUDA_VISIBLE_DEVICES: [3]\n"
     ]
    },
    {
     "data": {
      "application/vnd.jupyter.widget-view+json": {
       "model_id": "10552be3872844b58167aed3c3eeea8e",
       "version_major": 2,
       "version_minor": 0
      },
      "text/plain": [
       "Predicting: 0it [00:00, ?it/s]"
      ]
     },
     "metadata": {},
     "output_type": "display_data"
    },
    {
     "name": "stderr",
     "output_type": "stream",
     "text": [
      "Global seed set to 2\n",
      "No pretrained weights exist or were found for this model. Using random initialization.\n",
      "Global seed set to 3\n",
      "GPU available: True, used: True\n",
      "TPU available: False, using: 0 TPU cores\n",
      "IPU available: False, using: 0 IPUs\n",
      "Global seed set to 0\n"
     ]
    },
    {
     "name": "stdout",
     "output_type": "stream",
     "text": [
      "{'training': True, '_parameters': OrderedDict(), '_buffers': OrderedDict(), '_non_persistent_buffers_set': set(), '_backward_hooks': OrderedDict(), '_is_full_backward_hook': None, '_forward_hooks': OrderedDict(), '_forward_pre_hooks': OrderedDict(), '_state_dict_hooks': OrderedDict(), '_load_state_dict_pre_hooks': OrderedDict(), '_load_state_dict_post_hooks': OrderedDict(), '_modules': OrderedDict([('linear', Linear(in_features=400, out_features=100, bias=True))]), 'neuron_indices': tensor([ 874,  636,  761,  257,  824,  970,  354,  432,  493,  373,  938,  758,\n",
      "         981, 1014,  520,  589,  631,  582,   26,  918,  152,  574,  439,  814,\n",
      "         496,   66,  783,    8,  350,  634,  804,  659,   92,  896,  103,  795,\n",
      "         857,  368,  340,  845,  509,  503,   52,  547,  198, 1016,  596,  800,\n",
      "         273,  175,   43,  320,  701,  926,  458,  725,  973,  794,   45,  886,\n",
      "         300,  453,  654,  775,  448,  823,  812,  168,  579,  944,  754,  714,\n",
      "         559,  515,  311,  218,  537,  116,  765,  894,  469,  500,  436, 1003,\n",
      "         176,  551,  279,  950,  312,  684, 1008,  533,  264,   42,  304,  858,\n",
      "         855,  112,  323,  803,  213,  395,  724,  494,  289,  925,  571,  616,\n",
      "           0,   79,  342,  989,   75,  865,  308,  566,  487,  497,  372,  602,\n",
      "         412,  207,  773,  367, 1021,  123,  778,  256,  541,  987,  202,  968,\n",
      "         949,   14,  573,  696,  131,  819,  457,  149,  290,  667,  536,  827,\n",
      "         740,  603,  614,  385,  283,  433,  852,  985,  231,  208,   78,   39,\n",
      "         147,  982,  140,  444,  402,  872,  906,  810,  195,  425,    7,  640,\n",
      "        1022,  558,  563,  572,  781,  897,  743,  969,  780,  876,  912, 1005,\n",
      "         129,  346,  511,   24,  196,  928,  834,  932, 1012,  206,  332,  861,\n",
      "         410,   59,  185,  816,  584,   10,  759,  612,  954,  212,  249,  316,\n",
      "         997,  895,  796,  567,  159,  915,  101, 1009, 1020,  262,  682,  792,\n",
      "         532,    6,  540,  785,  957,  181,  240,  378,  374,  510,  700,  964,\n",
      "         460,  611,  624,  805,   46,  443,  337,  613,  143,  916,  723,  401,\n",
      "         793,  197,  122,  712,  847,  562,  993,   64,  943,  939,  961,  383,\n",
      "         317,  626,  120,  104,  171,  913,  910,  853,  822,  539,  275,  465,\n",
      "        1007,  464,  278,  900,   98,  561,   33, 1013,  483,   18,   47,  245,\n",
      "         344,  106,  904,  455,  113,   60,  331,  817,  226,  638,   44,  505,\n",
      "         472,   57,  479,   48,  557,  219,  437,  215,  490,  423,  419,  945,\n",
      "          72,  166,  590,  799,  747,  370,  154,  438,  529,  501,  287,  782,\n",
      "         940,  426,  430,  879,  959,  167,  362,  391,  470,  666,  100,  594,\n",
      "         930,    9,  375,  191,  336,  880,   11,  230,  674,  742,  199,   54,\n",
      "         690,  394,   36,  779,   67,   73,  333,  731,  722,  295,  860,  477,\n",
      "         606,  427,  806,  726,  741,  771,   53,  435,  260,  967,  179,   76,\n",
      "         618,  881,  718,  643,  546,  356,  454,  450,  307,  835,  745,  293,\n",
      "          96,  204,  644,  492,  600,  923,   19,  998,  577,  622,  343,  832,\n",
      "         734,  272,  164,   81,   94,  521,  625,  889,  192,  652,  303,  499,\n",
      "         489,  627,  595,  875]), 'in_features': 400, 'out_features': 100}\n"
     ]
    },
    {
     "name": "stderr",
     "output_type": "stream",
     "text": [
      "LOCAL_RANK: 0 - CUDA_VISIBLE_DEVICES: [3]\n"
     ]
    },
    {
     "data": {
      "application/vnd.jupyter.widget-view+json": {
       "model_id": "1e8de08ef1b9409bb7d64c41d4987237",
       "version_major": 2,
       "version_minor": 0
      },
      "text/plain": [
       "Predicting: 0it [00:00, ?it/s]"
      ]
     },
     "metadata": {},
     "output_type": "display_data"
    },
    {
     "name": "stderr",
     "output_type": "stream",
     "text": [
      "Global seed set to 2\n",
      "No pretrained weights exist or were found for this model. Using random initialization.\n",
      "Global seed set to 4\n",
      "GPU available: True, used: True\n",
      "TPU available: False, using: 0 TPU cores\n",
      "IPU available: False, using: 0 IPUs\n",
      "Global seed set to 0\n"
     ]
    },
    {
     "name": "stdout",
     "output_type": "stream",
     "text": [
      "{'training': True, '_parameters': OrderedDict(), '_buffers': OrderedDict(), '_non_persistent_buffers_set': set(), '_backward_hooks': OrderedDict(), '_is_full_backward_hook': None, '_forward_hooks': OrderedDict(), '_forward_pre_hooks': OrderedDict(), '_state_dict_hooks': OrderedDict(), '_load_state_dict_pre_hooks': OrderedDict(), '_load_state_dict_post_hooks': OrderedDict(), '_modules': OrderedDict([('linear', Linear(in_features=400, out_features=100, bias=True))]), 'neuron_indices': tensor([ 122,  739,  133,   11,  853,  464,  457,  929,   10,   30,  386,  789,\n",
      "         715,  332,  834,  687,  567,  151,  756,  681,  850,  125,  228,  641,\n",
      "         746,  158,   33,  541,  199,  416,  869,  168,  262,  362,  858,  694,\n",
      "         650,  947,  105,  248,  736,  773,  188,  513,  131,  915,  606,  521,\n",
      "         538,  116,  623,  748,  306,  710,  500,  473,  922,  286,    7,   57,\n",
      "        1023,  445,  671,  759,  977,  835,  601,  956,  433,  381,  294,  666,\n",
      "         695,  984,  590,  220,   12,  179,  696,  656,  247,  646,  474,  167,\n",
      "         923,  315,   34,  913,  177,  129,  299,  573,  339,  212,   15,  705,\n",
      "         367,  391,  361,  625,   17,  271,  706,  345,  701,  631,  811,  130,\n",
      "          27,  285,  263,  639,   46,  645,  810,  289,  196,  712,  353,  519,\n",
      "          88,  603,  637,  242,  393,  882,  602,  283,  955,   85,  998,  876,\n",
      "         846,  629,   74,  533,  488,  570,  723,  107,  542,  619,  802,  327,\n",
      "         689,  634,  341,  891,  983,  169,  485,  954,  429, 1022,  530,  675,\n",
      "         335,  319,  790,  920,  607,  732,  543,  962,  323,   49,  170, 1004,\n",
      "         101,  826,  437,   61,  102,  740,  974,  231,   31,    0,  647,  663,\n",
      "         953,  827,  536,  730,  930,  421,  986,  390,  635,  482,  653,  678,\n",
      "         470,  431,  841,  557,    1,  428,  742,  668,  798, 1002, 1017,  951,\n",
      "         884, 1008,  166,  558,  805,  911,  113,  368,  583,  895,  597,   90,\n",
      "         720,  491,   80,  246,  816,  633,  132,  301,  528,  486,  302,  587,\n",
      "         253,  334,   13,  236,   67,  545,  383,  444,  932,  781,  917,  238,\n",
      "         458,   14, 1012,  699,  483,  274,  160, 1016,  265,  515,  848,  985,\n",
      "         300,  914,  994,  777,   48,  793,  952,  698,  945,  878,  591,  927,\n",
      "         257,   69,  547,  396,  419,  999,  241,  610,  652,  561,  758,  822,\n",
      "         821,  140,  825,  404,  769,  806,  942,  722,  417,  809,  495,  845,\n",
      "         889,   47,  434,  409,  752,  472,  905,  808,  812,  209,  662,  351,\n",
      "         422,  568,  971,  921,  879,  357,  980,  492,  397,  157,   45,  311,\n",
      "         901,  593,  544,  127,  117,  904,  581,  948,  772,  968,  731,  928,\n",
      "         686,  504,  982,  506,  622, 1007,  108,  186,  202,   19,  569,  219,\n",
      "          21,   25,  682,  244,  525,  350,  371,  989,  136,  501,  674,   84,\n",
      "          91,  925, 1014,  316,  807,  609,  337,  580,  899,  669, 1021,  410,\n",
      "         377, 1001,  738,  560,  412,  540,  679,  480,  174,  729,  893,  585,\n",
      "         577,  333, 1020,  146,  820,  507,   43,  479,  963,  346,  232,  307,\n",
      "         494,  193,  660,  615,  579,  191, 1019, 1003,  134,  796,  993,  245,\n",
      "         281,  317,  373,   42]), 'in_features': 400, 'out_features': 100}\n"
     ]
    },
    {
     "name": "stderr",
     "output_type": "stream",
     "text": [
      "LOCAL_RANK: 0 - CUDA_VISIBLE_DEVICES: [3]\n"
     ]
    },
    {
     "data": {
      "application/vnd.jupyter.widget-view+json": {
       "model_id": "4e9870d21aac484c8a36aec0629e9513",
       "version_major": 2,
       "version_minor": 0
      },
      "text/plain": [
       "Predicting: 0it [00:00, ?it/s]"
      ]
     },
     "metadata": {},
     "output_type": "display_data"
    },
    {
     "name": "stderr",
     "output_type": "stream",
     "text": [
      "Global seed set to 2\n",
      "No pretrained weights exist or were found for this model. Using random initialization.\n",
      "Global seed set to 1\n",
      "GPU available: True, used: True\n",
      "TPU available: False, using: 0 TPU cores\n",
      "IPU available: False, using: 0 IPUs\n",
      "Global seed set to 0\n"
     ]
    },
    {
     "name": "stdout",
     "output_type": "stream",
     "text": [
      "{'training': True, '_parameters': OrderedDict(), '_buffers': OrderedDict(), '_non_persistent_buffers_set': set(), '_backward_hooks': OrderedDict(), '_is_full_backward_hook': None, '_forward_hooks': OrderedDict(), '_forward_pre_hooks': OrderedDict(), '_state_dict_hooks': OrderedDict(), '_load_state_dict_pre_hooks': OrderedDict(), '_load_state_dict_post_hooks': OrderedDict(), '_modules': OrderedDict([('linear', Linear(in_features=400, out_features=100, bias=True))]), 'neuron_indices': tensor([  37,  708,  342,    9,  647,  767,  633,  291,  607,  306,  648,  514,\n",
      "         588,  660,  257,  444,  694,  492,  878,  770,  758,   89,  126,  561,\n",
      "         747,  223,  786,  658,  261,  403,  156,  783,  631,  353,  491,  818,\n",
      "         699,  640,  310,  354,  253,  220,  649,  552,   47,  136,  646,  570,\n",
      "         673,  113,  112,  322,   92,  888,  855,  776,   95,  941,  955,  247,\n",
      "         626,  428,  789,   36,  277,  886,  987,  408,  348,    2, 1019,  129,\n",
      "         868,  210,  896,  983,  153,   44,  191,  239,  255,  182,  462,  759,\n",
      "         659,  385,  757,  901,  122,  883,  248,   79,  617,  961,  907,  162,\n",
      "         215,  180,  728,  686,  225,  414,  445,  242,  760,  202,  296,  706,\n",
      "         523,  359,  423,  687, 1017,  251,  110,  357,  850,  311,  930,  714,\n",
      "         160,  881,   87,  991,  693,  443,  613,  453,  504,  355,  145,  595,\n",
      "         828,  361,  952,  450,  796,   50,  167,  208,  723,  697,  768,   61,\n",
      "          15,  795,  386,  995,  988,  979,  455,  582,  524,  679,  176, 1001,\n",
      "         107,  196,  851,  821,  503,  438,  683,  295,  753, 1010,  682,  193,\n",
      "         340,  913,  978,   43,  534,  554,  931,  815,   26,  114,  843,  303,\n",
      "         200,  924,  581,  467,  103,  382,  154,  158,  418,  259,  366,    0,\n",
      "         263,   10,  984,  238,   21,  437,  777,  910,  980,  915,  772,  102,\n",
      "         609,  742,  483,  804,  625,  419,  406,  486,  516,  324,  799,  918,\n",
      "         141,  802,  787,  397,  909,  560,  973,   58,  846,  168,  226,  575,\n",
      "         479,  384,  391,  616,  209,  243,  620,  138,  689,  639,  369,  923,\n",
      "         885,  898,  232,  996,  989,  178,   59,  725,   33,  573,  509,  853,\n",
      "         928,    6,   75,  839,  656,  468,  892,  756,  179,  508,  464,  484,\n",
      "         870,   11, 1003,  434,  183,  465,  343,   88,  785,  827,  812,  771,\n",
      "         344,  106,  982,  376,  207,  792,  836,  212,  944,   23,  267,  676,\n",
      "          41,  734,  970,  527,  568,  395,  280,  897,  489,  300,  550,  268,\n",
      "         488,  778,  736,   86,   17,  856,  586,  638,  698,  939,  721,  469,\n",
      "         170,  902,  173,  426,  293,  869,  705,  335,  764,  135,  642,  899,\n",
      "         432, 1014,  519, 1018,  832,  738,  867,  256,   46,  380,  351,  781,\n",
      "         911,  553,  741,  329,  331,  132,  370,  715,  520, 1002,  430,  585,\n",
      "          98,  529,  320,  219,  199,  904,  393,   52,  953,  713,  990,  556,\n",
      "         377,  431,  336,  914,  709,  204, 1008, 1007,  217,  743,  986,  807,\n",
      "          65,  603,  748,  666,  800,  500,   49,  662,  940,  555,  139,  374,\n",
      "         507,  190,  735,  109,  471,  999,   28,  501,   24,  717,  346,  372,\n",
      "         470,  577,   62,   25]), 'in_features': 400, 'out_features': 100}\n"
     ]
    },
    {
     "name": "stderr",
     "output_type": "stream",
     "text": [
      "LOCAL_RANK: 0 - CUDA_VISIBLE_DEVICES: [3]\n"
     ]
    },
    {
     "data": {
      "application/vnd.jupyter.widget-view+json": {
       "model_id": "b5d61c854de14fb2b357d587efb9500e",
       "version_major": 2,
       "version_minor": 0
      },
      "text/plain": [
       "Predicting: 0it [00:00, ?it/s]"
      ]
     },
     "metadata": {},
     "output_type": "display_data"
    },
    {
     "name": "stderr",
     "output_type": "stream",
     "text": [
      "Global seed set to 2\n",
      "No pretrained weights exist or were found for this model. Using random initialization.\n",
      "Global seed set to 5\n",
      "GPU available: True, used: True\n",
      "TPU available: False, using: 0 TPU cores\n",
      "IPU available: False, using: 0 IPUs\n",
      "Global seed set to 0\n"
     ]
    },
    {
     "name": "stdout",
     "output_type": "stream",
     "text": [
      "{'training': True, '_parameters': OrderedDict(), '_buffers': OrderedDict(), '_non_persistent_buffers_set': set(), '_backward_hooks': OrderedDict(), '_is_full_backward_hook': None, '_forward_hooks': OrderedDict(), '_forward_pre_hooks': OrderedDict(), '_state_dict_hooks': OrderedDict(), '_load_state_dict_pre_hooks': OrderedDict(), '_load_state_dict_post_hooks': OrderedDict(), '_modules': OrderedDict([('linear', Linear(in_features=400, out_features=100, bias=True))]), 'neuron_indices': tensor([ 867,  451, 1005,   61,  150, 1023,  242,   18,  296,  258,  887,  422,\n",
      "         719,  243,  912,  244,  391,  790,  863,   68,  533,  485,  442,   17,\n",
      "         708,   10,  313,  855,  723,  735,  222,  138,  701,  111,  644,  542,\n",
      "         621,  567,  879,  488,  494,  765,  474,  774,  984,  659,  441,  237,\n",
      "         768,  479,  416,  538,  996,  898,  913,  300,  687,  514,  192,    5,\n",
      "         525,  433,  435,  962,  369,  609, 1003,  919,  264,  236,  176,  393,\n",
      "          28,   25,   33,   30, 1009,  304,  475,  553,  254,  992,  979,  406,\n",
      "         653, 1004,   82,  170,  310,  493,   50,  500,  809,  679,  669,  152,\n",
      "         677,  954,  133,  690,  496,  611,   19,  977,  696,  901,  338,  598,\n",
      "         892,  873,  238,  861,  366,  290,  302,  806,  319,  652,  245,  658,\n",
      "         848,  177,  240,  970,   43,  251,  484,  380,  261,  933,  204,  698,\n",
      "          76,  907,  764,  306,  781,  893,  856,  173,   39,  536,  252,  830,\n",
      "         239,  570,   98,  668,  836,  269,   57,  853,  748,  544,    7,  389,\n",
      "           8,  864,  880,  215,  339,   99,  401,  153,  463,  452,  202,  195,\n",
      "         467,  179,  639,  837,  736,  945,  509,  766,  620,   13,  976,  383,\n",
      "         947,  201,  248,  355,  578, 1000,   47,  506,  980,  522,  395,  554,\n",
      "         711,    3,  562,   31,  808,  430,  960,  325,  928,  877,  903,  384,\n",
      "         849,  921,  135,  461,  683,  895,  450,  200,  250,  163,  423,  518,\n",
      "         341,  148,  545,  190,  883,   80,  868,  882,  758,  793,  674,  141,\n",
      "         537,  682,   65,  734,  198,  732,  737,  331,  188,  166,  905, 1007,\n",
      "         740,  228,  101,  123,  397,  799,  404,  191,  274,  827,  657,  757,\n",
      "         726,  120,  387,  374,  594,  663,  645,  320,  825,  946,   24,  812,\n",
      "         614,  524,  410,  270, 1018,  741,  221,  807,  899,  956,  964,  595,\n",
      "         205,   90,  454,   38,  917,  210,  232,  273,  253,  559, 1010,  847,\n",
      "         558,  814,  691,  470,  151,  935,  579,  966,   34,  813,  581,  295,\n",
      "          16,  760,  272,  852,  995,  788,  600,  720,  973,  642,  566,  379,\n",
      "         703,   26,  575,  678,  471,  528,  347,  142,  539,  335,  407,  978,\n",
      "         327,  786,   89,  293,  821,  403,  787,  670,  622,  884,  100,  181,\n",
      "         854,  119,  508,   54,  417,  733,  874,  865,  360,  574,  256,  233,\n",
      "         507,   11,  495,  937,  592,  318,  676, 1020,   15,  844,  571,  405,\n",
      "         476,  303,  353,  109,  110,  106,  640,  842,  447,  280,  779,  782,\n",
      "         247,  666,  108,  363, 1012,  526,  132,  673,   72,  599,  647,    4,\n",
      "          46,  323,  351,  333,  588,  983,   73,  743,  378,  767,  373,  886,\n",
      "         942,  940,  364,   44]), 'in_features': 400, 'out_features': 100}\n"
     ]
    },
    {
     "name": "stderr",
     "output_type": "stream",
     "text": [
      "LOCAL_RANK: 0 - CUDA_VISIBLE_DEVICES: [3]\n"
     ]
    },
    {
     "data": {
      "application/vnd.jupyter.widget-view+json": {
       "model_id": "4ec984e06b0c4dd598005cce9ebed953",
       "version_major": 2,
       "version_minor": 0
      },
      "text/plain": [
       "Predicting: 0it [00:00, ?it/s]"
      ]
     },
     "metadata": {},
     "output_type": "display_data"
    },
    {
     "name": "stderr",
     "output_type": "stream",
     "text": [
      "Global seed set to 2\n",
      "No pretrained weights exist or were found for this model. Using random initialization.\n",
      "Global seed set to 2\n",
      "GPU available: True, used: True\n",
      "TPU available: False, using: 0 TPU cores\n",
      "IPU available: False, using: 0 IPUs\n",
      "Global seed set to 0\n"
     ]
    },
    {
     "name": "stdout",
     "output_type": "stream",
     "text": [
      "{'training': True, '_parameters': OrderedDict(), '_buffers': OrderedDict(), '_non_persistent_buffers_set': set(), '_backward_hooks': OrderedDict(), '_is_full_backward_hook': None, '_forward_hooks': OrderedDict(), '_forward_pre_hooks': OrderedDict(), '_state_dict_hooks': OrderedDict(), '_load_state_dict_pre_hooks': OrderedDict(), '_load_state_dict_post_hooks': OrderedDict(), '_modules': OrderedDict([('linear', Linear(in_features=400, out_features=100, bias=True))]), 'neuron_indices': tensor([ 168,  361,  293, 1002,  522,   59, 1018,  479,  440,  300,  628,  847,\n",
      "         779,  134,  439,  386,  719,  401,  370,  544,   36,  798,  773,  691,\n",
      "         475,  382,  688,  432,  583,  187,  893,  306,  970,  817,  820,  985,\n",
      "         335,  223,  765,  889,  268,  848,  214,  537,  395,  337,  503,  107,\n",
      "         816,  262,  500,  800,  170,  511,  292,  513,  591,  793,  263,  536,\n",
      "         806,  502,  490,  264,  250,  669,  813,  454,  556,  651,  795,  828,\n",
      "         504,  496,  521,  242,  973,  873,  962,  318,  698,  546,  805,  167,\n",
      "         727,  305,  906,  703,  448,   54,  654,  328,  336,  931,  210,  752,\n",
      "         950,  862,  186,  415,   15,  161,  174,  165,  553,  990,  786,  283,\n",
      "         289,  130,  419,  322, 1013,  290,  340,  853,  426,  784,  638,  757,\n",
      "         532,  678,  234,  608,  718,  710,  927,  119,  144,  630,  507,  885,\n",
      "          77,   69,  865,  220,  632,   12,  988,  941,  599,  359,  579, 1023,\n",
      "         877,  445,  451,  425,  327,   25,  792,  437,  822,  645,  385,  670,\n",
      "         118,  390,  413,  576,  414,  658,  278,   39,  952,  120,  733,  619,\n",
      "          61,  273,  369,  767,  849,  951,   60,  243,  559,  154,  650,  562,\n",
      "         543,  311,  514,  597,  622,   92,  573,  466,  686,  593,  930,  135,\n",
      "         928,  509,  178,  960,  955,  482,   18,  215,  100,  280,  675,  667,\n",
      "           2,  298,  707,  588,  968,  566,  942, 1021,  148,  275,  629,  436,\n",
      "         151,  246,  251,  577,  748,   71,  188,  456,   80,  464,  693,   90,\n",
      "         879,  770,  704,  922,  856,  842,  434,  407,  379, 1007,  423,  282,\n",
      "         453,  911,  245,  189,   97,  596,  664,  890,  443,  610,  590,  919,\n",
      "          19,  595,  857,  257,  392,  755,  984,  217,  561,  384,  705,  461,\n",
      "         491,  916,  442,   68,  477,  609,  618,   86,  139,  665,  634,  122,\n",
      "         104,  746,  345,   41,  837,  721,  672,  682,  538,  726,  531,  171,\n",
      "         409,  932,  676,  986,   17,  164,  224,  211,  574,  497,  313,  581,\n",
      "         957,   33,  935,  526,  929,  921,  723,   32,  325,    4,  766,   30,\n",
      "         568,  412,  754,  232,  601,  277,  685,   91,  661,  193,  175,  473,\n",
      "         185,  374,  302,  555,  196,    0,  656,  360,  462,  460,  602,  143,\n",
      "         367,   79,  649,  826,  759,   84,  947,  730,   63,  428,  113,  363,\n",
      "         516,  343,  809,  987,  668,  446,  541,  836,  418,  430,  646,  625,\n",
      "         869,  505,  372,   73,  633,  655,  998,  903,  320,  749, 1008,  594,\n",
      "         301,   24,  230,  326,  110,  564,  357,  603,   14,  687,  937,   76,\n",
      "         117,  774,  276,  467,   67,  315,   21,  156,  375,  523,  321,  213,\n",
      "          46,  179, 1005,   31]), 'in_features': 400, 'out_features': 100}\n"
     ]
    },
    {
     "name": "stderr",
     "output_type": "stream",
     "text": [
      "LOCAL_RANK: 0 - CUDA_VISIBLE_DEVICES: [3]\n"
     ]
    },
    {
     "data": {
      "application/vnd.jupyter.widget-view+json": {
       "model_id": "c76070295eb0409499c763ca6ace257e",
       "version_major": 2,
       "version_minor": 0
      },
      "text/plain": [
       "Predicting: 0it [00:00, ?it/s]"
      ]
     },
     "metadata": {},
     "output_type": "display_data"
    },
    {
     "name": "stderr",
     "output_type": "stream",
     "text": [
      "Global seed set to 2\n",
      "No pretrained weights exist or were found for this model. Using random initialization.\n",
      "Global seed set to 1\n",
      "GPU available: True, used: True\n",
      "TPU available: False, using: 0 TPU cores\n",
      "IPU available: False, using: 0 IPUs\n",
      "Global seed set to 0\n"
     ]
    },
    {
     "name": "stdout",
     "output_type": "stream",
     "text": [
      "{'training': True, '_parameters': OrderedDict(), '_buffers': OrderedDict(), '_non_persistent_buffers_set': set(), '_backward_hooks': OrderedDict(), '_is_full_backward_hook': None, '_forward_hooks': OrderedDict(), '_forward_pre_hooks': OrderedDict(), '_state_dict_hooks': OrderedDict(), '_load_state_dict_pre_hooks': OrderedDict(), '_load_state_dict_post_hooks': OrderedDict(), '_modules': OrderedDict([('linear', Linear(in_features=600, out_features=100, bias=True))]), 'neuron_indices': tensor([  37,  708,  342,    9,  647,  767,  633,  291,  607,  306,  648,  514,\n",
      "         588,  660,  257,  444,  694,  492,  878,  770,  758,   89,  126,  561,\n",
      "         747,  223,  786,  658,  261,  403,  156,  783,  631,  353,  491,  818,\n",
      "         699,  640,  310,  354,  253,  220,  649,  552,   47,  136,  646,  570,\n",
      "         673,  113,  112,  322,   92,  888,  855,  776,   95,  941,  955,  247,\n",
      "         626,  428,  789,   36,  277,  886,  987,  408,  348,    2, 1019,  129,\n",
      "         868,  210,  896,  983,  153,   44,  191,  239,  255,  182,  462,  759,\n",
      "         659,  385,  757,  901,  122,  883,  248,   79,  617,  961,  907,  162,\n",
      "         215,  180,  728,  686,  225,  414,  445,  242,  760,  202,  296,  706,\n",
      "         523,  359,  423,  687, 1017,  251,  110,  357,  850,  311,  930,  714,\n",
      "         160,  881,   87,  991,  693,  443,  613,  453,  504,  355,  145,  595,\n",
      "         828,  361,  952,  450,  796,   50,  167,  208,  723,  697,  768,   61,\n",
      "          15,  795,  386,  995,  988,  979,  455,  582,  524,  679,  176, 1001,\n",
      "         107,  196,  851,  821,  503,  438,  683,  295,  753, 1010,  682,  193,\n",
      "         340,  913,  978,   43,  534,  554,  931,  815,   26,  114,  843,  303,\n",
      "         200,  924,  581,  467,  103,  382,  154,  158,  418,  259,  366,    0,\n",
      "         263,   10,  984,  238,   21,  437,  777,  910,  980,  915,  772,  102,\n",
      "         609,  742,  483,  804,  625,  419,  406,  486,  516,  324,  799,  918,\n",
      "         141,  802,  787,  397,  909,  560,  973,   58,  846,  168,  226,  575,\n",
      "         479,  384,  391,  616,  209,  243,  620,  138,  689,  639,  369,  923,\n",
      "         885,  898,  232,  996,  989,  178,   59,  725,   33,  573,  509,  853,\n",
      "         928,    6,   75,  839,  656,  468,  892,  756,  179,  508,  464,  484,\n",
      "         870,   11, 1003,  434,  183,  465,  343,   88,  785,  827,  812,  771,\n",
      "         344,  106,  982,  376,  207,  792,  836,  212,  944,   23,  267,  676,\n",
      "          41,  734,  970,  527,  568,  395,  280,  897,  489,  300,  550,  268,\n",
      "         488,  778,  736,   86,   17,  856,  586,  638,  698,  939,  721,  469,\n",
      "         170,  902,  173,  426,  293,  869,  705,  335,  764,  135,  642,  899,\n",
      "         432, 1014,  519, 1018,  832,  738,  867,  256,   46,  380,  351,  781,\n",
      "         911,  553,  741,  329,  331,  132,  370,  715,  520, 1002,  430,  585,\n",
      "          98,  529,  320,  219,  199,  904,  393,   52,  953,  713,  990,  556,\n",
      "         377,  431,  336,  914,  709,  204, 1008, 1007,  217,  743,  986,  807,\n",
      "          65,  603,  748,  666,  800,  500,   49,  662,  940,  555,  139,  374,\n",
      "         507,  190,  735,  109,  471,  999,   28,  501,   24,  717,  346,  372,\n",
      "         470,  577,   62,   25,  780,  100,  745,   51,  957,  249,  636,  258,\n",
      "         482,  630,  292,  808,  977,  485,  675,  700,   91,  281,   72,  604,\n",
      "         628,  319,   96,  825,  326,  448,  637,  184,  875,  146,  510,  442,\n",
      "         143,   85,  334,  817,  574,  273,  260,  411,  297,  720,  569,  104,\n",
      "         925,   54,  597,  732,  363,  477,  684,  942,  798,  668,  858,  222,\n",
      "         456,  782,  842,  498,  187,  526,  528,  900,  838,  702,  559,  826,\n",
      "          39,  266,  837,  548,  655,    8,  433,  108,  536,  349,  496,   27,\n",
      "         661,  367,  763,  801,  532,  441,  427,  674,   97,  502,  948,  298,\n",
      "         959,  144,   19,  634,  252,  994,  227,  278,  596,  906,  381,  515,\n",
      "         969,  579,  270,  521,  134,   16,  844,  424,  130,  729,  368,  840,\n",
      "         111,  874,  147,  265,  490,  562,  916,  314,  805,  474,  775,    1,\n",
      "         750,  615,  719,  405,  302,  205, 1009,  240,  730,  188,  439,  531,\n",
      "         754,  415,  517,  859,  124,  148,  530,  726,  860,   56,  505,  774,\n",
      "         592,  274,  101,  460,  425,  752,  360,  680,  919,  538, 1011,    5,\n",
      "        1015,  435,  537,   70,  198,  704,  688,  857,  301,   81,  224,  535,\n",
      "         722,  601,   53,  593,   12,  399,  345,   38,  793,  463,  294,  447,\n",
      "         410,  920,  254,  338,  197,  670,  150,  533,  116,  378,  966,  287]), 'in_features': 600, 'out_features': 100}\n"
     ]
    },
    {
     "name": "stderr",
     "output_type": "stream",
     "text": [
      "LOCAL_RANK: 0 - CUDA_VISIBLE_DEVICES: [3]\n"
     ]
    },
    {
     "data": {
      "application/vnd.jupyter.widget-view+json": {
       "model_id": "13019646a35d4db287263ec4f21aa42b",
       "version_major": 2,
       "version_minor": 0
      },
      "text/plain": [
       "Predicting: 0it [00:00, ?it/s]"
      ]
     },
     "metadata": {},
     "output_type": "display_data"
    },
    {
     "name": "stderr",
     "output_type": "stream",
     "text": [
      "Global seed set to 2\n",
      "No pretrained weights exist or were found for this model. Using random initialization.\n",
      "Global seed set to 5\n",
      "GPU available: True, used: True\n",
      "TPU available: False, using: 0 TPU cores\n",
      "IPU available: False, using: 0 IPUs\n",
      "Global seed set to 0\n"
     ]
    },
    {
     "name": "stdout",
     "output_type": "stream",
     "text": [
      "{'training': True, '_parameters': OrderedDict(), '_buffers': OrderedDict(), '_non_persistent_buffers_set': set(), '_backward_hooks': OrderedDict(), '_is_full_backward_hook': None, '_forward_hooks': OrderedDict(), '_forward_pre_hooks': OrderedDict(), '_state_dict_hooks': OrderedDict(), '_load_state_dict_pre_hooks': OrderedDict(), '_load_state_dict_post_hooks': OrderedDict(), '_modules': OrderedDict([('linear', Linear(in_features=600, out_features=100, bias=True))]), 'neuron_indices': tensor([ 867,  451, 1005,   61,  150, 1023,  242,   18,  296,  258,  887,  422,\n",
      "         719,  243,  912,  244,  391,  790,  863,   68,  533,  485,  442,   17,\n",
      "         708,   10,  313,  855,  723,  735,  222,  138,  701,  111,  644,  542,\n",
      "         621,  567,  879,  488,  494,  765,  474,  774,  984,  659,  441,  237,\n",
      "         768,  479,  416,  538,  996,  898,  913,  300,  687,  514,  192,    5,\n",
      "         525,  433,  435,  962,  369,  609, 1003,  919,  264,  236,  176,  393,\n",
      "          28,   25,   33,   30, 1009,  304,  475,  553,  254,  992,  979,  406,\n",
      "         653, 1004,   82,  170,  310,  493,   50,  500,  809,  679,  669,  152,\n",
      "         677,  954,  133,  690,  496,  611,   19,  977,  696,  901,  338,  598,\n",
      "         892,  873,  238,  861,  366,  290,  302,  806,  319,  652,  245,  658,\n",
      "         848,  177,  240,  970,   43,  251,  484,  380,  261,  933,  204,  698,\n",
      "          76,  907,  764,  306,  781,  893,  856,  173,   39,  536,  252,  830,\n",
      "         239,  570,   98,  668,  836,  269,   57,  853,  748,  544,    7,  389,\n",
      "           8,  864,  880,  215,  339,   99,  401,  153,  463,  452,  202,  195,\n",
      "         467,  179,  639,  837,  736,  945,  509,  766,  620,   13,  976,  383,\n",
      "         947,  201,  248,  355,  578, 1000,   47,  506,  980,  522,  395,  554,\n",
      "         711,    3,  562,   31,  808,  430,  960,  325,  928,  877,  903,  384,\n",
      "         849,  921,  135,  461,  683,  895,  450,  200,  250,  163,  423,  518,\n",
      "         341,  148,  545,  190,  883,   80,  868,  882,  758,  793,  674,  141,\n",
      "         537,  682,   65,  734,  198,  732,  737,  331,  188,  166,  905, 1007,\n",
      "         740,  228,  101,  123,  397,  799,  404,  191,  274,  827,  657,  757,\n",
      "         726,  120,  387,  374,  594,  663,  645,  320,  825,  946,   24,  812,\n",
      "         614,  524,  410,  270, 1018,  741,  221,  807,  899,  956,  964,  595,\n",
      "         205,   90,  454,   38,  917,  210,  232,  273,  253,  559, 1010,  847,\n",
      "         558,  814,  691,  470,  151,  935,  579,  966,   34,  813,  581,  295,\n",
      "          16,  760,  272,  852,  995,  788,  600,  720,  973,  642,  566,  379,\n",
      "         703,   26,  575,  678,  471,  528,  347,  142,  539,  335,  407,  978,\n",
      "         327,  786,   89,  293,  821,  403,  787,  670,  622,  884,  100,  181,\n",
      "         854,  119,  508,   54,  417,  733,  874,  865,  360,  574,  256,  233,\n",
      "         507,   11,  495,  937,  592,  318,  676, 1020,   15,  844,  571,  405,\n",
      "         476,  303,  353,  109,  110,  106,  640,  842,  447,  280,  779,  782,\n",
      "         247,  666,  108,  363, 1012,  526,  132,  673,   72,  599,  647,    4,\n",
      "          46,  323,  351,  333,  588,  983,   73,  743,  378,  767,  373,  886,\n",
      "         942,  940,  364,   44,  446,  107,  478,  778,  817,  311,  860,  174,\n",
      "         337,  997,  235,  699,  503,  564,   51,  473,  641,  431,  229,  974,\n",
      "         167,  130,  616,  751,  573,  926,    9,  275,  453,  287,  624,  199,\n",
      "         924,   41,  773,  193,  843,   83,  262,  890,   14,  445,  896,  386,\n",
      "         482,  492,  943,  426,  555,  930,  372,  791,   93,  343,  638,   58,\n",
      "         911,  549,  859,  511,  941,  480,  931,  915,  989, 1002,  249,  585,\n",
      "         308,  706,  505,  710,  771,   21,  920,  535,  520,  704,  468,  131,\n",
      "         986,  932,  424,  731,  299,  724,  203,  396,  742,  718,  497,  455,\n",
      "         834,  749,  309, 1013,    2,  316,  288,  292,  224,  610,  462,  282,\n",
      "         770,  871,   20,   66,   42,  225,  187,  776,  154,  263,  125,  220,\n",
      "         754,  147,  329,  543,  531,  330,  936, 1015,  744,  377,  580,  705,\n",
      "         672,  797,  552,  317,  487,  577,   74,  321,  375,  206,  707,  850,\n",
      "         197,  438,  729,  603,  576,  908,  556,  346,  160,  636,  328,  136,\n",
      "         144,  727,  394,  569,  472,  685,  398,  278,  510,  955,  322,  218,\n",
      "         975,  434,  105,  604,  289,  382,  916,  298,   63,  457, 1008,   69,\n",
      "         145,  448,  414,  583,  534,   49,  939,  910,  617,  922,  820,  780,\n",
      "         613,   55,  444,   36,  227,  283,  527,  661,   52,  314,  342,  517]), 'in_features': 600, 'out_features': 100}\n"
     ]
    },
    {
     "name": "stderr",
     "output_type": "stream",
     "text": [
      "LOCAL_RANK: 0 - CUDA_VISIBLE_DEVICES: [3]\n"
     ]
    },
    {
     "data": {
      "application/vnd.jupyter.widget-view+json": {
       "model_id": "c83c55053dd54c93934f1ef375f39c27",
       "version_major": 2,
       "version_minor": 0
      },
      "text/plain": [
       "Predicting: 0it [00:00, ?it/s]"
      ]
     },
     "metadata": {},
     "output_type": "display_data"
    },
    {
     "name": "stderr",
     "output_type": "stream",
     "text": [
      "Global seed set to 2\n",
      "No pretrained weights exist or were found for this model. Using random initialization.\n",
      "Global seed set to 2\n",
      "GPU available: True, used: True\n",
      "TPU available: False, using: 0 TPU cores\n",
      "IPU available: False, using: 0 IPUs\n",
      "Global seed set to 0\n"
     ]
    },
    {
     "name": "stdout",
     "output_type": "stream",
     "text": [
      "{'training': True, '_parameters': OrderedDict(), '_buffers': OrderedDict(), '_non_persistent_buffers_set': set(), '_backward_hooks': OrderedDict(), '_is_full_backward_hook': None, '_forward_hooks': OrderedDict(), '_forward_pre_hooks': OrderedDict(), '_state_dict_hooks': OrderedDict(), '_load_state_dict_pre_hooks': OrderedDict(), '_load_state_dict_post_hooks': OrderedDict(), '_modules': OrderedDict([('linear', Linear(in_features=600, out_features=100, bias=True))]), 'neuron_indices': tensor([ 168,  361,  293, 1002,  522,   59, 1018,  479,  440,  300,  628,  847,\n",
      "         779,  134,  439,  386,  719,  401,  370,  544,   36,  798,  773,  691,\n",
      "         475,  382,  688,  432,  583,  187,  893,  306,  970,  817,  820,  985,\n",
      "         335,  223,  765,  889,  268,  848,  214,  537,  395,  337,  503,  107,\n",
      "         816,  262,  500,  800,  170,  511,  292,  513,  591,  793,  263,  536,\n",
      "         806,  502,  490,  264,  250,  669,  813,  454,  556,  651,  795,  828,\n",
      "         504,  496,  521,  242,  973,  873,  962,  318,  698,  546,  805,  167,\n",
      "         727,  305,  906,  703,  448,   54,  654,  328,  336,  931,  210,  752,\n",
      "         950,  862,  186,  415,   15,  161,  174,  165,  553,  990,  786,  283,\n",
      "         289,  130,  419,  322, 1013,  290,  340,  853,  426,  784,  638,  757,\n",
      "         532,  678,  234,  608,  718,  710,  927,  119,  144,  630,  507,  885,\n",
      "          77,   69,  865,  220,  632,   12,  988,  941,  599,  359,  579, 1023,\n",
      "         877,  445,  451,  425,  327,   25,  792,  437,  822,  645,  385,  670,\n",
      "         118,  390,  413,  576,  414,  658,  278,   39,  952,  120,  733,  619,\n",
      "          61,  273,  369,  767,  849,  951,   60,  243,  559,  154,  650,  562,\n",
      "         543,  311,  514,  597,  622,   92,  573,  466,  686,  593,  930,  135,\n",
      "         928,  509,  178,  960,  955,  482,   18,  215,  100,  280,  675,  667,\n",
      "           2,  298,  707,  588,  968,  566,  942, 1021,  148,  275,  629,  436,\n",
      "         151,  246,  251,  577,  748,   71,  188,  456,   80,  464,  693,   90,\n",
      "         879,  770,  704,  922,  856,  842,  434,  407,  379, 1007,  423,  282,\n",
      "         453,  911,  245,  189,   97,  596,  664,  890,  443,  610,  590,  919,\n",
      "          19,  595,  857,  257,  392,  755,  984,  217,  561,  384,  705,  461,\n",
      "         491,  916,  442,   68,  477,  609,  618,   86,  139,  665,  634,  122,\n",
      "         104,  746,  345,   41,  837,  721,  672,  682,  538,  726,  531,  171,\n",
      "         409,  932,  676,  986,   17,  164,  224,  211,  574,  497,  313,  581,\n",
      "         957,   33,  935,  526,  929,  921,  723,   32,  325,    4,  766,   30,\n",
      "         568,  412,  754,  232,  601,  277,  685,   91,  661,  193,  175,  473,\n",
      "         185,  374,  302,  555,  196,    0,  656,  360,  462,  460,  602,  143,\n",
      "         367,   79,  649,  826,  759,   84,  947,  730,   63,  428,  113,  363,\n",
      "         516,  343,  809,  987,  668,  446,  541,  836,  418,  430,  646,  625,\n",
      "         869,  505,  372,   73,  633,  655,  998,  903,  320,  749, 1008,  594,\n",
      "         301,   24,  230,  326,  110,  564,  357,  603,   14,  687,  937,   76,\n",
      "         117,  774,  276,  467,   67,  315,   21,  156,  375,  523,  321,  213,\n",
      "          46,  179, 1005,   31,  411,   44,  506, 1017,  247,  810,  695,  499,\n",
      "         621,  116,  476,  923,  121,  881,  155,  824,  267, 1000,  961,  493,\n",
      "          16,  758,  631,   13,  209,  692,  383,  172,  963,  309,  834,  218,\n",
      "         420,  572,  611,  540,  936,  697,  530,  917,  883, 1003,  560,  915,\n",
      "         339,   10,  554,  228,  683,  387,  333,   28,  201,  846,  240,  191,\n",
      "         706,  679,  814,  180,  549,  843,  569,  346,  614,  323,  410, 1019,\n",
      "         350,  783,  995,  285,  237,  295,  299,  858,  841,  444,  138,  341,\n",
      "         229,   78,  735,  734,  332,  254,  405,  338,  260,  850, 1012, 1009,\n",
      "         235,  489,  575,  498,  358,  684,  136,  132,  738,  108,  659,  829,\n",
      "         872,  427,  587, 1006,  926,  740,  258,  197,  381,  635,  233,  307,\n",
      "         274,  944,  788,   75,  371,  888,  103,  880,  999,  163,  647,  147,\n",
      "        1004,  271,  365,  714,  270,   62,  598,  912,  249,  997,  202,  552,\n",
      "         417,  495,  690,  565,  256,  463,  227,  711,  775,  398,  585,  605,\n",
      "         884,  720,  823,  851,  447,  982,  933,   22,  639,  362,  712,  637,\n",
      "         859,  324,  861,  222,  265,   93,   47,  623,  524,  272,   57,  114,\n",
      "         248,   70,  776, 1014,  510,  652,  725,  898,  520,  567,  160,  394,\n",
      "         433,  396,  742,  643,  344,  689,  354,  534,  965,  729,  617,  558]), 'in_features': 600, 'out_features': 100}\n"
     ]
    },
    {
     "name": "stderr",
     "output_type": "stream",
     "text": [
      "LOCAL_RANK: 0 - CUDA_VISIBLE_DEVICES: [3]\n"
     ]
    },
    {
     "data": {
      "application/vnd.jupyter.widget-view+json": {
       "model_id": "fd38087e40f141d1bc913c20349dd6af",
       "version_major": 2,
       "version_minor": 0
      },
      "text/plain": [
       "Predicting: 0it [00:00, ?it/s]"
      ]
     },
     "metadata": {},
     "output_type": "display_data"
    },
    {
     "name": "stderr",
     "output_type": "stream",
     "text": [
      "Global seed set to 2\n",
      "No pretrained weights exist or were found for this model. Using random initialization.\n",
      "Global seed set to 3\n",
      "GPU available: True, used: True\n",
      "TPU available: False, using: 0 TPU cores\n",
      "IPU available: False, using: 0 IPUs\n",
      "Global seed set to 0\n"
     ]
    },
    {
     "name": "stdout",
     "output_type": "stream",
     "text": [
      "{'training': True, '_parameters': OrderedDict(), '_buffers': OrderedDict(), '_non_persistent_buffers_set': set(), '_backward_hooks': OrderedDict(), '_is_full_backward_hook': None, '_forward_hooks': OrderedDict(), '_forward_pre_hooks': OrderedDict(), '_state_dict_hooks': OrderedDict(), '_load_state_dict_pre_hooks': OrderedDict(), '_load_state_dict_post_hooks': OrderedDict(), '_modules': OrderedDict([('linear', Linear(in_features=600, out_features=100, bias=True))]), 'neuron_indices': tensor([ 874,  636,  761,  257,  824,  970,  354,  432,  493,  373,  938,  758,\n",
      "         981, 1014,  520,  589,  631,  582,   26,  918,  152,  574,  439,  814,\n",
      "         496,   66,  783,    8,  350,  634,  804,  659,   92,  896,  103,  795,\n",
      "         857,  368,  340,  845,  509,  503,   52,  547,  198, 1016,  596,  800,\n",
      "         273,  175,   43,  320,  701,  926,  458,  725,  973,  794,   45,  886,\n",
      "         300,  453,  654,  775,  448,  823,  812,  168,  579,  944,  754,  714,\n",
      "         559,  515,  311,  218,  537,  116,  765,  894,  469,  500,  436, 1003,\n",
      "         176,  551,  279,  950,  312,  684, 1008,  533,  264,   42,  304,  858,\n",
      "         855,  112,  323,  803,  213,  395,  724,  494,  289,  925,  571,  616,\n",
      "           0,   79,  342,  989,   75,  865,  308,  566,  487,  497,  372,  602,\n",
      "         412,  207,  773,  367, 1021,  123,  778,  256,  541,  987,  202,  968,\n",
      "         949,   14,  573,  696,  131,  819,  457,  149,  290,  667,  536,  827,\n",
      "         740,  603,  614,  385,  283,  433,  852,  985,  231,  208,   78,   39,\n",
      "         147,  982,  140,  444,  402,  872,  906,  810,  195,  425,    7,  640,\n",
      "        1022,  558,  563,  572,  781,  897,  743,  969,  780,  876,  912, 1005,\n",
      "         129,  346,  511,   24,  196,  928,  834,  932, 1012,  206,  332,  861,\n",
      "         410,   59,  185,  816,  584,   10,  759,  612,  954,  212,  249,  316,\n",
      "         997,  895,  796,  567,  159,  915,  101, 1009, 1020,  262,  682,  792,\n",
      "         532,    6,  540,  785,  957,  181,  240,  378,  374,  510,  700,  964,\n",
      "         460,  611,  624,  805,   46,  443,  337,  613,  143,  916,  723,  401,\n",
      "         793,  197,  122,  712,  847,  562,  993,   64,  943,  939,  961,  383,\n",
      "         317,  626,  120,  104,  171,  913,  910,  853,  822,  539,  275,  465,\n",
      "        1007,  464,  278,  900,   98,  561,   33, 1013,  483,   18,   47,  245,\n",
      "         344,  106,  904,  455,  113,   60,  331,  817,  226,  638,   44,  505,\n",
      "         472,   57,  479,   48,  557,  219,  437,  215,  490,  423,  419,  945,\n",
      "          72,  166,  590,  799,  747,  370,  154,  438,  529,  501,  287,  782,\n",
      "         940,  426,  430,  879,  959,  167,  362,  391,  470,  666,  100,  594,\n",
      "         930,    9,  375,  191,  336,  880,   11,  230,  674,  742,  199,   54,\n",
      "         690,  394,   36,  779,   67,   73,  333,  731,  722,  295,  860,  477,\n",
      "         606,  427,  806,  726,  741,  771,   53,  435,  260,  967,  179,   76,\n",
      "         618,  881,  718,  643,  546,  356,  454,  450,  307,  835,  745,  293,\n",
      "          96,  204,  644,  492,  600,  923,   19,  998,  577,  622,  343,  832,\n",
      "         734,  272,  164,   81,   94,  521,  625,  889,  192,  652,  303,  499,\n",
      "         489,  627,  595,  875,  651,  699,   88,  550,  587,  363,  578,  676,\n",
      "         911,  409,  229,  929,  598,  459,  607,   90,  428,  988,   82,   35,\n",
      "         583,  446,  174,  390,  710,  301,  201,  431,  815,  369,  846,  609,\n",
      "         118,   87,   34,  371,    2,  117,  136,  250,  978,   21,   22,  730,\n",
      "         866,  703,  180,   38,  384,  801,  907,  552,   15,  485,  633,  224,\n",
      "         322,  508,  617,  698,  604,  184,  599,  772,   29,  909,  766,  649,\n",
      "         449,  379,  668,  276,  564,  285,  934,  960,    4,  963,  544,  935,\n",
      "         705,  305,  650,  170,  707,  979,  286,  263, 1015,  751,  119,  752,\n",
      "         377,  764,  630,  282,  514,  560,  842,  144,  110,  109,  568,   17,\n",
      "         420, 1018,  524,  661,   74,  899,  637,  284, 1002,  183,  349,  555,\n",
      "         306,  593,  646,  908,  538,  107,  137,  241,  339, 1006,  310,  962,\n",
      "         239,  694,   50,  254,   93,  669,  770,  728,  227,  228,  360,  414,\n",
      "         608,  820,  788,  927,  933,  777,  736,  797,  729,  689,   56,  656,\n",
      "          28,  882,  216,  128,  542,  523,  291,  329,  980,  108,  569,  565,\n",
      "         115,  948,  478,  621,  864,  863,  807,  461,  680,  361,  150,  986,\n",
      "         843,  507,  178,  763,  883,  898,  821,  177,  760,  966,  677,   99,\n",
      "         421,  193,   49,  506,  134,  248,  719,  888,  887,  588,  762,   63]), 'in_features': 600, 'out_features': 100}\n"
     ]
    },
    {
     "name": "stderr",
     "output_type": "stream",
     "text": [
      "LOCAL_RANK: 0 - CUDA_VISIBLE_DEVICES: [3]\n"
     ]
    },
    {
     "data": {
      "application/vnd.jupyter.widget-view+json": {
       "model_id": "2ba89228a2cf48f5be0bd400caeb37a8",
       "version_major": 2,
       "version_minor": 0
      },
      "text/plain": [
       "Predicting: 0it [00:00, ?it/s]"
      ]
     },
     "metadata": {},
     "output_type": "display_data"
    },
    {
     "name": "stderr",
     "output_type": "stream",
     "text": [
      "Global seed set to 2\n",
      "No pretrained weights exist or were found for this model. Using random initialization.\n",
      "Global seed set to 4\n",
      "GPU available: True, used: True\n",
      "TPU available: False, using: 0 TPU cores\n",
      "IPU available: False, using: 0 IPUs\n",
      "Global seed set to 0\n"
     ]
    },
    {
     "name": "stdout",
     "output_type": "stream",
     "text": [
      "{'training': True, '_parameters': OrderedDict(), '_buffers': OrderedDict(), '_non_persistent_buffers_set': set(), '_backward_hooks': OrderedDict(), '_is_full_backward_hook': None, '_forward_hooks': OrderedDict(), '_forward_pre_hooks': OrderedDict(), '_state_dict_hooks': OrderedDict(), '_load_state_dict_pre_hooks': OrderedDict(), '_load_state_dict_post_hooks': OrderedDict(), '_modules': OrderedDict([('linear', Linear(in_features=600, out_features=100, bias=True))]), 'neuron_indices': tensor([ 122,  739,  133,   11,  853,  464,  457,  929,   10,   30,  386,  789,\n",
      "         715,  332,  834,  687,  567,  151,  756,  681,  850,  125,  228,  641,\n",
      "         746,  158,   33,  541,  199,  416,  869,  168,  262,  362,  858,  694,\n",
      "         650,  947,  105,  248,  736,  773,  188,  513,  131,  915,  606,  521,\n",
      "         538,  116,  623,  748,  306,  710,  500,  473,  922,  286,    7,   57,\n",
      "        1023,  445,  671,  759,  977,  835,  601,  956,  433,  381,  294,  666,\n",
      "         695,  984,  590,  220,   12,  179,  696,  656,  247,  646,  474,  167,\n",
      "         923,  315,   34,  913,  177,  129,  299,  573,  339,  212,   15,  705,\n",
      "         367,  391,  361,  625,   17,  271,  706,  345,  701,  631,  811,  130,\n",
      "          27,  285,  263,  639,   46,  645,  810,  289,  196,  712,  353,  519,\n",
      "          88,  603,  637,  242,  393,  882,  602,  283,  955,   85,  998,  876,\n",
      "         846,  629,   74,  533,  488,  570,  723,  107,  542,  619,  802,  327,\n",
      "         689,  634,  341,  891,  983,  169,  485,  954,  429, 1022,  530,  675,\n",
      "         335,  319,  790,  920,  607,  732,  543,  962,  323,   49,  170, 1004,\n",
      "         101,  826,  437,   61,  102,  740,  974,  231,   31,    0,  647,  663,\n",
      "         953,  827,  536,  730,  930,  421,  986,  390,  635,  482,  653,  678,\n",
      "         470,  431,  841,  557,    1,  428,  742,  668,  798, 1002, 1017,  951,\n",
      "         884, 1008,  166,  558,  805,  911,  113,  368,  583,  895,  597,   90,\n",
      "         720,  491,   80,  246,  816,  633,  132,  301,  528,  486,  302,  587,\n",
      "         253,  334,   13,  236,   67,  545,  383,  444,  932,  781,  917,  238,\n",
      "         458,   14, 1012,  699,  483,  274,  160, 1016,  265,  515,  848,  985,\n",
      "         300,  914,  994,  777,   48,  793,  952,  698,  945,  878,  591,  927,\n",
      "         257,   69,  547,  396,  419,  999,  241,  610,  652,  561,  758,  822,\n",
      "         821,  140,  825,  404,  769,  806,  942,  722,  417,  809,  495,  845,\n",
      "         889,   47,  434,  409,  752,  472,  905,  808,  812,  209,  662,  351,\n",
      "         422,  568,  971,  921,  879,  357,  980,  492,  397,  157,   45,  311,\n",
      "         901,  593,  544,  127,  117,  904,  581,  948,  772,  968,  731,  928,\n",
      "         686,  504,  982,  506,  622, 1007,  108,  186,  202,   19,  569,  219,\n",
      "          21,   25,  682,  244,  525,  350,  371,  989,  136,  501,  674,   84,\n",
      "          91,  925, 1014,  316,  807,  609,  337,  580,  899,  669, 1021,  410,\n",
      "         377, 1001,  738,  560,  412,  540,  679,  480,  174,  729,  893,  585,\n",
      "         577,  333, 1020,  146,  820,  507,   43,  479,  963,  346,  232,  307,\n",
      "         494,  193,  660,  615,  579,  191, 1019, 1003,  134,  796,  993,  245,\n",
      "         281,  317,  373,   42,  119,  217,  819,  973,  490,  788,  363,  958,\n",
      "         264,  284,   83,  173,  741,  976,  115,  539,  280,  787,  960,  469,\n",
      "         411,  239,  509,  657,  192,  461,  120,  677,  465,  991,  388,  566,\n",
      "         981,  312,  526,  183,  661,   78,  398,  156, 1009,   95,  588,  655,\n",
      "         938,  665,  216,  711,   50, 1000,  439,  726,  155,  172,  499,  103,\n",
      "         223,  775,  524,  909,  215,  885,  406,  987,  230,  865,  343,  708,\n",
      "         520,  338,  138,  427,  605,  750,  670,  535,  791,  771,  508,  430,\n",
      "         185,   55,  451,  356,  152,  358,  870,  762,  123, 1010,  182,  851,\n",
      "         114,  442,  707,  751,  267,  797,  143,   65,  924,  649,  702,  676,\n",
      "         833, 1006,   39,  624,  937,  967,  877,  815,  303,   75,  360,  880,\n",
      "         321,  831,   63,  401,  218,  254,  348,  648,  252,  564,  908,  272,\n",
      "         290,  405,  237,  498,   87,  440,  747,  194,  478,  842,  612,   22,\n",
      "         325,  139,  420,  896,  961,  163,  735, 1013,  450,  475,  725,  261,\n",
      "         374,  571,  276,  934,  147,  295,   99,  176,  144,   40,  121,  403,\n",
      "         862,  342,  251,  505,    3,  658,   62,  226,  632,  467,  950,  109,\n",
      "         784,  844,  667,  970,  640,  372,  207,  435,  175,  340,   59,  903,\n",
      "          18,  549,  453,  919,  714,   94,  181,  892,  578,  201,  703,  935]), 'in_features': 600, 'out_features': 100}\n"
     ]
    },
    {
     "name": "stderr",
     "output_type": "stream",
     "text": [
      "LOCAL_RANK: 0 - CUDA_VISIBLE_DEVICES: [3]\n"
     ]
    },
    {
     "data": {
      "application/vnd.jupyter.widget-view+json": {
       "model_id": "0f5ff70579544b35aa88e767a159c03d",
       "version_major": 2,
       "version_minor": 0
      },
      "text/plain": [
       "Predicting: 0it [00:00, ?it/s]"
      ]
     },
     "metadata": {},
     "output_type": "display_data"
    },
    {
     "name": "stderr",
     "output_type": "stream",
     "text": [
      "Global seed set to 2\n",
      "No pretrained weights exist or were found for this model. Using random initialization.\n",
      "Global seed set to 3\n",
      "GPU available: True, used: True\n",
      "TPU available: False, using: 0 TPU cores\n",
      "IPU available: False, using: 0 IPUs\n",
      "Global seed set to 0\n"
     ]
    },
    {
     "name": "stdout",
     "output_type": "stream",
     "text": [
      "{'training': True, '_parameters': OrderedDict(), '_buffers': OrderedDict(), '_non_persistent_buffers_set': set(), '_backward_hooks': OrderedDict(), '_is_full_backward_hook': None, '_forward_hooks': OrderedDict(), '_forward_pre_hooks': OrderedDict(), '_state_dict_hooks': OrderedDict(), '_load_state_dict_pre_hooks': OrderedDict(), '_load_state_dict_post_hooks': OrderedDict(), '_modules': OrderedDict([('linear', Linear(in_features=8, out_features=100, bias=True))]), 'neuron_indices': tensor([362, 165,  39, 391, 364,  80, 182, 397]), 'in_features': 8, 'out_features': 100}\n"
     ]
    },
    {
     "name": "stderr",
     "output_type": "stream",
     "text": [
      "LOCAL_RANK: 0 - CUDA_VISIBLE_DEVICES: [3]\n"
     ]
    },
    {
     "data": {
      "application/vnd.jupyter.widget-view+json": {
       "model_id": "c6d1d86aa22d4767bbaaac0b282c0f90",
       "version_major": 2,
       "version_minor": 0
      },
      "text/plain": [
       "Predicting: 0it [00:00, ?it/s]"
      ]
     },
     "metadata": {},
     "output_type": "display_data"
    },
    {
     "name": "stderr",
     "output_type": "stream",
     "text": [
      "Global seed set to 2\n",
      "No pretrained weights exist or were found for this model. Using random initialization.\n",
      "Global seed set to 1\n",
      "GPU available: True, used: True\n",
      "TPU available: False, using: 0 TPU cores\n",
      "IPU available: False, using: 0 IPUs\n",
      "Global seed set to 0\n"
     ]
    },
    {
     "name": "stdout",
     "output_type": "stream",
     "text": [
      "{'training': True, '_parameters': OrderedDict(), '_buffers': OrderedDict(), '_non_persistent_buffers_set': set(), '_backward_hooks': OrderedDict(), '_is_full_backward_hook': None, '_forward_hooks': OrderedDict(), '_forward_pre_hooks': OrderedDict(), '_state_dict_hooks': OrderedDict(), '_load_state_dict_pre_hooks': OrderedDict(), '_load_state_dict_post_hooks': OrderedDict(), '_modules': OrderedDict([('linear', Linear(in_features=8, out_features=100, bias=True))]), 'neuron_indices': tensor([ 37, 158, 476, 186,  31, 123, 165, 223]), 'in_features': 8, 'out_features': 100}\n"
     ]
    },
    {
     "name": "stderr",
     "output_type": "stream",
     "text": [
      "LOCAL_RANK: 0 - CUDA_VISIBLE_DEVICES: [3]\n"
     ]
    },
    {
     "data": {
      "application/vnd.jupyter.widget-view+json": {
       "model_id": "eddf55dc82b147daac97b14a71959685",
       "version_major": 2,
       "version_minor": 0
      },
      "text/plain": [
       "Predicting: 0it [00:00, ?it/s]"
      ]
     },
     "metadata": {},
     "output_type": "display_data"
    },
    {
     "name": "stderr",
     "output_type": "stream",
     "text": [
      "Global seed set to 2\n",
      "No pretrained weights exist or were found for this model. Using random initialization.\n",
      "Global seed set to 2\n",
      "GPU available: True, used: True\n",
      "TPU available: False, using: 0 TPU cores\n",
      "IPU available: False, using: 0 IPUs\n",
      "Global seed set to 0\n"
     ]
    },
    {
     "name": "stdout",
     "output_type": "stream",
     "text": [
      "{'training': True, '_parameters': OrderedDict(), '_buffers': OrderedDict(), '_non_persistent_buffers_set': set(), '_backward_hooks': OrderedDict(), '_is_full_backward_hook': None, '_forward_hooks': OrderedDict(), '_forward_pre_hooks': OrderedDict(), '_state_dict_hooks': OrderedDict(), '_load_state_dict_pre_hooks': OrderedDict(), '_load_state_dict_post_hooks': OrderedDict(), '_modules': OrderedDict([('linear', Linear(in_features=8, out_features=100, bias=True))]), 'neuron_indices': tensor([168, 179, 433,  55, 190, 176, 148, 347]), 'in_features': 8, 'out_features': 100}\n"
     ]
    },
    {
     "name": "stderr",
     "output_type": "stream",
     "text": [
      "LOCAL_RANK: 0 - CUDA_VISIBLE_DEVICES: [3]\n"
     ]
    },
    {
     "data": {
      "application/vnd.jupyter.widget-view+json": {
       "model_id": "22973ea2e5d84f13bd3b99e111a45019",
       "version_major": 2,
       "version_minor": 0
      },
      "text/plain": [
       "Predicting: 0it [00:00, ?it/s]"
      ]
     },
     "metadata": {},
     "output_type": "display_data"
    },
    {
     "name": "stderr",
     "output_type": "stream",
     "text": [
      "Global seed set to 2\n",
      "No pretrained weights exist or were found for this model. Using random initialization.\n",
      "Global seed set to 2\n",
      "GPU available: True, used: True\n",
      "TPU available: False, using: 0 TPU cores\n",
      "IPU available: False, using: 0 IPUs\n",
      "Global seed set to 0\n"
     ]
    },
    {
     "name": "stdout",
     "output_type": "stream",
     "text": [
      "{'training': True, '_parameters': OrderedDict(), '_buffers': OrderedDict(), '_non_persistent_buffers_set': set(), '_backward_hooks': OrderedDict(), '_is_full_backward_hook': None, '_forward_hooks': OrderedDict(), '_forward_pre_hooks': OrderedDict(), '_state_dict_hooks': OrderedDict(), '_load_state_dict_pre_hooks': OrderedDict(), '_load_state_dict_post_hooks': OrderedDict(), '_modules': OrderedDict([('linear', Linear(in_features=16, out_features=100, bias=True))]), 'neuron_indices': tensor([168, 179, 433,  55, 190, 176, 148, 347, 376, 125, 262, 165, 211, 123,\n",
      "        299, 436]), 'in_features': 16, 'out_features': 100}\n"
     ]
    },
    {
     "name": "stderr",
     "output_type": "stream",
     "text": [
      "LOCAL_RANK: 0 - CUDA_VISIBLE_DEVICES: [3]\n"
     ]
    },
    {
     "data": {
      "application/vnd.jupyter.widget-view+json": {
       "model_id": "c9d7a891503e41a49bebdf767dc90594",
       "version_major": 2,
       "version_minor": 0
      },
      "text/plain": [
       "Predicting: 0it [00:00, ?it/s]"
      ]
     },
     "metadata": {},
     "output_type": "display_data"
    },
    {
     "name": "stderr",
     "output_type": "stream",
     "text": [
      "Global seed set to 2\n",
      "No pretrained weights exist or were found for this model. Using random initialization.\n",
      "Global seed set to 1\n",
      "GPU available: True, used: True\n",
      "TPU available: False, using: 0 TPU cores\n",
      "IPU available: False, using: 0 IPUs\n",
      "Global seed set to 0\n"
     ]
    },
    {
     "name": "stdout",
     "output_type": "stream",
     "text": [
      "{'training': True, '_parameters': OrderedDict(), '_buffers': OrderedDict(), '_non_persistent_buffers_set': set(), '_backward_hooks': OrderedDict(), '_is_full_backward_hook': None, '_forward_hooks': OrderedDict(), '_forward_pre_hooks': OrderedDict(), '_state_dict_hooks': OrderedDict(), '_load_state_dict_pre_hooks': OrderedDict(), '_load_state_dict_post_hooks': OrderedDict(), '_modules': OrderedDict([('linear', Linear(in_features=16, out_features=100, bias=True))]), 'neuron_indices': tensor([ 37, 158, 476, 186,  31, 123, 165, 223, 295, 262, 214, 458,  28, 261,\n",
      "         57, 258]), 'in_features': 16, 'out_features': 100}\n"
     ]
    },
    {
     "name": "stderr",
     "output_type": "stream",
     "text": [
      "LOCAL_RANK: 0 - CUDA_VISIBLE_DEVICES: [3]\n"
     ]
    },
    {
     "data": {
      "application/vnd.jupyter.widget-view+json": {
       "model_id": "308ba45f02b546748fd61b4bbe4b1b99",
       "version_major": 2,
       "version_minor": 0
      },
      "text/plain": [
       "Predicting: 0it [00:00, ?it/s]"
      ]
     },
     "metadata": {},
     "output_type": "display_data"
    },
    {
     "name": "stderr",
     "output_type": "stream",
     "text": [
      "Global seed set to 2\n",
      "No pretrained weights exist or were found for this model. Using random initialization.\n",
      "Global seed set to 3\n",
      "GPU available: True, used: True\n",
      "TPU available: False, using: 0 TPU cores\n",
      "IPU available: False, using: 0 IPUs\n",
      "Global seed set to 0\n"
     ]
    },
    {
     "name": "stdout",
     "output_type": "stream",
     "text": [
      "{'training': True, '_parameters': OrderedDict(), '_buffers': OrderedDict(), '_non_persistent_buffers_set': set(), '_backward_hooks': OrderedDict(), '_is_full_backward_hook': None, '_forward_hooks': OrderedDict(), '_forward_pre_hooks': OrderedDict(), '_state_dict_hooks': OrderedDict(), '_load_state_dict_pre_hooks': OrderedDict(), '_load_state_dict_post_hooks': OrderedDict(), '_modules': OrderedDict([('linear', Linear(in_features=16, out_features=100, bias=True))]), 'neuron_indices': tensor([362, 165,  39, 391, 364,  80, 182, 397,  69, 425, 174, 380, 337, 416,\n",
      "        104, 255]), 'in_features': 16, 'out_features': 100}\n"
     ]
    },
    {
     "name": "stderr",
     "output_type": "stream",
     "text": [
      "LOCAL_RANK: 0 - CUDA_VISIBLE_DEVICES: [3]\n"
     ]
    },
    {
     "data": {
      "application/vnd.jupyter.widget-view+json": {
       "model_id": "089f703686724ed084402cef5379433f",
       "version_major": 2,
       "version_minor": 0
      },
      "text/plain": [
       "Predicting: 0it [00:00, ?it/s]"
      ]
     },
     "metadata": {},
     "output_type": "display_data"
    },
    {
     "name": "stderr",
     "output_type": "stream",
     "text": [
      "Global seed set to 2\n",
      "No pretrained weights exist or were found for this model. Using random initialization.\n",
      "Global seed set to 3\n",
      "GPU available: True, used: True\n",
      "TPU available: False, using: 0 TPU cores\n",
      "IPU available: False, using: 0 IPUs\n",
      "Global seed set to 0\n"
     ]
    },
    {
     "name": "stdout",
     "output_type": "stream",
     "text": [
      "{'training': True, '_parameters': OrderedDict(), '_buffers': OrderedDict(), '_non_persistent_buffers_set': set(), '_backward_hooks': OrderedDict(), '_is_full_backward_hook': None, '_forward_hooks': OrderedDict(), '_forward_pre_hooks': OrderedDict(), '_state_dict_hooks': OrderedDict(), '_load_state_dict_pre_hooks': OrderedDict(), '_load_state_dict_post_hooks': OrderedDict(), '_modules': OrderedDict([('linear', Linear(in_features=48, out_features=100, bias=True))]), 'neuron_indices': tensor([362, 165,  39, 391, 364,  80, 182, 397,  69, 425, 174, 380, 337, 416,\n",
      "        104, 255, 151, 221, 460,  48, 332,  31, 293, 375, 160, 155, 175, 371,\n",
      "        494, 283, 214, 169, 156, 150, 261,  67, 189, 312, 328,  66, 277, 236,\n",
      "        298, 145, 222, 309,  18, 295]), 'in_features': 48, 'out_features': 100}\n"
     ]
    },
    {
     "name": "stderr",
     "output_type": "stream",
     "text": [
      "LOCAL_RANK: 0 - CUDA_VISIBLE_DEVICES: [3]\n"
     ]
    },
    {
     "data": {
      "application/vnd.jupyter.widget-view+json": {
       "model_id": "e4d121d55ee8431888e738a34ff79cf5",
       "version_major": 2,
       "version_minor": 0
      },
      "text/plain": [
       "Predicting: 0it [00:00, ?it/s]"
      ]
     },
     "metadata": {},
     "output_type": "display_data"
    },
    {
     "name": "stderr",
     "output_type": "stream",
     "text": [
      "Global seed set to 2\n",
      "No pretrained weights exist or were found for this model. Using random initialization.\n",
      "Global seed set to 1\n",
      "GPU available: True, used: True\n",
      "TPU available: False, using: 0 TPU cores\n",
      "IPU available: False, using: 0 IPUs\n",
      "Global seed set to 0\n"
     ]
    },
    {
     "name": "stdout",
     "output_type": "stream",
     "text": [
      "{'training': True, '_parameters': OrderedDict(), '_buffers': OrderedDict(), '_non_persistent_buffers_set': set(), '_backward_hooks': OrderedDict(), '_is_full_backward_hook': None, '_forward_hooks': OrderedDict(), '_forward_pre_hooks': OrderedDict(), '_state_dict_hooks': OrderedDict(), '_load_state_dict_pre_hooks': OrderedDict(), '_load_state_dict_post_hooks': OrderedDict(), '_modules': OrderedDict([('linear', Linear(in_features=48, out_features=100, bias=True))]), 'neuron_indices': tensor([ 37, 158, 476, 186,  31, 123, 165, 223, 295, 262, 214, 458,  28, 261,\n",
      "         57, 258,  86, 203, 450,  74, 494, 430, 488, 339, 251,  96, 312,  23,\n",
      "        401, 384,  26, 356, 119,  76, 307, 257,  47, 378, 424, 390, 405, 460,\n",
      "        177, 348, 359, 396, 382, 146]), 'in_features': 48, 'out_features': 100}\n"
     ]
    },
    {
     "name": "stderr",
     "output_type": "stream",
     "text": [
      "LOCAL_RANK: 0 - CUDA_VISIBLE_DEVICES: [3]\n"
     ]
    },
    {
     "data": {
      "application/vnd.jupyter.widget-view+json": {
       "model_id": "ac03981b7bf846f3a5d297bcc20e1b62",
       "version_major": 2,
       "version_minor": 0
      },
      "text/plain": [
       "Predicting: 0it [00:00, ?it/s]"
      ]
     },
     "metadata": {},
     "output_type": "display_data"
    },
    {
     "name": "stderr",
     "output_type": "stream",
     "text": [
      "Global seed set to 2\n",
      "No pretrained weights exist or were found for this model. Using random initialization.\n",
      "Global seed set to 2\n",
      "GPU available: True, used: True\n",
      "TPU available: False, using: 0 TPU cores\n",
      "IPU available: False, using: 0 IPUs\n",
      "Global seed set to 0\n"
     ]
    },
    {
     "name": "stdout",
     "output_type": "stream",
     "text": [
      "{'training': True, '_parameters': OrderedDict(), '_buffers': OrderedDict(), '_non_persistent_buffers_set': set(), '_backward_hooks': OrderedDict(), '_is_full_backward_hook': None, '_forward_hooks': OrderedDict(), '_forward_pre_hooks': OrderedDict(), '_state_dict_hooks': OrderedDict(), '_load_state_dict_pre_hooks': OrderedDict(), '_load_state_dict_post_hooks': OrderedDict(), '_modules': OrderedDict([('linear', Linear(in_features=48, out_features=100, bias=True))]), 'neuron_indices': tensor([168, 179, 433,  55, 190, 176, 148, 347, 376, 125, 262, 165, 211, 123,\n",
      "        299, 436, 143, 334, 146, 315,  60, 147,  65, 253, 483, 486, 336, 461,\n",
      "        407, 162,  41, 485, 298, 337, 498, 205,   7, 233, 307, 140, 188, 465,\n",
      "        500, 499, 391,  92, 259, 394]), 'in_features': 48, 'out_features': 100}\n"
     ]
    },
    {
     "name": "stderr",
     "output_type": "stream",
     "text": [
      "LOCAL_RANK: 0 - CUDA_VISIBLE_DEVICES: [3]\n"
     ]
    },
    {
     "data": {
      "application/vnd.jupyter.widget-view+json": {
       "model_id": "87a1bd19b3ca42fb8fedb3a4096ed432",
       "version_major": 2,
       "version_minor": 0
      },
      "text/plain": [
       "Predicting: 0it [00:00, ?it/s]"
      ]
     },
     "metadata": {},
     "output_type": "display_data"
    },
    {
     "name": "stderr",
     "output_type": "stream",
     "text": [
      "Global seed set to 2\n",
      "No pretrained weights exist or were found for this model. Using random initialization.\n",
      "Global seed set to 3\n",
      "GPU available: True, used: True\n",
      "TPU available: False, using: 0 TPU cores\n",
      "IPU available: False, using: 0 IPUs\n",
      "Global seed set to 0\n"
     ]
    },
    {
     "name": "stdout",
     "output_type": "stream",
     "text": [
      "{'training': True, '_parameters': OrderedDict(), '_buffers': OrderedDict(), '_non_persistent_buffers_set': set(), '_backward_hooks': OrderedDict(), '_is_full_backward_hook': None, '_forward_hooks': OrderedDict(), '_forward_pre_hooks': OrderedDict(), '_state_dict_hooks': OrderedDict(), '_load_state_dict_pre_hooks': OrderedDict(), '_load_state_dict_post_hooks': OrderedDict(), '_modules': OrderedDict([('linear', Linear(in_features=90, out_features=100, bias=True))]), 'neuron_indices': tensor([362, 165,  39, 391, 364,  80, 182, 397,  69, 425, 174, 380, 337, 416,\n",
      "        104, 255, 151, 221, 460,  48, 332,  31, 293, 375, 160, 155, 175, 371,\n",
      "        494, 283, 214, 169, 156, 150, 261,  67, 189, 312, 328,  66, 277, 236,\n",
      "        298, 145, 222, 309,  18, 295, 241, 152, 355, 282, 141, 101,  98, 392,\n",
      "        509, 280, 470, 274, 164, 498, 422, 113,  64, 483, 428, 450, 339,  71,\n",
      "        432, 217, 431, 458,  21, 319, 297,  93, 479,  55, 485, 208, 510, 133,\n",
      "        108, 171, 477, 213, 248, 393]), 'in_features': 90, 'out_features': 100}\n"
     ]
    },
    {
     "name": "stderr",
     "output_type": "stream",
     "text": [
      "LOCAL_RANK: 0 - CUDA_VISIBLE_DEVICES: [3]\n"
     ]
    },
    {
     "data": {
      "application/vnd.jupyter.widget-view+json": {
       "model_id": "8b391f7fdc4c4e08a58823ae510a4da6",
       "version_major": 2,
       "version_minor": 0
      },
      "text/plain": [
       "Predicting: 0it [00:00, ?it/s]"
      ]
     },
     "metadata": {},
     "output_type": "display_data"
    },
    {
     "name": "stderr",
     "output_type": "stream",
     "text": [
      "Global seed set to 2\n",
      "No pretrained weights exist or were found for this model. Using random initialization.\n",
      "Global seed set to 1\n",
      "GPU available: True, used: True\n",
      "TPU available: False, using: 0 TPU cores\n",
      "IPU available: False, using: 0 IPUs\n",
      "Global seed set to 0\n"
     ]
    },
    {
     "name": "stdout",
     "output_type": "stream",
     "text": [
      "{'training': True, '_parameters': OrderedDict(), '_buffers': OrderedDict(), '_non_persistent_buffers_set': set(), '_backward_hooks': OrderedDict(), '_is_full_backward_hook': None, '_forward_hooks': OrderedDict(), '_forward_pre_hooks': OrderedDict(), '_state_dict_hooks': OrderedDict(), '_load_state_dict_pre_hooks': OrderedDict(), '_load_state_dict_post_hooks': OrderedDict(), '_modules': OrderedDict([('linear', Linear(in_features=90, out_features=100, bias=True))]), 'neuron_indices': tensor([ 37, 158, 476, 186,  31, 123, 165, 223, 295, 262, 214, 458,  28, 261,\n",
      "         57, 258,  86, 203, 450,  74, 494, 430, 488, 339, 251,  96, 312,  23,\n",
      "        401, 384,  26, 356, 119,  76, 307, 257,  47, 378, 424, 390, 405, 460,\n",
      "        177, 348, 359, 396, 382, 146, 113, 407, 254, 300,  60, 140, 239, 174,\n",
      "        391, 276, 199, 209, 246, 474, 371, 364, 213,  53, 311, 314, 204,   1,\n",
      "        273, 505, 132,  24, 372, 388, 497,  16, 363, 286, 191, 148,  94, 167,\n",
      "        143, 138, 351, 283, 226,  66]), 'in_features': 90, 'out_features': 100}\n"
     ]
    },
    {
     "name": "stderr",
     "output_type": "stream",
     "text": [
      "LOCAL_RANK: 0 - CUDA_VISIBLE_DEVICES: [3]\n"
     ]
    },
    {
     "data": {
      "application/vnd.jupyter.widget-view+json": {
       "model_id": "18bc7fa1a45b4a7292a5b2f93c9326bb",
       "version_major": 2,
       "version_minor": 0
      },
      "text/plain": [
       "Predicting: 0it [00:00, ?it/s]"
      ]
     },
     "metadata": {},
     "output_type": "display_data"
    },
    {
     "name": "stderr",
     "output_type": "stream",
     "text": [
      "Global seed set to 2\n",
      "No pretrained weights exist or were found for this model. Using random initialization.\n",
      "Global seed set to 2\n",
      "GPU available: True, used: True\n",
      "TPU available: False, using: 0 TPU cores\n",
      "IPU available: False, using: 0 IPUs\n",
      "Global seed set to 0\n"
     ]
    },
    {
     "name": "stdout",
     "output_type": "stream",
     "text": [
      "{'training': True, '_parameters': OrderedDict(), '_buffers': OrderedDict(), '_non_persistent_buffers_set': set(), '_backward_hooks': OrderedDict(), '_is_full_backward_hook': None, '_forward_hooks': OrderedDict(), '_forward_pre_hooks': OrderedDict(), '_state_dict_hooks': OrderedDict(), '_load_state_dict_pre_hooks': OrderedDict(), '_load_state_dict_post_hooks': OrderedDict(), '_modules': OrderedDict([('linear', Linear(in_features=90, out_features=100, bias=True))]), 'neuron_indices': tensor([168, 179, 433,  55, 190, 176, 148, 347, 376, 125, 262, 165, 211, 123,\n",
      "        299, 436, 143, 334, 146, 315,  60, 147,  65, 253, 483, 486, 336, 461,\n",
      "        407, 162,  41, 485, 298, 337, 498, 205,   7, 233, 307, 140, 188, 465,\n",
      "        500, 499, 391,  92, 259, 394, 480,  40, 268, 258, 134,  83,  72, 332,\n",
      "        255, 478, 397, 226,  18, 367, 224, 279, 442, 277, 387, 246, 280, 195,\n",
      "         38, 126, 416, 459, 351, 296, 497, 330, 502,  27, 458, 174, 323, 477,\n",
      "        251, 345, 166, 507, 408, 410]), 'in_features': 90, 'out_features': 100}\n"
     ]
    },
    {
     "name": "stderr",
     "output_type": "stream",
     "text": [
      "LOCAL_RANK: 0 - CUDA_VISIBLE_DEVICES: [3]\n"
     ]
    },
    {
     "data": {
      "application/vnd.jupyter.widget-view+json": {
       "model_id": "df34c1b4e0264a38b4a1e9879c6f247a",
       "version_major": 2,
       "version_minor": 0
      },
      "text/plain": [
       "Predicting: 0it [00:00, ?it/s]"
      ]
     },
     "metadata": {},
     "output_type": "display_data"
    },
    {
     "name": "stderr",
     "output_type": "stream",
     "text": [
      "Global seed set to 2\n",
      "No pretrained weights exist or were found for this model. Using random initialization.\n",
      "Global seed set to 1\n",
      "GPU available: True, used: True\n",
      "TPU available: False, using: 0 TPU cores\n",
      "IPU available: False, using: 0 IPUs\n",
      "Global seed set to 0\n"
     ]
    },
    {
     "name": "stdout",
     "output_type": "stream",
     "text": [
      "{'training': True, '_parameters': OrderedDict(), '_buffers': OrderedDict(), '_non_persistent_buffers_set': set(), '_backward_hooks': OrderedDict(), '_is_full_backward_hook': None, '_forward_hooks': OrderedDict(), '_forward_pre_hooks': OrderedDict(), '_state_dict_hooks': OrderedDict(), '_load_state_dict_pre_hooks': OrderedDict(), '_load_state_dict_post_hooks': OrderedDict(), '_modules': OrderedDict([('linear', Linear(in_features=200, out_features=100, bias=True))]), 'neuron_indices': tensor([ 37, 158, 476, 186,  31, 123, 165, 223, 295, 262, 214, 458,  28, 261,\n",
      "         57, 258,  86, 203, 450,  74, 494, 430, 488, 339, 251,  96, 312,  23,\n",
      "        401, 384,  26, 356, 119,  76, 307, 257,  47, 378, 424, 390, 405, 460,\n",
      "        177, 348, 359, 396, 382, 146, 113, 407, 254, 300,  60, 140, 239, 174,\n",
      "        391, 276, 199, 209, 246, 474, 371, 364, 213,  53, 311, 314, 204,   1,\n",
      "        273, 505, 132,  24, 372, 388, 497,  16, 363, 286, 191, 148,  94, 167,\n",
      "        143, 138, 351, 283, 226,  66,  79, 161, 489, 315, 291, 212, 279,  99,\n",
      "        352, 465, 225, 481, 495, 330, 456, 418, 228, 202, 491, 327, 243, 486,\n",
      "        457,  36, 139, 492, 266, 462, 304, 236, 208, 470, 331, 361, 461,  71,\n",
      "        511, 166, 504, 350, 337, 101, 220, 329, 468, 451,  68,  50, 393,  34,\n",
      "         83, 349, 164,  87, 172, 196, 362, 406, 296, 420, 219, 269, 284, 122,\n",
      "        200, 347, 434, 253,  25, 507, 471, 129,  56, 409, 325, 118, 496, 217,\n",
      "         75, 289, 180, 134, 454, 502, 110, 343, 290, 415, 297,  62, 272, 324,\n",
      "        341, 211, 107,  44, 298, 426, 144, 198, 336, 169, 162,  13, 238, 499,\n",
      "        355, 147, 247,   2]), 'in_features': 200, 'out_features': 100}\n"
     ]
    },
    {
     "name": "stderr",
     "output_type": "stream",
     "text": [
      "LOCAL_RANK: 0 - CUDA_VISIBLE_DEVICES: [3]\n"
     ]
    },
    {
     "data": {
      "application/vnd.jupyter.widget-view+json": {
       "model_id": "048732ae22a64b28b1aa2440d7e0f7bb",
       "version_major": 2,
       "version_minor": 0
      },
      "text/plain": [
       "Predicting: 0it [00:00, ?it/s]"
      ]
     },
     "metadata": {},
     "output_type": "display_data"
    },
    {
     "name": "stderr",
     "output_type": "stream",
     "text": [
      "Global seed set to 2\n",
      "No pretrained weights exist or were found for this model. Using random initialization.\n",
      "Global seed set to 2\n",
      "GPU available: True, used: True\n",
      "TPU available: False, using: 0 TPU cores\n",
      "IPU available: False, using: 0 IPUs\n",
      "Global seed set to 0\n"
     ]
    },
    {
     "name": "stdout",
     "output_type": "stream",
     "text": [
      "{'training': True, '_parameters': OrderedDict(), '_buffers': OrderedDict(), '_non_persistent_buffers_set': set(), '_backward_hooks': OrderedDict(), '_is_full_backward_hook': None, '_forward_hooks': OrderedDict(), '_forward_pre_hooks': OrderedDict(), '_state_dict_hooks': OrderedDict(), '_load_state_dict_pre_hooks': OrderedDict(), '_load_state_dict_post_hooks': OrderedDict(), '_modules': OrderedDict([('linear', Linear(in_features=200, out_features=100, bias=True))]), 'neuron_indices': tensor([168, 179, 433,  55, 190, 176, 148, 347, 376, 125, 262, 165, 211, 123,\n",
      "        299, 436, 143, 334, 146, 315,  60, 147,  65, 253, 483, 486, 336, 461,\n",
      "        407, 162,  41, 485, 298, 337, 498, 205,   7, 233, 307, 140, 188, 465,\n",
      "        500, 499, 391,  92, 259, 394, 480,  40, 268, 258, 134,  83,  72, 332,\n",
      "        255, 478, 397, 226,  18, 367, 224, 279, 442, 277, 387, 246, 280, 195,\n",
      "         38, 126, 416, 459, 351, 296, 497, 330, 502,  27, 458, 174, 323, 477,\n",
      "        251, 345, 166, 507, 408, 410, 160, 375, 380, 510, 424, 420, 310, 264,\n",
      "        216, 223, 402, 396, 432, 377, 103, 464, 448, 508, 341, 503,  13, 311,\n",
      "        261,  26,  39, 150, 382, 122, 208, 460, 124,  45, 294, 308, 418, 422,\n",
      "        339, 411, 272, 324, 419, 252, 193, 430, 235, 137,  54, 177, 288,  29,\n",
      "         21, 144,  87, 453, 413, 320, 383, 260, 335, 444, 120, 254, 151, 331,\n",
      "          6, 153,  64,  88, 171, 219, 414, 467, 236, 452, 400,  49,  24,  86,\n",
      "         10,  97, 423, 250,  76, 439, 292, 133, 463,  91, 196, 200, 111, 355,\n",
      "         75, 372,  78, 306,   5, 206, 482, 493, 278,  96,  62,   8, 230, 163,\n",
      "        415, 184, 388,  19]), 'in_features': 200, 'out_features': 100}\n"
     ]
    },
    {
     "name": "stderr",
     "output_type": "stream",
     "text": [
      "LOCAL_RANK: 0 - CUDA_VISIBLE_DEVICES: [3]\n"
     ]
    },
    {
     "data": {
      "application/vnd.jupyter.widget-view+json": {
       "model_id": "489818ca4c29488696e132e154a02f4f",
       "version_major": 2,
       "version_minor": 0
      },
      "text/plain": [
       "Predicting: 0it [00:00, ?it/s]"
      ]
     },
     "metadata": {},
     "output_type": "display_data"
    },
    {
     "name": "stderr",
     "output_type": "stream",
     "text": [
      "Global seed set to 2\n",
      "No pretrained weights exist or were found for this model. Using random initialization.\n",
      "Global seed set to 3\n",
      "GPU available: True, used: True\n",
      "TPU available: False, using: 0 TPU cores\n",
      "IPU available: False, using: 0 IPUs\n",
      "Global seed set to 0\n"
     ]
    },
    {
     "name": "stdout",
     "output_type": "stream",
     "text": [
      "{'training': True, '_parameters': OrderedDict(), '_buffers': OrderedDict(), '_non_persistent_buffers_set': set(), '_backward_hooks': OrderedDict(), '_is_full_backward_hook': None, '_forward_hooks': OrderedDict(), '_forward_pre_hooks': OrderedDict(), '_state_dict_hooks': OrderedDict(), '_load_state_dict_pre_hooks': OrderedDict(), '_load_state_dict_post_hooks': OrderedDict(), '_modules': OrderedDict([('linear', Linear(in_features=200, out_features=100, bias=True))]), 'neuron_indices': tensor([362, 165,  39, 391, 364,  80, 182, 397,  69, 425, 174, 380, 337, 416,\n",
      "        104, 255, 151, 221, 460,  48, 332,  31, 293, 375, 160, 155, 175, 371,\n",
      "        494, 283, 214, 169, 156, 150, 261,  67, 189, 312, 328,  66, 277, 236,\n",
      "        298, 145, 222, 309,  18, 295, 241, 152, 355, 282, 141, 101,  98, 392,\n",
      "        509, 280, 470, 274, 164, 498, 422, 113,  64, 483, 428, 450, 339,  71,\n",
      "        432, 217, 431, 458,  21, 319, 297,  93, 479,  55, 485, 208, 510, 133,\n",
      "        108, 171, 477, 213, 248, 393, 478, 384, 172, 203, 302, 399, 215, 129,\n",
      "         27, 434, 361, 196, 414, 421, 369, 130, 331,  36,   0, 185, 134, 433,\n",
      "        218, 237, 354, 273, 447,  41, 122, 230,  32, 251, 379, 103, 481, 501,\n",
      "        190, 465, 285, 223, 310,  15, 329, 270,  76,  89,  24, 239, 139, 188,\n",
      "         83, 290, 119, 199, 500, 427,  57, 220, 195, 348, 186,  40, 159, 507,\n",
      "        271, 204, 229, 128, 360, 168, 338, 426, 324, 187, 263, 376, 318, 488,\n",
      "        278,   5, 429, 240, 493, 463, 489,  77, 149, 192, 368, 247, 191,  73,\n",
      "        233, 207, 176, 390, 486, 117, 396, 448,  62, 440,  51,  11, 180, 438,\n",
      "        146, 147,   7, 202]), 'in_features': 200, 'out_features': 100}\n"
     ]
    },
    {
     "name": "stderr",
     "output_type": "stream",
     "text": [
      "LOCAL_RANK: 0 - CUDA_VISIBLE_DEVICES: [3]\n"
     ]
    },
    {
     "data": {
      "application/vnd.jupyter.widget-view+json": {
       "model_id": "67bb809723014fa0a46f952218fc88d3",
       "version_major": 2,
       "version_minor": 0
      },
      "text/plain": [
       "Predicting: 0it [00:00, ?it/s]"
      ]
     },
     "metadata": {},
     "output_type": "display_data"
    },
    {
     "name": "stderr",
     "output_type": "stream",
     "text": [
      "Global seed set to 2\n",
      "No pretrained weights exist or were found for this model. Using random initialization.\n",
      "Global seed set to 3\n",
      "GPU available: True, used: True\n",
      "TPU available: False, using: 0 TPU cores\n",
      "IPU available: False, using: 0 IPUs\n",
      "Global seed set to 0\n"
     ]
    },
    {
     "name": "stdout",
     "output_type": "stream",
     "text": [
      "{'training': True, '_parameters': OrderedDict(), '_buffers': OrderedDict(), '_non_persistent_buffers_set': set(), '_backward_hooks': OrderedDict(), '_is_full_backward_hook': None, '_forward_hooks': OrderedDict(), '_forward_pre_hooks': OrderedDict(), '_state_dict_hooks': OrderedDict(), '_load_state_dict_pre_hooks': OrderedDict(), '_load_state_dict_post_hooks': OrderedDict(), '_modules': OrderedDict([('linear', Linear(in_features=350, out_features=100, bias=True))]), 'neuron_indices': tensor([362, 165,  39, 391, 364,  80, 182, 397,  69, 425, 174, 380, 337, 416,\n",
      "        104, 255, 151, 221, 460,  48, 332,  31, 293, 375, 160, 155, 175, 371,\n",
      "        494, 283, 214, 169, 156, 150, 261,  67, 189, 312, 328,  66, 277, 236,\n",
      "        298, 145, 222, 309,  18, 295, 241, 152, 355, 282, 141, 101,  98, 392,\n",
      "        509, 280, 470, 274, 164, 498, 422, 113,  64, 483, 428, 450, 339,  71,\n",
      "        432, 217, 431, 458,  21, 319, 297,  93, 479,  55, 485, 208, 510, 133,\n",
      "        108, 171, 477, 213, 248, 393, 478, 384, 172, 203, 302, 399, 215, 129,\n",
      "         27, 434, 361, 196, 414, 421, 369, 130, 331,  36,   0, 185, 134, 433,\n",
      "        218, 237, 354, 273, 447,  41, 122, 230,  32, 251, 379, 103, 481, 501,\n",
      "        190, 465, 285, 223, 310,  15, 329, 270,  76,  89,  24, 239, 139, 188,\n",
      "         83, 290, 119, 199, 500, 427,  57, 220, 195, 348, 186,  40, 159, 507,\n",
      "        271, 204, 229, 128, 360, 168, 338, 426, 324, 187, 263, 376, 318, 488,\n",
      "        278,   5, 429, 240, 493, 463, 489,  77, 149, 192, 368, 247, 191,  73,\n",
      "        233, 207, 176, 390, 486, 117, 396, 448,  62, 440,  51,  11, 180, 438,\n",
      "        146, 147,   7, 202, 210, 419,   8, 259, 209, 307, 472, 173, 197, 167,\n",
      "        359,  42, 252, 123, 242, 238, 308, 335, 184, 457, 245, 234,  28, 423,\n",
      "        342, 178, 410, 499, 464, 378, 206, 495,  20, 144, 467, 417, 243, 124,\n",
      "         23, 200, 345,  58,  12, 508, 439,  87, 253,  74, 367, 135,  10, 157,\n",
      "        179, 194, 224, 226, 316, 437, 105,  90, 482, 268,  56, 474, 137, 381,\n",
      "        504, 294,  97, 383, 506, 232,  65, 288, 181, 476, 388, 401, 296,  70,\n",
      "        289,  26, 373, 314,   6, 456, 125, 116, 266, 306, 407, 193,  16, 402,\n",
      "        177, 409, 394, 389, 503, 322, 143, 398, 330, 114, 106, 452, 100, 264,\n",
      "         85, 444, 235, 292, 484, 131,  45,  35, 269,  53,  60, 365, 406, 109,\n",
      "        303, 212, 386, 287,  54, 326, 496, 120, 352, 344, 260, 453, 492, 276,\n",
      "        299,  47, 227, 455, 358, 502, 154, 163,  84, 469,  61, 275, 350, 415]), 'in_features': 350, 'out_features': 100}\n"
     ]
    },
    {
     "name": "stderr",
     "output_type": "stream",
     "text": [
      "LOCAL_RANK: 0 - CUDA_VISIBLE_DEVICES: [3]\n"
     ]
    },
    {
     "data": {
      "application/vnd.jupyter.widget-view+json": {
       "model_id": "eb450558fce34193a8784d8046ef3b75",
       "version_major": 2,
       "version_minor": 0
      },
      "text/plain": [
       "Predicting: 0it [00:00, ?it/s]"
      ]
     },
     "metadata": {},
     "output_type": "display_data"
    },
    {
     "name": "stderr",
     "output_type": "stream",
     "text": [
      "Global seed set to 2\n",
      "No pretrained weights exist or were found for this model. Using random initialization.\n",
      "Global seed set to 1\n",
      "GPU available: True, used: True\n",
      "TPU available: False, using: 0 TPU cores\n",
      "IPU available: False, using: 0 IPUs\n",
      "Global seed set to 0\n"
     ]
    },
    {
     "name": "stdout",
     "output_type": "stream",
     "text": [
      "{'training': True, '_parameters': OrderedDict(), '_buffers': OrderedDict(), '_non_persistent_buffers_set': set(), '_backward_hooks': OrderedDict(), '_is_full_backward_hook': None, '_forward_hooks': OrderedDict(), '_forward_pre_hooks': OrderedDict(), '_state_dict_hooks': OrderedDict(), '_load_state_dict_pre_hooks': OrderedDict(), '_load_state_dict_post_hooks': OrderedDict(), '_modules': OrderedDict([('linear', Linear(in_features=350, out_features=100, bias=True))]), 'neuron_indices': tensor([ 37, 158, 476, 186,  31, 123, 165, 223, 295, 262, 214, 458,  28, 261,\n",
      "         57, 258,  86, 203, 450,  74, 494, 430, 488, 339, 251,  96, 312,  23,\n",
      "        401, 384,  26, 356, 119,  76, 307, 257,  47, 378, 424, 390, 405, 460,\n",
      "        177, 348, 359, 396, 382, 146, 113, 407, 254, 300,  60, 140, 239, 174,\n",
      "        391, 276, 199, 209, 246, 474, 371, 364, 213,  53, 311, 314, 204,   1,\n",
      "        273, 505, 132,  24, 372, 388, 497,  16, 363, 286, 191, 148,  94, 167,\n",
      "        143, 138, 351, 283, 226,  66,  79, 161, 489, 315, 291, 212, 279,  99,\n",
      "        352, 465, 225, 481, 495, 330, 456, 418, 228, 202, 491, 327, 243, 486,\n",
      "        457,  36, 139, 492, 266, 462, 304, 236, 208, 470, 331, 361, 461,  71,\n",
      "        511, 166, 504, 350, 337, 101, 220, 329, 468, 451,  68,  50, 393,  34,\n",
      "         83, 349, 164,  87, 172, 196, 362, 406, 296, 420, 219, 269, 284, 122,\n",
      "        200, 347, 434, 253,  25, 507, 471, 129,  56, 409, 325, 118, 496, 217,\n",
      "         75, 289, 180, 134, 454, 502, 110, 343, 290, 415, 297,  62, 272, 324,\n",
      "        341, 211, 107,  44, 298, 426, 144, 198, 336, 169, 162,  13, 238, 499,\n",
      "        355, 147, 247,   2, 171, 264, 340,  90, 469,  64, 357,  22, 449, 232,\n",
      "        288, 386,  38,  70, 231, 328, 313, 278, 381, 150, 437, 156, 303, 377,\n",
      "        398, 484, 482, 397, 463, 394, 433, 230, 114, 155, 183, 506, 178,  43,\n",
      "        287, 503, 421, 498, 425, 440,  72,  89, 369, 510, 265, 121, 130,  15,\n",
      "        308, 216, 151, 360, 400, 175,  30, 237, 185, 193, 280, 335, 270, 117,\n",
      "        285, 194, 192, 323, 395, 252, 205, 344,  21, 160, 332, 436,  41, 294,\n",
      "        452, 116, 274, 103,  73, 309, 127, 248, 493, 501, 402, 366, 255,   0,\n",
      "         98, 125,  97, 152, 472, 159, 215,  54, 374, 318, 508, 479,  84,  20,\n",
      "         67, 310, 473, 346, 338, 190, 115, 207, 419, 509,  40, 301, 444, 271,\n",
      "         46,   6, 157, 455, 319, 135, 368,  77, 427,  65, 414, 133, 431, 256,\n",
      "        367, 141, 453, 235,  63, 404, 380, 438,  93, 267, 221, 342,  95, 182]), 'in_features': 350, 'out_features': 100}\n"
     ]
    },
    {
     "name": "stderr",
     "output_type": "stream",
     "text": [
      "LOCAL_RANK: 0 - CUDA_VISIBLE_DEVICES: [3]\n"
     ]
    },
    {
     "data": {
      "application/vnd.jupyter.widget-view+json": {
       "model_id": "fc7a9a480b6c4050beaada142dbeb109",
       "version_major": 2,
       "version_minor": 0
      },
      "text/plain": [
       "Predicting: 0it [00:00, ?it/s]"
      ]
     },
     "metadata": {},
     "output_type": "display_data"
    },
    {
     "name": "stderr",
     "output_type": "stream",
     "text": [
      "Global seed set to 2\n",
      "No pretrained weights exist or were found for this model. Using random initialization.\n",
      "Global seed set to 2\n",
      "GPU available: True, used: True\n",
      "TPU available: False, using: 0 TPU cores\n",
      "IPU available: False, using: 0 IPUs\n",
      "Global seed set to 0\n"
     ]
    },
    {
     "name": "stdout",
     "output_type": "stream",
     "text": [
      "{'training': True, '_parameters': OrderedDict(), '_buffers': OrderedDict(), '_non_persistent_buffers_set': set(), '_backward_hooks': OrderedDict(), '_is_full_backward_hook': None, '_forward_hooks': OrderedDict(), '_forward_pre_hooks': OrderedDict(), '_state_dict_hooks': OrderedDict(), '_load_state_dict_pre_hooks': OrderedDict(), '_load_state_dict_post_hooks': OrderedDict(), '_modules': OrderedDict([('linear', Linear(in_features=350, out_features=100, bias=True))]), 'neuron_indices': tensor([168, 179, 433,  55, 190, 176, 148, 347, 376, 125, 262, 165, 211, 123,\n",
      "        299, 436, 143, 334, 146, 315,  60, 147,  65, 253, 483, 486, 336, 461,\n",
      "        407, 162,  41, 485, 298, 337, 498, 205,   7, 233, 307, 140, 188, 465,\n",
      "        500, 499, 391,  92, 259, 394, 480,  40, 268, 258, 134,  83,  72, 332,\n",
      "        255, 478, 397, 226,  18, 367, 224, 279, 442, 277, 387, 246, 280, 195,\n",
      "         38, 126, 416, 459, 351, 296, 497, 330, 502,  27, 458, 174, 323, 477,\n",
      "        251, 345, 166, 507, 408, 410, 160, 375, 380, 510, 424, 420, 310, 264,\n",
      "        216, 223, 402, 396, 432, 377, 103, 464, 448, 508, 341, 503,  13, 311,\n",
      "        261,  26,  39, 150, 382, 122, 208, 460, 124,  45, 294, 308, 418, 422,\n",
      "        339, 411, 272, 324, 419, 252, 193, 430, 235, 137,  54, 177, 288,  29,\n",
      "         21, 144,  87, 453, 413, 320, 383, 260, 335, 444, 120, 254, 151, 331,\n",
      "          6, 153,  64,  88, 171, 219, 414, 467, 236, 452, 400,  49,  24,  86,\n",
      "         10,  97, 423, 250,  76, 439, 292, 133, 463,  91, 196, 200, 111, 355,\n",
      "         75, 372,  78, 306,   5, 206, 482, 493, 278,  96,  62,   8, 230, 163,\n",
      "        415, 184, 388,  19, 115, 138, 471, 132, 473, 489, 243, 240, 328, 321,\n",
      "         11,  35, 443, 469, 369, 217, 437, 158, 505,  44, 368, 316, 185,   9,\n",
      "        474, 159, 451, 105, 363, 139, 182, 445, 504, 269, 121, 225, 142, 401,\n",
      "         56, 373, 421,  69,  73, 340, 215, 404, 107, 197, 242, 209, 106, 291,\n",
      "        384, 352, 281,  36, 392, 491, 201,  70, 481, 403, 130, 425,  43, 129,\n",
      "        374, 501,  58, 395,  42, 496, 365, 429, 346,  59, 509, 466,   0,  28,\n",
      "        239, 325,  15,  98, 274,  14, 405, 156, 104, 263,  95, 192, 349, 187,\n",
      "        426, 357, 454, 128, 319, 222,  51, 344,  12, 117, 114,  47, 427, 234,\n",
      "         30, 446, 221, 271, 488,  77, 313,  23,  79, 303, 435,  89, 213, 389,\n",
      "        229, 364,  48, 297, 141, 245, 318, 167,  57, 462,   1,  68, 149, 183,\n",
      "         74, 450,  16, 186, 379, 490, 487, 409, 293, 181,  67, 305, 265, 348]), 'in_features': 350, 'out_features': 100}\n"
     ]
    },
    {
     "name": "stderr",
     "output_type": "stream",
     "text": [
      "LOCAL_RANK: 0 - CUDA_VISIBLE_DEVICES: [3]\n"
     ]
    },
    {
     "data": {
      "application/vnd.jupyter.widget-view+json": {
       "model_id": "9f6cb14c48e941dca5276f1fb05ed190",
       "version_major": 2,
       "version_minor": 0
      },
      "text/plain": [
       "Predicting: 0it [00:00, ?it/s]"
      ]
     },
     "metadata": {},
     "output_type": "display_data"
    },
    {
     "name": "stderr",
     "output_type": "stream",
     "text": [
      "Global seed set to 2\n",
      "No pretrained weights exist or were found for this model. Using random initialization.\n",
      "Global seed set to 1\n",
      "GPU available: True, used: True\n",
      "TPU available: False, using: 0 TPU cores\n",
      "IPU available: False, using: 0 IPUs\n",
      "Global seed set to 0\n"
     ]
    },
    {
     "name": "stdout",
     "output_type": "stream",
     "text": [
      "{'training': True, '_parameters': OrderedDict(), '_buffers': OrderedDict(), '_non_persistent_buffers_set': set(), '_backward_hooks': OrderedDict(), '_is_full_backward_hook': None, '_forward_hooks': OrderedDict(), '_forward_pre_hooks': OrderedDict(), '_state_dict_hooks': OrderedDict(), '_load_state_dict_pre_hooks': OrderedDict(), '_load_state_dict_post_hooks': OrderedDict(), '_modules': OrderedDict([('linear', Linear(in_features=500, out_features=100, bias=True))]), 'neuron_indices': tensor([ 37, 158, 476, 186,  31, 123, 165, 223, 295, 262, 214, 458,  28, 261,\n",
      "         57, 258,  86, 203, 450,  74, 494, 430, 488, 339, 251,  96, 312,  23,\n",
      "        401, 384,  26, 356, 119,  76, 307, 257,  47, 378, 424, 390, 405, 460,\n",
      "        177, 348, 359, 396, 382, 146, 113, 407, 254, 300,  60, 140, 239, 174,\n",
      "        391, 276, 199, 209, 246, 474, 371, 364, 213,  53, 311, 314, 204,   1,\n",
      "        273, 505, 132,  24, 372, 388, 497,  16, 363, 286, 191, 148,  94, 167,\n",
      "        143, 138, 351, 283, 226,  66,  79, 161, 489, 315, 291, 212, 279,  99,\n",
      "        352, 465, 225, 481, 495, 330, 456, 418, 228, 202, 491, 327, 243, 486,\n",
      "        457,  36, 139, 492, 266, 462, 304, 236, 208, 470, 331, 361, 461,  71,\n",
      "        511, 166, 504, 350, 337, 101, 220, 329, 468, 451,  68,  50, 393,  34,\n",
      "         83, 349, 164,  87, 172, 196, 362, 406, 296, 420, 219, 269, 284, 122,\n",
      "        200, 347, 434, 253,  25, 507, 471, 129,  56, 409, 325, 118, 496, 217,\n",
      "         75, 289, 180, 134, 454, 502, 110, 343, 290, 415, 297,  62, 272, 324,\n",
      "        341, 211, 107,  44, 298, 426, 144, 198, 336, 169, 162,  13, 238, 499,\n",
      "        355, 147, 247,   2, 171, 264, 340,  90, 469,  64, 357,  22, 449, 232,\n",
      "        288, 386,  38,  70, 231, 328, 313, 278, 381, 150, 437, 156, 303, 377,\n",
      "        398, 484, 482, 397, 463, 394, 433, 230, 114, 155, 183, 506, 178,  43,\n",
      "        287, 503, 421, 498, 425, 440,  72,  89, 369, 510, 265, 121, 130,  15,\n",
      "        308, 216, 151, 360, 400, 175,  30, 237, 185, 193, 280, 335, 270, 117,\n",
      "        285, 194, 192, 323, 395, 252, 205, 344,  21, 160, 332, 436,  41, 294,\n",
      "        452, 116, 274, 103,  73, 309, 127, 248, 493, 501, 402, 366, 255,   0,\n",
      "         98, 125,  97, 152, 472, 159, 215,  54, 374, 318, 508, 479,  84,  20,\n",
      "         67, 310, 473, 346, 338, 190, 115, 207, 419, 509,  40, 301, 444, 271,\n",
      "         46,   6, 157, 455, 319, 135, 368,  77, 427,  65, 414, 133, 431, 256,\n",
      "        367, 141, 453, 235,  63, 404, 380, 438,  93, 267, 221, 342,  95, 182,\n",
      "        448, 320, 345,  82, 467, 145, 373, 250,  18, 445,   5, 168, 275, 483,\n",
      "        242, 480, 358, 154, 105, 126,  11, 263, 176, 106,  27, 293,  29, 260,\n",
      "        201,  42, 149, 317, 240, 124, 299, 111,   8,  45, 306, 428,  55, 108,\n",
      "        411, 379, 100,  32, 442, 370, 195,  14, 137,  52, 244, 245, 163,  33,\n",
      "        188, 385,  51, 399, 408, 233,  80, 410,   7, 432, 475, 321,   9, 153,\n",
      "         17,  12, 229,   3, 326, 227, 447,  78, 109, 218,  39,  19, 459, 210,\n",
      "        136, 375, 353, 234, 443, 173, 464, 334, 376, 112, 412, 131, 333, 354,\n",
      "        466, 417, 104, 422, 241, 277, 389, 102, 392, 416,  49, 439, 224, 500,\n",
      "        249, 189, 184, 222, 403, 429,  81,  91, 259, 142,  48,  10, 365, 128,\n",
      "        170, 477, 120,   4, 446, 206, 487, 322, 383, 197, 282, 478, 179, 181,\n",
      "        485,  58,  69,  88,  35,  92, 435, 292, 187, 423]), 'in_features': 500, 'out_features': 100}\n"
     ]
    },
    {
     "name": "stderr",
     "output_type": "stream",
     "text": [
      "LOCAL_RANK: 0 - CUDA_VISIBLE_DEVICES: [3]\n"
     ]
    },
    {
     "data": {
      "application/vnd.jupyter.widget-view+json": {
       "model_id": "ffedf95411214a2998ee9456ffc2d320",
       "version_major": 2,
       "version_minor": 0
      },
      "text/plain": [
       "Predicting: 0it [00:00, ?it/s]"
      ]
     },
     "metadata": {},
     "output_type": "display_data"
    },
    {
     "name": "stderr",
     "output_type": "stream",
     "text": [
      "Global seed set to 2\n",
      "No pretrained weights exist or were found for this model. Using random initialization.\n",
      "Global seed set to 2\n",
      "GPU available: True, used: True\n",
      "TPU available: False, using: 0 TPU cores\n",
      "IPU available: False, using: 0 IPUs\n",
      "Global seed set to 0\n"
     ]
    },
    {
     "name": "stdout",
     "output_type": "stream",
     "text": [
      "{'training': True, '_parameters': OrderedDict(), '_buffers': OrderedDict(), '_non_persistent_buffers_set': set(), '_backward_hooks': OrderedDict(), '_is_full_backward_hook': None, '_forward_hooks': OrderedDict(), '_forward_pre_hooks': OrderedDict(), '_state_dict_hooks': OrderedDict(), '_load_state_dict_pre_hooks': OrderedDict(), '_load_state_dict_post_hooks': OrderedDict(), '_modules': OrderedDict([('linear', Linear(in_features=500, out_features=100, bias=True))]), 'neuron_indices': tensor([168, 179, 433,  55, 190, 176, 148, 347, 376, 125, 262, 165, 211, 123,\n",
      "        299, 436, 143, 334, 146, 315,  60, 147,  65, 253, 483, 486, 336, 461,\n",
      "        407, 162,  41, 485, 298, 337, 498, 205,   7, 233, 307, 140, 188, 465,\n",
      "        500, 499, 391,  92, 259, 394, 480,  40, 268, 258, 134,  83,  72, 332,\n",
      "        255, 478, 397, 226,  18, 367, 224, 279, 442, 277, 387, 246, 280, 195,\n",
      "         38, 126, 416, 459, 351, 296, 497, 330, 502,  27, 458, 174, 323, 477,\n",
      "        251, 345, 166, 507, 408, 410, 160, 375, 380, 510, 424, 420, 310, 264,\n",
      "        216, 223, 402, 396, 432, 377, 103, 464, 448, 508, 341, 503,  13, 311,\n",
      "        261,  26,  39, 150, 382, 122, 208, 460, 124,  45, 294, 308, 418, 422,\n",
      "        339, 411, 272, 324, 419, 252, 193, 430, 235, 137,  54, 177, 288,  29,\n",
      "         21, 144,  87, 453, 413, 320, 383, 260, 335, 444, 120, 254, 151, 331,\n",
      "          6, 153,  64,  88, 171, 219, 414, 467, 236, 452, 400,  49,  24,  86,\n",
      "         10,  97, 423, 250,  76, 439, 292, 133, 463,  91, 196, 200, 111, 355,\n",
      "         75, 372,  78, 306,   5, 206, 482, 493, 278,  96,  62,   8, 230, 163,\n",
      "        415, 184, 388,  19, 115, 138, 471, 132, 473, 489, 243, 240, 328, 321,\n",
      "         11,  35, 443, 469, 369, 217, 437, 158, 505,  44, 368, 316, 185,   9,\n",
      "        474, 159, 451, 105, 363, 139, 182, 445, 504, 269, 121, 225, 142, 401,\n",
      "         56, 373, 421,  69,  73, 340, 215, 404, 107, 197, 242, 209, 106, 291,\n",
      "        384, 352, 281,  36, 392, 491, 201,  70, 481, 403, 130, 425,  43, 129,\n",
      "        374, 501,  58, 395,  42, 496, 365, 429, 346,  59, 509, 466,   0,  28,\n",
      "        239, 325,  15,  98, 274,  14, 405, 156, 104, 263,  95, 192, 349, 187,\n",
      "        426, 357, 454, 128, 319, 222,  51, 344,  12, 117, 114,  47, 427, 234,\n",
      "         30, 446, 221, 271, 488,  77, 313,  23,  79, 303, 435,  89, 213, 389,\n",
      "        229, 364,  48, 297, 141, 245, 318, 167,  57, 462,   1,  68, 149, 183,\n",
      "         74, 450,  16, 186, 379, 490, 487, 409, 293, 181,  67, 305, 265, 348,\n",
      "        231,  71,  17, 220,  61, 390, 108, 136, 199, 110, 286, 479, 232, 343,\n",
      "        326, 204, 100, 244, 338, 289, 270, 359, 350,  94,  25, 304, 329, 161,\n",
      "         34, 438, 127, 476,  66, 385, 164, 145, 302, 290, 378, 287, 312,  84,\n",
      "        511, 406, 191, 358, 275,  32, 386, 113, 475, 447,  85, 257,  90, 353,\n",
      "        207,  46,  82, 109, 102, 155, 470, 169, 472, 283, 119,  31, 431, 178,\n",
      "        361, 189, 228, 440, 247, 484, 360, 249, 322,  63, 492, 203, 116,  50,\n",
      "        267, 154, 284, 327,  93, 101, 212, 371, 282, 295,  52, 434, 412, 131,\n",
      "        112,  20, 170, 314, 172, 449, 266,   3, 198, 494, 285,  99, 135, 218,\n",
      "        256, 300, 309, 276,  37, 506,  53, 457, 118, 455, 273, 202, 238, 393,\n",
      "         33,  22, 301, 194, 210, 468, 152, 333, 398, 317, 456, 370, 214, 173,\n",
      "         81, 237, 495, 227, 381, 354, 356,   4,  80, 175]), 'in_features': 500, 'out_features': 100}\n"
     ]
    },
    {
     "name": "stderr",
     "output_type": "stream",
     "text": [
      "LOCAL_RANK: 0 - CUDA_VISIBLE_DEVICES: [3]\n"
     ]
    },
    {
     "data": {
      "application/vnd.jupyter.widget-view+json": {
       "model_id": "bb96b6166a434fb095e4ae4c0fc86890",
       "version_major": 2,
       "version_minor": 0
      },
      "text/plain": [
       "Predicting: 0it [00:00, ?it/s]"
      ]
     },
     "metadata": {},
     "output_type": "display_data"
    },
    {
     "name": "stderr",
     "output_type": "stream",
     "text": [
      "Global seed set to 2\n",
      "No pretrained weights exist or were found for this model. Using random initialization.\n",
      "Global seed set to 3\n",
      "GPU available: True, used: True\n",
      "TPU available: False, using: 0 TPU cores\n",
      "IPU available: False, using: 0 IPUs\n",
      "Global seed set to 0\n"
     ]
    },
    {
     "name": "stdout",
     "output_type": "stream",
     "text": [
      "{'training': True, '_parameters': OrderedDict(), '_buffers': OrderedDict(), '_non_persistent_buffers_set': set(), '_backward_hooks': OrderedDict(), '_is_full_backward_hook': None, '_forward_hooks': OrderedDict(), '_forward_pre_hooks': OrderedDict(), '_state_dict_hooks': OrderedDict(), '_load_state_dict_pre_hooks': OrderedDict(), '_load_state_dict_post_hooks': OrderedDict(), '_modules': OrderedDict([('linear', Linear(in_features=500, out_features=100, bias=True))]), 'neuron_indices': tensor([362, 165,  39, 391, 364,  80, 182, 397,  69, 425, 174, 380, 337, 416,\n",
      "        104, 255, 151, 221, 460,  48, 332,  31, 293, 375, 160, 155, 175, 371,\n",
      "        494, 283, 214, 169, 156, 150, 261,  67, 189, 312, 328,  66, 277, 236,\n",
      "        298, 145, 222, 309,  18, 295, 241, 152, 355, 282, 141, 101,  98, 392,\n",
      "        509, 280, 470, 274, 164, 498, 422, 113,  64, 483, 428, 450, 339,  71,\n",
      "        432, 217, 431, 458,  21, 319, 297,  93, 479,  55, 485, 208, 510, 133,\n",
      "        108, 171, 477, 213, 248, 393, 478, 384, 172, 203, 302, 399, 215, 129,\n",
      "         27, 434, 361, 196, 414, 421, 369, 130, 331,  36,   0, 185, 134, 433,\n",
      "        218, 237, 354, 273, 447,  41, 122, 230,  32, 251, 379, 103, 481, 501,\n",
      "        190, 465, 285, 223, 310,  15, 329, 270,  76,  89,  24, 239, 139, 188,\n",
      "         83, 290, 119, 199, 500, 427,  57, 220, 195, 348, 186,  40, 159, 507,\n",
      "        271, 204, 229, 128, 360, 168, 338, 426, 324, 187, 263, 376, 318, 488,\n",
      "        278,   5, 429, 240, 493, 463, 489,  77, 149, 192, 368, 247, 191,  73,\n",
      "        233, 207, 176, 390, 486, 117, 396, 448,  62, 440,  51,  11, 180, 438,\n",
      "        146, 147,   7, 202, 210, 419,   8, 259, 209, 307, 472, 173, 197, 167,\n",
      "        359,  42, 252, 123, 242, 238, 308, 335, 184, 457, 245, 234,  28, 423,\n",
      "        342, 178, 410, 499, 464, 378, 206, 495,  20, 144, 467, 417, 243, 124,\n",
      "         23, 200, 345,  58,  12, 508, 439,  87, 253,  74, 367, 135,  10, 157,\n",
      "        179, 194, 224, 226, 316, 437, 105,  90, 482, 268,  56, 474, 137, 381,\n",
      "        504, 294,  97, 383, 506, 232,  65, 288, 181, 476, 388, 401, 296,  70,\n",
      "        289,  26, 373, 314,   6, 456, 125, 116, 266, 306, 407, 193,  16, 402,\n",
      "        177, 409, 394, 389, 503, 322, 143, 398, 330, 114, 106, 452, 100, 264,\n",
      "         85, 444, 235, 292, 484, 131,  45,  35, 269,  53,  60, 365, 406, 109,\n",
      "        303, 212, 386, 287,  54, 326, 496, 120, 352, 344, 260, 453, 492, 276,\n",
      "        299,  47, 227, 455, 358, 502, 154, 163,  84, 469,  61, 275, 350, 415,\n",
      "        374, 317, 357, 279, 412, 231,  49, 102, 443,  29, 132,  37, 436,  63,\n",
      "        466, 430, 343,  78,  19, 385, 471, 442,  88, 305,  79, 225,  25, 219,\n",
      "        351, 136, 110, 366,  50, 491, 281, 112, 301, 315, 118,  92, 370, 449,\n",
      "        387, 153, 201, 205, 497, 320, 411, 158, 162, 400, 304, 161, 256,  72,\n",
      "        334,  59,  68, 349, 138,  13, 346, 250, 321, 490,  46,  82,  75, 121,\n",
      "        249, 418, 435, 228,  91, 311,  30, 468, 325, 257, 198, 480, 211, 254,\n",
      "        403, 265, 127, 487, 267, 356, 336,  43,  17, 459, 424, 216, 313, 461,\n",
      "        395, 323, 446, 126, 262, 454,  14, 404,   4,  81, 372, 382,  34,  38,\n",
      "        420, 341, 166,  96,  33, 291, 363, 246,   1,  95, 377, 284,  22, 511,\n",
      "         94, 473, 183, 441,  52,   3,   9, 107, 353, 340, 505, 111, 405, 347,\n",
      "         86, 115, 413, 148, 408, 286, 445, 333, 272, 451]), 'in_features': 500, 'out_features': 100}\n"
     ]
    },
    {
     "name": "stderr",
     "output_type": "stream",
     "text": [
      "LOCAL_RANK: 0 - CUDA_VISIBLE_DEVICES: [3]\n"
     ]
    },
    {
     "data": {
      "application/vnd.jupyter.widget-view+json": {
       "model_id": "580ca394fb454bae86a3e6897493e6ff",
       "version_major": 2,
       "version_minor": 0
      },
      "text/plain": [
       "Predicting: 0it [00:00, ?it/s]"
      ]
     },
     "metadata": {},
     "output_type": "display_data"
    },
    {
     "name": "stderr",
     "output_type": "stream",
     "text": [
      "Global seed set to 2\n",
      "No pretrained weights exist or were found for this model. Using random initialization.\n",
      "Global seed set to 4\n",
      "GPU available: True, used: True\n",
      "TPU available: False, using: 0 TPU cores\n",
      "IPU available: False, using: 0 IPUs\n",
      "Global seed set to 0\n"
     ]
    },
    {
     "name": "stdout",
     "output_type": "stream",
     "text": [
      "{'training': True, '_parameters': OrderedDict(), '_buffers': OrderedDict(), '_non_persistent_buffers_set': set(), '_backward_hooks': OrderedDict(), '_is_full_backward_hook': None, '_forward_hooks': OrderedDict(), '_forward_pre_hooks': OrderedDict(), '_state_dict_hooks': OrderedDict(), '_load_state_dict_pre_hooks': OrderedDict(), '_load_state_dict_post_hooks': OrderedDict(), '_modules': OrderedDict([('linear', Linear(in_features=5, out_features=100, bias=True))]), 'neuron_indices': tensor([122,  70,  83, 170,  61]), 'in_features': 5, 'out_features': 100}\n"
     ]
    },
    {
     "name": "stderr",
     "output_type": "stream",
     "text": [
      "LOCAL_RANK: 0 - CUDA_VISIBLE_DEVICES: [3]\n"
     ]
    },
    {
     "data": {
      "application/vnd.jupyter.widget-view+json": {
       "model_id": "18ba62fbe99a499f9c026bd83fbac468",
       "version_major": 2,
       "version_minor": 0
      },
      "text/plain": [
       "Predicting: 0it [00:00, ?it/s]"
      ]
     },
     "metadata": {},
     "output_type": "display_data"
    },
    {
     "name": "stderr",
     "output_type": "stream",
     "text": [
      "Global seed set to 2\n",
      "No pretrained weights exist or were found for this model. Using random initialization.\n",
      "Global seed set to 3\n",
      "GPU available: True, used: True\n",
      "TPU available: False, using: 0 TPU cores\n",
      "IPU available: False, using: 0 IPUs\n",
      "Global seed set to 0\n"
     ]
    },
    {
     "name": "stdout",
     "output_type": "stream",
     "text": [
      "{'training': True, '_parameters': OrderedDict(), '_buffers': OrderedDict(), '_non_persistent_buffers_set': set(), '_backward_hooks': OrderedDict(), '_is_full_backward_hook': None, '_forward_hooks': OrderedDict(), '_forward_pre_hooks': OrderedDict(), '_state_dict_hooks': OrderedDict(), '_load_state_dict_pre_hooks': OrderedDict(), '_load_state_dict_post_hooks': OrderedDict(), '_modules': OrderedDict([('linear', Linear(in_features=5, out_features=100, bias=True))]), 'neuron_indices': tensor([106, 204,  47, 105,  32]), 'in_features': 5, 'out_features': 100}\n"
     ]
    },
    {
     "name": "stderr",
     "output_type": "stream",
     "text": [
      "LOCAL_RANK: 0 - CUDA_VISIBLE_DEVICES: [3]\n"
     ]
    },
    {
     "data": {
      "application/vnd.jupyter.widget-view+json": {
       "model_id": "67f160e5d37e4365a24e6d7f5134a381",
       "version_major": 2,
       "version_minor": 0
      },
      "text/plain": [
       "Predicting: 0it [00:00, ?it/s]"
      ]
     },
     "metadata": {},
     "output_type": "display_data"
    },
    {
     "name": "stderr",
     "output_type": "stream",
     "text": [
      "Global seed set to 2\n",
      "No pretrained weights exist or were found for this model. Using random initialization.\n",
      "Global seed set to 1\n",
      "GPU available: True, used: True\n",
      "TPU available: False, using: 0 TPU cores\n",
      "IPU available: False, using: 0 IPUs\n",
      "Global seed set to 0\n"
     ]
    },
    {
     "name": "stdout",
     "output_type": "stream",
     "text": [
      "{'training': True, '_parameters': OrderedDict(), '_buffers': OrderedDict(), '_non_persistent_buffers_set': set(), '_backward_hooks': OrderedDict(), '_is_full_backward_hook': None, '_forward_hooks': OrderedDict(), '_forward_pre_hooks': OrderedDict(), '_state_dict_hooks': OrderedDict(), '_load_state_dict_pre_hooks': OrderedDict(), '_load_state_dict_post_hooks': OrderedDict(), '_modules': OrderedDict([('linear', Linear(in_features=5, out_features=100, bias=True))]), 'neuron_indices': tensor([ 37, 180,  88, 157, 119]), 'in_features': 5, 'out_features': 100}\n"
     ]
    },
    {
     "name": "stderr",
     "output_type": "stream",
     "text": [
      "LOCAL_RANK: 0 - CUDA_VISIBLE_DEVICES: [3]\n"
     ]
    },
    {
     "data": {
      "application/vnd.jupyter.widget-view+json": {
       "model_id": "967f25240ace44469f509817145a1cc3",
       "version_major": 2,
       "version_minor": 0
      },
      "text/plain": [
       "Predicting: 0it [00:00, ?it/s]"
      ]
     },
     "metadata": {},
     "output_type": "display_data"
    },
    {
     "name": "stderr",
     "output_type": "stream",
     "text": [
      "Global seed set to 2\n",
      "No pretrained weights exist or were found for this model. Using random initialization.\n",
      "Global seed set to 2\n",
      "GPU available: True, used: True\n",
      "TPU available: False, using: 0 TPU cores\n",
      "IPU available: False, using: 0 IPUs\n",
      "Global seed set to 0\n"
     ]
    },
    {
     "name": "stdout",
     "output_type": "stream",
     "text": [
      "{'training': True, '_parameters': OrderedDict(), '_buffers': OrderedDict(), '_non_persistent_buffers_set': set(), '_backward_hooks': OrderedDict(), '_is_full_backward_hook': None, '_forward_hooks': OrderedDict(), '_forward_pre_hooks': OrderedDict(), '_state_dict_hooks': OrderedDict(), '_load_state_dict_pre_hooks': OrderedDict(), '_load_state_dict_post_hooks': OrderedDict(), '_modules': OrderedDict([('linear', Linear(in_features=5, out_features=100, bias=True))]), 'neuron_indices': tensor([168,  43, 227, 101, 246]), 'in_features': 5, 'out_features': 100}\n"
     ]
    },
    {
     "name": "stderr",
     "output_type": "stream",
     "text": [
      "LOCAL_RANK: 0 - CUDA_VISIBLE_DEVICES: [3]\n"
     ]
    },
    {
     "data": {
      "application/vnd.jupyter.widget-view+json": {
       "model_id": "7eea38be612342dfb0bb20730304f44b",
       "version_major": 2,
       "version_minor": 0
      },
      "text/plain": [
       "Predicting: 0it [00:00, ?it/s]"
      ]
     },
     "metadata": {},
     "output_type": "display_data"
    },
    {
     "name": "stderr",
     "output_type": "stream",
     "text": [
      "Global seed set to 2\n",
      "No pretrained weights exist or were found for this model. Using random initialization.\n",
      "Global seed set to 5\n",
      "GPU available: True, used: True\n",
      "TPU available: False, using: 0 TPU cores\n",
      "IPU available: False, using: 0 IPUs\n",
      "Global seed set to 0\n"
     ]
    },
    {
     "name": "stdout",
     "output_type": "stream",
     "text": [
      "{'training': True, '_parameters': OrderedDict(), '_buffers': OrderedDict(), '_non_persistent_buffers_set': set(), '_backward_hooks': OrderedDict(), '_is_full_backward_hook': None, '_forward_hooks': OrderedDict(), '_forward_pre_hooks': OrderedDict(), '_state_dict_hooks': OrderedDict(), '_load_state_dict_pre_hooks': OrderedDict(), '_load_state_dict_post_hooks': OrderedDict(), '_modules': OrderedDict([('linear', Linear(in_features=5, out_features=100, bias=True))]), 'neuron_indices': tensor([ 99,  70,  55, 138,  66]), 'in_features': 5, 'out_features': 100}\n"
     ]
    },
    {
     "name": "stderr",
     "output_type": "stream",
     "text": [
      "LOCAL_RANK: 0 - CUDA_VISIBLE_DEVICES: [3]\n"
     ]
    },
    {
     "data": {
      "application/vnd.jupyter.widget-view+json": {
       "model_id": "58c44c20ddc84ff0956cad89e53995bd",
       "version_major": 2,
       "version_minor": 0
      },
      "text/plain": [
       "Predicting: 0it [00:00, ?it/s]"
      ]
     },
     "metadata": {},
     "output_type": "display_data"
    },
    {
     "name": "stderr",
     "output_type": "stream",
     "text": [
      "Global seed set to 2\n",
      "No pretrained weights exist or were found for this model. Using random initialization.\n",
      "Global seed set to 1\n",
      "GPU available: True, used: True\n",
      "TPU available: False, using: 0 TPU cores\n",
      "IPU available: False, using: 0 IPUs\n",
      "Global seed set to 0\n"
     ]
    },
    {
     "name": "stdout",
     "output_type": "stream",
     "text": [
      "{'training': True, '_parameters': OrderedDict(), '_buffers': OrderedDict(), '_non_persistent_buffers_set': set(), '_backward_hooks': OrderedDict(), '_is_full_backward_hook': None, '_forward_hooks': OrderedDict(), '_forward_pre_hooks': OrderedDict(), '_state_dict_hooks': OrderedDict(), '_load_state_dict_pre_hooks': OrderedDict(), '_load_state_dict_post_hooks': OrderedDict(), '_modules': OrderedDict([('linear', Linear(in_features=20, out_features=100, bias=True))]), 'neuron_indices': tensor([ 37, 180,  88, 157, 119, 177, 247, 162, 175, 161, 144, 255, 200,  66,\n",
      "         63, 156, 118, 152, 120, 203]), 'in_features': 20, 'out_features': 100}\n"
     ]
    },
    {
     "name": "stderr",
     "output_type": "stream",
     "text": [
      "LOCAL_RANK: 0 - CUDA_VISIBLE_DEVICES: [3]\n"
     ]
    },
    {
     "data": {
      "application/vnd.jupyter.widget-view+json": {
       "model_id": "6167a88fba3b4463a45763fbf719ad42",
       "version_major": 2,
       "version_minor": 0
      },
      "text/plain": [
       "Predicting: 0it [00:00, ?it/s]"
      ]
     },
     "metadata": {},
     "output_type": "display_data"
    },
    {
     "name": "stderr",
     "output_type": "stream",
     "text": [
      "Global seed set to 2\n",
      "No pretrained weights exist or were found for this model. Using random initialization.\n",
      "Global seed set to 2\n",
      "GPU available: True, used: True\n",
      "TPU available: False, using: 0 TPU cores\n",
      "IPU available: False, using: 0 IPUs\n",
      "Global seed set to 0\n"
     ]
    },
    {
     "name": "stdout",
     "output_type": "stream",
     "text": [
      "{'training': True, '_parameters': OrderedDict(), '_buffers': OrderedDict(), '_non_persistent_buffers_set': set(), '_backward_hooks': OrderedDict(), '_is_full_backward_hook': None, '_forward_hooks': OrderedDict(), '_forward_pre_hooks': OrderedDict(), '_state_dict_hooks': OrderedDict(), '_load_state_dict_pre_hooks': OrderedDict(), '_load_state_dict_post_hooks': OrderedDict(), '_modules': OrderedDict([('linear', Linear(in_features=20, out_features=100, bias=True))]), 'neuron_indices': tensor([168,  43, 227, 101, 246, 215, 198, 143, 176, 241,  58, 147, 207,  32,\n",
      "         11,  14,  95, 233,   8, 124]), 'in_features': 20, 'out_features': 100}\n"
     ]
    },
    {
     "name": "stderr",
     "output_type": "stream",
     "text": [
      "LOCAL_RANK: 0 - CUDA_VISIBLE_DEVICES: [3]\n"
     ]
    },
    {
     "data": {
      "application/vnd.jupyter.widget-view+json": {
       "model_id": "ac3372e7467d4a9e956f919eceed2f76",
       "version_major": 2,
       "version_minor": 0
      },
      "text/plain": [
       "Predicting: 0it [00:00, ?it/s]"
      ]
     },
     "metadata": {},
     "output_type": "display_data"
    },
    {
     "name": "stderr",
     "output_type": "stream",
     "text": [
      "Global seed set to 2\n",
      "No pretrained weights exist or were found for this model. Using random initialization.\n",
      "Global seed set to 5\n",
      "GPU available: True, used: True\n",
      "TPU available: False, using: 0 TPU cores\n",
      "IPU available: False, using: 0 IPUs\n",
      "Global seed set to 0\n"
     ]
    },
    {
     "name": "stdout",
     "output_type": "stream",
     "text": [
      "{'training': True, '_parameters': OrderedDict(), '_buffers': OrderedDict(), '_non_persistent_buffers_set': set(), '_backward_hooks': OrderedDict(), '_is_full_backward_hook': None, '_forward_hooks': OrderedDict(), '_forward_pre_hooks': OrderedDict(), '_state_dict_hooks': OrderedDict(), '_load_state_dict_pre_hooks': OrderedDict(), '_load_state_dict_post_hooks': OrderedDict(), '_modules': OrderedDict([('linear', Linear(in_features=20, out_features=100, bias=True))]), 'neuron_indices': tensor([ 99,  70,  55, 138,  66,  19,  48,  54, 112, 228, 161, 171,  27, 210,\n",
      "         56, 113, 199,  98, 129, 134]), 'in_features': 20, 'out_features': 100}\n"
     ]
    },
    {
     "name": "stderr",
     "output_type": "stream",
     "text": [
      "LOCAL_RANK: 0 - CUDA_VISIBLE_DEVICES: [3]\n"
     ]
    },
    {
     "data": {
      "application/vnd.jupyter.widget-view+json": {
       "model_id": "0140eeb2709a4629a56c117e4eb870d0",
       "version_major": 2,
       "version_minor": 0
      },
      "text/plain": [
       "Predicting: 0it [00:00, ?it/s]"
      ]
     },
     "metadata": {},
     "output_type": "display_data"
    },
    {
     "name": "stderr",
     "output_type": "stream",
     "text": [
      "Global seed set to 2\n",
      "No pretrained weights exist or were found for this model. Using random initialization.\n",
      "Global seed set to 4\n",
      "GPU available: True, used: True\n",
      "TPU available: False, using: 0 TPU cores\n",
      "IPU available: False, using: 0 IPUs\n",
      "Global seed set to 0\n"
     ]
    },
    {
     "name": "stdout",
     "output_type": "stream",
     "text": [
      "{'training': True, '_parameters': OrderedDict(), '_buffers': OrderedDict(), '_non_persistent_buffers_set': set(), '_backward_hooks': OrderedDict(), '_is_full_backward_hook': None, '_forward_hooks': OrderedDict(), '_forward_pre_hooks': OrderedDict(), '_state_dict_hooks': OrderedDict(), '_load_state_dict_pre_hooks': OrderedDict(), '_load_state_dict_post_hooks': OrderedDict(), '_modules': OrderedDict([('linear', Linear(in_features=20, out_features=100, bias=True))]), 'neuron_indices': tensor([122,  70,  83, 170,  61,  89,  75, 155, 106, 242, 110, 177,  67,   9,\n",
      "         98,  47, 183, 246,  64, 168]), 'in_features': 20, 'out_features': 100}\n"
     ]
    },
    {
     "name": "stderr",
     "output_type": "stream",
     "text": [
      "LOCAL_RANK: 0 - CUDA_VISIBLE_DEVICES: [3]\n"
     ]
    },
    {
     "data": {
      "application/vnd.jupyter.widget-view+json": {
       "model_id": "55dd3c81cda146c0af9f5368e0261b15",
       "version_major": 2,
       "version_minor": 0
      },
      "text/plain": [
       "Predicting: 0it [00:00, ?it/s]"
      ]
     },
     "metadata": {},
     "output_type": "display_data"
    },
    {
     "name": "stderr",
     "output_type": "stream",
     "text": [
      "Global seed set to 2\n",
      "No pretrained weights exist or were found for this model. Using random initialization.\n",
      "Global seed set to 3\n",
      "GPU available: True, used: True\n",
      "TPU available: False, using: 0 TPU cores\n",
      "IPU available: False, using: 0 IPUs\n",
      "Global seed set to 0\n"
     ]
    },
    {
     "name": "stdout",
     "output_type": "stream",
     "text": [
      "{'training': True, '_parameters': OrderedDict(), '_buffers': OrderedDict(), '_non_persistent_buffers_set': set(), '_backward_hooks': OrderedDict(), '_is_full_backward_hook': None, '_forward_hooks': OrderedDict(), '_forward_pre_hooks': OrderedDict(), '_state_dict_hooks': OrderedDict(), '_load_state_dict_pre_hooks': OrderedDict(), '_load_state_dict_post_hooks': OrderedDict(), '_modules': OrderedDict([('linear', Linear(in_features=20, out_features=100, bias=True))]), 'neuron_indices': tensor([106, 204,  47, 105,  32, 181,  96, 255,  93,   8,  74, 157, 145, 168,\n",
      "        232, 198, 151,  45,  38, 153]), 'in_features': 20, 'out_features': 100}\n"
     ]
    },
    {
     "name": "stderr",
     "output_type": "stream",
     "text": [
      "LOCAL_RANK: 0 - CUDA_VISIBLE_DEVICES: [3]\n"
     ]
    },
    {
     "data": {
      "application/vnd.jupyter.widget-view+json": {
       "model_id": "2945c7bf6cd24e17a674fb921127b339",
       "version_major": 2,
       "version_minor": 0
      },
      "text/plain": [
       "Predicting: 0it [00:00, ?it/s]"
      ]
     },
     "metadata": {},
     "output_type": "display_data"
    },
    {
     "name": "stderr",
     "output_type": "stream",
     "text": [
      "Global seed set to 2\n",
      "No pretrained weights exist or were found for this model. Using random initialization.\n",
      "Global seed set to 5\n",
      "GPU available: True, used: True\n",
      "TPU available: False, using: 0 TPU cores\n",
      "IPU available: False, using: 0 IPUs\n",
      "Global seed set to 0\n"
     ]
    },
    {
     "name": "stdout",
     "output_type": "stream",
     "text": [
      "{'training': True, '_parameters': OrderedDict(), '_buffers': OrderedDict(), '_non_persistent_buffers_set': set(), '_backward_hooks': OrderedDict(), '_is_full_backward_hook': None, '_forward_hooks': OrderedDict(), '_forward_pre_hooks': OrderedDict(), '_state_dict_hooks': OrderedDict(), '_load_state_dict_pre_hooks': OrderedDict(), '_load_state_dict_post_hooks': OrderedDict(), '_modules': OrderedDict([('linear', Linear(in_features=30, out_features=100, bias=True))]), 'neuron_indices': tensor([ 99,  70,  55, 138,  66,  19,  48,  54, 112, 228, 161, 171,  27, 210,\n",
      "         56, 113, 199,  98, 129, 134, 133,  23, 136, 121,  28,  95,  57, 135,\n",
      "         11, 187]), 'in_features': 30, 'out_features': 100}\n"
     ]
    },
    {
     "name": "stderr",
     "output_type": "stream",
     "text": [
      "LOCAL_RANK: 0 - CUDA_VISIBLE_DEVICES: [3]\n"
     ]
    },
    {
     "data": {
      "application/vnd.jupyter.widget-view+json": {
       "model_id": "9c298872538145848b29839e40afe49b",
       "version_major": 2,
       "version_minor": 0
      },
      "text/plain": [
       "Predicting: 0it [00:00, ?it/s]"
      ]
     },
     "metadata": {},
     "output_type": "display_data"
    },
    {
     "name": "stderr",
     "output_type": "stream",
     "text": [
      "Global seed set to 2\n",
      "No pretrained weights exist or were found for this model. Using random initialization.\n",
      "Global seed set to 2\n",
      "GPU available: True, used: True\n",
      "TPU available: False, using: 0 TPU cores\n",
      "IPU available: False, using: 0 IPUs\n",
      "Global seed set to 0\n"
     ]
    },
    {
     "name": "stdout",
     "output_type": "stream",
     "text": [
      "{'training': True, '_parameters': OrderedDict(), '_buffers': OrderedDict(), '_non_persistent_buffers_set': set(), '_backward_hooks': OrderedDict(), '_is_full_backward_hook': None, '_forward_hooks': OrderedDict(), '_forward_pre_hooks': OrderedDict(), '_state_dict_hooks': OrderedDict(), '_load_state_dict_pre_hooks': OrderedDict(), '_load_state_dict_post_hooks': OrderedDict(), '_modules': OrderedDict([('linear', Linear(in_features=30, out_features=100, bias=True))]), 'neuron_indices': tensor([168,  43, 227, 101, 246, 215, 198, 143, 176, 241,  58, 147, 207,  32,\n",
      "         11,  14,  95, 233,   8, 124,  92,  10,   5, 183,  75, 232,  46, 163,\n",
      "        235, 181]), 'in_features': 30, 'out_features': 100}\n"
     ]
    },
    {
     "name": "stderr",
     "output_type": "stream",
     "text": [
      "LOCAL_RANK: 0 - CUDA_VISIBLE_DEVICES: [3]\n"
     ]
    },
    {
     "data": {
      "application/vnd.jupyter.widget-view+json": {
       "model_id": "6a68787d341a4883b3eb3cdd18a26c17",
       "version_major": 2,
       "version_minor": 0
      },
      "text/plain": [
       "Predicting: 0it [00:00, ?it/s]"
      ]
     },
     "metadata": {},
     "output_type": "display_data"
    },
    {
     "name": "stderr",
     "output_type": "stream",
     "text": [
      "Global seed set to 2\n",
      "No pretrained weights exist or were found for this model. Using random initialization.\n",
      "Global seed set to 1\n",
      "GPU available: True, used: True\n",
      "TPU available: False, using: 0 TPU cores\n",
      "IPU available: False, using: 0 IPUs\n",
      "Global seed set to 0\n"
     ]
    },
    {
     "name": "stdout",
     "output_type": "stream",
     "text": [
      "{'training': True, '_parameters': OrderedDict(), '_buffers': OrderedDict(), '_non_persistent_buffers_set': set(), '_backward_hooks': OrderedDict(), '_is_full_backward_hook': None, '_forward_hooks': OrderedDict(), '_forward_pre_hooks': OrderedDict(), '_state_dict_hooks': OrderedDict(), '_load_state_dict_pre_hooks': OrderedDict(), '_load_state_dict_post_hooks': OrderedDict(), '_modules': OrderedDict([('linear', Linear(in_features=30, out_features=100, bias=True))]), 'neuron_indices': tensor([ 37, 180,  88, 157, 119, 177, 247, 162, 175, 161, 144, 255, 200,  66,\n",
      "         63, 156, 118, 152, 120, 203, 234, 199,  13, 151, 155, 142, 210,  82,\n",
      "        237, 213]), 'in_features': 30, 'out_features': 100}\n"
     ]
    },
    {
     "name": "stderr",
     "output_type": "stream",
     "text": [
      "LOCAL_RANK: 0 - CUDA_VISIBLE_DEVICES: [3]\n"
     ]
    },
    {
     "data": {
      "application/vnd.jupyter.widget-view+json": {
       "model_id": "57cbb40c607e405fbd5ab434c8925c40",
       "version_major": 2,
       "version_minor": 0
      },
      "text/plain": [
       "Predicting: 0it [00:00, ?it/s]"
      ]
     },
     "metadata": {},
     "output_type": "display_data"
    },
    {
     "name": "stderr",
     "output_type": "stream",
     "text": [
      "Global seed set to 2\n",
      "No pretrained weights exist or were found for this model. Using random initialization.\n",
      "Global seed set to 3\n",
      "GPU available: True, used: True\n",
      "TPU available: False, using: 0 TPU cores\n",
      "IPU available: False, using: 0 IPUs\n",
      "Global seed set to 0\n"
     ]
    },
    {
     "name": "stdout",
     "output_type": "stream",
     "text": [
      "{'training': True, '_parameters': OrderedDict(), '_buffers': OrderedDict(), '_non_persistent_buffers_set': set(), '_backward_hooks': OrderedDict(), '_is_full_backward_hook': None, '_forward_hooks': OrderedDict(), '_forward_pre_hooks': OrderedDict(), '_state_dict_hooks': OrderedDict(), '_load_state_dict_pre_hooks': OrderedDict(), '_load_state_dict_post_hooks': OrderedDict(), '_modules': OrderedDict([('linear', Linear(in_features=30, out_features=100, bias=True))]), 'neuron_indices': tensor([106, 204,  47, 105,  32, 181,  96, 255,  93,   8,  74, 157, 145, 168,\n",
      "        232, 198, 151,  45,  38, 153, 164,  65,  91,  88, 152, 195, 193, 112,\n",
      "         18, 230]), 'in_features': 30, 'out_features': 100}\n"
     ]
    },
    {
     "name": "stderr",
     "output_type": "stream",
     "text": [
      "LOCAL_RANK: 0 - CUDA_VISIBLE_DEVICES: [3]\n"
     ]
    },
    {
     "data": {
      "application/vnd.jupyter.widget-view+json": {
       "model_id": "cc443a886478478f9e886cc9689f92e5",
       "version_major": 2,
       "version_minor": 0
      },
      "text/plain": [
       "Predicting: 0it [00:00, ?it/s]"
      ]
     },
     "metadata": {},
     "output_type": "display_data"
    },
    {
     "name": "stderr",
     "output_type": "stream",
     "text": [
      "Global seed set to 2\n",
      "No pretrained weights exist or were found for this model. Using random initialization.\n",
      "Global seed set to 4\n",
      "GPU available: True, used: True\n",
      "TPU available: False, using: 0 TPU cores\n",
      "IPU available: False, using: 0 IPUs\n",
      "Global seed set to 0\n"
     ]
    },
    {
     "name": "stdout",
     "output_type": "stream",
     "text": [
      "{'training': True, '_parameters': OrderedDict(), '_buffers': OrderedDict(), '_non_persistent_buffers_set': set(), '_backward_hooks': OrderedDict(), '_is_full_backward_hook': None, '_forward_hooks': OrderedDict(), '_forward_pre_hooks': OrderedDict(), '_state_dict_hooks': OrderedDict(), '_load_state_dict_pre_hooks': OrderedDict(), '_load_state_dict_post_hooks': OrderedDict(), '_modules': OrderedDict([('linear', Linear(in_features=30, out_features=100, bias=True))]), 'neuron_indices': tensor([122,  70,  83, 170,  61,  89,  75, 155, 106, 242, 110, 177,  67,   9,\n",
      "         98,  47, 183, 246,  64, 168, 198, 251, 192, 150, 162, 233, 217,  74,\n",
      "        187,  54]), 'in_features': 30, 'out_features': 100}\n"
     ]
    },
    {
     "name": "stderr",
     "output_type": "stream",
     "text": [
      "LOCAL_RANK: 0 - CUDA_VISIBLE_DEVICES: [3]\n"
     ]
    },
    {
     "data": {
      "application/vnd.jupyter.widget-view+json": {
       "model_id": "9807ac6e231049d0a0f0aff08469b29a",
       "version_major": 2,
       "version_minor": 0
      },
      "text/plain": [
       "Predicting: 0it [00:00, ?it/s]"
      ]
     },
     "metadata": {},
     "output_type": "display_data"
    },
    {
     "name": "stderr",
     "output_type": "stream",
     "text": [
      "Global seed set to 2\n",
      "No pretrained weights exist or were found for this model. Using random initialization.\n",
      "Global seed set to 1\n",
      "GPU available: True, used: True\n",
      "TPU available: False, using: 0 TPU cores\n",
      "IPU available: False, using: 0 IPUs\n",
      "Global seed set to 0\n"
     ]
    },
    {
     "name": "stdout",
     "output_type": "stream",
     "text": [
      "{'training': True, '_parameters': OrderedDict(), '_buffers': OrderedDict(), '_non_persistent_buffers_set': set(), '_backward_hooks': OrderedDict(), '_is_full_backward_hook': None, '_forward_hooks': OrderedDict(), '_forward_pre_hooks': OrderedDict(), '_state_dict_hooks': OrderedDict(), '_load_state_dict_pre_hooks': OrderedDict(), '_load_state_dict_post_hooks': OrderedDict(), '_modules': OrderedDict([('linear', Linear(in_features=128, out_features=100, bias=True))]), 'neuron_indices': tensor([ 37, 180,  88, 157, 119, 177, 247, 162, 175, 161, 144, 255, 200,  66,\n",
      "         63, 156, 118, 152, 120, 203, 234, 199,  13, 151, 155, 142, 210,  82,\n",
      "        237, 213,  96,   5,  55,   7,  83, 229,  39,   0, 254,  99, 109, 220,\n",
      "         36, 111,  91, 233,  64,  19, 129, 197, 182, 186, 140, 240,  93, 248,\n",
      "        167,  27,  97, 150, 238,  12, 145, 214,  85, 232,  28, 207, 164,  43,\n",
      "        173, 184, 108,  20,  26,  32, 141, 130,  24, 110, 239,  29,   1,  35,\n",
      "         44,  21,  62, 252,  98, 216,  16,  38,  49,  77,   3, 158, 183, 135,\n",
      "        170, 195, 105,  73, 149,  50,  53,  52, 116,  17, 159, 188, 131, 246,\n",
      "        201, 187,  22, 123, 166, 168,  51, 205,  18, 227,   9, 253,  76, 218,\n",
      "         46,  31]), 'in_features': 128, 'out_features': 100}\n"
     ]
    },
    {
     "name": "stderr",
     "output_type": "stream",
     "text": [
      "LOCAL_RANK: 0 - CUDA_VISIBLE_DEVICES: [3]\n"
     ]
    },
    {
     "data": {
      "application/vnd.jupyter.widget-view+json": {
       "model_id": "ff32882652ab4621801626a6edce0ae6",
       "version_major": 2,
       "version_minor": 0
      },
      "text/plain": [
       "Predicting: 0it [00:00, ?it/s]"
      ]
     },
     "metadata": {},
     "output_type": "display_data"
    },
    {
     "name": "stderr",
     "output_type": "stream",
     "text": [
      "Global seed set to 2\n",
      "No pretrained weights exist or were found for this model. Using random initialization.\n",
      "Global seed set to 2\n",
      "GPU available: True, used: True\n",
      "TPU available: False, using: 0 TPU cores\n",
      "IPU available: False, using: 0 IPUs\n",
      "Global seed set to 0\n"
     ]
    },
    {
     "name": "stdout",
     "output_type": "stream",
     "text": [
      "{'training': True, '_parameters': OrderedDict(), '_buffers': OrderedDict(), '_non_persistent_buffers_set': set(), '_backward_hooks': OrderedDict(), '_is_full_backward_hook': None, '_forward_hooks': OrderedDict(), '_forward_pre_hooks': OrderedDict(), '_state_dict_hooks': OrderedDict(), '_load_state_dict_pre_hooks': OrderedDict(), '_load_state_dict_post_hooks': OrderedDict(), '_modules': OrderedDict([('linear', Linear(in_features=128, out_features=100, bias=True))]), 'neuron_indices': tensor([168,  43, 227, 101, 246, 215, 198, 143, 176, 241,  58, 147, 207,  32,\n",
      "         11,  14,  95, 233,   8, 124,  92,  10,   5, 183,  75, 232,  46, 163,\n",
      "        235, 181,  51, 162,  42, 211, 178, 177,  16, 121, 249,  77, 196, 173,\n",
      "         96,   0,  55, 127,  39, 184,  80,  34, 102,  88, 206, 228,  68, 210,\n",
      "         12,  17, 203,  89,  50, 223, 188,  24, 250, 137, 165, 118,  13, 186,\n",
      "         87, 172, 240, 100,  97, 234, 169, 187, 104, 120, 154,  40,  76,  93,\n",
      "        119,   2,  53, 189, 136, 199,  52,  71, 192, 197,  63, 229,  67,  19,\n",
      "         47, 201, 218,  37, 244,  70, 105, 103,  69,  82, 245, 220,   9, 252,\n",
      "        149, 133, 150,  45,  73, 106, 254, 193,  91,  66, 138,  25, 226, 128,\n",
      "        231,  61]), 'in_features': 128, 'out_features': 100}\n"
     ]
    },
    {
     "name": "stderr",
     "output_type": "stream",
     "text": [
      "LOCAL_RANK: 0 - CUDA_VISIBLE_DEVICES: [3]\n"
     ]
    },
    {
     "data": {
      "application/vnd.jupyter.widget-view+json": {
       "model_id": "66e6546055d54c7c8540f90ee0517a28",
       "version_major": 2,
       "version_minor": 0
      },
      "text/plain": [
       "Predicting: 0it [00:00, ?it/s]"
      ]
     },
     "metadata": {},
     "output_type": "display_data"
    },
    {
     "name": "stderr",
     "output_type": "stream",
     "text": [
      "Global seed set to 2\n",
      "No pretrained weights exist or were found for this model. Using random initialization.\n",
      "Global seed set to 5\n",
      "GPU available: True, used: True\n",
      "TPU available: False, using: 0 TPU cores\n",
      "IPU available: False, using: 0 IPUs\n",
      "Global seed set to 0\n"
     ]
    },
    {
     "name": "stdout",
     "output_type": "stream",
     "text": [
      "{'training': True, '_parameters': OrderedDict(), '_buffers': OrderedDict(), '_non_persistent_buffers_set': set(), '_backward_hooks': OrderedDict(), '_is_full_backward_hook': None, '_forward_hooks': OrderedDict(), '_forward_pre_hooks': OrderedDict(), '_state_dict_hooks': OrderedDict(), '_load_state_dict_pre_hooks': OrderedDict(), '_load_state_dict_post_hooks': OrderedDict(), '_modules': OrderedDict([('linear', Linear(in_features=128, out_features=100, bias=True))]), 'neuron_indices': tensor([ 99,  70,  55, 138,  66,  19,  48,  54, 112, 228, 161, 171,  27, 210,\n",
      "         56, 113, 199,  98, 129, 134, 133,  23, 136, 121,  28,  95,  57, 135,\n",
      "         11, 187, 244, 180,  93, 220, 146,  40,  15, 165, 205, 235, 230, 124,\n",
      "        254, 186,  30,  75, 255, 107, 240,  77, 190, 213, 156,  64, 159, 177,\n",
      "        223,   9, 102, 118,  69, 238,   2, 212,  62,  78,  85,  16, 172, 245,\n",
      "         34,  97,  39,  60, 153, 150, 145, 143,  53, 127, 158,  84, 175, 115,\n",
      "         89, 131,  46, 248,  94, 243, 108, 218,  71,  25, 105,  20, 229,  81,\n",
      "        141, 227,  33,  63,  61,  73, 224, 157,  87, 179,  41, 189,  52,  79,\n",
      "        222,   1, 116, 128,  82, 236, 197, 184, 216,  43, 162, 194,  45, 168,\n",
      "        120,  47]), 'in_features': 128, 'out_features': 100}\n"
     ]
    },
    {
     "name": "stderr",
     "output_type": "stream",
     "text": [
      "LOCAL_RANK: 0 - CUDA_VISIBLE_DEVICES: [3]\n"
     ]
    },
    {
     "data": {
      "application/vnd.jupyter.widget-view+json": {
       "model_id": "726c89a890bb4e078e6c6579165b913e",
       "version_major": 2,
       "version_minor": 0
      },
      "text/plain": [
       "Predicting: 0it [00:00, ?it/s]"
      ]
     },
     "metadata": {},
     "output_type": "display_data"
    },
    {
     "name": "stderr",
     "output_type": "stream",
     "text": [
      "Global seed set to 2\n",
      "No pretrained weights exist or were found for this model. Using random initialization.\n",
      "Global seed set to 4\n",
      "GPU available: True, used: True\n",
      "TPU available: False, using: 0 TPU cores\n",
      "IPU available: False, using: 0 IPUs\n",
      "Global seed set to 0\n"
     ]
    },
    {
     "name": "stdout",
     "output_type": "stream",
     "text": [
      "{'training': True, '_parameters': OrderedDict(), '_buffers': OrderedDict(), '_non_persistent_buffers_set': set(), '_backward_hooks': OrderedDict(), '_is_full_backward_hook': None, '_forward_hooks': OrderedDict(), '_forward_pre_hooks': OrderedDict(), '_state_dict_hooks': OrderedDict(), '_load_state_dict_pre_hooks': OrderedDict(), '_load_state_dict_post_hooks': OrderedDict(), '_modules': OrderedDict([('linear', Linear(in_features=128, out_features=100, bias=True))]), 'neuron_indices': tensor([122,  70,  83, 170,  61,  89,  75, 155, 106, 242, 110, 177,  67,   9,\n",
      "         98,  47, 183, 246,  64, 168, 198, 251, 192, 150, 162, 233, 217,  74,\n",
      "        187,  54, 153, 114,  38,  81, 132, 204,  62,  15,  93,  94,  40, 147,\n",
      "         88, 216, 227, 101,  43,  49,  90, 113, 205, 151,  17, 169,   3, 191,\n",
      "         82, 196,  55, 210,  12,   1, 175,  60, 209, 108, 133, 239,  77, 149,\n",
      "         19,  91,  95, 105, 188,  35,  51, 238, 240, 107,  76, 152,  46, 203,\n",
      "        255, 219, 208,  30, 129,  27, 111,  59,  72,  78, 165,  58, 207,  50,\n",
      "         37, 171, 127, 178, 126,  65, 173, 121, 115, 135, 245, 159, 249, 223,\n",
      "        102, 211, 226,  86, 244, 195, 221, 236, 145,  22, 201, 144, 237, 189,\n",
      "        119,  36]), 'in_features': 128, 'out_features': 100}\n"
     ]
    },
    {
     "name": "stderr",
     "output_type": "stream",
     "text": [
      "LOCAL_RANK: 0 - CUDA_VISIBLE_DEVICES: [3]\n"
     ]
    },
    {
     "data": {
      "application/vnd.jupyter.widget-view+json": {
       "model_id": "f4f66525049e43d48bbd8d55e303cd07",
       "version_major": 2,
       "version_minor": 0
      },
      "text/plain": [
       "Predicting: 0it [00:00, ?it/s]"
      ]
     },
     "metadata": {},
     "output_type": "display_data"
    },
    {
     "name": "stderr",
     "output_type": "stream",
     "text": [
      "Global seed set to 2\n",
      "No pretrained weights exist or were found for this model. Using random initialization.\n",
      "Global seed set to 3\n",
      "GPU available: True, used: True\n",
      "TPU available: False, using: 0 TPU cores\n",
      "IPU available: False, using: 0 IPUs\n",
      "Global seed set to 0\n"
     ]
    },
    {
     "name": "stdout",
     "output_type": "stream",
     "text": [
      "{'training': True, '_parameters': OrderedDict(), '_buffers': OrderedDict(), '_non_persistent_buffers_set': set(), '_backward_hooks': OrderedDict(), '_is_full_backward_hook': None, '_forward_hooks': OrderedDict(), '_forward_pre_hooks': OrderedDict(), '_state_dict_hooks': OrderedDict(), '_load_state_dict_pre_hooks': OrderedDict(), '_load_state_dict_post_hooks': OrderedDict(), '_modules': OrderedDict([('linear', Linear(in_features=128, out_features=100, bias=True))]), 'neuron_indices': tensor([106, 204,  47, 105,  32, 181,  96, 255,  93,   8,  74, 157, 145, 168,\n",
      "        232, 198, 151,  45,  38, 153, 164,  65,  91,  88, 152, 195, 193, 112,\n",
      "         18, 230, 108,  77, 188, 110,  49, 102,  89, 122, 244, 155, 125, 100,\n",
      "        234,  27,  78, 247,  37,  87, 209,  67,  73,  46, 185,  95,  76,  68,\n",
      "        117,  83,  29, 173, 236,   1, 208,  24,  64, 142, 154, 192, 199, 249,\n",
      "        160,  51, 207, 242, 215, 212, 129, 126, 219,  19, 133, 240, 214, 118,\n",
      "         61,  36, 165,   5,  34,  57,  20, 251, 196,  52,  28,  40,  17, 205,\n",
      "        163, 158,  69, 123, 120, 191, 177, 184, 187,  98,  33, 159,  70, 103,\n",
      "        218,  58,  60,  53, 135,  63,  84, 127,  92, 225,  11, 156,   2, 203,\n",
      "         31, 202]), 'in_features': 128, 'out_features': 100}\n"
     ]
    },
    {
     "name": "stderr",
     "output_type": "stream",
     "text": [
      "LOCAL_RANK: 0 - CUDA_VISIBLE_DEVICES: [3]\n"
     ]
    },
    {
     "data": {
      "application/vnd.jupyter.widget-view+json": {
       "model_id": "bdab086401804e0f90fb66e321b49710",
       "version_major": 2,
       "version_minor": 0
      },
      "text/plain": [
       "Predicting: 0it [00:00, ?it/s]"
      ]
     },
     "metadata": {},
     "output_type": "display_data"
    },
    {
     "name": "stderr",
     "output_type": "stream",
     "text": [
      "Global seed set to 2\n",
      "No pretrained weights exist or were found for this model. Using random initialization.\n",
      "Global seed set to 3\n",
      "GPU available: True, used: True\n",
      "TPU available: False, using: 0 TPU cores\n",
      "IPU available: False, using: 0 IPUs\n",
      "Global seed set to 0\n"
     ]
    },
    {
     "name": "stdout",
     "output_type": "stream",
     "text": [
      "{'training': True, '_parameters': OrderedDict(), '_buffers': OrderedDict(), '_non_persistent_buffers_set': set(), '_backward_hooks': OrderedDict(), '_is_full_backward_hook': None, '_forward_hooks': OrderedDict(), '_forward_pre_hooks': OrderedDict(), '_state_dict_hooks': OrderedDict(), '_load_state_dict_pre_hooks': OrderedDict(), '_load_state_dict_post_hooks': OrderedDict(), '_modules': OrderedDict([('linear', Linear(in_features=220, out_features=100, bias=True))]), 'neuron_indices': tensor([106, 204,  47, 105,  32, 181,  96, 255,  93,   8,  74, 157, 145, 168,\n",
      "        232, 198, 151,  45,  38, 153, 164,  65,  91,  88, 152, 195, 193, 112,\n",
      "         18, 230, 108,  77, 188, 110,  49, 102,  89, 122, 244, 155, 125, 100,\n",
      "        234,  27,  78, 247,  37,  87, 209,  67,  73,  46, 185,  95,  76,  68,\n",
      "        117,  83,  29, 173, 236,   1, 208,  24,  64, 142, 154, 192, 199, 249,\n",
      "        160,  51, 207, 242, 215, 212, 129, 126, 219,  19, 133, 240, 214, 118,\n",
      "         61,  36, 165,   5,  34,  57,  20, 251, 196,  52,  28,  40,  17, 205,\n",
      "        163, 158,  69, 123, 120, 191, 177, 184, 187,  98,  33, 159,  70, 103,\n",
      "        218,  58,  60,  53, 135,  63,  84, 127,  92, 225,  11, 156,   2, 203,\n",
      "         31, 202,  71, 174,  21,  30, 161, 235, 167, 139, 248, 210,   9,  59,\n",
      "        250, 121, 194,   6, 228, 231,   3, 186,  80, 132, 206, 148, 143,  81,\n",
      "        201,  50, 253,  82, 226, 183, 137, 227, 170, 180, 211,  39, 147,  41,\n",
      "        254,  25, 169, 241,  97, 130, 149, 107,  85, 189, 246, 200,  22,  94,\n",
      "        197, 213, 124,  44, 238,   4, 114,  75,   0, 141,  43,  26, 136, 220,\n",
      "        179, 223,  16, 243, 119, 144, 138,  72, 171,  62, 224,  90, 252, 221,\n",
      "        245,  14,  66,  86, 128, 150, 172,   7,  79, 178]), 'in_features': 220, 'out_features': 100}\n"
     ]
    },
    {
     "name": "stderr",
     "output_type": "stream",
     "text": [
      "LOCAL_RANK: 0 - CUDA_VISIBLE_DEVICES: [3]\n"
     ]
    },
    {
     "data": {
      "application/vnd.jupyter.widget-view+json": {
       "model_id": "abf9af8a9b554c40990dfca69c3b2ca3",
       "version_major": 2,
       "version_minor": 0
      },
      "text/plain": [
       "Predicting: 0it [00:00, ?it/s]"
      ]
     },
     "metadata": {},
     "output_type": "display_data"
    },
    {
     "name": "stderr",
     "output_type": "stream",
     "text": [
      "Global seed set to 2\n",
      "No pretrained weights exist or were found for this model. Using random initialization.\n",
      "Global seed set to 4\n",
      "GPU available: True, used: True\n",
      "TPU available: False, using: 0 TPU cores\n",
      "IPU available: False, using: 0 IPUs\n",
      "Global seed set to 0\n"
     ]
    },
    {
     "name": "stdout",
     "output_type": "stream",
     "text": [
      "{'training': True, '_parameters': OrderedDict(), '_buffers': OrderedDict(), '_non_persistent_buffers_set': set(), '_backward_hooks': OrderedDict(), '_is_full_backward_hook': None, '_forward_hooks': OrderedDict(), '_forward_pre_hooks': OrderedDict(), '_state_dict_hooks': OrderedDict(), '_load_state_dict_pre_hooks': OrderedDict(), '_load_state_dict_post_hooks': OrderedDict(), '_modules': OrderedDict([('linear', Linear(in_features=220, out_features=100, bias=True))]), 'neuron_indices': tensor([122,  70,  83, 170,  61,  89,  75, 155, 106, 242, 110, 177,  67,   9,\n",
      "         98,  47, 183, 246,  64, 168, 198, 251, 192, 150, 162, 233, 217,  74,\n",
      "        187,  54, 153, 114,  38,  81, 132, 204,  62,  15,  93,  94,  40, 147,\n",
      "         88, 216, 227, 101,  43,  49,  90, 113, 205, 151,  17, 169,   3, 191,\n",
      "         82, 196,  55, 210,  12,   1, 175,  60, 209, 108, 133, 239,  77, 149,\n",
      "         19,  91,  95, 105, 188,  35,  51, 238, 240, 107,  76, 152,  46, 203,\n",
      "        255, 219, 208,  30, 129,  27, 111,  59,  72,  78, 165,  58, 207,  50,\n",
      "         37, 171, 127, 178, 126,  65, 173, 121, 115, 135, 245, 159, 249, 223,\n",
      "        102, 211, 226,  86, 244, 195, 221, 236, 145,  22, 201, 144, 237, 189,\n",
      "        119,  36,  28, 146,  13,  87,  68, 130, 186, 103, 200,  56, 139,  63,\n",
      "        206, 231, 166,  10, 193, 247, 163, 141, 215, 250,  11, 180, 157,   0,\n",
      "        224,  21, 148, 116, 142,  52,  48,  96,  16, 212,   7, 174, 254, 134,\n",
      "         92, 202, 241,  25,  69, 220, 158, 225, 161, 125,  18,   2,  45, 138,\n",
      "        104, 109, 234, 235,  24,  84, 243, 182, 118,  44, 214, 197, 181, 176,\n",
      "        185, 156, 228,   4,  73,  42, 143,  31, 232, 124, 199,  33, 229, 128,\n",
      "         14, 164, 140,  66,  85,  32, 154, 230,  71, 117]), 'in_features': 220, 'out_features': 100}\n"
     ]
    },
    {
     "name": "stderr",
     "output_type": "stream",
     "text": [
      "LOCAL_RANK: 0 - CUDA_VISIBLE_DEVICES: [3]\n"
     ]
    },
    {
     "data": {
      "application/vnd.jupyter.widget-view+json": {
       "model_id": "bbcdd8c19e6040f6ac9c144f76ed2151",
       "version_major": 2,
       "version_minor": 0
      },
      "text/plain": [
       "Predicting: 0it [00:00, ?it/s]"
      ]
     },
     "metadata": {},
     "output_type": "display_data"
    },
    {
     "name": "stderr",
     "output_type": "stream",
     "text": [
      "Global seed set to 2\n",
      "No pretrained weights exist or were found for this model. Using random initialization.\n",
      "Global seed set to 1\n",
      "GPU available: True, used: True\n",
      "TPU available: False, using: 0 TPU cores\n",
      "IPU available: False, using: 0 IPUs\n",
      "Global seed set to 0\n"
     ]
    },
    {
     "name": "stdout",
     "output_type": "stream",
     "text": [
      "{'training': True, '_parameters': OrderedDict(), '_buffers': OrderedDict(), '_non_persistent_buffers_set': set(), '_backward_hooks': OrderedDict(), '_is_full_backward_hook': None, '_forward_hooks': OrderedDict(), '_forward_pre_hooks': OrderedDict(), '_state_dict_hooks': OrderedDict(), '_load_state_dict_pre_hooks': OrderedDict(), '_load_state_dict_post_hooks': OrderedDict(), '_modules': OrderedDict([('linear', Linear(in_features=220, out_features=100, bias=True))]), 'neuron_indices': tensor([ 37, 180,  88, 157, 119, 177, 247, 162, 175, 161, 144, 255, 200,  66,\n",
      "         63, 156, 118, 152, 120, 203, 234, 199,  13, 151, 155, 142, 210,  82,\n",
      "        237, 213,  96,   5,  55,   7,  83, 229,  39,   0, 254,  99, 109, 220,\n",
      "         36, 111,  91, 233,  64,  19, 129, 197, 182, 186, 140, 240,  93, 248,\n",
      "        167,  27,  97, 150, 238,  12, 145, 214,  85, 232,  28, 207, 164,  43,\n",
      "        173, 184, 108,  20,  26,  32, 141, 130,  24, 110, 239,  29,   1,  35,\n",
      "         44,  21,  62, 252,  98, 216,  16,  38,  49,  77,   3, 158, 183, 135,\n",
      "        170, 195, 105,  73, 149,  50,  53,  52, 116,  17, 159, 188, 131, 246,\n",
      "        201, 187,  22, 123, 166, 168,  51, 205,  18, 227,   9, 253,  76, 218,\n",
      "         46,  31,  75,   8, 181,  33,  71, 211,  65,  42, 172, 126, 219,  60,\n",
      "          6,  47, 174, 225,  40, 165, 244, 206, 160,  30, 121,  86,  87, 127,\n",
      "        230, 243, 103,  94, 231,  84, 215, 176,  11, 132, 209, 169, 190, 193,\n",
      "        196, 113, 228,  69, 222, 101, 124,  45, 194,  48,  58,  41, 236, 143,\n",
      "        112,  72, 122, 163, 224,  92, 136,  23,   2,  80, 137, 198, 212, 128,\n",
      "        100, 117,   4,  34,  57, 104, 250,  25,  54, 115,  78,  89, 241,  61,\n",
      "        107,  70,  67, 221, 223, 208, 249, 148,  59, 171]), 'in_features': 220, 'out_features': 100}\n"
     ]
    },
    {
     "name": "stderr",
     "output_type": "stream",
     "text": [
      "LOCAL_RANK: 0 - CUDA_VISIBLE_DEVICES: [3]\n"
     ]
    },
    {
     "data": {
      "application/vnd.jupyter.widget-view+json": {
       "model_id": "4875ca6c9ba94fa9af549a1c894be416",
       "version_major": 2,
       "version_minor": 0
      },
      "text/plain": [
       "Predicting: 0it [00:00, ?it/s]"
      ]
     },
     "metadata": {},
     "output_type": "display_data"
    },
    {
     "name": "stderr",
     "output_type": "stream",
     "text": [
      "Global seed set to 2\n",
      "No pretrained weights exist or were found for this model. Using random initialization.\n",
      "Global seed set to 5\n",
      "GPU available: True, used: True\n",
      "TPU available: False, using: 0 TPU cores\n",
      "IPU available: False, using: 0 IPUs\n",
      "Global seed set to 0\n"
     ]
    },
    {
     "name": "stdout",
     "output_type": "stream",
     "text": [
      "{'training': True, '_parameters': OrderedDict(), '_buffers': OrderedDict(), '_non_persistent_buffers_set': set(), '_backward_hooks': OrderedDict(), '_is_full_backward_hook': None, '_forward_hooks': OrderedDict(), '_forward_pre_hooks': OrderedDict(), '_state_dict_hooks': OrderedDict(), '_load_state_dict_pre_hooks': OrderedDict(), '_load_state_dict_post_hooks': OrderedDict(), '_modules': OrderedDict([('linear', Linear(in_features=220, out_features=100, bias=True))]), 'neuron_indices': tensor([ 99,  70,  55, 138,  66,  19,  48,  54, 112, 228, 161, 171,  27, 210,\n",
      "         56, 113, 199,  98, 129, 134, 133,  23, 136, 121,  28,  95,  57, 135,\n",
      "         11, 187, 244, 180,  93, 220, 146,  40,  15, 165, 205, 235, 230, 124,\n",
      "        254, 186,  30,  75, 255, 107, 240,  77, 190, 213, 156,  64, 159, 177,\n",
      "        223,   9, 102, 118,  69, 238,   2, 212,  62,  78,  85,  16, 172, 245,\n",
      "         34,  97,  39,  60, 153, 150, 145, 143,  53, 127, 158,  84, 175, 115,\n",
      "         89, 131,  46, 248,  94, 243, 108, 218,  71,  25, 105,  20, 229,  81,\n",
      "        141, 227,  33,  63,  61,  73, 224, 157,  87, 179,  41, 189,  52,  79,\n",
      "        222,   1, 116, 128,  82, 236, 197, 184, 216,  43, 162, 194,  45, 168,\n",
      "        120,  47,  32, 200, 192, 181, 221,  96, 148,  50,  88, 249, 110, 170,\n",
      "        252, 130,  21, 206,  86,   3, 193,  83, 164, 250,  91, 114,  26, 167,\n",
      "        203, 204,   5, 183, 119, 106,  92, 242,  36, 147,  22,  51, 214, 195,\n",
      "        251,  35, 111,  76,  68,  14,  29, 163, 140,  65, 202,  42, 215, 137,\n",
      "          7, 149,  90, 155, 191, 154, 117,   4,  31, 122,  67, 173, 232, 219,\n",
      "        123, 169, 126, 226, 104,  37, 160, 217, 103, 176, 101, 178, 125, 188,\n",
      "         13, 247,  59, 198,  74, 233, 151,  10, 132,   6]), 'in_features': 220, 'out_features': 100}\n"
     ]
    },
    {
     "name": "stderr",
     "output_type": "stream",
     "text": [
      "LOCAL_RANK: 0 - CUDA_VISIBLE_DEVICES: [3]\n"
     ]
    },
    {
     "data": {
      "application/vnd.jupyter.widget-view+json": {
       "model_id": "31e86174992b4efe8f9a7d2bea336b7f",
       "version_major": 2,
       "version_minor": 0
      },
      "text/plain": [
       "Predicting: 0it [00:00, ?it/s]"
      ]
     },
     "metadata": {},
     "output_type": "display_data"
    },
    {
     "name": "stderr",
     "output_type": "stream",
     "text": [
      "Global seed set to 2\n",
      "No pretrained weights exist or were found for this model. Using random initialization.\n",
      "Global seed set to 2\n",
      "GPU available: True, used: True\n",
      "TPU available: False, using: 0 TPU cores\n",
      "IPU available: False, using: 0 IPUs\n",
      "Global seed set to 0\n"
     ]
    },
    {
     "name": "stdout",
     "output_type": "stream",
     "text": [
      "{'training': True, '_parameters': OrderedDict(), '_buffers': OrderedDict(), '_non_persistent_buffers_set': set(), '_backward_hooks': OrderedDict(), '_is_full_backward_hook': None, '_forward_hooks': OrderedDict(), '_forward_pre_hooks': OrderedDict(), '_state_dict_hooks': OrderedDict(), '_load_state_dict_pre_hooks': OrderedDict(), '_load_state_dict_post_hooks': OrderedDict(), '_modules': OrderedDict([('linear', Linear(in_features=220, out_features=100, bias=True))]), 'neuron_indices': tensor([168,  43, 227, 101, 246, 215, 198, 143, 176, 241,  58, 147, 207,  32,\n",
      "         11,  14,  95, 233,   8, 124,  92,  10,   5, 183,  75, 232,  46, 163,\n",
      "        235, 181,  51, 162,  42, 211, 178, 177,  16, 121, 249,  77, 196, 173,\n",
      "         96,   0,  55, 127,  39, 184,  80,  34, 102,  88, 206, 228,  68, 210,\n",
      "         12,  17, 203,  89,  50, 223, 188,  24, 250, 137, 165, 118,  13, 186,\n",
      "         87, 172, 240, 100,  97, 234, 169, 187, 104, 120, 154,  40,  76,  93,\n",
      "        119,   2,  53, 189, 136, 199,  52,  71, 192, 197,  63, 229,  67,  19,\n",
      "         47, 201, 218,  37, 244,  70, 105, 103,  69,  82, 245, 220,   9, 252,\n",
      "        149, 133, 150,  45,  73, 106, 254, 193,  91,  66, 138,  25, 226, 128,\n",
      "        231,  61, 144,  81, 219, 209, 213, 237, 253, 135,  18,  54, 212,   7,\n",
      "         22,  38,   3, 180, 205, 157, 185, 159,  56, 200, 208,  21,   4, 111,\n",
      "        110, 216,  44,  15, 221,  84, 222, 153, 242, 115,   1,  86, 145,  79,\n",
      "        160,  35, 131, 195, 141, 108,  31, 156, 255, 107, 174,  27, 179, 182,\n",
      "         98, 134, 190, 224, 191,  59, 214, 116,   6, 142, 146, 248,  78, 139,\n",
      "        171, 129, 117,  20,  49, 123,  30, 243, 132,  28, 202,  29, 166,  36,\n",
      "         64, 217,  90, 167, 251, 158,  23, 126, 151, 125]), 'in_features': 220, 'out_features': 100}\n"
     ]
    },
    {
     "name": "stderr",
     "output_type": "stream",
     "text": [
      "LOCAL_RANK: 0 - CUDA_VISIBLE_DEVICES: [3]\n"
     ]
    },
    {
     "data": {
      "application/vnd.jupyter.widget-view+json": {
       "model_id": "3c8b8fa78755491cbc1a291e9941cfe0",
       "version_major": 2,
       "version_minor": 0
      },
      "text/plain": [
       "Predicting: 0it [00:00, ?it/s]"
      ]
     },
     "metadata": {},
     "output_type": "display_data"
    },
    {
     "name": "stderr",
     "output_type": "stream",
     "text": [
      "Global seed set to 2\n",
      "No pretrained weights exist or were found for this model. Using random initialization.\n",
      "Global seed set to 1\n",
      "GPU available: True, used: True\n",
      "TPU available: False, using: 0 TPU cores\n",
      "IPU available: False, using: 0 IPUs\n",
      "Global seed set to 0\n"
     ]
    },
    {
     "name": "stdout",
     "output_type": "stream",
     "text": [
      "{'training': True, '_parameters': OrderedDict(), '_buffers': OrderedDict(), '_non_persistent_buffers_set': set(), '_backward_hooks': OrderedDict(), '_is_full_backward_hook': None, '_forward_hooks': OrderedDict(), '_forward_pre_hooks': OrderedDict(), '_state_dict_hooks': OrderedDict(), '_load_state_dict_pre_hooks': OrderedDict(), '_load_state_dict_post_hooks': OrderedDict(), '_modules': OrderedDict([('linear', Linear(in_features=240, out_features=100, bias=True))]), 'neuron_indices': tensor([ 37, 180,  88, 157, 119, 177, 247, 162, 175, 161, 144, 255, 200,  66,\n",
      "         63, 156, 118, 152, 120, 203, 234, 199,  13, 151, 155, 142, 210,  82,\n",
      "        237, 213,  96,   5,  55,   7,  83, 229,  39,   0, 254,  99, 109, 220,\n",
      "         36, 111,  91, 233,  64,  19, 129, 197, 182, 186, 140, 240,  93, 248,\n",
      "        167,  27,  97, 150, 238,  12, 145, 214,  85, 232,  28, 207, 164,  43,\n",
      "        173, 184, 108,  20,  26,  32, 141, 130,  24, 110, 239,  29,   1,  35,\n",
      "         44,  21,  62, 252,  98, 216,  16,  38,  49,  77,   3, 158, 183, 135,\n",
      "        170, 195, 105,  73, 149,  50,  53,  52, 116,  17, 159, 188, 131, 246,\n",
      "        201, 187,  22, 123, 166, 168,  51, 205,  18, 227,   9, 253,  76, 218,\n",
      "         46,  31,  75,   8, 181,  33,  71, 211,  65,  42, 172, 126, 219,  60,\n",
      "          6,  47, 174, 225,  40, 165, 244, 206, 160,  30, 121,  86,  87, 127,\n",
      "        230, 243, 103,  94, 231,  84, 215, 176,  11, 132, 209, 169, 190, 193,\n",
      "        196, 113, 228,  69, 222, 101, 124,  45, 194,  48,  58,  41, 236, 143,\n",
      "        112,  72, 122, 163, 224,  92, 136,  23,   2,  80, 137, 198, 212, 128,\n",
      "        100, 117,   4,  34,  57, 104, 250,  25,  54, 115,  78,  89, 241,  61,\n",
      "        107,  70,  67, 221, 223, 208, 249, 148,  59, 171, 185, 189,  14, 217,\n",
      "        139, 134, 226, 178,  95, 179,  81, 153, 251,  79, 125, 147, 114, 242,\n",
      "        192,  74]), 'in_features': 240, 'out_features': 100}\n"
     ]
    },
    {
     "name": "stderr",
     "output_type": "stream",
     "text": [
      "LOCAL_RANK: 0 - CUDA_VISIBLE_DEVICES: [3]\n"
     ]
    },
    {
     "data": {
      "application/vnd.jupyter.widget-view+json": {
       "model_id": "1cefcb5430a54a7aadb8217db2942add",
       "version_major": 2,
       "version_minor": 0
      },
      "text/plain": [
       "Predicting: 0it [00:00, ?it/s]"
      ]
     },
     "metadata": {},
     "output_type": "display_data"
    },
    {
     "name": "stderr",
     "output_type": "stream",
     "text": [
      "Global seed set to 2\n",
      "No pretrained weights exist or were found for this model. Using random initialization.\n",
      "Global seed set to 5\n",
      "GPU available: True, used: True\n",
      "TPU available: False, using: 0 TPU cores\n",
      "IPU available: False, using: 0 IPUs\n",
      "Global seed set to 0\n"
     ]
    },
    {
     "name": "stdout",
     "output_type": "stream",
     "text": [
      "{'training': True, '_parameters': OrderedDict(), '_buffers': OrderedDict(), '_non_persistent_buffers_set': set(), '_backward_hooks': OrderedDict(), '_is_full_backward_hook': None, '_forward_hooks': OrderedDict(), '_forward_pre_hooks': OrderedDict(), '_state_dict_hooks': OrderedDict(), '_load_state_dict_pre_hooks': OrderedDict(), '_load_state_dict_post_hooks': OrderedDict(), '_modules': OrderedDict([('linear', Linear(in_features=240, out_features=100, bias=True))]), 'neuron_indices': tensor([ 99,  70,  55, 138,  66,  19,  48,  54, 112, 228, 161, 171,  27, 210,\n",
      "         56, 113, 199,  98, 129, 134, 133,  23, 136, 121,  28,  95,  57, 135,\n",
      "         11, 187, 244, 180,  93, 220, 146,  40,  15, 165, 205, 235, 230, 124,\n",
      "        254, 186,  30,  75, 255, 107, 240,  77, 190, 213, 156,  64, 159, 177,\n",
      "        223,   9, 102, 118,  69, 238,   2, 212,  62,  78,  85,  16, 172, 245,\n",
      "         34,  97,  39,  60, 153, 150, 145, 143,  53, 127, 158,  84, 175, 115,\n",
      "         89, 131,  46, 248,  94, 243, 108, 218,  71,  25, 105,  20, 229,  81,\n",
      "        141, 227,  33,  63,  61,  73, 224, 157,  87, 179,  41, 189,  52,  79,\n",
      "        222,   1, 116, 128,  82, 236, 197, 184, 216,  43, 162, 194,  45, 168,\n",
      "        120,  47,  32, 200, 192, 181, 221,  96, 148,  50,  88, 249, 110, 170,\n",
      "        252, 130,  21, 206,  86,   3, 193,  83, 164, 250,  91, 114,  26, 167,\n",
      "        203, 204,   5, 183, 119, 106,  92, 242,  36, 147,  22,  51, 214, 195,\n",
      "        251,  35, 111,  76,  68,  14,  29, 163, 140,  65, 202,  42, 215, 137,\n",
      "          7, 149,  90, 155, 191, 154, 117,   4,  31, 122,  67, 173, 232, 219,\n",
      "        123, 169, 126, 226, 104,  37, 160, 217, 103, 176, 101, 178, 125, 188,\n",
      "         13, 247,  59, 198,  74, 233, 151,  10, 132,   6,  72, 182,  49, 225,\n",
      "        246,  18,   8, 109, 237, 241, 100, 142, 166,  44,  17,  12,  80,   0,\n",
      "        239, 144]), 'in_features': 240, 'out_features': 100}\n"
     ]
    },
    {
     "name": "stderr",
     "output_type": "stream",
     "text": [
      "LOCAL_RANK: 0 - CUDA_VISIBLE_DEVICES: [3]\n"
     ]
    },
    {
     "data": {
      "application/vnd.jupyter.widget-view+json": {
       "model_id": "608e181b1d4844efbb608ffd2f85735d",
       "version_major": 2,
       "version_minor": 0
      },
      "text/plain": [
       "Predicting: 0it [00:00, ?it/s]"
      ]
     },
     "metadata": {},
     "output_type": "display_data"
    },
    {
     "name": "stderr",
     "output_type": "stream",
     "text": [
      "Global seed set to 2\n",
      "No pretrained weights exist or were found for this model. Using random initialization.\n",
      "Global seed set to 2\n",
      "GPU available: True, used: True\n",
      "TPU available: False, using: 0 TPU cores\n",
      "IPU available: False, using: 0 IPUs\n",
      "Global seed set to 0\n"
     ]
    },
    {
     "name": "stdout",
     "output_type": "stream",
     "text": [
      "{'training': True, '_parameters': OrderedDict(), '_buffers': OrderedDict(), '_non_persistent_buffers_set': set(), '_backward_hooks': OrderedDict(), '_is_full_backward_hook': None, '_forward_hooks': OrderedDict(), '_forward_pre_hooks': OrderedDict(), '_state_dict_hooks': OrderedDict(), '_load_state_dict_pre_hooks': OrderedDict(), '_load_state_dict_post_hooks': OrderedDict(), '_modules': OrderedDict([('linear', Linear(in_features=240, out_features=100, bias=True))]), 'neuron_indices': tensor([168,  43, 227, 101, 246, 215, 198, 143, 176, 241,  58, 147, 207,  32,\n",
      "         11,  14,  95, 233,   8, 124,  92,  10,   5, 183,  75, 232,  46, 163,\n",
      "        235, 181,  51, 162,  42, 211, 178, 177,  16, 121, 249,  77, 196, 173,\n",
      "         96,   0,  55, 127,  39, 184,  80,  34, 102,  88, 206, 228,  68, 210,\n",
      "         12,  17, 203,  89,  50, 223, 188,  24, 250, 137, 165, 118,  13, 186,\n",
      "         87, 172, 240, 100,  97, 234, 169, 187, 104, 120, 154,  40,  76,  93,\n",
      "        119,   2,  53, 189, 136, 199,  52,  71, 192, 197,  63, 229,  67,  19,\n",
      "         47, 201, 218,  37, 244,  70, 105, 103,  69,  82, 245, 220,   9, 252,\n",
      "        149, 133, 150,  45,  73, 106, 254, 193,  91,  66, 138,  25, 226, 128,\n",
      "        231,  61, 144,  81, 219, 209, 213, 237, 253, 135,  18,  54, 212,   7,\n",
      "         22,  38,   3, 180, 205, 157, 185, 159,  56, 200, 208,  21,   4, 111,\n",
      "        110, 216,  44,  15, 221,  84, 222, 153, 242, 115,   1,  86, 145,  79,\n",
      "        160,  35, 131, 195, 141, 108,  31, 156, 255, 107, 174,  27, 179, 182,\n",
      "         98, 134, 190, 224, 191,  59, 214, 116,   6, 142, 146, 248,  78, 139,\n",
      "        171, 129, 117,  20,  49, 123,  30, 243, 132,  28, 202,  29, 166,  36,\n",
      "         64, 217,  90, 167, 251, 158,  23, 126, 151, 125, 109, 239,  72, 225,\n",
      "        175, 148, 122, 236, 140, 114, 238, 204,  99, 170,  60,  57, 194, 161,\n",
      "         74, 230]), 'in_features': 240, 'out_features': 100}\n"
     ]
    },
    {
     "name": "stderr",
     "output_type": "stream",
     "text": [
      "LOCAL_RANK: 0 - CUDA_VISIBLE_DEVICES: [3]\n"
     ]
    },
    {
     "data": {
      "application/vnd.jupyter.widget-view+json": {
       "model_id": "8f04010f424f49ee9a7482b69a4d77ce",
       "version_major": 2,
       "version_minor": 0
      },
      "text/plain": [
       "Predicting: 0it [00:00, ?it/s]"
      ]
     },
     "metadata": {},
     "output_type": "display_data"
    },
    {
     "name": "stderr",
     "output_type": "stream",
     "text": [
      "Global seed set to 2\n",
      "No pretrained weights exist or were found for this model. Using random initialization.\n",
      "Global seed set to 3\n",
      "GPU available: True, used: True\n",
      "TPU available: False, using: 0 TPU cores\n",
      "IPU available: False, using: 0 IPUs\n",
      "Global seed set to 0\n"
     ]
    },
    {
     "name": "stdout",
     "output_type": "stream",
     "text": [
      "{'training': True, '_parameters': OrderedDict(), '_buffers': OrderedDict(), '_non_persistent_buffers_set': set(), '_backward_hooks': OrderedDict(), '_is_full_backward_hook': None, '_forward_hooks': OrderedDict(), '_forward_pre_hooks': OrderedDict(), '_state_dict_hooks': OrderedDict(), '_load_state_dict_pre_hooks': OrderedDict(), '_load_state_dict_post_hooks': OrderedDict(), '_modules': OrderedDict([('linear', Linear(in_features=240, out_features=100, bias=True))]), 'neuron_indices': tensor([106, 204,  47, 105,  32, 181,  96, 255,  93,   8,  74, 157, 145, 168,\n",
      "        232, 198, 151,  45,  38, 153, 164,  65,  91,  88, 152, 195, 193, 112,\n",
      "         18, 230, 108,  77, 188, 110,  49, 102,  89, 122, 244, 155, 125, 100,\n",
      "        234,  27,  78, 247,  37,  87, 209,  67,  73,  46, 185,  95,  76,  68,\n",
      "        117,  83,  29, 173, 236,   1, 208,  24,  64, 142, 154, 192, 199, 249,\n",
      "        160,  51, 207, 242, 215, 212, 129, 126, 219,  19, 133, 240, 214, 118,\n",
      "         61,  36, 165,   5,  34,  57,  20, 251, 196,  52,  28,  40,  17, 205,\n",
      "        163, 158,  69, 123, 120, 191, 177, 184, 187,  98,  33, 159,  70, 103,\n",
      "        218,  58,  60,  53, 135,  63,  84, 127,  92, 225,  11, 156,   2, 203,\n",
      "         31, 202,  71, 174,  21,  30, 161, 235, 167, 139, 248, 210,   9,  59,\n",
      "        250, 121, 194,   6, 228, 231,   3, 186,  80, 132, 206, 148, 143,  81,\n",
      "        201,  50, 253,  82, 226, 183, 137, 227, 170, 180, 211,  39, 147,  41,\n",
      "        254,  25, 169, 241,  97, 130, 149, 107,  85, 189, 246, 200,  22,  94,\n",
      "        197, 213, 124,  44, 238,   4, 114,  75,   0, 141,  43,  26, 136, 220,\n",
      "        179, 223,  16, 243, 119, 144, 138,  72, 171,  62, 224,  90, 252, 221,\n",
      "        245,  14,  66,  86, 128, 150, 172,   7,  79, 178, 111, 166, 190, 134,\n",
      "         35,  55,  48, 239, 222, 233,  99, 217, 104, 109, 175,  15,  54,  13,\n",
      "         12, 176]), 'in_features': 240, 'out_features': 100}\n"
     ]
    },
    {
     "name": "stderr",
     "output_type": "stream",
     "text": [
      "LOCAL_RANK: 0 - CUDA_VISIBLE_DEVICES: [3]\n"
     ]
    },
    {
     "data": {
      "application/vnd.jupyter.widget-view+json": {
       "model_id": "c7480f61dcbf4a98acbd568c893da501",
       "version_major": 2,
       "version_minor": 0
      },
      "text/plain": [
       "Predicting: 0it [00:00, ?it/s]"
      ]
     },
     "metadata": {},
     "output_type": "display_data"
    }
   ],
   "source": [
    "SOURCE_DATASET = 'imagenet'\n",
    "MODELS = ['resnet50', 'resnet50_ff1024', 'resnet50_ff512', 'resnet50_ff256', 'resnet50_ff128',\n",
    "          'resnet50_ff64', 'resnet50_ff32', 'resnet50_ff16', 'resnet50_ff8']\n",
    "FRACTIONS_OR_NUMBERS = [\n",
    "    None,\n",
    "    [4,8,16,32,48,64,90,128,200,256,300,400,512,600,700,900,1024],\n",
    "    [8,16,32,48,64,90,128,200,256,300,350,400,450,500,512],    \n",
    "    [5,10,20,30,50,100,128,150,200,220,240,256],\n",
    "    [4,8,10,16,20,32,40,60,65,75,90,100,120,128],    \n",
    "    [4,8,10,16,20,28,32,40,45,50,58,64],\n",
    "    [2,4,6,8,10,12,16,20,24,28,32],\n",
    "    [2,4,6,8,10,12,14,16],\n",
    "    [1,2,4,6,8]\n",
    "]\n",
    "APPEND = 'nonrob'\n",
    "\n",
    "FT_DATASET = 'cifar10'\n",
    "results(MODELS, SOURCE_DATASET, FT_DATASET, APPEND, FRACTIONS_OR_NUMBERS)\n",
    "\n",
    "FT_DATASET = 'cifar100'\n",
    "results(MODELS, SOURCE_DATASET, FT_DATASET, APPEND, FRACTIONS_OR_NUMBERS)\n",
    "\n",
    "FT_DATASET = 'flowers'\n",
    "results(MODELS, SOURCE_DATASET, FT_DATASET, APPEND, FRACTIONS_OR_NUMBERS)\n",
    "\n",
    "FT_DATASET = 'oxford-iiit-pets'\n",
    "results(MODELS, SOURCE_DATASET, FT_DATASET, APPEND, FRACTIONS_OR_NUMBERS)"
   ]
  },
  {
   "cell_type": "code",
   "execution_count": null,
   "id": "76fd90ab",
   "metadata": {},
   "outputs": [],
   "source": []
  }
 ],
 "metadata": {
  "kernelspec": {
   "display_name": "Python 3 (ipykernel)",
   "language": "python",
   "name": "python3"
  },
  "language_info": {
   "codemirror_mode": {
    "name": "ipython",
    "version": 3
   },
   "file_extension": ".py",
   "mimetype": "text/x-python",
   "name": "python",
   "nbconvert_exporter": "python",
   "pygments_lexer": "ipython3",
   "version": "3.7.9"
  }
 },
 "nbformat": 4,
 "nbformat_minor": 5
}
